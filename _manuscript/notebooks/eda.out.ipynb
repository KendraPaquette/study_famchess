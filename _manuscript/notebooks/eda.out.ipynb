{
 "cells": [
  {
   "cell_type": "markdown",
   "metadata": {},
   "source": [
    "# famCHESS EDA\n",
    "\n",
    "Kendra Wyant\n",
    "\n",
    "## Notes\n",
    "\n",
    "This script reads in the cleaned famCHESS data and performs EDA on final variables.\n",
    "\n",
    "## Setup"
   ],
   "id": "81b6723d-e6b6-4cc7-8897-257bc481561e"
  },
  {
   "cell_type": "code",
   "execution_count": null,
   "metadata": {},
   "outputs": [
    {
     "output_type": "stream",
     "name": "stderr",
     "text": [
      "ℹ SHA-1 hash of file is \"a58e57da996d1b70bb9a5b58241325d6fd78890f\""
     ]
    }
   ],
   "source": [
    "options(conflicts.policy = \"depends.ok\")\n",
    "suppressMessages(library(tidyverse))\n",
    "suppressMessages(library(janitor))\n",
    "theme_set(theme_classic()) \n",
    "\n",
    "devtools::source_url(\"https://github.com/jjcurtin/lab_support/blob/main/format_path.R?raw=true\")\n"
   ],
   "id": "9dfc229f-be6b-483a-b911-bc39573a1143"
  },
  {
   "cell_type": "markdown",
   "metadata": {},
   "source": [
    "## Data\n",
    "\n",
    "### Cleaning"
   ],
   "id": "ed4c4072-da5e-4323-a3a3-ead36ea3411b"
  },
  {
   "cell_type": "code",
   "execution_count": null,
   "metadata": {},
   "outputs": [],
   "source": [
    "data <- haven::read_sav(here::here(path_data, \"Famchess_clean_combined_FINAL.sav\")) |> \n",
    "  clean_names() \n",
    "\n",
    "dsm <- haven::read_sav(here::here(path_data, \"FamCHESS_DSM5.sav\")) |> \n",
    "  clean_names() # for stratification check\n"
   ],
   "id": "6bbcb256-c8ff-48be-bb55-80b8f5ba483e"
  },
  {
   "cell_type": "markdown",
   "metadata": {},
   "source": [
    "Remove participants with inaccurate data (from Olivia’s script):\n",
    "\n",
    "-   167PT (baseline and 4 month): FAM passed away after baseline\n",
    "-   208FAM & 208PT (noted on all timepoints): Might be wholly unreliable since we suspect he is his own partner\n",
    "-   365PT (noted on 1 timepoint): Answered relationship questions about her dog, not her son\n",
    "-   365FAM (noted on 1 timepoint): Answered relationship questions about romantic partner, not his mom"
   ],
   "id": "bbfab57a-7d64-44e2-af02-942546c0f0dc"
  },
  {
   "cell_type": "code",
   "execution_count": null,
   "metadata": {},
   "outputs": [],
   "source": [
    "data <- data |> \n",
    "  filter(!study_id %in% c(\"167PT\", \"208FAM\", \"208PT\", \"365PT\", \"365FAM\"))\n"
   ],
   "id": "d11a5299-c439-4f39-bf8f-34c8bd497dd5"
  },
  {
   "cell_type": "markdown",
   "metadata": {},
   "source": [
    "Recode variables (from Olivia’s script)\n",
    "\n",
    "195PT: reported prefer not to say for gender on baseline but reported male in TLFB data. Changing to male to match TLFB."
   ],
   "id": "bc6043f3-1d42-44bc-bd7e-f700ca1404e8"
  },
  {
   "cell_type": "code",
   "execution_count": null,
   "metadata": {},
   "outputs": [],
   "source": [
    "data <- data |> \n",
    "  mutate(gender = if_else(study_id == \"195PT\", 2, gender))\n"
   ],
   "id": "9c26e7bf-45c0-4856-9d1a-20dfdc37cae2"
  },
  {
   "cell_type": "markdown",
   "metadata": {},
   "source": [
    "Gender - 2 levels (male / non-male) - TLFB is also coded this way\n",
    "\n",
    "-   500PT: non-binary\n",
    "-   128FAM: Transgender women\n",
    "\n",
    "*KW: currently setting these two people to Non-male, however, I saw this in scales/measures doc - not enough non-man/ women responses to have 3rd level. For patients, those who don’t fall into groups set to missing*"
   ],
   "id": "469a8d27-23a2-4231-82a0-0729ccbd076f"
  },
  {
   "cell_type": "code",
   "execution_count": null,
   "metadata": {},
   "outputs": [
    {
     "output_type": "stream",
     "name": "stdout",
     "text": [
      " data$gender_original   n     percent valid_percent\n",
      "                    1 775 0.567765568   0.569434240\n",
      "                    2 580 0.424908425   0.426157237\n",
      "                    3   2 0.001465201   0.001469508\n",
      "                    5   4 0.002930403   0.002939015\n",
      "                   NA   4 0.002930403            NA"
     ]
    },
    {
     "output_type": "stream",
     "name": "stdout",
     "text": [
      " data$gender   n     percent valid_percent\n",
      "           1 781 0.572161172     0.5738428\n",
      "           2 580 0.424908425     0.4261572\n",
      "          NA   4 0.002930403            NA"
     ]
    }
   ],
   "source": [
    "data <- data |> \n",
    "  mutate(gender_original = gender, \n",
    "         gender = if_else(gender != 2, 1, gender),\n",
    "         gender = sjlabelled::set_labels(gender, labels = c(\"Non-male\", \"Male\"))) \n",
    "\n",
    "tabyl(data$gender_original)\n"
   ],
   "id": "4bfc65c4-3769-4e05-8314-90bacb205dee"
  },
  {
   "cell_type": "markdown",
   "metadata": {},
   "source": [
    "Create binary covariate for race/ethnicity defined as: White only (non-Hispanic) vs. not White only"
   ],
   "id": "48101401-472e-48ca-9178-c16d3906c96d"
  },
  {
   "cell_type": "code",
   "execution_count": null,
   "metadata": {},
   "outputs": [
    {
     "output_type": "stream",
     "name": "stdout",
     "text": [
      " data$race_white_only    n     percent valid_percent\n",
      "                    0  335 0.245421245     0.2461425\n",
      "                    1 1026 0.751648352     0.7538575\n",
      "                   NA    4 0.002930403            NA"
     ]
    }
   ],
   "source": [
    "data <- data |> \n",
    "  mutate(race_white_only = if_else(ethnicity == 0 & race_1 == 1 &\n",
    "                                     race_2 == 0 & race_3 == 0 &\n",
    "                                     race_4 == 0 & race_5 == 0 &\n",
    "                                     race_6 == 0, 1, 0))\n",
    "\n",
    "tabyl(data$race_white_only)\n"
   ],
   "id": "01f3c262-bed7-46b7-aea6-8d6f3644cb16"
  },
  {
   "cell_type": "markdown",
   "metadata": {},
   "source": [
    "Center non-binary covariates: age and edu"
   ],
   "id": "bc2787ff-7c7b-4cd5-8985-850edb82c0b2"
  },
  {
   "cell_type": "code",
   "execution_count": null,
   "metadata": {},
   "outputs": [],
   "source": [
    "data <- data |> \n",
    "  mutate(age_c = age - mean(age, na.rm = TRUE))\n"
   ],
   "id": "b5dd2679-7fe5-497f-8b74-bbcd8ada6771"
  },
  {
   "cell_type": "markdown",
   "metadata": {},
   "source": [
    "*KW: education is not continuous. Is centering best transformation? Maybe instead pick a certain level?*"
   ],
   "id": "2ca8c419-cf2d-4de4-a220-c5e66bd04187"
  },
  {
   "cell_type": "code",
   "execution_count": null,
   "metadata": {},
   "outputs": [
    {
     "output_type": "stream",
     "name": "stdout",
     "text": [
      "[1] \"8th grade or less\"                     \n",
      "[2] \"Some high school, but did not graduate\"\n",
      "[3] \"High school graduate or GED\"           \n",
      "[4] \"Some college or 2 year degree\"         \n",
      "[5] \"4-year college graduate\"               \n",
      "[6] \"More than 4-year college degree\"       "
     ]
    },
    {
     "output_type": "stream",
     "name": "stdout",
     "text": [
      "[1] 4.274798"
     ]
    },
    {
     "output_type": "stream",
     "name": "stdout",
     "text": [
      " data$edu   n     percent valid_percent\n",
      "        1   8 0.005860806   0.005878031\n",
      "        2  42 0.030769231   0.030859662\n",
      "        3 266 0.194871795   0.195444526\n",
      "        4 510 0.373626374   0.374724467\n",
      "        5 322 0.235897436   0.236590742\n",
      "        6 213 0.156043956   0.156502572\n",
      "       NA   4 0.002930403            NA"
     ]
    }
   ],
   "source": [
    "sjlabelled::get_labels(data$edu)\n"
   ],
   "id": "12eb15b9-8c4d-4439-bf91-765829106cdb"
  },
  {
   "cell_type": "markdown",
   "metadata": {},
   "source": [
    "Recode data to have baseline scores of outcomes as covariate\n",
    "\n",
    "*KW: 36 study ids provided baseline info but no data at later time points*"
   ],
   "id": "6232b2b8-c6ec-490d-b675-cb748c5e6787"
  },
  {
   "cell_type": "code",
   "execution_count": null,
   "metadata": {},
   "outputs": [
    {
     "output_type": "stream",
     "name": "stdout",
     "text": [
      "# A tibble: 36 × 6\n",
      "   study_id hdd_0 pda_0 oq45_0 relationsatisf_0 abuse_0\n",
      "   <chr>    <dbl> <dbl>  <dbl>            <dbl>   <dbl>\n",
      " 1 110PT    100     0       25               25      NA\n",
      " 2 111PT     30.6  44.6     50               26      NA\n",
      " 3 117FAM    NA    NA       32               18      NA\n",
      " 4 119FAM    NA    NA       29               27       3\n",
      " 5 119PT     98.3   0.8     64               25      NA\n",
      " 6 121PT     33.9  66.1     68               31      26\n",
      " 7 125PT     26.4  73.6     74               21      NA\n",
      " 8 130FAM    NA    NA       94               23       7\n",
      " 9 130PT     99.2   0.8    109               25       2\n",
      "10 139PT      9.2  90.8     80               21      NA\n",
      "11 140FAM    NA    NA       61               20      NA\n",
      "12 148FAM    NA    NA       70               17       4\n",
      "13 148PT     99.2   0.8     74               18       2\n",
      "14 149PT     75    23.3     30               25      NA\n",
      "15 155FAM    NA    NA       35               17       2\n",
      "16 155PT     NA    NA       70               14      NA\n",
      "17 156FAM    NA    NA       14               20      NA\n",
      "18 167FAM    NA    NA       15               14      NA\n",
      "19 181PT     44.7   2.4     45               20       3\n",
      "20 190FAM    NA    NA       30               17      NA\n",
      "21 190PT      3.3   0       48               19      NA\n",
      "22 198PT     29.2   7.5     33               27      NA\n",
      "23 199PT     14.9  83.5     57               27      NA\n",
      "24 203FAM    NA    NA       63               21       1\n",
      "25 203PT     60.3  39.7     28               24      NA\n",
      "26 205FAM    NA    NA       28               24      NA\n",
      "27 205PT     79.3  20.7     45               24      NA\n",
      "28 209PT     53.3  32.5     52               20       1\n",
      "29 303FAM    NA    NA       54               21      21\n",
      "30 303PT     43.3  56.7    110               24      19\n",
      "31 314FAM    NA    NA       81               14      24\n",
      "32 314PT     45.5  54.5    124               17      36\n",
      "33 315FAM    NA    NA       71               10       8\n",
      "34 337FAM    NA    NA       95               18      NA\n",
      "35 358FAM    NA    NA       81               15      10\n",
      "36 362FAM    NA    NA       28               28      NA"
     ]
    }
   ],
   "source": [
    "baseline_values <- data |>  \n",
    "  filter(time == 0) |> \n",
    "  select(study_id, \n",
    "         hdd_0 = per_heavy_drink_days, \n",
    "         pda_0 = per_days_abstinent, \n",
    "         oq45_0 = oq45_scored, \n",
    "         relationsatisf_0 = relationsatisf_scored, \n",
    "         abuse_0 = abuse_scored)\n",
    "\n",
    "baseline_values |> \n",
    "  filter(!study_id %in% subset(data, time != 0)$study_id) |> \n",
    "  print(n = Inf)\n"
   ],
   "id": "abaf42d4-e134-4aca-a03a-5b04378007f2"
  },
  {
   "cell_type": "code",
   "execution_count": null,
   "metadata": {},
   "outputs": [],
   "source": [
    "data <- data |> \n",
    "  filter(time != 0) |> \n",
    "  full_join(baseline_values, by = \"study_id\")\n"
   ],
   "id": "3346cb18-c6d0-4998-a8c2-317d04d7353b"
  },
  {
   "cell_type": "markdown",
   "metadata": {},
   "source": [
    "*KW: confirm this is okay with John - remove 36 individuals with only baseline data*\n",
    "\n",
    "*KW: Remove partners too?*"
   ],
   "id": "27f95341-7ec8-4daa-a0bd-89e6c346edb6"
  },
  {
   "cell_type": "code",
   "execution_count": null,
   "metadata": {},
   "outputs": [
    {
     "output_type": "stream",
     "name": "stdout",
     "text": [
      "# A tibble: 53 × 2\n",
      "   study_id dyad_id\n",
      "   <chr>    <chr>  \n",
      " 1 110FAM   110    \n",
      " 2 110PT    110    \n",
      " 3 111FAM   111    \n",
      " 4 111PT    111    \n",
      " 5 117PT    117    \n",
      " 6 117FAM   117    \n",
      " 7 119FAM   119    \n",
      " 8 119PT    119    \n",
      " 9 121FAM   121    \n",
      "10 121PT    121    \n",
      "11 125FAM   125    \n",
      "12 125PT    125    \n",
      "13 130FAM   130    \n",
      "14 130PT    130    \n",
      "15 139FAM   139    \n",
      "16 139PT    139    \n",
      "17 140PT    140    \n",
      "18 140FAM   140    \n",
      "19 148FAM   148    \n",
      "20 148PT    148    \n",
      "21 149FAM   149    \n",
      "22 149PT    149    \n",
      "23 155FAM   155    \n",
      "24 155PT    155    \n",
      "25 156PT    156    \n",
      "26 156FAM   156    \n",
      "27 167FAM   167    \n",
      "28 181FAM   181    \n",
      "29 181PT    181    \n",
      "30 190FAM   190    \n",
      "31 190PT    190    \n",
      "32 198FAM   198    \n",
      "33 198PT    198    \n",
      "34 199FAM   199    \n",
      "35 199PT    199    \n",
      "36 203FAM   203    \n",
      "37 203PT    203    \n",
      "38 205FAM   205    \n",
      "39 205PT    205    \n",
      "40 209FAM   209    \n",
      "41 209PT    209    \n",
      "42 303FAM   303    \n",
      "43 303PT    303    \n",
      "44 314FAM   314    \n",
      "45 314PT    314    \n",
      "46 315PT    315    \n",
      "47 315FAM   315    \n",
      "48 337PT    337    \n",
      "49 337FAM   337    \n",
      "50 358PT    358    \n",
      "51 358FAM   358    \n",
      "52 362PT    362    \n",
      "53 362FAM   362    "
     ]
    }
   ],
   "source": [
    "dyad_ids <- baseline_values |> \n",
    "  mutate(dyad_id = str_sub(study_id, 1, 3)) |> \n",
    "  filter(!study_id %in% subset(data, time != 0)$study_id) |> \n",
    "  pull(dyad_id) |> \n",
    "  unique()\n",
    "  \n",
    "data |> \n",
    "  mutate(dyad_id = str_sub(study_id, 1, 3)) |> \n",
    "  filter(dyad_id %in% dyad_ids) |> \n",
    "  select(study_id, dyad_id) |> \n",
    "  unique() |> \n",
    "  arrange(dyad_id) |> \n",
    "  print(n = Inf)\n"
   ],
   "id": "5fa2a4b2-669a-4a5a-a900-63012a60873b"
  },
  {
   "cell_type": "markdown",
   "metadata": {},
   "source": [
    "Center baseline values of outcomes"
   ],
   "id": "a45e7850-dcca-4aa4-a627-c9c4c6104fa2"
  },
  {
   "cell_type": "code",
   "execution_count": null,
   "metadata": {},
   "outputs": [],
   "source": [
    "data <- data |> \n",
    "  mutate(hdd_0 = hdd_0 - mean(hdd_0, na.rm = TRUE),\n",
    "         pda_0 = pda_0 - mean(pda_0, na.rm = TRUE),\n",
    "         oq45_0 = oq45_0 - mean(oq45_0, na.rm = TRUE),\n",
    "         relationsatisf_0 = relationsatisf_0 - mean(relationsatisf_0, na.rm = TRUE),\n",
    "         abuse_0 = abuse_0 - mean(abuse_0, na.rm = TRUE))\n"
   ],
   "id": "8881a829-c253-4de4-b383-5ff313a6edba"
  },
  {
   "cell_type": "markdown",
   "metadata": {},
   "source": [
    "Center time at the end of the intervention period (8 months)."
   ],
   "id": "b3b7d839-b84a-4cfe-bb36-1ad773233e03"
  },
  {
   "cell_type": "code",
   "execution_count": null,
   "metadata": {},
   "outputs": [
    {
     "output_type": "stream",
     "name": "stdout",
     "text": [
      "[1] \"Baseline\" \"4 Month\"  \"8 Month\"  \"12 Month\""
     ]
    },
    {
     "output_type": "stream",
     "name": "stdout",
     "text": [
      " data$time   n   percent\n",
      "         1 328 0.3534483\n",
      "         2 315 0.3394397\n",
      "         3 285 0.3071121"
     ]
    }
   ],
   "source": [
    "sjlabelled::get_labels(data$time)\n"
   ],
   "id": "a7fbde88-9b0a-49be-b811-f351cb241a08"
  },
  {
   "cell_type": "markdown",
   "metadata": {},
   "source": [
    "Create integer variable for heavy drinking days and days abstinent (baseline and followup values) - needed for negative binomial model"
   ],
   "id": "952a748d-23b0-473b-a96a-cd753fdae81a"
  },
  {
   "cell_type": "code",
   "execution_count": null,
   "metadata": {},
   "outputs": [],
   "source": [
    "data <- data |> \n",
    "  mutate(r_hdd = round(per_heavy_drink_days),\n",
    "         r_hdd_0 = round(hdd_0),\n",
    "         r_pda = round(per_days_abstinent),\n",
    "         r_pda_0 = round(pda_0))\n"
   ],
   "id": "5b1c8d40-0e37-40e7-b50f-e30c60137a0c"
  },
  {
   "cell_type": "markdown",
   "metadata": {},
   "source": [
    "### EDA\n",
    "\n",
    "Remove vars not used in analyses (e.g., keep scale score and remove individual items).\n",
    "\n",
    "*KW: phq, promis, loneliness, coping, interaction scales not scored or in measures doc. Removed from analyses data set.*"
   ],
   "id": "a60a5471-0f5c-4507-90b6-1aa10db1cb32"
  },
  {
   "cell_type": "code",
   "execution_count": null,
   "metadata": {},
   "outputs": [
    {
     "output_type": "stream",
     "name": "stdout",
     "text": [
      "Rows: 928\n",
      "Columns: 45\n",
      "$ study_id                    <chr> \"100FAM\", \"100FAM\", \"100FAM\", \"100PT\", \"10…\n",
      "$ dyad                        <dbl+lbl> 1, 1, 1, 2, 2, 2, 1, 1, 1, 2, 2, 2, 1,…\n",
      "$ arm                         <dbl+lbl> 1, 1, 1, 1, 1, 1, 0, 0, 0, 0, 0, 0, 2,…\n",
      "$ group                       <dbl+lbl> 4, 4, 4, 1, 1, 1, 3, 3, 3, 0, 0, 0, 5,…\n",
      "$ time_string                 <chr> \"4 Month\", \"8 Month\", \"12 Month\", \"12 Mont…\n",
      "$ time                        <dbl+lbl> 1, 2, 3, 3, 1, 2, 1, 2, 3, 1, 2, 3, 1,…\n",
      "$ comments                    <chr> \"\", \"\", \"\", \"\", \"\", \"\", \"\", \"\", \"\", \"\", \"\"…\n",
      "$ gender                      <dbl+lbl> 1, 1, 1, 2, 2, 2, 1, 1, 1, 2, 2, 2, 1,…\n",
      "$ age                         <dbl> 55, 55, 55, 56, 56, 56, 62, 62, 62, 66, 66…\n",
      "$ edu                         <dbl+lbl> 4, 4, 4, 3, 3, 3, 4, 4, 4, 3, 3, 3, 6,…\n",
      "$ income                      <dbl+lbl> 3, 3, 3, 3, 3, 3, 4, 4, 4, 4, 4, 4, 4,…\n",
      "$ partner_relationship        <dbl+lbl> 1, 1, 1, 1, 1, 1, 1, 1, 1, 1, 1, 1, 5,…\n",
      "$ employment                  <dbl+lbl> 1, 1, 1, 1, 1, 1, 0, 0, 0, 0, 0, 0, 0,…\n",
      "$ days_app_use                <dbl> NA, NA, NA, 8, 32, 12, NA, NA, NA, NA, NA,…\n",
      "$ per_days_abstinent          <dbl> NA, NA, NA, 0.0, 0.0, 0.0, NA, NA, NA, 98.…\n",
      "$ per_heavy_drink_days        <dbl> NA, NA, NA, 100.0, 90.8, 100.0, NA, NA, NA…\n",
      "$ outpatient_yn_ever          <dbl+lbl> 0, 0, 0, 0, 0, 0, 0, 0, 0, 0, 0, 0, 0,…\n",
      "$ other_psych_treatment_yn    <dbl+lbl> 0, 0, 0, 0, 0, 0, 0, 0, 0, 1, 0, 0, 0,…\n",
      "$ er_yn_ever                  <dbl+lbl> 0, 0, 0, 0, 0, 0, 0, 0, 0, 0, 0, 0, 0,…\n",
      "$ mat_yn                      <dbl+lbl> 0, 0, 0, 0, 0, 0, 0, 0, 0, 0, 0, 0, 0,…\n",
      "$ other_medications_yn        <dbl+lbl> 0, 0, 0, 0, 0, 0, 0, 0, 0, 1, 0, 0, 0,…\n",
      "$ inpatient_yn_ever           <dbl+lbl> 0, 0, 0, 0, 0, 0, 0, 0, 0, 0, 0, 0, 0,…\n",
      "$ readmits_yn                 <dbl+lbl> NA, NA, NA, NA, NA, NA, NA, NA, NA, NA…\n",
      "$ relationship_status         <dbl+lbl> 1, 1, 1, 1, 1, 1, 1, 1, 1, 1, 1, 1, 1,…\n",
      "$ relationship_status_open    <chr> \"\", \"\", \"\", \"\", \"\", \"\", \"\", \"\", \"\", \"\", \"\"…\n",
      "$ oq45_scored                 <dbl> 48, 58, 64, 48, 68, 70, 26, 37, 40, 44, 44…\n",
      "$ relationsatisf_scored       <dbl> 15, 9, 30, 24, 22, 20, 30, 29, 32, 25, 25,…\n",
      "$ abuse_scored                <dbl> 4, 7, 8, 15, 4, 2, 4, 0, 2, 0, NA, NA, 2, …\n",
      "$ treatmentskills_scored      <dbl> 2.888889, 2.722222, 3.277778, NA, NA, NA, …\n",
      "$ peersupport_scored          <dbl> 3.4, 2.6, 2.8, 2.4, 2.2, 2.8, 2.8, 3.6, 2.…\n",
      "$ socrates_scored             <dbl> NA, NA, NA, 33, 34, 24, NA, NA, NA, 39, 37…\n",
      "$ socrates_recognition_scored <dbl> NA, NA, NA, 34, 32, 34, NA, NA, NA, 35, 35…\n",
      "$ socrates_ambivalence_scored <dbl> NA, NA, NA, 17, 18, 17, NA, NA, NA, 13, 14…\n",
      "$ gender_original             <dbl+lbl> 1, 1, 1, 2, 2, 2, 1, 1, 1, 2, 2, 2, 1,…\n",
      "$ race_white_only             <dbl> 0, 0, 0, 0, 0, 0, 1, 1, 1, 1, 1, 1, 1, 1, …\n",
      "$ age_c                       <dbl> 7.456153, 7.456153, 7.456153, 8.456153, 8.…\n",
      "$ hdd_0                       <dbl> NA, NA, NA, 51.00129, 51.00129, 51.00129, …\n",
      "$ pda_0                       <dbl> NA, NA, NA, -37.4819, -37.4819, -37.4819, …\n",
      "$ oq45_0                      <dbl> -6.7124324, -6.7124324, -6.7124324, 0.2875…\n",
      "$ relationsatisf_0            <dbl> -1.52, -1.52, -1.52, -3.52, -3.52, -3.52, …\n",
      "$ time_c                      <dbl> -1, 0, 1, 1, -1, 0, -1, 0, 1, -1, 0, 1, -1…\n",
      "$ r_hdd                       <dbl> NA, NA, NA, 100, 91, 100, NA, NA, NA, 2, 6…\n",
      "$ r_hdd_0                     <dbl> NA, NA, NA, 51, 51, 51, NA, NA, NA, -42, -…\n",
      "$ r_pda                       <dbl> NA, NA, NA, 0, 0, 0, NA, NA, NA, 98, 94, 9…\n",
      "$ r_pda_0                     <dbl> NA, NA, NA, -37, -37, -37, NA, NA, NA, 56,…"
     ]
    }
   ],
   "source": [
    "data <- data |> \n",
    "  select(-c(treatmentskills_1:treatmentskills_18_recode,\n",
    "            oq45_1:oq45_45, alcoholproblems_1:alcoholproblems_15, \n",
    "            relationsatisf_1:relationsatisf_8, phq_1:phq_8, \n",
    "            abuse_1:abuse_16_yes, promis29_1:promis29_8, \n",
    "            abuse_physical_scored:abuse_psychological_scored, gender_open,\n",
    "            loneliness_1:loneliness_8, healthservice_1, healthservice_2,\n",
    "            healthservice_3,healthservice_4,healthservice_5, \n",
    "            healthservice_5a_1:healthservice_5c, \n",
    "            healthservice_6a_1:healthservice_8a, healthservice_8b, \n",
    "            healthservice_9a, healthservice_9b, bonding_1:bonding_5, \n",
    "            socrates_1:socrates_20, coping_1:coping_25, \n",
    "            drinkinggoals:drinkinggoal_7_text, covid_1:covid_3f,\n",
    "            interaction_1:interaction_20, drink_druguse_1:drinkdruguse_8d,\n",
    "            abuse_0, employmentstatus:notemployed_open, ethnicity:race_open, \n",
    "            livewith_1:livewith_open, meetings_yn, er_yn, outpatient_yn, inpatient_yn,\n",
    "            n_days, mean_drinks_per_day, per_drink_days, covid_scored,\n",
    "            redcap_event_name, recruitment_id)) |> \n",
    "  rename(other_medications_yn = healthservice_6,\n",
    "         readmits_yn = r_eadmits_yn) |>  # renaming for descriptive/consistency\n",
    "  relocate(study_id) |> \n",
    "  glimpse()\n"
   ],
   "id": "fdeb6398-8a0d-40e0-9bc2-9c6a146667ce"
  },
  {
   "cell_type": "markdown",
   "metadata": {},
   "source": [
    "Number of participants"
   ],
   "id": "46bf1200-3e24-4361-8887-1cea73ecc176"
  },
  {
   "cell_type": "code",
   "execution_count": null,
   "metadata": {},
   "outputs": [
    {
     "output_type": "stream",
     "name": "stdout",
     "text": [
      "[1] 340"
     ]
    },
    {
     "output_type": "stream",
     "name": "stdout",
     "text": [
      "[1] 170"
     ]
    },
    {
     "output_type": "stream",
     "name": "stdout",
     "text": [
      "[1] 170"
     ]
    }
   ],
   "source": [
    "data |> \n",
    "  pull(study_id) |>\n",
    "  unique() |> \n",
    "  length() # 340\n"
   ],
   "id": "5bfcae26-df25-440e-8646-2b7e4ad2ef91"
  },
  {
   "cell_type": "markdown",
   "metadata": {},
   "source": [
    "Complete dyad (patient + partner) for all participants"
   ],
   "id": "13e38f65-8de2-4169-9dc3-e6093c44b573"
  },
  {
   "cell_type": "code",
   "execution_count": null,
   "metadata": {},
   "outputs": [
    {
     "output_type": "stream",
     "name": "stdout",
     "text": [
      "# A tibble: 0 × 2\n",
      "# Groups:   dyad_id [0]\n",
      "# ℹ 2 variables: dyad_id <chr>, n <int>"
     ]
    }
   ],
   "source": [
    "data |> \n",
    "  select(study_id) |> \n",
    "  unique() |> \n",
    "  mutate(dyad_id = str_sub(study_id, 1, 3)) |> \n",
    "  group_by(dyad_id) |> \n",
    "  count() |> \n",
    "  filter(n != 2)\n"
   ],
   "id": "2d41e351-4b22-41cb-9d83-59a9f4ab4563"
  },
  {
   "cell_type": "markdown",
   "metadata": {},
   "source": [
    "Missing data"
   ],
   "id": "e21b0188-3473-4542-85c3-a9cd8e90f66a"
  },
  {
   "cell_type": "code",
   "execution_count": null,
   "metadata": {},
   "outputs": [
    {
     "output_type": "stream",
     "name": "stdout",
     "text": [
      "# A tibble: 45 × 3\n",
      "   variable                    n_miss pct_miss\n",
      "   <chr>                        <int>    <num>\n",
      " 1 readmits_yn                    903   97.3  \n",
      " 2 abuse_scored                   680   73.3  \n",
      " 3 per_days_abstinent             498   53.7  \n",
      " 4 per_heavy_drink_days           498   53.7  \n",
      " 5 r_hdd                          498   53.7  \n",
      " 6 r_pda                          498   53.7  \n",
      " 7 socrates_scored                493   53.1  \n",
      " 8 socrates_recognition_scored    493   53.1  \n",
      " 9 socrates_ambivalence_scored    493   53.1  \n",
      "10 treatmentskills_scored         479   51.6  \n",
      "11 hdd_0                          464   50    \n",
      "12 pda_0                          464   50    \n",
      "13 r_hdd_0                        464   50    \n",
      "14 r_pda_0                        464   50    \n",
      "15 days_app_use                   455   49.0  \n",
      "16 other_medications_yn            42    4.53 \n",
      "17 mat_yn                          39    4.20 \n",
      "18 peersupport_scored              39    4.20 \n",
      "19 other_psych_treatment_yn        36    3.88 \n",
      "20 relationship_status             35    3.77 \n",
      "21 oq45_scored                     35    3.77 \n",
      "22 relationsatisf_scored           35    3.77 \n",
      "23 income                          15    1.62 \n",
      "24 age                              6    0.647\n",
      "25 age_c                            6    0.647\n",
      "26 gender                           3    0.323\n",
      "27 edu                              3    0.323\n",
      "28 partner_relationship             3    0.323\n",
      "29 employment                       3    0.323\n",
      "30 gender_original                  3    0.323\n",
      "31 race_white_only                  3    0.323\n",
      "32 oq45_0                           3    0.323\n",
      "33 relationsatisf_0                 3    0.323\n",
      "34 study_id                         0    0    \n",
      "35 dyad                             0    0    \n",
      "36 arm                              0    0    \n",
      "37 group                            0    0    \n",
      "38 time_string                      0    0    \n",
      "39 time                             0    0    \n",
      "40 comments                         0    0    \n",
      "41 outpatient_yn_ever               0    0    \n",
      "42 er_yn_ever                       0    0    \n",
      "43 inpatient_yn_ever                0    0    \n",
      "44 relationship_status_open         0    0    \n",
      "45 time_c                           0    0    "
     ]
    }
   ],
   "source": [
    "data |> \n",
    "  naniar::miss_var_summary() |> \n",
    "  print(n = Inf)\n"
   ],
   "id": "2296b894-12bb-4f12-b390-f38a99c3a50e"
  },
  {
   "cell_type": "markdown",
   "metadata": {},
   "source": [
    "Missing data for just patients\n",
    "\n",
    "-   treatmentskills not applicable to patients\n",
    "-   abuse and readmits have high missing data\n",
    "-   Why days_app_use missing so high?"
   ],
   "id": "85b383be-8f28-4879-bcb6-bd173c274c85"
  },
  {
   "cell_type": "code",
   "execution_count": null,
   "metadata": {},
   "outputs": [
    {
     "output_type": "stream",
     "name": "stdout",
     "text": [
      "# A tibble: 45 × 3\n",
      "   variable                    n_miss pct_miss\n",
      "   <chr>                        <int>    <num>\n",
      " 1 treatmentskills_scored         464  100    \n",
      " 2 readmits_yn                    440   94.8  \n",
      " 3 abuse_scored                   370   79.7  \n",
      " 4 days_app_use                   151   32.5  \n",
      " 5 per_days_abstinent              34    7.33 \n",
      " 6 per_heavy_drink_days            34    7.33 \n",
      " 7 r_hdd                           34    7.33 \n",
      " 8 r_pda                           34    7.33 \n",
      " 9 other_medications_yn            30    6.47 \n",
      "10 mat_yn                          29    6.25 \n",
      "11 socrates_scored                 29    6.25 \n",
      "12 socrates_recognition_scored     29    6.25 \n",
      "13 socrates_ambivalence_scored     29    6.25 \n",
      "14 peersupport_scored              28    6.03 \n",
      "15 other_psych_treatment_yn        26    5.60 \n",
      "16 relationship_status             25    5.39 \n",
      "17 oq45_scored                     25    5.39 \n",
      "18 relationsatisf_scored           25    5.39 \n",
      "19 income                          12    2.59 \n",
      "20 age                              6    1.29 \n",
      "21 age_c                            6    1.29 \n",
      "22 gender                           3    0.647\n",
      "23 edu                              3    0.647\n",
      "24 partner_relationship             3    0.647\n",
      "25 employment                       3    0.647\n",
      "26 gender_original                  3    0.647\n",
      "27 race_white_only                  3    0.647\n",
      "28 oq45_0                           3    0.647\n",
      "29 relationsatisf_0                 3    0.647\n",
      "30 study_id                         0    0    \n",
      "31 dyad                             0    0    \n",
      "32 arm                              0    0    \n",
      "33 group                            0    0    \n",
      "34 time_string                      0    0    \n",
      "35 time                             0    0    \n",
      "36 comments                         0    0    \n",
      "37 outpatient_yn_ever               0    0    \n",
      "38 er_yn_ever                       0    0    \n",
      "39 inpatient_yn_ever                0    0    \n",
      "40 relationship_status_open         0    0    \n",
      "41 hdd_0                            0    0    \n",
      "42 pda_0                            0    0    \n",
      "43 time_c                           0    0    \n",
      "44 r_hdd_0                          0    0    \n",
      "45 r_pda_0                          0    0    "
     ]
    }
   ],
   "source": [
    "data |> \n",
    "  filter(dyad == 2) |> \n",
    "  naniar::miss_var_summary() |> \n",
    "  print(n = Inf)\n"
   ],
   "id": "bdc73bfe-9228-4bcc-abf6-28428eaf8af9"
  },
  {
   "cell_type": "markdown",
   "metadata": {},
   "source": [
    "Remove `readmits_yn` as covariate due to low endorsement\n",
    "\n",
    "*KW: not sure why so many NAs*"
   ],
   "id": "f3cb672b-216a-4863-9f4d-0fc8ffe4874f"
  },
  {
   "cell_type": "code",
   "execution_count": null,
   "metadata": {},
   "outputs": [
    {
     "output_type": "stream",
     "name": "stdout",
     "text": [
      "[1] \"No\"  \"Yes\""
     ]
    }
   ],
   "source": [
    "sjlabelled::get_labels(data$readmits_yn)\n"
   ],
   "id": "e14e9394-5180-48e4-b3fd-846aa3ba84d2"
  },
  {
   "cell_type": "markdown",
   "metadata": {},
   "source": [
    "Missing data for partners"
   ],
   "id": "8dc0701d-d47a-429c-89ab-df765f741ba3"
  },
  {
   "cell_type": "code",
   "execution_count": null,
   "metadata": {},
   "outputs": [
    {
     "output_type": "stream",
     "name": "stdout",
     "text": [
      "# A tibble: 44 × 3\n",
      "   variable                    n_miss pct_miss\n",
      "   <chr>                        <int>    <num>\n",
      " 1 per_days_abstinent             464  100    \n",
      " 2 per_heavy_drink_days           464  100    \n",
      " 3 socrates_scored                464  100    \n",
      " 4 socrates_recognition_scored    464  100    \n",
      " 5 socrates_ambivalence_scored    464  100    \n",
      " 6 hdd_0                          464  100    \n",
      " 7 pda_0                          464  100    \n",
      " 8 r_hdd                          464  100    \n",
      " 9 r_hdd_0                        464  100    \n",
      "10 r_pda                          464  100    \n",
      "11 r_pda_0                        464  100    \n",
      "12 abuse_scored                   310   66.8  \n",
      "13 days_app_use                   304   65.5  \n",
      "14 treatmentskills_scored          15    3.23 \n",
      "15 other_medications_yn            12    2.59 \n",
      "16 peersupport_scored              11    2.37 \n",
      "17 other_psych_treatment_yn        10    2.16 \n",
      "18 mat_yn                          10    2.16 \n",
      "19 relationship_status             10    2.16 \n",
      "20 oq45_scored                     10    2.16 \n",
      "21 relationsatisf_scored           10    2.16 \n",
      "22 income                           3    0.647\n",
      "23 study_id                         0    0    \n",
      "24 dyad                             0    0    \n",
      "25 arm                              0    0    \n",
      "26 group                            0    0    \n",
      "27 time_string                      0    0    \n",
      "28 time                             0    0    \n",
      "29 comments                         0    0    \n",
      "30 gender                           0    0    \n",
      "31 age                              0    0    \n",
      "32 edu                              0    0    \n",
      "33 partner_relationship             0    0    \n",
      "34 employment                       0    0    \n",
      "35 outpatient_yn_ever               0    0    \n",
      "36 er_yn_ever                       0    0    \n",
      "37 inpatient_yn_ever                0    0    \n",
      "38 relationship_status_open         0    0    \n",
      "39 gender_original                  0    0    \n",
      "40 race_white_only                  0    0    \n",
      "41 age_c                            0    0    \n",
      "42 oq45_0                           0    0    \n",
      "43 relationsatisf_0                 0    0    \n",
      "44 time_c                           0    0    "
     ]
    }
   ],
   "source": [
    "data |> \n",
    "  filter(dyad == 1) |> \n",
    "  naniar::miss_var_summary() |> \n",
    "  print(n = Inf)\n"
   ],
   "id": "f6b84c56-cc78-4af5-a325-cd948a4196c5"
  },
  {
   "cell_type": "markdown",
   "metadata": {},
   "source": [
    "Participants in each arm"
   ],
   "id": "c3ba510b-78a7-422a-8fb3-97475c9160e9"
  },
  {
   "cell_type": "code",
   "execution_count": null,
   "metadata": {},
   "outputs": [
    {
     "output_type": "stream",
     "name": "stdout",
     "text": [
      " arm   n   percent\n",
      "   0 108 0.3176471\n",
      "   1 118 0.3470588\n",
      "   2 114 0.3352941"
     ]
    }
   ],
   "source": [
    "data |> \n",
    "  group_by(study_id) |> \n",
    "  slice(1) |> \n",
    "  tabyl(arm)\n"
   ],
   "id": "8d9538ff-0228-45dd-90e8-68d658d4c55c"
  },
  {
   "cell_type": "markdown",
   "metadata": {},
   "source": [
    "Check stratification variables in arms - patient gender identity and alcohol use severity (moderate or severe AUD)\n",
    "\n",
    "DSM5 criteria: 1 = severe, 2 = moderate, 3 = mild  \n",
    "Group: 0 = patient control, 1 = patient achess, 2 = patient famchess,"
   ],
   "id": "e933a8b1-5472-4307-b448-3a0b7cd198d2"
  },
  {
   "cell_type": "code",
   "execution_count": null,
   "metadata": {},
   "outputs": [
    {
     "output_type": "stream",
     "name": "stdout",
     "text": [
      " group  1  2 NA_\n",
      "     0 22 31   1\n",
      "     1 26 33   0\n",
      "     2 23 34   0"
     ]
    },
    {
     "output_type": "stream",
     "name": "stdout",
     "text": [
      " group  1 2 3 NA_\n",
      "     0 51 1 1   1\n",
      "     1 58 1 0   0\n",
      "     2 50 6 1   0"
     ]
    }
   ],
   "source": [
    "data |> \n",
    "  filter(dyad == 2) |> \n",
    "  group_by(study_id) |> \n",
    "  slice(1) |> \n",
    "  tabyl(group, gender)\n"
   ],
   "id": "a8e1f334-884d-496a-90cc-7d35613d497f"
  },
  {
   "cell_type": "markdown",
   "metadata": {},
   "source": [
    "Demographic and study related variables\n",
    "\n",
    "Time string matches time"
   ],
   "id": "18030b8a-8885-4fbb-8c4f-b5fe81ceb653"
  },
  {
   "cell_type": "code",
   "execution_count": null,
   "metadata": {},
   "outputs": [
    {
     "output_type": "stream",
     "name": "stdout",
     "text": [
      " time 12 Month 4 Month 8 Month\n",
      "    1        0     328       0\n",
      "    2        0       0     315\n",
      "    3      285       0       0"
     ]
    }
   ],
   "source": [
    "data |> \n",
    "  tabyl(time, time_string)\n"
   ],
   "id": "50446162-cb6a-488e-834f-361f96126868"
  },
  {
   "cell_type": "markdown",
   "metadata": {},
   "source": [
    "*KW: discuss with John if we need to do anything with these notes*"
   ],
   "id": "36987ff7-1b95-4ef7-92dc-498591299130"
  },
  {
   "cell_type": "code",
   "execution_count": null,
   "metadata": {},
   "outputs": [
    {
     "output_type": "stream",
     "name": "stdout",
     "text": [
      " [1] \"Missing TLFB\"                                                                                                                                                                                       \n",
      " [2] \"Missing TLFB\"                                                                                                                                                                                       \n",
      " [3] \"Missing survey data\"                                                                                                                                                                                \n",
      " [4] \"Missing TLFB\"                                                                                                                                                                                       \n",
      " [5] \"Missing TLFB\"                                                                                                                                                                                       \n",
      " [6] \"Exclude TLFB. 120pt is the one who had a traumatic brain injury, Dave and I both did their 4 month survey on accident because the participant didn't remember doing it. They gave different answers\"\n",
      " [7] \"Missing TLFB\"                                                                                                                                                                                       \n",
      " [8] \"Missing TLFB\"                                                                                                                                                                                       \n",
      " [9] \"TLFB complete but data was lost\"                                                                                                                                                                    \n",
      "[10] \"Missing TLFB\"                                                                                                                                                                                       \n",
      "[11] \"Missing survey data\"                                                                                                                                                                                \n",
      "[12] \"Missing TLFB\"                                                                                                                                                                                       \n",
      "[13] \"Missing survey data\"                                                                                                                                                                                \n",
      "[14] \"Missing survey data\"                                                                                                                                                                                \n",
      "[15] \"Missing survey data\"                                                                                                                                                                                \n",
      "[16] \"Missing survey data\"                                                                                                                                                                                \n",
      "[17] \"Missing survey data\"                                                                                                                                                                                \n",
      "[18] \"Missing TLFB\"                                                                                                                                                                                       \n",
      "[19] \"Missing TLFB\"                                                                                                                                                                                       \n",
      "[20] \"TLFB complete but data was lost\"                                                                                                                                                                    \n",
      "[21] \"Missing survey data\"                                                                                                                                                                                \n",
      "[22] \"Missing survey data\"                                                                                                                                                                                \n",
      "[23] \"Missing survey data\"                                                                                                                                                                                \n",
      "[24] \"Missing TLFB\"                                                                                                                                                                                       \n",
      "[25] \"Missing TLFB\"                                                                                                                                                                                       \n",
      "[26] \"Missing TLFB\"                                                                                                                                                                                       \n",
      "[27] \"disinterested, rushed, vague during timeline followbacks\"                                                                                                                                           \n",
      "[28] \"disinterested, rushed, vague during timeline followbacks\"                                                                                                                                           \n",
      "[29] \"disinterested, rushed, vague during timeline followbacks\"                                                                                                                                           \n",
      "[30] \"Missing TLFB\"                                                                                                                                                                                       \n",
      "[31] \"Missing TLFB\"                                                                                                                                                                                       \n",
      "[32] \"Missing TLFB\"                                                                                                                                                                                       \n",
      "[33] \"Missing TLFB\"                                                                                                                                                                                       \n",
      "[34] \"Missing TLFB\"                                                                                                                                                                                       \n",
      "[35] \"Missing TLFB\"                                                                                                                                                                                       \n",
      "[36] \"Missing TLFB\"                                                                                                                                                                                       \n",
      "[37] \"Missing TLFB\"                                                                                                                                                                                       \n",
      "[38] \"Missing survey data\"                                                                                                                                                                                \n",
      "[39] \"Missing survey data\"                                                                                                                                                                                \n",
      "[40] \"Unreliable answers, was drunk during survey\"                                                                                                                                                        \n",
      "[41] \"Unreliable answers, was drunk during survey\"                                                                                                                                                        \n",
      "[42] \"Unreliable answers, was drunk during survey\"                                                                                                                                                        \n",
      "[43] \"Missing survey data\"                                                                                                                                                                                \n",
      "[44] \"Missing survey data\"                                                                                                                                                                                \n",
      "[45] \"Note, only 53 days between 4 and 8 month survey\"                                                                                                                                                    \n",
      "[46] \"Note, only 37 days between 4 and 8 month survey\"                                                                                                                                                    \n",
      "[47] \"during qualitative interview, said partner was just their friend\"                                                                                                                                   \n",
      "[48] \"during qualitative interview, said partner was just their friend\"                                                                                                                                   \n",
      "[49] \"during qualitative interview, said partner was just their friend\"                                                                                                                                   \n",
      "[50] \"during qualitative interview, said partner was just their friend\"                                                                                                                                   \n",
      "[51] \"during qualitative interview, said partner was just their friend\"                                                                                                                                   \n",
      "[52] \"during qualitative interview, said partner was just their friend\"                                                                                                                                   \n",
      "[53] \"TLFB complete but data was lost\"                                                                                                                                                                    \n",
      "[54] \"Missing survey data\"                                                                                                                                                                                \n",
      "[55] \"Missing survey data\"                                                                                                                                                                                \n",
      "[56] \"TLFB complete but data was lost\"                                                                                                                                                                    \n",
      "[57] \"Missing survey data\"                                                                                                                                                                                \n",
      "[58] \"Missing survey data\"                                                                                                                                                                                \n",
      "[59] \"Missing TLFB\"                                                                                                                                                                                       \n",
      "attr(,\"format.spss\")\n",
      "[1] \"A5000\"\n",
      "attr(,\"display_width\")\n",
      "[1] 186"
     ]
    }
   ],
   "source": [
    "data |> \n",
    "  filter(!comments == \"\") |> \n",
    "  pull(comments)\n"
   ],
   "id": "608132ba-2216-4550-b8c2-5be94853fa72"
  },
  {
   "cell_type": "markdown",
   "metadata": {},
   "source": [
    "Income"
   ],
   "id": "7c9b8eb8-3ddc-4388-82ef-9989feda2be6"
  },
  {
   "cell_type": "code",
   "execution_count": null,
   "metadata": {},
   "outputs": [
    {
     "output_type": "stream",
     "name": "stdout",
     "text": [
      "[1] \"Less than $25,000\"    \"$25,000 to $34,999\"   \"$35,000 to $49,999\"  \n",
      "[4] \"$50,000 to $74,999\"   \"$75,000 to $99,999\"   \"$100,000 to $149,999\"\n",
      "[7] \"$150,000 to $199,999\" \"$200,000 or more\"    "
     ]
    },
    {
     "output_type": "stream",
     "name": "stdout",
     "text": [
      " data$income   n    percent valid_percent\n",
      "           1 177 0.19073276    0.19386637\n",
      "           2  57 0.06142241    0.06243154\n",
      "           3  91 0.09806034    0.09967141\n",
      "           4 192 0.20689655    0.21029573\n",
      "           5 160 0.17241379    0.17524644\n",
      "           6 144 0.15517241    0.15772180\n",
      "           7  65 0.07004310    0.07119387\n",
      "           8  27 0.02909483    0.02957284\n",
      "          NA  15 0.01616379            NA"
     ]
    }
   ],
   "source": [
    "sjlabelled::get_labels(data$income)\n"
   ],
   "id": "91318611-78df-453d-a5d2-425c6c648dee"
  },
  {
   "cell_type": "markdown",
   "metadata": {},
   "source": [
    "Partner relationship"
   ],
   "id": "71159417-615b-46b4-b618-7324b95361c3"
  },
  {
   "cell_type": "code",
   "execution_count": null,
   "metadata": {},
   "outputs": [
    {
     "output_type": "stream",
     "name": "stdout",
     "text": [
      "[1] \"Romantic partner/spouse\" \"Parent\"                 \n",
      "[3] \"Adult child\"             \"Other family member\"    \n",
      "[5] \"Friend\"                  \"Recovery Coach\"         "
     ]
    },
    {
     "output_type": "stream",
     "name": "stdout",
     "text": [
      " data$partner_relationship   n     percent valid_percent\n",
      "                         1 614 0.661637931   0.663783784\n",
      "                         2  74 0.079741379   0.080000000\n",
      "                         3  73 0.078663793   0.078918919\n",
      "                         4  98 0.105603448   0.105945946\n",
      "                         5  63 0.067887931   0.068108108\n",
      "                         6   3 0.003232759   0.003243243\n",
      "                        NA   3 0.003232759            NA"
     ]
    }
   ],
   "source": [
    "sjlabelled::get_labels(data$partner_relationship)\n"
   ],
   "id": "216622e3-6a82-40d6-89a9-9f2881c4f644"
  },
  {
   "cell_type": "markdown",
   "metadata": {},
   "source": [
    "Employment"
   ],
   "id": "63fa24fd-6f09-438b-9aea-2198e5e8ab5f"
  },
  {
   "cell_type": "code",
   "execution_count": null,
   "metadata": {},
   "outputs": [
    {
     "output_type": "stream",
     "name": "stdout",
     "text": [
      "[1] \"No\"  \"Yes\""
     ]
    },
    {
     "output_type": "stream",
     "name": "stdout",
     "text": [
      " data$employment   n     percent valid_percent\n",
      "               0 315 0.339439655     0.3405405\n",
      "               1 610 0.657327586     0.6594595\n",
      "              NA   3 0.003232759            NA"
     ]
    }
   ],
   "source": [
    "sjlabelled::get_labels(data$employment)\n"
   ],
   "id": "92e4a7c7-ded5-4139-9f83-738ab4df4fd0"
  },
  {
   "cell_type": "markdown",
   "metadata": {},
   "source": [
    "Relationship status with partner"
   ],
   "id": "7465f816-b0e1-43e1-ad19-10583c0a6f9d"
  },
  {
   "cell_type": "code",
   "execution_count": null,
   "metadata": {},
   "outputs": [
    {
     "output_type": "stream",
     "name": "stdout",
     "text": [
      "[1] \"Still together (e.g., as a romantic couple, as family, as friends)\"\n",
      "[2] \"Split up but still working on this project together\"               \n",
      "[3] \"Split up and not working on this project together\"                 \n",
      "[4] \"Other\"                                                             "
     ]
    },
    {
     "output_type": "stream",
     "name": "stdout",
     "text": [
      " data$relationship_status   n    percent valid_percent\n",
      "                        1 762 0.82112069    0.85330347\n",
      "                        2  62 0.06681034    0.06942889\n",
      "                        3  24 0.02586207    0.02687570\n",
      "                        4  45 0.04849138    0.05039194\n",
      "                       NA  35 0.03771552            NA"
     ]
    },
    {
     "output_type": "stream",
     "name": "stdout",
     "text": [
      " [1] \"Still friends but he is unsure how much if at all she is using the app\"                                                                         \n",
      " [2] \"parent\"                                                                                                                                         \n",
      " [3] \"None\"                                                                                                                                           \n",
      " [4] \"None\"                                                                                                                                           \n",
      " [5] \"Not seeing\"                                                                                                                                     \n",
      " [6] \"Little contact\"                                                                                                                                 \n",
      " [7] \"work schedules collide\"                                                                                                                         \n",
      " [8] \"I talk to monthly. He's not too engaged in this.\"                                                                                               \n",
      " [9] \"On our way to splitting up\"                                                                                                                     \n",
      "[10] \"Going through break up\"                                                                                                                         \n",
      "[11] \"She is going to leave me\"                                                                                                                       \n",
      "[12] \"excellent, open, honest\"                                                                                                                        \n",
      "[13] \"excellent\"                                                                                                                                      \n",
      "[14] \"still working on the project together\"                                                                                                          \n",
      "[15] \"Support member\"                                                                                                                                 \n",
      "[16] \"Mutual\"                                                                                                                                         \n",
      "[17] \"Had split up now moving back together this month\"                                                                                               \n",
      "[18] \"Still together but really struggling\"                                                                                                           \n",
      "[19] \"Limited communication and I couldn't access anything after the 8 month survey, thought maybe we had been removed from the study?\"               \n",
      "[20] \"father/daughter\"                                                                                                                                \n",
      "[21] \"Steady friends\"                                                                                                                                 \n",
      "[22] \"Just friends\"                                                                                                                                   \n",
      "[23] \"Sister\"                                                                                                                                         \n",
      "[24] \"N/A\"                                                                                                                                            \n",
      "[25] \"Mother and daughter\"                                                                                                                            \n",
      "[26] \"not good\"                                                                                                                                       \n",
      "[27] \"We are cousin we are still working on her recovery\"                                                                                             \n",
      "[28] \"estranged but working on this project together\"                                                                                                 \n",
      "[29] \"She's still my mother\"                                                                                                                          \n",
      "[30] \"Continue to be very close friend\"                                                                                                               \n",
      "[31] \"Daughter we're fine\"                                                                                                                            \n",
      "[32] \"Temporarily broken up but still living together hoping she can get the drinking under control which will determine if we try to work things out\"\n",
      "[33] \"Split up but still working on getting back together and dealing with the alcohol use but in a better place.\"                                    \n",
      "[34] \"friends\"                                                                                                                                        \n",
      "[35] \"Not talking for the last few months\"                                                                                                            \n",
      "attr(,\"label\")\n",
      "[1] \"Other\"\n",
      "attr(,\"format.spss\")\n",
      "[1] \"A1000\"\n",
      "attr(,\"display_width\")\n",
      "[1] 128"
     ]
    }
   ],
   "source": [
    "sjlabelled::get_labels(data$relationship_status)\n"
   ],
   "id": "7ea94638-0470-48c2-8b9d-ce65c07ce852"
  },
  {
   "cell_type": "markdown",
   "metadata": {},
   "source": [
    "univariate descriptives of covariates, mediators, moderators and outcome variables"
   ],
   "id": "962874f9-7ff4-43df-86da-d544deab7cb6"
  },
  {
   "cell_type": "code",
   "execution_count": null,
   "metadata": {},
   "outputs": [
    {
     "output_type": "display_data",
     "metadata": {},
     "data": {
      "text/markdown": [
       "  ----------------------------------------------------------------------------------------------------------------------------\n",
       "  skim_variable                   n_missing   complete_rate    mean      sd       p0      p25     p50     p75     p100 hist\n",
       "  ----------------------------- ----------- --------------- ------- ------- -------- -------- ------- ------- -------- -------\n",
       "  age                                     6            0.99   47.62   13.59    21.00    37.00   47.50   58.00    89.00 ▅▇▇▃▁\n",
       "\n",
       "  edu                                     3            1.00    4.28    1.08     1.00     4.00    4.00    5.00     6.00 ▁▅▇▅▃\n",
       "\n",
       "  days_app_use                          455            0.51   41.14   38.05     0.00     6.00   32.00   74.00   161.00 ▇▃▃▂▁\n",
       "\n",
       "  per_days_abstinent                    498            0.46   60.96   37.45     0.00    29.98   71.05   98.20   100.00 ▅▂▂▃▇\n",
       "\n",
       "  per_heavy_drink_days                  498            0.46   24.20   33.27     0.00     0.00    5.65   34.35   100.00 ▇▂▁▁▂\n",
       "\n",
       "  outpatient_yn_ever                      0            1.00    0.18    0.39     0.00     0.00    0.00    0.00     1.00 ▇▁▁▁▂\n",
       "\n",
       "  other_psych_treatment_yn               36            0.96    0.16    0.37     0.00     0.00    0.00    0.00     1.00 ▇▁▁▁▂\n",
       "\n",
       "  er_yn_ever                              0            1.00    0.22    0.41     0.00     0.00    0.00    0.00     1.00 ▇▁▁▁▂\n",
       "\n",
       "  mat_yn                                 39            0.96    0.10    0.30     0.00     0.00    0.00    0.00     1.00 ▇▁▁▁▁\n",
       "\n",
       "  other_medications_yn                   42            0.95    0.35    0.48     0.00     0.00    0.00    1.00     1.00 ▇▁▁▁▅\n",
       "\n",
       "  inpatient_yn_ever                       0            1.00    0.10    0.30     0.00     0.00    0.00    0.00     1.00 ▇▁▁▁▁\n",
       "\n",
       "  oq45_scored                            35            0.96   55.33   25.33     0.00    37.00   54.00   71.00   140.00 ▃▇▆▂▁\n",
       "\n",
       "  relationsatisf_scored                  35            0.96   21.64    6.40     0.00    18.00   22.00   26.00    36.00 ▁▂▆▇▃\n",
       "\n",
       "  abuse_scored                          680            0.27    4.40    7.35     0.00     1.00    2.00    6.00    72.00 ▇▁▁▁▁\n",
       "\n",
       "  treatmentskills_scored                479            0.48    3.11    0.51     1.00     2.83    3.13    3.47     4.00 ▁▁▃▇▅\n",
       "\n",
       "  peersupport_scored                     39            0.96    2.92    1.17     1.00     2.00    2.80    3.80     5.00 ▆▇▇▅▅\n",
       "\n",
       "  socrates_scored                       493            0.47   32.36    7.06    10.00    28.00   33.00   39.00    40.00 ▁▁▃▅▇\n",
       "\n",
       "  socrates_recognition_scored           493            0.47   25.84    6.70     7.00    22.00   26.00   31.00    35.00 ▁▂▆▇▇\n",
       "\n",
       "  socrates_ambivalence_scored           493            0.47   13.48    4.25     4.00    11.00   14.00   17.00    20.00 ▂▃▅▇▆\n",
       "\n",
       "  race_white_only                         3            1.00    0.76    0.43     0.00     1.00    1.00    1.00     1.00 ▂▁▁▁▇\n",
       "\n",
       "  hdd_0                                 464            0.50    0.00   36.11   -49.00   -32.70   -6.90   39.70    51.00 ▇▆▃▃▇\n",
       "\n",
       "  pda_0                                 464            0.50    0.00   33.84   -37.48   -35.81   -4.18   30.32    62.52 ▇▂▂▃▂\n",
       "\n",
       "  oq45_0                                  3            1.00    0.00   24.41   -55.71   -18.71   -1.71   15.29    73.29 ▂▇▇▃▁\n",
       "\n",
       "  relationsatisf_0                        3            1.00    0.00    5.01   -18.52    -2.52    0.48    3.48    12.48 ▁▂▇▇▂\n",
       "  ----------------------------------------------------------------------------------------------------------------------------\n"
      ]
     }
    }
   ],
   "source": [
    "data |> \n",
    "  select(age, edu, days_app_use:r_pda_0, -gender_original, -age_c, \n",
    "         -relationship_status, - relationship_status_open, -c(time_c:r_pda_0)) |> \n",
    "  skimr::skim()\n"
   ],
   "id": "68f1f6c1-c931-4919-86c9-8a9a0d6a9c2d"
  },
  {
   "cell_type": "markdown",
   "metadata": {},
   "source": [
    "Bivariate correlations for Patient\n",
    "\n",
    "*KW: simplify?*\n",
    "\n",
    "Notes:\n",
    "\n",
    "patient primary outcome = `per_heavy_drink_days`  \n",
    "partner primary outcome = `oq45_scored`\n",
    "\n",
    "patient secondary outcome = `per_days_abstinent`  \n",
    "partner secondary outcomes = `relationsatisf_scored` and `abuse_scored`"
   ],
   "id": "27ec1576-8316-4f86-b9ae-602f9876e053"
  },
  {
   "cell_type": "code",
   "execution_count": null,
   "metadata": {},
   "outputs": [
    {
     "output_type": "stream",
     "name": "stdout",
     "text": [
      "                              age   edu days_app_use per_days_abstinent\n",
      "age                          1.00  0.04         0.21              -0.16\n",
      "edu                          0.04  1.00        -0.01               0.00\n",
      "days_app_use                 0.21 -0.01         1.00               0.02\n",
      "per_days_abstinent          -0.16  0.00         0.02               1.00\n",
      "per_heavy_drink_days         0.03 -0.13        -0.14              -0.75\n",
      "outpatient_yn_ever          -0.25 -0.05        -0.19               0.18\n",
      "other_psych_treatment_yn    -0.04  0.03         0.04               0.09\n",
      "er_yn_ever                  -0.01 -0.22        -0.01               0.06\n",
      "mat_yn                      -0.10 -0.02        -0.05               0.02\n",
      "other_medications_yn         0.08  0.21        -0.13               0.00\n",
      "inpatient_yn_ever           -0.18 -0.03        -0.19               0.15\n",
      "oq45_scored                 -0.13 -0.15        -0.13              -0.28\n",
      "relationsatisf_scored       -0.12  0.09         0.09               0.12\n",
      "abuse_scored                 0.10  0.05        -0.14              -0.03\n",
      "peersupport_scored          -0.12 -0.03        -0.09               0.34\n",
      "socrates_scored             -0.09 -0.05         0.08               0.50\n",
      "socrates_recognition_scored -0.01 -0.12         0.04              -0.14\n",
      "socrates_ambivalence_scored  0.11 -0.05         0.18              -0.38\n",
      "race_white_only              0.21  0.16         0.07               0.14\n",
      "hdd_0                       -0.03 -0.29        -0.23              -0.41\n",
      "pda_0                       -0.14  0.09         0.09               0.58\n",
      "oq45_0                      -0.29 -0.19        -0.18              -0.09\n",
      "relationsatisf_0            -0.13 -0.06         0.05               0.11\n",
      "                            per_heavy_drink_days outpatient_yn_ever\n",
      "age                                         0.03              -0.25\n",
      "edu                                        -0.13              -0.05\n",
      "days_app_use                               -0.14              -0.19\n",
      "per_days_abstinent                         -0.75               0.18\n",
      "per_heavy_drink_days                        1.00              -0.10\n",
      "outpatient_yn_ever                         -0.10               1.00\n",
      "other_psych_treatment_yn                   -0.07               0.34\n",
      "er_yn_ever                                 -0.08               0.23\n",
      "mat_yn                                      0.01               0.30\n",
      "other_medications_yn                       -0.02               0.15\n",
      "inpatient_yn_ever                          -0.08               0.49\n",
      "oq45_scored                                 0.30               0.09\n",
      "relationsatisf_scored                      -0.12               0.01\n",
      "abuse_scored                               -0.04               0.09\n",
      "peersupport_scored                         -0.23               0.15\n",
      "socrates_scored                            -0.43               0.16\n",
      "socrates_recognition_scored                 0.27               0.05\n",
      "socrates_ambivalence_scored                 0.33              -0.15\n",
      "race_white_only                            -0.06              -0.15\n",
      "hdd_0                                       0.51               0.06\n",
      "pda_0                                      -0.42               0.05\n",
      "oq45_0                                      0.12               0.12\n",
      "relationsatisf_0                           -0.07               0.12\n",
      "                            other_psych_treatment_yn er_yn_ever mat_yn\n",
      "age                                            -0.04      -0.01  -0.10\n",
      "edu                                             0.03      -0.22  -0.02\n",
      "days_app_use                                    0.04      -0.01  -0.05\n",
      "per_days_abstinent                              0.09       0.06   0.02\n",
      "per_heavy_drink_days                           -0.07      -0.08   0.01\n",
      "outpatient_yn_ever                              0.34       0.23   0.30\n",
      "other_psych_treatment_yn                        1.00       0.10   0.15\n",
      "er_yn_ever                                      0.10       1.00   0.23\n",
      "mat_yn                                          0.15       0.23   1.00\n",
      "other_medications_yn                            0.32      -0.03   0.22\n",
      "inpatient_yn_ever                               0.09       0.30   0.35\n",
      "oq45_scored                                     0.13       0.21   0.21\n",
      "relationsatisf_scored                          -0.04      -0.07   0.00\n",
      "abuse_scored                                   -0.01       0.18   0.00\n",
      "peersupport_scored                              0.17       0.02   0.04\n",
      "socrates_scored                                 0.12       0.08   0.06\n",
      "socrates_recognition_scored                    -0.04       0.09   0.11\n",
      "socrates_ambivalence_scored                    -0.20      -0.02   0.02\n",
      "race_white_only                                 0.00      -0.22   0.02\n",
      "hdd_0                                          -0.07       0.11   0.01\n",
      "pda_0                                           0.06      -0.06   0.07\n",
      "oq45_0                                          0.10       0.29   0.16\n",
      "relationsatisf_0                               -0.02      -0.02   0.01\n",
      "                            other_medications_yn inpatient_yn_ever oq45_scored\n",
      "age                                         0.08             -0.18       -0.13\n",
      "edu                                         0.21             -0.03       -0.15\n",
      "days_app_use                               -0.13             -0.19       -0.13\n",
      "per_days_abstinent                          0.00              0.15       -0.28\n",
      "per_heavy_drink_days                       -0.02             -0.08        0.30\n",
      "outpatient_yn_ever                          0.15              0.49        0.09\n",
      "other_psych_treatment_yn                    0.32              0.09        0.13\n",
      "er_yn_ever                                 -0.03              0.30        0.21\n",
      "mat_yn                                      0.22              0.35        0.21\n",
      "other_medications_yn                        1.00              0.08        0.09\n",
      "inpatient_yn_ever                           0.08              1.00        0.18\n",
      "oq45_scored                                 0.09              0.18        1.00\n",
      "relationsatisf_scored                       0.08             -0.04       -0.37\n",
      "abuse_scored                               -0.08              0.02       -0.06\n",
      "peersupport_scored                          0.13              0.14       -0.13\n",
      "socrates_scored                             0.02              0.13       -0.28\n",
      "socrates_recognition_scored                 0.05              0.09        0.24\n",
      "socrates_ambivalence_scored                -0.05             -0.16        0.17\n",
      "race_white_only                             0.16             -0.06       -0.10\n",
      "hdd_0                                      -0.04              0.08        0.27\n",
      "pda_0                                       0.06              0.03       -0.20\n",
      "oq45_0                                     -0.09              0.20        0.62\n",
      "relationsatisf_0                            0.11              0.03       -0.21\n",
      "                            relationsatisf_scored abuse_scored\n",
      "age                                         -0.12         0.10\n",
      "edu                                          0.09         0.05\n",
      "days_app_use                                 0.09        -0.14\n",
      "per_days_abstinent                           0.12        -0.03\n",
      "per_heavy_drink_days                        -0.12        -0.04\n",
      "outpatient_yn_ever                           0.01         0.09\n",
      "other_psych_treatment_yn                    -0.04        -0.01\n",
      "er_yn_ever                                  -0.07         0.18\n",
      "mat_yn                                       0.00         0.00\n",
      "other_medications_yn                         0.08        -0.08\n",
      "inpatient_yn_ever                           -0.04         0.02\n",
      "oq45_scored                                 -0.37        -0.06\n",
      "relationsatisf_scored                        1.00        -0.16\n",
      "abuse_scored                                -0.16         1.00\n",
      "peersupport_scored                           0.08         0.01\n",
      "socrates_scored                              0.23         0.06\n",
      "socrates_recognition_scored                 -0.10         0.05\n",
      "socrates_ambivalence_scored                 -0.02         0.22\n",
      "race_white_only                             -0.04        -0.21\n",
      "hdd_0                                       -0.14        -0.03\n",
      "pda_0                                        0.07         0.03\n",
      "oq45_0                                      -0.23         0.18\n",
      "relationsatisf_0                             0.57        -0.18\n",
      "                            peersupport_scored socrates_scored\n",
      "age                                      -0.12           -0.09\n",
      "edu                                      -0.03           -0.05\n",
      "days_app_use                             -0.09            0.08\n",
      "per_days_abstinent                        0.34            0.50\n",
      "per_heavy_drink_days                     -0.23           -0.43\n",
      "outpatient_yn_ever                        0.15            0.16\n",
      "other_psych_treatment_yn                  0.17            0.12\n",
      "er_yn_ever                                0.02            0.08\n",
      "mat_yn                                    0.04            0.06\n",
      "other_medications_yn                      0.13            0.02\n",
      "inpatient_yn_ever                         0.14            0.13\n",
      "oq45_scored                              -0.13           -0.28\n",
      "relationsatisf_scored                     0.08            0.23\n",
      "abuse_scored                              0.01            0.06\n",
      "peersupport_scored                        1.00            0.39\n",
      "socrates_scored                           0.39            1.00\n",
      "socrates_recognition_scored               0.11            0.04\n",
      "socrates_ambivalence_scored              -0.14           -0.11\n",
      "race_white_only                          -0.02            0.02\n",
      "hdd_0                                    -0.09           -0.17\n",
      "pda_0                                     0.15            0.21\n",
      "oq45_0                                    0.07           -0.01\n",
      "relationsatisf_0                          0.10            0.17\n",
      "                            socrates_recognition_scored\n",
      "age                                               -0.01\n",
      "edu                                               -0.12\n",
      "days_app_use                                       0.04\n",
      "per_days_abstinent                                -0.14\n",
      "per_heavy_drink_days                               0.27\n",
      "outpatient_yn_ever                                 0.05\n",
      "other_psych_treatment_yn                          -0.04\n",
      "er_yn_ever                                         0.09\n",
      "mat_yn                                             0.11\n",
      "other_medications_yn                               0.05\n",
      "inpatient_yn_ever                                  0.09\n",
      "oq45_scored                                        0.24\n",
      "relationsatisf_scored                             -0.10\n",
      "abuse_scored                                       0.05\n",
      "peersupport_scored                                 0.11\n",
      "socrates_scored                                    0.04\n",
      "socrates_recognition_scored                        1.00\n",
      "socrates_ambivalence_scored                        0.56\n",
      "race_white_only                                   -0.01\n",
      "hdd_0                                              0.14\n",
      "pda_0                                              0.01\n",
      "oq45_0                                             0.20\n",
      "relationsatisf_0                                   0.02\n",
      "                            socrates_ambivalence_scored race_white_only hdd_0\n",
      "age                                                0.11            0.21 -0.03\n",
      "edu                                               -0.05            0.16 -0.29\n",
      "days_app_use                                       0.18            0.07 -0.23\n",
      "per_days_abstinent                                -0.38            0.14 -0.41\n",
      "per_heavy_drink_days                               0.33           -0.06  0.51\n",
      "outpatient_yn_ever                                -0.15           -0.15  0.06\n",
      "other_psych_treatment_yn                          -0.20            0.00 -0.07\n",
      "er_yn_ever                                        -0.02           -0.22  0.11\n",
      "mat_yn                                             0.02            0.02  0.01\n",
      "other_medications_yn                              -0.05            0.16 -0.04\n",
      "inpatient_yn_ever                                 -0.16           -0.06  0.08\n",
      "oq45_scored                                        0.17           -0.10  0.27\n",
      "relationsatisf_scored                             -0.02           -0.04 -0.14\n",
      "abuse_scored                                       0.22           -0.21 -0.03\n",
      "peersupport_scored                                -0.14           -0.02 -0.09\n",
      "socrates_scored                                   -0.11            0.02 -0.17\n",
      "socrates_recognition_scored                        0.56           -0.01  0.14\n",
      "socrates_ambivalence_scored                        1.00           -0.08  0.20\n",
      "race_white_only                                   -0.08            1.00 -0.10\n",
      "hdd_0                                              0.20           -0.10  1.00\n",
      "pda_0                                             -0.19            0.09 -0.75\n",
      "oq45_0                                             0.10           -0.20  0.22\n",
      "relationsatisf_0                                   0.00           -0.10 -0.06\n",
      "                            pda_0 oq45_0 relationsatisf_0\n",
      "age                         -0.14  -0.29            -0.13\n",
      "edu                          0.09  -0.19            -0.06\n",
      "days_app_use                 0.09  -0.18             0.05\n",
      "per_days_abstinent           0.58  -0.09             0.11\n",
      "per_heavy_drink_days        -0.42   0.12            -0.07\n",
      "outpatient_yn_ever           0.05   0.12             0.12\n",
      "other_psych_treatment_yn     0.06   0.10            -0.02\n",
      "er_yn_ever                  -0.06   0.29            -0.02\n",
      "mat_yn                       0.07   0.16             0.01\n",
      "other_medications_yn         0.06  -0.09             0.11\n",
      "inpatient_yn_ever            0.03   0.20             0.03\n",
      "oq45_scored                 -0.20   0.62            -0.21\n",
      "relationsatisf_scored        0.07  -0.23             0.57\n",
      "abuse_scored                 0.03   0.18            -0.18\n",
      "peersupport_scored           0.15   0.07             0.10\n",
      "socrates_scored              0.21  -0.01             0.17\n",
      "socrates_recognition_scored  0.01   0.20             0.02\n",
      "socrates_ambivalence_scored -0.19   0.10             0.00\n",
      "race_white_only              0.09  -0.20            -0.10\n",
      "hdd_0                       -0.75   0.22            -0.06\n",
      "pda_0                        1.00  -0.13             0.05\n",
      "oq45_0                      -0.13   1.00            -0.27\n",
      "relationsatisf_0             0.05  -0.27             1.00"
     ]
    }
   ],
   "source": [
    "data |> \n",
    "  filter(dyad == 2) |> \n",
    "  select(age, edu, days_app_use:r_pda_0, -gender_original, -age_c,\n",
    "         -treatmentskills_scored, -relationship_status, \n",
    "         -relationship_status_open, -c(time_c:r_pda_0)) |> \n",
    "  cor(use = \"pairwise.complete.obs\") |> \n",
    "  round(2)\n"
   ],
   "id": "507af7d4-582f-49a9-8fbd-9c55eaf79ea2"
  },
  {
   "cell_type": "markdown",
   "metadata": {},
   "source": [
    "Look for significant covariates (We will only include covariates that significantly predict the outcome).\n",
    "\n",
    "List of covariate variable names: race_white_only, age_c, edu_c, meetings_yn, outpatient_yn_ever, er_yn_ever, mat_yn, inpatient_yn_ever, other_psych_treatment_yn, other_medications_yn\n",
    "\n",
    "*KW: COVID acute/residual symptoms was originally listed as covariate but is removed per measures doc (Participants interpreted question differently).*\n",
    "\n",
    "Check distribution of residuals\n",
    "\n",
    "### Save out processed data for analyses"
   ],
   "id": "6d1504e8-68e6-4cb3-9a2d-3184cbe24b5e"
  },
  {
   "cell_type": "code",
   "execution_count": null,
   "metadata": {},
   "outputs": [],
   "source": [
    "data |> \n",
    "  write_csv(here::here(path_data, \"famchess_data_ana.csv\"))\n"
   ],
   "id": "73e4ba8b-6229-4252-b82d-289209cdba74"
  }
 ],
 "nbformat": 4,
 "nbformat_minor": 5,
 "metadata": {}
}

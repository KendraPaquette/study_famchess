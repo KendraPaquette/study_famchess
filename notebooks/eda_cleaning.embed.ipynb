{
 "cells": [
  {
   "cell_type": "markdown",
   "metadata": {},
   "source": [
    "# famCHESS Cleaning EDA\n",
    "\n",
    "Kendra Wyant\n",
    "\n",
    "## Notes\n",
    "\n",
    "This script reads in the cleaned famCHESS data and performs EDA on final variables.\n",
    "\n",
    "## Setup"
   ],
   "id": "b06b25ce-7f9c-415d-9591-88bca9ceac70"
  },
  {
   "cell_type": "code",
   "execution_count": null,
   "metadata": {},
   "outputs": [
    {
     "output_type": "stream",
     "name": "stderr",
     "text": [
      "ℹ SHA-1 hash of file is \"a58e57da996d1b70bb9a5b58241325d6fd78890f\""
     ]
    }
   ],
   "source": [
    "options(conflicts.policy = \"depends.ok\")\n",
    "suppressMessages(library(tidyverse))\n",
    "suppressMessages(library(janitor))\n",
    "library(Matrix, exclude = c(\"expand\", \"pack\", \"unpack\"))\n",
    "library(lme4)\n",
    "theme_set(theme_classic()) \n",
    "\n",
    "devtools::source_url(\"https://github.com/jjcurtin/lab_support/blob/main/format_path.R?raw=true\")"
   ],
   "id": "9b5d96e3-f658-48bb-a9ec-84410b1a814b"
  },
  {
   "cell_type": "markdown",
   "metadata": {},
   "source": [
    "## Data\n",
    "\n",
    "### Cleaning"
   ],
   "id": "bda46c06-9041-479c-af55-b73748c9e61b"
  },
  {
   "cell_type": "code",
   "execution_count": null,
   "metadata": {},
   "outputs": [],
   "source": [
    "data <- haven::read_sav(here::here(path_data, \"Famchess_clean_combined_FINAL.sav\")) |> \n",
    "  clean_names() \n",
    "\n",
    "dsm <- haven::read_sav(here::here(path_data, \"FamCHESS_DSM5.sav\")) |> \n",
    "  clean_names() # for stratification check"
   ],
   "id": "050ef572-8a5a-48d8-8f98-5f5bc7543b60"
  },
  {
   "cell_type": "markdown",
   "metadata": {},
   "source": [
    "Change labeled classes to factor, clean up names, and merge data"
   ],
   "id": "71bae1b7-0952-4634-bb19-980d62efd474"
  },
  {
   "cell_type": "code",
   "execution_count": null,
   "metadata": {},
   "outputs": [],
   "source": [
    "data <- data |> \n",
    "  mutate(dyad = sjlabelled::as_label(dyad, keep.labels = TRUE),\n",
    "         arm = sjlabelled::as_label(arm, keep.labels = TRUE),\n",
    "         group = sjlabelled::as_label(group, keep.labels = TRUE),\n",
    "         time = sjlabelled::as_label(time, keep.labels = TRUE),\n",
    "         gender = sjlabelled::as_label(gender, keep.labels = TRUE),\n",
    "         edu = sjlabelled::as_label(edu, keep.labels = TRUE),\n",
    "         ethnicity = sjlabelled::as_label(ethnicity, keep.labels = TRUE),\n",
    "         income = sjlabelled::as_label(income, keep.labels = TRUE),\n",
    "         partner_relationship = sjlabelled::as_label(partner_relationship, \n",
    "                                                     keep.labels = TRUE),\n",
    "         employment = sjlabelled::as_label(employment, keep.labels = TRUE),\n",
    "         meetings_yn = sjlabelled::as_label(meetings_yn, keep.labels = TRUE),\n",
    "         outpatient_yn_ever = sjlabelled::as_label(outpatient_yn_ever, \n",
    "                                                   keep.labels = TRUE),\n",
    "         other_psych_treatment_yn = sjlabelled::as_label(other_psych_treatment_yn,\n",
    "                                                         keep.labels = TRUE),\n",
    "         er_yn_ever = sjlabelled::as_label(er_yn_ever, keep.labels = TRUE),\n",
    "         mat_yn = sjlabelled::as_label(mat_yn, keep.labels = TRUE),\n",
    "         healthservice_6 = sjlabelled::as_label(healthservice_6, \n",
    "                                                keep.labels = TRUE),\n",
    "         inpatient_yn_ever = sjlabelled::as_label(inpatient_yn_ever, \n",
    "                                                  keep.labels = TRUE),\n",
    "         r_eadmits_yn = sjlabelled::as_label(r_eadmits_yn, keep.labels = TRUE),\n",
    "         relationship_status = sjlabelled::as_label(relationship_status, \n",
    "                                                    keep.labels = TRUE)) |> \n",
    "  rename(readmits_yn = r_eadmits_yn,\n",
    "         other_medications_yn = healthservice_6)\n",
    "\n",
    "\n",
    "data <- data |> \n",
    "  left_join(dsm |> \n",
    "              mutate(dsm5_criteria = sjlabelled::as_label(dsm5_criteria, \n",
    "                                                          keep.labels = TRUE)) |> \n",
    "              select(study_id, dsm5_criteria), by = \"study_id\")"
   ],
   "id": "e6dd6373-ee79-4103-be2e-c532e4ffa431"
  },
  {
   "cell_type": "markdown",
   "metadata": {},
   "source": [
    "Remove participants with inaccurate data (from Olivia’s script):\n",
    "\n",
    "-   167PT (baseline and 4 month): FAM passed away after baseline\n",
    "-   208FAM & 208PT (noted on all timepoints): Might be wholly unreliable since we suspect he is his own partner\n",
    "-   365PT (noted on 1 timepoint): Answered relationship questions about her dog, not her son\n",
    "-   365FAM (noted on 1 timepoint): Answered relationship questions about romantic partner, not his mom"
   ],
   "id": "74998a12-7996-412c-ba0c-f5d1921af4a9"
  },
  {
   "cell_type": "code",
   "execution_count": null,
   "metadata": {},
   "outputs": [],
   "source": [
    "data <- data |> \n",
    "  filter(!study_id %in% c(\"167PT\", \"208FAM\", \"208PT\", \"365PT\", \"365FAM\"))"
   ],
   "id": "55679f4a-626d-4c31-a4fc-047735857d08"
  },
  {
   "cell_type": "markdown",
   "metadata": {},
   "source": [
    "195PT: reported prefer not to say for gender on baseline but reported male in TLFB data. Changing to male to match TLFB."
   ],
   "id": "d8b481b2-4368-40c7-af79-58911d31f887"
  },
  {
   "cell_type": "code",
   "execution_count": null,
   "metadata": {},
   "outputs": [],
   "source": [
    "data <- data |> \n",
    "  mutate(gender = if_else(study_id == \"195PT\", \"Man\", gender))"
   ],
   "id": "3b600acb-c03e-45b2-aa3b-f57ebf6b7b4d"
  },
  {
   "cell_type": "markdown",
   "metadata": {},
   "source": [
    "Gender - 2 levels (male / non-male) - TLFB is also coded this way\n",
    "\n",
    "-   500PT: non-binary\n",
    "-   128FAM: Transgender women"
   ],
   "id": "f0c9a5c3-6309-4667-97ea-ec3b94bf7395"
  },
  {
   "cell_type": "code",
   "execution_count": null,
   "metadata": {},
   "outputs": [
    {
     "output_type": "stream",
     "name": "stdout",
     "text": [
      " data$gender_original   n     percent valid_percent\n",
      "                  Man 580 0.424908425   0.426157237\n",
      "           Non-binary   4 0.002930403   0.002939015\n",
      "    Transgender woman   2 0.001465201   0.001469508\n",
      "                Woman 775 0.567765568   0.569434240\n",
      "                 <NA>   4 0.002930403            NA"
     ]
    },
    {
     "output_type": "stream",
     "name": "stdout",
     "text": [
      " data$gender   n     percent valid_percent\n",
      "    non-male 781 0.572161172     0.5738428\n",
      "        male 580 0.424908425     0.4261572\n",
      "        <NA>   4 0.002930403            NA"
     ]
    }
   ],
   "source": [
    "data <- data |> \n",
    "  mutate(gender_original = factor(gender), \n",
    "         gender = if_else(gender != \"Man\", \"non-male\", \"male\"),\n",
    "         gender = factor(gender, levels = c(\"non-male\", \"male\")))\n",
    "\n",
    "tabyl(data$gender_original)"
   ],
   "id": "0cd58c88-f382-451f-9607-b93b1732f2b1"
  },
  {
   "cell_type": "markdown",
   "metadata": {},
   "source": [
    "Create binary covariate for race/ethnicity defined as: White only (non-Hispanic) vs. not White only"
   ],
   "id": "0162fe14-9a33-42b2-baf2-89b1206cb6eb"
  },
  {
   "cell_type": "code",
   "execution_count": null,
   "metadata": {},
   "outputs": [
    {
     "output_type": "stream",
     "name": "stdout",
     "text": [
      " data$race_white_only    n     percent valid_percent\n",
      "                   No  335 0.245421245     0.2461425\n",
      "                  Yes 1026 0.751648352     0.7538575\n",
      "                 <NA>    4 0.002930403            NA"
     ]
    }
   ],
   "source": [
    "data <- data |> \n",
    "  mutate(race_white_only = as.factor(if_else(ethnicity == \"No\" & race_1 == 1 &\n",
    "                                     race_2 == 0 & race_3 == 0 &\n",
    "                                     race_4 == 0 & race_5 == 0 &\n",
    "                                     race_6 == 0, \"Yes\", \"No\")))\n",
    "\n",
    "tabyl(data$race_white_only)"
   ],
   "id": "1047d9b4-63e3-45eb-ac8e-d0fa2b0d97bf"
  },
  {
   "cell_type": "markdown",
   "metadata": {},
   "source": [
    "Recode data to have baseline scores of outcomes as variables for covariates"
   ],
   "id": "3b5ef2e6-6ced-484d-a954-142080c80de1"
  },
  {
   "cell_type": "code",
   "execution_count": null,
   "metadata": {},
   "outputs": [],
   "source": [
    "baseline_values <- data |>  \n",
    "  filter(time == \"Baseline\") |> \n",
    "  select(study_id, \n",
    "         hdd_0 = per_heavy_drink_days, \n",
    "         pda_0 = per_days_abstinent, \n",
    "         oq45_0 = oq45_scored, \n",
    "         relationsatisf_0 = relationsatisf_scored, \n",
    "         abuse_0 = abuse_scored)\n",
    "\n",
    "data <- data |> \n",
    "  filter(time != \"Baseline\") |> \n",
    "  full_join(baseline_values, by = \"study_id\")"
   ],
   "id": "983552e2-d138-4a63-9896-280c976d3376"
  },
  {
   "cell_type": "markdown",
   "metadata": {},
   "source": [
    "*KW: 36 study_ids provided baseline info but no data at later time points - remove study_ids and corresponding dyad (53 participants in total)?*"
   ],
   "id": "6617a4fe-762b-4a9a-993f-cfdf1f69b77e"
  },
  {
   "cell_type": "code",
   "execution_count": null,
   "metadata": {},
   "outputs": [
    {
     "output_type": "stream",
     "name": "stdout",
     "text": [
      "# A tibble: 36 × 6\n",
      "   study_id hdd_0 pda_0 oq45_0 relationsatisf_0 abuse_0\n",
      "   <chr>    <dbl> <dbl>  <dbl>            <dbl>   <dbl>\n",
      " 1 110PT    100     0       25               25      NA\n",
      " 2 111PT     30.6  44.6     50               26      NA\n",
      " 3 117FAM    NA    NA       32               18      NA\n",
      " 4 119FAM    NA    NA       29               27       3\n",
      " 5 119PT     98.3   0.8     64               25      NA\n",
      " 6 121PT     33.9  66.1     68               31      26\n",
      " 7 125PT     26.4  73.6     74               21      NA\n",
      " 8 130FAM    NA    NA       94               23       7\n",
      " 9 130PT     99.2   0.8    109               25       2\n",
      "10 139PT      9.2  90.8     80               21      NA\n",
      "11 140FAM    NA    NA       61               20      NA\n",
      "12 148FAM    NA    NA       70               17       4\n",
      "13 148PT     99.2   0.8     74               18       2\n",
      "14 149PT     75    23.3     30               25      NA\n",
      "15 155FAM    NA    NA       35               17       2\n",
      "16 155PT     NA    NA       70               14      NA\n",
      "17 156FAM    NA    NA       14               20      NA\n",
      "18 167FAM    NA    NA       15               14      NA\n",
      "19 181PT     44.7   2.4     45               20       3\n",
      "20 190FAM    NA    NA       30               17      NA\n",
      "21 190PT      3.3   0       48               19      NA\n",
      "22 198PT     29.2   7.5     33               27      NA\n",
      "23 199PT     14.9  83.5     57               27      NA\n",
      "24 203FAM    NA    NA       63               21       1\n",
      "25 203PT     60.3  39.7     28               24      NA\n",
      "26 205FAM    NA    NA       28               24      NA\n",
      "27 205PT     79.3  20.7     45               24      NA\n",
      "28 209PT     53.3  32.5     52               20       1\n",
      "29 303FAM    NA    NA       54               21      21\n",
      "30 303PT     43.3  56.7    110               24      19\n",
      "31 314FAM    NA    NA       81               14      24\n",
      "32 314PT     45.5  54.5    124               17      36\n",
      "33 315FAM    NA    NA       71               10       8\n",
      "34 337FAM    NA    NA       95               18      NA\n",
      "35 358FAM    NA    NA       81               15      10\n",
      "36 362FAM    NA    NA       28               28      NA"
     ]
    }
   ],
   "source": [
    "baseline_values |> \n",
    "  filter(!study_id %in% subset(data, time != \"Baseline\")$study_id) |> \n",
    "  print(n = Inf)"
   ],
   "id": "551fdbec-4e68-421b-b924-d5652ee8ed1e"
  },
  {
   "cell_type": "code",
   "execution_count": null,
   "metadata": {},
   "outputs": [
    {
     "output_type": "stream",
     "name": "stdout",
     "text": [
      "# A tibble: 53 × 2\n",
      "   study_id dyad_id\n",
      "   <chr>    <chr>  \n",
      " 1 110FAM   110    \n",
      " 2 110PT    110    \n",
      " 3 111FAM   111    \n",
      " 4 111PT    111    \n",
      " 5 117PT    117    \n",
      " 6 117FAM   117    \n",
      " 7 119FAM   119    \n",
      " 8 119PT    119    \n",
      " 9 121FAM   121    \n",
      "10 121PT    121    \n",
      "11 125FAM   125    \n",
      "12 125PT    125    \n",
      "13 130FAM   130    \n",
      "14 130PT    130    \n",
      "15 139FAM   139    \n",
      "16 139PT    139    \n",
      "17 140PT    140    \n",
      "18 140FAM   140    \n",
      "19 148FAM   148    \n",
      "20 148PT    148    \n",
      "21 149FAM   149    \n",
      "22 149PT    149    \n",
      "23 155FAM   155    \n",
      "24 155PT    155    \n",
      "25 156PT    156    \n",
      "26 156FAM   156    \n",
      "27 167FAM   167    \n",
      "28 181FAM   181    \n",
      "29 181PT    181    \n",
      "30 190FAM   190    \n",
      "31 190PT    190    \n",
      "32 198FAM   198    \n",
      "33 198PT    198    \n",
      "34 199FAM   199    \n",
      "35 199PT    199    \n",
      "36 203FAM   203    \n",
      "37 203PT    203    \n",
      "38 205FAM   205    \n",
      "39 205PT    205    \n",
      "40 209FAM   209    \n",
      "41 209PT    209    \n",
      "42 303FAM   303    \n",
      "43 303PT    303    \n",
      "44 314FAM   314    \n",
      "45 314PT    314    \n",
      "46 315PT    315    \n",
      "47 315FAM   315    \n",
      "48 337PT    337    \n",
      "49 337FAM   337    \n",
      "50 358PT    358    \n",
      "51 358FAM   358    \n",
      "52 362PT    362    \n",
      "53 362FAM   362    "
     ]
    }
   ],
   "source": [
    "dyad_ids <- baseline_values |> \n",
    "  mutate(dyad_id = str_sub(study_id, 1, 3)) |> \n",
    "  filter(!study_id %in% subset(data, time != \"Baseline\")$study_id) |> \n",
    "  pull(dyad_id) |> \n",
    "  unique()\n",
    "  \n",
    "data |> \n",
    "  mutate(dyad_id = str_sub(study_id, 1, 3)) |> \n",
    "  filter(dyad_id %in% dyad_ids) |> \n",
    "  select(study_id, dyad_id) |> \n",
    "  unique() |> \n",
    "  arrange(dyad_id) |> \n",
    "  print(n = Inf)"
   ],
   "id": "955f15c8-73a3-4feb-8b80-3af78eb51d68"
  },
  {
   "cell_type": "markdown",
   "metadata": {},
   "source": [
    "### EDA\n",
    "\n",
    "Remove vars not used in analyses (e.g., keep scale score and remove individual items).\n",
    "\n",
    "*KW: COVID acute/residual symptoms was originally listed as covariate but was removed per measures doc (Participants interpreted question differently).*\n",
    "\n",
    "*KW: phq, promis, alcohol problems, loneliness, coping, interaction scales not scored or in measures doc. Removed from analyses data set.*"
   ],
   "id": "e391a2fa-ec46-4887-82b0-5264c915ffec"
  },
  {
   "cell_type": "code",
   "execution_count": null,
   "metadata": {},
   "outputs": [
    {
     "output_type": "stream",
     "name": "stdout",
     "text": [
      "Rows: 928\n",
      "Columns: 40\n",
      "$ study_id                 <chr> \"100FAM\", \"100FAM\", \"100FAM\", \"100PT\", \"100PT…\n",
      "$ dyad                     <fct> Partner, Partner, Partner, Patient, Patient, …\n",
      "$ arm                      <fct> ACHESS, ACHESS, ACHESS, ACHESS, ACHESS, ACHES…\n",
      "$ group                    <fct> ACHESS Partner, ACHESS Partner, ACHESS Partne…\n",
      "$ time_string              <chr> \"4 Month\", \"8 Month\", \"12 Month\", \"12 Month\",…\n",
      "$ time                     <fct> 4 Month, 8 Month, 12 Month, 12 Month, 4 Month…\n",
      "$ comments                 <chr> \"\", \"\", \"\", \"\", \"\", \"\", \"\", \"\", \"\", \"\", \"\", \"…\n",
      "$ gender                   <fct> non-male, non-male, non-male, male, male, mal…\n",
      "$ age                      <dbl> 55, 55, 55, 56, 56, 56, 62, 62, 62, 66, 66, 6…\n",
      "$ edu                      <fct> \"Some college or 2 year degree\", \"Some colleg…\n",
      "$ income                   <fct> \"$35,000 to $49,999\", \"$35,000 to $49,999\", \"…\n",
      "$ partner_relationship     <fct> Romantic partner/spouse, Romantic partner/spo…\n",
      "$ employment               <fct> Yes, Yes, Yes, Yes, Yes, Yes, No, No, No, No,…\n",
      "$ days_app_use             <dbl> NA, NA, NA, 8, 32, 12, NA, NA, NA, NA, NA, NA…\n",
      "$ per_days_abstinent       <dbl> NA, NA, NA, 0.0, 0.0, 0.0, NA, NA, NA, 98.5, …\n",
      "$ per_heavy_drink_days     <dbl> NA, NA, NA, 100.0, 90.8, 100.0, NA, NA, NA, 1…\n",
      "$ meetings_yn              <fct> No, No, No, No, No, No, No, Yes, No, Yes, Yes…\n",
      "$ outpatient_yn_ever       <fct> No, No, No, No, No, No, No, No, No, No, No, N…\n",
      "$ other_psych_treatment_yn <fct> No, No, No, No, No, No, No, No, No, Yes, No, …\n",
      "$ er_yn_ever               <fct> No, No, No, No, No, No, No, No, No, No, No, N…\n",
      "$ mat_yn                   <fct> No, No, No, No, No, No, No, No, No, No, No, N…\n",
      "$ other_medications_yn     <fct> No, No, No, No, No, No, No, No, No, Yes, No, …\n",
      "$ inpatient_yn_ever        <fct> No, No, No, No, No, No, No, No, No, No, No, N…\n",
      "$ readmits_yn              <fct> NA, NA, NA, NA, NA, NA, NA, NA, NA, NA, NA, N…\n",
      "$ relationship_status      <fct> \"Still together (e.g., as a romantic couple, …\n",
      "$ relationship_status_open <chr> \"\", \"\", \"\", \"\", \"\", \"\", \"\", \"\", \"\", \"\", \"\", \"…\n",
      "$ oq45_scored              <dbl> 48, 58, 64, 48, 68, 70, 26, 37, 40, 44, 44, 5…\n",
      "$ relationsatisf_scored    <dbl> 15, 9, 30, 24, 22, 20, 30, 29, 32, 25, 25, 23…\n",
      "$ abuse_scored             <dbl> 4, 7, 8, 15, 4, 2, 4, 0, 2, 0, NA, NA, 2, 11,…\n",
      "$ treatmentskills_scored   <dbl> 2.888889, 2.722222, 3.277778, NA, NA, NA, 3.0…\n",
      "$ peersupport_scored       <dbl> 3.4, 2.6, 2.8, 2.4, 2.2, 2.8, 2.8, 3.6, 2.4, …\n",
      "$ socrates_scored          <dbl> NA, NA, NA, 33, 34, 24, NA, NA, NA, 39, 37, 3…\n",
      "$ dsm5_criteria            <fct> NA, NA, NA, Severe (6 or more symptoms), Seve…\n",
      "$ gender_original          <fct> Woman, Woman, Woman, Man, Man, Man, Woman, Wo…\n",
      "$ race_white_only          <fct> No, No, No, No, No, No, Yes, Yes, Yes, Yes, Y…\n",
      "$ hdd_0                    <dbl> NA, NA, NA, 100.0, 100.0, 100.0, NA, NA, NA, …\n",
      "$ pda_0                    <dbl> NA, NA, NA, 0.0, 0.0, 0.0, NA, NA, NA, 93.4, …\n",
      "$ oq45_0                   <dbl> 53, 53, 53, 60, 60, 60, 79, 79, 79, 71, 71, 7…\n",
      "$ relationsatisf_0         <dbl> 21, 21, 21, 19, 19, 19, 32, 32, 32, 24, 24, 2…\n",
      "$ abuse_0                  <dbl> 9, 9, 9, 2, 2, 2, 17, 17, 17, 8, 8, 8, 5, 5, …"
     ]
    }
   ],
   "source": [
    "data <- data |> \n",
    "  select(-c(treatmentskills_1:treatmentskills_18_recode,\n",
    "            oq45_1:oq45_45, alcoholproblems_1:alcoholproblems_15, \n",
    "            relationsatisf_1:relationsatisf_8, phq_1:phq_8, \n",
    "            abuse_1:abuse_16_yes, promis29_1:promis29_8, \n",
    "            abuse_physical_scored:abuse_psychological_scored, gender_open,\n",
    "            loneliness_1:loneliness_8, healthservice_1, healthservice_2,\n",
    "            healthservice_3,healthservice_4,healthservice_5, \n",
    "            healthservice_5a_1:healthservice_5c, \n",
    "            healthservice_6a_1:healthservice_8a, healthservice_8b, \n",
    "            healthservice_9a, healthservice_9b, bonding_1:bonding_5, \n",
    "            socrates_1:socrates_20, coping_1:coping_25, \n",
    "            drinkinggoals:drinkinggoal_7_text, covid_1:covid_3f,\n",
    "            interaction_1:interaction_20, drink_druguse_1:drinkdruguse_8d,\n",
    "            employmentstatus:notemployed_open, ethnicity:race_open, \n",
    "            livewith_1:livewith_open, er_yn, outpatient_yn, \n",
    "            inpatient_yn, n_days, mean_drinks_per_day, per_drink_days, \n",
    "            covid_scored,redcap_event_name, recruitment_id, \n",
    "            socrates_recognition_scored, socrates_ambivalence_scored)) |> \n",
    "  relocate(study_id) |> \n",
    "  glimpse()"
   ],
   "id": "cb69a118-1b26-4fa9-8638-c0c1a49902d2"
  },
  {
   "cell_type": "markdown",
   "metadata": {},
   "source": [
    "`time_string` matches `time` - remove `time_string`"
   ],
   "id": "9816c2d3-81b2-4814-a8ef-33061ed12fe6"
  },
  {
   "cell_type": "code",
   "execution_count": null,
   "metadata": {},
   "outputs": [
    {
     "output_type": "stream",
     "name": "stdout",
     "text": [
      "     time 12 Month 4 Month 8 Month\n",
      " Baseline        0       0       0\n",
      "  4 Month        0     328       0\n",
      "  8 Month        0       0     315\n",
      " 12 Month      285       0       0"
     ]
    }
   ],
   "source": [
    "data |> \n",
    "  tabyl(time, time_string)"
   ],
   "id": "35eee2e2-798d-464d-80e3-42cd0fa4f08e"
  },
  {
   "cell_type": "markdown",
   "metadata": {},
   "source": [
    "Number of participants"
   ],
   "id": "a1981bf2-bfd3-435f-867c-c7c105c9e304"
  },
  {
   "cell_type": "code",
   "execution_count": null,
   "metadata": {},
   "outputs": [
    {
     "output_type": "stream",
     "name": "stdout",
     "text": [
      "[1] 340"
     ]
    },
    {
     "output_type": "stream",
     "name": "stdout",
     "text": [
      "[1] 170"
     ]
    },
    {
     "output_type": "stream",
     "name": "stdout",
     "text": [
      "[1] 170"
     ]
    }
   ],
   "source": [
    "data |> \n",
    "  pull(study_id) |>\n",
    "  unique() |> \n",
    "  length() # 340"
   ],
   "id": "ba922bf7-4cc8-4559-bfe4-5c550b928af7"
  },
  {
   "cell_type": "markdown",
   "metadata": {},
   "source": [
    "Complete dyad (patient + partner) for all participants"
   ],
   "id": "7cfff509-d546-42d1-85ee-34f9794658c1"
  },
  {
   "cell_type": "code",
   "execution_count": null,
   "metadata": {},
   "outputs": [
    {
     "output_type": "stream",
     "name": "stdout",
     "text": [
      "# A tibble: 0 × 2\n",
      "# Groups:   dyad_id [0]\n",
      "# ℹ 2 variables: dyad_id <chr>, n <int>"
     ]
    }
   ],
   "source": [
    "data |> \n",
    "  select(study_id) |> \n",
    "  unique() |> \n",
    "  mutate(dyad_id = str_sub(study_id, 1, 3)) |> \n",
    "  group_by(dyad_id) |> \n",
    "  count() |> \n",
    "  filter(n != 2)"
   ],
   "id": "9c32c529-8d50-40cb-8193-42eba75fc460"
  },
  {
   "cell_type": "markdown",
   "metadata": {},
   "source": [
    "Missing data"
   ],
   "id": "cc43f08e-fa4a-47f1-bac1-315a07156dc8"
  },
  {
   "cell_type": "code",
   "execution_count": null,
   "metadata": {},
   "outputs": [
    {
     "output_type": "stream",
     "name": "stdout",
     "text": [
      "# A tibble: 39 × 3\n",
      "   variable                 n_miss pct_miss\n",
      "   <chr>                     <int>    <num>\n",
      " 1 readmits_yn                 903   97.3  \n",
      " 2 abuse_scored                680   73.3  \n",
      " 3 abuse_0                     538   58.0  \n",
      " 4 per_days_abstinent          498   53.7  \n",
      " 5 per_heavy_drink_days        498   53.7  \n",
      " 6 socrates_scored             493   53.1  \n",
      " 7 treatmentskills_scored      479   51.6  \n",
      " 8 dsm5_criteria               467   50.3  \n",
      " 9 hdd_0                       464   50    \n",
      "10 pda_0                       464   50    \n",
      "11 days_app_use                455   49.0  \n",
      "12 other_medications_yn         42    4.53 \n",
      "13 mat_yn                       39    4.20 \n",
      "14 peersupport_scored           39    4.20 \n",
      "15 meetings_yn                  36    3.88 \n",
      "16 other_psych_treatment_yn     36    3.88 \n",
      "17 relationship_status          35    3.77 \n",
      "18 oq45_scored                  35    3.77 \n",
      "19 relationsatisf_scored        35    3.77 \n",
      "20 income                       15    1.62 \n",
      "21 age                           6    0.647\n",
      "22 gender                        3    0.323\n",
      "23 edu                           3    0.323\n",
      "24 partner_relationship          3    0.323\n",
      "25 employment                    3    0.323\n",
      "26 gender_original               3    0.323\n",
      "27 race_white_only               3    0.323\n",
      "28 oq45_0                        3    0.323\n",
      "29 relationsatisf_0              3    0.323\n",
      "30 study_id                      0    0    \n",
      "31 dyad                          0    0    \n",
      "32 arm                           0    0    \n",
      "33 group                         0    0    \n",
      "34 time                          0    0    \n",
      "35 comments                      0    0    \n",
      "36 outpatient_yn_ever            0    0    \n",
      "37 er_yn_ever                    0    0    \n",
      "38 inpatient_yn_ever             0    0    \n",
      "39 relationship_status_open      0    0    "
     ]
    }
   ],
   "source": [
    "data |> \n",
    "  naniar::miss_var_summary() |> \n",
    "  print(n = Inf)"
   ],
   "id": "18469b04-d28b-4c03-abe0-19b828b83cd9"
  },
  {
   "cell_type": "markdown",
   "metadata": {},
   "source": [
    "Missing data for just patients\n",
    "\n",
    "-   treatmentskills not applicable to patients\n",
    "-   abuse and readmits have high missing data\n",
    "-   Why days_app_use missing so high?"
   ],
   "id": "a3113688-a000-4b2c-828e-3299e3198147"
  },
  {
   "cell_type": "code",
   "execution_count": null,
   "metadata": {},
   "outputs": [
    {
     "output_type": "stream",
     "name": "stdout",
     "text": [
      "# A tibble: 39 × 3\n",
      "   variable                 n_miss pct_miss\n",
      "   <chr>                     <int>    <num>\n",
      " 1 treatmentskills_scored      464  100    \n",
      " 2 readmits_yn                 440   94.8  \n",
      " 3 abuse_scored                370   79.7  \n",
      " 4 abuse_0                     291   62.7  \n",
      " 5 days_app_use                151   32.5  \n",
      " 6 per_days_abstinent           34    7.33 \n",
      " 7 per_heavy_drink_days         34    7.33 \n",
      " 8 other_medications_yn         30    6.47 \n",
      " 9 mat_yn                       29    6.25 \n",
      "10 socrates_scored              29    6.25 \n",
      "11 peersupport_scored           28    6.03 \n",
      "12 meetings_yn                  26    5.60 \n",
      "13 other_psych_treatment_yn     26    5.60 \n",
      "14 relationship_status          25    5.39 \n",
      "15 oq45_scored                  25    5.39 \n",
      "16 relationsatisf_scored        25    5.39 \n",
      "17 income                       12    2.59 \n",
      "18 age                           6    1.29 \n",
      "19 gender                        3    0.647\n",
      "20 edu                           3    0.647\n",
      "21 partner_relationship          3    0.647\n",
      "22 employment                    3    0.647\n",
      "23 dsm5_criteria                 3    0.647\n",
      "24 gender_original               3    0.647\n",
      "25 race_white_only               3    0.647\n",
      "26 oq45_0                        3    0.647\n",
      "27 relationsatisf_0              3    0.647\n",
      "28 study_id                      0    0    \n",
      "29 dyad                          0    0    \n",
      "30 arm                           0    0    \n",
      "31 group                         0    0    \n",
      "32 time                          0    0    \n",
      "33 comments                      0    0    \n",
      "34 outpatient_yn_ever            0    0    \n",
      "35 er_yn_ever                    0    0    \n",
      "36 inpatient_yn_ever             0    0    \n",
      "37 relationship_status_open      0    0    \n",
      "38 hdd_0                         0    0    \n",
      "39 pda_0                         0    0    "
     ]
    }
   ],
   "source": [
    "data |> \n",
    "  filter(dyad == \"Patient\") |> \n",
    "  naniar::miss_var_summary() |> \n",
    "  print(n = Inf)"
   ],
   "id": "10978d83-b5c5-43ff-abfc-d8f0ca55b016"
  },
  {
   "cell_type": "markdown",
   "metadata": {},
   "source": [
    "Remove `readmits_yn` as covariate due to high missing data"
   ],
   "id": "4390b5f7-46fd-411c-ae65-9620c2b9a118"
  },
  {
   "cell_type": "code",
   "execution_count": null,
   "metadata": {},
   "outputs": [],
   "source": [
    "data <- data |> \n",
    "  select(-readmits_yn)"
   ],
   "id": "24f51d3e-f9eb-4162-ba1c-77097479b90d"
  },
  {
   "cell_type": "markdown",
   "metadata": {},
   "source": [
    "Missing data for partners"
   ],
   "id": "8b1a1908-ff2e-4538-b6ab-6a1e3ee60ca5"
  },
  {
   "cell_type": "code",
   "execution_count": null,
   "metadata": {},
   "outputs": [
    {
     "output_type": "stream",
     "name": "stdout",
     "text": [
      "# A tibble: 38 × 3\n",
      "   variable                 n_miss pct_miss\n",
      "   <chr>                     <int>    <num>\n",
      " 1 per_days_abstinent          464  100    \n",
      " 2 per_heavy_drink_days        464  100    \n",
      " 3 socrates_scored             464  100    \n",
      " 4 dsm5_criteria               464  100    \n",
      " 5 hdd_0                       464  100    \n",
      " 6 pda_0                       464  100    \n",
      " 7 abuse_scored                310   66.8  \n",
      " 8 days_app_use                304   65.5  \n",
      " 9 abuse_0                     247   53.2  \n",
      "10 treatmentskills_scored       15    3.23 \n",
      "11 other_medications_yn         12    2.59 \n",
      "12 peersupport_scored           11    2.37 \n",
      "13 meetings_yn                  10    2.16 \n",
      "14 other_psych_treatment_yn     10    2.16 \n",
      "15 mat_yn                       10    2.16 \n",
      "16 relationship_status          10    2.16 \n",
      "17 oq45_scored                  10    2.16 \n",
      "18 relationsatisf_scored        10    2.16 \n",
      "19 income                        3    0.647\n",
      "20 study_id                      0    0    \n",
      "21 dyad                          0    0    \n",
      "22 arm                           0    0    \n",
      "23 group                         0    0    \n",
      "24 time                          0    0    \n",
      "25 comments                      0    0    \n",
      "26 gender                        0    0    \n",
      "27 age                           0    0    \n",
      "28 edu                           0    0    \n",
      "29 partner_relationship          0    0    \n",
      "30 employment                    0    0    \n",
      "31 outpatient_yn_ever            0    0    \n",
      "32 er_yn_ever                    0    0    \n",
      "33 inpatient_yn_ever             0    0    \n",
      "34 relationship_status_open      0    0    \n",
      "35 gender_original               0    0    \n",
      "36 race_white_only               0    0    \n",
      "37 oq45_0                        0    0    \n",
      "38 relationsatisf_0              0    0    "
     ]
    }
   ],
   "source": [
    "data |> \n",
    "  filter(dyad == \"Partner\") |> \n",
    "  naniar::miss_var_summary() |> \n",
    "  print(n = Inf)"
   ],
   "id": "026cf1c2-2dd4-4d8e-bcb1-8ab01c16af0c"
  },
  {
   "cell_type": "markdown",
   "metadata": {},
   "source": [
    "*KW: Why abuse and days_app_use so high for partners and patients?*\n",
    "\n",
    "Participants in each arm"
   ],
   "id": "f21f34db-351d-4c12-9a65-acee4dde27e6"
  },
  {
   "cell_type": "code",
   "execution_count": null,
   "metadata": {},
   "outputs": [
    {
     "output_type": "stream",
     "name": "stdout",
     "text": [
      "                arm   n   percent\n",
      " Smartphone Control 108 0.3176471\n",
      "             ACHESS 118 0.3470588\n",
      "           FAMCHESS 114 0.3352941"
     ]
    }
   ],
   "source": [
    "data |> \n",
    "  group_by(study_id) |> \n",
    "  slice(1) |> \n",
    "  tabyl(arm)"
   ],
   "id": "e1db568a-af11-4fed-828f-427c5ad1aa09"
  },
  {
   "cell_type": "markdown",
   "metadata": {},
   "source": [
    "Check stratification variables in arms\n",
    "\n",
    "patient gender identity"
   ],
   "id": "61dda07b-75d3-467a-89fe-386f8086be68"
  },
  {
   "cell_type": "code",
   "execution_count": null,
   "metadata": {},
   "outputs": [
    {
     "output_type": "stream",
     "name": "stdout",
     "text": [
      "                arm non-male male NA_\n",
      " Smartphone Control       22   31   1\n",
      "             ACHESS       26   33   0\n",
      "           FAMCHESS       23   34   0"
     ]
    }
   ],
   "source": [
    "data |> \n",
    "  filter(dyad == \"Patient\") |> \n",
    "  group_by(study_id) |> \n",
    "  slice(1) |> \n",
    "  tabyl(arm, gender)"
   ],
   "id": "5ad02679-0663-49b0-b8d2-eacb09e3e125"
  },
  {
   "cell_type": "markdown",
   "metadata": {},
   "source": [
    "alcohol use severity (moderate or severe AUD vs mild)"
   ],
   "id": "337a9c52-7243-4c78-b880-ce187c627b8a"
  },
  {
   "cell_type": "code",
   "execution_count": null,
   "metadata": {},
   "outputs": [
    {
     "output_type": "stream",
     "name": "stdout",
     "text": [
      "                arm Mild Moderate/Severe NA_\n",
      " Smartphone Control    1              52   1\n",
      "             ACHESS    0              59   0\n",
      "           FAMCHESS    1              56   0"
     ]
    }
   ],
   "source": [
    "data |> \n",
    "  filter(dyad == \"Patient\") |>\n",
    "  mutate(dsm5_criteria = if_else(dsm5_criteria == \"Mild (2-3 symptoms)\", \n",
    "                                 \"Mild\", \"Moderate/Severe\")) |> \n",
    "  group_by(study_id) |> \n",
    "  slice(1) |> \n",
    "  tabyl(arm, dsm5_criteria)"
   ],
   "id": "4e8a1132-6927-44c9-b2ba-67034dac6dd5"
  },
  {
   "cell_type": "markdown",
   "metadata": {},
   "source": [
    "Study Notes"
   ],
   "id": "41bd92cc-3de0-4606-a843-01a720c6083b"
  },
  {
   "cell_type": "code",
   "execution_count": null,
   "metadata": {},
   "outputs": [
    {
     "output_type": "stream",
     "name": "stdout",
     "text": [
      " [1] \"Missing TLFB\"                                                                                                                                                                                       \n",
      " [2] \"Missing TLFB\"                                                                                                                                                                                       \n",
      " [3] \"Missing survey data\"                                                                                                                                                                                \n",
      " [4] \"Missing TLFB\"                                                                                                                                                                                       \n",
      " [5] \"Missing TLFB\"                                                                                                                                                                                       \n",
      " [6] \"Exclude TLFB. 120pt is the one who had a traumatic brain injury, Dave and I both did their 4 month survey on accident because the participant didn't remember doing it. They gave different answers\"\n",
      " [7] \"Missing TLFB\"                                                                                                                                                                                       \n",
      " [8] \"Missing TLFB\"                                                                                                                                                                                       \n",
      " [9] \"TLFB complete but data was lost\"                                                                                                                                                                    \n",
      "[10] \"Missing TLFB\"                                                                                                                                                                                       \n",
      "[11] \"Missing survey data\"                                                                                                                                                                                \n",
      "[12] \"Missing TLFB\"                                                                                                                                                                                       \n",
      "[13] \"Missing survey data\"                                                                                                                                                                                \n",
      "[14] \"Missing survey data\"                                                                                                                                                                                \n",
      "[15] \"Missing survey data\"                                                                                                                                                                                \n",
      "[16] \"Missing survey data\"                                                                                                                                                                                \n",
      "[17] \"Missing survey data\"                                                                                                                                                                                \n",
      "[18] \"Missing TLFB\"                                                                                                                                                                                       \n",
      "[19] \"Missing TLFB\"                                                                                                                                                                                       \n",
      "[20] \"TLFB complete but data was lost\"                                                                                                                                                                    \n",
      "[21] \"Missing survey data\"                                                                                                                                                                                \n",
      "[22] \"Missing survey data\"                                                                                                                                                                                \n",
      "[23] \"Missing survey data\"                                                                                                                                                                                \n",
      "[24] \"Missing TLFB\"                                                                                                                                                                                       \n",
      "[25] \"Missing TLFB\"                                                                                                                                                                                       \n",
      "[26] \"Missing TLFB\"                                                                                                                                                                                       \n",
      "[27] \"disinterested, rushed, vague during timeline followbacks\"                                                                                                                                           \n",
      "[28] \"disinterested, rushed, vague during timeline followbacks\"                                                                                                                                           \n",
      "[29] \"disinterested, rushed, vague during timeline followbacks\"                                                                                                                                           \n",
      "[30] \"Missing TLFB\"                                                                                                                                                                                       \n",
      "[31] \"Missing TLFB\"                                                                                                                                                                                       \n",
      "[32] \"Missing TLFB\"                                                                                                                                                                                       \n",
      "[33] \"Missing TLFB\"                                                                                                                                                                                       \n",
      "[34] \"Missing TLFB\"                                                                                                                                                                                       \n",
      "[35] \"Missing TLFB\"                                                                                                                                                                                       \n",
      "[36] \"Missing TLFB\"                                                                                                                                                                                       \n",
      "[37] \"Missing TLFB\"                                                                                                                                                                                       \n",
      "[38] \"Missing survey data\"                                                                                                                                                                                \n",
      "[39] \"Missing survey data\"                                                                                                                                                                                \n",
      "[40] \"Unreliable answers, was drunk during survey\"                                                                                                                                                        \n",
      "[41] \"Unreliable answers, was drunk during survey\"                                                                                                                                                        \n",
      "[42] \"Unreliable answers, was drunk during survey\"                                                                                                                                                        \n",
      "[43] \"Missing survey data\"                                                                                                                                                                                \n",
      "[44] \"Missing survey data\"                                                                                                                                                                                \n",
      "[45] \"Note, only 53 days between 4 and 8 month survey\"                                                                                                                                                    \n",
      "[46] \"Note, only 37 days between 4 and 8 month survey\"                                                                                                                                                    \n",
      "[47] \"during qualitative interview, said partner was just their friend\"                                                                                                                                   \n",
      "[48] \"during qualitative interview, said partner was just their friend\"                                                                                                                                   \n",
      "[49] \"during qualitative interview, said partner was just their friend\"                                                                                                                                   \n",
      "[50] \"during qualitative interview, said partner was just their friend\"                                                                                                                                   \n",
      "[51] \"during qualitative interview, said partner was just their friend\"                                                                                                                                   \n",
      "[52] \"during qualitative interview, said partner was just their friend\"                                                                                                                                   \n",
      "[53] \"TLFB complete but data was lost\"                                                                                                                                                                    \n",
      "[54] \"Missing survey data\"                                                                                                                                                                                \n",
      "[55] \"Missing survey data\"                                                                                                                                                                                \n",
      "[56] \"TLFB complete but data was lost\"                                                                                                                                                                    \n",
      "[57] \"Missing survey data\"                                                                                                                                                                                \n",
      "[58] \"Missing survey data\"                                                                                                                                                                                \n",
      "[59] \"Missing TLFB\"                                                                                                                                                                                       \n",
      "attr(,\"format.spss\")\n",
      "[1] \"A5000\"\n",
      "attr(,\"display_width\")\n",
      "[1] 186"
     ]
    }
   ],
   "source": [
    "data |> \n",
    "  filter(!comments == \"\") |> \n",
    "  pull(comments)"
   ],
   "id": "ccfa7bdf-7062-45e5-88e9-2fa972b435cc"
  },
  {
   "cell_type": "markdown",
   "metadata": {},
   "source": [
    "Income"
   ],
   "id": "77e1da6c-1eca-4c47-9394-9bd83b288e51"
  },
  {
   "cell_type": "code",
   "execution_count": null,
   "metadata": {},
   "outputs": [
    {
     "output_type": "stream",
     "name": "stdout",
     "text": [
      "          data$income   n    percent valid_percent\n",
      "    Less than $25,000 177 0.19073276    0.19386637\n",
      "   $25,000 to $34,999  57 0.06142241    0.06243154\n",
      "   $35,000 to $49,999  91 0.09806034    0.09967141\n",
      "   $50,000 to $74,999 192 0.20689655    0.21029573\n",
      "   $75,000 to $99,999 160 0.17241379    0.17524644\n",
      " $100,000 to $149,999 144 0.15517241    0.15772180\n",
      " $150,000 to $199,999  65 0.07004310    0.07119387\n",
      "     $200,000 or more  27 0.02909483    0.02957284\n",
      "                 <NA>  15 0.01616379            NA"
     ]
    }
   ],
   "source": [
    "tabyl(data$income)"
   ],
   "id": "88bbb599-50d8-41dd-af6a-d3c794de9807"
  },
  {
   "cell_type": "markdown",
   "metadata": {},
   "source": [
    "Partner relationship"
   ],
   "id": "c39422d4-f9c6-45c7-b606-4e1b9caa7ad2"
  },
  {
   "cell_type": "code",
   "execution_count": null,
   "metadata": {},
   "outputs": [
    {
     "output_type": "stream",
     "name": "stdout",
     "text": [
      " data$partner_relationship   n     percent valid_percent\n",
      "   Romantic partner/spouse 614 0.661637931   0.663783784\n",
      "                    Parent  74 0.079741379   0.080000000\n",
      "               Adult child  73 0.078663793   0.078918919\n",
      "       Other family member  98 0.105603448   0.105945946\n",
      "                    Friend  63 0.067887931   0.068108108\n",
      "            Recovery Coach   3 0.003232759   0.003243243\n",
      "                      <NA>   3 0.003232759            NA"
     ]
    }
   ],
   "source": [
    "tabyl(data$partner_relationship)"
   ],
   "id": "7b830390-5cd3-4bad-b110-b6a8047f0fd2"
  },
  {
   "cell_type": "markdown",
   "metadata": {},
   "source": [
    "Employment"
   ],
   "id": "10fea2e5-3876-44c4-8754-24aff83ef836"
  },
  {
   "cell_type": "code",
   "execution_count": null,
   "metadata": {},
   "outputs": [
    {
     "output_type": "stream",
     "name": "stdout",
     "text": [
      " data$employment   n     percent valid_percent\n",
      "              No 315 0.339439655     0.3405405\n",
      "             Yes 610 0.657327586     0.6594595\n",
      "            <NA>   3 0.003232759            NA"
     ]
    }
   ],
   "source": [
    "tabyl(data$employment)"
   ],
   "id": "20423463-1057-436d-97aa-fdd1485d0d29"
  },
  {
   "cell_type": "markdown",
   "metadata": {},
   "source": [
    "Relationship status with partner"
   ],
   "id": "3f501e79-a3b9-403e-be46-a633023e3e0b"
  },
  {
   "cell_type": "code",
   "execution_count": null,
   "metadata": {},
   "outputs": [
    {
     "output_type": "stream",
     "name": "stdout",
     "text": [
      "                                           data$relationship_status   n\n",
      " Still together (e.g., as a romantic couple, as family, as friends) 762\n",
      "                Split up but still working on this project together  62\n",
      "                  Split up and not working on this project together  24\n",
      "                                                              Other  45\n",
      "                                                               <NA>  35\n",
      "    percent valid_percent\n",
      " 0.82112069    0.85330347\n",
      " 0.06681034    0.06942889\n",
      " 0.02586207    0.02687570\n",
      " 0.04849138    0.05039194\n",
      " 0.03771552            NA"
     ]
    },
    {
     "output_type": "stream",
     "name": "stdout",
     "text": [
      " [1] \"Still friends but he is unsure how much if at all she is using the app\"                                                                         \n",
      " [2] \"parent\"                                                                                                                                         \n",
      " [3] \"None\"                                                                                                                                           \n",
      " [4] \"None\"                                                                                                                                           \n",
      " [5] \"Not seeing\"                                                                                                                                     \n",
      " [6] \"Little contact\"                                                                                                                                 \n",
      " [7] \"work schedules collide\"                                                                                                                         \n",
      " [8] \"I talk to monthly. He's not too engaged in this.\"                                                                                               \n",
      " [9] \"On our way to splitting up\"                                                                                                                     \n",
      "[10] \"Going through break up\"                                                                                                                         \n",
      "[11] \"She is going to leave me\"                                                                                                                       \n",
      "[12] \"excellent, open, honest\"                                                                                                                        \n",
      "[13] \"excellent\"                                                                                                                                      \n",
      "[14] \"still working on the project together\"                                                                                                          \n",
      "[15] \"Support member\"                                                                                                                                 \n",
      "[16] \"Mutual\"                                                                                                                                         \n",
      "[17] \"Had split up now moving back together this month\"                                                                                               \n",
      "[18] \"Still together but really struggling\"                                                                                                           \n",
      "[19] \"Limited communication and I couldn't access anything after the 8 month survey, thought maybe we had been removed from the study?\"               \n",
      "[20] \"father/daughter\"                                                                                                                                \n",
      "[21] \"Steady friends\"                                                                                                                                 \n",
      "[22] \"Just friends\"                                                                                                                                   \n",
      "[23] \"Sister\"                                                                                                                                         \n",
      "[24] \"N/A\"                                                                                                                                            \n",
      "[25] \"Mother and daughter\"                                                                                                                            \n",
      "[26] \"not good\"                                                                                                                                       \n",
      "[27] \"We are cousin we are still working on her recovery\"                                                                                             \n",
      "[28] \"estranged but working on this project together\"                                                                                                 \n",
      "[29] \"She's still my mother\"                                                                                                                          \n",
      "[30] \"Continue to be very close friend\"                                                                                                               \n",
      "[31] \"Daughter we're fine\"                                                                                                                            \n",
      "[32] \"Temporarily broken up but still living together hoping she can get the drinking under control which will determine if we try to work things out\"\n",
      "[33] \"Split up but still working on getting back together and dealing with the alcohol use but in a better place.\"                                    \n",
      "[34] \"friends\"                                                                                                                                        \n",
      "[35] \"Not talking for the last few months\"                                                                                                            \n",
      "attr(,\"label\")\n",
      "[1] \"Other\"\n",
      "attr(,\"format.spss\")\n",
      "[1] \"A1000\"\n",
      "attr(,\"display_width\")\n",
      "[1] 128"
     ]
    }
   ],
   "source": [
    "tabyl(data$relationship_status)"
   ],
   "id": "3ea2c798-ea5c-4c19-9524-f1594b379cd6"
  },
  {
   "cell_type": "markdown",
   "metadata": {},
   "source": [
    "univariate descriptives of covariates, mediators, moderators and outcome variables"
   ],
   "id": "d5d4637f-497f-40a4-a6a8-90c11ed3ebe3"
  },
  {
   "cell_type": "code",
   "execution_count": null,
   "metadata": {},
   "outputs": [
    {
     "output_type": "display_data",
     "metadata": {},
     "data": {
      "text/markdown": [
       "  ----------------------------------------------------------------------------------------------------------------\n",
       "  skim_variable              n_missing   complete_rate    mean      sd   p0     p25     p50     p75   p100 hist\n",
       "  ------------------------ ----------- --------------- ------- ------- ---- ------- ------- ------- ------ -------\n",
       "  age                                6            0.99   47.62   13.59   21   37.00   47.50   58.00     89 ▅▇▇▃▁\n",
       "\n",
       "  days_app_use                     455            0.51   41.14   38.05    0    6.00   32.00   74.00    161 ▇▃▃▂▁\n",
       "\n",
       "  per_days_abstinent               498            0.46   60.96   37.45    0   29.98   71.05   98.20    100 ▅▂▂▃▇\n",
       "\n",
       "  per_heavy_drink_days             498            0.46   24.20   33.27    0    0.00    5.65   34.35    100 ▇▂▁▁▂\n",
       "\n",
       "  oq45_scored                       35            0.96   55.33   25.33    0   37.00   54.00   71.00    140 ▃▇▆▂▁\n",
       "\n",
       "  relationsatisf_scored             35            0.96   21.64    6.40    0   18.00   22.00   26.00     36 ▁▂▆▇▃\n",
       "\n",
       "  abuse_scored                     680            0.27    4.40    7.35    0    1.00    2.00    6.00     72 ▇▁▁▁▁\n",
       "\n",
       "  treatmentskills_scored           479            0.48    3.11    0.51    1    2.83    3.13    3.47      4 ▁▁▃▇▅\n",
       "\n",
       "  peersupport_scored                39            0.96    2.92    1.17    1    2.00    2.80    3.80      5 ▆▇▇▅▅\n",
       "\n",
       "  socrates_scored                  493            0.47   32.36    7.06   10   28.00   33.00   39.00     40 ▁▁▃▅▇\n",
       "\n",
       "  hdd_0                            464            0.50   49.00   36.11    0   16.30   42.10   88.70    100 ▇▆▃▃▇\n",
       "\n",
       "  pda_0                            464            0.50   37.48   33.84    0    1.67   33.30   67.80    100 ▇▂▂▃▂\n",
       "\n",
       "  oq45_0                             3            1.00   59.71   24.41    4   41.00   58.00   75.00    133 ▂▇▇▃▁\n",
       "\n",
       "  relationsatisf_0                   3            1.00   22.52    5.01    4   20.00   23.00   26.00     35 ▁▂▇▇▂\n",
       "\n",
       "  abuse_0                          538            0.42    4.45    4.55    0    1.00    3.00    6.75     24 ▇▃▁▁▁\n",
       "  ----------------------------------------------------------------------------------------------------------------\n"
      ]
     }
    }
   ],
   "source": [
    "data |> \n",
    "  select(age, edu, days_app_use:abuse_0, -gender_original, \n",
    "         -relationship_status, - relationship_status_open) |> \n",
    "  skimr::skim()"
   ],
   "id": "6a6356c8-22eb-46bb-a92e-96e0a66461b5"
  },
  {
   "cell_type": "markdown",
   "metadata": {},
   "source": [
    "Bivariate correlations with **Patient Primary Outcome** `per_heavy_drink_days`"
   ],
   "id": "56ea2079-abee-4ec7-805a-9cf7b7f7d0db"
  },
  {
   "cell_type": "code",
   "execution_count": null,
   "metadata": {},
   "outputs": [
    {
     "output_type": "stream",
     "name": "stdout",
     "text": [
      "    per_heavy_drink_days                   gender                      age \n",
      "                    1.00                    -0.03                     0.03 \n",
      "                     edu                   income     partner_relationship \n",
      "                   -0.13                    -0.19                    -0.06 \n",
      "              employment             days_app_use       per_days_abstinent \n",
      "                   -0.03                    -0.14                    -0.75 \n",
      "             meetings_yn       outpatient_yn_ever other_psych_treatment_yn \n",
      "                   -0.12                    -0.10                    -0.07 \n",
      "              er_yn_ever                   mat_yn     other_medications_yn \n",
      "                   -0.08                     0.01                    -0.02 \n",
      "       inpatient_yn_ever      relationship_status              oq45_scored \n",
      "                   -0.08                     0.03                     0.30 \n",
      "   relationsatisf_scored             abuse_scored       peersupport_scored \n",
      "                   -0.12                    -0.04                    -0.23 \n",
      "         socrates_scored            dsm5_criteria          race_white_only \n",
      "                   -0.43                    -0.09                    -0.06 "
     ]
    }
   ],
   "source": [
    "cor_patient <- data |> \n",
    "  filter(dyad == \"Patient\") |> \n",
    "  select(per_heavy_drink_days, gender:race_white_only, \n",
    "         -c(relationship_status_open, gender_original, treatmentskills_scored)) |> \n",
    "  mutate(across(where(is.factor), as.numeric)) |> \n",
    "  cor(use = \"pairwise.complete.obs\") |> \n",
    "  round(2)\n",
    "\n",
    "cor_patient[,1]"
   ],
   "id": "382b3104-d528-4ebe-b514-231ae0347abe"
  },
  {
   "cell_type": "markdown",
   "metadata": {},
   "source": [
    "Bivariate correlations with **Partner Primary Outcome** `oq45_scored`"
   ],
   "id": "90520c1b-9a7e-41bf-8918-940293aefbb0"
  },
  {
   "cell_type": "code",
   "execution_count": null,
   "metadata": {},
   "outputs": [
    {
     "output_type": "stream",
     "name": "stdout",
     "text": [
      "             oq45_scored                   gender                      age \n",
      "                    1.00                    -0.01                    -0.13 \n",
      "                     edu                   income     partner_relationship \n",
      "                   -0.18                    -0.09                    -0.11 \n",
      "              employment             days_app_use              meetings_yn \n",
      "                    0.07                    -0.14                     0.04 \n",
      "      outpatient_yn_ever other_psych_treatment_yn               er_yn_ever \n",
      "                    0.12                     0.19                     0.05 \n",
      "                  mat_yn     other_medications_yn        inpatient_yn_ever \n",
      "                    0.09                     0.26                     0.16 \n",
      "     relationship_status    relationsatisf_scored             abuse_scored \n",
      "                   -0.01                    -0.42                     0.36 \n",
      "  treatmentskills_scored       peersupport_scored          race_white_only \n",
      "                   -0.20                    -0.01                     0.00 "
     ]
    }
   ],
   "source": [
    "cor_partner <- data |> \n",
    "  filter(dyad == \"Partner\") |> \n",
    "  select(oq45_scored, gender:race_white_only, \n",
    "         -c(relationship_status_open, gender_original, \n",
    "            socrates_scored, dsm5_criteria, per_days_abstinent, \n",
    "            per_heavy_drink_days)) |> \n",
    "  mutate(across(where(is.factor), as.numeric)) |> \n",
    "  cor(use = \"pairwise.complete.obs\") |> \n",
    "  round(2)\n",
    "\n",
    "cor_partner[,1]"
   ],
   "id": "203a1112-558f-4a5d-b5cb-d660fad98f2e"
  },
  {
   "cell_type": "markdown",
   "metadata": {},
   "source": [
    "### Save out processed data for analyses"
   ],
   "id": "5ca3571f-21a8-4b1e-afde-313064563dcf"
  },
  {
   "cell_type": "code",
   "execution_count": null,
   "metadata": {},
   "outputs": [],
   "source": [
    "data |> \n",
    "  write_csv(here::here(path_data, \"famchess_data_ana.csv\"))"
   ],
   "id": "838bb70b-2e17-47d9-bee6-3d150dc2c98a"
  }
 ],
 "nbformat": 4,
 "nbformat_minor": 5,
 "metadata": {}
}

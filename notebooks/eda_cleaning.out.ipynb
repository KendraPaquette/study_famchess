{
 "cells": [
  {
   "cell_type": "markdown",
   "metadata": {},
   "source": [
    "# famCHESS Cleaning EDA\n",
    "\n",
    "Kendra Wyant\n",
    "\n",
    "## Notes\n",
    "\n",
    "This script reads in the cleaned famCHESS data and performs EDA on final variables.\n",
    "\n",
    "## Setup"
   ],
   "id": "f21566a6-ff9e-4a1e-b567-3cc479866c58"
  },
  {
   "cell_type": "code",
   "execution_count": null,
   "metadata": {},
   "outputs": [
    {
     "output_type": "stream",
     "name": "stderr",
     "text": [
      "ℹ SHA-1 hash of file is \"a58e57da996d1b70bb9a5b58241325d6fd78890f\""
     ]
    }
   ],
   "source": [
    "options(conflicts.policy = \"depends.ok\")\n",
    "suppressMessages(library(tidyverse))\n",
    "suppressMessages(library(janitor))\n",
    "library(Matrix, exclude = c(\"expand\", \"pack\", \"unpack\"))\n",
    "library(lme4)\n",
    "theme_set(theme_classic()) \n",
    "\n",
    "devtools::source_url(\"https://github.com/jjcurtin/lab_support/blob/main/format_path.R?raw=true\")\n"
   ],
   "id": "7a267cd9-c251-4823-a21a-12bde46a5666"
  },
  {
   "cell_type": "markdown",
   "metadata": {},
   "source": [
    "## Data\n",
    "\n",
    "### Cleaning"
   ],
   "id": "d5720043-debc-4f62-a266-e7ba7593fd56"
  },
  {
   "cell_type": "code",
   "execution_count": null,
   "metadata": {},
   "outputs": [],
   "source": [
    "data <- haven::read_sav(here::here(path_data, \"Famchess_clean_combined_FINAL.sav\")) |> \n",
    "  clean_names() \n",
    "\n",
    "dsm <- haven::read_sav(here::here(path_data, \"FamCHESS_DSM5.sav\")) |> \n",
    "  clean_names() # for stratification check\n"
   ],
   "id": "79ee63ae-c348-4488-a878-f8c67802d133"
  },
  {
   "cell_type": "markdown",
   "metadata": {},
   "source": [
    "Remove participants with inaccurate data (from Olivia’s script):\n",
    "\n",
    "-   167PT (baseline and 4 month): FAM passed away after baseline\n",
    "-   208FAM & 208PT (noted on all timepoints): Might be wholly unreliable since we suspect he is his own partner\n",
    "-   365PT (noted on 1 timepoint): Answered relationship questions about her dog, not her son\n",
    "-   365FAM (noted on 1 timepoint): Answered relationship questions about romantic partner, not his mom"
   ],
   "id": "d139effa-6210-4ec6-8358-bc2c5c771ab7"
  },
  {
   "cell_type": "code",
   "execution_count": null,
   "metadata": {},
   "outputs": [],
   "source": [
    "data <- data |> \n",
    "  filter(!study_id %in% c(\"167PT\", \"208FAM\", \"208PT\", \"365PT\", \"365FAM\"))\n"
   ],
   "id": "4a478b90-fa13-498b-89bd-8e9f27e874f0"
  },
  {
   "cell_type": "markdown",
   "metadata": {},
   "source": [
    "Recode variables (from Olivia’s script)\n",
    "\n",
    "195PT: reported prefer not to say for gender on baseline but reported male in TLFB data. Changing to male to match TLFB."
   ],
   "id": "be07c67d-4794-41f6-be70-0ca3e0d6ad0f"
  },
  {
   "cell_type": "code",
   "execution_count": null,
   "metadata": {},
   "outputs": [],
   "source": [
    "data <- data |> \n",
    "  mutate(gender = if_else(study_id == \"195PT\", 2, gender))\n"
   ],
   "id": "520cb6d9-470f-4a5a-b482-94f4826854ba"
  },
  {
   "cell_type": "markdown",
   "metadata": {},
   "source": [
    "Gender - 2 levels (male / non-male) - TLFB is also coded this way\n",
    "\n",
    "-   500PT: non-binary\n",
    "-   128FAM: Transgender women\n",
    "\n",
    "*KW: currently setting these two people to Non-male, however, I saw this in scales/measures doc - not enough non-man/ women responses to have 3rd level. For patients, those who don’t fall into groups set to missing*"
   ],
   "id": "ab4034e3-35d1-484a-a9aa-dfb9c8111873"
  },
  {
   "cell_type": "code",
   "execution_count": null,
   "metadata": {},
   "outputs": [
    {
     "output_type": "stream",
     "name": "stdout",
     "text": [
      " data$gender_original   n     percent valid_percent\n",
      "                    1 775 0.567765568   0.569434240\n",
      "                    2 580 0.424908425   0.426157237\n",
      "                    3   2 0.001465201   0.001469508\n",
      "                    5   4 0.002930403   0.002939015\n",
      "                   NA   4 0.002930403            NA"
     ]
    },
    {
     "output_type": "stream",
     "name": "stdout",
     "text": [
      " data$gender   n     percent valid_percent\n",
      "           1 781 0.572161172     0.5738428\n",
      "           2 580 0.424908425     0.4261572\n",
      "          NA   4 0.002930403            NA"
     ]
    }
   ],
   "source": [
    "data <- data |> \n",
    "  mutate(gender_original = gender, \n",
    "         gender = if_else(gender != 2, 1, gender),\n",
    "         gender = sjlabelled::set_labels(gender, labels = c(\"Non-male\", \"Male\"))) \n",
    "\n",
    "tabyl(data$gender_original)\n"
   ],
   "id": "d72fae21-19a7-4be5-ba35-2ea78a0e243d"
  },
  {
   "cell_type": "markdown",
   "metadata": {},
   "source": [
    "Create binary covariate for race/ethnicity defined as: White only (non-Hispanic) vs. not White only"
   ],
   "id": "2304f5cc-a6e2-45ea-a7f1-d2d675e49a21"
  },
  {
   "cell_type": "code",
   "execution_count": null,
   "metadata": {},
   "outputs": [
    {
     "output_type": "stream",
     "name": "stdout",
     "text": [
      " data$race_white_only    n     percent valid_percent\n",
      "                    0  335 0.245421245     0.2461425\n",
      "                    1 1026 0.751648352     0.7538575\n",
      "                   NA    4 0.002930403            NA"
     ]
    }
   ],
   "source": [
    "data <- data |> \n",
    "  mutate(race_white_only = if_else(ethnicity == 0 & race_1 == 1 &\n",
    "                                     race_2 == 0 & race_3 == 0 &\n",
    "                                     race_4 == 0 & race_5 == 0 &\n",
    "                                     race_6 == 0, 1, 0))\n",
    "\n",
    "tabyl(data$race_white_only)\n"
   ],
   "id": "6d074103-f3e9-447b-8305-1e768e454a08"
  },
  {
   "cell_type": "markdown",
   "metadata": {},
   "source": [
    "Center non-binary covariates: age and edu"
   ],
   "id": "5df425cd-b89e-45bb-9c62-1f6f57e8278d"
  },
  {
   "cell_type": "code",
   "execution_count": null,
   "metadata": {},
   "outputs": [],
   "source": [
    "data <- data |> \n",
    "  mutate(age_c = age - mean(age, na.rm = TRUE))\n"
   ],
   "id": "54005a37-9dee-4fdc-8b6a-c1b388709b31"
  },
  {
   "cell_type": "markdown",
   "metadata": {},
   "source": [
    "*KW: education is not continuous. Is centering best transformation? Maybe instead pick a certain level? Centering on mean for now*"
   ],
   "id": "ab6620e3-ad8d-472a-879f-6dc9d646565c"
  },
  {
   "cell_type": "code",
   "execution_count": null,
   "metadata": {},
   "outputs": [
    {
     "output_type": "stream",
     "name": "stdout",
     "text": [
      "[1] \"8th grade or less\"                     \n",
      "[2] \"Some high school, but did not graduate\"\n",
      "[3] \"High school graduate or GED\"           \n",
      "[4] \"Some college or 2 year degree\"         \n",
      "[5] \"4-year college graduate\"               \n",
      "[6] \"More than 4-year college degree\"       "
     ]
    },
    {
     "output_type": "stream",
     "name": "stdout",
     "text": [
      "[1] 4.274798"
     ]
    },
    {
     "output_type": "stream",
     "name": "stdout",
     "text": [
      " data$edu   n     percent valid_percent\n",
      "        1   8 0.005860806   0.005878031\n",
      "        2  42 0.030769231   0.030859662\n",
      "        3 266 0.194871795   0.195444526\n",
      "        4 510 0.373626374   0.374724467\n",
      "        5 322 0.235897436   0.236590742\n",
      "        6 213 0.156043956   0.156502572\n",
      "       NA   4 0.002930403            NA"
     ]
    }
   ],
   "source": [
    "sjlabelled::get_labels(data$edu)\n"
   ],
   "id": "0fbceea0-d238-49a6-95c8-e31871cd70f8"
  },
  {
   "cell_type": "markdown",
   "metadata": {},
   "source": [
    "Recode data to have baseline scores of outcomes as covariate\n",
    "\n",
    "*KW: 36 study ids provided baseline info but no data at later time points*"
   ],
   "id": "7b249ce0-ecf2-49a1-b3c2-b54a79e474d6"
  },
  {
   "cell_type": "code",
   "execution_count": null,
   "metadata": {},
   "outputs": [
    {
     "output_type": "stream",
     "name": "stdout",
     "text": [
      "# A tibble: 36 × 6\n",
      "   study_id hdd_0 pda_0 oq45_0 relationsatisf_0 abuse_0\n",
      "   <chr>    <dbl> <dbl>  <dbl>            <dbl>   <dbl>\n",
      " 1 110PT    100     0       25               25      NA\n",
      " 2 111PT     30.6  44.6     50               26      NA\n",
      " 3 117FAM    NA    NA       32               18      NA\n",
      " 4 119FAM    NA    NA       29               27       3\n",
      " 5 119PT     98.3   0.8     64               25      NA\n",
      " 6 121PT     33.9  66.1     68               31      26\n",
      " 7 125PT     26.4  73.6     74               21      NA\n",
      " 8 130FAM    NA    NA       94               23       7\n",
      " 9 130PT     99.2   0.8    109               25       2\n",
      "10 139PT      9.2  90.8     80               21      NA\n",
      "11 140FAM    NA    NA       61               20      NA\n",
      "12 148FAM    NA    NA       70               17       4\n",
      "13 148PT     99.2   0.8     74               18       2\n",
      "14 149PT     75    23.3     30               25      NA\n",
      "15 155FAM    NA    NA       35               17       2\n",
      "16 155PT     NA    NA       70               14      NA\n",
      "17 156FAM    NA    NA       14               20      NA\n",
      "18 167FAM    NA    NA       15               14      NA\n",
      "19 181PT     44.7   2.4     45               20       3\n",
      "20 190FAM    NA    NA       30               17      NA\n",
      "21 190PT      3.3   0       48               19      NA\n",
      "22 198PT     29.2   7.5     33               27      NA\n",
      "23 199PT     14.9  83.5     57               27      NA\n",
      "24 203FAM    NA    NA       63               21       1\n",
      "25 203PT     60.3  39.7     28               24      NA\n",
      "26 205FAM    NA    NA       28               24      NA\n",
      "27 205PT     79.3  20.7     45               24      NA\n",
      "28 209PT     53.3  32.5     52               20       1\n",
      "29 303FAM    NA    NA       54               21      21\n",
      "30 303PT     43.3  56.7    110               24      19\n",
      "31 314FAM    NA    NA       81               14      24\n",
      "32 314PT     45.5  54.5    124               17      36\n",
      "33 315FAM    NA    NA       71               10       8\n",
      "34 337FAM    NA    NA       95               18      NA\n",
      "35 358FAM    NA    NA       81               15      10\n",
      "36 362FAM    NA    NA       28               28      NA"
     ]
    }
   ],
   "source": [
    "baseline_values <- data |>  \n",
    "  filter(time == 0) |> \n",
    "  select(study_id, \n",
    "         hdd_0 = per_heavy_drink_days, \n",
    "         pda_0 = per_days_abstinent, \n",
    "         oq45_0 = oq45_scored, \n",
    "         relationsatisf_0 = relationsatisf_scored, \n",
    "         abuse_0 = abuse_scored)\n",
    "\n",
    "baseline_values |> \n",
    "  filter(!study_id %in% subset(data, time != 0)$study_id) |> \n",
    "  print(n = Inf)\n"
   ],
   "id": "736a7411-d677-4af6-82bc-db98a4e5e2c2"
  },
  {
   "cell_type": "code",
   "execution_count": null,
   "metadata": {},
   "outputs": [],
   "source": [
    "data <- data |> \n",
    "  filter(time != 0) |> \n",
    "  full_join(baseline_values, by = \"study_id\")\n"
   ],
   "id": "d87081dd-a424-4d6d-a444-493b799fb5f6"
  },
  {
   "cell_type": "markdown",
   "metadata": {},
   "source": [
    "*KW: confirm this is okay with John - remove 36 individuals with only baseline data*\n",
    "\n",
    "*KW: Remove partners too?*"
   ],
   "id": "d384589b-425f-4c40-b686-2bfbd5694a6c"
  },
  {
   "cell_type": "code",
   "execution_count": null,
   "metadata": {},
   "outputs": [
    {
     "output_type": "stream",
     "name": "stdout",
     "text": [
      "# A tibble: 53 × 2\n",
      "   study_id dyad_id\n",
      "   <chr>    <chr>  \n",
      " 1 110FAM   110    \n",
      " 2 110PT    110    \n",
      " 3 111FAM   111    \n",
      " 4 111PT    111    \n",
      " 5 117PT    117    \n",
      " 6 117FAM   117    \n",
      " 7 119FAM   119    \n",
      " 8 119PT    119    \n",
      " 9 121FAM   121    \n",
      "10 121PT    121    \n",
      "11 125FAM   125    \n",
      "12 125PT    125    \n",
      "13 130FAM   130    \n",
      "14 130PT    130    \n",
      "15 139FAM   139    \n",
      "16 139PT    139    \n",
      "17 140PT    140    \n",
      "18 140FAM   140    \n",
      "19 148FAM   148    \n",
      "20 148PT    148    \n",
      "21 149FAM   149    \n",
      "22 149PT    149    \n",
      "23 155FAM   155    \n",
      "24 155PT    155    \n",
      "25 156PT    156    \n",
      "26 156FAM   156    \n",
      "27 167FAM   167    \n",
      "28 181FAM   181    \n",
      "29 181PT    181    \n",
      "30 190FAM   190    \n",
      "31 190PT    190    \n",
      "32 198FAM   198    \n",
      "33 198PT    198    \n",
      "34 199FAM   199    \n",
      "35 199PT    199    \n",
      "36 203FAM   203    \n",
      "37 203PT    203    \n",
      "38 205FAM   205    \n",
      "39 205PT    205    \n",
      "40 209FAM   209    \n",
      "41 209PT    209    \n",
      "42 303FAM   303    \n",
      "43 303PT    303    \n",
      "44 314FAM   314    \n",
      "45 314PT    314    \n",
      "46 315PT    315    \n",
      "47 315FAM   315    \n",
      "48 337PT    337    \n",
      "49 337FAM   337    \n",
      "50 358PT    358    \n",
      "51 358FAM   358    \n",
      "52 362PT    362    \n",
      "53 362FAM   362    "
     ]
    }
   ],
   "source": [
    "dyad_ids <- baseline_values |> \n",
    "  mutate(dyad_id = str_sub(study_id, 1, 3)) |> \n",
    "  filter(!study_id %in% subset(data, time != 0)$study_id) |> \n",
    "  pull(dyad_id) |> \n",
    "  unique()\n",
    "  \n",
    "data |> \n",
    "  mutate(dyad_id = str_sub(study_id, 1, 3)) |> \n",
    "  filter(dyad_id %in% dyad_ids) |> \n",
    "  select(study_id, dyad_id) |> \n",
    "  unique() |> \n",
    "  arrange(dyad_id) |> \n",
    "  print(n = Inf)\n"
   ],
   "id": "3fc9dcae-745e-4c4f-a645-4ef780a0e09e"
  },
  {
   "cell_type": "markdown",
   "metadata": {},
   "source": [
    "Center baseline values of outcomes"
   ],
   "id": "f900ed8f-91d1-4905-9b11-72494a6e4940"
  },
  {
   "cell_type": "code",
   "execution_count": null,
   "metadata": {},
   "outputs": [],
   "source": [
    "data <- data |> \n",
    "  mutate(hdd_0 = hdd_0 - mean(hdd_0, na.rm = TRUE),\n",
    "         pda_0 = pda_0 - mean(pda_0, na.rm = TRUE),\n",
    "         oq45_0 = oq45_0 - mean(oq45_0, na.rm = TRUE),\n",
    "         relationsatisf_0 = relationsatisf_0 - mean(relationsatisf_0, na.rm = TRUE),\n",
    "         abuse_0 = abuse_0 - mean(abuse_0, na.rm = TRUE))\n"
   ],
   "id": "f4f6f4dc-c245-4a96-bfd2-c7d4d2d81b2a"
  },
  {
   "cell_type": "markdown",
   "metadata": {},
   "source": [
    "Center time at the end of the intervention period (8 months)."
   ],
   "id": "bf8df506-29a1-4bd9-b14e-7ce906662400"
  },
  {
   "cell_type": "code",
   "execution_count": null,
   "metadata": {},
   "outputs": [
    {
     "output_type": "stream",
     "name": "stdout",
     "text": [
      "[1] \"Baseline\" \"4 Month\"  \"8 Month\"  \"12 Month\""
     ]
    },
    {
     "output_type": "stream",
     "name": "stdout",
     "text": [
      " data$time   n   percent\n",
      "         1 328 0.3534483\n",
      "         2 315 0.3394397\n",
      "         3 285 0.3071121"
     ]
    }
   ],
   "source": [
    "sjlabelled::get_labels(data$time)\n"
   ],
   "id": "dfeba9a6-6340-41fb-8526-b5a3878e8069"
  },
  {
   "cell_type": "markdown",
   "metadata": {},
   "source": [
    "### EDA\n",
    "\n",
    "Remove vars not used in analyses (e.g., keep scale score and remove individual items).\n",
    "\n",
    "*KW: COVID acute/residual symptoms was originally listed as covariate but was removed per measures doc (Participants interpreted question differently).*\n",
    "\n",
    "*KW: phq, promis, loneliness, coping, interaction scales not scored or in measures doc. Removed from analyses data set.*"
   ],
   "id": "bdf48685-60a1-4c54-84c7-704a155faaad"
  },
  {
   "cell_type": "code",
   "execution_count": null,
   "metadata": {},
   "outputs": [
    {
     "output_type": "stream",
     "name": "stdout",
     "text": [
      "Rows: 928\n",
      "Columns: 44\n",
      "$ study_id                    <chr> \"100FAM\", \"100FAM\", \"100FAM\", \"100PT\", \"10…\n",
      "$ dyad                        <dbl+lbl> 1, 1, 1, 2, 2, 2, 1, 1, 1, 2, 2, 2, 1,…\n",
      "$ arm                         <dbl+lbl> 1, 1, 1, 1, 1, 1, 0, 0, 0, 0, 0, 0, 2,…\n",
      "$ group                       <dbl+lbl> 4, 4, 4, 1, 1, 1, 3, 3, 3, 0, 0, 0, 5,…\n",
      "$ time_string                 <chr> \"4 Month\", \"8 Month\", \"12 Month\", \"12 Mont…\n",
      "$ time                        <dbl+lbl> 1, 2, 3, 3, 1, 2, 1, 2, 3, 1, 2, 3, 1,…\n",
      "$ comments                    <chr> \"\", \"\", \"\", \"\", \"\", \"\", \"\", \"\", \"\", \"\", \"\"…\n",
      "$ gender                      <dbl+lbl> 1, 1, 1, 2, 2, 2, 1, 1, 1, 2, 2, 2, 1,…\n",
      "$ age                         <dbl> 55, 55, 55, 56, 56, 56, 62, 62, 62, 66, 66…\n",
      "$ edu                         <dbl+lbl> 4, 4, 4, 3, 3, 3, 4, 4, 4, 3, 3, 3, 6,…\n",
      "$ income                      <dbl+lbl> 3, 3, 3, 3, 3, 3, 4, 4, 4, 4, 4, 4, 4,…\n",
      "$ partner_relationship        <dbl+lbl> 1, 1, 1, 1, 1, 1, 1, 1, 1, 1, 1, 1, 5,…\n",
      "$ employment                  <dbl+lbl> 1, 1, 1, 1, 1, 1, 0, 0, 0, 0, 0, 0, 0,…\n",
      "$ days_app_use                <dbl> NA, NA, NA, 8, 32, 12, NA, NA, NA, NA, NA,…\n",
      "$ per_days_abstinent          <dbl> NA, NA, NA, 0.0, 0.0, 0.0, NA, NA, NA, 98.…\n",
      "$ per_heavy_drink_days        <dbl> NA, NA, NA, 100.0, 90.8, 100.0, NA, NA, NA…\n",
      "$ meetings_yn                 <dbl+lbl> 0, 0, 0, 0, 0, 0, 0, 1, 0, 1, 1, 1, 0,…\n",
      "$ outpatient_yn_ever          <dbl+lbl> 0, 0, 0, 0, 0, 0, 0, 0, 0, 0, 0, 0, 0,…\n",
      "$ other_psych_treatment_yn    <dbl+lbl> 0, 0, 0, 0, 0, 0, 0, 0, 0, 1, 0, 0, 0,…\n",
      "$ er_yn_ever                  <dbl+lbl> 0, 0, 0, 0, 0, 0, 0, 0, 0, 0, 0, 0, 0,…\n",
      "$ mat_yn                      <dbl+lbl> 0, 0, 0, 0, 0, 0, 0, 0, 0, 0, 0, 0, 0,…\n",
      "$ other_medications_yn        <dbl+lbl> 0, 0, 0, 0, 0, 0, 0, 0, 0, 1, 0, 0, 0,…\n",
      "$ inpatient_yn_ever           <dbl+lbl> 0, 0, 0, 0, 0, 0, 0, 0, 0, 0, 0, 0, 0,…\n",
      "$ readmits_yn                 <dbl+lbl> NA, NA, NA, NA, NA, NA, NA, NA, NA, NA…\n",
      "$ relationship_status         <dbl+lbl> 1, 1, 1, 1, 1, 1, 1, 1, 1, 1, 1, 1, 1,…\n",
      "$ relationship_status_open    <chr> \"\", \"\", \"\", \"\", \"\", \"\", \"\", \"\", \"\", \"\", \"\"…\n",
      "$ oq45_scored                 <dbl> 48, 58, 64, 48, 68, 70, 26, 37, 40, 44, 44…\n",
      "$ relationsatisf_scored       <dbl> 15, 9, 30, 24, 22, 20, 30, 29, 32, 25, 25,…\n",
      "$ abuse_scored                <dbl> 4, 7, 8, 15, 4, 2, 4, 0, 2, 0, NA, NA, 2, …\n",
      "$ treatmentskills_scored      <dbl> 2.888889, 2.722222, 3.277778, NA, NA, NA, …\n",
      "$ peersupport_scored          <dbl> 3.4, 2.6, 2.8, 2.4, 2.2, 2.8, 2.8, 3.6, 2.…\n",
      "$ socrates_scored             <dbl> NA, NA, NA, 33, 34, 24, NA, NA, NA, 39, 37…\n",
      "$ socrates_recognition_scored <dbl> NA, NA, NA, 34, 32, 34, NA, NA, NA, 35, 35…\n",
      "$ socrates_ambivalence_scored <dbl> NA, NA, NA, 17, 18, 17, NA, NA, NA, 13, 14…\n",
      "$ gender_original             <dbl+lbl> 1, 1, 1, 2, 2, 2, 1, 1, 1, 2, 2, 2, 1,…\n",
      "$ race_white_only             <dbl> 0, 0, 0, 0, 0, 0, 1, 1, 1, 1, 1, 1, 1, 1, …\n",
      "$ age_c                       <dbl> 7.456153, 7.456153, 7.456153, 8.456153, 8.…\n",
      "$ edu_c                       <dbl> -0.2747979, -0.2747979, -0.2747979, -1.274…\n",
      "$ hdd_0                       <dbl> NA, NA, NA, 51.00129, 51.00129, 51.00129, …\n",
      "$ pda_0                       <dbl> NA, NA, NA, -37.4819, -37.4819, -37.4819, …\n",
      "$ oq45_0                      <dbl> -6.7124324, -6.7124324, -6.7124324, 0.2875…\n",
      "$ relationsatisf_0            <dbl> -1.52, -1.52, -1.52, -3.52, -3.52, -3.52, …\n",
      "$ abuse_0                     <dbl> 4.5461538, 4.5461538, 4.5461538, -2.453846…\n",
      "$ time_c                      <dbl> -1, 0, 1, 1, -1, 0, -1, 0, 1, -1, 0, 1, -1…"
     ]
    }
   ],
   "source": [
    "data <- data |> \n",
    "  select(-c(treatmentskills_1:treatmentskills_18_recode,\n",
    "            oq45_1:oq45_45, alcoholproblems_1:alcoholproblems_15, \n",
    "            relationsatisf_1:relationsatisf_8, phq_1:phq_8, \n",
    "            abuse_1:abuse_16_yes, promis29_1:promis29_8, \n",
    "            abuse_physical_scored:abuse_psychological_scored, gender_open,\n",
    "            loneliness_1:loneliness_8, healthservice_1, healthservice_2,\n",
    "            healthservice_3,healthservice_4,healthservice_5, \n",
    "            healthservice_5a_1:healthservice_5c, \n",
    "            healthservice_6a_1:healthservice_8a, healthservice_8b, \n",
    "            healthservice_9a, healthservice_9b, bonding_1:bonding_5, \n",
    "            socrates_1:socrates_20, coping_1:coping_25, \n",
    "            drinkinggoals:drinkinggoal_7_text, covid_1:covid_3f,\n",
    "            interaction_1:interaction_20, drink_druguse_1:drinkdruguse_8d,\n",
    "            employmentstatus:notemployed_open, ethnicity:race_open, \n",
    "            livewith_1:livewith_open, er_yn, outpatient_yn, \n",
    "            inpatient_yn, n_days, mean_drinks_per_day, per_drink_days, \n",
    "            covid_scored,redcap_event_name, recruitment_id)) |> \n",
    "  rename(other_medications_yn = healthservice_6,\n",
    "         readmits_yn = r_eadmits_yn) |>  # renaming for descriptive/consistency\n",
    "  relocate(study_id) |> \n",
    "  glimpse()\n"
   ],
   "id": "98adefb7-2252-479c-b966-4d9fc9b6f0f2"
  },
  {
   "cell_type": "markdown",
   "metadata": {},
   "source": [
    "Number of participants"
   ],
   "id": "8ebe303a-bac4-4f65-ae81-ad8519d34959"
  },
  {
   "cell_type": "code",
   "execution_count": null,
   "metadata": {},
   "outputs": [
    {
     "output_type": "stream",
     "name": "stdout",
     "text": [
      "[1] 340"
     ]
    },
    {
     "output_type": "stream",
     "name": "stdout",
     "text": [
      "[1] 170"
     ]
    },
    {
     "output_type": "stream",
     "name": "stdout",
     "text": [
      "[1] 170"
     ]
    }
   ],
   "source": [
    "data |> \n",
    "  pull(study_id) |>\n",
    "  unique() |> \n",
    "  length() # 340\n"
   ],
   "id": "b75298af-684f-4f36-94b7-96968bf6aa6a"
  },
  {
   "cell_type": "markdown",
   "metadata": {},
   "source": [
    "Complete dyad (patient + partner) for all participants"
   ],
   "id": "d032cdbc-ad69-46ba-90c3-10767fca3687"
  },
  {
   "cell_type": "code",
   "execution_count": null,
   "metadata": {},
   "outputs": [
    {
     "output_type": "stream",
     "name": "stdout",
     "text": [
      "# A tibble: 0 × 2\n",
      "# Groups:   dyad_id [0]\n",
      "# ℹ 2 variables: dyad_id <chr>, n <int>"
     ]
    }
   ],
   "source": [
    "data |> \n",
    "  select(study_id) |> \n",
    "  unique() |> \n",
    "  mutate(dyad_id = str_sub(study_id, 1, 3)) |> \n",
    "  group_by(dyad_id) |> \n",
    "  count() |> \n",
    "  filter(n != 2)\n"
   ],
   "id": "a996d6ab-a3f8-4a1e-8041-dd3c36118df2"
  },
  {
   "cell_type": "markdown",
   "metadata": {},
   "source": [
    "Missing data"
   ],
   "id": "fd3ec444-afc3-47c2-8ce3-640504978376"
  },
  {
   "cell_type": "code",
   "execution_count": null,
   "metadata": {},
   "outputs": [
    {
     "output_type": "stream",
     "name": "stdout",
     "text": [
      "# A tibble: 44 × 3\n",
      "   variable                    n_miss pct_miss\n",
      "   <chr>                        <int>    <num>\n",
      " 1 readmits_yn                    903   97.3  \n",
      " 2 abuse_scored                   680   73.3  \n",
      " 3 abuse_0                        538   58.0  \n",
      " 4 per_days_abstinent             498   53.7  \n",
      " 5 per_heavy_drink_days           498   53.7  \n",
      " 6 socrates_scored                493   53.1  \n",
      " 7 socrates_recognition_scored    493   53.1  \n",
      " 8 socrates_ambivalence_scored    493   53.1  \n",
      " 9 treatmentskills_scored         479   51.6  \n",
      "10 hdd_0                          464   50    \n",
      "11 pda_0                          464   50    \n",
      "12 days_app_use                   455   49.0  \n",
      "13 other_medications_yn            42    4.53 \n",
      "14 mat_yn                          39    4.20 \n",
      "15 peersupport_scored              39    4.20 \n",
      "16 meetings_yn                     36    3.88 \n",
      "17 other_psych_treatment_yn        36    3.88 \n",
      "18 relationship_status             35    3.77 \n",
      "19 oq45_scored                     35    3.77 \n",
      "20 relationsatisf_scored           35    3.77 \n",
      "21 income                          15    1.62 \n",
      "22 age                              6    0.647\n",
      "23 age_c                            6    0.647\n",
      "24 gender                           3    0.323\n",
      "25 edu                              3    0.323\n",
      "26 partner_relationship             3    0.323\n",
      "27 employment                       3    0.323\n",
      "28 gender_original                  3    0.323\n",
      "29 race_white_only                  3    0.323\n",
      "30 edu_c                            3    0.323\n",
      "31 oq45_0                           3    0.323\n",
      "32 relationsatisf_0                 3    0.323\n",
      "33 study_id                         0    0    \n",
      "34 dyad                             0    0    \n",
      "35 arm                              0    0    \n",
      "36 group                            0    0    \n",
      "37 time_string                      0    0    \n",
      "38 time                             0    0    \n",
      "39 comments                         0    0    \n",
      "40 outpatient_yn_ever               0    0    \n",
      "41 er_yn_ever                       0    0    \n",
      "42 inpatient_yn_ever                0    0    \n",
      "43 relationship_status_open         0    0    \n",
      "44 time_c                           0    0    "
     ]
    }
   ],
   "source": [
    "data |> \n",
    "  naniar::miss_var_summary() |> \n",
    "  print(n = Inf)\n"
   ],
   "id": "7d5c7a01-8e96-4357-b137-80180564948d"
  },
  {
   "cell_type": "markdown",
   "metadata": {},
   "source": [
    "Missing data for just patients\n",
    "\n",
    "-   treatmentskills not applicable to patients\n",
    "-   abuse and readmits have high missing data\n",
    "-   Why days_app_use missing so high?"
   ],
   "id": "d37aa88a-2521-4e8a-a0da-240b0198cce2"
  },
  {
   "cell_type": "code",
   "execution_count": null,
   "metadata": {},
   "outputs": [
    {
     "output_type": "stream",
     "name": "stdout",
     "text": [
      "# A tibble: 44 × 3\n",
      "   variable                    n_miss pct_miss\n",
      "   <chr>                        <int>    <num>\n",
      " 1 treatmentskills_scored         464  100    \n",
      " 2 readmits_yn                    440   94.8  \n",
      " 3 abuse_scored                   370   79.7  \n",
      " 4 abuse_0                        291   62.7  \n",
      " 5 days_app_use                   151   32.5  \n",
      " 6 per_days_abstinent              34    7.33 \n",
      " 7 per_heavy_drink_days            34    7.33 \n",
      " 8 other_medications_yn            30    6.47 \n",
      " 9 mat_yn                          29    6.25 \n",
      "10 socrates_scored                 29    6.25 \n",
      "11 socrates_recognition_scored     29    6.25 \n",
      "12 socrates_ambivalence_scored     29    6.25 \n",
      "13 peersupport_scored              28    6.03 \n",
      "14 meetings_yn                     26    5.60 \n",
      "15 other_psych_treatment_yn        26    5.60 \n",
      "16 relationship_status             25    5.39 \n",
      "17 oq45_scored                     25    5.39 \n",
      "18 relationsatisf_scored           25    5.39 \n",
      "19 income                          12    2.59 \n",
      "20 age                              6    1.29 \n",
      "21 age_c                            6    1.29 \n",
      "22 gender                           3    0.647\n",
      "23 edu                              3    0.647\n",
      "24 partner_relationship             3    0.647\n",
      "25 employment                       3    0.647\n",
      "26 gender_original                  3    0.647\n",
      "27 race_white_only                  3    0.647\n",
      "28 edu_c                            3    0.647\n",
      "29 oq45_0                           3    0.647\n",
      "30 relationsatisf_0                 3    0.647\n",
      "31 study_id                         0    0    \n",
      "32 dyad                             0    0    \n",
      "33 arm                              0    0    \n",
      "34 group                            0    0    \n",
      "35 time_string                      0    0    \n",
      "36 time                             0    0    \n",
      "37 comments                         0    0    \n",
      "38 outpatient_yn_ever               0    0    \n",
      "39 er_yn_ever                       0    0    \n",
      "40 inpatient_yn_ever                0    0    \n",
      "41 relationship_status_open         0    0    \n",
      "42 hdd_0                            0    0    \n",
      "43 pda_0                            0    0    \n",
      "44 time_c                           0    0    "
     ]
    }
   ],
   "source": [
    "data |> \n",
    "  filter(dyad == 2) |> \n",
    "  naniar::miss_var_summary() |> \n",
    "  print(n = Inf)\n"
   ],
   "id": "d3cebd3b-6d9c-4539-9341-0fbaaae3871b"
  },
  {
   "cell_type": "markdown",
   "metadata": {},
   "source": [
    "Remove `readmits_yn` as covariate due to low endorsement\n",
    "\n",
    "*KW: not sure why so many NAs*"
   ],
   "id": "fc617106-72e1-40f0-9275-a30e6917e693"
  },
  {
   "cell_type": "code",
   "execution_count": null,
   "metadata": {},
   "outputs": [
    {
     "output_type": "stream",
     "name": "stdout",
     "text": [
      "[1] \"No\"  \"Yes\""
     ]
    }
   ],
   "source": [
    "sjlabelled::get_labels(data$readmits_yn)\n"
   ],
   "id": "8e16dcf2-4ba4-49e9-b334-4584c0841fc5"
  },
  {
   "cell_type": "markdown",
   "metadata": {},
   "source": [
    "Missing data for partners"
   ],
   "id": "cdc0034a-970e-4031-b99e-0cf04d20e2b6"
  },
  {
   "cell_type": "code",
   "execution_count": null,
   "metadata": {},
   "outputs": [
    {
     "output_type": "stream",
     "name": "stdout",
     "text": [
      "# A tibble: 43 × 3\n",
      "   variable                    n_miss pct_miss\n",
      "   <chr>                        <int>    <num>\n",
      " 1 per_days_abstinent             464  100    \n",
      " 2 per_heavy_drink_days           464  100    \n",
      " 3 socrates_scored                464  100    \n",
      " 4 socrates_recognition_scored    464  100    \n",
      " 5 socrates_ambivalence_scored    464  100    \n",
      " 6 hdd_0                          464  100    \n",
      " 7 pda_0                          464  100    \n",
      " 8 abuse_scored                   310   66.8  \n",
      " 9 days_app_use                   304   65.5  \n",
      "10 abuse_0                        247   53.2  \n",
      "11 treatmentskills_scored          15    3.23 \n",
      "12 other_medications_yn            12    2.59 \n",
      "13 peersupport_scored              11    2.37 \n",
      "14 meetings_yn                     10    2.16 \n",
      "15 other_psych_treatment_yn        10    2.16 \n",
      "16 mat_yn                          10    2.16 \n",
      "17 relationship_status             10    2.16 \n",
      "18 oq45_scored                     10    2.16 \n",
      "19 relationsatisf_scored           10    2.16 \n",
      "20 income                           3    0.647\n",
      "21 study_id                         0    0    \n",
      "22 dyad                             0    0    \n",
      "23 arm                              0    0    \n",
      "24 group                            0    0    \n",
      "25 time_string                      0    0    \n",
      "26 time                             0    0    \n",
      "27 comments                         0    0    \n",
      "28 gender                           0    0    \n",
      "29 age                              0    0    \n",
      "30 edu                              0    0    \n",
      "31 partner_relationship             0    0    \n",
      "32 employment                       0    0    \n",
      "33 outpatient_yn_ever               0    0    \n",
      "34 er_yn_ever                       0    0    \n",
      "35 inpatient_yn_ever                0    0    \n",
      "36 relationship_status_open         0    0    \n",
      "37 gender_original                  0    0    \n",
      "38 race_white_only                  0    0    \n",
      "39 age_c                            0    0    \n",
      "40 edu_c                            0    0    \n",
      "41 oq45_0                           0    0    \n",
      "42 relationsatisf_0                 0    0    \n",
      "43 time_c                           0    0    "
     ]
    }
   ],
   "source": [
    "data |> \n",
    "  filter(dyad == 1) |> \n",
    "  naniar::miss_var_summary() |> \n",
    "  print(n = Inf)\n"
   ],
   "id": "fdf58459-ccbd-446e-b3a3-c203009e63ce"
  },
  {
   "cell_type": "markdown",
   "metadata": {},
   "source": [
    "Participants in each arm"
   ],
   "id": "a8a6de35-1d8c-49c4-9740-ea31a6e4f102"
  },
  {
   "cell_type": "code",
   "execution_count": null,
   "metadata": {},
   "outputs": [
    {
     "output_type": "stream",
     "name": "stdout",
     "text": [
      " arm   n   percent\n",
      "   0 108 0.3176471\n",
      "   1 118 0.3470588\n",
      "   2 114 0.3352941"
     ]
    }
   ],
   "source": [
    "data |> \n",
    "  group_by(study_id) |> \n",
    "  slice(1) |> \n",
    "  tabyl(arm)\n"
   ],
   "id": "e3804527-635c-4e83-a861-504aa72c6e67"
  },
  {
   "cell_type": "markdown",
   "metadata": {},
   "source": [
    "Check stratification variables in arms - patient gender identity and alcohol use severity (moderate or severe AUD)\n",
    "\n",
    "DSM5 criteria: 1 = severe, 2 = moderate, 3 = mild  \n",
    "Group: 0 = patient control, 1 = patient achess, 2 = patient famchess,"
   ],
   "id": "44a88f1e-ce0b-44fb-8205-3153837b7bb2"
  },
  {
   "cell_type": "code",
   "execution_count": null,
   "metadata": {},
   "outputs": [
    {
     "output_type": "stream",
     "name": "stdout",
     "text": [
      " group  1  2 NA_\n",
      "     0 22 31   1\n",
      "     1 26 33   0\n",
      "     2 23 34   0"
     ]
    },
    {
     "output_type": "stream",
     "name": "stdout",
     "text": [
      " group  1 2 3 NA_\n",
      "     0 51 1 1   1\n",
      "     1 58 1 0   0\n",
      "     2 50 6 1   0"
     ]
    }
   ],
   "source": [
    "data <- data |> \n",
    "  left_join(dsm |> select(study_id, dsm5_criteria), by = \"study_id\")\n",
    "\n",
    "data |> \n",
    "  filter(dyad == 2) |> \n",
    "  group_by(study_id) |> \n",
    "  slice(1) |> \n",
    "  tabyl(group, gender)\n"
   ],
   "id": "0ec637a0-8156-445c-ba80-f7eecf160332"
  },
  {
   "cell_type": "markdown",
   "metadata": {},
   "source": [
    "Demographic and study related variables\n",
    "\n",
    "Time string matches time"
   ],
   "id": "d9922e18-0c03-448d-82e9-d2921ce6593f"
  },
  {
   "cell_type": "code",
   "execution_count": null,
   "metadata": {},
   "outputs": [
    {
     "output_type": "stream",
     "name": "stdout",
     "text": [
      " time 12 Month 4 Month 8 Month\n",
      "    1        0     328       0\n",
      "    2        0       0     315\n",
      "    3      285       0       0"
     ]
    }
   ],
   "source": [
    "data |> \n",
    "  tabyl(time, time_string)\n"
   ],
   "id": "8ae97c87-bf64-4257-85a6-53b6704defd0"
  },
  {
   "cell_type": "markdown",
   "metadata": {},
   "source": [
    "*KW: discuss with John if we need to do anything with these notes*"
   ],
   "id": "d839f4c9-3375-41a7-8153-573dcde5292d"
  },
  {
   "cell_type": "code",
   "execution_count": null,
   "metadata": {},
   "outputs": [
    {
     "output_type": "stream",
     "name": "stdout",
     "text": [
      " [1] \"Missing TLFB\"                                                                                                                                                                                       \n",
      " [2] \"Missing TLFB\"                                                                                                                                                                                       \n",
      " [3] \"Missing survey data\"                                                                                                                                                                                \n",
      " [4] \"Missing TLFB\"                                                                                                                                                                                       \n",
      " [5] \"Missing TLFB\"                                                                                                                                                                                       \n",
      " [6] \"Exclude TLFB. 120pt is the one who had a traumatic brain injury, Dave and I both did their 4 month survey on accident because the participant didn't remember doing it. They gave different answers\"\n",
      " [7] \"Missing TLFB\"                                                                                                                                                                                       \n",
      " [8] \"Missing TLFB\"                                                                                                                                                                                       \n",
      " [9] \"TLFB complete but data was lost\"                                                                                                                                                                    \n",
      "[10] \"Missing TLFB\"                                                                                                                                                                                       \n",
      "[11] \"Missing survey data\"                                                                                                                                                                                \n",
      "[12] \"Missing TLFB\"                                                                                                                                                                                       \n",
      "[13] \"Missing survey data\"                                                                                                                                                                                \n",
      "[14] \"Missing survey data\"                                                                                                                                                                                \n",
      "[15] \"Missing survey data\"                                                                                                                                                                                \n",
      "[16] \"Missing survey data\"                                                                                                                                                                                \n",
      "[17] \"Missing survey data\"                                                                                                                                                                                \n",
      "[18] \"Missing TLFB\"                                                                                                                                                                                       \n",
      "[19] \"Missing TLFB\"                                                                                                                                                                                       \n",
      "[20] \"TLFB complete but data was lost\"                                                                                                                                                                    \n",
      "[21] \"Missing survey data\"                                                                                                                                                                                \n",
      "[22] \"Missing survey data\"                                                                                                                                                                                \n",
      "[23] \"Missing survey data\"                                                                                                                                                                                \n",
      "[24] \"Missing TLFB\"                                                                                                                                                                                       \n",
      "[25] \"Missing TLFB\"                                                                                                                                                                                       \n",
      "[26] \"Missing TLFB\"                                                                                                                                                                                       \n",
      "[27] \"disinterested, rushed, vague during timeline followbacks\"                                                                                                                                           \n",
      "[28] \"disinterested, rushed, vague during timeline followbacks\"                                                                                                                                           \n",
      "[29] \"disinterested, rushed, vague during timeline followbacks\"                                                                                                                                           \n",
      "[30] \"Missing TLFB\"                                                                                                                                                                                       \n",
      "[31] \"Missing TLFB\"                                                                                                                                                                                       \n",
      "[32] \"Missing TLFB\"                                                                                                                                                                                       \n",
      "[33] \"Missing TLFB\"                                                                                                                                                                                       \n",
      "[34] \"Missing TLFB\"                                                                                                                                                                                       \n",
      "[35] \"Missing TLFB\"                                                                                                                                                                                       \n",
      "[36] \"Missing TLFB\"                                                                                                                                                                                       \n",
      "[37] \"Missing TLFB\"                                                                                                                                                                                       \n",
      "[38] \"Missing survey data\"                                                                                                                                                                                \n",
      "[39] \"Missing survey data\"                                                                                                                                                                                \n",
      "[40] \"Unreliable answers, was drunk during survey\"                                                                                                                                                        \n",
      "[41] \"Unreliable answers, was drunk during survey\"                                                                                                                                                        \n",
      "[42] \"Unreliable answers, was drunk during survey\"                                                                                                                                                        \n",
      "[43] \"Missing survey data\"                                                                                                                                                                                \n",
      "[44] \"Missing survey data\"                                                                                                                                                                                \n",
      "[45] \"Note, only 53 days between 4 and 8 month survey\"                                                                                                                                                    \n",
      "[46] \"Note, only 37 days between 4 and 8 month survey\"                                                                                                                                                    \n",
      "[47] \"during qualitative interview, said partner was just their friend\"                                                                                                                                   \n",
      "[48] \"during qualitative interview, said partner was just their friend\"                                                                                                                                   \n",
      "[49] \"during qualitative interview, said partner was just their friend\"                                                                                                                                   \n",
      "[50] \"during qualitative interview, said partner was just their friend\"                                                                                                                                   \n",
      "[51] \"during qualitative interview, said partner was just their friend\"                                                                                                                                   \n",
      "[52] \"during qualitative interview, said partner was just their friend\"                                                                                                                                   \n",
      "[53] \"TLFB complete but data was lost\"                                                                                                                                                                    \n",
      "[54] \"Missing survey data\"                                                                                                                                                                                \n",
      "[55] \"Missing survey data\"                                                                                                                                                                                \n",
      "[56] \"TLFB complete but data was lost\"                                                                                                                                                                    \n",
      "[57] \"Missing survey data\"                                                                                                                                                                                \n",
      "[58] \"Missing survey data\"                                                                                                                                                                                \n",
      "[59] \"Missing TLFB\"                                                                                                                                                                                       \n",
      "attr(,\"format.spss\")\n",
      "[1] \"A5000\"\n",
      "attr(,\"display_width\")\n",
      "[1] 186"
     ]
    }
   ],
   "source": [
    "data |> \n",
    "  filter(!comments == \"\") |> \n",
    "  pull(comments)\n"
   ],
   "id": "e766cb28-f945-4425-b6df-6cd8d791252d"
  },
  {
   "cell_type": "markdown",
   "metadata": {},
   "source": [
    "Income"
   ],
   "id": "c75e9c8c-6bfb-47df-aa7e-ef1476673245"
  },
  {
   "cell_type": "code",
   "execution_count": null,
   "metadata": {},
   "outputs": [
    {
     "output_type": "stream",
     "name": "stdout",
     "text": [
      "[1] \"Less than $25,000\"    \"$25,000 to $34,999\"   \"$35,000 to $49,999\"  \n",
      "[4] \"$50,000 to $74,999\"   \"$75,000 to $99,999\"   \"$100,000 to $149,999\"\n",
      "[7] \"$150,000 to $199,999\" \"$200,000 or more\"    "
     ]
    },
    {
     "output_type": "stream",
     "name": "stdout",
     "text": [
      " data$income   n    percent valid_percent\n",
      "           1 177 0.19073276    0.19386637\n",
      "           2  57 0.06142241    0.06243154\n",
      "           3  91 0.09806034    0.09967141\n",
      "           4 192 0.20689655    0.21029573\n",
      "           5 160 0.17241379    0.17524644\n",
      "           6 144 0.15517241    0.15772180\n",
      "           7  65 0.07004310    0.07119387\n",
      "           8  27 0.02909483    0.02957284\n",
      "          NA  15 0.01616379            NA"
     ]
    }
   ],
   "source": [
    "sjlabelled::get_labels(data$income)\n"
   ],
   "id": "068caacb-40ee-475d-ae99-36366e7f79ae"
  },
  {
   "cell_type": "markdown",
   "metadata": {},
   "source": [
    "Partner relationship"
   ],
   "id": "c50a47ef-cb54-48e8-bd38-2e699792bff1"
  },
  {
   "cell_type": "code",
   "execution_count": null,
   "metadata": {},
   "outputs": [
    {
     "output_type": "stream",
     "name": "stdout",
     "text": [
      "[1] \"Romantic partner/spouse\" \"Parent\"                 \n",
      "[3] \"Adult child\"             \"Other family member\"    \n",
      "[5] \"Friend\"                  \"Recovery Coach\"         "
     ]
    },
    {
     "output_type": "stream",
     "name": "stdout",
     "text": [
      " data$partner_relationship   n     percent valid_percent\n",
      "                         1 614 0.661637931   0.663783784\n",
      "                         2  74 0.079741379   0.080000000\n",
      "                         3  73 0.078663793   0.078918919\n",
      "                         4  98 0.105603448   0.105945946\n",
      "                         5  63 0.067887931   0.068108108\n",
      "                         6   3 0.003232759   0.003243243\n",
      "                        NA   3 0.003232759            NA"
     ]
    }
   ],
   "source": [
    "sjlabelled::get_labels(data$partner_relationship)\n"
   ],
   "id": "5b1573fc-57a7-4dd7-bb08-e37b8fb320d7"
  },
  {
   "cell_type": "markdown",
   "metadata": {},
   "source": [
    "Employment"
   ],
   "id": "58125425-4ad0-414a-bd46-17e5f4f57852"
  },
  {
   "cell_type": "code",
   "execution_count": null,
   "metadata": {},
   "outputs": [
    {
     "output_type": "stream",
     "name": "stdout",
     "text": [
      "[1] \"No\"  \"Yes\""
     ]
    },
    {
     "output_type": "stream",
     "name": "stdout",
     "text": [
      " data$employment   n     percent valid_percent\n",
      "               0 315 0.339439655     0.3405405\n",
      "               1 610 0.657327586     0.6594595\n",
      "              NA   3 0.003232759            NA"
     ]
    }
   ],
   "source": [
    "sjlabelled::get_labels(data$employment)\n"
   ],
   "id": "120f9c0c-9f6b-43fc-ac23-ff00a0a0cd11"
  },
  {
   "cell_type": "markdown",
   "metadata": {},
   "source": [
    "Relationship status with partner"
   ],
   "id": "3ffe36c8-7bdd-4554-a096-cceaa0edd7d2"
  },
  {
   "cell_type": "code",
   "execution_count": null,
   "metadata": {},
   "outputs": [
    {
     "output_type": "stream",
     "name": "stdout",
     "text": [
      "[1] \"Still together (e.g., as a romantic couple, as family, as friends)\"\n",
      "[2] \"Split up but still working on this project together\"               \n",
      "[3] \"Split up and not working on this project together\"                 \n",
      "[4] \"Other\"                                                             "
     ]
    },
    {
     "output_type": "stream",
     "name": "stdout",
     "text": [
      " data$relationship_status   n    percent valid_percent\n",
      "                        1 762 0.82112069    0.85330347\n",
      "                        2  62 0.06681034    0.06942889\n",
      "                        3  24 0.02586207    0.02687570\n",
      "                        4  45 0.04849138    0.05039194\n",
      "                       NA  35 0.03771552            NA"
     ]
    },
    {
     "output_type": "stream",
     "name": "stdout",
     "text": [
      " [1] \"Still friends but he is unsure how much if at all she is using the app\"                                                                         \n",
      " [2] \"parent\"                                                                                                                                         \n",
      " [3] \"None\"                                                                                                                                           \n",
      " [4] \"None\"                                                                                                                                           \n",
      " [5] \"Not seeing\"                                                                                                                                     \n",
      " [6] \"Little contact\"                                                                                                                                 \n",
      " [7] \"work schedules collide\"                                                                                                                         \n",
      " [8] \"I talk to monthly. He's not too engaged in this.\"                                                                                               \n",
      " [9] \"On our way to splitting up\"                                                                                                                     \n",
      "[10] \"Going through break up\"                                                                                                                         \n",
      "[11] \"She is going to leave me\"                                                                                                                       \n",
      "[12] \"excellent, open, honest\"                                                                                                                        \n",
      "[13] \"excellent\"                                                                                                                                      \n",
      "[14] \"still working on the project together\"                                                                                                          \n",
      "[15] \"Support member\"                                                                                                                                 \n",
      "[16] \"Mutual\"                                                                                                                                         \n",
      "[17] \"Had split up now moving back together this month\"                                                                                               \n",
      "[18] \"Still together but really struggling\"                                                                                                           \n",
      "[19] \"Limited communication and I couldn't access anything after the 8 month survey, thought maybe we had been removed from the study?\"               \n",
      "[20] \"father/daughter\"                                                                                                                                \n",
      "[21] \"Steady friends\"                                                                                                                                 \n",
      "[22] \"Just friends\"                                                                                                                                   \n",
      "[23] \"Sister\"                                                                                                                                         \n",
      "[24] \"N/A\"                                                                                                                                            \n",
      "[25] \"Mother and daughter\"                                                                                                                            \n",
      "[26] \"not good\"                                                                                                                                       \n",
      "[27] \"We are cousin we are still working on her recovery\"                                                                                             \n",
      "[28] \"estranged but working on this project together\"                                                                                                 \n",
      "[29] \"She's still my mother\"                                                                                                                          \n",
      "[30] \"Continue to be very close friend\"                                                                                                               \n",
      "[31] \"Daughter we're fine\"                                                                                                                            \n",
      "[32] \"Temporarily broken up but still living together hoping she can get the drinking under control which will determine if we try to work things out\"\n",
      "[33] \"Split up but still working on getting back together and dealing with the alcohol use but in a better place.\"                                    \n",
      "[34] \"friends\"                                                                                                                                        \n",
      "[35] \"Not talking for the last few months\"                                                                                                            \n",
      "attr(,\"label\")\n",
      "[1] \"Other\"\n",
      "attr(,\"format.spss\")\n",
      "[1] \"A1000\"\n",
      "attr(,\"display_width\")\n",
      "[1] 128"
     ]
    }
   ],
   "source": [
    "sjlabelled::get_labels(data$relationship_status)\n"
   ],
   "id": "69eb280d-6cd1-498c-9d3d-36bee5176136"
  },
  {
   "cell_type": "markdown",
   "metadata": {},
   "source": [
    "univariate descriptives of covariates, mediators, moderators and outcome variables"
   ],
   "id": "e6b58472-a688-48b4-b749-83ad537869cc"
  },
  {
   "cell_type": "code",
   "execution_count": null,
   "metadata": {},
   "outputs": [
    {
     "output_type": "display_data",
     "metadata": {},
     "data": {
      "text/markdown": [
       "  ----------------------------------------------------------------------------------------------------------------------------\n",
       "  skim_variable                   n_missing   complete_rate    mean      sd       p0      p25     p50     p75     p100 hist\n",
       "  ----------------------------- ----------- --------------- ------- ------- -------- -------- ------- ------- -------- -------\n",
       "  age                                     6            0.99   47.62   13.59    21.00    37.00   47.50   58.00    89.00 ▅▇▇▃▁\n",
       "\n",
       "  edu                                     3            1.00    4.28    1.08     1.00     4.00    4.00    5.00     6.00 ▁▅▇▅▃\n",
       "\n",
       "  days_app_use                          455            0.51   41.14   38.05     0.00     6.00   32.00   74.00   161.00 ▇▃▃▂▁\n",
       "\n",
       "  per_days_abstinent                    498            0.46   60.96   37.45     0.00    29.98   71.05   98.20   100.00 ▅▂▂▃▇\n",
       "\n",
       "  per_heavy_drink_days                  498            0.46   24.20   33.27     0.00     0.00    5.65   34.35   100.00 ▇▂▁▁▂\n",
       "\n",
       "  meetings_yn                            36            0.96    0.18    0.38     0.00     0.00    0.00    0.00     1.00 ▇▁▁▁▂\n",
       "\n",
       "  outpatient_yn_ever                      0            1.00    0.18    0.39     0.00     0.00    0.00    0.00     1.00 ▇▁▁▁▂\n",
       "\n",
       "  other_psych_treatment_yn               36            0.96    0.16    0.37     0.00     0.00    0.00    0.00     1.00 ▇▁▁▁▂\n",
       "\n",
       "  er_yn_ever                              0            1.00    0.22    0.41     0.00     0.00    0.00    0.00     1.00 ▇▁▁▁▂\n",
       "\n",
       "  mat_yn                                 39            0.96    0.10    0.30     0.00     0.00    0.00    0.00     1.00 ▇▁▁▁▁\n",
       "\n",
       "  other_medications_yn                   42            0.95    0.35    0.48     0.00     0.00    0.00    1.00     1.00 ▇▁▁▁▅\n",
       "\n",
       "  inpatient_yn_ever                       0            1.00    0.10    0.30     0.00     0.00    0.00    0.00     1.00 ▇▁▁▁▁\n",
       "\n",
       "  oq45_scored                            35            0.96   55.33   25.33     0.00    37.00   54.00   71.00   140.00 ▃▇▆▂▁\n",
       "\n",
       "  relationsatisf_scored                  35            0.96   21.64    6.40     0.00    18.00   22.00   26.00    36.00 ▁▂▆▇▃\n",
       "\n",
       "  abuse_scored                          680            0.27    4.40    7.35     0.00     1.00    2.00    6.00    72.00 ▇▁▁▁▁\n",
       "\n",
       "  treatmentskills_scored                479            0.48    3.11    0.51     1.00     2.83    3.13    3.47     4.00 ▁▁▃▇▅\n",
       "\n",
       "  peersupport_scored                     39            0.96    2.92    1.17     1.00     2.00    2.80    3.80     5.00 ▆▇▇▅▅\n",
       "\n",
       "  socrates_scored                       493            0.47   32.36    7.06    10.00    28.00   33.00   39.00    40.00 ▁▁▃▅▇\n",
       "\n",
       "  socrates_recognition_scored           493            0.47   25.84    6.70     7.00    22.00   26.00   31.00    35.00 ▁▂▆▇▇\n",
       "\n",
       "  socrates_ambivalence_scored           493            0.47   13.48    4.25     4.00    11.00   14.00   17.00    20.00 ▂▃▅▇▆\n",
       "\n",
       "  race_white_only                         3            1.00    0.76    0.43     0.00     1.00    1.00    1.00     1.00 ▂▁▁▁▇\n",
       "\n",
       "  edu_c                                   3            1.00    0.01    1.08    -3.27    -0.27   -0.27    0.73     1.73 ▁▅▇▅▃\n",
       "\n",
       "  hdd_0                                 464            0.50    0.00   36.11   -49.00   -32.70   -6.90   39.70    51.00 ▇▆▃▃▇\n",
       "\n",
       "  pda_0                                 464            0.50    0.00   33.84   -37.48   -35.81   -4.18   30.32    62.52 ▇▂▂▃▂\n",
       "\n",
       "  oq45_0                                  3            1.00    0.00   24.41   -55.71   -18.71   -1.71   15.29    73.29 ▂▇▇▃▁\n",
       "\n",
       "  relationsatisf_0                        3            1.00    0.00    5.01   -18.52    -2.52    0.48    3.48    12.48 ▁▂▇▇▂\n",
       "\n",
       "  abuse_0                               538            0.42    0.00    4.55    -4.45    -3.45   -1.45    2.30    19.55 ▇▃▁▁▁\n",
       "  ----------------------------------------------------------------------------------------------------------------------------\n"
      ]
     }
    }
   ],
   "source": [
    "data |> \n",
    "  select(age, edu, days_app_use:abuse_0, -gender_original, -age_c, \n",
    "         -relationship_status, - relationship_status_open) |> \n",
    "  skimr::skim()\n"
   ],
   "id": "814392b1-9baa-47f3-a725-f95f8fe7db2f"
  },
  {
   "cell_type": "markdown",
   "metadata": {},
   "source": [
    "Bivariate correlations for Patient\n",
    "\n",
    "*KW: simplify?*"
   ],
   "id": "46d496c7-1f1e-44d4-95f6-6ec666090dab"
  },
  {
   "cell_type": "code",
   "execution_count": null,
   "metadata": {},
   "outputs": [
    {
     "output_type": "stream",
     "name": "stdout",
     "text": [
      "                              age   edu days_app_use per_days_abstinent\n",
      "age                          1.00  0.04         0.21              -0.16\n",
      "edu                          0.04  1.00        -0.01               0.00\n",
      "days_app_use                 0.21 -0.01         1.00               0.02\n",
      "per_days_abstinent          -0.16  0.00         0.02               1.00\n",
      "per_heavy_drink_days         0.03 -0.13        -0.14              -0.75\n",
      "meetings_yn                 -0.17 -0.07        -0.03               0.21\n",
      "outpatient_yn_ever          -0.25 -0.05        -0.19               0.18\n",
      "other_psych_treatment_yn    -0.04  0.03         0.04               0.09\n",
      "er_yn_ever                  -0.01 -0.22        -0.01               0.06\n",
      "mat_yn                      -0.10 -0.02        -0.05               0.02\n",
      "other_medications_yn         0.08  0.21        -0.13               0.00\n",
      "inpatient_yn_ever           -0.18 -0.03        -0.19               0.15\n",
      "oq45_scored                 -0.13 -0.15        -0.13              -0.28\n",
      "relationsatisf_scored       -0.12  0.09         0.09               0.12\n",
      "abuse_scored                 0.10  0.05        -0.14              -0.03\n",
      "peersupport_scored          -0.12 -0.03        -0.09               0.34\n",
      "socrates_scored             -0.09 -0.05         0.08               0.50\n",
      "socrates_recognition_scored -0.01 -0.12         0.04              -0.14\n",
      "socrates_ambivalence_scored  0.11 -0.05         0.18              -0.38\n",
      "race_white_only              0.21  0.16         0.07               0.14\n",
      "edu_c                        0.04  1.00        -0.01               0.00\n",
      "hdd_0                       -0.03 -0.29        -0.23              -0.41\n",
      "pda_0                       -0.14  0.09         0.09               0.58\n",
      "oq45_0                      -0.29 -0.19        -0.18              -0.09\n",
      "relationsatisf_0            -0.13 -0.06         0.05               0.11\n",
      "abuse_0                     -0.15 -0.16        -0.14               0.11\n",
      "                            per_heavy_drink_days meetings_yn outpatient_yn_ever\n",
      "age                                         0.03       -0.17              -0.25\n",
      "edu                                        -0.13       -0.07              -0.05\n",
      "days_app_use                               -0.14       -0.03              -0.19\n",
      "per_days_abstinent                         -0.75        0.21               0.18\n",
      "per_heavy_drink_days                        1.00       -0.12              -0.10\n",
      "meetings_yn                                -0.12        1.00               0.39\n",
      "outpatient_yn_ever                         -0.10        0.39               1.00\n",
      "other_psych_treatment_yn                   -0.07        0.23               0.34\n",
      "er_yn_ever                                 -0.08        0.09               0.23\n",
      "mat_yn                                      0.01        0.19               0.30\n",
      "other_medications_yn                       -0.02        0.07               0.15\n",
      "inpatient_yn_ever                          -0.08        0.26               0.49\n",
      "oq45_scored                                 0.30        0.14               0.09\n",
      "relationsatisf_scored                      -0.12       -0.05               0.01\n",
      "abuse_scored                               -0.04        0.16               0.09\n",
      "peersupport_scored                         -0.23        0.34               0.15\n",
      "socrates_scored                            -0.43        0.24               0.16\n",
      "socrates_recognition_scored                 0.27        0.22               0.05\n",
      "socrates_ambivalence_scored                 0.33       -0.07              -0.15\n",
      "race_white_only                            -0.06       -0.06              -0.15\n",
      "edu_c                                      -0.13       -0.07              -0.05\n",
      "hdd_0                                       0.51        0.02               0.06\n",
      "pda_0                                      -0.42        0.15               0.05\n",
      "oq45_0                                      0.12        0.24               0.12\n",
      "relationsatisf_0                           -0.07       -0.02               0.12\n",
      "abuse_0                                    -0.13        0.25               0.18\n",
      "                            other_psych_treatment_yn er_yn_ever mat_yn\n",
      "age                                            -0.04      -0.01  -0.10\n",
      "edu                                             0.03      -0.22  -0.02\n",
      "days_app_use                                    0.04      -0.01  -0.05\n",
      "per_days_abstinent                              0.09       0.06   0.02\n",
      "per_heavy_drink_days                           -0.07      -0.08   0.01\n",
      "meetings_yn                                     0.23       0.09   0.19\n",
      "outpatient_yn_ever                              0.34       0.23   0.30\n",
      "other_psych_treatment_yn                        1.00       0.10   0.15\n",
      "er_yn_ever                                      0.10       1.00   0.23\n",
      "mat_yn                                          0.15       0.23   1.00\n",
      "other_medications_yn                            0.32      -0.03   0.22\n",
      "inpatient_yn_ever                               0.09       0.30   0.35\n",
      "oq45_scored                                     0.13       0.21   0.21\n",
      "relationsatisf_scored                          -0.04      -0.07   0.00\n",
      "abuse_scored                                   -0.01       0.18   0.00\n",
      "peersupport_scored                              0.17       0.02   0.04\n",
      "socrates_scored                                 0.12       0.08   0.06\n",
      "socrates_recognition_scored                    -0.04       0.09   0.11\n",
      "socrates_ambivalence_scored                    -0.20      -0.02   0.02\n",
      "race_white_only                                 0.00      -0.22   0.02\n",
      "edu_c                                           0.03      -0.22  -0.02\n",
      "hdd_0                                          -0.07       0.11   0.01\n",
      "pda_0                                           0.06      -0.06   0.07\n",
      "oq45_0                                          0.10       0.29   0.16\n",
      "relationsatisf_0                               -0.02      -0.02   0.01\n",
      "abuse_0                                         0.03      -0.01  -0.04\n",
      "                            other_medications_yn inpatient_yn_ever oq45_scored\n",
      "age                                         0.08             -0.18       -0.13\n",
      "edu                                         0.21             -0.03       -0.15\n",
      "days_app_use                               -0.13             -0.19       -0.13\n",
      "per_days_abstinent                          0.00              0.15       -0.28\n",
      "per_heavy_drink_days                       -0.02             -0.08        0.30\n",
      "meetings_yn                                 0.07              0.26        0.14\n",
      "outpatient_yn_ever                          0.15              0.49        0.09\n",
      "other_psych_treatment_yn                    0.32              0.09        0.13\n",
      "er_yn_ever                                 -0.03              0.30        0.21\n",
      "mat_yn                                      0.22              0.35        0.21\n",
      "other_medications_yn                        1.00              0.08        0.09\n",
      "inpatient_yn_ever                           0.08              1.00        0.18\n",
      "oq45_scored                                 0.09              0.18        1.00\n",
      "relationsatisf_scored                       0.08             -0.04       -0.37\n",
      "abuse_scored                               -0.08              0.02       -0.06\n",
      "peersupport_scored                          0.13              0.14       -0.13\n",
      "socrates_scored                             0.02              0.13       -0.28\n",
      "socrates_recognition_scored                 0.05              0.09        0.24\n",
      "socrates_ambivalence_scored                -0.05             -0.16        0.17\n",
      "race_white_only                             0.16             -0.06       -0.10\n",
      "edu_c                                       0.21             -0.03       -0.15\n",
      "hdd_0                                      -0.04              0.08        0.27\n",
      "pda_0                                       0.06              0.03       -0.20\n",
      "oq45_0                                     -0.09              0.20        0.62\n",
      "relationsatisf_0                            0.11              0.03       -0.21\n",
      "abuse_0                                    -0.20             -0.13       -0.07\n",
      "                            relationsatisf_scored abuse_scored\n",
      "age                                         -0.12         0.10\n",
      "edu                                          0.09         0.05\n",
      "days_app_use                                 0.09        -0.14\n",
      "per_days_abstinent                           0.12        -0.03\n",
      "per_heavy_drink_days                        -0.12        -0.04\n",
      "meetings_yn                                 -0.05         0.16\n",
      "outpatient_yn_ever                           0.01         0.09\n",
      "other_psych_treatment_yn                    -0.04        -0.01\n",
      "er_yn_ever                                  -0.07         0.18\n",
      "mat_yn                                       0.00         0.00\n",
      "other_medications_yn                         0.08        -0.08\n",
      "inpatient_yn_ever                           -0.04         0.02\n",
      "oq45_scored                                 -0.37        -0.06\n",
      "relationsatisf_scored                        1.00        -0.16\n",
      "abuse_scored                                -0.16         1.00\n",
      "peersupport_scored                           0.08         0.01\n",
      "socrates_scored                              0.23         0.06\n",
      "socrates_recognition_scored                 -0.10         0.05\n",
      "socrates_ambivalence_scored                 -0.02         0.22\n",
      "race_white_only                             -0.04        -0.21\n",
      "edu_c                                        0.09         0.05\n",
      "hdd_0                                       -0.14        -0.03\n",
      "pda_0                                        0.07         0.03\n",
      "oq45_0                                      -0.23         0.18\n",
      "relationsatisf_0                             0.57        -0.18\n",
      "abuse_0                                     -0.28         0.33\n",
      "                            peersupport_scored socrates_scored\n",
      "age                                      -0.12           -0.09\n",
      "edu                                      -0.03           -0.05\n",
      "days_app_use                             -0.09            0.08\n",
      "per_days_abstinent                        0.34            0.50\n",
      "per_heavy_drink_days                     -0.23           -0.43\n",
      "meetings_yn                               0.34            0.24\n",
      "outpatient_yn_ever                        0.15            0.16\n",
      "other_psych_treatment_yn                  0.17            0.12\n",
      "er_yn_ever                                0.02            0.08\n",
      "mat_yn                                    0.04            0.06\n",
      "other_medications_yn                      0.13            0.02\n",
      "inpatient_yn_ever                         0.14            0.13\n",
      "oq45_scored                              -0.13           -0.28\n",
      "relationsatisf_scored                     0.08            0.23\n",
      "abuse_scored                              0.01            0.06\n",
      "peersupport_scored                        1.00            0.39\n",
      "socrates_scored                           0.39            1.00\n",
      "socrates_recognition_scored               0.11            0.04\n",
      "socrates_ambivalence_scored              -0.14           -0.11\n",
      "race_white_only                          -0.02            0.02\n",
      "edu_c                                    -0.03           -0.05\n",
      "hdd_0                                    -0.09           -0.17\n",
      "pda_0                                     0.15            0.21\n",
      "oq45_0                                    0.07           -0.01\n",
      "relationsatisf_0                          0.10            0.17\n",
      "abuse_0                                   0.04            0.08\n",
      "                            socrates_recognition_scored\n",
      "age                                               -0.01\n",
      "edu                                               -0.12\n",
      "days_app_use                                       0.04\n",
      "per_days_abstinent                                -0.14\n",
      "per_heavy_drink_days                               0.27\n",
      "meetings_yn                                        0.22\n",
      "outpatient_yn_ever                                 0.05\n",
      "other_psych_treatment_yn                          -0.04\n",
      "er_yn_ever                                         0.09\n",
      "mat_yn                                             0.11\n",
      "other_medications_yn                               0.05\n",
      "inpatient_yn_ever                                  0.09\n",
      "oq45_scored                                        0.24\n",
      "relationsatisf_scored                             -0.10\n",
      "abuse_scored                                       0.05\n",
      "peersupport_scored                                 0.11\n",
      "socrates_scored                                    0.04\n",
      "socrates_recognition_scored                        1.00\n",
      "socrates_ambivalence_scored                        0.56\n",
      "race_white_only                                   -0.01\n",
      "edu_c                                             -0.12\n",
      "hdd_0                                              0.14\n",
      "pda_0                                              0.01\n",
      "oq45_0                                             0.20\n",
      "relationsatisf_0                                   0.02\n",
      "abuse_0                                           -0.03\n",
      "                            socrates_ambivalence_scored race_white_only edu_c\n",
      "age                                                0.11            0.21  0.04\n",
      "edu                                               -0.05            0.16  1.00\n",
      "days_app_use                                       0.18            0.07 -0.01\n",
      "per_days_abstinent                                -0.38            0.14  0.00\n",
      "per_heavy_drink_days                               0.33           -0.06 -0.13\n",
      "meetings_yn                                       -0.07           -0.06 -0.07\n",
      "outpatient_yn_ever                                -0.15           -0.15 -0.05\n",
      "other_psych_treatment_yn                          -0.20            0.00  0.03\n",
      "er_yn_ever                                        -0.02           -0.22 -0.22\n",
      "mat_yn                                             0.02            0.02 -0.02\n",
      "other_medications_yn                              -0.05            0.16  0.21\n",
      "inpatient_yn_ever                                 -0.16           -0.06 -0.03\n",
      "oq45_scored                                        0.17           -0.10 -0.15\n",
      "relationsatisf_scored                             -0.02           -0.04  0.09\n",
      "abuse_scored                                       0.22           -0.21  0.05\n",
      "peersupport_scored                                -0.14           -0.02 -0.03\n",
      "socrates_scored                                   -0.11            0.02 -0.05\n",
      "socrates_recognition_scored                        0.56           -0.01 -0.12\n",
      "socrates_ambivalence_scored                        1.00           -0.08 -0.05\n",
      "race_white_only                                   -0.08            1.00  0.16\n",
      "edu_c                                             -0.05            0.16  1.00\n",
      "hdd_0                                              0.20           -0.10 -0.29\n",
      "pda_0                                             -0.19            0.09  0.09\n",
      "oq45_0                                             0.10           -0.20 -0.19\n",
      "relationsatisf_0                                   0.00           -0.10 -0.06\n",
      "abuse_0                                            0.04           -0.14 -0.16\n",
      "                            hdd_0 pda_0 oq45_0 relationsatisf_0 abuse_0\n",
      "age                         -0.03 -0.14  -0.29            -0.13   -0.15\n",
      "edu                         -0.29  0.09  -0.19            -0.06   -0.16\n",
      "days_app_use                -0.23  0.09  -0.18             0.05   -0.14\n",
      "per_days_abstinent          -0.41  0.58  -0.09             0.11    0.11\n",
      "per_heavy_drink_days         0.51 -0.42   0.12            -0.07   -0.13\n",
      "meetings_yn                  0.02  0.15   0.24            -0.02    0.25\n",
      "outpatient_yn_ever           0.06  0.05   0.12             0.12    0.18\n",
      "other_psych_treatment_yn    -0.07  0.06   0.10            -0.02    0.03\n",
      "er_yn_ever                   0.11 -0.06   0.29            -0.02   -0.01\n",
      "mat_yn                       0.01  0.07   0.16             0.01   -0.04\n",
      "other_medications_yn        -0.04  0.06  -0.09             0.11   -0.20\n",
      "inpatient_yn_ever            0.08  0.03   0.20             0.03   -0.13\n",
      "oq45_scored                  0.27 -0.20   0.62            -0.21   -0.07\n",
      "relationsatisf_scored       -0.14  0.07  -0.23             0.57   -0.28\n",
      "abuse_scored                -0.03  0.03   0.18            -0.18    0.33\n",
      "peersupport_scored          -0.09  0.15   0.07             0.10    0.04\n",
      "socrates_scored             -0.17  0.21  -0.01             0.17    0.08\n",
      "socrates_recognition_scored  0.14  0.01   0.20             0.02   -0.03\n",
      "socrates_ambivalence_scored  0.20 -0.19   0.10             0.00    0.04\n",
      "race_white_only             -0.10  0.09  -0.20            -0.10   -0.14\n",
      "edu_c                       -0.29  0.09  -0.19            -0.06   -0.16\n",
      "hdd_0                        1.00 -0.75   0.22            -0.06   -0.02\n",
      "pda_0                       -0.75  1.00  -0.13             0.05    0.12\n",
      "oq45_0                       0.22 -0.13   1.00            -0.27    0.22\n",
      "relationsatisf_0            -0.06  0.05  -0.27             1.00   -0.25\n",
      "abuse_0                     -0.02  0.12   0.22            -0.25    1.00"
     ]
    }
   ],
   "source": [
    "data |> \n",
    "  filter(dyad == 2) |> \n",
    "  select(age, edu, days_app_use:abuse_0, -gender_original, -age_c,\n",
    "         -treatmentskills_scored, -relationship_status, \n",
    "         -relationship_status_open) |> \n",
    "  cor(use = \"pairwise.complete.obs\") |> \n",
    "  round(2)\n"
   ],
   "id": "d0439ff3-be05-4508-a2ca-656a045526ba"
  },
  {
   "cell_type": "markdown",
   "metadata": {},
   "source": [
    "### Save out processed data for analyses"
   ],
   "id": "4fbd6a29-8732-420c-a4ec-fbeea5471791"
  },
  {
   "cell_type": "code",
   "execution_count": null,
   "metadata": {},
   "outputs": [],
   "source": [
    "data |> \n",
    "  write_csv(here::here(path_data, \"famchess_data_ana.csv\"))\n"
   ],
   "id": "3ad2c598-5cac-44fa-9503-a6233886ebfa"
  }
 ],
 "nbformat": 4,
 "nbformat_minor": 5,
 "metadata": {}
}

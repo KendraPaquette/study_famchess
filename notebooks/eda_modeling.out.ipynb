{
 "cells": [
  {
   "cell_type": "markdown",
   "metadata": {},
   "source": [
    "# famCHESS Modeling EDA\n",
    "\n",
    "Kendra Wyant\n",
    "\n",
    "## Notes\n",
    "\n",
    "This script reads in the processed famCHESS data (see `eda_cleaning.qmd`) and performs modeling checks for assumptions, covariates, mediators, and moderators.\n",
    "\n",
    "## Setup"
   ],
   "id": "03179d88-8258-4197-8e5d-fa8491ea5dfe"
  },
  {
   "cell_type": "code",
   "execution_count": null,
   "metadata": {},
   "outputs": [
    {
     "output_type": "stream",
     "name": "stderr",
     "text": [
      "ℹ SHA-1 hash of file is \"a58e57da996d1b70bb9a5b58241325d6fd78890f\""
     ]
    }
   ],
   "source": [
    "options(conflicts.policy = \"depends.ok\")\n",
    "suppressMessages(library(tidyverse))\n",
    "suppressMessages(library(janitor))\n",
    "library(Matrix, exclude = c(\"expand\", \"pack\", \"unpack\"))\n",
    "library(lme4)\n",
    "theme_set(theme_classic()) \n",
    "\n",
    "devtools::source_url(\"https://github.com/jjcurtin/lab_support/blob/main/format_path.R?raw=true\")\n"
   ],
   "id": "c5e3af25-cb03-4246-8258-93762053b41f"
  },
  {
   "cell_type": "markdown",
   "metadata": {},
   "source": [
    "## Data"
   ],
   "id": "06a0b37f-4d13-4ddc-b8a9-8d28c45b7be6"
  },
  {
   "cell_type": "code",
   "execution_count": null,
   "metadata": {},
   "outputs": [],
   "source": [
    "data <- read_csv(here::here(path_data, \"famchess_data_ana.csv\"),\n",
    "                 show_col_types = FALSE)\n"
   ],
   "id": "64f29aaa-5c6c-44b7-84b8-f34e09229661"
  },
  {
   "cell_type": "markdown",
   "metadata": {},
   "source": [
    "### Check Assumptions for Analyses of Study Arm Effects\n",
    "\n",
    "patient primary outcome = `per_heavy_drink_days`  \n",
    "partner primary outcome = `oq45_scored`\n",
    "\n",
    "patient secondary outcome = `per_days_abstinent`  \n",
    "partner secondary outcomes = `relationsatisf_scored` and `abuse_scored`\n",
    "\n",
    "*KW: Cannot run primary and secondary patient models for partners (outcomes don’t exist). We could run primary and secondary partner models for patients, but why would we want to do this?*\n",
    "\n",
    "List of potential covariate variable names: `race_white_only`, `age_c`, `edu_c`, `meetings_yn`, `outpatient_yn_ever`, `er_yn_ever`, `mat_yn`, `inpatient_yn_ever`, `other_psych_treatment_yn`, `other_medications_yn`\n",
    "\n",
    "Set contrasts"
   ],
   "id": "2f42c519-6967-4241-8f22-752d4c487bd0"
  },
  {
   "cell_type": "code",
   "execution_count": null,
   "metadata": {},
   "outputs": [
    {
     "output_type": "stream",
     "name": "stdout",
     "text": [
      "  fam_and_achess_vs_C achess_vs_fam\n",
      "0          -0.6666667           0.0\n",
      "1           0.3333333           0.5\n",
      "2           0.3333333          -0.5"
     ]
    }
   ],
   "source": [
    "col_names <- c(\"fam_and_achess_vs_C\", \"achess_vs_fam\")\n",
    "arm_contrasts <- matrix(c(-2/3, 1/3, 1/3, 0, 1/2, -1/2),\n",
    "                          nrow = 3, ncol = 2,\n",
    "                          dimnames = list(levels(data$arm), col_names))\n",
    "\n",
    "data <- data |> \n",
    "  mutate(arm_c = as.factor(arm))\n",
    "\n",
    "contrasts(data$arm_c) <- arm_contrasts\n",
    "contrasts(data$arm_c)\n"
   ],
   "id": "12a7f6e5-094d-4b00-aab5-ffd2e378564b"
  },
  {
   "cell_type": "markdown",
   "metadata": {},
   "source": [
    "#### Primary Patient Outcome: `per_heavy_drink_days`\n",
    "\n",
    "##### Check distribution of residuals\n",
    "\n",
    "*KW: seems normal enough?*"
   ],
   "id": "ee7240aa-a703-4544-a047-eba3371b7f96"
  },
  {
   "cell_type": "code",
   "execution_count": null,
   "metadata": {},
   "outputs": [
    {
     "output_type": "display_data",
     "metadata": {},
     "data": {
      "image/png": "[encoded data removed]"
     }
    }
   ],
   "source": [
    "model_patient_prim <- lmer(per_heavy_drink_days ~ time_c*arm_c + hdd_0 + \n",
    "                             (1 + time_c | study_id), data = subset(data, dyad == 2))\n",
    "\n",
    "tibble(error = residuals(model_patient_prim)) |> \n",
    "  ggplot(aes(x = error)) +\n",
    "  geom_histogram(color = \"black\", fill = \"light grey\", bins = 30)\n"
   ],
   "id": "b8de1e9e-9794-428d-803b-1f3d66696e06"
  },
  {
   "cell_type": "markdown",
   "metadata": {},
   "source": [
    "##### Look for significant covariates (We will only include covariates that significantly predict the outcome).\n",
    "\n",
    "`race_white_only` - not significant"
   ],
   "id": "16d1261d-ab7a-4104-8a97-bf1e6d3f66f3"
  },
  {
   "cell_type": "code",
   "execution_count": null,
   "metadata": {},
   "outputs": [
    {
     "output_type": "display_data",
     "metadata": {},
     "data": {
      "text/html": [
       "<table style=\"border-collapse:collapse; border:none;\">\n",
       "<tr>\n",
       "<th style=\"border-top: double; text-align:center; font-style:normal; font-weight:bold; padding:0.2cm;  text-align:left; \">&nbsp;</th>\n",
       "<th colspan=\"3\" style=\"border-top: double; text-align:center; font-style:normal; font-weight:bold; padding:0.2cm; \">per heavy drink days</th>\n",
       "</tr>\n",
       "<tr>\n",
       "<td style=\" text-align:center; border-bottom:1px solid; font-style:italic; font-weight:normal;  text-align:left; \">Predictors</td>\n",
       "<td style=\" text-align:center; border-bottom:1px solid; font-style:italic; font-weight:normal;  \">Estimates</td>\n",
       "<td style=\" text-align:center; border-bottom:1px solid; font-style:italic; font-weight:normal;  \">CI</td>\n",
       "<td style=\" text-align:center; border-bottom:1px solid; font-style:italic; font-weight:normal;  \">p</td>\n",
       "</tr>\n",
       "<tr>\n",
       "<td style=\" padding:0.2cm; text-align:left; vertical-align:top; text-align:left; \">race white only</td>\n",
       "<td style=\" padding:0.2cm; text-align:left; vertical-align:top; text-align:center;  \">&#45;0.26</td>\n",
       "<td style=\" padding:0.2cm; text-align:left; vertical-align:top; text-align:center;  \">&#45;8.95&nbsp;&ndash;&nbsp;8.43</td>\n",
       "<td style=\" padding:0.2cm; text-align:left; vertical-align:top; text-align:center;  \">0.953</td>\n",
       "</tr>\n",
       "\n",
       "<tr>\n",
       "<td style=\" padding:0.2cm; text-align:left; vertical-align:top; text-align:left; padding-top:0.1cm; padding-bottom:0.1cm;\">N <sub>study_id</sub></td>\n",
       "<td style=\" padding:0.2cm; text-align:left; vertical-align:top; padding-top:0.1cm; padding-bottom:0.1cm; text-align:left;\" colspan=\"3\">157</td>\n",
       "<tr>\n",
       "<td style=\" padding:0.2cm; text-align:left; vertical-align:top; text-align:left; padding-top:0.1cm; padding-bottom:0.1cm; border-top:1px solid;\">Observations</td>\n",
       "<td style=\" padding:0.2cm; text-align:left; vertical-align:top; padding-top:0.1cm; padding-bottom:0.1cm; text-align:left; border-top:1px solid;\" colspan=\"3\">427</td>\n",
       "</tr>\n",
       "<tr>\n",
       "<td style=\" padding:0.2cm; text-align:left; vertical-align:top; text-align:left; padding-top:0.1cm; padding-bottom:0.1cm;\">Marginal R<sup>2</sup> / Conditional R<sup>2</sup></td>\n",
       "<td style=\" padding:0.2cm; text-align:left; vertical-align:top; padding-top:0.1cm; padding-bottom:0.1cm; text-align:left;\" colspan=\"3\">0.282 / 0.765</td>\n",
       "</tr>\n",
       "\n",
       "</table>\n"
      ]
     }
    }
   ],
   "source": [
    "model_patient_prim_race <- lmer(per_heavy_drink_days ~ time_c*arm_c + hdd_0 + \n",
    "                                  race_white_only + (1 + time_c | study_id), \n",
    "                                data = subset(data, dyad == 2))\n",
    "\n",
    "sjPlot::tab_model(model_patient_prim_race, show.re.var = F, show.icc = F, terms = c(\"race_white_only\"))\n"
   ],
   "id": "0a175217-66d4-4dfb-b739-03160333b623"
  },
  {
   "cell_type": "markdown",
   "metadata": {},
   "source": [
    "`age_c` - not significant"
   ],
   "id": "13444ee9-3ec6-4ede-a6d3-ccb6ac02f5ee"
  },
  {
   "cell_type": "code",
   "execution_count": null,
   "metadata": {},
   "outputs": [
    {
     "output_type": "display_data",
     "metadata": {},
     "data": {
      "text/html": [
       "<table style=\"border-collapse:collapse; border:none;\">\n",
       "<tr>\n",
       "<th style=\"border-top: double; text-align:center; font-style:normal; font-weight:bold; padding:0.2cm;  text-align:left; \">&nbsp;</th>\n",
       "<th colspan=\"3\" style=\"border-top: double; text-align:center; font-style:normal; font-weight:bold; padding:0.2cm; \">per heavy drink days</th>\n",
       "</tr>\n",
       "<tr>\n",
       "<td style=\" text-align:center; border-bottom:1px solid; font-style:italic; font-weight:normal;  text-align:left; \">Predictors</td>\n",
       "<td style=\" text-align:center; border-bottom:1px solid; font-style:italic; font-weight:normal;  \">Estimates</td>\n",
       "<td style=\" text-align:center; border-bottom:1px solid; font-style:italic; font-weight:normal;  \">CI</td>\n",
       "<td style=\" text-align:center; border-bottom:1px solid; font-style:italic; font-weight:normal;  \">p</td>\n",
       "</tr>\n",
       "<tr>\n",
       "<td style=\" padding:0.2cm; text-align:left; vertical-align:top; text-align:left; \">age c</td>\n",
       "<td style=\" padding:0.2cm; text-align:left; vertical-align:top; text-align:center;  \">0.12</td>\n",
       "<td style=\" padding:0.2cm; text-align:left; vertical-align:top; text-align:center;  \">&#45;0.18&nbsp;&ndash;&nbsp;0.42</td>\n",
       "<td style=\" padding:0.2cm; text-align:left; vertical-align:top; text-align:center;  \">0.422</td>\n",
       "</tr>\n",
       "\n",
       "<tr>\n",
       "<td style=\" padding:0.2cm; text-align:left; vertical-align:top; text-align:left; padding-top:0.1cm; padding-bottom:0.1cm;\">N <sub>study_id</sub></td>\n",
       "<td style=\" padding:0.2cm; text-align:left; vertical-align:top; padding-top:0.1cm; padding-bottom:0.1cm; text-align:left;\" colspan=\"3\">156</td>\n",
       "<tr>\n",
       "<td style=\" padding:0.2cm; text-align:left; vertical-align:top; text-align:left; padding-top:0.1cm; padding-bottom:0.1cm; border-top:1px solid;\">Observations</td>\n",
       "<td style=\" padding:0.2cm; text-align:left; vertical-align:top; padding-top:0.1cm; padding-bottom:0.1cm; text-align:left; border-top:1px solid;\" colspan=\"3\">424</td>\n",
       "</tr>\n",
       "<tr>\n",
       "<td style=\" padding:0.2cm; text-align:left; vertical-align:top; text-align:left; padding-top:0.1cm; padding-bottom:0.1cm;\">Marginal R<sup>2</sup> / Conditional R<sup>2</sup></td>\n",
       "<td style=\" padding:0.2cm; text-align:left; vertical-align:top; padding-top:0.1cm; padding-bottom:0.1cm; text-align:left;\" colspan=\"3\">0.285 / 0.761</td>\n",
       "</tr>\n",
       "\n",
       "</table>\n"
      ]
     }
    }
   ],
   "source": [
    "model_patient_prim_age <- lmer(per_heavy_drink_days ~ time_c*arm_c + hdd_0 + \n",
    "                                  age_c + (1 + time_c | study_id), \n",
    "                                data = subset(data, dyad == 2))\n",
    "\n",
    "sjPlot::tab_model(model_patient_prim_age, show.re.var = F, show.icc = F, terms = c(\"age_c\"))\n"
   ],
   "id": "bcc1f3da-9e79-4d6e-bb41-3948f356c551"
  },
  {
   "cell_type": "markdown",
   "metadata": {},
   "source": [
    "`edu_c` - not significant"
   ],
   "id": "8265dc8e-4e6d-47af-b899-ec2e29d113c4"
  },
  {
   "cell_type": "code",
   "execution_count": null,
   "metadata": {},
   "outputs": [
    {
     "output_type": "display_data",
     "metadata": {},
     "data": {
      "text/html": [
       "<table style=\"border-collapse:collapse; border:none;\">\n",
       "<tr>\n",
       "<th style=\"border-top: double; text-align:center; font-style:normal; font-weight:bold; padding:0.2cm;  text-align:left; \">&nbsp;</th>\n",
       "<th colspan=\"3\" style=\"border-top: double; text-align:center; font-style:normal; font-weight:bold; padding:0.2cm; \">per heavy drink days</th>\n",
       "</tr>\n",
       "<tr>\n",
       "<td style=\" text-align:center; border-bottom:1px solid; font-style:italic; font-weight:normal;  text-align:left; \">Predictors</td>\n",
       "<td style=\" text-align:center; border-bottom:1px solid; font-style:italic; font-weight:normal;  \">Estimates</td>\n",
       "<td style=\" text-align:center; border-bottom:1px solid; font-style:italic; font-weight:normal;  \">CI</td>\n",
       "<td style=\" text-align:center; border-bottom:1px solid; font-style:italic; font-weight:normal;  \">p</td>\n",
       "</tr>\n",
       "<tr>\n",
       "<td style=\" padding:0.2cm; text-align:left; vertical-align:top; text-align:left; \">edu c</td>\n",
       "<td style=\" padding:0.2cm; text-align:left; vertical-align:top; text-align:center;  \">&#45;0.46</td>\n",
       "<td style=\" padding:0.2cm; text-align:left; vertical-align:top; text-align:center;  \">&#45;4.08&nbsp;&ndash;&nbsp;3.16</td>\n",
       "<td style=\" padding:0.2cm; text-align:left; vertical-align:top; text-align:center;  \">0.803</td>\n",
       "</tr>\n",
       "\n",
       "<tr>\n",
       "<td style=\" padding:0.2cm; text-align:left; vertical-align:top; text-align:left; padding-top:0.1cm; padding-bottom:0.1cm;\">N <sub>study_id</sub></td>\n",
       "<td style=\" padding:0.2cm; text-align:left; vertical-align:top; padding-top:0.1cm; padding-bottom:0.1cm; text-align:left;\" colspan=\"3\">157</td>\n",
       "<tr>\n",
       "<td style=\" padding:0.2cm; text-align:left; vertical-align:top; text-align:left; padding-top:0.1cm; padding-bottom:0.1cm; border-top:1px solid;\">Observations</td>\n",
       "<td style=\" padding:0.2cm; text-align:left; vertical-align:top; padding-top:0.1cm; padding-bottom:0.1cm; text-align:left; border-top:1px solid;\" colspan=\"3\">427</td>\n",
       "</tr>\n",
       "<tr>\n",
       "<td style=\" padding:0.2cm; text-align:left; vertical-align:top; text-align:left; padding-top:0.1cm; padding-bottom:0.1cm;\">Marginal R<sup>2</sup> / Conditional R<sup>2</sup></td>\n",
       "<td style=\" padding:0.2cm; text-align:left; vertical-align:top; padding-top:0.1cm; padding-bottom:0.1cm; text-align:left;\" colspan=\"3\">0.283 / 0.765</td>\n",
       "</tr>\n",
       "\n",
       "</table>\n"
      ]
     }
    }
   ],
   "source": [
    "model_patient_prim_edu <- lmer(per_heavy_drink_days ~ time_c*arm_c + hdd_0 + \n",
    "                                  edu_c + (1 + time_c | study_id), \n",
    "                                data = subset(data, dyad == 2))\n",
    "\n",
    "sjPlot::tab_model(model_patient_prim_edu, show.re.var = F, show.icc = F, terms = c(\"edu_c\"))\n"
   ],
   "id": "d4e1b4dd-0655-43e3-baec-0189c83494da"
  },
  {
   "cell_type": "markdown",
   "metadata": {},
   "source": [
    "`meetings_yn` - not significant"
   ],
   "id": "cef77c7a-cb0b-4515-b555-002abd37e97a"
  },
  {
   "cell_type": "code",
   "execution_count": null,
   "metadata": {},
   "outputs": [
    {
     "output_type": "display_data",
     "metadata": {},
     "data": {
      "text/html": [
       "<table style=\"border-collapse:collapse; border:none;\">\n",
       "<tr>\n",
       "<th style=\"border-top: double; text-align:center; font-style:normal; font-weight:bold; padding:0.2cm;  text-align:left; \">&nbsp;</th>\n",
       "<th colspan=\"3\" style=\"border-top: double; text-align:center; font-style:normal; font-weight:bold; padding:0.2cm; \">per heavy drink days</th>\n",
       "</tr>\n",
       "<tr>\n",
       "<td style=\" text-align:center; border-bottom:1px solid; font-style:italic; font-weight:normal;  text-align:left; \">Predictors</td>\n",
       "<td style=\" text-align:center; border-bottom:1px solid; font-style:italic; font-weight:normal;  \">Estimates</td>\n",
       "<td style=\" text-align:center; border-bottom:1px solid; font-style:italic; font-weight:normal;  \">CI</td>\n",
       "<td style=\" text-align:center; border-bottom:1px solid; font-style:italic; font-weight:normal;  \">p</td>\n",
       "</tr>\n",
       "<tr>\n",
       "<td style=\" padding:0.2cm; text-align:left; vertical-align:top; text-align:left; \">meetings yn</td>\n",
       "<td style=\" padding:0.2cm; text-align:left; vertical-align:top; text-align:center;  \">&#45;6.54</td>\n",
       "<td style=\" padding:0.2cm; text-align:left; vertical-align:top; text-align:center;  \">&#45;13.30&nbsp;&ndash;&nbsp;0.22</td>\n",
       "<td style=\" padding:0.2cm; text-align:left; vertical-align:top; text-align:center;  \">0.058</td>\n",
       "</tr>\n",
       "\n",
       "<tr>\n",
       "<td style=\" padding:0.2cm; text-align:left; vertical-align:top; text-align:left; padding-top:0.1cm; padding-bottom:0.1cm;\">N <sub>study_id</sub></td>\n",
       "<td style=\" padding:0.2cm; text-align:left; vertical-align:top; padding-top:0.1cm; padding-bottom:0.1cm; text-align:left;\" colspan=\"3\">158</td>\n",
       "<tr>\n",
       "<td style=\" padding:0.2cm; text-align:left; vertical-align:top; text-align:left; padding-top:0.1cm; padding-bottom:0.1cm; border-top:1px solid;\">Observations</td>\n",
       "<td style=\" padding:0.2cm; text-align:left; vertical-align:top; padding-top:0.1cm; padding-bottom:0.1cm; text-align:left; border-top:1px solid;\" colspan=\"3\">413</td>\n",
       "</tr>\n",
       "<tr>\n",
       "<td style=\" padding:0.2cm; text-align:left; vertical-align:top; text-align:left; padding-top:0.1cm; padding-bottom:0.1cm;\">Marginal R<sup>2</sup> / Conditional R<sup>2</sup></td>\n",
       "<td style=\" padding:0.2cm; text-align:left; vertical-align:top; padding-top:0.1cm; padding-bottom:0.1cm; text-align:left;\" colspan=\"3\">0.267 / 0.749</td>\n",
       "</tr>\n",
       "\n",
       "</table>\n"
      ]
     }
    }
   ],
   "source": [
    "model_patient_prim_meetings <- lmer(per_heavy_drink_days ~ time_c*arm_c + hdd_0 + \n",
    "                                  meetings_yn + (1 + time_c | study_id), \n",
    "                                data = subset(data, dyad == 2))\n",
    "\n",
    "sjPlot::tab_model(model_patient_prim_meetings, show.re.var = F, show.icc = F, terms = c(\"meetings_yn\"))\n"
   ],
   "id": "c07f6544-c2ee-4643-b42f-ba1450524d41"
  },
  {
   "cell_type": "markdown",
   "metadata": {},
   "source": [
    "`outpatient_yn_ever` - not significant"
   ],
   "id": "8222e7a2-58b6-4944-9717-f4314f91a1c5"
  },
  {
   "cell_type": "code",
   "execution_count": null,
   "metadata": {},
   "outputs": [
    {
     "output_type": "display_data",
     "metadata": {},
     "data": {
      "text/html": [
       "<table style=\"border-collapse:collapse; border:none;\">\n",
       "<tr>\n",
       "<th style=\"border-top: double; text-align:center; font-style:normal; font-weight:bold; padding:0.2cm;  text-align:left; \">&nbsp;</th>\n",
       "<th colspan=\"3\" style=\"border-top: double; text-align:center; font-style:normal; font-weight:bold; padding:0.2cm; \">per heavy drink days</th>\n",
       "</tr>\n",
       "<tr>\n",
       "<td style=\" text-align:center; border-bottom:1px solid; font-style:italic; font-weight:normal;  text-align:left; \">Predictors</td>\n",
       "<td style=\" text-align:center; border-bottom:1px solid; font-style:italic; font-weight:normal;  \">Estimates</td>\n",
       "<td style=\" text-align:center; border-bottom:1px solid; font-style:italic; font-weight:normal;  \">CI</td>\n",
       "<td style=\" text-align:center; border-bottom:1px solid; font-style:italic; font-weight:normal;  \">p</td>\n",
       "</tr>\n",
       "<tr>\n",
       "<td style=\" padding:0.2cm; text-align:left; vertical-align:top; text-align:left; \">outpatient yn ever</td>\n",
       "<td style=\" padding:0.2cm; text-align:left; vertical-align:top; text-align:center;  \">&#45;7.44</td>\n",
       "<td style=\" padding:0.2cm; text-align:left; vertical-align:top; text-align:center;  \">&#45;15.72&nbsp;&ndash;&nbsp;0.84</td>\n",
       "<td style=\" padding:0.2cm; text-align:left; vertical-align:top; text-align:center;  \">0.078</td>\n",
       "</tr>\n",
       "\n",
       "<tr>\n",
       "<td style=\" padding:0.2cm; text-align:left; vertical-align:top; text-align:left; padding-top:0.1cm; padding-bottom:0.1cm;\">N <sub>study_id</sub></td>\n",
       "<td style=\" padding:0.2cm; text-align:left; vertical-align:top; padding-top:0.1cm; padding-bottom:0.1cm; text-align:left;\" colspan=\"3\">158</td>\n",
       "<tr>\n",
       "<td style=\" padding:0.2cm; text-align:left; vertical-align:top; text-align:left; padding-top:0.1cm; padding-bottom:0.1cm; border-top:1px solid;\">Observations</td>\n",
       "<td style=\" padding:0.2cm; text-align:left; vertical-align:top; padding-top:0.1cm; padding-bottom:0.1cm; text-align:left; border-top:1px solid;\" colspan=\"3\">430</td>\n",
       "</tr>\n",
       "<tr>\n",
       "<td style=\" padding:0.2cm; text-align:left; vertical-align:top; text-align:left; padding-top:0.1cm; padding-bottom:0.1cm;\">Marginal R<sup>2</sup> / Conditional R<sup>2</sup></td>\n",
       "<td style=\" padding:0.2cm; text-align:left; vertical-align:top; padding-top:0.1cm; padding-bottom:0.1cm; text-align:left;\" colspan=\"3\">0.284 / 0.764</td>\n",
       "</tr>\n",
       "\n",
       "</table>\n"
      ]
     }
    }
   ],
   "source": [
    "model_patient_prim_outpatient <- lmer(per_heavy_drink_days ~ time_c*arm_c + hdd_0 + \n",
    "                                  outpatient_yn_ever + (1 + time_c | study_id), \n",
    "                                data = subset(data, dyad == 2))\n",
    "\n",
    "sjPlot::tab_model(model_patient_prim_outpatient, show.re.var = F, show.icc = F, terms = c(\"outpatient_yn_ever\"))\n"
   ],
   "id": "86145786-7a5c-456b-ab48-21baf8e097ea"
  },
  {
   "cell_type": "markdown",
   "metadata": {},
   "source": [
    "`er_yn_ever` - **significant**"
   ],
   "id": "b6f80d4a-0712-40be-8af6-347b2568491c"
  },
  {
   "cell_type": "code",
   "execution_count": null,
   "metadata": {},
   "outputs": [
    {
     "output_type": "display_data",
     "metadata": {},
     "data": {
      "text/html": [
       "<table style=\"border-collapse:collapse; border:none;\">\n",
       "<tr>\n",
       "<th style=\"border-top: double; text-align:center; font-style:normal; font-weight:bold; padding:0.2cm;  text-align:left; \">&nbsp;</th>\n",
       "<th colspan=\"3\" style=\"border-top: double; text-align:center; font-style:normal; font-weight:bold; padding:0.2cm; \">per heavy drink days</th>\n",
       "</tr>\n",
       "<tr>\n",
       "<td style=\" text-align:center; border-bottom:1px solid; font-style:italic; font-weight:normal;  text-align:left; \">Predictors</td>\n",
       "<td style=\" text-align:center; border-bottom:1px solid; font-style:italic; font-weight:normal;  \">Estimates</td>\n",
       "<td style=\" text-align:center; border-bottom:1px solid; font-style:italic; font-weight:normal;  \">CI</td>\n",
       "<td style=\" text-align:center; border-bottom:1px solid; font-style:italic; font-weight:normal;  \">p</td>\n",
       "</tr>\n",
       "<tr>\n",
       "<td style=\" padding:0.2cm; text-align:left; vertical-align:top; text-align:left; \">er yn ever</td>\n",
       "<td style=\" padding:0.2cm; text-align:left; vertical-align:top; text-align:center;  \">&#45;10.40</td>\n",
       "<td style=\" padding:0.2cm; text-align:left; vertical-align:top; text-align:center;  \">&#45;18.85&nbsp;&ndash;&nbsp;-1.95</td>\n",
       "<td style=\" padding:0.2cm; text-align:left; vertical-align:top; text-align:center;  \"><strong>0.016</strong></td>\n",
       "</tr>\n",
       "\n",
       "<tr>\n",
       "<td style=\" padding:0.2cm; text-align:left; vertical-align:top; text-align:left; padding-top:0.1cm; padding-bottom:0.1cm;\">N <sub>study_id</sub></td>\n",
       "<td style=\" padding:0.2cm; text-align:left; vertical-align:top; padding-top:0.1cm; padding-bottom:0.1cm; text-align:left;\" colspan=\"3\">158</td>\n",
       "<tr>\n",
       "<td style=\" padding:0.2cm; text-align:left; vertical-align:top; text-align:left; padding-top:0.1cm; padding-bottom:0.1cm; border-top:1px solid;\">Observations</td>\n",
       "<td style=\" padding:0.2cm; text-align:left; vertical-align:top; padding-top:0.1cm; padding-bottom:0.1cm; text-align:left; border-top:1px solid;\" colspan=\"3\">430</td>\n",
       "</tr>\n",
       "<tr>\n",
       "<td style=\" padding:0.2cm; text-align:left; vertical-align:top; text-align:left; padding-top:0.1cm; padding-bottom:0.1cm;\">Marginal R<sup>2</sup> / Conditional R<sup>2</sup></td>\n",
       "<td style=\" padding:0.2cm; text-align:left; vertical-align:top; padding-top:0.1cm; padding-bottom:0.1cm; text-align:left;\" colspan=\"3\">0.284 / 0.761</td>\n",
       "</tr>\n",
       "\n",
       "</table>\n"
      ]
     }
    }
   ],
   "source": [
    "model_patient_prim_er <- lmer(per_heavy_drink_days ~ time_c*arm_c + hdd_0 + \n",
    "                                er_yn_ever + (1 + time_c | study_id), \n",
    "                                data = subset(data, dyad == 2))\n",
    "\n",
    "sjPlot::tab_model(model_patient_prim_er, show.re.var = F, show.icc = F, terms = c(\"er_yn_ever\"))\n"
   ],
   "id": "c2aaa15c-85db-45ed-8a62-129b6f6764f9"
  },
  {
   "cell_type": "markdown",
   "metadata": {},
   "source": [
    "`mat_yn` - not significant"
   ],
   "id": "f39fbfd4-7933-4712-aff8-70aabfd47190"
  },
  {
   "cell_type": "code",
   "execution_count": null,
   "metadata": {},
   "outputs": [
    {
     "output_type": "display_data",
     "metadata": {},
     "data": {
      "text/html": [
       "<table style=\"border-collapse:collapse; border:none;\">\n",
       "<tr>\n",
       "<th style=\"border-top: double; text-align:center; font-style:normal; font-weight:bold; padding:0.2cm;  text-align:left; \">&nbsp;</th>\n",
       "<th colspan=\"3\" style=\"border-top: double; text-align:center; font-style:normal; font-weight:bold; padding:0.2cm; \">per heavy drink days</th>\n",
       "</tr>\n",
       "<tr>\n",
       "<td style=\" text-align:center; border-bottom:1px solid; font-style:italic; font-weight:normal;  text-align:left; \">Predictors</td>\n",
       "<td style=\" text-align:center; border-bottom:1px solid; font-style:italic; font-weight:normal;  \">Estimates</td>\n",
       "<td style=\" text-align:center; border-bottom:1px solid; font-style:italic; font-weight:normal;  \">CI</td>\n",
       "<td style=\" text-align:center; border-bottom:1px solid; font-style:italic; font-weight:normal;  \">p</td>\n",
       "</tr>\n",
       "<tr>\n",
       "<td style=\" padding:0.2cm; text-align:left; vertical-align:top; text-align:left; \">mat yn</td>\n",
       "<td style=\" padding:0.2cm; text-align:left; vertical-align:top; text-align:center;  \">1.49</td>\n",
       "<td style=\" padding:0.2cm; text-align:left; vertical-align:top; text-align:center;  \">&#45;6.36&nbsp;&ndash;&nbsp;9.34</td>\n",
       "<td style=\" padding:0.2cm; text-align:left; vertical-align:top; text-align:center;  \">0.709</td>\n",
       "</tr>\n",
       "\n",
       "<tr>\n",
       "<td style=\" padding:0.2cm; text-align:left; vertical-align:top; text-align:left; padding-top:0.1cm; padding-bottom:0.1cm;\">N <sub>study_id</sub></td>\n",
       "<td style=\" padding:0.2cm; text-align:left; vertical-align:top; padding-top:0.1cm; padding-bottom:0.1cm; text-align:left;\" colspan=\"3\">158</td>\n",
       "<tr>\n",
       "<td style=\" padding:0.2cm; text-align:left; vertical-align:top; text-align:left; padding-top:0.1cm; padding-bottom:0.1cm; border-top:1px solid;\">Observations</td>\n",
       "<td style=\" padding:0.2cm; text-align:left; vertical-align:top; padding-top:0.1cm; padding-bottom:0.1cm; text-align:left; border-top:1px solid;\" colspan=\"3\">410</td>\n",
       "</tr>\n",
       "<tr>\n",
       "<td style=\" padding:0.2cm; text-align:left; vertical-align:top; text-align:left; padding-top:0.1cm; padding-bottom:0.1cm;\">Marginal R<sup>2</sup> / Conditional R<sup>2</sup></td>\n",
       "<td style=\" padding:0.2cm; text-align:left; vertical-align:top; padding-top:0.1cm; padding-bottom:0.1cm; text-align:left;\" colspan=\"3\">0.259 / 0.751</td>\n",
       "</tr>\n",
       "\n",
       "</table>\n"
      ]
     }
    }
   ],
   "source": [
    "model_patient_prim_mat <- lmer(per_heavy_drink_days ~ time_c*arm_c + hdd_0 + \n",
    "                                mat_yn + (1 + time_c | study_id), \n",
    "                                data = subset(data, dyad == 2))\n",
    "\n",
    "sjPlot::tab_model(model_patient_prim_mat, show.re.var = F, show.icc = F, terms = c(\"mat_yn\"))\n"
   ],
   "id": "1fee0a45-164e-4be4-97ce-cdd7d7af7929"
  },
  {
   "cell_type": "markdown",
   "metadata": {},
   "source": [
    "`inpatient_yn_ever` - **significant**"
   ],
   "id": "6377ed11-1392-440b-ad1a-13389fb8cce2"
  },
  {
   "cell_type": "code",
   "execution_count": null,
   "metadata": {},
   "outputs": [
    {
     "output_type": "display_data",
     "metadata": {},
     "data": {
      "text/html": [
       "<table style=\"border-collapse:collapse; border:none;\">\n",
       "<tr>\n",
       "<th style=\"border-top: double; text-align:center; font-style:normal; font-weight:bold; padding:0.2cm;  text-align:left; \">&nbsp;</th>\n",
       "<th colspan=\"3\" style=\"border-top: double; text-align:center; font-style:normal; font-weight:bold; padding:0.2cm; \">per heavy drink days</th>\n",
       "</tr>\n",
       "<tr>\n",
       "<td style=\" text-align:center; border-bottom:1px solid; font-style:italic; font-weight:normal;  text-align:left; \">Predictors</td>\n",
       "<td style=\" text-align:center; border-bottom:1px solid; font-style:italic; font-weight:normal;  \">Estimates</td>\n",
       "<td style=\" text-align:center; border-bottom:1px solid; font-style:italic; font-weight:normal;  \">CI</td>\n",
       "<td style=\" text-align:center; border-bottom:1px solid; font-style:italic; font-weight:normal;  \">p</td>\n",
       "</tr>\n",
       "<tr>\n",
       "<td style=\" padding:0.2cm; text-align:left; vertical-align:top; text-align:left; \">inpatient yn ever</td>\n",
       "<td style=\" padding:0.2cm; text-align:left; vertical-align:top; text-align:center;  \">&#45;10.03</td>\n",
       "<td style=\" padding:0.2cm; text-align:left; vertical-align:top; text-align:center;  \">&#45;19.83&nbsp;&ndash;&nbsp;-0.24</td>\n",
       "<td style=\" padding:0.2cm; text-align:left; vertical-align:top; text-align:center;  \"><strong>0.045</strong></td>\n",
       "</tr>\n",
       "\n",
       "<tr>\n",
       "<td style=\" padding:0.2cm; text-align:left; vertical-align:top; text-align:left; padding-top:0.1cm; padding-bottom:0.1cm;\">N <sub>study_id</sub></td>\n",
       "<td style=\" padding:0.2cm; text-align:left; vertical-align:top; padding-top:0.1cm; padding-bottom:0.1cm; text-align:left;\" colspan=\"3\">158</td>\n",
       "<tr>\n",
       "<td style=\" padding:0.2cm; text-align:left; vertical-align:top; text-align:left; padding-top:0.1cm; padding-bottom:0.1cm; border-top:1px solid;\">Observations</td>\n",
       "<td style=\" padding:0.2cm; text-align:left; vertical-align:top; padding-top:0.1cm; padding-bottom:0.1cm; text-align:left; border-top:1px solid;\" colspan=\"3\">430</td>\n",
       "</tr>\n",
       "<tr>\n",
       "<td style=\" padding:0.2cm; text-align:left; vertical-align:top; text-align:left; padding-top:0.1cm; padding-bottom:0.1cm;\">Marginal R<sup>2</sup> / Conditional R<sup>2</sup></td>\n",
       "<td style=\" padding:0.2cm; text-align:left; vertical-align:top; padding-top:0.1cm; padding-bottom:0.1cm; text-align:left;\" colspan=\"3\">0.282 / 0.764</td>\n",
       "</tr>\n",
       "\n",
       "</table>\n"
      ]
     }
    }
   ],
   "source": [
    "model_patient_prim_inpatient <- lmer(per_heavy_drink_days ~ time_c*arm_c + hdd_0 + \n",
    "                                inpatient_yn_ever + (1 + time_c | study_id), \n",
    "                                data = subset(data, dyad == 2))\n",
    "\n",
    "sjPlot::tab_model(model_patient_prim_inpatient, show.re.var = F, show.icc = F, terms = c(\"inpatient_yn_ever\"))\n"
   ],
   "id": "206c1dc3-180c-4c2b-86ee-8d58a748aec4"
  },
  {
   "cell_type": "markdown",
   "metadata": {},
   "source": [
    "`other_psych_treatment_yn` - not significant"
   ],
   "id": "c65f7f47-df54-4e2c-aba3-7eba66950c57"
  },
  {
   "cell_type": "code",
   "execution_count": null,
   "metadata": {},
   "outputs": [
    {
     "output_type": "display_data",
     "metadata": {},
     "data": {
      "text/html": [
       "<table style=\"border-collapse:collapse; border:none;\">\n",
       "<tr>\n",
       "<th style=\"border-top: double; text-align:center; font-style:normal; font-weight:bold; padding:0.2cm;  text-align:left; \">&nbsp;</th>\n",
       "<th colspan=\"3\" style=\"border-top: double; text-align:center; font-style:normal; font-weight:bold; padding:0.2cm; \">per heavy drink days</th>\n",
       "</tr>\n",
       "<tr>\n",
       "<td style=\" text-align:center; border-bottom:1px solid; font-style:italic; font-weight:normal;  text-align:left; \">Predictors</td>\n",
       "<td style=\" text-align:center; border-bottom:1px solid; font-style:italic; font-weight:normal;  \">Estimates</td>\n",
       "<td style=\" text-align:center; border-bottom:1px solid; font-style:italic; font-weight:normal;  \">CI</td>\n",
       "<td style=\" text-align:center; border-bottom:1px solid; font-style:italic; font-weight:normal;  \">p</td>\n",
       "</tr>\n",
       "<tr>\n",
       "<td style=\" padding:0.2cm; text-align:left; vertical-align:top; text-align:left; \">other psych treatment yn</td>\n",
       "<td style=\" padding:0.2cm; text-align:left; vertical-align:top; text-align:center;  \">1.20</td>\n",
       "<td style=\" padding:0.2cm; text-align:left; vertical-align:top; text-align:center;  \">&#45;5.23&nbsp;&ndash;&nbsp;7.63</td>\n",
       "<td style=\" padding:0.2cm; text-align:left; vertical-align:top; text-align:center;  \">0.713</td>\n",
       "</tr>\n",
       "\n",
       "<tr>\n",
       "<td style=\" padding:0.2cm; text-align:left; vertical-align:top; text-align:left; padding-top:0.1cm; padding-bottom:0.1cm;\">N <sub>study_id</sub></td>\n",
       "<td style=\" padding:0.2cm; text-align:left; vertical-align:top; padding-top:0.1cm; padding-bottom:0.1cm; text-align:left;\" colspan=\"3\">158</td>\n",
       "<tr>\n",
       "<td style=\" padding:0.2cm; text-align:left; vertical-align:top; text-align:left; padding-top:0.1cm; padding-bottom:0.1cm; border-top:1px solid;\">Observations</td>\n",
       "<td style=\" padding:0.2cm; text-align:left; vertical-align:top; padding-top:0.1cm; padding-bottom:0.1cm; text-align:left; border-top:1px solid;\" colspan=\"3\">413</td>\n",
       "</tr>\n",
       "<tr>\n",
       "<td style=\" padding:0.2cm; text-align:left; vertical-align:top; text-align:left; padding-top:0.1cm; padding-bottom:0.1cm;\">Marginal R<sup>2</sup> / Conditional R<sup>2</sup></td>\n",
       "<td style=\" padding:0.2cm; text-align:left; vertical-align:top; padding-top:0.1cm; padding-bottom:0.1cm; text-align:left;\" colspan=\"3\">0.259 / 0.753</td>\n",
       "</tr>\n",
       "\n",
       "</table>\n"
      ]
     }
    }
   ],
   "source": [
    "model_patient_prim_psych <- lmer(per_heavy_drink_days ~ time_c*arm_c + hdd_0 + \n",
    "                                other_psych_treatment_yn + (1 + time_c | study_id), \n",
    "                                data = subset(data, dyad == 2))\n",
    "\n",
    "sjPlot::tab_model(model_patient_prim_psych, show.re.var = F, show.icc = F, terms = c(\"other_psych_treatment_yn\"))\n"
   ],
   "id": "f013e794-d46b-4af0-93fa-8939c4200697"
  },
  {
   "cell_type": "markdown",
   "metadata": {},
   "source": [
    "`other_medications_yn` - not significant"
   ],
   "id": "1b4a6a3a-ef41-4620-8cba-7cbb5699bff9"
  },
  {
   "cell_type": "code",
   "execution_count": null,
   "metadata": {},
   "outputs": [
    {
     "output_type": "display_data",
     "metadata": {},
     "data": {
      "text/html": [
       "<table style=\"border-collapse:collapse; border:none;\">\n",
       "<tr>\n",
       "<th style=\"border-top: double; text-align:center; font-style:normal; font-weight:bold; padding:0.2cm;  text-align:left; \">&nbsp;</th>\n",
       "<th colspan=\"3\" style=\"border-top: double; text-align:center; font-style:normal; font-weight:bold; padding:0.2cm; \">per heavy drink days</th>\n",
       "</tr>\n",
       "<tr>\n",
       "<td style=\" text-align:center; border-bottom:1px solid; font-style:italic; font-weight:normal;  text-align:left; \">Predictors</td>\n",
       "<td style=\" text-align:center; border-bottom:1px solid; font-style:italic; font-weight:normal;  \">Estimates</td>\n",
       "<td style=\" text-align:center; border-bottom:1px solid; font-style:italic; font-weight:normal;  \">CI</td>\n",
       "<td style=\" text-align:center; border-bottom:1px solid; font-style:italic; font-weight:normal;  \">p</td>\n",
       "</tr>\n",
       "<tr>\n",
       "<td style=\" padding:0.2cm; text-align:left; vertical-align:top; text-align:left; \">other medications yn</td>\n",
       "<td style=\" padding:0.2cm; text-align:left; vertical-align:top; text-align:center;  \">&#45;3.36</td>\n",
       "<td style=\" padding:0.2cm; text-align:left; vertical-align:top; text-align:center;  \">&#45;9.56&nbsp;&ndash;&nbsp;2.84</td>\n",
       "<td style=\" padding:0.2cm; text-align:left; vertical-align:top; text-align:center;  \">0.287</td>\n",
       "</tr>\n",
       "\n",
       "<tr>\n",
       "<td style=\" padding:0.2cm; text-align:left; vertical-align:top; text-align:left; padding-top:0.1cm; padding-bottom:0.1cm;\">N <sub>study_id</sub></td>\n",
       "<td style=\" padding:0.2cm; text-align:left; vertical-align:top; padding-top:0.1cm; padding-bottom:0.1cm; text-align:left;\" colspan=\"3\">158</td>\n",
       "<tr>\n",
       "<td style=\" padding:0.2cm; text-align:left; vertical-align:top; text-align:left; padding-top:0.1cm; padding-bottom:0.1cm; border-top:1px solid;\">Observations</td>\n",
       "<td style=\" padding:0.2cm; text-align:left; vertical-align:top; padding-top:0.1cm; padding-bottom:0.1cm; text-align:left; border-top:1px solid;\" colspan=\"3\">409</td>\n",
       "</tr>\n",
       "<tr>\n",
       "<td style=\" padding:0.2cm; text-align:left; vertical-align:top; text-align:left; padding-top:0.1cm; padding-bottom:0.1cm;\">Marginal R<sup>2</sup> / Conditional R<sup>2</sup></td>\n",
       "<td style=\" padding:0.2cm; text-align:left; vertical-align:top; padding-top:0.1cm; padding-bottom:0.1cm; text-align:left;\" colspan=\"3\">0.261 / 0.754</td>\n",
       "</tr>\n",
       "\n",
       "</table>\n"
      ]
     }
    }
   ],
   "source": [
    "model_patient_prim_psych_meds <- lmer(per_heavy_drink_days ~ time_c*arm_c + hdd_0 + \n",
    "                                other_medications_yn + (1 + time_c | study_id), \n",
    "                                data = subset(data, dyad == 2))\n",
    "\n",
    "sjPlot::tab_model(model_patient_prim_psych_meds, show.re.var = F, show.icc = F, terms = c(\"other_medications_yn\"))\n"
   ],
   "id": "1969b05a-f80d-499f-8dec-554339150bae"
  },
  {
   "cell_type": "markdown",
   "metadata": {},
   "source": [
    "##### Final Model with Significant Covariates"
   ],
   "id": "db97f2fd-8e15-4931-8af2-52fcf2b6b85b"
  },
  {
   "cell_type": "code",
   "execution_count": null,
   "metadata": {},
   "outputs": [
    {
     "output_type": "display_data",
     "metadata": {},
     "data": {
      "text/html": [
       "<table style=\"border-collapse:collapse; border:none;\">\n",
       "<tr>\n",
       "<th style=\"border-top: double; text-align:center; font-style:normal; font-weight:bold; padding:0.2cm;  text-align:left; \">&nbsp;</th>\n",
       "<th colspan=\"3\" style=\"border-top: double; text-align:center; font-style:normal; font-weight:bold; padding:0.2cm; \">per heavy drink days</th>\n",
       "</tr>\n",
       "<tr>\n",
       "<td style=\" text-align:center; border-bottom:1px solid; font-style:italic; font-weight:normal;  text-align:left; \">Predictors</td>\n",
       "<td style=\" text-align:center; border-bottom:1px solid; font-style:italic; font-weight:normal;  \">Estimates</td>\n",
       "<td style=\" text-align:center; border-bottom:1px solid; font-style:italic; font-weight:normal;  \">CI</td>\n",
       "<td style=\" text-align:center; border-bottom:1px solid; font-style:italic; font-weight:normal;  \">p</td>\n",
       "</tr>\n",
       "<tr>\n",
       "<td style=\" padding:0.2cm; text-align:left; vertical-align:top; text-align:left; \">(Intercept)</td>\n",
       "<td style=\" padding:0.2cm; text-align:left; vertical-align:top; text-align:center;  \">27.91</td>\n",
       "<td style=\" padding:0.2cm; text-align:left; vertical-align:top; text-align:center;  \">23.34&nbsp;&ndash;&nbsp;32.47</td>\n",
       "<td style=\" padding:0.2cm; text-align:left; vertical-align:top; text-align:center;  \"><strong>&lt;0.001</strong></td>\n",
       "</tr>\n",
       "<tr>\n",
       "<td style=\" padding:0.2cm; text-align:left; vertical-align:top; text-align:left; \">time c</td>\n",
       "<td style=\" padding:0.2cm; text-align:left; vertical-align:top; text-align:center;  \">&#45;5.11</td>\n",
       "<td style=\" padding:0.2cm; text-align:left; vertical-align:top; text-align:center;  \">&#45;7.65&nbsp;&ndash;&nbsp;-2.57</td>\n",
       "<td style=\" padding:0.2cm; text-align:left; vertical-align:top; text-align:center;  \"><strong>&lt;0.001</strong></td>\n",
       "</tr>\n",
       "<tr>\n",
       "<td style=\" padding:0.2cm; text-align:left; vertical-align:top; text-align:left; \">arm cfam and achess vs C</td>\n",
       "<td style=\" padding:0.2cm; text-align:left; vertical-align:top; text-align:center;  \">&#45;2.50</td>\n",
       "<td style=\" padding:0.2cm; text-align:left; vertical-align:top; text-align:center;  \">&#45;10.47&nbsp;&ndash;&nbsp;5.47</td>\n",
       "<td style=\" padding:0.2cm; text-align:left; vertical-align:top; text-align:center;  \">0.538</td>\n",
       "</tr>\n",
       "<tr>\n",
       "<td style=\" padding:0.2cm; text-align:left; vertical-align:top; text-align:left; \">arm cachess vs fam</td>\n",
       "<td style=\" padding:0.2cm; text-align:left; vertical-align:top; text-align:center;  \">4.81</td>\n",
       "<td style=\" padding:0.2cm; text-align:left; vertical-align:top; text-align:center;  \">&#45;4.42&nbsp;&ndash;&nbsp;14.04</td>\n",
       "<td style=\" padding:0.2cm; text-align:left; vertical-align:top; text-align:center;  \">0.307</td>\n",
       "</tr>\n",
       "<tr>\n",
       "<td style=\" padding:0.2cm; text-align:left; vertical-align:top; text-align:left; \">hdd 0</td>\n",
       "<td style=\" padding:0.2cm; text-align:left; vertical-align:top; text-align:center;  \">0.47</td>\n",
       "<td style=\" padding:0.2cm; text-align:left; vertical-align:top; text-align:center;  \">0.36&nbsp;&ndash;&nbsp;0.57</td>\n",
       "<td style=\" padding:0.2cm; text-align:left; vertical-align:top; text-align:center;  \"><strong>&lt;0.001</strong></td>\n",
       "</tr>\n",
       "<tr>\n",
       "<td style=\" padding:0.2cm; text-align:left; vertical-align:top; text-align:left; \">inpatient yn ever</td>\n",
       "<td style=\" padding:0.2cm; text-align:left; vertical-align:top; text-align:center;  \">&#45;7.22</td>\n",
       "<td style=\" padding:0.2cm; text-align:left; vertical-align:top; text-align:center;  \">&#45;17.39&nbsp;&ndash;&nbsp;2.96</td>\n",
       "<td style=\" padding:0.2cm; text-align:left; vertical-align:top; text-align:center;  \">0.164</td>\n",
       "</tr>\n",
       "<tr>\n",
       "<td style=\" padding:0.2cm; text-align:left; vertical-align:top; text-align:left; \">er yn ever</td>\n",
       "<td style=\" padding:0.2cm; text-align:left; vertical-align:top; text-align:center;  \">&#45;8.59</td>\n",
       "<td style=\" padding:0.2cm; text-align:left; vertical-align:top; text-align:center;  \">&#45;17.47&nbsp;&ndash;&nbsp;0.28</td>\n",
       "<td style=\" padding:0.2cm; text-align:left; vertical-align:top; text-align:center;  \">0.058</td>\n",
       "</tr>\n",
       "<tr>\n",
       "<td style=\" padding:0.2cm; text-align:left; vertical-align:top; text-align:left; \">time c × arm cfam and<br>achess vs C</td>\n",
       "<td style=\" padding:0.2cm; text-align:left; vertical-align:top; text-align:center;  \">&#45;6.72</td>\n",
       "<td style=\" padding:0.2cm; text-align:left; vertical-align:top; text-align:center;  \">&#45;12.06&nbsp;&ndash;&nbsp;-1.38</td>\n",
       "<td style=\" padding:0.2cm; text-align:left; vertical-align:top; text-align:center;  \"><strong>0.014</strong></td>\n",
       "</tr>\n",
       "<tr>\n",
       "<td style=\" padding:0.2cm; text-align:left; vertical-align:top; text-align:left; \">time c × arm cachess vs<br>fam</td>\n",
       "<td style=\" padding:0.2cm; text-align:left; vertical-align:top; text-align:center;  \">2.32</td>\n",
       "<td style=\" padding:0.2cm; text-align:left; vertical-align:top; text-align:center;  \">&#45;3.96&nbsp;&ndash;&nbsp;8.60</td>\n",
       "<td style=\" padding:0.2cm; text-align:left; vertical-align:top; text-align:center;  \">0.469</td>\n",
       "</tr>\n",
       "\n",
       "<tr>\n",
       "<td style=\" padding:0.2cm; text-align:left; vertical-align:top; text-align:left; padding-top:0.1cm; padding-bottom:0.1cm;\">N <sub>study_id</sub></td>\n",
       "<td style=\" padding:0.2cm; text-align:left; vertical-align:top; padding-top:0.1cm; padding-bottom:0.1cm; text-align:left;\" colspan=\"3\">158</td>\n",
       "<tr>\n",
       "<td style=\" padding:0.2cm; text-align:left; vertical-align:top; text-align:left; padding-top:0.1cm; padding-bottom:0.1cm; border-top:1px solid;\">Observations</td>\n",
       "<td style=\" padding:0.2cm; text-align:left; vertical-align:top; padding-top:0.1cm; padding-bottom:0.1cm; text-align:left; border-top:1px solid;\" colspan=\"3\">430</td>\n",
       "</tr>\n",
       "<tr>\n",
       "<td style=\" padding:0.2cm; text-align:left; vertical-align:top; text-align:left; padding-top:0.1cm; padding-bottom:0.1cm;\">Marginal R<sup>2</sup> / Conditional R<sup>2</sup></td>\n",
       "<td style=\" padding:0.2cm; text-align:left; vertical-align:top; padding-top:0.1cm; padding-bottom:0.1cm; text-align:left;\" colspan=\"3\">0.288 / 0.761</td>\n",
       "</tr>\n",
       "\n",
       "</table>\n"
      ]
     }
    }
   ],
   "source": [
    "model_patient_prim <- lmer(per_heavy_drink_days ~ time_c*arm_c + hdd_0 + \n",
    "                             inpatient_yn_ever + er_yn_ever +\n",
    "                             (1 + time_c | study_id), data = subset(data, dyad == 2))\n",
    "\n",
    "sjPlot::tab_model(model_patient_prim, show.re.var = F, show.icc = F)\n"
   ],
   "id": "085714d6-0405-4598-9291-d41278f26b08"
  },
  {
   "cell_type": "markdown",
   "metadata": {},
   "source": [
    "#### Primary Partner Outcome: `oq45_scored`\n",
    "\n",
    "Distribution of residuals  \n",
    "*KW: Looks fine*"
   ],
   "id": "bba4799a-c240-4873-b749-94d5dc3e0595"
  },
  {
   "cell_type": "code",
   "execution_count": null,
   "metadata": {},
   "outputs": [
    {
     "output_type": "display_data",
     "metadata": {},
     "data": {
      "image/png": "[encoded data removed]"
     }
    }
   ],
   "source": [
    "model_partner_prim <- lmer(oq45_scored ~ time_c*arm_c + oq45_0 + \n",
    "                             (1 + time_c | study_id), data = subset(data, dyad == 1))\n",
    "\n",
    "tibble(error = residuals(model_partner_prim)) |> \n",
    "  ggplot(aes(x = error)) +\n",
    "  geom_histogram(color = \"black\", fill = \"light grey\", bins = 30)\n"
   ],
   "id": "290bb936-fc15-4c10-b281-605aebb2bcd8"
  },
  {
   "cell_type": "markdown",
   "metadata": {},
   "source": [
    "##### Look for significant covariates (We will only include covariates that significantly predict the outcome).\n",
    "\n",
    "`race_white_only` - not significant"
   ],
   "id": "d307b3c6-7b3e-4bd6-ab16-c0e1b0b029c9"
  },
  {
   "cell_type": "code",
   "execution_count": null,
   "metadata": {},
   "outputs": [
    {
     "output_type": "display_data",
     "metadata": {},
     "data": {
      "text/html": [
       "<table style=\"border-collapse:collapse; border:none;\">\n",
       "<tr>\n",
       "<th style=\"border-top: double; text-align:center; font-style:normal; font-weight:bold; padding:0.2cm;  text-align:left; \">&nbsp;</th>\n",
       "<th colspan=\"3\" style=\"border-top: double; text-align:center; font-style:normal; font-weight:bold; padding:0.2cm; \">oq 45 scored</th>\n",
       "</tr>\n",
       "<tr>\n",
       "<td style=\" text-align:center; border-bottom:1px solid; font-style:italic; font-weight:normal;  text-align:left; \">Predictors</td>\n",
       "<td style=\" text-align:center; border-bottom:1px solid; font-style:italic; font-weight:normal;  \">Estimates</td>\n",
       "<td style=\" text-align:center; border-bottom:1px solid; font-style:italic; font-weight:normal;  \">CI</td>\n",
       "<td style=\" text-align:center; border-bottom:1px solid; font-style:italic; font-weight:normal;  \">p</td>\n",
       "</tr>\n",
       "<tr>\n",
       "<td style=\" padding:0.2cm; text-align:left; vertical-align:top; text-align:left; \">race white only</td>\n",
       "<td style=\" padding:0.2cm; text-align:left; vertical-align:top; text-align:center;  \">&#45;1.69</td>\n",
       "<td style=\" padding:0.2cm; text-align:left; vertical-align:top; text-align:center;  \">&#45;6.98&nbsp;&ndash;&nbsp;3.60</td>\n",
       "<td style=\" padding:0.2cm; text-align:left; vertical-align:top; text-align:center;  \">0.531</td>\n",
       "</tr>\n",
       "\n",
       "<tr>\n",
       "<td style=\" padding:0.2cm; text-align:left; vertical-align:top; text-align:left; padding-top:0.1cm; padding-bottom:0.1cm;\">N <sub>study_id</sub></td>\n",
       "<td style=\" padding:0.2cm; text-align:left; vertical-align:top; padding-top:0.1cm; padding-bottom:0.1cm; text-align:left;\" colspan=\"3\">170</td>\n",
       "<tr>\n",
       "<td style=\" padding:0.2cm; text-align:left; vertical-align:top; text-align:left; padding-top:0.1cm; padding-bottom:0.1cm; border-top:1px solid;\">Observations</td>\n",
       "<td style=\" padding:0.2cm; text-align:left; vertical-align:top; padding-top:0.1cm; padding-bottom:0.1cm; text-align:left; border-top:1px solid;\" colspan=\"3\">454</td>\n",
       "</tr>\n",
       "<tr>\n",
       "<td style=\" padding:0.2cm; text-align:left; vertical-align:top; text-align:left; padding-top:0.1cm; padding-bottom:0.1cm;\">Marginal R<sup>2</sup> / Conditional R<sup>2</sup></td>\n",
       "<td style=\" padding:0.2cm; text-align:left; vertical-align:top; padding-top:0.1cm; padding-bottom:0.1cm; text-align:left;\" colspan=\"3\">0.475 / 0.776</td>\n",
       "</tr>\n",
       "\n",
       "</table>\n"
      ]
     }
    },
    {
     "output_type": "display_data",
     "metadata": {},
     "data": {
      "text/html": [
       "<table style=\"border-collapse:collapse; border:none;\">\n",
       "<tr>\n",
       "<th style=\"border-top: double; text-align:center; font-style:normal; font-weight:bold; padding:0.2cm;  text-align:left; \">&nbsp;</th>\n",
       "<th colspan=\"3\" style=\"border-top: double; text-align:center; font-style:normal; font-weight:bold; padding:0.2cm; \">oq 45 scored</th>\n",
       "</tr>\n",
       "<tr>\n",
       "<td style=\" text-align:center; border-bottom:1px solid; font-style:italic; font-weight:normal;  text-align:left; \">Predictors</td>\n",
       "<td style=\" text-align:center; border-bottom:1px solid; font-style:italic; font-weight:normal;  \">Estimates</td>\n",
       "<td style=\" text-align:center; border-bottom:1px solid; font-style:italic; font-weight:normal;  \">CI</td>\n",
       "<td style=\" text-align:center; border-bottom:1px solid; font-style:italic; font-weight:normal;  \">p</td>\n",
       "</tr>\n",
       "<tr>\n",
       "<td style=\" padding:0.2cm; text-align:left; vertical-align:top; text-align:left; \">race white only</td>\n",
       "<td style=\" padding:0.2cm; text-align:left; vertical-align:top; text-align:center;  \">0.19</td>\n",
       "<td style=\" padding:0.2cm; text-align:left; vertical-align:top; text-align:center;  \">&#45;5.59&nbsp;&ndash;&nbsp;5.97</td>\n",
       "<td style=\" padding:0.2cm; text-align:left; vertical-align:top; text-align:center;  \">0.949</td>\n",
       "</tr>\n",
       "\n",
       "<tr>\n",
       "<td style=\" padding:0.2cm; text-align:left; vertical-align:top; text-align:left; padding-top:0.1cm; padding-bottom:0.1cm;\">N <sub>study_id</sub></td>\n",
       "<td style=\" padding:0.2cm; text-align:left; vertical-align:top; padding-top:0.1cm; padding-bottom:0.1cm; text-align:left;\" colspan=\"3\">168</td>\n",
       "<tr>\n",
       "<td style=\" padding:0.2cm; text-align:left; vertical-align:top; text-align:left; padding-top:0.1cm; padding-bottom:0.1cm; border-top:1px solid;\">Observations</td>\n",
       "<td style=\" padding:0.2cm; text-align:left; vertical-align:top; padding-top:0.1cm; padding-bottom:0.1cm; text-align:left; border-top:1px solid;\" colspan=\"3\">436</td>\n",
       "</tr>\n",
       "<tr>\n",
       "<td style=\" padding:0.2cm; text-align:left; vertical-align:top; text-align:left; padding-top:0.1cm; padding-bottom:0.1cm;\">Marginal R<sup>2</sup> / Conditional R<sup>2</sup></td>\n",
       "<td style=\" padding:0.2cm; text-align:left; vertical-align:top; padding-top:0.1cm; padding-bottom:0.1cm; text-align:left;\" colspan=\"3\">0.436 / 0.803</td>\n",
       "</tr>\n",
       "\n",
       "</table>\n"
      ]
     }
    }
   ],
   "source": [
    "model_partner_prim_race <- lmer(oq45_scored ~ time_c*arm_c + oq45_0 + race_white_only +\n",
    "                             (1 + time_c | study_id), data = subset(data, dyad == 1))\n",
    "sjPlot::tab_model(model_partner_prim_race, show.re.var = F, show.icc = F, terms = c(\"race_white_only\"))\n"
   ],
   "id": "9daf5c32-8b51-4f3d-8cf7-ed7ac8887c97"
  },
  {
   "cell_type": "markdown",
   "metadata": {},
   "source": [
    "`age_c` - not significant"
   ],
   "id": "ca368196-9783-4aa6-bf7e-e39bb0370bdb"
  },
  {
   "cell_type": "code",
   "execution_count": null,
   "metadata": {},
   "outputs": [
    {
     "output_type": "display_data",
     "metadata": {},
     "data": {
      "text/html": [
       "<table style=\"border-collapse:collapse; border:none;\">\n",
       "<tr>\n",
       "<th style=\"border-top: double; text-align:center; font-style:normal; font-weight:bold; padding:0.2cm;  text-align:left; \">&nbsp;</th>\n",
       "<th colspan=\"3\" style=\"border-top: double; text-align:center; font-style:normal; font-weight:bold; padding:0.2cm; \">oq 45 scored</th>\n",
       "</tr>\n",
       "<tr>\n",
       "<td style=\" text-align:center; border-bottom:1px solid; font-style:italic; font-weight:normal;  text-align:left; \">Predictors</td>\n",
       "<td style=\" text-align:center; border-bottom:1px solid; font-style:italic; font-weight:normal;  \">Estimates</td>\n",
       "<td style=\" text-align:center; border-bottom:1px solid; font-style:italic; font-weight:normal;  \">CI</td>\n",
       "<td style=\" text-align:center; border-bottom:1px solid; font-style:italic; font-weight:normal;  \">p</td>\n",
       "</tr>\n",
       "<tr>\n",
       "<td style=\" padding:0.2cm; text-align:left; vertical-align:top; text-align:left; \">age c</td>\n",
       "<td style=\" padding:0.2cm; text-align:left; vertical-align:top; text-align:center;  \">0.00</td>\n",
       "<td style=\" padding:0.2cm; text-align:left; vertical-align:top; text-align:center;  \">&#45;0.15&nbsp;&ndash;&nbsp;0.16</td>\n",
       "<td style=\" padding:0.2cm; text-align:left; vertical-align:top; text-align:center;  \">0.969</td>\n",
       "</tr>\n",
       "\n",
       "<tr>\n",
       "<td style=\" padding:0.2cm; text-align:left; vertical-align:top; text-align:left; padding-top:0.1cm; padding-bottom:0.1cm;\">N <sub>study_id</sub></td>\n",
       "<td style=\" padding:0.2cm; text-align:left; vertical-align:top; padding-top:0.1cm; padding-bottom:0.1cm; text-align:left;\" colspan=\"3\">170</td>\n",
       "<tr>\n",
       "<td style=\" padding:0.2cm; text-align:left; vertical-align:top; text-align:left; padding-top:0.1cm; padding-bottom:0.1cm; border-top:1px solid;\">Observations</td>\n",
       "<td style=\" padding:0.2cm; text-align:left; vertical-align:top; padding-top:0.1cm; padding-bottom:0.1cm; text-align:left; border-top:1px solid;\" colspan=\"3\">454</td>\n",
       "</tr>\n",
       "<tr>\n",
       "<td style=\" padding:0.2cm; text-align:left; vertical-align:top; text-align:left; padding-top:0.1cm; padding-bottom:0.1cm;\">Marginal R<sup>2</sup> / Conditional R<sup>2</sup></td>\n",
       "<td style=\" padding:0.2cm; text-align:left; vertical-align:top; padding-top:0.1cm; padding-bottom:0.1cm; text-align:left;\" colspan=\"3\">0.474 / 0.776</td>\n",
       "</tr>\n",
       "\n",
       "</table>\n"
      ]
     }
    },
    {
     "output_type": "display_data",
     "metadata": {},
     "data": {
      "text/html": [
       "<table style=\"border-collapse:collapse; border:none;\">\n",
       "<tr>\n",
       "<th style=\"border-top: double; text-align:center; font-style:normal; font-weight:bold; padding:0.2cm;  text-align:left; \">&nbsp;</th>\n",
       "<th colspan=\"3\" style=\"border-top: double; text-align:center; font-style:normal; font-weight:bold; padding:0.2cm; \">oq 45 scored</th>\n",
       "</tr>\n",
       "<tr>\n",
       "<td style=\" text-align:center; border-bottom:1px solid; font-style:italic; font-weight:normal;  text-align:left; \">Predictors</td>\n",
       "<td style=\" text-align:center; border-bottom:1px solid; font-style:italic; font-weight:normal;  \">Estimates</td>\n",
       "<td style=\" text-align:center; border-bottom:1px solid; font-style:italic; font-weight:normal;  \">CI</td>\n",
       "<td style=\" text-align:center; border-bottom:1px solid; font-style:italic; font-weight:normal;  \">p</td>\n",
       "</tr>\n",
       "<tr>\n",
       "<td style=\" padding:0.2cm; text-align:left; vertical-align:top; text-align:left; \">age c</td>\n",
       "<td style=\" padding:0.2cm; text-align:left; vertical-align:top; text-align:center;  \">0.10</td>\n",
       "<td style=\" padding:0.2cm; text-align:left; vertical-align:top; text-align:center;  \">&#45;0.11&nbsp;&ndash;&nbsp;0.30</td>\n",
       "<td style=\" padding:0.2cm; text-align:left; vertical-align:top; text-align:center;  \">0.350</td>\n",
       "</tr>\n",
       "\n",
       "<tr>\n",
       "<td style=\" padding:0.2cm; text-align:left; vertical-align:top; text-align:left; padding-top:0.1cm; padding-bottom:0.1cm;\">N <sub>study_id</sub></td>\n",
       "<td style=\" padding:0.2cm; text-align:left; vertical-align:top; padding-top:0.1cm; padding-bottom:0.1cm; text-align:left;\" colspan=\"3\">167</td>\n",
       "<tr>\n",
       "<td style=\" padding:0.2cm; text-align:left; vertical-align:top; text-align:left; padding-top:0.1cm; padding-bottom:0.1cm; border-top:1px solid;\">Observations</td>\n",
       "<td style=\" padding:0.2cm; text-align:left; vertical-align:top; padding-top:0.1cm; padding-bottom:0.1cm; text-align:left; border-top:1px solid;\" colspan=\"3\">433</td>\n",
       "</tr>\n",
       "<tr>\n",
       "<td style=\" padding:0.2cm; text-align:left; vertical-align:top; text-align:left; padding-top:0.1cm; padding-bottom:0.1cm;\">Marginal R<sup>2</sup> / Conditional R<sup>2</sup></td>\n",
       "<td style=\" padding:0.2cm; text-align:left; vertical-align:top; padding-top:0.1cm; padding-bottom:0.1cm; text-align:left;\" colspan=\"3\">0.440 / 0.801</td>\n",
       "</tr>\n",
       "\n",
       "</table>\n"
      ]
     }
    }
   ],
   "source": [
    "model_partner_prim_age <- lmer(oq45_scored ~ time_c*arm_c + oq45_0 + age_c +\n",
    "                             (1 + time_c | study_id), \n",
    "                             data = subset(data, dyad == 1))\n",
    "sjPlot::tab_model(model_partner_prim_age, show.re.var = F, show.icc = F, terms = c(\"age_c\"))\n"
   ],
   "id": "38823436-b9ad-4ce1-a2b9-05a7693ae252"
  },
  {
   "cell_type": "markdown",
   "metadata": {},
   "source": [
    "`edu_c` - **significant for partner but not patient**"
   ],
   "id": "fdc94c8f-994f-483e-a6e4-3cc0722a29cd"
  },
  {
   "cell_type": "code",
   "execution_count": null,
   "metadata": {},
   "outputs": [
    {
     "output_type": "display_data",
     "metadata": {},
     "data": {
      "text/html": [
       "<table style=\"border-collapse:collapse; border:none;\">\n",
       "<tr>\n",
       "<th style=\"border-top: double; text-align:center; font-style:normal; font-weight:bold; padding:0.2cm;  text-align:left; \">&nbsp;</th>\n",
       "<th colspan=\"3\" style=\"border-top: double; text-align:center; font-style:normal; font-weight:bold; padding:0.2cm; \">oq 45 scored</th>\n",
       "</tr>\n",
       "<tr>\n",
       "<td style=\" text-align:center; border-bottom:1px solid; font-style:italic; font-weight:normal;  text-align:left; \">Predictors</td>\n",
       "<td style=\" text-align:center; border-bottom:1px solid; font-style:italic; font-weight:normal;  \">Estimates</td>\n",
       "<td style=\" text-align:center; border-bottom:1px solid; font-style:italic; font-weight:normal;  \">CI</td>\n",
       "<td style=\" text-align:center; border-bottom:1px solid; font-style:italic; font-weight:normal;  \">p</td>\n",
       "</tr>\n",
       "<tr>\n",
       "<td style=\" padding:0.2cm; text-align:left; vertical-align:top; text-align:left; \">edu c</td>\n",
       "<td style=\" padding:0.2cm; text-align:left; vertical-align:top; text-align:center;  \">&#45;2.46</td>\n",
       "<td style=\" padding:0.2cm; text-align:left; vertical-align:top; text-align:center;  \">&#45;4.55&nbsp;&ndash;&nbsp;-0.37</td>\n",
       "<td style=\" padding:0.2cm; text-align:left; vertical-align:top; text-align:center;  \"><strong>0.021</strong></td>\n",
       "</tr>\n",
       "\n",
       "<tr>\n",
       "<td style=\" padding:0.2cm; text-align:left; vertical-align:top; text-align:left; padding-top:0.1cm; padding-bottom:0.1cm;\">N <sub>study_id</sub></td>\n",
       "<td style=\" padding:0.2cm; text-align:left; vertical-align:top; padding-top:0.1cm; padding-bottom:0.1cm; text-align:left;\" colspan=\"3\">170</td>\n",
       "<tr>\n",
       "<td style=\" padding:0.2cm; text-align:left; vertical-align:top; text-align:left; padding-top:0.1cm; padding-bottom:0.1cm; border-top:1px solid;\">Observations</td>\n",
       "<td style=\" padding:0.2cm; text-align:left; vertical-align:top; padding-top:0.1cm; padding-bottom:0.1cm; text-align:left; border-top:1px solid;\" colspan=\"3\">454</td>\n",
       "</tr>\n",
       "<tr>\n",
       "<td style=\" padding:0.2cm; text-align:left; vertical-align:top; text-align:left; padding-top:0.1cm; padding-bottom:0.1cm;\">Marginal R<sup>2</sup> / Conditional R<sup>2</sup></td>\n",
       "<td style=\" padding:0.2cm; text-align:left; vertical-align:top; padding-top:0.1cm; padding-bottom:0.1cm; text-align:left;\" colspan=\"3\">0.486 / 0.777</td>\n",
       "</tr>\n",
       "\n",
       "</table>\n"
      ]
     }
    },
    {
     "output_type": "display_data",
     "metadata": {},
     "data": {
      "text/html": [
       "<table style=\"border-collapse:collapse; border:none;\">\n",
       "<tr>\n",
       "<th style=\"border-top: double; text-align:center; font-style:normal; font-weight:bold; padding:0.2cm;  text-align:left; \">&nbsp;</th>\n",
       "<th colspan=\"3\" style=\"border-top: double; text-align:center; font-style:normal; font-weight:bold; padding:0.2cm; \">oq 45 scored</th>\n",
       "</tr>\n",
       "<tr>\n",
       "<td style=\" text-align:center; border-bottom:1px solid; font-style:italic; font-weight:normal;  text-align:left; \">Predictors</td>\n",
       "<td style=\" text-align:center; border-bottom:1px solid; font-style:italic; font-weight:normal;  \">Estimates</td>\n",
       "<td style=\" text-align:center; border-bottom:1px solid; font-style:italic; font-weight:normal;  \">CI</td>\n",
       "<td style=\" text-align:center; border-bottom:1px solid; font-style:italic; font-weight:normal;  \">p</td>\n",
       "</tr>\n",
       "<tr>\n",
       "<td style=\" padding:0.2cm; text-align:left; vertical-align:top; text-align:left; \">edu c</td>\n",
       "<td style=\" padding:0.2cm; text-align:left; vertical-align:top; text-align:center;  \">&#45;1.13</td>\n",
       "<td style=\" padding:0.2cm; text-align:left; vertical-align:top; text-align:center;  \">&#45;3.46&nbsp;&ndash;&nbsp;1.20</td>\n",
       "<td style=\" padding:0.2cm; text-align:left; vertical-align:top; text-align:center;  \">0.342</td>\n",
       "</tr>\n",
       "\n",
       "<tr>\n",
       "<td style=\" padding:0.2cm; text-align:left; vertical-align:top; text-align:left; padding-top:0.1cm; padding-bottom:0.1cm;\">N <sub>study_id</sub></td>\n",
       "<td style=\" padding:0.2cm; text-align:left; vertical-align:top; padding-top:0.1cm; padding-bottom:0.1cm; text-align:left;\" colspan=\"3\">168</td>\n",
       "<tr>\n",
       "<td style=\" padding:0.2cm; text-align:left; vertical-align:top; text-align:left; padding-top:0.1cm; padding-bottom:0.1cm; border-top:1px solid;\">Observations</td>\n",
       "<td style=\" padding:0.2cm; text-align:left; vertical-align:top; padding-top:0.1cm; padding-bottom:0.1cm; text-align:left; border-top:1px solid;\" colspan=\"3\">436</td>\n",
       "</tr>\n",
       "<tr>\n",
       "<td style=\" padding:0.2cm; text-align:left; vertical-align:top; text-align:left; padding-top:0.1cm; padding-bottom:0.1cm;\">Marginal R<sup>2</sup> / Conditional R<sup>2</sup></td>\n",
       "<td style=\" padding:0.2cm; text-align:left; vertical-align:top; padding-top:0.1cm; padding-bottom:0.1cm; text-align:left;\" colspan=\"3\">0.439 / 0.803</td>\n",
       "</tr>\n",
       "\n",
       "</table>\n"
      ]
     }
    }
   ],
   "source": [
    "model_partner_prim_edu <- lmer(oq45_scored ~ time_c*arm_c + oq45_0 + edu_c +\n",
    "                             (1 + time_c | study_id), \n",
    "                             data = subset(data, dyad == 1))\n",
    "sjPlot::tab_model(model_partner_prim_edu, show.re.var = F, show.icc = F, terms = c(\"edu_c\"))\n"
   ],
   "id": "0efd0bfb-a235-4a8d-bbc5-23139a7ef6eb"
  },
  {
   "cell_type": "markdown",
   "metadata": {},
   "source": [
    "`meetings_yn` - not significant"
   ],
   "id": "a9039ff8-c65d-4c0b-acc8-48b8d28190d4"
  },
  {
   "cell_type": "code",
   "execution_count": null,
   "metadata": {},
   "outputs": [
    {
     "output_type": "display_data",
     "metadata": {},
     "data": {
      "text/html": [
       "<table style=\"border-collapse:collapse; border:none;\">\n",
       "<tr>\n",
       "<th style=\"border-top: double; text-align:center; font-style:normal; font-weight:bold; padding:0.2cm;  text-align:left; \">&nbsp;</th>\n",
       "<th colspan=\"3\" style=\"border-top: double; text-align:center; font-style:normal; font-weight:bold; padding:0.2cm; \">oq 45 scored</th>\n",
       "</tr>\n",
       "<tr>\n",
       "<td style=\" text-align:center; border-bottom:1px solid; font-style:italic; font-weight:normal;  text-align:left; \">Predictors</td>\n",
       "<td style=\" text-align:center; border-bottom:1px solid; font-style:italic; font-weight:normal;  \">Estimates</td>\n",
       "<td style=\" text-align:center; border-bottom:1px solid; font-style:italic; font-weight:normal;  \">CI</td>\n",
       "<td style=\" text-align:center; border-bottom:1px solid; font-style:italic; font-weight:normal;  \">p</td>\n",
       "</tr>\n",
       "<tr>\n",
       "<td style=\" padding:0.2cm; text-align:left; vertical-align:top; text-align:left; \">meetings yn</td>\n",
       "<td style=\" padding:0.2cm; text-align:left; vertical-align:top; text-align:center;  \">0.21</td>\n",
       "<td style=\" padding:0.2cm; text-align:left; vertical-align:top; text-align:center;  \">&#45;4.81&nbsp;&ndash;&nbsp;5.23</td>\n",
       "<td style=\" padding:0.2cm; text-align:left; vertical-align:top; text-align:center;  \">0.936</td>\n",
       "</tr>\n",
       "\n",
       "<tr>\n",
       "<td style=\" padding:0.2cm; text-align:left; vertical-align:top; text-align:left; padding-top:0.1cm; padding-bottom:0.1cm;\">N <sub>study_id</sub></td>\n",
       "<td style=\" padding:0.2cm; text-align:left; vertical-align:top; padding-top:0.1cm; padding-bottom:0.1cm; text-align:left;\" colspan=\"3\">170</td>\n",
       "<tr>\n",
       "<td style=\" padding:0.2cm; text-align:left; vertical-align:top; text-align:left; padding-top:0.1cm; padding-bottom:0.1cm; border-top:1px solid;\">Observations</td>\n",
       "<td style=\" padding:0.2cm; text-align:left; vertical-align:top; padding-top:0.1cm; padding-bottom:0.1cm; text-align:left; border-top:1px solid;\" colspan=\"3\">454</td>\n",
       "</tr>\n",
       "<tr>\n",
       "<td style=\" padding:0.2cm; text-align:left; vertical-align:top; text-align:left; padding-top:0.1cm; padding-bottom:0.1cm;\">Marginal R<sup>2</sup> / Conditional R<sup>2</sup></td>\n",
       "<td style=\" padding:0.2cm; text-align:left; vertical-align:top; padding-top:0.1cm; padding-bottom:0.1cm; text-align:left;\" colspan=\"3\">0.474 / 0.775</td>\n",
       "</tr>\n",
       "\n",
       "</table>\n"
      ]
     }
    },
    {
     "output_type": "display_data",
     "metadata": {},
     "data": {
      "text/html": [
       "<table style=\"border-collapse:collapse; border:none;\">\n",
       "<tr>\n",
       "<th style=\"border-top: double; text-align:center; font-style:normal; font-weight:bold; padding:0.2cm;  text-align:left; \">&nbsp;</th>\n",
       "<th colspan=\"3\" style=\"border-top: double; text-align:center; font-style:normal; font-weight:bold; padding:0.2cm; \">oq 45 scored</th>\n",
       "</tr>\n",
       "<tr>\n",
       "<td style=\" text-align:center; border-bottom:1px solid; font-style:italic; font-weight:normal;  text-align:left; \">Predictors</td>\n",
       "<td style=\" text-align:center; border-bottom:1px solid; font-style:italic; font-weight:normal;  \">Estimates</td>\n",
       "<td style=\" text-align:center; border-bottom:1px solid; font-style:italic; font-weight:normal;  \">CI</td>\n",
       "<td style=\" text-align:center; border-bottom:1px solid; font-style:italic; font-weight:normal;  \">p</td>\n",
       "</tr>\n",
       "<tr>\n",
       "<td style=\" padding:0.2cm; text-align:left; vertical-align:top; text-align:left; \">meetings yn</td>\n",
       "<td style=\" padding:0.2cm; text-align:left; vertical-align:top; text-align:center;  \">&#45;0.69</td>\n",
       "<td style=\" padding:0.2cm; text-align:left; vertical-align:top; text-align:center;  \">&#45;5.12&nbsp;&ndash;&nbsp;3.75</td>\n",
       "<td style=\" padding:0.2cm; text-align:left; vertical-align:top; text-align:center;  \">0.761</td>\n",
       "</tr>\n",
       "\n",
       "<tr>\n",
       "<td style=\" padding:0.2cm; text-align:left; vertical-align:top; text-align:left; padding-top:0.1cm; padding-bottom:0.1cm;\">N <sub>study_id</sub></td>\n",
       "<td style=\" padding:0.2cm; text-align:left; vertical-align:top; padding-top:0.1cm; padding-bottom:0.1cm; text-align:left;\" colspan=\"3\">167</td>\n",
       "<tr>\n",
       "<td style=\" padding:0.2cm; text-align:left; vertical-align:top; text-align:left; padding-top:0.1cm; padding-bottom:0.1cm; border-top:1px solid;\">Observations</td>\n",
       "<td style=\" padding:0.2cm; text-align:left; vertical-align:top; padding-top:0.1cm; padding-bottom:0.1cm; text-align:left; border-top:1px solid;\" colspan=\"3\">435</td>\n",
       "</tr>\n",
       "<tr>\n",
       "<td style=\" padding:0.2cm; text-align:left; vertical-align:top; text-align:left; padding-top:0.1cm; padding-bottom:0.1cm;\">Marginal R<sup>2</sup> / Conditional R<sup>2</sup></td>\n",
       "<td style=\" padding:0.2cm; text-align:left; vertical-align:top; padding-top:0.1cm; padding-bottom:0.1cm; text-align:left;\" colspan=\"3\">0.436 / 0.800</td>\n",
       "</tr>\n",
       "\n",
       "</table>\n"
      ]
     }
    }
   ],
   "source": [
    "model_partner_prim_meetings <- lmer(oq45_scored ~ time_c*arm_c + oq45_0 + meetings_yn +\n",
    "                             (1 + time_c | study_id), \n",
    "                             data = subset(data, dyad == 1))\n",
    "sjPlot::tab_model(model_partner_prim_meetings, show.re.var = F, show.icc = F, terms = c(\"meetings_yn\"))\n"
   ],
   "id": "4d34c4f6-e8fa-4de1-b51e-33351aa63eb4"
  },
  {
   "cell_type": "markdown",
   "metadata": {},
   "source": [
    "`outpatient_yn_ever` - **significant for partner but not patient**"
   ],
   "id": "f75a5b64-3d71-420d-a5a9-964206ab97b2"
  },
  {
   "cell_type": "code",
   "execution_count": null,
   "metadata": {},
   "outputs": [
    {
     "output_type": "display_data",
     "metadata": {},
     "data": {
      "text/html": [
       "<table style=\"border-collapse:collapse; border:none;\">\n",
       "<tr>\n",
       "<th style=\"border-top: double; text-align:center; font-style:normal; font-weight:bold; padding:0.2cm;  text-align:left; \">&nbsp;</th>\n",
       "<th colspan=\"3\" style=\"border-top: double; text-align:center; font-style:normal; font-weight:bold; padding:0.2cm; \">oq 45 scored</th>\n",
       "</tr>\n",
       "<tr>\n",
       "<td style=\" text-align:center; border-bottom:1px solid; font-style:italic; font-weight:normal;  text-align:left; \">Predictors</td>\n",
       "<td style=\" text-align:center; border-bottom:1px solid; font-style:italic; font-weight:normal;  \">Estimates</td>\n",
       "<td style=\" text-align:center; border-bottom:1px solid; font-style:italic; font-weight:normal;  \">CI</td>\n",
       "<td style=\" text-align:center; border-bottom:1px solid; font-style:italic; font-weight:normal;  \">p</td>\n",
       "</tr>\n",
       "<tr>\n",
       "<td style=\" padding:0.2cm; text-align:left; vertical-align:top; text-align:left; \">outpatient yn ever</td>\n",
       "<td style=\" padding:0.2cm; text-align:left; vertical-align:top; text-align:center;  \">9.99</td>\n",
       "<td style=\" padding:0.2cm; text-align:left; vertical-align:top; text-align:center;  \">0.57&nbsp;&ndash;&nbsp;19.41</td>\n",
       "<td style=\" padding:0.2cm; text-align:left; vertical-align:top; text-align:center;  \"><strong>0.038</strong></td>\n",
       "</tr>\n",
       "\n",
       "<tr>\n",
       "<td style=\" padding:0.2cm; text-align:left; vertical-align:top; text-align:left; padding-top:0.1cm; padding-bottom:0.1cm;\">N <sub>study_id</sub></td>\n",
       "<td style=\" padding:0.2cm; text-align:left; vertical-align:top; padding-top:0.1cm; padding-bottom:0.1cm; text-align:left;\" colspan=\"3\">170</td>\n",
       "<tr>\n",
       "<td style=\" padding:0.2cm; text-align:left; vertical-align:top; text-align:left; padding-top:0.1cm; padding-bottom:0.1cm; border-top:1px solid;\">Observations</td>\n",
       "<td style=\" padding:0.2cm; text-align:left; vertical-align:top; padding-top:0.1cm; padding-bottom:0.1cm; text-align:left; border-top:1px solid;\" colspan=\"3\">454</td>\n",
       "</tr>\n",
       "<tr>\n",
       "<td style=\" padding:0.2cm; text-align:left; vertical-align:top; text-align:left; padding-top:0.1cm; padding-bottom:0.1cm;\">Marginal R<sup>2</sup> / Conditional R<sup>2</sup></td>\n",
       "<td style=\" padding:0.2cm; text-align:left; vertical-align:top; padding-top:0.1cm; padding-bottom:0.1cm; text-align:left;\" colspan=\"3\">0.482 / 0.776</td>\n",
       "</tr>\n",
       "\n",
       "</table>\n"
      ]
     }
    },
    {
     "output_type": "display_data",
     "metadata": {},
     "data": {
      "text/html": [
       "<table style=\"border-collapse:collapse; border:none;\">\n",
       "<tr>\n",
       "<th style=\"border-top: double; text-align:center; font-style:normal; font-weight:bold; padding:0.2cm;  text-align:left; \">&nbsp;</th>\n",
       "<th colspan=\"3\" style=\"border-top: double; text-align:center; font-style:normal; font-weight:bold; padding:0.2cm; \">oq 45 scored</th>\n",
       "</tr>\n",
       "<tr>\n",
       "<td style=\" text-align:center; border-bottom:1px solid; font-style:italic; font-weight:normal;  text-align:left; \">Predictors</td>\n",
       "<td style=\" text-align:center; border-bottom:1px solid; font-style:italic; font-weight:normal;  \">Estimates</td>\n",
       "<td style=\" text-align:center; border-bottom:1px solid; font-style:italic; font-weight:normal;  \">CI</td>\n",
       "<td style=\" text-align:center; border-bottom:1px solid; font-style:italic; font-weight:normal;  \">p</td>\n",
       "</tr>\n",
       "<tr>\n",
       "<td style=\" padding:0.2cm; text-align:left; vertical-align:top; text-align:left; \">outpatient yn ever</td>\n",
       "<td style=\" padding:0.2cm; text-align:left; vertical-align:top; text-align:center;  \">1.39</td>\n",
       "<td style=\" padding:0.2cm; text-align:left; vertical-align:top; text-align:center;  \">&#45;4.13&nbsp;&ndash;&nbsp;6.91</td>\n",
       "<td style=\" padding:0.2cm; text-align:left; vertical-align:top; text-align:center;  \">0.621</td>\n",
       "</tr>\n",
       "\n",
       "<tr>\n",
       "<td style=\" padding:0.2cm; text-align:left; vertical-align:top; text-align:left; padding-top:0.1cm; padding-bottom:0.1cm;\">N <sub>study_id</sub></td>\n",
       "<td style=\" padding:0.2cm; text-align:left; vertical-align:top; padding-top:0.1cm; padding-bottom:0.1cm; text-align:left;\" colspan=\"3\">168</td>\n",
       "<tr>\n",
       "<td style=\" padding:0.2cm; text-align:left; vertical-align:top; text-align:left; padding-top:0.1cm; padding-bottom:0.1cm; border-top:1px solid;\">Observations</td>\n",
       "<td style=\" padding:0.2cm; text-align:left; vertical-align:top; padding-top:0.1cm; padding-bottom:0.1cm; text-align:left; border-top:1px solid;\" colspan=\"3\">436</td>\n",
       "</tr>\n",
       "<tr>\n",
       "<td style=\" padding:0.2cm; text-align:left; vertical-align:top; text-align:left; padding-top:0.1cm; padding-bottom:0.1cm;\">Marginal R<sup>2</sup> / Conditional R<sup>2</sup></td>\n",
       "<td style=\" padding:0.2cm; text-align:left; vertical-align:top; padding-top:0.1cm; padding-bottom:0.1cm; text-align:left;\" colspan=\"3\">0.437 / 0.803</td>\n",
       "</tr>\n",
       "\n",
       "</table>\n"
      ]
     }
    }
   ],
   "source": [
    "model_partner_prim_outpatient <- lmer(oq45_scored ~ time_c*arm_c + oq45_0 + \n",
    "                                       outpatient_yn_ever + (1 + time_c | study_id), \n",
    "                                 data = subset(data, dyad == 1))\n",
    "sjPlot::tab_model(model_partner_prim_outpatient, show.re.var = F, show.icc = F, terms = c(\"outpatient_yn_ever\"))\n"
   ],
   "id": "0d81bd7d-e3fc-405d-8c93-7eb9cb456a07"
  },
  {
   "cell_type": "markdown",
   "metadata": {},
   "source": [
    "`er_yn_ever` - Not significant"
   ],
   "id": "014f0f07-8361-4e92-a268-27ae8301009c"
  },
  {
   "cell_type": "code",
   "execution_count": null,
   "metadata": {},
   "outputs": [
    {
     "output_type": "display_data",
     "metadata": {},
     "data": {
      "text/html": [
       "<table style=\"border-collapse:collapse; border:none;\">\n",
       "<tr>\n",
       "<th style=\"border-top: double; text-align:center; font-style:normal; font-weight:bold; padding:0.2cm;  text-align:left; \">&nbsp;</th>\n",
       "<th colspan=\"3\" style=\"border-top: double; text-align:center; font-style:normal; font-weight:bold; padding:0.2cm; \">oq 45 scored</th>\n",
       "</tr>\n",
       "<tr>\n",
       "<td style=\" text-align:center; border-bottom:1px solid; font-style:italic; font-weight:normal;  text-align:left; \">Predictors</td>\n",
       "<td style=\" text-align:center; border-bottom:1px solid; font-style:italic; font-weight:normal;  \">Estimates</td>\n",
       "<td style=\" text-align:center; border-bottom:1px solid; font-style:italic; font-weight:normal;  \">CI</td>\n",
       "<td style=\" text-align:center; border-bottom:1px solid; font-style:italic; font-weight:normal;  \">p</td>\n",
       "</tr>\n",
       "<tr>\n",
       "<td style=\" padding:0.2cm; text-align:left; vertical-align:top; text-align:left; \">er yn ever</td>\n",
       "<td style=\" padding:0.2cm; text-align:left; vertical-align:top; text-align:center;  \">3.79</td>\n",
       "<td style=\" padding:0.2cm; text-align:left; vertical-align:top; text-align:center;  \">&#45;2.02&nbsp;&ndash;&nbsp;9.61</td>\n",
       "<td style=\" padding:0.2cm; text-align:left; vertical-align:top; text-align:center;  \">0.200</td>\n",
       "</tr>\n",
       "\n",
       "<tr>\n",
       "<td style=\" padding:0.2cm; text-align:left; vertical-align:top; text-align:left; padding-top:0.1cm; padding-bottom:0.1cm;\">N <sub>study_id</sub></td>\n",
       "<td style=\" padding:0.2cm; text-align:left; vertical-align:top; padding-top:0.1cm; padding-bottom:0.1cm; text-align:left;\" colspan=\"3\">170</td>\n",
       "<tr>\n",
       "<td style=\" padding:0.2cm; text-align:left; vertical-align:top; text-align:left; padding-top:0.1cm; padding-bottom:0.1cm; border-top:1px solid;\">Observations</td>\n",
       "<td style=\" padding:0.2cm; text-align:left; vertical-align:top; padding-top:0.1cm; padding-bottom:0.1cm; text-align:left; border-top:1px solid;\" colspan=\"3\">454</td>\n",
       "</tr>\n",
       "<tr>\n",
       "<td style=\" padding:0.2cm; text-align:left; vertical-align:top; text-align:left; padding-top:0.1cm; padding-bottom:0.1cm;\">Marginal R<sup>2</sup> / Conditional R<sup>2</sup></td>\n",
       "<td style=\" padding:0.2cm; text-align:left; vertical-align:top; padding-top:0.1cm; padding-bottom:0.1cm; text-align:left;\" colspan=\"3\">0.477 / 0.776</td>\n",
       "</tr>\n",
       "\n",
       "</table>\n"
      ]
     }
    },
    {
     "output_type": "display_data",
     "metadata": {},
     "data": {
      "text/html": [
       "<table style=\"border-collapse:collapse; border:none;\">\n",
       "<tr>\n",
       "<th style=\"border-top: double; text-align:center; font-style:normal; font-weight:bold; padding:0.2cm;  text-align:left; \">&nbsp;</th>\n",
       "<th colspan=\"3\" style=\"border-top: double; text-align:center; font-style:normal; font-weight:bold; padding:0.2cm; \">oq 45 scored</th>\n",
       "</tr>\n",
       "<tr>\n",
       "<td style=\" text-align:center; border-bottom:1px solid; font-style:italic; font-weight:normal;  text-align:left; \">Predictors</td>\n",
       "<td style=\" text-align:center; border-bottom:1px solid; font-style:italic; font-weight:normal;  \">Estimates</td>\n",
       "<td style=\" text-align:center; border-bottom:1px solid; font-style:italic; font-weight:normal;  \">CI</td>\n",
       "<td style=\" text-align:center; border-bottom:1px solid; font-style:italic; font-weight:normal;  \">p</td>\n",
       "</tr>\n",
       "<tr>\n",
       "<td style=\" padding:0.2cm; text-align:left; vertical-align:top; text-align:left; \">er yn ever</td>\n",
       "<td style=\" padding:0.2cm; text-align:left; vertical-align:top; text-align:center;  \">3.12</td>\n",
       "<td style=\" padding:0.2cm; text-align:left; vertical-align:top; text-align:center;  \">&#45;2.71&nbsp;&ndash;&nbsp;8.95</td>\n",
       "<td style=\" padding:0.2cm; text-align:left; vertical-align:top; text-align:center;  \">0.294</td>\n",
       "</tr>\n",
       "\n",
       "<tr>\n",
       "<td style=\" padding:0.2cm; text-align:left; vertical-align:top; text-align:left; padding-top:0.1cm; padding-bottom:0.1cm;\">N <sub>study_id</sub></td>\n",
       "<td style=\" padding:0.2cm; text-align:left; vertical-align:top; padding-top:0.1cm; padding-bottom:0.1cm; text-align:left;\" colspan=\"3\">168</td>\n",
       "<tr>\n",
       "<td style=\" padding:0.2cm; text-align:left; vertical-align:top; text-align:left; padding-top:0.1cm; padding-bottom:0.1cm; border-top:1px solid;\">Observations</td>\n",
       "<td style=\" padding:0.2cm; text-align:left; vertical-align:top; padding-top:0.1cm; padding-bottom:0.1cm; text-align:left; border-top:1px solid;\" colspan=\"3\">436</td>\n",
       "</tr>\n",
       "<tr>\n",
       "<td style=\" padding:0.2cm; text-align:left; vertical-align:top; text-align:left; padding-top:0.1cm; padding-bottom:0.1cm;\">Marginal R<sup>2</sup> / Conditional R<sup>2</sup></td>\n",
       "<td style=\" padding:0.2cm; text-align:left; vertical-align:top; padding-top:0.1cm; padding-bottom:0.1cm; text-align:left;\" colspan=\"3\">0.439 / 0.804</td>\n",
       "</tr>\n",
       "\n",
       "</table>\n"
      ]
     }
    }
   ],
   "source": [
    "model_partner_prim_er <- lmer(oq45_scored ~ time_c*arm_c + oq45_0 + \n",
    "                              er_yn_ever + (1 + time_c | study_id), \n",
    "                          data = subset(data, dyad == 1))\n",
    "sjPlot::tab_model(model_partner_prim_er, show.re.var = F, show.icc = F, terms = c(\"er_yn_ever\"))\n"
   ],
   "id": "a2d740cc-658e-4c52-b46f-3427f101225b"
  },
  {
   "cell_type": "markdown",
   "metadata": {},
   "source": [
    "`mat_yn` - not significant for partner, **significant for patient**"
   ],
   "id": "0a7a0c00-9197-44d0-aa53-400ae377f784"
  },
  {
   "cell_type": "code",
   "execution_count": null,
   "metadata": {},
   "outputs": [
    {
     "output_type": "display_data",
     "metadata": {},
     "data": {
      "text/html": [
       "<table style=\"border-collapse:collapse; border:none;\">\n",
       "<tr>\n",
       "<th style=\"border-top: double; text-align:center; font-style:normal; font-weight:bold; padding:0.2cm;  text-align:left; \">&nbsp;</th>\n",
       "<th colspan=\"3\" style=\"border-top: double; text-align:center; font-style:normal; font-weight:bold; padding:0.2cm; \">oq 45 scored</th>\n",
       "</tr>\n",
       "<tr>\n",
       "<td style=\" text-align:center; border-bottom:1px solid; font-style:italic; font-weight:normal;  text-align:left; \">Predictors</td>\n",
       "<td style=\" text-align:center; border-bottom:1px solid; font-style:italic; font-weight:normal;  \">Estimates</td>\n",
       "<td style=\" text-align:center; border-bottom:1px solid; font-style:italic; font-weight:normal;  \">CI</td>\n",
       "<td style=\" text-align:center; border-bottom:1px solid; font-style:italic; font-weight:normal;  \">p</td>\n",
       "</tr>\n",
       "<tr>\n",
       "<td style=\" padding:0.2cm; text-align:left; vertical-align:top; text-align:left; \">mat yn</td>\n",
       "<td style=\" padding:0.2cm; text-align:left; vertical-align:top; text-align:center;  \">9.22</td>\n",
       "<td style=\" padding:0.2cm; text-align:left; vertical-align:top; text-align:center;  \">&#45;0.20&nbsp;&ndash;&nbsp;18.63</td>\n",
       "<td style=\" padding:0.2cm; text-align:left; vertical-align:top; text-align:center;  \">0.055</td>\n",
       "</tr>\n",
       "\n",
       "<tr>\n",
       "<td style=\" padding:0.2cm; text-align:left; vertical-align:top; text-align:left; padding-top:0.1cm; padding-bottom:0.1cm;\">N <sub>study_id</sub></td>\n",
       "<td style=\" padding:0.2cm; text-align:left; vertical-align:top; padding-top:0.1cm; padding-bottom:0.1cm; text-align:left;\" colspan=\"3\">170</td>\n",
       "<tr>\n",
       "<td style=\" padding:0.2cm; text-align:left; vertical-align:top; text-align:left; padding-top:0.1cm; padding-bottom:0.1cm; border-top:1px solid;\">Observations</td>\n",
       "<td style=\" padding:0.2cm; text-align:left; vertical-align:top; padding-top:0.1cm; padding-bottom:0.1cm; text-align:left; border-top:1px solid;\" colspan=\"3\">454</td>\n",
       "</tr>\n",
       "<tr>\n",
       "<td style=\" padding:0.2cm; text-align:left; vertical-align:top; text-align:left; padding-top:0.1cm; padding-bottom:0.1cm;\">Marginal R<sup>2</sup> / Conditional R<sup>2</sup></td>\n",
       "<td style=\" padding:0.2cm; text-align:left; vertical-align:top; padding-top:0.1cm; padding-bottom:0.1cm; text-align:left;\" colspan=\"3\">0.479 / 0.778</td>\n",
       "</tr>\n",
       "\n",
       "</table>\n"
      ]
     }
    },
    {
     "output_type": "display_data",
     "metadata": {},
     "data": {
      "text/html": [
       "<table style=\"border-collapse:collapse; border:none;\">\n",
       "<tr>\n",
       "<th style=\"border-top: double; text-align:center; font-style:normal; font-weight:bold; padding:0.2cm;  text-align:left; \">&nbsp;</th>\n",
       "<th colspan=\"3\" style=\"border-top: double; text-align:center; font-style:normal; font-weight:bold; padding:0.2cm; \">oq 45 scored</th>\n",
       "</tr>\n",
       "<tr>\n",
       "<td style=\" text-align:center; border-bottom:1px solid; font-style:italic; font-weight:normal;  text-align:left; \">Predictors</td>\n",
       "<td style=\" text-align:center; border-bottom:1px solid; font-style:italic; font-weight:normal;  \">Estimates</td>\n",
       "<td style=\" text-align:center; border-bottom:1px solid; font-style:italic; font-weight:normal;  \">CI</td>\n",
       "<td style=\" text-align:center; border-bottom:1px solid; font-style:italic; font-weight:normal;  \">p</td>\n",
       "</tr>\n",
       "<tr>\n",
       "<td style=\" padding:0.2cm; text-align:left; vertical-align:top; text-align:left; \">mat yn</td>\n",
       "<td style=\" padding:0.2cm; text-align:left; vertical-align:top; text-align:center;  \">6.86</td>\n",
       "<td style=\" padding:0.2cm; text-align:left; vertical-align:top; text-align:center;  \">2.05&nbsp;&ndash;&nbsp;11.68</td>\n",
       "<td style=\" padding:0.2cm; text-align:left; vertical-align:top; text-align:center;  \"><strong>0.005</strong></td>\n",
       "</tr>\n",
       "\n",
       "<tr>\n",
       "<td style=\" padding:0.2cm; text-align:left; vertical-align:top; text-align:left; padding-top:0.1cm; padding-bottom:0.1cm;\">N <sub>study_id</sub></td>\n",
       "<td style=\" padding:0.2cm; text-align:left; vertical-align:top; padding-top:0.1cm; padding-bottom:0.1cm; text-align:left;\" colspan=\"3\">167</td>\n",
       "<tr>\n",
       "<td style=\" padding:0.2cm; text-align:left; vertical-align:top; text-align:left; padding-top:0.1cm; padding-bottom:0.1cm; border-top:1px solid;\">Observations</td>\n",
       "<td style=\" padding:0.2cm; text-align:left; vertical-align:top; padding-top:0.1cm; padding-bottom:0.1cm; text-align:left; border-top:1px solid;\" colspan=\"3\">432</td>\n",
       "</tr>\n",
       "<tr>\n",
       "<td style=\" padding:0.2cm; text-align:left; vertical-align:top; text-align:left; padding-top:0.1cm; padding-bottom:0.1cm;\">Marginal R<sup>2</sup> / Conditional R<sup>2</sup></td>\n",
       "<td style=\" padding:0.2cm; text-align:left; vertical-align:top; padding-top:0.1cm; padding-bottom:0.1cm; text-align:left;\" colspan=\"3\">0.445 / 0.808</td>\n",
       "</tr>\n",
       "\n",
       "</table>\n"
      ]
     }
    }
   ],
   "source": [
    "model_partner_prim_mat <- lmer(oq45_scored ~ time_c*arm_c + oq45_0 + \n",
    "                              mat_yn + (1 + time_c | study_id), \n",
    "                          data = subset(data, dyad == 1))\n",
    "sjPlot::tab_model(model_partner_prim_mat, show.re.var = F, show.icc = F, terms = c(\"mat_yn\"))\n"
   ],
   "id": "d457189f-da3c-44d5-a2eb-3ccffaa59d62"
  },
  {
   "cell_type": "markdown",
   "metadata": {},
   "source": [
    "`inpatient_yn_ever` - not significant"
   ],
   "id": "8915b7c5-3347-49af-b5e3-44f321b22a39"
  },
  {
   "cell_type": "code",
   "execution_count": null,
   "metadata": {},
   "outputs": [
    {
     "output_type": "display_data",
     "metadata": {},
     "data": {
      "text/html": [
       "<table style=\"border-collapse:collapse; border:none;\">\n",
       "<tr>\n",
       "<th style=\"border-top: double; text-align:center; font-style:normal; font-weight:bold; padding:0.2cm;  text-align:left; \">&nbsp;</th>\n",
       "<th colspan=\"3\" style=\"border-top: double; text-align:center; font-style:normal; font-weight:bold; padding:0.2cm; \">oq 45 scored</th>\n",
       "</tr>\n",
       "<tr>\n",
       "<td style=\" text-align:center; border-bottom:1px solid; font-style:italic; font-weight:normal;  text-align:left; \">Predictors</td>\n",
       "<td style=\" text-align:center; border-bottom:1px solid; font-style:italic; font-weight:normal;  \">Estimates</td>\n",
       "<td style=\" text-align:center; border-bottom:1px solid; font-style:italic; font-weight:normal;  \">CI</td>\n",
       "<td style=\" text-align:center; border-bottom:1px solid; font-style:italic; font-weight:normal;  \">p</td>\n",
       "</tr>\n",
       "<tr>\n",
       "<td style=\" padding:0.2cm; text-align:left; vertical-align:top; text-align:left; \">inpatient yn ever</td>\n",
       "<td style=\" padding:0.2cm; text-align:left; vertical-align:top; text-align:center;  \">11.49</td>\n",
       "<td style=\" padding:0.2cm; text-align:left; vertical-align:top; text-align:center;  \">&#45;3.59&nbsp;&ndash;&nbsp;26.57</td>\n",
       "<td style=\" padding:0.2cm; text-align:left; vertical-align:top; text-align:center;  \">0.135</td>\n",
       "</tr>\n",
       "\n",
       "<tr>\n",
       "<td style=\" padding:0.2cm; text-align:left; vertical-align:top; text-align:left; padding-top:0.1cm; padding-bottom:0.1cm;\">N <sub>study_id</sub></td>\n",
       "<td style=\" padding:0.2cm; text-align:left; vertical-align:top; padding-top:0.1cm; padding-bottom:0.1cm; text-align:left;\" colspan=\"3\">170</td>\n",
       "<tr>\n",
       "<td style=\" padding:0.2cm; text-align:left; vertical-align:top; text-align:left; padding-top:0.1cm; padding-bottom:0.1cm; border-top:1px solid;\">Observations</td>\n",
       "<td style=\" padding:0.2cm; text-align:left; vertical-align:top; padding-top:0.1cm; padding-bottom:0.1cm; text-align:left; border-top:1px solid;\" colspan=\"3\">454</td>\n",
       "</tr>\n",
       "<tr>\n",
       "<td style=\" padding:0.2cm; text-align:left; vertical-align:top; text-align:left; padding-top:0.1cm; padding-bottom:0.1cm;\">Marginal R<sup>2</sup> / Conditional R<sup>2</sup></td>\n",
       "<td style=\" padding:0.2cm; text-align:left; vertical-align:top; padding-top:0.1cm; padding-bottom:0.1cm; text-align:left;\" colspan=\"3\">0.478 / 0.776</td>\n",
       "</tr>\n",
       "\n",
       "</table>\n"
      ]
     }
    },
    {
     "output_type": "display_data",
     "metadata": {},
     "data": {
      "text/html": [
       "<table style=\"border-collapse:collapse; border:none;\">\n",
       "<tr>\n",
       "<th style=\"border-top: double; text-align:center; font-style:normal; font-weight:bold; padding:0.2cm;  text-align:left; \">&nbsp;</th>\n",
       "<th colspan=\"3\" style=\"border-top: double; text-align:center; font-style:normal; font-weight:bold; padding:0.2cm; \">oq 45 scored</th>\n",
       "</tr>\n",
       "<tr>\n",
       "<td style=\" text-align:center; border-bottom:1px solid; font-style:italic; font-weight:normal;  text-align:left; \">Predictors</td>\n",
       "<td style=\" text-align:center; border-bottom:1px solid; font-style:italic; font-weight:normal;  \">Estimates</td>\n",
       "<td style=\" text-align:center; border-bottom:1px solid; font-style:italic; font-weight:normal;  \">CI</td>\n",
       "<td style=\" text-align:center; border-bottom:1px solid; font-style:italic; font-weight:normal;  \">p</td>\n",
       "</tr>\n",
       "<tr>\n",
       "<td style=\" padding:0.2cm; text-align:left; vertical-align:top; text-align:left; \">inpatient yn ever</td>\n",
       "<td style=\" padding:0.2cm; text-align:left; vertical-align:top; text-align:center;  \">3.73</td>\n",
       "<td style=\" padding:0.2cm; text-align:left; vertical-align:top; text-align:center;  \">&#45;2.93&nbsp;&ndash;&nbsp;10.39</td>\n",
       "<td style=\" padding:0.2cm; text-align:left; vertical-align:top; text-align:center;  \">0.272</td>\n",
       "</tr>\n",
       "\n",
       "<tr>\n",
       "<td style=\" padding:0.2cm; text-align:left; vertical-align:top; text-align:left; padding-top:0.1cm; padding-bottom:0.1cm;\">N <sub>study_id</sub></td>\n",
       "<td style=\" padding:0.2cm; text-align:left; vertical-align:top; padding-top:0.1cm; padding-bottom:0.1cm; text-align:left;\" colspan=\"3\">168</td>\n",
       "<tr>\n",
       "<td style=\" padding:0.2cm; text-align:left; vertical-align:top; text-align:left; padding-top:0.1cm; padding-bottom:0.1cm; border-top:1px solid;\">Observations</td>\n",
       "<td style=\" padding:0.2cm; text-align:left; vertical-align:top; padding-top:0.1cm; padding-bottom:0.1cm; text-align:left; border-top:1px solid;\" colspan=\"3\">436</td>\n",
       "</tr>\n",
       "<tr>\n",
       "<td style=\" padding:0.2cm; text-align:left; vertical-align:top; text-align:left; padding-top:0.1cm; padding-bottom:0.1cm;\">Marginal R<sup>2</sup> / Conditional R<sup>2</sup></td>\n",
       "<td style=\" padding:0.2cm; text-align:left; vertical-align:top; padding-top:0.1cm; padding-bottom:0.1cm; text-align:left;\" colspan=\"3\">0.438 / 0.803</td>\n",
       "</tr>\n",
       "\n",
       "</table>\n"
      ]
     }
    }
   ],
   "source": [
    "model_partner_prim_inpatient <- lmer(oq45_scored ~ time_c*arm_c + oq45_0 + \n",
    "                              inpatient_yn_ever + (1 + time_c | study_id), \n",
    "                          data = subset(data, dyad == 1))\n",
    "sjPlot::tab_model(model_partner_prim_inpatient, show.re.var = F, show.icc = F, terms = c(\"inpatient_yn_ever\"))\n"
   ],
   "id": "27b18cb8-253d-46f6-99cb-5df97039445e"
  },
  {
   "cell_type": "markdown",
   "metadata": {},
   "source": [
    "`other_psych_treatment_yn` - **significant for partner, but not for patient**"
   ],
   "id": "f5412945-d72a-42d8-b792-64ef02b3bd50"
  },
  {
   "cell_type": "code",
   "execution_count": null,
   "metadata": {},
   "outputs": [
    {
     "output_type": "display_data",
     "metadata": {},
     "data": {
      "text/html": [
       "<table style=\"border-collapse:collapse; border:none;\">\n",
       "<tr>\n",
       "<th style=\"border-top: double; text-align:center; font-style:normal; font-weight:bold; padding:0.2cm;  text-align:left; \">&nbsp;</th>\n",
       "<th colspan=\"3\" style=\"border-top: double; text-align:center; font-style:normal; font-weight:bold; padding:0.2cm; \">oq 45 scored</th>\n",
       "</tr>\n",
       "<tr>\n",
       "<td style=\" text-align:center; border-bottom:1px solid; font-style:italic; font-weight:normal;  text-align:left; \">Predictors</td>\n",
       "<td style=\" text-align:center; border-bottom:1px solid; font-style:italic; font-weight:normal;  \">Estimates</td>\n",
       "<td style=\" text-align:center; border-bottom:1px solid; font-style:italic; font-weight:normal;  \">CI</td>\n",
       "<td style=\" text-align:center; border-bottom:1px solid; font-style:italic; font-weight:normal;  \">p</td>\n",
       "</tr>\n",
       "<tr>\n",
       "<td style=\" padding:0.2cm; text-align:left; vertical-align:top; text-align:left; \">other psych treatment yn</td>\n",
       "<td style=\" padding:0.2cm; text-align:left; vertical-align:top; text-align:center;  \">5.33</td>\n",
       "<td style=\" padding:0.2cm; text-align:left; vertical-align:top; text-align:center;  \">0.23&nbsp;&ndash;&nbsp;10.43</td>\n",
       "<td style=\" padding:0.2cm; text-align:left; vertical-align:top; text-align:center;  \"><strong>0.041</strong></td>\n",
       "</tr>\n",
       "\n",
       "<tr>\n",
       "<td style=\" padding:0.2cm; text-align:left; vertical-align:top; text-align:left; padding-top:0.1cm; padding-bottom:0.1cm;\">N <sub>study_id</sub></td>\n",
       "<td style=\" padding:0.2cm; text-align:left; vertical-align:top; padding-top:0.1cm; padding-bottom:0.1cm; text-align:left;\" colspan=\"3\">170</td>\n",
       "<tr>\n",
       "<td style=\" padding:0.2cm; text-align:left; vertical-align:top; text-align:left; padding-top:0.1cm; padding-bottom:0.1cm; border-top:1px solid;\">Observations</td>\n",
       "<td style=\" padding:0.2cm; text-align:left; vertical-align:top; padding-top:0.1cm; padding-bottom:0.1cm; text-align:left; border-top:1px solid;\" colspan=\"3\">454</td>\n",
       "</tr>\n",
       "<tr>\n",
       "<td style=\" padding:0.2cm; text-align:left; vertical-align:top; text-align:left; padding-top:0.1cm; padding-bottom:0.1cm;\">Marginal R<sup>2</sup> / Conditional R<sup>2</sup></td>\n",
       "<td style=\" padding:0.2cm; text-align:left; vertical-align:top; padding-top:0.1cm; padding-bottom:0.1cm; text-align:left;\" colspan=\"3\">0.481 / 0.770</td>\n",
       "</tr>\n",
       "\n",
       "</table>\n"
      ]
     }
    },
    {
     "output_type": "display_data",
     "metadata": {},
     "data": {
      "text/html": [
       "<table style=\"border-collapse:collapse; border:none;\">\n",
       "<tr>\n",
       "<th style=\"border-top: double; text-align:center; font-style:normal; font-weight:bold; padding:0.2cm;  text-align:left; \">&nbsp;</th>\n",
       "<th colspan=\"3\" style=\"border-top: double; text-align:center; font-style:normal; font-weight:bold; padding:0.2cm; \">oq 45 scored</th>\n",
       "</tr>\n",
       "<tr>\n",
       "<td style=\" text-align:center; border-bottom:1px solid; font-style:italic; font-weight:normal;  text-align:left; \">Predictors</td>\n",
       "<td style=\" text-align:center; border-bottom:1px solid; font-style:italic; font-weight:normal;  \">Estimates</td>\n",
       "<td style=\" text-align:center; border-bottom:1px solid; font-style:italic; font-weight:normal;  \">CI</td>\n",
       "<td style=\" text-align:center; border-bottom:1px solid; font-style:italic; font-weight:normal;  \">p</td>\n",
       "</tr>\n",
       "<tr>\n",
       "<td style=\" padding:0.2cm; text-align:left; vertical-align:top; text-align:left; \">other psych treatment yn</td>\n",
       "<td style=\" padding:0.2cm; text-align:left; vertical-align:top; text-align:center;  \">&#45;0.61</td>\n",
       "<td style=\" padding:0.2cm; text-align:left; vertical-align:top; text-align:center;  \">&#45;4.72&nbsp;&ndash;&nbsp;3.51</td>\n",
       "<td style=\" padding:0.2cm; text-align:left; vertical-align:top; text-align:center;  \">0.772</td>\n",
       "</tr>\n",
       "\n",
       "<tr>\n",
       "<td style=\" padding:0.2cm; text-align:left; vertical-align:top; text-align:left; padding-top:0.1cm; padding-bottom:0.1cm;\">N <sub>study_id</sub></td>\n",
       "<td style=\" padding:0.2cm; text-align:left; vertical-align:top; padding-top:0.1cm; padding-bottom:0.1cm; text-align:left;\" colspan=\"3\">167</td>\n",
       "<tr>\n",
       "<td style=\" padding:0.2cm; text-align:left; vertical-align:top; text-align:left; padding-top:0.1cm; padding-bottom:0.1cm; border-top:1px solid;\">Observations</td>\n",
       "<td style=\" padding:0.2cm; text-align:left; vertical-align:top; padding-top:0.1cm; padding-bottom:0.1cm; text-align:left; border-top:1px solid;\" colspan=\"3\">435</td>\n",
       "</tr>\n",
       "<tr>\n",
       "<td style=\" padding:0.2cm; text-align:left; vertical-align:top; text-align:left; padding-top:0.1cm; padding-bottom:0.1cm;\">Marginal R<sup>2</sup> / Conditional R<sup>2</sup></td>\n",
       "<td style=\" padding:0.2cm; text-align:left; vertical-align:top; padding-top:0.1cm; padding-bottom:0.1cm; text-align:left;\" colspan=\"3\">0.435 / 0.802</td>\n",
       "</tr>\n",
       "\n",
       "</table>\n"
      ]
     }
    }
   ],
   "source": [
    "model_partner_prim_psych <- lmer(oq45_scored ~ time_c*arm_c + oq45_0 + \n",
    "                              other_psych_treatment_yn + (1 + time_c | study_id), \n",
    "                          data = subset(data, dyad == 1))\n",
    "sjPlot::tab_model(model_partner_prim_psych, show.re.var = F, show.icc = F, terms = c(\"other_psych_treatment_yn\"))\n"
   ],
   "id": "5beadcf6-cec7-4c1d-9235-360dce2b0e07"
  },
  {
   "cell_type": "markdown",
   "metadata": {},
   "source": [
    "`other_medications_yn` - **significant for partner but not for patient**"
   ],
   "id": "ce1ee598-5d47-4243-a09e-0a8fc92661ce"
  },
  {
   "cell_type": "code",
   "execution_count": null,
   "metadata": {},
   "outputs": [
    {
     "output_type": "display_data",
     "metadata": {},
     "data": {
      "text/html": [
       "<table style=\"border-collapse:collapse; border:none;\">\n",
       "<tr>\n",
       "<th style=\"border-top: double; text-align:center; font-style:normal; font-weight:bold; padding:0.2cm;  text-align:left; \">&nbsp;</th>\n",
       "<th colspan=\"3\" style=\"border-top: double; text-align:center; font-style:normal; font-weight:bold; padding:0.2cm; \">oq 45 scored</th>\n",
       "</tr>\n",
       "<tr>\n",
       "<td style=\" text-align:center; border-bottom:1px solid; font-style:italic; font-weight:normal;  text-align:left; \">Predictors</td>\n",
       "<td style=\" text-align:center; border-bottom:1px solid; font-style:italic; font-weight:normal;  \">Estimates</td>\n",
       "<td style=\" text-align:center; border-bottom:1px solid; font-style:italic; font-weight:normal;  \">CI</td>\n",
       "<td style=\" text-align:center; border-bottom:1px solid; font-style:italic; font-weight:normal;  \">p</td>\n",
       "</tr>\n",
       "<tr>\n",
       "<td style=\" padding:0.2cm; text-align:left; vertical-align:top; text-align:left; \">other medications yn</td>\n",
       "<td style=\" padding:0.2cm; text-align:left; vertical-align:top; text-align:center;  \">6.02</td>\n",
       "<td style=\" padding:0.2cm; text-align:left; vertical-align:top; text-align:center;  \">1.88&nbsp;&ndash;&nbsp;10.15</td>\n",
       "<td style=\" padding:0.2cm; text-align:left; vertical-align:top; text-align:center;  \"><strong>0.004</strong></td>\n",
       "</tr>\n",
       "\n",
       "<tr>\n",
       "<td style=\" padding:0.2cm; text-align:left; vertical-align:top; text-align:left; padding-top:0.1cm; padding-bottom:0.1cm;\">N <sub>study_id</sub></td>\n",
       "<td style=\" padding:0.2cm; text-align:left; vertical-align:top; padding-top:0.1cm; padding-bottom:0.1cm; text-align:left;\" colspan=\"3\">170</td>\n",
       "<tr>\n",
       "<td style=\" padding:0.2cm; text-align:left; vertical-align:top; text-align:left; padding-top:0.1cm; padding-bottom:0.1cm; border-top:1px solid;\">Observations</td>\n",
       "<td style=\" padding:0.2cm; text-align:left; vertical-align:top; padding-top:0.1cm; padding-bottom:0.1cm; text-align:left; border-top:1px solid;\" colspan=\"3\">452</td>\n",
       "</tr>\n",
       "<tr>\n",
       "<td style=\" padding:0.2cm; text-align:left; vertical-align:top; text-align:left; padding-top:0.1cm; padding-bottom:0.1cm;\">Marginal R<sup>2</sup> / Conditional R<sup>2</sup></td>\n",
       "<td style=\" padding:0.2cm; text-align:left; vertical-align:top; padding-top:0.1cm; padding-bottom:0.1cm; text-align:left;\" colspan=\"3\">0.491 / 0.769</td>\n",
       "</tr>\n",
       "\n",
       "</table>\n"
      ]
     }
    },
    {
     "output_type": "display_data",
     "metadata": {},
     "data": {
      "text/html": [
       "<table style=\"border-collapse:collapse; border:none;\">\n",
       "<tr>\n",
       "<th style=\"border-top: double; text-align:center; font-style:normal; font-weight:bold; padding:0.2cm;  text-align:left; \">&nbsp;</th>\n",
       "<th colspan=\"3\" style=\"border-top: double; text-align:center; font-style:normal; font-weight:bold; padding:0.2cm; \">oq 45 scored</th>\n",
       "</tr>\n",
       "<tr>\n",
       "<td style=\" text-align:center; border-bottom:1px solid; font-style:italic; font-weight:normal;  text-align:left; \">Predictors</td>\n",
       "<td style=\" text-align:center; border-bottom:1px solid; font-style:italic; font-weight:normal;  \">Estimates</td>\n",
       "<td style=\" text-align:center; border-bottom:1px solid; font-style:italic; font-weight:normal;  \">CI</td>\n",
       "<td style=\" text-align:center; border-bottom:1px solid; font-style:italic; font-weight:normal;  \">p</td>\n",
       "</tr>\n",
       "<tr>\n",
       "<td style=\" padding:0.2cm; text-align:left; vertical-align:top; text-align:left; \">other medications yn</td>\n",
       "<td style=\" padding:0.2cm; text-align:left; vertical-align:top; text-align:center;  \">3.09</td>\n",
       "<td style=\" padding:0.2cm; text-align:left; vertical-align:top; text-align:center;  \">&#45;0.92&nbsp;&ndash;&nbsp;7.10</td>\n",
       "<td style=\" padding:0.2cm; text-align:left; vertical-align:top; text-align:center;  \">0.131</td>\n",
       "</tr>\n",
       "\n",
       "<tr>\n",
       "<td style=\" padding:0.2cm; text-align:left; vertical-align:top; text-align:left; padding-top:0.1cm; padding-bottom:0.1cm;\">N <sub>study_id</sub></td>\n",
       "<td style=\" padding:0.2cm; text-align:left; vertical-align:top; padding-top:0.1cm; padding-bottom:0.1cm; text-align:left;\" colspan=\"3\">167</td>\n",
       "<tr>\n",
       "<td style=\" padding:0.2cm; text-align:left; vertical-align:top; text-align:left; padding-top:0.1cm; padding-bottom:0.1cm; border-top:1px solid;\">Observations</td>\n",
       "<td style=\" padding:0.2cm; text-align:left; vertical-align:top; padding-top:0.1cm; padding-bottom:0.1cm; text-align:left; border-top:1px solid;\" colspan=\"3\">431</td>\n",
       "</tr>\n",
       "<tr>\n",
       "<td style=\" padding:0.2cm; text-align:left; vertical-align:top; text-align:left; padding-top:0.1cm; padding-bottom:0.1cm;\">Marginal R<sup>2</sup> / Conditional R<sup>2</sup></td>\n",
       "<td style=\" padding:0.2cm; text-align:left; vertical-align:top; padding-top:0.1cm; padding-bottom:0.1cm; text-align:left;\" colspan=\"3\">0.442 / 0.799</td>\n",
       "</tr>\n",
       "\n",
       "</table>\n"
      ]
     }
    }
   ],
   "source": [
    "model_partner_prim_psych_meds <- lmer(oq45_scored ~ time_c*arm_c + oq45_0 + \n",
    "                              other_medications_yn + (1 + time_c | study_id), \n",
    "                          data = subset(data, dyad == 1))\n",
    "sjPlot::tab_model(model_partner_prim_psych_meds, show.re.var = F, show.icc = F, terms = c(\"other_medications_yn\"))\n"
   ],
   "id": "a84504a0-1950-4c2f-8e63-c166e4e09d52"
  },
  {
   "cell_type": "markdown",
   "metadata": {},
   "source": [
    "##### Final Model with Significant Covariates"
   ],
   "id": "4567d168-5a42-4b04-9eca-7a621842cee3"
  },
  {
   "cell_type": "code",
   "execution_count": null,
   "metadata": {},
   "outputs": [
    {
     "output_type": "display_data",
     "metadata": {},
     "data": {
      "text/html": [
       "<table style=\"border-collapse:collapse; border:none;\">\n",
       "<tr>\n",
       "<th style=\"border-top: double; text-align:center; font-style:normal; font-weight:bold; padding:0.2cm;  text-align:left; \">&nbsp;</th>\n",
       "<th colspan=\"3\" style=\"border-top: double; text-align:center; font-style:normal; font-weight:bold; padding:0.2cm; \">oq 45 scored</th>\n",
       "</tr>\n",
       "<tr>\n",
       "<td style=\" text-align:center; border-bottom:1px solid; font-style:italic; font-weight:normal;  text-align:left; \">Predictors</td>\n",
       "<td style=\" text-align:center; border-bottom:1px solid; font-style:italic; font-weight:normal;  \">Estimates</td>\n",
       "<td style=\" text-align:center; border-bottom:1px solid; font-style:italic; font-weight:normal;  \">CI</td>\n",
       "<td style=\" text-align:center; border-bottom:1px solid; font-style:italic; font-weight:normal;  \">p</td>\n",
       "</tr>\n",
       "<tr>\n",
       "<td style=\" padding:0.2cm; text-align:left; vertical-align:top; text-align:left; \">(Intercept)</td>\n",
       "<td style=\" padding:0.2cm; text-align:left; vertical-align:top; text-align:center;  \">54.11</td>\n",
       "<td style=\" padding:0.2cm; text-align:left; vertical-align:top; text-align:center;  \">51.34&nbsp;&ndash;&nbsp;56.88</td>\n",
       "<td style=\" padding:0.2cm; text-align:left; vertical-align:top; text-align:center;  \"><strong>&lt;0.001</strong></td>\n",
       "</tr>\n",
       "<tr>\n",
       "<td style=\" padding:0.2cm; text-align:left; vertical-align:top; text-align:left; \">time c</td>\n",
       "<td style=\" padding:0.2cm; text-align:left; vertical-align:top; text-align:center;  \">&#45;0.86</td>\n",
       "<td style=\" padding:0.2cm; text-align:left; vertical-align:top; text-align:center;  \">&#45;2.24&nbsp;&ndash;&nbsp;0.52</td>\n",
       "<td style=\" padding:0.2cm; text-align:left; vertical-align:top; text-align:center;  \">0.222</td>\n",
       "</tr>\n",
       "<tr>\n",
       "<td style=\" padding:0.2cm; text-align:left; vertical-align:top; text-align:left; \">arm cfam and achess vs C</td>\n",
       "<td style=\" padding:0.2cm; text-align:left; vertical-align:top; text-align:center;  \">&#45;2.48</td>\n",
       "<td style=\" padding:0.2cm; text-align:left; vertical-align:top; text-align:center;  \">&#45;7.07&nbsp;&ndash;&nbsp;2.10</td>\n",
       "<td style=\" padding:0.2cm; text-align:left; vertical-align:top; text-align:center;  \">0.287</td>\n",
       "</tr>\n",
       "<tr>\n",
       "<td style=\" padding:0.2cm; text-align:left; vertical-align:top; text-align:left; \">arm cachess vs fam</td>\n",
       "<td style=\" padding:0.2cm; text-align:left; vertical-align:top; text-align:center;  \">&#45;1.05</td>\n",
       "<td style=\" padding:0.2cm; text-align:left; vertical-align:top; text-align:center;  \">&#45;6.26&nbsp;&ndash;&nbsp;4.17</td>\n",
       "<td style=\" padding:0.2cm; text-align:left; vertical-align:top; text-align:center;  \">0.693</td>\n",
       "</tr>\n",
       "<tr>\n",
       "<td style=\" padding:0.2cm; text-align:left; vertical-align:top; text-align:left; \">oq45 0</td>\n",
       "<td style=\" padding:0.2cm; text-align:left; vertical-align:top; text-align:center;  \">0.71</td>\n",
       "<td style=\" padding:0.2cm; text-align:left; vertical-align:top; text-align:center;  \">0.61&nbsp;&ndash;&nbsp;0.81</td>\n",
       "<td style=\" padding:0.2cm; text-align:left; vertical-align:top; text-align:center;  \"><strong>&lt;0.001</strong></td>\n",
       "</tr>\n",
       "<tr>\n",
       "<td style=\" padding:0.2cm; text-align:left; vertical-align:top; text-align:left; \">edu c</td>\n",
       "<td style=\" padding:0.2cm; text-align:left; vertical-align:top; text-align:center;  \">&#45;2.34</td>\n",
       "<td style=\" padding:0.2cm; text-align:left; vertical-align:top; text-align:center;  \">&#45;4.38&nbsp;&ndash;&nbsp;-0.30</td>\n",
       "<td style=\" padding:0.2cm; text-align:left; vertical-align:top; text-align:center;  \"><strong>0.025</strong></td>\n",
       "</tr>\n",
       "<tr>\n",
       "<td style=\" padding:0.2cm; text-align:left; vertical-align:top; text-align:left; \">outpatient yn ever</td>\n",
       "<td style=\" padding:0.2cm; text-align:left; vertical-align:top; text-align:center;  \">8.18</td>\n",
       "<td style=\" padding:0.2cm; text-align:left; vertical-align:top; text-align:center;  \">&#45;0.97&nbsp;&ndash;&nbsp;17.34</td>\n",
       "<td style=\" padding:0.2cm; text-align:left; vertical-align:top; text-align:center;  \">0.080</td>\n",
       "</tr>\n",
       "<tr>\n",
       "<td style=\" padding:0.2cm; text-align:left; vertical-align:top; text-align:left; \">other psych treatment yn</td>\n",
       "<td style=\" padding:0.2cm; text-align:left; vertical-align:top; text-align:center;  \">3.72</td>\n",
       "<td style=\" padding:0.2cm; text-align:left; vertical-align:top; text-align:center;  \">&#45;1.43&nbsp;&ndash;&nbsp;8.87</td>\n",
       "<td style=\" padding:0.2cm; text-align:left; vertical-align:top; text-align:center;  \">0.156</td>\n",
       "</tr>\n",
       "<tr>\n",
       "<td style=\" padding:0.2cm; text-align:left; vertical-align:top; text-align:left; \">other medications yn</td>\n",
       "<td style=\" padding:0.2cm; text-align:left; vertical-align:top; text-align:center;  \">5.35</td>\n",
       "<td style=\" padding:0.2cm; text-align:left; vertical-align:top; text-align:center;  \">1.18&nbsp;&ndash;&nbsp;9.53</td>\n",
       "<td style=\" padding:0.2cm; text-align:left; vertical-align:top; text-align:center;  \"><strong>0.012</strong></td>\n",
       "</tr>\n",
       "<tr>\n",
       "<td style=\" padding:0.2cm; text-align:left; vertical-align:top; text-align:left; \">time c × arm cfam and<br>achess vs C</td>\n",
       "<td style=\" padding:0.2cm; text-align:left; vertical-align:top; text-align:center;  \">&#45;1.55</td>\n",
       "<td style=\" padding:0.2cm; text-align:left; vertical-align:top; text-align:center;  \">&#45;4.53&nbsp;&ndash;&nbsp;1.43</td>\n",
       "<td style=\" padding:0.2cm; text-align:left; vertical-align:top; text-align:center;  \">0.308</td>\n",
       "</tr>\n",
       "<tr>\n",
       "<td style=\" padding:0.2cm; text-align:left; vertical-align:top; text-align:left; \">time c × arm cachess vs<br>fam</td>\n",
       "<td style=\" padding:0.2cm; text-align:left; vertical-align:top; text-align:center;  \">0.75</td>\n",
       "<td style=\" padding:0.2cm; text-align:left; vertical-align:top; text-align:center;  \">&#45;2.56&nbsp;&ndash;&nbsp;4.07</td>\n",
       "<td style=\" padding:0.2cm; text-align:left; vertical-align:top; text-align:center;  \">0.655</td>\n",
       "</tr>\n",
       "\n",
       "<tr>\n",
       "<td style=\" padding:0.2cm; text-align:left; vertical-align:top; text-align:left; padding-top:0.1cm; padding-bottom:0.1cm;\">N <sub>study_id</sub></td>\n",
       "<td style=\" padding:0.2cm; text-align:left; vertical-align:top; padding-top:0.1cm; padding-bottom:0.1cm; text-align:left;\" colspan=\"3\">170</td>\n",
       "<tr>\n",
       "<td style=\" padding:0.2cm; text-align:left; vertical-align:top; text-align:left; padding-top:0.1cm; padding-bottom:0.1cm; border-top:1px solid;\">Observations</td>\n",
       "<td style=\" padding:0.2cm; text-align:left; vertical-align:top; padding-top:0.1cm; padding-bottom:0.1cm; text-align:left; border-top:1px solid;\" colspan=\"3\">452</td>\n",
       "</tr>\n",
       "<tr>\n",
       "<td style=\" padding:0.2cm; text-align:left; vertical-align:top; text-align:left; padding-top:0.1cm; padding-bottom:0.1cm;\">Marginal R<sup>2</sup> / Conditional R<sup>2</sup></td>\n",
       "<td style=\" padding:0.2cm; text-align:left; vertical-align:top; padding-top:0.1cm; padding-bottom:0.1cm; text-align:left;\" colspan=\"3\">0.508 / 0.767</td>\n",
       "</tr>\n",
       "\n",
       "</table>\n"
      ]
     }
    },
    {
     "output_type": "display_data",
     "metadata": {},
     "data": {
      "text/html": [
       "<table style=\"border-collapse:collapse; border:none;\">\n",
       "<tr>\n",
       "<th style=\"border-top: double; text-align:center; font-style:normal; font-weight:bold; padding:0.2cm;  text-align:left; \">&nbsp;</th>\n",
       "<th colspan=\"3\" style=\"border-top: double; text-align:center; font-style:normal; font-weight:bold; padding:0.2cm; \">oq 45 scored</th>\n",
       "</tr>\n",
       "<tr>\n",
       "<td style=\" text-align:center; border-bottom:1px solid; font-style:italic; font-weight:normal;  text-align:left; \">Predictors</td>\n",
       "<td style=\" text-align:center; border-bottom:1px solid; font-style:italic; font-weight:normal;  \">Estimates</td>\n",
       "<td style=\" text-align:center; border-bottom:1px solid; font-style:italic; font-weight:normal;  \">CI</td>\n",
       "<td style=\" text-align:center; border-bottom:1px solid; font-style:italic; font-weight:normal;  \">p</td>\n",
       "</tr>\n",
       "<tr>\n",
       "<td style=\" padding:0.2cm; text-align:left; vertical-align:top; text-align:left; \">(Intercept)</td>\n",
       "<td style=\" padding:0.2cm; text-align:left; vertical-align:top; text-align:center;  \">53.80</td>\n",
       "<td style=\" padding:0.2cm; text-align:left; vertical-align:top; text-align:center;  \">50.92&nbsp;&ndash;&nbsp;56.68</td>\n",
       "<td style=\" padding:0.2cm; text-align:left; vertical-align:top; text-align:center;  \"><strong>&lt;0.001</strong></td>\n",
       "</tr>\n",
       "<tr>\n",
       "<td style=\" padding:0.2cm; text-align:left; vertical-align:top; text-align:left; \">time c</td>\n",
       "<td style=\" padding:0.2cm; text-align:left; vertical-align:top; text-align:center;  \">&#45;3.35</td>\n",
       "<td style=\" padding:0.2cm; text-align:left; vertical-align:top; text-align:center;  \">&#45;4.93&nbsp;&ndash;&nbsp;-1.77</td>\n",
       "<td style=\" padding:0.2cm; text-align:left; vertical-align:top; text-align:center;  \"><strong>&lt;0.001</strong></td>\n",
       "</tr>\n",
       "<tr>\n",
       "<td style=\" padding:0.2cm; text-align:left; vertical-align:top; text-align:left; \">arm cfam and achess vs C</td>\n",
       "<td style=\" padding:0.2cm; text-align:left; vertical-align:top; text-align:center;  \">&#45;7.11</td>\n",
       "<td style=\" padding:0.2cm; text-align:left; vertical-align:top; text-align:center;  \">&#45;12.70&nbsp;&ndash;&nbsp;-1.52</td>\n",
       "<td style=\" padding:0.2cm; text-align:left; vertical-align:top; text-align:center;  \"><strong>0.013</strong></td>\n",
       "</tr>\n",
       "<tr>\n",
       "<td style=\" padding:0.2cm; text-align:left; vertical-align:top; text-align:left; \">arm cachess vs fam</td>\n",
       "<td style=\" padding:0.2cm; text-align:left; vertical-align:top; text-align:center;  \">0.25</td>\n",
       "<td style=\" padding:0.2cm; text-align:left; vertical-align:top; text-align:center;  \">&#45;6.11&nbsp;&ndash;&nbsp;6.61</td>\n",
       "<td style=\" padding:0.2cm; text-align:left; vertical-align:top; text-align:center;  \">0.939</td>\n",
       "</tr>\n",
       "<tr>\n",
       "<td style=\" padding:0.2cm; text-align:left; vertical-align:top; text-align:left; \">oq45 0</td>\n",
       "<td style=\" padding:0.2cm; text-align:left; vertical-align:top; text-align:center;  \">0.69</td>\n",
       "<td style=\" padding:0.2cm; text-align:left; vertical-align:top; text-align:center;  \">0.58&nbsp;&ndash;&nbsp;0.79</td>\n",
       "<td style=\" padding:0.2cm; text-align:left; vertical-align:top; text-align:center;  \"><strong>&lt;0.001</strong></td>\n",
       "</tr>\n",
       "<tr>\n",
       "<td style=\" padding:0.2cm; text-align:left; vertical-align:top; text-align:left; \">mat yn</td>\n",
       "<td style=\" padding:0.2cm; text-align:left; vertical-align:top; text-align:center;  \">6.86</td>\n",
       "<td style=\" padding:0.2cm; text-align:left; vertical-align:top; text-align:center;  \">2.05&nbsp;&ndash;&nbsp;11.68</td>\n",
       "<td style=\" padding:0.2cm; text-align:left; vertical-align:top; text-align:center;  \"><strong>0.005</strong></td>\n",
       "</tr>\n",
       "<tr>\n",
       "<td style=\" padding:0.2cm; text-align:left; vertical-align:top; text-align:left; \">time c × arm cfam and<br>achess vs C</td>\n",
       "<td style=\" padding:0.2cm; text-align:left; vertical-align:top; text-align:center;  \">&#45;0.24</td>\n",
       "<td style=\" padding:0.2cm; text-align:left; vertical-align:top; text-align:center;  \">&#45;3.56&nbsp;&ndash;&nbsp;3.08</td>\n",
       "<td style=\" padding:0.2cm; text-align:left; vertical-align:top; text-align:center;  \">0.887</td>\n",
       "</tr>\n",
       "<tr>\n",
       "<td style=\" padding:0.2cm; text-align:left; vertical-align:top; text-align:left; \">time c × arm cachess vs<br>fam</td>\n",
       "<td style=\" padding:0.2cm; text-align:left; vertical-align:top; text-align:center;  \">&#45;1.07</td>\n",
       "<td style=\" padding:0.2cm; text-align:left; vertical-align:top; text-align:center;  \">&#45;4.97&nbsp;&ndash;&nbsp;2.83</td>\n",
       "<td style=\" padding:0.2cm; text-align:left; vertical-align:top; text-align:center;  \">0.590</td>\n",
       "</tr>\n",
       "\n",
       "<tr>\n",
       "<td style=\" padding:0.2cm; text-align:left; vertical-align:top; text-align:left; padding-top:0.1cm; padding-bottom:0.1cm;\">N <sub>study_id</sub></td>\n",
       "<td style=\" padding:0.2cm; text-align:left; vertical-align:top; padding-top:0.1cm; padding-bottom:0.1cm; text-align:left;\" colspan=\"3\">167</td>\n",
       "<tr>\n",
       "<td style=\" padding:0.2cm; text-align:left; vertical-align:top; text-align:left; padding-top:0.1cm; padding-bottom:0.1cm; border-top:1px solid;\">Observations</td>\n",
       "<td style=\" padding:0.2cm; text-align:left; vertical-align:top; padding-top:0.1cm; padding-bottom:0.1cm; text-align:left; border-top:1px solid;\" colspan=\"3\">432</td>\n",
       "</tr>\n",
       "<tr>\n",
       "<td style=\" padding:0.2cm; text-align:left; vertical-align:top; text-align:left; padding-top:0.1cm; padding-bottom:0.1cm;\">Marginal R<sup>2</sup> / Conditional R<sup>2</sup></td>\n",
       "<td style=\" padding:0.2cm; text-align:left; vertical-align:top; padding-top:0.1cm; padding-bottom:0.1cm; text-align:left;\" colspan=\"3\">0.445 / 0.808</td>\n",
       "</tr>\n",
       "\n",
       "</table>\n"
      ]
     }
    }
   ],
   "source": [
    "model_partner_prim <- lmer(oq45_scored ~ time_c*arm_c + oq45_0 + edu_c +\n",
    "                             outpatient_yn_ever + other_psych_treatment_yn +\n",
    "                             other_medications_yn +\n",
    "                             (1 + time_c | study_id), data = subset(data, dyad == 1))\n",
    "sjPlot::tab_model(model_partner_prim, show.re.var = F, show.icc = F)\n"
   ],
   "id": "0e1f2169-5f2d-4fa2-b297-5365463c09eb"
  },
  {
   "cell_type": "markdown",
   "metadata": {},
   "source": [
    "#### Secondary Patient Outcome: `per_days_abstinent`\n",
    "\n",
    "Distribution of residuals  \n",
    "*Looks fine*"
   ],
   "id": "5e892469-4fd7-4897-94a3-81c6f122678b"
  },
  {
   "cell_type": "code",
   "execution_count": null,
   "metadata": {},
   "outputs": [
    {
     "output_type": "display_data",
     "metadata": {},
     "data": {
      "image/png": "[encoded data removed]"
     }
    }
   ],
   "source": [
    "model_patient_sec <- lmer(per_days_abstinent ~ time_c*arm_c + pda_0 + \n",
    "                             (1 + time_c | study_id), data = subset(data, dyad == 2))\n",
    "\n",
    "tibble(error = residuals(model_patient_sec)) |> \n",
    "  ggplot(aes(x = error)) +\n",
    "  geom_histogram(color = \"black\", fill = \"light grey\", bins = 30)\n"
   ],
   "id": "04f36ba5-b40f-4bda-bbfe-bf908916e14d"
  },
  {
   "cell_type": "markdown",
   "metadata": {},
   "source": [
    "##### Look for significant covariates\n",
    "\n",
    "`race_white_only` - not significant"
   ],
   "id": "dab1f979-26e3-4749-b0c6-bf821767d904"
  },
  {
   "cell_type": "code",
   "execution_count": null,
   "metadata": {},
   "outputs": [
    {
     "output_type": "display_data",
     "metadata": {},
     "data": {
      "text/html": [
       "<table style=\"border-collapse:collapse; border:none;\">\n",
       "<tr>\n",
       "<th style=\"border-top: double; text-align:center; font-style:normal; font-weight:bold; padding:0.2cm;  text-align:left; \">&nbsp;</th>\n",
       "<th colspan=\"3\" style=\"border-top: double; text-align:center; font-style:normal; font-weight:bold; padding:0.2cm; \">per days abstinent</th>\n",
       "</tr>\n",
       "<tr>\n",
       "<td style=\" text-align:center; border-bottom:1px solid; font-style:italic; font-weight:normal;  text-align:left; \">Predictors</td>\n",
       "<td style=\" text-align:center; border-bottom:1px solid; font-style:italic; font-weight:normal;  \">Estimates</td>\n",
       "<td style=\" text-align:center; border-bottom:1px solid; font-style:italic; font-weight:normal;  \">CI</td>\n",
       "<td style=\" text-align:center; border-bottom:1px solid; font-style:italic; font-weight:normal;  \">p</td>\n",
       "</tr>\n",
       "<tr>\n",
       "<td style=\" padding:0.2cm; text-align:left; vertical-align:top; text-align:left; \">race white only</td>\n",
       "<td style=\" padding:0.2cm; text-align:left; vertical-align:top; text-align:center;  \">5.79</td>\n",
       "<td style=\" padding:0.2cm; text-align:left; vertical-align:top; text-align:center;  \">&#45;3.72&nbsp;&ndash;&nbsp;15.30</td>\n",
       "<td style=\" padding:0.2cm; text-align:left; vertical-align:top; text-align:center;  \">0.232</td>\n",
       "</tr>\n",
       "\n",
       "<tr>\n",
       "<td style=\" padding:0.2cm; text-align:left; vertical-align:top; text-align:left; padding-top:0.1cm; padding-bottom:0.1cm;\">N <sub>study_id</sub></td>\n",
       "<td style=\" padding:0.2cm; text-align:left; vertical-align:top; padding-top:0.1cm; padding-bottom:0.1cm; text-align:left;\" colspan=\"3\">157</td>\n",
       "<tr>\n",
       "<td style=\" padding:0.2cm; text-align:left; vertical-align:top; text-align:left; padding-top:0.1cm; padding-bottom:0.1cm; border-top:1px solid;\">Observations</td>\n",
       "<td style=\" padding:0.2cm; text-align:left; vertical-align:top; padding-top:0.1cm; padding-bottom:0.1cm; text-align:left; border-top:1px solid;\" colspan=\"3\">427</td>\n",
       "</tr>\n",
       "<tr>\n",
       "<td style=\" padding:0.2cm; text-align:left; vertical-align:top; text-align:left; padding-top:0.1cm; padding-bottom:0.1cm;\">Marginal R<sup>2</sup> / Conditional R<sup>2</sup></td>\n",
       "<td style=\" padding:0.2cm; text-align:left; vertical-align:top; padding-top:0.1cm; padding-bottom:0.1cm; text-align:left;\" colspan=\"3\">0.367 / 0.845</td>\n",
       "</tr>\n",
       "\n",
       "</table>\n"
      ]
     }
    }
   ],
   "source": [
    "model_patient_sec_race <- lmer(per_days_abstinent ~ time_c*arm_c + pda_0 + \n",
    "                                  race_white_only + (1 + time_c | study_id), \n",
    "                                data = subset(data, dyad == 2))\n",
    "\n",
    "sjPlot::tab_model(model_patient_sec_race, show.re.var = F, show.icc = F, terms = c(\"race_white_only\"))\n"
   ],
   "id": "bd5847c0-0de6-4f37-b4e6-133a1cf4231f"
  },
  {
   "cell_type": "markdown",
   "metadata": {},
   "source": [
    "`age_c` - not significant"
   ],
   "id": "b72eac0c-656a-4892-8fee-a41b6b868122"
  },
  {
   "cell_type": "code",
   "execution_count": null,
   "metadata": {},
   "outputs": [
    {
     "output_type": "display_data",
     "metadata": {},
     "data": {
      "text/html": [
       "<table style=\"border-collapse:collapse; border:none;\">\n",
       "<tr>\n",
       "<th style=\"border-top: double; text-align:center; font-style:normal; font-weight:bold; padding:0.2cm;  text-align:left; \">&nbsp;</th>\n",
       "<th colspan=\"3\" style=\"border-top: double; text-align:center; font-style:normal; font-weight:bold; padding:0.2cm; \">per days abstinent</th>\n",
       "</tr>\n",
       "<tr>\n",
       "<td style=\" text-align:center; border-bottom:1px solid; font-style:italic; font-weight:normal;  text-align:left; \">Predictors</td>\n",
       "<td style=\" text-align:center; border-bottom:1px solid; font-style:italic; font-weight:normal;  \">Estimates</td>\n",
       "<td style=\" text-align:center; border-bottom:1px solid; font-style:italic; font-weight:normal;  \">CI</td>\n",
       "<td style=\" text-align:center; border-bottom:1px solid; font-style:italic; font-weight:normal;  \">p</td>\n",
       "</tr>\n",
       "<tr>\n",
       "<td style=\" padding:0.2cm; text-align:left; vertical-align:top; text-align:left; \">age c</td>\n",
       "<td style=\" padding:0.2cm; text-align:left; vertical-align:top; text-align:center;  \">&#45;0.25</td>\n",
       "<td style=\" padding:0.2cm; text-align:left; vertical-align:top; text-align:center;  \">&#45;0.59&nbsp;&ndash;&nbsp;0.08</td>\n",
       "<td style=\" padding:0.2cm; text-align:left; vertical-align:top; text-align:center;  \">0.133</td>\n",
       "</tr>\n",
       "\n",
       "<tr>\n",
       "<td style=\" padding:0.2cm; text-align:left; vertical-align:top; text-align:left; padding-top:0.1cm; padding-bottom:0.1cm;\">N <sub>study_id</sub></td>\n",
       "<td style=\" padding:0.2cm; text-align:left; vertical-align:top; padding-top:0.1cm; padding-bottom:0.1cm; text-align:left;\" colspan=\"3\">156</td>\n",
       "<tr>\n",
       "<td style=\" padding:0.2cm; text-align:left; vertical-align:top; text-align:left; padding-top:0.1cm; padding-bottom:0.1cm; border-top:1px solid;\">Observations</td>\n",
       "<td style=\" padding:0.2cm; text-align:left; vertical-align:top; padding-top:0.1cm; padding-bottom:0.1cm; text-align:left; border-top:1px solid;\" colspan=\"3\">424</td>\n",
       "</tr>\n",
       "<tr>\n",
       "<td style=\" padding:0.2cm; text-align:left; vertical-align:top; text-align:left; padding-top:0.1cm; padding-bottom:0.1cm;\">Marginal R<sup>2</sup> / Conditional R<sup>2</sup></td>\n",
       "<td style=\" padding:0.2cm; text-align:left; vertical-align:top; padding-top:0.1cm; padding-bottom:0.1cm; text-align:left;\" colspan=\"3\">0.368 / 0.842</td>\n",
       "</tr>\n",
       "\n",
       "</table>\n"
      ]
     }
    }
   ],
   "source": [
    "model_patient_sec_age <- lmer(per_days_abstinent ~ time_c*arm_c + pda_0 + \n",
    "                                  age_c + (1 + time_c | study_id), \n",
    "                                data = subset(data, dyad == 2))\n",
    "\n",
    "sjPlot::tab_model(model_patient_sec_age, show.re.var = F, show.icc = F, terms = c(\"age_c\"))\n"
   ],
   "id": "bdb86f07-820b-4e5e-bdd9-319c35c4cfcf"
  },
  {
   "cell_type": "markdown",
   "metadata": {},
   "source": [
    "`edu_c` - not significant"
   ],
   "id": "7be68ad2-cf0c-437b-b630-d6404437de8d"
  },
  {
   "cell_type": "code",
   "execution_count": null,
   "metadata": {},
   "outputs": [
    {
     "output_type": "display_data",
     "metadata": {},
     "data": {
      "text/html": [
       "<table style=\"border-collapse:collapse; border:none;\">\n",
       "<tr>\n",
       "<th style=\"border-top: double; text-align:center; font-style:normal; font-weight:bold; padding:0.2cm;  text-align:left; \">&nbsp;</th>\n",
       "<th colspan=\"3\" style=\"border-top: double; text-align:center; font-style:normal; font-weight:bold; padding:0.2cm; \">per days abstinent</th>\n",
       "</tr>\n",
       "<tr>\n",
       "<td style=\" text-align:center; border-bottom:1px solid; font-style:italic; font-weight:normal;  text-align:left; \">Predictors</td>\n",
       "<td style=\" text-align:center; border-bottom:1px solid; font-style:italic; font-weight:normal;  \">Estimates</td>\n",
       "<td style=\" text-align:center; border-bottom:1px solid; font-style:italic; font-weight:normal;  \">CI</td>\n",
       "<td style=\" text-align:center; border-bottom:1px solid; font-style:italic; font-weight:normal;  \">p</td>\n",
       "</tr>\n",
       "<tr>\n",
       "<td style=\" padding:0.2cm; text-align:left; vertical-align:top; text-align:left; \">edu c</td>\n",
       "<td style=\" padding:0.2cm; text-align:left; vertical-align:top; text-align:center;  \">&#45;0.56</td>\n",
       "<td style=\" padding:0.2cm; text-align:left; vertical-align:top; text-align:center;  \">&#45;4.40&nbsp;&ndash;&nbsp;3.27</td>\n",
       "<td style=\" padding:0.2cm; text-align:left; vertical-align:top; text-align:center;  \">0.773</td>\n",
       "</tr>\n",
       "\n",
       "<tr>\n",
       "<td style=\" padding:0.2cm; text-align:left; vertical-align:top; text-align:left; padding-top:0.1cm; padding-bottom:0.1cm;\">N <sub>study_id</sub></td>\n",
       "<td style=\" padding:0.2cm; text-align:left; vertical-align:top; padding-top:0.1cm; padding-bottom:0.1cm; text-align:left;\" colspan=\"3\">157</td>\n",
       "<tr>\n",
       "<td style=\" padding:0.2cm; text-align:left; vertical-align:top; text-align:left; padding-top:0.1cm; padding-bottom:0.1cm; border-top:1px solid;\">Observations</td>\n",
       "<td style=\" padding:0.2cm; text-align:left; vertical-align:top; padding-top:0.1cm; padding-bottom:0.1cm; text-align:left; border-top:1px solid;\" colspan=\"3\">427</td>\n",
       "</tr>\n",
       "<tr>\n",
       "<td style=\" padding:0.2cm; text-align:left; vertical-align:top; text-align:left; padding-top:0.1cm; padding-bottom:0.1cm;\">Marginal R<sup>2</sup> / Conditional R<sup>2</sup></td>\n",
       "<td style=\" padding:0.2cm; text-align:left; vertical-align:top; padding-top:0.1cm; padding-bottom:0.1cm; text-align:left;\" colspan=\"3\">0.362 / 0.844</td>\n",
       "</tr>\n",
       "\n",
       "</table>\n"
      ]
     }
    }
   ],
   "source": [
    "model_patient_sec_edu <- lmer(per_days_abstinent ~ time_c*arm_c + pda_0 + \n",
    "                                  edu_c + (1 + time_c | study_id), \n",
    "                                data = subset(data, dyad == 2))\n",
    "\n",
    "sjPlot::tab_model(model_patient_sec_edu, show.re.var = F, show.icc = F, terms = c(\"edu_c\"))\n"
   ],
   "id": "5c14370d-17c3-435e-9f64-b34ef445d69e"
  },
  {
   "cell_type": "markdown",
   "metadata": {},
   "source": [
    "`meetings_yn` - **significant**"
   ],
   "id": "f53d4ced-9d47-4872-adc7-12bba26994ed"
  },
  {
   "cell_type": "code",
   "execution_count": null,
   "metadata": {},
   "outputs": [
    {
     "output_type": "display_data",
     "metadata": {},
     "data": {
      "text/html": [
       "<table style=\"border-collapse:collapse; border:none;\">\n",
       "<tr>\n",
       "<th style=\"border-top: double; text-align:center; font-style:normal; font-weight:bold; padding:0.2cm;  text-align:left; \">&nbsp;</th>\n",
       "<th colspan=\"3\" style=\"border-top: double; text-align:center; font-style:normal; font-weight:bold; padding:0.2cm; \">per days abstinent</th>\n",
       "</tr>\n",
       "<tr>\n",
       "<td style=\" text-align:center; border-bottom:1px solid; font-style:italic; font-weight:normal;  text-align:left; \">Predictors</td>\n",
       "<td style=\" text-align:center; border-bottom:1px solid; font-style:italic; font-weight:normal;  \">Estimates</td>\n",
       "<td style=\" text-align:center; border-bottom:1px solid; font-style:italic; font-weight:normal;  \">CI</td>\n",
       "<td style=\" text-align:center; border-bottom:1px solid; font-style:italic; font-weight:normal;  \">p</td>\n",
       "</tr>\n",
       "<tr>\n",
       "<td style=\" padding:0.2cm; text-align:left; vertical-align:top; text-align:left; \">meetings yn</td>\n",
       "<td style=\" padding:0.2cm; text-align:left; vertical-align:top; text-align:center;  \">9.85</td>\n",
       "<td style=\" padding:0.2cm; text-align:left; vertical-align:top; text-align:center;  \">3.10&nbsp;&ndash;&nbsp;16.59</td>\n",
       "<td style=\" padding:0.2cm; text-align:left; vertical-align:top; text-align:center;  \"><strong>0.004</strong></td>\n",
       "</tr>\n",
       "\n",
       "<tr>\n",
       "<td style=\" padding:0.2cm; text-align:left; vertical-align:top; text-align:left; padding-top:0.1cm; padding-bottom:0.1cm;\">N <sub>study_id</sub></td>\n",
       "<td style=\" padding:0.2cm; text-align:left; vertical-align:top; padding-top:0.1cm; padding-bottom:0.1cm; text-align:left;\" colspan=\"3\">158</td>\n",
       "<tr>\n",
       "<td style=\" padding:0.2cm; text-align:left; vertical-align:top; text-align:left; padding-top:0.1cm; padding-bottom:0.1cm; border-top:1px solid;\">Observations</td>\n",
       "<td style=\" padding:0.2cm; text-align:left; vertical-align:top; padding-top:0.1cm; padding-bottom:0.1cm; text-align:left; border-top:1px solid;\" colspan=\"3\">413</td>\n",
       "</tr>\n",
       "<tr>\n",
       "<td style=\" padding:0.2cm; text-align:left; vertical-align:top; text-align:left; padding-top:0.1cm; padding-bottom:0.1cm;\">Marginal R<sup>2</sup> / Conditional R<sup>2</sup></td>\n",
       "<td style=\" padding:0.2cm; text-align:left; vertical-align:top; padding-top:0.1cm; padding-bottom:0.1cm; text-align:left;\" colspan=\"3\">0.358 / 0.847</td>\n",
       "</tr>\n",
       "\n",
       "</table>\n"
      ]
     }
    }
   ],
   "source": [
    "model_patient_sec_meetings <- lmer(per_days_abstinent ~ time_c*arm_c + pda_0 + \n",
    "                                  meetings_yn + (1 + time_c | study_id), \n",
    "                                data = subset(data, dyad == 2))\n",
    "\n",
    "sjPlot::tab_model(model_patient_sec_meetings, show.re.var = F, show.icc = F, terms = c(\"meetings_yn\"))\n"
   ],
   "id": "8f5bf4ea-3465-4759-bd63-c16b25bcb0f2"
  },
  {
   "cell_type": "markdown",
   "metadata": {},
   "source": [
    "`outpatient_yn_ever` - **significant**"
   ],
   "id": "91f46716-b94e-4322-ab83-3c41ffd10ead"
  },
  {
   "cell_type": "code",
   "execution_count": null,
   "metadata": {},
   "outputs": [
    {
     "output_type": "display_data",
     "metadata": {},
     "data": {
      "text/html": [
       "<table style=\"border-collapse:collapse; border:none;\">\n",
       "<tr>\n",
       "<th style=\"border-top: double; text-align:center; font-style:normal; font-weight:bold; padding:0.2cm;  text-align:left; \">&nbsp;</th>\n",
       "<th colspan=\"3\" style=\"border-top: double; text-align:center; font-style:normal; font-weight:bold; padding:0.2cm; \">per days abstinent</th>\n",
       "</tr>\n",
       "<tr>\n",
       "<td style=\" text-align:center; border-bottom:1px solid; font-style:italic; font-weight:normal;  text-align:left; \">Predictors</td>\n",
       "<td style=\" text-align:center; border-bottom:1px solid; font-style:italic; font-weight:normal;  \">Estimates</td>\n",
       "<td style=\" text-align:center; border-bottom:1px solid; font-style:italic; font-weight:normal;  \">CI</td>\n",
       "<td style=\" text-align:center; border-bottom:1px solid; font-style:italic; font-weight:normal;  \">p</td>\n",
       "</tr>\n",
       "<tr>\n",
       "<td style=\" padding:0.2cm; text-align:left; vertical-align:top; text-align:left; \">outpatient yn ever</td>\n",
       "<td style=\" padding:0.2cm; text-align:left; vertical-align:top; text-align:center;  \">9.97</td>\n",
       "<td style=\" padding:0.2cm; text-align:left; vertical-align:top; text-align:center;  \">0.86&nbsp;&ndash;&nbsp;19.08</td>\n",
       "<td style=\" padding:0.2cm; text-align:left; vertical-align:top; text-align:center;  \"><strong>0.032</strong></td>\n",
       "</tr>\n",
       "\n",
       "<tr>\n",
       "<td style=\" padding:0.2cm; text-align:left; vertical-align:top; text-align:left; padding-top:0.1cm; padding-bottom:0.1cm;\">N <sub>study_id</sub></td>\n",
       "<td style=\" padding:0.2cm; text-align:left; vertical-align:top; padding-top:0.1cm; padding-bottom:0.1cm; text-align:left;\" colspan=\"3\">158</td>\n",
       "<tr>\n",
       "<td style=\" padding:0.2cm; text-align:left; vertical-align:top; text-align:left; padding-top:0.1cm; padding-bottom:0.1cm; border-top:1px solid;\">Observations</td>\n",
       "<td style=\" padding:0.2cm; text-align:left; vertical-align:top; padding-top:0.1cm; padding-bottom:0.1cm; text-align:left; border-top:1px solid;\" colspan=\"3\">430</td>\n",
       "</tr>\n",
       "<tr>\n",
       "<td style=\" padding:0.2cm; text-align:left; vertical-align:top; text-align:left; padding-top:0.1cm; padding-bottom:0.1cm;\">Marginal R<sup>2</sup> / Conditional R<sup>2</sup></td>\n",
       "<td style=\" padding:0.2cm; text-align:left; vertical-align:top; padding-top:0.1cm; padding-bottom:0.1cm; text-align:left;\" colspan=\"3\">0.364 / 0.844</td>\n",
       "</tr>\n",
       "\n",
       "</table>\n"
      ]
     }
    }
   ],
   "source": [
    "model_patient_sec_outpatient <- lmer(per_days_abstinent ~ time_c*arm_c + pda_0 + \n",
    "                                  outpatient_yn_ever + (1 + time_c | study_id), \n",
    "                                data = subset(data, dyad == 2))\n",
    "\n",
    "sjPlot::tab_model(model_patient_sec_outpatient, show.re.var = F, show.icc = F, terms = c(\"outpatient_yn_ever\"))\n"
   ],
   "id": "88879634-33ce-4261-96d4-a207f6f161fb"
  },
  {
   "cell_type": "markdown",
   "metadata": {},
   "source": [
    "`er_yn_ever` - Not significant"
   ],
   "id": "bc91e656-e743-4629-8274-e2aa52e4bc03"
  },
  {
   "cell_type": "code",
   "execution_count": null,
   "metadata": {},
   "outputs": [
    {
     "output_type": "display_data",
     "metadata": {},
     "data": {
      "text/html": [
       "<table style=\"border-collapse:collapse; border:none;\">\n",
       "<tr>\n",
       "<th style=\"border-top: double; text-align:center; font-style:normal; font-weight:bold; padding:0.2cm;  text-align:left; \">&nbsp;</th>\n",
       "<th colspan=\"3\" style=\"border-top: double; text-align:center; font-style:normal; font-weight:bold; padding:0.2cm; \">per days abstinent</th>\n",
       "</tr>\n",
       "<tr>\n",
       "<td style=\" text-align:center; border-bottom:1px solid; font-style:italic; font-weight:normal;  text-align:left; \">Predictors</td>\n",
       "<td style=\" text-align:center; border-bottom:1px solid; font-style:italic; font-weight:normal;  \">Estimates</td>\n",
       "<td style=\" text-align:center; border-bottom:1px solid; font-style:italic; font-weight:normal;  \">CI</td>\n",
       "<td style=\" text-align:center; border-bottom:1px solid; font-style:italic; font-weight:normal;  \">p</td>\n",
       "</tr>\n",
       "<tr>\n",
       "<td style=\" padding:0.2cm; text-align:left; vertical-align:top; text-align:left; \">er yn ever</td>\n",
       "<td style=\" padding:0.2cm; text-align:left; vertical-align:top; text-align:center;  \">8.07</td>\n",
       "<td style=\" padding:0.2cm; text-align:left; vertical-align:top; text-align:center;  \">&#45;1.33&nbsp;&ndash;&nbsp;17.46</td>\n",
       "<td style=\" padding:0.2cm; text-align:left; vertical-align:top; text-align:center;  \">0.092</td>\n",
       "</tr>\n",
       "\n",
       "<tr>\n",
       "<td style=\" padding:0.2cm; text-align:left; vertical-align:top; text-align:left; padding-top:0.1cm; padding-bottom:0.1cm;\">N <sub>study_id</sub></td>\n",
       "<td style=\" padding:0.2cm; text-align:left; vertical-align:top; padding-top:0.1cm; padding-bottom:0.1cm; text-align:left;\" colspan=\"3\">158</td>\n",
       "<tr>\n",
       "<td style=\" padding:0.2cm; text-align:left; vertical-align:top; text-align:left; padding-top:0.1cm; padding-bottom:0.1cm; border-top:1px solid;\">Observations</td>\n",
       "<td style=\" padding:0.2cm; text-align:left; vertical-align:top; padding-top:0.1cm; padding-bottom:0.1cm; text-align:left; border-top:1px solid;\" colspan=\"3\">430</td>\n",
       "</tr>\n",
       "<tr>\n",
       "<td style=\" padding:0.2cm; text-align:left; vertical-align:top; text-align:left; padding-top:0.1cm; padding-bottom:0.1cm;\">Marginal R<sup>2</sup> / Conditional R<sup>2</sup></td>\n",
       "<td style=\" padding:0.2cm; text-align:left; vertical-align:top; padding-top:0.1cm; padding-bottom:0.1cm; text-align:left;\" colspan=\"3\">0.355 / 0.843</td>\n",
       "</tr>\n",
       "\n",
       "</table>\n"
      ]
     }
    }
   ],
   "source": [
    "model_patient_sec_er <- lmer(per_days_abstinent ~ time_c*arm_c + pda_0 + \n",
    "                                  er_yn_ever + (1 + time_c | study_id), \n",
    "                                data = subset(data, dyad == 2))\n",
    "\n",
    "sjPlot::tab_model(model_patient_sec_er, show.re.var = F, show.icc = F, terms = c(\"er_yn_ever\"))\n"
   ],
   "id": "656083aa-d339-49b5-9f3b-e1ac9a483ccf"
  },
  {
   "cell_type": "markdown",
   "metadata": {},
   "source": [
    "`mat_yn` - not significant"
   ],
   "id": "d0b49bd4-77ff-4856-8455-def2aa3fc65c"
  },
  {
   "cell_type": "code",
   "execution_count": null,
   "metadata": {},
   "outputs": [
    {
     "output_type": "display_data",
     "metadata": {},
     "data": {
      "text/html": [
       "<table style=\"border-collapse:collapse; border:none;\">\n",
       "<tr>\n",
       "<th style=\"border-top: double; text-align:center; font-style:normal; font-weight:bold; padding:0.2cm;  text-align:left; \">&nbsp;</th>\n",
       "<th colspan=\"3\" style=\"border-top: double; text-align:center; font-style:normal; font-weight:bold; padding:0.2cm; \">per days abstinent</th>\n",
       "</tr>\n",
       "<tr>\n",
       "<td style=\" text-align:center; border-bottom:1px solid; font-style:italic; font-weight:normal;  text-align:left; \">Predictors</td>\n",
       "<td style=\" text-align:center; border-bottom:1px solid; font-style:italic; font-weight:normal;  \">Estimates</td>\n",
       "<td style=\" text-align:center; border-bottom:1px solid; font-style:italic; font-weight:normal;  \">CI</td>\n",
       "<td style=\" text-align:center; border-bottom:1px solid; font-style:italic; font-weight:normal;  \">p</td>\n",
       "</tr>\n",
       "<tr>\n",
       "<td style=\" padding:0.2cm; text-align:left; vertical-align:top; text-align:left; \">mat yn</td>\n",
       "<td style=\" padding:0.2cm; text-align:left; vertical-align:top; text-align:center;  \">&#45;4.04</td>\n",
       "<td style=\" padding:0.2cm; text-align:left; vertical-align:top; text-align:center;  \">&#45;11.86&nbsp;&ndash;&nbsp;3.79</td>\n",
       "<td style=\" padding:0.2cm; text-align:left; vertical-align:top; text-align:center;  \">0.311</td>\n",
       "</tr>\n",
       "\n",
       "<tr>\n",
       "<td style=\" padding:0.2cm; text-align:left; vertical-align:top; text-align:left; padding-top:0.1cm; padding-bottom:0.1cm;\">N <sub>study_id</sub></td>\n",
       "<td style=\" padding:0.2cm; text-align:left; vertical-align:top; padding-top:0.1cm; padding-bottom:0.1cm; text-align:left;\" colspan=\"3\">158</td>\n",
       "<tr>\n",
       "<td style=\" padding:0.2cm; text-align:left; vertical-align:top; text-align:left; padding-top:0.1cm; padding-bottom:0.1cm; border-top:1px solid;\">Observations</td>\n",
       "<td style=\" padding:0.2cm; text-align:left; vertical-align:top; padding-top:0.1cm; padding-bottom:0.1cm; text-align:left; border-top:1px solid;\" colspan=\"3\">410</td>\n",
       "</tr>\n",
       "<tr>\n",
       "<td style=\" padding:0.2cm; text-align:left; vertical-align:top; text-align:left; padding-top:0.1cm; padding-bottom:0.1cm;\">Marginal R<sup>2</sup> / Conditional R<sup>2</sup></td>\n",
       "<td style=\" padding:0.2cm; text-align:left; vertical-align:top; padding-top:0.1cm; padding-bottom:0.1cm; text-align:left;\" colspan=\"3\">0.342 / 0.838</td>\n",
       "</tr>\n",
       "\n",
       "</table>\n"
      ]
     }
    }
   ],
   "source": [
    "model_patient_sec_mat <- lmer(per_days_abstinent ~ time_c*arm_c + pda_0 + \n",
    "                                  mat_yn + (1 + time_c | study_id), \n",
    "                                data = subset(data, dyad == 2))\n",
    "\n",
    "sjPlot::tab_model(model_patient_sec_mat, show.re.var = F, show.icc = F, terms = c(\"mat_yn\"))\n"
   ],
   "id": "110977b7-627d-426d-8f9e-67183d42a556"
  },
  {
   "cell_type": "markdown",
   "metadata": {},
   "source": [
    "`inpatient_yn_ever` - **significant**"
   ],
   "id": "7a9b85e8-8506-4ec8-bc42-f313f8094470"
  },
  {
   "cell_type": "code",
   "execution_count": null,
   "metadata": {},
   "outputs": [
    {
     "output_type": "display_data",
     "metadata": {},
     "data": {
      "text/html": [
       "<table style=\"border-collapse:collapse; border:none;\">\n",
       "<tr>\n",
       "<th style=\"border-top: double; text-align:center; font-style:normal; font-weight:bold; padding:0.2cm;  text-align:left; \">&nbsp;</th>\n",
       "<th colspan=\"3\" style=\"border-top: double; text-align:center; font-style:normal; font-weight:bold; padding:0.2cm; \">per days abstinent</th>\n",
       "</tr>\n",
       "<tr>\n",
       "<td style=\" text-align:center; border-bottom:1px solid; font-style:italic; font-weight:normal;  text-align:left; \">Predictors</td>\n",
       "<td style=\" text-align:center; border-bottom:1px solid; font-style:italic; font-weight:normal;  \">Estimates</td>\n",
       "<td style=\" text-align:center; border-bottom:1px solid; font-style:italic; font-weight:normal;  \">CI</td>\n",
       "<td style=\" text-align:center; border-bottom:1px solid; font-style:italic; font-weight:normal;  \">p</td>\n",
       "</tr>\n",
       "<tr>\n",
       "<td style=\" padding:0.2cm; text-align:left; vertical-align:top; text-align:left; \">inpatient yn ever</td>\n",
       "<td style=\" padding:0.2cm; text-align:left; vertical-align:top; text-align:center;  \">12.24</td>\n",
       "<td style=\" padding:0.2cm; text-align:left; vertical-align:top; text-align:center;  \">1.42&nbsp;&ndash;&nbsp;23.06</td>\n",
       "<td style=\" padding:0.2cm; text-align:left; vertical-align:top; text-align:center;  \"><strong>0.027</strong></td>\n",
       "</tr>\n",
       "\n",
       "<tr>\n",
       "<td style=\" padding:0.2cm; text-align:left; vertical-align:top; text-align:left; padding-top:0.1cm; padding-bottom:0.1cm;\">N <sub>study_id</sub></td>\n",
       "<td style=\" padding:0.2cm; text-align:left; vertical-align:top; padding-top:0.1cm; padding-bottom:0.1cm; text-align:left;\" colspan=\"3\">158</td>\n",
       "<tr>\n",
       "<td style=\" padding:0.2cm; text-align:left; vertical-align:top; text-align:left; padding-top:0.1cm; padding-bottom:0.1cm; border-top:1px solid;\">Observations</td>\n",
       "<td style=\" padding:0.2cm; text-align:left; vertical-align:top; padding-top:0.1cm; padding-bottom:0.1cm; text-align:left; border-top:1px solid;\" colspan=\"3\">430</td>\n",
       "</tr>\n",
       "<tr>\n",
       "<td style=\" padding:0.2cm; text-align:left; vertical-align:top; text-align:left; padding-top:0.1cm; padding-bottom:0.1cm;\">Marginal R<sup>2</sup> / Conditional R<sup>2</sup></td>\n",
       "<td style=\" padding:0.2cm; text-align:left; vertical-align:top; padding-top:0.1cm; padding-bottom:0.1cm; text-align:left;\" colspan=\"3\">0.363 / 0.844</td>\n",
       "</tr>\n",
       "\n",
       "</table>\n"
      ]
     }
    }
   ],
   "source": [
    "model_patient_sec_inpatient <- lmer(per_days_abstinent ~ time_c*arm_c + pda_0 + \n",
    "                                  inpatient_yn_ever + (1 + time_c | study_id), \n",
    "                                data = subset(data, dyad == 2))\n",
    "\n",
    "sjPlot::tab_model(model_patient_sec_inpatient, show.re.var = F, show.icc = F, terms = c(\"inpatient_yn_ever\"))\n"
   ],
   "id": "5fd8464b-2c6b-40d4-a3fe-12c46939bdb4"
  },
  {
   "cell_type": "markdown",
   "metadata": {},
   "source": [
    "`other_psych_treatment_yn` - not significant"
   ],
   "id": "1ec2cf6c-d832-419d-a4d9-cca16b33a029"
  },
  {
   "cell_type": "code",
   "execution_count": null,
   "metadata": {},
   "outputs": [
    {
     "output_type": "display_data",
     "metadata": {},
     "data": {
      "text/html": [
       "<table style=\"border-collapse:collapse; border:none;\">\n",
       "<tr>\n",
       "<th style=\"border-top: double; text-align:center; font-style:normal; font-weight:bold; padding:0.2cm;  text-align:left; \">&nbsp;</th>\n",
       "<th colspan=\"3\" style=\"border-top: double; text-align:center; font-style:normal; font-weight:bold; padding:0.2cm; \">per days abstinent</th>\n",
       "</tr>\n",
       "<tr>\n",
       "<td style=\" text-align:center; border-bottom:1px solid; font-style:italic; font-weight:normal;  text-align:left; \">Predictors</td>\n",
       "<td style=\" text-align:center; border-bottom:1px solid; font-style:italic; font-weight:normal;  \">Estimates</td>\n",
       "<td style=\" text-align:center; border-bottom:1px solid; font-style:italic; font-weight:normal;  \">CI</td>\n",
       "<td style=\" text-align:center; border-bottom:1px solid; font-style:italic; font-weight:normal;  \">p</td>\n",
       "</tr>\n",
       "<tr>\n",
       "<td style=\" padding:0.2cm; text-align:left; vertical-align:top; text-align:left; \">other psych treatment yn</td>\n",
       "<td style=\" padding:0.2cm; text-align:left; vertical-align:top; text-align:center;  \">2.47</td>\n",
       "<td style=\" padding:0.2cm; text-align:left; vertical-align:top; text-align:center;  \">&#45;3.83&nbsp;&ndash;&nbsp;8.78</td>\n",
       "<td style=\" padding:0.2cm; text-align:left; vertical-align:top; text-align:center;  \">0.441</td>\n",
       "</tr>\n",
       "\n",
       "<tr>\n",
       "<td style=\" padding:0.2cm; text-align:left; vertical-align:top; text-align:left; padding-top:0.1cm; padding-bottom:0.1cm;\">N <sub>study_id</sub></td>\n",
       "<td style=\" padding:0.2cm; text-align:left; vertical-align:top; padding-top:0.1cm; padding-bottom:0.1cm; text-align:left;\" colspan=\"3\">158</td>\n",
       "<tr>\n",
       "<td style=\" padding:0.2cm; text-align:left; vertical-align:top; text-align:left; padding-top:0.1cm; padding-bottom:0.1cm; border-top:1px solid;\">Observations</td>\n",
       "<td style=\" padding:0.2cm; text-align:left; vertical-align:top; padding-top:0.1cm; padding-bottom:0.1cm; text-align:left; border-top:1px solid;\" colspan=\"3\">413</td>\n",
       "</tr>\n",
       "<tr>\n",
       "<td style=\" padding:0.2cm; text-align:left; vertical-align:top; text-align:left; padding-top:0.1cm; padding-bottom:0.1cm;\">Marginal R<sup>2</sup> / Conditional R<sup>2</sup></td>\n",
       "<td style=\" padding:0.2cm; text-align:left; vertical-align:top; padding-top:0.1cm; padding-bottom:0.1cm; text-align:left;\" colspan=\"3\">0.346 / 0.840</td>\n",
       "</tr>\n",
       "\n",
       "</table>\n"
      ]
     }
    }
   ],
   "source": [
    "model_patient_sec_psych <- lmer(per_days_abstinent ~ time_c*arm_c + pda_0 + \n",
    "                                  other_psych_treatment_yn + (1 + time_c | study_id), \n",
    "                                data = subset(data, dyad == 2))\n",
    "\n",
    "sjPlot::tab_model(model_patient_sec_psych, show.re.var = F, show.icc = F, terms = c(\"other_psych_treatment_yn\"))\n"
   ],
   "id": "2bd48b3f-676f-4b65-b10c-512246528c0f"
  },
  {
   "cell_type": "markdown",
   "metadata": {},
   "source": [
    "`other_medications_yn` - not significant"
   ],
   "id": "21ea9328-6208-4be7-92a7-946f8e264048"
  },
  {
   "cell_type": "code",
   "execution_count": null,
   "metadata": {},
   "outputs": [
    {
     "output_type": "display_data",
     "metadata": {},
     "data": {
      "text/html": [
       "<table style=\"border-collapse:collapse; border:none;\">\n",
       "<tr>\n",
       "<th style=\"border-top: double; text-align:center; font-style:normal; font-weight:bold; padding:0.2cm;  text-align:left; \">&nbsp;</th>\n",
       "<th colspan=\"3\" style=\"border-top: double; text-align:center; font-style:normal; font-weight:bold; padding:0.2cm; \">per days abstinent</th>\n",
       "</tr>\n",
       "<tr>\n",
       "<td style=\" text-align:center; border-bottom:1px solid; font-style:italic; font-weight:normal;  text-align:left; \">Predictors</td>\n",
       "<td style=\" text-align:center; border-bottom:1px solid; font-style:italic; font-weight:normal;  \">Estimates</td>\n",
       "<td style=\" text-align:center; border-bottom:1px solid; font-style:italic; font-weight:normal;  \">CI</td>\n",
       "<td style=\" text-align:center; border-bottom:1px solid; font-style:italic; font-weight:normal;  \">p</td>\n",
       "</tr>\n",
       "<tr>\n",
       "<td style=\" padding:0.2cm; text-align:left; vertical-align:top; text-align:left; \">other medications yn</td>\n",
       "<td style=\" padding:0.2cm; text-align:left; vertical-align:top; text-align:center;  \">0.09</td>\n",
       "<td style=\" padding:0.2cm; text-align:left; vertical-align:top; text-align:center;  \">&#45;6.15&nbsp;&ndash;&nbsp;6.33</td>\n",
       "<td style=\" padding:0.2cm; text-align:left; vertical-align:top; text-align:center;  \">0.978</td>\n",
       "</tr>\n",
       "\n",
       "<tr>\n",
       "<td style=\" padding:0.2cm; text-align:left; vertical-align:top; text-align:left; padding-top:0.1cm; padding-bottom:0.1cm;\">N <sub>study_id</sub></td>\n",
       "<td style=\" padding:0.2cm; text-align:left; vertical-align:top; padding-top:0.1cm; padding-bottom:0.1cm; text-align:left;\" colspan=\"3\">158</td>\n",
       "<tr>\n",
       "<td style=\" padding:0.2cm; text-align:left; vertical-align:top; text-align:left; padding-top:0.1cm; padding-bottom:0.1cm; border-top:1px solid;\">Observations</td>\n",
       "<td style=\" padding:0.2cm; text-align:left; vertical-align:top; padding-top:0.1cm; padding-bottom:0.1cm; text-align:left; border-top:1px solid;\" colspan=\"3\">409</td>\n",
       "</tr>\n",
       "<tr>\n",
       "<td style=\" padding:0.2cm; text-align:left; vertical-align:top; text-align:left; padding-top:0.1cm; padding-bottom:0.1cm;\">Marginal R<sup>2</sup> / Conditional R<sup>2</sup></td>\n",
       "<td style=\" padding:0.2cm; text-align:left; vertical-align:top; padding-top:0.1cm; padding-bottom:0.1cm; text-align:left;\" colspan=\"3\">0.342 / 0.837</td>\n",
       "</tr>\n",
       "\n",
       "</table>\n"
      ]
     }
    }
   ],
   "source": [
    "model_patient_sec_psych_meds <- lmer(per_days_abstinent ~ time_c*arm_c + pda_0 + \n",
    "                                  other_medications_yn + (1 + time_c | study_id), \n",
    "                                data = subset(data, dyad == 2))\n",
    "\n",
    "sjPlot::tab_model(model_patient_sec_psych_meds, show.re.var = F, show.icc = F, terms = c(\"other_medications_yn\"))\n"
   ],
   "id": "1afa6f03-ab89-4089-820a-02e5bfc6aae0"
  },
  {
   "cell_type": "markdown",
   "metadata": {},
   "source": [
    "##### Final Model with Significant Covariates"
   ],
   "id": "1fa44250-ab9c-44f9-a58a-6211a9148f0c"
  },
  {
   "cell_type": "code",
   "execution_count": null,
   "metadata": {},
   "outputs": [
    {
     "output_type": "display_data",
     "metadata": {},
     "data": {
      "text/html": [
       "<table style=\"border-collapse:collapse; border:none;\">\n",
       "<tr>\n",
       "<th style=\"border-top: double; text-align:center; font-style:normal; font-weight:bold; padding:0.2cm;  text-align:left; \">&nbsp;</th>\n",
       "<th colspan=\"3\" style=\"border-top: double; text-align:center; font-style:normal; font-weight:bold; padding:0.2cm; \">per days abstinent</th>\n",
       "</tr>\n",
       "<tr>\n",
       "<td style=\" text-align:center; border-bottom:1px solid; font-style:italic; font-weight:normal;  text-align:left; \">Predictors</td>\n",
       "<td style=\" text-align:center; border-bottom:1px solid; font-style:italic; font-weight:normal;  \">Estimates</td>\n",
       "<td style=\" text-align:center; border-bottom:1px solid; font-style:italic; font-weight:normal;  \">CI</td>\n",
       "<td style=\" text-align:center; border-bottom:1px solid; font-style:italic; font-weight:normal;  \">p</td>\n",
       "</tr>\n",
       "<tr>\n",
       "<td style=\" padding:0.2cm; text-align:left; vertical-align:top; text-align:left; \">(Intercept)</td>\n",
       "<td style=\" padding:0.2cm; text-align:left; vertical-align:top; text-align:center;  \">56.49</td>\n",
       "<td style=\" padding:0.2cm; text-align:left; vertical-align:top; text-align:center;  \">51.39&nbsp;&ndash;&nbsp;61.59</td>\n",
       "<td style=\" padding:0.2cm; text-align:left; vertical-align:top; text-align:center;  \"><strong>&lt;0.001</strong></td>\n",
       "</tr>\n",
       "<tr>\n",
       "<td style=\" padding:0.2cm; text-align:left; vertical-align:top; text-align:left; \">time c</td>\n",
       "<td style=\" padding:0.2cm; text-align:left; vertical-align:top; text-align:center;  \">5.93</td>\n",
       "<td style=\" padding:0.2cm; text-align:left; vertical-align:top; text-align:center;  \">3.46&nbsp;&ndash;&nbsp;8.39</td>\n",
       "<td style=\" padding:0.2cm; text-align:left; vertical-align:top; text-align:center;  \"><strong>&lt;0.001</strong></td>\n",
       "</tr>\n",
       "<tr>\n",
       "<td style=\" padding:0.2cm; text-align:left; vertical-align:top; text-align:left; \">arm cfam and achess vs C</td>\n",
       "<td style=\" padding:0.2cm; text-align:left; vertical-align:top; text-align:center;  \">1.41</td>\n",
       "<td style=\" padding:0.2cm; text-align:left; vertical-align:top; text-align:center;  \">&#45;7.44&nbsp;&ndash;&nbsp;10.26</td>\n",
       "<td style=\" padding:0.2cm; text-align:left; vertical-align:top; text-align:center;  \">0.755</td>\n",
       "</tr>\n",
       "<tr>\n",
       "<td style=\" padding:0.2cm; text-align:left; vertical-align:top; text-align:left; \">arm cachess vs fam</td>\n",
       "<td style=\" padding:0.2cm; text-align:left; vertical-align:top; text-align:center;  \">&#45;4.78</td>\n",
       "<td style=\" padding:0.2cm; text-align:left; vertical-align:top; text-align:center;  \">&#45;15.04&nbsp;&ndash;&nbsp;5.48</td>\n",
       "<td style=\" padding:0.2cm; text-align:left; vertical-align:top; text-align:center;  \">0.361</td>\n",
       "</tr>\n",
       "<tr>\n",
       "<td style=\" padding:0.2cm; text-align:left; vertical-align:top; text-align:left; \">pda 0</td>\n",
       "<td style=\" padding:0.2cm; text-align:left; vertical-align:top; text-align:center;  \">0.60</td>\n",
       "<td style=\" padding:0.2cm; text-align:left; vertical-align:top; text-align:center;  \">0.48&nbsp;&ndash;&nbsp;0.73</td>\n",
       "<td style=\" padding:0.2cm; text-align:left; vertical-align:top; text-align:center;  \"><strong>&lt;0.001</strong></td>\n",
       "</tr>\n",
       "<tr>\n",
       "<td style=\" padding:0.2cm; text-align:left; vertical-align:top; text-align:left; \">outpatient yn ever</td>\n",
       "<td style=\" padding:0.2cm; text-align:left; vertical-align:top; text-align:center;  \">4.57</td>\n",
       "<td style=\" padding:0.2cm; text-align:left; vertical-align:top; text-align:center;  \">&#45;6.10&nbsp;&ndash;&nbsp;15.25</td>\n",
       "<td style=\" padding:0.2cm; text-align:left; vertical-align:top; text-align:center;  \">0.400</td>\n",
       "</tr>\n",
       "<tr>\n",
       "<td style=\" padding:0.2cm; text-align:left; vertical-align:top; text-align:left; \">meetings yn</td>\n",
       "<td style=\" padding:0.2cm; text-align:left; vertical-align:top; text-align:center;  \">8.22</td>\n",
       "<td style=\" padding:0.2cm; text-align:left; vertical-align:top; text-align:center;  \">1.28&nbsp;&ndash;&nbsp;15.16</td>\n",
       "<td style=\" padding:0.2cm; text-align:left; vertical-align:top; text-align:center;  \"><strong>0.020</strong></td>\n",
       "</tr>\n",
       "<tr>\n",
       "<td style=\" padding:0.2cm; text-align:left; vertical-align:top; text-align:left; \">inpatient yn ever</td>\n",
       "<td style=\" padding:0.2cm; text-align:left; vertical-align:top; text-align:center;  \">8.45</td>\n",
       "<td style=\" padding:0.2cm; text-align:left; vertical-align:top; text-align:center;  \">&#45;3.99&nbsp;&ndash;&nbsp;20.89</td>\n",
       "<td style=\" padding:0.2cm; text-align:left; vertical-align:top; text-align:center;  \">0.182</td>\n",
       "</tr>\n",
       "<tr>\n",
       "<td style=\" padding:0.2cm; text-align:left; vertical-align:top; text-align:left; \">time c × arm cfam and<br>achess vs C</td>\n",
       "<td style=\" padding:0.2cm; text-align:left; vertical-align:top; text-align:center;  \">5.14</td>\n",
       "<td style=\" padding:0.2cm; text-align:left; vertical-align:top; text-align:center;  \">&#45;0.01&nbsp;&ndash;&nbsp;10.29</td>\n",
       "<td style=\" padding:0.2cm; text-align:left; vertical-align:top; text-align:center;  \">0.050</td>\n",
       "</tr>\n",
       "<tr>\n",
       "<td style=\" padding:0.2cm; text-align:left; vertical-align:top; text-align:left; \">time c × arm cachess vs<br>fam</td>\n",
       "<td style=\" padding:0.2cm; text-align:left; vertical-align:top; text-align:center;  \">&#45;0.30</td>\n",
       "<td style=\" padding:0.2cm; text-align:left; vertical-align:top; text-align:center;  \">&#45;6.44&nbsp;&ndash;&nbsp;5.83</td>\n",
       "<td style=\" padding:0.2cm; text-align:left; vertical-align:top; text-align:center;  \">0.923</td>\n",
       "</tr>\n",
       "\n",
       "<tr>\n",
       "<td style=\" padding:0.2cm; text-align:left; vertical-align:top; text-align:left; padding-top:0.1cm; padding-bottom:0.1cm;\">N <sub>study_id</sub></td>\n",
       "<td style=\" padding:0.2cm; text-align:left; vertical-align:top; padding-top:0.1cm; padding-bottom:0.1cm; text-align:left;\" colspan=\"3\">158</td>\n",
       "<tr>\n",
       "<td style=\" padding:0.2cm; text-align:left; vertical-align:top; text-align:left; padding-top:0.1cm; padding-bottom:0.1cm; border-top:1px solid;\">Observations</td>\n",
       "<td style=\" padding:0.2cm; text-align:left; vertical-align:top; padding-top:0.1cm; padding-bottom:0.1cm; text-align:left; border-top:1px solid;\" colspan=\"3\">413</td>\n",
       "</tr>\n",
       "<tr>\n",
       "<td style=\" padding:0.2cm; text-align:left; vertical-align:top; text-align:left; padding-top:0.1cm; padding-bottom:0.1cm;\">Marginal R<sup>2</sup> / Conditional R<sup>2</sup></td>\n",
       "<td style=\" padding:0.2cm; text-align:left; vertical-align:top; padding-top:0.1cm; padding-bottom:0.1cm; text-align:left;\" colspan=\"3\">0.370 / 0.846</td>\n",
       "</tr>\n",
       "\n",
       "</table>\n"
      ]
     }
    }
   ],
   "source": [
    "model_patient_sec <- lmer(per_days_abstinent ~ time_c*arm_c + pda_0 +\n",
    "                            outpatient_yn_ever + meetings_yn +\n",
    "                            inpatient_yn_ever + (1 + time_c | study_id), \n",
    "                                data = subset(data, dyad == 2))\n",
    "sjPlot::tab_model(model_patient_sec, show.re.var = F, show.icc = F)\n"
   ],
   "id": "9f6972d2-c5e8-4268-8960-03e11e0c5d72"
  },
  {
   "cell_type": "markdown",
   "metadata": {},
   "source": [
    "#### Secondary Partner Outcome 1: `relationsatisf_scored`\n",
    "\n",
    "Distribution of residuals"
   ],
   "id": "7a7f95b7-563a-416e-93bd-a57000ccbc09"
  },
  {
   "cell_type": "code",
   "execution_count": null,
   "metadata": {},
   "outputs": [
    {
     "output_type": "display_data",
     "metadata": {},
     "data": {
      "image/png": "[encoded data removed]"
     }
    }
   ],
   "source": [
    "model_partner_sec_1 <- lmer(relationsatisf_scored ~ time_c*arm_c + relationsatisf_0 + \n",
    "                             (1 + time_c | study_id), data = subset(data, dyad == 1))\n",
    "\n",
    "tibble(error = residuals(model_partner_sec_1)) |> \n",
    "  ggplot(aes(x = error)) +\n",
    "  geom_histogram(color = \"black\", fill = \"light grey\", bins = 30)\n"
   ],
   "id": "6c514d6f-fe3e-42e3-a304-284cc4baf6be"
  },
  {
   "cell_type": "markdown",
   "metadata": {},
   "source": [
    "##### Look for significant covariates\n",
    "\n",
    "`race_white_only` - not significant"
   ],
   "id": "ec18586f-f325-44dd-a199-a2be39866a7f"
  },
  {
   "cell_type": "code",
   "execution_count": null,
   "metadata": {},
   "outputs": [
    {
     "output_type": "display_data",
     "metadata": {},
     "data": {
      "text/html": [
       "<table style=\"border-collapse:collapse; border:none;\">\n",
       "<tr>\n",
       "<th style=\"border-top: double; text-align:center; font-style:normal; font-weight:bold; padding:0.2cm;  text-align:left; \">&nbsp;</th>\n",
       "<th colspan=\"3\" style=\"border-top: double; text-align:center; font-style:normal; font-weight:bold; padding:0.2cm; \">relationsatisf scored</th>\n",
       "</tr>\n",
       "<tr>\n",
       "<td style=\" text-align:center; border-bottom:1px solid; font-style:italic; font-weight:normal;  text-align:left; \">Predictors</td>\n",
       "<td style=\" text-align:center; border-bottom:1px solid; font-style:italic; font-weight:normal;  \">Estimates</td>\n",
       "<td style=\" text-align:center; border-bottom:1px solid; font-style:italic; font-weight:normal;  \">CI</td>\n",
       "<td style=\" text-align:center; border-bottom:1px solid; font-style:italic; font-weight:normal;  \">p</td>\n",
       "</tr>\n",
       "<tr>\n",
       "<td style=\" padding:0.2cm; text-align:left; vertical-align:top; text-align:left; \">race white only</td>\n",
       "<td style=\" padding:0.2cm; text-align:left; vertical-align:top; text-align:center;  \">0.45</td>\n",
       "<td style=\" padding:0.2cm; text-align:left; vertical-align:top; text-align:center;  \">&#45;1.14&nbsp;&ndash;&nbsp;2.04</td>\n",
       "<td style=\" padding:0.2cm; text-align:left; vertical-align:top; text-align:center;  \">0.578</td>\n",
       "</tr>\n",
       "\n",
       "<tr>\n",
       "<td style=\" padding:0.2cm; text-align:left; vertical-align:top; text-align:left; padding-top:0.1cm; padding-bottom:0.1cm;\">N <sub>study_id</sub></td>\n",
       "<td style=\" padding:0.2cm; text-align:left; vertical-align:top; padding-top:0.1cm; padding-bottom:0.1cm; text-align:left;\" colspan=\"3\">170</td>\n",
       "<tr>\n",
       "<td style=\" padding:0.2cm; text-align:left; vertical-align:top; text-align:left; padding-top:0.1cm; padding-bottom:0.1cm; border-top:1px solid;\">Observations</td>\n",
       "<td style=\" padding:0.2cm; text-align:left; vertical-align:top; padding-top:0.1cm; padding-bottom:0.1cm; text-align:left; border-top:1px solid;\" colspan=\"3\">454</td>\n",
       "</tr>\n",
       "<tr>\n",
       "<td style=\" padding:0.2cm; text-align:left; vertical-align:top; text-align:left; padding-top:0.1cm; padding-bottom:0.1cm;\">Marginal R<sup>2</sup> / Conditional R<sup>2</sup></td>\n",
       "<td style=\" padding:0.2cm; text-align:left; vertical-align:top; padding-top:0.1cm; padding-bottom:0.1cm; text-align:left;\" colspan=\"3\">0.390 / 0.729</td>\n",
       "</tr>\n",
       "\n",
       "</table>\n"
      ]
     }
    },
    {
     "output_type": "display_data",
     "metadata": {},
     "data": {
      "text/html": [
       "<table style=\"border-collapse:collapse; border:none;\">\n",
       "<tr>\n",
       "<th style=\"border-top: double; text-align:center; font-style:normal; font-weight:bold; padding:0.2cm;  text-align:left; \">&nbsp;</th>\n",
       "<th colspan=\"3\" style=\"border-top: double; text-align:center; font-style:normal; font-weight:bold; padding:0.2cm; \">relationsatisf scored</th>\n",
       "</tr>\n",
       "<tr>\n",
       "<td style=\" text-align:center; border-bottom:1px solid; font-style:italic; font-weight:normal;  text-align:left; \">Predictors</td>\n",
       "<td style=\" text-align:center; border-bottom:1px solid; font-style:italic; font-weight:normal;  \">Estimates</td>\n",
       "<td style=\" text-align:center; border-bottom:1px solid; font-style:italic; font-weight:normal;  \">CI</td>\n",
       "<td style=\" text-align:center; border-bottom:1px solid; font-style:italic; font-weight:normal;  \">p</td>\n",
       "</tr>\n",
       "<tr>\n",
       "<td style=\" padding:0.2cm; text-align:left; vertical-align:top; text-align:left; \">race white only</td>\n",
       "<td style=\" padding:0.2cm; text-align:left; vertical-align:top; text-align:center;  \">0.45</td>\n",
       "<td style=\" padding:0.2cm; text-align:left; vertical-align:top; text-align:center;  \">&#45;1.03&nbsp;&ndash;&nbsp;1.93</td>\n",
       "<td style=\" padding:0.2cm; text-align:left; vertical-align:top; text-align:center;  \">0.552</td>\n",
       "</tr>\n",
       "\n",
       "<tr>\n",
       "<td style=\" padding:0.2cm; text-align:left; vertical-align:top; text-align:left; padding-top:0.1cm; padding-bottom:0.1cm;\">N <sub>study_id</sub></td>\n",
       "<td style=\" padding:0.2cm; text-align:left; vertical-align:top; padding-top:0.1cm; padding-bottom:0.1cm; text-align:left;\" colspan=\"3\">168</td>\n",
       "<tr>\n",
       "<td style=\" padding:0.2cm; text-align:left; vertical-align:top; text-align:left; padding-top:0.1cm; padding-bottom:0.1cm; border-top:1px solid;\">Observations</td>\n",
       "<td style=\" padding:0.2cm; text-align:left; vertical-align:top; padding-top:0.1cm; padding-bottom:0.1cm; text-align:left; border-top:1px solid;\" colspan=\"3\">436</td>\n",
       "</tr>\n",
       "<tr>\n",
       "<td style=\" padding:0.2cm; text-align:left; vertical-align:top; text-align:left; padding-top:0.1cm; padding-bottom:0.1cm;\">Marginal R<sup>2</sup> / Conditional R<sup>2</sup></td>\n",
       "<td style=\" padding:0.2cm; text-align:left; vertical-align:top; padding-top:0.1cm; padding-bottom:0.1cm; text-align:left;\" colspan=\"3\">0.307 / 0.726</td>\n",
       "</tr>\n",
       "\n",
       "</table>\n"
      ]
     }
    }
   ],
   "source": [
    "model_partner_sec_1_race <- lmer(relationsatisf_scored ~ time_c*arm_c + \n",
    "                                   relationsatisf_0 + race_white_only +\n",
    "                             (1 + time_c | study_id), data = subset(data, dyad == 1))\n",
    "sjPlot::tab_model(model_partner_sec_1_race, show.re.var = F, show.icc = F, terms = c(\"race_white_only\"))\n"
   ],
   "id": "de2531bc-3a82-451e-8fbb-b1ddc1bd1b82"
  },
  {
   "cell_type": "markdown",
   "metadata": {},
   "source": [
    "`age_c` - not significant"
   ],
   "id": "9ff6b0ce-ffbc-46d2-ab3f-3616c5a6f196"
  },
  {
   "cell_type": "code",
   "execution_count": null,
   "metadata": {},
   "outputs": [
    {
     "output_type": "display_data",
     "metadata": {},
     "data": {
      "text/html": [
       "<table style=\"border-collapse:collapse; border:none;\">\n",
       "<tr>\n",
       "<th style=\"border-top: double; text-align:center; font-style:normal; font-weight:bold; padding:0.2cm;  text-align:left; \">&nbsp;</th>\n",
       "<th colspan=\"3\" style=\"border-top: double; text-align:center; font-style:normal; font-weight:bold; padding:0.2cm; \">relationsatisf scored</th>\n",
       "</tr>\n",
       "<tr>\n",
       "<td style=\" text-align:center; border-bottom:1px solid; font-style:italic; font-weight:normal;  text-align:left; \">Predictors</td>\n",
       "<td style=\" text-align:center; border-bottom:1px solid; font-style:italic; font-weight:normal;  \">Estimates</td>\n",
       "<td style=\" text-align:center; border-bottom:1px solid; font-style:italic; font-weight:normal;  \">CI</td>\n",
       "<td style=\" text-align:center; border-bottom:1px solid; font-style:italic; font-weight:normal;  \">p</td>\n",
       "</tr>\n",
       "<tr>\n",
       "<td style=\" padding:0.2cm; text-align:left; vertical-align:top; text-align:left; \">age c</td>\n",
       "<td style=\" padding:0.2cm; text-align:left; vertical-align:top; text-align:center;  \">&#45;0.02</td>\n",
       "<td style=\" padding:0.2cm; text-align:left; vertical-align:top; text-align:center;  \">&#45;0.06&nbsp;&ndash;&nbsp;0.03</td>\n",
       "<td style=\" padding:0.2cm; text-align:left; vertical-align:top; text-align:center;  \">0.433</td>\n",
       "</tr>\n",
       "\n",
       "<tr>\n",
       "<td style=\" padding:0.2cm; text-align:left; vertical-align:top; text-align:left; padding-top:0.1cm; padding-bottom:0.1cm;\">N <sub>study_id</sub></td>\n",
       "<td style=\" padding:0.2cm; text-align:left; vertical-align:top; padding-top:0.1cm; padding-bottom:0.1cm; text-align:left;\" colspan=\"3\">170</td>\n",
       "<tr>\n",
       "<td style=\" padding:0.2cm; text-align:left; vertical-align:top; text-align:left; padding-top:0.1cm; padding-bottom:0.1cm; border-top:1px solid;\">Observations</td>\n",
       "<td style=\" padding:0.2cm; text-align:left; vertical-align:top; padding-top:0.1cm; padding-bottom:0.1cm; text-align:left; border-top:1px solid;\" colspan=\"3\">454</td>\n",
       "</tr>\n",
       "<tr>\n",
       "<td style=\" padding:0.2cm; text-align:left; vertical-align:top; text-align:left; padding-top:0.1cm; padding-bottom:0.1cm;\">Marginal R<sup>2</sup> / Conditional R<sup>2</sup></td>\n",
       "<td style=\" padding:0.2cm; text-align:left; vertical-align:top; padding-top:0.1cm; padding-bottom:0.1cm; text-align:left;\" colspan=\"3\">0.391 / 0.729</td>\n",
       "</tr>\n",
       "\n",
       "</table>\n"
      ]
     }
    },
    {
     "output_type": "display_data",
     "metadata": {},
     "data": {
      "text/html": [
       "<table style=\"border-collapse:collapse; border:none;\">\n",
       "<tr>\n",
       "<th style=\"border-top: double; text-align:center; font-style:normal; font-weight:bold; padding:0.2cm;  text-align:left; \">&nbsp;</th>\n",
       "<th colspan=\"3\" style=\"border-top: double; text-align:center; font-style:normal; font-weight:bold; padding:0.2cm; \">relationsatisf scored</th>\n",
       "</tr>\n",
       "<tr>\n",
       "<td style=\" text-align:center; border-bottom:1px solid; font-style:italic; font-weight:normal;  text-align:left; \">Predictors</td>\n",
       "<td style=\" text-align:center; border-bottom:1px solid; font-style:italic; font-weight:normal;  \">Estimates</td>\n",
       "<td style=\" text-align:center; border-bottom:1px solid; font-style:italic; font-weight:normal;  \">CI</td>\n",
       "<td style=\" text-align:center; border-bottom:1px solid; font-style:italic; font-weight:normal;  \">p</td>\n",
       "</tr>\n",
       "<tr>\n",
       "<td style=\" padding:0.2cm; text-align:left; vertical-align:top; text-align:left; \">age c</td>\n",
       "<td style=\" padding:0.2cm; text-align:left; vertical-align:top; text-align:center;  \">&#45;0.04</td>\n",
       "<td style=\" padding:0.2cm; text-align:left; vertical-align:top; text-align:center;  \">&#45;0.09&nbsp;&ndash;&nbsp;0.02</td>\n",
       "<td style=\" padding:0.2cm; text-align:left; vertical-align:top; text-align:center;  \">0.173</td>\n",
       "</tr>\n",
       "\n",
       "<tr>\n",
       "<td style=\" padding:0.2cm; text-align:left; vertical-align:top; text-align:left; padding-top:0.1cm; padding-bottom:0.1cm;\">N <sub>study_id</sub></td>\n",
       "<td style=\" padding:0.2cm; text-align:left; vertical-align:top; padding-top:0.1cm; padding-bottom:0.1cm; text-align:left;\" colspan=\"3\">167</td>\n",
       "<tr>\n",
       "<td style=\" padding:0.2cm; text-align:left; vertical-align:top; text-align:left; padding-top:0.1cm; padding-bottom:0.1cm; border-top:1px solid;\">Observations</td>\n",
       "<td style=\" padding:0.2cm; text-align:left; vertical-align:top; padding-top:0.1cm; padding-bottom:0.1cm; text-align:left; border-top:1px solid;\" colspan=\"3\">433</td>\n",
       "</tr>\n",
       "<tr>\n",
       "<td style=\" padding:0.2cm; text-align:left; vertical-align:top; text-align:left; padding-top:0.1cm; padding-bottom:0.1cm;\">Marginal R<sup>2</sup> / Conditional R<sup>2</sup></td>\n",
       "<td style=\" padding:0.2cm; text-align:left; vertical-align:top; padding-top:0.1cm; padding-bottom:0.1cm; text-align:left;\" colspan=\"3\">0.320 / 0.739</td>\n",
       "</tr>\n",
       "\n",
       "</table>\n"
      ]
     }
    }
   ],
   "source": [
    "model_partner_sec_1_age <-  lmer(relationsatisf_scored ~ time_c*arm_c + \n",
    "                                   relationsatisf_0 + age_c +\n",
    "                             (1 + time_c | study_id), data = subset(data, dyad == 1))\n",
    "sjPlot::tab_model(model_partner_sec_1_age, show.re.var = F, show.icc = F, terms = c(\"age_c\"))\n"
   ],
   "id": "e18087e7-e31c-42c8-8988-e24df785da20"
  },
  {
   "cell_type": "markdown",
   "metadata": {},
   "source": [
    "`edu_c` - **significant for patient but not partner**"
   ],
   "id": "50eb3de5-b283-49f0-bad2-3b57acb081cf"
  },
  {
   "cell_type": "code",
   "execution_count": null,
   "metadata": {},
   "outputs": [
    {
     "output_type": "display_data",
     "metadata": {},
     "data": {
      "text/html": [
       "<table style=\"border-collapse:collapse; border:none;\">\n",
       "<tr>\n",
       "<th style=\"border-top: double; text-align:center; font-style:normal; font-weight:bold; padding:0.2cm;  text-align:left; \">&nbsp;</th>\n",
       "<th colspan=\"3\" style=\"border-top: double; text-align:center; font-style:normal; font-weight:bold; padding:0.2cm; \">relationsatisf scored</th>\n",
       "</tr>\n",
       "<tr>\n",
       "<td style=\" text-align:center; border-bottom:1px solid; font-style:italic; font-weight:normal;  text-align:left; \">Predictors</td>\n",
       "<td style=\" text-align:center; border-bottom:1px solid; font-style:italic; font-weight:normal;  \">Estimates</td>\n",
       "<td style=\" text-align:center; border-bottom:1px solid; font-style:italic; font-weight:normal;  \">CI</td>\n",
       "<td style=\" text-align:center; border-bottom:1px solid; font-style:italic; font-weight:normal;  \">p</td>\n",
       "</tr>\n",
       "<tr>\n",
       "<td style=\" padding:0.2cm; text-align:left; vertical-align:top; text-align:left; \">edu c</td>\n",
       "<td style=\" padding:0.2cm; text-align:left; vertical-align:top; text-align:center;  \">0.37</td>\n",
       "<td style=\" padding:0.2cm; text-align:left; vertical-align:top; text-align:center;  \">&#45;0.26&nbsp;&ndash;&nbsp;0.99</td>\n",
       "<td style=\" padding:0.2cm; text-align:left; vertical-align:top; text-align:center;  \">0.254</td>\n",
       "</tr>\n",
       "\n",
       "<tr>\n",
       "<td style=\" padding:0.2cm; text-align:left; vertical-align:top; text-align:left; padding-top:0.1cm; padding-bottom:0.1cm;\">N <sub>study_id</sub></td>\n",
       "<td style=\" padding:0.2cm; text-align:left; vertical-align:top; padding-top:0.1cm; padding-bottom:0.1cm; text-align:left;\" colspan=\"3\">170</td>\n",
       "<tr>\n",
       "<td style=\" padding:0.2cm; text-align:left; vertical-align:top; text-align:left; padding-top:0.1cm; padding-bottom:0.1cm; border-top:1px solid;\">Observations</td>\n",
       "<td style=\" padding:0.2cm; text-align:left; vertical-align:top; padding-top:0.1cm; padding-bottom:0.1cm; text-align:left; border-top:1px solid;\" colspan=\"3\">454</td>\n",
       "</tr>\n",
       "<tr>\n",
       "<td style=\" padding:0.2cm; text-align:left; vertical-align:top; text-align:left; padding-top:0.1cm; padding-bottom:0.1cm;\">Marginal R<sup>2</sup> / Conditional R<sup>2</sup></td>\n",
       "<td style=\" padding:0.2cm; text-align:left; vertical-align:top; padding-top:0.1cm; padding-bottom:0.1cm; text-align:left;\" colspan=\"3\">0.393 / 0.729</td>\n",
       "</tr>\n",
       "\n",
       "</table>\n"
      ]
     }
    },
    {
     "output_type": "display_data",
     "metadata": {},
     "data": {
      "text/html": [
       "<table style=\"border-collapse:collapse; border:none;\">\n",
       "<tr>\n",
       "<th style=\"border-top: double; text-align:center; font-style:normal; font-weight:bold; padding:0.2cm;  text-align:left; \">&nbsp;</th>\n",
       "<th colspan=\"3\" style=\"border-top: double; text-align:center; font-style:normal; font-weight:bold; padding:0.2cm; \">relationsatisf scored</th>\n",
       "</tr>\n",
       "<tr>\n",
       "<td style=\" text-align:center; border-bottom:1px solid; font-style:italic; font-weight:normal;  text-align:left; \">Predictors</td>\n",
       "<td style=\" text-align:center; border-bottom:1px solid; font-style:italic; font-weight:normal;  \">Estimates</td>\n",
       "<td style=\" text-align:center; border-bottom:1px solid; font-style:italic; font-weight:normal;  \">CI</td>\n",
       "<td style=\" text-align:center; border-bottom:1px solid; font-style:italic; font-weight:normal;  \">p</td>\n",
       "</tr>\n",
       "<tr>\n",
       "<td style=\" padding:0.2cm; text-align:left; vertical-align:top; text-align:left; \">edu c</td>\n",
       "<td style=\" padding:0.2cm; text-align:left; vertical-align:top; text-align:center;  \">0.61</td>\n",
       "<td style=\" padding:0.2cm; text-align:left; vertical-align:top; text-align:center;  \">0.03&nbsp;&ndash;&nbsp;1.20</td>\n",
       "<td style=\" padding:0.2cm; text-align:left; vertical-align:top; text-align:center;  \"><strong>0.040</strong></td>\n",
       "</tr>\n",
       "\n",
       "<tr>\n",
       "<td style=\" padding:0.2cm; text-align:left; vertical-align:top; text-align:left; padding-top:0.1cm; padding-bottom:0.1cm;\">N <sub>study_id</sub></td>\n",
       "<td style=\" padding:0.2cm; text-align:left; vertical-align:top; padding-top:0.1cm; padding-bottom:0.1cm; text-align:left;\" colspan=\"3\">168</td>\n",
       "<tr>\n",
       "<td style=\" padding:0.2cm; text-align:left; vertical-align:top; text-align:left; padding-top:0.1cm; padding-bottom:0.1cm; border-top:1px solid;\">Observations</td>\n",
       "<td style=\" padding:0.2cm; text-align:left; vertical-align:top; padding-top:0.1cm; padding-bottom:0.1cm; text-align:left; border-top:1px solid;\" colspan=\"3\">436</td>\n",
       "</tr>\n",
       "<tr>\n",
       "<td style=\" padding:0.2cm; text-align:left; vertical-align:top; text-align:left; padding-top:0.1cm; padding-bottom:0.1cm;\">Marginal R<sup>2</sup> / Conditional R<sup>2</sup></td>\n",
       "<td style=\" padding:0.2cm; text-align:left; vertical-align:top; padding-top:0.1cm; padding-bottom:0.1cm; text-align:left;\" colspan=\"3\">0.318 / 0.723</td>\n",
       "</tr>\n",
       "\n",
       "</table>\n"
      ]
     }
    }
   ],
   "source": [
    "model_partner_sec_1_edu <- lmer(relationsatisf_scored ~ time_c*arm_c + \n",
    "                                   relationsatisf_0 + edu_c +\n",
    "                             (1 + time_c | study_id), data = subset(data, dyad == 1))\n",
    "sjPlot::tab_model(model_partner_sec_1_edu, show.re.var = F, show.icc = F, terms = c(\"edu_c\"))\n"
   ],
   "id": "7761b3a3-f4ac-4097-959d-8756d7f15710"
  },
  {
   "cell_type": "markdown",
   "metadata": {},
   "source": [
    "`meetings_yn` - not significant"
   ],
   "id": "b50537db-c4e3-499e-b64a-b1c78cfcb232"
  },
  {
   "cell_type": "code",
   "execution_count": null,
   "metadata": {},
   "outputs": [
    {
     "output_type": "display_data",
     "metadata": {},
     "data": {
      "text/html": [
       "<table style=\"border-collapse:collapse; border:none;\">\n",
       "<tr>\n",
       "<th style=\"border-top: double; text-align:center; font-style:normal; font-weight:bold; padding:0.2cm;  text-align:left; \">&nbsp;</th>\n",
       "<th colspan=\"3\" style=\"border-top: double; text-align:center; font-style:normal; font-weight:bold; padding:0.2cm; \">relationsatisf scored</th>\n",
       "</tr>\n",
       "<tr>\n",
       "<td style=\" text-align:center; border-bottom:1px solid; font-style:italic; font-weight:normal;  text-align:left; \">Predictors</td>\n",
       "<td style=\" text-align:center; border-bottom:1px solid; font-style:italic; font-weight:normal;  \">Estimates</td>\n",
       "<td style=\" text-align:center; border-bottom:1px solid; font-style:italic; font-weight:normal;  \">CI</td>\n",
       "<td style=\" text-align:center; border-bottom:1px solid; font-style:italic; font-weight:normal;  \">p</td>\n",
       "</tr>\n",
       "<tr>\n",
       "<td style=\" padding:0.2cm; text-align:left; vertical-align:top; text-align:left; \">meetings yn</td>\n",
       "<td style=\" padding:0.2cm; text-align:left; vertical-align:top; text-align:center;  \">&#45;0.60</td>\n",
       "<td style=\" padding:0.2cm; text-align:left; vertical-align:top; text-align:center;  \">&#45;2.16&nbsp;&ndash;&nbsp;0.97</td>\n",
       "<td style=\" padding:0.2cm; text-align:left; vertical-align:top; text-align:center;  \">0.453</td>\n",
       "</tr>\n",
       "\n",
       "<tr>\n",
       "<td style=\" padding:0.2cm; text-align:left; vertical-align:top; text-align:left; padding-top:0.1cm; padding-bottom:0.1cm;\">N <sub>study_id</sub></td>\n",
       "<td style=\" padding:0.2cm; text-align:left; vertical-align:top; padding-top:0.1cm; padding-bottom:0.1cm; text-align:left;\" colspan=\"3\">170</td>\n",
       "<tr>\n",
       "<td style=\" padding:0.2cm; text-align:left; vertical-align:top; text-align:left; padding-top:0.1cm; padding-bottom:0.1cm; border-top:1px solid;\">Observations</td>\n",
       "<td style=\" padding:0.2cm; text-align:left; vertical-align:top; padding-top:0.1cm; padding-bottom:0.1cm; text-align:left; border-top:1px solid;\" colspan=\"3\">454</td>\n",
       "</tr>\n",
       "<tr>\n",
       "<td style=\" padding:0.2cm; text-align:left; vertical-align:top; text-align:left; padding-top:0.1cm; padding-bottom:0.1cm;\">Marginal R<sup>2</sup> / Conditional R<sup>2</sup></td>\n",
       "<td style=\" padding:0.2cm; text-align:left; vertical-align:top; padding-top:0.1cm; padding-bottom:0.1cm; text-align:left;\" colspan=\"3\">0.390 / 0.729</td>\n",
       "</tr>\n",
       "\n",
       "</table>\n"
      ]
     }
    },
    {
     "output_type": "display_data",
     "metadata": {},
     "data": {
      "text/html": [
       "<table style=\"border-collapse:collapse; border:none;\">\n",
       "<tr>\n",
       "<th style=\"border-top: double; text-align:center; font-style:normal; font-weight:bold; padding:0.2cm;  text-align:left; \">&nbsp;</th>\n",
       "<th colspan=\"3\" style=\"border-top: double; text-align:center; font-style:normal; font-weight:bold; padding:0.2cm; \">relationsatisf scored</th>\n",
       "</tr>\n",
       "<tr>\n",
       "<td style=\" text-align:center; border-bottom:1px solid; font-style:italic; font-weight:normal;  text-align:left; \">Predictors</td>\n",
       "<td style=\" text-align:center; border-bottom:1px solid; font-style:italic; font-weight:normal;  \">Estimates</td>\n",
       "<td style=\" text-align:center; border-bottom:1px solid; font-style:italic; font-weight:normal;  \">CI</td>\n",
       "<td style=\" text-align:center; border-bottom:1px solid; font-style:italic; font-weight:normal;  \">p</td>\n",
       "</tr>\n",
       "<tr>\n",
       "<td style=\" padding:0.2cm; text-align:left; vertical-align:top; text-align:left; \">meetings yn</td>\n",
       "<td style=\" padding:0.2cm; text-align:left; vertical-align:top; text-align:center;  \">0.52</td>\n",
       "<td style=\" padding:0.2cm; text-align:left; vertical-align:top; text-align:center;  \">&#45;0.64&nbsp;&ndash;&nbsp;1.69</td>\n",
       "<td style=\" padding:0.2cm; text-align:left; vertical-align:top; text-align:center;  \">0.379</td>\n",
       "</tr>\n",
       "\n",
       "<tr>\n",
       "<td style=\" padding:0.2cm; text-align:left; vertical-align:top; text-align:left; padding-top:0.1cm; padding-bottom:0.1cm;\">N <sub>study_id</sub></td>\n",
       "<td style=\" padding:0.2cm; text-align:left; vertical-align:top; padding-top:0.1cm; padding-bottom:0.1cm; text-align:left;\" colspan=\"3\">167</td>\n",
       "<tr>\n",
       "<td style=\" padding:0.2cm; text-align:left; vertical-align:top; text-align:left; padding-top:0.1cm; padding-bottom:0.1cm; border-top:1px solid;\">Observations</td>\n",
       "<td style=\" padding:0.2cm; text-align:left; vertical-align:top; padding-top:0.1cm; padding-bottom:0.1cm; text-align:left; border-top:1px solid;\" colspan=\"3\">435</td>\n",
       "</tr>\n",
       "<tr>\n",
       "<td style=\" padding:0.2cm; text-align:left; vertical-align:top; text-align:left; padding-top:0.1cm; padding-bottom:0.1cm;\">Marginal R<sup>2</sup> / Conditional R<sup>2</sup></td>\n",
       "<td style=\" padding:0.2cm; text-align:left; vertical-align:top; padding-top:0.1cm; padding-bottom:0.1cm; text-align:left;\" colspan=\"3\">0.306 / 0.728</td>\n",
       "</tr>\n",
       "\n",
       "</table>\n"
      ]
     }
    }
   ],
   "source": [
    "model_partner_sec_1_meetings <-lmer(relationsatisf_scored ~ time_c*arm_c + \n",
    "                                   relationsatisf_0 + meetings_yn +\n",
    "                             (1 + time_c | study_id), data = subset(data, dyad == 1))\n",
    "sjPlot::tab_model(model_partner_sec_1_meetings, show.re.var = F, show.icc = F, terms = c(\"meetings_yn\"))\n"
   ],
   "id": "1dcfa2dd-7f29-416c-87e1-0e1970262935"
  },
  {
   "cell_type": "markdown",
   "metadata": {},
   "source": [
    "`outpatient_yn_ever` - Not significant"
   ],
   "id": "49179087-4797-4204-a7de-ca8ce95148c5"
  },
  {
   "cell_type": "code",
   "execution_count": null,
   "metadata": {},
   "outputs": [
    {
     "output_type": "display_data",
     "metadata": {},
     "data": {
      "text/html": [
       "<table style=\"border-collapse:collapse; border:none;\">\n",
       "<tr>\n",
       "<th style=\"border-top: double; text-align:center; font-style:normal; font-weight:bold; padding:0.2cm;  text-align:left; \">&nbsp;</th>\n",
       "<th colspan=\"3\" style=\"border-top: double; text-align:center; font-style:normal; font-weight:bold; padding:0.2cm; \">relationsatisf scored</th>\n",
       "</tr>\n",
       "<tr>\n",
       "<td style=\" text-align:center; border-bottom:1px solid; font-style:italic; font-weight:normal;  text-align:left; \">Predictors</td>\n",
       "<td style=\" text-align:center; border-bottom:1px solid; font-style:italic; font-weight:normal;  \">Estimates</td>\n",
       "<td style=\" text-align:center; border-bottom:1px solid; font-style:italic; font-weight:normal;  \">CI</td>\n",
       "<td style=\" text-align:center; border-bottom:1px solid; font-style:italic; font-weight:normal;  \">p</td>\n",
       "</tr>\n",
       "<tr>\n",
       "<td style=\" padding:0.2cm; text-align:left; vertical-align:top; text-align:left; \">outpatient yn ever</td>\n",
       "<td style=\" padding:0.2cm; text-align:left; vertical-align:top; text-align:center;  \">&#45;0.62</td>\n",
       "<td style=\" padding:0.2cm; text-align:left; vertical-align:top; text-align:center;  \">&#45;3.51&nbsp;&ndash;&nbsp;2.26</td>\n",
       "<td style=\" padding:0.2cm; text-align:left; vertical-align:top; text-align:center;  \">0.672</td>\n",
       "</tr>\n",
       "\n",
       "<tr>\n",
       "<td style=\" padding:0.2cm; text-align:left; vertical-align:top; text-align:left; padding-top:0.1cm; padding-bottom:0.1cm;\">N <sub>study_id</sub></td>\n",
       "<td style=\" padding:0.2cm; text-align:left; vertical-align:top; padding-top:0.1cm; padding-bottom:0.1cm; text-align:left;\" colspan=\"3\">170</td>\n",
       "<tr>\n",
       "<td style=\" padding:0.2cm; text-align:left; vertical-align:top; text-align:left; padding-top:0.1cm; padding-bottom:0.1cm; border-top:1px solid;\">Observations</td>\n",
       "<td style=\" padding:0.2cm; text-align:left; vertical-align:top; padding-top:0.1cm; padding-bottom:0.1cm; text-align:left; border-top:1px solid;\" colspan=\"3\">454</td>\n",
       "</tr>\n",
       "<tr>\n",
       "<td style=\" padding:0.2cm; text-align:left; vertical-align:top; text-align:left; padding-top:0.1cm; padding-bottom:0.1cm;\">Marginal R<sup>2</sup> / Conditional R<sup>2</sup></td>\n",
       "<td style=\" padding:0.2cm; text-align:left; vertical-align:top; padding-top:0.1cm; padding-bottom:0.1cm; text-align:left;\" colspan=\"3\">0.390 / 0.729</td>\n",
       "</tr>\n",
       "\n",
       "</table>\n"
      ]
     }
    },
    {
     "output_type": "display_data",
     "metadata": {},
     "data": {
      "text/html": [
       "<table style=\"border-collapse:collapse; border:none;\">\n",
       "<tr>\n",
       "<th style=\"border-top: double; text-align:center; font-style:normal; font-weight:bold; padding:0.2cm;  text-align:left; \">&nbsp;</th>\n",
       "<th colspan=\"3\" style=\"border-top: double; text-align:center; font-style:normal; font-weight:bold; padding:0.2cm; \">relationsatisf scored</th>\n",
       "</tr>\n",
       "<tr>\n",
       "<td style=\" text-align:center; border-bottom:1px solid; font-style:italic; font-weight:normal;  text-align:left; \">Predictors</td>\n",
       "<td style=\" text-align:center; border-bottom:1px solid; font-style:italic; font-weight:normal;  \">Estimates</td>\n",
       "<td style=\" text-align:center; border-bottom:1px solid; font-style:italic; font-weight:normal;  \">CI</td>\n",
       "<td style=\" text-align:center; border-bottom:1px solid; font-style:italic; font-weight:normal;  \">p</td>\n",
       "</tr>\n",
       "<tr>\n",
       "<td style=\" padding:0.2cm; text-align:left; vertical-align:top; text-align:left; \">outpatient yn ever</td>\n",
       "<td style=\" padding:0.2cm; text-align:left; vertical-align:top; text-align:center;  \">&#45;0.76</td>\n",
       "<td style=\" padding:0.2cm; text-align:left; vertical-align:top; text-align:center;  \">&#45;2.18&nbsp;&ndash;&nbsp;0.67</td>\n",
       "<td style=\" padding:0.2cm; text-align:left; vertical-align:top; text-align:center;  \">0.298</td>\n",
       "</tr>\n",
       "\n",
       "<tr>\n",
       "<td style=\" padding:0.2cm; text-align:left; vertical-align:top; text-align:left; padding-top:0.1cm; padding-bottom:0.1cm;\">N <sub>study_id</sub></td>\n",
       "<td style=\" padding:0.2cm; text-align:left; vertical-align:top; padding-top:0.1cm; padding-bottom:0.1cm; text-align:left;\" colspan=\"3\">168</td>\n",
       "<tr>\n",
       "<td style=\" padding:0.2cm; text-align:left; vertical-align:top; text-align:left; padding-top:0.1cm; padding-bottom:0.1cm; border-top:1px solid;\">Observations</td>\n",
       "<td style=\" padding:0.2cm; text-align:left; vertical-align:top; padding-top:0.1cm; padding-bottom:0.1cm; text-align:left; border-top:1px solid;\" colspan=\"3\">436</td>\n",
       "</tr>\n",
       "<tr>\n",
       "<td style=\" padding:0.2cm; text-align:left; vertical-align:top; text-align:left; padding-top:0.1cm; padding-bottom:0.1cm;\">Marginal R<sup>2</sup> / Conditional R<sup>2</sup></td>\n",
       "<td style=\" padding:0.2cm; text-align:left; vertical-align:top; padding-top:0.1cm; padding-bottom:0.1cm; text-align:left;\" colspan=\"3\">0.310 / 0.725</td>\n",
       "</tr>\n",
       "\n",
       "</table>\n"
      ]
     }
    }
   ],
   "source": [
    "model_partner_sec_1_outpatient <- lmer(relationsatisf_scored ~ time_c*arm_c + \n",
    "                                   relationsatisf_0 + outpatient_yn_ever +\n",
    "                             (1 + time_c | study_id), data = subset(data, dyad == 1))\n",
    "sjPlot::tab_model(model_partner_sec_1_outpatient, show.re.var = F, show.icc = F, terms = c(\"outpatient_yn_ever\"))\n"
   ],
   "id": "df3f1fc3-9fdb-4bd4-ad44-e1ec3666fc15"
  },
  {
   "cell_type": "markdown",
   "metadata": {},
   "source": [
    "`er_yn_ever` - Not significant"
   ],
   "id": "d18585b7-6ba5-438e-86c6-510e6e18a293"
  },
  {
   "cell_type": "code",
   "execution_count": null,
   "metadata": {},
   "outputs": [
    {
     "output_type": "display_data",
     "metadata": {},
     "data": {
      "text/html": [
       "<table style=\"border-collapse:collapse; border:none;\">\n",
       "<tr>\n",
       "<th style=\"border-top: double; text-align:center; font-style:normal; font-weight:bold; padding:0.2cm;  text-align:left; \">&nbsp;</th>\n",
       "<th colspan=\"3\" style=\"border-top: double; text-align:center; font-style:normal; font-weight:bold; padding:0.2cm; \">relationsatisf scored</th>\n",
       "</tr>\n",
       "<tr>\n",
       "<td style=\" text-align:center; border-bottom:1px solid; font-style:italic; font-weight:normal;  text-align:left; \">Predictors</td>\n",
       "<td style=\" text-align:center; border-bottom:1px solid; font-style:italic; font-weight:normal;  \">Estimates</td>\n",
       "<td style=\" text-align:center; border-bottom:1px solid; font-style:italic; font-weight:normal;  \">CI</td>\n",
       "<td style=\" text-align:center; border-bottom:1px solid; font-style:italic; font-weight:normal;  \">p</td>\n",
       "</tr>\n",
       "<tr>\n",
       "<td style=\" padding:0.2cm; text-align:left; vertical-align:top; text-align:left; \">er yn ever</td>\n",
       "<td style=\" padding:0.2cm; text-align:left; vertical-align:top; text-align:center;  \">0.81</td>\n",
       "<td style=\" padding:0.2cm; text-align:left; vertical-align:top; text-align:center;  \">&#45;0.93&nbsp;&ndash;&nbsp;2.56</td>\n",
       "<td style=\" padding:0.2cm; text-align:left; vertical-align:top; text-align:center;  \">0.360</td>\n",
       "</tr>\n",
       "\n",
       "<tr>\n",
       "<td style=\" padding:0.2cm; text-align:left; vertical-align:top; text-align:left; padding-top:0.1cm; padding-bottom:0.1cm;\">N <sub>study_id</sub></td>\n",
       "<td style=\" padding:0.2cm; text-align:left; vertical-align:top; padding-top:0.1cm; padding-bottom:0.1cm; text-align:left;\" colspan=\"3\">170</td>\n",
       "<tr>\n",
       "<td style=\" padding:0.2cm; text-align:left; vertical-align:top; text-align:left; padding-top:0.1cm; padding-bottom:0.1cm; border-top:1px solid;\">Observations</td>\n",
       "<td style=\" padding:0.2cm; text-align:left; vertical-align:top; padding-top:0.1cm; padding-bottom:0.1cm; text-align:left; border-top:1px solid;\" colspan=\"3\">454</td>\n",
       "</tr>\n",
       "<tr>\n",
       "<td style=\" padding:0.2cm; text-align:left; vertical-align:top; text-align:left; padding-top:0.1cm; padding-bottom:0.1cm;\">Marginal R<sup>2</sup> / Conditional R<sup>2</sup></td>\n",
       "<td style=\" padding:0.2cm; text-align:left; vertical-align:top; padding-top:0.1cm; padding-bottom:0.1cm; text-align:left;\" colspan=\"3\">0.392 / 0.730</td>\n",
       "</tr>\n",
       "\n",
       "</table>\n"
      ]
     }
    },
    {
     "output_type": "display_data",
     "metadata": {},
     "data": {
      "text/html": [
       "<table style=\"border-collapse:collapse; border:none;\">\n",
       "<tr>\n",
       "<th style=\"border-top: double; text-align:center; font-style:normal; font-weight:bold; padding:0.2cm;  text-align:left; \">&nbsp;</th>\n",
       "<th colspan=\"3\" style=\"border-top: double; text-align:center; font-style:normal; font-weight:bold; padding:0.2cm; \">relationsatisf scored</th>\n",
       "</tr>\n",
       "<tr>\n",
       "<td style=\" text-align:center; border-bottom:1px solid; font-style:italic; font-weight:normal;  text-align:left; \">Predictors</td>\n",
       "<td style=\" text-align:center; border-bottom:1px solid; font-style:italic; font-weight:normal;  \">Estimates</td>\n",
       "<td style=\" text-align:center; border-bottom:1px solid; font-style:italic; font-weight:normal;  \">CI</td>\n",
       "<td style=\" text-align:center; border-bottom:1px solid; font-style:italic; font-weight:normal;  \">p</td>\n",
       "</tr>\n",
       "<tr>\n",
       "<td style=\" padding:0.2cm; text-align:left; vertical-align:top; text-align:left; \">er yn ever</td>\n",
       "<td style=\" padding:0.2cm; text-align:left; vertical-align:top; text-align:center;  \">&#45;1.29</td>\n",
       "<td style=\" padding:0.2cm; text-align:left; vertical-align:top; text-align:center;  \">&#45;2.74&nbsp;&ndash;&nbsp;0.16</td>\n",
       "<td style=\" padding:0.2cm; text-align:left; vertical-align:top; text-align:center;  \">0.082</td>\n",
       "</tr>\n",
       "\n",
       "<tr>\n",
       "<td style=\" padding:0.2cm; text-align:left; vertical-align:top; text-align:left; padding-top:0.1cm; padding-bottom:0.1cm;\">N <sub>study_id</sub></td>\n",
       "<td style=\" padding:0.2cm; text-align:left; vertical-align:top; padding-top:0.1cm; padding-bottom:0.1cm; text-align:left;\" colspan=\"3\">168</td>\n",
       "<tr>\n",
       "<td style=\" padding:0.2cm; text-align:left; vertical-align:top; text-align:left; padding-top:0.1cm; padding-bottom:0.1cm; border-top:1px solid;\">Observations</td>\n",
       "<td style=\" padding:0.2cm; text-align:left; vertical-align:top; padding-top:0.1cm; padding-bottom:0.1cm; text-align:left; border-top:1px solid;\" colspan=\"3\">436</td>\n",
       "</tr>\n",
       "<tr>\n",
       "<td style=\" padding:0.2cm; text-align:left; vertical-align:top; text-align:left; padding-top:0.1cm; padding-bottom:0.1cm;\">Marginal R<sup>2</sup> / Conditional R<sup>2</sup></td>\n",
       "<td style=\" padding:0.2cm; text-align:left; vertical-align:top; padding-top:0.1cm; padding-bottom:0.1cm; text-align:left;\" colspan=\"3\">0.315 / 0.725</td>\n",
       "</tr>\n",
       "\n",
       "</table>\n"
      ]
     }
    }
   ],
   "source": [
    "model_partner_sec_1_er <- lmer(relationsatisf_scored ~ time_c*arm_c + \n",
    "                                   relationsatisf_0 + er_yn_ever +\n",
    "                             (1 + time_c | study_id), data = subset(data, dyad == 1))\n",
    "sjPlot::tab_model(model_partner_sec_1_er, show.re.var = F, show.icc = F, terms = c(\"er_yn_ever\"))\n"
   ],
   "id": "7037bf48-e115-4b02-9e14-8c7d81d6bf42"
  },
  {
   "cell_type": "markdown",
   "metadata": {},
   "source": [
    "`mat_yn` - not significant"
   ],
   "id": "5792785b-388d-4912-ad9b-39c04c875f2b"
  },
  {
   "cell_type": "code",
   "execution_count": null,
   "metadata": {},
   "outputs": [
    {
     "output_type": "display_data",
     "metadata": {},
     "data": {
      "text/html": [
       "<table style=\"border-collapse:collapse; border:none;\">\n",
       "<tr>\n",
       "<th style=\"border-top: double; text-align:center; font-style:normal; font-weight:bold; padding:0.2cm;  text-align:left; \">&nbsp;</th>\n",
       "<th colspan=\"3\" style=\"border-top: double; text-align:center; font-style:normal; font-weight:bold; padding:0.2cm; \">relationsatisf scored</th>\n",
       "</tr>\n",
       "<tr>\n",
       "<td style=\" text-align:center; border-bottom:1px solid; font-style:italic; font-weight:normal;  text-align:left; \">Predictors</td>\n",
       "<td style=\" text-align:center; border-bottom:1px solid; font-style:italic; font-weight:normal;  \">Estimates</td>\n",
       "<td style=\" text-align:center; border-bottom:1px solid; font-style:italic; font-weight:normal;  \">CI</td>\n",
       "<td style=\" text-align:center; border-bottom:1px solid; font-style:italic; font-weight:normal;  \">p</td>\n",
       "</tr>\n",
       "<tr>\n",
       "<td style=\" padding:0.2cm; text-align:left; vertical-align:top; text-align:left; \">mat yn</td>\n",
       "<td style=\" padding:0.2cm; text-align:left; vertical-align:top; text-align:center;  \">1.27</td>\n",
       "<td style=\" padding:0.2cm; text-align:left; vertical-align:top; text-align:center;  \">&#45;1.61&nbsp;&ndash;&nbsp;4.15</td>\n",
       "<td style=\" padding:0.2cm; text-align:left; vertical-align:top; text-align:center;  \">0.387</td>\n",
       "</tr>\n",
       "\n",
       "<tr>\n",
       "<td style=\" padding:0.2cm; text-align:left; vertical-align:top; text-align:left; padding-top:0.1cm; padding-bottom:0.1cm;\">N <sub>study_id</sub></td>\n",
       "<td style=\" padding:0.2cm; text-align:left; vertical-align:top; padding-top:0.1cm; padding-bottom:0.1cm; text-align:left;\" colspan=\"3\">170</td>\n",
       "<tr>\n",
       "<td style=\" padding:0.2cm; text-align:left; vertical-align:top; text-align:left; padding-top:0.1cm; padding-bottom:0.1cm; border-top:1px solid;\">Observations</td>\n",
       "<td style=\" padding:0.2cm; text-align:left; vertical-align:top; padding-top:0.1cm; padding-bottom:0.1cm; text-align:left; border-top:1px solid;\" colspan=\"3\">454</td>\n",
       "</tr>\n",
       "<tr>\n",
       "<td style=\" padding:0.2cm; text-align:left; vertical-align:top; text-align:left; padding-top:0.1cm; padding-bottom:0.1cm;\">Marginal R<sup>2</sup> / Conditional R<sup>2</sup></td>\n",
       "<td style=\" padding:0.2cm; text-align:left; vertical-align:top; padding-top:0.1cm; padding-bottom:0.1cm; text-align:left;\" colspan=\"3\">0.391 / 0.728</td>\n",
       "</tr>\n",
       "\n",
       "</table>\n"
      ]
     }
    },
    {
     "output_type": "display_data",
     "metadata": {},
     "data": {
      "text/html": [
       "<table style=\"border-collapse:collapse; border:none;\">\n",
       "<tr>\n",
       "<th style=\"border-top: double; text-align:center; font-style:normal; font-weight:bold; padding:0.2cm;  text-align:left; \">&nbsp;</th>\n",
       "<th colspan=\"3\" style=\"border-top: double; text-align:center; font-style:normal; font-weight:bold; padding:0.2cm; \">relationsatisf scored</th>\n",
       "</tr>\n",
       "<tr>\n",
       "<td style=\" text-align:center; border-bottom:1px solid; font-style:italic; font-weight:normal;  text-align:left; \">Predictors</td>\n",
       "<td style=\" text-align:center; border-bottom:1px solid; font-style:italic; font-weight:normal;  \">Estimates</td>\n",
       "<td style=\" text-align:center; border-bottom:1px solid; font-style:italic; font-weight:normal;  \">CI</td>\n",
       "<td style=\" text-align:center; border-bottom:1px solid; font-style:italic; font-weight:normal;  \">p</td>\n",
       "</tr>\n",
       "<tr>\n",
       "<td style=\" padding:0.2cm; text-align:left; vertical-align:top; text-align:left; \">mat yn</td>\n",
       "<td style=\" padding:0.2cm; text-align:left; vertical-align:top; text-align:center;  \">0.24</td>\n",
       "<td style=\" padding:0.2cm; text-align:left; vertical-align:top; text-align:center;  \">&#45;1.04&nbsp;&ndash;&nbsp;1.52</td>\n",
       "<td style=\" padding:0.2cm; text-align:left; vertical-align:top; text-align:center;  \">0.713</td>\n",
       "</tr>\n",
       "\n",
       "<tr>\n",
       "<td style=\" padding:0.2cm; text-align:left; vertical-align:top; text-align:left; padding-top:0.1cm; padding-bottom:0.1cm;\">N <sub>study_id</sub></td>\n",
       "<td style=\" padding:0.2cm; text-align:left; vertical-align:top; padding-top:0.1cm; padding-bottom:0.1cm; text-align:left;\" colspan=\"3\">167</td>\n",
       "<tr>\n",
       "<td style=\" padding:0.2cm; text-align:left; vertical-align:top; text-align:left; padding-top:0.1cm; padding-bottom:0.1cm; border-top:1px solid;\">Observations</td>\n",
       "<td style=\" padding:0.2cm; text-align:left; vertical-align:top; padding-top:0.1cm; padding-bottom:0.1cm; text-align:left; border-top:1px solid;\" colspan=\"3\">432</td>\n",
       "</tr>\n",
       "<tr>\n",
       "<td style=\" padding:0.2cm; text-align:left; vertical-align:top; text-align:left; padding-top:0.1cm; padding-bottom:0.1cm;\">Marginal R<sup>2</sup> / Conditional R<sup>2</sup></td>\n",
       "<td style=\" padding:0.2cm; text-align:left; vertical-align:top; padding-top:0.1cm; padding-bottom:0.1cm; text-align:left;\" colspan=\"3\">0.300 / 0.736</td>\n",
       "</tr>\n",
       "\n",
       "</table>\n"
      ]
     }
    }
   ],
   "source": [
    "model_partner_sec_1_mat <- lmer(relationsatisf_scored ~ time_c*arm_c + \n",
    "                                   relationsatisf_0 + mat_yn +\n",
    "                             (1 + time_c | study_id), data = subset(data, dyad == 1))\n",
    "sjPlot::tab_model(model_partner_sec_1_mat, show.re.var = F, show.icc = F, terms = c(\"mat_yn\"))\n"
   ],
   "id": "a7b43c0f-fc08-4634-921a-93d64ca0c0cf"
  },
  {
   "cell_type": "markdown",
   "metadata": {},
   "source": [
    "`inpatient_yn_ever` - **significant for partner not patient**"
   ],
   "id": "36ad721f-5c94-4f5d-9706-66f94889bf60"
  },
  {
   "cell_type": "code",
   "execution_count": null,
   "metadata": {},
   "outputs": [
    {
     "output_type": "display_data",
     "metadata": {},
     "data": {
      "text/html": [
       "<table style=\"border-collapse:collapse; border:none;\">\n",
       "<tr>\n",
       "<th style=\"border-top: double; text-align:center; font-style:normal; font-weight:bold; padding:0.2cm;  text-align:left; \">&nbsp;</th>\n",
       "<th colspan=\"3\" style=\"border-top: double; text-align:center; font-style:normal; font-weight:bold; padding:0.2cm; \">relationsatisf scored</th>\n",
       "</tr>\n",
       "<tr>\n",
       "<td style=\" text-align:center; border-bottom:1px solid; font-style:italic; font-weight:normal;  text-align:left; \">Predictors</td>\n",
       "<td style=\" text-align:center; border-bottom:1px solid; font-style:italic; font-weight:normal;  \">Estimates</td>\n",
       "<td style=\" text-align:center; border-bottom:1px solid; font-style:italic; font-weight:normal;  \">CI</td>\n",
       "<td style=\" text-align:center; border-bottom:1px solid; font-style:italic; font-weight:normal;  \">p</td>\n",
       "</tr>\n",
       "<tr>\n",
       "<td style=\" padding:0.2cm; text-align:left; vertical-align:top; text-align:left; \">inpatient yn ever</td>\n",
       "<td style=\" padding:0.2cm; text-align:left; vertical-align:top; text-align:center;  \">&#45;7.23</td>\n",
       "<td style=\" padding:0.2cm; text-align:left; vertical-align:top; text-align:center;  \">&#45;11.61&nbsp;&ndash;&nbsp;-2.84</td>\n",
       "<td style=\" padding:0.2cm; text-align:left; vertical-align:top; text-align:center;  \"><strong>0.001</strong></td>\n",
       "</tr>\n",
       "\n",
       "<tr>\n",
       "<td style=\" padding:0.2cm; text-align:left; vertical-align:top; text-align:left; padding-top:0.1cm; padding-bottom:0.1cm;\">N <sub>study_id</sub></td>\n",
       "<td style=\" padding:0.2cm; text-align:left; vertical-align:top; padding-top:0.1cm; padding-bottom:0.1cm; text-align:left;\" colspan=\"3\">170</td>\n",
       "<tr>\n",
       "<td style=\" padding:0.2cm; text-align:left; vertical-align:top; text-align:left; padding-top:0.1cm; padding-bottom:0.1cm; border-top:1px solid;\">Observations</td>\n",
       "<td style=\" padding:0.2cm; text-align:left; vertical-align:top; padding-top:0.1cm; padding-bottom:0.1cm; text-align:left; border-top:1px solid;\" colspan=\"3\">454</td>\n",
       "</tr>\n",
       "<tr>\n",
       "<td style=\" padding:0.2cm; text-align:left; vertical-align:top; text-align:left; padding-top:0.1cm; padding-bottom:0.1cm;\">Marginal R<sup>2</sup> / Conditional R<sup>2</sup></td>\n",
       "<td style=\" padding:0.2cm; text-align:left; vertical-align:top; padding-top:0.1cm; padding-bottom:0.1cm; text-align:left;\" colspan=\"3\">0.413 / 0.727</td>\n",
       "</tr>\n",
       "\n",
       "</table>\n"
      ]
     }
    },
    {
     "output_type": "display_data",
     "metadata": {},
     "data": {
      "text/html": [
       "<table style=\"border-collapse:collapse; border:none;\">\n",
       "<tr>\n",
       "<th style=\"border-top: double; text-align:center; font-style:normal; font-weight:bold; padding:0.2cm;  text-align:left; \">&nbsp;</th>\n",
       "<th colspan=\"3\" style=\"border-top: double; text-align:center; font-style:normal; font-weight:bold; padding:0.2cm; \">relationsatisf scored</th>\n",
       "</tr>\n",
       "<tr>\n",
       "<td style=\" text-align:center; border-bottom:1px solid; font-style:italic; font-weight:normal;  text-align:left; \">Predictors</td>\n",
       "<td style=\" text-align:center; border-bottom:1px solid; font-style:italic; font-weight:normal;  \">Estimates</td>\n",
       "<td style=\" text-align:center; border-bottom:1px solid; font-style:italic; font-weight:normal;  \">CI</td>\n",
       "<td style=\" text-align:center; border-bottom:1px solid; font-style:italic; font-weight:normal;  \">p</td>\n",
       "</tr>\n",
       "<tr>\n",
       "<td style=\" padding:0.2cm; text-align:left; vertical-align:top; text-align:left; \">inpatient yn ever</td>\n",
       "<td style=\" padding:0.2cm; text-align:left; vertical-align:top; text-align:center;  \">&#45;1.06</td>\n",
       "<td style=\" padding:0.2cm; text-align:left; vertical-align:top; text-align:center;  \">&#45;2.74&nbsp;&ndash;&nbsp;0.61</td>\n",
       "<td style=\" padding:0.2cm; text-align:left; vertical-align:top; text-align:center;  \">0.212</td>\n",
       "</tr>\n",
       "\n",
       "<tr>\n",
       "<td style=\" padding:0.2cm; text-align:left; vertical-align:top; text-align:left; padding-top:0.1cm; padding-bottom:0.1cm;\">N <sub>study_id</sub></td>\n",
       "<td style=\" padding:0.2cm; text-align:left; vertical-align:top; padding-top:0.1cm; padding-bottom:0.1cm; text-align:left;\" colspan=\"3\">168</td>\n",
       "<tr>\n",
       "<td style=\" padding:0.2cm; text-align:left; vertical-align:top; text-align:left; padding-top:0.1cm; padding-bottom:0.1cm; border-top:1px solid;\">Observations</td>\n",
       "<td style=\" padding:0.2cm; text-align:left; vertical-align:top; padding-top:0.1cm; padding-bottom:0.1cm; text-align:left; border-top:1px solid;\" colspan=\"3\">436</td>\n",
       "</tr>\n",
       "<tr>\n",
       "<td style=\" padding:0.2cm; text-align:left; vertical-align:top; text-align:left; padding-top:0.1cm; padding-bottom:0.1cm;\">Marginal R<sup>2</sup> / Conditional R<sup>2</sup></td>\n",
       "<td style=\" padding:0.2cm; text-align:left; vertical-align:top; padding-top:0.1cm; padding-bottom:0.1cm; text-align:left;\" colspan=\"3\">0.311 / 0.726</td>\n",
       "</tr>\n",
       "\n",
       "</table>\n"
      ]
     }
    }
   ],
   "source": [
    "model_partner_sec_1_inpatient <- lmer(relationsatisf_scored ~ time_c*arm_c + \n",
    "                                   relationsatisf_0 + inpatient_yn_ever +\n",
    "                             (1 + time_c | study_id), \n",
    "                             data = subset(data, dyad == 1))\n",
    "sjPlot::tab_model(model_partner_sec_1_inpatient, show.re.var = F, show.icc = F, terms = c(\"inpatient_yn_ever\"))\n"
   ],
   "id": "b669643b-5973-451f-8949-c65370d09dc9"
  },
  {
   "cell_type": "markdown",
   "metadata": {},
   "source": [
    "`other_psych_treatment_yn` - not significant"
   ],
   "id": "619894e6-d2bb-4e83-befc-c286becf7c81"
  },
  {
   "cell_type": "code",
   "execution_count": null,
   "metadata": {},
   "outputs": [
    {
     "output_type": "display_data",
     "metadata": {},
     "data": {
      "text/html": [
       "<table style=\"border-collapse:collapse; border:none;\">\n",
       "<tr>\n",
       "<th style=\"border-top: double; text-align:center; font-style:normal; font-weight:bold; padding:0.2cm;  text-align:left; \">&nbsp;</th>\n",
       "<th colspan=\"3\" style=\"border-top: double; text-align:center; font-style:normal; font-weight:bold; padding:0.2cm; \">relationsatisf scored</th>\n",
       "</tr>\n",
       "<tr>\n",
       "<td style=\" text-align:center; border-bottom:1px solid; font-style:italic; font-weight:normal;  text-align:left; \">Predictors</td>\n",
       "<td style=\" text-align:center; border-bottom:1px solid; font-style:italic; font-weight:normal;  \">Estimates</td>\n",
       "<td style=\" text-align:center; border-bottom:1px solid; font-style:italic; font-weight:normal;  \">CI</td>\n",
       "<td style=\" text-align:center; border-bottom:1px solid; font-style:italic; font-weight:normal;  \">p</td>\n",
       "</tr>\n",
       "<tr>\n",
       "<td style=\" padding:0.2cm; text-align:left; vertical-align:top; text-align:left; \">other psych treatment yn</td>\n",
       "<td style=\" padding:0.2cm; text-align:left; vertical-align:top; text-align:center;  \">&#45;1.16</td>\n",
       "<td style=\" padding:0.2cm; text-align:left; vertical-align:top; text-align:center;  \">&#45;2.76&nbsp;&ndash;&nbsp;0.45</td>\n",
       "<td style=\" padding:0.2cm; text-align:left; vertical-align:top; text-align:center;  \">0.157</td>\n",
       "</tr>\n",
       "\n",
       "<tr>\n",
       "<td style=\" padding:0.2cm; text-align:left; vertical-align:top; text-align:left; padding-top:0.1cm; padding-bottom:0.1cm;\">N <sub>study_id</sub></td>\n",
       "<td style=\" padding:0.2cm; text-align:left; vertical-align:top; padding-top:0.1cm; padding-bottom:0.1cm; text-align:left;\" colspan=\"3\">170</td>\n",
       "<tr>\n",
       "<td style=\" padding:0.2cm; text-align:left; vertical-align:top; text-align:left; padding-top:0.1cm; padding-bottom:0.1cm; border-top:1px solid;\">Observations</td>\n",
       "<td style=\" padding:0.2cm; text-align:left; vertical-align:top; padding-top:0.1cm; padding-bottom:0.1cm; text-align:left; border-top:1px solid;\" colspan=\"3\">454</td>\n",
       "</tr>\n",
       "<tr>\n",
       "<td style=\" padding:0.2cm; text-align:left; vertical-align:top; text-align:left; padding-top:0.1cm; padding-bottom:0.1cm;\">Marginal R<sup>2</sup> / Conditional R<sup>2</sup></td>\n",
       "<td style=\" padding:0.2cm; text-align:left; vertical-align:top; padding-top:0.1cm; padding-bottom:0.1cm; text-align:left;\" colspan=\"3\">0.393 / 0.727</td>\n",
       "</tr>\n",
       "\n",
       "</table>\n"
      ]
     }
    },
    {
     "output_type": "display_data",
     "metadata": {},
     "data": {
      "text/html": [
       "<table style=\"border-collapse:collapse; border:none;\">\n",
       "<tr>\n",
       "<th style=\"border-top: double; text-align:center; font-style:normal; font-weight:bold; padding:0.2cm;  text-align:left; \">&nbsp;</th>\n",
       "<th colspan=\"3\" style=\"border-top: double; text-align:center; font-style:normal; font-weight:bold; padding:0.2cm; \">relationsatisf scored</th>\n",
       "</tr>\n",
       "<tr>\n",
       "<td style=\" text-align:center; border-bottom:1px solid; font-style:italic; font-weight:normal;  text-align:left; \">Predictors</td>\n",
       "<td style=\" text-align:center; border-bottom:1px solid; font-style:italic; font-weight:normal;  \">Estimates</td>\n",
       "<td style=\" text-align:center; border-bottom:1px solid; font-style:italic; font-weight:normal;  \">CI</td>\n",
       "<td style=\" text-align:center; border-bottom:1px solid; font-style:italic; font-weight:normal;  \">p</td>\n",
       "</tr>\n",
       "<tr>\n",
       "<td style=\" padding:0.2cm; text-align:left; vertical-align:top; text-align:left; \">other psych treatment yn</td>\n",
       "<td style=\" padding:0.2cm; text-align:left; vertical-align:top; text-align:center;  \">&#45;0.41</td>\n",
       "<td style=\" padding:0.2cm; text-align:left; vertical-align:top; text-align:center;  \">&#45;1.51&nbsp;&ndash;&nbsp;0.70</td>\n",
       "<td style=\" padding:0.2cm; text-align:left; vertical-align:top; text-align:center;  \">0.472</td>\n",
       "</tr>\n",
       "\n",
       "<tr>\n",
       "<td style=\" padding:0.2cm; text-align:left; vertical-align:top; text-align:left; padding-top:0.1cm; padding-bottom:0.1cm;\">N <sub>study_id</sub></td>\n",
       "<td style=\" padding:0.2cm; text-align:left; vertical-align:top; padding-top:0.1cm; padding-bottom:0.1cm; text-align:left;\" colspan=\"3\">167</td>\n",
       "<tr>\n",
       "<td style=\" padding:0.2cm; text-align:left; vertical-align:top; text-align:left; padding-top:0.1cm; padding-bottom:0.1cm; border-top:1px solid;\">Observations</td>\n",
       "<td style=\" padding:0.2cm; text-align:left; vertical-align:top; padding-top:0.1cm; padding-bottom:0.1cm; text-align:left; border-top:1px solid;\" colspan=\"3\">435</td>\n",
       "</tr>\n",
       "<tr>\n",
       "<td style=\" padding:0.2cm; text-align:left; vertical-align:top; text-align:left; padding-top:0.1cm; padding-bottom:0.1cm;\">Marginal R<sup>2</sup> / Conditional R<sup>2</sup></td>\n",
       "<td style=\" padding:0.2cm; text-align:left; vertical-align:top; padding-top:0.1cm; padding-bottom:0.1cm; text-align:left;\" colspan=\"3\">0.307 / 0.727</td>\n",
       "</tr>\n",
       "\n",
       "</table>\n"
      ]
     }
    }
   ],
   "source": [
    "model_partner_sec_1_psych <- lmer(relationsatisf_scored ~ time_c*arm_c + \n",
    "                                   relationsatisf_0 + other_psych_treatment_yn +\n",
    "                             (1 + time_c | study_id), \n",
    "                             data = subset(data, dyad == 1))\n",
    "sjPlot::tab_model(model_partner_sec_1_psych, show.re.var = F, show.icc = F, terms = c(\"other_psych_treatment_yn\"))\n"
   ],
   "id": "1132a0a6-4b51-4b66-a7be-59bc1d60738f"
  },
  {
   "cell_type": "markdown",
   "metadata": {},
   "source": [
    "`other_medications_yn` - Not significant"
   ],
   "id": "283012c3-f46f-4ed0-b665-1f0df253fb83"
  },
  {
   "cell_type": "code",
   "execution_count": null,
   "metadata": {},
   "outputs": [
    {
     "output_type": "display_data",
     "metadata": {},
     "data": {
      "text/html": [
       "<table style=\"border-collapse:collapse; border:none;\">\n",
       "<tr>\n",
       "<th style=\"border-top: double; text-align:center; font-style:normal; font-weight:bold; padding:0.2cm;  text-align:left; \">&nbsp;</th>\n",
       "<th colspan=\"3\" style=\"border-top: double; text-align:center; font-style:normal; font-weight:bold; padding:0.2cm; \">relationsatisf scored</th>\n",
       "</tr>\n",
       "<tr>\n",
       "<td style=\" text-align:center; border-bottom:1px solid; font-style:italic; font-weight:normal;  text-align:left; \">Predictors</td>\n",
       "<td style=\" text-align:center; border-bottom:1px solid; font-style:italic; font-weight:normal;  \">Estimates</td>\n",
       "<td style=\" text-align:center; border-bottom:1px solid; font-style:italic; font-weight:normal;  \">CI</td>\n",
       "<td style=\" text-align:center; border-bottom:1px solid; font-style:italic; font-weight:normal;  \">p</td>\n",
       "</tr>\n",
       "<tr>\n",
       "<td style=\" padding:0.2cm; text-align:left; vertical-align:top; text-align:left; \">other medications yn</td>\n",
       "<td style=\" padding:0.2cm; text-align:left; vertical-align:top; text-align:center;  \">&#45;0.28</td>\n",
       "<td style=\" padding:0.2cm; text-align:left; vertical-align:top; text-align:center;  \">&#45;1.55&nbsp;&ndash;&nbsp;0.99</td>\n",
       "<td style=\" padding:0.2cm; text-align:left; vertical-align:top; text-align:center;  \">0.667</td>\n",
       "</tr>\n",
       "\n",
       "<tr>\n",
       "<td style=\" padding:0.2cm; text-align:left; vertical-align:top; text-align:left; padding-top:0.1cm; padding-bottom:0.1cm;\">N <sub>study_id</sub></td>\n",
       "<td style=\" padding:0.2cm; text-align:left; vertical-align:top; padding-top:0.1cm; padding-bottom:0.1cm; text-align:left;\" colspan=\"3\">170</td>\n",
       "<tr>\n",
       "<td style=\" padding:0.2cm; text-align:left; vertical-align:top; text-align:left; padding-top:0.1cm; padding-bottom:0.1cm; border-top:1px solid;\">Observations</td>\n",
       "<td style=\" padding:0.2cm; text-align:left; vertical-align:top; padding-top:0.1cm; padding-bottom:0.1cm; text-align:left; border-top:1px solid;\" colspan=\"3\">452</td>\n",
       "</tr>\n",
       "<tr>\n",
       "<td style=\" padding:0.2cm; text-align:left; vertical-align:top; text-align:left; padding-top:0.1cm; padding-bottom:0.1cm;\">Marginal R<sup>2</sup> / Conditional R<sup>2</sup></td>\n",
       "<td style=\" padding:0.2cm; text-align:left; vertical-align:top; padding-top:0.1cm; padding-bottom:0.1cm; text-align:left;\" colspan=\"3\">0.391 / 0.725</td>\n",
       "</tr>\n",
       "\n",
       "</table>\n"
      ]
     }
    },
    {
     "output_type": "display_data",
     "metadata": {},
     "data": {
      "text/html": [
       "<table style=\"border-collapse:collapse; border:none;\">\n",
       "<tr>\n",
       "<th style=\"border-top: double; text-align:center; font-style:normal; font-weight:bold; padding:0.2cm;  text-align:left; \">&nbsp;</th>\n",
       "<th colspan=\"3\" style=\"border-top: double; text-align:center; font-style:normal; font-weight:bold; padding:0.2cm; \">relationsatisf scored</th>\n",
       "</tr>\n",
       "<tr>\n",
       "<td style=\" text-align:center; border-bottom:1px solid; font-style:italic; font-weight:normal;  text-align:left; \">Predictors</td>\n",
       "<td style=\" text-align:center; border-bottom:1px solid; font-style:italic; font-weight:normal;  \">Estimates</td>\n",
       "<td style=\" text-align:center; border-bottom:1px solid; font-style:italic; font-weight:normal;  \">CI</td>\n",
       "<td style=\" text-align:center; border-bottom:1px solid; font-style:italic; font-weight:normal;  \">p</td>\n",
       "</tr>\n",
       "<tr>\n",
       "<td style=\" padding:0.2cm; text-align:left; vertical-align:top; text-align:left; \">other medications yn</td>\n",
       "<td style=\" padding:0.2cm; text-align:left; vertical-align:top; text-align:center;  \">0.08</td>\n",
       "<td style=\" padding:0.2cm; text-align:left; vertical-align:top; text-align:center;  \">&#45;0.98&nbsp;&ndash;&nbsp;1.14</td>\n",
       "<td style=\" padding:0.2cm; text-align:left; vertical-align:top; text-align:center;  \">0.882</td>\n",
       "</tr>\n",
       "\n",
       "<tr>\n",
       "<td style=\" padding:0.2cm; text-align:left; vertical-align:top; text-align:left; padding-top:0.1cm; padding-bottom:0.1cm;\">N <sub>study_id</sub></td>\n",
       "<td style=\" padding:0.2cm; text-align:left; vertical-align:top; padding-top:0.1cm; padding-bottom:0.1cm; text-align:left;\" colspan=\"3\">167</td>\n",
       "<tr>\n",
       "<td style=\" padding:0.2cm; text-align:left; vertical-align:top; text-align:left; padding-top:0.1cm; padding-bottom:0.1cm; border-top:1px solid;\">Observations</td>\n",
       "<td style=\" padding:0.2cm; text-align:left; vertical-align:top; padding-top:0.1cm; padding-bottom:0.1cm; text-align:left; border-top:1px solid;\" colspan=\"3\">431</td>\n",
       "</tr>\n",
       "<tr>\n",
       "<td style=\" padding:0.2cm; text-align:left; vertical-align:top; text-align:left; padding-top:0.1cm; padding-bottom:0.1cm;\">Marginal R<sup>2</sup> / Conditional R<sup>2</sup></td>\n",
       "<td style=\" padding:0.2cm; text-align:left; vertical-align:top; padding-top:0.1cm; padding-bottom:0.1cm; text-align:left;\" colspan=\"3\">0.303 / 0.733</td>\n",
       "</tr>\n",
       "\n",
       "</table>\n"
      ]
     }
    }
   ],
   "source": [
    "model_partner_sec_1_psych_meds <- lmer(relationsatisf_scored ~ time_c*arm_c + \n",
    "                                   relationsatisf_0 + other_medications_yn +\n",
    "                             (1 + time_c | study_id), \n",
    "                             data = subset(data, dyad == 1))\n",
    "sjPlot::tab_model(model_partner_sec_1_psych_meds, show.re.var = F, show.icc = F, terms = c(\"other_medications_yn\"))\n"
   ],
   "id": "ecd07433-cecd-4736-8a23-48f6a9989342"
  },
  {
   "cell_type": "markdown",
   "metadata": {},
   "source": [
    "##### Final Model with Significant Covariates"
   ],
   "id": "0aad3e7d-5a1a-4219-a1d2-0a52ab8d8a03"
  },
  {
   "cell_type": "code",
   "execution_count": null,
   "metadata": {},
   "outputs": [
    {
     "output_type": "display_data",
     "metadata": {},
     "data": {
      "text/html": [
       "<table style=\"border-collapse:collapse; border:none;\">\n",
       "<tr>\n",
       "<th style=\"border-top: double; text-align:center; font-style:normal; font-weight:bold; padding:0.2cm;  text-align:left; \">&nbsp;</th>\n",
       "<th colspan=\"3\" style=\"border-top: double; text-align:center; font-style:normal; font-weight:bold; padding:0.2cm; \">relationsatisf scored</th>\n",
       "</tr>\n",
       "<tr>\n",
       "<td style=\" text-align:center; border-bottom:1px solid; font-style:italic; font-weight:normal;  text-align:left; \">Predictors</td>\n",
       "<td style=\" text-align:center; border-bottom:1px solid; font-style:italic; font-weight:normal;  \">Estimates</td>\n",
       "<td style=\" text-align:center; border-bottom:1px solid; font-style:italic; font-weight:normal;  \">CI</td>\n",
       "<td style=\" text-align:center; border-bottom:1px solid; font-style:italic; font-weight:normal;  \">p</td>\n",
       "</tr>\n",
       "<tr>\n",
       "<td style=\" padding:0.2cm; text-align:left; vertical-align:top; text-align:left; \">(Intercept)</td>\n",
       "<td style=\" padding:0.2cm; text-align:left; vertical-align:top; text-align:center;  \">22.07</td>\n",
       "<td style=\" padding:0.2cm; text-align:left; vertical-align:top; text-align:center;  \">21.43&nbsp;&ndash;&nbsp;22.72</td>\n",
       "<td style=\" padding:0.2cm; text-align:left; vertical-align:top; text-align:center;  \"><strong>&lt;0.001</strong></td>\n",
       "</tr>\n",
       "<tr>\n",
       "<td style=\" padding:0.2cm; text-align:left; vertical-align:top; text-align:left; \">time c</td>\n",
       "<td style=\" padding:0.2cm; text-align:left; vertical-align:top; text-align:center;  \">0.10</td>\n",
       "<td style=\" padding:0.2cm; text-align:left; vertical-align:top; text-align:center;  \">&#45;0.36&nbsp;&ndash;&nbsp;0.57</td>\n",
       "<td style=\" padding:0.2cm; text-align:left; vertical-align:top; text-align:center;  \">0.664</td>\n",
       "</tr>\n",
       "<tr>\n",
       "<td style=\" padding:0.2cm; text-align:left; vertical-align:top; text-align:left; \">arm cfam and achess vs C</td>\n",
       "<td style=\" padding:0.2cm; text-align:left; vertical-align:top; text-align:center;  \">&#45;0.53</td>\n",
       "<td style=\" padding:0.2cm; text-align:left; vertical-align:top; text-align:center;  \">&#45;1.90&nbsp;&ndash;&nbsp;0.85</td>\n",
       "<td style=\" padding:0.2cm; text-align:left; vertical-align:top; text-align:center;  \">0.451</td>\n",
       "</tr>\n",
       "<tr>\n",
       "<td style=\" padding:0.2cm; text-align:left; vertical-align:top; text-align:left; \">arm cachess vs fam</td>\n",
       "<td style=\" padding:0.2cm; text-align:left; vertical-align:top; text-align:center;  \">&#45;0.21</td>\n",
       "<td style=\" padding:0.2cm; text-align:left; vertical-align:top; text-align:center;  \">&#45;1.75&nbsp;&ndash;&nbsp;1.34</td>\n",
       "<td style=\" padding:0.2cm; text-align:left; vertical-align:top; text-align:center;  \">0.793</td>\n",
       "</tr>\n",
       "<tr>\n",
       "<td style=\" padding:0.2cm; text-align:left; vertical-align:top; text-align:left; \">relationsatisf 0</td>\n",
       "<td style=\" padding:0.2cm; text-align:left; vertical-align:top; text-align:center;  \">0.86</td>\n",
       "<td style=\" padding:0.2cm; text-align:left; vertical-align:top; text-align:center;  \">0.74&nbsp;&ndash;&nbsp;0.99</td>\n",
       "<td style=\" padding:0.2cm; text-align:left; vertical-align:top; text-align:center;  \"><strong>&lt;0.001</strong></td>\n",
       "</tr>\n",
       "<tr>\n",
       "<td style=\" padding:0.2cm; text-align:left; vertical-align:top; text-align:left; \">inpatient yn ever</td>\n",
       "<td style=\" padding:0.2cm; text-align:left; vertical-align:top; text-align:center;  \">&#45;7.23</td>\n",
       "<td style=\" padding:0.2cm; text-align:left; vertical-align:top; text-align:center;  \">&#45;11.61&nbsp;&ndash;&nbsp;-2.84</td>\n",
       "<td style=\" padding:0.2cm; text-align:left; vertical-align:top; text-align:center;  \"><strong>0.001</strong></td>\n",
       "</tr>\n",
       "<tr>\n",
       "<td style=\" padding:0.2cm; text-align:left; vertical-align:top; text-align:left; \">time c × arm cfam and<br>achess vs C</td>\n",
       "<td style=\" padding:0.2cm; text-align:left; vertical-align:top; text-align:center;  \">&#45;0.09</td>\n",
       "<td style=\" padding:0.2cm; text-align:left; vertical-align:top; text-align:center;  \">&#45;1.10&nbsp;&ndash;&nbsp;0.92</td>\n",
       "<td style=\" padding:0.2cm; text-align:left; vertical-align:top; text-align:center;  \">0.858</td>\n",
       "</tr>\n",
       "<tr>\n",
       "<td style=\" padding:0.2cm; text-align:left; vertical-align:top; text-align:left; \">time c × arm cachess vs<br>fam</td>\n",
       "<td style=\" padding:0.2cm; text-align:left; vertical-align:top; text-align:center;  \">0.70</td>\n",
       "<td style=\" padding:0.2cm; text-align:left; vertical-align:top; text-align:center;  \">&#45;0.43&nbsp;&ndash;&nbsp;1.82</td>\n",
       "<td style=\" padding:0.2cm; text-align:left; vertical-align:top; text-align:center;  \">0.224</td>\n",
       "</tr>\n",
       "\n",
       "<tr>\n",
       "<td style=\" padding:0.2cm; text-align:left; vertical-align:top; text-align:left; padding-top:0.1cm; padding-bottom:0.1cm;\">N <sub>study_id</sub></td>\n",
       "<td style=\" padding:0.2cm; text-align:left; vertical-align:top; padding-top:0.1cm; padding-bottom:0.1cm; text-align:left;\" colspan=\"3\">170</td>\n",
       "<tr>\n",
       "<td style=\" padding:0.2cm; text-align:left; vertical-align:top; text-align:left; padding-top:0.1cm; padding-bottom:0.1cm; border-top:1px solid;\">Observations</td>\n",
       "<td style=\" padding:0.2cm; text-align:left; vertical-align:top; padding-top:0.1cm; padding-bottom:0.1cm; text-align:left; border-top:1px solid;\" colspan=\"3\">454</td>\n",
       "</tr>\n",
       "<tr>\n",
       "<td style=\" padding:0.2cm; text-align:left; vertical-align:top; text-align:left; padding-top:0.1cm; padding-bottom:0.1cm;\">Marginal R<sup>2</sup> / Conditional R<sup>2</sup></td>\n",
       "<td style=\" padding:0.2cm; text-align:left; vertical-align:top; padding-top:0.1cm; padding-bottom:0.1cm; text-align:left;\" colspan=\"3\">0.413 / 0.727</td>\n",
       "</tr>\n",
       "\n",
       "</table>\n"
      ]
     }
    },
    {
     "output_type": "display_data",
     "metadata": {},
     "data": {
      "text/html": [
       "<table style=\"border-collapse:collapse; border:none;\">\n",
       "<tr>\n",
       "<th style=\"border-top: double; text-align:center; font-style:normal; font-weight:bold; padding:0.2cm;  text-align:left; \">&nbsp;</th>\n",
       "<th colspan=\"3\" style=\"border-top: double; text-align:center; font-style:normal; font-weight:bold; padding:0.2cm; \">relationsatisf scored</th>\n",
       "</tr>\n",
       "<tr>\n",
       "<td style=\" text-align:center; border-bottom:1px solid; font-style:italic; font-weight:normal;  text-align:left; \">Predictors</td>\n",
       "<td style=\" text-align:center; border-bottom:1px solid; font-style:italic; font-weight:normal;  \">Estimates</td>\n",
       "<td style=\" text-align:center; border-bottom:1px solid; font-style:italic; font-weight:normal;  \">CI</td>\n",
       "<td style=\" text-align:center; border-bottom:1px solid; font-style:italic; font-weight:normal;  \">p</td>\n",
       "</tr>\n",
       "<tr>\n",
       "<td style=\" padding:0.2cm; text-align:left; vertical-align:top; text-align:left; \">(Intercept)</td>\n",
       "<td style=\" padding:0.2cm; text-align:left; vertical-align:top; text-align:center;  \">21.41</td>\n",
       "<td style=\" padding:0.2cm; text-align:left; vertical-align:top; text-align:center;  \">20.76&nbsp;&ndash;&nbsp;22.06</td>\n",
       "<td style=\" padding:0.2cm; text-align:left; vertical-align:top; text-align:center;  \"><strong>&lt;0.001</strong></td>\n",
       "</tr>\n",
       "<tr>\n",
       "<td style=\" padding:0.2cm; text-align:left; vertical-align:top; text-align:left; \">time c</td>\n",
       "<td style=\" padding:0.2cm; text-align:left; vertical-align:top; text-align:center;  \">&#45;0.12</td>\n",
       "<td style=\" padding:0.2cm; text-align:left; vertical-align:top; text-align:center;  \">&#45;0.53&nbsp;&ndash;&nbsp;0.29</td>\n",
       "<td style=\" padding:0.2cm; text-align:left; vertical-align:top; text-align:center;  \">0.573</td>\n",
       "</tr>\n",
       "<tr>\n",
       "<td style=\" padding:0.2cm; text-align:left; vertical-align:top; text-align:left; \">arm cfam and achess vs C</td>\n",
       "<td style=\" padding:0.2cm; text-align:left; vertical-align:top; text-align:center;  \">&#45;0.36</td>\n",
       "<td style=\" padding:0.2cm; text-align:left; vertical-align:top; text-align:center;  \">&#45;1.75&nbsp;&ndash;&nbsp;1.02</td>\n",
       "<td style=\" padding:0.2cm; text-align:left; vertical-align:top; text-align:center;  \">0.606</td>\n",
       "</tr>\n",
       "<tr>\n",
       "<td style=\" padding:0.2cm; text-align:left; vertical-align:top; text-align:left; \">arm cachess vs fam</td>\n",
       "<td style=\" padding:0.2cm; text-align:left; vertical-align:top; text-align:center;  \">1.31</td>\n",
       "<td style=\" padding:0.2cm; text-align:left; vertical-align:top; text-align:center;  \">&#45;0.26&nbsp;&ndash;&nbsp;2.89</td>\n",
       "<td style=\" padding:0.2cm; text-align:left; vertical-align:top; text-align:center;  \">0.102</td>\n",
       "</tr>\n",
       "<tr>\n",
       "<td style=\" padding:0.2cm; text-align:left; vertical-align:top; text-align:left; \">relationsatisf 0</td>\n",
       "<td style=\" padding:0.2cm; text-align:left; vertical-align:top; text-align:center;  \">0.68</td>\n",
       "<td style=\" padding:0.2cm; text-align:left; vertical-align:top; text-align:center;  \">0.55&nbsp;&ndash;&nbsp;0.81</td>\n",
       "<td style=\" padding:0.2cm; text-align:left; vertical-align:top; text-align:center;  \"><strong>&lt;0.001</strong></td>\n",
       "</tr>\n",
       "<tr>\n",
       "<td style=\" padding:0.2cm; text-align:left; vertical-align:top; text-align:left; \">edu c</td>\n",
       "<td style=\" padding:0.2cm; text-align:left; vertical-align:top; text-align:center;  \">0.61</td>\n",
       "<td style=\" padding:0.2cm; text-align:left; vertical-align:top; text-align:center;  \">0.03&nbsp;&ndash;&nbsp;1.20</td>\n",
       "<td style=\" padding:0.2cm; text-align:left; vertical-align:top; text-align:center;  \"><strong>0.040</strong></td>\n",
       "</tr>\n",
       "<tr>\n",
       "<td style=\" padding:0.2cm; text-align:left; vertical-align:top; text-align:left; \">time c × arm cfam and<br>achess vs C</td>\n",
       "<td style=\" padding:0.2cm; text-align:left; vertical-align:top; text-align:center;  \">&#45;0.52</td>\n",
       "<td style=\" padding:0.2cm; text-align:left; vertical-align:top; text-align:center;  \">&#45;1.38&nbsp;&ndash;&nbsp;0.35</td>\n",
       "<td style=\" padding:0.2cm; text-align:left; vertical-align:top; text-align:center;  \">0.243</td>\n",
       "</tr>\n",
       "<tr>\n",
       "<td style=\" padding:0.2cm; text-align:left; vertical-align:top; text-align:left; \">time c × arm cachess vs<br>fam</td>\n",
       "<td style=\" padding:0.2cm; text-align:left; vertical-align:top; text-align:center;  \">0.61</td>\n",
       "<td style=\" padding:0.2cm; text-align:left; vertical-align:top; text-align:center;  \">&#45;0.40&nbsp;&ndash;&nbsp;1.62</td>\n",
       "<td style=\" padding:0.2cm; text-align:left; vertical-align:top; text-align:center;  \">0.238</td>\n",
       "</tr>\n",
       "\n",
       "<tr>\n",
       "<td style=\" padding:0.2cm; text-align:left; vertical-align:top; text-align:left; padding-top:0.1cm; padding-bottom:0.1cm;\">N <sub>study_id</sub></td>\n",
       "<td style=\" padding:0.2cm; text-align:left; vertical-align:top; padding-top:0.1cm; padding-bottom:0.1cm; text-align:left;\" colspan=\"3\">168</td>\n",
       "<tr>\n",
       "<td style=\" padding:0.2cm; text-align:left; vertical-align:top; text-align:left; padding-top:0.1cm; padding-bottom:0.1cm; border-top:1px solid;\">Observations</td>\n",
       "<td style=\" padding:0.2cm; text-align:left; vertical-align:top; padding-top:0.1cm; padding-bottom:0.1cm; text-align:left; border-top:1px solid;\" colspan=\"3\">436</td>\n",
       "</tr>\n",
       "<tr>\n",
       "<td style=\" padding:0.2cm; text-align:left; vertical-align:top; text-align:left; padding-top:0.1cm; padding-bottom:0.1cm;\">Marginal R<sup>2</sup> / Conditional R<sup>2</sup></td>\n",
       "<td style=\" padding:0.2cm; text-align:left; vertical-align:top; padding-top:0.1cm; padding-bottom:0.1cm; text-align:left;\" colspan=\"3\">0.318 / 0.723</td>\n",
       "</tr>\n",
       "\n",
       "</table>\n"
      ]
     }
    }
   ],
   "source": [
    "model_partner_sec_1 <- lmer(relationsatisf_scored ~ time_c*arm_c + \n",
    "                                   relationsatisf_0 + inpatient_yn_ever +\n",
    "                             (1 + time_c | study_id), \n",
    "                             data = subset(data, dyad == 1))\n",
    "sjPlot::tab_model(model_partner_sec_1, show.re.var = F, show.icc = F)\n"
   ],
   "id": "c31bfd0f-9adf-4301-8c10-61dafa5d422e"
  },
  {
   "cell_type": "markdown",
   "metadata": {},
   "source": [
    "#### Secondary Partner Outcome 2: `abuse_scored`\n",
    "\n",
    "Distribution of residuals  \n",
    "*KW: Look into potential outliers?*\n",
    "\n",
    "*This model can only be fit for partners? Look into error*"
   ],
   "id": "ca26f5e9-0b8e-433a-9b0c-13fbc2eb3358"
  },
  {
   "cell_type": "code",
   "execution_count": null,
   "metadata": {},
   "outputs": [
    {
     "output_type": "display_data",
     "metadata": {},
     "data": {
      "image/png": "[encoded data removed]"
     }
    }
   ],
   "source": [
    "model_partner_sec_2 <- lmer(abuse_scored ~ time_c*arm_c + abuse_0 +\n",
    "                             (1 + time_c | study_id), data = subset(data, dyad == 1))\n",
    "\n",
    "tibble(error = residuals(model_partner_sec_2)) |> \n",
    "  ggplot(aes(x = error)) +\n",
    "  geom_histogram(color = \"black\", fill = \"light grey\", bins = 30)\n"
   ],
   "id": "0506d44d-e4ba-4e42-9d39-738e8ddd47cb"
  },
  {
   "cell_type": "markdown",
   "metadata": {},
   "source": [
    "##### Look for significant covariates\n",
    "\n",
    "`race_white_only` - not significant"
   ],
   "id": "952f31e2-5436-4939-846f-a822e783bce3"
  },
  {
   "cell_type": "code",
   "execution_count": null,
   "metadata": {},
   "outputs": [
    {
     "output_type": "display_data",
     "metadata": {},
     "data": {
      "text/html": [
       "<table style=\"border-collapse:collapse; border:none;\">\n",
       "<tr>\n",
       "<th style=\"border-top: double; text-align:center; font-style:normal; font-weight:bold; padding:0.2cm;  text-align:left; \">&nbsp;</th>\n",
       "<th colspan=\"3\" style=\"border-top: double; text-align:center; font-style:normal; font-weight:bold; padding:0.2cm; \">abuse scored</th>\n",
       "</tr>\n",
       "<tr>\n",
       "<td style=\" text-align:center; border-bottom:1px solid; font-style:italic; font-weight:normal;  text-align:left; \">Predictors</td>\n",
       "<td style=\" text-align:center; border-bottom:1px solid; font-style:italic; font-weight:normal;  \">Estimates</td>\n",
       "<td style=\" text-align:center; border-bottom:1px solid; font-style:italic; font-weight:normal;  \">CI</td>\n",
       "<td style=\" text-align:center; border-bottom:1px solid; font-style:italic; font-weight:normal;  \">p</td>\n",
       "</tr>\n",
       "<tr>\n",
       "<td style=\" padding:0.2cm; text-align:left; vertical-align:top; text-align:left; \">race white only</td>\n",
       "<td style=\" padding:0.2cm; text-align:left; vertical-align:top; text-align:center;  \">1.05</td>\n",
       "<td style=\" padding:0.2cm; text-align:left; vertical-align:top; text-align:center;  \">&#45;3.75&nbsp;&ndash;&nbsp;5.85</td>\n",
       "<td style=\" padding:0.2cm; text-align:left; vertical-align:top; text-align:center;  \">0.665</td>\n",
       "</tr>\n",
       "\n",
       "<tr>\n",
       "<td style=\" padding:0.2cm; text-align:left; vertical-align:top; text-align:left; padding-top:0.1cm; padding-bottom:0.1cm;\">N <sub>study_id</sub></td>\n",
       "<td style=\" padding:0.2cm; text-align:left; vertical-align:top; padding-top:0.1cm; padding-bottom:0.1cm; text-align:left;\" colspan=\"3\">62</td>\n",
       "<tr>\n",
       "<td style=\" padding:0.2cm; text-align:left; vertical-align:top; text-align:left; padding-top:0.1cm; padding-bottom:0.1cm; border-top:1px solid;\">Observations</td>\n",
       "<td style=\" padding:0.2cm; text-align:left; vertical-align:top; padding-top:0.1cm; padding-bottom:0.1cm; text-align:left; border-top:1px solid;\" colspan=\"3\">128</td>\n",
       "</tr>\n",
       "<tr>\n",
       "<td style=\" padding:0.2cm; text-align:left; vertical-align:top; text-align:left; padding-top:0.1cm; padding-bottom:0.1cm;\">Marginal R<sup>2</sup> / Conditional R<sup>2</sup></td>\n",
       "<td style=\" padding:0.2cm; text-align:left; vertical-align:top; padding-top:0.1cm; padding-bottom:0.1cm; text-align:left;\" colspan=\"3\">0.142 / 0.860</td>\n",
       "</tr>\n",
       "\n",
       "</table>\n"
      ]
     }
    }
   ],
   "source": [
    "model_partner_sec_2_race <- lmer(abuse_scored ~ time_c*arm_c + abuse_0 +\n",
    "                                   race_white_only + (1 + time_c | study_id), \n",
    "                                 data = subset(data, dyad == 1))\n",
    "sjPlot::tab_model(model_partner_sec_2_race, show.re.var = F, show.icc = F, terms = c(\"race_white_only\"))\n"
   ],
   "id": "7da59e80-5b50-4a45-9a70-df6ebb49bb49"
  },
  {
   "cell_type": "markdown",
   "metadata": {},
   "source": [
    "`age_c` - not significant"
   ],
   "id": "34fd3616-726e-4456-a01f-72de640a8501"
  },
  {
   "cell_type": "code",
   "execution_count": null,
   "metadata": {},
   "outputs": [
    {
     "output_type": "display_data",
     "metadata": {},
     "data": {
      "text/html": [
       "<table style=\"border-collapse:collapse; border:none;\">\n",
       "<tr>\n",
       "<th style=\"border-top: double; text-align:center; font-style:normal; font-weight:bold; padding:0.2cm;  text-align:left; \">&nbsp;</th>\n",
       "<th colspan=\"3\" style=\"border-top: double; text-align:center; font-style:normal; font-weight:bold; padding:0.2cm; \">abuse scored</th>\n",
       "</tr>\n",
       "<tr>\n",
       "<td style=\" text-align:center; border-bottom:1px solid; font-style:italic; font-weight:normal;  text-align:left; \">Predictors</td>\n",
       "<td style=\" text-align:center; border-bottom:1px solid; font-style:italic; font-weight:normal;  \">Estimates</td>\n",
       "<td style=\" text-align:center; border-bottom:1px solid; font-style:italic; font-weight:normal;  \">CI</td>\n",
       "<td style=\" text-align:center; border-bottom:1px solid; font-style:italic; font-weight:normal;  \">p</td>\n",
       "</tr>\n",
       "<tr>\n",
       "<td style=\" padding:0.2cm; text-align:left; vertical-align:top; text-align:left; \">age c</td>\n",
       "<td style=\" padding:0.2cm; text-align:left; vertical-align:top; text-align:center;  \">&#45;0.03</td>\n",
       "<td style=\" padding:0.2cm; text-align:left; vertical-align:top; text-align:center;  \">&#45;0.21&nbsp;&ndash;&nbsp;0.16</td>\n",
       "<td style=\" padding:0.2cm; text-align:left; vertical-align:top; text-align:center;  \">0.774</td>\n",
       "</tr>\n",
       "\n",
       "<tr>\n",
       "<td style=\" padding:0.2cm; text-align:left; vertical-align:top; text-align:left; padding-top:0.1cm; padding-bottom:0.1cm;\">N <sub>study_id</sub></td>\n",
       "<td style=\" padding:0.2cm; text-align:left; vertical-align:top; padding-top:0.1cm; padding-bottom:0.1cm; text-align:left;\" colspan=\"3\">62</td>\n",
       "<tr>\n",
       "<td style=\" padding:0.2cm; text-align:left; vertical-align:top; text-align:left; padding-top:0.1cm; padding-bottom:0.1cm; border-top:1px solid;\">Observations</td>\n",
       "<td style=\" padding:0.2cm; text-align:left; vertical-align:top; padding-top:0.1cm; padding-bottom:0.1cm; text-align:left; border-top:1px solid;\" colspan=\"3\">128</td>\n",
       "</tr>\n",
       "<tr>\n",
       "<td style=\" padding:0.2cm; text-align:left; vertical-align:top; text-align:left; padding-top:0.1cm; padding-bottom:0.1cm;\">Marginal R<sup>2</sup> / Conditional R<sup>2</sup></td>\n",
       "<td style=\" padding:0.2cm; text-align:left; vertical-align:top; padding-top:0.1cm; padding-bottom:0.1cm; text-align:left;\" colspan=\"3\">0.142 / 0.861</td>\n",
       "</tr>\n",
       "\n",
       "</table>\n"
      ]
     }
    }
   ],
   "source": [
    "model_partner_sec_2_age <-  lmer(abuse_scored ~ time_c*arm_c + abuse_0 +\n",
    "                                   age_c + (1 + time_c | study_id), \n",
    "                                 data = subset(data, dyad == 1))\n",
    "sjPlot::tab_model(model_partner_sec_2_age, show.re.var = F, show.icc = F, terms = c(\"age_c\"))\n"
   ],
   "id": "c4b5eecd-df85-4eda-9fb6-ff614249c337"
  },
  {
   "cell_type": "markdown",
   "metadata": {},
   "source": [
    "`edu_c` - Not significant"
   ],
   "id": "0048039a-a6a5-4902-8c34-ecc2b24eaa48"
  },
  {
   "cell_type": "code",
   "execution_count": null,
   "metadata": {},
   "outputs": [
    {
     "output_type": "display_data",
     "metadata": {},
     "data": {
      "text/html": [
       "<table style=\"border-collapse:collapse; border:none;\">\n",
       "<tr>\n",
       "<th style=\"border-top: double; text-align:center; font-style:normal; font-weight:bold; padding:0.2cm;  text-align:left; \">&nbsp;</th>\n",
       "<th colspan=\"3\" style=\"border-top: double; text-align:center; font-style:normal; font-weight:bold; padding:0.2cm; \">abuse scored</th>\n",
       "</tr>\n",
       "<tr>\n",
       "<td style=\" text-align:center; border-bottom:1px solid; font-style:italic; font-weight:normal;  text-align:left; \">Predictors</td>\n",
       "<td style=\" text-align:center; border-bottom:1px solid; font-style:italic; font-weight:normal;  \">Estimates</td>\n",
       "<td style=\" text-align:center; border-bottom:1px solid; font-style:italic; font-weight:normal;  \">CI</td>\n",
       "<td style=\" text-align:center; border-bottom:1px solid; font-style:italic; font-weight:normal;  \">p</td>\n",
       "</tr>\n",
       "<tr>\n",
       "<td style=\" padding:0.2cm; text-align:left; vertical-align:top; text-align:left; \">edu c</td>\n",
       "<td style=\" padding:0.2cm; text-align:left; vertical-align:top; text-align:center;  \">0.28</td>\n",
       "<td style=\" padding:0.2cm; text-align:left; vertical-align:top; text-align:center;  \">&#45;1.95&nbsp;&ndash;&nbsp;2.50</td>\n",
       "<td style=\" padding:0.2cm; text-align:left; vertical-align:top; text-align:center;  \">0.807</td>\n",
       "</tr>\n",
       "\n",
       "<tr>\n",
       "<td style=\" padding:0.2cm; text-align:left; vertical-align:top; text-align:left; padding-top:0.1cm; padding-bottom:0.1cm;\">N <sub>study_id</sub></td>\n",
       "<td style=\" padding:0.2cm; text-align:left; vertical-align:top; padding-top:0.1cm; padding-bottom:0.1cm; text-align:left;\" colspan=\"3\">62</td>\n",
       "<tr>\n",
       "<td style=\" padding:0.2cm; text-align:left; vertical-align:top; text-align:left; padding-top:0.1cm; padding-bottom:0.1cm; border-top:1px solid;\">Observations</td>\n",
       "<td style=\" padding:0.2cm; text-align:left; vertical-align:top; padding-top:0.1cm; padding-bottom:0.1cm; text-align:left; border-top:1px solid;\" colspan=\"3\">128</td>\n",
       "</tr>\n",
       "<tr>\n",
       "<td style=\" padding:0.2cm; text-align:left; vertical-align:top; text-align:left; padding-top:0.1cm; padding-bottom:0.1cm;\">Marginal R<sup>2</sup> / Conditional R<sup>2</sup></td>\n",
       "<td style=\" padding:0.2cm; text-align:left; vertical-align:top; padding-top:0.1cm; padding-bottom:0.1cm; text-align:left;\" colspan=\"3\">0.142 / 0.862</td>\n",
       "</tr>\n",
       "\n",
       "</table>\n"
      ]
     }
    }
   ],
   "source": [
    "model_partner_sec_2_edu <- lmer(abuse_scored ~ time_c*arm_c + abuse_0 +\n",
    "                                   edu_c + (1 + time_c | study_id), \n",
    "                                 data = subset(data, dyad == 1))\n",
    "sjPlot::tab_model(model_partner_sec_2_edu, show.re.var = F, show.icc = F, terms = c(\"edu_c\"))\n"
   ],
   "id": "eb78f514-1743-4c7a-9aa6-61c718fbf999"
  },
  {
   "cell_type": "markdown",
   "metadata": {},
   "source": [
    "`meetings_yn` - not significant"
   ],
   "id": "c801648d-4e0d-4976-bf89-f8c460eac0e4"
  },
  {
   "cell_type": "code",
   "execution_count": null,
   "metadata": {},
   "outputs": [
    {
     "output_type": "display_data",
     "metadata": {},
     "data": {
      "text/html": [
       "<table style=\"border-collapse:collapse; border:none;\">\n",
       "<tr>\n",
       "<th style=\"border-top: double; text-align:center; font-style:normal; font-weight:bold; padding:0.2cm;  text-align:left; \">&nbsp;</th>\n",
       "<th colspan=\"3\" style=\"border-top: double; text-align:center; font-style:normal; font-weight:bold; padding:0.2cm; \">abuse scored</th>\n",
       "</tr>\n",
       "<tr>\n",
       "<td style=\" text-align:center; border-bottom:1px solid; font-style:italic; font-weight:normal;  text-align:left; \">Predictors</td>\n",
       "<td style=\" text-align:center; border-bottom:1px solid; font-style:italic; font-weight:normal;  \">Estimates</td>\n",
       "<td style=\" text-align:center; border-bottom:1px solid; font-style:italic; font-weight:normal;  \">CI</td>\n",
       "<td style=\" text-align:center; border-bottom:1px solid; font-style:italic; font-weight:normal;  \">p</td>\n",
       "</tr>\n",
       "<tr>\n",
       "<td style=\" padding:0.2cm; text-align:left; vertical-align:top; text-align:left; \">meetings yn</td>\n",
       "<td style=\" padding:0.2cm; text-align:left; vertical-align:top; text-align:center;  \">0.74</td>\n",
       "<td style=\" padding:0.2cm; text-align:left; vertical-align:top; text-align:center;  \">&#45;2.25&nbsp;&ndash;&nbsp;3.73</td>\n",
       "<td style=\" padding:0.2cm; text-align:left; vertical-align:top; text-align:center;  \">0.626</td>\n",
       "</tr>\n",
       "\n",
       "<tr>\n",
       "<td style=\" padding:0.2cm; text-align:left; vertical-align:top; text-align:left; padding-top:0.1cm; padding-bottom:0.1cm;\">N <sub>study_id</sub></td>\n",
       "<td style=\" padding:0.2cm; text-align:left; vertical-align:top; padding-top:0.1cm; padding-bottom:0.1cm; text-align:left;\" colspan=\"3\">62</td>\n",
       "<tr>\n",
       "<td style=\" padding:0.2cm; text-align:left; vertical-align:top; text-align:left; padding-top:0.1cm; padding-bottom:0.1cm; border-top:1px solid;\">Observations</td>\n",
       "<td style=\" padding:0.2cm; text-align:left; vertical-align:top; padding-top:0.1cm; padding-bottom:0.1cm; text-align:left; border-top:1px solid;\" colspan=\"3\">128</td>\n",
       "</tr>\n",
       "<tr>\n",
       "<td style=\" padding:0.2cm; text-align:left; vertical-align:top; text-align:left; padding-top:0.1cm; padding-bottom:0.1cm;\">Marginal R<sup>2</sup> / Conditional R<sup>2</sup></td>\n",
       "<td style=\" padding:0.2cm; text-align:left; vertical-align:top; padding-top:0.1cm; padding-bottom:0.1cm; text-align:left;\" colspan=\"3\">0.141 / 0.859</td>\n",
       "</tr>\n",
       "\n",
       "</table>\n"
      ]
     }
    }
   ],
   "source": [
    "model_partner_sec_2_meetings <-lmer(abuse_scored ~ time_c*arm_c + abuse_0 +\n",
    "                                   meetings_yn + (1 + time_c | study_id), \n",
    "                                 data = subset(data, dyad == 1))\n",
    "sjPlot::tab_model(model_partner_sec_2_meetings, show.re.var = F, show.icc = F, terms = c(\"meetings_yn\"))\n"
   ],
   "id": "b07a19b1-a0f7-4e2d-8044-2f947f743da1"
  },
  {
   "cell_type": "markdown",
   "metadata": {},
   "source": [
    "`outpatient_yn_ever` - Not significant"
   ],
   "id": "66d57377-6b9c-4e27-aca3-c9df956187eb"
  },
  {
   "cell_type": "code",
   "execution_count": null,
   "metadata": {},
   "outputs": [
    {
     "output_type": "display_data",
     "metadata": {},
     "data": {
      "text/html": [
       "<table style=\"border-collapse:collapse; border:none;\">\n",
       "<tr>\n",
       "<th style=\"border-top: double; text-align:center; font-style:normal; font-weight:bold; padding:0.2cm;  text-align:left; \">&nbsp;</th>\n",
       "<th colspan=\"3\" style=\"border-top: double; text-align:center; font-style:normal; font-weight:bold; padding:0.2cm; \">abuse scored</th>\n",
       "</tr>\n",
       "<tr>\n",
       "<td style=\" text-align:center; border-bottom:1px solid; font-style:italic; font-weight:normal;  text-align:left; \">Predictors</td>\n",
       "<td style=\" text-align:center; border-bottom:1px solid; font-style:italic; font-weight:normal;  \">Estimates</td>\n",
       "<td style=\" text-align:center; border-bottom:1px solid; font-style:italic; font-weight:normal;  \">CI</td>\n",
       "<td style=\" text-align:center; border-bottom:1px solid; font-style:italic; font-weight:normal;  \">p</td>\n",
       "</tr>\n",
       "<tr>\n",
       "<td style=\" padding:0.2cm; text-align:left; vertical-align:top; text-align:left; \">outpatient yn ever</td>\n",
       "<td style=\" padding:0.2cm; text-align:left; vertical-align:top; text-align:center;  \">&#45;6.76</td>\n",
       "<td style=\" padding:0.2cm; text-align:left; vertical-align:top; text-align:center;  \">&#45;14.67&nbsp;&ndash;&nbsp;1.15</td>\n",
       "<td style=\" padding:0.2cm; text-align:left; vertical-align:top; text-align:center;  \">0.093</td>\n",
       "</tr>\n",
       "\n",
       "<tr>\n",
       "<td style=\" padding:0.2cm; text-align:left; vertical-align:top; text-align:left; padding-top:0.1cm; padding-bottom:0.1cm;\">N <sub>study_id</sub></td>\n",
       "<td style=\" padding:0.2cm; text-align:left; vertical-align:top; padding-top:0.1cm; padding-bottom:0.1cm; text-align:left;\" colspan=\"3\">62</td>\n",
       "<tr>\n",
       "<td style=\" padding:0.2cm; text-align:left; vertical-align:top; text-align:left; padding-top:0.1cm; padding-bottom:0.1cm; border-top:1px solid;\">Observations</td>\n",
       "<td style=\" padding:0.2cm; text-align:left; vertical-align:top; padding-top:0.1cm; padding-bottom:0.1cm; text-align:left; border-top:1px solid;\" colspan=\"3\">128</td>\n",
       "</tr>\n",
       "<tr>\n",
       "<td style=\" padding:0.2cm; text-align:left; vertical-align:top; text-align:left; padding-top:0.1cm; padding-bottom:0.1cm;\">Marginal R<sup>2</sup> / Conditional R<sup>2</sup></td>\n",
       "<td style=\" padding:0.2cm; text-align:left; vertical-align:top; padding-top:0.1cm; padding-bottom:0.1cm; text-align:left;\" colspan=\"3\">0.172 / 0.862</td>\n",
       "</tr>\n",
       "\n",
       "</table>\n"
      ]
     }
    }
   ],
   "source": [
    "model_partner_sec_2_outpatient <- lmer(abuse_scored ~ time_c*arm_c + abuse_0 +\n",
    "                                   outpatient_yn_ever + (1 + time_c | study_id), \n",
    "                                 data = subset(data, dyad == 1))\n",
    "sjPlot::tab_model(model_partner_sec_2_outpatient, show.re.var = F, show.icc = F, terms = c(\"outpatient_yn_ever\"))\n"
   ],
   "id": "5a44848d-980f-4482-9a16-b5486da8c2a6"
  },
  {
   "cell_type": "markdown",
   "metadata": {},
   "source": [
    "`er_yn_ever` - Not significant"
   ],
   "id": "a789ffa7-bef2-47cc-802f-6b2af1621987"
  },
  {
   "cell_type": "code",
   "execution_count": null,
   "metadata": {},
   "outputs": [
    {
     "output_type": "display_data",
     "metadata": {},
     "data": {
      "text/html": [
       "<table style=\"border-collapse:collapse; border:none;\">\n",
       "<tr>\n",
       "<th style=\"border-top: double; text-align:center; font-style:normal; font-weight:bold; padding:0.2cm;  text-align:left; \">&nbsp;</th>\n",
       "<th colspan=\"3\" style=\"border-top: double; text-align:center; font-style:normal; font-weight:bold; padding:0.2cm; \">abuse scored</th>\n",
       "</tr>\n",
       "<tr>\n",
       "<td style=\" text-align:center; border-bottom:1px solid; font-style:italic; font-weight:normal;  text-align:left; \">Predictors</td>\n",
       "<td style=\" text-align:center; border-bottom:1px solid; font-style:italic; font-weight:normal;  \">Estimates</td>\n",
       "<td style=\" text-align:center; border-bottom:1px solid; font-style:italic; font-weight:normal;  \">CI</td>\n",
       "<td style=\" text-align:center; border-bottom:1px solid; font-style:italic; font-weight:normal;  \">p</td>\n",
       "</tr>\n",
       "<tr>\n",
       "<td style=\" padding:0.2cm; text-align:left; vertical-align:top; text-align:left; \">er yn ever</td>\n",
       "<td style=\" padding:0.2cm; text-align:left; vertical-align:top; text-align:center;  \">3.78</td>\n",
       "<td style=\" padding:0.2cm; text-align:left; vertical-align:top; text-align:center;  \">&#45;1.53&nbsp;&ndash;&nbsp;9.09</td>\n",
       "<td style=\" padding:0.2cm; text-align:left; vertical-align:top; text-align:center;  \">0.161</td>\n",
       "</tr>\n",
       "\n",
       "<tr>\n",
       "<td style=\" padding:0.2cm; text-align:left; vertical-align:top; text-align:left; padding-top:0.1cm; padding-bottom:0.1cm;\">N <sub>study_id</sub></td>\n",
       "<td style=\" padding:0.2cm; text-align:left; vertical-align:top; padding-top:0.1cm; padding-bottom:0.1cm; text-align:left;\" colspan=\"3\">62</td>\n",
       "<tr>\n",
       "<td style=\" padding:0.2cm; text-align:left; vertical-align:top; text-align:left; padding-top:0.1cm; padding-bottom:0.1cm; border-top:1px solid;\">Observations</td>\n",
       "<td style=\" padding:0.2cm; text-align:left; vertical-align:top; padding-top:0.1cm; padding-bottom:0.1cm; text-align:left; border-top:1px solid;\" colspan=\"3\">128</td>\n",
       "</tr>\n",
       "<tr>\n",
       "<td style=\" padding:0.2cm; text-align:left; vertical-align:top; text-align:left; padding-top:0.1cm; padding-bottom:0.1cm;\">Marginal R<sup>2</sup> / Conditional R<sup>2</sup></td>\n",
       "<td style=\" padding:0.2cm; text-align:left; vertical-align:top; padding-top:0.1cm; padding-bottom:0.1cm; text-align:left;\" colspan=\"3\">0.156 / 0.860</td>\n",
       "</tr>\n",
       "\n",
       "</table>\n"
      ]
     }
    }
   ],
   "source": [
    "model_partner_sec_2_er <- lmer(abuse_scored ~ time_c*arm_c + abuse_0 +\n",
    "                                   er_yn_ever + (1 + time_c | study_id), \n",
    "                                 data = subset(data, dyad == 1))\n",
    "sjPlot::tab_model(model_partner_sec_2_er, show.re.var = F, show.icc = F, terms = c(\"er_yn_ever\"))\n"
   ],
   "id": "9b6739f8-bee8-4751-a13c-8d6a84ab9a21"
  },
  {
   "cell_type": "markdown",
   "metadata": {},
   "source": [
    "`mat_yn` - **significant for partner**"
   ],
   "id": "4b0bdaf5-d400-42e3-9be7-24d7bb81bccd"
  },
  {
   "cell_type": "code",
   "execution_count": null,
   "metadata": {},
   "outputs": [
    {
     "output_type": "display_data",
     "metadata": {},
     "data": {
      "text/html": [
       "<table style=\"border-collapse:collapse; border:none;\">\n",
       "<tr>\n",
       "<th style=\"border-top: double; text-align:center; font-style:normal; font-weight:bold; padding:0.2cm;  text-align:left; \">&nbsp;</th>\n",
       "<th colspan=\"3\" style=\"border-top: double; text-align:center; font-style:normal; font-weight:bold; padding:0.2cm; \">abuse scored</th>\n",
       "</tr>\n",
       "<tr>\n",
       "<td style=\" text-align:center; border-bottom:1px solid; font-style:italic; font-weight:normal;  text-align:left; \">Predictors</td>\n",
       "<td style=\" text-align:center; border-bottom:1px solid; font-style:italic; font-weight:normal;  \">Estimates</td>\n",
       "<td style=\" text-align:center; border-bottom:1px solid; font-style:italic; font-weight:normal;  \">CI</td>\n",
       "<td style=\" text-align:center; border-bottom:1px solid; font-style:italic; font-weight:normal;  \">p</td>\n",
       "</tr>\n",
       "<tr>\n",
       "<td style=\" padding:0.2cm; text-align:left; vertical-align:top; text-align:left; \">mat yn</td>\n",
       "<td style=\" padding:0.2cm; text-align:left; vertical-align:top; text-align:center;  \">9.64</td>\n",
       "<td style=\" padding:0.2cm; text-align:left; vertical-align:top; text-align:center;  \">2.46&nbsp;&ndash;&nbsp;16.83</td>\n",
       "<td style=\" padding:0.2cm; text-align:left; vertical-align:top; text-align:center;  \"><strong>0.009</strong></td>\n",
       "</tr>\n",
       "\n",
       "<tr>\n",
       "<td style=\" padding:0.2cm; text-align:left; vertical-align:top; text-align:left; padding-top:0.1cm; padding-bottom:0.1cm;\">N <sub>study_id</sub></td>\n",
       "<td style=\" padding:0.2cm; text-align:left; vertical-align:top; padding-top:0.1cm; padding-bottom:0.1cm; text-align:left;\" colspan=\"3\">62</td>\n",
       "<tr>\n",
       "<td style=\" padding:0.2cm; text-align:left; vertical-align:top; text-align:left; padding-top:0.1cm; padding-bottom:0.1cm; border-top:1px solid;\">Observations</td>\n",
       "<td style=\" padding:0.2cm; text-align:left; vertical-align:top; padding-top:0.1cm; padding-bottom:0.1cm; text-align:left; border-top:1px solid;\" colspan=\"3\">128</td>\n",
       "</tr>\n",
       "<tr>\n",
       "<td style=\" padding:0.2cm; text-align:left; vertical-align:top; text-align:left; padding-top:0.1cm; padding-bottom:0.1cm;\">Marginal R<sup>2</sup> / Conditional R<sup>2</sup></td>\n",
       "<td style=\" padding:0.2cm; text-align:left; vertical-align:top; padding-top:0.1cm; padding-bottom:0.1cm; text-align:left;\" colspan=\"3\">0.161 / 0.864</td>\n",
       "</tr>\n",
       "\n",
       "</table>\n"
      ]
     }
    }
   ],
   "source": [
    "model_partner_sec_2_mat <- lmer(abuse_scored ~ time_c*arm_c + abuse_0 +\n",
    "                                   mat_yn + (1 + time_c | study_id), \n",
    "                                 data = subset(data, dyad == 1))\n",
    "sjPlot::tab_model(model_partner_sec_2_mat, show.re.var = F, show.icc = F, terms = c(\"mat_yn\"))\n"
   ],
   "id": "5db58083-465b-4b00-b11e-8a5d8bd712bd"
  },
  {
   "cell_type": "markdown",
   "metadata": {},
   "source": [
    "`inpatient_yn_ever` - **significant for partner**"
   ],
   "id": "c58700b2-56eb-4c79-a47c-b77d6c89e3fe"
  },
  {
   "cell_type": "code",
   "execution_count": null,
   "metadata": {},
   "outputs": [
    {
     "output_type": "display_data",
     "metadata": {},
     "data": {
      "text/html": [
       "<table style=\"border-collapse:collapse; border:none;\">\n",
       "<tr>\n",
       "<th style=\"border-top: double; text-align:center; font-style:normal; font-weight:bold; padding:0.2cm;  text-align:left; \">&nbsp;</th>\n",
       "<th colspan=\"3\" style=\"border-top: double; text-align:center; font-style:normal; font-weight:bold; padding:0.2cm; \">abuse scored</th>\n",
       "</tr>\n",
       "<tr>\n",
       "<td style=\" text-align:center; border-bottom:1px solid; font-style:italic; font-weight:normal;  text-align:left; \">Predictors</td>\n",
       "<td style=\" text-align:center; border-bottom:1px solid; font-style:italic; font-weight:normal;  \">Estimates</td>\n",
       "<td style=\" text-align:center; border-bottom:1px solid; font-style:italic; font-weight:normal;  \">CI</td>\n",
       "<td style=\" text-align:center; border-bottom:1px solid; font-style:italic; font-weight:normal;  \">p</td>\n",
       "</tr>\n",
       "<tr>\n",
       "<td style=\" padding:0.2cm; text-align:left; vertical-align:top; text-align:left; \">inpatient yn ever</td>\n",
       "<td style=\" padding:0.2cm; text-align:left; vertical-align:top; text-align:center;  \">17.25</td>\n",
       "<td style=\" padding:0.2cm; text-align:left; vertical-align:top; text-align:center;  \">8.52&nbsp;&ndash;&nbsp;25.99</td>\n",
       "<td style=\" padding:0.2cm; text-align:left; vertical-align:top; text-align:center;  \"><strong>&lt;0.001</strong></td>\n",
       "</tr>\n",
       "\n",
       "<tr>\n",
       "<td style=\" padding:0.2cm; text-align:left; vertical-align:top; text-align:left; padding-top:0.1cm; padding-bottom:0.1cm;\">N <sub>study_id</sub></td>\n",
       "<td style=\" padding:0.2cm; text-align:left; vertical-align:top; padding-top:0.1cm; padding-bottom:0.1cm; text-align:left;\" colspan=\"3\">62</td>\n",
       "<tr>\n",
       "<td style=\" padding:0.2cm; text-align:left; vertical-align:top; text-align:left; padding-top:0.1cm; padding-bottom:0.1cm; border-top:1px solid;\">Observations</td>\n",
       "<td style=\" padding:0.2cm; text-align:left; vertical-align:top; padding-top:0.1cm; padding-bottom:0.1cm; text-align:left; border-top:1px solid;\" colspan=\"3\">128</td>\n",
       "</tr>\n",
       "<tr>\n",
       "<td style=\" padding:0.2cm; text-align:left; vertical-align:top; text-align:left; padding-top:0.1cm; padding-bottom:0.1cm;\">Marginal R<sup>2</sup> / Conditional R<sup>2</sup></td>\n",
       "<td style=\" padding:0.2cm; text-align:left; vertical-align:top; padding-top:0.1cm; padding-bottom:0.1cm; text-align:left;\" colspan=\"3\">0.239 / 0.801</td>\n",
       "</tr>\n",
       "\n",
       "</table>\n"
      ]
     }
    }
   ],
   "source": [
    "model_partner_sec_2_inpatient <- lmer(abuse_scored ~ time_c*arm_c + abuse_0 +\n",
    "                                   inpatient_yn_ever + (1 + time_c | study_id), \n",
    "                                 data = subset(data, dyad == 1))\n",
    "sjPlot::tab_model(model_partner_sec_2_inpatient, show.re.var = F, show.icc = F, terms = c(\"inpatient_yn_ever\"))\n"
   ],
   "id": "19af1c21-42ca-446a-bed2-4681da2cfc61"
  },
  {
   "cell_type": "markdown",
   "metadata": {},
   "source": [
    "`other_psych_treatment_yn` - not significant"
   ],
   "id": "15464d01-16ca-4665-a05d-de83af53b556"
  },
  {
   "cell_type": "code",
   "execution_count": null,
   "metadata": {},
   "outputs": [
    {
     "output_type": "display_data",
     "metadata": {},
     "data": {
      "text/html": [
       "<table style=\"border-collapse:collapse; border:none;\">\n",
       "<tr>\n",
       "<th style=\"border-top: double; text-align:center; font-style:normal; font-weight:bold; padding:0.2cm;  text-align:left; \">&nbsp;</th>\n",
       "<th colspan=\"3\" style=\"border-top: double; text-align:center; font-style:normal; font-weight:bold; padding:0.2cm; \">abuse scored</th>\n",
       "</tr>\n",
       "<tr>\n",
       "<td style=\" text-align:center; border-bottom:1px solid; font-style:italic; font-weight:normal;  text-align:left; \">Predictors</td>\n",
       "<td style=\" text-align:center; border-bottom:1px solid; font-style:italic; font-weight:normal;  \">Estimates</td>\n",
       "<td style=\" text-align:center; border-bottom:1px solid; font-style:italic; font-weight:normal;  \">CI</td>\n",
       "<td style=\" text-align:center; border-bottom:1px solid; font-style:italic; font-weight:normal;  \">p</td>\n",
       "</tr>\n",
       "<tr>\n",
       "<td style=\" padding:0.2cm; text-align:left; vertical-align:top; text-align:left; \">other psych treatment yn</td>\n",
       "<td style=\" padding:0.2cm; text-align:left; vertical-align:top; text-align:center;  \">&#45;1.52</td>\n",
       "<td style=\" padding:0.2cm; text-align:left; vertical-align:top; text-align:center;  \">&#45;5.12&nbsp;&ndash;&nbsp;2.08</td>\n",
       "<td style=\" padding:0.2cm; text-align:left; vertical-align:top; text-align:center;  \">0.405</td>\n",
       "</tr>\n",
       "\n",
       "<tr>\n",
       "<td style=\" padding:0.2cm; text-align:left; vertical-align:top; text-align:left; padding-top:0.1cm; padding-bottom:0.1cm;\">N <sub>study_id</sub></td>\n",
       "<td style=\" padding:0.2cm; text-align:left; vertical-align:top; padding-top:0.1cm; padding-bottom:0.1cm; text-align:left;\" colspan=\"3\">62</td>\n",
       "<tr>\n",
       "<td style=\" padding:0.2cm; text-align:left; vertical-align:top; text-align:left; padding-top:0.1cm; padding-bottom:0.1cm; border-top:1px solid;\">Observations</td>\n",
       "<td style=\" padding:0.2cm; text-align:left; vertical-align:top; padding-top:0.1cm; padding-bottom:0.1cm; text-align:left; border-top:1px solid;\" colspan=\"3\">128</td>\n",
       "</tr>\n",
       "<tr>\n",
       "<td style=\" padding:0.2cm; text-align:left; vertical-align:top; text-align:left; padding-top:0.1cm; padding-bottom:0.1cm;\">Marginal R<sup>2</sup> / Conditional R<sup>2</sup></td>\n",
       "<td style=\" padding:0.2cm; text-align:left; vertical-align:top; padding-top:0.1cm; padding-bottom:0.1cm; text-align:left;\" colspan=\"3\">0.143 / 0.859</td>\n",
       "</tr>\n",
       "\n",
       "</table>\n"
      ]
     }
    }
   ],
   "source": [
    "model_partner_sec_2_psych <- lmer(abuse_scored ~ time_c*arm_c + abuse_0 +\n",
    "                                   other_psych_treatment_yn + (1 + time_c | study_id), \n",
    "                                 data = subset(data, dyad == 1))\n",
    "sjPlot::tab_model(model_partner_sec_2_psych, show.re.var = F, show.icc = F, terms = c(\"other_psych_treatment_yn\"))\n"
   ],
   "id": "19ac8e43-7bb7-412f-ba7d-e7bc523d7604"
  },
  {
   "cell_type": "markdown",
   "metadata": {},
   "source": [
    "`other_medications_yn` - Not significant"
   ],
   "id": "d812d27a-3a6e-436d-b0c6-1e38cf81812e"
  },
  {
   "cell_type": "code",
   "execution_count": null,
   "metadata": {},
   "outputs": [
    {
     "output_type": "display_data",
     "metadata": {},
     "data": {
      "text/html": [
       "<table style=\"border-collapse:collapse; border:none;\">\n",
       "<tr>\n",
       "<th style=\"border-top: double; text-align:center; font-style:normal; font-weight:bold; padding:0.2cm;  text-align:left; \">&nbsp;</th>\n",
       "<th colspan=\"3\" style=\"border-top: double; text-align:center; font-style:normal; font-weight:bold; padding:0.2cm; \">abuse scored</th>\n",
       "</tr>\n",
       "<tr>\n",
       "<td style=\" text-align:center; border-bottom:1px solid; font-style:italic; font-weight:normal;  text-align:left; \">Predictors</td>\n",
       "<td style=\" text-align:center; border-bottom:1px solid; font-style:italic; font-weight:normal;  \">Estimates</td>\n",
       "<td style=\" text-align:center; border-bottom:1px solid; font-style:italic; font-weight:normal;  \">CI</td>\n",
       "<td style=\" text-align:center; border-bottom:1px solid; font-style:italic; font-weight:normal;  \">p</td>\n",
       "</tr>\n",
       "<tr>\n",
       "<td style=\" padding:0.2cm; text-align:left; vertical-align:top; text-align:left; \">other medications yn</td>\n",
       "<td style=\" padding:0.2cm; text-align:left; vertical-align:top; text-align:center;  \">2.40</td>\n",
       "<td style=\" padding:0.2cm; text-align:left; vertical-align:top; text-align:center;  \">&#45;0.89&nbsp;&ndash;&nbsp;5.69</td>\n",
       "<td style=\" padding:0.2cm; text-align:left; vertical-align:top; text-align:center;  \">0.152</td>\n",
       "</tr>\n",
       "\n",
       "<tr>\n",
       "<td style=\" padding:0.2cm; text-align:left; vertical-align:top; text-align:left; padding-top:0.1cm; padding-bottom:0.1cm;\">N <sub>study_id</sub></td>\n",
       "<td style=\" padding:0.2cm; text-align:left; vertical-align:top; padding-top:0.1cm; padding-bottom:0.1cm; text-align:left;\" colspan=\"3\">62</td>\n",
       "<tr>\n",
       "<td style=\" padding:0.2cm; text-align:left; vertical-align:top; text-align:left; padding-top:0.1cm; padding-bottom:0.1cm; border-top:1px solid;\">Observations</td>\n",
       "<td style=\" padding:0.2cm; text-align:left; vertical-align:top; padding-top:0.1cm; padding-bottom:0.1cm; text-align:left; border-top:1px solid;\" colspan=\"3\">128</td>\n",
       "</tr>\n",
       "<tr>\n",
       "<td style=\" padding:0.2cm; text-align:left; vertical-align:top; text-align:left; padding-top:0.1cm; padding-bottom:0.1cm;\">Marginal R<sup>2</sup> / Conditional R<sup>2</sup></td>\n",
       "<td style=\" padding:0.2cm; text-align:left; vertical-align:top; padding-top:0.1cm; padding-bottom:0.1cm; text-align:left;\" colspan=\"3\">0.150 / 0.864</td>\n",
       "</tr>\n",
       "\n",
       "</table>\n"
      ]
     }
    }
   ],
   "source": [
    "model_partner_sec_2_psych_meds <- lmer(abuse_scored ~ time_c*arm_c + abuse_0 +\n",
    "                                   other_medications_yn + (1 + time_c | study_id), \n",
    "                                 data = subset(data, dyad == 1))\n",
    "sjPlot::tab_model(model_partner_sec_2_psych_meds, show.re.var = F, show.icc = F, terms = c(\"other_medications_yn\"))\n"
   ],
   "id": "fcec857d-e902-4553-9a07-4f2b964508a3"
  },
  {
   "cell_type": "markdown",
   "metadata": {},
   "source": [
    "##### Final Model with Significant Covariates"
   ],
   "id": "d321b07f-eeee-43b1-98d4-59459444a794"
  },
  {
   "cell_type": "code",
   "execution_count": null,
   "metadata": {},
   "outputs": [
    {
     "output_type": "display_data",
     "metadata": {},
     "data": {
      "text/html": [
       "<table style=\"border-collapse:collapse; border:none;\">\n",
       "<tr>\n",
       "<th style=\"border-top: double; text-align:center; font-style:normal; font-weight:bold; padding:0.2cm;  text-align:left; \">&nbsp;</th>\n",
       "<th colspan=\"3\" style=\"border-top: double; text-align:center; font-style:normal; font-weight:bold; padding:0.2cm; \">abuse scored</th>\n",
       "</tr>\n",
       "<tr>\n",
       "<td style=\" text-align:center; border-bottom:1px solid; font-style:italic; font-weight:normal;  text-align:left; \">Predictors</td>\n",
       "<td style=\" text-align:center; border-bottom:1px solid; font-style:italic; font-weight:normal;  \">Estimates</td>\n",
       "<td style=\" text-align:center; border-bottom:1px solid; font-style:italic; font-weight:normal;  \">CI</td>\n",
       "<td style=\" text-align:center; border-bottom:1px solid; font-style:italic; font-weight:normal;  \">p</td>\n",
       "</tr>\n",
       "<tr>\n",
       "<td style=\" padding:0.2cm; text-align:left; vertical-align:top; text-align:left; \">(Intercept)</td>\n",
       "<td style=\" padding:0.2cm; text-align:left; vertical-align:top; text-align:center;  \">3.07</td>\n",
       "<td style=\" padding:0.2cm; text-align:left; vertical-align:top; text-align:center;  \">0.99&nbsp;&ndash;&nbsp;5.15</td>\n",
       "<td style=\" padding:0.2cm; text-align:left; vertical-align:top; text-align:center;  \"><strong>0.004</strong></td>\n",
       "</tr>\n",
       "<tr>\n",
       "<td style=\" padding:0.2cm; text-align:left; vertical-align:top; text-align:left; \">time c</td>\n",
       "<td style=\" padding:0.2cm; text-align:left; vertical-align:top; text-align:center;  \">0.31</td>\n",
       "<td style=\" padding:0.2cm; text-align:left; vertical-align:top; text-align:center;  \">&#45;0.88&nbsp;&ndash;&nbsp;1.51</td>\n",
       "<td style=\" padding:0.2cm; text-align:left; vertical-align:top; text-align:center;  \">0.604</td>\n",
       "</tr>\n",
       "<tr>\n",
       "<td style=\" padding:0.2cm; text-align:left; vertical-align:top; text-align:left; \">arm cfam and achess vs C</td>\n",
       "<td style=\" padding:0.2cm; text-align:left; vertical-align:top; text-align:center;  \">0.45</td>\n",
       "<td style=\" padding:0.2cm; text-align:left; vertical-align:top; text-align:center;  \">&#45;3.83&nbsp;&ndash;&nbsp;4.72</td>\n",
       "<td style=\" padding:0.2cm; text-align:left; vertical-align:top; text-align:center;  \">0.837</td>\n",
       "</tr>\n",
       "<tr>\n",
       "<td style=\" padding:0.2cm; text-align:left; vertical-align:top; text-align:left; \">arm cachess vs fam</td>\n",
       "<td style=\" padding:0.2cm; text-align:left; vertical-align:top; text-align:center;  \">&#45;2.91</td>\n",
       "<td style=\" padding:0.2cm; text-align:left; vertical-align:top; text-align:center;  \">&#45;7.99&nbsp;&ndash;&nbsp;2.17</td>\n",
       "<td style=\" padding:0.2cm; text-align:left; vertical-align:top; text-align:center;  \">0.259</td>\n",
       "</tr>\n",
       "<tr>\n",
       "<td style=\" padding:0.2cm; text-align:left; vertical-align:top; text-align:left; \">abuse 0</td>\n",
       "<td style=\" padding:0.2cm; text-align:left; vertical-align:top; text-align:center;  \">0.38</td>\n",
       "<td style=\" padding:0.2cm; text-align:left; vertical-align:top; text-align:center;  \">&#45;0.02&nbsp;&ndash;&nbsp;0.79</td>\n",
       "<td style=\" padding:0.2cm; text-align:left; vertical-align:top; text-align:center;  \">0.061</td>\n",
       "</tr>\n",
       "<tr>\n",
       "<td style=\" padding:0.2cm; text-align:left; vertical-align:top; text-align:left; \">mat yn</td>\n",
       "<td style=\" padding:0.2cm; text-align:left; vertical-align:top; text-align:center;  \">4.98</td>\n",
       "<td style=\" padding:0.2cm; text-align:left; vertical-align:top; text-align:center;  \">&#45;2.15&nbsp;&ndash;&nbsp;12.12</td>\n",
       "<td style=\" padding:0.2cm; text-align:left; vertical-align:top; text-align:center;  \">0.169</td>\n",
       "</tr>\n",
       "<tr>\n",
       "<td style=\" padding:0.2cm; text-align:left; vertical-align:top; text-align:left; \">inpatient yn ever</td>\n",
       "<td style=\" padding:0.2cm; text-align:left; vertical-align:top; text-align:center;  \">15.48</td>\n",
       "<td style=\" padding:0.2cm; text-align:left; vertical-align:top; text-align:center;  \">5.90&nbsp;&ndash;&nbsp;25.06</td>\n",
       "<td style=\" padding:0.2cm; text-align:left; vertical-align:top; text-align:center;  \"><strong>0.002</strong></td>\n",
       "</tr>\n",
       "<tr>\n",
       "<td style=\" padding:0.2cm; text-align:left; vertical-align:top; text-align:left; \">time c × arm cfam and<br>achess vs C</td>\n",
       "<td style=\" padding:0.2cm; text-align:left; vertical-align:top; text-align:center;  \">1.15</td>\n",
       "<td style=\" padding:0.2cm; text-align:left; vertical-align:top; text-align:center;  \">&#45;1.12&nbsp;&ndash;&nbsp;3.41</td>\n",
       "<td style=\" padding:0.2cm; text-align:left; vertical-align:top; text-align:center;  \">0.318</td>\n",
       "</tr>\n",
       "<tr>\n",
       "<td style=\" padding:0.2cm; text-align:left; vertical-align:top; text-align:left; \">time c × arm cachess vs<br>fam</td>\n",
       "<td style=\" padding:0.2cm; text-align:left; vertical-align:top; text-align:center;  \">&#45;2.41</td>\n",
       "<td style=\" padding:0.2cm; text-align:left; vertical-align:top; text-align:center;  \">&#45;5.63&nbsp;&ndash;&nbsp;0.82</td>\n",
       "<td style=\" padding:0.2cm; text-align:left; vertical-align:top; text-align:center;  \">0.142</td>\n",
       "</tr>\n",
       "\n",
       "<tr>\n",
       "<td style=\" padding:0.2cm; text-align:left; vertical-align:top; text-align:left; padding-top:0.1cm; padding-bottom:0.1cm;\">N <sub>study_id</sub></td>\n",
       "<td style=\" padding:0.2cm; text-align:left; vertical-align:top; padding-top:0.1cm; padding-bottom:0.1cm; text-align:left;\" colspan=\"3\">62</td>\n",
       "<tr>\n",
       "<td style=\" padding:0.2cm; text-align:left; vertical-align:top; text-align:left; padding-top:0.1cm; padding-bottom:0.1cm; border-top:1px solid;\">Observations</td>\n",
       "<td style=\" padding:0.2cm; text-align:left; vertical-align:top; padding-top:0.1cm; padding-bottom:0.1cm; text-align:left; border-top:1px solid;\" colspan=\"3\">128</td>\n",
       "</tr>\n",
       "<tr>\n",
       "<td style=\" padding:0.2cm; text-align:left; vertical-align:top; text-align:left; padding-top:0.1cm; padding-bottom:0.1cm;\">Marginal R<sup>2</sup> / Conditional R<sup>2</sup></td>\n",
       "<td style=\" padding:0.2cm; text-align:left; vertical-align:top; padding-top:0.1cm; padding-bottom:0.1cm; text-align:left;\" colspan=\"3\">0.243 / 0.832</td>\n",
       "</tr>\n",
       "\n",
       "</table>\n"
      ]
     }
    }
   ],
   "source": [
    "model_partner_sec_2 <- lmer(abuse_scored ~ time_c*arm_c + abuse_0 + mat_yn +\n",
    "                                   inpatient_yn_ever + (1 + time_c | study_id), \n",
    "                                 data = subset(data, dyad == 1))\n",
    "sjPlot::tab_model(model_partner_sec_2, show.re.var = F, show.icc = F)\n"
   ],
   "id": "ef6dec34-1316-4eea-859e-d1f3aeb1dba3"
  },
  {
   "cell_type": "markdown",
   "metadata": {},
   "source": [
    "### Check Assumptions for Analyses of Mediators\n",
    "\n",
    "**KW: mediators only for primary outcomes and ACHESS vs. FamCHESS contrasts**\n",
    "\n",
    "List of Patient mediators: `socrates_scored`  \n",
    "List of Partner mediators: `peersupport_scored`, `treatmentskills_scored`\n",
    "\n",
    "### Check Assumptions for Analyses of Moderators\n",
    "\n",
    "**KW: moderators only for primary outcomes**\n",
    "\n",
    "List of Patient moderators: `dsm5_criteria`  \n",
    "List of Partner moderators: `gender`, `days_app_use`"
   ],
   "id": "33b74b56-7e47-4432-95d5-489c06aa797f"
  }
 ],
 "nbformat": 4,
 "nbformat_minor": 5,
 "metadata": {}
}

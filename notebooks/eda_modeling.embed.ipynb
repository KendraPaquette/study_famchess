{
 "cells": [
  {
   "cell_type": "markdown",
   "metadata": {},
   "source": [
    "# famCHESS Modeling EDA\n",
    "\n",
    "Kendra Wyant\n",
    "\n",
    "## Notes\n",
    "\n",
    "This script reads in the processed famCHESS data (see `eda_cleaning.qmd`) and performs modeling checks for assumptions, covariates, mediators, and moderators.\n",
    "\n",
    "## Setup"
   ],
   "id": "3b78d055-2af4-47cc-8c34-03fdc48f8cf6"
  },
  {
   "cell_type": "code",
   "execution_count": null,
   "metadata": {},
   "outputs": [
    {
     "output_type": "stream",
     "name": "stderr",
     "text": [
      "ℹ SHA-1 hash of file is \"a58e57da996d1b70bb9a5b58241325d6fd78890f\""
     ]
    }
   ],
   "source": [
    "options(conflicts.policy = \"depends.ok\")\n",
    "suppressMessages(library(tidyverse))\n",
    "suppressMessages(library(janitor))\n",
    "library(Matrix, exclude = c(\"expand\", \"pack\", \"unpack\"))\n",
    "library(lme4)\n",
    "theme_set(theme_classic()) \n",
    "\n",
    "devtools::source_url(\"https://github.com/jjcurtin/lab_support/blob/main/format_path.R?raw=true\")"
   ],
   "id": "555427f6-4509-4762-8609-f91ee41d4f47"
  },
  {
   "cell_type": "markdown",
   "metadata": {},
   "source": [
    "## Data"
   ],
   "id": "2079c855-49fd-42c1-b8ce-d940b8d36923"
  },
  {
   "cell_type": "code",
   "execution_count": null,
   "metadata": {},
   "outputs": [
    {
     "output_type": "stream",
     "name": "stdout",
     "text": [
      "Rows: 928\n",
      "Columns: 38\n",
      "$ study_id                 <fct> 100FAM, 100FAM, 100FAM, 100PT, 100PT, 100PT, …\n",
      "$ dyad                     <fct> Partner, Partner, Partner, Patient, Patient, …\n",
      "$ arm                      <fct> ACHESS, ACHESS, ACHESS, ACHESS, ACHESS, ACHES…\n",
      "$ group                    <fct> ACHESS Partner, ACHESS Partner, ACHESS Partne…\n",
      "$ time                     <fct> 4 Month, 8 Month, 12 Month, 12 Month, 4 Month…\n",
      "$ comments                 <fct> NA, NA, NA, NA, NA, NA, NA, NA, NA, NA, NA, N…\n",
      "$ gender                   <fct> non-male, non-male, non-male, male, male, mal…\n",
      "$ age                      <dbl> 55, 55, 55, 56, 56, 56, 62, 62, 62, 66, 66, 6…\n",
      "$ edu                      <fct> \"Some college or 2 year degree\", \"Some colleg…\n",
      "$ income                   <fct> \"$35,000 to $49,999\", \"$35,000 to $49,999\", \"…\n",
      "$ partner_relationship     <fct> Romantic partner/spouse, Romantic partner/spo…\n",
      "$ employment               <fct> Yes, Yes, Yes, Yes, Yes, Yes, No, No, No, No,…\n",
      "$ days_app_use             <dbl> NA, NA, NA, 8, 32, 12, NA, NA, NA, NA, NA, NA…\n",
      "$ per_days_abstinent       <dbl> NA, NA, NA, 0.0, 0.0, 0.0, NA, NA, NA, 98.5, …\n",
      "$ per_heavy_drink_days     <dbl> NA, NA, NA, 100.0, 90.8, 100.0, NA, NA, NA, 1…\n",
      "$ meetings_yn              <fct> No, No, No, No, No, No, No, Yes, No, Yes, Yes…\n",
      "$ outpatient_yn_ever       <fct> No, No, No, No, No, No, No, No, No, No, No, N…\n",
      "$ other_psych_treatment_yn <fct> No, No, No, No, No, No, No, No, No, Yes, No, …\n",
      "$ er_yn_ever               <fct> No, No, No, No, No, No, No, No, No, No, No, N…\n",
      "$ mat_yn                   <fct> No, No, No, No, No, No, No, No, No, No, No, N…\n",
      "$ other_medications_yn     <fct> No, No, No, No, No, No, No, No, No, Yes, No, …\n",
      "$ inpatient_yn_ever        <fct> No, No, No, No, No, No, No, No, No, No, No, N…\n",
      "$ relationship_status      <fct> \"Still together (e.g., as a romantic couple, …\n",
      "$ relationship_status_open <fct> NA, NA, NA, NA, NA, NA, NA, NA, NA, NA, NA, N…\n",
      "$ oq45_scored              <dbl> 48, 58, 64, 48, 68, 70, 26, 37, 40, 44, 44, 5…\n",
      "$ relationsatisf_scored    <dbl> 15, 9, 30, 24, 22, 20, 30, 29, 32, 25, 25, 23…\n",
      "$ abuse_scored             <dbl> 4, 7, 8, 15, 4, 2, 4, 0, 2, 0, NA, NA, 2, 11,…\n",
      "$ treatmentskills_scored   <dbl> 2.888889, 2.722222, 3.277778, NA, NA, NA, 3.0…\n",
      "$ peersupport_scored       <dbl> 3.4, 2.6, 2.8, 2.4, 2.2, 2.8, 2.8, 3.6, 2.4, …\n",
      "$ socrates_scored          <dbl> NA, NA, NA, 33, 34, 24, NA, NA, NA, 39, 37, 3…\n",
      "$ dsm5_criteria            <fct> NA, NA, NA, Severe (6 or more symptoms), Seve…\n",
      "$ gender_original          <fct> Woman, Woman, Woman, Man, Man, Man, Woman, Wo…\n",
      "$ race_white_only          <fct> No, No, No, No, No, No, Yes, Yes, Yes, Yes, Y…\n",
      "$ hdd_0                    <dbl> NA, NA, NA, 100.0, 100.0, 100.0, NA, NA, NA, …\n",
      "$ pda_0                    <dbl> NA, NA, NA, 0.0, 0.0, 0.0, NA, NA, NA, 93.4, …\n",
      "$ oq45_0                   <dbl> 53, 53, 53, 60, 60, 60, 79, 79, 79, 71, 71, 7…\n",
      "$ relationsatisf_0         <dbl> 21, 21, 21, 19, 19, 19, 32, 32, 32, 24, 24, 2…\n",
      "$ abuse_0                  <dbl> 9, 9, 9, 2, 2, 2, 17, 17, 17, 8, 8, 8, 5, 5, …"
     ]
    }
   ],
   "source": [
    "data <- read_csv(here::here(path_data, \"famchess_data_ana.csv\"),\n",
    "                 show_col_types = FALSE) |> \n",
    "  mutate(across(where(is.character), ~as.factor(.x))) |> \n",
    "  glimpse()"
   ],
   "id": "8c460a8c-c6e1-473a-901f-8ad753a4814d"
  },
  {
   "cell_type": "markdown",
   "metadata": {},
   "source": [
    "Center baseline values of outcomes"
   ],
   "id": "eb988fb2-694b-4db5-9622-f942d116c2d5"
  },
  {
   "cell_type": "code",
   "execution_count": null,
   "metadata": {},
   "outputs": [],
   "source": [
    "data <- data |> \n",
    "  mutate(hdd_0 = hdd_0 - mean(hdd_0, na.rm = TRUE),\n",
    "         pda_0 = pda_0 - mean(pda_0, na.rm = TRUE),\n",
    "         oq45_0 = oq45_0 - mean(oq45_0, na.rm = TRUE),\n",
    "         relationsatisf_0 = relationsatisf_0 - mean(relationsatisf_0, na.rm = TRUE),\n",
    "         abuse_0 = abuse_0 - mean(abuse_0, na.rm = TRUE))"
   ],
   "id": "7267fba5-2b1c-4876-9780-4d7d793c3186"
  },
  {
   "cell_type": "markdown",
   "metadata": {},
   "source": [
    "Center time at the end of the intervention period (8 months)."
   ],
   "id": "c7f05d70-002e-4caf-a83e-037c1d9c112a"
  },
  {
   "cell_type": "code",
   "execution_count": null,
   "metadata": {},
   "outputs": [],
   "source": [
    "data <- data |> \n",
    "  mutate(time = factor(time, levels = c(\"4 Month\", \"8 Month\", \"12 Month\")),\n",
    "         time_c = as.numeric(time) - 2)"
   ],
   "id": "9e555f06-a205-4aa8-858a-52d3e51b5b25"
  },
  {
   "cell_type": "markdown",
   "metadata": {},
   "source": [
    "Center non-binary covariates"
   ],
   "id": "a1cbf795-b50c-4bce-8736-b267b8a72c70"
  },
  {
   "cell_type": "code",
   "execution_count": null,
   "metadata": {},
   "outputs": [],
   "source": [
    "data <- data |> \n",
    "  mutate(age_c = age - mean(age, na.rm = TRUE),\n",
    "         edu = factor(edu, levels = c(\"8th grade or less\", \n",
    "                                      \"Some high school, but did not graduate\",\n",
    "                                      \"High school graduate or GED\",\n",
    "                                      \"Some college or 2 year degree\",\n",
    "                                      \"4-year college graduate\",\n",
    "                                      \"More than 4-year college degree\")),\n",
    "         edu_c = as.numeric(edu) - mean(as.numeric(edu), na.rm = TRUE))"
   ],
   "id": "cf0eb24b-403f-487b-9b03-7b9795f96fe0"
  },
  {
   "cell_type": "markdown",
   "metadata": {},
   "source": [
    "### Check Assumptions for Analyses of Study Arm Effects\n",
    "\n",
    "patient primary outcome = `per_heavy_drink_days`  \n",
    "partner primary outcome = `oq45_scored`\n",
    "\n",
    "patient secondary outcome = `per_days_abstinent`  \n",
    "partner secondary outcomes = `relationsatisf_scored` and `abuse_scored`\n",
    "\n",
    "*KW: Cannot run primary and secondary patient models for partners (outcomes don’t exist). We could run primary and secondary partner models for patients, but does this make sense?*\n",
    "\n",
    "List of potential covariate variable names: `race_white_only`, `age_c`, `edu_c`, `meetings_yn`, `outpatient_yn_ever`, `er_yn_ever`, `mat_yn`, `inpatient_yn_ever`, `other_psych_treatment_yn`, `other_medications_yn`\n",
    "\n",
    "Set contrasts"
   ],
   "id": "dc5b208e-6b9d-43b2-a0a6-98629c66e16b"
  },
  {
   "cell_type": "code",
   "execution_count": null,
   "metadata": {},
   "outputs": [
    {
     "output_type": "stream",
     "name": "stdout",
     "text": [
      "                   fam_and_achess_vs_C achess_vs_fam\n",
      "ACHESS                       0.3333333           0.5\n",
      "FAMCHESS                     0.3333333          -0.5\n",
      "Smartphone Control          -0.6666667           0.0"
     ]
    }
   ],
   "source": [
    "col_names <- c(\"fam_and_achess_vs_C\", \"achess_vs_fam\")\n",
    "arm_contrasts <- matrix(c(1/3, 1/3, -2/3, 1/2, -1/2, 0),\n",
    "                          nrow = 3, ncol = 2,\n",
    "                          dimnames = list(levels(data$arm), col_names))\n",
    "\n",
    "data <- data |> \n",
    "  mutate(arm_c = as.factor(arm))\n",
    "\n",
    "contrasts(data$arm_c) <- arm_contrasts\n",
    "contrasts(data$arm_c)"
   ],
   "id": "2a0a600c-ce12-4d06-8109-c86f3e96a5e9"
  },
  {
   "cell_type": "markdown",
   "metadata": {},
   "source": [
    "#### Primary Patient Outcome: `per_heavy_drink_days`\n",
    "\n",
    "##### Check distribution of residuals\n",
    "\n",
    "*KW: seems normal enough?*"
   ],
   "id": "ce67531c-6a1c-46c3-8136-c1d6967a1813"
  },
  {
   "cell_type": "code",
   "execution_count": null,
   "metadata": {},
   "outputs": [
    {
     "output_type": "display_data",
     "metadata": {},
     "data": {
      "image/png": "[encoded data removed]"
     }
    }
   ],
   "source": [
    "model_patient_prim <- lmer(per_heavy_drink_days ~ time_c*arm_c + hdd_0 + \n",
    "                             (1 + time_c | study_id), \n",
    "                           data = subset(data, dyad == \"Patient\"))\n",
    "\n",
    "tibble(error = residuals(model_patient_prim)) |> \n",
    "  ggplot(aes(x = error)) +\n",
    "  geom_histogram(color = \"black\", fill = \"light grey\", bins = 30)"
   ],
   "id": "204ef87f-2880-42cf-a439-1e2ad281f983"
  },
  {
   "cell_type": "markdown",
   "metadata": {},
   "source": [
    "##### Look for significant covariates (We will only include covariates that significantly predict the outcome).\n",
    "\n",
    "`race_white_only` - not significant"
   ],
   "id": "dab371ce-38e1-4318-b0c5-986aee7e19bc"
  },
  {
   "cell_type": "code",
   "execution_count": null,
   "metadata": {},
   "outputs": [
    {
     "output_type": "display_data",
     "metadata": {},
     "data": {
      "text/html": [
       "<table style=\"border-collapse:collapse; border:none;\">\n",
       "<tr>\n",
       "<th style=\"border-top: double; text-align:center; font-style:normal; font-weight:bold; padding:0.2cm;  text-align:left; \">&nbsp;</th>\n",
       "<th colspan=\"3\" style=\"border-top: double; text-align:center; font-style:normal; font-weight:bold; padding:0.2cm; \">per heavy drink days</th>\n",
       "</tr>\n",
       "<tr>\n",
       "<td style=\" text-align:center; border-bottom:1px solid; font-style:italic; font-weight:normal;  text-align:left; \">Predictors</td>\n",
       "<td style=\" text-align:center; border-bottom:1px solid; font-style:italic; font-weight:normal;  \">Estimates</td>\n",
       "<td style=\" text-align:center; border-bottom:1px solid; font-style:italic; font-weight:normal;  \">CI</td>\n",
       "<td style=\" text-align:center; border-bottom:1px solid; font-style:italic; font-weight:normal;  \">p</td>\n",
       "</tr>\n",
       "<tr>\n",
       "<td style=\" padding:0.2cm; text-align:left; vertical-align:top; text-align:left; \">race white only [Yes]</td>\n",
       "<td style=\" padding:0.2cm; text-align:left; vertical-align:top; text-align:center;  \">&#45;0.26</td>\n",
       "<td style=\" padding:0.2cm; text-align:left; vertical-align:top; text-align:center;  \">&#45;8.95&nbsp;&ndash;&nbsp;8.43</td>\n",
       "<td style=\" padding:0.2cm; text-align:left; vertical-align:top; text-align:center;  \">0.953</td>\n",
       "</tr>\n",
       "\n",
       "<tr>\n",
       "<td style=\" padding:0.2cm; text-align:left; vertical-align:top; text-align:left; padding-top:0.1cm; padding-bottom:0.1cm;\">N <sub>study_id</sub></td>\n",
       "<td style=\" padding:0.2cm; text-align:left; vertical-align:top; padding-top:0.1cm; padding-bottom:0.1cm; text-align:left;\" colspan=\"3\">157</td>\n",
       "<tr>\n",
       "<td style=\" padding:0.2cm; text-align:left; vertical-align:top; text-align:left; padding-top:0.1cm; padding-bottom:0.1cm; border-top:1px solid;\">Observations</td>\n",
       "<td style=\" padding:0.2cm; text-align:left; vertical-align:top; padding-top:0.1cm; padding-bottom:0.1cm; text-align:left; border-top:1px solid;\" colspan=\"3\">427</td>\n",
       "</tr>\n",
       "<tr>\n",
       "<td style=\" padding:0.2cm; text-align:left; vertical-align:top; text-align:left; padding-top:0.1cm; padding-bottom:0.1cm;\">Marginal R<sup>2</sup> / Conditional R<sup>2</sup></td>\n",
       "<td style=\" padding:0.2cm; text-align:left; vertical-align:top; padding-top:0.1cm; padding-bottom:0.1cm; text-align:left;\" colspan=\"3\">0.282 / 0.765</td>\n",
       "</tr>\n",
       "\n",
       "</table>\n"
      ]
     }
    }
   ],
   "source": [
    "lmer(per_heavy_drink_days ~ time_c*arm_c + hdd_0 + race_white_only + \n",
    "       (1 + time_c | study_id), data = subset(data, dyad == \"Patient\")) |> \n",
    "  sjPlot::tab_model(show.re.var = F, show.icc = F, \n",
    "                    terms = c(\"race_white_onlyYes\"))"
   ],
   "id": "4bed8097-1806-4ea3-877d-e3e1c3c2d96e"
  },
  {
   "cell_type": "markdown",
   "metadata": {},
   "source": [
    "`age_c` - not significant"
   ],
   "id": "ffc64d0f-089e-4a81-9302-c81aecfc31f2"
  },
  {
   "cell_type": "code",
   "execution_count": null,
   "metadata": {},
   "outputs": [
    {
     "output_type": "display_data",
     "metadata": {},
     "data": {
      "text/html": [
       "<table style=\"border-collapse:collapse; border:none;\">\n",
       "<tr>\n",
       "<th style=\"border-top: double; text-align:center; font-style:normal; font-weight:bold; padding:0.2cm;  text-align:left; \">&nbsp;</th>\n",
       "<th colspan=\"3\" style=\"border-top: double; text-align:center; font-style:normal; font-weight:bold; padding:0.2cm; \">per heavy drink days</th>\n",
       "</tr>\n",
       "<tr>\n",
       "<td style=\" text-align:center; border-bottom:1px solid; font-style:italic; font-weight:normal;  text-align:left; \">Predictors</td>\n",
       "<td style=\" text-align:center; border-bottom:1px solid; font-style:italic; font-weight:normal;  \">Estimates</td>\n",
       "<td style=\" text-align:center; border-bottom:1px solid; font-style:italic; font-weight:normal;  \">CI</td>\n",
       "<td style=\" text-align:center; border-bottom:1px solid; font-style:italic; font-weight:normal;  \">p</td>\n",
       "</tr>\n",
       "<tr>\n",
       "<td style=\" padding:0.2cm; text-align:left; vertical-align:top; text-align:left; \">age c</td>\n",
       "<td style=\" padding:0.2cm; text-align:left; vertical-align:top; text-align:center;  \">0.12</td>\n",
       "<td style=\" padding:0.2cm; text-align:left; vertical-align:top; text-align:center;  \">&#45;0.18&nbsp;&ndash;&nbsp;0.42</td>\n",
       "<td style=\" padding:0.2cm; text-align:left; vertical-align:top; text-align:center;  \">0.422</td>\n",
       "</tr>\n",
       "\n",
       "<tr>\n",
       "<td style=\" padding:0.2cm; text-align:left; vertical-align:top; text-align:left; padding-top:0.1cm; padding-bottom:0.1cm;\">N <sub>study_id</sub></td>\n",
       "<td style=\" padding:0.2cm; text-align:left; vertical-align:top; padding-top:0.1cm; padding-bottom:0.1cm; text-align:left;\" colspan=\"3\">156</td>\n",
       "<tr>\n",
       "<td style=\" padding:0.2cm; text-align:left; vertical-align:top; text-align:left; padding-top:0.1cm; padding-bottom:0.1cm; border-top:1px solid;\">Observations</td>\n",
       "<td style=\" padding:0.2cm; text-align:left; vertical-align:top; padding-top:0.1cm; padding-bottom:0.1cm; text-align:left; border-top:1px solid;\" colspan=\"3\">424</td>\n",
       "</tr>\n",
       "<tr>\n",
       "<td style=\" padding:0.2cm; text-align:left; vertical-align:top; text-align:left; padding-top:0.1cm; padding-bottom:0.1cm;\">Marginal R<sup>2</sup> / Conditional R<sup>2</sup></td>\n",
       "<td style=\" padding:0.2cm; text-align:left; vertical-align:top; padding-top:0.1cm; padding-bottom:0.1cm; text-align:left;\" colspan=\"3\">0.285 / 0.761</td>\n",
       "</tr>\n",
       "\n",
       "</table>\n"
      ]
     }
    }
   ],
   "source": [
    "lmer(per_heavy_drink_days ~ time_c*arm_c + hdd_0 + age_c + \n",
    "       (1 + time_c | study_id), data = subset(data, dyad == \"Patient\")) |> \n",
    "  sjPlot::tab_model(show.re.var = F, show.icc = F, terms = c(\"age_c\"))"
   ],
   "id": "147cdbaf-b272-4382-ad75-6bb026a42d1b"
  },
  {
   "cell_type": "markdown",
   "metadata": {},
   "source": [
    "`edu_c` - not significant"
   ],
   "id": "be2472f9-a10c-49e5-83fb-12cd384e2a20"
  },
  {
   "cell_type": "code",
   "execution_count": null,
   "metadata": {},
   "outputs": [
    {
     "output_type": "display_data",
     "metadata": {},
     "data": {
      "text/html": [
       "<table style=\"border-collapse:collapse; border:none;\">\n",
       "<tr>\n",
       "<th style=\"border-top: double; text-align:center; font-style:normal; font-weight:bold; padding:0.2cm;  text-align:left; \">&nbsp;</th>\n",
       "<th colspan=\"3\" style=\"border-top: double; text-align:center; font-style:normal; font-weight:bold; padding:0.2cm; \">per heavy drink days</th>\n",
       "</tr>\n",
       "<tr>\n",
       "<td style=\" text-align:center; border-bottom:1px solid; font-style:italic; font-weight:normal;  text-align:left; \">Predictors</td>\n",
       "<td style=\" text-align:center; border-bottom:1px solid; font-style:italic; font-weight:normal;  \">Estimates</td>\n",
       "<td style=\" text-align:center; border-bottom:1px solid; font-style:italic; font-weight:normal;  \">CI</td>\n",
       "<td style=\" text-align:center; border-bottom:1px solid; font-style:italic; font-weight:normal;  \">p</td>\n",
       "</tr>\n",
       "<tr>\n",
       "<td style=\" padding:0.2cm; text-align:left; vertical-align:top; text-align:left; \">edu c</td>\n",
       "<td style=\" padding:0.2cm; text-align:left; vertical-align:top; text-align:center;  \">&#45;0.46</td>\n",
       "<td style=\" padding:0.2cm; text-align:left; vertical-align:top; text-align:center;  \">&#45;4.08&nbsp;&ndash;&nbsp;3.16</td>\n",
       "<td style=\" padding:0.2cm; text-align:left; vertical-align:top; text-align:center;  \">0.803</td>\n",
       "</tr>\n",
       "\n",
       "<tr>\n",
       "<td style=\" padding:0.2cm; text-align:left; vertical-align:top; text-align:left; padding-top:0.1cm; padding-bottom:0.1cm;\">N <sub>study_id</sub></td>\n",
       "<td style=\" padding:0.2cm; text-align:left; vertical-align:top; padding-top:0.1cm; padding-bottom:0.1cm; text-align:left;\" colspan=\"3\">157</td>\n",
       "<tr>\n",
       "<td style=\" padding:0.2cm; text-align:left; vertical-align:top; text-align:left; padding-top:0.1cm; padding-bottom:0.1cm; border-top:1px solid;\">Observations</td>\n",
       "<td style=\" padding:0.2cm; text-align:left; vertical-align:top; padding-top:0.1cm; padding-bottom:0.1cm; text-align:left; border-top:1px solid;\" colspan=\"3\">427</td>\n",
       "</tr>\n",
       "<tr>\n",
       "<td style=\" padding:0.2cm; text-align:left; vertical-align:top; text-align:left; padding-top:0.1cm; padding-bottom:0.1cm;\">Marginal R<sup>2</sup> / Conditional R<sup>2</sup></td>\n",
       "<td style=\" padding:0.2cm; text-align:left; vertical-align:top; padding-top:0.1cm; padding-bottom:0.1cm; text-align:left;\" colspan=\"3\">0.283 / 0.765</td>\n",
       "</tr>\n",
       "\n",
       "</table>\n"
      ]
     }
    }
   ],
   "source": [
    "lmer(per_heavy_drink_days ~ time_c*arm_c + hdd_0 + edu_c + \n",
    "       (1 + time_c | study_id), data = subset(data, dyad == \"Patient\")) |> \n",
    "  sjPlot::tab_model(show.re.var = F, show.icc = F, terms = c(\"edu_c\"))"
   ],
   "id": "72a08363-1ccb-436a-81b7-1c88c96c25e1"
  },
  {
   "cell_type": "markdown",
   "metadata": {},
   "source": [
    "`meetings_yn` - not significant"
   ],
   "id": "6a675eb6-ce0a-4f67-83f4-e958503cc2f3"
  },
  {
   "cell_type": "code",
   "execution_count": null,
   "metadata": {},
   "outputs": [
    {
     "output_type": "display_data",
     "metadata": {},
     "data": {
      "text/html": [
       "<table style=\"border-collapse:collapse; border:none;\">\n",
       "<tr>\n",
       "<th style=\"border-top: double; text-align:center; font-style:normal; font-weight:bold; padding:0.2cm;  text-align:left; \">&nbsp;</th>\n",
       "<th colspan=\"3\" style=\"border-top: double; text-align:center; font-style:normal; font-weight:bold; padding:0.2cm; \">per heavy drink days</th>\n",
       "</tr>\n",
       "<tr>\n",
       "<td style=\" text-align:center; border-bottom:1px solid; font-style:italic; font-weight:normal;  text-align:left; \">Predictors</td>\n",
       "<td style=\" text-align:center; border-bottom:1px solid; font-style:italic; font-weight:normal;  \">Estimates</td>\n",
       "<td style=\" text-align:center; border-bottom:1px solid; font-style:italic; font-weight:normal;  \">CI</td>\n",
       "<td style=\" text-align:center; border-bottom:1px solid; font-style:italic; font-weight:normal;  \">p</td>\n",
       "</tr>\n",
       "<tr>\n",
       "<td style=\" padding:0.2cm; text-align:left; vertical-align:top; text-align:left; \">meetings yn [Yes]</td>\n",
       "<td style=\" padding:0.2cm; text-align:left; vertical-align:top; text-align:center;  \">&#45;6.54</td>\n",
       "<td style=\" padding:0.2cm; text-align:left; vertical-align:top; text-align:center;  \">&#45;13.30&nbsp;&ndash;&nbsp;0.22</td>\n",
       "<td style=\" padding:0.2cm; text-align:left; vertical-align:top; text-align:center;  \">0.058</td>\n",
       "</tr>\n",
       "\n",
       "<tr>\n",
       "<td style=\" padding:0.2cm; text-align:left; vertical-align:top; text-align:left; padding-top:0.1cm; padding-bottom:0.1cm;\">N <sub>study_id</sub></td>\n",
       "<td style=\" padding:0.2cm; text-align:left; vertical-align:top; padding-top:0.1cm; padding-bottom:0.1cm; text-align:left;\" colspan=\"3\">158</td>\n",
       "<tr>\n",
       "<td style=\" padding:0.2cm; text-align:left; vertical-align:top; text-align:left; padding-top:0.1cm; padding-bottom:0.1cm; border-top:1px solid;\">Observations</td>\n",
       "<td style=\" padding:0.2cm; text-align:left; vertical-align:top; padding-top:0.1cm; padding-bottom:0.1cm; text-align:left; border-top:1px solid;\" colspan=\"3\">413</td>\n",
       "</tr>\n",
       "<tr>\n",
       "<td style=\" padding:0.2cm; text-align:left; vertical-align:top; text-align:left; padding-top:0.1cm; padding-bottom:0.1cm;\">Marginal R<sup>2</sup> / Conditional R<sup>2</sup></td>\n",
       "<td style=\" padding:0.2cm; text-align:left; vertical-align:top; padding-top:0.1cm; padding-bottom:0.1cm; text-align:left;\" colspan=\"3\">0.267 / 0.749</td>\n",
       "</tr>\n",
       "\n",
       "</table>\n"
      ]
     }
    }
   ],
   "source": [
    "lmer(per_heavy_drink_days ~ time_c*arm_c + hdd_0 + meetings_yn + \n",
    "       (1 + time_c | study_id), data = subset(data, dyad == \"Patient\")) |> \n",
    "  sjPlot::tab_model(show.re.var = F, show.icc = F, terms = c(\"meetings_ynYes\"))"
   ],
   "id": "650a6c77-b262-436b-83da-5bfc02addcfd"
  },
  {
   "cell_type": "markdown",
   "metadata": {},
   "source": [
    "`outpatient_yn_ever` - not significant"
   ],
   "id": "0745ab77-1a23-4356-bbac-7c2cc2837cae"
  },
  {
   "cell_type": "code",
   "execution_count": null,
   "metadata": {},
   "outputs": [
    {
     "output_type": "display_data",
     "metadata": {},
     "data": {
      "text/html": [
       "<table style=\"border-collapse:collapse; border:none;\">\n",
       "<tr>\n",
       "<th style=\"border-top: double; text-align:center; font-style:normal; font-weight:bold; padding:0.2cm;  text-align:left; \">&nbsp;</th>\n",
       "<th colspan=\"3\" style=\"border-top: double; text-align:center; font-style:normal; font-weight:bold; padding:0.2cm; \">per heavy drink days</th>\n",
       "</tr>\n",
       "<tr>\n",
       "<td style=\" text-align:center; border-bottom:1px solid; font-style:italic; font-weight:normal;  text-align:left; \">Predictors</td>\n",
       "<td style=\" text-align:center; border-bottom:1px solid; font-style:italic; font-weight:normal;  \">Estimates</td>\n",
       "<td style=\" text-align:center; border-bottom:1px solid; font-style:italic; font-weight:normal;  \">CI</td>\n",
       "<td style=\" text-align:center; border-bottom:1px solid; font-style:italic; font-weight:normal;  \">p</td>\n",
       "</tr>\n",
       "<tr>\n",
       "<td style=\" padding:0.2cm; text-align:left; vertical-align:top; text-align:left; \">outpatient yn ever [Yes]</td>\n",
       "<td style=\" padding:0.2cm; text-align:left; vertical-align:top; text-align:center;  \">&#45;7.44</td>\n",
       "<td style=\" padding:0.2cm; text-align:left; vertical-align:top; text-align:center;  \">&#45;15.72&nbsp;&ndash;&nbsp;0.84</td>\n",
       "<td style=\" padding:0.2cm; text-align:left; vertical-align:top; text-align:center;  \">0.078</td>\n",
       "</tr>\n",
       "\n",
       "<tr>\n",
       "<td style=\" padding:0.2cm; text-align:left; vertical-align:top; text-align:left; padding-top:0.1cm; padding-bottom:0.1cm;\">N <sub>study_id</sub></td>\n",
       "<td style=\" padding:0.2cm; text-align:left; vertical-align:top; padding-top:0.1cm; padding-bottom:0.1cm; text-align:left;\" colspan=\"3\">158</td>\n",
       "<tr>\n",
       "<td style=\" padding:0.2cm; text-align:left; vertical-align:top; text-align:left; padding-top:0.1cm; padding-bottom:0.1cm; border-top:1px solid;\">Observations</td>\n",
       "<td style=\" padding:0.2cm; text-align:left; vertical-align:top; padding-top:0.1cm; padding-bottom:0.1cm; text-align:left; border-top:1px solid;\" colspan=\"3\">430</td>\n",
       "</tr>\n",
       "<tr>\n",
       "<td style=\" padding:0.2cm; text-align:left; vertical-align:top; text-align:left; padding-top:0.1cm; padding-bottom:0.1cm;\">Marginal R<sup>2</sup> / Conditional R<sup>2</sup></td>\n",
       "<td style=\" padding:0.2cm; text-align:left; vertical-align:top; padding-top:0.1cm; padding-bottom:0.1cm; text-align:left;\" colspan=\"3\">0.284 / 0.764</td>\n",
       "</tr>\n",
       "\n",
       "</table>\n"
      ]
     }
    }
   ],
   "source": [
    "lmer(per_heavy_drink_days ~ time_c*arm_c + hdd_0 + outpatient_yn_ever + \n",
    "       (1 + time_c | study_id), data = subset(data, dyad ==  \"Patient\")) |> \n",
    "  sjPlot::tab_model(show.re.var = F, show.icc = F, \n",
    "                    terms = c(\"outpatient_yn_everYes\"))"
   ],
   "id": "c0014477-fec2-452f-86ed-6f6282e8fd8f"
  },
  {
   "cell_type": "markdown",
   "metadata": {},
   "source": [
    "`er_yn_ever` - **significant**"
   ],
   "id": "3aefc2ed-8df9-4939-aa3c-f63027194e3a"
  },
  {
   "cell_type": "code",
   "execution_count": null,
   "metadata": {},
   "outputs": [
    {
     "output_type": "display_data",
     "metadata": {},
     "data": {
      "text/html": [
       "<table style=\"border-collapse:collapse; border:none;\">\n",
       "<tr>\n",
       "<th style=\"border-top: double; text-align:center; font-style:normal; font-weight:bold; padding:0.2cm;  text-align:left; \">&nbsp;</th>\n",
       "<th colspan=\"3\" style=\"border-top: double; text-align:center; font-style:normal; font-weight:bold; padding:0.2cm; \">per heavy drink days</th>\n",
       "</tr>\n",
       "<tr>\n",
       "<td style=\" text-align:center; border-bottom:1px solid; font-style:italic; font-weight:normal;  text-align:left; \">Predictors</td>\n",
       "<td style=\" text-align:center; border-bottom:1px solid; font-style:italic; font-weight:normal;  \">Estimates</td>\n",
       "<td style=\" text-align:center; border-bottom:1px solid; font-style:italic; font-weight:normal;  \">CI</td>\n",
       "<td style=\" text-align:center; border-bottom:1px solid; font-style:italic; font-weight:normal;  \">p</td>\n",
       "</tr>\n",
       "<tr>\n",
       "<td style=\" padding:0.2cm; text-align:left; vertical-align:top; text-align:left; \">er yn ever [Yes]</td>\n",
       "<td style=\" padding:0.2cm; text-align:left; vertical-align:top; text-align:center;  \">&#45;10.40</td>\n",
       "<td style=\" padding:0.2cm; text-align:left; vertical-align:top; text-align:center;  \">&#45;18.85&nbsp;&ndash;&nbsp;-1.95</td>\n",
       "<td style=\" padding:0.2cm; text-align:left; vertical-align:top; text-align:center;  \"><strong>0.016</strong></td>\n",
       "</tr>\n",
       "\n",
       "<tr>\n",
       "<td style=\" padding:0.2cm; text-align:left; vertical-align:top; text-align:left; padding-top:0.1cm; padding-bottom:0.1cm;\">N <sub>study_id</sub></td>\n",
       "<td style=\" padding:0.2cm; text-align:left; vertical-align:top; padding-top:0.1cm; padding-bottom:0.1cm; text-align:left;\" colspan=\"3\">158</td>\n",
       "<tr>\n",
       "<td style=\" padding:0.2cm; text-align:left; vertical-align:top; text-align:left; padding-top:0.1cm; padding-bottom:0.1cm; border-top:1px solid;\">Observations</td>\n",
       "<td style=\" padding:0.2cm; text-align:left; vertical-align:top; padding-top:0.1cm; padding-bottom:0.1cm; text-align:left; border-top:1px solid;\" colspan=\"3\">430</td>\n",
       "</tr>\n",
       "<tr>\n",
       "<td style=\" padding:0.2cm; text-align:left; vertical-align:top; text-align:left; padding-top:0.1cm; padding-bottom:0.1cm;\">Marginal R<sup>2</sup> / Conditional R<sup>2</sup></td>\n",
       "<td style=\" padding:0.2cm; text-align:left; vertical-align:top; padding-top:0.1cm; padding-bottom:0.1cm; text-align:left;\" colspan=\"3\">0.284 / 0.761</td>\n",
       "</tr>\n",
       "\n",
       "</table>\n"
      ]
     }
    }
   ],
   "source": [
    "lmer(per_heavy_drink_days ~ time_c*arm_c + hdd_0 + er_yn_ever + \n",
    "       (1 + time_c | study_id), data = subset(data, dyad ==  \"Patient\")) |> \n",
    "  sjPlot::tab_model(show.re.var = F, show.icc = F, terms = c(\"er_yn_everYes\"))"
   ],
   "id": "734bdebc-b495-4f25-abce-cee25cf62346"
  },
  {
   "cell_type": "markdown",
   "metadata": {},
   "source": [
    "`mat_yn` - not significant"
   ],
   "id": "b08f7999-c0a2-468a-b575-e810293abb40"
  },
  {
   "cell_type": "code",
   "execution_count": null,
   "metadata": {},
   "outputs": [
    {
     "output_type": "display_data",
     "metadata": {},
     "data": {
      "text/html": [
       "<table style=\"border-collapse:collapse; border:none;\">\n",
       "<tr>\n",
       "<th style=\"border-top: double; text-align:center; font-style:normal; font-weight:bold; padding:0.2cm;  text-align:left; \">&nbsp;</th>\n",
       "<th colspan=\"3\" style=\"border-top: double; text-align:center; font-style:normal; font-weight:bold; padding:0.2cm; \">per heavy drink days</th>\n",
       "</tr>\n",
       "<tr>\n",
       "<td style=\" text-align:center; border-bottom:1px solid; font-style:italic; font-weight:normal;  text-align:left; \">Predictors</td>\n",
       "<td style=\" text-align:center; border-bottom:1px solid; font-style:italic; font-weight:normal;  \">Estimates</td>\n",
       "<td style=\" text-align:center; border-bottom:1px solid; font-style:italic; font-weight:normal;  \">CI</td>\n",
       "<td style=\" text-align:center; border-bottom:1px solid; font-style:italic; font-weight:normal;  \">p</td>\n",
       "</tr>\n",
       "<tr>\n",
       "<td style=\" padding:0.2cm; text-align:left; vertical-align:top; text-align:left; \">mat yn [Yes]</td>\n",
       "<td style=\" padding:0.2cm; text-align:left; vertical-align:top; text-align:center;  \">1.49</td>\n",
       "<td style=\" padding:0.2cm; text-align:left; vertical-align:top; text-align:center;  \">&#45;6.36&nbsp;&ndash;&nbsp;9.34</td>\n",
       "<td style=\" padding:0.2cm; text-align:left; vertical-align:top; text-align:center;  \">0.709</td>\n",
       "</tr>\n",
       "\n",
       "<tr>\n",
       "<td style=\" padding:0.2cm; text-align:left; vertical-align:top; text-align:left; padding-top:0.1cm; padding-bottom:0.1cm;\">N <sub>study_id</sub></td>\n",
       "<td style=\" padding:0.2cm; text-align:left; vertical-align:top; padding-top:0.1cm; padding-bottom:0.1cm; text-align:left;\" colspan=\"3\">158</td>\n",
       "<tr>\n",
       "<td style=\" padding:0.2cm; text-align:left; vertical-align:top; text-align:left; padding-top:0.1cm; padding-bottom:0.1cm; border-top:1px solid;\">Observations</td>\n",
       "<td style=\" padding:0.2cm; text-align:left; vertical-align:top; padding-top:0.1cm; padding-bottom:0.1cm; text-align:left; border-top:1px solid;\" colspan=\"3\">410</td>\n",
       "</tr>\n",
       "<tr>\n",
       "<td style=\" padding:0.2cm; text-align:left; vertical-align:top; text-align:left; padding-top:0.1cm; padding-bottom:0.1cm;\">Marginal R<sup>2</sup> / Conditional R<sup>2</sup></td>\n",
       "<td style=\" padding:0.2cm; text-align:left; vertical-align:top; padding-top:0.1cm; padding-bottom:0.1cm; text-align:left;\" colspan=\"3\">0.259 / 0.751</td>\n",
       "</tr>\n",
       "\n",
       "</table>\n"
      ]
     }
    }
   ],
   "source": [
    "lmer(per_heavy_drink_days ~ time_c*arm_c + hdd_0 + mat_yn + \n",
    "       (1 + time_c | study_id), data = subset(data, dyad == \"Patient\")) |> \n",
    "  sjPlot::tab_model(show.re.var = F, show.icc = F, terms = c(\"mat_ynYes\"))"
   ],
   "id": "9c74ea99-687b-4787-ae73-1cf5c4c67b86"
  },
  {
   "cell_type": "markdown",
   "metadata": {},
   "source": [
    "`inpatient_yn_ever` - **significant**"
   ],
   "id": "d4b4760e-d351-44e4-a94f-4cbe9e965549"
  },
  {
   "cell_type": "code",
   "execution_count": null,
   "metadata": {},
   "outputs": [
    {
     "output_type": "display_data",
     "metadata": {},
     "data": {
      "text/html": [
       "<table style=\"border-collapse:collapse; border:none;\">\n",
       "<tr>\n",
       "<th style=\"border-top: double; text-align:center; font-style:normal; font-weight:bold; padding:0.2cm;  text-align:left; \">&nbsp;</th>\n",
       "<th colspan=\"3\" style=\"border-top: double; text-align:center; font-style:normal; font-weight:bold; padding:0.2cm; \">per heavy drink days</th>\n",
       "</tr>\n",
       "<tr>\n",
       "<td style=\" text-align:center; border-bottom:1px solid; font-style:italic; font-weight:normal;  text-align:left; \">Predictors</td>\n",
       "<td style=\" text-align:center; border-bottom:1px solid; font-style:italic; font-weight:normal;  \">Estimates</td>\n",
       "<td style=\" text-align:center; border-bottom:1px solid; font-style:italic; font-weight:normal;  \">CI</td>\n",
       "<td style=\" text-align:center; border-bottom:1px solid; font-style:italic; font-weight:normal;  \">p</td>\n",
       "</tr>\n",
       "<tr>\n",
       "<td style=\" padding:0.2cm; text-align:left; vertical-align:top; text-align:left; \">inpatient yn ever [Yes]</td>\n",
       "<td style=\" padding:0.2cm; text-align:left; vertical-align:top; text-align:center;  \">&#45;10.03</td>\n",
       "<td style=\" padding:0.2cm; text-align:left; vertical-align:top; text-align:center;  \">&#45;19.83&nbsp;&ndash;&nbsp;-0.24</td>\n",
       "<td style=\" padding:0.2cm; text-align:left; vertical-align:top; text-align:center;  \"><strong>0.045</strong></td>\n",
       "</tr>\n",
       "\n",
       "<tr>\n",
       "<td style=\" padding:0.2cm; text-align:left; vertical-align:top; text-align:left; padding-top:0.1cm; padding-bottom:0.1cm;\">N <sub>study_id</sub></td>\n",
       "<td style=\" padding:0.2cm; text-align:left; vertical-align:top; padding-top:0.1cm; padding-bottom:0.1cm; text-align:left;\" colspan=\"3\">158</td>\n",
       "<tr>\n",
       "<td style=\" padding:0.2cm; text-align:left; vertical-align:top; text-align:left; padding-top:0.1cm; padding-bottom:0.1cm; border-top:1px solid;\">Observations</td>\n",
       "<td style=\" padding:0.2cm; text-align:left; vertical-align:top; padding-top:0.1cm; padding-bottom:0.1cm; text-align:left; border-top:1px solid;\" colspan=\"3\">430</td>\n",
       "</tr>\n",
       "<tr>\n",
       "<td style=\" padding:0.2cm; text-align:left; vertical-align:top; text-align:left; padding-top:0.1cm; padding-bottom:0.1cm;\">Marginal R<sup>2</sup> / Conditional R<sup>2</sup></td>\n",
       "<td style=\" padding:0.2cm; text-align:left; vertical-align:top; padding-top:0.1cm; padding-bottom:0.1cm; text-align:left;\" colspan=\"3\">0.282 / 0.764</td>\n",
       "</tr>\n",
       "\n",
       "</table>\n"
      ]
     }
    }
   ],
   "source": [
    "lmer(per_heavy_drink_days ~ time_c*arm_c + hdd_0 + inpatient_yn_ever + \n",
    "       (1 + time_c | study_id), data = subset(data, dyad ==  \"Patient\")) |> \n",
    "  sjPlot::tab_model(show.re.var = F, show.icc = F, \n",
    "                    terms = c(\"inpatient_yn_everYes\"))"
   ],
   "id": "e9c14b08-5a4f-47ec-a630-624ae6dc3b96"
  },
  {
   "cell_type": "markdown",
   "metadata": {},
   "source": [
    "`other_psych_treatment_yn` - not significant"
   ],
   "id": "6ed04e61-b203-4fe0-b532-518508c92e92"
  },
  {
   "cell_type": "code",
   "execution_count": null,
   "metadata": {},
   "outputs": [
    {
     "output_type": "display_data",
     "metadata": {},
     "data": {
      "text/html": [
       "<table style=\"border-collapse:collapse; border:none;\">\n",
       "<tr>\n",
       "<th style=\"border-top: double; text-align:center; font-style:normal; font-weight:bold; padding:0.2cm;  text-align:left; \">&nbsp;</th>\n",
       "<th colspan=\"3\" style=\"border-top: double; text-align:center; font-style:normal; font-weight:bold; padding:0.2cm; \">per heavy drink days</th>\n",
       "</tr>\n",
       "<tr>\n",
       "<td style=\" text-align:center; border-bottom:1px solid; font-style:italic; font-weight:normal;  text-align:left; \">Predictors</td>\n",
       "<td style=\" text-align:center; border-bottom:1px solid; font-style:italic; font-weight:normal;  \">Estimates</td>\n",
       "<td style=\" text-align:center; border-bottom:1px solid; font-style:italic; font-weight:normal;  \">CI</td>\n",
       "<td style=\" text-align:center; border-bottom:1px solid; font-style:italic; font-weight:normal;  \">p</td>\n",
       "</tr>\n",
       "<tr>\n",
       "<td style=\" padding:0.2cm; text-align:left; vertical-align:top; text-align:left; \">other psych treatment yn<br>[Yes]</td>\n",
       "<td style=\" padding:0.2cm; text-align:left; vertical-align:top; text-align:center;  \">1.20</td>\n",
       "<td style=\" padding:0.2cm; text-align:left; vertical-align:top; text-align:center;  \">&#45;5.23&nbsp;&ndash;&nbsp;7.63</td>\n",
       "<td style=\" padding:0.2cm; text-align:left; vertical-align:top; text-align:center;  \">0.713</td>\n",
       "</tr>\n",
       "\n",
       "<tr>\n",
       "<td style=\" padding:0.2cm; text-align:left; vertical-align:top; text-align:left; padding-top:0.1cm; padding-bottom:0.1cm;\">N <sub>study_id</sub></td>\n",
       "<td style=\" padding:0.2cm; text-align:left; vertical-align:top; padding-top:0.1cm; padding-bottom:0.1cm; text-align:left;\" colspan=\"3\">158</td>\n",
       "<tr>\n",
       "<td style=\" padding:0.2cm; text-align:left; vertical-align:top; text-align:left; padding-top:0.1cm; padding-bottom:0.1cm; border-top:1px solid;\">Observations</td>\n",
       "<td style=\" padding:0.2cm; text-align:left; vertical-align:top; padding-top:0.1cm; padding-bottom:0.1cm; text-align:left; border-top:1px solid;\" colspan=\"3\">413</td>\n",
       "</tr>\n",
       "<tr>\n",
       "<td style=\" padding:0.2cm; text-align:left; vertical-align:top; text-align:left; padding-top:0.1cm; padding-bottom:0.1cm;\">Marginal R<sup>2</sup> / Conditional R<sup>2</sup></td>\n",
       "<td style=\" padding:0.2cm; text-align:left; vertical-align:top; padding-top:0.1cm; padding-bottom:0.1cm; text-align:left;\" colspan=\"3\">0.259 / 0.753</td>\n",
       "</tr>\n",
       "\n",
       "</table>\n"
      ]
     }
    }
   ],
   "source": [
    "lmer(per_heavy_drink_days ~ time_c*arm_c + hdd_0 + other_psych_treatment_yn + \n",
    "       (1 + time_c | study_id), data = subset(data, dyad ==  \"Patient\")) |> \n",
    "  sjPlot::tab_model(show.re.var = F, show.icc = F, \n",
    "                    terms = c(\"other_psych_treatment_ynYes\"))"
   ],
   "id": "04853815-cd62-4f1f-8a17-d12d4ac6613b"
  },
  {
   "cell_type": "markdown",
   "metadata": {},
   "source": [
    "`other_medications_yn` - not significant"
   ],
   "id": "0b0b4136-2f4f-487d-999a-f6708e555964"
  },
  {
   "cell_type": "code",
   "execution_count": null,
   "metadata": {},
   "outputs": [
    {
     "output_type": "display_data",
     "metadata": {},
     "data": {
      "text/html": [
       "<table style=\"border-collapse:collapse; border:none;\">\n",
       "<tr>\n",
       "<th style=\"border-top: double; text-align:center; font-style:normal; font-weight:bold; padding:0.2cm;  text-align:left; \">&nbsp;</th>\n",
       "<th colspan=\"3\" style=\"border-top: double; text-align:center; font-style:normal; font-weight:bold; padding:0.2cm; \">per heavy drink days</th>\n",
       "</tr>\n",
       "<tr>\n",
       "<td style=\" text-align:center; border-bottom:1px solid; font-style:italic; font-weight:normal;  text-align:left; \">Predictors</td>\n",
       "<td style=\" text-align:center; border-bottom:1px solid; font-style:italic; font-weight:normal;  \">Estimates</td>\n",
       "<td style=\" text-align:center; border-bottom:1px solid; font-style:italic; font-weight:normal;  \">CI</td>\n",
       "<td style=\" text-align:center; border-bottom:1px solid; font-style:italic; font-weight:normal;  \">p</td>\n",
       "</tr>\n",
       "<tr>\n",
       "<td style=\" padding:0.2cm; text-align:left; vertical-align:top; text-align:left; \">other medications yn<br>[Yes]</td>\n",
       "<td style=\" padding:0.2cm; text-align:left; vertical-align:top; text-align:center;  \">&#45;3.36</td>\n",
       "<td style=\" padding:0.2cm; text-align:left; vertical-align:top; text-align:center;  \">&#45;9.56&nbsp;&ndash;&nbsp;2.84</td>\n",
       "<td style=\" padding:0.2cm; text-align:left; vertical-align:top; text-align:center;  \">0.287</td>\n",
       "</tr>\n",
       "\n",
       "<tr>\n",
       "<td style=\" padding:0.2cm; text-align:left; vertical-align:top; text-align:left; padding-top:0.1cm; padding-bottom:0.1cm;\">N <sub>study_id</sub></td>\n",
       "<td style=\" padding:0.2cm; text-align:left; vertical-align:top; padding-top:0.1cm; padding-bottom:0.1cm; text-align:left;\" colspan=\"3\">158</td>\n",
       "<tr>\n",
       "<td style=\" padding:0.2cm; text-align:left; vertical-align:top; text-align:left; padding-top:0.1cm; padding-bottom:0.1cm; border-top:1px solid;\">Observations</td>\n",
       "<td style=\" padding:0.2cm; text-align:left; vertical-align:top; padding-top:0.1cm; padding-bottom:0.1cm; text-align:left; border-top:1px solid;\" colspan=\"3\">409</td>\n",
       "</tr>\n",
       "<tr>\n",
       "<td style=\" padding:0.2cm; text-align:left; vertical-align:top; text-align:left; padding-top:0.1cm; padding-bottom:0.1cm;\">Marginal R<sup>2</sup> / Conditional R<sup>2</sup></td>\n",
       "<td style=\" padding:0.2cm; text-align:left; vertical-align:top; padding-top:0.1cm; padding-bottom:0.1cm; text-align:left;\" colspan=\"3\">0.261 / 0.754</td>\n",
       "</tr>\n",
       "\n",
       "</table>\n"
      ]
     }
    }
   ],
   "source": [
    "lmer(per_heavy_drink_days ~ time_c*arm_c + hdd_0 + other_medications_yn + \n",
    "       (1 + time_c | study_id), data = subset(data, dyad ==  \"Patient\")) |> \n",
    "  sjPlot::tab_model(show.re.var = F, show.icc = F, \n",
    "                    terms = c(\"other_medications_ynYes\"))"
   ],
   "id": "2b2b0334-2d87-4dcc-8ea8-02a1dd916882"
  },
  {
   "cell_type": "markdown",
   "metadata": {},
   "source": [
    "##### Final Model with Significant Covariates"
   ],
   "id": "8cb8c00f-5df3-4b14-bee1-dbe7e411e801"
  },
  {
   "cell_type": "code",
   "execution_count": null,
   "metadata": {},
   "outputs": [
    {
     "output_type": "display_data",
     "metadata": {},
     "data": {
      "text/html": [
       "<table style=\"border-collapse:collapse; border:none;\">\n",
       "<tr>\n",
       "<th style=\"border-top: double; text-align:center; font-style:normal; font-weight:bold; padding:0.2cm;  text-align:left; \">&nbsp;</th>\n",
       "<th colspan=\"3\" style=\"border-top: double; text-align:center; font-style:normal; font-weight:bold; padding:0.2cm; \">per heavy drink days</th>\n",
       "</tr>\n",
       "<tr>\n",
       "<td style=\" text-align:center; border-bottom:1px solid; font-style:italic; font-weight:normal;  text-align:left; \">Predictors</td>\n",
       "<td style=\" text-align:center; border-bottom:1px solid; font-style:italic; font-weight:normal;  \">Estimates</td>\n",
       "<td style=\" text-align:center; border-bottom:1px solid; font-style:italic; font-weight:normal;  \">CI</td>\n",
       "<td style=\" text-align:center; border-bottom:1px solid; font-style:italic; font-weight:normal;  \">p</td>\n",
       "</tr>\n",
       "<tr>\n",
       "<td style=\" padding:0.2cm; text-align:left; vertical-align:top; text-align:left; \">(Intercept)</td>\n",
       "<td style=\" padding:0.2cm; text-align:left; vertical-align:top; text-align:center;  \">27.91</td>\n",
       "<td style=\" padding:0.2cm; text-align:left; vertical-align:top; text-align:center;  \">23.34&nbsp;&ndash;&nbsp;32.47</td>\n",
       "<td style=\" padding:0.2cm; text-align:left; vertical-align:top; text-align:center;  \"><strong>&lt;0.001</strong></td>\n",
       "</tr>\n",
       "<tr>\n",
       "<td style=\" padding:0.2cm; text-align:left; vertical-align:top; text-align:left; \">time c</td>\n",
       "<td style=\" padding:0.2cm; text-align:left; vertical-align:top; text-align:center;  \">&#45;5.11</td>\n",
       "<td style=\" padding:0.2cm; text-align:left; vertical-align:top; text-align:center;  \">&#45;7.65&nbsp;&ndash;&nbsp;-2.57</td>\n",
       "<td style=\" padding:0.2cm; text-align:left; vertical-align:top; text-align:center;  \"><strong>&lt;0.001</strong></td>\n",
       "</tr>\n",
       "<tr>\n",
       "<td style=\" padding:0.2cm; text-align:left; vertical-align:top; text-align:left; \">arm cfam and achess vs C</td>\n",
       "<td style=\" padding:0.2cm; text-align:left; vertical-align:top; text-align:center;  \">&#45;2.50</td>\n",
       "<td style=\" padding:0.2cm; text-align:left; vertical-align:top; text-align:center;  \">&#45;10.47&nbsp;&ndash;&nbsp;5.47</td>\n",
       "<td style=\" padding:0.2cm; text-align:left; vertical-align:top; text-align:center;  \">0.538</td>\n",
       "</tr>\n",
       "<tr>\n",
       "<td style=\" padding:0.2cm; text-align:left; vertical-align:top; text-align:left; \">arm cachess vs fam</td>\n",
       "<td style=\" padding:0.2cm; text-align:left; vertical-align:top; text-align:center;  \">4.81</td>\n",
       "<td style=\" padding:0.2cm; text-align:left; vertical-align:top; text-align:center;  \">&#45;4.42&nbsp;&ndash;&nbsp;14.04</td>\n",
       "<td style=\" padding:0.2cm; text-align:left; vertical-align:top; text-align:center;  \">0.307</td>\n",
       "</tr>\n",
       "<tr>\n",
       "<td style=\" padding:0.2cm; text-align:left; vertical-align:top; text-align:left; \">hdd 0</td>\n",
       "<td style=\" padding:0.2cm; text-align:left; vertical-align:top; text-align:center;  \">0.47</td>\n",
       "<td style=\" padding:0.2cm; text-align:left; vertical-align:top; text-align:center;  \">0.36&nbsp;&ndash;&nbsp;0.57</td>\n",
       "<td style=\" padding:0.2cm; text-align:left; vertical-align:top; text-align:center;  \"><strong>&lt;0.001</strong></td>\n",
       "</tr>\n",
       "<tr>\n",
       "<td style=\" padding:0.2cm; text-align:left; vertical-align:top; text-align:left; \">inpatient yn ever [Yes]</td>\n",
       "<td style=\" padding:0.2cm; text-align:left; vertical-align:top; text-align:center;  \">&#45;7.22</td>\n",
       "<td style=\" padding:0.2cm; text-align:left; vertical-align:top; text-align:center;  \">&#45;17.39&nbsp;&ndash;&nbsp;2.96</td>\n",
       "<td style=\" padding:0.2cm; text-align:left; vertical-align:top; text-align:center;  \">0.164</td>\n",
       "</tr>\n",
       "<tr>\n",
       "<td style=\" padding:0.2cm; text-align:left; vertical-align:top; text-align:left; \">er yn ever [Yes]</td>\n",
       "<td style=\" padding:0.2cm; text-align:left; vertical-align:top; text-align:center;  \">&#45;8.59</td>\n",
       "<td style=\" padding:0.2cm; text-align:left; vertical-align:top; text-align:center;  \">&#45;17.47&nbsp;&ndash;&nbsp;0.28</td>\n",
       "<td style=\" padding:0.2cm; text-align:left; vertical-align:top; text-align:center;  \">0.058</td>\n",
       "</tr>\n",
       "<tr>\n",
       "<td style=\" padding:0.2cm; text-align:left; vertical-align:top; text-align:left; \">time c × arm cfam and<br>achess vs C</td>\n",
       "<td style=\" padding:0.2cm; text-align:left; vertical-align:top; text-align:center;  \">&#45;6.72</td>\n",
       "<td style=\" padding:0.2cm; text-align:left; vertical-align:top; text-align:center;  \">&#45;12.06&nbsp;&ndash;&nbsp;-1.38</td>\n",
       "<td style=\" padding:0.2cm; text-align:left; vertical-align:top; text-align:center;  \"><strong>0.014</strong></td>\n",
       "</tr>\n",
       "<tr>\n",
       "<td style=\" padding:0.2cm; text-align:left; vertical-align:top; text-align:left; \">time c × arm cachess vs<br>fam</td>\n",
       "<td style=\" padding:0.2cm; text-align:left; vertical-align:top; text-align:center;  \">2.32</td>\n",
       "<td style=\" padding:0.2cm; text-align:left; vertical-align:top; text-align:center;  \">&#45;3.96&nbsp;&ndash;&nbsp;8.60</td>\n",
       "<td style=\" padding:0.2cm; text-align:left; vertical-align:top; text-align:center;  \">0.469</td>\n",
       "</tr>\n",
       "\n",
       "<tr>\n",
       "<td style=\" padding:0.2cm; text-align:left; vertical-align:top; text-align:left; padding-top:0.1cm; padding-bottom:0.1cm;\">N <sub>study_id</sub></td>\n",
       "<td style=\" padding:0.2cm; text-align:left; vertical-align:top; padding-top:0.1cm; padding-bottom:0.1cm; text-align:left;\" colspan=\"3\">158</td>\n",
       "<tr>\n",
       "<td style=\" padding:0.2cm; text-align:left; vertical-align:top; text-align:left; padding-top:0.1cm; padding-bottom:0.1cm; border-top:1px solid;\">Observations</td>\n",
       "<td style=\" padding:0.2cm; text-align:left; vertical-align:top; padding-top:0.1cm; padding-bottom:0.1cm; text-align:left; border-top:1px solid;\" colspan=\"3\">430</td>\n",
       "</tr>\n",
       "<tr>\n",
       "<td style=\" padding:0.2cm; text-align:left; vertical-align:top; text-align:left; padding-top:0.1cm; padding-bottom:0.1cm;\">Marginal R<sup>2</sup> / Conditional R<sup>2</sup></td>\n",
       "<td style=\" padding:0.2cm; text-align:left; vertical-align:top; padding-top:0.1cm; padding-bottom:0.1cm; text-align:left;\" colspan=\"3\">0.288 / 0.761</td>\n",
       "</tr>\n",
       "\n",
       "</table>\n"
      ]
     }
    }
   ],
   "source": [
    "lmer(per_heavy_drink_days ~ time_c*arm_c + hdd_0 + inpatient_yn_ever + \n",
    "       er_yn_ever + (1 + time_c | study_id), \n",
    "     data = subset(data, dyad ==  \"Patient\")) |> \n",
    "  sjPlot::tab_model(show.re.var = F, show.icc = F)"
   ],
   "id": "1dadb4ca-b421-4f6f-a1b1-5080415f5e0b"
  },
  {
   "cell_type": "markdown",
   "metadata": {},
   "source": [
    "#### Primary Partner Outcome: `oq45_scored`\n",
    "\n",
    "Distribution of residuals  \n",
    "*KW: Looks fine*"
   ],
   "id": "f73d1b92-d5d7-407f-9533-d2ad2c6d7601"
  },
  {
   "cell_type": "code",
   "execution_count": null,
   "metadata": {},
   "outputs": [
    {
     "output_type": "display_data",
     "metadata": {},
     "data": {
      "image/png": "[encoded data removed]"
     }
    },
    {
     "output_type": "display_data",
     "metadata": {},
     "data": {
      "image/png": "[encoded data removed]"
     }
    }
   ],
   "source": [
    "model_partner_prim <- lmer(oq45_scored ~ time_c*arm_c + oq45_0 + \n",
    "                             (1 + time_c | study_id), \n",
    "                           data = subset(data, dyad == \"Partner\"))\n",
    "\n",
    "tibble(error = residuals(model_partner_prim)) |> \n",
    "  ggplot(aes(x = error)) +\n",
    "  geom_histogram(color = \"black\", fill = \"light grey\", bins = 30)"
   ],
   "id": "79cfe7ca-0c26-4b0f-bef3-ed3f23ca3255"
  },
  {
   "cell_type": "markdown",
   "metadata": {},
   "source": [
    "##### Look for significant covariates (We will only include covariates that significantly predict the outcome).\n",
    "\n",
    "*Checking for sig covariates for partner and patient dyads*\n",
    "\n",
    "`race_white_only` - not significant"
   ],
   "id": "7218b2e3-6c15-4fc3-88e3-02d42f563626"
  },
  {
   "cell_type": "code",
   "execution_count": null,
   "metadata": {},
   "outputs": [
    {
     "output_type": "display_data",
     "metadata": {},
     "data": {
      "text/html": [
       "<table style=\"border-collapse:collapse; border:none;\">\n",
       "<tr>\n",
       "<th style=\"border-top: double; text-align:center; font-style:normal; font-weight:bold; padding:0.2cm;  text-align:left; \">&nbsp;</th>\n",
       "<th colspan=\"3\" style=\"border-top: double; text-align:center; font-style:normal; font-weight:bold; padding:0.2cm; \">oq 45 scored</th>\n",
       "</tr>\n",
       "<tr>\n",
       "<td style=\" text-align:center; border-bottom:1px solid; font-style:italic; font-weight:normal;  text-align:left; \">Predictors</td>\n",
       "<td style=\" text-align:center; border-bottom:1px solid; font-style:italic; font-weight:normal;  \">Estimates</td>\n",
       "<td style=\" text-align:center; border-bottom:1px solid; font-style:italic; font-weight:normal;  \">CI</td>\n",
       "<td style=\" text-align:center; border-bottom:1px solid; font-style:italic; font-weight:normal;  \">p</td>\n",
       "</tr>\n",
       "<tr>\n",
       "<td style=\" padding:0.2cm; text-align:left; vertical-align:top; text-align:left; \">race white only [Yes]</td>\n",
       "<td style=\" padding:0.2cm; text-align:left; vertical-align:top; text-align:center;  \">&#45;1.69</td>\n",
       "<td style=\" padding:0.2cm; text-align:left; vertical-align:top; text-align:center;  \">&#45;6.98&nbsp;&ndash;&nbsp;3.60</td>\n",
       "<td style=\" padding:0.2cm; text-align:left; vertical-align:top; text-align:center;  \">0.531</td>\n",
       "</tr>\n",
       "\n",
       "<tr>\n",
       "<td style=\" padding:0.2cm; text-align:left; vertical-align:top; text-align:left; padding-top:0.1cm; padding-bottom:0.1cm;\">N <sub>study_id</sub></td>\n",
       "<td style=\" padding:0.2cm; text-align:left; vertical-align:top; padding-top:0.1cm; padding-bottom:0.1cm; text-align:left;\" colspan=\"3\">170</td>\n",
       "<tr>\n",
       "<td style=\" padding:0.2cm; text-align:left; vertical-align:top; text-align:left; padding-top:0.1cm; padding-bottom:0.1cm; border-top:1px solid;\">Observations</td>\n",
       "<td style=\" padding:0.2cm; text-align:left; vertical-align:top; padding-top:0.1cm; padding-bottom:0.1cm; text-align:left; border-top:1px solid;\" colspan=\"3\">454</td>\n",
       "</tr>\n",
       "<tr>\n",
       "<td style=\" padding:0.2cm; text-align:left; vertical-align:top; text-align:left; padding-top:0.1cm; padding-bottom:0.1cm;\">Marginal R<sup>2</sup> / Conditional R<sup>2</sup></td>\n",
       "<td style=\" padding:0.2cm; text-align:left; vertical-align:top; padding-top:0.1cm; padding-bottom:0.1cm; text-align:left;\" colspan=\"3\">0.475 / 0.776</td>\n",
       "</tr>\n",
       "\n",
       "</table>\n"
      ]
     }
    },
    {
     "output_type": "display_data",
     "metadata": {},
     "data": {
      "text/html": [
       "<table style=\"border-collapse:collapse; border:none;\">\n",
       "<tr>\n",
       "<th style=\"border-top: double; text-align:center; font-style:normal; font-weight:bold; padding:0.2cm;  text-align:left; \">&nbsp;</th>\n",
       "<th colspan=\"3\" style=\"border-top: double; text-align:center; font-style:normal; font-weight:bold; padding:0.2cm; \">oq 45 scored</th>\n",
       "</tr>\n",
       "<tr>\n",
       "<td style=\" text-align:center; border-bottom:1px solid; font-style:italic; font-weight:normal;  text-align:left; \">Predictors</td>\n",
       "<td style=\" text-align:center; border-bottom:1px solid; font-style:italic; font-weight:normal;  \">Estimates</td>\n",
       "<td style=\" text-align:center; border-bottom:1px solid; font-style:italic; font-weight:normal;  \">CI</td>\n",
       "<td style=\" text-align:center; border-bottom:1px solid; font-style:italic; font-weight:normal;  \">p</td>\n",
       "</tr>\n",
       "<tr>\n",
       "<td style=\" padding:0.2cm; text-align:left; vertical-align:top; text-align:left; \">race white only [Yes]</td>\n",
       "<td style=\" padding:0.2cm; text-align:left; vertical-align:top; text-align:center;  \">0.19</td>\n",
       "<td style=\" padding:0.2cm; text-align:left; vertical-align:top; text-align:center;  \">&#45;5.59&nbsp;&ndash;&nbsp;5.97</td>\n",
       "<td style=\" padding:0.2cm; text-align:left; vertical-align:top; text-align:center;  \">0.949</td>\n",
       "</tr>\n",
       "\n",
       "<tr>\n",
       "<td style=\" padding:0.2cm; text-align:left; vertical-align:top; text-align:left; padding-top:0.1cm; padding-bottom:0.1cm;\">N <sub>study_id</sub></td>\n",
       "<td style=\" padding:0.2cm; text-align:left; vertical-align:top; padding-top:0.1cm; padding-bottom:0.1cm; text-align:left;\" colspan=\"3\">168</td>\n",
       "<tr>\n",
       "<td style=\" padding:0.2cm; text-align:left; vertical-align:top; text-align:left; padding-top:0.1cm; padding-bottom:0.1cm; border-top:1px solid;\">Observations</td>\n",
       "<td style=\" padding:0.2cm; text-align:left; vertical-align:top; padding-top:0.1cm; padding-bottom:0.1cm; text-align:left; border-top:1px solid;\" colspan=\"3\">436</td>\n",
       "</tr>\n",
       "<tr>\n",
       "<td style=\" padding:0.2cm; text-align:left; vertical-align:top; text-align:left; padding-top:0.1cm; padding-bottom:0.1cm;\">Marginal R<sup>2</sup> / Conditional R<sup>2</sup></td>\n",
       "<td style=\" padding:0.2cm; text-align:left; vertical-align:top; padding-top:0.1cm; padding-bottom:0.1cm; text-align:left;\" colspan=\"3\">0.436 / 0.803</td>\n",
       "</tr>\n",
       "\n",
       "</table>\n"
      ]
     }
    }
   ],
   "source": [
    "lmer(oq45_scored ~ time_c*arm_c + oq45_0 + race_white_only +\n",
    "       (1 + time_c | study_id), data = subset(data, dyad == \"Partner\")) |> \n",
    "  sjPlot::tab_model(show.re.var = F, show.icc = F, \n",
    "                    terms = c(\"race_white_onlyYes\"))"
   ],
   "id": "be93975e-3a1f-4efc-b18d-9199ccc6f3fb"
  },
  {
   "cell_type": "markdown",
   "metadata": {},
   "source": [
    "`age_c` - not significant"
   ],
   "id": "60d7b982-62cf-447d-bda6-ce532ea51216"
  },
  {
   "cell_type": "code",
   "execution_count": null,
   "metadata": {},
   "outputs": [
    {
     "output_type": "display_data",
     "metadata": {},
     "data": {
      "text/html": [
       "<table style=\"border-collapse:collapse; border:none;\">\n",
       "<tr>\n",
       "<th style=\"border-top: double; text-align:center; font-style:normal; font-weight:bold; padding:0.2cm;  text-align:left; \">&nbsp;</th>\n",
       "<th colspan=\"3\" style=\"border-top: double; text-align:center; font-style:normal; font-weight:bold; padding:0.2cm; \">oq 45 scored</th>\n",
       "</tr>\n",
       "<tr>\n",
       "<td style=\" text-align:center; border-bottom:1px solid; font-style:italic; font-weight:normal;  text-align:left; \">Predictors</td>\n",
       "<td style=\" text-align:center; border-bottom:1px solid; font-style:italic; font-weight:normal;  \">Estimates</td>\n",
       "<td style=\" text-align:center; border-bottom:1px solid; font-style:italic; font-weight:normal;  \">CI</td>\n",
       "<td style=\" text-align:center; border-bottom:1px solid; font-style:italic; font-weight:normal;  \">p</td>\n",
       "</tr>\n",
       "<tr>\n",
       "<td style=\" padding:0.2cm; text-align:left; vertical-align:top; text-align:left; \">age c</td>\n",
       "<td style=\" padding:0.2cm; text-align:left; vertical-align:top; text-align:center;  \">0.00</td>\n",
       "<td style=\" padding:0.2cm; text-align:left; vertical-align:top; text-align:center;  \">&#45;0.15&nbsp;&ndash;&nbsp;0.16</td>\n",
       "<td style=\" padding:0.2cm; text-align:left; vertical-align:top; text-align:center;  \">0.969</td>\n",
       "</tr>\n",
       "\n",
       "<tr>\n",
       "<td style=\" padding:0.2cm; text-align:left; vertical-align:top; text-align:left; padding-top:0.1cm; padding-bottom:0.1cm;\">N <sub>study_id</sub></td>\n",
       "<td style=\" padding:0.2cm; text-align:left; vertical-align:top; padding-top:0.1cm; padding-bottom:0.1cm; text-align:left;\" colspan=\"3\">170</td>\n",
       "<tr>\n",
       "<td style=\" padding:0.2cm; text-align:left; vertical-align:top; text-align:left; padding-top:0.1cm; padding-bottom:0.1cm; border-top:1px solid;\">Observations</td>\n",
       "<td style=\" padding:0.2cm; text-align:left; vertical-align:top; padding-top:0.1cm; padding-bottom:0.1cm; text-align:left; border-top:1px solid;\" colspan=\"3\">454</td>\n",
       "</tr>\n",
       "<tr>\n",
       "<td style=\" padding:0.2cm; text-align:left; vertical-align:top; text-align:left; padding-top:0.1cm; padding-bottom:0.1cm;\">Marginal R<sup>2</sup> / Conditional R<sup>2</sup></td>\n",
       "<td style=\" padding:0.2cm; text-align:left; vertical-align:top; padding-top:0.1cm; padding-bottom:0.1cm; text-align:left;\" colspan=\"3\">0.474 / 0.776</td>\n",
       "</tr>\n",
       "\n",
       "</table>\n"
      ]
     }
    },
    {
     "output_type": "display_data",
     "metadata": {},
     "data": {
      "text/html": [
       "<table style=\"border-collapse:collapse; border:none;\">\n",
       "<tr>\n",
       "<th style=\"border-top: double; text-align:center; font-style:normal; font-weight:bold; padding:0.2cm;  text-align:left; \">&nbsp;</th>\n",
       "<th colspan=\"3\" style=\"border-top: double; text-align:center; font-style:normal; font-weight:bold; padding:0.2cm; \">oq 45 scored</th>\n",
       "</tr>\n",
       "<tr>\n",
       "<td style=\" text-align:center; border-bottom:1px solid; font-style:italic; font-weight:normal;  text-align:left; \">Predictors</td>\n",
       "<td style=\" text-align:center; border-bottom:1px solid; font-style:italic; font-weight:normal;  \">Estimates</td>\n",
       "<td style=\" text-align:center; border-bottom:1px solid; font-style:italic; font-weight:normal;  \">CI</td>\n",
       "<td style=\" text-align:center; border-bottom:1px solid; font-style:italic; font-weight:normal;  \">p</td>\n",
       "</tr>\n",
       "<tr>\n",
       "<td style=\" padding:0.2cm; text-align:left; vertical-align:top; text-align:left; \">age c</td>\n",
       "<td style=\" padding:0.2cm; text-align:left; vertical-align:top; text-align:center;  \">0.10</td>\n",
       "<td style=\" padding:0.2cm; text-align:left; vertical-align:top; text-align:center;  \">&#45;0.11&nbsp;&ndash;&nbsp;0.30</td>\n",
       "<td style=\" padding:0.2cm; text-align:left; vertical-align:top; text-align:center;  \">0.350</td>\n",
       "</tr>\n",
       "\n",
       "<tr>\n",
       "<td style=\" padding:0.2cm; text-align:left; vertical-align:top; text-align:left; padding-top:0.1cm; padding-bottom:0.1cm;\">N <sub>study_id</sub></td>\n",
       "<td style=\" padding:0.2cm; text-align:left; vertical-align:top; padding-top:0.1cm; padding-bottom:0.1cm; text-align:left;\" colspan=\"3\">167</td>\n",
       "<tr>\n",
       "<td style=\" padding:0.2cm; text-align:left; vertical-align:top; text-align:left; padding-top:0.1cm; padding-bottom:0.1cm; border-top:1px solid;\">Observations</td>\n",
       "<td style=\" padding:0.2cm; text-align:left; vertical-align:top; padding-top:0.1cm; padding-bottom:0.1cm; text-align:left; border-top:1px solid;\" colspan=\"3\">433</td>\n",
       "</tr>\n",
       "<tr>\n",
       "<td style=\" padding:0.2cm; text-align:left; vertical-align:top; text-align:left; padding-top:0.1cm; padding-bottom:0.1cm;\">Marginal R<sup>2</sup> / Conditional R<sup>2</sup></td>\n",
       "<td style=\" padding:0.2cm; text-align:left; vertical-align:top; padding-top:0.1cm; padding-bottom:0.1cm; text-align:left;\" colspan=\"3\">0.440 / 0.801</td>\n",
       "</tr>\n",
       "\n",
       "</table>\n"
      ]
     }
    }
   ],
   "source": [
    "lmer(oq45_scored ~ time_c*arm_c + oq45_0 + age_c + (1 + time_c | study_id), \n",
    "     data = subset(data, dyad == \"Partner\")) |> \n",
    "  sjPlot::tab_model(show.re.var = F, show.icc = F, terms = c(\"age_c\"))"
   ],
   "id": "a3fec093-31a2-4873-804b-fc805d65a819"
  },
  {
   "cell_type": "markdown",
   "metadata": {},
   "source": [
    "`edu_c` - **significant for partner but not patient**"
   ],
   "id": "bb4dcc4e-7690-466d-9df2-6377e8532682"
  },
  {
   "cell_type": "code",
   "execution_count": null,
   "metadata": {},
   "outputs": [
    {
     "output_type": "display_data",
     "metadata": {},
     "data": {
      "text/html": [
       "<table style=\"border-collapse:collapse; border:none;\">\n",
       "<tr>\n",
       "<th style=\"border-top: double; text-align:center; font-style:normal; font-weight:bold; padding:0.2cm;  text-align:left; \">&nbsp;</th>\n",
       "<th colspan=\"3\" style=\"border-top: double; text-align:center; font-style:normal; font-weight:bold; padding:0.2cm; \">oq 45 scored</th>\n",
       "</tr>\n",
       "<tr>\n",
       "<td style=\" text-align:center; border-bottom:1px solid; font-style:italic; font-weight:normal;  text-align:left; \">Predictors</td>\n",
       "<td style=\" text-align:center; border-bottom:1px solid; font-style:italic; font-weight:normal;  \">Estimates</td>\n",
       "<td style=\" text-align:center; border-bottom:1px solid; font-style:italic; font-weight:normal;  \">CI</td>\n",
       "<td style=\" text-align:center; border-bottom:1px solid; font-style:italic; font-weight:normal;  \">p</td>\n",
       "</tr>\n",
       "<tr>\n",
       "<td style=\" padding:0.2cm; text-align:left; vertical-align:top; text-align:left; \">edu c</td>\n",
       "<td style=\" padding:0.2cm; text-align:left; vertical-align:top; text-align:center;  \">&#45;2.46</td>\n",
       "<td style=\" padding:0.2cm; text-align:left; vertical-align:top; text-align:center;  \">&#45;4.55&nbsp;&ndash;&nbsp;-0.37</td>\n",
       "<td style=\" padding:0.2cm; text-align:left; vertical-align:top; text-align:center;  \"><strong>0.021</strong></td>\n",
       "</tr>\n",
       "\n",
       "<tr>\n",
       "<td style=\" padding:0.2cm; text-align:left; vertical-align:top; text-align:left; padding-top:0.1cm; padding-bottom:0.1cm;\">N <sub>study_id</sub></td>\n",
       "<td style=\" padding:0.2cm; text-align:left; vertical-align:top; padding-top:0.1cm; padding-bottom:0.1cm; text-align:left;\" colspan=\"3\">170</td>\n",
       "<tr>\n",
       "<td style=\" padding:0.2cm; text-align:left; vertical-align:top; text-align:left; padding-top:0.1cm; padding-bottom:0.1cm; border-top:1px solid;\">Observations</td>\n",
       "<td style=\" padding:0.2cm; text-align:left; vertical-align:top; padding-top:0.1cm; padding-bottom:0.1cm; text-align:left; border-top:1px solid;\" colspan=\"3\">454</td>\n",
       "</tr>\n",
       "<tr>\n",
       "<td style=\" padding:0.2cm; text-align:left; vertical-align:top; text-align:left; padding-top:0.1cm; padding-bottom:0.1cm;\">Marginal R<sup>2</sup> / Conditional R<sup>2</sup></td>\n",
       "<td style=\" padding:0.2cm; text-align:left; vertical-align:top; padding-top:0.1cm; padding-bottom:0.1cm; text-align:left;\" colspan=\"3\">0.486 / 0.777</td>\n",
       "</tr>\n",
       "\n",
       "</table>\n"
      ]
     }
    },
    {
     "output_type": "display_data",
     "metadata": {},
     "data": {
      "text/html": [
       "<table style=\"border-collapse:collapse; border:none;\">\n",
       "<tr>\n",
       "<th style=\"border-top: double; text-align:center; font-style:normal; font-weight:bold; padding:0.2cm;  text-align:left; \">&nbsp;</th>\n",
       "<th colspan=\"3\" style=\"border-top: double; text-align:center; font-style:normal; font-weight:bold; padding:0.2cm; \">oq 45 scored</th>\n",
       "</tr>\n",
       "<tr>\n",
       "<td style=\" text-align:center; border-bottom:1px solid; font-style:italic; font-weight:normal;  text-align:left; \">Predictors</td>\n",
       "<td style=\" text-align:center; border-bottom:1px solid; font-style:italic; font-weight:normal;  \">Estimates</td>\n",
       "<td style=\" text-align:center; border-bottom:1px solid; font-style:italic; font-weight:normal;  \">CI</td>\n",
       "<td style=\" text-align:center; border-bottom:1px solid; font-style:italic; font-weight:normal;  \">p</td>\n",
       "</tr>\n",
       "<tr>\n",
       "<td style=\" padding:0.2cm; text-align:left; vertical-align:top; text-align:left; \">edu c</td>\n",
       "<td style=\" padding:0.2cm; text-align:left; vertical-align:top; text-align:center;  \">&#45;1.13</td>\n",
       "<td style=\" padding:0.2cm; text-align:left; vertical-align:top; text-align:center;  \">&#45;3.46&nbsp;&ndash;&nbsp;1.20</td>\n",
       "<td style=\" padding:0.2cm; text-align:left; vertical-align:top; text-align:center;  \">0.342</td>\n",
       "</tr>\n",
       "\n",
       "<tr>\n",
       "<td style=\" padding:0.2cm; text-align:left; vertical-align:top; text-align:left; padding-top:0.1cm; padding-bottom:0.1cm;\">N <sub>study_id</sub></td>\n",
       "<td style=\" padding:0.2cm; text-align:left; vertical-align:top; padding-top:0.1cm; padding-bottom:0.1cm; text-align:left;\" colspan=\"3\">168</td>\n",
       "<tr>\n",
       "<td style=\" padding:0.2cm; text-align:left; vertical-align:top; text-align:left; padding-top:0.1cm; padding-bottom:0.1cm; border-top:1px solid;\">Observations</td>\n",
       "<td style=\" padding:0.2cm; text-align:left; vertical-align:top; padding-top:0.1cm; padding-bottom:0.1cm; text-align:left; border-top:1px solid;\" colspan=\"3\">436</td>\n",
       "</tr>\n",
       "<tr>\n",
       "<td style=\" padding:0.2cm; text-align:left; vertical-align:top; text-align:left; padding-top:0.1cm; padding-bottom:0.1cm;\">Marginal R<sup>2</sup> / Conditional R<sup>2</sup></td>\n",
       "<td style=\" padding:0.2cm; text-align:left; vertical-align:top; padding-top:0.1cm; padding-bottom:0.1cm; text-align:left;\" colspan=\"3\">0.439 / 0.803</td>\n",
       "</tr>\n",
       "\n",
       "</table>\n"
      ]
     }
    }
   ],
   "source": [
    "lmer(oq45_scored ~ time_c*arm_c + oq45_0 + edu_c + (1 + time_c | study_id), \n",
    "     data = subset(data, dyad == \"Partner\")) |> \n",
    "  sjPlot::tab_model(show.re.var = F, show.icc = F, terms = c(\"edu_c\"))"
   ],
   "id": "67e19268-a8b9-4aa8-b047-6073ad93106a"
  },
  {
   "cell_type": "markdown",
   "metadata": {},
   "source": [
    "`meetings_yn` - not significant"
   ],
   "id": "5a037f5c-afc7-4011-bbd1-d297c3987ac3"
  },
  {
   "cell_type": "code",
   "execution_count": null,
   "metadata": {},
   "outputs": [
    {
     "output_type": "display_data",
     "metadata": {},
     "data": {
      "text/html": [
       "<table style=\"border-collapse:collapse; border:none;\">\n",
       "<tr>\n",
       "<th style=\"border-top: double; text-align:center; font-style:normal; font-weight:bold; padding:0.2cm;  text-align:left; \">&nbsp;</th>\n",
       "<th colspan=\"3\" style=\"border-top: double; text-align:center; font-style:normal; font-weight:bold; padding:0.2cm; \">oq 45 scored</th>\n",
       "</tr>\n",
       "<tr>\n",
       "<td style=\" text-align:center; border-bottom:1px solid; font-style:italic; font-weight:normal;  text-align:left; \">Predictors</td>\n",
       "<td style=\" text-align:center; border-bottom:1px solid; font-style:italic; font-weight:normal;  \">Estimates</td>\n",
       "<td style=\" text-align:center; border-bottom:1px solid; font-style:italic; font-weight:normal;  \">CI</td>\n",
       "<td style=\" text-align:center; border-bottom:1px solid; font-style:italic; font-weight:normal;  \">p</td>\n",
       "</tr>\n",
       "<tr>\n",
       "<td style=\" padding:0.2cm; text-align:left; vertical-align:top; text-align:left; \">meetings yn [Yes]</td>\n",
       "<td style=\" padding:0.2cm; text-align:left; vertical-align:top; text-align:center;  \">0.21</td>\n",
       "<td style=\" padding:0.2cm; text-align:left; vertical-align:top; text-align:center;  \">&#45;4.81&nbsp;&ndash;&nbsp;5.23</td>\n",
       "<td style=\" padding:0.2cm; text-align:left; vertical-align:top; text-align:center;  \">0.936</td>\n",
       "</tr>\n",
       "\n",
       "<tr>\n",
       "<td style=\" padding:0.2cm; text-align:left; vertical-align:top; text-align:left; padding-top:0.1cm; padding-bottom:0.1cm;\">N <sub>study_id</sub></td>\n",
       "<td style=\" padding:0.2cm; text-align:left; vertical-align:top; padding-top:0.1cm; padding-bottom:0.1cm; text-align:left;\" colspan=\"3\">170</td>\n",
       "<tr>\n",
       "<td style=\" padding:0.2cm; text-align:left; vertical-align:top; text-align:left; padding-top:0.1cm; padding-bottom:0.1cm; border-top:1px solid;\">Observations</td>\n",
       "<td style=\" padding:0.2cm; text-align:left; vertical-align:top; padding-top:0.1cm; padding-bottom:0.1cm; text-align:left; border-top:1px solid;\" colspan=\"3\">454</td>\n",
       "</tr>\n",
       "<tr>\n",
       "<td style=\" padding:0.2cm; text-align:left; vertical-align:top; text-align:left; padding-top:0.1cm; padding-bottom:0.1cm;\">Marginal R<sup>2</sup> / Conditional R<sup>2</sup></td>\n",
       "<td style=\" padding:0.2cm; text-align:left; vertical-align:top; padding-top:0.1cm; padding-bottom:0.1cm; text-align:left;\" colspan=\"3\">0.474 / 0.775</td>\n",
       "</tr>\n",
       "\n",
       "</table>\n"
      ]
     }
    },
    {
     "output_type": "display_data",
     "metadata": {},
     "data": {
      "text/html": [
       "<table style=\"border-collapse:collapse; border:none;\">\n",
       "<tr>\n",
       "<th style=\"border-top: double; text-align:center; font-style:normal; font-weight:bold; padding:0.2cm;  text-align:left; \">&nbsp;</th>\n",
       "<th colspan=\"3\" style=\"border-top: double; text-align:center; font-style:normal; font-weight:bold; padding:0.2cm; \">oq 45 scored</th>\n",
       "</tr>\n",
       "<tr>\n",
       "<td style=\" text-align:center; border-bottom:1px solid; font-style:italic; font-weight:normal;  text-align:left; \">Predictors</td>\n",
       "<td style=\" text-align:center; border-bottom:1px solid; font-style:italic; font-weight:normal;  \">Estimates</td>\n",
       "<td style=\" text-align:center; border-bottom:1px solid; font-style:italic; font-weight:normal;  \">CI</td>\n",
       "<td style=\" text-align:center; border-bottom:1px solid; font-style:italic; font-weight:normal;  \">p</td>\n",
       "</tr>\n",
       "<tr>\n",
       "<td style=\" padding:0.2cm; text-align:left; vertical-align:top; text-align:left; \">meetings yn [Yes]</td>\n",
       "<td style=\" padding:0.2cm; text-align:left; vertical-align:top; text-align:center;  \">&#45;0.69</td>\n",
       "<td style=\" padding:0.2cm; text-align:left; vertical-align:top; text-align:center;  \">&#45;5.12&nbsp;&ndash;&nbsp;3.75</td>\n",
       "<td style=\" padding:0.2cm; text-align:left; vertical-align:top; text-align:center;  \">0.761</td>\n",
       "</tr>\n",
       "\n",
       "<tr>\n",
       "<td style=\" padding:0.2cm; text-align:left; vertical-align:top; text-align:left; padding-top:0.1cm; padding-bottom:0.1cm;\">N <sub>study_id</sub></td>\n",
       "<td style=\" padding:0.2cm; text-align:left; vertical-align:top; padding-top:0.1cm; padding-bottom:0.1cm; text-align:left;\" colspan=\"3\">167</td>\n",
       "<tr>\n",
       "<td style=\" padding:0.2cm; text-align:left; vertical-align:top; text-align:left; padding-top:0.1cm; padding-bottom:0.1cm; border-top:1px solid;\">Observations</td>\n",
       "<td style=\" padding:0.2cm; text-align:left; vertical-align:top; padding-top:0.1cm; padding-bottom:0.1cm; text-align:left; border-top:1px solid;\" colspan=\"3\">435</td>\n",
       "</tr>\n",
       "<tr>\n",
       "<td style=\" padding:0.2cm; text-align:left; vertical-align:top; text-align:left; padding-top:0.1cm; padding-bottom:0.1cm;\">Marginal R<sup>2</sup> / Conditional R<sup>2</sup></td>\n",
       "<td style=\" padding:0.2cm; text-align:left; vertical-align:top; padding-top:0.1cm; padding-bottom:0.1cm; text-align:left;\" colspan=\"3\">0.436 / 0.800</td>\n",
       "</tr>\n",
       "\n",
       "</table>\n"
      ]
     }
    }
   ],
   "source": [
    "lmer(oq45_scored ~ time_c*arm_c + oq45_0 + meetings_yn + \n",
    "       (1 + time_c | study_id), data = subset(data, dyad == \"Partner\")) |> \n",
    "  sjPlot::tab_model(show.re.var = F, show.icc = F, terms = c(\"meetings_ynYes\"))"
   ],
   "id": "8666740f-5cee-47e3-b7c4-0dca509503b8"
  },
  {
   "cell_type": "markdown",
   "metadata": {},
   "source": [
    "`outpatient_yn_ever` - **significant for partner** Not significant for patient"
   ],
   "id": "626ace50-950c-419d-aeec-44930d30f033"
  },
  {
   "cell_type": "code",
   "execution_count": null,
   "metadata": {},
   "outputs": [
    {
     "output_type": "display_data",
     "metadata": {},
     "data": {
      "text/html": [
       "<table style=\"border-collapse:collapse; border:none;\">\n",
       "<tr>\n",
       "<th style=\"border-top: double; text-align:center; font-style:normal; font-weight:bold; padding:0.2cm;  text-align:left; \">&nbsp;</th>\n",
       "<th colspan=\"3\" style=\"border-top: double; text-align:center; font-style:normal; font-weight:bold; padding:0.2cm; \">oq 45 scored</th>\n",
       "</tr>\n",
       "<tr>\n",
       "<td style=\" text-align:center; border-bottom:1px solid; font-style:italic; font-weight:normal;  text-align:left; \">Predictors</td>\n",
       "<td style=\" text-align:center; border-bottom:1px solid; font-style:italic; font-weight:normal;  \">Estimates</td>\n",
       "<td style=\" text-align:center; border-bottom:1px solid; font-style:italic; font-weight:normal;  \">CI</td>\n",
       "<td style=\" text-align:center; border-bottom:1px solid; font-style:italic; font-weight:normal;  \">p</td>\n",
       "</tr>\n",
       "<tr>\n",
       "<td style=\" padding:0.2cm; text-align:left; vertical-align:top; text-align:left; \">outpatient yn ever [Yes]</td>\n",
       "<td style=\" padding:0.2cm; text-align:left; vertical-align:top; text-align:center;  \">9.99</td>\n",
       "<td style=\" padding:0.2cm; text-align:left; vertical-align:top; text-align:center;  \">0.57&nbsp;&ndash;&nbsp;19.41</td>\n",
       "<td style=\" padding:0.2cm; text-align:left; vertical-align:top; text-align:center;  \"><strong>0.038</strong></td>\n",
       "</tr>\n",
       "\n",
       "<tr>\n",
       "<td style=\" padding:0.2cm; text-align:left; vertical-align:top; text-align:left; padding-top:0.1cm; padding-bottom:0.1cm;\">N <sub>study_id</sub></td>\n",
       "<td style=\" padding:0.2cm; text-align:left; vertical-align:top; padding-top:0.1cm; padding-bottom:0.1cm; text-align:left;\" colspan=\"3\">170</td>\n",
       "<tr>\n",
       "<td style=\" padding:0.2cm; text-align:left; vertical-align:top; text-align:left; padding-top:0.1cm; padding-bottom:0.1cm; border-top:1px solid;\">Observations</td>\n",
       "<td style=\" padding:0.2cm; text-align:left; vertical-align:top; padding-top:0.1cm; padding-bottom:0.1cm; text-align:left; border-top:1px solid;\" colspan=\"3\">454</td>\n",
       "</tr>\n",
       "<tr>\n",
       "<td style=\" padding:0.2cm; text-align:left; vertical-align:top; text-align:left; padding-top:0.1cm; padding-bottom:0.1cm;\">Marginal R<sup>2</sup> / Conditional R<sup>2</sup></td>\n",
       "<td style=\" padding:0.2cm; text-align:left; vertical-align:top; padding-top:0.1cm; padding-bottom:0.1cm; text-align:left;\" colspan=\"3\">0.482 / 0.776</td>\n",
       "</tr>\n",
       "\n",
       "</table>\n"
      ]
     }
    },
    {
     "output_type": "display_data",
     "metadata": {},
     "data": {
      "text/html": [
       "<table style=\"border-collapse:collapse; border:none;\">\n",
       "<tr>\n",
       "<th style=\"border-top: double; text-align:center; font-style:normal; font-weight:bold; padding:0.2cm;  text-align:left; \">&nbsp;</th>\n",
       "<th colspan=\"3\" style=\"border-top: double; text-align:center; font-style:normal; font-weight:bold; padding:0.2cm; \">oq 45 scored</th>\n",
       "</tr>\n",
       "<tr>\n",
       "<td style=\" text-align:center; border-bottom:1px solid; font-style:italic; font-weight:normal;  text-align:left; \">Predictors</td>\n",
       "<td style=\" text-align:center; border-bottom:1px solid; font-style:italic; font-weight:normal;  \">Estimates</td>\n",
       "<td style=\" text-align:center; border-bottom:1px solid; font-style:italic; font-weight:normal;  \">CI</td>\n",
       "<td style=\" text-align:center; border-bottom:1px solid; font-style:italic; font-weight:normal;  \">p</td>\n",
       "</tr>\n",
       "<tr>\n",
       "<td style=\" padding:0.2cm; text-align:left; vertical-align:top; text-align:left; \">outpatient yn ever [Yes]</td>\n",
       "<td style=\" padding:0.2cm; text-align:left; vertical-align:top; text-align:center;  \">1.39</td>\n",
       "<td style=\" padding:0.2cm; text-align:left; vertical-align:top; text-align:center;  \">&#45;4.13&nbsp;&ndash;&nbsp;6.91</td>\n",
       "<td style=\" padding:0.2cm; text-align:left; vertical-align:top; text-align:center;  \">0.621</td>\n",
       "</tr>\n",
       "\n",
       "<tr>\n",
       "<td style=\" padding:0.2cm; text-align:left; vertical-align:top; text-align:left; padding-top:0.1cm; padding-bottom:0.1cm;\">N <sub>study_id</sub></td>\n",
       "<td style=\" padding:0.2cm; text-align:left; vertical-align:top; padding-top:0.1cm; padding-bottom:0.1cm; text-align:left;\" colspan=\"3\">168</td>\n",
       "<tr>\n",
       "<td style=\" padding:0.2cm; text-align:left; vertical-align:top; text-align:left; padding-top:0.1cm; padding-bottom:0.1cm; border-top:1px solid;\">Observations</td>\n",
       "<td style=\" padding:0.2cm; text-align:left; vertical-align:top; padding-top:0.1cm; padding-bottom:0.1cm; text-align:left; border-top:1px solid;\" colspan=\"3\">436</td>\n",
       "</tr>\n",
       "<tr>\n",
       "<td style=\" padding:0.2cm; text-align:left; vertical-align:top; text-align:left; padding-top:0.1cm; padding-bottom:0.1cm;\">Marginal R<sup>2</sup> / Conditional R<sup>2</sup></td>\n",
       "<td style=\" padding:0.2cm; text-align:left; vertical-align:top; padding-top:0.1cm; padding-bottom:0.1cm; text-align:left;\" colspan=\"3\">0.437 / 0.803</td>\n",
       "</tr>\n",
       "\n",
       "</table>\n"
      ]
     }
    }
   ],
   "source": [
    "lmer(oq45_scored ~ time_c*arm_c + oq45_0 + outpatient_yn_ever + \n",
    "       (1 + time_c | study_id), data = subset(data, dyad == \"Partner\")) |> \n",
    "  sjPlot::tab_model(show.re.var = F, show.icc = F, \n",
    "                    terms = c(\"outpatient_yn_everYes\"))"
   ],
   "id": "d5330fea-d605-4f78-9cad-be6672b50f30"
  },
  {
   "cell_type": "markdown",
   "metadata": {},
   "source": [
    "`er_yn_ever` - Not significant"
   ],
   "id": "a5dc2240-b3ec-47ff-b3ed-b20caed7f195"
  },
  {
   "cell_type": "code",
   "execution_count": null,
   "metadata": {},
   "outputs": [
    {
     "output_type": "display_data",
     "metadata": {},
     "data": {
      "text/html": [
       "<table style=\"border-collapse:collapse; border:none;\">\n",
       "<tr>\n",
       "<th style=\"border-top: double; text-align:center; font-style:normal; font-weight:bold; padding:0.2cm;  text-align:left; \">&nbsp;</th>\n",
       "<th colspan=\"3\" style=\"border-top: double; text-align:center; font-style:normal; font-weight:bold; padding:0.2cm; \">oq 45 scored</th>\n",
       "</tr>\n",
       "<tr>\n",
       "<td style=\" text-align:center; border-bottom:1px solid; font-style:italic; font-weight:normal;  text-align:left; \">Predictors</td>\n",
       "<td style=\" text-align:center; border-bottom:1px solid; font-style:italic; font-weight:normal;  \">Estimates</td>\n",
       "<td style=\" text-align:center; border-bottom:1px solid; font-style:italic; font-weight:normal;  \">CI</td>\n",
       "<td style=\" text-align:center; border-bottom:1px solid; font-style:italic; font-weight:normal;  \">p</td>\n",
       "</tr>\n",
       "<tr>\n",
       "<td style=\" padding:0.2cm; text-align:left; vertical-align:top; text-align:left; \">er yn ever [Yes]</td>\n",
       "<td style=\" padding:0.2cm; text-align:left; vertical-align:top; text-align:center;  \">3.79</td>\n",
       "<td style=\" padding:0.2cm; text-align:left; vertical-align:top; text-align:center;  \">&#45;2.02&nbsp;&ndash;&nbsp;9.61</td>\n",
       "<td style=\" padding:0.2cm; text-align:left; vertical-align:top; text-align:center;  \">0.200</td>\n",
       "</tr>\n",
       "\n",
       "<tr>\n",
       "<td style=\" padding:0.2cm; text-align:left; vertical-align:top; text-align:left; padding-top:0.1cm; padding-bottom:0.1cm;\">N <sub>study_id</sub></td>\n",
       "<td style=\" padding:0.2cm; text-align:left; vertical-align:top; padding-top:0.1cm; padding-bottom:0.1cm; text-align:left;\" colspan=\"3\">170</td>\n",
       "<tr>\n",
       "<td style=\" padding:0.2cm; text-align:left; vertical-align:top; text-align:left; padding-top:0.1cm; padding-bottom:0.1cm; border-top:1px solid;\">Observations</td>\n",
       "<td style=\" padding:0.2cm; text-align:left; vertical-align:top; padding-top:0.1cm; padding-bottom:0.1cm; text-align:left; border-top:1px solid;\" colspan=\"3\">454</td>\n",
       "</tr>\n",
       "<tr>\n",
       "<td style=\" padding:0.2cm; text-align:left; vertical-align:top; text-align:left; padding-top:0.1cm; padding-bottom:0.1cm;\">Marginal R<sup>2</sup> / Conditional R<sup>2</sup></td>\n",
       "<td style=\" padding:0.2cm; text-align:left; vertical-align:top; padding-top:0.1cm; padding-bottom:0.1cm; text-align:left;\" colspan=\"3\">0.477 / 0.776</td>\n",
       "</tr>\n",
       "\n",
       "</table>\n"
      ]
     }
    },
    {
     "output_type": "display_data",
     "metadata": {},
     "data": {
      "text/html": [
       "<table style=\"border-collapse:collapse; border:none;\">\n",
       "<tr>\n",
       "<th style=\"border-top: double; text-align:center; font-style:normal; font-weight:bold; padding:0.2cm;  text-align:left; \">&nbsp;</th>\n",
       "<th colspan=\"3\" style=\"border-top: double; text-align:center; font-style:normal; font-weight:bold; padding:0.2cm; \">oq 45 scored</th>\n",
       "</tr>\n",
       "<tr>\n",
       "<td style=\" text-align:center; border-bottom:1px solid; font-style:italic; font-weight:normal;  text-align:left; \">Predictors</td>\n",
       "<td style=\" text-align:center; border-bottom:1px solid; font-style:italic; font-weight:normal;  \">Estimates</td>\n",
       "<td style=\" text-align:center; border-bottom:1px solid; font-style:italic; font-weight:normal;  \">CI</td>\n",
       "<td style=\" text-align:center; border-bottom:1px solid; font-style:italic; font-weight:normal;  \">p</td>\n",
       "</tr>\n",
       "<tr>\n",
       "<td style=\" padding:0.2cm; text-align:left; vertical-align:top; text-align:left; \">er yn ever [Yes]</td>\n",
       "<td style=\" padding:0.2cm; text-align:left; vertical-align:top; text-align:center;  \">3.12</td>\n",
       "<td style=\" padding:0.2cm; text-align:left; vertical-align:top; text-align:center;  \">&#45;2.71&nbsp;&ndash;&nbsp;8.95</td>\n",
       "<td style=\" padding:0.2cm; text-align:left; vertical-align:top; text-align:center;  \">0.294</td>\n",
       "</tr>\n",
       "\n",
       "<tr>\n",
       "<td style=\" padding:0.2cm; text-align:left; vertical-align:top; text-align:left; padding-top:0.1cm; padding-bottom:0.1cm;\">N <sub>study_id</sub></td>\n",
       "<td style=\" padding:0.2cm; text-align:left; vertical-align:top; padding-top:0.1cm; padding-bottom:0.1cm; text-align:left;\" colspan=\"3\">168</td>\n",
       "<tr>\n",
       "<td style=\" padding:0.2cm; text-align:left; vertical-align:top; text-align:left; padding-top:0.1cm; padding-bottom:0.1cm; border-top:1px solid;\">Observations</td>\n",
       "<td style=\" padding:0.2cm; text-align:left; vertical-align:top; padding-top:0.1cm; padding-bottom:0.1cm; text-align:left; border-top:1px solid;\" colspan=\"3\">436</td>\n",
       "</tr>\n",
       "<tr>\n",
       "<td style=\" padding:0.2cm; text-align:left; vertical-align:top; text-align:left; padding-top:0.1cm; padding-bottom:0.1cm;\">Marginal R<sup>2</sup> / Conditional R<sup>2</sup></td>\n",
       "<td style=\" padding:0.2cm; text-align:left; vertical-align:top; padding-top:0.1cm; padding-bottom:0.1cm; text-align:left;\" colspan=\"3\">0.439 / 0.804</td>\n",
       "</tr>\n",
       "\n",
       "</table>\n"
      ]
     }
    }
   ],
   "source": [
    "lmer(oq45_scored ~ time_c*arm_c + oq45_0 + er_yn_ever + \n",
    "       (1 + time_c | study_id), data = subset(data, dyad == \"Partner\")) |> \n",
    "  sjPlot::tab_model(show.re.var = F, show.icc = F, terms = c(\"er_yn_everYes\"))"
   ],
   "id": "e1ac341e-e9e7-4c77-bf5d-6975e277573f"
  },
  {
   "cell_type": "markdown",
   "metadata": {},
   "source": [
    "`mat_yn` - not significant for partner, **significant for patient**"
   ],
   "id": "7585f5fd-dc02-42d9-8abf-6f79c0b01480"
  },
  {
   "cell_type": "code",
   "execution_count": null,
   "metadata": {},
   "outputs": [
    {
     "output_type": "display_data",
     "metadata": {},
     "data": {
      "text/html": [
       "<table style=\"border-collapse:collapse; border:none;\">\n",
       "<tr>\n",
       "<th style=\"border-top: double; text-align:center; font-style:normal; font-weight:bold; padding:0.2cm;  text-align:left; \">&nbsp;</th>\n",
       "<th colspan=\"3\" style=\"border-top: double; text-align:center; font-style:normal; font-weight:bold; padding:0.2cm; \">oq 45 scored</th>\n",
       "</tr>\n",
       "<tr>\n",
       "<td style=\" text-align:center; border-bottom:1px solid; font-style:italic; font-weight:normal;  text-align:left; \">Predictors</td>\n",
       "<td style=\" text-align:center; border-bottom:1px solid; font-style:italic; font-weight:normal;  \">Estimates</td>\n",
       "<td style=\" text-align:center; border-bottom:1px solid; font-style:italic; font-weight:normal;  \">CI</td>\n",
       "<td style=\" text-align:center; border-bottom:1px solid; font-style:italic; font-weight:normal;  \">p</td>\n",
       "</tr>\n",
       "<tr>\n",
       "<td style=\" padding:0.2cm; text-align:left; vertical-align:top; text-align:left; \">mat yn [Yes]</td>\n",
       "<td style=\" padding:0.2cm; text-align:left; vertical-align:top; text-align:center;  \">9.22</td>\n",
       "<td style=\" padding:0.2cm; text-align:left; vertical-align:top; text-align:center;  \">&#45;0.20&nbsp;&ndash;&nbsp;18.63</td>\n",
       "<td style=\" padding:0.2cm; text-align:left; vertical-align:top; text-align:center;  \">0.055</td>\n",
       "</tr>\n",
       "\n",
       "<tr>\n",
       "<td style=\" padding:0.2cm; text-align:left; vertical-align:top; text-align:left; padding-top:0.1cm; padding-bottom:0.1cm;\">N <sub>study_id</sub></td>\n",
       "<td style=\" padding:0.2cm; text-align:left; vertical-align:top; padding-top:0.1cm; padding-bottom:0.1cm; text-align:left;\" colspan=\"3\">170</td>\n",
       "<tr>\n",
       "<td style=\" padding:0.2cm; text-align:left; vertical-align:top; text-align:left; padding-top:0.1cm; padding-bottom:0.1cm; border-top:1px solid;\">Observations</td>\n",
       "<td style=\" padding:0.2cm; text-align:left; vertical-align:top; padding-top:0.1cm; padding-bottom:0.1cm; text-align:left; border-top:1px solid;\" colspan=\"3\">454</td>\n",
       "</tr>\n",
       "<tr>\n",
       "<td style=\" padding:0.2cm; text-align:left; vertical-align:top; text-align:left; padding-top:0.1cm; padding-bottom:0.1cm;\">Marginal R<sup>2</sup> / Conditional R<sup>2</sup></td>\n",
       "<td style=\" padding:0.2cm; text-align:left; vertical-align:top; padding-top:0.1cm; padding-bottom:0.1cm; text-align:left;\" colspan=\"3\">0.479 / 0.778</td>\n",
       "</tr>\n",
       "\n",
       "</table>\n"
      ]
     }
    },
    {
     "output_type": "display_data",
     "metadata": {},
     "data": {
      "text/html": [
       "<table style=\"border-collapse:collapse; border:none;\">\n",
       "<tr>\n",
       "<th style=\"border-top: double; text-align:center; font-style:normal; font-weight:bold; padding:0.2cm;  text-align:left; \">&nbsp;</th>\n",
       "<th colspan=\"3\" style=\"border-top: double; text-align:center; font-style:normal; font-weight:bold; padding:0.2cm; \">oq 45 scored</th>\n",
       "</tr>\n",
       "<tr>\n",
       "<td style=\" text-align:center; border-bottom:1px solid; font-style:italic; font-weight:normal;  text-align:left; \">Predictors</td>\n",
       "<td style=\" text-align:center; border-bottom:1px solid; font-style:italic; font-weight:normal;  \">Estimates</td>\n",
       "<td style=\" text-align:center; border-bottom:1px solid; font-style:italic; font-weight:normal;  \">CI</td>\n",
       "<td style=\" text-align:center; border-bottom:1px solid; font-style:italic; font-weight:normal;  \">p</td>\n",
       "</tr>\n",
       "<tr>\n",
       "<td style=\" padding:0.2cm; text-align:left; vertical-align:top; text-align:left; \">mat yn [Yes]</td>\n",
       "<td style=\" padding:0.2cm; text-align:left; vertical-align:top; text-align:center;  \">6.86</td>\n",
       "<td style=\" padding:0.2cm; text-align:left; vertical-align:top; text-align:center;  \">2.05&nbsp;&ndash;&nbsp;11.68</td>\n",
       "<td style=\" padding:0.2cm; text-align:left; vertical-align:top; text-align:center;  \"><strong>0.005</strong></td>\n",
       "</tr>\n",
       "\n",
       "<tr>\n",
       "<td style=\" padding:0.2cm; text-align:left; vertical-align:top; text-align:left; padding-top:0.1cm; padding-bottom:0.1cm;\">N <sub>study_id</sub></td>\n",
       "<td style=\" padding:0.2cm; text-align:left; vertical-align:top; padding-top:0.1cm; padding-bottom:0.1cm; text-align:left;\" colspan=\"3\">167</td>\n",
       "<tr>\n",
       "<td style=\" padding:0.2cm; text-align:left; vertical-align:top; text-align:left; padding-top:0.1cm; padding-bottom:0.1cm; border-top:1px solid;\">Observations</td>\n",
       "<td style=\" padding:0.2cm; text-align:left; vertical-align:top; padding-top:0.1cm; padding-bottom:0.1cm; text-align:left; border-top:1px solid;\" colspan=\"3\">432</td>\n",
       "</tr>\n",
       "<tr>\n",
       "<td style=\" padding:0.2cm; text-align:left; vertical-align:top; text-align:left; padding-top:0.1cm; padding-bottom:0.1cm;\">Marginal R<sup>2</sup> / Conditional R<sup>2</sup></td>\n",
       "<td style=\" padding:0.2cm; text-align:left; vertical-align:top; padding-top:0.1cm; padding-bottom:0.1cm; text-align:left;\" colspan=\"3\">0.445 / 0.808</td>\n",
       "</tr>\n",
       "\n",
       "</table>\n"
      ]
     }
    }
   ],
   "source": [
    "lmer(oq45_scored ~ time_c*arm_c + oq45_0 + mat_yn + (1 + time_c | study_id), \n",
    "     data = subset(data, dyad == \"Partner\")) |> \n",
    "  sjPlot::tab_model(show.re.var = F, show.icc = F, terms = c(\"mat_ynYes\"))"
   ],
   "id": "c1b8422c-6e93-49fc-bce7-2969b8b05343"
  },
  {
   "cell_type": "markdown",
   "metadata": {},
   "source": [
    "`inpatient_yn_ever` - not significant"
   ],
   "id": "3ec5fc66-7389-4d99-8649-c1703820d4e2"
  },
  {
   "cell_type": "code",
   "execution_count": null,
   "metadata": {},
   "outputs": [
    {
     "output_type": "display_data",
     "metadata": {},
     "data": {
      "text/html": [
       "<table style=\"border-collapse:collapse; border:none;\">\n",
       "<tr>\n",
       "<th style=\"border-top: double; text-align:center; font-style:normal; font-weight:bold; padding:0.2cm;  text-align:left; \">&nbsp;</th>\n",
       "<th colspan=\"3\" style=\"border-top: double; text-align:center; font-style:normal; font-weight:bold; padding:0.2cm; \">oq 45 scored</th>\n",
       "</tr>\n",
       "<tr>\n",
       "<td style=\" text-align:center; border-bottom:1px solid; font-style:italic; font-weight:normal;  text-align:left; \">Predictors</td>\n",
       "<td style=\" text-align:center; border-bottom:1px solid; font-style:italic; font-weight:normal;  \">Estimates</td>\n",
       "<td style=\" text-align:center; border-bottom:1px solid; font-style:italic; font-weight:normal;  \">CI</td>\n",
       "<td style=\" text-align:center; border-bottom:1px solid; font-style:italic; font-weight:normal;  \">p</td>\n",
       "</tr>\n",
       "<tr>\n",
       "<td style=\" padding:0.2cm; text-align:left; vertical-align:top; text-align:left; \">inpatient yn ever [Yes]</td>\n",
       "<td style=\" padding:0.2cm; text-align:left; vertical-align:top; text-align:center;  \">11.49</td>\n",
       "<td style=\" padding:0.2cm; text-align:left; vertical-align:top; text-align:center;  \">&#45;3.59&nbsp;&ndash;&nbsp;26.57</td>\n",
       "<td style=\" padding:0.2cm; text-align:left; vertical-align:top; text-align:center;  \">0.135</td>\n",
       "</tr>\n",
       "\n",
       "<tr>\n",
       "<td style=\" padding:0.2cm; text-align:left; vertical-align:top; text-align:left; padding-top:0.1cm; padding-bottom:0.1cm;\">N <sub>study_id</sub></td>\n",
       "<td style=\" padding:0.2cm; text-align:left; vertical-align:top; padding-top:0.1cm; padding-bottom:0.1cm; text-align:left;\" colspan=\"3\">170</td>\n",
       "<tr>\n",
       "<td style=\" padding:0.2cm; text-align:left; vertical-align:top; text-align:left; padding-top:0.1cm; padding-bottom:0.1cm; border-top:1px solid;\">Observations</td>\n",
       "<td style=\" padding:0.2cm; text-align:left; vertical-align:top; padding-top:0.1cm; padding-bottom:0.1cm; text-align:left; border-top:1px solid;\" colspan=\"3\">454</td>\n",
       "</tr>\n",
       "<tr>\n",
       "<td style=\" padding:0.2cm; text-align:left; vertical-align:top; text-align:left; padding-top:0.1cm; padding-bottom:0.1cm;\">Marginal R<sup>2</sup> / Conditional R<sup>2</sup></td>\n",
       "<td style=\" padding:0.2cm; text-align:left; vertical-align:top; padding-top:0.1cm; padding-bottom:0.1cm; text-align:left;\" colspan=\"3\">0.478 / 0.776</td>\n",
       "</tr>\n",
       "\n",
       "</table>\n"
      ]
     }
    },
    {
     "output_type": "display_data",
     "metadata": {},
     "data": {
      "text/html": [
       "<table style=\"border-collapse:collapse; border:none;\">\n",
       "<tr>\n",
       "<th style=\"border-top: double; text-align:center; font-style:normal; font-weight:bold; padding:0.2cm;  text-align:left; \">&nbsp;</th>\n",
       "<th colspan=\"3\" style=\"border-top: double; text-align:center; font-style:normal; font-weight:bold; padding:0.2cm; \">oq 45 scored</th>\n",
       "</tr>\n",
       "<tr>\n",
       "<td style=\" text-align:center; border-bottom:1px solid; font-style:italic; font-weight:normal;  text-align:left; \">Predictors</td>\n",
       "<td style=\" text-align:center; border-bottom:1px solid; font-style:italic; font-weight:normal;  \">Estimates</td>\n",
       "<td style=\" text-align:center; border-bottom:1px solid; font-style:italic; font-weight:normal;  \">CI</td>\n",
       "<td style=\" text-align:center; border-bottom:1px solid; font-style:italic; font-weight:normal;  \">p</td>\n",
       "</tr>\n",
       "<tr>\n",
       "<td style=\" padding:0.2cm; text-align:left; vertical-align:top; text-align:left; \">inpatient yn ever [Yes]</td>\n",
       "<td style=\" padding:0.2cm; text-align:left; vertical-align:top; text-align:center;  \">3.73</td>\n",
       "<td style=\" padding:0.2cm; text-align:left; vertical-align:top; text-align:center;  \">&#45;2.93&nbsp;&ndash;&nbsp;10.39</td>\n",
       "<td style=\" padding:0.2cm; text-align:left; vertical-align:top; text-align:center;  \">0.272</td>\n",
       "</tr>\n",
       "\n",
       "<tr>\n",
       "<td style=\" padding:0.2cm; text-align:left; vertical-align:top; text-align:left; padding-top:0.1cm; padding-bottom:0.1cm;\">N <sub>study_id</sub></td>\n",
       "<td style=\" padding:0.2cm; text-align:left; vertical-align:top; padding-top:0.1cm; padding-bottom:0.1cm; text-align:left;\" colspan=\"3\">168</td>\n",
       "<tr>\n",
       "<td style=\" padding:0.2cm; text-align:left; vertical-align:top; text-align:left; padding-top:0.1cm; padding-bottom:0.1cm; border-top:1px solid;\">Observations</td>\n",
       "<td style=\" padding:0.2cm; text-align:left; vertical-align:top; padding-top:0.1cm; padding-bottom:0.1cm; text-align:left; border-top:1px solid;\" colspan=\"3\">436</td>\n",
       "</tr>\n",
       "<tr>\n",
       "<td style=\" padding:0.2cm; text-align:left; vertical-align:top; text-align:left; padding-top:0.1cm; padding-bottom:0.1cm;\">Marginal R<sup>2</sup> / Conditional R<sup>2</sup></td>\n",
       "<td style=\" padding:0.2cm; text-align:left; vertical-align:top; padding-top:0.1cm; padding-bottom:0.1cm; text-align:left;\" colspan=\"3\">0.438 / 0.803</td>\n",
       "</tr>\n",
       "\n",
       "</table>\n"
      ]
     }
    }
   ],
   "source": [
    "lmer(oq45_scored ~ time_c*arm_c + oq45_0 + inpatient_yn_ever + \n",
    "       (1 + time_c | study_id), data = subset(data, dyad == \"Partner\")) |> \n",
    "  sjPlot::tab_model(show.re.var = F, show.icc = F, \n",
    "                    terms = c(\"inpatient_yn_everYes\"))"
   ],
   "id": "6c035b5c-7711-4aa9-b078-7581902f9214"
  },
  {
   "cell_type": "markdown",
   "metadata": {},
   "source": [
    "`other_psych_treatment_yn` - **significant for partner** not significant for patient"
   ],
   "id": "47850d66-665a-4d7a-a643-655c9fb4c75f"
  },
  {
   "cell_type": "code",
   "execution_count": null,
   "metadata": {},
   "outputs": [
    {
     "output_type": "display_data",
     "metadata": {},
     "data": {
      "text/html": [
       "<table style=\"border-collapse:collapse; border:none;\">\n",
       "<tr>\n",
       "<th style=\"border-top: double; text-align:center; font-style:normal; font-weight:bold; padding:0.2cm;  text-align:left; \">&nbsp;</th>\n",
       "<th colspan=\"3\" style=\"border-top: double; text-align:center; font-style:normal; font-weight:bold; padding:0.2cm; \">oq 45 scored</th>\n",
       "</tr>\n",
       "<tr>\n",
       "<td style=\" text-align:center; border-bottom:1px solid; font-style:italic; font-weight:normal;  text-align:left; \">Predictors</td>\n",
       "<td style=\" text-align:center; border-bottom:1px solid; font-style:italic; font-weight:normal;  \">Estimates</td>\n",
       "<td style=\" text-align:center; border-bottom:1px solid; font-style:italic; font-weight:normal;  \">CI</td>\n",
       "<td style=\" text-align:center; border-bottom:1px solid; font-style:italic; font-weight:normal;  \">p</td>\n",
       "</tr>\n",
       "<tr>\n",
       "<td style=\" padding:0.2cm; text-align:left; vertical-align:top; text-align:left; \">other psych treatment yn<br>[Yes]</td>\n",
       "<td style=\" padding:0.2cm; text-align:left; vertical-align:top; text-align:center;  \">5.33</td>\n",
       "<td style=\" padding:0.2cm; text-align:left; vertical-align:top; text-align:center;  \">0.23&nbsp;&ndash;&nbsp;10.43</td>\n",
       "<td style=\" padding:0.2cm; text-align:left; vertical-align:top; text-align:center;  \"><strong>0.041</strong></td>\n",
       "</tr>\n",
       "\n",
       "<tr>\n",
       "<td style=\" padding:0.2cm; text-align:left; vertical-align:top; text-align:left; padding-top:0.1cm; padding-bottom:0.1cm;\">N <sub>study_id</sub></td>\n",
       "<td style=\" padding:0.2cm; text-align:left; vertical-align:top; padding-top:0.1cm; padding-bottom:0.1cm; text-align:left;\" colspan=\"3\">170</td>\n",
       "<tr>\n",
       "<td style=\" padding:0.2cm; text-align:left; vertical-align:top; text-align:left; padding-top:0.1cm; padding-bottom:0.1cm; border-top:1px solid;\">Observations</td>\n",
       "<td style=\" padding:0.2cm; text-align:left; vertical-align:top; padding-top:0.1cm; padding-bottom:0.1cm; text-align:left; border-top:1px solid;\" colspan=\"3\">454</td>\n",
       "</tr>\n",
       "<tr>\n",
       "<td style=\" padding:0.2cm; text-align:left; vertical-align:top; text-align:left; padding-top:0.1cm; padding-bottom:0.1cm;\">Marginal R<sup>2</sup> / Conditional R<sup>2</sup></td>\n",
       "<td style=\" padding:0.2cm; text-align:left; vertical-align:top; padding-top:0.1cm; padding-bottom:0.1cm; text-align:left;\" colspan=\"3\">0.481 / 0.770</td>\n",
       "</tr>\n",
       "\n",
       "</table>\n"
      ]
     }
    },
    {
     "output_type": "display_data",
     "metadata": {},
     "data": {
      "text/html": [
       "<table style=\"border-collapse:collapse; border:none;\">\n",
       "<tr>\n",
       "<th style=\"border-top: double; text-align:center; font-style:normal; font-weight:bold; padding:0.2cm;  text-align:left; \">&nbsp;</th>\n",
       "<th colspan=\"3\" style=\"border-top: double; text-align:center; font-style:normal; font-weight:bold; padding:0.2cm; \">oq 45 scored</th>\n",
       "</tr>\n",
       "<tr>\n",
       "<td style=\" text-align:center; border-bottom:1px solid; font-style:italic; font-weight:normal;  text-align:left; \">Predictors</td>\n",
       "<td style=\" text-align:center; border-bottom:1px solid; font-style:italic; font-weight:normal;  \">Estimates</td>\n",
       "<td style=\" text-align:center; border-bottom:1px solid; font-style:italic; font-weight:normal;  \">CI</td>\n",
       "<td style=\" text-align:center; border-bottom:1px solid; font-style:italic; font-weight:normal;  \">p</td>\n",
       "</tr>\n",
       "<tr>\n",
       "<td style=\" padding:0.2cm; text-align:left; vertical-align:top; text-align:left; \">other psych treatment yn<br>[Yes]</td>\n",
       "<td style=\" padding:0.2cm; text-align:left; vertical-align:top; text-align:center;  \">&#45;0.61</td>\n",
       "<td style=\" padding:0.2cm; text-align:left; vertical-align:top; text-align:center;  \">&#45;4.72&nbsp;&ndash;&nbsp;3.51</td>\n",
       "<td style=\" padding:0.2cm; text-align:left; vertical-align:top; text-align:center;  \">0.772</td>\n",
       "</tr>\n",
       "\n",
       "<tr>\n",
       "<td style=\" padding:0.2cm; text-align:left; vertical-align:top; text-align:left; padding-top:0.1cm; padding-bottom:0.1cm;\">N <sub>study_id</sub></td>\n",
       "<td style=\" padding:0.2cm; text-align:left; vertical-align:top; padding-top:0.1cm; padding-bottom:0.1cm; text-align:left;\" colspan=\"3\">167</td>\n",
       "<tr>\n",
       "<td style=\" padding:0.2cm; text-align:left; vertical-align:top; text-align:left; padding-top:0.1cm; padding-bottom:0.1cm; border-top:1px solid;\">Observations</td>\n",
       "<td style=\" padding:0.2cm; text-align:left; vertical-align:top; padding-top:0.1cm; padding-bottom:0.1cm; text-align:left; border-top:1px solid;\" colspan=\"3\">435</td>\n",
       "</tr>\n",
       "<tr>\n",
       "<td style=\" padding:0.2cm; text-align:left; vertical-align:top; text-align:left; padding-top:0.1cm; padding-bottom:0.1cm;\">Marginal R<sup>2</sup> / Conditional R<sup>2</sup></td>\n",
       "<td style=\" padding:0.2cm; text-align:left; vertical-align:top; padding-top:0.1cm; padding-bottom:0.1cm; text-align:left;\" colspan=\"3\">0.435 / 0.802</td>\n",
       "</tr>\n",
       "\n",
       "</table>\n"
      ]
     }
    }
   ],
   "source": [
    "lmer(oq45_scored ~ time_c*arm_c + oq45_0 + other_psych_treatment_yn + \n",
    "       (1 + time_c | study_id), data = subset(data, dyad == \"Partner\")) |> \n",
    "  sjPlot::tab_model(show.re.var = F, show.icc = F, \n",
    "                    terms = c(\"other_psych_treatment_ynYes\"))"
   ],
   "id": "db03896d-5ebc-4aa6-b954-2a35ce133ba1"
  },
  {
   "cell_type": "markdown",
   "metadata": {},
   "source": [
    "`other_medications_yn` - **significant for partner** not significant for patient"
   ],
   "id": "d421277f-0e35-4a04-9578-82e6ac727349"
  },
  {
   "cell_type": "code",
   "execution_count": null,
   "metadata": {},
   "outputs": [
    {
     "output_type": "display_data",
     "metadata": {},
     "data": {
      "text/html": [
       "<table style=\"border-collapse:collapse; border:none;\">\n",
       "<tr>\n",
       "<th style=\"border-top: double; text-align:center; font-style:normal; font-weight:bold; padding:0.2cm;  text-align:left; \">&nbsp;</th>\n",
       "<th colspan=\"3\" style=\"border-top: double; text-align:center; font-style:normal; font-weight:bold; padding:0.2cm; \">oq 45 scored</th>\n",
       "</tr>\n",
       "<tr>\n",
       "<td style=\" text-align:center; border-bottom:1px solid; font-style:italic; font-weight:normal;  text-align:left; \">Predictors</td>\n",
       "<td style=\" text-align:center; border-bottom:1px solid; font-style:italic; font-weight:normal;  \">Estimates</td>\n",
       "<td style=\" text-align:center; border-bottom:1px solid; font-style:italic; font-weight:normal;  \">CI</td>\n",
       "<td style=\" text-align:center; border-bottom:1px solid; font-style:italic; font-weight:normal;  \">p</td>\n",
       "</tr>\n",
       "<tr>\n",
       "<td style=\" padding:0.2cm; text-align:left; vertical-align:top; text-align:left; \">other medications yn<br>[Yes]</td>\n",
       "<td style=\" padding:0.2cm; text-align:left; vertical-align:top; text-align:center;  \">6.02</td>\n",
       "<td style=\" padding:0.2cm; text-align:left; vertical-align:top; text-align:center;  \">1.88&nbsp;&ndash;&nbsp;10.15</td>\n",
       "<td style=\" padding:0.2cm; text-align:left; vertical-align:top; text-align:center;  \"><strong>0.004</strong></td>\n",
       "</tr>\n",
       "\n",
       "<tr>\n",
       "<td style=\" padding:0.2cm; text-align:left; vertical-align:top; text-align:left; padding-top:0.1cm; padding-bottom:0.1cm;\">N <sub>study_id</sub></td>\n",
       "<td style=\" padding:0.2cm; text-align:left; vertical-align:top; padding-top:0.1cm; padding-bottom:0.1cm; text-align:left;\" colspan=\"3\">170</td>\n",
       "<tr>\n",
       "<td style=\" padding:0.2cm; text-align:left; vertical-align:top; text-align:left; padding-top:0.1cm; padding-bottom:0.1cm; border-top:1px solid;\">Observations</td>\n",
       "<td style=\" padding:0.2cm; text-align:left; vertical-align:top; padding-top:0.1cm; padding-bottom:0.1cm; text-align:left; border-top:1px solid;\" colspan=\"3\">452</td>\n",
       "</tr>\n",
       "<tr>\n",
       "<td style=\" padding:0.2cm; text-align:left; vertical-align:top; text-align:left; padding-top:0.1cm; padding-bottom:0.1cm;\">Marginal R<sup>2</sup> / Conditional R<sup>2</sup></td>\n",
       "<td style=\" padding:0.2cm; text-align:left; vertical-align:top; padding-top:0.1cm; padding-bottom:0.1cm; text-align:left;\" colspan=\"3\">0.491 / 0.769</td>\n",
       "</tr>\n",
       "\n",
       "</table>\n"
      ]
     }
    },
    {
     "output_type": "display_data",
     "metadata": {},
     "data": {
      "text/html": [
       "<table style=\"border-collapse:collapse; border:none;\">\n",
       "<tr>\n",
       "<th style=\"border-top: double; text-align:center; font-style:normal; font-weight:bold; padding:0.2cm;  text-align:left; \">&nbsp;</th>\n",
       "<th colspan=\"3\" style=\"border-top: double; text-align:center; font-style:normal; font-weight:bold; padding:0.2cm; \">oq 45 scored</th>\n",
       "</tr>\n",
       "<tr>\n",
       "<td style=\" text-align:center; border-bottom:1px solid; font-style:italic; font-weight:normal;  text-align:left; \">Predictors</td>\n",
       "<td style=\" text-align:center; border-bottom:1px solid; font-style:italic; font-weight:normal;  \">Estimates</td>\n",
       "<td style=\" text-align:center; border-bottom:1px solid; font-style:italic; font-weight:normal;  \">CI</td>\n",
       "<td style=\" text-align:center; border-bottom:1px solid; font-style:italic; font-weight:normal;  \">p</td>\n",
       "</tr>\n",
       "<tr>\n",
       "<td style=\" padding:0.2cm; text-align:left; vertical-align:top; text-align:left; \">other medications yn<br>[Yes]</td>\n",
       "<td style=\" padding:0.2cm; text-align:left; vertical-align:top; text-align:center;  \">3.09</td>\n",
       "<td style=\" padding:0.2cm; text-align:left; vertical-align:top; text-align:center;  \">&#45;0.92&nbsp;&ndash;&nbsp;7.10</td>\n",
       "<td style=\" padding:0.2cm; text-align:left; vertical-align:top; text-align:center;  \">0.131</td>\n",
       "</tr>\n",
       "\n",
       "<tr>\n",
       "<td style=\" padding:0.2cm; text-align:left; vertical-align:top; text-align:left; padding-top:0.1cm; padding-bottom:0.1cm;\">N <sub>study_id</sub></td>\n",
       "<td style=\" padding:0.2cm; text-align:left; vertical-align:top; padding-top:0.1cm; padding-bottom:0.1cm; text-align:left;\" colspan=\"3\">167</td>\n",
       "<tr>\n",
       "<td style=\" padding:0.2cm; text-align:left; vertical-align:top; text-align:left; padding-top:0.1cm; padding-bottom:0.1cm; border-top:1px solid;\">Observations</td>\n",
       "<td style=\" padding:0.2cm; text-align:left; vertical-align:top; padding-top:0.1cm; padding-bottom:0.1cm; text-align:left; border-top:1px solid;\" colspan=\"3\">431</td>\n",
       "</tr>\n",
       "<tr>\n",
       "<td style=\" padding:0.2cm; text-align:left; vertical-align:top; text-align:left; padding-top:0.1cm; padding-bottom:0.1cm;\">Marginal R<sup>2</sup> / Conditional R<sup>2</sup></td>\n",
       "<td style=\" padding:0.2cm; text-align:left; vertical-align:top; padding-top:0.1cm; padding-bottom:0.1cm; text-align:left;\" colspan=\"3\">0.442 / 0.799</td>\n",
       "</tr>\n",
       "\n",
       "</table>\n"
      ]
     }
    }
   ],
   "source": [
    "lmer(oq45_scored ~ time_c*arm_c + oq45_0 + other_medications_yn + \n",
    "       (1 + time_c | study_id), data = subset(data, dyad == \"Partner\")) |> \n",
    "  sjPlot::tab_model(show.re.var = F, show.icc = F, \n",
    "                    terms = c(\"other_medications_ynYes\"))"
   ],
   "id": "cc18847d-f8fb-4b1f-9c93-3d7c74b8a604"
  },
  {
   "cell_type": "markdown",
   "metadata": {},
   "source": [
    "##### Final Model with Significant Covariates"
   ],
   "id": "216a20ab-dea2-4dd1-9cba-755faa0ea8a4"
  },
  {
   "cell_type": "code",
   "execution_count": null,
   "metadata": {},
   "outputs": [
    {
     "output_type": "display_data",
     "metadata": {},
     "data": {
      "text/html": [
       "<table style=\"border-collapse:collapse; border:none;\">\n",
       "<tr>\n",
       "<th style=\"border-top: double; text-align:center; font-style:normal; font-weight:bold; padding:0.2cm;  text-align:left; \">&nbsp;</th>\n",
       "<th colspan=\"3\" style=\"border-top: double; text-align:center; font-style:normal; font-weight:bold; padding:0.2cm; \">oq 45 scored</th>\n",
       "</tr>\n",
       "<tr>\n",
       "<td style=\" text-align:center; border-bottom:1px solid; font-style:italic; font-weight:normal;  text-align:left; \">Predictors</td>\n",
       "<td style=\" text-align:center; border-bottom:1px solid; font-style:italic; font-weight:normal;  \">Estimates</td>\n",
       "<td style=\" text-align:center; border-bottom:1px solid; font-style:italic; font-weight:normal;  \">CI</td>\n",
       "<td style=\" text-align:center; border-bottom:1px solid; font-style:italic; font-weight:normal;  \">p</td>\n",
       "</tr>\n",
       "<tr>\n",
       "<td style=\" padding:0.2cm; text-align:left; vertical-align:top; text-align:left; \">(Intercept)</td>\n",
       "<td style=\" padding:0.2cm; text-align:left; vertical-align:top; text-align:center;  \">54.09</td>\n",
       "<td style=\" padding:0.2cm; text-align:left; vertical-align:top; text-align:center;  \">51.32&nbsp;&ndash;&nbsp;56.86</td>\n",
       "<td style=\" padding:0.2cm; text-align:left; vertical-align:top; text-align:center;  \"><strong>&lt;0.001</strong></td>\n",
       "</tr>\n",
       "<tr>\n",
       "<td style=\" padding:0.2cm; text-align:left; vertical-align:top; text-align:left; \">time c</td>\n",
       "<td style=\" padding:0.2cm; text-align:left; vertical-align:top; text-align:center;  \">&#45;0.86</td>\n",
       "<td style=\" padding:0.2cm; text-align:left; vertical-align:top; text-align:center;  \">&#45;2.24&nbsp;&ndash;&nbsp;0.52</td>\n",
       "<td style=\" padding:0.2cm; text-align:left; vertical-align:top; text-align:center;  \">0.222</td>\n",
       "</tr>\n",
       "<tr>\n",
       "<td style=\" padding:0.2cm; text-align:left; vertical-align:top; text-align:left; \">arm cfam and achess vs C</td>\n",
       "<td style=\" padding:0.2cm; text-align:left; vertical-align:top; text-align:center;  \">&#45;2.48</td>\n",
       "<td style=\" padding:0.2cm; text-align:left; vertical-align:top; text-align:center;  \">&#45;7.07&nbsp;&ndash;&nbsp;2.10</td>\n",
       "<td style=\" padding:0.2cm; text-align:left; vertical-align:top; text-align:center;  \">0.287</td>\n",
       "</tr>\n",
       "<tr>\n",
       "<td style=\" padding:0.2cm; text-align:left; vertical-align:top; text-align:left; \">arm cachess vs fam</td>\n",
       "<td style=\" padding:0.2cm; text-align:left; vertical-align:top; text-align:center;  \">&#45;1.05</td>\n",
       "<td style=\" padding:0.2cm; text-align:left; vertical-align:top; text-align:center;  \">&#45;6.26&nbsp;&ndash;&nbsp;4.17</td>\n",
       "<td style=\" padding:0.2cm; text-align:left; vertical-align:top; text-align:center;  \">0.693</td>\n",
       "</tr>\n",
       "<tr>\n",
       "<td style=\" padding:0.2cm; text-align:left; vertical-align:top; text-align:left; \">oq45 0</td>\n",
       "<td style=\" padding:0.2cm; text-align:left; vertical-align:top; text-align:center;  \">0.71</td>\n",
       "<td style=\" padding:0.2cm; text-align:left; vertical-align:top; text-align:center;  \">0.61&nbsp;&ndash;&nbsp;0.81</td>\n",
       "<td style=\" padding:0.2cm; text-align:left; vertical-align:top; text-align:center;  \"><strong>&lt;0.001</strong></td>\n",
       "</tr>\n",
       "<tr>\n",
       "<td style=\" padding:0.2cm; text-align:left; vertical-align:top; text-align:left; \">edu c</td>\n",
       "<td style=\" padding:0.2cm; text-align:left; vertical-align:top; text-align:center;  \">&#45;2.34</td>\n",
       "<td style=\" padding:0.2cm; text-align:left; vertical-align:top; text-align:center;  \">&#45;4.38&nbsp;&ndash;&nbsp;-0.30</td>\n",
       "<td style=\" padding:0.2cm; text-align:left; vertical-align:top; text-align:center;  \"><strong>0.025</strong></td>\n",
       "</tr>\n",
       "<tr>\n",
       "<td style=\" padding:0.2cm; text-align:left; vertical-align:top; text-align:left; \">outpatient yn ever [Yes]</td>\n",
       "<td style=\" padding:0.2cm; text-align:left; vertical-align:top; text-align:center;  \">8.18</td>\n",
       "<td style=\" padding:0.2cm; text-align:left; vertical-align:top; text-align:center;  \">&#45;0.97&nbsp;&ndash;&nbsp;17.34</td>\n",
       "<td style=\" padding:0.2cm; text-align:left; vertical-align:top; text-align:center;  \">0.080</td>\n",
       "</tr>\n",
       "<tr>\n",
       "<td style=\" padding:0.2cm; text-align:left; vertical-align:top; text-align:left; \">other psych treatment yn<br>[Yes]</td>\n",
       "<td style=\" padding:0.2cm; text-align:left; vertical-align:top; text-align:center;  \">3.72</td>\n",
       "<td style=\" padding:0.2cm; text-align:left; vertical-align:top; text-align:center;  \">&#45;1.43&nbsp;&ndash;&nbsp;8.87</td>\n",
       "<td style=\" padding:0.2cm; text-align:left; vertical-align:top; text-align:center;  \">0.156</td>\n",
       "</tr>\n",
       "<tr>\n",
       "<td style=\" padding:0.2cm; text-align:left; vertical-align:top; text-align:left; \">other medications yn<br>[Yes]</td>\n",
       "<td style=\" padding:0.2cm; text-align:left; vertical-align:top; text-align:center;  \">5.35</td>\n",
       "<td style=\" padding:0.2cm; text-align:left; vertical-align:top; text-align:center;  \">1.18&nbsp;&ndash;&nbsp;9.53</td>\n",
       "<td style=\" padding:0.2cm; text-align:left; vertical-align:top; text-align:center;  \"><strong>0.012</strong></td>\n",
       "</tr>\n",
       "<tr>\n",
       "<td style=\" padding:0.2cm; text-align:left; vertical-align:top; text-align:left; \">time c × arm cfam and<br>achess vs C</td>\n",
       "<td style=\" padding:0.2cm; text-align:left; vertical-align:top; text-align:center;  \">&#45;1.55</td>\n",
       "<td style=\" padding:0.2cm; text-align:left; vertical-align:top; text-align:center;  \">&#45;4.53&nbsp;&ndash;&nbsp;1.43</td>\n",
       "<td style=\" padding:0.2cm; text-align:left; vertical-align:top; text-align:center;  \">0.308</td>\n",
       "</tr>\n",
       "<tr>\n",
       "<td style=\" padding:0.2cm; text-align:left; vertical-align:top; text-align:left; \">time c × arm cachess vs<br>fam</td>\n",
       "<td style=\" padding:0.2cm; text-align:left; vertical-align:top; text-align:center;  \">0.75</td>\n",
       "<td style=\" padding:0.2cm; text-align:left; vertical-align:top; text-align:center;  \">&#45;2.56&nbsp;&ndash;&nbsp;4.07</td>\n",
       "<td style=\" padding:0.2cm; text-align:left; vertical-align:top; text-align:center;  \">0.655</td>\n",
       "</tr>\n",
       "\n",
       "<tr>\n",
       "<td style=\" padding:0.2cm; text-align:left; vertical-align:top; text-align:left; padding-top:0.1cm; padding-bottom:0.1cm;\">N <sub>study_id</sub></td>\n",
       "<td style=\" padding:0.2cm; text-align:left; vertical-align:top; padding-top:0.1cm; padding-bottom:0.1cm; text-align:left;\" colspan=\"3\">170</td>\n",
       "<tr>\n",
       "<td style=\" padding:0.2cm; text-align:left; vertical-align:top; text-align:left; padding-top:0.1cm; padding-bottom:0.1cm; border-top:1px solid;\">Observations</td>\n",
       "<td style=\" padding:0.2cm; text-align:left; vertical-align:top; padding-top:0.1cm; padding-bottom:0.1cm; text-align:left; border-top:1px solid;\" colspan=\"3\">452</td>\n",
       "</tr>\n",
       "<tr>\n",
       "<td style=\" padding:0.2cm; text-align:left; vertical-align:top; text-align:left; padding-top:0.1cm; padding-bottom:0.1cm;\">Marginal R<sup>2</sup> / Conditional R<sup>2</sup></td>\n",
       "<td style=\" padding:0.2cm; text-align:left; vertical-align:top; padding-top:0.1cm; padding-bottom:0.1cm; text-align:left;\" colspan=\"3\">0.508 / 0.767</td>\n",
       "</tr>\n",
       "\n",
       "</table>\n"
      ]
     }
    },
    {
     "output_type": "display_data",
     "metadata": {},
     "data": {
      "text/html": [
       "<table style=\"border-collapse:collapse; border:none;\">\n",
       "<tr>\n",
       "<th style=\"border-top: double; text-align:center; font-style:normal; font-weight:bold; padding:0.2cm;  text-align:left; \">&nbsp;</th>\n",
       "<th colspan=\"3\" style=\"border-top: double; text-align:center; font-style:normal; font-weight:bold; padding:0.2cm; \">oq 45 scored</th>\n",
       "</tr>\n",
       "<tr>\n",
       "<td style=\" text-align:center; border-bottom:1px solid; font-style:italic; font-weight:normal;  text-align:left; \">Predictors</td>\n",
       "<td style=\" text-align:center; border-bottom:1px solid; font-style:italic; font-weight:normal;  \">Estimates</td>\n",
       "<td style=\" text-align:center; border-bottom:1px solid; font-style:italic; font-weight:normal;  \">CI</td>\n",
       "<td style=\" text-align:center; border-bottom:1px solid; font-style:italic; font-weight:normal;  \">p</td>\n",
       "</tr>\n",
       "<tr>\n",
       "<td style=\" padding:0.2cm; text-align:left; vertical-align:top; text-align:left; \">(Intercept)</td>\n",
       "<td style=\" padding:0.2cm; text-align:left; vertical-align:top; text-align:center;  \">53.80</td>\n",
       "<td style=\" padding:0.2cm; text-align:left; vertical-align:top; text-align:center;  \">50.92&nbsp;&ndash;&nbsp;56.68</td>\n",
       "<td style=\" padding:0.2cm; text-align:left; vertical-align:top; text-align:center;  \"><strong>&lt;0.001</strong></td>\n",
       "</tr>\n",
       "<tr>\n",
       "<td style=\" padding:0.2cm; text-align:left; vertical-align:top; text-align:left; \">time c</td>\n",
       "<td style=\" padding:0.2cm; text-align:left; vertical-align:top; text-align:center;  \">&#45;3.35</td>\n",
       "<td style=\" padding:0.2cm; text-align:left; vertical-align:top; text-align:center;  \">&#45;4.93&nbsp;&ndash;&nbsp;-1.77</td>\n",
       "<td style=\" padding:0.2cm; text-align:left; vertical-align:top; text-align:center;  \"><strong>&lt;0.001</strong></td>\n",
       "</tr>\n",
       "<tr>\n",
       "<td style=\" padding:0.2cm; text-align:left; vertical-align:top; text-align:left; \">arm cfam and achess vs C</td>\n",
       "<td style=\" padding:0.2cm; text-align:left; vertical-align:top; text-align:center;  \">&#45;7.11</td>\n",
       "<td style=\" padding:0.2cm; text-align:left; vertical-align:top; text-align:center;  \">&#45;12.70&nbsp;&ndash;&nbsp;-1.52</td>\n",
       "<td style=\" padding:0.2cm; text-align:left; vertical-align:top; text-align:center;  \"><strong>0.013</strong></td>\n",
       "</tr>\n",
       "<tr>\n",
       "<td style=\" padding:0.2cm; text-align:left; vertical-align:top; text-align:left; \">arm cachess vs fam</td>\n",
       "<td style=\" padding:0.2cm; text-align:left; vertical-align:top; text-align:center;  \">0.25</td>\n",
       "<td style=\" padding:0.2cm; text-align:left; vertical-align:top; text-align:center;  \">&#45;6.11&nbsp;&ndash;&nbsp;6.61</td>\n",
       "<td style=\" padding:0.2cm; text-align:left; vertical-align:top; text-align:center;  \">0.939</td>\n",
       "</tr>\n",
       "<tr>\n",
       "<td style=\" padding:0.2cm; text-align:left; vertical-align:top; text-align:left; \">oq45 0</td>\n",
       "<td style=\" padding:0.2cm; text-align:left; vertical-align:top; text-align:center;  \">0.69</td>\n",
       "<td style=\" padding:0.2cm; text-align:left; vertical-align:top; text-align:center;  \">0.58&nbsp;&ndash;&nbsp;0.79</td>\n",
       "<td style=\" padding:0.2cm; text-align:left; vertical-align:top; text-align:center;  \"><strong>&lt;0.001</strong></td>\n",
       "</tr>\n",
       "<tr>\n",
       "<td style=\" padding:0.2cm; text-align:left; vertical-align:top; text-align:left; \">mat yn [Yes]</td>\n",
       "<td style=\" padding:0.2cm; text-align:left; vertical-align:top; text-align:center;  \">6.86</td>\n",
       "<td style=\" padding:0.2cm; text-align:left; vertical-align:top; text-align:center;  \">2.05&nbsp;&ndash;&nbsp;11.68</td>\n",
       "<td style=\" padding:0.2cm; text-align:left; vertical-align:top; text-align:center;  \"><strong>0.005</strong></td>\n",
       "</tr>\n",
       "<tr>\n",
       "<td style=\" padding:0.2cm; text-align:left; vertical-align:top; text-align:left; \">time c × arm cfam and<br>achess vs C</td>\n",
       "<td style=\" padding:0.2cm; text-align:left; vertical-align:top; text-align:center;  \">&#45;0.24</td>\n",
       "<td style=\" padding:0.2cm; text-align:left; vertical-align:top; text-align:center;  \">&#45;3.56&nbsp;&ndash;&nbsp;3.08</td>\n",
       "<td style=\" padding:0.2cm; text-align:left; vertical-align:top; text-align:center;  \">0.887</td>\n",
       "</tr>\n",
       "<tr>\n",
       "<td style=\" padding:0.2cm; text-align:left; vertical-align:top; text-align:left; \">time c × arm cachess vs<br>fam</td>\n",
       "<td style=\" padding:0.2cm; text-align:left; vertical-align:top; text-align:center;  \">&#45;1.07</td>\n",
       "<td style=\" padding:0.2cm; text-align:left; vertical-align:top; text-align:center;  \">&#45;4.97&nbsp;&ndash;&nbsp;2.83</td>\n",
       "<td style=\" padding:0.2cm; text-align:left; vertical-align:top; text-align:center;  \">0.590</td>\n",
       "</tr>\n",
       "\n",
       "<tr>\n",
       "<td style=\" padding:0.2cm; text-align:left; vertical-align:top; text-align:left; padding-top:0.1cm; padding-bottom:0.1cm;\">N <sub>study_id</sub></td>\n",
       "<td style=\" padding:0.2cm; text-align:left; vertical-align:top; padding-top:0.1cm; padding-bottom:0.1cm; text-align:left;\" colspan=\"3\">167</td>\n",
       "<tr>\n",
       "<td style=\" padding:0.2cm; text-align:left; vertical-align:top; text-align:left; padding-top:0.1cm; padding-bottom:0.1cm; border-top:1px solid;\">Observations</td>\n",
       "<td style=\" padding:0.2cm; text-align:left; vertical-align:top; padding-top:0.1cm; padding-bottom:0.1cm; text-align:left; border-top:1px solid;\" colspan=\"3\">432</td>\n",
       "</tr>\n",
       "<tr>\n",
       "<td style=\" padding:0.2cm; text-align:left; vertical-align:top; text-align:left; padding-top:0.1cm; padding-bottom:0.1cm;\">Marginal R<sup>2</sup> / Conditional R<sup>2</sup></td>\n",
       "<td style=\" padding:0.2cm; text-align:left; vertical-align:top; padding-top:0.1cm; padding-bottom:0.1cm; text-align:left;\" colspan=\"3\">0.445 / 0.808</td>\n",
       "</tr>\n",
       "\n",
       "</table>\n"
      ]
     }
    }
   ],
   "source": [
    "lmer(oq45_scored ~ time_c*arm_c + oq45_0 + edu_c + outpatient_yn_ever + \n",
    "       other_psych_treatment_yn + other_medications_yn + \n",
    "       (1 + time_c | study_id), data = subset(data, dyad == \"Partner\")) |> \n",
    "  sjPlot::tab_model(show.re.var = F, show.icc = F)"
   ],
   "id": "49310e80-5785-4419-b9d9-634874b5499e"
  },
  {
   "cell_type": "markdown",
   "metadata": {},
   "source": [
    "#### Secondary Patient Outcome: `per_days_abstinent`\n",
    "\n",
    "Distribution of residuals  \n",
    "*Looks fine*"
   ],
   "id": "992dd9f4-e08b-4351-b223-f1e076ed6011"
  },
  {
   "cell_type": "code",
   "execution_count": null,
   "metadata": {},
   "outputs": [
    {
     "output_type": "display_data",
     "metadata": {},
     "data": {
      "image/png": "[encoded data removed]"
     }
    }
   ],
   "source": [
    "model_patient_sec <- lmer(per_days_abstinent ~ time_c*arm_c + pda_0 + \n",
    "                             (1 + time_c | study_id), \n",
    "                          data = subset(data, dyad == \"Patient\"))\n",
    "\n",
    "tibble(error = residuals(model_patient_sec)) |> \n",
    "  ggplot(aes(x = error)) +\n",
    "  geom_histogram(color = \"black\", fill = \"light grey\", bins = 30)"
   ],
   "id": "f15587e0-0211-43c5-9b7d-f940c7ead5a2"
  },
  {
   "cell_type": "markdown",
   "metadata": {},
   "source": [
    "##### Look for significant covariates\n",
    "\n",
    "`race_white_only` - not significant"
   ],
   "id": "f722b4d3-3d41-4504-9ad9-027356f83676"
  },
  {
   "cell_type": "code",
   "execution_count": null,
   "metadata": {},
   "outputs": [
    {
     "output_type": "display_data",
     "metadata": {},
     "data": {
      "text/html": [
       "<table style=\"border-collapse:collapse; border:none;\">\n",
       "<tr>\n",
       "<th style=\"border-top: double; text-align:center; font-style:normal; font-weight:bold; padding:0.2cm;  text-align:left; \">&nbsp;</th>\n",
       "<th colspan=\"3\" style=\"border-top: double; text-align:center; font-style:normal; font-weight:bold; padding:0.2cm; \">per days abstinent</th>\n",
       "</tr>\n",
       "<tr>\n",
       "<td style=\" text-align:center; border-bottom:1px solid; font-style:italic; font-weight:normal;  text-align:left; \">Predictors</td>\n",
       "<td style=\" text-align:center; border-bottom:1px solid; font-style:italic; font-weight:normal;  \">Estimates</td>\n",
       "<td style=\" text-align:center; border-bottom:1px solid; font-style:italic; font-weight:normal;  \">CI</td>\n",
       "<td style=\" text-align:center; border-bottom:1px solid; font-style:italic; font-weight:normal;  \">p</td>\n",
       "</tr>\n",
       "<tr>\n",
       "<td style=\" padding:0.2cm; text-align:left; vertical-align:top; text-align:left; \">race white only [Yes]</td>\n",
       "<td style=\" padding:0.2cm; text-align:left; vertical-align:top; text-align:center;  \">5.79</td>\n",
       "<td style=\" padding:0.2cm; text-align:left; vertical-align:top; text-align:center;  \">&#45;3.72&nbsp;&ndash;&nbsp;15.30</td>\n",
       "<td style=\" padding:0.2cm; text-align:left; vertical-align:top; text-align:center;  \">0.232</td>\n",
       "</tr>\n",
       "\n",
       "<tr>\n",
       "<td style=\" padding:0.2cm; text-align:left; vertical-align:top; text-align:left; padding-top:0.1cm; padding-bottom:0.1cm;\">N <sub>study_id</sub></td>\n",
       "<td style=\" padding:0.2cm; text-align:left; vertical-align:top; padding-top:0.1cm; padding-bottom:0.1cm; text-align:left;\" colspan=\"3\">157</td>\n",
       "<tr>\n",
       "<td style=\" padding:0.2cm; text-align:left; vertical-align:top; text-align:left; padding-top:0.1cm; padding-bottom:0.1cm; border-top:1px solid;\">Observations</td>\n",
       "<td style=\" padding:0.2cm; text-align:left; vertical-align:top; padding-top:0.1cm; padding-bottom:0.1cm; text-align:left; border-top:1px solid;\" colspan=\"3\">427</td>\n",
       "</tr>\n",
       "<tr>\n",
       "<td style=\" padding:0.2cm; text-align:left; vertical-align:top; text-align:left; padding-top:0.1cm; padding-bottom:0.1cm;\">Marginal R<sup>2</sup> / Conditional R<sup>2</sup></td>\n",
       "<td style=\" padding:0.2cm; text-align:left; vertical-align:top; padding-top:0.1cm; padding-bottom:0.1cm; text-align:left;\" colspan=\"3\">0.367 / 0.845</td>\n",
       "</tr>\n",
       "\n",
       "</table>\n"
      ]
     }
    }
   ],
   "source": [
    "lmer(per_days_abstinent ~ time_c*arm_c + pda_0 + race_white_only + \n",
    "       (1 + time_c | study_id), data = subset(data, dyad == \"Patient\")) |> \n",
    "  sjPlot::tab_model(show.re.var = F, show.icc = F, \n",
    "                    terms = c(\"race_white_onlyYes\"))"
   ],
   "id": "46fbd9cb-792b-4573-9fee-1060a66772b5"
  },
  {
   "cell_type": "markdown",
   "metadata": {},
   "source": [
    "`age_c` - not significant"
   ],
   "id": "53cc32c9-708f-4838-9136-7558bc0cf2bf"
  },
  {
   "cell_type": "code",
   "execution_count": null,
   "metadata": {},
   "outputs": [
    {
     "output_type": "display_data",
     "metadata": {},
     "data": {
      "text/html": [
       "<table style=\"border-collapse:collapse; border:none;\">\n",
       "<tr>\n",
       "<th style=\"border-top: double; text-align:center; font-style:normal; font-weight:bold; padding:0.2cm;  text-align:left; \">&nbsp;</th>\n",
       "<th colspan=\"3\" style=\"border-top: double; text-align:center; font-style:normal; font-weight:bold; padding:0.2cm; \">per days abstinent</th>\n",
       "</tr>\n",
       "<tr>\n",
       "<td style=\" text-align:center; border-bottom:1px solid; font-style:italic; font-weight:normal;  text-align:left; \">Predictors</td>\n",
       "<td style=\" text-align:center; border-bottom:1px solid; font-style:italic; font-weight:normal;  \">Estimates</td>\n",
       "<td style=\" text-align:center; border-bottom:1px solid; font-style:italic; font-weight:normal;  \">CI</td>\n",
       "<td style=\" text-align:center; border-bottom:1px solid; font-style:italic; font-weight:normal;  \">p</td>\n",
       "</tr>\n",
       "<tr>\n",
       "<td style=\" padding:0.2cm; text-align:left; vertical-align:top; text-align:left; \">age c</td>\n",
       "<td style=\" padding:0.2cm; text-align:left; vertical-align:top; text-align:center;  \">&#45;0.25</td>\n",
       "<td style=\" padding:0.2cm; text-align:left; vertical-align:top; text-align:center;  \">&#45;0.59&nbsp;&ndash;&nbsp;0.08</td>\n",
       "<td style=\" padding:0.2cm; text-align:left; vertical-align:top; text-align:center;  \">0.133</td>\n",
       "</tr>\n",
       "\n",
       "<tr>\n",
       "<td style=\" padding:0.2cm; text-align:left; vertical-align:top; text-align:left; padding-top:0.1cm; padding-bottom:0.1cm;\">N <sub>study_id</sub></td>\n",
       "<td style=\" padding:0.2cm; text-align:left; vertical-align:top; padding-top:0.1cm; padding-bottom:0.1cm; text-align:left;\" colspan=\"3\">156</td>\n",
       "<tr>\n",
       "<td style=\" padding:0.2cm; text-align:left; vertical-align:top; text-align:left; padding-top:0.1cm; padding-bottom:0.1cm; border-top:1px solid;\">Observations</td>\n",
       "<td style=\" padding:0.2cm; text-align:left; vertical-align:top; padding-top:0.1cm; padding-bottom:0.1cm; text-align:left; border-top:1px solid;\" colspan=\"3\">424</td>\n",
       "</tr>\n",
       "<tr>\n",
       "<td style=\" padding:0.2cm; text-align:left; vertical-align:top; text-align:left; padding-top:0.1cm; padding-bottom:0.1cm;\">Marginal R<sup>2</sup> / Conditional R<sup>2</sup></td>\n",
       "<td style=\" padding:0.2cm; text-align:left; vertical-align:top; padding-top:0.1cm; padding-bottom:0.1cm; text-align:left;\" colspan=\"3\">0.368 / 0.842</td>\n",
       "</tr>\n",
       "\n",
       "</table>\n"
      ]
     }
    }
   ],
   "source": [
    "lmer(per_days_abstinent ~ time_c*arm_c + pda_0 + age_c + \n",
    "       (1 + time_c | study_id), data = subset(data, dyad == \"Patient\")) |> \n",
    "  sjPlot::tab_model(show.re.var = F, show.icc = F, terms = c(\"age_c\"))"
   ],
   "id": "67a6d574-04e3-45c0-9a1c-ad875b5d6b3d"
  },
  {
   "cell_type": "markdown",
   "metadata": {},
   "source": [
    "`edu_c` - not significant"
   ],
   "id": "91af489d-1025-4d3c-aa34-ef810e99de4a"
  },
  {
   "cell_type": "code",
   "execution_count": null,
   "metadata": {},
   "outputs": [
    {
     "output_type": "display_data",
     "metadata": {},
     "data": {
      "text/html": [
       "<table style=\"border-collapse:collapse; border:none;\">\n",
       "<tr>\n",
       "<th style=\"border-top: double; text-align:center; font-style:normal; font-weight:bold; padding:0.2cm;  text-align:left; \">&nbsp;</th>\n",
       "<th colspan=\"3\" style=\"border-top: double; text-align:center; font-style:normal; font-weight:bold; padding:0.2cm; \">per days abstinent</th>\n",
       "</tr>\n",
       "<tr>\n",
       "<td style=\" text-align:center; border-bottom:1px solid; font-style:italic; font-weight:normal;  text-align:left; \">Predictors</td>\n",
       "<td style=\" text-align:center; border-bottom:1px solid; font-style:italic; font-weight:normal;  \">Estimates</td>\n",
       "<td style=\" text-align:center; border-bottom:1px solid; font-style:italic; font-weight:normal;  \">CI</td>\n",
       "<td style=\" text-align:center; border-bottom:1px solid; font-style:italic; font-weight:normal;  \">p</td>\n",
       "</tr>\n",
       "<tr>\n",
       "<td style=\" padding:0.2cm; text-align:left; vertical-align:top; text-align:left; \">edu c</td>\n",
       "<td style=\" padding:0.2cm; text-align:left; vertical-align:top; text-align:center;  \">&#45;0.56</td>\n",
       "<td style=\" padding:0.2cm; text-align:left; vertical-align:top; text-align:center;  \">&#45;4.40&nbsp;&ndash;&nbsp;3.27</td>\n",
       "<td style=\" padding:0.2cm; text-align:left; vertical-align:top; text-align:center;  \">0.773</td>\n",
       "</tr>\n",
       "\n",
       "<tr>\n",
       "<td style=\" padding:0.2cm; text-align:left; vertical-align:top; text-align:left; padding-top:0.1cm; padding-bottom:0.1cm;\">N <sub>study_id</sub></td>\n",
       "<td style=\" padding:0.2cm; text-align:left; vertical-align:top; padding-top:0.1cm; padding-bottom:0.1cm; text-align:left;\" colspan=\"3\">157</td>\n",
       "<tr>\n",
       "<td style=\" padding:0.2cm; text-align:left; vertical-align:top; text-align:left; padding-top:0.1cm; padding-bottom:0.1cm; border-top:1px solid;\">Observations</td>\n",
       "<td style=\" padding:0.2cm; text-align:left; vertical-align:top; padding-top:0.1cm; padding-bottom:0.1cm; text-align:left; border-top:1px solid;\" colspan=\"3\">427</td>\n",
       "</tr>\n",
       "<tr>\n",
       "<td style=\" padding:0.2cm; text-align:left; vertical-align:top; text-align:left; padding-top:0.1cm; padding-bottom:0.1cm;\">Marginal R<sup>2</sup> / Conditional R<sup>2</sup></td>\n",
       "<td style=\" padding:0.2cm; text-align:left; vertical-align:top; padding-top:0.1cm; padding-bottom:0.1cm; text-align:left;\" colspan=\"3\">0.362 / 0.844</td>\n",
       "</tr>\n",
       "\n",
       "</table>\n"
      ]
     }
    }
   ],
   "source": [
    "lmer(per_days_abstinent ~ time_c*arm_c + pda_0 + edu_c + \n",
    "       (1 + time_c | study_id), data = subset(data, dyad == \"Patient\")) |> \n",
    "  sjPlot::tab_model(show.re.var = F, show.icc = F, terms = c(\"edu_c\"))"
   ],
   "id": "7a5749fc-2ce0-48d1-8d59-3510638043bf"
  },
  {
   "cell_type": "markdown",
   "metadata": {},
   "source": [
    "`meetings_yn` - **significant**"
   ],
   "id": "ccd16c77-1fe3-4b2c-b45f-b45cc42e4b3a"
  },
  {
   "cell_type": "code",
   "execution_count": null,
   "metadata": {},
   "outputs": [
    {
     "output_type": "display_data",
     "metadata": {},
     "data": {
      "text/html": [
       "<table style=\"border-collapse:collapse; border:none;\">\n",
       "<tr>\n",
       "<th style=\"border-top: double; text-align:center; font-style:normal; font-weight:bold; padding:0.2cm;  text-align:left; \">&nbsp;</th>\n",
       "<th colspan=\"3\" style=\"border-top: double; text-align:center; font-style:normal; font-weight:bold; padding:0.2cm; \">per days abstinent</th>\n",
       "</tr>\n",
       "<tr>\n",
       "<td style=\" text-align:center; border-bottom:1px solid; font-style:italic; font-weight:normal;  text-align:left; \">Predictors</td>\n",
       "<td style=\" text-align:center; border-bottom:1px solid; font-style:italic; font-weight:normal;  \">Estimates</td>\n",
       "<td style=\" text-align:center; border-bottom:1px solid; font-style:italic; font-weight:normal;  \">CI</td>\n",
       "<td style=\" text-align:center; border-bottom:1px solid; font-style:italic; font-weight:normal;  \">p</td>\n",
       "</tr>\n",
       "<tr>\n",
       "<td style=\" padding:0.2cm; text-align:left; vertical-align:top; text-align:left; \">meetings yn [Yes]</td>\n",
       "<td style=\" padding:0.2cm; text-align:left; vertical-align:top; text-align:center;  \">9.85</td>\n",
       "<td style=\" padding:0.2cm; text-align:left; vertical-align:top; text-align:center;  \">3.10&nbsp;&ndash;&nbsp;16.59</td>\n",
       "<td style=\" padding:0.2cm; text-align:left; vertical-align:top; text-align:center;  \"><strong>0.004</strong></td>\n",
       "</tr>\n",
       "\n",
       "<tr>\n",
       "<td style=\" padding:0.2cm; text-align:left; vertical-align:top; text-align:left; padding-top:0.1cm; padding-bottom:0.1cm;\">N <sub>study_id</sub></td>\n",
       "<td style=\" padding:0.2cm; text-align:left; vertical-align:top; padding-top:0.1cm; padding-bottom:0.1cm; text-align:left;\" colspan=\"3\">158</td>\n",
       "<tr>\n",
       "<td style=\" padding:0.2cm; text-align:left; vertical-align:top; text-align:left; padding-top:0.1cm; padding-bottom:0.1cm; border-top:1px solid;\">Observations</td>\n",
       "<td style=\" padding:0.2cm; text-align:left; vertical-align:top; padding-top:0.1cm; padding-bottom:0.1cm; text-align:left; border-top:1px solid;\" colspan=\"3\">413</td>\n",
       "</tr>\n",
       "<tr>\n",
       "<td style=\" padding:0.2cm; text-align:left; vertical-align:top; text-align:left; padding-top:0.1cm; padding-bottom:0.1cm;\">Marginal R<sup>2</sup> / Conditional R<sup>2</sup></td>\n",
       "<td style=\" padding:0.2cm; text-align:left; vertical-align:top; padding-top:0.1cm; padding-bottom:0.1cm; text-align:left;\" colspan=\"3\">0.358 / 0.847</td>\n",
       "</tr>\n",
       "\n",
       "</table>\n"
      ]
     }
    }
   ],
   "source": [
    "lmer(per_days_abstinent ~ time_c*arm_c + pda_0 + meetings_yn + \n",
    "       (1 + time_c | study_id), data = subset(data, dyad == \"Patient\")) |> \n",
    "  sjPlot::tab_model(show.re.var = F, show.icc = F, terms = c(\"meetings_ynYes\"))"
   ],
   "id": "7cdafca4-c13f-4989-a555-8e28a4961fb0"
  },
  {
   "cell_type": "markdown",
   "metadata": {},
   "source": [
    "`outpatient_yn_ever` - **significant**"
   ],
   "id": "64fad258-f668-4645-95ac-8699267568d3"
  },
  {
   "cell_type": "code",
   "execution_count": null,
   "metadata": {},
   "outputs": [
    {
     "output_type": "display_data",
     "metadata": {},
     "data": {
      "text/html": [
       "<table style=\"border-collapse:collapse; border:none;\">\n",
       "<tr>\n",
       "<th style=\"border-top: double; text-align:center; font-style:normal; font-weight:bold; padding:0.2cm;  text-align:left; \">&nbsp;</th>\n",
       "<th colspan=\"3\" style=\"border-top: double; text-align:center; font-style:normal; font-weight:bold; padding:0.2cm; \">per days abstinent</th>\n",
       "</tr>\n",
       "<tr>\n",
       "<td style=\" text-align:center; border-bottom:1px solid; font-style:italic; font-weight:normal;  text-align:left; \">Predictors</td>\n",
       "<td style=\" text-align:center; border-bottom:1px solid; font-style:italic; font-weight:normal;  \">Estimates</td>\n",
       "<td style=\" text-align:center; border-bottom:1px solid; font-style:italic; font-weight:normal;  \">CI</td>\n",
       "<td style=\" text-align:center; border-bottom:1px solid; font-style:italic; font-weight:normal;  \">p</td>\n",
       "</tr>\n",
       "<tr>\n",
       "<td style=\" padding:0.2cm; text-align:left; vertical-align:top; text-align:left; \">outpatient yn ever [Yes]</td>\n",
       "<td style=\" padding:0.2cm; text-align:left; vertical-align:top; text-align:center;  \">9.97</td>\n",
       "<td style=\" padding:0.2cm; text-align:left; vertical-align:top; text-align:center;  \">0.86&nbsp;&ndash;&nbsp;19.08</td>\n",
       "<td style=\" padding:0.2cm; text-align:left; vertical-align:top; text-align:center;  \"><strong>0.032</strong></td>\n",
       "</tr>\n",
       "\n",
       "<tr>\n",
       "<td style=\" padding:0.2cm; text-align:left; vertical-align:top; text-align:left; padding-top:0.1cm; padding-bottom:0.1cm;\">N <sub>study_id</sub></td>\n",
       "<td style=\" padding:0.2cm; text-align:left; vertical-align:top; padding-top:0.1cm; padding-bottom:0.1cm; text-align:left;\" colspan=\"3\">158</td>\n",
       "<tr>\n",
       "<td style=\" padding:0.2cm; text-align:left; vertical-align:top; text-align:left; padding-top:0.1cm; padding-bottom:0.1cm; border-top:1px solid;\">Observations</td>\n",
       "<td style=\" padding:0.2cm; text-align:left; vertical-align:top; padding-top:0.1cm; padding-bottom:0.1cm; text-align:left; border-top:1px solid;\" colspan=\"3\">430</td>\n",
       "</tr>\n",
       "<tr>\n",
       "<td style=\" padding:0.2cm; text-align:left; vertical-align:top; text-align:left; padding-top:0.1cm; padding-bottom:0.1cm;\">Marginal R<sup>2</sup> / Conditional R<sup>2</sup></td>\n",
       "<td style=\" padding:0.2cm; text-align:left; vertical-align:top; padding-top:0.1cm; padding-bottom:0.1cm; text-align:left;\" colspan=\"3\">0.364 / 0.844</td>\n",
       "</tr>\n",
       "\n",
       "</table>\n"
      ]
     }
    }
   ],
   "source": [
    "lmer(per_days_abstinent ~ time_c*arm_c + pda_0 + outpatient_yn_ever + \n",
    "       (1 + time_c | study_id), data = subset(data, dyad == \"Patient\")) |> \n",
    "  sjPlot::tab_model(show.re.var = F, show.icc = F, \n",
    "                    terms = c(\"outpatient_yn_everYes\"))"
   ],
   "id": "c8471829-4b75-48ba-a516-4de355ac3808"
  },
  {
   "cell_type": "markdown",
   "metadata": {},
   "source": [
    "`er_yn_ever` - Not significant"
   ],
   "id": "567db078-e5cc-45ea-9ec5-96248133b1ce"
  },
  {
   "cell_type": "code",
   "execution_count": null,
   "metadata": {},
   "outputs": [
    {
     "output_type": "display_data",
     "metadata": {},
     "data": {
      "text/html": [
       "<table style=\"border-collapse:collapse; border:none;\">\n",
       "<tr>\n",
       "<th style=\"border-top: double; text-align:center; font-style:normal; font-weight:bold; padding:0.2cm;  text-align:left; \">&nbsp;</th>\n",
       "<th colspan=\"3\" style=\"border-top: double; text-align:center; font-style:normal; font-weight:bold; padding:0.2cm; \">per days abstinent</th>\n",
       "</tr>\n",
       "<tr>\n",
       "<td style=\" text-align:center; border-bottom:1px solid; font-style:italic; font-weight:normal;  text-align:left; \">Predictors</td>\n",
       "<td style=\" text-align:center; border-bottom:1px solid; font-style:italic; font-weight:normal;  \">Estimates</td>\n",
       "<td style=\" text-align:center; border-bottom:1px solid; font-style:italic; font-weight:normal;  \">CI</td>\n",
       "<td style=\" text-align:center; border-bottom:1px solid; font-style:italic; font-weight:normal;  \">p</td>\n",
       "</tr>\n",
       "<tr>\n",
       "<td style=\" padding:0.2cm; text-align:left; vertical-align:top; text-align:left; \">er yn ever [Yes]</td>\n",
       "<td style=\" padding:0.2cm; text-align:left; vertical-align:top; text-align:center;  \">8.07</td>\n",
       "<td style=\" padding:0.2cm; text-align:left; vertical-align:top; text-align:center;  \">&#45;1.33&nbsp;&ndash;&nbsp;17.46</td>\n",
       "<td style=\" padding:0.2cm; text-align:left; vertical-align:top; text-align:center;  \">0.092</td>\n",
       "</tr>\n",
       "\n",
       "<tr>\n",
       "<td style=\" padding:0.2cm; text-align:left; vertical-align:top; text-align:left; padding-top:0.1cm; padding-bottom:0.1cm;\">N <sub>study_id</sub></td>\n",
       "<td style=\" padding:0.2cm; text-align:left; vertical-align:top; padding-top:0.1cm; padding-bottom:0.1cm; text-align:left;\" colspan=\"3\">158</td>\n",
       "<tr>\n",
       "<td style=\" padding:0.2cm; text-align:left; vertical-align:top; text-align:left; padding-top:0.1cm; padding-bottom:0.1cm; border-top:1px solid;\">Observations</td>\n",
       "<td style=\" padding:0.2cm; text-align:left; vertical-align:top; padding-top:0.1cm; padding-bottom:0.1cm; text-align:left; border-top:1px solid;\" colspan=\"3\">430</td>\n",
       "</tr>\n",
       "<tr>\n",
       "<td style=\" padding:0.2cm; text-align:left; vertical-align:top; text-align:left; padding-top:0.1cm; padding-bottom:0.1cm;\">Marginal R<sup>2</sup> / Conditional R<sup>2</sup></td>\n",
       "<td style=\" padding:0.2cm; text-align:left; vertical-align:top; padding-top:0.1cm; padding-bottom:0.1cm; text-align:left;\" colspan=\"3\">0.355 / 0.843</td>\n",
       "</tr>\n",
       "\n",
       "</table>\n"
      ]
     }
    }
   ],
   "source": [
    "lmer(per_days_abstinent ~ time_c*arm_c + pda_0 + er_yn_ever + \n",
    "       (1 + time_c | study_id), data = subset(data, dyad == \"Patient\")) |> \n",
    "  sjPlot::tab_model(show.re.var = F, show.icc = F, terms = c(\"er_yn_everYes\"))"
   ],
   "id": "8c2b8f22-65b2-4ae4-8435-b0d284cefb05"
  },
  {
   "cell_type": "markdown",
   "metadata": {},
   "source": [
    "`mat_yn` - not significant"
   ],
   "id": "d78bc396-120f-40cd-a6aa-cbac18dd2e78"
  },
  {
   "cell_type": "code",
   "execution_count": null,
   "metadata": {},
   "outputs": [
    {
     "output_type": "display_data",
     "metadata": {},
     "data": {
      "text/html": [
       "<table style=\"border-collapse:collapse; border:none;\">\n",
       "<tr>\n",
       "<th style=\"border-top: double; text-align:center; font-style:normal; font-weight:bold; padding:0.2cm;  text-align:left; \">&nbsp;</th>\n",
       "<th colspan=\"3\" style=\"border-top: double; text-align:center; font-style:normal; font-weight:bold; padding:0.2cm; \">per days abstinent</th>\n",
       "</tr>\n",
       "<tr>\n",
       "<td style=\" text-align:center; border-bottom:1px solid; font-style:italic; font-weight:normal;  text-align:left; \">Predictors</td>\n",
       "<td style=\" text-align:center; border-bottom:1px solid; font-style:italic; font-weight:normal;  \">Estimates</td>\n",
       "<td style=\" text-align:center; border-bottom:1px solid; font-style:italic; font-weight:normal;  \">CI</td>\n",
       "<td style=\" text-align:center; border-bottom:1px solid; font-style:italic; font-weight:normal;  \">p</td>\n",
       "</tr>\n",
       "<tr>\n",
       "<td style=\" padding:0.2cm; text-align:left; vertical-align:top; text-align:left; \">mat yn [Yes]</td>\n",
       "<td style=\" padding:0.2cm; text-align:left; vertical-align:top; text-align:center;  \">&#45;4.04</td>\n",
       "<td style=\" padding:0.2cm; text-align:left; vertical-align:top; text-align:center;  \">&#45;11.86&nbsp;&ndash;&nbsp;3.79</td>\n",
       "<td style=\" padding:0.2cm; text-align:left; vertical-align:top; text-align:center;  \">0.311</td>\n",
       "</tr>\n",
       "\n",
       "<tr>\n",
       "<td style=\" padding:0.2cm; text-align:left; vertical-align:top; text-align:left; padding-top:0.1cm; padding-bottom:0.1cm;\">N <sub>study_id</sub></td>\n",
       "<td style=\" padding:0.2cm; text-align:left; vertical-align:top; padding-top:0.1cm; padding-bottom:0.1cm; text-align:left;\" colspan=\"3\">158</td>\n",
       "<tr>\n",
       "<td style=\" padding:0.2cm; text-align:left; vertical-align:top; text-align:left; padding-top:0.1cm; padding-bottom:0.1cm; border-top:1px solid;\">Observations</td>\n",
       "<td style=\" padding:0.2cm; text-align:left; vertical-align:top; padding-top:0.1cm; padding-bottom:0.1cm; text-align:left; border-top:1px solid;\" colspan=\"3\">410</td>\n",
       "</tr>\n",
       "<tr>\n",
       "<td style=\" padding:0.2cm; text-align:left; vertical-align:top; text-align:left; padding-top:0.1cm; padding-bottom:0.1cm;\">Marginal R<sup>2</sup> / Conditional R<sup>2</sup></td>\n",
       "<td style=\" padding:0.2cm; text-align:left; vertical-align:top; padding-top:0.1cm; padding-bottom:0.1cm; text-align:left;\" colspan=\"3\">0.342 / 0.838</td>\n",
       "</tr>\n",
       "\n",
       "</table>\n"
      ]
     }
    }
   ],
   "source": [
    "lmer(per_days_abstinent ~ time_c*arm_c + pda_0 + mat_yn + \n",
    "       (1 + time_c | study_id), data = subset(data, dyad == \"Patient\")) |>  \n",
    "  sjPlot::tab_model(show.re.var = F, show.icc = F, terms = c(\"mat_ynYes\"))"
   ],
   "id": "7587487b-728a-4019-bf83-eb972163f7fc"
  },
  {
   "cell_type": "markdown",
   "metadata": {},
   "source": [
    "`inpatient_yn_ever` - **significant**"
   ],
   "id": "50da42ca-feda-445a-9067-30d2e748f965"
  },
  {
   "cell_type": "code",
   "execution_count": null,
   "metadata": {},
   "outputs": [
    {
     "output_type": "display_data",
     "metadata": {},
     "data": {
      "text/html": [
       "<table style=\"border-collapse:collapse; border:none;\">\n",
       "<tr>\n",
       "<th style=\"border-top: double; text-align:center; font-style:normal; font-weight:bold; padding:0.2cm;  text-align:left; \">&nbsp;</th>\n",
       "<th colspan=\"3\" style=\"border-top: double; text-align:center; font-style:normal; font-weight:bold; padding:0.2cm; \">per days abstinent</th>\n",
       "</tr>\n",
       "<tr>\n",
       "<td style=\" text-align:center; border-bottom:1px solid; font-style:italic; font-weight:normal;  text-align:left; \">Predictors</td>\n",
       "<td style=\" text-align:center; border-bottom:1px solid; font-style:italic; font-weight:normal;  \">Estimates</td>\n",
       "<td style=\" text-align:center; border-bottom:1px solid; font-style:italic; font-weight:normal;  \">CI</td>\n",
       "<td style=\" text-align:center; border-bottom:1px solid; font-style:italic; font-weight:normal;  \">p</td>\n",
       "</tr>\n",
       "<tr>\n",
       "<td style=\" padding:0.2cm; text-align:left; vertical-align:top; text-align:left; \">inpatient yn ever [Yes]</td>\n",
       "<td style=\" padding:0.2cm; text-align:left; vertical-align:top; text-align:center;  \">12.24</td>\n",
       "<td style=\" padding:0.2cm; text-align:left; vertical-align:top; text-align:center;  \">1.42&nbsp;&ndash;&nbsp;23.06</td>\n",
       "<td style=\" padding:0.2cm; text-align:left; vertical-align:top; text-align:center;  \"><strong>0.027</strong></td>\n",
       "</tr>\n",
       "\n",
       "<tr>\n",
       "<td style=\" padding:0.2cm; text-align:left; vertical-align:top; text-align:left; padding-top:0.1cm; padding-bottom:0.1cm;\">N <sub>study_id</sub></td>\n",
       "<td style=\" padding:0.2cm; text-align:left; vertical-align:top; padding-top:0.1cm; padding-bottom:0.1cm; text-align:left;\" colspan=\"3\">158</td>\n",
       "<tr>\n",
       "<td style=\" padding:0.2cm; text-align:left; vertical-align:top; text-align:left; padding-top:0.1cm; padding-bottom:0.1cm; border-top:1px solid;\">Observations</td>\n",
       "<td style=\" padding:0.2cm; text-align:left; vertical-align:top; padding-top:0.1cm; padding-bottom:0.1cm; text-align:left; border-top:1px solid;\" colspan=\"3\">430</td>\n",
       "</tr>\n",
       "<tr>\n",
       "<td style=\" padding:0.2cm; text-align:left; vertical-align:top; text-align:left; padding-top:0.1cm; padding-bottom:0.1cm;\">Marginal R<sup>2</sup> / Conditional R<sup>2</sup></td>\n",
       "<td style=\" padding:0.2cm; text-align:left; vertical-align:top; padding-top:0.1cm; padding-bottom:0.1cm; text-align:left;\" colspan=\"3\">0.363 / 0.844</td>\n",
       "</tr>\n",
       "\n",
       "</table>\n"
      ]
     }
    }
   ],
   "source": [
    "lmer(per_days_abstinent ~ time_c*arm_c + pda_0 + inpatient_yn_ever + \n",
    "       (1 + time_c | study_id), data = subset(data, dyad == \"Patient\")) |> \n",
    "  sjPlot::tab_model(show.re.var = F, show.icc = F, \n",
    "                    terms = c(\"inpatient_yn_everYes\"))"
   ],
   "id": "ffa01b34-629d-475a-9746-36743f51ac04"
  },
  {
   "cell_type": "markdown",
   "metadata": {},
   "source": [
    "`other_psych_treatment_yn` - not significant"
   ],
   "id": "e12a82cf-4d72-4f7c-b4d5-664ced710450"
  },
  {
   "cell_type": "code",
   "execution_count": null,
   "metadata": {},
   "outputs": [
    {
     "output_type": "display_data",
     "metadata": {},
     "data": {
      "text/html": [
       "<table style=\"border-collapse:collapse; border:none;\">\n",
       "<tr>\n",
       "<th style=\"border-top: double; text-align:center; font-style:normal; font-weight:bold; padding:0.2cm;  text-align:left; \">&nbsp;</th>\n",
       "<th colspan=\"3\" style=\"border-top: double; text-align:center; font-style:normal; font-weight:bold; padding:0.2cm; \">per days abstinent</th>\n",
       "</tr>\n",
       "<tr>\n",
       "<td style=\" text-align:center; border-bottom:1px solid; font-style:italic; font-weight:normal;  text-align:left; \">Predictors</td>\n",
       "<td style=\" text-align:center; border-bottom:1px solid; font-style:italic; font-weight:normal;  \">Estimates</td>\n",
       "<td style=\" text-align:center; border-bottom:1px solid; font-style:italic; font-weight:normal;  \">CI</td>\n",
       "<td style=\" text-align:center; border-bottom:1px solid; font-style:italic; font-weight:normal;  \">p</td>\n",
       "</tr>\n",
       "<tr>\n",
       "<td style=\" padding:0.2cm; text-align:left; vertical-align:top; text-align:left; \">other psych treatment yn<br>[Yes]</td>\n",
       "<td style=\" padding:0.2cm; text-align:left; vertical-align:top; text-align:center;  \">2.47</td>\n",
       "<td style=\" padding:0.2cm; text-align:left; vertical-align:top; text-align:center;  \">&#45;3.83&nbsp;&ndash;&nbsp;8.78</td>\n",
       "<td style=\" padding:0.2cm; text-align:left; vertical-align:top; text-align:center;  \">0.441</td>\n",
       "</tr>\n",
       "\n",
       "<tr>\n",
       "<td style=\" padding:0.2cm; text-align:left; vertical-align:top; text-align:left; padding-top:0.1cm; padding-bottom:0.1cm;\">N <sub>study_id</sub></td>\n",
       "<td style=\" padding:0.2cm; text-align:left; vertical-align:top; padding-top:0.1cm; padding-bottom:0.1cm; text-align:left;\" colspan=\"3\">158</td>\n",
       "<tr>\n",
       "<td style=\" padding:0.2cm; text-align:left; vertical-align:top; text-align:left; padding-top:0.1cm; padding-bottom:0.1cm; border-top:1px solid;\">Observations</td>\n",
       "<td style=\" padding:0.2cm; text-align:left; vertical-align:top; padding-top:0.1cm; padding-bottom:0.1cm; text-align:left; border-top:1px solid;\" colspan=\"3\">413</td>\n",
       "</tr>\n",
       "<tr>\n",
       "<td style=\" padding:0.2cm; text-align:left; vertical-align:top; text-align:left; padding-top:0.1cm; padding-bottom:0.1cm;\">Marginal R<sup>2</sup> / Conditional R<sup>2</sup></td>\n",
       "<td style=\" padding:0.2cm; text-align:left; vertical-align:top; padding-top:0.1cm; padding-bottom:0.1cm; text-align:left;\" colspan=\"3\">0.346 / 0.840</td>\n",
       "</tr>\n",
       "\n",
       "</table>\n"
      ]
     }
    }
   ],
   "source": [
    "lmer(per_days_abstinent ~ time_c*arm_c + pda_0 + other_psych_treatment_yn + \n",
    "       (1 + time_c | study_id), data = subset(data, dyad == \"Patient\")) |> \n",
    "  sjPlot::tab_model(show.re.var = F, show.icc = F, \n",
    "                    terms = c(\"other_psych_treatment_ynYes\"))"
   ],
   "id": "8e23ce00-e857-4f0c-bbe6-e8df56762dc9"
  },
  {
   "cell_type": "markdown",
   "metadata": {},
   "source": [
    "`other_medications_yn` - not significant"
   ],
   "id": "b5b327b6-6f9d-4eb7-93f2-795d2f40c0d1"
  },
  {
   "cell_type": "code",
   "execution_count": null,
   "metadata": {},
   "outputs": [
    {
     "output_type": "display_data",
     "metadata": {},
     "data": {
      "text/html": [
       "<table style=\"border-collapse:collapse; border:none;\">\n",
       "<tr>\n",
       "<th style=\"border-top: double; text-align:center; font-style:normal; font-weight:bold; padding:0.2cm;  text-align:left; \">&nbsp;</th>\n",
       "<th colspan=\"3\" style=\"border-top: double; text-align:center; font-style:normal; font-weight:bold; padding:0.2cm; \">per days abstinent</th>\n",
       "</tr>\n",
       "<tr>\n",
       "<td style=\" text-align:center; border-bottom:1px solid; font-style:italic; font-weight:normal;  text-align:left; \">Predictors</td>\n",
       "<td style=\" text-align:center; border-bottom:1px solid; font-style:italic; font-weight:normal;  \">Estimates</td>\n",
       "<td style=\" text-align:center; border-bottom:1px solid; font-style:italic; font-weight:normal;  \">CI</td>\n",
       "<td style=\" text-align:center; border-bottom:1px solid; font-style:italic; font-weight:normal;  \">p</td>\n",
       "</tr>\n",
       "<tr>\n",
       "<td style=\" padding:0.2cm; text-align:left; vertical-align:top; text-align:left; \">other medications yn<br>[Yes]</td>\n",
       "<td style=\" padding:0.2cm; text-align:left; vertical-align:top; text-align:center;  \">0.09</td>\n",
       "<td style=\" padding:0.2cm; text-align:left; vertical-align:top; text-align:center;  \">&#45;6.15&nbsp;&ndash;&nbsp;6.33</td>\n",
       "<td style=\" padding:0.2cm; text-align:left; vertical-align:top; text-align:center;  \">0.978</td>\n",
       "</tr>\n",
       "\n",
       "<tr>\n",
       "<td style=\" padding:0.2cm; text-align:left; vertical-align:top; text-align:left; padding-top:0.1cm; padding-bottom:0.1cm;\">N <sub>study_id</sub></td>\n",
       "<td style=\" padding:0.2cm; text-align:left; vertical-align:top; padding-top:0.1cm; padding-bottom:0.1cm; text-align:left;\" colspan=\"3\">158</td>\n",
       "<tr>\n",
       "<td style=\" padding:0.2cm; text-align:left; vertical-align:top; text-align:left; padding-top:0.1cm; padding-bottom:0.1cm; border-top:1px solid;\">Observations</td>\n",
       "<td style=\" padding:0.2cm; text-align:left; vertical-align:top; padding-top:0.1cm; padding-bottom:0.1cm; text-align:left; border-top:1px solid;\" colspan=\"3\">409</td>\n",
       "</tr>\n",
       "<tr>\n",
       "<td style=\" padding:0.2cm; text-align:left; vertical-align:top; text-align:left; padding-top:0.1cm; padding-bottom:0.1cm;\">Marginal R<sup>2</sup> / Conditional R<sup>2</sup></td>\n",
       "<td style=\" padding:0.2cm; text-align:left; vertical-align:top; padding-top:0.1cm; padding-bottom:0.1cm; text-align:left;\" colspan=\"3\">0.342 / 0.837</td>\n",
       "</tr>\n",
       "\n",
       "</table>\n"
      ]
     }
    }
   ],
   "source": [
    "lmer(per_days_abstinent ~ time_c*arm_c + pda_0 + other_medications_yn + \n",
    "       (1 + time_c | study_id), data = subset(data, dyad == \"Patient\")) |> \n",
    "  sjPlot::tab_model(show.re.var = F, show.icc = F, \n",
    "                    terms = c(\"other_medications_ynYes\"))"
   ],
   "id": "2ca2d23f-341e-425c-9e87-f9ad42a1ac96"
  },
  {
   "cell_type": "markdown",
   "metadata": {},
   "source": [
    "##### Final Model with Significant Covariates"
   ],
   "id": "78d8009a-5628-4a48-99c7-100863517446"
  },
  {
   "cell_type": "code",
   "execution_count": null,
   "metadata": {},
   "outputs": [
    {
     "output_type": "display_data",
     "metadata": {},
     "data": {
      "text/html": [
       "<table style=\"border-collapse:collapse; border:none;\">\n",
       "<tr>\n",
       "<th style=\"border-top: double; text-align:center; font-style:normal; font-weight:bold; padding:0.2cm;  text-align:left; \">&nbsp;</th>\n",
       "<th colspan=\"3\" style=\"border-top: double; text-align:center; font-style:normal; font-weight:bold; padding:0.2cm; \">per days abstinent</th>\n",
       "</tr>\n",
       "<tr>\n",
       "<td style=\" text-align:center; border-bottom:1px solid; font-style:italic; font-weight:normal;  text-align:left; \">Predictors</td>\n",
       "<td style=\" text-align:center; border-bottom:1px solid; font-style:italic; font-weight:normal;  \">Estimates</td>\n",
       "<td style=\" text-align:center; border-bottom:1px solid; font-style:italic; font-weight:normal;  \">CI</td>\n",
       "<td style=\" text-align:center; border-bottom:1px solid; font-style:italic; font-weight:normal;  \">p</td>\n",
       "</tr>\n",
       "<tr>\n",
       "<td style=\" padding:0.2cm; text-align:left; vertical-align:top; text-align:left; \">(Intercept)</td>\n",
       "<td style=\" padding:0.2cm; text-align:left; vertical-align:top; text-align:center;  \">56.49</td>\n",
       "<td style=\" padding:0.2cm; text-align:left; vertical-align:top; text-align:center;  \">51.39&nbsp;&ndash;&nbsp;61.59</td>\n",
       "<td style=\" padding:0.2cm; text-align:left; vertical-align:top; text-align:center;  \"><strong>&lt;0.001</strong></td>\n",
       "</tr>\n",
       "<tr>\n",
       "<td style=\" padding:0.2cm; text-align:left; vertical-align:top; text-align:left; \">time c</td>\n",
       "<td style=\" padding:0.2cm; text-align:left; vertical-align:top; text-align:center;  \">5.93</td>\n",
       "<td style=\" padding:0.2cm; text-align:left; vertical-align:top; text-align:center;  \">3.46&nbsp;&ndash;&nbsp;8.39</td>\n",
       "<td style=\" padding:0.2cm; text-align:left; vertical-align:top; text-align:center;  \"><strong>&lt;0.001</strong></td>\n",
       "</tr>\n",
       "<tr>\n",
       "<td style=\" padding:0.2cm; text-align:left; vertical-align:top; text-align:left; \">arm cfam and achess vs C</td>\n",
       "<td style=\" padding:0.2cm; text-align:left; vertical-align:top; text-align:center;  \">1.41</td>\n",
       "<td style=\" padding:0.2cm; text-align:left; vertical-align:top; text-align:center;  \">&#45;7.44&nbsp;&ndash;&nbsp;10.26</td>\n",
       "<td style=\" padding:0.2cm; text-align:left; vertical-align:top; text-align:center;  \">0.755</td>\n",
       "</tr>\n",
       "<tr>\n",
       "<td style=\" padding:0.2cm; text-align:left; vertical-align:top; text-align:left; \">arm cachess vs fam</td>\n",
       "<td style=\" padding:0.2cm; text-align:left; vertical-align:top; text-align:center;  \">&#45;4.78</td>\n",
       "<td style=\" padding:0.2cm; text-align:left; vertical-align:top; text-align:center;  \">&#45;15.04&nbsp;&ndash;&nbsp;5.48</td>\n",
       "<td style=\" padding:0.2cm; text-align:left; vertical-align:top; text-align:center;  \">0.361</td>\n",
       "</tr>\n",
       "<tr>\n",
       "<td style=\" padding:0.2cm; text-align:left; vertical-align:top; text-align:left; \">pda 0</td>\n",
       "<td style=\" padding:0.2cm; text-align:left; vertical-align:top; text-align:center;  \">0.60</td>\n",
       "<td style=\" padding:0.2cm; text-align:left; vertical-align:top; text-align:center;  \">0.48&nbsp;&ndash;&nbsp;0.73</td>\n",
       "<td style=\" padding:0.2cm; text-align:left; vertical-align:top; text-align:center;  \"><strong>&lt;0.001</strong></td>\n",
       "</tr>\n",
       "<tr>\n",
       "<td style=\" padding:0.2cm; text-align:left; vertical-align:top; text-align:left; \">outpatient yn ever [Yes]</td>\n",
       "<td style=\" padding:0.2cm; text-align:left; vertical-align:top; text-align:center;  \">4.57</td>\n",
       "<td style=\" padding:0.2cm; text-align:left; vertical-align:top; text-align:center;  \">&#45;6.10&nbsp;&ndash;&nbsp;15.25</td>\n",
       "<td style=\" padding:0.2cm; text-align:left; vertical-align:top; text-align:center;  \">0.400</td>\n",
       "</tr>\n",
       "<tr>\n",
       "<td style=\" padding:0.2cm; text-align:left; vertical-align:top; text-align:left; \">meetings yn [Yes]</td>\n",
       "<td style=\" padding:0.2cm; text-align:left; vertical-align:top; text-align:center;  \">8.22</td>\n",
       "<td style=\" padding:0.2cm; text-align:left; vertical-align:top; text-align:center;  \">1.28&nbsp;&ndash;&nbsp;15.16</td>\n",
       "<td style=\" padding:0.2cm; text-align:left; vertical-align:top; text-align:center;  \"><strong>0.020</strong></td>\n",
       "</tr>\n",
       "<tr>\n",
       "<td style=\" padding:0.2cm; text-align:left; vertical-align:top; text-align:left; \">inpatient yn ever [Yes]</td>\n",
       "<td style=\" padding:0.2cm; text-align:left; vertical-align:top; text-align:center;  \">8.45</td>\n",
       "<td style=\" padding:0.2cm; text-align:left; vertical-align:top; text-align:center;  \">&#45;3.99&nbsp;&ndash;&nbsp;20.89</td>\n",
       "<td style=\" padding:0.2cm; text-align:left; vertical-align:top; text-align:center;  \">0.182</td>\n",
       "</tr>\n",
       "<tr>\n",
       "<td style=\" padding:0.2cm; text-align:left; vertical-align:top; text-align:left; \">time c × arm cfam and<br>achess vs C</td>\n",
       "<td style=\" padding:0.2cm; text-align:left; vertical-align:top; text-align:center;  \">5.14</td>\n",
       "<td style=\" padding:0.2cm; text-align:left; vertical-align:top; text-align:center;  \">&#45;0.01&nbsp;&ndash;&nbsp;10.29</td>\n",
       "<td style=\" padding:0.2cm; text-align:left; vertical-align:top; text-align:center;  \">0.050</td>\n",
       "</tr>\n",
       "<tr>\n",
       "<td style=\" padding:0.2cm; text-align:left; vertical-align:top; text-align:left; \">time c × arm cachess vs<br>fam</td>\n",
       "<td style=\" padding:0.2cm; text-align:left; vertical-align:top; text-align:center;  \">&#45;0.30</td>\n",
       "<td style=\" padding:0.2cm; text-align:left; vertical-align:top; text-align:center;  \">&#45;6.44&nbsp;&ndash;&nbsp;5.83</td>\n",
       "<td style=\" padding:0.2cm; text-align:left; vertical-align:top; text-align:center;  \">0.923</td>\n",
       "</tr>\n",
       "\n",
       "<tr>\n",
       "<td style=\" padding:0.2cm; text-align:left; vertical-align:top; text-align:left; padding-top:0.1cm; padding-bottom:0.1cm;\">N <sub>study_id</sub></td>\n",
       "<td style=\" padding:0.2cm; text-align:left; vertical-align:top; padding-top:0.1cm; padding-bottom:0.1cm; text-align:left;\" colspan=\"3\">158</td>\n",
       "<tr>\n",
       "<td style=\" padding:0.2cm; text-align:left; vertical-align:top; text-align:left; padding-top:0.1cm; padding-bottom:0.1cm; border-top:1px solid;\">Observations</td>\n",
       "<td style=\" padding:0.2cm; text-align:left; vertical-align:top; padding-top:0.1cm; padding-bottom:0.1cm; text-align:left; border-top:1px solid;\" colspan=\"3\">413</td>\n",
       "</tr>\n",
       "<tr>\n",
       "<td style=\" padding:0.2cm; text-align:left; vertical-align:top; text-align:left; padding-top:0.1cm; padding-bottom:0.1cm;\">Marginal R<sup>2</sup> / Conditional R<sup>2</sup></td>\n",
       "<td style=\" padding:0.2cm; text-align:left; vertical-align:top; padding-top:0.1cm; padding-bottom:0.1cm; text-align:left;\" colspan=\"3\">0.370 / 0.846</td>\n",
       "</tr>\n",
       "\n",
       "</table>\n"
      ]
     }
    }
   ],
   "source": [
    "lmer(per_days_abstinent ~ time_c*arm_c + pda_0 + outpatient_yn_ever + \n",
    "       meetings_yn + inpatient_yn_ever + (1 + time_c | study_id), \n",
    "     data = subset(data, dyad == \"Patient\")) |> \n",
    "  sjPlot::tab_model(show.re.var = F, show.icc = F)"
   ],
   "id": "59aa4951-0cc1-474b-9b26-997e622f1548"
  },
  {
   "cell_type": "markdown",
   "metadata": {},
   "source": [
    "#### Secondary Partner Outcome 1: `relationsatisf_scored`\n",
    "\n",
    "Distribution of residuals"
   ],
   "id": "6f775007-3422-4790-8636-65454458ed55"
  },
  {
   "cell_type": "code",
   "execution_count": null,
   "metadata": {},
   "outputs": [
    {
     "output_type": "display_data",
     "metadata": {},
     "data": {
      "image/png": "[encoded data removed]"
     }
    },
    {
     "output_type": "display_data",
     "metadata": {},
     "data": {
      "image/png": "[encoded data removed]"
     }
    }
   ],
   "source": [
    "model_partner_sec_1 <- lmer(relationsatisf_scored ~ time_c*arm_c + \n",
    "                              relationsatisf_0 + (1 + time_c | study_id), \n",
    "                            data = subset(data, dyad == \"Partner\"))\n",
    "\n",
    "tibble(error = residuals(model_partner_sec_1)) |> \n",
    "  ggplot(aes(x = error)) +\n",
    "  geom_histogram(color = \"black\", fill = \"light grey\", bins = 30)"
   ],
   "id": "00fb187c-c2b2-454d-8f8f-4672fc4c6339"
  },
  {
   "cell_type": "markdown",
   "metadata": {},
   "source": [
    "##### Look for significant covariates\n",
    "\n",
    "`race_white_only` - not significant"
   ],
   "id": "7b8f425a-f5be-42b4-ae5b-e040d80fa1fd"
  },
  {
   "cell_type": "code",
   "execution_count": null,
   "metadata": {},
   "outputs": [
    {
     "output_type": "display_data",
     "metadata": {},
     "data": {
      "text/html": [
       "<table style=\"border-collapse:collapse; border:none;\">\n",
       "<tr>\n",
       "<th style=\"border-top: double; text-align:center; font-style:normal; font-weight:bold; padding:0.2cm;  text-align:left; \">&nbsp;</th>\n",
       "<th colspan=\"3\" style=\"border-top: double; text-align:center; font-style:normal; font-weight:bold; padding:0.2cm; \">relationsatisf scored</th>\n",
       "</tr>\n",
       "<tr>\n",
       "<td style=\" text-align:center; border-bottom:1px solid; font-style:italic; font-weight:normal;  text-align:left; \">Predictors</td>\n",
       "<td style=\" text-align:center; border-bottom:1px solid; font-style:italic; font-weight:normal;  \">Estimates</td>\n",
       "<td style=\" text-align:center; border-bottom:1px solid; font-style:italic; font-weight:normal;  \">CI</td>\n",
       "<td style=\" text-align:center; border-bottom:1px solid; font-style:italic; font-weight:normal;  \">p</td>\n",
       "</tr>\n",
       "<tr>\n",
       "<td style=\" padding:0.2cm; text-align:left; vertical-align:top; text-align:left; \">race white only [Yes]</td>\n",
       "<td style=\" padding:0.2cm; text-align:left; vertical-align:top; text-align:center;  \">0.45</td>\n",
       "<td style=\" padding:0.2cm; text-align:left; vertical-align:top; text-align:center;  \">&#45;1.14&nbsp;&ndash;&nbsp;2.04</td>\n",
       "<td style=\" padding:0.2cm; text-align:left; vertical-align:top; text-align:center;  \">0.578</td>\n",
       "</tr>\n",
       "\n",
       "<tr>\n",
       "<td style=\" padding:0.2cm; text-align:left; vertical-align:top; text-align:left; padding-top:0.1cm; padding-bottom:0.1cm;\">N <sub>study_id</sub></td>\n",
       "<td style=\" padding:0.2cm; text-align:left; vertical-align:top; padding-top:0.1cm; padding-bottom:0.1cm; text-align:left;\" colspan=\"3\">170</td>\n",
       "<tr>\n",
       "<td style=\" padding:0.2cm; text-align:left; vertical-align:top; text-align:left; padding-top:0.1cm; padding-bottom:0.1cm; border-top:1px solid;\">Observations</td>\n",
       "<td style=\" padding:0.2cm; text-align:left; vertical-align:top; padding-top:0.1cm; padding-bottom:0.1cm; text-align:left; border-top:1px solid;\" colspan=\"3\">454</td>\n",
       "</tr>\n",
       "<tr>\n",
       "<td style=\" padding:0.2cm; text-align:left; vertical-align:top; text-align:left; padding-top:0.1cm; padding-bottom:0.1cm;\">Marginal R<sup>2</sup> / Conditional R<sup>2</sup></td>\n",
       "<td style=\" padding:0.2cm; text-align:left; vertical-align:top; padding-top:0.1cm; padding-bottom:0.1cm; text-align:left;\" colspan=\"3\">0.390 / 0.729</td>\n",
       "</tr>\n",
       "\n",
       "</table>\n"
      ]
     }
    },
    {
     "output_type": "display_data",
     "metadata": {},
     "data": {
      "text/html": [
       "<table style=\"border-collapse:collapse; border:none;\">\n",
       "<tr>\n",
       "<th style=\"border-top: double; text-align:center; font-style:normal; font-weight:bold; padding:0.2cm;  text-align:left; \">&nbsp;</th>\n",
       "<th colspan=\"3\" style=\"border-top: double; text-align:center; font-style:normal; font-weight:bold; padding:0.2cm; \">relationsatisf scored</th>\n",
       "</tr>\n",
       "<tr>\n",
       "<td style=\" text-align:center; border-bottom:1px solid; font-style:italic; font-weight:normal;  text-align:left; \">Predictors</td>\n",
       "<td style=\" text-align:center; border-bottom:1px solid; font-style:italic; font-weight:normal;  \">Estimates</td>\n",
       "<td style=\" text-align:center; border-bottom:1px solid; font-style:italic; font-weight:normal;  \">CI</td>\n",
       "<td style=\" text-align:center; border-bottom:1px solid; font-style:italic; font-weight:normal;  \">p</td>\n",
       "</tr>\n",
       "<tr>\n",
       "<td style=\" padding:0.2cm; text-align:left; vertical-align:top; text-align:left; \">race white only [Yes]</td>\n",
       "<td style=\" padding:0.2cm; text-align:left; vertical-align:top; text-align:center;  \">0.45</td>\n",
       "<td style=\" padding:0.2cm; text-align:left; vertical-align:top; text-align:center;  \">&#45;1.03&nbsp;&ndash;&nbsp;1.93</td>\n",
       "<td style=\" padding:0.2cm; text-align:left; vertical-align:top; text-align:center;  \">0.552</td>\n",
       "</tr>\n",
       "\n",
       "<tr>\n",
       "<td style=\" padding:0.2cm; text-align:left; vertical-align:top; text-align:left; padding-top:0.1cm; padding-bottom:0.1cm;\">N <sub>study_id</sub></td>\n",
       "<td style=\" padding:0.2cm; text-align:left; vertical-align:top; padding-top:0.1cm; padding-bottom:0.1cm; text-align:left;\" colspan=\"3\">168</td>\n",
       "<tr>\n",
       "<td style=\" padding:0.2cm; text-align:left; vertical-align:top; text-align:left; padding-top:0.1cm; padding-bottom:0.1cm; border-top:1px solid;\">Observations</td>\n",
       "<td style=\" padding:0.2cm; text-align:left; vertical-align:top; padding-top:0.1cm; padding-bottom:0.1cm; text-align:left; border-top:1px solid;\" colspan=\"3\">436</td>\n",
       "</tr>\n",
       "<tr>\n",
       "<td style=\" padding:0.2cm; text-align:left; vertical-align:top; text-align:left; padding-top:0.1cm; padding-bottom:0.1cm;\">Marginal R<sup>2</sup> / Conditional R<sup>2</sup></td>\n",
       "<td style=\" padding:0.2cm; text-align:left; vertical-align:top; padding-top:0.1cm; padding-bottom:0.1cm; text-align:left;\" colspan=\"3\">0.307 / 0.726</td>\n",
       "</tr>\n",
       "\n",
       "</table>\n"
      ]
     }
    }
   ],
   "source": [
    "lmer(relationsatisf_scored ~ time_c*arm_c + relationsatisf_0 + race_white_only +\n",
    "       (1 + time_c | study_id), data = subset(data, dyad == \"Partner\")) |> \n",
    "  sjPlot::tab_model(show.re.var = F, show.icc = F, \n",
    "                    terms = c(\"race_white_onlyYes\"))"
   ],
   "id": "35ab4ffd-05c1-41b3-a72b-92f406d8c363"
  },
  {
   "cell_type": "markdown",
   "metadata": {},
   "source": [
    "`age_c` - not significant"
   ],
   "id": "90294222-6c29-4d10-ac3e-294bda3da5b7"
  },
  {
   "cell_type": "code",
   "execution_count": null,
   "metadata": {},
   "outputs": [
    {
     "output_type": "display_data",
     "metadata": {},
     "data": {
      "text/html": [
       "<table style=\"border-collapse:collapse; border:none;\">\n",
       "<tr>\n",
       "<th style=\"border-top: double; text-align:center; font-style:normal; font-weight:bold; padding:0.2cm;  text-align:left; \">&nbsp;</th>\n",
       "<th colspan=\"3\" style=\"border-top: double; text-align:center; font-style:normal; font-weight:bold; padding:0.2cm; \">relationsatisf scored</th>\n",
       "</tr>\n",
       "<tr>\n",
       "<td style=\" text-align:center; border-bottom:1px solid; font-style:italic; font-weight:normal;  text-align:left; \">Predictors</td>\n",
       "<td style=\" text-align:center; border-bottom:1px solid; font-style:italic; font-weight:normal;  \">Estimates</td>\n",
       "<td style=\" text-align:center; border-bottom:1px solid; font-style:italic; font-weight:normal;  \">CI</td>\n",
       "<td style=\" text-align:center; border-bottom:1px solid; font-style:italic; font-weight:normal;  \">p</td>\n",
       "</tr>\n",
       "<tr>\n",
       "<td style=\" padding:0.2cm; text-align:left; vertical-align:top; text-align:left; \">age c</td>\n",
       "<td style=\" padding:0.2cm; text-align:left; vertical-align:top; text-align:center;  \">&#45;0.02</td>\n",
       "<td style=\" padding:0.2cm; text-align:left; vertical-align:top; text-align:center;  \">&#45;0.06&nbsp;&ndash;&nbsp;0.03</td>\n",
       "<td style=\" padding:0.2cm; text-align:left; vertical-align:top; text-align:center;  \">0.433</td>\n",
       "</tr>\n",
       "\n",
       "<tr>\n",
       "<td style=\" padding:0.2cm; text-align:left; vertical-align:top; text-align:left; padding-top:0.1cm; padding-bottom:0.1cm;\">N <sub>study_id</sub></td>\n",
       "<td style=\" padding:0.2cm; text-align:left; vertical-align:top; padding-top:0.1cm; padding-bottom:0.1cm; text-align:left;\" colspan=\"3\">170</td>\n",
       "<tr>\n",
       "<td style=\" padding:0.2cm; text-align:left; vertical-align:top; text-align:left; padding-top:0.1cm; padding-bottom:0.1cm; border-top:1px solid;\">Observations</td>\n",
       "<td style=\" padding:0.2cm; text-align:left; vertical-align:top; padding-top:0.1cm; padding-bottom:0.1cm; text-align:left; border-top:1px solid;\" colspan=\"3\">454</td>\n",
       "</tr>\n",
       "<tr>\n",
       "<td style=\" padding:0.2cm; text-align:left; vertical-align:top; text-align:left; padding-top:0.1cm; padding-bottom:0.1cm;\">Marginal R<sup>2</sup> / Conditional R<sup>2</sup></td>\n",
       "<td style=\" padding:0.2cm; text-align:left; vertical-align:top; padding-top:0.1cm; padding-bottom:0.1cm; text-align:left;\" colspan=\"3\">0.391 / 0.729</td>\n",
       "</tr>\n",
       "\n",
       "</table>\n"
      ]
     }
    },
    {
     "output_type": "display_data",
     "metadata": {},
     "data": {
      "text/html": [
       "<table style=\"border-collapse:collapse; border:none;\">\n",
       "<tr>\n",
       "<th style=\"border-top: double; text-align:center; font-style:normal; font-weight:bold; padding:0.2cm;  text-align:left; \">&nbsp;</th>\n",
       "<th colspan=\"3\" style=\"border-top: double; text-align:center; font-style:normal; font-weight:bold; padding:0.2cm; \">relationsatisf scored</th>\n",
       "</tr>\n",
       "<tr>\n",
       "<td style=\" text-align:center; border-bottom:1px solid; font-style:italic; font-weight:normal;  text-align:left; \">Predictors</td>\n",
       "<td style=\" text-align:center; border-bottom:1px solid; font-style:italic; font-weight:normal;  \">Estimates</td>\n",
       "<td style=\" text-align:center; border-bottom:1px solid; font-style:italic; font-weight:normal;  \">CI</td>\n",
       "<td style=\" text-align:center; border-bottom:1px solid; font-style:italic; font-weight:normal;  \">p</td>\n",
       "</tr>\n",
       "<tr>\n",
       "<td style=\" padding:0.2cm; text-align:left; vertical-align:top; text-align:left; \">age c</td>\n",
       "<td style=\" padding:0.2cm; text-align:left; vertical-align:top; text-align:center;  \">&#45;0.04</td>\n",
       "<td style=\" padding:0.2cm; text-align:left; vertical-align:top; text-align:center;  \">&#45;0.09&nbsp;&ndash;&nbsp;0.02</td>\n",
       "<td style=\" padding:0.2cm; text-align:left; vertical-align:top; text-align:center;  \">0.173</td>\n",
       "</tr>\n",
       "\n",
       "<tr>\n",
       "<td style=\" padding:0.2cm; text-align:left; vertical-align:top; text-align:left; padding-top:0.1cm; padding-bottom:0.1cm;\">N <sub>study_id</sub></td>\n",
       "<td style=\" padding:0.2cm; text-align:left; vertical-align:top; padding-top:0.1cm; padding-bottom:0.1cm; text-align:left;\" colspan=\"3\">167</td>\n",
       "<tr>\n",
       "<td style=\" padding:0.2cm; text-align:left; vertical-align:top; text-align:left; padding-top:0.1cm; padding-bottom:0.1cm; border-top:1px solid;\">Observations</td>\n",
       "<td style=\" padding:0.2cm; text-align:left; vertical-align:top; padding-top:0.1cm; padding-bottom:0.1cm; text-align:left; border-top:1px solid;\" colspan=\"3\">433</td>\n",
       "</tr>\n",
       "<tr>\n",
       "<td style=\" padding:0.2cm; text-align:left; vertical-align:top; text-align:left; padding-top:0.1cm; padding-bottom:0.1cm;\">Marginal R<sup>2</sup> / Conditional R<sup>2</sup></td>\n",
       "<td style=\" padding:0.2cm; text-align:left; vertical-align:top; padding-top:0.1cm; padding-bottom:0.1cm; text-align:left;\" colspan=\"3\">0.320 / 0.739</td>\n",
       "</tr>\n",
       "\n",
       "</table>\n"
      ]
     }
    }
   ],
   "source": [
    "lmer(relationsatisf_scored ~ time_c*arm_c + relationsatisf_0 + age_c +\n",
    "       (1 + time_c | study_id), data = subset(data, dyad == \"Partner\")) |> \n",
    "  sjPlot::tab_model(show.re.var = F, show.icc = F, terms = c(\"age_c\"))"
   ],
   "id": "c2769659-baae-4863-8a12-ff5021e197c7"
  },
  {
   "cell_type": "markdown",
   "metadata": {},
   "source": [
    "`edu_c` - not significant for partner, **significant for patient**"
   ],
   "id": "aac8b720-31fa-4b92-bbd5-eefc531eac44"
  },
  {
   "cell_type": "code",
   "execution_count": null,
   "metadata": {},
   "outputs": [
    {
     "output_type": "display_data",
     "metadata": {},
     "data": {
      "text/html": [
       "<table style=\"border-collapse:collapse; border:none;\">\n",
       "<tr>\n",
       "<th style=\"border-top: double; text-align:center; font-style:normal; font-weight:bold; padding:0.2cm;  text-align:left; \">&nbsp;</th>\n",
       "<th colspan=\"3\" style=\"border-top: double; text-align:center; font-style:normal; font-weight:bold; padding:0.2cm; \">relationsatisf scored</th>\n",
       "</tr>\n",
       "<tr>\n",
       "<td style=\" text-align:center; border-bottom:1px solid; font-style:italic; font-weight:normal;  text-align:left; \">Predictors</td>\n",
       "<td style=\" text-align:center; border-bottom:1px solid; font-style:italic; font-weight:normal;  \">Estimates</td>\n",
       "<td style=\" text-align:center; border-bottom:1px solid; font-style:italic; font-weight:normal;  \">CI</td>\n",
       "<td style=\" text-align:center; border-bottom:1px solid; font-style:italic; font-weight:normal;  \">p</td>\n",
       "</tr>\n",
       "<tr>\n",
       "<td style=\" padding:0.2cm; text-align:left; vertical-align:top; text-align:left; \">edu c</td>\n",
       "<td style=\" padding:0.2cm; text-align:left; vertical-align:top; text-align:center;  \">0.37</td>\n",
       "<td style=\" padding:0.2cm; text-align:left; vertical-align:top; text-align:center;  \">&#45;0.26&nbsp;&ndash;&nbsp;0.99</td>\n",
       "<td style=\" padding:0.2cm; text-align:left; vertical-align:top; text-align:center;  \">0.254</td>\n",
       "</tr>\n",
       "\n",
       "<tr>\n",
       "<td style=\" padding:0.2cm; text-align:left; vertical-align:top; text-align:left; padding-top:0.1cm; padding-bottom:0.1cm;\">N <sub>study_id</sub></td>\n",
       "<td style=\" padding:0.2cm; text-align:left; vertical-align:top; padding-top:0.1cm; padding-bottom:0.1cm; text-align:left;\" colspan=\"3\">170</td>\n",
       "<tr>\n",
       "<td style=\" padding:0.2cm; text-align:left; vertical-align:top; text-align:left; padding-top:0.1cm; padding-bottom:0.1cm; border-top:1px solid;\">Observations</td>\n",
       "<td style=\" padding:0.2cm; text-align:left; vertical-align:top; padding-top:0.1cm; padding-bottom:0.1cm; text-align:left; border-top:1px solid;\" colspan=\"3\">454</td>\n",
       "</tr>\n",
       "<tr>\n",
       "<td style=\" padding:0.2cm; text-align:left; vertical-align:top; text-align:left; padding-top:0.1cm; padding-bottom:0.1cm;\">Marginal R<sup>2</sup> / Conditional R<sup>2</sup></td>\n",
       "<td style=\" padding:0.2cm; text-align:left; vertical-align:top; padding-top:0.1cm; padding-bottom:0.1cm; text-align:left;\" colspan=\"3\">0.393 / 0.729</td>\n",
       "</tr>\n",
       "\n",
       "</table>\n"
      ]
     }
    },
    {
     "output_type": "display_data",
     "metadata": {},
     "data": {
      "text/html": [
       "<table style=\"border-collapse:collapse; border:none;\">\n",
       "<tr>\n",
       "<th style=\"border-top: double; text-align:center; font-style:normal; font-weight:bold; padding:0.2cm;  text-align:left; \">&nbsp;</th>\n",
       "<th colspan=\"3\" style=\"border-top: double; text-align:center; font-style:normal; font-weight:bold; padding:0.2cm; \">relationsatisf scored</th>\n",
       "</tr>\n",
       "<tr>\n",
       "<td style=\" text-align:center; border-bottom:1px solid; font-style:italic; font-weight:normal;  text-align:left; \">Predictors</td>\n",
       "<td style=\" text-align:center; border-bottom:1px solid; font-style:italic; font-weight:normal;  \">Estimates</td>\n",
       "<td style=\" text-align:center; border-bottom:1px solid; font-style:italic; font-weight:normal;  \">CI</td>\n",
       "<td style=\" text-align:center; border-bottom:1px solid; font-style:italic; font-weight:normal;  \">p</td>\n",
       "</tr>\n",
       "<tr>\n",
       "<td style=\" padding:0.2cm; text-align:left; vertical-align:top; text-align:left; \">edu c</td>\n",
       "<td style=\" padding:0.2cm; text-align:left; vertical-align:top; text-align:center;  \">0.61</td>\n",
       "<td style=\" padding:0.2cm; text-align:left; vertical-align:top; text-align:center;  \">0.03&nbsp;&ndash;&nbsp;1.20</td>\n",
       "<td style=\" padding:0.2cm; text-align:left; vertical-align:top; text-align:center;  \"><strong>0.040</strong></td>\n",
       "</tr>\n",
       "\n",
       "<tr>\n",
       "<td style=\" padding:0.2cm; text-align:left; vertical-align:top; text-align:left; padding-top:0.1cm; padding-bottom:0.1cm;\">N <sub>study_id</sub></td>\n",
       "<td style=\" padding:0.2cm; text-align:left; vertical-align:top; padding-top:0.1cm; padding-bottom:0.1cm; text-align:left;\" colspan=\"3\">168</td>\n",
       "<tr>\n",
       "<td style=\" padding:0.2cm; text-align:left; vertical-align:top; text-align:left; padding-top:0.1cm; padding-bottom:0.1cm; border-top:1px solid;\">Observations</td>\n",
       "<td style=\" padding:0.2cm; text-align:left; vertical-align:top; padding-top:0.1cm; padding-bottom:0.1cm; text-align:left; border-top:1px solid;\" colspan=\"3\">436</td>\n",
       "</tr>\n",
       "<tr>\n",
       "<td style=\" padding:0.2cm; text-align:left; vertical-align:top; text-align:left; padding-top:0.1cm; padding-bottom:0.1cm;\">Marginal R<sup>2</sup> / Conditional R<sup>2</sup></td>\n",
       "<td style=\" padding:0.2cm; text-align:left; vertical-align:top; padding-top:0.1cm; padding-bottom:0.1cm; text-align:left;\" colspan=\"3\">0.318 / 0.723</td>\n",
       "</tr>\n",
       "\n",
       "</table>\n"
      ]
     }
    }
   ],
   "source": [
    "lmer(relationsatisf_scored ~ time_c*arm_c + relationsatisf_0 + edu_c +\n",
    "       (1 + time_c | study_id), data = subset(data, dyad == \"Partner\")) |> \n",
    "  sjPlot::tab_model(show.re.var = F, show.icc = F, terms = c(\"edu_c\"))"
   ],
   "id": "345cc478-51f6-4244-94ed-c95b323528ff"
  },
  {
   "cell_type": "markdown",
   "metadata": {},
   "source": [
    "`meetings_yn` - not significant"
   ],
   "id": "54d20dca-ca69-4050-bb70-0c5494e60880"
  },
  {
   "cell_type": "code",
   "execution_count": null,
   "metadata": {},
   "outputs": [
    {
     "output_type": "display_data",
     "metadata": {},
     "data": {
      "text/html": [
       "<table style=\"border-collapse:collapse; border:none;\">\n",
       "<tr>\n",
       "<th style=\"border-top: double; text-align:center; font-style:normal; font-weight:bold; padding:0.2cm;  text-align:left; \">&nbsp;</th>\n",
       "<th colspan=\"3\" style=\"border-top: double; text-align:center; font-style:normal; font-weight:bold; padding:0.2cm; \">relationsatisf scored</th>\n",
       "</tr>\n",
       "<tr>\n",
       "<td style=\" text-align:center; border-bottom:1px solid; font-style:italic; font-weight:normal;  text-align:left; \">Predictors</td>\n",
       "<td style=\" text-align:center; border-bottom:1px solid; font-style:italic; font-weight:normal;  \">Estimates</td>\n",
       "<td style=\" text-align:center; border-bottom:1px solid; font-style:italic; font-weight:normal;  \">CI</td>\n",
       "<td style=\" text-align:center; border-bottom:1px solid; font-style:italic; font-weight:normal;  \">p</td>\n",
       "</tr>\n",
       "<tr>\n",
       "<td style=\" padding:0.2cm; text-align:left; vertical-align:top; text-align:left; \">meetings yn [Yes]</td>\n",
       "<td style=\" padding:0.2cm; text-align:left; vertical-align:top; text-align:center;  \">&#45;0.60</td>\n",
       "<td style=\" padding:0.2cm; text-align:left; vertical-align:top; text-align:center;  \">&#45;2.16&nbsp;&ndash;&nbsp;0.97</td>\n",
       "<td style=\" padding:0.2cm; text-align:left; vertical-align:top; text-align:center;  \">0.453</td>\n",
       "</tr>\n",
       "\n",
       "<tr>\n",
       "<td style=\" padding:0.2cm; text-align:left; vertical-align:top; text-align:left; padding-top:0.1cm; padding-bottom:0.1cm;\">N <sub>study_id</sub></td>\n",
       "<td style=\" padding:0.2cm; text-align:left; vertical-align:top; padding-top:0.1cm; padding-bottom:0.1cm; text-align:left;\" colspan=\"3\">170</td>\n",
       "<tr>\n",
       "<td style=\" padding:0.2cm; text-align:left; vertical-align:top; text-align:left; padding-top:0.1cm; padding-bottom:0.1cm; border-top:1px solid;\">Observations</td>\n",
       "<td style=\" padding:0.2cm; text-align:left; vertical-align:top; padding-top:0.1cm; padding-bottom:0.1cm; text-align:left; border-top:1px solid;\" colspan=\"3\">454</td>\n",
       "</tr>\n",
       "<tr>\n",
       "<td style=\" padding:0.2cm; text-align:left; vertical-align:top; text-align:left; padding-top:0.1cm; padding-bottom:0.1cm;\">Marginal R<sup>2</sup> / Conditional R<sup>2</sup></td>\n",
       "<td style=\" padding:0.2cm; text-align:left; vertical-align:top; padding-top:0.1cm; padding-bottom:0.1cm; text-align:left;\" colspan=\"3\">0.390 / 0.729</td>\n",
       "</tr>\n",
       "\n",
       "</table>\n"
      ]
     }
    },
    {
     "output_type": "display_data",
     "metadata": {},
     "data": {
      "text/html": [
       "<table style=\"border-collapse:collapse; border:none;\">\n",
       "<tr>\n",
       "<th style=\"border-top: double; text-align:center; font-style:normal; font-weight:bold; padding:0.2cm;  text-align:left; \">&nbsp;</th>\n",
       "<th colspan=\"3\" style=\"border-top: double; text-align:center; font-style:normal; font-weight:bold; padding:0.2cm; \">relationsatisf scored</th>\n",
       "</tr>\n",
       "<tr>\n",
       "<td style=\" text-align:center; border-bottom:1px solid; font-style:italic; font-weight:normal;  text-align:left; \">Predictors</td>\n",
       "<td style=\" text-align:center; border-bottom:1px solid; font-style:italic; font-weight:normal;  \">Estimates</td>\n",
       "<td style=\" text-align:center; border-bottom:1px solid; font-style:italic; font-weight:normal;  \">CI</td>\n",
       "<td style=\" text-align:center; border-bottom:1px solid; font-style:italic; font-weight:normal;  \">p</td>\n",
       "</tr>\n",
       "<tr>\n",
       "<td style=\" padding:0.2cm; text-align:left; vertical-align:top; text-align:left; \">meetings yn [Yes]</td>\n",
       "<td style=\" padding:0.2cm; text-align:left; vertical-align:top; text-align:center;  \">0.52</td>\n",
       "<td style=\" padding:0.2cm; text-align:left; vertical-align:top; text-align:center;  \">&#45;0.64&nbsp;&ndash;&nbsp;1.69</td>\n",
       "<td style=\" padding:0.2cm; text-align:left; vertical-align:top; text-align:center;  \">0.379</td>\n",
       "</tr>\n",
       "\n",
       "<tr>\n",
       "<td style=\" padding:0.2cm; text-align:left; vertical-align:top; text-align:left; padding-top:0.1cm; padding-bottom:0.1cm;\">N <sub>study_id</sub></td>\n",
       "<td style=\" padding:0.2cm; text-align:left; vertical-align:top; padding-top:0.1cm; padding-bottom:0.1cm; text-align:left;\" colspan=\"3\">167</td>\n",
       "<tr>\n",
       "<td style=\" padding:0.2cm; text-align:left; vertical-align:top; text-align:left; padding-top:0.1cm; padding-bottom:0.1cm; border-top:1px solid;\">Observations</td>\n",
       "<td style=\" padding:0.2cm; text-align:left; vertical-align:top; padding-top:0.1cm; padding-bottom:0.1cm; text-align:left; border-top:1px solid;\" colspan=\"3\">435</td>\n",
       "</tr>\n",
       "<tr>\n",
       "<td style=\" padding:0.2cm; text-align:left; vertical-align:top; text-align:left; padding-top:0.1cm; padding-bottom:0.1cm;\">Marginal R<sup>2</sup> / Conditional R<sup>2</sup></td>\n",
       "<td style=\" padding:0.2cm; text-align:left; vertical-align:top; padding-top:0.1cm; padding-bottom:0.1cm; text-align:left;\" colspan=\"3\">0.306 / 0.728</td>\n",
       "</tr>\n",
       "\n",
       "</table>\n"
      ]
     }
    }
   ],
   "source": [
    "lmer(relationsatisf_scored ~ time_c*arm_c + relationsatisf_0 + meetings_yn +\n",
    "       (1 + time_c | study_id), data = subset(data, dyad == \"Partner\")) |> \n",
    "  sjPlot::tab_model(show.re.var = F, show.icc = F, terms = c(\"meetings_ynYes\"))"
   ],
   "id": "1e59f3a4-8081-498c-9d5f-d2178c1a4547"
  },
  {
   "cell_type": "markdown",
   "metadata": {},
   "source": [
    "`outpatient_yn_ever` - Not significant"
   ],
   "id": "f98f4a63-11d3-42a2-8833-105189413773"
  },
  {
   "cell_type": "code",
   "execution_count": null,
   "metadata": {},
   "outputs": [
    {
     "output_type": "display_data",
     "metadata": {},
     "data": {
      "text/html": [
       "<table style=\"border-collapse:collapse; border:none;\">\n",
       "<tr>\n",
       "<th style=\"border-top: double; text-align:center; font-style:normal; font-weight:bold; padding:0.2cm;  text-align:left; \">&nbsp;</th>\n",
       "<th colspan=\"3\" style=\"border-top: double; text-align:center; font-style:normal; font-weight:bold; padding:0.2cm; \">relationsatisf scored</th>\n",
       "</tr>\n",
       "<tr>\n",
       "<td style=\" text-align:center; border-bottom:1px solid; font-style:italic; font-weight:normal;  text-align:left; \">Predictors</td>\n",
       "<td style=\" text-align:center; border-bottom:1px solid; font-style:italic; font-weight:normal;  \">Estimates</td>\n",
       "<td style=\" text-align:center; border-bottom:1px solid; font-style:italic; font-weight:normal;  \">CI</td>\n",
       "<td style=\" text-align:center; border-bottom:1px solid; font-style:italic; font-weight:normal;  \">p</td>\n",
       "</tr>\n",
       "<tr>\n",
       "<td style=\" padding:0.2cm; text-align:left; vertical-align:top; text-align:left; \">outpatient yn ever [Yes]</td>\n",
       "<td style=\" padding:0.2cm; text-align:left; vertical-align:top; text-align:center;  \">&#45;0.62</td>\n",
       "<td style=\" padding:0.2cm; text-align:left; vertical-align:top; text-align:center;  \">&#45;3.51&nbsp;&ndash;&nbsp;2.26</td>\n",
       "<td style=\" padding:0.2cm; text-align:left; vertical-align:top; text-align:center;  \">0.672</td>\n",
       "</tr>\n",
       "\n",
       "<tr>\n",
       "<td style=\" padding:0.2cm; text-align:left; vertical-align:top; text-align:left; padding-top:0.1cm; padding-bottom:0.1cm;\">N <sub>study_id</sub></td>\n",
       "<td style=\" padding:0.2cm; text-align:left; vertical-align:top; padding-top:0.1cm; padding-bottom:0.1cm; text-align:left;\" colspan=\"3\">170</td>\n",
       "<tr>\n",
       "<td style=\" padding:0.2cm; text-align:left; vertical-align:top; text-align:left; padding-top:0.1cm; padding-bottom:0.1cm; border-top:1px solid;\">Observations</td>\n",
       "<td style=\" padding:0.2cm; text-align:left; vertical-align:top; padding-top:0.1cm; padding-bottom:0.1cm; text-align:left; border-top:1px solid;\" colspan=\"3\">454</td>\n",
       "</tr>\n",
       "<tr>\n",
       "<td style=\" padding:0.2cm; text-align:left; vertical-align:top; text-align:left; padding-top:0.1cm; padding-bottom:0.1cm;\">Marginal R<sup>2</sup> / Conditional R<sup>2</sup></td>\n",
       "<td style=\" padding:0.2cm; text-align:left; vertical-align:top; padding-top:0.1cm; padding-bottom:0.1cm; text-align:left;\" colspan=\"3\">0.390 / 0.729</td>\n",
       "</tr>\n",
       "\n",
       "</table>\n"
      ]
     }
    },
    {
     "output_type": "display_data",
     "metadata": {},
     "data": {
      "text/html": [
       "<table style=\"border-collapse:collapse; border:none;\">\n",
       "<tr>\n",
       "<th style=\"border-top: double; text-align:center; font-style:normal; font-weight:bold; padding:0.2cm;  text-align:left; \">&nbsp;</th>\n",
       "<th colspan=\"3\" style=\"border-top: double; text-align:center; font-style:normal; font-weight:bold; padding:0.2cm; \">relationsatisf scored</th>\n",
       "</tr>\n",
       "<tr>\n",
       "<td style=\" text-align:center; border-bottom:1px solid; font-style:italic; font-weight:normal;  text-align:left; \">Predictors</td>\n",
       "<td style=\" text-align:center; border-bottom:1px solid; font-style:italic; font-weight:normal;  \">Estimates</td>\n",
       "<td style=\" text-align:center; border-bottom:1px solid; font-style:italic; font-weight:normal;  \">CI</td>\n",
       "<td style=\" text-align:center; border-bottom:1px solid; font-style:italic; font-weight:normal;  \">p</td>\n",
       "</tr>\n",
       "<tr>\n",
       "<td style=\" padding:0.2cm; text-align:left; vertical-align:top; text-align:left; \">outpatient yn ever [Yes]</td>\n",
       "<td style=\" padding:0.2cm; text-align:left; vertical-align:top; text-align:center;  \">&#45;0.76</td>\n",
       "<td style=\" padding:0.2cm; text-align:left; vertical-align:top; text-align:center;  \">&#45;2.18&nbsp;&ndash;&nbsp;0.67</td>\n",
       "<td style=\" padding:0.2cm; text-align:left; vertical-align:top; text-align:center;  \">0.298</td>\n",
       "</tr>\n",
       "\n",
       "<tr>\n",
       "<td style=\" padding:0.2cm; text-align:left; vertical-align:top; text-align:left; padding-top:0.1cm; padding-bottom:0.1cm;\">N <sub>study_id</sub></td>\n",
       "<td style=\" padding:0.2cm; text-align:left; vertical-align:top; padding-top:0.1cm; padding-bottom:0.1cm; text-align:left;\" colspan=\"3\">168</td>\n",
       "<tr>\n",
       "<td style=\" padding:0.2cm; text-align:left; vertical-align:top; text-align:left; padding-top:0.1cm; padding-bottom:0.1cm; border-top:1px solid;\">Observations</td>\n",
       "<td style=\" padding:0.2cm; text-align:left; vertical-align:top; padding-top:0.1cm; padding-bottom:0.1cm; text-align:left; border-top:1px solid;\" colspan=\"3\">436</td>\n",
       "</tr>\n",
       "<tr>\n",
       "<td style=\" padding:0.2cm; text-align:left; vertical-align:top; text-align:left; padding-top:0.1cm; padding-bottom:0.1cm;\">Marginal R<sup>2</sup> / Conditional R<sup>2</sup></td>\n",
       "<td style=\" padding:0.2cm; text-align:left; vertical-align:top; padding-top:0.1cm; padding-bottom:0.1cm; text-align:left;\" colspan=\"3\">0.310 / 0.725</td>\n",
       "</tr>\n",
       "\n",
       "</table>\n"
      ]
     }
    }
   ],
   "source": [
    "lmer(relationsatisf_scored ~ time_c*arm_c + relationsatisf_0 + \n",
    "       outpatient_yn_ever + (1 + time_c | study_id), \n",
    "     data = subset(data, dyad == \"Partner\")) |> \n",
    "  sjPlot::tab_model(show.re.var = F, show.icc = F, \n",
    "                    terms = c(\"outpatient_yn_everYes\"))"
   ],
   "id": "ea96f3a8-ad2b-4c10-ae5a-b3d2a1428a29"
  },
  {
   "cell_type": "markdown",
   "metadata": {},
   "source": [
    "`er_yn_ever` - Not significant"
   ],
   "id": "58b92a90-fb61-4e56-bcb0-d2a5c1c77fe4"
  },
  {
   "cell_type": "code",
   "execution_count": null,
   "metadata": {},
   "outputs": [
    {
     "output_type": "display_data",
     "metadata": {},
     "data": {
      "text/html": [
       "<table style=\"border-collapse:collapse; border:none;\">\n",
       "<tr>\n",
       "<th style=\"border-top: double; text-align:center; font-style:normal; font-weight:bold; padding:0.2cm;  text-align:left; \">&nbsp;</th>\n",
       "<th colspan=\"3\" style=\"border-top: double; text-align:center; font-style:normal; font-weight:bold; padding:0.2cm; \">relationsatisf scored</th>\n",
       "</tr>\n",
       "<tr>\n",
       "<td style=\" text-align:center; border-bottom:1px solid; font-style:italic; font-weight:normal;  text-align:left; \">Predictors</td>\n",
       "<td style=\" text-align:center; border-bottom:1px solid; font-style:italic; font-weight:normal;  \">Estimates</td>\n",
       "<td style=\" text-align:center; border-bottom:1px solid; font-style:italic; font-weight:normal;  \">CI</td>\n",
       "<td style=\" text-align:center; border-bottom:1px solid; font-style:italic; font-weight:normal;  \">p</td>\n",
       "</tr>\n",
       "<tr>\n",
       "<td style=\" padding:0.2cm; text-align:left; vertical-align:top; text-align:left; \">er yn ever [Yes]</td>\n",
       "<td style=\" padding:0.2cm; text-align:left; vertical-align:top; text-align:center;  \">0.81</td>\n",
       "<td style=\" padding:0.2cm; text-align:left; vertical-align:top; text-align:center;  \">&#45;0.93&nbsp;&ndash;&nbsp;2.56</td>\n",
       "<td style=\" padding:0.2cm; text-align:left; vertical-align:top; text-align:center;  \">0.360</td>\n",
       "</tr>\n",
       "\n",
       "<tr>\n",
       "<td style=\" padding:0.2cm; text-align:left; vertical-align:top; text-align:left; padding-top:0.1cm; padding-bottom:0.1cm;\">N <sub>study_id</sub></td>\n",
       "<td style=\" padding:0.2cm; text-align:left; vertical-align:top; padding-top:0.1cm; padding-bottom:0.1cm; text-align:left;\" colspan=\"3\">170</td>\n",
       "<tr>\n",
       "<td style=\" padding:0.2cm; text-align:left; vertical-align:top; text-align:left; padding-top:0.1cm; padding-bottom:0.1cm; border-top:1px solid;\">Observations</td>\n",
       "<td style=\" padding:0.2cm; text-align:left; vertical-align:top; padding-top:0.1cm; padding-bottom:0.1cm; text-align:left; border-top:1px solid;\" colspan=\"3\">454</td>\n",
       "</tr>\n",
       "<tr>\n",
       "<td style=\" padding:0.2cm; text-align:left; vertical-align:top; text-align:left; padding-top:0.1cm; padding-bottom:0.1cm;\">Marginal R<sup>2</sup> / Conditional R<sup>2</sup></td>\n",
       "<td style=\" padding:0.2cm; text-align:left; vertical-align:top; padding-top:0.1cm; padding-bottom:0.1cm; text-align:left;\" colspan=\"3\">0.392 / 0.730</td>\n",
       "</tr>\n",
       "\n",
       "</table>\n"
      ]
     }
    },
    {
     "output_type": "display_data",
     "metadata": {},
     "data": {
      "text/html": [
       "<table style=\"border-collapse:collapse; border:none;\">\n",
       "<tr>\n",
       "<th style=\"border-top: double; text-align:center; font-style:normal; font-weight:bold; padding:0.2cm;  text-align:left; \">&nbsp;</th>\n",
       "<th colspan=\"3\" style=\"border-top: double; text-align:center; font-style:normal; font-weight:bold; padding:0.2cm; \">relationsatisf scored</th>\n",
       "</tr>\n",
       "<tr>\n",
       "<td style=\" text-align:center; border-bottom:1px solid; font-style:italic; font-weight:normal;  text-align:left; \">Predictors</td>\n",
       "<td style=\" text-align:center; border-bottom:1px solid; font-style:italic; font-weight:normal;  \">Estimates</td>\n",
       "<td style=\" text-align:center; border-bottom:1px solid; font-style:italic; font-weight:normal;  \">CI</td>\n",
       "<td style=\" text-align:center; border-bottom:1px solid; font-style:italic; font-weight:normal;  \">p</td>\n",
       "</tr>\n",
       "<tr>\n",
       "<td style=\" padding:0.2cm; text-align:left; vertical-align:top; text-align:left; \">er yn ever [Yes]</td>\n",
       "<td style=\" padding:0.2cm; text-align:left; vertical-align:top; text-align:center;  \">&#45;1.29</td>\n",
       "<td style=\" padding:0.2cm; text-align:left; vertical-align:top; text-align:center;  \">&#45;2.74&nbsp;&ndash;&nbsp;0.16</td>\n",
       "<td style=\" padding:0.2cm; text-align:left; vertical-align:top; text-align:center;  \">0.082</td>\n",
       "</tr>\n",
       "\n",
       "<tr>\n",
       "<td style=\" padding:0.2cm; text-align:left; vertical-align:top; text-align:left; padding-top:0.1cm; padding-bottom:0.1cm;\">N <sub>study_id</sub></td>\n",
       "<td style=\" padding:0.2cm; text-align:left; vertical-align:top; padding-top:0.1cm; padding-bottom:0.1cm; text-align:left;\" colspan=\"3\">168</td>\n",
       "<tr>\n",
       "<td style=\" padding:0.2cm; text-align:left; vertical-align:top; text-align:left; padding-top:0.1cm; padding-bottom:0.1cm; border-top:1px solid;\">Observations</td>\n",
       "<td style=\" padding:0.2cm; text-align:left; vertical-align:top; padding-top:0.1cm; padding-bottom:0.1cm; text-align:left; border-top:1px solid;\" colspan=\"3\">436</td>\n",
       "</tr>\n",
       "<tr>\n",
       "<td style=\" padding:0.2cm; text-align:left; vertical-align:top; text-align:left; padding-top:0.1cm; padding-bottom:0.1cm;\">Marginal R<sup>2</sup> / Conditional R<sup>2</sup></td>\n",
       "<td style=\" padding:0.2cm; text-align:left; vertical-align:top; padding-top:0.1cm; padding-bottom:0.1cm; text-align:left;\" colspan=\"3\">0.315 / 0.725</td>\n",
       "</tr>\n",
       "\n",
       "</table>\n"
      ]
     }
    }
   ],
   "source": [
    "lmer(relationsatisf_scored ~ time_c*arm_c + relationsatisf_0 + er_yn_ever +\n",
    "       (1 + time_c | study_id), data = subset(data, dyad == \"Partner\")) |> \n",
    "  sjPlot::tab_model(show.re.var = F, show.icc = F, terms = c(\"er_yn_everYes\"))"
   ],
   "id": "ba28257c-926f-44e5-833e-c20d568c2290"
  },
  {
   "cell_type": "markdown",
   "metadata": {},
   "source": [
    "`mat_yn` - not significant"
   ],
   "id": "02e6ae4e-d0e0-4e64-bf4d-ebd31dceee17"
  },
  {
   "cell_type": "code",
   "execution_count": null,
   "metadata": {},
   "outputs": [
    {
     "output_type": "display_data",
     "metadata": {},
     "data": {
      "text/html": [
       "<table style=\"border-collapse:collapse; border:none;\">\n",
       "<tr>\n",
       "<th style=\"border-top: double; text-align:center; font-style:normal; font-weight:bold; padding:0.2cm;  text-align:left; \">&nbsp;</th>\n",
       "<th colspan=\"3\" style=\"border-top: double; text-align:center; font-style:normal; font-weight:bold; padding:0.2cm; \">relationsatisf scored</th>\n",
       "</tr>\n",
       "<tr>\n",
       "<td style=\" text-align:center; border-bottom:1px solid; font-style:italic; font-weight:normal;  text-align:left; \">Predictors</td>\n",
       "<td style=\" text-align:center; border-bottom:1px solid; font-style:italic; font-weight:normal;  \">Estimates</td>\n",
       "<td style=\" text-align:center; border-bottom:1px solid; font-style:italic; font-weight:normal;  \">CI</td>\n",
       "<td style=\" text-align:center; border-bottom:1px solid; font-style:italic; font-weight:normal;  \">p</td>\n",
       "</tr>\n",
       "<tr>\n",
       "<td style=\" padding:0.2cm; text-align:left; vertical-align:top; text-align:left; \">mat yn [Yes]</td>\n",
       "<td style=\" padding:0.2cm; text-align:left; vertical-align:top; text-align:center;  \">1.27</td>\n",
       "<td style=\" padding:0.2cm; text-align:left; vertical-align:top; text-align:center;  \">&#45;1.61&nbsp;&ndash;&nbsp;4.15</td>\n",
       "<td style=\" padding:0.2cm; text-align:left; vertical-align:top; text-align:center;  \">0.387</td>\n",
       "</tr>\n",
       "\n",
       "<tr>\n",
       "<td style=\" padding:0.2cm; text-align:left; vertical-align:top; text-align:left; padding-top:0.1cm; padding-bottom:0.1cm;\">N <sub>study_id</sub></td>\n",
       "<td style=\" padding:0.2cm; text-align:left; vertical-align:top; padding-top:0.1cm; padding-bottom:0.1cm; text-align:left;\" colspan=\"3\">170</td>\n",
       "<tr>\n",
       "<td style=\" padding:0.2cm; text-align:left; vertical-align:top; text-align:left; padding-top:0.1cm; padding-bottom:0.1cm; border-top:1px solid;\">Observations</td>\n",
       "<td style=\" padding:0.2cm; text-align:left; vertical-align:top; padding-top:0.1cm; padding-bottom:0.1cm; text-align:left; border-top:1px solid;\" colspan=\"3\">454</td>\n",
       "</tr>\n",
       "<tr>\n",
       "<td style=\" padding:0.2cm; text-align:left; vertical-align:top; text-align:left; padding-top:0.1cm; padding-bottom:0.1cm;\">Marginal R<sup>2</sup> / Conditional R<sup>2</sup></td>\n",
       "<td style=\" padding:0.2cm; text-align:left; vertical-align:top; padding-top:0.1cm; padding-bottom:0.1cm; text-align:left;\" colspan=\"3\">0.391 / 0.728</td>\n",
       "</tr>\n",
       "\n",
       "</table>\n"
      ]
     }
    },
    {
     "output_type": "display_data",
     "metadata": {},
     "data": {
      "text/html": [
       "<table style=\"border-collapse:collapse; border:none;\">\n",
       "<tr>\n",
       "<th style=\"border-top: double; text-align:center; font-style:normal; font-weight:bold; padding:0.2cm;  text-align:left; \">&nbsp;</th>\n",
       "<th colspan=\"3\" style=\"border-top: double; text-align:center; font-style:normal; font-weight:bold; padding:0.2cm; \">relationsatisf scored</th>\n",
       "</tr>\n",
       "<tr>\n",
       "<td style=\" text-align:center; border-bottom:1px solid; font-style:italic; font-weight:normal;  text-align:left; \">Predictors</td>\n",
       "<td style=\" text-align:center; border-bottom:1px solid; font-style:italic; font-weight:normal;  \">Estimates</td>\n",
       "<td style=\" text-align:center; border-bottom:1px solid; font-style:italic; font-weight:normal;  \">CI</td>\n",
       "<td style=\" text-align:center; border-bottom:1px solid; font-style:italic; font-weight:normal;  \">p</td>\n",
       "</tr>\n",
       "<tr>\n",
       "<td style=\" padding:0.2cm; text-align:left; vertical-align:top; text-align:left; \">mat yn [Yes]</td>\n",
       "<td style=\" padding:0.2cm; text-align:left; vertical-align:top; text-align:center;  \">0.24</td>\n",
       "<td style=\" padding:0.2cm; text-align:left; vertical-align:top; text-align:center;  \">&#45;1.04&nbsp;&ndash;&nbsp;1.52</td>\n",
       "<td style=\" padding:0.2cm; text-align:left; vertical-align:top; text-align:center;  \">0.713</td>\n",
       "</tr>\n",
       "\n",
       "<tr>\n",
       "<td style=\" padding:0.2cm; text-align:left; vertical-align:top; text-align:left; padding-top:0.1cm; padding-bottom:0.1cm;\">N <sub>study_id</sub></td>\n",
       "<td style=\" padding:0.2cm; text-align:left; vertical-align:top; padding-top:0.1cm; padding-bottom:0.1cm; text-align:left;\" colspan=\"3\">167</td>\n",
       "<tr>\n",
       "<td style=\" padding:0.2cm; text-align:left; vertical-align:top; text-align:left; padding-top:0.1cm; padding-bottom:0.1cm; border-top:1px solid;\">Observations</td>\n",
       "<td style=\" padding:0.2cm; text-align:left; vertical-align:top; padding-top:0.1cm; padding-bottom:0.1cm; text-align:left; border-top:1px solid;\" colspan=\"3\">432</td>\n",
       "</tr>\n",
       "<tr>\n",
       "<td style=\" padding:0.2cm; text-align:left; vertical-align:top; text-align:left; padding-top:0.1cm; padding-bottom:0.1cm;\">Marginal R<sup>2</sup> / Conditional R<sup>2</sup></td>\n",
       "<td style=\" padding:0.2cm; text-align:left; vertical-align:top; padding-top:0.1cm; padding-bottom:0.1cm; text-align:left;\" colspan=\"3\">0.300 / 0.736</td>\n",
       "</tr>\n",
       "\n",
       "</table>\n"
      ]
     }
    }
   ],
   "source": [
    "lmer(relationsatisf_scored ~ time_c*arm_c + relationsatisf_0 + mat_yn +\n",
    "       (1 + time_c | study_id), data = subset(data, dyad == \"Partner\")) |> \n",
    "  sjPlot::tab_model(show.re.var = F, show.icc = F, terms = c(\"mat_ynYes\"))"
   ],
   "id": "4147463a-39b2-420a-b882-e013d4179a21"
  },
  {
   "cell_type": "markdown",
   "metadata": {},
   "source": [
    "`inpatient_yn_ever` - **significant for partner** not significant for patient"
   ],
   "id": "d82c2127-2436-4573-bceb-88d868f5a3c3"
  },
  {
   "cell_type": "code",
   "execution_count": null,
   "metadata": {},
   "outputs": [
    {
     "output_type": "display_data",
     "metadata": {},
     "data": {
      "text/html": [
       "<table style=\"border-collapse:collapse; border:none;\">\n",
       "<tr>\n",
       "<th style=\"border-top: double; text-align:center; font-style:normal; font-weight:bold; padding:0.2cm;  text-align:left; \">&nbsp;</th>\n",
       "<th colspan=\"3\" style=\"border-top: double; text-align:center; font-style:normal; font-weight:bold; padding:0.2cm; \">relationsatisf scored</th>\n",
       "</tr>\n",
       "<tr>\n",
       "<td style=\" text-align:center; border-bottom:1px solid; font-style:italic; font-weight:normal;  text-align:left; \">Predictors</td>\n",
       "<td style=\" text-align:center; border-bottom:1px solid; font-style:italic; font-weight:normal;  \">Estimates</td>\n",
       "<td style=\" text-align:center; border-bottom:1px solid; font-style:italic; font-weight:normal;  \">CI</td>\n",
       "<td style=\" text-align:center; border-bottom:1px solid; font-style:italic; font-weight:normal;  \">p</td>\n",
       "</tr>\n",
       "<tr>\n",
       "<td style=\" padding:0.2cm; text-align:left; vertical-align:top; text-align:left; \">inpatient yn ever [Yes]</td>\n",
       "<td style=\" padding:0.2cm; text-align:left; vertical-align:top; text-align:center;  \">&#45;7.23</td>\n",
       "<td style=\" padding:0.2cm; text-align:left; vertical-align:top; text-align:center;  \">&#45;11.61&nbsp;&ndash;&nbsp;-2.84</td>\n",
       "<td style=\" padding:0.2cm; text-align:left; vertical-align:top; text-align:center;  \"><strong>0.001</strong></td>\n",
       "</tr>\n",
       "\n",
       "<tr>\n",
       "<td style=\" padding:0.2cm; text-align:left; vertical-align:top; text-align:left; padding-top:0.1cm; padding-bottom:0.1cm;\">N <sub>study_id</sub></td>\n",
       "<td style=\" padding:0.2cm; text-align:left; vertical-align:top; padding-top:0.1cm; padding-bottom:0.1cm; text-align:left;\" colspan=\"3\">170</td>\n",
       "<tr>\n",
       "<td style=\" padding:0.2cm; text-align:left; vertical-align:top; text-align:left; padding-top:0.1cm; padding-bottom:0.1cm; border-top:1px solid;\">Observations</td>\n",
       "<td style=\" padding:0.2cm; text-align:left; vertical-align:top; padding-top:0.1cm; padding-bottom:0.1cm; text-align:left; border-top:1px solid;\" colspan=\"3\">454</td>\n",
       "</tr>\n",
       "<tr>\n",
       "<td style=\" padding:0.2cm; text-align:left; vertical-align:top; text-align:left; padding-top:0.1cm; padding-bottom:0.1cm;\">Marginal R<sup>2</sup> / Conditional R<sup>2</sup></td>\n",
       "<td style=\" padding:0.2cm; text-align:left; vertical-align:top; padding-top:0.1cm; padding-bottom:0.1cm; text-align:left;\" colspan=\"3\">0.413 / 0.727</td>\n",
       "</tr>\n",
       "\n",
       "</table>\n"
      ]
     }
    },
    {
     "output_type": "display_data",
     "metadata": {},
     "data": {
      "text/html": [
       "<table style=\"border-collapse:collapse; border:none;\">\n",
       "<tr>\n",
       "<th style=\"border-top: double; text-align:center; font-style:normal; font-weight:bold; padding:0.2cm;  text-align:left; \">&nbsp;</th>\n",
       "<th colspan=\"3\" style=\"border-top: double; text-align:center; font-style:normal; font-weight:bold; padding:0.2cm; \">relationsatisf scored</th>\n",
       "</tr>\n",
       "<tr>\n",
       "<td style=\" text-align:center; border-bottom:1px solid; font-style:italic; font-weight:normal;  text-align:left; \">Predictors</td>\n",
       "<td style=\" text-align:center; border-bottom:1px solid; font-style:italic; font-weight:normal;  \">Estimates</td>\n",
       "<td style=\" text-align:center; border-bottom:1px solid; font-style:italic; font-weight:normal;  \">CI</td>\n",
       "<td style=\" text-align:center; border-bottom:1px solid; font-style:italic; font-weight:normal;  \">p</td>\n",
       "</tr>\n",
       "<tr>\n",
       "<td style=\" padding:0.2cm; text-align:left; vertical-align:top; text-align:left; \">inpatient yn ever [Yes]</td>\n",
       "<td style=\" padding:0.2cm; text-align:left; vertical-align:top; text-align:center;  \">&#45;1.06</td>\n",
       "<td style=\" padding:0.2cm; text-align:left; vertical-align:top; text-align:center;  \">&#45;2.74&nbsp;&ndash;&nbsp;0.61</td>\n",
       "<td style=\" padding:0.2cm; text-align:left; vertical-align:top; text-align:center;  \">0.212</td>\n",
       "</tr>\n",
       "\n",
       "<tr>\n",
       "<td style=\" padding:0.2cm; text-align:left; vertical-align:top; text-align:left; padding-top:0.1cm; padding-bottom:0.1cm;\">N <sub>study_id</sub></td>\n",
       "<td style=\" padding:0.2cm; text-align:left; vertical-align:top; padding-top:0.1cm; padding-bottom:0.1cm; text-align:left;\" colspan=\"3\">168</td>\n",
       "<tr>\n",
       "<td style=\" padding:0.2cm; text-align:left; vertical-align:top; text-align:left; padding-top:0.1cm; padding-bottom:0.1cm; border-top:1px solid;\">Observations</td>\n",
       "<td style=\" padding:0.2cm; text-align:left; vertical-align:top; padding-top:0.1cm; padding-bottom:0.1cm; text-align:left; border-top:1px solid;\" colspan=\"3\">436</td>\n",
       "</tr>\n",
       "<tr>\n",
       "<td style=\" padding:0.2cm; text-align:left; vertical-align:top; text-align:left; padding-top:0.1cm; padding-bottom:0.1cm;\">Marginal R<sup>2</sup> / Conditional R<sup>2</sup></td>\n",
       "<td style=\" padding:0.2cm; text-align:left; vertical-align:top; padding-top:0.1cm; padding-bottom:0.1cm; text-align:left;\" colspan=\"3\">0.311 / 0.726</td>\n",
       "</tr>\n",
       "\n",
       "</table>\n"
      ]
     }
    }
   ],
   "source": [
    "lmer(relationsatisf_scored ~ time_c*arm_c + relationsatisf_0 + \n",
    "       inpatient_yn_ever + (1 + time_c | study_id), \n",
    "     data = subset(data, dyad == \"Partner\")) |> \n",
    "  sjPlot::tab_model(show.re.var = F, show.icc = F, \n",
    "                    terms = c(\"inpatient_yn_everYes\"))"
   ],
   "id": "f0d26291-1baf-40c0-9cd2-20ca1b14ce94"
  },
  {
   "cell_type": "markdown",
   "metadata": {},
   "source": [
    "`other_psych_treatment_yn` - not significant"
   ],
   "id": "84e8991c-f2eb-44f9-b9d5-3f74ab83acb7"
  },
  {
   "cell_type": "code",
   "execution_count": null,
   "metadata": {},
   "outputs": [
    {
     "output_type": "display_data",
     "metadata": {},
     "data": {
      "text/html": [
       "<table style=\"border-collapse:collapse; border:none;\">\n",
       "<tr>\n",
       "<th style=\"border-top: double; text-align:center; font-style:normal; font-weight:bold; padding:0.2cm;  text-align:left; \">&nbsp;</th>\n",
       "<th colspan=\"3\" style=\"border-top: double; text-align:center; font-style:normal; font-weight:bold; padding:0.2cm; \">relationsatisf scored</th>\n",
       "</tr>\n",
       "<tr>\n",
       "<td style=\" text-align:center; border-bottom:1px solid; font-style:italic; font-weight:normal;  text-align:left; \">Predictors</td>\n",
       "<td style=\" text-align:center; border-bottom:1px solid; font-style:italic; font-weight:normal;  \">Estimates</td>\n",
       "<td style=\" text-align:center; border-bottom:1px solid; font-style:italic; font-weight:normal;  \">CI</td>\n",
       "<td style=\" text-align:center; border-bottom:1px solid; font-style:italic; font-weight:normal;  \">p</td>\n",
       "</tr>\n",
       "<tr>\n",
       "<td style=\" padding:0.2cm; text-align:left; vertical-align:top; text-align:left; \">other psych treatment yn<br>[Yes]</td>\n",
       "<td style=\" padding:0.2cm; text-align:left; vertical-align:top; text-align:center;  \">&#45;1.16</td>\n",
       "<td style=\" padding:0.2cm; text-align:left; vertical-align:top; text-align:center;  \">&#45;2.76&nbsp;&ndash;&nbsp;0.45</td>\n",
       "<td style=\" padding:0.2cm; text-align:left; vertical-align:top; text-align:center;  \">0.157</td>\n",
       "</tr>\n",
       "\n",
       "<tr>\n",
       "<td style=\" padding:0.2cm; text-align:left; vertical-align:top; text-align:left; padding-top:0.1cm; padding-bottom:0.1cm;\">N <sub>study_id</sub></td>\n",
       "<td style=\" padding:0.2cm; text-align:left; vertical-align:top; padding-top:0.1cm; padding-bottom:0.1cm; text-align:left;\" colspan=\"3\">170</td>\n",
       "<tr>\n",
       "<td style=\" padding:0.2cm; text-align:left; vertical-align:top; text-align:left; padding-top:0.1cm; padding-bottom:0.1cm; border-top:1px solid;\">Observations</td>\n",
       "<td style=\" padding:0.2cm; text-align:left; vertical-align:top; padding-top:0.1cm; padding-bottom:0.1cm; text-align:left; border-top:1px solid;\" colspan=\"3\">454</td>\n",
       "</tr>\n",
       "<tr>\n",
       "<td style=\" padding:0.2cm; text-align:left; vertical-align:top; text-align:left; padding-top:0.1cm; padding-bottom:0.1cm;\">Marginal R<sup>2</sup> / Conditional R<sup>2</sup></td>\n",
       "<td style=\" padding:0.2cm; text-align:left; vertical-align:top; padding-top:0.1cm; padding-bottom:0.1cm; text-align:left;\" colspan=\"3\">0.393 / 0.727</td>\n",
       "</tr>\n",
       "\n",
       "</table>\n"
      ]
     }
    },
    {
     "output_type": "display_data",
     "metadata": {},
     "data": {
      "text/html": [
       "<table style=\"border-collapse:collapse; border:none;\">\n",
       "<tr>\n",
       "<th style=\"border-top: double; text-align:center; font-style:normal; font-weight:bold; padding:0.2cm;  text-align:left; \">&nbsp;</th>\n",
       "<th colspan=\"3\" style=\"border-top: double; text-align:center; font-style:normal; font-weight:bold; padding:0.2cm; \">relationsatisf scored</th>\n",
       "</tr>\n",
       "<tr>\n",
       "<td style=\" text-align:center; border-bottom:1px solid; font-style:italic; font-weight:normal;  text-align:left; \">Predictors</td>\n",
       "<td style=\" text-align:center; border-bottom:1px solid; font-style:italic; font-weight:normal;  \">Estimates</td>\n",
       "<td style=\" text-align:center; border-bottom:1px solid; font-style:italic; font-weight:normal;  \">CI</td>\n",
       "<td style=\" text-align:center; border-bottom:1px solid; font-style:italic; font-weight:normal;  \">p</td>\n",
       "</tr>\n",
       "<tr>\n",
       "<td style=\" padding:0.2cm; text-align:left; vertical-align:top; text-align:left; \">other psych treatment yn<br>[Yes]</td>\n",
       "<td style=\" padding:0.2cm; text-align:left; vertical-align:top; text-align:center;  \">&#45;0.41</td>\n",
       "<td style=\" padding:0.2cm; text-align:left; vertical-align:top; text-align:center;  \">&#45;1.51&nbsp;&ndash;&nbsp;0.70</td>\n",
       "<td style=\" padding:0.2cm; text-align:left; vertical-align:top; text-align:center;  \">0.472</td>\n",
       "</tr>\n",
       "\n",
       "<tr>\n",
       "<td style=\" padding:0.2cm; text-align:left; vertical-align:top; text-align:left; padding-top:0.1cm; padding-bottom:0.1cm;\">N <sub>study_id</sub></td>\n",
       "<td style=\" padding:0.2cm; text-align:left; vertical-align:top; padding-top:0.1cm; padding-bottom:0.1cm; text-align:left;\" colspan=\"3\">167</td>\n",
       "<tr>\n",
       "<td style=\" padding:0.2cm; text-align:left; vertical-align:top; text-align:left; padding-top:0.1cm; padding-bottom:0.1cm; border-top:1px solid;\">Observations</td>\n",
       "<td style=\" padding:0.2cm; text-align:left; vertical-align:top; padding-top:0.1cm; padding-bottom:0.1cm; text-align:left; border-top:1px solid;\" colspan=\"3\">435</td>\n",
       "</tr>\n",
       "<tr>\n",
       "<td style=\" padding:0.2cm; text-align:left; vertical-align:top; text-align:left; padding-top:0.1cm; padding-bottom:0.1cm;\">Marginal R<sup>2</sup> / Conditional R<sup>2</sup></td>\n",
       "<td style=\" padding:0.2cm; text-align:left; vertical-align:top; padding-top:0.1cm; padding-bottom:0.1cm; text-align:left;\" colspan=\"3\">0.307 / 0.727</td>\n",
       "</tr>\n",
       "\n",
       "</table>\n"
      ]
     }
    }
   ],
   "source": [
    "lmer(relationsatisf_scored ~ time_c*arm_c + relationsatisf_0 + \n",
    "       other_psych_treatment_yn + (1 + time_c | study_id),\n",
    "     data = subset(data, dyad == \"Partner\")) |> \n",
    "  sjPlot::tab_model(show.re.var = F, show.icc = F, \n",
    "                    terms = c(\"other_psych_treatment_ynYes\"))"
   ],
   "id": "43b71e85-9532-49cb-8203-13350e8ea9fa"
  },
  {
   "cell_type": "markdown",
   "metadata": {},
   "source": [
    "`other_medications_yn` - Not significant"
   ],
   "id": "45f70681-014f-41a6-993e-e77773880086"
  },
  {
   "cell_type": "code",
   "execution_count": null,
   "metadata": {},
   "outputs": [
    {
     "output_type": "display_data",
     "metadata": {},
     "data": {
      "text/html": [
       "<table style=\"border-collapse:collapse; border:none;\">\n",
       "<tr>\n",
       "<th style=\"border-top: double; text-align:center; font-style:normal; font-weight:bold; padding:0.2cm;  text-align:left; \">&nbsp;</th>\n",
       "<th colspan=\"3\" style=\"border-top: double; text-align:center; font-style:normal; font-weight:bold; padding:0.2cm; \">relationsatisf scored</th>\n",
       "</tr>\n",
       "<tr>\n",
       "<td style=\" text-align:center; border-bottom:1px solid; font-style:italic; font-weight:normal;  text-align:left; \">Predictors</td>\n",
       "<td style=\" text-align:center; border-bottom:1px solid; font-style:italic; font-weight:normal;  \">Estimates</td>\n",
       "<td style=\" text-align:center; border-bottom:1px solid; font-style:italic; font-weight:normal;  \">CI</td>\n",
       "<td style=\" text-align:center; border-bottom:1px solid; font-style:italic; font-weight:normal;  \">p</td>\n",
       "</tr>\n",
       "<tr>\n",
       "<td style=\" padding:0.2cm; text-align:left; vertical-align:top; text-align:left; \">other medications yn<br>[Yes]</td>\n",
       "<td style=\" padding:0.2cm; text-align:left; vertical-align:top; text-align:center;  \">&#45;0.28</td>\n",
       "<td style=\" padding:0.2cm; text-align:left; vertical-align:top; text-align:center;  \">&#45;1.55&nbsp;&ndash;&nbsp;0.99</td>\n",
       "<td style=\" padding:0.2cm; text-align:left; vertical-align:top; text-align:center;  \">0.667</td>\n",
       "</tr>\n",
       "\n",
       "<tr>\n",
       "<td style=\" padding:0.2cm; text-align:left; vertical-align:top; text-align:left; padding-top:0.1cm; padding-bottom:0.1cm;\">N <sub>study_id</sub></td>\n",
       "<td style=\" padding:0.2cm; text-align:left; vertical-align:top; padding-top:0.1cm; padding-bottom:0.1cm; text-align:left;\" colspan=\"3\">170</td>\n",
       "<tr>\n",
       "<td style=\" padding:0.2cm; text-align:left; vertical-align:top; text-align:left; padding-top:0.1cm; padding-bottom:0.1cm; border-top:1px solid;\">Observations</td>\n",
       "<td style=\" padding:0.2cm; text-align:left; vertical-align:top; padding-top:0.1cm; padding-bottom:0.1cm; text-align:left; border-top:1px solid;\" colspan=\"3\">452</td>\n",
       "</tr>\n",
       "<tr>\n",
       "<td style=\" padding:0.2cm; text-align:left; vertical-align:top; text-align:left; padding-top:0.1cm; padding-bottom:0.1cm;\">Marginal R<sup>2</sup> / Conditional R<sup>2</sup></td>\n",
       "<td style=\" padding:0.2cm; text-align:left; vertical-align:top; padding-top:0.1cm; padding-bottom:0.1cm; text-align:left;\" colspan=\"3\">0.391 / 0.725</td>\n",
       "</tr>\n",
       "\n",
       "</table>\n"
      ]
     }
    },
    {
     "output_type": "display_data",
     "metadata": {},
     "data": {
      "text/html": [
       "<table style=\"border-collapse:collapse; border:none;\">\n",
       "<tr>\n",
       "<th style=\"border-top: double; text-align:center; font-style:normal; font-weight:bold; padding:0.2cm;  text-align:left; \">&nbsp;</th>\n",
       "<th colspan=\"3\" style=\"border-top: double; text-align:center; font-style:normal; font-weight:bold; padding:0.2cm; \">relationsatisf scored</th>\n",
       "</tr>\n",
       "<tr>\n",
       "<td style=\" text-align:center; border-bottom:1px solid; font-style:italic; font-weight:normal;  text-align:left; \">Predictors</td>\n",
       "<td style=\" text-align:center; border-bottom:1px solid; font-style:italic; font-weight:normal;  \">Estimates</td>\n",
       "<td style=\" text-align:center; border-bottom:1px solid; font-style:italic; font-weight:normal;  \">CI</td>\n",
       "<td style=\" text-align:center; border-bottom:1px solid; font-style:italic; font-weight:normal;  \">p</td>\n",
       "</tr>\n",
       "<tr>\n",
       "<td style=\" padding:0.2cm; text-align:left; vertical-align:top; text-align:left; \">other medications yn<br>[Yes]</td>\n",
       "<td style=\" padding:0.2cm; text-align:left; vertical-align:top; text-align:center;  \">0.08</td>\n",
       "<td style=\" padding:0.2cm; text-align:left; vertical-align:top; text-align:center;  \">&#45;0.98&nbsp;&ndash;&nbsp;1.14</td>\n",
       "<td style=\" padding:0.2cm; text-align:left; vertical-align:top; text-align:center;  \">0.882</td>\n",
       "</tr>\n",
       "\n",
       "<tr>\n",
       "<td style=\" padding:0.2cm; text-align:left; vertical-align:top; text-align:left; padding-top:0.1cm; padding-bottom:0.1cm;\">N <sub>study_id</sub></td>\n",
       "<td style=\" padding:0.2cm; text-align:left; vertical-align:top; padding-top:0.1cm; padding-bottom:0.1cm; text-align:left;\" colspan=\"3\">167</td>\n",
       "<tr>\n",
       "<td style=\" padding:0.2cm; text-align:left; vertical-align:top; text-align:left; padding-top:0.1cm; padding-bottom:0.1cm; border-top:1px solid;\">Observations</td>\n",
       "<td style=\" padding:0.2cm; text-align:left; vertical-align:top; padding-top:0.1cm; padding-bottom:0.1cm; text-align:left; border-top:1px solid;\" colspan=\"3\">431</td>\n",
       "</tr>\n",
       "<tr>\n",
       "<td style=\" padding:0.2cm; text-align:left; vertical-align:top; text-align:left; padding-top:0.1cm; padding-bottom:0.1cm;\">Marginal R<sup>2</sup> / Conditional R<sup>2</sup></td>\n",
       "<td style=\" padding:0.2cm; text-align:left; vertical-align:top; padding-top:0.1cm; padding-bottom:0.1cm; text-align:left;\" colspan=\"3\">0.303 / 0.733</td>\n",
       "</tr>\n",
       "\n",
       "</table>\n"
      ]
     }
    }
   ],
   "source": [
    "lmer(relationsatisf_scored ~ time_c*arm_c + relationsatisf_0 + \n",
    "       other_medications_yn + (1 + time_c | study_id), \n",
    "     data = subset(data, dyad == \"Partner\")) |> \n",
    "  sjPlot::tab_model(show.re.var = F, show.icc = F, \n",
    "                    terms = c(\"other_medications_ynYes\"))"
   ],
   "id": "b048c1b9-64f0-4c83-8ae9-8ea3105a0456"
  },
  {
   "cell_type": "markdown",
   "metadata": {},
   "source": [
    "##### Final Model with Significant Covariates"
   ],
   "id": "5ebe4db3-cb1b-4d7d-bfc7-962ab3393fe5"
  },
  {
   "cell_type": "code",
   "execution_count": null,
   "metadata": {},
   "outputs": [
    {
     "output_type": "display_data",
     "metadata": {},
     "data": {
      "text/html": [
       "<table style=\"border-collapse:collapse; border:none;\">\n",
       "<tr>\n",
       "<th style=\"border-top: double; text-align:center; font-style:normal; font-weight:bold; padding:0.2cm;  text-align:left; \">&nbsp;</th>\n",
       "<th colspan=\"3\" style=\"border-top: double; text-align:center; font-style:normal; font-weight:bold; padding:0.2cm; \">relationsatisf scored</th>\n",
       "</tr>\n",
       "<tr>\n",
       "<td style=\" text-align:center; border-bottom:1px solid; font-style:italic; font-weight:normal;  text-align:left; \">Predictors</td>\n",
       "<td style=\" text-align:center; border-bottom:1px solid; font-style:italic; font-weight:normal;  \">Estimates</td>\n",
       "<td style=\" text-align:center; border-bottom:1px solid; font-style:italic; font-weight:normal;  \">CI</td>\n",
       "<td style=\" text-align:center; border-bottom:1px solid; font-style:italic; font-weight:normal;  \">p</td>\n",
       "</tr>\n",
       "<tr>\n",
       "<td style=\" padding:0.2cm; text-align:left; vertical-align:top; text-align:left; \">(Intercept)</td>\n",
       "<td style=\" padding:0.2cm; text-align:left; vertical-align:top; text-align:center;  \">22.07</td>\n",
       "<td style=\" padding:0.2cm; text-align:left; vertical-align:top; text-align:center;  \">21.43&nbsp;&ndash;&nbsp;22.72</td>\n",
       "<td style=\" padding:0.2cm; text-align:left; vertical-align:top; text-align:center;  \"><strong>&lt;0.001</strong></td>\n",
       "</tr>\n",
       "<tr>\n",
       "<td style=\" padding:0.2cm; text-align:left; vertical-align:top; text-align:left; \">time c</td>\n",
       "<td style=\" padding:0.2cm; text-align:left; vertical-align:top; text-align:center;  \">0.10</td>\n",
       "<td style=\" padding:0.2cm; text-align:left; vertical-align:top; text-align:center;  \">&#45;0.36&nbsp;&ndash;&nbsp;0.57</td>\n",
       "<td style=\" padding:0.2cm; text-align:left; vertical-align:top; text-align:center;  \">0.664</td>\n",
       "</tr>\n",
       "<tr>\n",
       "<td style=\" padding:0.2cm; text-align:left; vertical-align:top; text-align:left; \">arm cfam and achess vs C</td>\n",
       "<td style=\" padding:0.2cm; text-align:left; vertical-align:top; text-align:center;  \">&#45;0.53</td>\n",
       "<td style=\" padding:0.2cm; text-align:left; vertical-align:top; text-align:center;  \">&#45;1.90&nbsp;&ndash;&nbsp;0.85</td>\n",
       "<td style=\" padding:0.2cm; text-align:left; vertical-align:top; text-align:center;  \">0.451</td>\n",
       "</tr>\n",
       "<tr>\n",
       "<td style=\" padding:0.2cm; text-align:left; vertical-align:top; text-align:left; \">arm cachess vs fam</td>\n",
       "<td style=\" padding:0.2cm; text-align:left; vertical-align:top; text-align:center;  \">&#45;0.21</td>\n",
       "<td style=\" padding:0.2cm; text-align:left; vertical-align:top; text-align:center;  \">&#45;1.75&nbsp;&ndash;&nbsp;1.34</td>\n",
       "<td style=\" padding:0.2cm; text-align:left; vertical-align:top; text-align:center;  \">0.793</td>\n",
       "</tr>\n",
       "<tr>\n",
       "<td style=\" padding:0.2cm; text-align:left; vertical-align:top; text-align:left; \">relationsatisf 0</td>\n",
       "<td style=\" padding:0.2cm; text-align:left; vertical-align:top; text-align:center;  \">0.86</td>\n",
       "<td style=\" padding:0.2cm; text-align:left; vertical-align:top; text-align:center;  \">0.74&nbsp;&ndash;&nbsp;0.99</td>\n",
       "<td style=\" padding:0.2cm; text-align:left; vertical-align:top; text-align:center;  \"><strong>&lt;0.001</strong></td>\n",
       "</tr>\n",
       "<tr>\n",
       "<td style=\" padding:0.2cm; text-align:left; vertical-align:top; text-align:left; \">inpatient yn ever [Yes]</td>\n",
       "<td style=\" padding:0.2cm; text-align:left; vertical-align:top; text-align:center;  \">&#45;7.23</td>\n",
       "<td style=\" padding:0.2cm; text-align:left; vertical-align:top; text-align:center;  \">&#45;11.61&nbsp;&ndash;&nbsp;-2.84</td>\n",
       "<td style=\" padding:0.2cm; text-align:left; vertical-align:top; text-align:center;  \"><strong>0.001</strong></td>\n",
       "</tr>\n",
       "<tr>\n",
       "<td style=\" padding:0.2cm; text-align:left; vertical-align:top; text-align:left; \">time c × arm cfam and<br>achess vs C</td>\n",
       "<td style=\" padding:0.2cm; text-align:left; vertical-align:top; text-align:center;  \">&#45;0.09</td>\n",
       "<td style=\" padding:0.2cm; text-align:left; vertical-align:top; text-align:center;  \">&#45;1.10&nbsp;&ndash;&nbsp;0.92</td>\n",
       "<td style=\" padding:0.2cm; text-align:left; vertical-align:top; text-align:center;  \">0.858</td>\n",
       "</tr>\n",
       "<tr>\n",
       "<td style=\" padding:0.2cm; text-align:left; vertical-align:top; text-align:left; \">time c × arm cachess vs<br>fam</td>\n",
       "<td style=\" padding:0.2cm; text-align:left; vertical-align:top; text-align:center;  \">0.70</td>\n",
       "<td style=\" padding:0.2cm; text-align:left; vertical-align:top; text-align:center;  \">&#45;0.43&nbsp;&ndash;&nbsp;1.82</td>\n",
       "<td style=\" padding:0.2cm; text-align:left; vertical-align:top; text-align:center;  \">0.224</td>\n",
       "</tr>\n",
       "\n",
       "<tr>\n",
       "<td style=\" padding:0.2cm; text-align:left; vertical-align:top; text-align:left; padding-top:0.1cm; padding-bottom:0.1cm;\">N <sub>study_id</sub></td>\n",
       "<td style=\" padding:0.2cm; text-align:left; vertical-align:top; padding-top:0.1cm; padding-bottom:0.1cm; text-align:left;\" colspan=\"3\">170</td>\n",
       "<tr>\n",
       "<td style=\" padding:0.2cm; text-align:left; vertical-align:top; text-align:left; padding-top:0.1cm; padding-bottom:0.1cm; border-top:1px solid;\">Observations</td>\n",
       "<td style=\" padding:0.2cm; text-align:left; vertical-align:top; padding-top:0.1cm; padding-bottom:0.1cm; text-align:left; border-top:1px solid;\" colspan=\"3\">454</td>\n",
       "</tr>\n",
       "<tr>\n",
       "<td style=\" padding:0.2cm; text-align:left; vertical-align:top; text-align:left; padding-top:0.1cm; padding-bottom:0.1cm;\">Marginal R<sup>2</sup> / Conditional R<sup>2</sup></td>\n",
       "<td style=\" padding:0.2cm; text-align:left; vertical-align:top; padding-top:0.1cm; padding-bottom:0.1cm; text-align:left;\" colspan=\"3\">0.413 / 0.727</td>\n",
       "</tr>\n",
       "\n",
       "</table>\n"
      ]
     }
    },
    {
     "output_type": "display_data",
     "metadata": {},
     "data": {
      "text/html": [
       "<table style=\"border-collapse:collapse; border:none;\">\n",
       "<tr>\n",
       "<th style=\"border-top: double; text-align:center; font-style:normal; font-weight:bold; padding:0.2cm;  text-align:left; \">&nbsp;</th>\n",
       "<th colspan=\"3\" style=\"border-top: double; text-align:center; font-style:normal; font-weight:bold; padding:0.2cm; \">relationsatisf scored</th>\n",
       "</tr>\n",
       "<tr>\n",
       "<td style=\" text-align:center; border-bottom:1px solid; font-style:italic; font-weight:normal;  text-align:left; \">Predictors</td>\n",
       "<td style=\" text-align:center; border-bottom:1px solid; font-style:italic; font-weight:normal;  \">Estimates</td>\n",
       "<td style=\" text-align:center; border-bottom:1px solid; font-style:italic; font-weight:normal;  \">CI</td>\n",
       "<td style=\" text-align:center; border-bottom:1px solid; font-style:italic; font-weight:normal;  \">p</td>\n",
       "</tr>\n",
       "<tr>\n",
       "<td style=\" padding:0.2cm; text-align:left; vertical-align:top; text-align:left; \">(Intercept)</td>\n",
       "<td style=\" padding:0.2cm; text-align:left; vertical-align:top; text-align:center;  \">21.41</td>\n",
       "<td style=\" padding:0.2cm; text-align:left; vertical-align:top; text-align:center;  \">20.76&nbsp;&ndash;&nbsp;22.06</td>\n",
       "<td style=\" padding:0.2cm; text-align:left; vertical-align:top; text-align:center;  \"><strong>&lt;0.001</strong></td>\n",
       "</tr>\n",
       "<tr>\n",
       "<td style=\" padding:0.2cm; text-align:left; vertical-align:top; text-align:left; \">time c</td>\n",
       "<td style=\" padding:0.2cm; text-align:left; vertical-align:top; text-align:center;  \">&#45;0.12</td>\n",
       "<td style=\" padding:0.2cm; text-align:left; vertical-align:top; text-align:center;  \">&#45;0.53&nbsp;&ndash;&nbsp;0.29</td>\n",
       "<td style=\" padding:0.2cm; text-align:left; vertical-align:top; text-align:center;  \">0.573</td>\n",
       "</tr>\n",
       "<tr>\n",
       "<td style=\" padding:0.2cm; text-align:left; vertical-align:top; text-align:left; \">arm cfam and achess vs C</td>\n",
       "<td style=\" padding:0.2cm; text-align:left; vertical-align:top; text-align:center;  \">&#45;0.36</td>\n",
       "<td style=\" padding:0.2cm; text-align:left; vertical-align:top; text-align:center;  \">&#45;1.75&nbsp;&ndash;&nbsp;1.02</td>\n",
       "<td style=\" padding:0.2cm; text-align:left; vertical-align:top; text-align:center;  \">0.606</td>\n",
       "</tr>\n",
       "<tr>\n",
       "<td style=\" padding:0.2cm; text-align:left; vertical-align:top; text-align:left; \">arm cachess vs fam</td>\n",
       "<td style=\" padding:0.2cm; text-align:left; vertical-align:top; text-align:center;  \">1.31</td>\n",
       "<td style=\" padding:0.2cm; text-align:left; vertical-align:top; text-align:center;  \">&#45;0.26&nbsp;&ndash;&nbsp;2.89</td>\n",
       "<td style=\" padding:0.2cm; text-align:left; vertical-align:top; text-align:center;  \">0.102</td>\n",
       "</tr>\n",
       "<tr>\n",
       "<td style=\" padding:0.2cm; text-align:left; vertical-align:top; text-align:left; \">relationsatisf 0</td>\n",
       "<td style=\" padding:0.2cm; text-align:left; vertical-align:top; text-align:center;  \">0.68</td>\n",
       "<td style=\" padding:0.2cm; text-align:left; vertical-align:top; text-align:center;  \">0.55&nbsp;&ndash;&nbsp;0.81</td>\n",
       "<td style=\" padding:0.2cm; text-align:left; vertical-align:top; text-align:center;  \"><strong>&lt;0.001</strong></td>\n",
       "</tr>\n",
       "<tr>\n",
       "<td style=\" padding:0.2cm; text-align:left; vertical-align:top; text-align:left; \">edu c</td>\n",
       "<td style=\" padding:0.2cm; text-align:left; vertical-align:top; text-align:center;  \">0.61</td>\n",
       "<td style=\" padding:0.2cm; text-align:left; vertical-align:top; text-align:center;  \">0.03&nbsp;&ndash;&nbsp;1.20</td>\n",
       "<td style=\" padding:0.2cm; text-align:left; vertical-align:top; text-align:center;  \"><strong>0.040</strong></td>\n",
       "</tr>\n",
       "<tr>\n",
       "<td style=\" padding:0.2cm; text-align:left; vertical-align:top; text-align:left; \">time c × arm cfam and<br>achess vs C</td>\n",
       "<td style=\" padding:0.2cm; text-align:left; vertical-align:top; text-align:center;  \">&#45;0.52</td>\n",
       "<td style=\" padding:0.2cm; text-align:left; vertical-align:top; text-align:center;  \">&#45;1.38&nbsp;&ndash;&nbsp;0.35</td>\n",
       "<td style=\" padding:0.2cm; text-align:left; vertical-align:top; text-align:center;  \">0.243</td>\n",
       "</tr>\n",
       "<tr>\n",
       "<td style=\" padding:0.2cm; text-align:left; vertical-align:top; text-align:left; \">time c × arm cachess vs<br>fam</td>\n",
       "<td style=\" padding:0.2cm; text-align:left; vertical-align:top; text-align:center;  \">0.61</td>\n",
       "<td style=\" padding:0.2cm; text-align:left; vertical-align:top; text-align:center;  \">&#45;0.40&nbsp;&ndash;&nbsp;1.62</td>\n",
       "<td style=\" padding:0.2cm; text-align:left; vertical-align:top; text-align:center;  \">0.238</td>\n",
       "</tr>\n",
       "\n",
       "<tr>\n",
       "<td style=\" padding:0.2cm; text-align:left; vertical-align:top; text-align:left; padding-top:0.1cm; padding-bottom:0.1cm;\">N <sub>study_id</sub></td>\n",
       "<td style=\" padding:0.2cm; text-align:left; vertical-align:top; padding-top:0.1cm; padding-bottom:0.1cm; text-align:left;\" colspan=\"3\">168</td>\n",
       "<tr>\n",
       "<td style=\" padding:0.2cm; text-align:left; vertical-align:top; text-align:left; padding-top:0.1cm; padding-bottom:0.1cm; border-top:1px solid;\">Observations</td>\n",
       "<td style=\" padding:0.2cm; text-align:left; vertical-align:top; padding-top:0.1cm; padding-bottom:0.1cm; text-align:left; border-top:1px solid;\" colspan=\"3\">436</td>\n",
       "</tr>\n",
       "<tr>\n",
       "<td style=\" padding:0.2cm; text-align:left; vertical-align:top; text-align:left; padding-top:0.1cm; padding-bottom:0.1cm;\">Marginal R<sup>2</sup> / Conditional R<sup>2</sup></td>\n",
       "<td style=\" padding:0.2cm; text-align:left; vertical-align:top; padding-top:0.1cm; padding-bottom:0.1cm; text-align:left;\" colspan=\"3\">0.318 / 0.723</td>\n",
       "</tr>\n",
       "\n",
       "</table>\n"
      ]
     }
    }
   ],
   "source": [
    "lmer(relationsatisf_scored ~ time_c*arm_c + relationsatisf_0 + \n",
    "       inpatient_yn_ever + (1 + time_c | study_id), \n",
    "     data = subset(data, dyad == \"Partner\")) |> \n",
    "  sjPlot::tab_model(show.re.var = F, show.icc = F)"
   ],
   "id": "7984d9e9-becc-4316-94ed-eb858db21a7e"
  },
  {
   "cell_type": "markdown",
   "metadata": {},
   "source": [
    "#### Secondary Partner Outcome 2: `abuse_scored`"
   ],
   "id": "15366497-f63e-429f-bf67-6f3590fbf69b"
  },
  {
   "cell_type": "raw",
   "metadata": {
    "raw_mimetype": "text/html"
   },
   "source": [
    "<!-- Distribution of residuals     -->"
   ],
   "id": "5c705281-0435-4b4b-9933-c5a15895f50c"
  },
  {
   "cell_type": "raw",
   "metadata": {
    "raw_mimetype": "text/html"
   },
   "source": [
    "<!-- *KW: Look into potential outliers?* -->"
   ],
   "id": "d5c0b170-b0cb-4faa-94ff-f9a22f60bd68"
  },
  {
   "cell_type": "raw",
   "metadata": {
    "raw_mimetype": "text/html"
   },
   "source": [
    "<!-- *This model can only be fit for partners? Look into error* -->"
   ],
   "id": "98e472aa-57c5-4c62-874b-c2d6aab03fd9"
  },
  {
   "cell_type": "raw",
   "metadata": {
    "raw_mimetype": "text/html"
   },
   "source": [
    "<!-- ```{r} -->"
   ],
   "id": "57509095-b14c-4903-83a0-a9f548ff30af"
  },
  {
   "cell_type": "raw",
   "metadata": {
    "raw_mimetype": "text/html"
   },
   "source": [
    "<!-- model_partner_sec_2 <- lmer(abuse_scored ~ time_c*arm_c + abuse_0 + -->"
   ],
   "id": "40974372-974d-4595-979b-30001c0dc980"
  },
  {
   "cell_type": "raw",
   "metadata": {
    "raw_mimetype": "text/html"
   },
   "source": [
    "<!--                              (1 + time_c | study_id),  -->"
   ],
   "id": "589b3e8d-e812-4a1a-8fc3-c97aa38bd29c"
  },
  {
   "cell_type": "raw",
   "metadata": {
    "raw_mimetype": "text/html"
   },
   "source": [
    "<!--                             data = subset(data, dyad == \"Partner\")) -->"
   ],
   "id": "345d2fb8-9539-41e2-a4aa-251b5e1431e2"
  },
  {
   "cell_type": "raw",
   "metadata": {
    "raw_mimetype": "text/html"
   },
   "source": [
    "<!-- tibble(error = residuals(model_partner_sec_2)) |>  -->"
   ],
   "id": "3ebbe893-01aa-484d-80d5-48516081dc4a"
  },
  {
   "cell_type": "raw",
   "metadata": {
    "raw_mimetype": "text/html"
   },
   "source": [
    "<!--   ggplot(aes(x = error)) + -->"
   ],
   "id": "bdd8f877-ff38-4b94-908e-462e38f66965"
  },
  {
   "cell_type": "raw",
   "metadata": {
    "raw_mimetype": "text/html"
   },
   "source": [
    "<!--   geom_histogram(color = \"black\", fill = \"light grey\", bins = 30) -->"
   ],
   "id": "6a1fa171-3f77-4e7d-8672-366a7f490921"
  },
  {
   "cell_type": "raw",
   "metadata": {
    "raw_mimetype": "text/html"
   },
   "source": [
    "<!-- ``` -->"
   ],
   "id": "2b5a27b6-6dc9-4340-84f2-59d12f231dfd"
  },
  {
   "cell_type": "raw",
   "metadata": {
    "raw_mimetype": "text/html"
   },
   "source": [
    "<!-- ##### Look for significant covariates -->"
   ],
   "id": "08e6af66-0371-49e2-9403-386df54a9330"
  },
  {
   "cell_type": "raw",
   "metadata": {
    "raw_mimetype": "text/html"
   },
   "source": [
    "<!-- `race_white_only` - not significant -->"
   ],
   "id": "adfe8d9e-03f3-431d-8f71-402bbceb95d7"
  },
  {
   "cell_type": "raw",
   "metadata": {
    "raw_mimetype": "text/html"
   },
   "source": [
    "<!-- ```{r} -->"
   ],
   "id": "4b5d40ed-851f-4e9e-8186-d5a8f4c8c1b8"
  },
  {
   "cell_type": "raw",
   "metadata": {
    "raw_mimetype": "text/html"
   },
   "source": [
    "<!-- lmer(abuse_scored ~ time_c*arm_c + abuse_0 + race_white_only +  -->"
   ],
   "id": "049ca28c-bed6-41d0-b6e5-22788711b20c"
  },
  {
   "cell_type": "raw",
   "metadata": {
    "raw_mimetype": "text/html"
   },
   "source": [
    "<!--        (1 + time_c | study_id), data = subset(data, dyad == 1)) |>  -->"
   ],
   "id": "0a852516-549d-4bc3-bff4-247f4dd08db5"
  },
  {
   "cell_type": "raw",
   "metadata": {
    "raw_mimetype": "text/html"
   },
   "source": [
    "<!--   sjPlot::tab_model(show.re.var = F, show.icc = F, terms = c(\"race_white_only\")) -->"
   ],
   "id": "18bc16d6-67cf-4fa3-813b-d129630f06c5"
  },
  {
   "cell_type": "raw",
   "metadata": {
    "raw_mimetype": "text/html"
   },
   "source": [
    "<!-- ``` -->"
   ],
   "id": "c983779e-8801-49a3-8d02-cb6afe923c65"
  },
  {
   "cell_type": "raw",
   "metadata": {
    "raw_mimetype": "text/html"
   },
   "source": [
    "<!-- `age_c` - not significant -->"
   ],
   "id": "f7e8e7dc-3d70-4315-a151-7f76a3647901"
  },
  {
   "cell_type": "raw",
   "metadata": {
    "raw_mimetype": "text/html"
   },
   "source": [
    "<!-- ```{r} -->"
   ],
   "id": "65b978d5-0fe9-4bf7-81fc-cb5756eda135"
  },
  {
   "cell_type": "raw",
   "metadata": {
    "raw_mimetype": "text/html"
   },
   "source": [
    "<!-- lmer(abuse_scored ~ time_c*arm_c + abuse_0 + age_c + (1 + time_c | study_id),  -->"
   ],
   "id": "40087ff2-63fb-416f-964f-81a2dbf8841d"
  },
  {
   "cell_type": "raw",
   "metadata": {
    "raw_mimetype": "text/html"
   },
   "source": [
    "<!--      data = subset(data, dyad == 1)) |>  -->"
   ],
   "id": "2cd4191f-a42f-45bc-8bfc-4c381c35423e"
  },
  {
   "cell_type": "raw",
   "metadata": {
    "raw_mimetype": "text/html"
   },
   "source": [
    "<!--   sjPlot::tab_model(show.re.var = F, show.icc = F, terms = c(\"age_c\")) -->"
   ],
   "id": "bda3041f-543b-43c7-bae2-76bcdf4b32d5"
  },
  {
   "cell_type": "raw",
   "metadata": {
    "raw_mimetype": "text/html"
   },
   "source": [
    "<!-- ``` -->"
   ],
   "id": "45960419-dd06-46cf-9c7b-322794fd49dd"
  },
  {
   "cell_type": "raw",
   "metadata": {
    "raw_mimetype": "text/html"
   },
   "source": [
    "<!-- `edu_c` - Not significant -->"
   ],
   "id": "cd7ae3b1-68db-48d5-8f1b-add61f4ae7e3"
  },
  {
   "cell_type": "raw",
   "metadata": {
    "raw_mimetype": "text/html"
   },
   "source": [
    "<!-- ```{r} -->"
   ],
   "id": "332bb521-8f7e-4398-a228-d24767cdd62d"
  },
  {
   "cell_type": "raw",
   "metadata": {
    "raw_mimetype": "text/html"
   },
   "source": [
    "<!-- lmer(abuse_scored ~ time_c*arm_c + abuse_0 + edu_c + (1 + time_c | study_id),  -->"
   ],
   "id": "b2962479-10e2-4b2d-a3d2-68b9e1939243"
  },
  {
   "cell_type": "raw",
   "metadata": {
    "raw_mimetype": "text/html"
   },
   "source": [
    "<!--      data = subset(data, dyad == 1)) |>  -->"
   ],
   "id": "78dba397-2a1d-44a6-b37f-8385c30a2ce5"
  },
  {
   "cell_type": "raw",
   "metadata": {
    "raw_mimetype": "text/html"
   },
   "source": [
    "<!--   sjPlot::tab_model(show.re.var = F, show.icc = F, terms = c(\"edu_c\")) -->"
   ],
   "id": "4747681d-e70f-4ff3-9f97-693b5f03b146"
  },
  {
   "cell_type": "raw",
   "metadata": {
    "raw_mimetype": "text/html"
   },
   "source": [
    "<!-- ``` -->"
   ],
   "id": "7a89e58a-f469-4d0a-926c-973e7f95508e"
  },
  {
   "cell_type": "raw",
   "metadata": {
    "raw_mimetype": "text/html"
   },
   "source": [
    "<!-- `meetings_yn` - not significant -->"
   ],
   "id": "378d33f5-dcc3-4bea-902e-f6c8c8c6b07b"
  },
  {
   "cell_type": "raw",
   "metadata": {
    "raw_mimetype": "text/html"
   },
   "source": [
    "<!-- ```{r} -->"
   ],
   "id": "f6b82460-cbde-4feb-a281-45b09a5ea880"
  },
  {
   "cell_type": "raw",
   "metadata": {
    "raw_mimetype": "text/html"
   },
   "source": [
    "<!-- lmer(abuse_scored ~ time_c*arm_c + abuse_0 + meetings_yn +  -->"
   ],
   "id": "e6ca796b-ad57-44a4-bcf1-7250cd790991"
  },
  {
   "cell_type": "raw",
   "metadata": {
    "raw_mimetype": "text/html"
   },
   "source": [
    "<!--        (1 + time_c | study_id), data = subset(data, dyad == 1)) |>  -->"
   ],
   "id": "059f7e59-c562-4b8c-974b-4d1ad8b96832"
  },
  {
   "cell_type": "raw",
   "metadata": {
    "raw_mimetype": "text/html"
   },
   "source": [
    "<!--   sjPlot::tab_model(show.re.var = F, show.icc = F, terms = c(\"meetings_yn\")) -->"
   ],
   "id": "feecf7e4-03e5-4846-b767-285a9ff37a1d"
  },
  {
   "cell_type": "raw",
   "metadata": {
    "raw_mimetype": "text/html"
   },
   "source": [
    "<!-- ``` -->"
   ],
   "id": "4ef22702-0cff-4b52-93e4-56e0cf6cc9fb"
  },
  {
   "cell_type": "raw",
   "metadata": {
    "raw_mimetype": "text/html"
   },
   "source": [
    "<!-- `outpatient_yn_ever` - Not significant -->"
   ],
   "id": "7f678b78-34e4-47e6-a4a6-7e5b2f62d5c0"
  },
  {
   "cell_type": "raw",
   "metadata": {
    "raw_mimetype": "text/html"
   },
   "source": [
    "<!-- ```{r} -->"
   ],
   "id": "764cbcc1-cc1b-46a6-b2ec-66d40d6800bb"
  },
  {
   "cell_type": "raw",
   "metadata": {
    "raw_mimetype": "text/html"
   },
   "source": [
    "<!-- lmer(abuse_scored ~ time_c*arm_c + abuse_0 + outpatient_yn_ever +  -->"
   ],
   "id": "db17cd57-f72e-49fb-a013-45abb5f0721b"
  },
  {
   "cell_type": "raw",
   "metadata": {
    "raw_mimetype": "text/html"
   },
   "source": [
    "<!--        (1 + time_c | study_id), data = subset(data, dyad == 1)) |>  -->"
   ],
   "id": "420ac87b-f939-427e-9e8f-23e78ed92aea"
  },
  {
   "cell_type": "raw",
   "metadata": {
    "raw_mimetype": "text/html"
   },
   "source": [
    "<!--   sjPlot::tab_model(show.re.var = F, show.icc = F, terms = c(\"outpatient_yn_ever\")) -->"
   ],
   "id": "bf02d931-d54a-44bd-8ce8-6f61870c3eba"
  },
  {
   "cell_type": "raw",
   "metadata": {
    "raw_mimetype": "text/html"
   },
   "source": [
    "<!-- ``` -->"
   ],
   "id": "66f3242a-d092-4ba9-bf05-50bdc111139c"
  },
  {
   "cell_type": "raw",
   "metadata": {
    "raw_mimetype": "text/html"
   },
   "source": [
    "<!-- `er_yn_ever` - Not significant -->"
   ],
   "id": "5c397b05-2137-4596-a404-1bc57c6675f9"
  },
  {
   "cell_type": "raw",
   "metadata": {
    "raw_mimetype": "text/html"
   },
   "source": [
    "<!-- ```{r} -->"
   ],
   "id": "af3b7489-7f01-40ad-8294-5c90abe610e5"
  },
  {
   "cell_type": "raw",
   "metadata": {
    "raw_mimetype": "text/html"
   },
   "source": [
    "<!-- lmer(abuse_scored ~ time_c*arm_c + abuse_0 + er_yn_ever +  -->"
   ],
   "id": "6a2d4ab0-0544-4566-9955-5fc4ad949b6f"
  },
  {
   "cell_type": "raw",
   "metadata": {
    "raw_mimetype": "text/html"
   },
   "source": [
    "<!--        (1 + time_c | study_id), data = subset(data, dyad == 1)) |>  -->"
   ],
   "id": "00b9a1e2-f01c-4491-9fab-a7e5e3011100"
  },
  {
   "cell_type": "raw",
   "metadata": {
    "raw_mimetype": "text/html"
   },
   "source": [
    "<!--   sjPlot::tab_model(show.re.var = F, show.icc = F, terms = c(\"er_yn_ever\")) -->"
   ],
   "id": "4a9a3e27-bea7-469a-90aa-5a4dbf68c50b"
  },
  {
   "cell_type": "raw",
   "metadata": {
    "raw_mimetype": "text/html"
   },
   "source": [
    "<!-- ``` -->"
   ],
   "id": "97e59c6f-cb2e-4911-b2aa-48200090d8ce"
  },
  {
   "cell_type": "raw",
   "metadata": {
    "raw_mimetype": "text/html"
   },
   "source": [
    "<!-- `mat_yn` - **significant for partner** -->"
   ],
   "id": "3118e018-923a-4887-9529-56998338b844"
  },
  {
   "cell_type": "raw",
   "metadata": {
    "raw_mimetype": "text/html"
   },
   "source": [
    "<!-- ```{r} -->"
   ],
   "id": "203a1e36-4899-4312-b7a6-d2625e1ecabf"
  },
  {
   "cell_type": "raw",
   "metadata": {
    "raw_mimetype": "text/html"
   },
   "source": [
    "<!-- lmer(abuse_scored ~ time_c*arm_c + abuse_0 + mat_yn + (1 + time_c | study_id),  -->"
   ],
   "id": "a6076b9e-afc5-4838-afb8-3b4e1457e0a8"
  },
  {
   "cell_type": "raw",
   "metadata": {
    "raw_mimetype": "text/html"
   },
   "source": [
    "<!--      data = subset(data, dyad == 1)) |>  -->"
   ],
   "id": "4210a27d-9863-4587-a3e6-85c022ab1e5a"
  },
  {
   "cell_type": "raw",
   "metadata": {
    "raw_mimetype": "text/html"
   },
   "source": [
    "<!--   sjPlot::tab_model(show.re.var = F, show.icc = F, terms = c(\"mat_yn\")) -->"
   ],
   "id": "d17f6c49-2d53-4e62-8261-9783b9f6d035"
  },
  {
   "cell_type": "raw",
   "metadata": {
    "raw_mimetype": "text/html"
   },
   "source": [
    "<!-- ``` -->"
   ],
   "id": "cbdaf5f6-a032-4401-9dff-8f090f9cf0df"
  },
  {
   "cell_type": "raw",
   "metadata": {
    "raw_mimetype": "text/html"
   },
   "source": [
    "<!-- `inpatient_yn_ever` - **significant for partner** -->"
   ],
   "id": "3c6f8f88-1154-4b9a-9924-5252780c5252"
  },
  {
   "cell_type": "raw",
   "metadata": {
    "raw_mimetype": "text/html"
   },
   "source": [
    "<!-- ```{r} -->"
   ],
   "id": "b2e81e1b-e7fd-4256-80c4-7f0a5e9a2ca6"
  },
  {
   "cell_type": "raw",
   "metadata": {
    "raw_mimetype": "text/html"
   },
   "source": [
    "<!-- lmer(abuse_scored ~ time_c*arm_c + abuse_0 + inpatient_yn_ever +  -->"
   ],
   "id": "368fd016-83b4-4f71-b5d6-7f78f50cdd06"
  },
  {
   "cell_type": "raw",
   "metadata": {
    "raw_mimetype": "text/html"
   },
   "source": [
    "<!--        (1 + time_c | study_id), data = subset(data, dyad == 1)) |>  -->"
   ],
   "id": "c6014dfa-428b-4309-b606-b2dd9a62a364"
  },
  {
   "cell_type": "raw",
   "metadata": {
    "raw_mimetype": "text/html"
   },
   "source": [
    "<!--   sjPlot::tab_model(show.re.var = F, show.icc = F, terms = c(\"inpatient_yn_ever\")) -->"
   ],
   "id": "a425c3b8-22f7-419e-9d98-24ad97d11328"
  },
  {
   "cell_type": "raw",
   "metadata": {
    "raw_mimetype": "text/html"
   },
   "source": [
    "<!-- ``` -->"
   ],
   "id": "d040a9d4-cc88-4487-beba-d005184c40ca"
  },
  {
   "cell_type": "raw",
   "metadata": {
    "raw_mimetype": "text/html"
   },
   "source": [
    "<!-- `other_psych_treatment_yn` - not significant -->"
   ],
   "id": "d7d170f4-b4d8-4d6c-befb-2b9d54a86f09"
  },
  {
   "cell_type": "raw",
   "metadata": {
    "raw_mimetype": "text/html"
   },
   "source": [
    "<!-- ```{r} -->"
   ],
   "id": "bdff7ae7-9e03-4e88-935e-fcaa481b5b92"
  },
  {
   "cell_type": "raw",
   "metadata": {
    "raw_mimetype": "text/html"
   },
   "source": [
    "<!-- lmer(abuse_scored ~ time_c*arm_c + abuse_0 + other_psych_treatment_yn +  -->"
   ],
   "id": "ec4011af-3a91-4506-b12e-4c7577cc39c8"
  },
  {
   "cell_type": "raw",
   "metadata": {
    "raw_mimetype": "text/html"
   },
   "source": [
    "<!--        (1 + time_c | study_id),  data = subset(data, dyad == 1)) |>  -->"
   ],
   "id": "d1f79268-77ac-4355-af58-2ed30719c31b"
  },
  {
   "cell_type": "raw",
   "metadata": {
    "raw_mimetype": "text/html"
   },
   "source": [
    "<!--   sjPlot::tab_model(show.re.var = F, show.icc = F, terms = c(\"other_psych_treatment_yn\")) -->"
   ],
   "id": "d1442111-1a35-4eac-9c1e-cc952cb6b9cf"
  },
  {
   "cell_type": "raw",
   "metadata": {
    "raw_mimetype": "text/html"
   },
   "source": [
    "<!-- ``` -->"
   ],
   "id": "bda34f38-8395-41d7-8678-14e4708b15db"
  },
  {
   "cell_type": "raw",
   "metadata": {
    "raw_mimetype": "text/html"
   },
   "source": [
    "<!-- `other_medications_yn` - Not significant -->"
   ],
   "id": "ca5fb658-1d5c-4fd0-af30-5a89515614c0"
  },
  {
   "cell_type": "raw",
   "metadata": {
    "raw_mimetype": "text/html"
   },
   "source": [
    "<!-- ```{r} -->"
   ],
   "id": "029ee51c-df4b-4905-9c27-828f9deed23e"
  },
  {
   "cell_type": "raw",
   "metadata": {
    "raw_mimetype": "text/html"
   },
   "source": [
    "<!-- lmer(abuse_scored ~ time_c*arm_c + abuse_0 + other_medications_yn +  -->"
   ],
   "id": "e038f565-3e64-4126-86ae-a46c1ecb89a4"
  },
  {
   "cell_type": "raw",
   "metadata": {
    "raw_mimetype": "text/html"
   },
   "source": [
    "<!--        (1 + time_c | study_id), data = subset(data, dyad == 1)) |>  -->"
   ],
   "id": "63924185-d52e-47c0-a6a1-2daf0679ac07"
  },
  {
   "cell_type": "raw",
   "metadata": {
    "raw_mimetype": "text/html"
   },
   "source": [
    "<!--   sjPlot::tab_model(show.re.var = F, show.icc = F, terms = c(\"other_medications_yn\")) -->"
   ],
   "id": "f1d5fb76-c34b-4a9a-8382-5cf92ccf0460"
  },
  {
   "cell_type": "raw",
   "metadata": {
    "raw_mimetype": "text/html"
   },
   "source": [
    "<!-- ``` -->"
   ],
   "id": "a7acc104-03b1-44fa-a6e5-4ed4cff8e81e"
  },
  {
   "cell_type": "raw",
   "metadata": {
    "raw_mimetype": "text/html"
   },
   "source": [
    "<!-- ##### Final Model with Significant Covariates -->"
   ],
   "id": "ffece7f4-da1c-4c83-ad41-365ca3f3e38d"
  },
  {
   "cell_type": "raw",
   "metadata": {
    "raw_mimetype": "text/html"
   },
   "source": [
    "<!-- ```{r} -->"
   ],
   "id": "3709d68a-6911-4932-86ed-d2d0977f51d1"
  },
  {
   "cell_type": "raw",
   "metadata": {
    "raw_mimetype": "text/html"
   },
   "source": [
    "<!-- lmer(abuse_scored ~ time_c*arm_c + abuse_0 + mat_yn + inpatient_yn_ever +  -->"
   ],
   "id": "25660d9b-eeba-412a-8128-abe48eef1835"
  },
  {
   "cell_type": "raw",
   "metadata": {
    "raw_mimetype": "text/html"
   },
   "source": [
    "<!--        (1 + time_c | study_id), data = subset(data, dyad == 1)) |>  -->"
   ],
   "id": "d9e35d43-1df8-4252-b53c-a57cb9ae68f1"
  },
  {
   "cell_type": "raw",
   "metadata": {
    "raw_mimetype": "text/html"
   },
   "source": [
    "<!--   sjPlot::tab_model(model_partner_sec_2, show.re.var = F, show.icc = F) -->"
   ],
   "id": "2a4fa6cc-2947-44bf-86b4-6b0cd15628f5"
  },
  {
   "cell_type": "raw",
   "metadata": {
    "raw_mimetype": "text/html"
   },
   "source": [
    "<!-- ``` -->"
   ],
   "id": "d7136654-0d04-448b-8c85-263748caece1"
  },
  {
   "cell_type": "markdown",
   "metadata": {},
   "source": [
    "### Check Assumptions for Analyses of Mediators\n",
    "\n",
    "**KW: mediators only for primary outcomes and ACHESS vs. FamCHESS contrasts**\n",
    "\n",
    "List of Patient mediators: `socrates_scored`  \n",
    "List of Partner mediators: `peersupport_scored`, `treatmentskills_scored`\n",
    "\n",
    "### Check Assumptions for Analyses of Moderators\n",
    "\n",
    "**KW: moderators only for primary outcomes**\n",
    "\n",
    "List of Patient moderators: `dsm5_criteria`  \n",
    "List of Partner moderators: `gender`, `days_app_use`"
   ],
   "id": "bd4e659f-f5d3-4819-8856-07d025810253"
  }
 ],
 "nbformat": 4,
 "nbformat_minor": 5,
 "metadata": {}
}

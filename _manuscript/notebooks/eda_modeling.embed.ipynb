{
 "cells": [
  {
   "cell_type": "markdown",
   "metadata": {},
   "source": [
    "# famCHESS Modeling EDA\n",
    "\n",
    "Kendra Wyant\n",
    "\n",
    "## Notes\n",
    "\n",
    "This script reads in the processed famCHESS data (see `eda_cleaning.qmd`) and performs modeling checks for assumptions, covariates, mediators, and moderators.\n",
    "\n",
    "## Setup"
   ],
   "id": "04e44782-aa1a-4fbb-903d-643d7f0321e1"
  },
  {
   "cell_type": "code",
   "execution_count": null,
   "metadata": {},
   "outputs": [
    {
     "output_type": "stream",
     "name": "stderr",
     "text": [
      "ℹ SHA-1 hash of file is \"a58e57da996d1b70bb9a5b58241325d6fd78890f\""
     ]
    }
   ],
   "source": [
    "options(conflicts.policy = \"depends.ok\")\n",
    "suppressMessages(library(tidyverse))\n",
    "suppressMessages(library(janitor))\n",
    "library(Matrix, exclude = c(\"expand\", \"pack\", \"unpack\"))\n",
    "library(lme4)\n",
    "theme_set(theme_classic()) \n",
    "\n",
    "devtools::source_url(\"https://github.com/jjcurtin/lab_support/blob/main/format_path.R?raw=true\")"
   ],
   "id": "cd3b9fdb-74b3-4dae-a20e-ac19cd45f78d"
  },
  {
   "cell_type": "markdown",
   "metadata": {},
   "source": [
    "## Data"
   ],
   "id": "f30bfbb1-39ee-4ebe-8300-e0bfca8b5bc5"
  },
  {
   "cell_type": "code",
   "execution_count": null,
   "metadata": {},
   "outputs": [],
   "source": [
    "data <- read_csv(here::here(path_data, \"famchess_data_ana.csv\"),\n",
    "                 show_col_types = FALSE)"
   ],
   "id": "bba72d47-6673-4d7e-93d8-4da2647d3384"
  },
  {
   "cell_type": "markdown",
   "metadata": {},
   "source": [
    "### Check Assumptions for Analyses of Study Arm Effects\n",
    "\n",
    "patient primary outcome = `per_heavy_drink_days`  \n",
    "partner primary outcome = `oq45_scored`\n",
    "\n",
    "patient secondary outcome = `per_days_abstinent`  \n",
    "partner secondary outcomes = `relationsatisf_scored` and `abuse_scored`\n",
    "\n",
    "*KW: Cannot run primary and secondary patient models for partners (outcomes don’t exist). We could run primary and secondary partner models for patients, but does this make sense?*\n",
    "\n",
    "List of potential covariate variable names: `race_white_only`, `age_c`, `edu_c`, `meetings_yn`, `outpatient_yn_ever`, `er_yn_ever`, `mat_yn`, `inpatient_yn_ever`, `other_psych_treatment_yn`, `other_medications_yn`\n",
    "\n",
    "Set contrasts"
   ],
   "id": "434459e3-ddae-4371-835d-a9993d779ec7"
  },
  {
   "cell_type": "code",
   "execution_count": null,
   "metadata": {},
   "outputs": [
    {
     "output_type": "stream",
     "name": "stdout",
     "text": [
      "  fam_and_achess_vs_C achess_vs_fam\n",
      "0          -0.6666667           0.0\n",
      "1           0.3333333           0.5\n",
      "2           0.3333333          -0.5"
     ]
    }
   ],
   "source": [
    "col_names <- c(\"fam_and_achess_vs_C\", \"achess_vs_fam\")\n",
    "arm_contrasts <- matrix(c(-2/3, 1/3, 1/3, 0, 1/2, -1/2),\n",
    "                          nrow = 3, ncol = 2,\n",
    "                          dimnames = list(levels(data$arm), col_names))\n",
    "\n",
    "data <- data |> \n",
    "  mutate(arm_c = as.factor(arm))\n",
    "\n",
    "contrasts(data$arm_c) <- arm_contrasts\n",
    "contrasts(data$arm_c)"
   ],
   "id": "71dbd3b9-4185-4e9f-822b-00c4ea0c0f0e"
  },
  {
   "cell_type": "markdown",
   "metadata": {},
   "source": [
    "#### Primary Patient Outcome: `per_heavy_drink_days`\n",
    "\n",
    "##### Check distribution of residuals\n",
    "\n",
    "*KW: seems normal enough?*"
   ],
   "id": "59bc29b0-e443-4e88-a91f-31623e37c450"
  },
  {
   "cell_type": "code",
   "execution_count": null,
   "metadata": {},
   "outputs": [
    {
     "output_type": "display_data",
     "metadata": {},
     "data": {
      "image/png": "[encoded data removed]"
     }
    }
   ],
   "source": [
    "model_patient_prim <- lmer(per_heavy_drink_days ~ time_c*arm_c + hdd_0 + \n",
    "                             (1 + time_c | study_id), data = subset(data, dyad == 2))\n",
    "\n",
    "tibble(error = residuals(model_patient_prim)) |> \n",
    "  ggplot(aes(x = error)) +\n",
    "  geom_histogram(color = \"black\", fill = \"light grey\", bins = 30)"
   ],
   "id": "e86a55f6-f7ea-4d65-8c12-7fd118eed5ab"
  },
  {
   "cell_type": "markdown",
   "metadata": {},
   "source": [
    "##### Look for significant covariates (We will only include covariates that significantly predict the outcome).\n",
    "\n",
    "`race_white_only` - not significant"
   ],
   "id": "6bc2a0f2-be44-4466-a788-3b95e72f0084"
  },
  {
   "cell_type": "code",
   "execution_count": null,
   "metadata": {},
   "outputs": [
    {
     "output_type": "display_data",
     "metadata": {},
     "data": {
      "text/html": [
       "<table style=\"border-collapse:collapse; border:none;\">\n",
       "<tr>\n",
       "<th style=\"border-top: double; text-align:center; font-style:normal; font-weight:bold; padding:0.2cm;  text-align:left; \">&nbsp;</th>\n",
       "<th colspan=\"3\" style=\"border-top: double; text-align:center; font-style:normal; font-weight:bold; padding:0.2cm; \">per heavy drink days</th>\n",
       "</tr>\n",
       "<tr>\n",
       "<td style=\" text-align:center; border-bottom:1px solid; font-style:italic; font-weight:normal;  text-align:left; \">Predictors</td>\n",
       "<td style=\" text-align:center; border-bottom:1px solid; font-style:italic; font-weight:normal;  \">Estimates</td>\n",
       "<td style=\" text-align:center; border-bottom:1px solid; font-style:italic; font-weight:normal;  \">CI</td>\n",
       "<td style=\" text-align:center; border-bottom:1px solid; font-style:italic; font-weight:normal;  \">p</td>\n",
       "</tr>\n",
       "<tr>\n",
       "<td style=\" padding:0.2cm; text-align:left; vertical-align:top; text-align:left; \">race white only</td>\n",
       "<td style=\" padding:0.2cm; text-align:left; vertical-align:top; text-align:center;  \">&#45;0.26</td>\n",
       "<td style=\" padding:0.2cm; text-align:left; vertical-align:top; text-align:center;  \">&#45;8.95&nbsp;&ndash;&nbsp;8.43</td>\n",
       "<td style=\" padding:0.2cm; text-align:left; vertical-align:top; text-align:center;  \">0.953</td>\n",
       "</tr>\n",
       "\n",
       "<tr>\n",
       "<td style=\" padding:0.2cm; text-align:left; vertical-align:top; text-align:left; padding-top:0.1cm; padding-bottom:0.1cm;\">N <sub>study_id</sub></td>\n",
       "<td style=\" padding:0.2cm; text-align:left; vertical-align:top; padding-top:0.1cm; padding-bottom:0.1cm; text-align:left;\" colspan=\"3\">157</td>\n",
       "<tr>\n",
       "<td style=\" padding:0.2cm; text-align:left; vertical-align:top; text-align:left; padding-top:0.1cm; padding-bottom:0.1cm; border-top:1px solid;\">Observations</td>\n",
       "<td style=\" padding:0.2cm; text-align:left; vertical-align:top; padding-top:0.1cm; padding-bottom:0.1cm; text-align:left; border-top:1px solid;\" colspan=\"3\">427</td>\n",
       "</tr>\n",
       "<tr>\n",
       "<td style=\" padding:0.2cm; text-align:left; vertical-align:top; text-align:left; padding-top:0.1cm; padding-bottom:0.1cm;\">Marginal R<sup>2</sup> / Conditional R<sup>2</sup></td>\n",
       "<td style=\" padding:0.2cm; text-align:left; vertical-align:top; padding-top:0.1cm; padding-bottom:0.1cm; text-align:left;\" colspan=\"3\">0.282 / 0.765</td>\n",
       "</tr>\n",
       "\n",
       "</table>\n"
      ]
     }
    }
   ],
   "source": [
    "lmer(per_heavy_drink_days ~ time_c*arm_c + hdd_0 + race_white_only + \n",
    "       (1 + time_c | study_id), data = subset(data, dyad == 2)) |> \n",
    "  sjPlot::tab_model(show.re.var = F, show.icc = F, terms = c(\"race_white_only\"))"
   ],
   "id": "a1cc64f9-fa6c-49ee-b37a-2985acc6fe2e"
  },
  {
   "cell_type": "markdown",
   "metadata": {},
   "source": [
    "`age_c` - not significant"
   ],
   "id": "b4a33246-7f44-460a-9342-4f04d558563b"
  },
  {
   "cell_type": "code",
   "execution_count": null,
   "metadata": {},
   "outputs": [
    {
     "output_type": "display_data",
     "metadata": {},
     "data": {
      "text/html": [
       "<table style=\"border-collapse:collapse; border:none;\">\n",
       "<tr>\n",
       "<th style=\"border-top: double; text-align:center; font-style:normal; font-weight:bold; padding:0.2cm;  text-align:left; \">&nbsp;</th>\n",
       "<th colspan=\"3\" style=\"border-top: double; text-align:center; font-style:normal; font-weight:bold; padding:0.2cm; \">per heavy drink days</th>\n",
       "</tr>\n",
       "<tr>\n",
       "<td style=\" text-align:center; border-bottom:1px solid; font-style:italic; font-weight:normal;  text-align:left; \">Predictors</td>\n",
       "<td style=\" text-align:center; border-bottom:1px solid; font-style:italic; font-weight:normal;  \">Estimates</td>\n",
       "<td style=\" text-align:center; border-bottom:1px solid; font-style:italic; font-weight:normal;  \">CI</td>\n",
       "<td style=\" text-align:center; border-bottom:1px solid; font-style:italic; font-weight:normal;  \">p</td>\n",
       "</tr>\n",
       "<tr>\n",
       "<td style=\" padding:0.2cm; text-align:left; vertical-align:top; text-align:left; \">age c</td>\n",
       "<td style=\" padding:0.2cm; text-align:left; vertical-align:top; text-align:center;  \">0.12</td>\n",
       "<td style=\" padding:0.2cm; text-align:left; vertical-align:top; text-align:center;  \">&#45;0.18&nbsp;&ndash;&nbsp;0.42</td>\n",
       "<td style=\" padding:0.2cm; text-align:left; vertical-align:top; text-align:center;  \">0.422</td>\n",
       "</tr>\n",
       "\n",
       "<tr>\n",
       "<td style=\" padding:0.2cm; text-align:left; vertical-align:top; text-align:left; padding-top:0.1cm; padding-bottom:0.1cm;\">N <sub>study_id</sub></td>\n",
       "<td style=\" padding:0.2cm; text-align:left; vertical-align:top; padding-top:0.1cm; padding-bottom:0.1cm; text-align:left;\" colspan=\"3\">156</td>\n",
       "<tr>\n",
       "<td style=\" padding:0.2cm; text-align:left; vertical-align:top; text-align:left; padding-top:0.1cm; padding-bottom:0.1cm; border-top:1px solid;\">Observations</td>\n",
       "<td style=\" padding:0.2cm; text-align:left; vertical-align:top; padding-top:0.1cm; padding-bottom:0.1cm; text-align:left; border-top:1px solid;\" colspan=\"3\">424</td>\n",
       "</tr>\n",
       "<tr>\n",
       "<td style=\" padding:0.2cm; text-align:left; vertical-align:top; text-align:left; padding-top:0.1cm; padding-bottom:0.1cm;\">Marginal R<sup>2</sup> / Conditional R<sup>2</sup></td>\n",
       "<td style=\" padding:0.2cm; text-align:left; vertical-align:top; padding-top:0.1cm; padding-bottom:0.1cm; text-align:left;\" colspan=\"3\">0.285 / 0.761</td>\n",
       "</tr>\n",
       "\n",
       "</table>\n"
      ]
     }
    }
   ],
   "source": [
    "lmer(per_heavy_drink_days ~ time_c*arm_c + hdd_0 + age_c + \n",
    "       (1 + time_c | study_id), data = subset(data, dyad == 2)) |> \n",
    "  sjPlot::tab_model(show.re.var = F, show.icc = F, terms = c(\"age_c\"))"
   ],
   "id": "99463997-3396-4824-b3ba-b7cbb64c2626"
  },
  {
   "cell_type": "markdown",
   "metadata": {},
   "source": [
    "`edu_c` - not significant"
   ],
   "id": "bebf6b2e-6950-49c4-a66c-b88a1953c4ef"
  },
  {
   "cell_type": "code",
   "execution_count": null,
   "metadata": {},
   "outputs": [
    {
     "output_type": "display_data",
     "metadata": {},
     "data": {
      "text/html": [
       "<table style=\"border-collapse:collapse; border:none;\">\n",
       "<tr>\n",
       "<th style=\"border-top: double; text-align:center; font-style:normal; font-weight:bold; padding:0.2cm;  text-align:left; \">&nbsp;</th>\n",
       "<th colspan=\"3\" style=\"border-top: double; text-align:center; font-style:normal; font-weight:bold; padding:0.2cm; \">per heavy drink days</th>\n",
       "</tr>\n",
       "<tr>\n",
       "<td style=\" text-align:center; border-bottom:1px solid; font-style:italic; font-weight:normal;  text-align:left; \">Predictors</td>\n",
       "<td style=\" text-align:center; border-bottom:1px solid; font-style:italic; font-weight:normal;  \">Estimates</td>\n",
       "<td style=\" text-align:center; border-bottom:1px solid; font-style:italic; font-weight:normal;  \">CI</td>\n",
       "<td style=\" text-align:center; border-bottom:1px solid; font-style:italic; font-weight:normal;  \">p</td>\n",
       "</tr>\n",
       "<tr>\n",
       "<td style=\" padding:0.2cm; text-align:left; vertical-align:top; text-align:left; \">edu c</td>\n",
       "<td style=\" padding:0.2cm; text-align:left; vertical-align:top; text-align:center;  \">&#45;0.46</td>\n",
       "<td style=\" padding:0.2cm; text-align:left; vertical-align:top; text-align:center;  \">&#45;4.08&nbsp;&ndash;&nbsp;3.16</td>\n",
       "<td style=\" padding:0.2cm; text-align:left; vertical-align:top; text-align:center;  \">0.803</td>\n",
       "</tr>\n",
       "\n",
       "<tr>\n",
       "<td style=\" padding:0.2cm; text-align:left; vertical-align:top; text-align:left; padding-top:0.1cm; padding-bottom:0.1cm;\">N <sub>study_id</sub></td>\n",
       "<td style=\" padding:0.2cm; text-align:left; vertical-align:top; padding-top:0.1cm; padding-bottom:0.1cm; text-align:left;\" colspan=\"3\">157</td>\n",
       "<tr>\n",
       "<td style=\" padding:0.2cm; text-align:left; vertical-align:top; text-align:left; padding-top:0.1cm; padding-bottom:0.1cm; border-top:1px solid;\">Observations</td>\n",
       "<td style=\" padding:0.2cm; text-align:left; vertical-align:top; padding-top:0.1cm; padding-bottom:0.1cm; text-align:left; border-top:1px solid;\" colspan=\"3\">427</td>\n",
       "</tr>\n",
       "<tr>\n",
       "<td style=\" padding:0.2cm; text-align:left; vertical-align:top; text-align:left; padding-top:0.1cm; padding-bottom:0.1cm;\">Marginal R<sup>2</sup> / Conditional R<sup>2</sup></td>\n",
       "<td style=\" padding:0.2cm; text-align:left; vertical-align:top; padding-top:0.1cm; padding-bottom:0.1cm; text-align:left;\" colspan=\"3\">0.283 / 0.765</td>\n",
       "</tr>\n",
       "\n",
       "</table>\n"
      ]
     }
    }
   ],
   "source": [
    "lmer(per_heavy_drink_days ~ time_c*arm_c + hdd_0 + edu_c + \n",
    "       (1 + time_c | study_id), data = subset(data, dyad == 2)) |> \n",
    "  sjPlot::tab_model(show.re.var = F, show.icc = F, terms = c(\"edu_c\"))"
   ],
   "id": "37def49e-13ec-4042-9c7c-2b6991385fb2"
  },
  {
   "cell_type": "markdown",
   "metadata": {},
   "source": [
    "`meetings_yn` - not significant"
   ],
   "id": "f797546f-65ab-4239-821a-da9764a8a672"
  },
  {
   "cell_type": "code",
   "execution_count": null,
   "metadata": {},
   "outputs": [
    {
     "output_type": "display_data",
     "metadata": {},
     "data": {
      "text/html": [
       "<table style=\"border-collapse:collapse; border:none;\">\n",
       "<tr>\n",
       "<th style=\"border-top: double; text-align:center; font-style:normal; font-weight:bold; padding:0.2cm;  text-align:left; \">&nbsp;</th>\n",
       "<th colspan=\"3\" style=\"border-top: double; text-align:center; font-style:normal; font-weight:bold; padding:0.2cm; \">per heavy drink days</th>\n",
       "</tr>\n",
       "<tr>\n",
       "<td style=\" text-align:center; border-bottom:1px solid; font-style:italic; font-weight:normal;  text-align:left; \">Predictors</td>\n",
       "<td style=\" text-align:center; border-bottom:1px solid; font-style:italic; font-weight:normal;  \">Estimates</td>\n",
       "<td style=\" text-align:center; border-bottom:1px solid; font-style:italic; font-weight:normal;  \">CI</td>\n",
       "<td style=\" text-align:center; border-bottom:1px solid; font-style:italic; font-weight:normal;  \">p</td>\n",
       "</tr>\n",
       "<tr>\n",
       "<td style=\" padding:0.2cm; text-align:left; vertical-align:top; text-align:left; \">meetings yn</td>\n",
       "<td style=\" padding:0.2cm; text-align:left; vertical-align:top; text-align:center;  \">&#45;6.54</td>\n",
       "<td style=\" padding:0.2cm; text-align:left; vertical-align:top; text-align:center;  \">&#45;13.30&nbsp;&ndash;&nbsp;0.22</td>\n",
       "<td style=\" padding:0.2cm; text-align:left; vertical-align:top; text-align:center;  \">0.058</td>\n",
       "</tr>\n",
       "\n",
       "<tr>\n",
       "<td style=\" padding:0.2cm; text-align:left; vertical-align:top; text-align:left; padding-top:0.1cm; padding-bottom:0.1cm;\">N <sub>study_id</sub></td>\n",
       "<td style=\" padding:0.2cm; text-align:left; vertical-align:top; padding-top:0.1cm; padding-bottom:0.1cm; text-align:left;\" colspan=\"3\">158</td>\n",
       "<tr>\n",
       "<td style=\" padding:0.2cm; text-align:left; vertical-align:top; text-align:left; padding-top:0.1cm; padding-bottom:0.1cm; border-top:1px solid;\">Observations</td>\n",
       "<td style=\" padding:0.2cm; text-align:left; vertical-align:top; padding-top:0.1cm; padding-bottom:0.1cm; text-align:left; border-top:1px solid;\" colspan=\"3\">413</td>\n",
       "</tr>\n",
       "<tr>\n",
       "<td style=\" padding:0.2cm; text-align:left; vertical-align:top; text-align:left; padding-top:0.1cm; padding-bottom:0.1cm;\">Marginal R<sup>2</sup> / Conditional R<sup>2</sup></td>\n",
       "<td style=\" padding:0.2cm; text-align:left; vertical-align:top; padding-top:0.1cm; padding-bottom:0.1cm; text-align:left;\" colspan=\"3\">0.267 / 0.749</td>\n",
       "</tr>\n",
       "\n",
       "</table>\n"
      ]
     }
    }
   ],
   "source": [
    "lmer(per_heavy_drink_days ~ time_c*arm_c + hdd_0 + meetings_yn + \n",
    "       (1 + time_c | study_id), data = subset(data, dyad == 2)) |> \n",
    "  sjPlot::tab_model(show.re.var = F, show.icc = F, terms = c(\"meetings_yn\"))"
   ],
   "id": "de4eeb1f-42af-4aa3-b219-c25eaabfdd2e"
  },
  {
   "cell_type": "markdown",
   "metadata": {},
   "source": [
    "`outpatient_yn_ever` - not significant"
   ],
   "id": "c9644017-1b97-44aa-aa3c-790d312faf6b"
  },
  {
   "cell_type": "code",
   "execution_count": null,
   "metadata": {},
   "outputs": [
    {
     "output_type": "display_data",
     "metadata": {},
     "data": {
      "text/html": [
       "<table style=\"border-collapse:collapse; border:none;\">\n",
       "<tr>\n",
       "<th style=\"border-top: double; text-align:center; font-style:normal; font-weight:bold; padding:0.2cm;  text-align:left; \">&nbsp;</th>\n",
       "<th colspan=\"3\" style=\"border-top: double; text-align:center; font-style:normal; font-weight:bold; padding:0.2cm; \">per heavy drink days</th>\n",
       "</tr>\n",
       "<tr>\n",
       "<td style=\" text-align:center; border-bottom:1px solid; font-style:italic; font-weight:normal;  text-align:left; \">Predictors</td>\n",
       "<td style=\" text-align:center; border-bottom:1px solid; font-style:italic; font-weight:normal;  \">Estimates</td>\n",
       "<td style=\" text-align:center; border-bottom:1px solid; font-style:italic; font-weight:normal;  \">CI</td>\n",
       "<td style=\" text-align:center; border-bottom:1px solid; font-style:italic; font-weight:normal;  \">p</td>\n",
       "</tr>\n",
       "<tr>\n",
       "<td style=\" padding:0.2cm; text-align:left; vertical-align:top; text-align:left; \">outpatient yn ever</td>\n",
       "<td style=\" padding:0.2cm; text-align:left; vertical-align:top; text-align:center;  \">&#45;7.44</td>\n",
       "<td style=\" padding:0.2cm; text-align:left; vertical-align:top; text-align:center;  \">&#45;15.72&nbsp;&ndash;&nbsp;0.84</td>\n",
       "<td style=\" padding:0.2cm; text-align:left; vertical-align:top; text-align:center;  \">0.078</td>\n",
       "</tr>\n",
       "\n",
       "<tr>\n",
       "<td style=\" padding:0.2cm; text-align:left; vertical-align:top; text-align:left; padding-top:0.1cm; padding-bottom:0.1cm;\">N <sub>study_id</sub></td>\n",
       "<td style=\" padding:0.2cm; text-align:left; vertical-align:top; padding-top:0.1cm; padding-bottom:0.1cm; text-align:left;\" colspan=\"3\">158</td>\n",
       "<tr>\n",
       "<td style=\" padding:0.2cm; text-align:left; vertical-align:top; text-align:left; padding-top:0.1cm; padding-bottom:0.1cm; border-top:1px solid;\">Observations</td>\n",
       "<td style=\" padding:0.2cm; text-align:left; vertical-align:top; padding-top:0.1cm; padding-bottom:0.1cm; text-align:left; border-top:1px solid;\" colspan=\"3\">430</td>\n",
       "</tr>\n",
       "<tr>\n",
       "<td style=\" padding:0.2cm; text-align:left; vertical-align:top; text-align:left; padding-top:0.1cm; padding-bottom:0.1cm;\">Marginal R<sup>2</sup> / Conditional R<sup>2</sup></td>\n",
       "<td style=\" padding:0.2cm; text-align:left; vertical-align:top; padding-top:0.1cm; padding-bottom:0.1cm; text-align:left;\" colspan=\"3\">0.284 / 0.764</td>\n",
       "</tr>\n",
       "\n",
       "</table>\n"
      ]
     }
    }
   ],
   "source": [
    "lmer(per_heavy_drink_days ~ time_c*arm_c + hdd_0 + outpatient_yn_ever + \n",
    "       (1 + time_c | study_id), data = subset(data, dyad == 2)) |> \n",
    "  sjPlot::tab_model(show.re.var = F, show.icc = F, terms = c(\"outpatient_yn_ever\"))"
   ],
   "id": "c90cfe06-4511-4b5b-bc9a-23d50181b2d2"
  },
  {
   "cell_type": "markdown",
   "metadata": {},
   "source": [
    "`er_yn_ever` - **significant**"
   ],
   "id": "111419b7-7ec4-463f-9479-e13e311cb88c"
  },
  {
   "cell_type": "code",
   "execution_count": null,
   "metadata": {},
   "outputs": [
    {
     "output_type": "display_data",
     "metadata": {},
     "data": {
      "text/html": [
       "<table style=\"border-collapse:collapse; border:none;\">\n",
       "<tr>\n",
       "<th style=\"border-top: double; text-align:center; font-style:normal; font-weight:bold; padding:0.2cm;  text-align:left; \">&nbsp;</th>\n",
       "<th colspan=\"3\" style=\"border-top: double; text-align:center; font-style:normal; font-weight:bold; padding:0.2cm; \">per heavy drink days</th>\n",
       "</tr>\n",
       "<tr>\n",
       "<td style=\" text-align:center; border-bottom:1px solid; font-style:italic; font-weight:normal;  text-align:left; \">Predictors</td>\n",
       "<td style=\" text-align:center; border-bottom:1px solid; font-style:italic; font-weight:normal;  \">Estimates</td>\n",
       "<td style=\" text-align:center; border-bottom:1px solid; font-style:italic; font-weight:normal;  \">CI</td>\n",
       "<td style=\" text-align:center; border-bottom:1px solid; font-style:italic; font-weight:normal;  \">p</td>\n",
       "</tr>\n",
       "<tr>\n",
       "<td style=\" padding:0.2cm; text-align:left; vertical-align:top; text-align:left; \">er yn ever</td>\n",
       "<td style=\" padding:0.2cm; text-align:left; vertical-align:top; text-align:center;  \">&#45;10.40</td>\n",
       "<td style=\" padding:0.2cm; text-align:left; vertical-align:top; text-align:center;  \">&#45;18.85&nbsp;&ndash;&nbsp;-1.95</td>\n",
       "<td style=\" padding:0.2cm; text-align:left; vertical-align:top; text-align:center;  \"><strong>0.016</strong></td>\n",
       "</tr>\n",
       "\n",
       "<tr>\n",
       "<td style=\" padding:0.2cm; text-align:left; vertical-align:top; text-align:left; padding-top:0.1cm; padding-bottom:0.1cm;\">N <sub>study_id</sub></td>\n",
       "<td style=\" padding:0.2cm; text-align:left; vertical-align:top; padding-top:0.1cm; padding-bottom:0.1cm; text-align:left;\" colspan=\"3\">158</td>\n",
       "<tr>\n",
       "<td style=\" padding:0.2cm; text-align:left; vertical-align:top; text-align:left; padding-top:0.1cm; padding-bottom:0.1cm; border-top:1px solid;\">Observations</td>\n",
       "<td style=\" padding:0.2cm; text-align:left; vertical-align:top; padding-top:0.1cm; padding-bottom:0.1cm; text-align:left; border-top:1px solid;\" colspan=\"3\">430</td>\n",
       "</tr>\n",
       "<tr>\n",
       "<td style=\" padding:0.2cm; text-align:left; vertical-align:top; text-align:left; padding-top:0.1cm; padding-bottom:0.1cm;\">Marginal R<sup>2</sup> / Conditional R<sup>2</sup></td>\n",
       "<td style=\" padding:0.2cm; text-align:left; vertical-align:top; padding-top:0.1cm; padding-bottom:0.1cm; text-align:left;\" colspan=\"3\">0.284 / 0.761</td>\n",
       "</tr>\n",
       "\n",
       "</table>\n"
      ]
     }
    }
   ],
   "source": [
    "lmer(per_heavy_drink_days ~ time_c*arm_c + hdd_0 + er_yn_ever + \n",
    "       (1 + time_c | study_id), data = subset(data, dyad == 2)) |> \n",
    "  sjPlot::tab_model(show.re.var = F, show.icc = F, terms = c(\"er_yn_ever\"))"
   ],
   "id": "5c4e5bf2-4c8c-4fb3-97c0-c8f4f28e89f8"
  },
  {
   "cell_type": "markdown",
   "metadata": {},
   "source": [
    "`mat_yn` - not significant"
   ],
   "id": "a80b5771-59ec-4a99-955d-7748ef944f5c"
  },
  {
   "cell_type": "code",
   "execution_count": null,
   "metadata": {},
   "outputs": [
    {
     "output_type": "display_data",
     "metadata": {},
     "data": {
      "text/html": [
       "<table style=\"border-collapse:collapse; border:none;\">\n",
       "<tr>\n",
       "<th style=\"border-top: double; text-align:center; font-style:normal; font-weight:bold; padding:0.2cm;  text-align:left; \">&nbsp;</th>\n",
       "<th colspan=\"3\" style=\"border-top: double; text-align:center; font-style:normal; font-weight:bold; padding:0.2cm; \">per heavy drink days</th>\n",
       "</tr>\n",
       "<tr>\n",
       "<td style=\" text-align:center; border-bottom:1px solid; font-style:italic; font-weight:normal;  text-align:left; \">Predictors</td>\n",
       "<td style=\" text-align:center; border-bottom:1px solid; font-style:italic; font-weight:normal;  \">Estimates</td>\n",
       "<td style=\" text-align:center; border-bottom:1px solid; font-style:italic; font-weight:normal;  \">CI</td>\n",
       "<td style=\" text-align:center; border-bottom:1px solid; font-style:italic; font-weight:normal;  \">p</td>\n",
       "</tr>\n",
       "<tr>\n",
       "<td style=\" padding:0.2cm; text-align:left; vertical-align:top; text-align:left; \">mat yn</td>\n",
       "<td style=\" padding:0.2cm; text-align:left; vertical-align:top; text-align:center;  \">1.49</td>\n",
       "<td style=\" padding:0.2cm; text-align:left; vertical-align:top; text-align:center;  \">&#45;6.36&nbsp;&ndash;&nbsp;9.34</td>\n",
       "<td style=\" padding:0.2cm; text-align:left; vertical-align:top; text-align:center;  \">0.709</td>\n",
       "</tr>\n",
       "\n",
       "<tr>\n",
       "<td style=\" padding:0.2cm; text-align:left; vertical-align:top; text-align:left; padding-top:0.1cm; padding-bottom:0.1cm;\">N <sub>study_id</sub></td>\n",
       "<td style=\" padding:0.2cm; text-align:left; vertical-align:top; padding-top:0.1cm; padding-bottom:0.1cm; text-align:left;\" colspan=\"3\">158</td>\n",
       "<tr>\n",
       "<td style=\" padding:0.2cm; text-align:left; vertical-align:top; text-align:left; padding-top:0.1cm; padding-bottom:0.1cm; border-top:1px solid;\">Observations</td>\n",
       "<td style=\" padding:0.2cm; text-align:left; vertical-align:top; padding-top:0.1cm; padding-bottom:0.1cm; text-align:left; border-top:1px solid;\" colspan=\"3\">410</td>\n",
       "</tr>\n",
       "<tr>\n",
       "<td style=\" padding:0.2cm; text-align:left; vertical-align:top; text-align:left; padding-top:0.1cm; padding-bottom:0.1cm;\">Marginal R<sup>2</sup> / Conditional R<sup>2</sup></td>\n",
       "<td style=\" padding:0.2cm; text-align:left; vertical-align:top; padding-top:0.1cm; padding-bottom:0.1cm; text-align:left;\" colspan=\"3\">0.259 / 0.751</td>\n",
       "</tr>\n",
       "\n",
       "</table>\n"
      ]
     }
    }
   ],
   "source": [
    "lmer(per_heavy_drink_days ~ time_c*arm_c + hdd_0 + mat_yn + \n",
    "       (1 + time_c | study_id), data = subset(data, dyad == 2)) |> \n",
    "  sjPlot::tab_model(show.re.var = F, show.icc = F, terms = c(\"mat_yn\"))"
   ],
   "id": "617e3650-8cd8-4507-8510-8460a2214b07"
  },
  {
   "cell_type": "markdown",
   "metadata": {},
   "source": [
    "`inpatient_yn_ever` - **significant**"
   ],
   "id": "a1de768d-4da1-46b8-b2dc-ec5baaafd538"
  },
  {
   "cell_type": "code",
   "execution_count": null,
   "metadata": {},
   "outputs": [
    {
     "output_type": "display_data",
     "metadata": {},
     "data": {
      "text/html": [
       "<table style=\"border-collapse:collapse; border:none;\">\n",
       "<tr>\n",
       "<th style=\"border-top: double; text-align:center; font-style:normal; font-weight:bold; padding:0.2cm;  text-align:left; \">&nbsp;</th>\n",
       "<th colspan=\"3\" style=\"border-top: double; text-align:center; font-style:normal; font-weight:bold; padding:0.2cm; \">per heavy drink days</th>\n",
       "</tr>\n",
       "<tr>\n",
       "<td style=\" text-align:center; border-bottom:1px solid; font-style:italic; font-weight:normal;  text-align:left; \">Predictors</td>\n",
       "<td style=\" text-align:center; border-bottom:1px solid; font-style:italic; font-weight:normal;  \">Estimates</td>\n",
       "<td style=\" text-align:center; border-bottom:1px solid; font-style:italic; font-weight:normal;  \">CI</td>\n",
       "<td style=\" text-align:center; border-bottom:1px solid; font-style:italic; font-weight:normal;  \">p</td>\n",
       "</tr>\n",
       "<tr>\n",
       "<td style=\" padding:0.2cm; text-align:left; vertical-align:top; text-align:left; \">inpatient yn ever</td>\n",
       "<td style=\" padding:0.2cm; text-align:left; vertical-align:top; text-align:center;  \">&#45;10.03</td>\n",
       "<td style=\" padding:0.2cm; text-align:left; vertical-align:top; text-align:center;  \">&#45;19.83&nbsp;&ndash;&nbsp;-0.24</td>\n",
       "<td style=\" padding:0.2cm; text-align:left; vertical-align:top; text-align:center;  \"><strong>0.045</strong></td>\n",
       "</tr>\n",
       "\n",
       "<tr>\n",
       "<td style=\" padding:0.2cm; text-align:left; vertical-align:top; text-align:left; padding-top:0.1cm; padding-bottom:0.1cm;\">N <sub>study_id</sub></td>\n",
       "<td style=\" padding:0.2cm; text-align:left; vertical-align:top; padding-top:0.1cm; padding-bottom:0.1cm; text-align:left;\" colspan=\"3\">158</td>\n",
       "<tr>\n",
       "<td style=\" padding:0.2cm; text-align:left; vertical-align:top; text-align:left; padding-top:0.1cm; padding-bottom:0.1cm; border-top:1px solid;\">Observations</td>\n",
       "<td style=\" padding:0.2cm; text-align:left; vertical-align:top; padding-top:0.1cm; padding-bottom:0.1cm; text-align:left; border-top:1px solid;\" colspan=\"3\">430</td>\n",
       "</tr>\n",
       "<tr>\n",
       "<td style=\" padding:0.2cm; text-align:left; vertical-align:top; text-align:left; padding-top:0.1cm; padding-bottom:0.1cm;\">Marginal R<sup>2</sup> / Conditional R<sup>2</sup></td>\n",
       "<td style=\" padding:0.2cm; text-align:left; vertical-align:top; padding-top:0.1cm; padding-bottom:0.1cm; text-align:left;\" colspan=\"3\">0.282 / 0.764</td>\n",
       "</tr>\n",
       "\n",
       "</table>\n"
      ]
     }
    }
   ],
   "source": [
    "lmer(per_heavy_drink_days ~ time_c*arm_c + hdd_0 + inpatient_yn_ever + \n",
    "       (1 + time_c | study_id), data = subset(data, dyad == 2)) |> \n",
    "  sjPlot::tab_model(show.re.var = F, show.icc = F, terms = c(\"inpatient_yn_ever\"))"
   ],
   "id": "0ebdbbda-31ae-4410-a975-f7ff1bc80c5a"
  },
  {
   "cell_type": "markdown",
   "metadata": {},
   "source": [
    "`other_psych_treatment_yn` - not significant"
   ],
   "id": "985e1dbc-9e00-4dde-830c-6ed28a0c75ba"
  },
  {
   "cell_type": "code",
   "execution_count": null,
   "metadata": {},
   "outputs": [
    {
     "output_type": "display_data",
     "metadata": {},
     "data": {
      "text/html": [
       "<table style=\"border-collapse:collapse; border:none;\">\n",
       "<tr>\n",
       "<th style=\"border-top: double; text-align:center; font-style:normal; font-weight:bold; padding:0.2cm;  text-align:left; \">&nbsp;</th>\n",
       "<th colspan=\"3\" style=\"border-top: double; text-align:center; font-style:normal; font-weight:bold; padding:0.2cm; \">per heavy drink days</th>\n",
       "</tr>\n",
       "<tr>\n",
       "<td style=\" text-align:center; border-bottom:1px solid; font-style:italic; font-weight:normal;  text-align:left; \">Predictors</td>\n",
       "<td style=\" text-align:center; border-bottom:1px solid; font-style:italic; font-weight:normal;  \">Estimates</td>\n",
       "<td style=\" text-align:center; border-bottom:1px solid; font-style:italic; font-weight:normal;  \">CI</td>\n",
       "<td style=\" text-align:center; border-bottom:1px solid; font-style:italic; font-weight:normal;  \">p</td>\n",
       "</tr>\n",
       "<tr>\n",
       "<td style=\" padding:0.2cm; text-align:left; vertical-align:top; text-align:left; \">other psych treatment yn</td>\n",
       "<td style=\" padding:0.2cm; text-align:left; vertical-align:top; text-align:center;  \">1.20</td>\n",
       "<td style=\" padding:0.2cm; text-align:left; vertical-align:top; text-align:center;  \">&#45;5.23&nbsp;&ndash;&nbsp;7.63</td>\n",
       "<td style=\" padding:0.2cm; text-align:left; vertical-align:top; text-align:center;  \">0.713</td>\n",
       "</tr>\n",
       "\n",
       "<tr>\n",
       "<td style=\" padding:0.2cm; text-align:left; vertical-align:top; text-align:left; padding-top:0.1cm; padding-bottom:0.1cm;\">N <sub>study_id</sub></td>\n",
       "<td style=\" padding:0.2cm; text-align:left; vertical-align:top; padding-top:0.1cm; padding-bottom:0.1cm; text-align:left;\" colspan=\"3\">158</td>\n",
       "<tr>\n",
       "<td style=\" padding:0.2cm; text-align:left; vertical-align:top; text-align:left; padding-top:0.1cm; padding-bottom:0.1cm; border-top:1px solid;\">Observations</td>\n",
       "<td style=\" padding:0.2cm; text-align:left; vertical-align:top; padding-top:0.1cm; padding-bottom:0.1cm; text-align:left; border-top:1px solid;\" colspan=\"3\">413</td>\n",
       "</tr>\n",
       "<tr>\n",
       "<td style=\" padding:0.2cm; text-align:left; vertical-align:top; text-align:left; padding-top:0.1cm; padding-bottom:0.1cm;\">Marginal R<sup>2</sup> / Conditional R<sup>2</sup></td>\n",
       "<td style=\" padding:0.2cm; text-align:left; vertical-align:top; padding-top:0.1cm; padding-bottom:0.1cm; text-align:left;\" colspan=\"3\">0.259 / 0.753</td>\n",
       "</tr>\n",
       "\n",
       "</table>\n"
      ]
     }
    }
   ],
   "source": [
    "lmer(per_heavy_drink_days ~ time_c*arm_c + hdd_0 + other_psych_treatment_yn + \n",
    "       (1 + time_c | study_id), data = subset(data, dyad == 2)) |> \n",
    "  sjPlot::tab_model(show.re.var = F, show.icc = F, terms = c(\"other_psych_treatment_yn\"))"
   ],
   "id": "1354f4f1-52a5-472e-99e3-aa5beccbb099"
  },
  {
   "cell_type": "markdown",
   "metadata": {},
   "source": [
    "`other_medications_yn` - not significant"
   ],
   "id": "e0cef162-198c-4b5f-b81e-089d2c1d5305"
  },
  {
   "cell_type": "code",
   "execution_count": null,
   "metadata": {},
   "outputs": [
    {
     "output_type": "display_data",
     "metadata": {},
     "data": {
      "text/html": [
       "<table style=\"border-collapse:collapse; border:none;\">\n",
       "<tr>\n",
       "<th style=\"border-top: double; text-align:center; font-style:normal; font-weight:bold; padding:0.2cm;  text-align:left; \">&nbsp;</th>\n",
       "<th colspan=\"3\" style=\"border-top: double; text-align:center; font-style:normal; font-weight:bold; padding:0.2cm; \">per heavy drink days</th>\n",
       "</tr>\n",
       "<tr>\n",
       "<td style=\" text-align:center; border-bottom:1px solid; font-style:italic; font-weight:normal;  text-align:left; \">Predictors</td>\n",
       "<td style=\" text-align:center; border-bottom:1px solid; font-style:italic; font-weight:normal;  \">Estimates</td>\n",
       "<td style=\" text-align:center; border-bottom:1px solid; font-style:italic; font-weight:normal;  \">CI</td>\n",
       "<td style=\" text-align:center; border-bottom:1px solid; font-style:italic; font-weight:normal;  \">p</td>\n",
       "</tr>\n",
       "<tr>\n",
       "<td style=\" padding:0.2cm; text-align:left; vertical-align:top; text-align:left; \">other medications yn</td>\n",
       "<td style=\" padding:0.2cm; text-align:left; vertical-align:top; text-align:center;  \">&#45;3.36</td>\n",
       "<td style=\" padding:0.2cm; text-align:left; vertical-align:top; text-align:center;  \">&#45;9.56&nbsp;&ndash;&nbsp;2.84</td>\n",
       "<td style=\" padding:0.2cm; text-align:left; vertical-align:top; text-align:center;  \">0.287</td>\n",
       "</tr>\n",
       "\n",
       "<tr>\n",
       "<td style=\" padding:0.2cm; text-align:left; vertical-align:top; text-align:left; padding-top:0.1cm; padding-bottom:0.1cm;\">N <sub>study_id</sub></td>\n",
       "<td style=\" padding:0.2cm; text-align:left; vertical-align:top; padding-top:0.1cm; padding-bottom:0.1cm; text-align:left;\" colspan=\"3\">158</td>\n",
       "<tr>\n",
       "<td style=\" padding:0.2cm; text-align:left; vertical-align:top; text-align:left; padding-top:0.1cm; padding-bottom:0.1cm; border-top:1px solid;\">Observations</td>\n",
       "<td style=\" padding:0.2cm; text-align:left; vertical-align:top; padding-top:0.1cm; padding-bottom:0.1cm; text-align:left; border-top:1px solid;\" colspan=\"3\">409</td>\n",
       "</tr>\n",
       "<tr>\n",
       "<td style=\" padding:0.2cm; text-align:left; vertical-align:top; text-align:left; padding-top:0.1cm; padding-bottom:0.1cm;\">Marginal R<sup>2</sup> / Conditional R<sup>2</sup></td>\n",
       "<td style=\" padding:0.2cm; text-align:left; vertical-align:top; padding-top:0.1cm; padding-bottom:0.1cm; text-align:left;\" colspan=\"3\">0.261 / 0.754</td>\n",
       "</tr>\n",
       "\n",
       "</table>\n"
      ]
     }
    }
   ],
   "source": [
    "lmer(per_heavy_drink_days ~ time_c*arm_c + hdd_0 + other_medications_yn + \n",
    "       (1 + time_c | study_id), data = subset(data, dyad == 2)) |> \n",
    "  sjPlot::tab_model(show.re.var = F, show.icc = F, terms = c(\"other_medications_yn\"))"
   ],
   "id": "6d713e22-bf6a-4592-982d-8751b5cef0d2"
  },
  {
   "cell_type": "markdown",
   "metadata": {},
   "source": [
    "##### Final Model with Significant Covariates"
   ],
   "id": "da72f794-fcfe-4e61-974b-146250cca643"
  },
  {
   "cell_type": "code",
   "execution_count": null,
   "metadata": {},
   "outputs": [
    {
     "output_type": "display_data",
     "metadata": {},
     "data": {
      "text/html": [
       "<table style=\"border-collapse:collapse; border:none;\">\n",
       "<tr>\n",
       "<th style=\"border-top: double; text-align:center; font-style:normal; font-weight:bold; padding:0.2cm;  text-align:left; \">&nbsp;</th>\n",
       "<th colspan=\"3\" style=\"border-top: double; text-align:center; font-style:normal; font-weight:bold; padding:0.2cm; \">per heavy drink days</th>\n",
       "</tr>\n",
       "<tr>\n",
       "<td style=\" text-align:center; border-bottom:1px solid; font-style:italic; font-weight:normal;  text-align:left; \">Predictors</td>\n",
       "<td style=\" text-align:center; border-bottom:1px solid; font-style:italic; font-weight:normal;  \">Estimates</td>\n",
       "<td style=\" text-align:center; border-bottom:1px solid; font-style:italic; font-weight:normal;  \">CI</td>\n",
       "<td style=\" text-align:center; border-bottom:1px solid; font-style:italic; font-weight:normal;  \">p</td>\n",
       "</tr>\n",
       "<tr>\n",
       "<td style=\" padding:0.2cm; text-align:left; vertical-align:top; text-align:left; \">(Intercept)</td>\n",
       "<td style=\" padding:0.2cm; text-align:left; vertical-align:top; text-align:center;  \">27.91</td>\n",
       "<td style=\" padding:0.2cm; text-align:left; vertical-align:top; text-align:center;  \">23.34&nbsp;&ndash;&nbsp;32.47</td>\n",
       "<td style=\" padding:0.2cm; text-align:left; vertical-align:top; text-align:center;  \"><strong>&lt;0.001</strong></td>\n",
       "</tr>\n",
       "<tr>\n",
       "<td style=\" padding:0.2cm; text-align:left; vertical-align:top; text-align:left; \">time c</td>\n",
       "<td style=\" padding:0.2cm; text-align:left; vertical-align:top; text-align:center;  \">&#45;5.11</td>\n",
       "<td style=\" padding:0.2cm; text-align:left; vertical-align:top; text-align:center;  \">&#45;7.65&nbsp;&ndash;&nbsp;-2.57</td>\n",
       "<td style=\" padding:0.2cm; text-align:left; vertical-align:top; text-align:center;  \"><strong>&lt;0.001</strong></td>\n",
       "</tr>\n",
       "<tr>\n",
       "<td style=\" padding:0.2cm; text-align:left; vertical-align:top; text-align:left; \">arm cfam and achess vs C</td>\n",
       "<td style=\" padding:0.2cm; text-align:left; vertical-align:top; text-align:center;  \">&#45;2.50</td>\n",
       "<td style=\" padding:0.2cm; text-align:left; vertical-align:top; text-align:center;  \">&#45;10.47&nbsp;&ndash;&nbsp;5.47</td>\n",
       "<td style=\" padding:0.2cm; text-align:left; vertical-align:top; text-align:center;  \">0.538</td>\n",
       "</tr>\n",
       "<tr>\n",
       "<td style=\" padding:0.2cm; text-align:left; vertical-align:top; text-align:left; \">arm cachess vs fam</td>\n",
       "<td style=\" padding:0.2cm; text-align:left; vertical-align:top; text-align:center;  \">4.81</td>\n",
       "<td style=\" padding:0.2cm; text-align:left; vertical-align:top; text-align:center;  \">&#45;4.42&nbsp;&ndash;&nbsp;14.04</td>\n",
       "<td style=\" padding:0.2cm; text-align:left; vertical-align:top; text-align:center;  \">0.307</td>\n",
       "</tr>\n",
       "<tr>\n",
       "<td style=\" padding:0.2cm; text-align:left; vertical-align:top; text-align:left; \">hdd 0</td>\n",
       "<td style=\" padding:0.2cm; text-align:left; vertical-align:top; text-align:center;  \">0.47</td>\n",
       "<td style=\" padding:0.2cm; text-align:left; vertical-align:top; text-align:center;  \">0.36&nbsp;&ndash;&nbsp;0.57</td>\n",
       "<td style=\" padding:0.2cm; text-align:left; vertical-align:top; text-align:center;  \"><strong>&lt;0.001</strong></td>\n",
       "</tr>\n",
       "<tr>\n",
       "<td style=\" padding:0.2cm; text-align:left; vertical-align:top; text-align:left; \">inpatient yn ever</td>\n",
       "<td style=\" padding:0.2cm; text-align:left; vertical-align:top; text-align:center;  \">&#45;7.22</td>\n",
       "<td style=\" padding:0.2cm; text-align:left; vertical-align:top; text-align:center;  \">&#45;17.39&nbsp;&ndash;&nbsp;2.96</td>\n",
       "<td style=\" padding:0.2cm; text-align:left; vertical-align:top; text-align:center;  \">0.164</td>\n",
       "</tr>\n",
       "<tr>\n",
       "<td style=\" padding:0.2cm; text-align:left; vertical-align:top; text-align:left; \">er yn ever</td>\n",
       "<td style=\" padding:0.2cm; text-align:left; vertical-align:top; text-align:center;  \">&#45;8.59</td>\n",
       "<td style=\" padding:0.2cm; text-align:left; vertical-align:top; text-align:center;  \">&#45;17.47&nbsp;&ndash;&nbsp;0.28</td>\n",
       "<td style=\" padding:0.2cm; text-align:left; vertical-align:top; text-align:center;  \">0.058</td>\n",
       "</tr>\n",
       "<tr>\n",
       "<td style=\" padding:0.2cm; text-align:left; vertical-align:top; text-align:left; \">time c × arm cfam and<br>achess vs C</td>\n",
       "<td style=\" padding:0.2cm; text-align:left; vertical-align:top; text-align:center;  \">&#45;6.72</td>\n",
       "<td style=\" padding:0.2cm; text-align:left; vertical-align:top; text-align:center;  \">&#45;12.06&nbsp;&ndash;&nbsp;-1.38</td>\n",
       "<td style=\" padding:0.2cm; text-align:left; vertical-align:top; text-align:center;  \"><strong>0.014</strong></td>\n",
       "</tr>\n",
       "<tr>\n",
       "<td style=\" padding:0.2cm; text-align:left; vertical-align:top; text-align:left; \">time c × arm cachess vs<br>fam</td>\n",
       "<td style=\" padding:0.2cm; text-align:left; vertical-align:top; text-align:center;  \">2.32</td>\n",
       "<td style=\" padding:0.2cm; text-align:left; vertical-align:top; text-align:center;  \">&#45;3.96&nbsp;&ndash;&nbsp;8.60</td>\n",
       "<td style=\" padding:0.2cm; text-align:left; vertical-align:top; text-align:center;  \">0.469</td>\n",
       "</tr>\n",
       "\n",
       "<tr>\n",
       "<td style=\" padding:0.2cm; text-align:left; vertical-align:top; text-align:left; padding-top:0.1cm; padding-bottom:0.1cm;\">N <sub>study_id</sub></td>\n",
       "<td style=\" padding:0.2cm; text-align:left; vertical-align:top; padding-top:0.1cm; padding-bottom:0.1cm; text-align:left;\" colspan=\"3\">158</td>\n",
       "<tr>\n",
       "<td style=\" padding:0.2cm; text-align:left; vertical-align:top; text-align:left; padding-top:0.1cm; padding-bottom:0.1cm; border-top:1px solid;\">Observations</td>\n",
       "<td style=\" padding:0.2cm; text-align:left; vertical-align:top; padding-top:0.1cm; padding-bottom:0.1cm; text-align:left; border-top:1px solid;\" colspan=\"3\">430</td>\n",
       "</tr>\n",
       "<tr>\n",
       "<td style=\" padding:0.2cm; text-align:left; vertical-align:top; text-align:left; padding-top:0.1cm; padding-bottom:0.1cm;\">Marginal R<sup>2</sup> / Conditional R<sup>2</sup></td>\n",
       "<td style=\" padding:0.2cm; text-align:left; vertical-align:top; padding-top:0.1cm; padding-bottom:0.1cm; text-align:left;\" colspan=\"3\">0.288 / 0.761</td>\n",
       "</tr>\n",
       "\n",
       "</table>\n"
      ]
     }
    }
   ],
   "source": [
    "lmer(per_heavy_drink_days ~ time_c*arm_c + hdd_0 + inpatient_yn_ever + \n",
    "       er_yn_ever + (1 + time_c | study_id), data = subset(data, dyad == 2)) |> \n",
    "  sjPlot::tab_model(show.re.var = F, show.icc = F)"
   ],
   "id": "c0da8848-9bd3-47e4-b45e-53882fcb5e25"
  },
  {
   "cell_type": "markdown",
   "metadata": {},
   "source": [
    "#### Primary Partner Outcome: `oq45_scored`\n",
    "\n",
    "Distribution of residuals  \n",
    "*KW: Looks fine*"
   ],
   "id": "6c689d75-2ba5-4203-b725-c15c5fa936ee"
  },
  {
   "cell_type": "code",
   "execution_count": null,
   "metadata": {},
   "outputs": [
    {
     "output_type": "display_data",
     "metadata": {},
     "data": {
      "image/png": "[encoded data removed]"
     }
    }
   ],
   "source": [
    "model_partner_prim <- lmer(oq45_scored ~ time_c*arm_c + oq45_0 + \n",
    "                             (1 + time_c | study_id), data = subset(data, dyad == 1))\n",
    "\n",
    "tibble(error = residuals(model_partner_prim)) |> \n",
    "  ggplot(aes(x = error)) +\n",
    "  geom_histogram(color = \"black\", fill = \"light grey\", bins = 30)"
   ],
   "id": "f9647088-557c-4cf3-810e-d34a2c4af60b"
  },
  {
   "cell_type": "markdown",
   "metadata": {},
   "source": [
    "##### Look for significant covariates (We will only include covariates that significantly predict the outcome).\n",
    "\n",
    "*Checking for sig covariates for partner and patient dyads*\n",
    "\n",
    "`race_white_only` - not significant"
   ],
   "id": "068b7efd-b9f7-4261-826a-037ec7825758"
  },
  {
   "cell_type": "code",
   "execution_count": null,
   "metadata": {},
   "outputs": [
    {
     "output_type": "display_data",
     "metadata": {},
     "data": {
      "text/html": [
       "<table style=\"border-collapse:collapse; border:none;\">\n",
       "<tr>\n",
       "<th style=\"border-top: double; text-align:center; font-style:normal; font-weight:bold; padding:0.2cm;  text-align:left; \">&nbsp;</th>\n",
       "<th colspan=\"3\" style=\"border-top: double; text-align:center; font-style:normal; font-weight:bold; padding:0.2cm; \">oq 45 scored</th>\n",
       "</tr>\n",
       "<tr>\n",
       "<td style=\" text-align:center; border-bottom:1px solid; font-style:italic; font-weight:normal;  text-align:left; \">Predictors</td>\n",
       "<td style=\" text-align:center; border-bottom:1px solid; font-style:italic; font-weight:normal;  \">Estimates</td>\n",
       "<td style=\" text-align:center; border-bottom:1px solid; font-style:italic; font-weight:normal;  \">CI</td>\n",
       "<td style=\" text-align:center; border-bottom:1px solid; font-style:italic; font-weight:normal;  \">p</td>\n",
       "</tr>\n",
       "<tr>\n",
       "<td style=\" padding:0.2cm; text-align:left; vertical-align:top; text-align:left; \">race white only</td>\n",
       "<td style=\" padding:0.2cm; text-align:left; vertical-align:top; text-align:center;  \">&#45;1.69</td>\n",
       "<td style=\" padding:0.2cm; text-align:left; vertical-align:top; text-align:center;  \">&#45;6.98&nbsp;&ndash;&nbsp;3.60</td>\n",
       "<td style=\" padding:0.2cm; text-align:left; vertical-align:top; text-align:center;  \">0.531</td>\n",
       "</tr>\n",
       "\n",
       "<tr>\n",
       "<td style=\" padding:0.2cm; text-align:left; vertical-align:top; text-align:left; padding-top:0.1cm; padding-bottom:0.1cm;\">N <sub>study_id</sub></td>\n",
       "<td style=\" padding:0.2cm; text-align:left; vertical-align:top; padding-top:0.1cm; padding-bottom:0.1cm; text-align:left;\" colspan=\"3\">170</td>\n",
       "<tr>\n",
       "<td style=\" padding:0.2cm; text-align:left; vertical-align:top; text-align:left; padding-top:0.1cm; padding-bottom:0.1cm; border-top:1px solid;\">Observations</td>\n",
       "<td style=\" padding:0.2cm; text-align:left; vertical-align:top; padding-top:0.1cm; padding-bottom:0.1cm; text-align:left; border-top:1px solid;\" colspan=\"3\">454</td>\n",
       "</tr>\n",
       "<tr>\n",
       "<td style=\" padding:0.2cm; text-align:left; vertical-align:top; text-align:left; padding-top:0.1cm; padding-bottom:0.1cm;\">Marginal R<sup>2</sup> / Conditional R<sup>2</sup></td>\n",
       "<td style=\" padding:0.2cm; text-align:left; vertical-align:top; padding-top:0.1cm; padding-bottom:0.1cm; text-align:left;\" colspan=\"3\">0.475 / 0.776</td>\n",
       "</tr>\n",
       "\n",
       "</table>\n"
      ]
     }
    },
    {
     "output_type": "display_data",
     "metadata": {},
     "data": {
      "text/html": [
       "<table style=\"border-collapse:collapse; border:none;\">\n",
       "<tr>\n",
       "<th style=\"border-top: double; text-align:center; font-style:normal; font-weight:bold; padding:0.2cm;  text-align:left; \">&nbsp;</th>\n",
       "<th colspan=\"3\" style=\"border-top: double; text-align:center; font-style:normal; font-weight:bold; padding:0.2cm; \">oq 45 scored</th>\n",
       "</tr>\n",
       "<tr>\n",
       "<td style=\" text-align:center; border-bottom:1px solid; font-style:italic; font-weight:normal;  text-align:left; \">Predictors</td>\n",
       "<td style=\" text-align:center; border-bottom:1px solid; font-style:italic; font-weight:normal;  \">Estimates</td>\n",
       "<td style=\" text-align:center; border-bottom:1px solid; font-style:italic; font-weight:normal;  \">CI</td>\n",
       "<td style=\" text-align:center; border-bottom:1px solid; font-style:italic; font-weight:normal;  \">p</td>\n",
       "</tr>\n",
       "<tr>\n",
       "<td style=\" padding:0.2cm; text-align:left; vertical-align:top; text-align:left; \">race white only</td>\n",
       "<td style=\" padding:0.2cm; text-align:left; vertical-align:top; text-align:center;  \">0.19</td>\n",
       "<td style=\" padding:0.2cm; text-align:left; vertical-align:top; text-align:center;  \">&#45;5.59&nbsp;&ndash;&nbsp;5.97</td>\n",
       "<td style=\" padding:0.2cm; text-align:left; vertical-align:top; text-align:center;  \">0.949</td>\n",
       "</tr>\n",
       "\n",
       "<tr>\n",
       "<td style=\" padding:0.2cm; text-align:left; vertical-align:top; text-align:left; padding-top:0.1cm; padding-bottom:0.1cm;\">N <sub>study_id</sub></td>\n",
       "<td style=\" padding:0.2cm; text-align:left; vertical-align:top; padding-top:0.1cm; padding-bottom:0.1cm; text-align:left;\" colspan=\"3\">168</td>\n",
       "<tr>\n",
       "<td style=\" padding:0.2cm; text-align:left; vertical-align:top; text-align:left; padding-top:0.1cm; padding-bottom:0.1cm; border-top:1px solid;\">Observations</td>\n",
       "<td style=\" padding:0.2cm; text-align:left; vertical-align:top; padding-top:0.1cm; padding-bottom:0.1cm; text-align:left; border-top:1px solid;\" colspan=\"3\">436</td>\n",
       "</tr>\n",
       "<tr>\n",
       "<td style=\" padding:0.2cm; text-align:left; vertical-align:top; text-align:left; padding-top:0.1cm; padding-bottom:0.1cm;\">Marginal R<sup>2</sup> / Conditional R<sup>2</sup></td>\n",
       "<td style=\" padding:0.2cm; text-align:left; vertical-align:top; padding-top:0.1cm; padding-bottom:0.1cm; text-align:left;\" colspan=\"3\">0.436 / 0.803</td>\n",
       "</tr>\n",
       "\n",
       "</table>\n"
      ]
     }
    }
   ],
   "source": [
    "lmer(oq45_scored ~ time_c*arm_c + oq45_0 + race_white_only +\n",
    "       (1 + time_c | study_id), data = subset(data, dyad == 1)) |> \n",
    "  sjPlot::tab_model(show.re.var = F, show.icc = F, terms = c(\"race_white_only\"))"
   ],
   "id": "db9db95d-464b-4b06-89e4-90225ff903ea"
  },
  {
   "cell_type": "markdown",
   "metadata": {},
   "source": [
    "`age_c` - not significant"
   ],
   "id": "367d147e-2308-4cb7-8e05-0ec8d1aaeea3"
  },
  {
   "cell_type": "code",
   "execution_count": null,
   "metadata": {},
   "outputs": [
    {
     "output_type": "display_data",
     "metadata": {},
     "data": {
      "text/html": [
       "<table style=\"border-collapse:collapse; border:none;\">\n",
       "<tr>\n",
       "<th style=\"border-top: double; text-align:center; font-style:normal; font-weight:bold; padding:0.2cm;  text-align:left; \">&nbsp;</th>\n",
       "<th colspan=\"3\" style=\"border-top: double; text-align:center; font-style:normal; font-weight:bold; padding:0.2cm; \">oq 45 scored</th>\n",
       "</tr>\n",
       "<tr>\n",
       "<td style=\" text-align:center; border-bottom:1px solid; font-style:italic; font-weight:normal;  text-align:left; \">Predictors</td>\n",
       "<td style=\" text-align:center; border-bottom:1px solid; font-style:italic; font-weight:normal;  \">Estimates</td>\n",
       "<td style=\" text-align:center; border-bottom:1px solid; font-style:italic; font-weight:normal;  \">CI</td>\n",
       "<td style=\" text-align:center; border-bottom:1px solid; font-style:italic; font-weight:normal;  \">p</td>\n",
       "</tr>\n",
       "<tr>\n",
       "<td style=\" padding:0.2cm; text-align:left; vertical-align:top; text-align:left; \">age c</td>\n",
       "<td style=\" padding:0.2cm; text-align:left; vertical-align:top; text-align:center;  \">0.00</td>\n",
       "<td style=\" padding:0.2cm; text-align:left; vertical-align:top; text-align:center;  \">&#45;0.15&nbsp;&ndash;&nbsp;0.16</td>\n",
       "<td style=\" padding:0.2cm; text-align:left; vertical-align:top; text-align:center;  \">0.969</td>\n",
       "</tr>\n",
       "\n",
       "<tr>\n",
       "<td style=\" padding:0.2cm; text-align:left; vertical-align:top; text-align:left; padding-top:0.1cm; padding-bottom:0.1cm;\">N <sub>study_id</sub></td>\n",
       "<td style=\" padding:0.2cm; text-align:left; vertical-align:top; padding-top:0.1cm; padding-bottom:0.1cm; text-align:left;\" colspan=\"3\">170</td>\n",
       "<tr>\n",
       "<td style=\" padding:0.2cm; text-align:left; vertical-align:top; text-align:left; padding-top:0.1cm; padding-bottom:0.1cm; border-top:1px solid;\">Observations</td>\n",
       "<td style=\" padding:0.2cm; text-align:left; vertical-align:top; padding-top:0.1cm; padding-bottom:0.1cm; text-align:left; border-top:1px solid;\" colspan=\"3\">454</td>\n",
       "</tr>\n",
       "<tr>\n",
       "<td style=\" padding:0.2cm; text-align:left; vertical-align:top; text-align:left; padding-top:0.1cm; padding-bottom:0.1cm;\">Marginal R<sup>2</sup> / Conditional R<sup>2</sup></td>\n",
       "<td style=\" padding:0.2cm; text-align:left; vertical-align:top; padding-top:0.1cm; padding-bottom:0.1cm; text-align:left;\" colspan=\"3\">0.474 / 0.776</td>\n",
       "</tr>\n",
       "\n",
       "</table>\n"
      ]
     }
    },
    {
     "output_type": "display_data",
     "metadata": {},
     "data": {
      "text/html": [
       "<table style=\"border-collapse:collapse; border:none;\">\n",
       "<tr>\n",
       "<th style=\"border-top: double; text-align:center; font-style:normal; font-weight:bold; padding:0.2cm;  text-align:left; \">&nbsp;</th>\n",
       "<th colspan=\"3\" style=\"border-top: double; text-align:center; font-style:normal; font-weight:bold; padding:0.2cm; \">oq 45 scored</th>\n",
       "</tr>\n",
       "<tr>\n",
       "<td style=\" text-align:center; border-bottom:1px solid; font-style:italic; font-weight:normal;  text-align:left; \">Predictors</td>\n",
       "<td style=\" text-align:center; border-bottom:1px solid; font-style:italic; font-weight:normal;  \">Estimates</td>\n",
       "<td style=\" text-align:center; border-bottom:1px solid; font-style:italic; font-weight:normal;  \">CI</td>\n",
       "<td style=\" text-align:center; border-bottom:1px solid; font-style:italic; font-weight:normal;  \">p</td>\n",
       "</tr>\n",
       "<tr>\n",
       "<td style=\" padding:0.2cm; text-align:left; vertical-align:top; text-align:left; \">age c</td>\n",
       "<td style=\" padding:0.2cm; text-align:left; vertical-align:top; text-align:center;  \">0.10</td>\n",
       "<td style=\" padding:0.2cm; text-align:left; vertical-align:top; text-align:center;  \">&#45;0.11&nbsp;&ndash;&nbsp;0.30</td>\n",
       "<td style=\" padding:0.2cm; text-align:left; vertical-align:top; text-align:center;  \">0.350</td>\n",
       "</tr>\n",
       "\n",
       "<tr>\n",
       "<td style=\" padding:0.2cm; text-align:left; vertical-align:top; text-align:left; padding-top:0.1cm; padding-bottom:0.1cm;\">N <sub>study_id</sub></td>\n",
       "<td style=\" padding:0.2cm; text-align:left; vertical-align:top; padding-top:0.1cm; padding-bottom:0.1cm; text-align:left;\" colspan=\"3\">167</td>\n",
       "<tr>\n",
       "<td style=\" padding:0.2cm; text-align:left; vertical-align:top; text-align:left; padding-top:0.1cm; padding-bottom:0.1cm; border-top:1px solid;\">Observations</td>\n",
       "<td style=\" padding:0.2cm; text-align:left; vertical-align:top; padding-top:0.1cm; padding-bottom:0.1cm; text-align:left; border-top:1px solid;\" colspan=\"3\">433</td>\n",
       "</tr>\n",
       "<tr>\n",
       "<td style=\" padding:0.2cm; text-align:left; vertical-align:top; text-align:left; padding-top:0.1cm; padding-bottom:0.1cm;\">Marginal R<sup>2</sup> / Conditional R<sup>2</sup></td>\n",
       "<td style=\" padding:0.2cm; text-align:left; vertical-align:top; padding-top:0.1cm; padding-bottom:0.1cm; text-align:left;\" colspan=\"3\">0.440 / 0.801</td>\n",
       "</tr>\n",
       "\n",
       "</table>\n"
      ]
     }
    }
   ],
   "source": [
    "lmer(oq45_scored ~ time_c*arm_c + oq45_0 + age_c + (1 + time_c | study_id), \n",
    "     data = subset(data, dyad == 1)) |> \n",
    "  sjPlot::tab_model(show.re.var = F, show.icc = F, terms = c(\"age_c\"))"
   ],
   "id": "327d5e87-efee-4f75-b285-5d246c3c811e"
  },
  {
   "cell_type": "markdown",
   "metadata": {},
   "source": [
    "`edu_c` - **significant for partner but not patient**"
   ],
   "id": "50a1b649-e7f5-42d9-9ee4-dec73a331804"
  },
  {
   "cell_type": "code",
   "execution_count": null,
   "metadata": {},
   "outputs": [
    {
     "output_type": "display_data",
     "metadata": {},
     "data": {
      "text/html": [
       "<table style=\"border-collapse:collapse; border:none;\">\n",
       "<tr>\n",
       "<th style=\"border-top: double; text-align:center; font-style:normal; font-weight:bold; padding:0.2cm;  text-align:left; \">&nbsp;</th>\n",
       "<th colspan=\"3\" style=\"border-top: double; text-align:center; font-style:normal; font-weight:bold; padding:0.2cm; \">oq 45 scored</th>\n",
       "</tr>\n",
       "<tr>\n",
       "<td style=\" text-align:center; border-bottom:1px solid; font-style:italic; font-weight:normal;  text-align:left; \">Predictors</td>\n",
       "<td style=\" text-align:center; border-bottom:1px solid; font-style:italic; font-weight:normal;  \">Estimates</td>\n",
       "<td style=\" text-align:center; border-bottom:1px solid; font-style:italic; font-weight:normal;  \">CI</td>\n",
       "<td style=\" text-align:center; border-bottom:1px solid; font-style:italic; font-weight:normal;  \">p</td>\n",
       "</tr>\n",
       "<tr>\n",
       "<td style=\" padding:0.2cm; text-align:left; vertical-align:top; text-align:left; \">edu c</td>\n",
       "<td style=\" padding:0.2cm; text-align:left; vertical-align:top; text-align:center;  \">&#45;2.46</td>\n",
       "<td style=\" padding:0.2cm; text-align:left; vertical-align:top; text-align:center;  \">&#45;4.55&nbsp;&ndash;&nbsp;-0.37</td>\n",
       "<td style=\" padding:0.2cm; text-align:left; vertical-align:top; text-align:center;  \"><strong>0.021</strong></td>\n",
       "</tr>\n",
       "\n",
       "<tr>\n",
       "<td style=\" padding:0.2cm; text-align:left; vertical-align:top; text-align:left; padding-top:0.1cm; padding-bottom:0.1cm;\">N <sub>study_id</sub></td>\n",
       "<td style=\" padding:0.2cm; text-align:left; vertical-align:top; padding-top:0.1cm; padding-bottom:0.1cm; text-align:left;\" colspan=\"3\">170</td>\n",
       "<tr>\n",
       "<td style=\" padding:0.2cm; text-align:left; vertical-align:top; text-align:left; padding-top:0.1cm; padding-bottom:0.1cm; border-top:1px solid;\">Observations</td>\n",
       "<td style=\" padding:0.2cm; text-align:left; vertical-align:top; padding-top:0.1cm; padding-bottom:0.1cm; text-align:left; border-top:1px solid;\" colspan=\"3\">454</td>\n",
       "</tr>\n",
       "<tr>\n",
       "<td style=\" padding:0.2cm; text-align:left; vertical-align:top; text-align:left; padding-top:0.1cm; padding-bottom:0.1cm;\">Marginal R<sup>2</sup> / Conditional R<sup>2</sup></td>\n",
       "<td style=\" padding:0.2cm; text-align:left; vertical-align:top; padding-top:0.1cm; padding-bottom:0.1cm; text-align:left;\" colspan=\"3\">0.486 / 0.777</td>\n",
       "</tr>\n",
       "\n",
       "</table>\n"
      ]
     }
    },
    {
     "output_type": "display_data",
     "metadata": {},
     "data": {
      "text/html": [
       "<table style=\"border-collapse:collapse; border:none;\">\n",
       "<tr>\n",
       "<th style=\"border-top: double; text-align:center; font-style:normal; font-weight:bold; padding:0.2cm;  text-align:left; \">&nbsp;</th>\n",
       "<th colspan=\"3\" style=\"border-top: double; text-align:center; font-style:normal; font-weight:bold; padding:0.2cm; \">oq 45 scored</th>\n",
       "</tr>\n",
       "<tr>\n",
       "<td style=\" text-align:center; border-bottom:1px solid; font-style:italic; font-weight:normal;  text-align:left; \">Predictors</td>\n",
       "<td style=\" text-align:center; border-bottom:1px solid; font-style:italic; font-weight:normal;  \">Estimates</td>\n",
       "<td style=\" text-align:center; border-bottom:1px solid; font-style:italic; font-weight:normal;  \">CI</td>\n",
       "<td style=\" text-align:center; border-bottom:1px solid; font-style:italic; font-weight:normal;  \">p</td>\n",
       "</tr>\n",
       "<tr>\n",
       "<td style=\" padding:0.2cm; text-align:left; vertical-align:top; text-align:left; \">edu c</td>\n",
       "<td style=\" padding:0.2cm; text-align:left; vertical-align:top; text-align:center;  \">&#45;1.13</td>\n",
       "<td style=\" padding:0.2cm; text-align:left; vertical-align:top; text-align:center;  \">&#45;3.46&nbsp;&ndash;&nbsp;1.20</td>\n",
       "<td style=\" padding:0.2cm; text-align:left; vertical-align:top; text-align:center;  \">0.342</td>\n",
       "</tr>\n",
       "\n",
       "<tr>\n",
       "<td style=\" padding:0.2cm; text-align:left; vertical-align:top; text-align:left; padding-top:0.1cm; padding-bottom:0.1cm;\">N <sub>study_id</sub></td>\n",
       "<td style=\" padding:0.2cm; text-align:left; vertical-align:top; padding-top:0.1cm; padding-bottom:0.1cm; text-align:left;\" colspan=\"3\">168</td>\n",
       "<tr>\n",
       "<td style=\" padding:0.2cm; text-align:left; vertical-align:top; text-align:left; padding-top:0.1cm; padding-bottom:0.1cm; border-top:1px solid;\">Observations</td>\n",
       "<td style=\" padding:0.2cm; text-align:left; vertical-align:top; padding-top:0.1cm; padding-bottom:0.1cm; text-align:left; border-top:1px solid;\" colspan=\"3\">436</td>\n",
       "</tr>\n",
       "<tr>\n",
       "<td style=\" padding:0.2cm; text-align:left; vertical-align:top; text-align:left; padding-top:0.1cm; padding-bottom:0.1cm;\">Marginal R<sup>2</sup> / Conditional R<sup>2</sup></td>\n",
       "<td style=\" padding:0.2cm; text-align:left; vertical-align:top; padding-top:0.1cm; padding-bottom:0.1cm; text-align:left;\" colspan=\"3\">0.439 / 0.803</td>\n",
       "</tr>\n",
       "\n",
       "</table>\n"
      ]
     }
    }
   ],
   "source": [
    "lmer(oq45_scored ~ time_c*arm_c + oq45_0 + edu_c + (1 + time_c | study_id), \n",
    "     data = subset(data, dyad == 1)) |> \n",
    "  sjPlot::tab_model(show.re.var = F, show.icc = F, terms = c(\"edu_c\"))"
   ],
   "id": "f538f556-97c3-4d4d-8c1b-9864af74163b"
  },
  {
   "cell_type": "markdown",
   "metadata": {},
   "source": [
    "`meetings_yn` - not significant"
   ],
   "id": "d2fb9c7e-08da-4180-9db9-d04e16164e9e"
  },
  {
   "cell_type": "code",
   "execution_count": null,
   "metadata": {},
   "outputs": [
    {
     "output_type": "display_data",
     "metadata": {},
     "data": {
      "text/html": [
       "<table style=\"border-collapse:collapse; border:none;\">\n",
       "<tr>\n",
       "<th style=\"border-top: double; text-align:center; font-style:normal; font-weight:bold; padding:0.2cm;  text-align:left; \">&nbsp;</th>\n",
       "<th colspan=\"3\" style=\"border-top: double; text-align:center; font-style:normal; font-weight:bold; padding:0.2cm; \">oq 45 scored</th>\n",
       "</tr>\n",
       "<tr>\n",
       "<td style=\" text-align:center; border-bottom:1px solid; font-style:italic; font-weight:normal;  text-align:left; \">Predictors</td>\n",
       "<td style=\" text-align:center; border-bottom:1px solid; font-style:italic; font-weight:normal;  \">Estimates</td>\n",
       "<td style=\" text-align:center; border-bottom:1px solid; font-style:italic; font-weight:normal;  \">CI</td>\n",
       "<td style=\" text-align:center; border-bottom:1px solid; font-style:italic; font-weight:normal;  \">p</td>\n",
       "</tr>\n",
       "<tr>\n",
       "<td style=\" padding:0.2cm; text-align:left; vertical-align:top; text-align:left; \">meetings yn</td>\n",
       "<td style=\" padding:0.2cm; text-align:left; vertical-align:top; text-align:center;  \">0.21</td>\n",
       "<td style=\" padding:0.2cm; text-align:left; vertical-align:top; text-align:center;  \">&#45;4.81&nbsp;&ndash;&nbsp;5.23</td>\n",
       "<td style=\" padding:0.2cm; text-align:left; vertical-align:top; text-align:center;  \">0.936</td>\n",
       "</tr>\n",
       "\n",
       "<tr>\n",
       "<td style=\" padding:0.2cm; text-align:left; vertical-align:top; text-align:left; padding-top:0.1cm; padding-bottom:0.1cm;\">N <sub>study_id</sub></td>\n",
       "<td style=\" padding:0.2cm; text-align:left; vertical-align:top; padding-top:0.1cm; padding-bottom:0.1cm; text-align:left;\" colspan=\"3\">170</td>\n",
       "<tr>\n",
       "<td style=\" padding:0.2cm; text-align:left; vertical-align:top; text-align:left; padding-top:0.1cm; padding-bottom:0.1cm; border-top:1px solid;\">Observations</td>\n",
       "<td style=\" padding:0.2cm; text-align:left; vertical-align:top; padding-top:0.1cm; padding-bottom:0.1cm; text-align:left; border-top:1px solid;\" colspan=\"3\">454</td>\n",
       "</tr>\n",
       "<tr>\n",
       "<td style=\" padding:0.2cm; text-align:left; vertical-align:top; text-align:left; padding-top:0.1cm; padding-bottom:0.1cm;\">Marginal R<sup>2</sup> / Conditional R<sup>2</sup></td>\n",
       "<td style=\" padding:0.2cm; text-align:left; vertical-align:top; padding-top:0.1cm; padding-bottom:0.1cm; text-align:left;\" colspan=\"3\">0.474 / 0.775</td>\n",
       "</tr>\n",
       "\n",
       "</table>\n"
      ]
     }
    },
    {
     "output_type": "display_data",
     "metadata": {},
     "data": {
      "text/html": [
       "<table style=\"border-collapse:collapse; border:none;\">\n",
       "<tr>\n",
       "<th style=\"border-top: double; text-align:center; font-style:normal; font-weight:bold; padding:0.2cm;  text-align:left; \">&nbsp;</th>\n",
       "<th colspan=\"3\" style=\"border-top: double; text-align:center; font-style:normal; font-weight:bold; padding:0.2cm; \">oq 45 scored</th>\n",
       "</tr>\n",
       "<tr>\n",
       "<td style=\" text-align:center; border-bottom:1px solid; font-style:italic; font-weight:normal;  text-align:left; \">Predictors</td>\n",
       "<td style=\" text-align:center; border-bottom:1px solid; font-style:italic; font-weight:normal;  \">Estimates</td>\n",
       "<td style=\" text-align:center; border-bottom:1px solid; font-style:italic; font-weight:normal;  \">CI</td>\n",
       "<td style=\" text-align:center; border-bottom:1px solid; font-style:italic; font-weight:normal;  \">p</td>\n",
       "</tr>\n",
       "<tr>\n",
       "<td style=\" padding:0.2cm; text-align:left; vertical-align:top; text-align:left; \">meetings yn</td>\n",
       "<td style=\" padding:0.2cm; text-align:left; vertical-align:top; text-align:center;  \">&#45;0.69</td>\n",
       "<td style=\" padding:0.2cm; text-align:left; vertical-align:top; text-align:center;  \">&#45;5.12&nbsp;&ndash;&nbsp;3.75</td>\n",
       "<td style=\" padding:0.2cm; text-align:left; vertical-align:top; text-align:center;  \">0.761</td>\n",
       "</tr>\n",
       "\n",
       "<tr>\n",
       "<td style=\" padding:0.2cm; text-align:left; vertical-align:top; text-align:left; padding-top:0.1cm; padding-bottom:0.1cm;\">N <sub>study_id</sub></td>\n",
       "<td style=\" padding:0.2cm; text-align:left; vertical-align:top; padding-top:0.1cm; padding-bottom:0.1cm; text-align:left;\" colspan=\"3\">167</td>\n",
       "<tr>\n",
       "<td style=\" padding:0.2cm; text-align:left; vertical-align:top; text-align:left; padding-top:0.1cm; padding-bottom:0.1cm; border-top:1px solid;\">Observations</td>\n",
       "<td style=\" padding:0.2cm; text-align:left; vertical-align:top; padding-top:0.1cm; padding-bottom:0.1cm; text-align:left; border-top:1px solid;\" colspan=\"3\">435</td>\n",
       "</tr>\n",
       "<tr>\n",
       "<td style=\" padding:0.2cm; text-align:left; vertical-align:top; text-align:left; padding-top:0.1cm; padding-bottom:0.1cm;\">Marginal R<sup>2</sup> / Conditional R<sup>2</sup></td>\n",
       "<td style=\" padding:0.2cm; text-align:left; vertical-align:top; padding-top:0.1cm; padding-bottom:0.1cm; text-align:left;\" colspan=\"3\">0.436 / 0.800</td>\n",
       "</tr>\n",
       "\n",
       "</table>\n"
      ]
     }
    }
   ],
   "source": [
    "lmer(oq45_scored ~ time_c*arm_c + oq45_0 + meetings_yn + \n",
    "       (1 + time_c | study_id), data = subset(data, dyad == 1)) |> \n",
    "  sjPlot::tab_model(show.re.var = F, show.icc = F, terms = c(\"meetings_yn\"))"
   ],
   "id": "526e89f8-3e33-468f-a78a-31d1e9b12168"
  },
  {
   "cell_type": "markdown",
   "metadata": {},
   "source": [
    "`outpatient_yn_ever` - **significant for partner** Not significant for patient"
   ],
   "id": "8e331570-2dd6-4a50-85e5-1dca6ae9018c"
  },
  {
   "cell_type": "code",
   "execution_count": null,
   "metadata": {},
   "outputs": [
    {
     "output_type": "display_data",
     "metadata": {},
     "data": {
      "text/html": [
       "<table style=\"border-collapse:collapse; border:none;\">\n",
       "<tr>\n",
       "<th style=\"border-top: double; text-align:center; font-style:normal; font-weight:bold; padding:0.2cm;  text-align:left; \">&nbsp;</th>\n",
       "<th colspan=\"3\" style=\"border-top: double; text-align:center; font-style:normal; font-weight:bold; padding:0.2cm; \">oq 45 scored</th>\n",
       "</tr>\n",
       "<tr>\n",
       "<td style=\" text-align:center; border-bottom:1px solid; font-style:italic; font-weight:normal;  text-align:left; \">Predictors</td>\n",
       "<td style=\" text-align:center; border-bottom:1px solid; font-style:italic; font-weight:normal;  \">Estimates</td>\n",
       "<td style=\" text-align:center; border-bottom:1px solid; font-style:italic; font-weight:normal;  \">CI</td>\n",
       "<td style=\" text-align:center; border-bottom:1px solid; font-style:italic; font-weight:normal;  \">p</td>\n",
       "</tr>\n",
       "<tr>\n",
       "<td style=\" padding:0.2cm; text-align:left; vertical-align:top; text-align:left; \">outpatient yn ever</td>\n",
       "<td style=\" padding:0.2cm; text-align:left; vertical-align:top; text-align:center;  \">9.99</td>\n",
       "<td style=\" padding:0.2cm; text-align:left; vertical-align:top; text-align:center;  \">0.57&nbsp;&ndash;&nbsp;19.41</td>\n",
       "<td style=\" padding:0.2cm; text-align:left; vertical-align:top; text-align:center;  \"><strong>0.038</strong></td>\n",
       "</tr>\n",
       "\n",
       "<tr>\n",
       "<td style=\" padding:0.2cm; text-align:left; vertical-align:top; text-align:left; padding-top:0.1cm; padding-bottom:0.1cm;\">N <sub>study_id</sub></td>\n",
       "<td style=\" padding:0.2cm; text-align:left; vertical-align:top; padding-top:0.1cm; padding-bottom:0.1cm; text-align:left;\" colspan=\"3\">170</td>\n",
       "<tr>\n",
       "<td style=\" padding:0.2cm; text-align:left; vertical-align:top; text-align:left; padding-top:0.1cm; padding-bottom:0.1cm; border-top:1px solid;\">Observations</td>\n",
       "<td style=\" padding:0.2cm; text-align:left; vertical-align:top; padding-top:0.1cm; padding-bottom:0.1cm; text-align:left; border-top:1px solid;\" colspan=\"3\">454</td>\n",
       "</tr>\n",
       "<tr>\n",
       "<td style=\" padding:0.2cm; text-align:left; vertical-align:top; text-align:left; padding-top:0.1cm; padding-bottom:0.1cm;\">Marginal R<sup>2</sup> / Conditional R<sup>2</sup></td>\n",
       "<td style=\" padding:0.2cm; text-align:left; vertical-align:top; padding-top:0.1cm; padding-bottom:0.1cm; text-align:left;\" colspan=\"3\">0.482 / 0.776</td>\n",
       "</tr>\n",
       "\n",
       "</table>\n"
      ]
     }
    },
    {
     "output_type": "display_data",
     "metadata": {},
     "data": {
      "text/html": [
       "<table style=\"border-collapse:collapse; border:none;\">\n",
       "<tr>\n",
       "<th style=\"border-top: double; text-align:center; font-style:normal; font-weight:bold; padding:0.2cm;  text-align:left; \">&nbsp;</th>\n",
       "<th colspan=\"3\" style=\"border-top: double; text-align:center; font-style:normal; font-weight:bold; padding:0.2cm; \">oq 45 scored</th>\n",
       "</tr>\n",
       "<tr>\n",
       "<td style=\" text-align:center; border-bottom:1px solid; font-style:italic; font-weight:normal;  text-align:left; \">Predictors</td>\n",
       "<td style=\" text-align:center; border-bottom:1px solid; font-style:italic; font-weight:normal;  \">Estimates</td>\n",
       "<td style=\" text-align:center; border-bottom:1px solid; font-style:italic; font-weight:normal;  \">CI</td>\n",
       "<td style=\" text-align:center; border-bottom:1px solid; font-style:italic; font-weight:normal;  \">p</td>\n",
       "</tr>\n",
       "<tr>\n",
       "<td style=\" padding:0.2cm; text-align:left; vertical-align:top; text-align:left; \">outpatient yn ever</td>\n",
       "<td style=\" padding:0.2cm; text-align:left; vertical-align:top; text-align:center;  \">1.39</td>\n",
       "<td style=\" padding:0.2cm; text-align:left; vertical-align:top; text-align:center;  \">&#45;4.13&nbsp;&ndash;&nbsp;6.91</td>\n",
       "<td style=\" padding:0.2cm; text-align:left; vertical-align:top; text-align:center;  \">0.621</td>\n",
       "</tr>\n",
       "\n",
       "<tr>\n",
       "<td style=\" padding:0.2cm; text-align:left; vertical-align:top; text-align:left; padding-top:0.1cm; padding-bottom:0.1cm;\">N <sub>study_id</sub></td>\n",
       "<td style=\" padding:0.2cm; text-align:left; vertical-align:top; padding-top:0.1cm; padding-bottom:0.1cm; text-align:left;\" colspan=\"3\">168</td>\n",
       "<tr>\n",
       "<td style=\" padding:0.2cm; text-align:left; vertical-align:top; text-align:left; padding-top:0.1cm; padding-bottom:0.1cm; border-top:1px solid;\">Observations</td>\n",
       "<td style=\" padding:0.2cm; text-align:left; vertical-align:top; padding-top:0.1cm; padding-bottom:0.1cm; text-align:left; border-top:1px solid;\" colspan=\"3\">436</td>\n",
       "</tr>\n",
       "<tr>\n",
       "<td style=\" padding:0.2cm; text-align:left; vertical-align:top; text-align:left; padding-top:0.1cm; padding-bottom:0.1cm;\">Marginal R<sup>2</sup> / Conditional R<sup>2</sup></td>\n",
       "<td style=\" padding:0.2cm; text-align:left; vertical-align:top; padding-top:0.1cm; padding-bottom:0.1cm; text-align:left;\" colspan=\"3\">0.437 / 0.803</td>\n",
       "</tr>\n",
       "\n",
       "</table>\n"
      ]
     }
    }
   ],
   "source": [
    "lmer(oq45_scored ~ time_c*arm_c + oq45_0 + outpatient_yn_ever + \n",
    "       (1 + time_c | study_id), data = subset(data, dyad == 1)) |> \n",
    "  sjPlot::tab_model(show.re.var = F, show.icc = F, terms = c(\"outpatient_yn_ever\"))"
   ],
   "id": "d9955673-2a11-4eda-9db0-bc6b1a62d351"
  },
  {
   "cell_type": "markdown",
   "metadata": {},
   "source": [
    "`er_yn_ever` - Not significant"
   ],
   "id": "5794e763-d566-4081-8a82-76c9bee3578e"
  },
  {
   "cell_type": "code",
   "execution_count": null,
   "metadata": {},
   "outputs": [
    {
     "output_type": "display_data",
     "metadata": {},
     "data": {
      "text/html": [
       "<table style=\"border-collapse:collapse; border:none;\">\n",
       "<tr>\n",
       "<th style=\"border-top: double; text-align:center; font-style:normal; font-weight:bold; padding:0.2cm;  text-align:left; \">&nbsp;</th>\n",
       "<th colspan=\"3\" style=\"border-top: double; text-align:center; font-style:normal; font-weight:bold; padding:0.2cm; \">oq 45 scored</th>\n",
       "</tr>\n",
       "<tr>\n",
       "<td style=\" text-align:center; border-bottom:1px solid; font-style:italic; font-weight:normal;  text-align:left; \">Predictors</td>\n",
       "<td style=\" text-align:center; border-bottom:1px solid; font-style:italic; font-weight:normal;  \">Estimates</td>\n",
       "<td style=\" text-align:center; border-bottom:1px solid; font-style:italic; font-weight:normal;  \">CI</td>\n",
       "<td style=\" text-align:center; border-bottom:1px solid; font-style:italic; font-weight:normal;  \">p</td>\n",
       "</tr>\n",
       "<tr>\n",
       "<td style=\" padding:0.2cm; text-align:left; vertical-align:top; text-align:left; \">er yn ever</td>\n",
       "<td style=\" padding:0.2cm; text-align:left; vertical-align:top; text-align:center;  \">3.79</td>\n",
       "<td style=\" padding:0.2cm; text-align:left; vertical-align:top; text-align:center;  \">&#45;2.02&nbsp;&ndash;&nbsp;9.61</td>\n",
       "<td style=\" padding:0.2cm; text-align:left; vertical-align:top; text-align:center;  \">0.200</td>\n",
       "</tr>\n",
       "\n",
       "<tr>\n",
       "<td style=\" padding:0.2cm; text-align:left; vertical-align:top; text-align:left; padding-top:0.1cm; padding-bottom:0.1cm;\">N <sub>study_id</sub></td>\n",
       "<td style=\" padding:0.2cm; text-align:left; vertical-align:top; padding-top:0.1cm; padding-bottom:0.1cm; text-align:left;\" colspan=\"3\">170</td>\n",
       "<tr>\n",
       "<td style=\" padding:0.2cm; text-align:left; vertical-align:top; text-align:left; padding-top:0.1cm; padding-bottom:0.1cm; border-top:1px solid;\">Observations</td>\n",
       "<td style=\" padding:0.2cm; text-align:left; vertical-align:top; padding-top:0.1cm; padding-bottom:0.1cm; text-align:left; border-top:1px solid;\" colspan=\"3\">454</td>\n",
       "</tr>\n",
       "<tr>\n",
       "<td style=\" padding:0.2cm; text-align:left; vertical-align:top; text-align:left; padding-top:0.1cm; padding-bottom:0.1cm;\">Marginal R<sup>2</sup> / Conditional R<sup>2</sup></td>\n",
       "<td style=\" padding:0.2cm; text-align:left; vertical-align:top; padding-top:0.1cm; padding-bottom:0.1cm; text-align:left;\" colspan=\"3\">0.477 / 0.776</td>\n",
       "</tr>\n",
       "\n",
       "</table>\n"
      ]
     }
    },
    {
     "output_type": "display_data",
     "metadata": {},
     "data": {
      "text/html": [
       "<table style=\"border-collapse:collapse; border:none;\">\n",
       "<tr>\n",
       "<th style=\"border-top: double; text-align:center; font-style:normal; font-weight:bold; padding:0.2cm;  text-align:left; \">&nbsp;</th>\n",
       "<th colspan=\"3\" style=\"border-top: double; text-align:center; font-style:normal; font-weight:bold; padding:0.2cm; \">oq 45 scored</th>\n",
       "</tr>\n",
       "<tr>\n",
       "<td style=\" text-align:center; border-bottom:1px solid; font-style:italic; font-weight:normal;  text-align:left; \">Predictors</td>\n",
       "<td style=\" text-align:center; border-bottom:1px solid; font-style:italic; font-weight:normal;  \">Estimates</td>\n",
       "<td style=\" text-align:center; border-bottom:1px solid; font-style:italic; font-weight:normal;  \">CI</td>\n",
       "<td style=\" text-align:center; border-bottom:1px solid; font-style:italic; font-weight:normal;  \">p</td>\n",
       "</tr>\n",
       "<tr>\n",
       "<td style=\" padding:0.2cm; text-align:left; vertical-align:top; text-align:left; \">er yn ever</td>\n",
       "<td style=\" padding:0.2cm; text-align:left; vertical-align:top; text-align:center;  \">3.12</td>\n",
       "<td style=\" padding:0.2cm; text-align:left; vertical-align:top; text-align:center;  \">&#45;2.71&nbsp;&ndash;&nbsp;8.95</td>\n",
       "<td style=\" padding:0.2cm; text-align:left; vertical-align:top; text-align:center;  \">0.294</td>\n",
       "</tr>\n",
       "\n",
       "<tr>\n",
       "<td style=\" padding:0.2cm; text-align:left; vertical-align:top; text-align:left; padding-top:0.1cm; padding-bottom:0.1cm;\">N <sub>study_id</sub></td>\n",
       "<td style=\" padding:0.2cm; text-align:left; vertical-align:top; padding-top:0.1cm; padding-bottom:0.1cm; text-align:left;\" colspan=\"3\">168</td>\n",
       "<tr>\n",
       "<td style=\" padding:0.2cm; text-align:left; vertical-align:top; text-align:left; padding-top:0.1cm; padding-bottom:0.1cm; border-top:1px solid;\">Observations</td>\n",
       "<td style=\" padding:0.2cm; text-align:left; vertical-align:top; padding-top:0.1cm; padding-bottom:0.1cm; text-align:left; border-top:1px solid;\" colspan=\"3\">436</td>\n",
       "</tr>\n",
       "<tr>\n",
       "<td style=\" padding:0.2cm; text-align:left; vertical-align:top; text-align:left; padding-top:0.1cm; padding-bottom:0.1cm;\">Marginal R<sup>2</sup> / Conditional R<sup>2</sup></td>\n",
       "<td style=\" padding:0.2cm; text-align:left; vertical-align:top; padding-top:0.1cm; padding-bottom:0.1cm; text-align:left;\" colspan=\"3\">0.439 / 0.804</td>\n",
       "</tr>\n",
       "\n",
       "</table>\n"
      ]
     }
    }
   ],
   "source": [
    "lmer(oq45_scored ~ time_c*arm_c + oq45_0 + er_yn_ever + \n",
    "       (1 + time_c | study_id), data = subset(data, dyad == 1)) |> \n",
    "  sjPlot::tab_model(show.re.var = F, show.icc = F, terms = c(\"er_yn_ever\"))"
   ],
   "id": "271136f7-d059-455e-9e3b-ba97cc883dd0"
  },
  {
   "cell_type": "markdown",
   "metadata": {},
   "source": [
    "`mat_yn` - not significant for partner, **significant for patient**"
   ],
   "id": "813d6294-d2d3-4f53-aa9f-a35babacbf59"
  },
  {
   "cell_type": "code",
   "execution_count": null,
   "metadata": {},
   "outputs": [
    {
     "output_type": "display_data",
     "metadata": {},
     "data": {
      "text/html": [
       "<table style=\"border-collapse:collapse; border:none;\">\n",
       "<tr>\n",
       "<th style=\"border-top: double; text-align:center; font-style:normal; font-weight:bold; padding:0.2cm;  text-align:left; \">&nbsp;</th>\n",
       "<th colspan=\"3\" style=\"border-top: double; text-align:center; font-style:normal; font-weight:bold; padding:0.2cm; \">oq 45 scored</th>\n",
       "</tr>\n",
       "<tr>\n",
       "<td style=\" text-align:center; border-bottom:1px solid; font-style:italic; font-weight:normal;  text-align:left; \">Predictors</td>\n",
       "<td style=\" text-align:center; border-bottom:1px solid; font-style:italic; font-weight:normal;  \">Estimates</td>\n",
       "<td style=\" text-align:center; border-bottom:1px solid; font-style:italic; font-weight:normal;  \">CI</td>\n",
       "<td style=\" text-align:center; border-bottom:1px solid; font-style:italic; font-weight:normal;  \">p</td>\n",
       "</tr>\n",
       "<tr>\n",
       "<td style=\" padding:0.2cm; text-align:left; vertical-align:top; text-align:left; \">mat yn</td>\n",
       "<td style=\" padding:0.2cm; text-align:left; vertical-align:top; text-align:center;  \">9.22</td>\n",
       "<td style=\" padding:0.2cm; text-align:left; vertical-align:top; text-align:center;  \">&#45;0.20&nbsp;&ndash;&nbsp;18.63</td>\n",
       "<td style=\" padding:0.2cm; text-align:left; vertical-align:top; text-align:center;  \">0.055</td>\n",
       "</tr>\n",
       "\n",
       "<tr>\n",
       "<td style=\" padding:0.2cm; text-align:left; vertical-align:top; text-align:left; padding-top:0.1cm; padding-bottom:0.1cm;\">N <sub>study_id</sub></td>\n",
       "<td style=\" padding:0.2cm; text-align:left; vertical-align:top; padding-top:0.1cm; padding-bottom:0.1cm; text-align:left;\" colspan=\"3\">170</td>\n",
       "<tr>\n",
       "<td style=\" padding:0.2cm; text-align:left; vertical-align:top; text-align:left; padding-top:0.1cm; padding-bottom:0.1cm; border-top:1px solid;\">Observations</td>\n",
       "<td style=\" padding:0.2cm; text-align:left; vertical-align:top; padding-top:0.1cm; padding-bottom:0.1cm; text-align:left; border-top:1px solid;\" colspan=\"3\">454</td>\n",
       "</tr>\n",
       "<tr>\n",
       "<td style=\" padding:0.2cm; text-align:left; vertical-align:top; text-align:left; padding-top:0.1cm; padding-bottom:0.1cm;\">Marginal R<sup>2</sup> / Conditional R<sup>2</sup></td>\n",
       "<td style=\" padding:0.2cm; text-align:left; vertical-align:top; padding-top:0.1cm; padding-bottom:0.1cm; text-align:left;\" colspan=\"3\">0.479 / 0.778</td>\n",
       "</tr>\n",
       "\n",
       "</table>\n"
      ]
     }
    },
    {
     "output_type": "display_data",
     "metadata": {},
     "data": {
      "text/html": [
       "<table style=\"border-collapse:collapse; border:none;\">\n",
       "<tr>\n",
       "<th style=\"border-top: double; text-align:center; font-style:normal; font-weight:bold; padding:0.2cm;  text-align:left; \">&nbsp;</th>\n",
       "<th colspan=\"3\" style=\"border-top: double; text-align:center; font-style:normal; font-weight:bold; padding:0.2cm; \">oq 45 scored</th>\n",
       "</tr>\n",
       "<tr>\n",
       "<td style=\" text-align:center; border-bottom:1px solid; font-style:italic; font-weight:normal;  text-align:left; \">Predictors</td>\n",
       "<td style=\" text-align:center; border-bottom:1px solid; font-style:italic; font-weight:normal;  \">Estimates</td>\n",
       "<td style=\" text-align:center; border-bottom:1px solid; font-style:italic; font-weight:normal;  \">CI</td>\n",
       "<td style=\" text-align:center; border-bottom:1px solid; font-style:italic; font-weight:normal;  \">p</td>\n",
       "</tr>\n",
       "<tr>\n",
       "<td style=\" padding:0.2cm; text-align:left; vertical-align:top; text-align:left; \">mat yn</td>\n",
       "<td style=\" padding:0.2cm; text-align:left; vertical-align:top; text-align:center;  \">6.86</td>\n",
       "<td style=\" padding:0.2cm; text-align:left; vertical-align:top; text-align:center;  \">2.05&nbsp;&ndash;&nbsp;11.68</td>\n",
       "<td style=\" padding:0.2cm; text-align:left; vertical-align:top; text-align:center;  \"><strong>0.005</strong></td>\n",
       "</tr>\n",
       "\n",
       "<tr>\n",
       "<td style=\" padding:0.2cm; text-align:left; vertical-align:top; text-align:left; padding-top:0.1cm; padding-bottom:0.1cm;\">N <sub>study_id</sub></td>\n",
       "<td style=\" padding:0.2cm; text-align:left; vertical-align:top; padding-top:0.1cm; padding-bottom:0.1cm; text-align:left;\" colspan=\"3\">167</td>\n",
       "<tr>\n",
       "<td style=\" padding:0.2cm; text-align:left; vertical-align:top; text-align:left; padding-top:0.1cm; padding-bottom:0.1cm; border-top:1px solid;\">Observations</td>\n",
       "<td style=\" padding:0.2cm; text-align:left; vertical-align:top; padding-top:0.1cm; padding-bottom:0.1cm; text-align:left; border-top:1px solid;\" colspan=\"3\">432</td>\n",
       "</tr>\n",
       "<tr>\n",
       "<td style=\" padding:0.2cm; text-align:left; vertical-align:top; text-align:left; padding-top:0.1cm; padding-bottom:0.1cm;\">Marginal R<sup>2</sup> / Conditional R<sup>2</sup></td>\n",
       "<td style=\" padding:0.2cm; text-align:left; vertical-align:top; padding-top:0.1cm; padding-bottom:0.1cm; text-align:left;\" colspan=\"3\">0.445 / 0.808</td>\n",
       "</tr>\n",
       "\n",
       "</table>\n"
      ]
     }
    }
   ],
   "source": [
    "lmer(oq45_scored ~ time_c*arm_c + oq45_0 + mat_yn + (1 + time_c | study_id), \n",
    "     data = subset(data, dyad == 1)) |> \n",
    "  sjPlot::tab_model(show.re.var = F, show.icc = F, terms = c(\"mat_yn\"))"
   ],
   "id": "fdb5de17-9a70-49cc-8ef8-f0037425786a"
  },
  {
   "cell_type": "markdown",
   "metadata": {},
   "source": [
    "`inpatient_yn_ever` - not significant"
   ],
   "id": "7317af37-5d82-416e-98ba-b6690758eef6"
  },
  {
   "cell_type": "code",
   "execution_count": null,
   "metadata": {},
   "outputs": [
    {
     "output_type": "display_data",
     "metadata": {},
     "data": {
      "text/html": [
       "<table style=\"border-collapse:collapse; border:none;\">\n",
       "<tr>\n",
       "<th style=\"border-top: double; text-align:center; font-style:normal; font-weight:bold; padding:0.2cm;  text-align:left; \">&nbsp;</th>\n",
       "<th colspan=\"3\" style=\"border-top: double; text-align:center; font-style:normal; font-weight:bold; padding:0.2cm; \">oq 45 scored</th>\n",
       "</tr>\n",
       "<tr>\n",
       "<td style=\" text-align:center; border-bottom:1px solid; font-style:italic; font-weight:normal;  text-align:left; \">Predictors</td>\n",
       "<td style=\" text-align:center; border-bottom:1px solid; font-style:italic; font-weight:normal;  \">Estimates</td>\n",
       "<td style=\" text-align:center; border-bottom:1px solid; font-style:italic; font-weight:normal;  \">CI</td>\n",
       "<td style=\" text-align:center; border-bottom:1px solid; font-style:italic; font-weight:normal;  \">p</td>\n",
       "</tr>\n",
       "<tr>\n",
       "<td style=\" padding:0.2cm; text-align:left; vertical-align:top; text-align:left; \">inpatient yn ever</td>\n",
       "<td style=\" padding:0.2cm; text-align:left; vertical-align:top; text-align:center;  \">11.49</td>\n",
       "<td style=\" padding:0.2cm; text-align:left; vertical-align:top; text-align:center;  \">&#45;3.59&nbsp;&ndash;&nbsp;26.57</td>\n",
       "<td style=\" padding:0.2cm; text-align:left; vertical-align:top; text-align:center;  \">0.135</td>\n",
       "</tr>\n",
       "\n",
       "<tr>\n",
       "<td style=\" padding:0.2cm; text-align:left; vertical-align:top; text-align:left; padding-top:0.1cm; padding-bottom:0.1cm;\">N <sub>study_id</sub></td>\n",
       "<td style=\" padding:0.2cm; text-align:left; vertical-align:top; padding-top:0.1cm; padding-bottom:0.1cm; text-align:left;\" colspan=\"3\">170</td>\n",
       "<tr>\n",
       "<td style=\" padding:0.2cm; text-align:left; vertical-align:top; text-align:left; padding-top:0.1cm; padding-bottom:0.1cm; border-top:1px solid;\">Observations</td>\n",
       "<td style=\" padding:0.2cm; text-align:left; vertical-align:top; padding-top:0.1cm; padding-bottom:0.1cm; text-align:left; border-top:1px solid;\" colspan=\"3\">454</td>\n",
       "</tr>\n",
       "<tr>\n",
       "<td style=\" padding:0.2cm; text-align:left; vertical-align:top; text-align:left; padding-top:0.1cm; padding-bottom:0.1cm;\">Marginal R<sup>2</sup> / Conditional R<sup>2</sup></td>\n",
       "<td style=\" padding:0.2cm; text-align:left; vertical-align:top; padding-top:0.1cm; padding-bottom:0.1cm; text-align:left;\" colspan=\"3\">0.478 / 0.776</td>\n",
       "</tr>\n",
       "\n",
       "</table>\n"
      ]
     }
    },
    {
     "output_type": "display_data",
     "metadata": {},
     "data": {
      "text/html": [
       "<table style=\"border-collapse:collapse; border:none;\">\n",
       "<tr>\n",
       "<th style=\"border-top: double; text-align:center; font-style:normal; font-weight:bold; padding:0.2cm;  text-align:left; \">&nbsp;</th>\n",
       "<th colspan=\"3\" style=\"border-top: double; text-align:center; font-style:normal; font-weight:bold; padding:0.2cm; \">oq 45 scored</th>\n",
       "</tr>\n",
       "<tr>\n",
       "<td style=\" text-align:center; border-bottom:1px solid; font-style:italic; font-weight:normal;  text-align:left; \">Predictors</td>\n",
       "<td style=\" text-align:center; border-bottom:1px solid; font-style:italic; font-weight:normal;  \">Estimates</td>\n",
       "<td style=\" text-align:center; border-bottom:1px solid; font-style:italic; font-weight:normal;  \">CI</td>\n",
       "<td style=\" text-align:center; border-bottom:1px solid; font-style:italic; font-weight:normal;  \">p</td>\n",
       "</tr>\n",
       "<tr>\n",
       "<td style=\" padding:0.2cm; text-align:left; vertical-align:top; text-align:left; \">inpatient yn ever</td>\n",
       "<td style=\" padding:0.2cm; text-align:left; vertical-align:top; text-align:center;  \">3.73</td>\n",
       "<td style=\" padding:0.2cm; text-align:left; vertical-align:top; text-align:center;  \">&#45;2.93&nbsp;&ndash;&nbsp;10.39</td>\n",
       "<td style=\" padding:0.2cm; text-align:left; vertical-align:top; text-align:center;  \">0.272</td>\n",
       "</tr>\n",
       "\n",
       "<tr>\n",
       "<td style=\" padding:0.2cm; text-align:left; vertical-align:top; text-align:left; padding-top:0.1cm; padding-bottom:0.1cm;\">N <sub>study_id</sub></td>\n",
       "<td style=\" padding:0.2cm; text-align:left; vertical-align:top; padding-top:0.1cm; padding-bottom:0.1cm; text-align:left;\" colspan=\"3\">168</td>\n",
       "<tr>\n",
       "<td style=\" padding:0.2cm; text-align:left; vertical-align:top; text-align:left; padding-top:0.1cm; padding-bottom:0.1cm; border-top:1px solid;\">Observations</td>\n",
       "<td style=\" padding:0.2cm; text-align:left; vertical-align:top; padding-top:0.1cm; padding-bottom:0.1cm; text-align:left; border-top:1px solid;\" colspan=\"3\">436</td>\n",
       "</tr>\n",
       "<tr>\n",
       "<td style=\" padding:0.2cm; text-align:left; vertical-align:top; text-align:left; padding-top:0.1cm; padding-bottom:0.1cm;\">Marginal R<sup>2</sup> / Conditional R<sup>2</sup></td>\n",
       "<td style=\" padding:0.2cm; text-align:left; vertical-align:top; padding-top:0.1cm; padding-bottom:0.1cm; text-align:left;\" colspan=\"3\">0.438 / 0.803</td>\n",
       "</tr>\n",
       "\n",
       "</table>\n"
      ]
     }
    }
   ],
   "source": [
    "lmer(oq45_scored ~ time_c*arm_c + oq45_0 + inpatient_yn_ever + \n",
    "       (1 + time_c | study_id), data = subset(data, dyad == 1)) |> \n",
    "  sjPlot::tab_model(show.re.var = F, show.icc = F, terms = c(\"inpatient_yn_ever\"))"
   ],
   "id": "7dea00ab-7a65-4313-be1f-843342313c39"
  },
  {
   "cell_type": "markdown",
   "metadata": {},
   "source": [
    "`other_psych_treatment_yn` - **significant for partner** not significant for patient"
   ],
   "id": "a5fb583f-4afe-4580-b6e7-6f75cfa320d6"
  },
  {
   "cell_type": "code",
   "execution_count": null,
   "metadata": {},
   "outputs": [
    {
     "output_type": "display_data",
     "metadata": {},
     "data": {
      "text/html": [
       "<table style=\"border-collapse:collapse; border:none;\">\n",
       "<tr>\n",
       "<th style=\"border-top: double; text-align:center; font-style:normal; font-weight:bold; padding:0.2cm;  text-align:left; \">&nbsp;</th>\n",
       "<th colspan=\"3\" style=\"border-top: double; text-align:center; font-style:normal; font-weight:bold; padding:0.2cm; \">oq 45 scored</th>\n",
       "</tr>\n",
       "<tr>\n",
       "<td style=\" text-align:center; border-bottom:1px solid; font-style:italic; font-weight:normal;  text-align:left; \">Predictors</td>\n",
       "<td style=\" text-align:center; border-bottom:1px solid; font-style:italic; font-weight:normal;  \">Estimates</td>\n",
       "<td style=\" text-align:center; border-bottom:1px solid; font-style:italic; font-weight:normal;  \">CI</td>\n",
       "<td style=\" text-align:center; border-bottom:1px solid; font-style:italic; font-weight:normal;  \">p</td>\n",
       "</tr>\n",
       "<tr>\n",
       "<td style=\" padding:0.2cm; text-align:left; vertical-align:top; text-align:left; \">other psych treatment yn</td>\n",
       "<td style=\" padding:0.2cm; text-align:left; vertical-align:top; text-align:center;  \">5.33</td>\n",
       "<td style=\" padding:0.2cm; text-align:left; vertical-align:top; text-align:center;  \">0.23&nbsp;&ndash;&nbsp;10.43</td>\n",
       "<td style=\" padding:0.2cm; text-align:left; vertical-align:top; text-align:center;  \"><strong>0.041</strong></td>\n",
       "</tr>\n",
       "\n",
       "<tr>\n",
       "<td style=\" padding:0.2cm; text-align:left; vertical-align:top; text-align:left; padding-top:0.1cm; padding-bottom:0.1cm;\">N <sub>study_id</sub></td>\n",
       "<td style=\" padding:0.2cm; text-align:left; vertical-align:top; padding-top:0.1cm; padding-bottom:0.1cm; text-align:left;\" colspan=\"3\">170</td>\n",
       "<tr>\n",
       "<td style=\" padding:0.2cm; text-align:left; vertical-align:top; text-align:left; padding-top:0.1cm; padding-bottom:0.1cm; border-top:1px solid;\">Observations</td>\n",
       "<td style=\" padding:0.2cm; text-align:left; vertical-align:top; padding-top:0.1cm; padding-bottom:0.1cm; text-align:left; border-top:1px solid;\" colspan=\"3\">454</td>\n",
       "</tr>\n",
       "<tr>\n",
       "<td style=\" padding:0.2cm; text-align:left; vertical-align:top; text-align:left; padding-top:0.1cm; padding-bottom:0.1cm;\">Marginal R<sup>2</sup> / Conditional R<sup>2</sup></td>\n",
       "<td style=\" padding:0.2cm; text-align:left; vertical-align:top; padding-top:0.1cm; padding-bottom:0.1cm; text-align:left;\" colspan=\"3\">0.481 / 0.770</td>\n",
       "</tr>\n",
       "\n",
       "</table>\n"
      ]
     }
    },
    {
     "output_type": "display_data",
     "metadata": {},
     "data": {
      "text/html": [
       "<table style=\"border-collapse:collapse; border:none;\">\n",
       "<tr>\n",
       "<th style=\"border-top: double; text-align:center; font-style:normal; font-weight:bold; padding:0.2cm;  text-align:left; \">&nbsp;</th>\n",
       "<th colspan=\"3\" style=\"border-top: double; text-align:center; font-style:normal; font-weight:bold; padding:0.2cm; \">oq 45 scored</th>\n",
       "</tr>\n",
       "<tr>\n",
       "<td style=\" text-align:center; border-bottom:1px solid; font-style:italic; font-weight:normal;  text-align:left; \">Predictors</td>\n",
       "<td style=\" text-align:center; border-bottom:1px solid; font-style:italic; font-weight:normal;  \">Estimates</td>\n",
       "<td style=\" text-align:center; border-bottom:1px solid; font-style:italic; font-weight:normal;  \">CI</td>\n",
       "<td style=\" text-align:center; border-bottom:1px solid; font-style:italic; font-weight:normal;  \">p</td>\n",
       "</tr>\n",
       "<tr>\n",
       "<td style=\" padding:0.2cm; text-align:left; vertical-align:top; text-align:left; \">other psych treatment yn</td>\n",
       "<td style=\" padding:0.2cm; text-align:left; vertical-align:top; text-align:center;  \">&#45;0.61</td>\n",
       "<td style=\" padding:0.2cm; text-align:left; vertical-align:top; text-align:center;  \">&#45;4.72&nbsp;&ndash;&nbsp;3.51</td>\n",
       "<td style=\" padding:0.2cm; text-align:left; vertical-align:top; text-align:center;  \">0.772</td>\n",
       "</tr>\n",
       "\n",
       "<tr>\n",
       "<td style=\" padding:0.2cm; text-align:left; vertical-align:top; text-align:left; padding-top:0.1cm; padding-bottom:0.1cm;\">N <sub>study_id</sub></td>\n",
       "<td style=\" padding:0.2cm; text-align:left; vertical-align:top; padding-top:0.1cm; padding-bottom:0.1cm; text-align:left;\" colspan=\"3\">167</td>\n",
       "<tr>\n",
       "<td style=\" padding:0.2cm; text-align:left; vertical-align:top; text-align:left; padding-top:0.1cm; padding-bottom:0.1cm; border-top:1px solid;\">Observations</td>\n",
       "<td style=\" padding:0.2cm; text-align:left; vertical-align:top; padding-top:0.1cm; padding-bottom:0.1cm; text-align:left; border-top:1px solid;\" colspan=\"3\">435</td>\n",
       "</tr>\n",
       "<tr>\n",
       "<td style=\" padding:0.2cm; text-align:left; vertical-align:top; text-align:left; padding-top:0.1cm; padding-bottom:0.1cm;\">Marginal R<sup>2</sup> / Conditional R<sup>2</sup></td>\n",
       "<td style=\" padding:0.2cm; text-align:left; vertical-align:top; padding-top:0.1cm; padding-bottom:0.1cm; text-align:left;\" colspan=\"3\">0.435 / 0.802</td>\n",
       "</tr>\n",
       "\n",
       "</table>\n"
      ]
     }
    }
   ],
   "source": [
    "lmer(oq45_scored ~ time_c*arm_c + oq45_0 + other_psych_treatment_yn + \n",
    "       (1 + time_c | study_id), data = subset(data, dyad == 1)) |> \n",
    "  sjPlot::tab_model(show.re.var = F, show.icc = F, terms = c(\"other_psych_treatment_yn\"))"
   ],
   "id": "bac155d0-1fa5-4bdf-90a2-4965c71fd458"
  },
  {
   "cell_type": "markdown",
   "metadata": {},
   "source": [
    "`other_medications_yn` - **significant for partner** not significant for patient"
   ],
   "id": "5196fe95-047b-4f2b-b2f2-0a1cc246fecb"
  },
  {
   "cell_type": "code",
   "execution_count": null,
   "metadata": {},
   "outputs": [
    {
     "output_type": "display_data",
     "metadata": {},
     "data": {
      "text/html": [
       "<table style=\"border-collapse:collapse; border:none;\">\n",
       "<tr>\n",
       "<th style=\"border-top: double; text-align:center; font-style:normal; font-weight:bold; padding:0.2cm;  text-align:left; \">&nbsp;</th>\n",
       "<th colspan=\"3\" style=\"border-top: double; text-align:center; font-style:normal; font-weight:bold; padding:0.2cm; \">oq 45 scored</th>\n",
       "</tr>\n",
       "<tr>\n",
       "<td style=\" text-align:center; border-bottom:1px solid; font-style:italic; font-weight:normal;  text-align:left; \">Predictors</td>\n",
       "<td style=\" text-align:center; border-bottom:1px solid; font-style:italic; font-weight:normal;  \">Estimates</td>\n",
       "<td style=\" text-align:center; border-bottom:1px solid; font-style:italic; font-weight:normal;  \">CI</td>\n",
       "<td style=\" text-align:center; border-bottom:1px solid; font-style:italic; font-weight:normal;  \">p</td>\n",
       "</tr>\n",
       "<tr>\n",
       "<td style=\" padding:0.2cm; text-align:left; vertical-align:top; text-align:left; \">other medications yn</td>\n",
       "<td style=\" padding:0.2cm; text-align:left; vertical-align:top; text-align:center;  \">6.02</td>\n",
       "<td style=\" padding:0.2cm; text-align:left; vertical-align:top; text-align:center;  \">1.88&nbsp;&ndash;&nbsp;10.15</td>\n",
       "<td style=\" padding:0.2cm; text-align:left; vertical-align:top; text-align:center;  \"><strong>0.004</strong></td>\n",
       "</tr>\n",
       "\n",
       "<tr>\n",
       "<td style=\" padding:0.2cm; text-align:left; vertical-align:top; text-align:left; padding-top:0.1cm; padding-bottom:0.1cm;\">N <sub>study_id</sub></td>\n",
       "<td style=\" padding:0.2cm; text-align:left; vertical-align:top; padding-top:0.1cm; padding-bottom:0.1cm; text-align:left;\" colspan=\"3\">170</td>\n",
       "<tr>\n",
       "<td style=\" padding:0.2cm; text-align:left; vertical-align:top; text-align:left; padding-top:0.1cm; padding-bottom:0.1cm; border-top:1px solid;\">Observations</td>\n",
       "<td style=\" padding:0.2cm; text-align:left; vertical-align:top; padding-top:0.1cm; padding-bottom:0.1cm; text-align:left; border-top:1px solid;\" colspan=\"3\">452</td>\n",
       "</tr>\n",
       "<tr>\n",
       "<td style=\" padding:0.2cm; text-align:left; vertical-align:top; text-align:left; padding-top:0.1cm; padding-bottom:0.1cm;\">Marginal R<sup>2</sup> / Conditional R<sup>2</sup></td>\n",
       "<td style=\" padding:0.2cm; text-align:left; vertical-align:top; padding-top:0.1cm; padding-bottom:0.1cm; text-align:left;\" colspan=\"3\">0.491 / 0.769</td>\n",
       "</tr>\n",
       "\n",
       "</table>\n"
      ]
     }
    },
    {
     "output_type": "display_data",
     "metadata": {},
     "data": {
      "text/html": [
       "<table style=\"border-collapse:collapse; border:none;\">\n",
       "<tr>\n",
       "<th style=\"border-top: double; text-align:center; font-style:normal; font-weight:bold; padding:0.2cm;  text-align:left; \">&nbsp;</th>\n",
       "<th colspan=\"3\" style=\"border-top: double; text-align:center; font-style:normal; font-weight:bold; padding:0.2cm; \">oq 45 scored</th>\n",
       "</tr>\n",
       "<tr>\n",
       "<td style=\" text-align:center; border-bottom:1px solid; font-style:italic; font-weight:normal;  text-align:left; \">Predictors</td>\n",
       "<td style=\" text-align:center; border-bottom:1px solid; font-style:italic; font-weight:normal;  \">Estimates</td>\n",
       "<td style=\" text-align:center; border-bottom:1px solid; font-style:italic; font-weight:normal;  \">CI</td>\n",
       "<td style=\" text-align:center; border-bottom:1px solid; font-style:italic; font-weight:normal;  \">p</td>\n",
       "</tr>\n",
       "<tr>\n",
       "<td style=\" padding:0.2cm; text-align:left; vertical-align:top; text-align:left; \">other medications yn</td>\n",
       "<td style=\" padding:0.2cm; text-align:left; vertical-align:top; text-align:center;  \">3.09</td>\n",
       "<td style=\" padding:0.2cm; text-align:left; vertical-align:top; text-align:center;  \">&#45;0.92&nbsp;&ndash;&nbsp;7.10</td>\n",
       "<td style=\" padding:0.2cm; text-align:left; vertical-align:top; text-align:center;  \">0.131</td>\n",
       "</tr>\n",
       "\n",
       "<tr>\n",
       "<td style=\" padding:0.2cm; text-align:left; vertical-align:top; text-align:left; padding-top:0.1cm; padding-bottom:0.1cm;\">N <sub>study_id</sub></td>\n",
       "<td style=\" padding:0.2cm; text-align:left; vertical-align:top; padding-top:0.1cm; padding-bottom:0.1cm; text-align:left;\" colspan=\"3\">167</td>\n",
       "<tr>\n",
       "<td style=\" padding:0.2cm; text-align:left; vertical-align:top; text-align:left; padding-top:0.1cm; padding-bottom:0.1cm; border-top:1px solid;\">Observations</td>\n",
       "<td style=\" padding:0.2cm; text-align:left; vertical-align:top; padding-top:0.1cm; padding-bottom:0.1cm; text-align:left; border-top:1px solid;\" colspan=\"3\">431</td>\n",
       "</tr>\n",
       "<tr>\n",
       "<td style=\" padding:0.2cm; text-align:left; vertical-align:top; text-align:left; padding-top:0.1cm; padding-bottom:0.1cm;\">Marginal R<sup>2</sup> / Conditional R<sup>2</sup></td>\n",
       "<td style=\" padding:0.2cm; text-align:left; vertical-align:top; padding-top:0.1cm; padding-bottom:0.1cm; text-align:left;\" colspan=\"3\">0.442 / 0.799</td>\n",
       "</tr>\n",
       "\n",
       "</table>\n"
      ]
     }
    }
   ],
   "source": [
    "lmer(oq45_scored ~ time_c*arm_c + oq45_0 + other_medications_yn + \n",
    "       (1 + time_c | study_id), data = subset(data, dyad == 1)) |> \n",
    "  sjPlot::tab_model(show.re.var = F, show.icc = F, terms = c(\"other_medications_yn\"))"
   ],
   "id": "81c0e428-9748-47ed-ab43-3594354900b2"
  },
  {
   "cell_type": "markdown",
   "metadata": {},
   "source": [
    "##### Final Model with Significant Covariates"
   ],
   "id": "95cf60d7-f966-40c3-9d63-1af37678431b"
  },
  {
   "cell_type": "code",
   "execution_count": null,
   "metadata": {},
   "outputs": [
    {
     "output_type": "display_data",
     "metadata": {},
     "data": {
      "text/html": [
       "<table style=\"border-collapse:collapse; border:none;\">\n",
       "<tr>\n",
       "<th style=\"border-top: double; text-align:center; font-style:normal; font-weight:bold; padding:0.2cm;  text-align:left; \">&nbsp;</th>\n",
       "<th colspan=\"3\" style=\"border-top: double; text-align:center; font-style:normal; font-weight:bold; padding:0.2cm; \">oq 45 scored</th>\n",
       "</tr>\n",
       "<tr>\n",
       "<td style=\" text-align:center; border-bottom:1px solid; font-style:italic; font-weight:normal;  text-align:left; \">Predictors</td>\n",
       "<td style=\" text-align:center; border-bottom:1px solid; font-style:italic; font-weight:normal;  \">Estimates</td>\n",
       "<td style=\" text-align:center; border-bottom:1px solid; font-style:italic; font-weight:normal;  \">CI</td>\n",
       "<td style=\" text-align:center; border-bottom:1px solid; font-style:italic; font-weight:normal;  \">p</td>\n",
       "</tr>\n",
       "<tr>\n",
       "<td style=\" padding:0.2cm; text-align:left; vertical-align:top; text-align:left; \">(Intercept)</td>\n",
       "<td style=\" padding:0.2cm; text-align:left; vertical-align:top; text-align:center;  \">54.11</td>\n",
       "<td style=\" padding:0.2cm; text-align:left; vertical-align:top; text-align:center;  \">51.34&nbsp;&ndash;&nbsp;56.88</td>\n",
       "<td style=\" padding:0.2cm; text-align:left; vertical-align:top; text-align:center;  \"><strong>&lt;0.001</strong></td>\n",
       "</tr>\n",
       "<tr>\n",
       "<td style=\" padding:0.2cm; text-align:left; vertical-align:top; text-align:left; \">time c</td>\n",
       "<td style=\" padding:0.2cm; text-align:left; vertical-align:top; text-align:center;  \">&#45;0.86</td>\n",
       "<td style=\" padding:0.2cm; text-align:left; vertical-align:top; text-align:center;  \">&#45;2.24&nbsp;&ndash;&nbsp;0.52</td>\n",
       "<td style=\" padding:0.2cm; text-align:left; vertical-align:top; text-align:center;  \">0.222</td>\n",
       "</tr>\n",
       "<tr>\n",
       "<td style=\" padding:0.2cm; text-align:left; vertical-align:top; text-align:left; \">arm cfam and achess vs C</td>\n",
       "<td style=\" padding:0.2cm; text-align:left; vertical-align:top; text-align:center;  \">&#45;2.48</td>\n",
       "<td style=\" padding:0.2cm; text-align:left; vertical-align:top; text-align:center;  \">&#45;7.07&nbsp;&ndash;&nbsp;2.10</td>\n",
       "<td style=\" padding:0.2cm; text-align:left; vertical-align:top; text-align:center;  \">0.287</td>\n",
       "</tr>\n",
       "<tr>\n",
       "<td style=\" padding:0.2cm; text-align:left; vertical-align:top; text-align:left; \">arm cachess vs fam</td>\n",
       "<td style=\" padding:0.2cm; text-align:left; vertical-align:top; text-align:center;  \">&#45;1.05</td>\n",
       "<td style=\" padding:0.2cm; text-align:left; vertical-align:top; text-align:center;  \">&#45;6.26&nbsp;&ndash;&nbsp;4.17</td>\n",
       "<td style=\" padding:0.2cm; text-align:left; vertical-align:top; text-align:center;  \">0.693</td>\n",
       "</tr>\n",
       "<tr>\n",
       "<td style=\" padding:0.2cm; text-align:left; vertical-align:top; text-align:left; \">oq45 0</td>\n",
       "<td style=\" padding:0.2cm; text-align:left; vertical-align:top; text-align:center;  \">0.71</td>\n",
       "<td style=\" padding:0.2cm; text-align:left; vertical-align:top; text-align:center;  \">0.61&nbsp;&ndash;&nbsp;0.81</td>\n",
       "<td style=\" padding:0.2cm; text-align:left; vertical-align:top; text-align:center;  \"><strong>&lt;0.001</strong></td>\n",
       "</tr>\n",
       "<tr>\n",
       "<td style=\" padding:0.2cm; text-align:left; vertical-align:top; text-align:left; \">edu c</td>\n",
       "<td style=\" padding:0.2cm; text-align:left; vertical-align:top; text-align:center;  \">&#45;2.34</td>\n",
       "<td style=\" padding:0.2cm; text-align:left; vertical-align:top; text-align:center;  \">&#45;4.38&nbsp;&ndash;&nbsp;-0.30</td>\n",
       "<td style=\" padding:0.2cm; text-align:left; vertical-align:top; text-align:center;  \"><strong>0.025</strong></td>\n",
       "</tr>\n",
       "<tr>\n",
       "<td style=\" padding:0.2cm; text-align:left; vertical-align:top; text-align:left; \">outpatient yn ever</td>\n",
       "<td style=\" padding:0.2cm; text-align:left; vertical-align:top; text-align:center;  \">8.18</td>\n",
       "<td style=\" padding:0.2cm; text-align:left; vertical-align:top; text-align:center;  \">&#45;0.97&nbsp;&ndash;&nbsp;17.34</td>\n",
       "<td style=\" padding:0.2cm; text-align:left; vertical-align:top; text-align:center;  \">0.080</td>\n",
       "</tr>\n",
       "<tr>\n",
       "<td style=\" padding:0.2cm; text-align:left; vertical-align:top; text-align:left; \">other psych treatment yn</td>\n",
       "<td style=\" padding:0.2cm; text-align:left; vertical-align:top; text-align:center;  \">3.72</td>\n",
       "<td style=\" padding:0.2cm; text-align:left; vertical-align:top; text-align:center;  \">&#45;1.43&nbsp;&ndash;&nbsp;8.87</td>\n",
       "<td style=\" padding:0.2cm; text-align:left; vertical-align:top; text-align:center;  \">0.156</td>\n",
       "</tr>\n",
       "<tr>\n",
       "<td style=\" padding:0.2cm; text-align:left; vertical-align:top; text-align:left; \">other medications yn</td>\n",
       "<td style=\" padding:0.2cm; text-align:left; vertical-align:top; text-align:center;  \">5.35</td>\n",
       "<td style=\" padding:0.2cm; text-align:left; vertical-align:top; text-align:center;  \">1.18&nbsp;&ndash;&nbsp;9.53</td>\n",
       "<td style=\" padding:0.2cm; text-align:left; vertical-align:top; text-align:center;  \"><strong>0.012</strong></td>\n",
       "</tr>\n",
       "<tr>\n",
       "<td style=\" padding:0.2cm; text-align:left; vertical-align:top; text-align:left; \">time c × arm cfam and<br>achess vs C</td>\n",
       "<td style=\" padding:0.2cm; text-align:left; vertical-align:top; text-align:center;  \">&#45;1.55</td>\n",
       "<td style=\" padding:0.2cm; text-align:left; vertical-align:top; text-align:center;  \">&#45;4.53&nbsp;&ndash;&nbsp;1.43</td>\n",
       "<td style=\" padding:0.2cm; text-align:left; vertical-align:top; text-align:center;  \">0.308</td>\n",
       "</tr>\n",
       "<tr>\n",
       "<td style=\" padding:0.2cm; text-align:left; vertical-align:top; text-align:left; \">time c × arm cachess vs<br>fam</td>\n",
       "<td style=\" padding:0.2cm; text-align:left; vertical-align:top; text-align:center;  \">0.75</td>\n",
       "<td style=\" padding:0.2cm; text-align:left; vertical-align:top; text-align:center;  \">&#45;2.56&nbsp;&ndash;&nbsp;4.07</td>\n",
       "<td style=\" padding:0.2cm; text-align:left; vertical-align:top; text-align:center;  \">0.655</td>\n",
       "</tr>\n",
       "\n",
       "<tr>\n",
       "<td style=\" padding:0.2cm; text-align:left; vertical-align:top; text-align:left; padding-top:0.1cm; padding-bottom:0.1cm;\">N <sub>study_id</sub></td>\n",
       "<td style=\" padding:0.2cm; text-align:left; vertical-align:top; padding-top:0.1cm; padding-bottom:0.1cm; text-align:left;\" colspan=\"3\">170</td>\n",
       "<tr>\n",
       "<td style=\" padding:0.2cm; text-align:left; vertical-align:top; text-align:left; padding-top:0.1cm; padding-bottom:0.1cm; border-top:1px solid;\">Observations</td>\n",
       "<td style=\" padding:0.2cm; text-align:left; vertical-align:top; padding-top:0.1cm; padding-bottom:0.1cm; text-align:left; border-top:1px solid;\" colspan=\"3\">452</td>\n",
       "</tr>\n",
       "<tr>\n",
       "<td style=\" padding:0.2cm; text-align:left; vertical-align:top; text-align:left; padding-top:0.1cm; padding-bottom:0.1cm;\">Marginal R<sup>2</sup> / Conditional R<sup>2</sup></td>\n",
       "<td style=\" padding:0.2cm; text-align:left; vertical-align:top; padding-top:0.1cm; padding-bottom:0.1cm; text-align:left;\" colspan=\"3\">0.508 / 0.767</td>\n",
       "</tr>\n",
       "\n",
       "</table>\n"
      ]
     }
    },
    {
     "output_type": "display_data",
     "metadata": {},
     "data": {
      "text/html": [
       "<table style=\"border-collapse:collapse; border:none;\">\n",
       "<tr>\n",
       "<th style=\"border-top: double; text-align:center; font-style:normal; font-weight:bold; padding:0.2cm;  text-align:left; \">&nbsp;</th>\n",
       "<th colspan=\"3\" style=\"border-top: double; text-align:center; font-style:normal; font-weight:bold; padding:0.2cm; \">oq 45 scored</th>\n",
       "</tr>\n",
       "<tr>\n",
       "<td style=\" text-align:center; border-bottom:1px solid; font-style:italic; font-weight:normal;  text-align:left; \">Predictors</td>\n",
       "<td style=\" text-align:center; border-bottom:1px solid; font-style:italic; font-weight:normal;  \">Estimates</td>\n",
       "<td style=\" text-align:center; border-bottom:1px solid; font-style:italic; font-weight:normal;  \">CI</td>\n",
       "<td style=\" text-align:center; border-bottom:1px solid; font-style:italic; font-weight:normal;  \">p</td>\n",
       "</tr>\n",
       "<tr>\n",
       "<td style=\" padding:0.2cm; text-align:left; vertical-align:top; text-align:left; \">(Intercept)</td>\n",
       "<td style=\" padding:0.2cm; text-align:left; vertical-align:top; text-align:center;  \">53.80</td>\n",
       "<td style=\" padding:0.2cm; text-align:left; vertical-align:top; text-align:center;  \">50.92&nbsp;&ndash;&nbsp;56.68</td>\n",
       "<td style=\" padding:0.2cm; text-align:left; vertical-align:top; text-align:center;  \"><strong>&lt;0.001</strong></td>\n",
       "</tr>\n",
       "<tr>\n",
       "<td style=\" padding:0.2cm; text-align:left; vertical-align:top; text-align:left; \">time c</td>\n",
       "<td style=\" padding:0.2cm; text-align:left; vertical-align:top; text-align:center;  \">&#45;3.35</td>\n",
       "<td style=\" padding:0.2cm; text-align:left; vertical-align:top; text-align:center;  \">&#45;4.93&nbsp;&ndash;&nbsp;-1.77</td>\n",
       "<td style=\" padding:0.2cm; text-align:left; vertical-align:top; text-align:center;  \"><strong>&lt;0.001</strong></td>\n",
       "</tr>\n",
       "<tr>\n",
       "<td style=\" padding:0.2cm; text-align:left; vertical-align:top; text-align:left; \">arm cfam and achess vs C</td>\n",
       "<td style=\" padding:0.2cm; text-align:left; vertical-align:top; text-align:center;  \">&#45;7.11</td>\n",
       "<td style=\" padding:0.2cm; text-align:left; vertical-align:top; text-align:center;  \">&#45;12.70&nbsp;&ndash;&nbsp;-1.52</td>\n",
       "<td style=\" padding:0.2cm; text-align:left; vertical-align:top; text-align:center;  \"><strong>0.013</strong></td>\n",
       "</tr>\n",
       "<tr>\n",
       "<td style=\" padding:0.2cm; text-align:left; vertical-align:top; text-align:left; \">arm cachess vs fam</td>\n",
       "<td style=\" padding:0.2cm; text-align:left; vertical-align:top; text-align:center;  \">0.25</td>\n",
       "<td style=\" padding:0.2cm; text-align:left; vertical-align:top; text-align:center;  \">&#45;6.11&nbsp;&ndash;&nbsp;6.61</td>\n",
       "<td style=\" padding:0.2cm; text-align:left; vertical-align:top; text-align:center;  \">0.939</td>\n",
       "</tr>\n",
       "<tr>\n",
       "<td style=\" padding:0.2cm; text-align:left; vertical-align:top; text-align:left; \">oq45 0</td>\n",
       "<td style=\" padding:0.2cm; text-align:left; vertical-align:top; text-align:center;  \">0.69</td>\n",
       "<td style=\" padding:0.2cm; text-align:left; vertical-align:top; text-align:center;  \">0.58&nbsp;&ndash;&nbsp;0.79</td>\n",
       "<td style=\" padding:0.2cm; text-align:left; vertical-align:top; text-align:center;  \"><strong>&lt;0.001</strong></td>\n",
       "</tr>\n",
       "<tr>\n",
       "<td style=\" padding:0.2cm; text-align:left; vertical-align:top; text-align:left; \">mat yn</td>\n",
       "<td style=\" padding:0.2cm; text-align:left; vertical-align:top; text-align:center;  \">6.86</td>\n",
       "<td style=\" padding:0.2cm; text-align:left; vertical-align:top; text-align:center;  \">2.05&nbsp;&ndash;&nbsp;11.68</td>\n",
       "<td style=\" padding:0.2cm; text-align:left; vertical-align:top; text-align:center;  \"><strong>0.005</strong></td>\n",
       "</tr>\n",
       "<tr>\n",
       "<td style=\" padding:0.2cm; text-align:left; vertical-align:top; text-align:left; \">time c × arm cfam and<br>achess vs C</td>\n",
       "<td style=\" padding:0.2cm; text-align:left; vertical-align:top; text-align:center;  \">&#45;0.24</td>\n",
       "<td style=\" padding:0.2cm; text-align:left; vertical-align:top; text-align:center;  \">&#45;3.56&nbsp;&ndash;&nbsp;3.08</td>\n",
       "<td style=\" padding:0.2cm; text-align:left; vertical-align:top; text-align:center;  \">0.887</td>\n",
       "</tr>\n",
       "<tr>\n",
       "<td style=\" padding:0.2cm; text-align:left; vertical-align:top; text-align:left; \">time c × arm cachess vs<br>fam</td>\n",
       "<td style=\" padding:0.2cm; text-align:left; vertical-align:top; text-align:center;  \">&#45;1.07</td>\n",
       "<td style=\" padding:0.2cm; text-align:left; vertical-align:top; text-align:center;  \">&#45;4.97&nbsp;&ndash;&nbsp;2.83</td>\n",
       "<td style=\" padding:0.2cm; text-align:left; vertical-align:top; text-align:center;  \">0.590</td>\n",
       "</tr>\n",
       "\n",
       "<tr>\n",
       "<td style=\" padding:0.2cm; text-align:left; vertical-align:top; text-align:left; padding-top:0.1cm; padding-bottom:0.1cm;\">N <sub>study_id</sub></td>\n",
       "<td style=\" padding:0.2cm; text-align:left; vertical-align:top; padding-top:0.1cm; padding-bottom:0.1cm; text-align:left;\" colspan=\"3\">167</td>\n",
       "<tr>\n",
       "<td style=\" padding:0.2cm; text-align:left; vertical-align:top; text-align:left; padding-top:0.1cm; padding-bottom:0.1cm; border-top:1px solid;\">Observations</td>\n",
       "<td style=\" padding:0.2cm; text-align:left; vertical-align:top; padding-top:0.1cm; padding-bottom:0.1cm; text-align:left; border-top:1px solid;\" colspan=\"3\">432</td>\n",
       "</tr>\n",
       "<tr>\n",
       "<td style=\" padding:0.2cm; text-align:left; vertical-align:top; text-align:left; padding-top:0.1cm; padding-bottom:0.1cm;\">Marginal R<sup>2</sup> / Conditional R<sup>2</sup></td>\n",
       "<td style=\" padding:0.2cm; text-align:left; vertical-align:top; padding-top:0.1cm; padding-bottom:0.1cm; text-align:left;\" colspan=\"3\">0.445 / 0.808</td>\n",
       "</tr>\n",
       "\n",
       "</table>\n"
      ]
     }
    }
   ],
   "source": [
    "lmer(oq45_scored ~ time_c*arm_c + oq45_0 + edu_c + outpatient_yn_ever + \n",
    "       other_psych_treatment_yn + other_medications_yn + \n",
    "       (1 + time_c | study_id), data = subset(data, dyad == 1)) |> \n",
    "  sjPlot::tab_model(show.re.var = F, show.icc = F)"
   ],
   "id": "3c7cac38-3234-4bb8-b416-5842a605f20c"
  },
  {
   "cell_type": "markdown",
   "metadata": {},
   "source": [
    "#### Secondary Patient Outcome: `per_days_abstinent`\n",
    "\n",
    "Distribution of residuals  \n",
    "*Looks fine*"
   ],
   "id": "e5bd5c40-bb7d-45b5-837c-d220c870c346"
  },
  {
   "cell_type": "code",
   "execution_count": null,
   "metadata": {},
   "outputs": [
    {
     "output_type": "display_data",
     "metadata": {},
     "data": {
      "image/png": "[encoded data removed]"
     }
    }
   ],
   "source": [
    "model_patient_sec <- lmer(per_days_abstinent ~ time_c*arm_c + pda_0 + \n",
    "                             (1 + time_c | study_id), data = subset(data, dyad == 2))\n",
    "\n",
    "tibble(error = residuals(model_patient_sec)) |> \n",
    "  ggplot(aes(x = error)) +\n",
    "  geom_histogram(color = \"black\", fill = \"light grey\", bins = 30)"
   ],
   "id": "6b1efcf4-1f9c-4345-a6af-089cfec64659"
  },
  {
   "cell_type": "markdown",
   "metadata": {},
   "source": [
    "##### Look for significant covariates\n",
    "\n",
    "`race_white_only` - not significant"
   ],
   "id": "8f2114f4-29ae-48cd-b7fd-2750123daf4e"
  },
  {
   "cell_type": "code",
   "execution_count": null,
   "metadata": {},
   "outputs": [
    {
     "output_type": "display_data",
     "metadata": {},
     "data": {
      "text/html": [
       "<table style=\"border-collapse:collapse; border:none;\">\n",
       "<tr>\n",
       "<th style=\"border-top: double; text-align:center; font-style:normal; font-weight:bold; padding:0.2cm;  text-align:left; \">&nbsp;</th>\n",
       "<th colspan=\"3\" style=\"border-top: double; text-align:center; font-style:normal; font-weight:bold; padding:0.2cm; \">per days abstinent</th>\n",
       "</tr>\n",
       "<tr>\n",
       "<td style=\" text-align:center; border-bottom:1px solid; font-style:italic; font-weight:normal;  text-align:left; \">Predictors</td>\n",
       "<td style=\" text-align:center; border-bottom:1px solid; font-style:italic; font-weight:normal;  \">Estimates</td>\n",
       "<td style=\" text-align:center; border-bottom:1px solid; font-style:italic; font-weight:normal;  \">CI</td>\n",
       "<td style=\" text-align:center; border-bottom:1px solid; font-style:italic; font-weight:normal;  \">p</td>\n",
       "</tr>\n",
       "<tr>\n",
       "<td style=\" padding:0.2cm; text-align:left; vertical-align:top; text-align:left; \">race white only</td>\n",
       "<td style=\" padding:0.2cm; text-align:left; vertical-align:top; text-align:center;  \">5.79</td>\n",
       "<td style=\" padding:0.2cm; text-align:left; vertical-align:top; text-align:center;  \">&#45;3.72&nbsp;&ndash;&nbsp;15.30</td>\n",
       "<td style=\" padding:0.2cm; text-align:left; vertical-align:top; text-align:center;  \">0.232</td>\n",
       "</tr>\n",
       "\n",
       "<tr>\n",
       "<td style=\" padding:0.2cm; text-align:left; vertical-align:top; text-align:left; padding-top:0.1cm; padding-bottom:0.1cm;\">N <sub>study_id</sub></td>\n",
       "<td style=\" padding:0.2cm; text-align:left; vertical-align:top; padding-top:0.1cm; padding-bottom:0.1cm; text-align:left;\" colspan=\"3\">157</td>\n",
       "<tr>\n",
       "<td style=\" padding:0.2cm; text-align:left; vertical-align:top; text-align:left; padding-top:0.1cm; padding-bottom:0.1cm; border-top:1px solid;\">Observations</td>\n",
       "<td style=\" padding:0.2cm; text-align:left; vertical-align:top; padding-top:0.1cm; padding-bottom:0.1cm; text-align:left; border-top:1px solid;\" colspan=\"3\">427</td>\n",
       "</tr>\n",
       "<tr>\n",
       "<td style=\" padding:0.2cm; text-align:left; vertical-align:top; text-align:left; padding-top:0.1cm; padding-bottom:0.1cm;\">Marginal R<sup>2</sup> / Conditional R<sup>2</sup></td>\n",
       "<td style=\" padding:0.2cm; text-align:left; vertical-align:top; padding-top:0.1cm; padding-bottom:0.1cm; text-align:left;\" colspan=\"3\">0.367 / 0.845</td>\n",
       "</tr>\n",
       "\n",
       "</table>\n"
      ]
     }
    }
   ],
   "source": [
    "lmer(per_days_abstinent ~ time_c*arm_c + pda_0 + race_white_only + \n",
    "       (1 + time_c | study_id), data = subset(data, dyad == 2)) |> \n",
    "  sjPlot::tab_model(show.re.var = F, show.icc = F, terms = c(\"race_white_only\"))"
   ],
   "id": "ce582d27-f5f6-4d19-bf0a-05ef55ccb9fb"
  },
  {
   "cell_type": "markdown",
   "metadata": {},
   "source": [
    "`age_c` - not significant"
   ],
   "id": "b606b98c-157c-48ea-b11e-507e7f35f589"
  },
  {
   "cell_type": "code",
   "execution_count": null,
   "metadata": {},
   "outputs": [
    {
     "output_type": "display_data",
     "metadata": {},
     "data": {
      "text/html": [
       "<table style=\"border-collapse:collapse; border:none;\">\n",
       "<tr>\n",
       "<th style=\"border-top: double; text-align:center; font-style:normal; font-weight:bold; padding:0.2cm;  text-align:left; \">&nbsp;</th>\n",
       "<th colspan=\"3\" style=\"border-top: double; text-align:center; font-style:normal; font-weight:bold; padding:0.2cm; \">per days abstinent</th>\n",
       "</tr>\n",
       "<tr>\n",
       "<td style=\" text-align:center; border-bottom:1px solid; font-style:italic; font-weight:normal;  text-align:left; \">Predictors</td>\n",
       "<td style=\" text-align:center; border-bottom:1px solid; font-style:italic; font-weight:normal;  \">Estimates</td>\n",
       "<td style=\" text-align:center; border-bottom:1px solid; font-style:italic; font-weight:normal;  \">CI</td>\n",
       "<td style=\" text-align:center; border-bottom:1px solid; font-style:italic; font-weight:normal;  \">p</td>\n",
       "</tr>\n",
       "<tr>\n",
       "<td style=\" padding:0.2cm; text-align:left; vertical-align:top; text-align:left; \">age c</td>\n",
       "<td style=\" padding:0.2cm; text-align:left; vertical-align:top; text-align:center;  \">&#45;0.25</td>\n",
       "<td style=\" padding:0.2cm; text-align:left; vertical-align:top; text-align:center;  \">&#45;0.59&nbsp;&ndash;&nbsp;0.08</td>\n",
       "<td style=\" padding:0.2cm; text-align:left; vertical-align:top; text-align:center;  \">0.133</td>\n",
       "</tr>\n",
       "\n",
       "<tr>\n",
       "<td style=\" padding:0.2cm; text-align:left; vertical-align:top; text-align:left; padding-top:0.1cm; padding-bottom:0.1cm;\">N <sub>study_id</sub></td>\n",
       "<td style=\" padding:0.2cm; text-align:left; vertical-align:top; padding-top:0.1cm; padding-bottom:0.1cm; text-align:left;\" colspan=\"3\">156</td>\n",
       "<tr>\n",
       "<td style=\" padding:0.2cm; text-align:left; vertical-align:top; text-align:left; padding-top:0.1cm; padding-bottom:0.1cm; border-top:1px solid;\">Observations</td>\n",
       "<td style=\" padding:0.2cm; text-align:left; vertical-align:top; padding-top:0.1cm; padding-bottom:0.1cm; text-align:left; border-top:1px solid;\" colspan=\"3\">424</td>\n",
       "</tr>\n",
       "<tr>\n",
       "<td style=\" padding:0.2cm; text-align:left; vertical-align:top; text-align:left; padding-top:0.1cm; padding-bottom:0.1cm;\">Marginal R<sup>2</sup> / Conditional R<sup>2</sup></td>\n",
       "<td style=\" padding:0.2cm; text-align:left; vertical-align:top; padding-top:0.1cm; padding-bottom:0.1cm; text-align:left;\" colspan=\"3\">0.368 / 0.842</td>\n",
       "</tr>\n",
       "\n",
       "</table>\n"
      ]
     }
    }
   ],
   "source": [
    "lmer(per_days_abstinent ~ time_c*arm_c + pda_0 + age_c + \n",
    "       (1 + time_c | study_id), data = subset(data, dyad == 2)) |> \n",
    "  sjPlot::tab_model(show.re.var = F, show.icc = F, terms = c(\"age_c\"))"
   ],
   "id": "ae05da95-28e6-4ac3-8808-1e4f13af7414"
  },
  {
   "cell_type": "markdown",
   "metadata": {},
   "source": [
    "`edu_c` - not significant"
   ],
   "id": "f4472033-5eb2-4c3d-910d-dd6a876f2c4f"
  },
  {
   "cell_type": "code",
   "execution_count": null,
   "metadata": {},
   "outputs": [
    {
     "output_type": "display_data",
     "metadata": {},
     "data": {
      "text/html": [
       "<table style=\"border-collapse:collapse; border:none;\">\n",
       "<tr>\n",
       "<th style=\"border-top: double; text-align:center; font-style:normal; font-weight:bold; padding:0.2cm;  text-align:left; \">&nbsp;</th>\n",
       "<th colspan=\"3\" style=\"border-top: double; text-align:center; font-style:normal; font-weight:bold; padding:0.2cm; \">per days abstinent</th>\n",
       "</tr>\n",
       "<tr>\n",
       "<td style=\" text-align:center; border-bottom:1px solid; font-style:italic; font-weight:normal;  text-align:left; \">Predictors</td>\n",
       "<td style=\" text-align:center; border-bottom:1px solid; font-style:italic; font-weight:normal;  \">Estimates</td>\n",
       "<td style=\" text-align:center; border-bottom:1px solid; font-style:italic; font-weight:normal;  \">CI</td>\n",
       "<td style=\" text-align:center; border-bottom:1px solid; font-style:italic; font-weight:normal;  \">p</td>\n",
       "</tr>\n",
       "<tr>\n",
       "<td style=\" padding:0.2cm; text-align:left; vertical-align:top; text-align:left; \">edu c</td>\n",
       "<td style=\" padding:0.2cm; text-align:left; vertical-align:top; text-align:center;  \">&#45;0.56</td>\n",
       "<td style=\" padding:0.2cm; text-align:left; vertical-align:top; text-align:center;  \">&#45;4.40&nbsp;&ndash;&nbsp;3.27</td>\n",
       "<td style=\" padding:0.2cm; text-align:left; vertical-align:top; text-align:center;  \">0.773</td>\n",
       "</tr>\n",
       "\n",
       "<tr>\n",
       "<td style=\" padding:0.2cm; text-align:left; vertical-align:top; text-align:left; padding-top:0.1cm; padding-bottom:0.1cm;\">N <sub>study_id</sub></td>\n",
       "<td style=\" padding:0.2cm; text-align:left; vertical-align:top; padding-top:0.1cm; padding-bottom:0.1cm; text-align:left;\" colspan=\"3\">157</td>\n",
       "<tr>\n",
       "<td style=\" padding:0.2cm; text-align:left; vertical-align:top; text-align:left; padding-top:0.1cm; padding-bottom:0.1cm; border-top:1px solid;\">Observations</td>\n",
       "<td style=\" padding:0.2cm; text-align:left; vertical-align:top; padding-top:0.1cm; padding-bottom:0.1cm; text-align:left; border-top:1px solid;\" colspan=\"3\">427</td>\n",
       "</tr>\n",
       "<tr>\n",
       "<td style=\" padding:0.2cm; text-align:left; vertical-align:top; text-align:left; padding-top:0.1cm; padding-bottom:0.1cm;\">Marginal R<sup>2</sup> / Conditional R<sup>2</sup></td>\n",
       "<td style=\" padding:0.2cm; text-align:left; vertical-align:top; padding-top:0.1cm; padding-bottom:0.1cm; text-align:left;\" colspan=\"3\">0.362 / 0.844</td>\n",
       "</tr>\n",
       "\n",
       "</table>\n"
      ]
     }
    }
   ],
   "source": [
    "lmer(per_days_abstinent ~ time_c*arm_c + pda_0 + edu_c + \n",
    "       (1 + time_c | study_id), data = subset(data, dyad == 2)) |> \n",
    "  sjPlot::tab_model(show.re.var = F, show.icc = F, terms = c(\"edu_c\"))"
   ],
   "id": "2cd049a5-25bb-457b-8a1c-56b6b5bb9aca"
  },
  {
   "cell_type": "markdown",
   "metadata": {},
   "source": [
    "`meetings_yn` - **significant**"
   ],
   "id": "ca77cfc4-f126-4888-8ca7-63384f3da64e"
  },
  {
   "cell_type": "code",
   "execution_count": null,
   "metadata": {},
   "outputs": [
    {
     "output_type": "display_data",
     "metadata": {},
     "data": {
      "text/html": [
       "<table style=\"border-collapse:collapse; border:none;\">\n",
       "<tr>\n",
       "<th style=\"border-top: double; text-align:center; font-style:normal; font-weight:bold; padding:0.2cm;  text-align:left; \">&nbsp;</th>\n",
       "<th colspan=\"3\" style=\"border-top: double; text-align:center; font-style:normal; font-weight:bold; padding:0.2cm; \">per days abstinent</th>\n",
       "</tr>\n",
       "<tr>\n",
       "<td style=\" text-align:center; border-bottom:1px solid; font-style:italic; font-weight:normal;  text-align:left; \">Predictors</td>\n",
       "<td style=\" text-align:center; border-bottom:1px solid; font-style:italic; font-weight:normal;  \">Estimates</td>\n",
       "<td style=\" text-align:center; border-bottom:1px solid; font-style:italic; font-weight:normal;  \">CI</td>\n",
       "<td style=\" text-align:center; border-bottom:1px solid; font-style:italic; font-weight:normal;  \">p</td>\n",
       "</tr>\n",
       "<tr>\n",
       "<td style=\" padding:0.2cm; text-align:left; vertical-align:top; text-align:left; \">meetings yn</td>\n",
       "<td style=\" padding:0.2cm; text-align:left; vertical-align:top; text-align:center;  \">9.85</td>\n",
       "<td style=\" padding:0.2cm; text-align:left; vertical-align:top; text-align:center;  \">3.10&nbsp;&ndash;&nbsp;16.59</td>\n",
       "<td style=\" padding:0.2cm; text-align:left; vertical-align:top; text-align:center;  \"><strong>0.004</strong></td>\n",
       "</tr>\n",
       "\n",
       "<tr>\n",
       "<td style=\" padding:0.2cm; text-align:left; vertical-align:top; text-align:left; padding-top:0.1cm; padding-bottom:0.1cm;\">N <sub>study_id</sub></td>\n",
       "<td style=\" padding:0.2cm; text-align:left; vertical-align:top; padding-top:0.1cm; padding-bottom:0.1cm; text-align:left;\" colspan=\"3\">158</td>\n",
       "<tr>\n",
       "<td style=\" padding:0.2cm; text-align:left; vertical-align:top; text-align:left; padding-top:0.1cm; padding-bottom:0.1cm; border-top:1px solid;\">Observations</td>\n",
       "<td style=\" padding:0.2cm; text-align:left; vertical-align:top; padding-top:0.1cm; padding-bottom:0.1cm; text-align:left; border-top:1px solid;\" colspan=\"3\">413</td>\n",
       "</tr>\n",
       "<tr>\n",
       "<td style=\" padding:0.2cm; text-align:left; vertical-align:top; text-align:left; padding-top:0.1cm; padding-bottom:0.1cm;\">Marginal R<sup>2</sup> / Conditional R<sup>2</sup></td>\n",
       "<td style=\" padding:0.2cm; text-align:left; vertical-align:top; padding-top:0.1cm; padding-bottom:0.1cm; text-align:left;\" colspan=\"3\">0.358 / 0.847</td>\n",
       "</tr>\n",
       "\n",
       "</table>\n"
      ]
     }
    }
   ],
   "source": [
    "lmer(per_days_abstinent ~ time_c*arm_c + pda_0 + meetings_yn + \n",
    "       (1 + time_c | study_id), data = subset(data, dyad == 2)) |> \n",
    "  sjPlot::tab_model(show.re.var = F, show.icc = F, terms = c(\"meetings_yn\"))"
   ],
   "id": "4c644eef-f9c0-48eb-8b6a-c75776befd1d"
  },
  {
   "cell_type": "markdown",
   "metadata": {},
   "source": [
    "`outpatient_yn_ever` - **significant**"
   ],
   "id": "e391e8bc-d35f-4d6a-aebf-4dce1a354a57"
  },
  {
   "cell_type": "code",
   "execution_count": null,
   "metadata": {},
   "outputs": [
    {
     "output_type": "display_data",
     "metadata": {},
     "data": {
      "text/html": [
       "<table style=\"border-collapse:collapse; border:none;\">\n",
       "<tr>\n",
       "<th style=\"border-top: double; text-align:center; font-style:normal; font-weight:bold; padding:0.2cm;  text-align:left; \">&nbsp;</th>\n",
       "<th colspan=\"3\" style=\"border-top: double; text-align:center; font-style:normal; font-weight:bold; padding:0.2cm; \">per days abstinent</th>\n",
       "</tr>\n",
       "<tr>\n",
       "<td style=\" text-align:center; border-bottom:1px solid; font-style:italic; font-weight:normal;  text-align:left; \">Predictors</td>\n",
       "<td style=\" text-align:center; border-bottom:1px solid; font-style:italic; font-weight:normal;  \">Estimates</td>\n",
       "<td style=\" text-align:center; border-bottom:1px solid; font-style:italic; font-weight:normal;  \">CI</td>\n",
       "<td style=\" text-align:center; border-bottom:1px solid; font-style:italic; font-weight:normal;  \">p</td>\n",
       "</tr>\n",
       "<tr>\n",
       "<td style=\" padding:0.2cm; text-align:left; vertical-align:top; text-align:left; \">outpatient yn ever</td>\n",
       "<td style=\" padding:0.2cm; text-align:left; vertical-align:top; text-align:center;  \">9.97</td>\n",
       "<td style=\" padding:0.2cm; text-align:left; vertical-align:top; text-align:center;  \">0.86&nbsp;&ndash;&nbsp;19.08</td>\n",
       "<td style=\" padding:0.2cm; text-align:left; vertical-align:top; text-align:center;  \"><strong>0.032</strong></td>\n",
       "</tr>\n",
       "\n",
       "<tr>\n",
       "<td style=\" padding:0.2cm; text-align:left; vertical-align:top; text-align:left; padding-top:0.1cm; padding-bottom:0.1cm;\">N <sub>study_id</sub></td>\n",
       "<td style=\" padding:0.2cm; text-align:left; vertical-align:top; padding-top:0.1cm; padding-bottom:0.1cm; text-align:left;\" colspan=\"3\">158</td>\n",
       "<tr>\n",
       "<td style=\" padding:0.2cm; text-align:left; vertical-align:top; text-align:left; padding-top:0.1cm; padding-bottom:0.1cm; border-top:1px solid;\">Observations</td>\n",
       "<td style=\" padding:0.2cm; text-align:left; vertical-align:top; padding-top:0.1cm; padding-bottom:0.1cm; text-align:left; border-top:1px solid;\" colspan=\"3\">430</td>\n",
       "</tr>\n",
       "<tr>\n",
       "<td style=\" padding:0.2cm; text-align:left; vertical-align:top; text-align:left; padding-top:0.1cm; padding-bottom:0.1cm;\">Marginal R<sup>2</sup> / Conditional R<sup>2</sup></td>\n",
       "<td style=\" padding:0.2cm; text-align:left; vertical-align:top; padding-top:0.1cm; padding-bottom:0.1cm; text-align:left;\" colspan=\"3\">0.364 / 0.844</td>\n",
       "</tr>\n",
       "\n",
       "</table>\n"
      ]
     }
    }
   ],
   "source": [
    "lmer(per_days_abstinent ~ time_c*arm_c + pda_0 + outpatient_yn_ever + \n",
    "       (1 + time_c | study_id), data = subset(data, dyad == 2)) |> \n",
    "  sjPlot::tab_model(show.re.var = F, show.icc = F, terms = c(\"outpatient_yn_ever\"))"
   ],
   "id": "0d703c60-81ec-4ea9-87be-0d48f36f5d1b"
  },
  {
   "cell_type": "markdown",
   "metadata": {},
   "source": [
    "`er_yn_ever` - Not significant"
   ],
   "id": "f4da7f42-71d0-4891-9212-3fcc5248a24d"
  },
  {
   "cell_type": "code",
   "execution_count": null,
   "metadata": {},
   "outputs": [
    {
     "output_type": "display_data",
     "metadata": {},
     "data": {
      "text/html": [
       "<table style=\"border-collapse:collapse; border:none;\">\n",
       "<tr>\n",
       "<th style=\"border-top: double; text-align:center; font-style:normal; font-weight:bold; padding:0.2cm;  text-align:left; \">&nbsp;</th>\n",
       "<th colspan=\"3\" style=\"border-top: double; text-align:center; font-style:normal; font-weight:bold; padding:0.2cm; \">per days abstinent</th>\n",
       "</tr>\n",
       "<tr>\n",
       "<td style=\" text-align:center; border-bottom:1px solid; font-style:italic; font-weight:normal;  text-align:left; \">Predictors</td>\n",
       "<td style=\" text-align:center; border-bottom:1px solid; font-style:italic; font-weight:normal;  \">Estimates</td>\n",
       "<td style=\" text-align:center; border-bottom:1px solid; font-style:italic; font-weight:normal;  \">CI</td>\n",
       "<td style=\" text-align:center; border-bottom:1px solid; font-style:italic; font-weight:normal;  \">p</td>\n",
       "</tr>\n",
       "<tr>\n",
       "<td style=\" padding:0.2cm; text-align:left; vertical-align:top; text-align:left; \">er yn ever</td>\n",
       "<td style=\" padding:0.2cm; text-align:left; vertical-align:top; text-align:center;  \">8.07</td>\n",
       "<td style=\" padding:0.2cm; text-align:left; vertical-align:top; text-align:center;  \">&#45;1.33&nbsp;&ndash;&nbsp;17.46</td>\n",
       "<td style=\" padding:0.2cm; text-align:left; vertical-align:top; text-align:center;  \">0.092</td>\n",
       "</tr>\n",
       "\n",
       "<tr>\n",
       "<td style=\" padding:0.2cm; text-align:left; vertical-align:top; text-align:left; padding-top:0.1cm; padding-bottom:0.1cm;\">N <sub>study_id</sub></td>\n",
       "<td style=\" padding:0.2cm; text-align:left; vertical-align:top; padding-top:0.1cm; padding-bottom:0.1cm; text-align:left;\" colspan=\"3\">158</td>\n",
       "<tr>\n",
       "<td style=\" padding:0.2cm; text-align:left; vertical-align:top; text-align:left; padding-top:0.1cm; padding-bottom:0.1cm; border-top:1px solid;\">Observations</td>\n",
       "<td style=\" padding:0.2cm; text-align:left; vertical-align:top; padding-top:0.1cm; padding-bottom:0.1cm; text-align:left; border-top:1px solid;\" colspan=\"3\">430</td>\n",
       "</tr>\n",
       "<tr>\n",
       "<td style=\" padding:0.2cm; text-align:left; vertical-align:top; text-align:left; padding-top:0.1cm; padding-bottom:0.1cm;\">Marginal R<sup>2</sup> / Conditional R<sup>2</sup></td>\n",
       "<td style=\" padding:0.2cm; text-align:left; vertical-align:top; padding-top:0.1cm; padding-bottom:0.1cm; text-align:left;\" colspan=\"3\">0.355 / 0.843</td>\n",
       "</tr>\n",
       "\n",
       "</table>\n"
      ]
     }
    }
   ],
   "source": [
    "lmer(per_days_abstinent ~ time_c*arm_c + pda_0 + er_yn_ever + \n",
    "       (1 + time_c | study_id), data = subset(data, dyad == 2)) |> \n",
    "  sjPlot::tab_model(show.re.var = F, show.icc = F, terms = c(\"er_yn_ever\"))"
   ],
   "id": "54d0b37c-f7a3-47d4-97dd-539e9edbdd7d"
  },
  {
   "cell_type": "markdown",
   "metadata": {},
   "source": [
    "`mat_yn` - not significant"
   ],
   "id": "50f2d1ef-8bb7-4480-8126-01ec421f3c1f"
  },
  {
   "cell_type": "code",
   "execution_count": null,
   "metadata": {},
   "outputs": [
    {
     "output_type": "display_data",
     "metadata": {},
     "data": {
      "text/html": [
       "<table style=\"border-collapse:collapse; border:none;\">\n",
       "<tr>\n",
       "<th style=\"border-top: double; text-align:center; font-style:normal; font-weight:bold; padding:0.2cm;  text-align:left; \">&nbsp;</th>\n",
       "<th colspan=\"3\" style=\"border-top: double; text-align:center; font-style:normal; font-weight:bold; padding:0.2cm; \">per days abstinent</th>\n",
       "</tr>\n",
       "<tr>\n",
       "<td style=\" text-align:center; border-bottom:1px solid; font-style:italic; font-weight:normal;  text-align:left; \">Predictors</td>\n",
       "<td style=\" text-align:center; border-bottom:1px solid; font-style:italic; font-weight:normal;  \">Estimates</td>\n",
       "<td style=\" text-align:center; border-bottom:1px solid; font-style:italic; font-weight:normal;  \">CI</td>\n",
       "<td style=\" text-align:center; border-bottom:1px solid; font-style:italic; font-weight:normal;  \">p</td>\n",
       "</tr>\n",
       "<tr>\n",
       "<td style=\" padding:0.2cm; text-align:left; vertical-align:top; text-align:left; \">mat yn</td>\n",
       "<td style=\" padding:0.2cm; text-align:left; vertical-align:top; text-align:center;  \">&#45;4.04</td>\n",
       "<td style=\" padding:0.2cm; text-align:left; vertical-align:top; text-align:center;  \">&#45;11.86&nbsp;&ndash;&nbsp;3.79</td>\n",
       "<td style=\" padding:0.2cm; text-align:left; vertical-align:top; text-align:center;  \">0.311</td>\n",
       "</tr>\n",
       "\n",
       "<tr>\n",
       "<td style=\" padding:0.2cm; text-align:left; vertical-align:top; text-align:left; padding-top:0.1cm; padding-bottom:0.1cm;\">N <sub>study_id</sub></td>\n",
       "<td style=\" padding:0.2cm; text-align:left; vertical-align:top; padding-top:0.1cm; padding-bottom:0.1cm; text-align:left;\" colspan=\"3\">158</td>\n",
       "<tr>\n",
       "<td style=\" padding:0.2cm; text-align:left; vertical-align:top; text-align:left; padding-top:0.1cm; padding-bottom:0.1cm; border-top:1px solid;\">Observations</td>\n",
       "<td style=\" padding:0.2cm; text-align:left; vertical-align:top; padding-top:0.1cm; padding-bottom:0.1cm; text-align:left; border-top:1px solid;\" colspan=\"3\">410</td>\n",
       "</tr>\n",
       "<tr>\n",
       "<td style=\" padding:0.2cm; text-align:left; vertical-align:top; text-align:left; padding-top:0.1cm; padding-bottom:0.1cm;\">Marginal R<sup>2</sup> / Conditional R<sup>2</sup></td>\n",
       "<td style=\" padding:0.2cm; text-align:left; vertical-align:top; padding-top:0.1cm; padding-bottom:0.1cm; text-align:left;\" colspan=\"3\">0.342 / 0.838</td>\n",
       "</tr>\n",
       "\n",
       "</table>\n"
      ]
     }
    }
   ],
   "source": [
    "lmer(per_days_abstinent ~ time_c*arm_c + pda_0 + mat_yn + \n",
    "       (1 + time_c | study_id), data = subset(data, dyad == 2)) |>  \n",
    "  sjPlot::tab_model(show.re.var = F, show.icc = F, terms = c(\"mat_yn\"))"
   ],
   "id": "484d5634-5902-4912-977c-cb38581ba040"
  },
  {
   "cell_type": "markdown",
   "metadata": {},
   "source": [
    "`inpatient_yn_ever` - **significant**"
   ],
   "id": "c9186ded-6306-41b5-ba24-d76f7dc88468"
  },
  {
   "cell_type": "code",
   "execution_count": null,
   "metadata": {},
   "outputs": [
    {
     "output_type": "display_data",
     "metadata": {},
     "data": {
      "text/html": [
       "<table style=\"border-collapse:collapse; border:none;\">\n",
       "<tr>\n",
       "<th style=\"border-top: double; text-align:center; font-style:normal; font-weight:bold; padding:0.2cm;  text-align:left; \">&nbsp;</th>\n",
       "<th colspan=\"3\" style=\"border-top: double; text-align:center; font-style:normal; font-weight:bold; padding:0.2cm; \">per days abstinent</th>\n",
       "</tr>\n",
       "<tr>\n",
       "<td style=\" text-align:center; border-bottom:1px solid; font-style:italic; font-weight:normal;  text-align:left; \">Predictors</td>\n",
       "<td style=\" text-align:center; border-bottom:1px solid; font-style:italic; font-weight:normal;  \">Estimates</td>\n",
       "<td style=\" text-align:center; border-bottom:1px solid; font-style:italic; font-weight:normal;  \">CI</td>\n",
       "<td style=\" text-align:center; border-bottom:1px solid; font-style:italic; font-weight:normal;  \">p</td>\n",
       "</tr>\n",
       "<tr>\n",
       "<td style=\" padding:0.2cm; text-align:left; vertical-align:top; text-align:left; \">inpatient yn ever</td>\n",
       "<td style=\" padding:0.2cm; text-align:left; vertical-align:top; text-align:center;  \">12.24</td>\n",
       "<td style=\" padding:0.2cm; text-align:left; vertical-align:top; text-align:center;  \">1.42&nbsp;&ndash;&nbsp;23.06</td>\n",
       "<td style=\" padding:0.2cm; text-align:left; vertical-align:top; text-align:center;  \"><strong>0.027</strong></td>\n",
       "</tr>\n",
       "\n",
       "<tr>\n",
       "<td style=\" padding:0.2cm; text-align:left; vertical-align:top; text-align:left; padding-top:0.1cm; padding-bottom:0.1cm;\">N <sub>study_id</sub></td>\n",
       "<td style=\" padding:0.2cm; text-align:left; vertical-align:top; padding-top:0.1cm; padding-bottom:0.1cm; text-align:left;\" colspan=\"3\">158</td>\n",
       "<tr>\n",
       "<td style=\" padding:0.2cm; text-align:left; vertical-align:top; text-align:left; padding-top:0.1cm; padding-bottom:0.1cm; border-top:1px solid;\">Observations</td>\n",
       "<td style=\" padding:0.2cm; text-align:left; vertical-align:top; padding-top:0.1cm; padding-bottom:0.1cm; text-align:left; border-top:1px solid;\" colspan=\"3\">430</td>\n",
       "</tr>\n",
       "<tr>\n",
       "<td style=\" padding:0.2cm; text-align:left; vertical-align:top; text-align:left; padding-top:0.1cm; padding-bottom:0.1cm;\">Marginal R<sup>2</sup> / Conditional R<sup>2</sup></td>\n",
       "<td style=\" padding:0.2cm; text-align:left; vertical-align:top; padding-top:0.1cm; padding-bottom:0.1cm; text-align:left;\" colspan=\"3\">0.363 / 0.844</td>\n",
       "</tr>\n",
       "\n",
       "</table>\n"
      ]
     }
    }
   ],
   "source": [
    "lmer(per_days_abstinent ~ time_c*arm_c + pda_0 + inpatient_yn_ever + \n",
    "       (1 + time_c | study_id), data = subset(data, dyad == 2)) |> \n",
    "  sjPlot::tab_model(show.re.var = F, show.icc = F, terms = c(\"inpatient_yn_ever\"))"
   ],
   "id": "91c2ab27-40bf-4ea4-9534-73c573773518"
  },
  {
   "cell_type": "markdown",
   "metadata": {},
   "source": [
    "`other_psych_treatment_yn` - not significant"
   ],
   "id": "cda74b10-c787-480a-ae30-ac8b8266adfb"
  },
  {
   "cell_type": "code",
   "execution_count": null,
   "metadata": {},
   "outputs": [
    {
     "output_type": "display_data",
     "metadata": {},
     "data": {
      "text/html": [
       "<table style=\"border-collapse:collapse; border:none;\">\n",
       "<tr>\n",
       "<th style=\"border-top: double; text-align:center; font-style:normal; font-weight:bold; padding:0.2cm;  text-align:left; \">&nbsp;</th>\n",
       "<th colspan=\"3\" style=\"border-top: double; text-align:center; font-style:normal; font-weight:bold; padding:0.2cm; \">per days abstinent</th>\n",
       "</tr>\n",
       "<tr>\n",
       "<td style=\" text-align:center; border-bottom:1px solid; font-style:italic; font-weight:normal;  text-align:left; \">Predictors</td>\n",
       "<td style=\" text-align:center; border-bottom:1px solid; font-style:italic; font-weight:normal;  \">Estimates</td>\n",
       "<td style=\" text-align:center; border-bottom:1px solid; font-style:italic; font-weight:normal;  \">CI</td>\n",
       "<td style=\" text-align:center; border-bottom:1px solid; font-style:italic; font-weight:normal;  \">p</td>\n",
       "</tr>\n",
       "<tr>\n",
       "<td style=\" padding:0.2cm; text-align:left; vertical-align:top; text-align:left; \">other psych treatment yn</td>\n",
       "<td style=\" padding:0.2cm; text-align:left; vertical-align:top; text-align:center;  \">2.47</td>\n",
       "<td style=\" padding:0.2cm; text-align:left; vertical-align:top; text-align:center;  \">&#45;3.83&nbsp;&ndash;&nbsp;8.78</td>\n",
       "<td style=\" padding:0.2cm; text-align:left; vertical-align:top; text-align:center;  \">0.441</td>\n",
       "</tr>\n",
       "\n",
       "<tr>\n",
       "<td style=\" padding:0.2cm; text-align:left; vertical-align:top; text-align:left; padding-top:0.1cm; padding-bottom:0.1cm;\">N <sub>study_id</sub></td>\n",
       "<td style=\" padding:0.2cm; text-align:left; vertical-align:top; padding-top:0.1cm; padding-bottom:0.1cm; text-align:left;\" colspan=\"3\">158</td>\n",
       "<tr>\n",
       "<td style=\" padding:0.2cm; text-align:left; vertical-align:top; text-align:left; padding-top:0.1cm; padding-bottom:0.1cm; border-top:1px solid;\">Observations</td>\n",
       "<td style=\" padding:0.2cm; text-align:left; vertical-align:top; padding-top:0.1cm; padding-bottom:0.1cm; text-align:left; border-top:1px solid;\" colspan=\"3\">413</td>\n",
       "</tr>\n",
       "<tr>\n",
       "<td style=\" padding:0.2cm; text-align:left; vertical-align:top; text-align:left; padding-top:0.1cm; padding-bottom:0.1cm;\">Marginal R<sup>2</sup> / Conditional R<sup>2</sup></td>\n",
       "<td style=\" padding:0.2cm; text-align:left; vertical-align:top; padding-top:0.1cm; padding-bottom:0.1cm; text-align:left;\" colspan=\"3\">0.346 / 0.840</td>\n",
       "</tr>\n",
       "\n",
       "</table>\n"
      ]
     }
    }
   ],
   "source": [
    "lmer(per_days_abstinent ~ time_c*arm_c + pda_0 + other_psych_treatment_yn + \n",
    "       (1 + time_c | study_id), data = subset(data, dyad == 2)) |> \n",
    "  sjPlot::tab_model(show.re.var = F, show.icc = F, terms = c(\"other_psych_treatment_yn\"))"
   ],
   "id": "647f71b0-ed2b-44cf-92a8-89ff43660115"
  },
  {
   "cell_type": "markdown",
   "metadata": {},
   "source": [
    "`other_medications_yn` - not significant"
   ],
   "id": "6fc83b80-d289-4942-a4cb-db635f64ecd7"
  },
  {
   "cell_type": "code",
   "execution_count": null,
   "metadata": {},
   "outputs": [
    {
     "output_type": "display_data",
     "metadata": {},
     "data": {
      "text/html": [
       "<table style=\"border-collapse:collapse; border:none;\">\n",
       "<tr>\n",
       "<th style=\"border-top: double; text-align:center; font-style:normal; font-weight:bold; padding:0.2cm;  text-align:left; \">&nbsp;</th>\n",
       "<th colspan=\"3\" style=\"border-top: double; text-align:center; font-style:normal; font-weight:bold; padding:0.2cm; \">per days abstinent</th>\n",
       "</tr>\n",
       "<tr>\n",
       "<td style=\" text-align:center; border-bottom:1px solid; font-style:italic; font-weight:normal;  text-align:left; \">Predictors</td>\n",
       "<td style=\" text-align:center; border-bottom:1px solid; font-style:italic; font-weight:normal;  \">Estimates</td>\n",
       "<td style=\" text-align:center; border-bottom:1px solid; font-style:italic; font-weight:normal;  \">CI</td>\n",
       "<td style=\" text-align:center; border-bottom:1px solid; font-style:italic; font-weight:normal;  \">p</td>\n",
       "</tr>\n",
       "<tr>\n",
       "<td style=\" padding:0.2cm; text-align:left; vertical-align:top; text-align:left; \">other medications yn</td>\n",
       "<td style=\" padding:0.2cm; text-align:left; vertical-align:top; text-align:center;  \">0.09</td>\n",
       "<td style=\" padding:0.2cm; text-align:left; vertical-align:top; text-align:center;  \">&#45;6.15&nbsp;&ndash;&nbsp;6.33</td>\n",
       "<td style=\" padding:0.2cm; text-align:left; vertical-align:top; text-align:center;  \">0.978</td>\n",
       "</tr>\n",
       "\n",
       "<tr>\n",
       "<td style=\" padding:0.2cm; text-align:left; vertical-align:top; text-align:left; padding-top:0.1cm; padding-bottom:0.1cm;\">N <sub>study_id</sub></td>\n",
       "<td style=\" padding:0.2cm; text-align:left; vertical-align:top; padding-top:0.1cm; padding-bottom:0.1cm; text-align:left;\" colspan=\"3\">158</td>\n",
       "<tr>\n",
       "<td style=\" padding:0.2cm; text-align:left; vertical-align:top; text-align:left; padding-top:0.1cm; padding-bottom:0.1cm; border-top:1px solid;\">Observations</td>\n",
       "<td style=\" padding:0.2cm; text-align:left; vertical-align:top; padding-top:0.1cm; padding-bottom:0.1cm; text-align:left; border-top:1px solid;\" colspan=\"3\">409</td>\n",
       "</tr>\n",
       "<tr>\n",
       "<td style=\" padding:0.2cm; text-align:left; vertical-align:top; text-align:left; padding-top:0.1cm; padding-bottom:0.1cm;\">Marginal R<sup>2</sup> / Conditional R<sup>2</sup></td>\n",
       "<td style=\" padding:0.2cm; text-align:left; vertical-align:top; padding-top:0.1cm; padding-bottom:0.1cm; text-align:left;\" colspan=\"3\">0.342 / 0.837</td>\n",
       "</tr>\n",
       "\n",
       "</table>\n"
      ]
     }
    }
   ],
   "source": [
    "lmer(per_days_abstinent ~ time_c*arm_c + pda_0 + other_medications_yn + \n",
    "       (1 + time_c | study_id), data = subset(data, dyad == 2)) |> \n",
    "  sjPlot::tab_model(show.re.var = F, show.icc = F, terms = c(\"other_medications_yn\"))"
   ],
   "id": "bac84894-3179-41fc-941c-bf2f0a01ef47"
  },
  {
   "cell_type": "markdown",
   "metadata": {},
   "source": [
    "##### Final Model with Significant Covariates"
   ],
   "id": "fe557ac1-4585-4412-8f6a-6cf9132e01e4"
  },
  {
   "cell_type": "code",
   "execution_count": null,
   "metadata": {},
   "outputs": [
    {
     "output_type": "display_data",
     "metadata": {},
     "data": {
      "text/html": [
       "<table style=\"border-collapse:collapse; border:none;\">\n",
       "<tr>\n",
       "<th style=\"border-top: double; text-align:center; font-style:normal; font-weight:bold; padding:0.2cm;  text-align:left; \">&nbsp;</th>\n",
       "<th colspan=\"3\" style=\"border-top: double; text-align:center; font-style:normal; font-weight:bold; padding:0.2cm; \">per days abstinent</th>\n",
       "</tr>\n",
       "<tr>\n",
       "<td style=\" text-align:center; border-bottom:1px solid; font-style:italic; font-weight:normal;  text-align:left; \">Predictors</td>\n",
       "<td style=\" text-align:center; border-bottom:1px solid; font-style:italic; font-weight:normal;  \">Estimates</td>\n",
       "<td style=\" text-align:center; border-bottom:1px solid; font-style:italic; font-weight:normal;  \">CI</td>\n",
       "<td style=\" text-align:center; border-bottom:1px solid; font-style:italic; font-weight:normal;  \">p</td>\n",
       "</tr>\n",
       "<tr>\n",
       "<td style=\" padding:0.2cm; text-align:left; vertical-align:top; text-align:left; \">(Intercept)</td>\n",
       "<td style=\" padding:0.2cm; text-align:left; vertical-align:top; text-align:center;  \">56.49</td>\n",
       "<td style=\" padding:0.2cm; text-align:left; vertical-align:top; text-align:center;  \">51.39&nbsp;&ndash;&nbsp;61.59</td>\n",
       "<td style=\" padding:0.2cm; text-align:left; vertical-align:top; text-align:center;  \"><strong>&lt;0.001</strong></td>\n",
       "</tr>\n",
       "<tr>\n",
       "<td style=\" padding:0.2cm; text-align:left; vertical-align:top; text-align:left; \">time c</td>\n",
       "<td style=\" padding:0.2cm; text-align:left; vertical-align:top; text-align:center;  \">5.93</td>\n",
       "<td style=\" padding:0.2cm; text-align:left; vertical-align:top; text-align:center;  \">3.46&nbsp;&ndash;&nbsp;8.39</td>\n",
       "<td style=\" padding:0.2cm; text-align:left; vertical-align:top; text-align:center;  \"><strong>&lt;0.001</strong></td>\n",
       "</tr>\n",
       "<tr>\n",
       "<td style=\" padding:0.2cm; text-align:left; vertical-align:top; text-align:left; \">arm cfam and achess vs C</td>\n",
       "<td style=\" padding:0.2cm; text-align:left; vertical-align:top; text-align:center;  \">1.41</td>\n",
       "<td style=\" padding:0.2cm; text-align:left; vertical-align:top; text-align:center;  \">&#45;7.44&nbsp;&ndash;&nbsp;10.26</td>\n",
       "<td style=\" padding:0.2cm; text-align:left; vertical-align:top; text-align:center;  \">0.755</td>\n",
       "</tr>\n",
       "<tr>\n",
       "<td style=\" padding:0.2cm; text-align:left; vertical-align:top; text-align:left; \">arm cachess vs fam</td>\n",
       "<td style=\" padding:0.2cm; text-align:left; vertical-align:top; text-align:center;  \">&#45;4.78</td>\n",
       "<td style=\" padding:0.2cm; text-align:left; vertical-align:top; text-align:center;  \">&#45;15.04&nbsp;&ndash;&nbsp;5.48</td>\n",
       "<td style=\" padding:0.2cm; text-align:left; vertical-align:top; text-align:center;  \">0.361</td>\n",
       "</tr>\n",
       "<tr>\n",
       "<td style=\" padding:0.2cm; text-align:left; vertical-align:top; text-align:left; \">pda 0</td>\n",
       "<td style=\" padding:0.2cm; text-align:left; vertical-align:top; text-align:center;  \">0.60</td>\n",
       "<td style=\" padding:0.2cm; text-align:left; vertical-align:top; text-align:center;  \">0.48&nbsp;&ndash;&nbsp;0.73</td>\n",
       "<td style=\" padding:0.2cm; text-align:left; vertical-align:top; text-align:center;  \"><strong>&lt;0.001</strong></td>\n",
       "</tr>\n",
       "<tr>\n",
       "<td style=\" padding:0.2cm; text-align:left; vertical-align:top; text-align:left; \">outpatient yn ever</td>\n",
       "<td style=\" padding:0.2cm; text-align:left; vertical-align:top; text-align:center;  \">4.57</td>\n",
       "<td style=\" padding:0.2cm; text-align:left; vertical-align:top; text-align:center;  \">&#45;6.10&nbsp;&ndash;&nbsp;15.25</td>\n",
       "<td style=\" padding:0.2cm; text-align:left; vertical-align:top; text-align:center;  \">0.400</td>\n",
       "</tr>\n",
       "<tr>\n",
       "<td style=\" padding:0.2cm; text-align:left; vertical-align:top; text-align:left; \">meetings yn</td>\n",
       "<td style=\" padding:0.2cm; text-align:left; vertical-align:top; text-align:center;  \">8.22</td>\n",
       "<td style=\" padding:0.2cm; text-align:left; vertical-align:top; text-align:center;  \">1.28&nbsp;&ndash;&nbsp;15.16</td>\n",
       "<td style=\" padding:0.2cm; text-align:left; vertical-align:top; text-align:center;  \"><strong>0.020</strong></td>\n",
       "</tr>\n",
       "<tr>\n",
       "<td style=\" padding:0.2cm; text-align:left; vertical-align:top; text-align:left; \">inpatient yn ever</td>\n",
       "<td style=\" padding:0.2cm; text-align:left; vertical-align:top; text-align:center;  \">8.45</td>\n",
       "<td style=\" padding:0.2cm; text-align:left; vertical-align:top; text-align:center;  \">&#45;3.99&nbsp;&ndash;&nbsp;20.89</td>\n",
       "<td style=\" padding:0.2cm; text-align:left; vertical-align:top; text-align:center;  \">0.182</td>\n",
       "</tr>\n",
       "<tr>\n",
       "<td style=\" padding:0.2cm; text-align:left; vertical-align:top; text-align:left; \">time c × arm cfam and<br>achess vs C</td>\n",
       "<td style=\" padding:0.2cm; text-align:left; vertical-align:top; text-align:center;  \">5.14</td>\n",
       "<td style=\" padding:0.2cm; text-align:left; vertical-align:top; text-align:center;  \">&#45;0.01&nbsp;&ndash;&nbsp;10.29</td>\n",
       "<td style=\" padding:0.2cm; text-align:left; vertical-align:top; text-align:center;  \">0.050</td>\n",
       "</tr>\n",
       "<tr>\n",
       "<td style=\" padding:0.2cm; text-align:left; vertical-align:top; text-align:left; \">time c × arm cachess vs<br>fam</td>\n",
       "<td style=\" padding:0.2cm; text-align:left; vertical-align:top; text-align:center;  \">&#45;0.30</td>\n",
       "<td style=\" padding:0.2cm; text-align:left; vertical-align:top; text-align:center;  \">&#45;6.44&nbsp;&ndash;&nbsp;5.83</td>\n",
       "<td style=\" padding:0.2cm; text-align:left; vertical-align:top; text-align:center;  \">0.923</td>\n",
       "</tr>\n",
       "\n",
       "<tr>\n",
       "<td style=\" padding:0.2cm; text-align:left; vertical-align:top; text-align:left; padding-top:0.1cm; padding-bottom:0.1cm;\">N <sub>study_id</sub></td>\n",
       "<td style=\" padding:0.2cm; text-align:left; vertical-align:top; padding-top:0.1cm; padding-bottom:0.1cm; text-align:left;\" colspan=\"3\">158</td>\n",
       "<tr>\n",
       "<td style=\" padding:0.2cm; text-align:left; vertical-align:top; text-align:left; padding-top:0.1cm; padding-bottom:0.1cm; border-top:1px solid;\">Observations</td>\n",
       "<td style=\" padding:0.2cm; text-align:left; vertical-align:top; padding-top:0.1cm; padding-bottom:0.1cm; text-align:left; border-top:1px solid;\" colspan=\"3\">413</td>\n",
       "</tr>\n",
       "<tr>\n",
       "<td style=\" padding:0.2cm; text-align:left; vertical-align:top; text-align:left; padding-top:0.1cm; padding-bottom:0.1cm;\">Marginal R<sup>2</sup> / Conditional R<sup>2</sup></td>\n",
       "<td style=\" padding:0.2cm; text-align:left; vertical-align:top; padding-top:0.1cm; padding-bottom:0.1cm; text-align:left;\" colspan=\"3\">0.370 / 0.846</td>\n",
       "</tr>\n",
       "\n",
       "</table>\n"
      ]
     }
    }
   ],
   "source": [
    "lmer(per_days_abstinent ~ time_c*arm_c + pda_0 + outpatient_yn_ever + \n",
    "       meetings_yn + inpatient_yn_ever + (1 + time_c | study_id), \n",
    "     data = subset(data, dyad == 2)) |> \n",
    "  sjPlot::tab_model(show.re.var = F, show.icc = F)"
   ],
   "id": "0406ec00-0ed2-4f25-95c3-4fa5086f823b"
  },
  {
   "cell_type": "markdown",
   "metadata": {},
   "source": [
    "#### Secondary Partner Outcome 1: `relationsatisf_scored`\n",
    "\n",
    "Distribution of residuals"
   ],
   "id": "46371c2a-37f5-4093-8569-2ffb9bac6a66"
  },
  {
   "cell_type": "code",
   "execution_count": null,
   "metadata": {},
   "outputs": [
    {
     "output_type": "display_data",
     "metadata": {},
     "data": {
      "image/png": "[encoded data removed]"
     }
    }
   ],
   "source": [
    "model_partner_sec_1 <- lmer(relationsatisf_scored ~ time_c*arm_c + relationsatisf_0 + \n",
    "                             (1 + time_c | study_id), data = subset(data, dyad == 1))\n",
    "\n",
    "tibble(error = residuals(model_partner_sec_1)) |> \n",
    "  ggplot(aes(x = error)) +\n",
    "  geom_histogram(color = \"black\", fill = \"light grey\", bins = 30)"
   ],
   "id": "9fed80a8-9fd4-4a0c-acd0-fd9ec9c08be0"
  },
  {
   "cell_type": "markdown",
   "metadata": {},
   "source": [
    "##### Look for significant covariates\n",
    "\n",
    "`race_white_only` - not significant"
   ],
   "id": "1d2ee344-cb66-4774-aa17-f2ee3226effc"
  },
  {
   "cell_type": "code",
   "execution_count": null,
   "metadata": {},
   "outputs": [
    {
     "output_type": "display_data",
     "metadata": {},
     "data": {
      "text/html": [
       "<table style=\"border-collapse:collapse; border:none;\">\n",
       "<tr>\n",
       "<th style=\"border-top: double; text-align:center; font-style:normal; font-weight:bold; padding:0.2cm;  text-align:left; \">&nbsp;</th>\n",
       "<th colspan=\"3\" style=\"border-top: double; text-align:center; font-style:normal; font-weight:bold; padding:0.2cm; \">relationsatisf scored</th>\n",
       "</tr>\n",
       "<tr>\n",
       "<td style=\" text-align:center; border-bottom:1px solid; font-style:italic; font-weight:normal;  text-align:left; \">Predictors</td>\n",
       "<td style=\" text-align:center; border-bottom:1px solid; font-style:italic; font-weight:normal;  \">Estimates</td>\n",
       "<td style=\" text-align:center; border-bottom:1px solid; font-style:italic; font-weight:normal;  \">CI</td>\n",
       "<td style=\" text-align:center; border-bottom:1px solid; font-style:italic; font-weight:normal;  \">p</td>\n",
       "</tr>\n",
       "<tr>\n",
       "<td style=\" padding:0.2cm; text-align:left; vertical-align:top; text-align:left; \">race white only</td>\n",
       "<td style=\" padding:0.2cm; text-align:left; vertical-align:top; text-align:center;  \">0.45</td>\n",
       "<td style=\" padding:0.2cm; text-align:left; vertical-align:top; text-align:center;  \">&#45;1.14&nbsp;&ndash;&nbsp;2.04</td>\n",
       "<td style=\" padding:0.2cm; text-align:left; vertical-align:top; text-align:center;  \">0.578</td>\n",
       "</tr>\n",
       "\n",
       "<tr>\n",
       "<td style=\" padding:0.2cm; text-align:left; vertical-align:top; text-align:left; padding-top:0.1cm; padding-bottom:0.1cm;\">N <sub>study_id</sub></td>\n",
       "<td style=\" padding:0.2cm; text-align:left; vertical-align:top; padding-top:0.1cm; padding-bottom:0.1cm; text-align:left;\" colspan=\"3\">170</td>\n",
       "<tr>\n",
       "<td style=\" padding:0.2cm; text-align:left; vertical-align:top; text-align:left; padding-top:0.1cm; padding-bottom:0.1cm; border-top:1px solid;\">Observations</td>\n",
       "<td style=\" padding:0.2cm; text-align:left; vertical-align:top; padding-top:0.1cm; padding-bottom:0.1cm; text-align:left; border-top:1px solid;\" colspan=\"3\">454</td>\n",
       "</tr>\n",
       "<tr>\n",
       "<td style=\" padding:0.2cm; text-align:left; vertical-align:top; text-align:left; padding-top:0.1cm; padding-bottom:0.1cm;\">Marginal R<sup>2</sup> / Conditional R<sup>2</sup></td>\n",
       "<td style=\" padding:0.2cm; text-align:left; vertical-align:top; padding-top:0.1cm; padding-bottom:0.1cm; text-align:left;\" colspan=\"3\">0.390 / 0.729</td>\n",
       "</tr>\n",
       "\n",
       "</table>\n"
      ]
     }
    },
    {
     "output_type": "display_data",
     "metadata": {},
     "data": {
      "text/html": [
       "<table style=\"border-collapse:collapse; border:none;\">\n",
       "<tr>\n",
       "<th style=\"border-top: double; text-align:center; font-style:normal; font-weight:bold; padding:0.2cm;  text-align:left; \">&nbsp;</th>\n",
       "<th colspan=\"3\" style=\"border-top: double; text-align:center; font-style:normal; font-weight:bold; padding:0.2cm; \">relationsatisf scored</th>\n",
       "</tr>\n",
       "<tr>\n",
       "<td style=\" text-align:center; border-bottom:1px solid; font-style:italic; font-weight:normal;  text-align:left; \">Predictors</td>\n",
       "<td style=\" text-align:center; border-bottom:1px solid; font-style:italic; font-weight:normal;  \">Estimates</td>\n",
       "<td style=\" text-align:center; border-bottom:1px solid; font-style:italic; font-weight:normal;  \">CI</td>\n",
       "<td style=\" text-align:center; border-bottom:1px solid; font-style:italic; font-weight:normal;  \">p</td>\n",
       "</tr>\n",
       "<tr>\n",
       "<td style=\" padding:0.2cm; text-align:left; vertical-align:top; text-align:left; \">race white only</td>\n",
       "<td style=\" padding:0.2cm; text-align:left; vertical-align:top; text-align:center;  \">0.45</td>\n",
       "<td style=\" padding:0.2cm; text-align:left; vertical-align:top; text-align:center;  \">&#45;1.03&nbsp;&ndash;&nbsp;1.93</td>\n",
       "<td style=\" padding:0.2cm; text-align:left; vertical-align:top; text-align:center;  \">0.552</td>\n",
       "</tr>\n",
       "\n",
       "<tr>\n",
       "<td style=\" padding:0.2cm; text-align:left; vertical-align:top; text-align:left; padding-top:0.1cm; padding-bottom:0.1cm;\">N <sub>study_id</sub></td>\n",
       "<td style=\" padding:0.2cm; text-align:left; vertical-align:top; padding-top:0.1cm; padding-bottom:0.1cm; text-align:left;\" colspan=\"3\">168</td>\n",
       "<tr>\n",
       "<td style=\" padding:0.2cm; text-align:left; vertical-align:top; text-align:left; padding-top:0.1cm; padding-bottom:0.1cm; border-top:1px solid;\">Observations</td>\n",
       "<td style=\" padding:0.2cm; text-align:left; vertical-align:top; padding-top:0.1cm; padding-bottom:0.1cm; text-align:left; border-top:1px solid;\" colspan=\"3\">436</td>\n",
       "</tr>\n",
       "<tr>\n",
       "<td style=\" padding:0.2cm; text-align:left; vertical-align:top; text-align:left; padding-top:0.1cm; padding-bottom:0.1cm;\">Marginal R<sup>2</sup> / Conditional R<sup>2</sup></td>\n",
       "<td style=\" padding:0.2cm; text-align:left; vertical-align:top; padding-top:0.1cm; padding-bottom:0.1cm; text-align:left;\" colspan=\"3\">0.307 / 0.726</td>\n",
       "</tr>\n",
       "\n",
       "</table>\n"
      ]
     }
    }
   ],
   "source": [
    "lmer(relationsatisf_scored ~ time_c*arm_c + relationsatisf_0 + race_white_only +\n",
    "       (1 + time_c | study_id), data = subset(data, dyad == 1)) |> \n",
    "  sjPlot::tab_model(show.re.var = F, show.icc = F, terms = c(\"race_white_only\"))"
   ],
   "id": "f06ed2a4-81a8-4840-a3a8-33e44cbe1bf2"
  },
  {
   "cell_type": "markdown",
   "metadata": {},
   "source": [
    "`age_c` - not significant"
   ],
   "id": "7f426aab-6133-453f-adef-575a5fdb0d46"
  },
  {
   "cell_type": "code",
   "execution_count": null,
   "metadata": {},
   "outputs": [
    {
     "output_type": "display_data",
     "metadata": {},
     "data": {
      "text/html": [
       "<table style=\"border-collapse:collapse; border:none;\">\n",
       "<tr>\n",
       "<th style=\"border-top: double; text-align:center; font-style:normal; font-weight:bold; padding:0.2cm;  text-align:left; \">&nbsp;</th>\n",
       "<th colspan=\"3\" style=\"border-top: double; text-align:center; font-style:normal; font-weight:bold; padding:0.2cm; \">relationsatisf scored</th>\n",
       "</tr>\n",
       "<tr>\n",
       "<td style=\" text-align:center; border-bottom:1px solid; font-style:italic; font-weight:normal;  text-align:left; \">Predictors</td>\n",
       "<td style=\" text-align:center; border-bottom:1px solid; font-style:italic; font-weight:normal;  \">Estimates</td>\n",
       "<td style=\" text-align:center; border-bottom:1px solid; font-style:italic; font-weight:normal;  \">CI</td>\n",
       "<td style=\" text-align:center; border-bottom:1px solid; font-style:italic; font-weight:normal;  \">p</td>\n",
       "</tr>\n",
       "<tr>\n",
       "<td style=\" padding:0.2cm; text-align:left; vertical-align:top; text-align:left; \">age c</td>\n",
       "<td style=\" padding:0.2cm; text-align:left; vertical-align:top; text-align:center;  \">&#45;0.02</td>\n",
       "<td style=\" padding:0.2cm; text-align:left; vertical-align:top; text-align:center;  \">&#45;0.06&nbsp;&ndash;&nbsp;0.03</td>\n",
       "<td style=\" padding:0.2cm; text-align:left; vertical-align:top; text-align:center;  \">0.433</td>\n",
       "</tr>\n",
       "\n",
       "<tr>\n",
       "<td style=\" padding:0.2cm; text-align:left; vertical-align:top; text-align:left; padding-top:0.1cm; padding-bottom:0.1cm;\">N <sub>study_id</sub></td>\n",
       "<td style=\" padding:0.2cm; text-align:left; vertical-align:top; padding-top:0.1cm; padding-bottom:0.1cm; text-align:left;\" colspan=\"3\">170</td>\n",
       "<tr>\n",
       "<td style=\" padding:0.2cm; text-align:left; vertical-align:top; text-align:left; padding-top:0.1cm; padding-bottom:0.1cm; border-top:1px solid;\">Observations</td>\n",
       "<td style=\" padding:0.2cm; text-align:left; vertical-align:top; padding-top:0.1cm; padding-bottom:0.1cm; text-align:left; border-top:1px solid;\" colspan=\"3\">454</td>\n",
       "</tr>\n",
       "<tr>\n",
       "<td style=\" padding:0.2cm; text-align:left; vertical-align:top; text-align:left; padding-top:0.1cm; padding-bottom:0.1cm;\">Marginal R<sup>2</sup> / Conditional R<sup>2</sup></td>\n",
       "<td style=\" padding:0.2cm; text-align:left; vertical-align:top; padding-top:0.1cm; padding-bottom:0.1cm; text-align:left;\" colspan=\"3\">0.391 / 0.729</td>\n",
       "</tr>\n",
       "\n",
       "</table>\n"
      ]
     }
    },
    {
     "output_type": "display_data",
     "metadata": {},
     "data": {
      "text/html": [
       "<table style=\"border-collapse:collapse; border:none;\">\n",
       "<tr>\n",
       "<th style=\"border-top: double; text-align:center; font-style:normal; font-weight:bold; padding:0.2cm;  text-align:left; \">&nbsp;</th>\n",
       "<th colspan=\"3\" style=\"border-top: double; text-align:center; font-style:normal; font-weight:bold; padding:0.2cm; \">relationsatisf scored</th>\n",
       "</tr>\n",
       "<tr>\n",
       "<td style=\" text-align:center; border-bottom:1px solid; font-style:italic; font-weight:normal;  text-align:left; \">Predictors</td>\n",
       "<td style=\" text-align:center; border-bottom:1px solid; font-style:italic; font-weight:normal;  \">Estimates</td>\n",
       "<td style=\" text-align:center; border-bottom:1px solid; font-style:italic; font-weight:normal;  \">CI</td>\n",
       "<td style=\" text-align:center; border-bottom:1px solid; font-style:italic; font-weight:normal;  \">p</td>\n",
       "</tr>\n",
       "<tr>\n",
       "<td style=\" padding:0.2cm; text-align:left; vertical-align:top; text-align:left; \">age c</td>\n",
       "<td style=\" padding:0.2cm; text-align:left; vertical-align:top; text-align:center;  \">&#45;0.04</td>\n",
       "<td style=\" padding:0.2cm; text-align:left; vertical-align:top; text-align:center;  \">&#45;0.09&nbsp;&ndash;&nbsp;0.02</td>\n",
       "<td style=\" padding:0.2cm; text-align:left; vertical-align:top; text-align:center;  \">0.173</td>\n",
       "</tr>\n",
       "\n",
       "<tr>\n",
       "<td style=\" padding:0.2cm; text-align:left; vertical-align:top; text-align:left; padding-top:0.1cm; padding-bottom:0.1cm;\">N <sub>study_id</sub></td>\n",
       "<td style=\" padding:0.2cm; text-align:left; vertical-align:top; padding-top:0.1cm; padding-bottom:0.1cm; text-align:left;\" colspan=\"3\">167</td>\n",
       "<tr>\n",
       "<td style=\" padding:0.2cm; text-align:left; vertical-align:top; text-align:left; padding-top:0.1cm; padding-bottom:0.1cm; border-top:1px solid;\">Observations</td>\n",
       "<td style=\" padding:0.2cm; text-align:left; vertical-align:top; padding-top:0.1cm; padding-bottom:0.1cm; text-align:left; border-top:1px solid;\" colspan=\"3\">433</td>\n",
       "</tr>\n",
       "<tr>\n",
       "<td style=\" padding:0.2cm; text-align:left; vertical-align:top; text-align:left; padding-top:0.1cm; padding-bottom:0.1cm;\">Marginal R<sup>2</sup> / Conditional R<sup>2</sup></td>\n",
       "<td style=\" padding:0.2cm; text-align:left; vertical-align:top; padding-top:0.1cm; padding-bottom:0.1cm; text-align:left;\" colspan=\"3\">0.320 / 0.739</td>\n",
       "</tr>\n",
       "\n",
       "</table>\n"
      ]
     }
    }
   ],
   "source": [
    "lmer(relationsatisf_scored ~ time_c*arm_c + relationsatisf_0 + age_c +\n",
    "       (1 + time_c | study_id), data = subset(data, dyad == 1)) |> \n",
    "  sjPlot::tab_model(show.re.var = F, show.icc = F, terms = c(\"age_c\"))"
   ],
   "id": "0adc95d2-bfb5-48f4-84cd-c5417924d276"
  },
  {
   "cell_type": "markdown",
   "metadata": {},
   "source": [
    "`edu_c` - **significant for patient** not significant for partner"
   ],
   "id": "18d1dfe1-6d1e-4352-8ef4-7ead7b9ce36b"
  },
  {
   "cell_type": "code",
   "execution_count": null,
   "metadata": {},
   "outputs": [
    {
     "output_type": "display_data",
     "metadata": {},
     "data": {
      "text/html": [
       "<table style=\"border-collapse:collapse; border:none;\">\n",
       "<tr>\n",
       "<th style=\"border-top: double; text-align:center; font-style:normal; font-weight:bold; padding:0.2cm;  text-align:left; \">&nbsp;</th>\n",
       "<th colspan=\"3\" style=\"border-top: double; text-align:center; font-style:normal; font-weight:bold; padding:0.2cm; \">relationsatisf scored</th>\n",
       "</tr>\n",
       "<tr>\n",
       "<td style=\" text-align:center; border-bottom:1px solid; font-style:italic; font-weight:normal;  text-align:left; \">Predictors</td>\n",
       "<td style=\" text-align:center; border-bottom:1px solid; font-style:italic; font-weight:normal;  \">Estimates</td>\n",
       "<td style=\" text-align:center; border-bottom:1px solid; font-style:italic; font-weight:normal;  \">CI</td>\n",
       "<td style=\" text-align:center; border-bottom:1px solid; font-style:italic; font-weight:normal;  \">p</td>\n",
       "</tr>\n",
       "<tr>\n",
       "<td style=\" padding:0.2cm; text-align:left; vertical-align:top; text-align:left; \">edu c</td>\n",
       "<td style=\" padding:0.2cm; text-align:left; vertical-align:top; text-align:center;  \">0.37</td>\n",
       "<td style=\" padding:0.2cm; text-align:left; vertical-align:top; text-align:center;  \">&#45;0.26&nbsp;&ndash;&nbsp;0.99</td>\n",
       "<td style=\" padding:0.2cm; text-align:left; vertical-align:top; text-align:center;  \">0.254</td>\n",
       "</tr>\n",
       "\n",
       "<tr>\n",
       "<td style=\" padding:0.2cm; text-align:left; vertical-align:top; text-align:left; padding-top:0.1cm; padding-bottom:0.1cm;\">N <sub>study_id</sub></td>\n",
       "<td style=\" padding:0.2cm; text-align:left; vertical-align:top; padding-top:0.1cm; padding-bottom:0.1cm; text-align:left;\" colspan=\"3\">170</td>\n",
       "<tr>\n",
       "<td style=\" padding:0.2cm; text-align:left; vertical-align:top; text-align:left; padding-top:0.1cm; padding-bottom:0.1cm; border-top:1px solid;\">Observations</td>\n",
       "<td style=\" padding:0.2cm; text-align:left; vertical-align:top; padding-top:0.1cm; padding-bottom:0.1cm; text-align:left; border-top:1px solid;\" colspan=\"3\">454</td>\n",
       "</tr>\n",
       "<tr>\n",
       "<td style=\" padding:0.2cm; text-align:left; vertical-align:top; text-align:left; padding-top:0.1cm; padding-bottom:0.1cm;\">Marginal R<sup>2</sup> / Conditional R<sup>2</sup></td>\n",
       "<td style=\" padding:0.2cm; text-align:left; vertical-align:top; padding-top:0.1cm; padding-bottom:0.1cm; text-align:left;\" colspan=\"3\">0.393 / 0.729</td>\n",
       "</tr>\n",
       "\n",
       "</table>\n"
      ]
     }
    },
    {
     "output_type": "display_data",
     "metadata": {},
     "data": {
      "text/html": [
       "<table style=\"border-collapse:collapse; border:none;\">\n",
       "<tr>\n",
       "<th style=\"border-top: double; text-align:center; font-style:normal; font-weight:bold; padding:0.2cm;  text-align:left; \">&nbsp;</th>\n",
       "<th colspan=\"3\" style=\"border-top: double; text-align:center; font-style:normal; font-weight:bold; padding:0.2cm; \">relationsatisf scored</th>\n",
       "</tr>\n",
       "<tr>\n",
       "<td style=\" text-align:center; border-bottom:1px solid; font-style:italic; font-weight:normal;  text-align:left; \">Predictors</td>\n",
       "<td style=\" text-align:center; border-bottom:1px solid; font-style:italic; font-weight:normal;  \">Estimates</td>\n",
       "<td style=\" text-align:center; border-bottom:1px solid; font-style:italic; font-weight:normal;  \">CI</td>\n",
       "<td style=\" text-align:center; border-bottom:1px solid; font-style:italic; font-weight:normal;  \">p</td>\n",
       "</tr>\n",
       "<tr>\n",
       "<td style=\" padding:0.2cm; text-align:left; vertical-align:top; text-align:left; \">edu c</td>\n",
       "<td style=\" padding:0.2cm; text-align:left; vertical-align:top; text-align:center;  \">0.61</td>\n",
       "<td style=\" padding:0.2cm; text-align:left; vertical-align:top; text-align:center;  \">0.03&nbsp;&ndash;&nbsp;1.20</td>\n",
       "<td style=\" padding:0.2cm; text-align:left; vertical-align:top; text-align:center;  \"><strong>0.040</strong></td>\n",
       "</tr>\n",
       "\n",
       "<tr>\n",
       "<td style=\" padding:0.2cm; text-align:left; vertical-align:top; text-align:left; padding-top:0.1cm; padding-bottom:0.1cm;\">N <sub>study_id</sub></td>\n",
       "<td style=\" padding:0.2cm; text-align:left; vertical-align:top; padding-top:0.1cm; padding-bottom:0.1cm; text-align:left;\" colspan=\"3\">168</td>\n",
       "<tr>\n",
       "<td style=\" padding:0.2cm; text-align:left; vertical-align:top; text-align:left; padding-top:0.1cm; padding-bottom:0.1cm; border-top:1px solid;\">Observations</td>\n",
       "<td style=\" padding:0.2cm; text-align:left; vertical-align:top; padding-top:0.1cm; padding-bottom:0.1cm; text-align:left; border-top:1px solid;\" colspan=\"3\">436</td>\n",
       "</tr>\n",
       "<tr>\n",
       "<td style=\" padding:0.2cm; text-align:left; vertical-align:top; text-align:left; padding-top:0.1cm; padding-bottom:0.1cm;\">Marginal R<sup>2</sup> / Conditional R<sup>2</sup></td>\n",
       "<td style=\" padding:0.2cm; text-align:left; vertical-align:top; padding-top:0.1cm; padding-bottom:0.1cm; text-align:left;\" colspan=\"3\">0.318 / 0.723</td>\n",
       "</tr>\n",
       "\n",
       "</table>\n"
      ]
     }
    }
   ],
   "source": [
    "lmer(relationsatisf_scored ~ time_c*arm_c + relationsatisf_0 + edu_c +\n",
    "       (1 + time_c | study_id), data = subset(data, dyad == 1)) |> \n",
    "  sjPlot::tab_model(show.re.var = F, show.icc = F, terms = c(\"edu_c\"))"
   ],
   "id": "c5a3e1ba-7dec-42a3-ac81-13a5b17d1e40"
  },
  {
   "cell_type": "markdown",
   "metadata": {},
   "source": [
    "`meetings_yn` - not significant"
   ],
   "id": "5bdce3a1-2ec5-475d-bc63-8e8f35b2252f"
  },
  {
   "cell_type": "code",
   "execution_count": null,
   "metadata": {},
   "outputs": [
    {
     "output_type": "display_data",
     "metadata": {},
     "data": {
      "text/html": [
       "<table style=\"border-collapse:collapse; border:none;\">\n",
       "<tr>\n",
       "<th style=\"border-top: double; text-align:center; font-style:normal; font-weight:bold; padding:0.2cm;  text-align:left; \">&nbsp;</th>\n",
       "<th colspan=\"3\" style=\"border-top: double; text-align:center; font-style:normal; font-weight:bold; padding:0.2cm; \">relationsatisf scored</th>\n",
       "</tr>\n",
       "<tr>\n",
       "<td style=\" text-align:center; border-bottom:1px solid; font-style:italic; font-weight:normal;  text-align:left; \">Predictors</td>\n",
       "<td style=\" text-align:center; border-bottom:1px solid; font-style:italic; font-weight:normal;  \">Estimates</td>\n",
       "<td style=\" text-align:center; border-bottom:1px solid; font-style:italic; font-weight:normal;  \">CI</td>\n",
       "<td style=\" text-align:center; border-bottom:1px solid; font-style:italic; font-weight:normal;  \">p</td>\n",
       "</tr>\n",
       "<tr>\n",
       "<td style=\" padding:0.2cm; text-align:left; vertical-align:top; text-align:left; \">meetings yn</td>\n",
       "<td style=\" padding:0.2cm; text-align:left; vertical-align:top; text-align:center;  \">&#45;0.60</td>\n",
       "<td style=\" padding:0.2cm; text-align:left; vertical-align:top; text-align:center;  \">&#45;2.16&nbsp;&ndash;&nbsp;0.97</td>\n",
       "<td style=\" padding:0.2cm; text-align:left; vertical-align:top; text-align:center;  \">0.453</td>\n",
       "</tr>\n",
       "\n",
       "<tr>\n",
       "<td style=\" padding:0.2cm; text-align:left; vertical-align:top; text-align:left; padding-top:0.1cm; padding-bottom:0.1cm;\">N <sub>study_id</sub></td>\n",
       "<td style=\" padding:0.2cm; text-align:left; vertical-align:top; padding-top:0.1cm; padding-bottom:0.1cm; text-align:left;\" colspan=\"3\">170</td>\n",
       "<tr>\n",
       "<td style=\" padding:0.2cm; text-align:left; vertical-align:top; text-align:left; padding-top:0.1cm; padding-bottom:0.1cm; border-top:1px solid;\">Observations</td>\n",
       "<td style=\" padding:0.2cm; text-align:left; vertical-align:top; padding-top:0.1cm; padding-bottom:0.1cm; text-align:left; border-top:1px solid;\" colspan=\"3\">454</td>\n",
       "</tr>\n",
       "<tr>\n",
       "<td style=\" padding:0.2cm; text-align:left; vertical-align:top; text-align:left; padding-top:0.1cm; padding-bottom:0.1cm;\">Marginal R<sup>2</sup> / Conditional R<sup>2</sup></td>\n",
       "<td style=\" padding:0.2cm; text-align:left; vertical-align:top; padding-top:0.1cm; padding-bottom:0.1cm; text-align:left;\" colspan=\"3\">0.390 / 0.729</td>\n",
       "</tr>\n",
       "\n",
       "</table>\n"
      ]
     }
    },
    {
     "output_type": "display_data",
     "metadata": {},
     "data": {
      "text/html": [
       "<table style=\"border-collapse:collapse; border:none;\">\n",
       "<tr>\n",
       "<th style=\"border-top: double; text-align:center; font-style:normal; font-weight:bold; padding:0.2cm;  text-align:left; \">&nbsp;</th>\n",
       "<th colspan=\"3\" style=\"border-top: double; text-align:center; font-style:normal; font-weight:bold; padding:0.2cm; \">relationsatisf scored</th>\n",
       "</tr>\n",
       "<tr>\n",
       "<td style=\" text-align:center; border-bottom:1px solid; font-style:italic; font-weight:normal;  text-align:left; \">Predictors</td>\n",
       "<td style=\" text-align:center; border-bottom:1px solid; font-style:italic; font-weight:normal;  \">Estimates</td>\n",
       "<td style=\" text-align:center; border-bottom:1px solid; font-style:italic; font-weight:normal;  \">CI</td>\n",
       "<td style=\" text-align:center; border-bottom:1px solid; font-style:italic; font-weight:normal;  \">p</td>\n",
       "</tr>\n",
       "<tr>\n",
       "<td style=\" padding:0.2cm; text-align:left; vertical-align:top; text-align:left; \">meetings yn</td>\n",
       "<td style=\" padding:0.2cm; text-align:left; vertical-align:top; text-align:center;  \">0.52</td>\n",
       "<td style=\" padding:0.2cm; text-align:left; vertical-align:top; text-align:center;  \">&#45;0.64&nbsp;&ndash;&nbsp;1.69</td>\n",
       "<td style=\" padding:0.2cm; text-align:left; vertical-align:top; text-align:center;  \">0.379</td>\n",
       "</tr>\n",
       "\n",
       "<tr>\n",
       "<td style=\" padding:0.2cm; text-align:left; vertical-align:top; text-align:left; padding-top:0.1cm; padding-bottom:0.1cm;\">N <sub>study_id</sub></td>\n",
       "<td style=\" padding:0.2cm; text-align:left; vertical-align:top; padding-top:0.1cm; padding-bottom:0.1cm; text-align:left;\" colspan=\"3\">167</td>\n",
       "<tr>\n",
       "<td style=\" padding:0.2cm; text-align:left; vertical-align:top; text-align:left; padding-top:0.1cm; padding-bottom:0.1cm; border-top:1px solid;\">Observations</td>\n",
       "<td style=\" padding:0.2cm; text-align:left; vertical-align:top; padding-top:0.1cm; padding-bottom:0.1cm; text-align:left; border-top:1px solid;\" colspan=\"3\">435</td>\n",
       "</tr>\n",
       "<tr>\n",
       "<td style=\" padding:0.2cm; text-align:left; vertical-align:top; text-align:left; padding-top:0.1cm; padding-bottom:0.1cm;\">Marginal R<sup>2</sup> / Conditional R<sup>2</sup></td>\n",
       "<td style=\" padding:0.2cm; text-align:left; vertical-align:top; padding-top:0.1cm; padding-bottom:0.1cm; text-align:left;\" colspan=\"3\">0.306 / 0.728</td>\n",
       "</tr>\n",
       "\n",
       "</table>\n"
      ]
     }
    }
   ],
   "source": [
    "lmer(relationsatisf_scored ~ time_c*arm_c + relationsatisf_0 + meetings_yn +\n",
    "       (1 + time_c | study_id), data = subset(data, dyad == 1)) |> \n",
    "  sjPlot::tab_model(show.re.var = F, show.icc = F, terms = c(\"meetings_yn\"))"
   ],
   "id": "f71220c8-568f-4d19-bb1a-d1845d435e41"
  },
  {
   "cell_type": "markdown",
   "metadata": {},
   "source": [
    "`outpatient_yn_ever` - Not significant"
   ],
   "id": "4e74b541-ff8a-41c3-a15a-9c9a1dae268c"
  },
  {
   "cell_type": "code",
   "execution_count": null,
   "metadata": {},
   "outputs": [
    {
     "output_type": "display_data",
     "metadata": {},
     "data": {
      "text/html": [
       "<table style=\"border-collapse:collapse; border:none;\">\n",
       "<tr>\n",
       "<th style=\"border-top: double; text-align:center; font-style:normal; font-weight:bold; padding:0.2cm;  text-align:left; \">&nbsp;</th>\n",
       "<th colspan=\"3\" style=\"border-top: double; text-align:center; font-style:normal; font-weight:bold; padding:0.2cm; \">relationsatisf scored</th>\n",
       "</tr>\n",
       "<tr>\n",
       "<td style=\" text-align:center; border-bottom:1px solid; font-style:italic; font-weight:normal;  text-align:left; \">Predictors</td>\n",
       "<td style=\" text-align:center; border-bottom:1px solid; font-style:italic; font-weight:normal;  \">Estimates</td>\n",
       "<td style=\" text-align:center; border-bottom:1px solid; font-style:italic; font-weight:normal;  \">CI</td>\n",
       "<td style=\" text-align:center; border-bottom:1px solid; font-style:italic; font-weight:normal;  \">p</td>\n",
       "</tr>\n",
       "<tr>\n",
       "<td style=\" padding:0.2cm; text-align:left; vertical-align:top; text-align:left; \">outpatient yn ever</td>\n",
       "<td style=\" padding:0.2cm; text-align:left; vertical-align:top; text-align:center;  \">&#45;0.62</td>\n",
       "<td style=\" padding:0.2cm; text-align:left; vertical-align:top; text-align:center;  \">&#45;3.51&nbsp;&ndash;&nbsp;2.26</td>\n",
       "<td style=\" padding:0.2cm; text-align:left; vertical-align:top; text-align:center;  \">0.672</td>\n",
       "</tr>\n",
       "\n",
       "<tr>\n",
       "<td style=\" padding:0.2cm; text-align:left; vertical-align:top; text-align:left; padding-top:0.1cm; padding-bottom:0.1cm;\">N <sub>study_id</sub></td>\n",
       "<td style=\" padding:0.2cm; text-align:left; vertical-align:top; padding-top:0.1cm; padding-bottom:0.1cm; text-align:left;\" colspan=\"3\">170</td>\n",
       "<tr>\n",
       "<td style=\" padding:0.2cm; text-align:left; vertical-align:top; text-align:left; padding-top:0.1cm; padding-bottom:0.1cm; border-top:1px solid;\">Observations</td>\n",
       "<td style=\" padding:0.2cm; text-align:left; vertical-align:top; padding-top:0.1cm; padding-bottom:0.1cm; text-align:left; border-top:1px solid;\" colspan=\"3\">454</td>\n",
       "</tr>\n",
       "<tr>\n",
       "<td style=\" padding:0.2cm; text-align:left; vertical-align:top; text-align:left; padding-top:0.1cm; padding-bottom:0.1cm;\">Marginal R<sup>2</sup> / Conditional R<sup>2</sup></td>\n",
       "<td style=\" padding:0.2cm; text-align:left; vertical-align:top; padding-top:0.1cm; padding-bottom:0.1cm; text-align:left;\" colspan=\"3\">0.390 / 0.729</td>\n",
       "</tr>\n",
       "\n",
       "</table>\n"
      ]
     }
    },
    {
     "output_type": "display_data",
     "metadata": {},
     "data": {
      "text/html": [
       "<table style=\"border-collapse:collapse; border:none;\">\n",
       "<tr>\n",
       "<th style=\"border-top: double; text-align:center; font-style:normal; font-weight:bold; padding:0.2cm;  text-align:left; \">&nbsp;</th>\n",
       "<th colspan=\"3\" style=\"border-top: double; text-align:center; font-style:normal; font-weight:bold; padding:0.2cm; \">relationsatisf scored</th>\n",
       "</tr>\n",
       "<tr>\n",
       "<td style=\" text-align:center; border-bottom:1px solid; font-style:italic; font-weight:normal;  text-align:left; \">Predictors</td>\n",
       "<td style=\" text-align:center; border-bottom:1px solid; font-style:italic; font-weight:normal;  \">Estimates</td>\n",
       "<td style=\" text-align:center; border-bottom:1px solid; font-style:italic; font-weight:normal;  \">CI</td>\n",
       "<td style=\" text-align:center; border-bottom:1px solid; font-style:italic; font-weight:normal;  \">p</td>\n",
       "</tr>\n",
       "<tr>\n",
       "<td style=\" padding:0.2cm; text-align:left; vertical-align:top; text-align:left; \">outpatient yn ever</td>\n",
       "<td style=\" padding:0.2cm; text-align:left; vertical-align:top; text-align:center;  \">&#45;0.76</td>\n",
       "<td style=\" padding:0.2cm; text-align:left; vertical-align:top; text-align:center;  \">&#45;2.18&nbsp;&ndash;&nbsp;0.67</td>\n",
       "<td style=\" padding:0.2cm; text-align:left; vertical-align:top; text-align:center;  \">0.298</td>\n",
       "</tr>\n",
       "\n",
       "<tr>\n",
       "<td style=\" padding:0.2cm; text-align:left; vertical-align:top; text-align:left; padding-top:0.1cm; padding-bottom:0.1cm;\">N <sub>study_id</sub></td>\n",
       "<td style=\" padding:0.2cm; text-align:left; vertical-align:top; padding-top:0.1cm; padding-bottom:0.1cm; text-align:left;\" colspan=\"3\">168</td>\n",
       "<tr>\n",
       "<td style=\" padding:0.2cm; text-align:left; vertical-align:top; text-align:left; padding-top:0.1cm; padding-bottom:0.1cm; border-top:1px solid;\">Observations</td>\n",
       "<td style=\" padding:0.2cm; text-align:left; vertical-align:top; padding-top:0.1cm; padding-bottom:0.1cm; text-align:left; border-top:1px solid;\" colspan=\"3\">436</td>\n",
       "</tr>\n",
       "<tr>\n",
       "<td style=\" padding:0.2cm; text-align:left; vertical-align:top; text-align:left; padding-top:0.1cm; padding-bottom:0.1cm;\">Marginal R<sup>2</sup> / Conditional R<sup>2</sup></td>\n",
       "<td style=\" padding:0.2cm; text-align:left; vertical-align:top; padding-top:0.1cm; padding-bottom:0.1cm; text-align:left;\" colspan=\"3\">0.310 / 0.725</td>\n",
       "</tr>\n",
       "\n",
       "</table>\n"
      ]
     }
    }
   ],
   "source": [
    "lmer(relationsatisf_scored ~ time_c*arm_c + relationsatisf_0 + \n",
    "       outpatient_yn_ever + (1 + time_c | study_id), \n",
    "     data = subset(data, dyad == 1)) |> \n",
    "  sjPlot::tab_model(show.re.var = F, show.icc = F, terms = c(\"outpatient_yn_ever\"))"
   ],
   "id": "be699c0c-65c5-4ab0-8697-78c1044aa4d6"
  },
  {
   "cell_type": "markdown",
   "metadata": {},
   "source": [
    "`er_yn_ever` - Not significant"
   ],
   "id": "28842ef6-740d-48d4-b37a-906abad39e92"
  },
  {
   "cell_type": "code",
   "execution_count": null,
   "metadata": {},
   "outputs": [
    {
     "output_type": "display_data",
     "metadata": {},
     "data": {
      "text/html": [
       "<table style=\"border-collapse:collapse; border:none;\">\n",
       "<tr>\n",
       "<th style=\"border-top: double; text-align:center; font-style:normal; font-weight:bold; padding:0.2cm;  text-align:left; \">&nbsp;</th>\n",
       "<th colspan=\"3\" style=\"border-top: double; text-align:center; font-style:normal; font-weight:bold; padding:0.2cm; \">relationsatisf scored</th>\n",
       "</tr>\n",
       "<tr>\n",
       "<td style=\" text-align:center; border-bottom:1px solid; font-style:italic; font-weight:normal;  text-align:left; \">Predictors</td>\n",
       "<td style=\" text-align:center; border-bottom:1px solid; font-style:italic; font-weight:normal;  \">Estimates</td>\n",
       "<td style=\" text-align:center; border-bottom:1px solid; font-style:italic; font-weight:normal;  \">CI</td>\n",
       "<td style=\" text-align:center; border-bottom:1px solid; font-style:italic; font-weight:normal;  \">p</td>\n",
       "</tr>\n",
       "<tr>\n",
       "<td style=\" padding:0.2cm; text-align:left; vertical-align:top; text-align:left; \">er yn ever</td>\n",
       "<td style=\" padding:0.2cm; text-align:left; vertical-align:top; text-align:center;  \">0.81</td>\n",
       "<td style=\" padding:0.2cm; text-align:left; vertical-align:top; text-align:center;  \">&#45;0.93&nbsp;&ndash;&nbsp;2.56</td>\n",
       "<td style=\" padding:0.2cm; text-align:left; vertical-align:top; text-align:center;  \">0.360</td>\n",
       "</tr>\n",
       "\n",
       "<tr>\n",
       "<td style=\" padding:0.2cm; text-align:left; vertical-align:top; text-align:left; padding-top:0.1cm; padding-bottom:0.1cm;\">N <sub>study_id</sub></td>\n",
       "<td style=\" padding:0.2cm; text-align:left; vertical-align:top; padding-top:0.1cm; padding-bottom:0.1cm; text-align:left;\" colspan=\"3\">170</td>\n",
       "<tr>\n",
       "<td style=\" padding:0.2cm; text-align:left; vertical-align:top; text-align:left; padding-top:0.1cm; padding-bottom:0.1cm; border-top:1px solid;\">Observations</td>\n",
       "<td style=\" padding:0.2cm; text-align:left; vertical-align:top; padding-top:0.1cm; padding-bottom:0.1cm; text-align:left; border-top:1px solid;\" colspan=\"3\">454</td>\n",
       "</tr>\n",
       "<tr>\n",
       "<td style=\" padding:0.2cm; text-align:left; vertical-align:top; text-align:left; padding-top:0.1cm; padding-bottom:0.1cm;\">Marginal R<sup>2</sup> / Conditional R<sup>2</sup></td>\n",
       "<td style=\" padding:0.2cm; text-align:left; vertical-align:top; padding-top:0.1cm; padding-bottom:0.1cm; text-align:left;\" colspan=\"3\">0.392 / 0.730</td>\n",
       "</tr>\n",
       "\n",
       "</table>\n"
      ]
     }
    },
    {
     "output_type": "display_data",
     "metadata": {},
     "data": {
      "text/html": [
       "<table style=\"border-collapse:collapse; border:none;\">\n",
       "<tr>\n",
       "<th style=\"border-top: double; text-align:center; font-style:normal; font-weight:bold; padding:0.2cm;  text-align:left; \">&nbsp;</th>\n",
       "<th colspan=\"3\" style=\"border-top: double; text-align:center; font-style:normal; font-weight:bold; padding:0.2cm; \">relationsatisf scored</th>\n",
       "</tr>\n",
       "<tr>\n",
       "<td style=\" text-align:center; border-bottom:1px solid; font-style:italic; font-weight:normal;  text-align:left; \">Predictors</td>\n",
       "<td style=\" text-align:center; border-bottom:1px solid; font-style:italic; font-weight:normal;  \">Estimates</td>\n",
       "<td style=\" text-align:center; border-bottom:1px solid; font-style:italic; font-weight:normal;  \">CI</td>\n",
       "<td style=\" text-align:center; border-bottom:1px solid; font-style:italic; font-weight:normal;  \">p</td>\n",
       "</tr>\n",
       "<tr>\n",
       "<td style=\" padding:0.2cm; text-align:left; vertical-align:top; text-align:left; \">er yn ever</td>\n",
       "<td style=\" padding:0.2cm; text-align:left; vertical-align:top; text-align:center;  \">&#45;1.29</td>\n",
       "<td style=\" padding:0.2cm; text-align:left; vertical-align:top; text-align:center;  \">&#45;2.74&nbsp;&ndash;&nbsp;0.16</td>\n",
       "<td style=\" padding:0.2cm; text-align:left; vertical-align:top; text-align:center;  \">0.082</td>\n",
       "</tr>\n",
       "\n",
       "<tr>\n",
       "<td style=\" padding:0.2cm; text-align:left; vertical-align:top; text-align:left; padding-top:0.1cm; padding-bottom:0.1cm;\">N <sub>study_id</sub></td>\n",
       "<td style=\" padding:0.2cm; text-align:left; vertical-align:top; padding-top:0.1cm; padding-bottom:0.1cm; text-align:left;\" colspan=\"3\">168</td>\n",
       "<tr>\n",
       "<td style=\" padding:0.2cm; text-align:left; vertical-align:top; text-align:left; padding-top:0.1cm; padding-bottom:0.1cm; border-top:1px solid;\">Observations</td>\n",
       "<td style=\" padding:0.2cm; text-align:left; vertical-align:top; padding-top:0.1cm; padding-bottom:0.1cm; text-align:left; border-top:1px solid;\" colspan=\"3\">436</td>\n",
       "</tr>\n",
       "<tr>\n",
       "<td style=\" padding:0.2cm; text-align:left; vertical-align:top; text-align:left; padding-top:0.1cm; padding-bottom:0.1cm;\">Marginal R<sup>2</sup> / Conditional R<sup>2</sup></td>\n",
       "<td style=\" padding:0.2cm; text-align:left; vertical-align:top; padding-top:0.1cm; padding-bottom:0.1cm; text-align:left;\" colspan=\"3\">0.315 / 0.725</td>\n",
       "</tr>\n",
       "\n",
       "</table>\n"
      ]
     }
    }
   ],
   "source": [
    "lmer(relationsatisf_scored ~ time_c*arm_c + relationsatisf_0 + er_yn_ever +\n",
    "       (1 + time_c | study_id), data = subset(data, dyad == 1)) |> \n",
    "  sjPlot::tab_model(show.re.var = F, show.icc = F, terms = c(\"er_yn_ever\"))"
   ],
   "id": "e15acc62-d8ca-4547-8348-e0db76436ea6"
  },
  {
   "cell_type": "markdown",
   "metadata": {},
   "source": [
    "`mat_yn` - not significant"
   ],
   "id": "0d62f786-e961-4aaf-af0f-a5f6f06a45a3"
  },
  {
   "cell_type": "code",
   "execution_count": null,
   "metadata": {},
   "outputs": [
    {
     "output_type": "display_data",
     "metadata": {},
     "data": {
      "text/html": [
       "<table style=\"border-collapse:collapse; border:none;\">\n",
       "<tr>\n",
       "<th style=\"border-top: double; text-align:center; font-style:normal; font-weight:bold; padding:0.2cm;  text-align:left; \">&nbsp;</th>\n",
       "<th colspan=\"3\" style=\"border-top: double; text-align:center; font-style:normal; font-weight:bold; padding:0.2cm; \">relationsatisf scored</th>\n",
       "</tr>\n",
       "<tr>\n",
       "<td style=\" text-align:center; border-bottom:1px solid; font-style:italic; font-weight:normal;  text-align:left; \">Predictors</td>\n",
       "<td style=\" text-align:center; border-bottom:1px solid; font-style:italic; font-weight:normal;  \">Estimates</td>\n",
       "<td style=\" text-align:center; border-bottom:1px solid; font-style:italic; font-weight:normal;  \">CI</td>\n",
       "<td style=\" text-align:center; border-bottom:1px solid; font-style:italic; font-weight:normal;  \">p</td>\n",
       "</tr>\n",
       "<tr>\n",
       "<td style=\" padding:0.2cm; text-align:left; vertical-align:top; text-align:left; \">mat yn</td>\n",
       "<td style=\" padding:0.2cm; text-align:left; vertical-align:top; text-align:center;  \">1.27</td>\n",
       "<td style=\" padding:0.2cm; text-align:left; vertical-align:top; text-align:center;  \">&#45;1.61&nbsp;&ndash;&nbsp;4.15</td>\n",
       "<td style=\" padding:0.2cm; text-align:left; vertical-align:top; text-align:center;  \">0.387</td>\n",
       "</tr>\n",
       "\n",
       "<tr>\n",
       "<td style=\" padding:0.2cm; text-align:left; vertical-align:top; text-align:left; padding-top:0.1cm; padding-bottom:0.1cm;\">N <sub>study_id</sub></td>\n",
       "<td style=\" padding:0.2cm; text-align:left; vertical-align:top; padding-top:0.1cm; padding-bottom:0.1cm; text-align:left;\" colspan=\"3\">170</td>\n",
       "<tr>\n",
       "<td style=\" padding:0.2cm; text-align:left; vertical-align:top; text-align:left; padding-top:0.1cm; padding-bottom:0.1cm; border-top:1px solid;\">Observations</td>\n",
       "<td style=\" padding:0.2cm; text-align:left; vertical-align:top; padding-top:0.1cm; padding-bottom:0.1cm; text-align:left; border-top:1px solid;\" colspan=\"3\">454</td>\n",
       "</tr>\n",
       "<tr>\n",
       "<td style=\" padding:0.2cm; text-align:left; vertical-align:top; text-align:left; padding-top:0.1cm; padding-bottom:0.1cm;\">Marginal R<sup>2</sup> / Conditional R<sup>2</sup></td>\n",
       "<td style=\" padding:0.2cm; text-align:left; vertical-align:top; padding-top:0.1cm; padding-bottom:0.1cm; text-align:left;\" colspan=\"3\">0.391 / 0.728</td>\n",
       "</tr>\n",
       "\n",
       "</table>\n"
      ]
     }
    },
    {
     "output_type": "display_data",
     "metadata": {},
     "data": {
      "text/html": [
       "<table style=\"border-collapse:collapse; border:none;\">\n",
       "<tr>\n",
       "<th style=\"border-top: double; text-align:center; font-style:normal; font-weight:bold; padding:0.2cm;  text-align:left; \">&nbsp;</th>\n",
       "<th colspan=\"3\" style=\"border-top: double; text-align:center; font-style:normal; font-weight:bold; padding:0.2cm; \">relationsatisf scored</th>\n",
       "</tr>\n",
       "<tr>\n",
       "<td style=\" text-align:center; border-bottom:1px solid; font-style:italic; font-weight:normal;  text-align:left; \">Predictors</td>\n",
       "<td style=\" text-align:center; border-bottom:1px solid; font-style:italic; font-weight:normal;  \">Estimates</td>\n",
       "<td style=\" text-align:center; border-bottom:1px solid; font-style:italic; font-weight:normal;  \">CI</td>\n",
       "<td style=\" text-align:center; border-bottom:1px solid; font-style:italic; font-weight:normal;  \">p</td>\n",
       "</tr>\n",
       "<tr>\n",
       "<td style=\" padding:0.2cm; text-align:left; vertical-align:top; text-align:left; \">mat yn</td>\n",
       "<td style=\" padding:0.2cm; text-align:left; vertical-align:top; text-align:center;  \">0.24</td>\n",
       "<td style=\" padding:0.2cm; text-align:left; vertical-align:top; text-align:center;  \">&#45;1.04&nbsp;&ndash;&nbsp;1.52</td>\n",
       "<td style=\" padding:0.2cm; text-align:left; vertical-align:top; text-align:center;  \">0.713</td>\n",
       "</tr>\n",
       "\n",
       "<tr>\n",
       "<td style=\" padding:0.2cm; text-align:left; vertical-align:top; text-align:left; padding-top:0.1cm; padding-bottom:0.1cm;\">N <sub>study_id</sub></td>\n",
       "<td style=\" padding:0.2cm; text-align:left; vertical-align:top; padding-top:0.1cm; padding-bottom:0.1cm; text-align:left;\" colspan=\"3\">167</td>\n",
       "<tr>\n",
       "<td style=\" padding:0.2cm; text-align:left; vertical-align:top; text-align:left; padding-top:0.1cm; padding-bottom:0.1cm; border-top:1px solid;\">Observations</td>\n",
       "<td style=\" padding:0.2cm; text-align:left; vertical-align:top; padding-top:0.1cm; padding-bottom:0.1cm; text-align:left; border-top:1px solid;\" colspan=\"3\">432</td>\n",
       "</tr>\n",
       "<tr>\n",
       "<td style=\" padding:0.2cm; text-align:left; vertical-align:top; text-align:left; padding-top:0.1cm; padding-bottom:0.1cm;\">Marginal R<sup>2</sup> / Conditional R<sup>2</sup></td>\n",
       "<td style=\" padding:0.2cm; text-align:left; vertical-align:top; padding-top:0.1cm; padding-bottom:0.1cm; text-align:left;\" colspan=\"3\">0.300 / 0.736</td>\n",
       "</tr>\n",
       "\n",
       "</table>\n"
      ]
     }
    }
   ],
   "source": [
    "lmer(relationsatisf_scored ~ time_c*arm_c + relationsatisf_0 + mat_yn +\n",
    "       (1 + time_c | study_id), data = subset(data, dyad == 1)) |> \n",
    "  sjPlot::tab_model(show.re.var = F, show.icc = F, terms = c(\"mat_yn\"))"
   ],
   "id": "bdd9040d-e96d-4685-920b-df6c9ded495d"
  },
  {
   "cell_type": "markdown",
   "metadata": {},
   "source": [
    "`inpatient_yn_ever` - **significant for partner** not significant for patient"
   ],
   "id": "4b57bbf2-1894-4dc1-bcfa-14829ce89908"
  },
  {
   "cell_type": "code",
   "execution_count": null,
   "metadata": {},
   "outputs": [
    {
     "output_type": "display_data",
     "metadata": {},
     "data": {
      "text/html": [
       "<table style=\"border-collapse:collapse; border:none;\">\n",
       "<tr>\n",
       "<th style=\"border-top: double; text-align:center; font-style:normal; font-weight:bold; padding:0.2cm;  text-align:left; \">&nbsp;</th>\n",
       "<th colspan=\"3\" style=\"border-top: double; text-align:center; font-style:normal; font-weight:bold; padding:0.2cm; \">relationsatisf scored</th>\n",
       "</tr>\n",
       "<tr>\n",
       "<td style=\" text-align:center; border-bottom:1px solid; font-style:italic; font-weight:normal;  text-align:left; \">Predictors</td>\n",
       "<td style=\" text-align:center; border-bottom:1px solid; font-style:italic; font-weight:normal;  \">Estimates</td>\n",
       "<td style=\" text-align:center; border-bottom:1px solid; font-style:italic; font-weight:normal;  \">CI</td>\n",
       "<td style=\" text-align:center; border-bottom:1px solid; font-style:italic; font-weight:normal;  \">p</td>\n",
       "</tr>\n",
       "<tr>\n",
       "<td style=\" padding:0.2cm; text-align:left; vertical-align:top; text-align:left; \">inpatient yn ever</td>\n",
       "<td style=\" padding:0.2cm; text-align:left; vertical-align:top; text-align:center;  \">&#45;7.23</td>\n",
       "<td style=\" padding:0.2cm; text-align:left; vertical-align:top; text-align:center;  \">&#45;11.61&nbsp;&ndash;&nbsp;-2.84</td>\n",
       "<td style=\" padding:0.2cm; text-align:left; vertical-align:top; text-align:center;  \"><strong>0.001</strong></td>\n",
       "</tr>\n",
       "\n",
       "<tr>\n",
       "<td style=\" padding:0.2cm; text-align:left; vertical-align:top; text-align:left; padding-top:0.1cm; padding-bottom:0.1cm;\">N <sub>study_id</sub></td>\n",
       "<td style=\" padding:0.2cm; text-align:left; vertical-align:top; padding-top:0.1cm; padding-bottom:0.1cm; text-align:left;\" colspan=\"3\">170</td>\n",
       "<tr>\n",
       "<td style=\" padding:0.2cm; text-align:left; vertical-align:top; text-align:left; padding-top:0.1cm; padding-bottom:0.1cm; border-top:1px solid;\">Observations</td>\n",
       "<td style=\" padding:0.2cm; text-align:left; vertical-align:top; padding-top:0.1cm; padding-bottom:0.1cm; text-align:left; border-top:1px solid;\" colspan=\"3\">454</td>\n",
       "</tr>\n",
       "<tr>\n",
       "<td style=\" padding:0.2cm; text-align:left; vertical-align:top; text-align:left; padding-top:0.1cm; padding-bottom:0.1cm;\">Marginal R<sup>2</sup> / Conditional R<sup>2</sup></td>\n",
       "<td style=\" padding:0.2cm; text-align:left; vertical-align:top; padding-top:0.1cm; padding-bottom:0.1cm; text-align:left;\" colspan=\"3\">0.413 / 0.727</td>\n",
       "</tr>\n",
       "\n",
       "</table>\n"
      ]
     }
    },
    {
     "output_type": "display_data",
     "metadata": {},
     "data": {
      "text/html": [
       "<table style=\"border-collapse:collapse; border:none;\">\n",
       "<tr>\n",
       "<th style=\"border-top: double; text-align:center; font-style:normal; font-weight:bold; padding:0.2cm;  text-align:left; \">&nbsp;</th>\n",
       "<th colspan=\"3\" style=\"border-top: double; text-align:center; font-style:normal; font-weight:bold; padding:0.2cm; \">relationsatisf scored</th>\n",
       "</tr>\n",
       "<tr>\n",
       "<td style=\" text-align:center; border-bottom:1px solid; font-style:italic; font-weight:normal;  text-align:left; \">Predictors</td>\n",
       "<td style=\" text-align:center; border-bottom:1px solid; font-style:italic; font-weight:normal;  \">Estimates</td>\n",
       "<td style=\" text-align:center; border-bottom:1px solid; font-style:italic; font-weight:normal;  \">CI</td>\n",
       "<td style=\" text-align:center; border-bottom:1px solid; font-style:italic; font-weight:normal;  \">p</td>\n",
       "</tr>\n",
       "<tr>\n",
       "<td style=\" padding:0.2cm; text-align:left; vertical-align:top; text-align:left; \">inpatient yn ever</td>\n",
       "<td style=\" padding:0.2cm; text-align:left; vertical-align:top; text-align:center;  \">&#45;1.06</td>\n",
       "<td style=\" padding:0.2cm; text-align:left; vertical-align:top; text-align:center;  \">&#45;2.74&nbsp;&ndash;&nbsp;0.61</td>\n",
       "<td style=\" padding:0.2cm; text-align:left; vertical-align:top; text-align:center;  \">0.212</td>\n",
       "</tr>\n",
       "\n",
       "<tr>\n",
       "<td style=\" padding:0.2cm; text-align:left; vertical-align:top; text-align:left; padding-top:0.1cm; padding-bottom:0.1cm;\">N <sub>study_id</sub></td>\n",
       "<td style=\" padding:0.2cm; text-align:left; vertical-align:top; padding-top:0.1cm; padding-bottom:0.1cm; text-align:left;\" colspan=\"3\">168</td>\n",
       "<tr>\n",
       "<td style=\" padding:0.2cm; text-align:left; vertical-align:top; text-align:left; padding-top:0.1cm; padding-bottom:0.1cm; border-top:1px solid;\">Observations</td>\n",
       "<td style=\" padding:0.2cm; text-align:left; vertical-align:top; padding-top:0.1cm; padding-bottom:0.1cm; text-align:left; border-top:1px solid;\" colspan=\"3\">436</td>\n",
       "</tr>\n",
       "<tr>\n",
       "<td style=\" padding:0.2cm; text-align:left; vertical-align:top; text-align:left; padding-top:0.1cm; padding-bottom:0.1cm;\">Marginal R<sup>2</sup> / Conditional R<sup>2</sup></td>\n",
       "<td style=\" padding:0.2cm; text-align:left; vertical-align:top; padding-top:0.1cm; padding-bottom:0.1cm; text-align:left;\" colspan=\"3\">0.311 / 0.726</td>\n",
       "</tr>\n",
       "\n",
       "</table>\n"
      ]
     }
    }
   ],
   "source": [
    "lmer(relationsatisf_scored ~ time_c*arm_c + relationsatisf_0 + \n",
    "       inpatient_yn_ever + (1 + time_c | study_id), \n",
    "     data = subset(data, dyad == 1)) |> \n",
    "  sjPlot::tab_model(show.re.var = F, show.icc = F, terms = c(\"inpatient_yn_ever\"))"
   ],
   "id": "4b7c4243-0bed-4fb3-a090-1297573fecef"
  },
  {
   "cell_type": "markdown",
   "metadata": {},
   "source": [
    "`other_psych_treatment_yn` - not significant"
   ],
   "id": "be002c85-10e0-49b6-9341-aca37ed18d57"
  },
  {
   "cell_type": "code",
   "execution_count": null,
   "metadata": {},
   "outputs": [
    {
     "output_type": "display_data",
     "metadata": {},
     "data": {
      "text/html": [
       "<table style=\"border-collapse:collapse; border:none;\">\n",
       "<tr>\n",
       "<th style=\"border-top: double; text-align:center; font-style:normal; font-weight:bold; padding:0.2cm;  text-align:left; \">&nbsp;</th>\n",
       "<th colspan=\"3\" style=\"border-top: double; text-align:center; font-style:normal; font-weight:bold; padding:0.2cm; \">relationsatisf scored</th>\n",
       "</tr>\n",
       "<tr>\n",
       "<td style=\" text-align:center; border-bottom:1px solid; font-style:italic; font-weight:normal;  text-align:left; \">Predictors</td>\n",
       "<td style=\" text-align:center; border-bottom:1px solid; font-style:italic; font-weight:normal;  \">Estimates</td>\n",
       "<td style=\" text-align:center; border-bottom:1px solid; font-style:italic; font-weight:normal;  \">CI</td>\n",
       "<td style=\" text-align:center; border-bottom:1px solid; font-style:italic; font-weight:normal;  \">p</td>\n",
       "</tr>\n",
       "<tr>\n",
       "<td style=\" padding:0.2cm; text-align:left; vertical-align:top; text-align:left; \">other psych treatment yn</td>\n",
       "<td style=\" padding:0.2cm; text-align:left; vertical-align:top; text-align:center;  \">&#45;1.16</td>\n",
       "<td style=\" padding:0.2cm; text-align:left; vertical-align:top; text-align:center;  \">&#45;2.76&nbsp;&ndash;&nbsp;0.45</td>\n",
       "<td style=\" padding:0.2cm; text-align:left; vertical-align:top; text-align:center;  \">0.157</td>\n",
       "</tr>\n",
       "\n",
       "<tr>\n",
       "<td style=\" padding:0.2cm; text-align:left; vertical-align:top; text-align:left; padding-top:0.1cm; padding-bottom:0.1cm;\">N <sub>study_id</sub></td>\n",
       "<td style=\" padding:0.2cm; text-align:left; vertical-align:top; padding-top:0.1cm; padding-bottom:0.1cm; text-align:left;\" colspan=\"3\">170</td>\n",
       "<tr>\n",
       "<td style=\" padding:0.2cm; text-align:left; vertical-align:top; text-align:left; padding-top:0.1cm; padding-bottom:0.1cm; border-top:1px solid;\">Observations</td>\n",
       "<td style=\" padding:0.2cm; text-align:left; vertical-align:top; padding-top:0.1cm; padding-bottom:0.1cm; text-align:left; border-top:1px solid;\" colspan=\"3\">454</td>\n",
       "</tr>\n",
       "<tr>\n",
       "<td style=\" padding:0.2cm; text-align:left; vertical-align:top; text-align:left; padding-top:0.1cm; padding-bottom:0.1cm;\">Marginal R<sup>2</sup> / Conditional R<sup>2</sup></td>\n",
       "<td style=\" padding:0.2cm; text-align:left; vertical-align:top; padding-top:0.1cm; padding-bottom:0.1cm; text-align:left;\" colspan=\"3\">0.393 / 0.727</td>\n",
       "</tr>\n",
       "\n",
       "</table>\n"
      ]
     }
    },
    {
     "output_type": "display_data",
     "metadata": {},
     "data": {
      "text/html": [
       "<table style=\"border-collapse:collapse; border:none;\">\n",
       "<tr>\n",
       "<th style=\"border-top: double; text-align:center; font-style:normal; font-weight:bold; padding:0.2cm;  text-align:left; \">&nbsp;</th>\n",
       "<th colspan=\"3\" style=\"border-top: double; text-align:center; font-style:normal; font-weight:bold; padding:0.2cm; \">relationsatisf scored</th>\n",
       "</tr>\n",
       "<tr>\n",
       "<td style=\" text-align:center; border-bottom:1px solid; font-style:italic; font-weight:normal;  text-align:left; \">Predictors</td>\n",
       "<td style=\" text-align:center; border-bottom:1px solid; font-style:italic; font-weight:normal;  \">Estimates</td>\n",
       "<td style=\" text-align:center; border-bottom:1px solid; font-style:italic; font-weight:normal;  \">CI</td>\n",
       "<td style=\" text-align:center; border-bottom:1px solid; font-style:italic; font-weight:normal;  \">p</td>\n",
       "</tr>\n",
       "<tr>\n",
       "<td style=\" padding:0.2cm; text-align:left; vertical-align:top; text-align:left; \">other psych treatment yn</td>\n",
       "<td style=\" padding:0.2cm; text-align:left; vertical-align:top; text-align:center;  \">&#45;0.41</td>\n",
       "<td style=\" padding:0.2cm; text-align:left; vertical-align:top; text-align:center;  \">&#45;1.51&nbsp;&ndash;&nbsp;0.70</td>\n",
       "<td style=\" padding:0.2cm; text-align:left; vertical-align:top; text-align:center;  \">0.472</td>\n",
       "</tr>\n",
       "\n",
       "<tr>\n",
       "<td style=\" padding:0.2cm; text-align:left; vertical-align:top; text-align:left; padding-top:0.1cm; padding-bottom:0.1cm;\">N <sub>study_id</sub></td>\n",
       "<td style=\" padding:0.2cm; text-align:left; vertical-align:top; padding-top:0.1cm; padding-bottom:0.1cm; text-align:left;\" colspan=\"3\">167</td>\n",
       "<tr>\n",
       "<td style=\" padding:0.2cm; text-align:left; vertical-align:top; text-align:left; padding-top:0.1cm; padding-bottom:0.1cm; border-top:1px solid;\">Observations</td>\n",
       "<td style=\" padding:0.2cm; text-align:left; vertical-align:top; padding-top:0.1cm; padding-bottom:0.1cm; text-align:left; border-top:1px solid;\" colspan=\"3\">435</td>\n",
       "</tr>\n",
       "<tr>\n",
       "<td style=\" padding:0.2cm; text-align:left; vertical-align:top; text-align:left; padding-top:0.1cm; padding-bottom:0.1cm;\">Marginal R<sup>2</sup> / Conditional R<sup>2</sup></td>\n",
       "<td style=\" padding:0.2cm; text-align:left; vertical-align:top; padding-top:0.1cm; padding-bottom:0.1cm; text-align:left;\" colspan=\"3\">0.307 / 0.727</td>\n",
       "</tr>\n",
       "\n",
       "</table>\n"
      ]
     }
    }
   ],
   "source": [
    "lmer(relationsatisf_scored ~ time_c*arm_c + relationsatisf_0 + \n",
    "       other_psych_treatment_yn + (1 + time_c | study_id),\n",
    "     data = subset(data, dyad == 1)) |> \n",
    "  sjPlot::tab_model(show.re.var = F, show.icc = F, terms = c(\"other_psych_treatment_yn\"))"
   ],
   "id": "ab559144-ab78-4875-ac8b-a91f58ac7575"
  },
  {
   "cell_type": "markdown",
   "metadata": {},
   "source": [
    "`other_medications_yn` - Not significant"
   ],
   "id": "366c3aa4-f1c5-4ac6-a328-1f8efc2be504"
  },
  {
   "cell_type": "code",
   "execution_count": null,
   "metadata": {},
   "outputs": [
    {
     "output_type": "display_data",
     "metadata": {},
     "data": {
      "text/html": [
       "<table style=\"border-collapse:collapse; border:none;\">\n",
       "<tr>\n",
       "<th style=\"border-top: double; text-align:center; font-style:normal; font-weight:bold; padding:0.2cm;  text-align:left; \">&nbsp;</th>\n",
       "<th colspan=\"3\" style=\"border-top: double; text-align:center; font-style:normal; font-weight:bold; padding:0.2cm; \">relationsatisf scored</th>\n",
       "</tr>\n",
       "<tr>\n",
       "<td style=\" text-align:center; border-bottom:1px solid; font-style:italic; font-weight:normal;  text-align:left; \">Predictors</td>\n",
       "<td style=\" text-align:center; border-bottom:1px solid; font-style:italic; font-weight:normal;  \">Estimates</td>\n",
       "<td style=\" text-align:center; border-bottom:1px solid; font-style:italic; font-weight:normal;  \">CI</td>\n",
       "<td style=\" text-align:center; border-bottom:1px solid; font-style:italic; font-weight:normal;  \">p</td>\n",
       "</tr>\n",
       "<tr>\n",
       "<td style=\" padding:0.2cm; text-align:left; vertical-align:top; text-align:left; \">other medications yn</td>\n",
       "<td style=\" padding:0.2cm; text-align:left; vertical-align:top; text-align:center;  \">&#45;0.28</td>\n",
       "<td style=\" padding:0.2cm; text-align:left; vertical-align:top; text-align:center;  \">&#45;1.55&nbsp;&ndash;&nbsp;0.99</td>\n",
       "<td style=\" padding:0.2cm; text-align:left; vertical-align:top; text-align:center;  \">0.667</td>\n",
       "</tr>\n",
       "\n",
       "<tr>\n",
       "<td style=\" padding:0.2cm; text-align:left; vertical-align:top; text-align:left; padding-top:0.1cm; padding-bottom:0.1cm;\">N <sub>study_id</sub></td>\n",
       "<td style=\" padding:0.2cm; text-align:left; vertical-align:top; padding-top:0.1cm; padding-bottom:0.1cm; text-align:left;\" colspan=\"3\">170</td>\n",
       "<tr>\n",
       "<td style=\" padding:0.2cm; text-align:left; vertical-align:top; text-align:left; padding-top:0.1cm; padding-bottom:0.1cm; border-top:1px solid;\">Observations</td>\n",
       "<td style=\" padding:0.2cm; text-align:left; vertical-align:top; padding-top:0.1cm; padding-bottom:0.1cm; text-align:left; border-top:1px solid;\" colspan=\"3\">452</td>\n",
       "</tr>\n",
       "<tr>\n",
       "<td style=\" padding:0.2cm; text-align:left; vertical-align:top; text-align:left; padding-top:0.1cm; padding-bottom:0.1cm;\">Marginal R<sup>2</sup> / Conditional R<sup>2</sup></td>\n",
       "<td style=\" padding:0.2cm; text-align:left; vertical-align:top; padding-top:0.1cm; padding-bottom:0.1cm; text-align:left;\" colspan=\"3\">0.391 / 0.725</td>\n",
       "</tr>\n",
       "\n",
       "</table>\n"
      ]
     }
    },
    {
     "output_type": "display_data",
     "metadata": {},
     "data": {
      "text/html": [
       "<table style=\"border-collapse:collapse; border:none;\">\n",
       "<tr>\n",
       "<th style=\"border-top: double; text-align:center; font-style:normal; font-weight:bold; padding:0.2cm;  text-align:left; \">&nbsp;</th>\n",
       "<th colspan=\"3\" style=\"border-top: double; text-align:center; font-style:normal; font-weight:bold; padding:0.2cm; \">relationsatisf scored</th>\n",
       "</tr>\n",
       "<tr>\n",
       "<td style=\" text-align:center; border-bottom:1px solid; font-style:italic; font-weight:normal;  text-align:left; \">Predictors</td>\n",
       "<td style=\" text-align:center; border-bottom:1px solid; font-style:italic; font-weight:normal;  \">Estimates</td>\n",
       "<td style=\" text-align:center; border-bottom:1px solid; font-style:italic; font-weight:normal;  \">CI</td>\n",
       "<td style=\" text-align:center; border-bottom:1px solid; font-style:italic; font-weight:normal;  \">p</td>\n",
       "</tr>\n",
       "<tr>\n",
       "<td style=\" padding:0.2cm; text-align:left; vertical-align:top; text-align:left; \">other medications yn</td>\n",
       "<td style=\" padding:0.2cm; text-align:left; vertical-align:top; text-align:center;  \">0.08</td>\n",
       "<td style=\" padding:0.2cm; text-align:left; vertical-align:top; text-align:center;  \">&#45;0.98&nbsp;&ndash;&nbsp;1.14</td>\n",
       "<td style=\" padding:0.2cm; text-align:left; vertical-align:top; text-align:center;  \">0.882</td>\n",
       "</tr>\n",
       "\n",
       "<tr>\n",
       "<td style=\" padding:0.2cm; text-align:left; vertical-align:top; text-align:left; padding-top:0.1cm; padding-bottom:0.1cm;\">N <sub>study_id</sub></td>\n",
       "<td style=\" padding:0.2cm; text-align:left; vertical-align:top; padding-top:0.1cm; padding-bottom:0.1cm; text-align:left;\" colspan=\"3\">167</td>\n",
       "<tr>\n",
       "<td style=\" padding:0.2cm; text-align:left; vertical-align:top; text-align:left; padding-top:0.1cm; padding-bottom:0.1cm; border-top:1px solid;\">Observations</td>\n",
       "<td style=\" padding:0.2cm; text-align:left; vertical-align:top; padding-top:0.1cm; padding-bottom:0.1cm; text-align:left; border-top:1px solid;\" colspan=\"3\">431</td>\n",
       "</tr>\n",
       "<tr>\n",
       "<td style=\" padding:0.2cm; text-align:left; vertical-align:top; text-align:left; padding-top:0.1cm; padding-bottom:0.1cm;\">Marginal R<sup>2</sup> / Conditional R<sup>2</sup></td>\n",
       "<td style=\" padding:0.2cm; text-align:left; vertical-align:top; padding-top:0.1cm; padding-bottom:0.1cm; text-align:left;\" colspan=\"3\">0.303 / 0.733</td>\n",
       "</tr>\n",
       "\n",
       "</table>\n"
      ]
     }
    }
   ],
   "source": [
    "lmer(relationsatisf_scored ~ time_c*arm_c + relationsatisf_0 + \n",
    "       other_medications_yn + (1 + time_c | study_id), \n",
    "     data = subset(data, dyad == 1)) |> \n",
    "  sjPlot::tab_model(show.re.var = F, show.icc = F, terms = c(\"other_medications_yn\"))"
   ],
   "id": "4d5544c4-2c0b-4f18-b3a0-f80047673ebf"
  },
  {
   "cell_type": "markdown",
   "metadata": {},
   "source": [
    "##### Final Model with Significant Covariates"
   ],
   "id": "4af6cc97-51ca-43cb-8535-44f473c6537e"
  },
  {
   "cell_type": "code",
   "execution_count": null,
   "metadata": {},
   "outputs": [
    {
     "output_type": "display_data",
     "metadata": {},
     "data": {
      "text/html": [
       "<table style=\"border-collapse:collapse; border:none;\">\n",
       "<tr>\n",
       "<th style=\"border-top: double; text-align:center; font-style:normal; font-weight:bold; padding:0.2cm;  text-align:left; \">&nbsp;</th>\n",
       "<th colspan=\"3\" style=\"border-top: double; text-align:center; font-style:normal; font-weight:bold; padding:0.2cm; \">relationsatisf scored</th>\n",
       "</tr>\n",
       "<tr>\n",
       "<td style=\" text-align:center; border-bottom:1px solid; font-style:italic; font-weight:normal;  text-align:left; \">Predictors</td>\n",
       "<td style=\" text-align:center; border-bottom:1px solid; font-style:italic; font-weight:normal;  \">Estimates</td>\n",
       "<td style=\" text-align:center; border-bottom:1px solid; font-style:italic; font-weight:normal;  \">CI</td>\n",
       "<td style=\" text-align:center; border-bottom:1px solid; font-style:italic; font-weight:normal;  \">p</td>\n",
       "</tr>\n",
       "<tr>\n",
       "<td style=\" padding:0.2cm; text-align:left; vertical-align:top; text-align:left; \">(Intercept)</td>\n",
       "<td style=\" padding:0.2cm; text-align:left; vertical-align:top; text-align:center;  \">22.07</td>\n",
       "<td style=\" padding:0.2cm; text-align:left; vertical-align:top; text-align:center;  \">21.43&nbsp;&ndash;&nbsp;22.72</td>\n",
       "<td style=\" padding:0.2cm; text-align:left; vertical-align:top; text-align:center;  \"><strong>&lt;0.001</strong></td>\n",
       "</tr>\n",
       "<tr>\n",
       "<td style=\" padding:0.2cm; text-align:left; vertical-align:top; text-align:left; \">time c</td>\n",
       "<td style=\" padding:0.2cm; text-align:left; vertical-align:top; text-align:center;  \">0.10</td>\n",
       "<td style=\" padding:0.2cm; text-align:left; vertical-align:top; text-align:center;  \">&#45;0.36&nbsp;&ndash;&nbsp;0.57</td>\n",
       "<td style=\" padding:0.2cm; text-align:left; vertical-align:top; text-align:center;  \">0.664</td>\n",
       "</tr>\n",
       "<tr>\n",
       "<td style=\" padding:0.2cm; text-align:left; vertical-align:top; text-align:left; \">arm cfam and achess vs C</td>\n",
       "<td style=\" padding:0.2cm; text-align:left; vertical-align:top; text-align:center;  \">&#45;0.53</td>\n",
       "<td style=\" padding:0.2cm; text-align:left; vertical-align:top; text-align:center;  \">&#45;1.90&nbsp;&ndash;&nbsp;0.85</td>\n",
       "<td style=\" padding:0.2cm; text-align:left; vertical-align:top; text-align:center;  \">0.451</td>\n",
       "</tr>\n",
       "<tr>\n",
       "<td style=\" padding:0.2cm; text-align:left; vertical-align:top; text-align:left; \">arm cachess vs fam</td>\n",
       "<td style=\" padding:0.2cm; text-align:left; vertical-align:top; text-align:center;  \">&#45;0.21</td>\n",
       "<td style=\" padding:0.2cm; text-align:left; vertical-align:top; text-align:center;  \">&#45;1.75&nbsp;&ndash;&nbsp;1.34</td>\n",
       "<td style=\" padding:0.2cm; text-align:left; vertical-align:top; text-align:center;  \">0.793</td>\n",
       "</tr>\n",
       "<tr>\n",
       "<td style=\" padding:0.2cm; text-align:left; vertical-align:top; text-align:left; \">relationsatisf 0</td>\n",
       "<td style=\" padding:0.2cm; text-align:left; vertical-align:top; text-align:center;  \">0.86</td>\n",
       "<td style=\" padding:0.2cm; text-align:left; vertical-align:top; text-align:center;  \">0.74&nbsp;&ndash;&nbsp;0.99</td>\n",
       "<td style=\" padding:0.2cm; text-align:left; vertical-align:top; text-align:center;  \"><strong>&lt;0.001</strong></td>\n",
       "</tr>\n",
       "<tr>\n",
       "<td style=\" padding:0.2cm; text-align:left; vertical-align:top; text-align:left; \">inpatient yn ever</td>\n",
       "<td style=\" padding:0.2cm; text-align:left; vertical-align:top; text-align:center;  \">&#45;7.23</td>\n",
       "<td style=\" padding:0.2cm; text-align:left; vertical-align:top; text-align:center;  \">&#45;11.61&nbsp;&ndash;&nbsp;-2.84</td>\n",
       "<td style=\" padding:0.2cm; text-align:left; vertical-align:top; text-align:center;  \"><strong>0.001</strong></td>\n",
       "</tr>\n",
       "<tr>\n",
       "<td style=\" padding:0.2cm; text-align:left; vertical-align:top; text-align:left; \">time c × arm cfam and<br>achess vs C</td>\n",
       "<td style=\" padding:0.2cm; text-align:left; vertical-align:top; text-align:center;  \">&#45;0.09</td>\n",
       "<td style=\" padding:0.2cm; text-align:left; vertical-align:top; text-align:center;  \">&#45;1.10&nbsp;&ndash;&nbsp;0.92</td>\n",
       "<td style=\" padding:0.2cm; text-align:left; vertical-align:top; text-align:center;  \">0.858</td>\n",
       "</tr>\n",
       "<tr>\n",
       "<td style=\" padding:0.2cm; text-align:left; vertical-align:top; text-align:left; \">time c × arm cachess vs<br>fam</td>\n",
       "<td style=\" padding:0.2cm; text-align:left; vertical-align:top; text-align:center;  \">0.70</td>\n",
       "<td style=\" padding:0.2cm; text-align:left; vertical-align:top; text-align:center;  \">&#45;0.43&nbsp;&ndash;&nbsp;1.82</td>\n",
       "<td style=\" padding:0.2cm; text-align:left; vertical-align:top; text-align:center;  \">0.224</td>\n",
       "</tr>\n",
       "\n",
       "<tr>\n",
       "<td style=\" padding:0.2cm; text-align:left; vertical-align:top; text-align:left; padding-top:0.1cm; padding-bottom:0.1cm;\">N <sub>study_id</sub></td>\n",
       "<td style=\" padding:0.2cm; text-align:left; vertical-align:top; padding-top:0.1cm; padding-bottom:0.1cm; text-align:left;\" colspan=\"3\">170</td>\n",
       "<tr>\n",
       "<td style=\" padding:0.2cm; text-align:left; vertical-align:top; text-align:left; padding-top:0.1cm; padding-bottom:0.1cm; border-top:1px solid;\">Observations</td>\n",
       "<td style=\" padding:0.2cm; text-align:left; vertical-align:top; padding-top:0.1cm; padding-bottom:0.1cm; text-align:left; border-top:1px solid;\" colspan=\"3\">454</td>\n",
       "</tr>\n",
       "<tr>\n",
       "<td style=\" padding:0.2cm; text-align:left; vertical-align:top; text-align:left; padding-top:0.1cm; padding-bottom:0.1cm;\">Marginal R<sup>2</sup> / Conditional R<sup>2</sup></td>\n",
       "<td style=\" padding:0.2cm; text-align:left; vertical-align:top; padding-top:0.1cm; padding-bottom:0.1cm; text-align:left;\" colspan=\"3\">0.413 / 0.727</td>\n",
       "</tr>\n",
       "\n",
       "</table>\n"
      ]
     }
    },
    {
     "output_type": "display_data",
     "metadata": {},
     "data": {
      "text/html": [
       "<table style=\"border-collapse:collapse; border:none;\">\n",
       "<tr>\n",
       "<th style=\"border-top: double; text-align:center; font-style:normal; font-weight:bold; padding:0.2cm;  text-align:left; \">&nbsp;</th>\n",
       "<th colspan=\"3\" style=\"border-top: double; text-align:center; font-style:normal; font-weight:bold; padding:0.2cm; \">relationsatisf scored</th>\n",
       "</tr>\n",
       "<tr>\n",
       "<td style=\" text-align:center; border-bottom:1px solid; font-style:italic; font-weight:normal;  text-align:left; \">Predictors</td>\n",
       "<td style=\" text-align:center; border-bottom:1px solid; font-style:italic; font-weight:normal;  \">Estimates</td>\n",
       "<td style=\" text-align:center; border-bottom:1px solid; font-style:italic; font-weight:normal;  \">CI</td>\n",
       "<td style=\" text-align:center; border-bottom:1px solid; font-style:italic; font-weight:normal;  \">p</td>\n",
       "</tr>\n",
       "<tr>\n",
       "<td style=\" padding:0.2cm; text-align:left; vertical-align:top; text-align:left; \">(Intercept)</td>\n",
       "<td style=\" padding:0.2cm; text-align:left; vertical-align:top; text-align:center;  \">21.41</td>\n",
       "<td style=\" padding:0.2cm; text-align:left; vertical-align:top; text-align:center;  \">20.76&nbsp;&ndash;&nbsp;22.06</td>\n",
       "<td style=\" padding:0.2cm; text-align:left; vertical-align:top; text-align:center;  \"><strong>&lt;0.001</strong></td>\n",
       "</tr>\n",
       "<tr>\n",
       "<td style=\" padding:0.2cm; text-align:left; vertical-align:top; text-align:left; \">time c</td>\n",
       "<td style=\" padding:0.2cm; text-align:left; vertical-align:top; text-align:center;  \">&#45;0.12</td>\n",
       "<td style=\" padding:0.2cm; text-align:left; vertical-align:top; text-align:center;  \">&#45;0.53&nbsp;&ndash;&nbsp;0.29</td>\n",
       "<td style=\" padding:0.2cm; text-align:left; vertical-align:top; text-align:center;  \">0.573</td>\n",
       "</tr>\n",
       "<tr>\n",
       "<td style=\" padding:0.2cm; text-align:left; vertical-align:top; text-align:left; \">arm cfam and achess vs C</td>\n",
       "<td style=\" padding:0.2cm; text-align:left; vertical-align:top; text-align:center;  \">&#45;0.36</td>\n",
       "<td style=\" padding:0.2cm; text-align:left; vertical-align:top; text-align:center;  \">&#45;1.75&nbsp;&ndash;&nbsp;1.02</td>\n",
       "<td style=\" padding:0.2cm; text-align:left; vertical-align:top; text-align:center;  \">0.606</td>\n",
       "</tr>\n",
       "<tr>\n",
       "<td style=\" padding:0.2cm; text-align:left; vertical-align:top; text-align:left; \">arm cachess vs fam</td>\n",
       "<td style=\" padding:0.2cm; text-align:left; vertical-align:top; text-align:center;  \">1.31</td>\n",
       "<td style=\" padding:0.2cm; text-align:left; vertical-align:top; text-align:center;  \">&#45;0.26&nbsp;&ndash;&nbsp;2.89</td>\n",
       "<td style=\" padding:0.2cm; text-align:left; vertical-align:top; text-align:center;  \">0.102</td>\n",
       "</tr>\n",
       "<tr>\n",
       "<td style=\" padding:0.2cm; text-align:left; vertical-align:top; text-align:left; \">relationsatisf 0</td>\n",
       "<td style=\" padding:0.2cm; text-align:left; vertical-align:top; text-align:center;  \">0.68</td>\n",
       "<td style=\" padding:0.2cm; text-align:left; vertical-align:top; text-align:center;  \">0.55&nbsp;&ndash;&nbsp;0.81</td>\n",
       "<td style=\" padding:0.2cm; text-align:left; vertical-align:top; text-align:center;  \"><strong>&lt;0.001</strong></td>\n",
       "</tr>\n",
       "<tr>\n",
       "<td style=\" padding:0.2cm; text-align:left; vertical-align:top; text-align:left; \">edu c</td>\n",
       "<td style=\" padding:0.2cm; text-align:left; vertical-align:top; text-align:center;  \">0.61</td>\n",
       "<td style=\" padding:0.2cm; text-align:left; vertical-align:top; text-align:center;  \">0.03&nbsp;&ndash;&nbsp;1.20</td>\n",
       "<td style=\" padding:0.2cm; text-align:left; vertical-align:top; text-align:center;  \"><strong>0.040</strong></td>\n",
       "</tr>\n",
       "<tr>\n",
       "<td style=\" padding:0.2cm; text-align:left; vertical-align:top; text-align:left; \">time c × arm cfam and<br>achess vs C</td>\n",
       "<td style=\" padding:0.2cm; text-align:left; vertical-align:top; text-align:center;  \">&#45;0.52</td>\n",
       "<td style=\" padding:0.2cm; text-align:left; vertical-align:top; text-align:center;  \">&#45;1.38&nbsp;&ndash;&nbsp;0.35</td>\n",
       "<td style=\" padding:0.2cm; text-align:left; vertical-align:top; text-align:center;  \">0.243</td>\n",
       "</tr>\n",
       "<tr>\n",
       "<td style=\" padding:0.2cm; text-align:left; vertical-align:top; text-align:left; \">time c × arm cachess vs<br>fam</td>\n",
       "<td style=\" padding:0.2cm; text-align:left; vertical-align:top; text-align:center;  \">0.61</td>\n",
       "<td style=\" padding:0.2cm; text-align:left; vertical-align:top; text-align:center;  \">&#45;0.40&nbsp;&ndash;&nbsp;1.62</td>\n",
       "<td style=\" padding:0.2cm; text-align:left; vertical-align:top; text-align:center;  \">0.238</td>\n",
       "</tr>\n",
       "\n",
       "<tr>\n",
       "<td style=\" padding:0.2cm; text-align:left; vertical-align:top; text-align:left; padding-top:0.1cm; padding-bottom:0.1cm;\">N <sub>study_id</sub></td>\n",
       "<td style=\" padding:0.2cm; text-align:left; vertical-align:top; padding-top:0.1cm; padding-bottom:0.1cm; text-align:left;\" colspan=\"3\">168</td>\n",
       "<tr>\n",
       "<td style=\" padding:0.2cm; text-align:left; vertical-align:top; text-align:left; padding-top:0.1cm; padding-bottom:0.1cm; border-top:1px solid;\">Observations</td>\n",
       "<td style=\" padding:0.2cm; text-align:left; vertical-align:top; padding-top:0.1cm; padding-bottom:0.1cm; text-align:left; border-top:1px solid;\" colspan=\"3\">436</td>\n",
       "</tr>\n",
       "<tr>\n",
       "<td style=\" padding:0.2cm; text-align:left; vertical-align:top; text-align:left; padding-top:0.1cm; padding-bottom:0.1cm;\">Marginal R<sup>2</sup> / Conditional R<sup>2</sup></td>\n",
       "<td style=\" padding:0.2cm; text-align:left; vertical-align:top; padding-top:0.1cm; padding-bottom:0.1cm; text-align:left;\" colspan=\"3\">0.318 / 0.723</td>\n",
       "</tr>\n",
       "\n",
       "</table>\n"
      ]
     }
    }
   ],
   "source": [
    "lmer(relationsatisf_scored ~ time_c*arm_c + relationsatisf_0 + \n",
    "       inpatient_yn_ever + (1 + time_c | study_id), \n",
    "     data = subset(data, dyad == 1)) |> \n",
    "  sjPlot::tab_model(show.re.var = F, show.icc = F)"
   ],
   "id": "cd65cccb-5193-458a-94ca-baf30c85e81c"
  },
  {
   "cell_type": "markdown",
   "metadata": {},
   "source": [
    "#### Secondary Partner Outcome 2: `abuse_scored`\n",
    "\n",
    "Distribution of residuals  \n",
    "*KW: Look into potential outliers?*\n",
    "\n",
    "*This model can only be fit for partners? Look into error*"
   ],
   "id": "c268d286-4e50-4de0-a49b-252b92277110"
  },
  {
   "cell_type": "code",
   "execution_count": null,
   "metadata": {},
   "outputs": [
    {
     "output_type": "display_data",
     "metadata": {},
     "data": {
      "image/png": "[encoded data removed]"
     }
    }
   ],
   "source": [
    "model_partner_sec_2 <- lmer(abuse_scored ~ time_c*arm_c + abuse_0 +\n",
    "                             (1 + time_c | study_id), data = subset(data, dyad == 1))\n",
    "\n",
    "tibble(error = residuals(model_partner_sec_2)) |> \n",
    "  ggplot(aes(x = error)) +\n",
    "  geom_histogram(color = \"black\", fill = \"light grey\", bins = 30)"
   ],
   "id": "348270b2-a9f2-4d8a-af1d-7d8fe8ebc3a7"
  },
  {
   "cell_type": "markdown",
   "metadata": {},
   "source": [
    "##### Look for significant covariates\n",
    "\n",
    "`race_white_only` - not significant"
   ],
   "id": "0f45e1dd-f4a9-43f1-abcd-23d954a14627"
  },
  {
   "cell_type": "code",
   "execution_count": null,
   "metadata": {},
   "outputs": [
    {
     "output_type": "display_data",
     "metadata": {},
     "data": {
      "text/html": [
       "<table style=\"border-collapse:collapse; border:none;\">\n",
       "<tr>\n",
       "<th style=\"border-top: double; text-align:center; font-style:normal; font-weight:bold; padding:0.2cm;  text-align:left; \">&nbsp;</th>\n",
       "<th colspan=\"3\" style=\"border-top: double; text-align:center; font-style:normal; font-weight:bold; padding:0.2cm; \">abuse scored</th>\n",
       "</tr>\n",
       "<tr>\n",
       "<td style=\" text-align:center; border-bottom:1px solid; font-style:italic; font-weight:normal;  text-align:left; \">Predictors</td>\n",
       "<td style=\" text-align:center; border-bottom:1px solid; font-style:italic; font-weight:normal;  \">Estimates</td>\n",
       "<td style=\" text-align:center; border-bottom:1px solid; font-style:italic; font-weight:normal;  \">CI</td>\n",
       "<td style=\" text-align:center; border-bottom:1px solid; font-style:italic; font-weight:normal;  \">p</td>\n",
       "</tr>\n",
       "<tr>\n",
       "<td style=\" padding:0.2cm; text-align:left; vertical-align:top; text-align:left; \">race white only</td>\n",
       "<td style=\" padding:0.2cm; text-align:left; vertical-align:top; text-align:center;  \">1.05</td>\n",
       "<td style=\" padding:0.2cm; text-align:left; vertical-align:top; text-align:center;  \">&#45;3.75&nbsp;&ndash;&nbsp;5.85</td>\n",
       "<td style=\" padding:0.2cm; text-align:left; vertical-align:top; text-align:center;  \">0.665</td>\n",
       "</tr>\n",
       "\n",
       "<tr>\n",
       "<td style=\" padding:0.2cm; text-align:left; vertical-align:top; text-align:left; padding-top:0.1cm; padding-bottom:0.1cm;\">N <sub>study_id</sub></td>\n",
       "<td style=\" padding:0.2cm; text-align:left; vertical-align:top; padding-top:0.1cm; padding-bottom:0.1cm; text-align:left;\" colspan=\"3\">62</td>\n",
       "<tr>\n",
       "<td style=\" padding:0.2cm; text-align:left; vertical-align:top; text-align:left; padding-top:0.1cm; padding-bottom:0.1cm; border-top:1px solid;\">Observations</td>\n",
       "<td style=\" padding:0.2cm; text-align:left; vertical-align:top; padding-top:0.1cm; padding-bottom:0.1cm; text-align:left; border-top:1px solid;\" colspan=\"3\">128</td>\n",
       "</tr>\n",
       "<tr>\n",
       "<td style=\" padding:0.2cm; text-align:left; vertical-align:top; text-align:left; padding-top:0.1cm; padding-bottom:0.1cm;\">Marginal R<sup>2</sup> / Conditional R<sup>2</sup></td>\n",
       "<td style=\" padding:0.2cm; text-align:left; vertical-align:top; padding-top:0.1cm; padding-bottom:0.1cm; text-align:left;\" colspan=\"3\">0.142 / 0.860</td>\n",
       "</tr>\n",
       "\n",
       "</table>\n"
      ]
     }
    }
   ],
   "source": [
    "lmer(abuse_scored ~ time_c*arm_c + abuse_0 + race_white_only + \n",
    "       (1 + time_c | study_id), data = subset(data, dyad == 1)) |> \n",
    "  sjPlot::tab_model(show.re.var = F, show.icc = F, terms = c(\"race_white_only\"))"
   ],
   "id": "7c92d8e7-b013-4d05-a954-a6dd8f8530f0"
  },
  {
   "cell_type": "markdown",
   "metadata": {},
   "source": [
    "`age_c` - not significant"
   ],
   "id": "7c730499-245b-4089-9343-66c4ec09c3a6"
  },
  {
   "cell_type": "code",
   "execution_count": null,
   "metadata": {},
   "outputs": [
    {
     "output_type": "display_data",
     "metadata": {},
     "data": {
      "text/html": [
       "<table style=\"border-collapse:collapse; border:none;\">\n",
       "<tr>\n",
       "<th style=\"border-top: double; text-align:center; font-style:normal; font-weight:bold; padding:0.2cm;  text-align:left; \">&nbsp;</th>\n",
       "<th colspan=\"3\" style=\"border-top: double; text-align:center; font-style:normal; font-weight:bold; padding:0.2cm; \">abuse scored</th>\n",
       "</tr>\n",
       "<tr>\n",
       "<td style=\" text-align:center; border-bottom:1px solid; font-style:italic; font-weight:normal;  text-align:left; \">Predictors</td>\n",
       "<td style=\" text-align:center; border-bottom:1px solid; font-style:italic; font-weight:normal;  \">Estimates</td>\n",
       "<td style=\" text-align:center; border-bottom:1px solid; font-style:italic; font-weight:normal;  \">CI</td>\n",
       "<td style=\" text-align:center; border-bottom:1px solid; font-style:italic; font-weight:normal;  \">p</td>\n",
       "</tr>\n",
       "<tr>\n",
       "<td style=\" padding:0.2cm; text-align:left; vertical-align:top; text-align:left; \">age c</td>\n",
       "<td style=\" padding:0.2cm; text-align:left; vertical-align:top; text-align:center;  \">&#45;0.03</td>\n",
       "<td style=\" padding:0.2cm; text-align:left; vertical-align:top; text-align:center;  \">&#45;0.21&nbsp;&ndash;&nbsp;0.16</td>\n",
       "<td style=\" padding:0.2cm; text-align:left; vertical-align:top; text-align:center;  \">0.774</td>\n",
       "</tr>\n",
       "\n",
       "<tr>\n",
       "<td style=\" padding:0.2cm; text-align:left; vertical-align:top; text-align:left; padding-top:0.1cm; padding-bottom:0.1cm;\">N <sub>study_id</sub></td>\n",
       "<td style=\" padding:0.2cm; text-align:left; vertical-align:top; padding-top:0.1cm; padding-bottom:0.1cm; text-align:left;\" colspan=\"3\">62</td>\n",
       "<tr>\n",
       "<td style=\" padding:0.2cm; text-align:left; vertical-align:top; text-align:left; padding-top:0.1cm; padding-bottom:0.1cm; border-top:1px solid;\">Observations</td>\n",
       "<td style=\" padding:0.2cm; text-align:left; vertical-align:top; padding-top:0.1cm; padding-bottom:0.1cm; text-align:left; border-top:1px solid;\" colspan=\"3\">128</td>\n",
       "</tr>\n",
       "<tr>\n",
       "<td style=\" padding:0.2cm; text-align:left; vertical-align:top; text-align:left; padding-top:0.1cm; padding-bottom:0.1cm;\">Marginal R<sup>2</sup> / Conditional R<sup>2</sup></td>\n",
       "<td style=\" padding:0.2cm; text-align:left; vertical-align:top; padding-top:0.1cm; padding-bottom:0.1cm; text-align:left;\" colspan=\"3\">0.142 / 0.861</td>\n",
       "</tr>\n",
       "\n",
       "</table>\n"
      ]
     }
    }
   ],
   "source": [
    "lmer(abuse_scored ~ time_c*arm_c + abuse_0 + age_c + (1 + time_c | study_id), \n",
    "     data = subset(data, dyad == 1)) |> \n",
    "  sjPlot::tab_model(show.re.var = F, show.icc = F, terms = c(\"age_c\"))"
   ],
   "id": "33204468-6eb9-4551-89ae-994163c10ca0"
  },
  {
   "cell_type": "markdown",
   "metadata": {},
   "source": [
    "`edu_c` - Not significant"
   ],
   "id": "1f567d4a-3f9f-4fcd-8807-13cf43e17ce9"
  },
  {
   "cell_type": "code",
   "execution_count": null,
   "metadata": {},
   "outputs": [
    {
     "output_type": "display_data",
     "metadata": {},
     "data": {
      "text/html": [
       "<table style=\"border-collapse:collapse; border:none;\">\n",
       "<tr>\n",
       "<th style=\"border-top: double; text-align:center; font-style:normal; font-weight:bold; padding:0.2cm;  text-align:left; \">&nbsp;</th>\n",
       "<th colspan=\"3\" style=\"border-top: double; text-align:center; font-style:normal; font-weight:bold; padding:0.2cm; \">abuse scored</th>\n",
       "</tr>\n",
       "<tr>\n",
       "<td style=\" text-align:center; border-bottom:1px solid; font-style:italic; font-weight:normal;  text-align:left; \">Predictors</td>\n",
       "<td style=\" text-align:center; border-bottom:1px solid; font-style:italic; font-weight:normal;  \">Estimates</td>\n",
       "<td style=\" text-align:center; border-bottom:1px solid; font-style:italic; font-weight:normal;  \">CI</td>\n",
       "<td style=\" text-align:center; border-bottom:1px solid; font-style:italic; font-weight:normal;  \">p</td>\n",
       "</tr>\n",
       "<tr>\n",
       "<td style=\" padding:0.2cm; text-align:left; vertical-align:top; text-align:left; \">edu c</td>\n",
       "<td style=\" padding:0.2cm; text-align:left; vertical-align:top; text-align:center;  \">0.28</td>\n",
       "<td style=\" padding:0.2cm; text-align:left; vertical-align:top; text-align:center;  \">&#45;1.95&nbsp;&ndash;&nbsp;2.50</td>\n",
       "<td style=\" padding:0.2cm; text-align:left; vertical-align:top; text-align:center;  \">0.807</td>\n",
       "</tr>\n",
       "\n",
       "<tr>\n",
       "<td style=\" padding:0.2cm; text-align:left; vertical-align:top; text-align:left; padding-top:0.1cm; padding-bottom:0.1cm;\">N <sub>study_id</sub></td>\n",
       "<td style=\" padding:0.2cm; text-align:left; vertical-align:top; padding-top:0.1cm; padding-bottom:0.1cm; text-align:left;\" colspan=\"3\">62</td>\n",
       "<tr>\n",
       "<td style=\" padding:0.2cm; text-align:left; vertical-align:top; text-align:left; padding-top:0.1cm; padding-bottom:0.1cm; border-top:1px solid;\">Observations</td>\n",
       "<td style=\" padding:0.2cm; text-align:left; vertical-align:top; padding-top:0.1cm; padding-bottom:0.1cm; text-align:left; border-top:1px solid;\" colspan=\"3\">128</td>\n",
       "</tr>\n",
       "<tr>\n",
       "<td style=\" padding:0.2cm; text-align:left; vertical-align:top; text-align:left; padding-top:0.1cm; padding-bottom:0.1cm;\">Marginal R<sup>2</sup> / Conditional R<sup>2</sup></td>\n",
       "<td style=\" padding:0.2cm; text-align:left; vertical-align:top; padding-top:0.1cm; padding-bottom:0.1cm; text-align:left;\" colspan=\"3\">0.142 / 0.862</td>\n",
       "</tr>\n",
       "\n",
       "</table>\n"
      ]
     }
    }
   ],
   "source": [
    "lmer(abuse_scored ~ time_c*arm_c + abuse_0 + edu_c + (1 + time_c | study_id), \n",
    "     data = subset(data, dyad == 1)) |> \n",
    "  sjPlot::tab_model(show.re.var = F, show.icc = F, terms = c(\"edu_c\"))"
   ],
   "id": "ea3ed184-2b4d-4615-bf7f-92bd6b769671"
  },
  {
   "cell_type": "markdown",
   "metadata": {},
   "source": [
    "`meetings_yn` - not significant"
   ],
   "id": "e78994fb-31f0-4012-9785-affccd3361cc"
  },
  {
   "cell_type": "code",
   "execution_count": null,
   "metadata": {},
   "outputs": [
    {
     "output_type": "display_data",
     "metadata": {},
     "data": {
      "text/html": [
       "<table style=\"border-collapse:collapse; border:none;\">\n",
       "<tr>\n",
       "<th style=\"border-top: double; text-align:center; font-style:normal; font-weight:bold; padding:0.2cm;  text-align:left; \">&nbsp;</th>\n",
       "<th colspan=\"3\" style=\"border-top: double; text-align:center; font-style:normal; font-weight:bold; padding:0.2cm; \">abuse scored</th>\n",
       "</tr>\n",
       "<tr>\n",
       "<td style=\" text-align:center; border-bottom:1px solid; font-style:italic; font-weight:normal;  text-align:left; \">Predictors</td>\n",
       "<td style=\" text-align:center; border-bottom:1px solid; font-style:italic; font-weight:normal;  \">Estimates</td>\n",
       "<td style=\" text-align:center; border-bottom:1px solid; font-style:italic; font-weight:normal;  \">CI</td>\n",
       "<td style=\" text-align:center; border-bottom:1px solid; font-style:italic; font-weight:normal;  \">p</td>\n",
       "</tr>\n",
       "<tr>\n",
       "<td style=\" padding:0.2cm; text-align:left; vertical-align:top; text-align:left; \">meetings yn</td>\n",
       "<td style=\" padding:0.2cm; text-align:left; vertical-align:top; text-align:center;  \">0.74</td>\n",
       "<td style=\" padding:0.2cm; text-align:left; vertical-align:top; text-align:center;  \">&#45;2.25&nbsp;&ndash;&nbsp;3.73</td>\n",
       "<td style=\" padding:0.2cm; text-align:left; vertical-align:top; text-align:center;  \">0.626</td>\n",
       "</tr>\n",
       "\n",
       "<tr>\n",
       "<td style=\" padding:0.2cm; text-align:left; vertical-align:top; text-align:left; padding-top:0.1cm; padding-bottom:0.1cm;\">N <sub>study_id</sub></td>\n",
       "<td style=\" padding:0.2cm; text-align:left; vertical-align:top; padding-top:0.1cm; padding-bottom:0.1cm; text-align:left;\" colspan=\"3\">62</td>\n",
       "<tr>\n",
       "<td style=\" padding:0.2cm; text-align:left; vertical-align:top; text-align:left; padding-top:0.1cm; padding-bottom:0.1cm; border-top:1px solid;\">Observations</td>\n",
       "<td style=\" padding:0.2cm; text-align:left; vertical-align:top; padding-top:0.1cm; padding-bottom:0.1cm; text-align:left; border-top:1px solid;\" colspan=\"3\">128</td>\n",
       "</tr>\n",
       "<tr>\n",
       "<td style=\" padding:0.2cm; text-align:left; vertical-align:top; text-align:left; padding-top:0.1cm; padding-bottom:0.1cm;\">Marginal R<sup>2</sup> / Conditional R<sup>2</sup></td>\n",
       "<td style=\" padding:0.2cm; text-align:left; vertical-align:top; padding-top:0.1cm; padding-bottom:0.1cm; text-align:left;\" colspan=\"3\">0.141 / 0.859</td>\n",
       "</tr>\n",
       "\n",
       "</table>\n"
      ]
     }
    }
   ],
   "source": [
    "lmer(abuse_scored ~ time_c*arm_c + abuse_0 + meetings_yn + \n",
    "       (1 + time_c | study_id), data = subset(data, dyad == 1)) |> \n",
    "  sjPlot::tab_model(show.re.var = F, show.icc = F, terms = c(\"meetings_yn\"))"
   ],
   "id": "11c910bb-4d39-4cbe-add7-164ec22a53f2"
  },
  {
   "cell_type": "markdown",
   "metadata": {},
   "source": [
    "`outpatient_yn_ever` - Not significant"
   ],
   "id": "1dd03c8b-37d0-4180-b646-72ab552d77e4"
  },
  {
   "cell_type": "code",
   "execution_count": null,
   "metadata": {},
   "outputs": [
    {
     "output_type": "display_data",
     "metadata": {},
     "data": {
      "text/html": [
       "<table style=\"border-collapse:collapse; border:none;\">\n",
       "<tr>\n",
       "<th style=\"border-top: double; text-align:center; font-style:normal; font-weight:bold; padding:0.2cm;  text-align:left; \">&nbsp;</th>\n",
       "<th colspan=\"3\" style=\"border-top: double; text-align:center; font-style:normal; font-weight:bold; padding:0.2cm; \">abuse scored</th>\n",
       "</tr>\n",
       "<tr>\n",
       "<td style=\" text-align:center; border-bottom:1px solid; font-style:italic; font-weight:normal;  text-align:left; \">Predictors</td>\n",
       "<td style=\" text-align:center; border-bottom:1px solid; font-style:italic; font-weight:normal;  \">Estimates</td>\n",
       "<td style=\" text-align:center; border-bottom:1px solid; font-style:italic; font-weight:normal;  \">CI</td>\n",
       "<td style=\" text-align:center; border-bottom:1px solid; font-style:italic; font-weight:normal;  \">p</td>\n",
       "</tr>\n",
       "<tr>\n",
       "<td style=\" padding:0.2cm; text-align:left; vertical-align:top; text-align:left; \">outpatient yn ever</td>\n",
       "<td style=\" padding:0.2cm; text-align:left; vertical-align:top; text-align:center;  \">&#45;6.76</td>\n",
       "<td style=\" padding:0.2cm; text-align:left; vertical-align:top; text-align:center;  \">&#45;14.67&nbsp;&ndash;&nbsp;1.15</td>\n",
       "<td style=\" padding:0.2cm; text-align:left; vertical-align:top; text-align:center;  \">0.093</td>\n",
       "</tr>\n",
       "\n",
       "<tr>\n",
       "<td style=\" padding:0.2cm; text-align:left; vertical-align:top; text-align:left; padding-top:0.1cm; padding-bottom:0.1cm;\">N <sub>study_id</sub></td>\n",
       "<td style=\" padding:0.2cm; text-align:left; vertical-align:top; padding-top:0.1cm; padding-bottom:0.1cm; text-align:left;\" colspan=\"3\">62</td>\n",
       "<tr>\n",
       "<td style=\" padding:0.2cm; text-align:left; vertical-align:top; text-align:left; padding-top:0.1cm; padding-bottom:0.1cm; border-top:1px solid;\">Observations</td>\n",
       "<td style=\" padding:0.2cm; text-align:left; vertical-align:top; padding-top:0.1cm; padding-bottom:0.1cm; text-align:left; border-top:1px solid;\" colspan=\"3\">128</td>\n",
       "</tr>\n",
       "<tr>\n",
       "<td style=\" padding:0.2cm; text-align:left; vertical-align:top; text-align:left; padding-top:0.1cm; padding-bottom:0.1cm;\">Marginal R<sup>2</sup> / Conditional R<sup>2</sup></td>\n",
       "<td style=\" padding:0.2cm; text-align:left; vertical-align:top; padding-top:0.1cm; padding-bottom:0.1cm; text-align:left;\" colspan=\"3\">0.172 / 0.862</td>\n",
       "</tr>\n",
       "\n",
       "</table>\n"
      ]
     }
    }
   ],
   "source": [
    "lmer(abuse_scored ~ time_c*arm_c + abuse_0 + outpatient_yn_ever + \n",
    "       (1 + time_c | study_id), data = subset(data, dyad == 1)) |> \n",
    "  sjPlot::tab_model(show.re.var = F, show.icc = F, terms = c(\"outpatient_yn_ever\"))"
   ],
   "id": "39f2d148-8540-4db5-b169-fd6da39c0259"
  },
  {
   "cell_type": "markdown",
   "metadata": {},
   "source": [
    "`er_yn_ever` - Not significant"
   ],
   "id": "daeff8ab-45fe-4813-aacd-d5bab574a032"
  },
  {
   "cell_type": "code",
   "execution_count": null,
   "metadata": {},
   "outputs": [
    {
     "output_type": "display_data",
     "metadata": {},
     "data": {
      "text/html": [
       "<table style=\"border-collapse:collapse; border:none;\">\n",
       "<tr>\n",
       "<th style=\"border-top: double; text-align:center; font-style:normal; font-weight:bold; padding:0.2cm;  text-align:left; \">&nbsp;</th>\n",
       "<th colspan=\"3\" style=\"border-top: double; text-align:center; font-style:normal; font-weight:bold; padding:0.2cm; \">abuse scored</th>\n",
       "</tr>\n",
       "<tr>\n",
       "<td style=\" text-align:center; border-bottom:1px solid; font-style:italic; font-weight:normal;  text-align:left; \">Predictors</td>\n",
       "<td style=\" text-align:center; border-bottom:1px solid; font-style:italic; font-weight:normal;  \">Estimates</td>\n",
       "<td style=\" text-align:center; border-bottom:1px solid; font-style:italic; font-weight:normal;  \">CI</td>\n",
       "<td style=\" text-align:center; border-bottom:1px solid; font-style:italic; font-weight:normal;  \">p</td>\n",
       "</tr>\n",
       "<tr>\n",
       "<td style=\" padding:0.2cm; text-align:left; vertical-align:top; text-align:left; \">er yn ever</td>\n",
       "<td style=\" padding:0.2cm; text-align:left; vertical-align:top; text-align:center;  \">3.78</td>\n",
       "<td style=\" padding:0.2cm; text-align:left; vertical-align:top; text-align:center;  \">&#45;1.53&nbsp;&ndash;&nbsp;9.09</td>\n",
       "<td style=\" padding:0.2cm; text-align:left; vertical-align:top; text-align:center;  \">0.161</td>\n",
       "</tr>\n",
       "\n",
       "<tr>\n",
       "<td style=\" padding:0.2cm; text-align:left; vertical-align:top; text-align:left; padding-top:0.1cm; padding-bottom:0.1cm;\">N <sub>study_id</sub></td>\n",
       "<td style=\" padding:0.2cm; text-align:left; vertical-align:top; padding-top:0.1cm; padding-bottom:0.1cm; text-align:left;\" colspan=\"3\">62</td>\n",
       "<tr>\n",
       "<td style=\" padding:0.2cm; text-align:left; vertical-align:top; text-align:left; padding-top:0.1cm; padding-bottom:0.1cm; border-top:1px solid;\">Observations</td>\n",
       "<td style=\" padding:0.2cm; text-align:left; vertical-align:top; padding-top:0.1cm; padding-bottom:0.1cm; text-align:left; border-top:1px solid;\" colspan=\"3\">128</td>\n",
       "</tr>\n",
       "<tr>\n",
       "<td style=\" padding:0.2cm; text-align:left; vertical-align:top; text-align:left; padding-top:0.1cm; padding-bottom:0.1cm;\">Marginal R<sup>2</sup> / Conditional R<sup>2</sup></td>\n",
       "<td style=\" padding:0.2cm; text-align:left; vertical-align:top; padding-top:0.1cm; padding-bottom:0.1cm; text-align:left;\" colspan=\"3\">0.156 / 0.860</td>\n",
       "</tr>\n",
       "\n",
       "</table>\n"
      ]
     }
    }
   ],
   "source": [
    "lmer(abuse_scored ~ time_c*arm_c + abuse_0 + er_yn_ever + \n",
    "       (1 + time_c | study_id), data = subset(data, dyad == 1)) |> \n",
    "  sjPlot::tab_model(show.re.var = F, show.icc = F, terms = c(\"er_yn_ever\"))"
   ],
   "id": "c246b781-0e51-445b-b08c-0eaea94a37d0"
  },
  {
   "cell_type": "markdown",
   "metadata": {},
   "source": [
    "`mat_yn` - **significant for partner**"
   ],
   "id": "9124cfd6-d128-449d-8a41-4f7714af0539"
  },
  {
   "cell_type": "code",
   "execution_count": null,
   "metadata": {},
   "outputs": [
    {
     "output_type": "display_data",
     "metadata": {},
     "data": {
      "text/html": [
       "<table style=\"border-collapse:collapse; border:none;\">\n",
       "<tr>\n",
       "<th style=\"border-top: double; text-align:center; font-style:normal; font-weight:bold; padding:0.2cm;  text-align:left; \">&nbsp;</th>\n",
       "<th colspan=\"3\" style=\"border-top: double; text-align:center; font-style:normal; font-weight:bold; padding:0.2cm; \">abuse scored</th>\n",
       "</tr>\n",
       "<tr>\n",
       "<td style=\" text-align:center; border-bottom:1px solid; font-style:italic; font-weight:normal;  text-align:left; \">Predictors</td>\n",
       "<td style=\" text-align:center; border-bottom:1px solid; font-style:italic; font-weight:normal;  \">Estimates</td>\n",
       "<td style=\" text-align:center; border-bottom:1px solid; font-style:italic; font-weight:normal;  \">CI</td>\n",
       "<td style=\" text-align:center; border-bottom:1px solid; font-style:italic; font-weight:normal;  \">p</td>\n",
       "</tr>\n",
       "<tr>\n",
       "<td style=\" padding:0.2cm; text-align:left; vertical-align:top; text-align:left; \">mat yn</td>\n",
       "<td style=\" padding:0.2cm; text-align:left; vertical-align:top; text-align:center;  \">9.64</td>\n",
       "<td style=\" padding:0.2cm; text-align:left; vertical-align:top; text-align:center;  \">2.46&nbsp;&ndash;&nbsp;16.83</td>\n",
       "<td style=\" padding:0.2cm; text-align:left; vertical-align:top; text-align:center;  \"><strong>0.009</strong></td>\n",
       "</tr>\n",
       "\n",
       "<tr>\n",
       "<td style=\" padding:0.2cm; text-align:left; vertical-align:top; text-align:left; padding-top:0.1cm; padding-bottom:0.1cm;\">N <sub>study_id</sub></td>\n",
       "<td style=\" padding:0.2cm; text-align:left; vertical-align:top; padding-top:0.1cm; padding-bottom:0.1cm; text-align:left;\" colspan=\"3\">62</td>\n",
       "<tr>\n",
       "<td style=\" padding:0.2cm; text-align:left; vertical-align:top; text-align:left; padding-top:0.1cm; padding-bottom:0.1cm; border-top:1px solid;\">Observations</td>\n",
       "<td style=\" padding:0.2cm; text-align:left; vertical-align:top; padding-top:0.1cm; padding-bottom:0.1cm; text-align:left; border-top:1px solid;\" colspan=\"3\">128</td>\n",
       "</tr>\n",
       "<tr>\n",
       "<td style=\" padding:0.2cm; text-align:left; vertical-align:top; text-align:left; padding-top:0.1cm; padding-bottom:0.1cm;\">Marginal R<sup>2</sup> / Conditional R<sup>2</sup></td>\n",
       "<td style=\" padding:0.2cm; text-align:left; vertical-align:top; padding-top:0.1cm; padding-bottom:0.1cm; text-align:left;\" colspan=\"3\">0.161 / 0.864</td>\n",
       "</tr>\n",
       "\n",
       "</table>\n"
      ]
     }
    }
   ],
   "source": [
    "lmer(abuse_scored ~ time_c*arm_c + abuse_0 + mat_yn + (1 + time_c | study_id), \n",
    "     data = subset(data, dyad == 1)) |> \n",
    "  sjPlot::tab_model(show.re.var = F, show.icc = F, terms = c(\"mat_yn\"))"
   ],
   "id": "f10d5e86-751d-4572-bdca-2a4451ee57b3"
  },
  {
   "cell_type": "markdown",
   "metadata": {},
   "source": [
    "`inpatient_yn_ever` - **significant for partner**"
   ],
   "id": "9d479997-48d8-463a-bd3b-aea5bc65e5eb"
  },
  {
   "cell_type": "code",
   "execution_count": null,
   "metadata": {},
   "outputs": [
    {
     "output_type": "display_data",
     "metadata": {},
     "data": {
      "text/html": [
       "<table style=\"border-collapse:collapse; border:none;\">\n",
       "<tr>\n",
       "<th style=\"border-top: double; text-align:center; font-style:normal; font-weight:bold; padding:0.2cm;  text-align:left; \">&nbsp;</th>\n",
       "<th colspan=\"3\" style=\"border-top: double; text-align:center; font-style:normal; font-weight:bold; padding:0.2cm; \">abuse scored</th>\n",
       "</tr>\n",
       "<tr>\n",
       "<td style=\" text-align:center; border-bottom:1px solid; font-style:italic; font-weight:normal;  text-align:left; \">Predictors</td>\n",
       "<td style=\" text-align:center; border-bottom:1px solid; font-style:italic; font-weight:normal;  \">Estimates</td>\n",
       "<td style=\" text-align:center; border-bottom:1px solid; font-style:italic; font-weight:normal;  \">CI</td>\n",
       "<td style=\" text-align:center; border-bottom:1px solid; font-style:italic; font-weight:normal;  \">p</td>\n",
       "</tr>\n",
       "<tr>\n",
       "<td style=\" padding:0.2cm; text-align:left; vertical-align:top; text-align:left; \">inpatient yn ever</td>\n",
       "<td style=\" padding:0.2cm; text-align:left; vertical-align:top; text-align:center;  \">17.25</td>\n",
       "<td style=\" padding:0.2cm; text-align:left; vertical-align:top; text-align:center;  \">8.52&nbsp;&ndash;&nbsp;25.99</td>\n",
       "<td style=\" padding:0.2cm; text-align:left; vertical-align:top; text-align:center;  \"><strong>&lt;0.001</strong></td>\n",
       "</tr>\n",
       "\n",
       "<tr>\n",
       "<td style=\" padding:0.2cm; text-align:left; vertical-align:top; text-align:left; padding-top:0.1cm; padding-bottom:0.1cm;\">N <sub>study_id</sub></td>\n",
       "<td style=\" padding:0.2cm; text-align:left; vertical-align:top; padding-top:0.1cm; padding-bottom:0.1cm; text-align:left;\" colspan=\"3\">62</td>\n",
       "<tr>\n",
       "<td style=\" padding:0.2cm; text-align:left; vertical-align:top; text-align:left; padding-top:0.1cm; padding-bottom:0.1cm; border-top:1px solid;\">Observations</td>\n",
       "<td style=\" padding:0.2cm; text-align:left; vertical-align:top; padding-top:0.1cm; padding-bottom:0.1cm; text-align:left; border-top:1px solid;\" colspan=\"3\">128</td>\n",
       "</tr>\n",
       "<tr>\n",
       "<td style=\" padding:0.2cm; text-align:left; vertical-align:top; text-align:left; padding-top:0.1cm; padding-bottom:0.1cm;\">Marginal R<sup>2</sup> / Conditional R<sup>2</sup></td>\n",
       "<td style=\" padding:0.2cm; text-align:left; vertical-align:top; padding-top:0.1cm; padding-bottom:0.1cm; text-align:left;\" colspan=\"3\">0.239 / 0.801</td>\n",
       "</tr>\n",
       "\n",
       "</table>\n"
      ]
     }
    }
   ],
   "source": [
    "lmer(abuse_scored ~ time_c*arm_c + abuse_0 + inpatient_yn_ever + \n",
    "       (1 + time_c | study_id), data = subset(data, dyad == 1)) |> \n",
    "  sjPlot::tab_model(show.re.var = F, show.icc = F, terms = c(\"inpatient_yn_ever\"))"
   ],
   "id": "0720f8da-c11d-44bb-ba67-08fd36b18b48"
  },
  {
   "cell_type": "markdown",
   "metadata": {},
   "source": [
    "`other_psych_treatment_yn` - not significant"
   ],
   "id": "6bc0d5a1-57fd-4d66-81cf-78577f80d628"
  },
  {
   "cell_type": "code",
   "execution_count": null,
   "metadata": {},
   "outputs": [
    {
     "output_type": "display_data",
     "metadata": {},
     "data": {
      "text/html": [
       "<table style=\"border-collapse:collapse; border:none;\">\n",
       "<tr>\n",
       "<th style=\"border-top: double; text-align:center; font-style:normal; font-weight:bold; padding:0.2cm;  text-align:left; \">&nbsp;</th>\n",
       "<th colspan=\"3\" style=\"border-top: double; text-align:center; font-style:normal; font-weight:bold; padding:0.2cm; \">abuse scored</th>\n",
       "</tr>\n",
       "<tr>\n",
       "<td style=\" text-align:center; border-bottom:1px solid; font-style:italic; font-weight:normal;  text-align:left; \">Predictors</td>\n",
       "<td style=\" text-align:center; border-bottom:1px solid; font-style:italic; font-weight:normal;  \">Estimates</td>\n",
       "<td style=\" text-align:center; border-bottom:1px solid; font-style:italic; font-weight:normal;  \">CI</td>\n",
       "<td style=\" text-align:center; border-bottom:1px solid; font-style:italic; font-weight:normal;  \">p</td>\n",
       "</tr>\n",
       "<tr>\n",
       "<td style=\" padding:0.2cm; text-align:left; vertical-align:top; text-align:left; \">other psych treatment yn</td>\n",
       "<td style=\" padding:0.2cm; text-align:left; vertical-align:top; text-align:center;  \">&#45;1.52</td>\n",
       "<td style=\" padding:0.2cm; text-align:left; vertical-align:top; text-align:center;  \">&#45;5.12&nbsp;&ndash;&nbsp;2.08</td>\n",
       "<td style=\" padding:0.2cm; text-align:left; vertical-align:top; text-align:center;  \">0.405</td>\n",
       "</tr>\n",
       "\n",
       "<tr>\n",
       "<td style=\" padding:0.2cm; text-align:left; vertical-align:top; text-align:left; padding-top:0.1cm; padding-bottom:0.1cm;\">N <sub>study_id</sub></td>\n",
       "<td style=\" padding:0.2cm; text-align:left; vertical-align:top; padding-top:0.1cm; padding-bottom:0.1cm; text-align:left;\" colspan=\"3\">62</td>\n",
       "<tr>\n",
       "<td style=\" padding:0.2cm; text-align:left; vertical-align:top; text-align:left; padding-top:0.1cm; padding-bottom:0.1cm; border-top:1px solid;\">Observations</td>\n",
       "<td style=\" padding:0.2cm; text-align:left; vertical-align:top; padding-top:0.1cm; padding-bottom:0.1cm; text-align:left; border-top:1px solid;\" colspan=\"3\">128</td>\n",
       "</tr>\n",
       "<tr>\n",
       "<td style=\" padding:0.2cm; text-align:left; vertical-align:top; text-align:left; padding-top:0.1cm; padding-bottom:0.1cm;\">Marginal R<sup>2</sup> / Conditional R<sup>2</sup></td>\n",
       "<td style=\" padding:0.2cm; text-align:left; vertical-align:top; padding-top:0.1cm; padding-bottom:0.1cm; text-align:left;\" colspan=\"3\">0.143 / 0.859</td>\n",
       "</tr>\n",
       "\n",
       "</table>\n"
      ]
     }
    }
   ],
   "source": [
    "lmer(abuse_scored ~ time_c*arm_c + abuse_0 + other_psych_treatment_yn + \n",
    "       (1 + time_c | study_id),  data = subset(data, dyad == 1)) |> \n",
    "  sjPlot::tab_model(show.re.var = F, show.icc = F, terms = c(\"other_psych_treatment_yn\"))"
   ],
   "id": "b1c9dac7-c513-4b21-82ab-926a00407ff3"
  },
  {
   "cell_type": "markdown",
   "metadata": {},
   "source": [
    "`other_medications_yn` - Not significant"
   ],
   "id": "b709957a-35a2-4c00-8479-14660dc865a2"
  },
  {
   "cell_type": "code",
   "execution_count": null,
   "metadata": {},
   "outputs": [
    {
     "output_type": "display_data",
     "metadata": {},
     "data": {
      "text/html": [
       "<table style=\"border-collapse:collapse; border:none;\">\n",
       "<tr>\n",
       "<th style=\"border-top: double; text-align:center; font-style:normal; font-weight:bold; padding:0.2cm;  text-align:left; \">&nbsp;</th>\n",
       "<th colspan=\"3\" style=\"border-top: double; text-align:center; font-style:normal; font-weight:bold; padding:0.2cm; \">abuse scored</th>\n",
       "</tr>\n",
       "<tr>\n",
       "<td style=\" text-align:center; border-bottom:1px solid; font-style:italic; font-weight:normal;  text-align:left; \">Predictors</td>\n",
       "<td style=\" text-align:center; border-bottom:1px solid; font-style:italic; font-weight:normal;  \">Estimates</td>\n",
       "<td style=\" text-align:center; border-bottom:1px solid; font-style:italic; font-weight:normal;  \">CI</td>\n",
       "<td style=\" text-align:center; border-bottom:1px solid; font-style:italic; font-weight:normal;  \">p</td>\n",
       "</tr>\n",
       "<tr>\n",
       "<td style=\" padding:0.2cm; text-align:left; vertical-align:top; text-align:left; \">other medications yn</td>\n",
       "<td style=\" padding:0.2cm; text-align:left; vertical-align:top; text-align:center;  \">2.40</td>\n",
       "<td style=\" padding:0.2cm; text-align:left; vertical-align:top; text-align:center;  \">&#45;0.89&nbsp;&ndash;&nbsp;5.69</td>\n",
       "<td style=\" padding:0.2cm; text-align:left; vertical-align:top; text-align:center;  \">0.152</td>\n",
       "</tr>\n",
       "\n",
       "<tr>\n",
       "<td style=\" padding:0.2cm; text-align:left; vertical-align:top; text-align:left; padding-top:0.1cm; padding-bottom:0.1cm;\">N <sub>study_id</sub></td>\n",
       "<td style=\" padding:0.2cm; text-align:left; vertical-align:top; padding-top:0.1cm; padding-bottom:0.1cm; text-align:left;\" colspan=\"3\">62</td>\n",
       "<tr>\n",
       "<td style=\" padding:0.2cm; text-align:left; vertical-align:top; text-align:left; padding-top:0.1cm; padding-bottom:0.1cm; border-top:1px solid;\">Observations</td>\n",
       "<td style=\" padding:0.2cm; text-align:left; vertical-align:top; padding-top:0.1cm; padding-bottom:0.1cm; text-align:left; border-top:1px solid;\" colspan=\"3\">128</td>\n",
       "</tr>\n",
       "<tr>\n",
       "<td style=\" padding:0.2cm; text-align:left; vertical-align:top; text-align:left; padding-top:0.1cm; padding-bottom:0.1cm;\">Marginal R<sup>2</sup> / Conditional R<sup>2</sup></td>\n",
       "<td style=\" padding:0.2cm; text-align:left; vertical-align:top; padding-top:0.1cm; padding-bottom:0.1cm; text-align:left;\" colspan=\"3\">0.150 / 0.864</td>\n",
       "</tr>\n",
       "\n",
       "</table>\n"
      ]
     }
    }
   ],
   "source": [
    "lmer(abuse_scored ~ time_c*arm_c + abuse_0 + other_medications_yn + \n",
    "       (1 + time_c | study_id), data = subset(data, dyad == 1)) |> \n",
    "  sjPlot::tab_model(show.re.var = F, show.icc = F, terms = c(\"other_medications_yn\"))"
   ],
   "id": "abe76a9e-4268-40f8-8d1b-b5038e0879eb"
  },
  {
   "cell_type": "markdown",
   "metadata": {},
   "source": [
    "##### Final Model with Significant Covariates"
   ],
   "id": "6abf6abe-64b5-4832-9b99-3d890a55e45d"
  },
  {
   "cell_type": "code",
   "execution_count": null,
   "metadata": {},
   "outputs": [
    {
     "output_type": "display_data",
     "metadata": {},
     "data": {
      "text/html": [
       "<table style=\"border-collapse:collapse; border:none;\">\n",
       "<tr>\n",
       "<th style=\"border-top: double; text-align:center; font-style:normal; font-weight:bold; padding:0.2cm;  text-align:left; \">&nbsp;</th>\n",
       "<th colspan=\"3\" style=\"border-top: double; text-align:center; font-style:normal; font-weight:bold; padding:0.2cm; \">abuse scored</th>\n",
       "<th colspan=\"3\" style=\"border-top: double; text-align:center; font-style:normal; font-weight:bold; padding:0.2cm; \">abuse scored</th>\n",
       "</tr>\n",
       "<tr>\n",
       "<td style=\" text-align:center; border-bottom:1px solid; font-style:italic; font-weight:normal;  text-align:left; \">Predictors</td>\n",
       "<td style=\" text-align:center; border-bottom:1px solid; font-style:italic; font-weight:normal;  \">Estimates</td>\n",
       "<td style=\" text-align:center; border-bottom:1px solid; font-style:italic; font-weight:normal;  \">CI</td>\n",
       "<td style=\" text-align:center; border-bottom:1px solid; font-style:italic; font-weight:normal;  \">p</td>\n",
       "<td style=\" text-align:center; border-bottom:1px solid; font-style:italic; font-weight:normal;  \">Estimates</td>\n",
       "<td style=\" text-align:center; border-bottom:1px solid; font-style:italic; font-weight:normal;  \">CI</td>\n",
       "<td style=\" text-align:center; border-bottom:1px solid; font-style:italic; font-weight:normal;  col7\">p</td>\n",
       "</tr>\n",
       "<tr>\n",
       "<td style=\" padding:0.2cm; text-align:left; vertical-align:top; text-align:left; \">(Intercept)</td>\n",
       "<td style=\" padding:0.2cm; text-align:left; vertical-align:top; text-align:center;  \">3.07</td>\n",
       "<td style=\" padding:0.2cm; text-align:left; vertical-align:top; text-align:center;  \">0.99&nbsp;&ndash;&nbsp;5.15</td>\n",
       "<td style=\" padding:0.2cm; text-align:left; vertical-align:top; text-align:center;  \"><strong>0.004</strong></td>\n",
       "<td style=\" padding:0.2cm; text-align:left; vertical-align:top; text-align:center;  \">4.06</td>\n",
       "<td style=\" padding:0.2cm; text-align:left; vertical-align:top; text-align:center;  \">1.77&nbsp;&ndash;&nbsp;6.35</td>\n",
       "<td style=\" padding:0.2cm; text-align:left; vertical-align:top; text-align:center;  col7\"><strong>0.001</strong></td>\n",
       "</tr>\n",
       "<tr>\n",
       "<td style=\" padding:0.2cm; text-align:left; vertical-align:top; text-align:left; \">time c</td>\n",
       "<td style=\" padding:0.2cm; text-align:left; vertical-align:top; text-align:center;  \">0.31</td>\n",
       "<td style=\" padding:0.2cm; text-align:left; vertical-align:top; text-align:center;  \">&#45;0.88&nbsp;&ndash;&nbsp;1.51</td>\n",
       "<td style=\" padding:0.2cm; text-align:left; vertical-align:top; text-align:center;  \">0.604</td>\n",
       "<td style=\" padding:0.2cm; text-align:left; vertical-align:top; text-align:center;  \">0.38</td>\n",
       "<td style=\" padding:0.2cm; text-align:left; vertical-align:top; text-align:center;  \">&#45;0.88&nbsp;&ndash;&nbsp;1.65</td>\n",
       "<td style=\" padding:0.2cm; text-align:left; vertical-align:top; text-align:center;  col7\">0.551</td>\n",
       "</tr>\n",
       "<tr>\n",
       "<td style=\" padding:0.2cm; text-align:left; vertical-align:top; text-align:left; \">arm cfam and achess vs C</td>\n",
       "<td style=\" padding:0.2cm; text-align:left; vertical-align:top; text-align:center;  \">0.45</td>\n",
       "<td style=\" padding:0.2cm; text-align:left; vertical-align:top; text-align:center;  \">&#45;3.83&nbsp;&ndash;&nbsp;4.72</td>\n",
       "<td style=\" padding:0.2cm; text-align:left; vertical-align:top; text-align:center;  \">0.837</td>\n",
       "<td style=\" padding:0.2cm; text-align:left; vertical-align:top; text-align:center;  \">2.23</td>\n",
       "<td style=\" padding:0.2cm; text-align:left; vertical-align:top; text-align:center;  \">&#45;2.48&nbsp;&ndash;&nbsp;6.94</td>\n",
       "<td style=\" padding:0.2cm; text-align:left; vertical-align:top; text-align:center;  col7\">0.351</td>\n",
       "</tr>\n",
       "<tr>\n",
       "<td style=\" padding:0.2cm; text-align:left; vertical-align:top; text-align:left; \">arm cachess vs fam</td>\n",
       "<td style=\" padding:0.2cm; text-align:left; vertical-align:top; text-align:center;  \">&#45;2.91</td>\n",
       "<td style=\" padding:0.2cm; text-align:left; vertical-align:top; text-align:center;  \">&#45;7.99&nbsp;&ndash;&nbsp;2.17</td>\n",
       "<td style=\" padding:0.2cm; text-align:left; vertical-align:top; text-align:center;  \">0.259</td>\n",
       "<td style=\" padding:0.2cm; text-align:left; vertical-align:top; text-align:center;  \">&#45;3.57</td>\n",
       "<td style=\" padding:0.2cm; text-align:left; vertical-align:top; text-align:center;  \">&#45;9.35&nbsp;&ndash;&nbsp;2.21</td>\n",
       "<td style=\" padding:0.2cm; text-align:left; vertical-align:top; text-align:center;  col7\">0.224</td>\n",
       "</tr>\n",
       "<tr>\n",
       "<td style=\" padding:0.2cm; text-align:left; vertical-align:top; text-align:left; \">abuse 0</td>\n",
       "<td style=\" padding:0.2cm; text-align:left; vertical-align:top; text-align:center;  \">0.38</td>\n",
       "<td style=\" padding:0.2cm; text-align:left; vertical-align:top; text-align:center;  \">&#45;0.02&nbsp;&ndash;&nbsp;0.79</td>\n",
       "<td style=\" padding:0.2cm; text-align:left; vertical-align:top; text-align:center;  \">0.061</td>\n",
       "<td style=\" padding:0.2cm; text-align:left; vertical-align:top; text-align:center;  \">0.65</td>\n",
       "<td style=\" padding:0.2cm; text-align:left; vertical-align:top; text-align:center;  \">0.24&nbsp;&ndash;&nbsp;1.06</td>\n",
       "<td style=\" padding:0.2cm; text-align:left; vertical-align:top; text-align:center;  col7\"><strong>0.002</strong></td>\n",
       "</tr>\n",
       "<tr>\n",
       "<td style=\" padding:0.2cm; text-align:left; vertical-align:top; text-align:left; \">mat yn</td>\n",
       "<td style=\" padding:0.2cm; text-align:left; vertical-align:top; text-align:center;  \">4.98</td>\n",
       "<td style=\" padding:0.2cm; text-align:left; vertical-align:top; text-align:center;  \">&#45;2.15&nbsp;&ndash;&nbsp;12.12</td>\n",
       "<td style=\" padding:0.2cm; text-align:left; vertical-align:top; text-align:center;  \">0.169</td>\n",
       "<td style=\" padding:0.2cm; text-align:left; vertical-align:top; text-align:center;  \"></td>\n",
       "<td style=\" padding:0.2cm; text-align:left; vertical-align:top; text-align:center;  \"></td>\n",
       "<td style=\" padding:0.2cm; text-align:left; vertical-align:top; text-align:center;  col7\"></td>\n",
       "</tr>\n",
       "<tr>\n",
       "<td style=\" padding:0.2cm; text-align:left; vertical-align:top; text-align:left; \">inpatient yn ever</td>\n",
       "<td style=\" padding:0.2cm; text-align:left; vertical-align:top; text-align:center;  \">15.48</td>\n",
       "<td style=\" padding:0.2cm; text-align:left; vertical-align:top; text-align:center;  \">5.90&nbsp;&ndash;&nbsp;25.06</td>\n",
       "<td style=\" padding:0.2cm; text-align:left; vertical-align:top; text-align:center;  \"><strong>0.002</strong></td>\n",
       "<td style=\" padding:0.2cm; text-align:left; vertical-align:top; text-align:center;  \"></td>\n",
       "<td style=\" padding:0.2cm; text-align:left; vertical-align:top; text-align:center;  \"></td>\n",
       "<td style=\" padding:0.2cm; text-align:left; vertical-align:top; text-align:center;  col7\"></td>\n",
       "</tr>\n",
       "<tr>\n",
       "<td style=\" padding:0.2cm; text-align:left; vertical-align:top; text-align:left; \">time c × arm cfam and<br>achess vs C</td>\n",
       "<td style=\" padding:0.2cm; text-align:left; vertical-align:top; text-align:center;  \">1.15</td>\n",
       "<td style=\" padding:0.2cm; text-align:left; vertical-align:top; text-align:center;  \">&#45;1.12&nbsp;&ndash;&nbsp;3.41</td>\n",
       "<td style=\" padding:0.2cm; text-align:left; vertical-align:top; text-align:center;  \">0.318</td>\n",
       "<td style=\" padding:0.2cm; text-align:left; vertical-align:top; text-align:center;  \">1.60</td>\n",
       "<td style=\" padding:0.2cm; text-align:left; vertical-align:top; text-align:center;  \">&#45;0.81&nbsp;&ndash;&nbsp;4.01</td>\n",
       "<td style=\" padding:0.2cm; text-align:left; vertical-align:top; text-align:center;  col7\">0.192</td>\n",
       "</tr>\n",
       "<tr>\n",
       "<td style=\" padding:0.2cm; text-align:left; vertical-align:top; text-align:left; \">time c × arm cachess vs<br>fam</td>\n",
       "<td style=\" padding:0.2cm; text-align:left; vertical-align:top; text-align:center;  \">&#45;2.41</td>\n",
       "<td style=\" padding:0.2cm; text-align:left; vertical-align:top; text-align:center;  \">&#45;5.63&nbsp;&ndash;&nbsp;0.82</td>\n",
       "<td style=\" padding:0.2cm; text-align:left; vertical-align:top; text-align:center;  \">0.142</td>\n",
       "<td style=\" padding:0.2cm; text-align:left; vertical-align:top; text-align:center;  \">&#45;2.56</td>\n",
       "<td style=\" padding:0.2cm; text-align:left; vertical-align:top; text-align:center;  \">&#45;5.94&nbsp;&ndash;&nbsp;0.81</td>\n",
       "<td style=\" padding:0.2cm; text-align:left; vertical-align:top; text-align:center;  col7\">0.135</td>\n",
       "</tr>\n",
       "\n",
       "<tr>\n",
       "<td style=\" padding:0.2cm; text-align:left; vertical-align:top; text-align:left; padding-top:0.1cm; padding-bottom:0.1cm;\">N</td>\n",
       "<td style=\" padding:0.2cm; text-align:left; vertical-align:top; padding-top:0.1cm; padding-bottom:0.1cm; text-align:left;\" colspan=\"3\">62 <sub>study_id</sub></td>\n",
       "<td style=\" padding:0.2cm; text-align:left; vertical-align:top; padding-top:0.1cm; padding-bottom:0.1cm; text-align:left;\" colspan=\"3\">62 <sub>study_id</sub></td>\n",
       "<tr>\n",
       "<td style=\" padding:0.2cm; text-align:left; vertical-align:top; text-align:left; padding-top:0.1cm; padding-bottom:0.1cm; border-top:1px solid;\">Observations</td>\n",
       "<td style=\" padding:0.2cm; text-align:left; vertical-align:top; padding-top:0.1cm; padding-bottom:0.1cm; text-align:left; border-top:1px solid;\" colspan=\"3\">128</td>\n",
       "<td style=\" padding:0.2cm; text-align:left; vertical-align:top; padding-top:0.1cm; padding-bottom:0.1cm; text-align:left; border-top:1px solid;\" colspan=\"3\">128</td>\n",
       "</tr>\n",
       "<tr>\n",
       "<td style=\" padding:0.2cm; text-align:left; vertical-align:top; text-align:left; padding-top:0.1cm; padding-bottom:0.1cm;\">Marginal R<sup>2</sup> / Conditional R<sup>2</sup></td>\n",
       "<td style=\" padding:0.2cm; text-align:left; vertical-align:top; padding-top:0.1cm; padding-bottom:0.1cm; text-align:left;\" colspan=\"3\">0.243 / 0.832</td>\n",
       "<td style=\" padding:0.2cm; text-align:left; vertical-align:top; padding-top:0.1cm; padding-bottom:0.1cm; text-align:left;\" colspan=\"3\">0.142 / 0.861</td>\n",
       "</tr>\n",
       "\n",
       "</table>\n"
      ]
     }
    }
   ],
   "source": [
    "lmer(abuse_scored ~ time_c*arm_c + abuse_0 + mat_yn + inpatient_yn_ever + \n",
    "       (1 + time_c | study_id), data = subset(data, dyad == 1)) |> \n",
    "  sjPlot::tab_model(model_partner_sec_2, show.re.var = F, show.icc = F)"
   ],
   "id": "f2144179-e950-446a-b460-62d9f379a925"
  },
  {
   "cell_type": "markdown",
   "metadata": {},
   "source": [
    "### Check Assumptions for Analyses of Mediators\n",
    "\n",
    "**KW: mediators only for primary outcomes and ACHESS vs. FamCHESS contrasts**\n",
    "\n",
    "List of Patient mediators: `socrates_scored`  \n",
    "List of Partner mediators: `peersupport_scored`, `treatmentskills_scored`\n",
    "\n",
    "### Check Assumptions for Analyses of Moderators\n",
    "\n",
    "**KW: moderators only for primary outcomes**\n",
    "\n",
    "List of Patient moderators: `dsm5_criteria`  \n",
    "List of Partner moderators: `gender`, `days_app_use`"
   ],
   "id": "f63a1024-fd59-48f6-bbff-97352ce6aff0"
  }
 ],
 "nbformat": 4,
 "nbformat_minor": 5,
 "metadata": {}
}

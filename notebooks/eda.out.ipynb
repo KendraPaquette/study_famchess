{
 "cells": [
  {
   "cell_type": "markdown",
   "metadata": {},
   "source": [
    "# famCHESS EDA\n",
    "\n",
    "Kendra Wyant\n",
    "\n",
    "## Notes\n",
    "\n",
    "This script reads in the cleaned famCHESS data and performs EDA on final variables.\n",
    "\n",
    "## Setup"
   ],
   "id": "d4dbb55c-b8cd-4d94-9b4d-87ee0a6eb65f"
  },
  {
   "cell_type": "code",
   "execution_count": null,
   "metadata": {},
   "outputs": [
    {
     "output_type": "stream",
     "name": "stderr",
     "text": [
      "ℹ SHA-1 hash of file is \"a58e57da996d1b70bb9a5b58241325d6fd78890f\""
     ]
    }
   ],
   "source": [
    "options(conflicts.policy = \"depends.ok\")\n",
    "suppressMessages(library(tidyverse))\n",
    "suppressMessages(library(janitor))\n",
    "library(Matrix, exclude = c(\"expand\", \"pack\", \"unpack\"))\n",
    "library(lme4)\n",
    "theme_set(theme_classic()) \n",
    "\n",
    "devtools::source_url(\"https://github.com/jjcurtin/lab_support/blob/main/format_path.R?raw=true\")\n"
   ],
   "id": "5ab9d496-0cd2-45d2-8810-3c50ad38e420"
  },
  {
   "cell_type": "markdown",
   "metadata": {},
   "source": [
    "## Data\n",
    "\n",
    "### Cleaning"
   ],
   "id": "7ff4a5eb-7c44-4dec-bb86-86467e1a4dfb"
  },
  {
   "cell_type": "code",
   "execution_count": null,
   "metadata": {},
   "outputs": [],
   "source": [
    "data <- haven::read_sav(here::here(path_data, \"Famchess_clean_combined_FINAL.sav\")) |> \n",
    "  clean_names() \n",
    "\n",
    "dsm <- haven::read_sav(here::here(path_data, \"FamCHESS_DSM5.sav\")) |> \n",
    "  clean_names() # for stratification check\n"
   ],
   "id": "3a3c9b94-78da-480c-a384-196acca20bc9"
  },
  {
   "cell_type": "markdown",
   "metadata": {},
   "source": [
    "Remove participants with inaccurate data (from Olivia’s script):\n",
    "\n",
    "-   167PT (baseline and 4 month): FAM passed away after baseline\n",
    "-   208FAM & 208PT (noted on all timepoints): Might be wholly unreliable since we suspect he is his own partner\n",
    "-   365PT (noted on 1 timepoint): Answered relationship questions about her dog, not her son\n",
    "-   365FAM (noted on 1 timepoint): Answered relationship questions about romantic partner, not his mom"
   ],
   "id": "85deb50f-a719-4fe1-abbd-88467ee7a440"
  },
  {
   "cell_type": "code",
   "execution_count": null,
   "metadata": {},
   "outputs": [],
   "source": [
    "data <- data |> \n",
    "  filter(!study_id %in% c(\"167PT\", \"208FAM\", \"208PT\", \"365PT\", \"365FAM\"))\n"
   ],
   "id": "2acbbc60-c548-4171-9ba5-5f52308ab1bb"
  },
  {
   "cell_type": "markdown",
   "metadata": {},
   "source": [
    "Recode variables (from Olivia’s script)\n",
    "\n",
    "195PT: reported prefer not to say for gender on baseline but reported male in TLFB data. Changing to male to match TLFB."
   ],
   "id": "3cf92a9a-fad2-4ce4-abde-aae17dfadf81"
  },
  {
   "cell_type": "code",
   "execution_count": null,
   "metadata": {},
   "outputs": [],
   "source": [
    "data <- data |> \n",
    "  mutate(gender = if_else(study_id == \"195PT\", 2, gender))\n"
   ],
   "id": "7e090d0d-267b-4488-8f98-2a8797d99bf3"
  },
  {
   "cell_type": "markdown",
   "metadata": {},
   "source": [
    "Gender - 2 levels (male / non-male) - TLFB is also coded this way\n",
    "\n",
    "-   500PT: non-binary\n",
    "-   128FAM: Transgender women\n",
    "\n",
    "*KW: currently setting these two people to Non-male, however, I saw this in scales/measures doc - not enough non-man/ women responses to have 3rd level. For patients, those who don’t fall into groups set to missing*"
   ],
   "id": "8affed94-33fc-42bd-85db-cd4db5bd2a05"
  },
  {
   "cell_type": "code",
   "execution_count": null,
   "metadata": {},
   "outputs": [
    {
     "output_type": "stream",
     "name": "stdout",
     "text": [
      " data$gender_original   n     percent valid_percent\n",
      "                    1 775 0.567765568   0.569434240\n",
      "                    2 580 0.424908425   0.426157237\n",
      "                    3   2 0.001465201   0.001469508\n",
      "                    5   4 0.002930403   0.002939015\n",
      "                   NA   4 0.002930403            NA"
     ]
    },
    {
     "output_type": "stream",
     "name": "stdout",
     "text": [
      " data$gender   n     percent valid_percent\n",
      "           1 781 0.572161172     0.5738428\n",
      "           2 580 0.424908425     0.4261572\n",
      "          NA   4 0.002930403            NA"
     ]
    }
   ],
   "source": [
    "data <- data |> \n",
    "  mutate(gender_original = gender, \n",
    "         gender = if_else(gender != 2, 1, gender),\n",
    "         gender = sjlabelled::set_labels(gender, labels = c(\"Non-male\", \"Male\"))) \n",
    "\n",
    "tabyl(data$gender_original)\n"
   ],
   "id": "d36ad9a6-f7af-4756-badb-ae14f0f0fec1"
  },
  {
   "cell_type": "markdown",
   "metadata": {},
   "source": [
    "Create binary covariate for race/ethnicity defined as: White only (non-Hispanic) vs. not White only"
   ],
   "id": "9eec069a-cf09-44fa-9bdf-e534e450d67d"
  },
  {
   "cell_type": "code",
   "execution_count": null,
   "metadata": {},
   "outputs": [
    {
     "output_type": "stream",
     "name": "stdout",
     "text": [
      " data$race_white_only    n     percent valid_percent\n",
      "                    0  335 0.245421245     0.2461425\n",
      "                    1 1026 0.751648352     0.7538575\n",
      "                   NA    4 0.002930403            NA"
     ]
    }
   ],
   "source": [
    "data <- data |> \n",
    "  mutate(race_white_only = if_else(ethnicity == 0 & race_1 == 1 &\n",
    "                                     race_2 == 0 & race_3 == 0 &\n",
    "                                     race_4 == 0 & race_5 == 0 &\n",
    "                                     race_6 == 0, 1, 0))\n",
    "\n",
    "tabyl(data$race_white_only)\n"
   ],
   "id": "3efaf173-e307-4e2f-9975-89cf8cc82479"
  },
  {
   "cell_type": "markdown",
   "metadata": {},
   "source": [
    "Center non-binary covariates: age and edu"
   ],
   "id": "3cf9d9de-91de-4cd1-be67-ab67e73acfd7"
  },
  {
   "cell_type": "code",
   "execution_count": null,
   "metadata": {},
   "outputs": [],
   "source": [
    "data <- data |> \n",
    "  mutate(age_c = age - mean(age, na.rm = TRUE))\n"
   ],
   "id": "26d2bae5-f925-41fc-a81d-7948c0cde2ea"
  },
  {
   "cell_type": "markdown",
   "metadata": {},
   "source": [
    "*KW: education is not continuous. Is centering best transformation? Maybe instead pick a certain level? Centering on mean for now*"
   ],
   "id": "a21ef898-b670-47b1-90e2-ad3ecf053f81"
  },
  {
   "cell_type": "code",
   "execution_count": null,
   "metadata": {},
   "outputs": [
    {
     "output_type": "stream",
     "name": "stdout",
     "text": [
      "[1] \"8th grade or less\"                     \n",
      "[2] \"Some high school, but did not graduate\"\n",
      "[3] \"High school graduate or GED\"           \n",
      "[4] \"Some college or 2 year degree\"         \n",
      "[5] \"4-year college graduate\"               \n",
      "[6] \"More than 4-year college degree\"       "
     ]
    },
    {
     "output_type": "stream",
     "name": "stdout",
     "text": [
      "[1] 4.274798"
     ]
    },
    {
     "output_type": "stream",
     "name": "stdout",
     "text": [
      " data$edu   n     percent valid_percent\n",
      "        1   8 0.005860806   0.005878031\n",
      "        2  42 0.030769231   0.030859662\n",
      "        3 266 0.194871795   0.195444526\n",
      "        4 510 0.373626374   0.374724467\n",
      "        5 322 0.235897436   0.236590742\n",
      "        6 213 0.156043956   0.156502572\n",
      "       NA   4 0.002930403            NA"
     ]
    }
   ],
   "source": [
    "sjlabelled::get_labels(data$edu)\n"
   ],
   "id": "07a9322d-306e-48a2-9c1d-dd6c6021c836"
  },
  {
   "cell_type": "markdown",
   "metadata": {},
   "source": [
    "Recode data to have baseline scores of outcomes as covariate\n",
    "\n",
    "*KW: 36 study ids provided baseline info but no data at later time points*"
   ],
   "id": "39522756-07b9-4003-8def-f3f8e4389bf8"
  },
  {
   "cell_type": "code",
   "execution_count": null,
   "metadata": {},
   "outputs": [
    {
     "output_type": "stream",
     "name": "stdout",
     "text": [
      "# A tibble: 36 × 6\n",
      "   study_id hdd_0 pda_0 oq45_0 relationsatisf_0 abuse_0\n",
      "   <chr>    <dbl> <dbl>  <dbl>            <dbl>   <dbl>\n",
      " 1 110PT    100     0       25               25      NA\n",
      " 2 111PT     30.6  44.6     50               26      NA\n",
      " 3 117FAM    NA    NA       32               18      NA\n",
      " 4 119FAM    NA    NA       29               27       3\n",
      " 5 119PT     98.3   0.8     64               25      NA\n",
      " 6 121PT     33.9  66.1     68               31      26\n",
      " 7 125PT     26.4  73.6     74               21      NA\n",
      " 8 130FAM    NA    NA       94               23       7\n",
      " 9 130PT     99.2   0.8    109               25       2\n",
      "10 139PT      9.2  90.8     80               21      NA\n",
      "11 140FAM    NA    NA       61               20      NA\n",
      "12 148FAM    NA    NA       70               17       4\n",
      "13 148PT     99.2   0.8     74               18       2\n",
      "14 149PT     75    23.3     30               25      NA\n",
      "15 155FAM    NA    NA       35               17       2\n",
      "16 155PT     NA    NA       70               14      NA\n",
      "17 156FAM    NA    NA       14               20      NA\n",
      "18 167FAM    NA    NA       15               14      NA\n",
      "19 181PT     44.7   2.4     45               20       3\n",
      "20 190FAM    NA    NA       30               17      NA\n",
      "21 190PT      3.3   0       48               19      NA\n",
      "22 198PT     29.2   7.5     33               27      NA\n",
      "23 199PT     14.9  83.5     57               27      NA\n",
      "24 203FAM    NA    NA       63               21       1\n",
      "25 203PT     60.3  39.7     28               24      NA\n",
      "26 205FAM    NA    NA       28               24      NA\n",
      "27 205PT     79.3  20.7     45               24      NA\n",
      "28 209PT     53.3  32.5     52               20       1\n",
      "29 303FAM    NA    NA       54               21      21\n",
      "30 303PT     43.3  56.7    110               24      19\n",
      "31 314FAM    NA    NA       81               14      24\n",
      "32 314PT     45.5  54.5    124               17      36\n",
      "33 315FAM    NA    NA       71               10       8\n",
      "34 337FAM    NA    NA       95               18      NA\n",
      "35 358FAM    NA    NA       81               15      10\n",
      "36 362FAM    NA    NA       28               28      NA"
     ]
    }
   ],
   "source": [
    "baseline_values <- data |>  \n",
    "  filter(time == 0) |> \n",
    "  select(study_id, \n",
    "         hdd_0 = per_heavy_drink_days, \n",
    "         pda_0 = per_days_abstinent, \n",
    "         oq45_0 = oq45_scored, \n",
    "         relationsatisf_0 = relationsatisf_scored, \n",
    "         abuse_0 = abuse_scored)\n",
    "\n",
    "baseline_values |> \n",
    "  filter(!study_id %in% subset(data, time != 0)$study_id) |> \n",
    "  print(n = Inf)\n"
   ],
   "id": "c72d255e-f23d-45fa-b1c6-12b6d9ce6b1c"
  },
  {
   "cell_type": "code",
   "execution_count": null,
   "metadata": {},
   "outputs": [],
   "source": [
    "data <- data |> \n",
    "  filter(time != 0) |> \n",
    "  full_join(baseline_values, by = \"study_id\")\n"
   ],
   "id": "cb79fda3-fa03-46b5-9c63-0313b8e45525"
  },
  {
   "cell_type": "markdown",
   "metadata": {},
   "source": [
    "*KW: confirm this is okay with John - remove 36 individuals with only baseline data*\n",
    "\n",
    "*KW: Remove partners too?*"
   ],
   "id": "3dcd9056-a86e-4a98-9e63-f0d6ee766500"
  },
  {
   "cell_type": "code",
   "execution_count": null,
   "metadata": {},
   "outputs": [
    {
     "output_type": "stream",
     "name": "stdout",
     "text": [
      "# A tibble: 53 × 2\n",
      "   study_id dyad_id\n",
      "   <chr>    <chr>  \n",
      " 1 110FAM   110    \n",
      " 2 110PT    110    \n",
      " 3 111FAM   111    \n",
      " 4 111PT    111    \n",
      " 5 117PT    117    \n",
      " 6 117FAM   117    \n",
      " 7 119FAM   119    \n",
      " 8 119PT    119    \n",
      " 9 121FAM   121    \n",
      "10 121PT    121    \n",
      "11 125FAM   125    \n",
      "12 125PT    125    \n",
      "13 130FAM   130    \n",
      "14 130PT    130    \n",
      "15 139FAM   139    \n",
      "16 139PT    139    \n",
      "17 140PT    140    \n",
      "18 140FAM   140    \n",
      "19 148FAM   148    \n",
      "20 148PT    148    \n",
      "21 149FAM   149    \n",
      "22 149PT    149    \n",
      "23 155FAM   155    \n",
      "24 155PT    155    \n",
      "25 156PT    156    \n",
      "26 156FAM   156    \n",
      "27 167FAM   167    \n",
      "28 181FAM   181    \n",
      "29 181PT    181    \n",
      "30 190FAM   190    \n",
      "31 190PT    190    \n",
      "32 198FAM   198    \n",
      "33 198PT    198    \n",
      "34 199FAM   199    \n",
      "35 199PT    199    \n",
      "36 203FAM   203    \n",
      "37 203PT    203    \n",
      "38 205FAM   205    \n",
      "39 205PT    205    \n",
      "40 209FAM   209    \n",
      "41 209PT    209    \n",
      "42 303FAM   303    \n",
      "43 303PT    303    \n",
      "44 314FAM   314    \n",
      "45 314PT    314    \n",
      "46 315PT    315    \n",
      "47 315FAM   315    \n",
      "48 337PT    337    \n",
      "49 337FAM   337    \n",
      "50 358PT    358    \n",
      "51 358FAM   358    \n",
      "52 362PT    362    \n",
      "53 362FAM   362    "
     ]
    }
   ],
   "source": [
    "dyad_ids <- baseline_values |> \n",
    "  mutate(dyad_id = str_sub(study_id, 1, 3)) |> \n",
    "  filter(!study_id %in% subset(data, time != 0)$study_id) |> \n",
    "  pull(dyad_id) |> \n",
    "  unique()\n",
    "  \n",
    "data |> \n",
    "  mutate(dyad_id = str_sub(study_id, 1, 3)) |> \n",
    "  filter(dyad_id %in% dyad_ids) |> \n",
    "  select(study_id, dyad_id) |> \n",
    "  unique() |> \n",
    "  arrange(dyad_id) |> \n",
    "  print(n = Inf)\n"
   ],
   "id": "8610bc4e-2454-469d-9a06-689a0b65125a"
  },
  {
   "cell_type": "markdown",
   "metadata": {},
   "source": [
    "Center baseline values of outcomes"
   ],
   "id": "3f5af0ec-028e-4d13-9b05-5d492b85e1e7"
  },
  {
   "cell_type": "code",
   "execution_count": null,
   "metadata": {},
   "outputs": [],
   "source": [
    "data <- data |> \n",
    "  mutate(hdd_0 = hdd_0 - mean(hdd_0, na.rm = TRUE),\n",
    "         pda_0 = pda_0 - mean(pda_0, na.rm = TRUE),\n",
    "         oq45_0 = oq45_0 - mean(oq45_0, na.rm = TRUE),\n",
    "         relationsatisf_0 = relationsatisf_0 - mean(relationsatisf_0, na.rm = TRUE),\n",
    "         abuse_0 = abuse_0 - mean(abuse_0, na.rm = TRUE))\n"
   ],
   "id": "52e4057c-a590-448c-99e7-30164ab982da"
  },
  {
   "cell_type": "markdown",
   "metadata": {},
   "source": [
    "Center time at the end of the intervention period (8 months)."
   ],
   "id": "0710e0bb-012f-44e2-a0c7-07af058f5378"
  },
  {
   "cell_type": "code",
   "execution_count": null,
   "metadata": {},
   "outputs": [
    {
     "output_type": "stream",
     "name": "stdout",
     "text": [
      "[1] \"Baseline\" \"4 Month\"  \"8 Month\"  \"12 Month\""
     ]
    },
    {
     "output_type": "stream",
     "name": "stdout",
     "text": [
      " data$time   n   percent\n",
      "         1 328 0.3534483\n",
      "         2 315 0.3394397\n",
      "         3 285 0.3071121"
     ]
    }
   ],
   "source": [
    "sjlabelled::get_labels(data$time)\n"
   ],
   "id": "cd2f28c9-682d-485b-9052-5efc13e95062"
  },
  {
   "cell_type": "markdown",
   "metadata": {},
   "source": [
    "### EDA\n",
    "\n",
    "Remove vars not used in analyses (e.g., keep scale score and remove individual items).\n",
    "\n",
    "*KW: COVID acute/residual symptoms was originally listed as covariate but was removed per measures doc (Participants interpreted question differently).*\n",
    "\n",
    "*KW: phq, promis, loneliness, coping, interaction scales not scored or in measures doc. Removed from analyses data set.*"
   ],
   "id": "c0f37a39-5050-45b4-a115-6d22a6795ef7"
  },
  {
   "cell_type": "code",
   "execution_count": null,
   "metadata": {},
   "outputs": [
    {
     "output_type": "stream",
     "name": "stdout",
     "text": [
      "Rows: 928\n",
      "Columns: 44\n",
      "$ study_id                    <chr> \"100FAM\", \"100FAM\", \"100FAM\", \"100PT\", \"10…\n",
      "$ dyad                        <dbl+lbl> 1, 1, 1, 2, 2, 2, 1, 1, 1, 2, 2, 2, 1,…\n",
      "$ arm                         <dbl+lbl> 1, 1, 1, 1, 1, 1, 0, 0, 0, 0, 0, 0, 2,…\n",
      "$ group                       <dbl+lbl> 4, 4, 4, 1, 1, 1, 3, 3, 3, 0, 0, 0, 5,…\n",
      "$ time_string                 <chr> \"4 Month\", \"8 Month\", \"12 Month\", \"12 Mont…\n",
      "$ time                        <dbl+lbl> 1, 2, 3, 3, 1, 2, 1, 2, 3, 1, 2, 3, 1,…\n",
      "$ comments                    <chr> \"\", \"\", \"\", \"\", \"\", \"\", \"\", \"\", \"\", \"\", \"\"…\n",
      "$ gender                      <dbl+lbl> 1, 1, 1, 2, 2, 2, 1, 1, 1, 2, 2, 2, 1,…\n",
      "$ age                         <dbl> 55, 55, 55, 56, 56, 56, 62, 62, 62, 66, 66…\n",
      "$ edu                         <dbl+lbl> 4, 4, 4, 3, 3, 3, 4, 4, 4, 3, 3, 3, 6,…\n",
      "$ income                      <dbl+lbl> 3, 3, 3, 3, 3, 3, 4, 4, 4, 4, 4, 4, 4,…\n",
      "$ partner_relationship        <dbl+lbl> 1, 1, 1, 1, 1, 1, 1, 1, 1, 1, 1, 1, 5,…\n",
      "$ employment                  <dbl+lbl> 1, 1, 1, 1, 1, 1, 0, 0, 0, 0, 0, 0, 0,…\n",
      "$ days_app_use                <dbl> NA, NA, NA, 8, 32, 12, NA, NA, NA, NA, NA,…\n",
      "$ per_days_abstinent          <dbl> NA, NA, NA, 0.0, 0.0, 0.0, NA, NA, NA, 98.…\n",
      "$ per_heavy_drink_days        <dbl> NA, NA, NA, 100.0, 90.8, 100.0, NA, NA, NA…\n",
      "$ meetings_yn                 <dbl+lbl> 0, 0, 0, 0, 0, 0, 0, 1, 0, 1, 1, 1, 0,…\n",
      "$ outpatient_yn_ever          <dbl+lbl> 0, 0, 0, 0, 0, 0, 0, 0, 0, 0, 0, 0, 0,…\n",
      "$ other_psych_treatment_yn    <dbl+lbl> 0, 0, 0, 0, 0, 0, 0, 0, 0, 1, 0, 0, 0,…\n",
      "$ er_yn_ever                  <dbl+lbl> 0, 0, 0, 0, 0, 0, 0, 0, 0, 0, 0, 0, 0,…\n",
      "$ mat_yn                      <dbl+lbl> 0, 0, 0, 0, 0, 0, 0, 0, 0, 0, 0, 0, 0,…\n",
      "$ other_medications_yn        <dbl+lbl> 0, 0, 0, 0, 0, 0, 0, 0, 0, 1, 0, 0, 0,…\n",
      "$ inpatient_yn_ever           <dbl+lbl> 0, 0, 0, 0, 0, 0, 0, 0, 0, 0, 0, 0, 0,…\n",
      "$ readmits_yn                 <dbl+lbl> NA, NA, NA, NA, NA, NA, NA, NA, NA, NA…\n",
      "$ relationship_status         <dbl+lbl> 1, 1, 1, 1, 1, 1, 1, 1, 1, 1, 1, 1, 1,…\n",
      "$ relationship_status_open    <chr> \"\", \"\", \"\", \"\", \"\", \"\", \"\", \"\", \"\", \"\", \"\"…\n",
      "$ oq45_scored                 <dbl> 48, 58, 64, 48, 68, 70, 26, 37, 40, 44, 44…\n",
      "$ relationsatisf_scored       <dbl> 15, 9, 30, 24, 22, 20, 30, 29, 32, 25, 25,…\n",
      "$ abuse_scored                <dbl> 4, 7, 8, 15, 4, 2, 4, 0, 2, 0, NA, NA, 2, …\n",
      "$ treatmentskills_scored      <dbl> 2.888889, 2.722222, 3.277778, NA, NA, NA, …\n",
      "$ peersupport_scored          <dbl> 3.4, 2.6, 2.8, 2.4, 2.2, 2.8, 2.8, 3.6, 2.…\n",
      "$ socrates_scored             <dbl> NA, NA, NA, 33, 34, 24, NA, NA, NA, 39, 37…\n",
      "$ socrates_recognition_scored <dbl> NA, NA, NA, 34, 32, 34, NA, NA, NA, 35, 35…\n",
      "$ socrates_ambivalence_scored <dbl> NA, NA, NA, 17, 18, 17, NA, NA, NA, 13, 14…\n",
      "$ gender_original             <dbl+lbl> 1, 1, 1, 2, 2, 2, 1, 1, 1, 2, 2, 2, 1,…\n",
      "$ race_white_only             <dbl> 0, 0, 0, 0, 0, 0, 1, 1, 1, 1, 1, 1, 1, 1, …\n",
      "$ age_c                       <dbl> 7.456153, 7.456153, 7.456153, 8.456153, 8.…\n",
      "$ edu_c                       <dbl> -0.2747979, -0.2747979, -0.2747979, -1.274…\n",
      "$ hdd_0                       <dbl> NA, NA, NA, 51.00129, 51.00129, 51.00129, …\n",
      "$ pda_0                       <dbl> NA, NA, NA, -37.4819, -37.4819, -37.4819, …\n",
      "$ oq45_0                      <dbl> -6.7124324, -6.7124324, -6.7124324, 0.2875…\n",
      "$ relationsatisf_0            <dbl> -1.52, -1.52, -1.52, -3.52, -3.52, -3.52, …\n",
      "$ abuse_0                     <dbl> 4.5461538, 4.5461538, 4.5461538, -2.453846…\n",
      "$ time_c                      <dbl> -1, 0, 1, 1, -1, 0, -1, 0, 1, -1, 0, 1, -1…"
     ]
    }
   ],
   "source": [
    "data <- data |> \n",
    "  select(-c(treatmentskills_1:treatmentskills_18_recode,\n",
    "            oq45_1:oq45_45, alcoholproblems_1:alcoholproblems_15, \n",
    "            relationsatisf_1:relationsatisf_8, phq_1:phq_8, \n",
    "            abuse_1:abuse_16_yes, promis29_1:promis29_8, \n",
    "            abuse_physical_scored:abuse_psychological_scored, gender_open,\n",
    "            loneliness_1:loneliness_8, healthservice_1, healthservice_2,\n",
    "            healthservice_3,healthservice_4,healthservice_5, \n",
    "            healthservice_5a_1:healthservice_5c, \n",
    "            healthservice_6a_1:healthservice_8a, healthservice_8b, \n",
    "            healthservice_9a, healthservice_9b, bonding_1:bonding_5, \n",
    "            socrates_1:socrates_20, coping_1:coping_25, \n",
    "            drinkinggoals:drinkinggoal_7_text, covid_1:covid_3f,\n",
    "            interaction_1:interaction_20, drink_druguse_1:drinkdruguse_8d,\n",
    "            employmentstatus:notemployed_open, ethnicity:race_open, \n",
    "            livewith_1:livewith_open, er_yn, outpatient_yn, \n",
    "            inpatient_yn, n_days, mean_drinks_per_day, per_drink_days, \n",
    "            covid_scored,redcap_event_name, recruitment_id)) |> \n",
    "  rename(other_medications_yn = healthservice_6,\n",
    "         readmits_yn = r_eadmits_yn) |>  # renaming for descriptive/consistency\n",
    "  relocate(study_id) |> \n",
    "  glimpse()\n"
   ],
   "id": "0d6cb241-94f7-4c47-9138-732e3380d966"
  },
  {
   "cell_type": "markdown",
   "metadata": {},
   "source": [
    "Number of participants"
   ],
   "id": "ded3d6ac-d6bc-4976-aacf-f13101871bf8"
  },
  {
   "cell_type": "code",
   "execution_count": null,
   "metadata": {},
   "outputs": [
    {
     "output_type": "stream",
     "name": "stdout",
     "text": [
      "[1] 340"
     ]
    },
    {
     "output_type": "stream",
     "name": "stdout",
     "text": [
      "[1] 170"
     ]
    },
    {
     "output_type": "stream",
     "name": "stdout",
     "text": [
      "[1] 170"
     ]
    }
   ],
   "source": [
    "data |> \n",
    "  pull(study_id) |>\n",
    "  unique() |> \n",
    "  length() # 340\n"
   ],
   "id": "14665b47-cca9-4a53-9232-99de10b3de03"
  },
  {
   "cell_type": "markdown",
   "metadata": {},
   "source": [
    "Complete dyad (patient + partner) for all participants"
   ],
   "id": "5a08f964-c5f0-432c-a233-b0aa482568a0"
  },
  {
   "cell_type": "code",
   "execution_count": null,
   "metadata": {},
   "outputs": [
    {
     "output_type": "stream",
     "name": "stdout",
     "text": [
      "# A tibble: 0 × 2\n",
      "# Groups:   dyad_id [0]\n",
      "# ℹ 2 variables: dyad_id <chr>, n <int>"
     ]
    }
   ],
   "source": [
    "data |> \n",
    "  select(study_id) |> \n",
    "  unique() |> \n",
    "  mutate(dyad_id = str_sub(study_id, 1, 3)) |> \n",
    "  group_by(dyad_id) |> \n",
    "  count() |> \n",
    "  filter(n != 2)\n"
   ],
   "id": "c3a2ece4-775e-42b4-8326-3dc47dd6c93c"
  },
  {
   "cell_type": "markdown",
   "metadata": {},
   "source": [
    "Missing data"
   ],
   "id": "519dcb39-fc16-4edf-9c7c-1b11da62fdac"
  },
  {
   "cell_type": "code",
   "execution_count": null,
   "metadata": {},
   "outputs": [
    {
     "output_type": "stream",
     "name": "stdout",
     "text": [
      "# A tibble: 44 × 3\n",
      "   variable                    n_miss pct_miss\n",
      "   <chr>                        <int>    <num>\n",
      " 1 readmits_yn                    903   97.3  \n",
      " 2 abuse_scored                   680   73.3  \n",
      " 3 abuse_0                        538   58.0  \n",
      " 4 per_days_abstinent             498   53.7  \n",
      " 5 per_heavy_drink_days           498   53.7  \n",
      " 6 socrates_scored                493   53.1  \n",
      " 7 socrates_recognition_scored    493   53.1  \n",
      " 8 socrates_ambivalence_scored    493   53.1  \n",
      " 9 treatmentskills_scored         479   51.6  \n",
      "10 hdd_0                          464   50    \n",
      "11 pda_0                          464   50    \n",
      "12 days_app_use                   455   49.0  \n",
      "13 other_medications_yn            42    4.53 \n",
      "14 mat_yn                          39    4.20 \n",
      "15 peersupport_scored              39    4.20 \n",
      "16 meetings_yn                     36    3.88 \n",
      "17 other_psych_treatment_yn        36    3.88 \n",
      "18 relationship_status             35    3.77 \n",
      "19 oq45_scored                     35    3.77 \n",
      "20 relationsatisf_scored           35    3.77 \n",
      "21 income                          15    1.62 \n",
      "22 age                              6    0.647\n",
      "23 age_c                            6    0.647\n",
      "24 gender                           3    0.323\n",
      "25 edu                              3    0.323\n",
      "26 partner_relationship             3    0.323\n",
      "27 employment                       3    0.323\n",
      "28 gender_original                  3    0.323\n",
      "29 race_white_only                  3    0.323\n",
      "30 edu_c                            3    0.323\n",
      "31 oq45_0                           3    0.323\n",
      "32 relationsatisf_0                 3    0.323\n",
      "33 study_id                         0    0    \n",
      "34 dyad                             0    0    \n",
      "35 arm                              0    0    \n",
      "36 group                            0    0    \n",
      "37 time_string                      0    0    \n",
      "38 time                             0    0    \n",
      "39 comments                         0    0    \n",
      "40 outpatient_yn_ever               0    0    \n",
      "41 er_yn_ever                       0    0    \n",
      "42 inpatient_yn_ever                0    0    \n",
      "43 relationship_status_open         0    0    \n",
      "44 time_c                           0    0    "
     ]
    }
   ],
   "source": [
    "data |> \n",
    "  naniar::miss_var_summary() |> \n",
    "  print(n = Inf)\n"
   ],
   "id": "c7c87b3f-5630-4747-9e9d-1d0a38596bae"
  },
  {
   "cell_type": "markdown",
   "metadata": {},
   "source": [
    "Missing data for just patients\n",
    "\n",
    "-   treatmentskills not applicable to patients\n",
    "-   abuse and readmits have high missing data\n",
    "-   Why days_app_use missing so high?"
   ],
   "id": "82e13e18-5994-4d20-8647-004719e2f931"
  },
  {
   "cell_type": "code",
   "execution_count": null,
   "metadata": {},
   "outputs": [
    {
     "output_type": "stream",
     "name": "stdout",
     "text": [
      "# A tibble: 44 × 3\n",
      "   variable                    n_miss pct_miss\n",
      "   <chr>                        <int>    <num>\n",
      " 1 treatmentskills_scored         464  100    \n",
      " 2 readmits_yn                    440   94.8  \n",
      " 3 abuse_scored                   370   79.7  \n",
      " 4 abuse_0                        291   62.7  \n",
      " 5 days_app_use                   151   32.5  \n",
      " 6 per_days_abstinent              34    7.33 \n",
      " 7 per_heavy_drink_days            34    7.33 \n",
      " 8 other_medications_yn            30    6.47 \n",
      " 9 mat_yn                          29    6.25 \n",
      "10 socrates_scored                 29    6.25 \n",
      "11 socrates_recognition_scored     29    6.25 \n",
      "12 socrates_ambivalence_scored     29    6.25 \n",
      "13 peersupport_scored              28    6.03 \n",
      "14 meetings_yn                     26    5.60 \n",
      "15 other_psych_treatment_yn        26    5.60 \n",
      "16 relationship_status             25    5.39 \n",
      "17 oq45_scored                     25    5.39 \n",
      "18 relationsatisf_scored           25    5.39 \n",
      "19 income                          12    2.59 \n",
      "20 age                              6    1.29 \n",
      "21 age_c                            6    1.29 \n",
      "22 gender                           3    0.647\n",
      "23 edu                              3    0.647\n",
      "24 partner_relationship             3    0.647\n",
      "25 employment                       3    0.647\n",
      "26 gender_original                  3    0.647\n",
      "27 race_white_only                  3    0.647\n",
      "28 edu_c                            3    0.647\n",
      "29 oq45_0                           3    0.647\n",
      "30 relationsatisf_0                 3    0.647\n",
      "31 study_id                         0    0    \n",
      "32 dyad                             0    0    \n",
      "33 arm                              0    0    \n",
      "34 group                            0    0    \n",
      "35 time_string                      0    0    \n",
      "36 time                             0    0    \n",
      "37 comments                         0    0    \n",
      "38 outpatient_yn_ever               0    0    \n",
      "39 er_yn_ever                       0    0    \n",
      "40 inpatient_yn_ever                0    0    \n",
      "41 relationship_status_open         0    0    \n",
      "42 hdd_0                            0    0    \n",
      "43 pda_0                            0    0    \n",
      "44 time_c                           0    0    "
     ]
    }
   ],
   "source": [
    "data |> \n",
    "  filter(dyad == 2) |> \n",
    "  naniar::miss_var_summary() |> \n",
    "  print(n = Inf)\n"
   ],
   "id": "446ee4c3-da0b-44ee-b9f2-8464a9d1bfd6"
  },
  {
   "cell_type": "markdown",
   "metadata": {},
   "source": [
    "Remove `readmits_yn` as covariate due to low endorsement\n",
    "\n",
    "*KW: not sure why so many NAs*"
   ],
   "id": "ebe496a2-6b95-44e9-a780-1f9eaeb4f87b"
  },
  {
   "cell_type": "code",
   "execution_count": null,
   "metadata": {},
   "outputs": [
    {
     "output_type": "stream",
     "name": "stdout",
     "text": [
      "[1] \"No\"  \"Yes\""
     ]
    }
   ],
   "source": [
    "sjlabelled::get_labels(data$readmits_yn)\n"
   ],
   "id": "8c4ae6eb-8c63-4656-850d-ff5de3c968fc"
  },
  {
   "cell_type": "markdown",
   "metadata": {},
   "source": [
    "Missing data for partners"
   ],
   "id": "8ace5d59-42aa-4f1f-af84-07e0c1b48682"
  },
  {
   "cell_type": "code",
   "execution_count": null,
   "metadata": {},
   "outputs": [
    {
     "output_type": "stream",
     "name": "stdout",
     "text": [
      "# A tibble: 43 × 3\n",
      "   variable                    n_miss pct_miss\n",
      "   <chr>                        <int>    <num>\n",
      " 1 per_days_abstinent             464  100    \n",
      " 2 per_heavy_drink_days           464  100    \n",
      " 3 socrates_scored                464  100    \n",
      " 4 socrates_recognition_scored    464  100    \n",
      " 5 socrates_ambivalence_scored    464  100    \n",
      " 6 hdd_0                          464  100    \n",
      " 7 pda_0                          464  100    \n",
      " 8 abuse_scored                   310   66.8  \n",
      " 9 days_app_use                   304   65.5  \n",
      "10 abuse_0                        247   53.2  \n",
      "11 treatmentskills_scored          15    3.23 \n",
      "12 other_medications_yn            12    2.59 \n",
      "13 peersupport_scored              11    2.37 \n",
      "14 meetings_yn                     10    2.16 \n",
      "15 other_psych_treatment_yn        10    2.16 \n",
      "16 mat_yn                          10    2.16 \n",
      "17 relationship_status             10    2.16 \n",
      "18 oq45_scored                     10    2.16 \n",
      "19 relationsatisf_scored           10    2.16 \n",
      "20 income                           3    0.647\n",
      "21 study_id                         0    0    \n",
      "22 dyad                             0    0    \n",
      "23 arm                              0    0    \n",
      "24 group                            0    0    \n",
      "25 time_string                      0    0    \n",
      "26 time                             0    0    \n",
      "27 comments                         0    0    \n",
      "28 gender                           0    0    \n",
      "29 age                              0    0    \n",
      "30 edu                              0    0    \n",
      "31 partner_relationship             0    0    \n",
      "32 employment                       0    0    \n",
      "33 outpatient_yn_ever               0    0    \n",
      "34 er_yn_ever                       0    0    \n",
      "35 inpatient_yn_ever                0    0    \n",
      "36 relationship_status_open         0    0    \n",
      "37 gender_original                  0    0    \n",
      "38 race_white_only                  0    0    \n",
      "39 age_c                            0    0    \n",
      "40 edu_c                            0    0    \n",
      "41 oq45_0                           0    0    \n",
      "42 relationsatisf_0                 0    0    \n",
      "43 time_c                           0    0    "
     ]
    }
   ],
   "source": [
    "data |> \n",
    "  filter(dyad == 1) |> \n",
    "  naniar::miss_var_summary() |> \n",
    "  print(n = Inf)\n"
   ],
   "id": "c2294d92-22fe-4af6-a76d-c9554d16397a"
  },
  {
   "cell_type": "markdown",
   "metadata": {},
   "source": [
    "Participants in each arm"
   ],
   "id": "2f8371d1-93b8-4030-81f4-f3b3fd788a19"
  },
  {
   "cell_type": "code",
   "execution_count": null,
   "metadata": {},
   "outputs": [
    {
     "output_type": "stream",
     "name": "stdout",
     "text": [
      " arm   n   percent\n",
      "   0 108 0.3176471\n",
      "   1 118 0.3470588\n",
      "   2 114 0.3352941"
     ]
    }
   ],
   "source": [
    "data |> \n",
    "  group_by(study_id) |> \n",
    "  slice(1) |> \n",
    "  tabyl(arm)\n"
   ],
   "id": "be827e6a-140d-43e5-bdb8-3e59ed49245a"
  },
  {
   "cell_type": "markdown",
   "metadata": {},
   "source": [
    "Check stratification variables in arms - patient gender identity and alcohol use severity (moderate or severe AUD)\n",
    "\n",
    "DSM5 criteria: 1 = severe, 2 = moderate, 3 = mild  \n",
    "Group: 0 = patient control, 1 = patient achess, 2 = patient famchess,"
   ],
   "id": "2a1a9735-68f0-4001-b10d-90202e5c8d01"
  },
  {
   "cell_type": "code",
   "execution_count": null,
   "metadata": {},
   "outputs": [
    {
     "output_type": "stream",
     "name": "stdout",
     "text": [
      " group  1  2 NA_\n",
      "     0 22 31   1\n",
      "     1 26 33   0\n",
      "     2 23 34   0"
     ]
    },
    {
     "output_type": "stream",
     "name": "stdout",
     "text": [
      " group  1 2 3 NA_\n",
      "     0 51 1 1   1\n",
      "     1 58 1 0   0\n",
      "     2 50 6 1   0"
     ]
    }
   ],
   "source": [
    "data |> \n",
    "  filter(dyad == 2) |> \n",
    "  group_by(study_id) |> \n",
    "  slice(1) |> \n",
    "  tabyl(group, gender)\n"
   ],
   "id": "dd86b825-e70c-4243-b745-5ed3a60a8b54"
  },
  {
   "cell_type": "markdown",
   "metadata": {},
   "source": [
    "Demographic and study related variables\n",
    "\n",
    "Time string matches time"
   ],
   "id": "5c517a16-1d98-4f4d-8f5f-26f62c6aca97"
  },
  {
   "cell_type": "code",
   "execution_count": null,
   "metadata": {},
   "outputs": [
    {
     "output_type": "stream",
     "name": "stdout",
     "text": [
      " time 12 Month 4 Month 8 Month\n",
      "    1        0     328       0\n",
      "    2        0       0     315\n",
      "    3      285       0       0"
     ]
    }
   ],
   "source": [
    "data |> \n",
    "  tabyl(time, time_string)\n"
   ],
   "id": "0b5052b5-52ff-4efc-ae96-73da88d21821"
  },
  {
   "cell_type": "markdown",
   "metadata": {},
   "source": [
    "*KW: discuss with John if we need to do anything with these notes*"
   ],
   "id": "ac46c33a-aac8-4209-9c93-18135dc9be1e"
  },
  {
   "cell_type": "code",
   "execution_count": null,
   "metadata": {},
   "outputs": [
    {
     "output_type": "stream",
     "name": "stdout",
     "text": [
      " [1] \"Missing TLFB\"                                                                                                                                                                                       \n",
      " [2] \"Missing TLFB\"                                                                                                                                                                                       \n",
      " [3] \"Missing survey data\"                                                                                                                                                                                \n",
      " [4] \"Missing TLFB\"                                                                                                                                                                                       \n",
      " [5] \"Missing TLFB\"                                                                                                                                                                                       \n",
      " [6] \"Exclude TLFB. 120pt is the one who had a traumatic brain injury, Dave and I both did their 4 month survey on accident because the participant didn't remember doing it. They gave different answers\"\n",
      " [7] \"Missing TLFB\"                                                                                                                                                                                       \n",
      " [8] \"Missing TLFB\"                                                                                                                                                                                       \n",
      " [9] \"TLFB complete but data was lost\"                                                                                                                                                                    \n",
      "[10] \"Missing TLFB\"                                                                                                                                                                                       \n",
      "[11] \"Missing survey data\"                                                                                                                                                                                \n",
      "[12] \"Missing TLFB\"                                                                                                                                                                                       \n",
      "[13] \"Missing survey data\"                                                                                                                                                                                \n",
      "[14] \"Missing survey data\"                                                                                                                                                                                \n",
      "[15] \"Missing survey data\"                                                                                                                                                                                \n",
      "[16] \"Missing survey data\"                                                                                                                                                                                \n",
      "[17] \"Missing survey data\"                                                                                                                                                                                \n",
      "[18] \"Missing TLFB\"                                                                                                                                                                                       \n",
      "[19] \"Missing TLFB\"                                                                                                                                                                                       \n",
      "[20] \"TLFB complete but data was lost\"                                                                                                                                                                    \n",
      "[21] \"Missing survey data\"                                                                                                                                                                                \n",
      "[22] \"Missing survey data\"                                                                                                                                                                                \n",
      "[23] \"Missing survey data\"                                                                                                                                                                                \n",
      "[24] \"Missing TLFB\"                                                                                                                                                                                       \n",
      "[25] \"Missing TLFB\"                                                                                                                                                                                       \n",
      "[26] \"Missing TLFB\"                                                                                                                                                                                       \n",
      "[27] \"disinterested, rushed, vague during timeline followbacks\"                                                                                                                                           \n",
      "[28] \"disinterested, rushed, vague during timeline followbacks\"                                                                                                                                           \n",
      "[29] \"disinterested, rushed, vague during timeline followbacks\"                                                                                                                                           \n",
      "[30] \"Missing TLFB\"                                                                                                                                                                                       \n",
      "[31] \"Missing TLFB\"                                                                                                                                                                                       \n",
      "[32] \"Missing TLFB\"                                                                                                                                                                                       \n",
      "[33] \"Missing TLFB\"                                                                                                                                                                                       \n",
      "[34] \"Missing TLFB\"                                                                                                                                                                                       \n",
      "[35] \"Missing TLFB\"                                                                                                                                                                                       \n",
      "[36] \"Missing TLFB\"                                                                                                                                                                                       \n",
      "[37] \"Missing TLFB\"                                                                                                                                                                                       \n",
      "[38] \"Missing survey data\"                                                                                                                                                                                \n",
      "[39] \"Missing survey data\"                                                                                                                                                                                \n",
      "[40] \"Unreliable answers, was drunk during survey\"                                                                                                                                                        \n",
      "[41] \"Unreliable answers, was drunk during survey\"                                                                                                                                                        \n",
      "[42] \"Unreliable answers, was drunk during survey\"                                                                                                                                                        \n",
      "[43] \"Missing survey data\"                                                                                                                                                                                \n",
      "[44] \"Missing survey data\"                                                                                                                                                                                \n",
      "[45] \"Note, only 53 days between 4 and 8 month survey\"                                                                                                                                                    \n",
      "[46] \"Note, only 37 days between 4 and 8 month survey\"                                                                                                                                                    \n",
      "[47] \"during qualitative interview, said partner was just their friend\"                                                                                                                                   \n",
      "[48] \"during qualitative interview, said partner was just their friend\"                                                                                                                                   \n",
      "[49] \"during qualitative interview, said partner was just their friend\"                                                                                                                                   \n",
      "[50] \"during qualitative interview, said partner was just their friend\"                                                                                                                                   \n",
      "[51] \"during qualitative interview, said partner was just their friend\"                                                                                                                                   \n",
      "[52] \"during qualitative interview, said partner was just their friend\"                                                                                                                                   \n",
      "[53] \"TLFB complete but data was lost\"                                                                                                                                                                    \n",
      "[54] \"Missing survey data\"                                                                                                                                                                                \n",
      "[55] \"Missing survey data\"                                                                                                                                                                                \n",
      "[56] \"TLFB complete but data was lost\"                                                                                                                                                                    \n",
      "[57] \"Missing survey data\"                                                                                                                                                                                \n",
      "[58] \"Missing survey data\"                                                                                                                                                                                \n",
      "[59] \"Missing TLFB\"                                                                                                                                                                                       \n",
      "attr(,\"format.spss\")\n",
      "[1] \"A5000\"\n",
      "attr(,\"display_width\")\n",
      "[1] 186"
     ]
    }
   ],
   "source": [
    "data |> \n",
    "  filter(!comments == \"\") |> \n",
    "  pull(comments)\n"
   ],
   "id": "6e489a66-15e0-4564-8c02-e8f55a43961c"
  },
  {
   "cell_type": "markdown",
   "metadata": {},
   "source": [
    "Income"
   ],
   "id": "041ac00f-42f5-45d7-abbc-9d97812921e8"
  },
  {
   "cell_type": "code",
   "execution_count": null,
   "metadata": {},
   "outputs": [
    {
     "output_type": "stream",
     "name": "stdout",
     "text": [
      "[1] \"Less than $25,000\"    \"$25,000 to $34,999\"   \"$35,000 to $49,999\"  \n",
      "[4] \"$50,000 to $74,999\"   \"$75,000 to $99,999\"   \"$100,000 to $149,999\"\n",
      "[7] \"$150,000 to $199,999\" \"$200,000 or more\"    "
     ]
    },
    {
     "output_type": "stream",
     "name": "stdout",
     "text": [
      " data$income   n    percent valid_percent\n",
      "           1 177 0.19073276    0.19386637\n",
      "           2  57 0.06142241    0.06243154\n",
      "           3  91 0.09806034    0.09967141\n",
      "           4 192 0.20689655    0.21029573\n",
      "           5 160 0.17241379    0.17524644\n",
      "           6 144 0.15517241    0.15772180\n",
      "           7  65 0.07004310    0.07119387\n",
      "           8  27 0.02909483    0.02957284\n",
      "          NA  15 0.01616379            NA"
     ]
    }
   ],
   "source": [
    "sjlabelled::get_labels(data$income)\n"
   ],
   "id": "080fff7b-dacc-4ece-8919-d13fc8e69841"
  },
  {
   "cell_type": "markdown",
   "metadata": {},
   "source": [
    "Partner relationship"
   ],
   "id": "10157e73-336d-44c6-acf1-4c76569f49ff"
  },
  {
   "cell_type": "code",
   "execution_count": null,
   "metadata": {},
   "outputs": [
    {
     "output_type": "stream",
     "name": "stdout",
     "text": [
      "[1] \"Romantic partner/spouse\" \"Parent\"                 \n",
      "[3] \"Adult child\"             \"Other family member\"    \n",
      "[5] \"Friend\"                  \"Recovery Coach\"         "
     ]
    },
    {
     "output_type": "stream",
     "name": "stdout",
     "text": [
      " data$partner_relationship   n     percent valid_percent\n",
      "                         1 614 0.661637931   0.663783784\n",
      "                         2  74 0.079741379   0.080000000\n",
      "                         3  73 0.078663793   0.078918919\n",
      "                         4  98 0.105603448   0.105945946\n",
      "                         5  63 0.067887931   0.068108108\n",
      "                         6   3 0.003232759   0.003243243\n",
      "                        NA   3 0.003232759            NA"
     ]
    }
   ],
   "source": [
    "sjlabelled::get_labels(data$partner_relationship)\n"
   ],
   "id": "ee68118b-8f33-43d5-96e2-3ddf4f5a662f"
  },
  {
   "cell_type": "markdown",
   "metadata": {},
   "source": [
    "Employment"
   ],
   "id": "7e6fdea2-83da-4791-8994-6503e75402ce"
  },
  {
   "cell_type": "code",
   "execution_count": null,
   "metadata": {},
   "outputs": [
    {
     "output_type": "stream",
     "name": "stdout",
     "text": [
      "[1] \"No\"  \"Yes\""
     ]
    },
    {
     "output_type": "stream",
     "name": "stdout",
     "text": [
      " data$employment   n     percent valid_percent\n",
      "               0 315 0.339439655     0.3405405\n",
      "               1 610 0.657327586     0.6594595\n",
      "              NA   3 0.003232759            NA"
     ]
    }
   ],
   "source": [
    "sjlabelled::get_labels(data$employment)\n"
   ],
   "id": "37c680f1-17b0-465d-a2ae-859a52e185ba"
  },
  {
   "cell_type": "markdown",
   "metadata": {},
   "source": [
    "Relationship status with partner"
   ],
   "id": "d7dd5992-81ac-4bb3-8eb2-eb150dce094e"
  },
  {
   "cell_type": "code",
   "execution_count": null,
   "metadata": {},
   "outputs": [
    {
     "output_type": "stream",
     "name": "stdout",
     "text": [
      "[1] \"Still together (e.g., as a romantic couple, as family, as friends)\"\n",
      "[2] \"Split up but still working on this project together\"               \n",
      "[3] \"Split up and not working on this project together\"                 \n",
      "[4] \"Other\"                                                             "
     ]
    },
    {
     "output_type": "stream",
     "name": "stdout",
     "text": [
      " data$relationship_status   n    percent valid_percent\n",
      "                        1 762 0.82112069    0.85330347\n",
      "                        2  62 0.06681034    0.06942889\n",
      "                        3  24 0.02586207    0.02687570\n",
      "                        4  45 0.04849138    0.05039194\n",
      "                       NA  35 0.03771552            NA"
     ]
    },
    {
     "output_type": "stream",
     "name": "stdout",
     "text": [
      " [1] \"Still friends but he is unsure how much if at all she is using the app\"                                                                         \n",
      " [2] \"parent\"                                                                                                                                         \n",
      " [3] \"None\"                                                                                                                                           \n",
      " [4] \"None\"                                                                                                                                           \n",
      " [5] \"Not seeing\"                                                                                                                                     \n",
      " [6] \"Little contact\"                                                                                                                                 \n",
      " [7] \"work schedules collide\"                                                                                                                         \n",
      " [8] \"I talk to monthly. He's not too engaged in this.\"                                                                                               \n",
      " [9] \"On our way to splitting up\"                                                                                                                     \n",
      "[10] \"Going through break up\"                                                                                                                         \n",
      "[11] \"She is going to leave me\"                                                                                                                       \n",
      "[12] \"excellent, open, honest\"                                                                                                                        \n",
      "[13] \"excellent\"                                                                                                                                      \n",
      "[14] \"still working on the project together\"                                                                                                          \n",
      "[15] \"Support member\"                                                                                                                                 \n",
      "[16] \"Mutual\"                                                                                                                                         \n",
      "[17] \"Had split up now moving back together this month\"                                                                                               \n",
      "[18] \"Still together but really struggling\"                                                                                                           \n",
      "[19] \"Limited communication and I couldn't access anything after the 8 month survey, thought maybe we had been removed from the study?\"               \n",
      "[20] \"father/daughter\"                                                                                                                                \n",
      "[21] \"Steady friends\"                                                                                                                                 \n",
      "[22] \"Just friends\"                                                                                                                                   \n",
      "[23] \"Sister\"                                                                                                                                         \n",
      "[24] \"N/A\"                                                                                                                                            \n",
      "[25] \"Mother and daughter\"                                                                                                                            \n",
      "[26] \"not good\"                                                                                                                                       \n",
      "[27] \"We are cousin we are still working on her recovery\"                                                                                             \n",
      "[28] \"estranged but working on this project together\"                                                                                                 \n",
      "[29] \"She's still my mother\"                                                                                                                          \n",
      "[30] \"Continue to be very close friend\"                                                                                                               \n",
      "[31] \"Daughter we're fine\"                                                                                                                            \n",
      "[32] \"Temporarily broken up but still living together hoping she can get the drinking under control which will determine if we try to work things out\"\n",
      "[33] \"Split up but still working on getting back together and dealing with the alcohol use but in a better place.\"                                    \n",
      "[34] \"friends\"                                                                                                                                        \n",
      "[35] \"Not talking for the last few months\"                                                                                                            \n",
      "attr(,\"label\")\n",
      "[1] \"Other\"\n",
      "attr(,\"format.spss\")\n",
      "[1] \"A1000\"\n",
      "attr(,\"display_width\")\n",
      "[1] 128"
     ]
    }
   ],
   "source": [
    "sjlabelled::get_labels(data$relationship_status)\n"
   ],
   "id": "4d31b740-b6c6-4d2c-becd-d8d01b87c9ad"
  },
  {
   "cell_type": "markdown",
   "metadata": {},
   "source": [
    "univariate descriptives of covariates, mediators, moderators and outcome variables"
   ],
   "id": "2c33769f-ceaa-4fd7-9f2a-c9ed62787e0b"
  },
  {
   "cell_type": "code",
   "execution_count": null,
   "metadata": {},
   "outputs": [
    {
     "output_type": "display_data",
     "metadata": {},
     "data": {
      "text/markdown": [
       "  ----------------------------------------------------------------------------------------------------------------------------\n",
       "  skim_variable                   n_missing   complete_rate    mean      sd       p0      p25     p50     p75     p100 hist\n",
       "  ----------------------------- ----------- --------------- ------- ------- -------- -------- ------- ------- -------- -------\n",
       "  age                                     6            0.99   47.62   13.59    21.00    37.00   47.50   58.00    89.00 ▅▇▇▃▁\n",
       "\n",
       "  edu                                     3            1.00    4.28    1.08     1.00     4.00    4.00    5.00     6.00 ▁▅▇▅▃\n",
       "\n",
       "  days_app_use                          455            0.51   41.14   38.05     0.00     6.00   32.00   74.00   161.00 ▇▃▃▂▁\n",
       "\n",
       "  per_days_abstinent                    498            0.46   60.96   37.45     0.00    29.98   71.05   98.20   100.00 ▅▂▂▃▇\n",
       "\n",
       "  per_heavy_drink_days                  498            0.46   24.20   33.27     0.00     0.00    5.65   34.35   100.00 ▇▂▁▁▂\n",
       "\n",
       "  meetings_yn                            36            0.96    0.18    0.38     0.00     0.00    0.00    0.00     1.00 ▇▁▁▁▂\n",
       "\n",
       "  outpatient_yn_ever                      0            1.00    0.18    0.39     0.00     0.00    0.00    0.00     1.00 ▇▁▁▁▂\n",
       "\n",
       "  other_psych_treatment_yn               36            0.96    0.16    0.37     0.00     0.00    0.00    0.00     1.00 ▇▁▁▁▂\n",
       "\n",
       "  er_yn_ever                              0            1.00    0.22    0.41     0.00     0.00    0.00    0.00     1.00 ▇▁▁▁▂\n",
       "\n",
       "  mat_yn                                 39            0.96    0.10    0.30     0.00     0.00    0.00    0.00     1.00 ▇▁▁▁▁\n",
       "\n",
       "  other_medications_yn                   42            0.95    0.35    0.48     0.00     0.00    0.00    1.00     1.00 ▇▁▁▁▅\n",
       "\n",
       "  inpatient_yn_ever                       0            1.00    0.10    0.30     0.00     0.00    0.00    0.00     1.00 ▇▁▁▁▁\n",
       "\n",
       "  oq45_scored                            35            0.96   55.33   25.33     0.00    37.00   54.00   71.00   140.00 ▃▇▆▂▁\n",
       "\n",
       "  relationsatisf_scored                  35            0.96   21.64    6.40     0.00    18.00   22.00   26.00    36.00 ▁▂▆▇▃\n",
       "\n",
       "  abuse_scored                          680            0.27    4.40    7.35     0.00     1.00    2.00    6.00    72.00 ▇▁▁▁▁\n",
       "\n",
       "  treatmentskills_scored                479            0.48    3.11    0.51     1.00     2.83    3.13    3.47     4.00 ▁▁▃▇▅\n",
       "\n",
       "  peersupport_scored                     39            0.96    2.92    1.17     1.00     2.00    2.80    3.80     5.00 ▆▇▇▅▅\n",
       "\n",
       "  socrates_scored                       493            0.47   32.36    7.06    10.00    28.00   33.00   39.00    40.00 ▁▁▃▅▇\n",
       "\n",
       "  socrates_recognition_scored           493            0.47   25.84    6.70     7.00    22.00   26.00   31.00    35.00 ▁▂▆▇▇\n",
       "\n",
       "  socrates_ambivalence_scored           493            0.47   13.48    4.25     4.00    11.00   14.00   17.00    20.00 ▂▃▅▇▆\n",
       "\n",
       "  race_white_only                         3            1.00    0.76    0.43     0.00     1.00    1.00    1.00     1.00 ▂▁▁▁▇\n",
       "\n",
       "  edu_c                                   3            1.00    0.01    1.08    -3.27    -0.27   -0.27    0.73     1.73 ▁▅▇▅▃\n",
       "\n",
       "  hdd_0                                 464            0.50    0.00   36.11   -49.00   -32.70   -6.90   39.70    51.00 ▇▆▃▃▇\n",
       "\n",
       "  pda_0                                 464            0.50    0.00   33.84   -37.48   -35.81   -4.18   30.32    62.52 ▇▂▂▃▂\n",
       "\n",
       "  oq45_0                                  3            1.00    0.00   24.41   -55.71   -18.71   -1.71   15.29    73.29 ▂▇▇▃▁\n",
       "\n",
       "  relationsatisf_0                        3            1.00    0.00    5.01   -18.52    -2.52    0.48    3.48    12.48 ▁▂▇▇▂\n",
       "\n",
       "  abuse_0                               538            0.42    0.00    4.55    -4.45    -3.45   -1.45    2.30    19.55 ▇▃▁▁▁\n",
       "  ----------------------------------------------------------------------------------------------------------------------------\n"
      ]
     }
    }
   ],
   "source": [
    "data |> \n",
    "  select(age, edu, days_app_use:abuse_0, -gender_original, -age_c, \n",
    "         -relationship_status, - relationship_status_open) |> \n",
    "  skimr::skim()\n"
   ],
   "id": "3d5cb566-3044-43e1-b5be-ebb72f3d3591"
  },
  {
   "cell_type": "markdown",
   "metadata": {},
   "source": [
    "Bivariate correlations for Patient\n",
    "\n",
    "*KW: simplify?*"
   ],
   "id": "d8221a9a-0034-4bcf-8d09-c2c084992025"
  },
  {
   "cell_type": "code",
   "execution_count": null,
   "metadata": {},
   "outputs": [
    {
     "output_type": "stream",
     "name": "stdout",
     "text": [
      "                              age   edu days_app_use per_days_abstinent\n",
      "age                          1.00  0.04         0.21              -0.16\n",
      "edu                          0.04  1.00        -0.01               0.00\n",
      "days_app_use                 0.21 -0.01         1.00               0.02\n",
      "per_days_abstinent          -0.16  0.00         0.02               1.00\n",
      "per_heavy_drink_days         0.03 -0.13        -0.14              -0.75\n",
      "meetings_yn                 -0.17 -0.07        -0.03               0.21\n",
      "outpatient_yn_ever          -0.25 -0.05        -0.19               0.18\n",
      "other_psych_treatment_yn    -0.04  0.03         0.04               0.09\n",
      "er_yn_ever                  -0.01 -0.22        -0.01               0.06\n",
      "mat_yn                      -0.10 -0.02        -0.05               0.02\n",
      "other_medications_yn         0.08  0.21        -0.13               0.00\n",
      "inpatient_yn_ever           -0.18 -0.03        -0.19               0.15\n",
      "oq45_scored                 -0.13 -0.15        -0.13              -0.28\n",
      "relationsatisf_scored       -0.12  0.09         0.09               0.12\n",
      "abuse_scored                 0.10  0.05        -0.14              -0.03\n",
      "peersupport_scored          -0.12 -0.03        -0.09               0.34\n",
      "socrates_scored             -0.09 -0.05         0.08               0.50\n",
      "socrates_recognition_scored -0.01 -0.12         0.04              -0.14\n",
      "socrates_ambivalence_scored  0.11 -0.05         0.18              -0.38\n",
      "race_white_only              0.21  0.16         0.07               0.14\n",
      "edu_c                        0.04  1.00        -0.01               0.00\n",
      "hdd_0                       -0.03 -0.29        -0.23              -0.41\n",
      "pda_0                       -0.14  0.09         0.09               0.58\n",
      "oq45_0                      -0.29 -0.19        -0.18              -0.09\n",
      "relationsatisf_0            -0.13 -0.06         0.05               0.11\n",
      "abuse_0                     -0.15 -0.16        -0.14               0.11\n",
      "                            per_heavy_drink_days meetings_yn outpatient_yn_ever\n",
      "age                                         0.03       -0.17              -0.25\n",
      "edu                                        -0.13       -0.07              -0.05\n",
      "days_app_use                               -0.14       -0.03              -0.19\n",
      "per_days_abstinent                         -0.75        0.21               0.18\n",
      "per_heavy_drink_days                        1.00       -0.12              -0.10\n",
      "meetings_yn                                -0.12        1.00               0.39\n",
      "outpatient_yn_ever                         -0.10        0.39               1.00\n",
      "other_psych_treatment_yn                   -0.07        0.23               0.34\n",
      "er_yn_ever                                 -0.08        0.09               0.23\n",
      "mat_yn                                      0.01        0.19               0.30\n",
      "other_medications_yn                       -0.02        0.07               0.15\n",
      "inpatient_yn_ever                          -0.08        0.26               0.49\n",
      "oq45_scored                                 0.30        0.14               0.09\n",
      "relationsatisf_scored                      -0.12       -0.05               0.01\n",
      "abuse_scored                               -0.04        0.16               0.09\n",
      "peersupport_scored                         -0.23        0.34               0.15\n",
      "socrates_scored                            -0.43        0.24               0.16\n",
      "socrates_recognition_scored                 0.27        0.22               0.05\n",
      "socrates_ambivalence_scored                 0.33       -0.07              -0.15\n",
      "race_white_only                            -0.06       -0.06              -0.15\n",
      "edu_c                                      -0.13       -0.07              -0.05\n",
      "hdd_0                                       0.51        0.02               0.06\n",
      "pda_0                                      -0.42        0.15               0.05\n",
      "oq45_0                                      0.12        0.24               0.12\n",
      "relationsatisf_0                           -0.07       -0.02               0.12\n",
      "abuse_0                                    -0.13        0.25               0.18\n",
      "                            other_psych_treatment_yn er_yn_ever mat_yn\n",
      "age                                            -0.04      -0.01  -0.10\n",
      "edu                                             0.03      -0.22  -0.02\n",
      "days_app_use                                    0.04      -0.01  -0.05\n",
      "per_days_abstinent                              0.09       0.06   0.02\n",
      "per_heavy_drink_days                           -0.07      -0.08   0.01\n",
      "meetings_yn                                     0.23       0.09   0.19\n",
      "outpatient_yn_ever                              0.34       0.23   0.30\n",
      "other_psych_treatment_yn                        1.00       0.10   0.15\n",
      "er_yn_ever                                      0.10       1.00   0.23\n",
      "mat_yn                                          0.15       0.23   1.00\n",
      "other_medications_yn                            0.32      -0.03   0.22\n",
      "inpatient_yn_ever                               0.09       0.30   0.35\n",
      "oq45_scored                                     0.13       0.21   0.21\n",
      "relationsatisf_scored                          -0.04      -0.07   0.00\n",
      "abuse_scored                                   -0.01       0.18   0.00\n",
      "peersupport_scored                              0.17       0.02   0.04\n",
      "socrates_scored                                 0.12       0.08   0.06\n",
      "socrates_recognition_scored                    -0.04       0.09   0.11\n",
      "socrates_ambivalence_scored                    -0.20      -0.02   0.02\n",
      "race_white_only                                 0.00      -0.22   0.02\n",
      "edu_c                                           0.03      -0.22  -0.02\n",
      "hdd_0                                          -0.07       0.11   0.01\n",
      "pda_0                                           0.06      -0.06   0.07\n",
      "oq45_0                                          0.10       0.29   0.16\n",
      "relationsatisf_0                               -0.02      -0.02   0.01\n",
      "abuse_0                                         0.03      -0.01  -0.04\n",
      "                            other_medications_yn inpatient_yn_ever oq45_scored\n",
      "age                                         0.08             -0.18       -0.13\n",
      "edu                                         0.21             -0.03       -0.15\n",
      "days_app_use                               -0.13             -0.19       -0.13\n",
      "per_days_abstinent                          0.00              0.15       -0.28\n",
      "per_heavy_drink_days                       -0.02             -0.08        0.30\n",
      "meetings_yn                                 0.07              0.26        0.14\n",
      "outpatient_yn_ever                          0.15              0.49        0.09\n",
      "other_psych_treatment_yn                    0.32              0.09        0.13\n",
      "er_yn_ever                                 -0.03              0.30        0.21\n",
      "mat_yn                                      0.22              0.35        0.21\n",
      "other_medications_yn                        1.00              0.08        0.09\n",
      "inpatient_yn_ever                           0.08              1.00        0.18\n",
      "oq45_scored                                 0.09              0.18        1.00\n",
      "relationsatisf_scored                       0.08             -0.04       -0.37\n",
      "abuse_scored                               -0.08              0.02       -0.06\n",
      "peersupport_scored                          0.13              0.14       -0.13\n",
      "socrates_scored                             0.02              0.13       -0.28\n",
      "socrates_recognition_scored                 0.05              0.09        0.24\n",
      "socrates_ambivalence_scored                -0.05             -0.16        0.17\n",
      "race_white_only                             0.16             -0.06       -0.10\n",
      "edu_c                                       0.21             -0.03       -0.15\n",
      "hdd_0                                      -0.04              0.08        0.27\n",
      "pda_0                                       0.06              0.03       -0.20\n",
      "oq45_0                                     -0.09              0.20        0.62\n",
      "relationsatisf_0                            0.11              0.03       -0.21\n",
      "abuse_0                                    -0.20             -0.13       -0.07\n",
      "                            relationsatisf_scored abuse_scored\n",
      "age                                         -0.12         0.10\n",
      "edu                                          0.09         0.05\n",
      "days_app_use                                 0.09        -0.14\n",
      "per_days_abstinent                           0.12        -0.03\n",
      "per_heavy_drink_days                        -0.12        -0.04\n",
      "meetings_yn                                 -0.05         0.16\n",
      "outpatient_yn_ever                           0.01         0.09\n",
      "other_psych_treatment_yn                    -0.04        -0.01\n",
      "er_yn_ever                                  -0.07         0.18\n",
      "mat_yn                                       0.00         0.00\n",
      "other_medications_yn                         0.08        -0.08\n",
      "inpatient_yn_ever                           -0.04         0.02\n",
      "oq45_scored                                 -0.37        -0.06\n",
      "relationsatisf_scored                        1.00        -0.16\n",
      "abuse_scored                                -0.16         1.00\n",
      "peersupport_scored                           0.08         0.01\n",
      "socrates_scored                              0.23         0.06\n",
      "socrates_recognition_scored                 -0.10         0.05\n",
      "socrates_ambivalence_scored                 -0.02         0.22\n",
      "race_white_only                             -0.04        -0.21\n",
      "edu_c                                        0.09         0.05\n",
      "hdd_0                                       -0.14        -0.03\n",
      "pda_0                                        0.07         0.03\n",
      "oq45_0                                      -0.23         0.18\n",
      "relationsatisf_0                             0.57        -0.18\n",
      "abuse_0                                     -0.28         0.33\n",
      "                            peersupport_scored socrates_scored\n",
      "age                                      -0.12           -0.09\n",
      "edu                                      -0.03           -0.05\n",
      "days_app_use                             -0.09            0.08\n",
      "per_days_abstinent                        0.34            0.50\n",
      "per_heavy_drink_days                     -0.23           -0.43\n",
      "meetings_yn                               0.34            0.24\n",
      "outpatient_yn_ever                        0.15            0.16\n",
      "other_psych_treatment_yn                  0.17            0.12\n",
      "er_yn_ever                                0.02            0.08\n",
      "mat_yn                                    0.04            0.06\n",
      "other_medications_yn                      0.13            0.02\n",
      "inpatient_yn_ever                         0.14            0.13\n",
      "oq45_scored                              -0.13           -0.28\n",
      "relationsatisf_scored                     0.08            0.23\n",
      "abuse_scored                              0.01            0.06\n",
      "peersupport_scored                        1.00            0.39\n",
      "socrates_scored                           0.39            1.00\n",
      "socrates_recognition_scored               0.11            0.04\n",
      "socrates_ambivalence_scored              -0.14           -0.11\n",
      "race_white_only                          -0.02            0.02\n",
      "edu_c                                    -0.03           -0.05\n",
      "hdd_0                                    -0.09           -0.17\n",
      "pda_0                                     0.15            0.21\n",
      "oq45_0                                    0.07           -0.01\n",
      "relationsatisf_0                          0.10            0.17\n",
      "abuse_0                                   0.04            0.08\n",
      "                            socrates_recognition_scored\n",
      "age                                               -0.01\n",
      "edu                                               -0.12\n",
      "days_app_use                                       0.04\n",
      "per_days_abstinent                                -0.14\n",
      "per_heavy_drink_days                               0.27\n",
      "meetings_yn                                        0.22\n",
      "outpatient_yn_ever                                 0.05\n",
      "other_psych_treatment_yn                          -0.04\n",
      "er_yn_ever                                         0.09\n",
      "mat_yn                                             0.11\n",
      "other_medications_yn                               0.05\n",
      "inpatient_yn_ever                                  0.09\n",
      "oq45_scored                                        0.24\n",
      "relationsatisf_scored                             -0.10\n",
      "abuse_scored                                       0.05\n",
      "peersupport_scored                                 0.11\n",
      "socrates_scored                                    0.04\n",
      "socrates_recognition_scored                        1.00\n",
      "socrates_ambivalence_scored                        0.56\n",
      "race_white_only                                   -0.01\n",
      "edu_c                                             -0.12\n",
      "hdd_0                                              0.14\n",
      "pda_0                                              0.01\n",
      "oq45_0                                             0.20\n",
      "relationsatisf_0                                   0.02\n",
      "abuse_0                                           -0.03\n",
      "                            socrates_ambivalence_scored race_white_only edu_c\n",
      "age                                                0.11            0.21  0.04\n",
      "edu                                               -0.05            0.16  1.00\n",
      "days_app_use                                       0.18            0.07 -0.01\n",
      "per_days_abstinent                                -0.38            0.14  0.00\n",
      "per_heavy_drink_days                               0.33           -0.06 -0.13\n",
      "meetings_yn                                       -0.07           -0.06 -0.07\n",
      "outpatient_yn_ever                                -0.15           -0.15 -0.05\n",
      "other_psych_treatment_yn                          -0.20            0.00  0.03\n",
      "er_yn_ever                                        -0.02           -0.22 -0.22\n",
      "mat_yn                                             0.02            0.02 -0.02\n",
      "other_medications_yn                              -0.05            0.16  0.21\n",
      "inpatient_yn_ever                                 -0.16           -0.06 -0.03\n",
      "oq45_scored                                        0.17           -0.10 -0.15\n",
      "relationsatisf_scored                             -0.02           -0.04  0.09\n",
      "abuse_scored                                       0.22           -0.21  0.05\n",
      "peersupport_scored                                -0.14           -0.02 -0.03\n",
      "socrates_scored                                   -0.11            0.02 -0.05\n",
      "socrates_recognition_scored                        0.56           -0.01 -0.12\n",
      "socrates_ambivalence_scored                        1.00           -0.08 -0.05\n",
      "race_white_only                                   -0.08            1.00  0.16\n",
      "edu_c                                             -0.05            0.16  1.00\n",
      "hdd_0                                              0.20           -0.10 -0.29\n",
      "pda_0                                             -0.19            0.09  0.09\n",
      "oq45_0                                             0.10           -0.20 -0.19\n",
      "relationsatisf_0                                   0.00           -0.10 -0.06\n",
      "abuse_0                                            0.04           -0.14 -0.16\n",
      "                            hdd_0 pda_0 oq45_0 relationsatisf_0 abuse_0\n",
      "age                         -0.03 -0.14  -0.29            -0.13   -0.15\n",
      "edu                         -0.29  0.09  -0.19            -0.06   -0.16\n",
      "days_app_use                -0.23  0.09  -0.18             0.05   -0.14\n",
      "per_days_abstinent          -0.41  0.58  -0.09             0.11    0.11\n",
      "per_heavy_drink_days         0.51 -0.42   0.12            -0.07   -0.13\n",
      "meetings_yn                  0.02  0.15   0.24            -0.02    0.25\n",
      "outpatient_yn_ever           0.06  0.05   0.12             0.12    0.18\n",
      "other_psych_treatment_yn    -0.07  0.06   0.10            -0.02    0.03\n",
      "er_yn_ever                   0.11 -0.06   0.29            -0.02   -0.01\n",
      "mat_yn                       0.01  0.07   0.16             0.01   -0.04\n",
      "other_medications_yn        -0.04  0.06  -0.09             0.11   -0.20\n",
      "inpatient_yn_ever            0.08  0.03   0.20             0.03   -0.13\n",
      "oq45_scored                  0.27 -0.20   0.62            -0.21   -0.07\n",
      "relationsatisf_scored       -0.14  0.07  -0.23             0.57   -0.28\n",
      "abuse_scored                -0.03  0.03   0.18            -0.18    0.33\n",
      "peersupport_scored          -0.09  0.15   0.07             0.10    0.04\n",
      "socrates_scored             -0.17  0.21  -0.01             0.17    0.08\n",
      "socrates_recognition_scored  0.14  0.01   0.20             0.02   -0.03\n",
      "socrates_ambivalence_scored  0.20 -0.19   0.10             0.00    0.04\n",
      "race_white_only             -0.10  0.09  -0.20            -0.10   -0.14\n",
      "edu_c                       -0.29  0.09  -0.19            -0.06   -0.16\n",
      "hdd_0                        1.00 -0.75   0.22            -0.06   -0.02\n",
      "pda_0                       -0.75  1.00  -0.13             0.05    0.12\n",
      "oq45_0                       0.22 -0.13   1.00            -0.27    0.22\n",
      "relationsatisf_0            -0.06  0.05  -0.27             1.00   -0.25\n",
      "abuse_0                     -0.02  0.12   0.22            -0.25    1.00"
     ]
    }
   ],
   "source": [
    "data |> \n",
    "  filter(dyad == 2) |> \n",
    "  select(age, edu, days_app_use:abuse_0, -gender_original, -age_c,\n",
    "         -treatmentskills_scored, -relationship_status, \n",
    "         -relationship_status_open) |> \n",
    "  cor(use = \"pairwise.complete.obs\") |> \n",
    "  round(2)\n"
   ],
   "id": "da26a6f3-2909-4950-8998-5b6a8bfe1f10"
  },
  {
   "cell_type": "markdown",
   "metadata": {},
   "source": [
    "### Check Assumptions for Analyses of Study Arm Effects\n",
    "\n",
    "patient primary outcome = `per_heavy_drink_days`  \n",
    "partner primary outcome = `oq45_scored`\n",
    "\n",
    "patient secondary outcome = `per_days_abstinent`  \n",
    "partner secondary outcomes = `relationsatisf_scored` and `abuse_scored`\n",
    "\n",
    "*KW: Cannot run primary and secondary patient models for partners (outcomes don’t exist). We could run primary and secondary partner models for patients, but why would we want to do this?*\n",
    "\n",
    "List of potential covariate variable names: `race_white_only`, `age_c`, `edu_c`, `meetings_yn`, `outpatient_yn_ever`, `er_yn_ever`, `mat_yn`, `inpatient_yn_ever`, `other_psych_treatment_yn`, `other_medications_yn`\n",
    "\n",
    "Set contrasts"
   ],
   "id": "db12d4fd-c85c-46f7-a75f-a66f41f90c83"
  },
  {
   "cell_type": "code",
   "execution_count": null,
   "metadata": {},
   "outputs": [
    {
     "output_type": "stream",
     "name": "stdout",
     "text": [
      "  fam_and_achess_vs_C achess_vs_fam\n",
      "0          -0.6666667           0.0\n",
      "1           0.3333333           0.5\n",
      "2           0.3333333          -0.5"
     ]
    }
   ],
   "source": [
    "col_names <- c(\"fam_and_achess_vs_C\", \"achess_vs_fam\")\n",
    "arm_contrasts <- matrix(c(-2/3, 1/3, 1/3, 0, 1/2, -1/2),\n",
    "                          nrow = 3, ncol = 2,\n",
    "                          dimnames = list(levels(data$arm), col_names))\n",
    "\n",
    "data <- data |> \n",
    "  mutate(arm_c = as.factor(arm))\n",
    "\n",
    "contrasts(data$arm_c) <- arm_contrasts\n",
    "contrasts(data$arm_c)\n"
   ],
   "id": "b6b02cc2-9afd-4914-8bb9-e242f9fc485b"
  },
  {
   "cell_type": "markdown",
   "metadata": {},
   "source": [
    "#### Primary Patient Outcome: `per_heavy_drink_days`\n",
    "\n",
    "##### Check distribution of residuals\n",
    "\n",
    "*KW: seems normal enough?*"
   ],
   "id": "45812318-6ede-46a4-9d9d-08e019b83150"
  },
  {
   "cell_type": "code",
   "execution_count": null,
   "metadata": {},
   "outputs": [
    {
     "output_type": "display_data",
     "metadata": {},
     "data": {
      "image/png": "[encoded data removed]"
     }
    }
   ],
   "source": [
    "model_patient_prim <- lmer(per_heavy_drink_days ~ time_c*arm_c + hdd_0 + \n",
    "                             (1 + time_c | study_id), data = subset(data, dyad == 2))\n",
    "\n",
    "tibble(error = residuals(model_patient_prim)) |> \n",
    "  ggplot(aes(x = error)) +\n",
    "  geom_histogram(color = \"black\", fill = \"light grey\", bins = 30)\n"
   ],
   "id": "14c5cdb5-2c7e-435c-86dc-f93e7f11821d"
  },
  {
   "cell_type": "markdown",
   "metadata": {},
   "source": [
    "##### Look for significant covariates (We will only include covariates that significantly predict the outcome).\n",
    "\n",
    "`race_white_only` - not significant"
   ],
   "id": "ee387676-2300-4a3f-a7fa-aadc61d9cc00"
  },
  {
   "cell_type": "code",
   "execution_count": null,
   "metadata": {},
   "outputs": [
    {
     "output_type": "display_data",
     "metadata": {},
     "data": {
      "text/html": [
       "<table style=\"border-collapse:collapse; border:none;\">\n",
       "<tr>\n",
       "<th style=\"border-top: double; text-align:center; font-style:normal; font-weight:bold; padding:0.2cm;  text-align:left; \">&nbsp;</th>\n",
       "<th colspan=\"3\" style=\"border-top: double; text-align:center; font-style:normal; font-weight:bold; padding:0.2cm; \">Percent of days with<br>heavy drinking</th>\n",
       "</tr>\n",
       "<tr>\n",
       "<td style=\" text-align:center; border-bottom:1px solid; font-style:italic; font-weight:normal;  text-align:left; \">Predictors</td>\n",
       "<td style=\" text-align:center; border-bottom:1px solid; font-style:italic; font-weight:normal;  \">Estimates</td>\n",
       "<td style=\" text-align:center; border-bottom:1px solid; font-style:italic; font-weight:normal;  \">CI</td>\n",
       "<td style=\" text-align:center; border-bottom:1px solid; font-style:italic; font-weight:normal;  \">p</td>\n",
       "</tr>\n",
       "<tr>\n",
       "<td style=\" padding:0.2cm; text-align:left; vertical-align:top; text-align:left; \">race white only</td>\n",
       "<td style=\" padding:0.2cm; text-align:left; vertical-align:top; text-align:center;  \">&#45;0.26</td>\n",
       "<td style=\" padding:0.2cm; text-align:left; vertical-align:top; text-align:center;  \">&#45;8.95&nbsp;&ndash;&nbsp;8.43</td>\n",
       "<td style=\" padding:0.2cm; text-align:left; vertical-align:top; text-align:center;  \">0.953</td>\n",
       "</tr>\n",
       "\n",
       "<tr>\n",
       "<td style=\" padding:0.2cm; text-align:left; vertical-align:top; text-align:left; padding-top:0.1cm; padding-bottom:0.1cm;\">N <sub>study_id</sub></td>\n",
       "<td style=\" padding:0.2cm; text-align:left; vertical-align:top; padding-top:0.1cm; padding-bottom:0.1cm; text-align:left;\" colspan=\"3\">157</td>\n",
       "<tr>\n",
       "<td style=\" padding:0.2cm; text-align:left; vertical-align:top; text-align:left; padding-top:0.1cm; padding-bottom:0.1cm; border-top:1px solid;\">Observations</td>\n",
       "<td style=\" padding:0.2cm; text-align:left; vertical-align:top; padding-top:0.1cm; padding-bottom:0.1cm; text-align:left; border-top:1px solid;\" colspan=\"3\">427</td>\n",
       "</tr>\n",
       "<tr>\n",
       "<td style=\" padding:0.2cm; text-align:left; vertical-align:top; text-align:left; padding-top:0.1cm; padding-bottom:0.1cm;\">Marginal R<sup>2</sup> / Conditional R<sup>2</sup></td>\n",
       "<td style=\" padding:0.2cm; text-align:left; vertical-align:top; padding-top:0.1cm; padding-bottom:0.1cm; text-align:left;\" colspan=\"3\">0.282 / 0.765</td>\n",
       "</tr>\n",
       "\n",
       "</table>\n"
      ]
     }
    }
   ],
   "source": [
    "model_patient_prim_race <- lmer(per_heavy_drink_days ~ time_c*arm_c + hdd_0 + \n",
    "                                  race_white_only + (1 + time_c | study_id), \n",
    "                                data = subset(data, dyad == 2))\n",
    "\n",
    "sjPlot::tab_model(model_patient_prim_race, show.re.var = F, show.icc = F, terms = c(\"race_white_only\"))\n"
   ],
   "id": "6f2b3163-343b-4740-8a03-39198437bc85"
  },
  {
   "cell_type": "markdown",
   "metadata": {},
   "source": [
    "`age_c` - not significant"
   ],
   "id": "56834f4d-78f6-4d41-8472-ae23d06f0157"
  },
  {
   "cell_type": "code",
   "execution_count": null,
   "metadata": {},
   "outputs": [
    {
     "output_type": "display_data",
     "metadata": {},
     "data": {
      "text/html": [
       "<table style=\"border-collapse:collapse; border:none;\">\n",
       "<tr>\n",
       "<th style=\"border-top: double; text-align:center; font-style:normal; font-weight:bold; padding:0.2cm;  text-align:left; \">&nbsp;</th>\n",
       "<th colspan=\"3\" style=\"border-top: double; text-align:center; font-style:normal; font-weight:bold; padding:0.2cm; \">Percent of days with<br>heavy drinking</th>\n",
       "</tr>\n",
       "<tr>\n",
       "<td style=\" text-align:center; border-bottom:1px solid; font-style:italic; font-weight:normal;  text-align:left; \">Predictors</td>\n",
       "<td style=\" text-align:center; border-bottom:1px solid; font-style:italic; font-weight:normal;  \">Estimates</td>\n",
       "<td style=\" text-align:center; border-bottom:1px solid; font-style:italic; font-weight:normal;  \">CI</td>\n",
       "<td style=\" text-align:center; border-bottom:1px solid; font-style:italic; font-weight:normal;  \">p</td>\n",
       "</tr>\n",
       "<tr>\n",
       "<td style=\" padding:0.2cm; text-align:left; vertical-align:top; text-align:left; \">2.What is your age?</td>\n",
       "<td style=\" padding:0.2cm; text-align:left; vertical-align:top; text-align:center;  \">0.12</td>\n",
       "<td style=\" padding:0.2cm; text-align:left; vertical-align:top; text-align:center;  \">&#45;0.18&nbsp;&ndash;&nbsp;0.42</td>\n",
       "<td style=\" padding:0.2cm; text-align:left; vertical-align:top; text-align:center;  \">0.422</td>\n",
       "</tr>\n",
       "\n",
       "<tr>\n",
       "<td style=\" padding:0.2cm; text-align:left; vertical-align:top; text-align:left; padding-top:0.1cm; padding-bottom:0.1cm;\">N <sub>study_id</sub></td>\n",
       "<td style=\" padding:0.2cm; text-align:left; vertical-align:top; padding-top:0.1cm; padding-bottom:0.1cm; text-align:left;\" colspan=\"3\">156</td>\n",
       "<tr>\n",
       "<td style=\" padding:0.2cm; text-align:left; vertical-align:top; text-align:left; padding-top:0.1cm; padding-bottom:0.1cm; border-top:1px solid;\">Observations</td>\n",
       "<td style=\" padding:0.2cm; text-align:left; vertical-align:top; padding-top:0.1cm; padding-bottom:0.1cm; text-align:left; border-top:1px solid;\" colspan=\"3\">424</td>\n",
       "</tr>\n",
       "<tr>\n",
       "<td style=\" padding:0.2cm; text-align:left; vertical-align:top; text-align:left; padding-top:0.1cm; padding-bottom:0.1cm;\">Marginal R<sup>2</sup> / Conditional R<sup>2</sup></td>\n",
       "<td style=\" padding:0.2cm; text-align:left; vertical-align:top; padding-top:0.1cm; padding-bottom:0.1cm; text-align:left;\" colspan=\"3\">0.285 / 0.761</td>\n",
       "</tr>\n",
       "\n",
       "</table>\n"
      ]
     }
    }
   ],
   "source": [
    "model_patient_prim_age <- lmer(per_heavy_drink_days ~ time_c*arm_c + hdd_0 + \n",
    "                                  age_c + (1 + time_c | study_id), \n",
    "                                data = subset(data, dyad == 2))\n",
    "\n",
    "sjPlot::tab_model(model_patient_prim_age, show.re.var = F, show.icc = F, terms = c(\"age_c\"))\n"
   ],
   "id": "f92f3cc9-19b1-4985-a8ec-d921c87aefdf"
  },
  {
   "cell_type": "markdown",
   "metadata": {},
   "source": [
    "`edu_c` - not significant"
   ],
   "id": "5eee3c5c-659a-41c4-b57a-49df3ecf55ad"
  },
  {
   "cell_type": "code",
   "execution_count": null,
   "metadata": {},
   "outputs": [
    {
     "output_type": "display_data",
     "metadata": {},
     "data": {
      "text/html": [
       "<table style=\"border-collapse:collapse; border:none;\">\n",
       "<tr>\n",
       "<th style=\"border-top: double; text-align:center; font-style:normal; font-weight:bold; padding:0.2cm;  text-align:left; \">&nbsp;</th>\n",
       "<th colspan=\"3\" style=\"border-top: double; text-align:center; font-style:normal; font-weight:bold; padding:0.2cm; \">Percent of days with<br>heavy drinking</th>\n",
       "</tr>\n",
       "<tr>\n",
       "<td style=\" text-align:center; border-bottom:1px solid; font-style:italic; font-weight:normal;  text-align:left; \">Predictors</td>\n",
       "<td style=\" text-align:center; border-bottom:1px solid; font-style:italic; font-weight:normal;  \">Estimates</td>\n",
       "<td style=\" text-align:center; border-bottom:1px solid; font-style:italic; font-weight:normal;  \">CI</td>\n",
       "<td style=\" text-align:center; border-bottom:1px solid; font-style:italic; font-weight:normal;  \">p</td>\n",
       "</tr>\n",
       "<tr>\n",
       "<td style=\" padding:0.2cm; text-align:left; vertical-align:top; text-align:left; \">edu c</td>\n",
       "<td style=\" padding:0.2cm; text-align:left; vertical-align:top; text-align:center;  \">&#45;0.46</td>\n",
       "<td style=\" padding:0.2cm; text-align:left; vertical-align:top; text-align:center;  \">&#45;4.08&nbsp;&ndash;&nbsp;3.16</td>\n",
       "<td style=\" padding:0.2cm; text-align:left; vertical-align:top; text-align:center;  \">0.803</td>\n",
       "</tr>\n",
       "\n",
       "<tr>\n",
       "<td style=\" padding:0.2cm; text-align:left; vertical-align:top; text-align:left; padding-top:0.1cm; padding-bottom:0.1cm;\">N <sub>study_id</sub></td>\n",
       "<td style=\" padding:0.2cm; text-align:left; vertical-align:top; padding-top:0.1cm; padding-bottom:0.1cm; text-align:left;\" colspan=\"3\">157</td>\n",
       "<tr>\n",
       "<td style=\" padding:0.2cm; text-align:left; vertical-align:top; text-align:left; padding-top:0.1cm; padding-bottom:0.1cm; border-top:1px solid;\">Observations</td>\n",
       "<td style=\" padding:0.2cm; text-align:left; vertical-align:top; padding-top:0.1cm; padding-bottom:0.1cm; text-align:left; border-top:1px solid;\" colspan=\"3\">427</td>\n",
       "</tr>\n",
       "<tr>\n",
       "<td style=\" padding:0.2cm; text-align:left; vertical-align:top; text-align:left; padding-top:0.1cm; padding-bottom:0.1cm;\">Marginal R<sup>2</sup> / Conditional R<sup>2</sup></td>\n",
       "<td style=\" padding:0.2cm; text-align:left; vertical-align:top; padding-top:0.1cm; padding-bottom:0.1cm; text-align:left;\" colspan=\"3\">0.283 / 0.765</td>\n",
       "</tr>\n",
       "\n",
       "</table>\n"
      ]
     }
    }
   ],
   "source": [
    "model_patient_prim_edu <- lmer(per_heavy_drink_days ~ time_c*arm_c + hdd_0 + \n",
    "                                  edu_c + (1 + time_c | study_id), \n",
    "                                data = subset(data, dyad == 2))\n",
    "\n",
    "sjPlot::tab_model(model_patient_prim_edu, show.re.var = F, show.icc = F, terms = c(\"edu_c\"))\n"
   ],
   "id": "99825472-ca4c-4338-b114-6f32a188298f"
  },
  {
   "cell_type": "markdown",
   "metadata": {},
   "source": [
    "`meetings_yn` - not significant"
   ],
   "id": "950f63cb-658c-4cb5-ac3b-8110c992d5ea"
  },
  {
   "cell_type": "code",
   "execution_count": null,
   "metadata": {},
   "outputs": [
    {
     "output_type": "display_data",
     "metadata": {},
     "data": {
      "text/html": [
       "<table style=\"border-collapse:collapse; border:none;\">\n",
       "<tr>\n",
       "<th style=\"border-top: double; text-align:center; font-style:normal; font-weight:bold; padding:0.2cm;  text-align:left; \">&nbsp;</th>\n",
       "<th colspan=\"3\" style=\"border-top: double; text-align:center; font-style:normal; font-weight:bold; padding:0.2cm; \">Percent of days with<br>heavy drinking</th>\n",
       "</tr>\n",
       "<tr>\n",
       "<td style=\" text-align:center; border-bottom:1px solid; font-style:italic; font-weight:normal;  text-align:left; \">Predictors</td>\n",
       "<td style=\" text-align:center; border-bottom:1px solid; font-style:italic; font-weight:normal;  \">Estimates</td>\n",
       "<td style=\" text-align:center; border-bottom:1px solid; font-style:italic; font-weight:normal;  \">CI</td>\n",
       "<td style=\" text-align:center; border-bottom:1px solid; font-style:italic; font-weight:normal;  \">p</td>\n",
       "</tr>\n",
       "<tr>\n",
       "<td style=\" padding:0.2cm; text-align:left; vertical-align:top; text-align:left; \">meetings yn</td>\n",
       "<td style=\" padding:0.2cm; text-align:left; vertical-align:top; text-align:center;  \">&#45;6.54</td>\n",
       "<td style=\" padding:0.2cm; text-align:left; vertical-align:top; text-align:center;  \">&#45;13.30&nbsp;&ndash;&nbsp;0.22</td>\n",
       "<td style=\" padding:0.2cm; text-align:left; vertical-align:top; text-align:center;  \">0.058</td>\n",
       "</tr>\n",
       "\n",
       "<tr>\n",
       "<td style=\" padding:0.2cm; text-align:left; vertical-align:top; text-align:left; padding-top:0.1cm; padding-bottom:0.1cm;\">N <sub>study_id</sub></td>\n",
       "<td style=\" padding:0.2cm; text-align:left; vertical-align:top; padding-top:0.1cm; padding-bottom:0.1cm; text-align:left;\" colspan=\"3\">158</td>\n",
       "<tr>\n",
       "<td style=\" padding:0.2cm; text-align:left; vertical-align:top; text-align:left; padding-top:0.1cm; padding-bottom:0.1cm; border-top:1px solid;\">Observations</td>\n",
       "<td style=\" padding:0.2cm; text-align:left; vertical-align:top; padding-top:0.1cm; padding-bottom:0.1cm; text-align:left; border-top:1px solid;\" colspan=\"3\">413</td>\n",
       "</tr>\n",
       "<tr>\n",
       "<td style=\" padding:0.2cm; text-align:left; vertical-align:top; text-align:left; padding-top:0.1cm; padding-bottom:0.1cm;\">Marginal R<sup>2</sup> / Conditional R<sup>2</sup></td>\n",
       "<td style=\" padding:0.2cm; text-align:left; vertical-align:top; padding-top:0.1cm; padding-bottom:0.1cm; text-align:left;\" colspan=\"3\">0.267 / 0.749</td>\n",
       "</tr>\n",
       "\n",
       "</table>\n"
      ]
     }
    }
   ],
   "source": [
    "model_patient_prim_meetings <- lmer(per_heavy_drink_days ~ time_c*arm_c + hdd_0 + \n",
    "                                  meetings_yn + (1 + time_c | study_id), \n",
    "                                data = subset(data, dyad == 2))\n",
    "\n",
    "sjPlot::tab_model(model_patient_prim_meetings, show.re.var = F, show.icc = F, terms = c(\"meetings_yn\"))\n"
   ],
   "id": "6c845f06-41ec-437e-8045-a00807ab4d75"
  },
  {
   "cell_type": "markdown",
   "metadata": {},
   "source": [
    "`outpatient_yn_ever` - not significant"
   ],
   "id": "625c1296-add4-43e6-8a42-d8df564928c3"
  },
  {
   "cell_type": "code",
   "execution_count": null,
   "metadata": {},
   "outputs": [
    {
     "output_type": "display_data",
     "metadata": {},
     "data": {
      "text/html": [
       "<table style=\"border-collapse:collapse; border:none;\">\n",
       "<tr>\n",
       "<th style=\"border-top: double; text-align:center; font-style:normal; font-weight:bold; padding:0.2cm;  text-align:left; \">&nbsp;</th>\n",
       "<th colspan=\"3\" style=\"border-top: double; text-align:center; font-style:normal; font-weight:bold; padding:0.2cm; \">Percent of days with<br>heavy drinking</th>\n",
       "</tr>\n",
       "<tr>\n",
       "<td style=\" text-align:center; border-bottom:1px solid; font-style:italic; font-weight:normal;  text-align:left; \">Predictors</td>\n",
       "<td style=\" text-align:center; border-bottom:1px solid; font-style:italic; font-weight:normal;  \">Estimates</td>\n",
       "<td style=\" text-align:center; border-bottom:1px solid; font-style:italic; font-weight:normal;  \">CI</td>\n",
       "<td style=\" text-align:center; border-bottom:1px solid; font-style:italic; font-weight:normal;  \">p</td>\n",
       "</tr>\n",
       "<tr>\n",
       "<td style=\" padding:0.2cm; text-align:left; vertical-align:top; text-align:left; \">Did they have atleast one<br>outpatient treatment for<br>alcohol or drug use<br>within the surveyed<br>peirod?</td>\n",
       "<td style=\" padding:0.2cm; text-align:left; vertical-align:top; text-align:center;  \">&#45;7.44</td>\n",
       "<td style=\" padding:0.2cm; text-align:left; vertical-align:top; text-align:center;  \">&#45;15.72&nbsp;&ndash;&nbsp;0.84</td>\n",
       "<td style=\" padding:0.2cm; text-align:left; vertical-align:top; text-align:center;  \">0.078</td>\n",
       "</tr>\n",
       "\n",
       "<tr>\n",
       "<td style=\" padding:0.2cm; text-align:left; vertical-align:top; text-align:left; padding-top:0.1cm; padding-bottom:0.1cm;\">N <sub>study_id</sub></td>\n",
       "<td style=\" padding:0.2cm; text-align:left; vertical-align:top; padding-top:0.1cm; padding-bottom:0.1cm; text-align:left;\" colspan=\"3\">158</td>\n",
       "<tr>\n",
       "<td style=\" padding:0.2cm; text-align:left; vertical-align:top; text-align:left; padding-top:0.1cm; padding-bottom:0.1cm; border-top:1px solid;\">Observations</td>\n",
       "<td style=\" padding:0.2cm; text-align:left; vertical-align:top; padding-top:0.1cm; padding-bottom:0.1cm; text-align:left; border-top:1px solid;\" colspan=\"3\">430</td>\n",
       "</tr>\n",
       "<tr>\n",
       "<td style=\" padding:0.2cm; text-align:left; vertical-align:top; text-align:left; padding-top:0.1cm; padding-bottom:0.1cm;\">Marginal R<sup>2</sup> / Conditional R<sup>2</sup></td>\n",
       "<td style=\" padding:0.2cm; text-align:left; vertical-align:top; padding-top:0.1cm; padding-bottom:0.1cm; text-align:left;\" colspan=\"3\">0.284 / 0.764</td>\n",
       "</tr>\n",
       "\n",
       "</table>\n"
      ]
     }
    }
   ],
   "source": [
    "model_patient_prim_outpatient <- lmer(per_heavy_drink_days ~ time_c*arm_c + hdd_0 + \n",
    "                                  outpatient_yn_ever + (1 + time_c | study_id), \n",
    "                                data = subset(data, dyad == 2))\n",
    "\n",
    "sjPlot::tab_model(model_patient_prim_outpatient, show.re.var = F, show.icc = F, terms = c(\"outpatient_yn_ever\"))\n"
   ],
   "id": "d69c32cc-bd1b-4db8-b249-625993132b37"
  },
  {
   "cell_type": "markdown",
   "metadata": {},
   "source": [
    "`er_yn_ever` - **significant**"
   ],
   "id": "3d37f54f-e043-46f5-9954-bbfcf92f95b6"
  },
  {
   "cell_type": "code",
   "execution_count": null,
   "metadata": {},
   "outputs": [
    {
     "output_type": "display_data",
     "metadata": {},
     "data": {
      "text/html": [
       "<table style=\"border-collapse:collapse; border:none;\">\n",
       "<tr>\n",
       "<th style=\"border-top: double; text-align:center; font-style:normal; font-weight:bold; padding:0.2cm;  text-align:left; \">&nbsp;</th>\n",
       "<th colspan=\"3\" style=\"border-top: double; text-align:center; font-style:normal; font-weight:bold; padding:0.2cm; \">Percent of days with<br>heavy drinking</th>\n",
       "</tr>\n",
       "<tr>\n",
       "<td style=\" text-align:center; border-bottom:1px solid; font-style:italic; font-weight:normal;  text-align:left; \">Predictors</td>\n",
       "<td style=\" text-align:center; border-bottom:1px solid; font-style:italic; font-weight:normal;  \">Estimates</td>\n",
       "<td style=\" text-align:center; border-bottom:1px solid; font-style:italic; font-weight:normal;  \">CI</td>\n",
       "<td style=\" text-align:center; border-bottom:1px solid; font-style:italic; font-weight:normal;  \">p</td>\n",
       "</tr>\n",
       "<tr>\n",
       "<td style=\" padding:0.2cm; text-align:left; vertical-align:top; text-align:left; \">Did they have atleast one<br>ER visit within the<br>surveyed peirod?</td>\n",
       "<td style=\" padding:0.2cm; text-align:left; vertical-align:top; text-align:center;  \">&#45;10.40</td>\n",
       "<td style=\" padding:0.2cm; text-align:left; vertical-align:top; text-align:center;  \">&#45;18.85&nbsp;&ndash;&nbsp;-1.95</td>\n",
       "<td style=\" padding:0.2cm; text-align:left; vertical-align:top; text-align:center;  \"><strong>0.016</strong></td>\n",
       "</tr>\n",
       "\n",
       "<tr>\n",
       "<td style=\" padding:0.2cm; text-align:left; vertical-align:top; text-align:left; padding-top:0.1cm; padding-bottom:0.1cm;\">N <sub>study_id</sub></td>\n",
       "<td style=\" padding:0.2cm; text-align:left; vertical-align:top; padding-top:0.1cm; padding-bottom:0.1cm; text-align:left;\" colspan=\"3\">158</td>\n",
       "<tr>\n",
       "<td style=\" padding:0.2cm; text-align:left; vertical-align:top; text-align:left; padding-top:0.1cm; padding-bottom:0.1cm; border-top:1px solid;\">Observations</td>\n",
       "<td style=\" padding:0.2cm; text-align:left; vertical-align:top; padding-top:0.1cm; padding-bottom:0.1cm; text-align:left; border-top:1px solid;\" colspan=\"3\">430</td>\n",
       "</tr>\n",
       "<tr>\n",
       "<td style=\" padding:0.2cm; text-align:left; vertical-align:top; text-align:left; padding-top:0.1cm; padding-bottom:0.1cm;\">Marginal R<sup>2</sup> / Conditional R<sup>2</sup></td>\n",
       "<td style=\" padding:0.2cm; text-align:left; vertical-align:top; padding-top:0.1cm; padding-bottom:0.1cm; text-align:left;\" colspan=\"3\">0.284 / 0.761</td>\n",
       "</tr>\n",
       "\n",
       "</table>\n"
      ]
     }
    }
   ],
   "source": [
    "model_patient_prim_er <- lmer(per_heavy_drink_days ~ time_c*arm_c + hdd_0 + \n",
    "                                er_yn_ever + (1 + time_c | study_id), \n",
    "                                data = subset(data, dyad == 2))\n",
    "\n",
    "sjPlot::tab_model(model_patient_prim_er, show.re.var = F, show.icc = F, terms = c(\"er_yn_ever\"))\n"
   ],
   "id": "c6726d53-9ab4-478c-b38a-3ca0cd2aa876"
  },
  {
   "cell_type": "markdown",
   "metadata": {},
   "source": [
    "`mat_yn` - not significant"
   ],
   "id": "f9140ece-7675-44a8-80eb-f74ad1f5f822"
  },
  {
   "cell_type": "code",
   "execution_count": null,
   "metadata": {},
   "outputs": [
    {
     "output_type": "display_data",
     "metadata": {},
     "data": {
      "text/html": [
       "<table style=\"border-collapse:collapse; border:none;\">\n",
       "<tr>\n",
       "<th style=\"border-top: double; text-align:center; font-style:normal; font-weight:bold; padding:0.2cm;  text-align:left; \">&nbsp;</th>\n",
       "<th colspan=\"3\" style=\"border-top: double; text-align:center; font-style:normal; font-weight:bold; padding:0.2cm; \">Percent of days with<br>heavy drinking</th>\n",
       "</tr>\n",
       "<tr>\n",
       "<td style=\" text-align:center; border-bottom:1px solid; font-style:italic; font-weight:normal;  text-align:left; \">Predictors</td>\n",
       "<td style=\" text-align:center; border-bottom:1px solid; font-style:italic; font-weight:normal;  \">Estimates</td>\n",
       "<td style=\" text-align:center; border-bottom:1px solid; font-style:italic; font-weight:normal;  \">CI</td>\n",
       "<td style=\" text-align:center; border-bottom:1px solid; font-style:italic; font-weight:normal;  \">p</td>\n",
       "</tr>\n",
       "<tr>\n",
       "<td style=\" padding:0.2cm; text-align:left; vertical-align:top; text-align:left; \">mat yn</td>\n",
       "<td style=\" padding:0.2cm; text-align:left; vertical-align:top; text-align:center;  \">1.49</td>\n",
       "<td style=\" padding:0.2cm; text-align:left; vertical-align:top; text-align:center;  \">&#45;6.36&nbsp;&ndash;&nbsp;9.34</td>\n",
       "<td style=\" padding:0.2cm; text-align:left; vertical-align:top; text-align:center;  \">0.709</td>\n",
       "</tr>\n",
       "\n",
       "<tr>\n",
       "<td style=\" padding:0.2cm; text-align:left; vertical-align:top; text-align:left; padding-top:0.1cm; padding-bottom:0.1cm;\">N <sub>study_id</sub></td>\n",
       "<td style=\" padding:0.2cm; text-align:left; vertical-align:top; padding-top:0.1cm; padding-bottom:0.1cm; text-align:left;\" colspan=\"3\">158</td>\n",
       "<tr>\n",
       "<td style=\" padding:0.2cm; text-align:left; vertical-align:top; text-align:left; padding-top:0.1cm; padding-bottom:0.1cm; border-top:1px solid;\">Observations</td>\n",
       "<td style=\" padding:0.2cm; text-align:left; vertical-align:top; padding-top:0.1cm; padding-bottom:0.1cm; text-align:left; border-top:1px solid;\" colspan=\"3\">410</td>\n",
       "</tr>\n",
       "<tr>\n",
       "<td style=\" padding:0.2cm; text-align:left; vertical-align:top; text-align:left; padding-top:0.1cm; padding-bottom:0.1cm;\">Marginal R<sup>2</sup> / Conditional R<sup>2</sup></td>\n",
       "<td style=\" padding:0.2cm; text-align:left; vertical-align:top; padding-top:0.1cm; padding-bottom:0.1cm; text-align:left;\" colspan=\"3\">0.259 / 0.751</td>\n",
       "</tr>\n",
       "\n",
       "</table>\n"
      ]
     }
    }
   ],
   "source": [
    "model_patient_prim_mat <- lmer(per_heavy_drink_days ~ time_c*arm_c + hdd_0 + \n",
    "                                mat_yn + (1 + time_c | study_id), \n",
    "                                data = subset(data, dyad == 2))\n",
    "\n",
    "sjPlot::tab_model(model_patient_prim_mat, show.re.var = F, show.icc = F, terms = c(\"mat_yn\"))\n"
   ],
   "id": "6ad6f44f-a89e-4b1d-8e2b-c01f10f4060e"
  },
  {
   "cell_type": "markdown",
   "metadata": {},
   "source": [
    "`inpatient_yn_ever` - **significant**"
   ],
   "id": "3014fe37-c58d-4724-b267-fe62cbc52160"
  },
  {
   "cell_type": "code",
   "execution_count": null,
   "metadata": {},
   "outputs": [
    {
     "output_type": "display_data",
     "metadata": {},
     "data": {
      "text/html": [
       "<table style=\"border-collapse:collapse; border:none;\">\n",
       "<tr>\n",
       "<th style=\"border-top: double; text-align:center; font-style:normal; font-weight:bold; padding:0.2cm;  text-align:left; \">&nbsp;</th>\n",
       "<th colspan=\"3\" style=\"border-top: double; text-align:center; font-style:normal; font-weight:bold; padding:0.2cm; \">Percent of days with<br>heavy drinking</th>\n",
       "</tr>\n",
       "<tr>\n",
       "<td style=\" text-align:center; border-bottom:1px solid; font-style:italic; font-weight:normal;  text-align:left; \">Predictors</td>\n",
       "<td style=\" text-align:center; border-bottom:1px solid; font-style:italic; font-weight:normal;  \">Estimates</td>\n",
       "<td style=\" text-align:center; border-bottom:1px solid; font-style:italic; font-weight:normal;  \">CI</td>\n",
       "<td style=\" text-align:center; border-bottom:1px solid; font-style:italic; font-weight:normal;  \">p</td>\n",
       "</tr>\n",
       "<tr>\n",
       "<td style=\" padding:0.2cm; text-align:left; vertical-align:top; text-align:left; \">Did they have atleast one<br>inpatient treatment for<br>alcohol or drug use<br>within the surveyed<br>peirod?</td>\n",
       "<td style=\" padding:0.2cm; text-align:left; vertical-align:top; text-align:center;  \">&#45;10.03</td>\n",
       "<td style=\" padding:0.2cm; text-align:left; vertical-align:top; text-align:center;  \">&#45;19.83&nbsp;&ndash;&nbsp;-0.24</td>\n",
       "<td style=\" padding:0.2cm; text-align:left; vertical-align:top; text-align:center;  \"><strong>0.045</strong></td>\n",
       "</tr>\n",
       "\n",
       "<tr>\n",
       "<td style=\" padding:0.2cm; text-align:left; vertical-align:top; text-align:left; padding-top:0.1cm; padding-bottom:0.1cm;\">N <sub>study_id</sub></td>\n",
       "<td style=\" padding:0.2cm; text-align:left; vertical-align:top; padding-top:0.1cm; padding-bottom:0.1cm; text-align:left;\" colspan=\"3\">158</td>\n",
       "<tr>\n",
       "<td style=\" padding:0.2cm; text-align:left; vertical-align:top; text-align:left; padding-top:0.1cm; padding-bottom:0.1cm; border-top:1px solid;\">Observations</td>\n",
       "<td style=\" padding:0.2cm; text-align:left; vertical-align:top; padding-top:0.1cm; padding-bottom:0.1cm; text-align:left; border-top:1px solid;\" colspan=\"3\">430</td>\n",
       "</tr>\n",
       "<tr>\n",
       "<td style=\" padding:0.2cm; text-align:left; vertical-align:top; text-align:left; padding-top:0.1cm; padding-bottom:0.1cm;\">Marginal R<sup>2</sup> / Conditional R<sup>2</sup></td>\n",
       "<td style=\" padding:0.2cm; text-align:left; vertical-align:top; padding-top:0.1cm; padding-bottom:0.1cm; text-align:left;\" colspan=\"3\">0.282 / 0.764</td>\n",
       "</tr>\n",
       "\n",
       "</table>\n"
      ]
     }
    }
   ],
   "source": [
    "model_patient_prim_inpatient <- lmer(per_heavy_drink_days ~ time_c*arm_c + hdd_0 + \n",
    "                                inpatient_yn_ever + (1 + time_c | study_id), \n",
    "                                data = subset(data, dyad == 2))\n",
    "\n",
    "sjPlot::tab_model(model_patient_prim_inpatient, show.re.var = F, show.icc = F, terms = c(\"inpatient_yn_ever\"))\n"
   ],
   "id": "14d2904c-ae1d-44b0-b21f-90ad6cc22c78"
  },
  {
   "cell_type": "markdown",
   "metadata": {},
   "source": [
    "`other_psych_treatment_yn` - not significant"
   ],
   "id": "4fd6ac49-c56d-4051-b0f4-b5837cb1dd6f"
  },
  {
   "cell_type": "code",
   "execution_count": null,
   "metadata": {},
   "outputs": [
    {
     "output_type": "display_data",
     "metadata": {},
     "data": {
      "text/html": [
       "<table style=\"border-collapse:collapse; border:none;\">\n",
       "<tr>\n",
       "<th style=\"border-top: double; text-align:center; font-style:normal; font-weight:bold; padding:0.2cm;  text-align:left; \">&nbsp;</th>\n",
       "<th colspan=\"3\" style=\"border-top: double; text-align:center; font-style:normal; font-weight:bold; padding:0.2cm; \">Percent of days with<br>heavy drinking</th>\n",
       "</tr>\n",
       "<tr>\n",
       "<td style=\" text-align:center; border-bottom:1px solid; font-style:italic; font-weight:normal;  text-align:left; \">Predictors</td>\n",
       "<td style=\" text-align:center; border-bottom:1px solid; font-style:italic; font-weight:normal;  \">Estimates</td>\n",
       "<td style=\" text-align:center; border-bottom:1px solid; font-style:italic; font-weight:normal;  \">CI</td>\n",
       "<td style=\" text-align:center; border-bottom:1px solid; font-style:italic; font-weight:normal;  \">p</td>\n",
       "</tr>\n",
       "<tr>\n",
       "<td style=\" padding:0.2cm; text-align:left; vertical-align:top; text-align:left; \">other psych treatment yn</td>\n",
       "<td style=\" padding:0.2cm; text-align:left; vertical-align:top; text-align:center;  \">1.20</td>\n",
       "<td style=\" padding:0.2cm; text-align:left; vertical-align:top; text-align:center;  \">&#45;5.23&nbsp;&ndash;&nbsp;7.63</td>\n",
       "<td style=\" padding:0.2cm; text-align:left; vertical-align:top; text-align:center;  \">0.713</td>\n",
       "</tr>\n",
       "\n",
       "<tr>\n",
       "<td style=\" padding:0.2cm; text-align:left; vertical-align:top; text-align:left; padding-top:0.1cm; padding-bottom:0.1cm;\">N <sub>study_id</sub></td>\n",
       "<td style=\" padding:0.2cm; text-align:left; vertical-align:top; padding-top:0.1cm; padding-bottom:0.1cm; text-align:left;\" colspan=\"3\">158</td>\n",
       "<tr>\n",
       "<td style=\" padding:0.2cm; text-align:left; vertical-align:top; text-align:left; padding-top:0.1cm; padding-bottom:0.1cm; border-top:1px solid;\">Observations</td>\n",
       "<td style=\" padding:0.2cm; text-align:left; vertical-align:top; padding-top:0.1cm; padding-bottom:0.1cm; text-align:left; border-top:1px solid;\" colspan=\"3\">413</td>\n",
       "</tr>\n",
       "<tr>\n",
       "<td style=\" padding:0.2cm; text-align:left; vertical-align:top; text-align:left; padding-top:0.1cm; padding-bottom:0.1cm;\">Marginal R<sup>2</sup> / Conditional R<sup>2</sup></td>\n",
       "<td style=\" padding:0.2cm; text-align:left; vertical-align:top; padding-top:0.1cm; padding-bottom:0.1cm; text-align:left;\" colspan=\"3\">0.259 / 0.753</td>\n",
       "</tr>\n",
       "\n",
       "</table>\n"
      ]
     }
    }
   ],
   "source": [
    "model_patient_prim_psych <- lmer(per_heavy_drink_days ~ time_c*arm_c + hdd_0 + \n",
    "                                other_psych_treatment_yn + (1 + time_c | study_id), \n",
    "                                data = subset(data, dyad == 2))\n",
    "\n",
    "sjPlot::tab_model(model_patient_prim_psych, show.re.var = F, show.icc = F, terms = c(\"other_psych_treatment_yn\"))\n"
   ],
   "id": "026e8c85-f5ef-41e6-acd3-91e67c25e3d6"
  },
  {
   "cell_type": "markdown",
   "metadata": {},
   "source": [
    "`other_medications_yn` - not significant"
   ],
   "id": "456c7069-d593-4b25-96f7-0d86faebde15"
  },
  {
   "cell_type": "code",
   "execution_count": null,
   "metadata": {},
   "outputs": [
    {
     "output_type": "display_data",
     "metadata": {},
     "data": {
      "text/html": [
       "<table style=\"border-collapse:collapse; border:none;\">\n",
       "<tr>\n",
       "<th style=\"border-top: double; text-align:center; font-style:normal; font-weight:bold; padding:0.2cm;  text-align:left; \">&nbsp;</th>\n",
       "<th colspan=\"3\" style=\"border-top: double; text-align:center; font-style:normal; font-weight:bold; padding:0.2cm; \">Percent of days with<br>heavy drinking</th>\n",
       "</tr>\n",
       "<tr>\n",
       "<td style=\" text-align:center; border-bottom:1px solid; font-style:italic; font-weight:normal;  text-align:left; \">Predictors</td>\n",
       "<td style=\" text-align:center; border-bottom:1px solid; font-style:italic; font-weight:normal;  \">Estimates</td>\n",
       "<td style=\" text-align:center; border-bottom:1px solid; font-style:italic; font-weight:normal;  \">CI</td>\n",
       "<td style=\" text-align:center; border-bottom:1px solid; font-style:italic; font-weight:normal;  \">p</td>\n",
       "</tr>\n",
       "<tr>\n",
       "<td style=\" padding:0.2cm; text-align:left; vertical-align:top; text-align:left; \">6.Did you take any<br>medications to help with<br>other psychological or<br>emotional issues?</td>\n",
       "<td style=\" padding:0.2cm; text-align:left; vertical-align:top; text-align:center;  \">&#45;3.36</td>\n",
       "<td style=\" padding:0.2cm; text-align:left; vertical-align:top; text-align:center;  \">&#45;9.56&nbsp;&ndash;&nbsp;2.84</td>\n",
       "<td style=\" padding:0.2cm; text-align:left; vertical-align:top; text-align:center;  \">0.287</td>\n",
       "</tr>\n",
       "\n",
       "<tr>\n",
       "<td style=\" padding:0.2cm; text-align:left; vertical-align:top; text-align:left; padding-top:0.1cm; padding-bottom:0.1cm;\">N <sub>study_id</sub></td>\n",
       "<td style=\" padding:0.2cm; text-align:left; vertical-align:top; padding-top:0.1cm; padding-bottom:0.1cm; text-align:left;\" colspan=\"3\">158</td>\n",
       "<tr>\n",
       "<td style=\" padding:0.2cm; text-align:left; vertical-align:top; text-align:left; padding-top:0.1cm; padding-bottom:0.1cm; border-top:1px solid;\">Observations</td>\n",
       "<td style=\" padding:0.2cm; text-align:left; vertical-align:top; padding-top:0.1cm; padding-bottom:0.1cm; text-align:left; border-top:1px solid;\" colspan=\"3\">409</td>\n",
       "</tr>\n",
       "<tr>\n",
       "<td style=\" padding:0.2cm; text-align:left; vertical-align:top; text-align:left; padding-top:0.1cm; padding-bottom:0.1cm;\">Marginal R<sup>2</sup> / Conditional R<sup>2</sup></td>\n",
       "<td style=\" padding:0.2cm; text-align:left; vertical-align:top; padding-top:0.1cm; padding-bottom:0.1cm; text-align:left;\" colspan=\"3\">0.261 / 0.754</td>\n",
       "</tr>\n",
       "\n",
       "</table>\n"
      ]
     }
    }
   ],
   "source": [
    "model_patient_prim_psych_meds <- lmer(per_heavy_drink_days ~ time_c*arm_c + hdd_0 + \n",
    "                                other_medications_yn + (1 + time_c | study_id), \n",
    "                                data = subset(data, dyad == 2))\n",
    "\n",
    "sjPlot::tab_model(model_patient_prim_psych_meds, show.re.var = F, show.icc = F, terms = c(\"other_medications_yn\"))\n"
   ],
   "id": "3abf630a-678a-47f2-b3ae-c6d953e150e6"
  },
  {
   "cell_type": "markdown",
   "metadata": {},
   "source": [
    "##### Final Model with Significant Covariates"
   ],
   "id": "c29ac444-b53d-4b3e-b4a4-17c15ac104df"
  },
  {
   "cell_type": "code",
   "execution_count": null,
   "metadata": {},
   "outputs": [
    {
     "output_type": "display_data",
     "metadata": {},
     "data": {
      "text/html": [
       "<table style=\"border-collapse:collapse; border:none;\">\n",
       "<tr>\n",
       "<th style=\"border-top: double; text-align:center; font-style:normal; font-weight:bold; padding:0.2cm;  text-align:left; \">&nbsp;</th>\n",
       "<th colspan=\"3\" style=\"border-top: double; text-align:center; font-style:normal; font-weight:bold; padding:0.2cm; \">Percent of days with<br>heavy drinking</th>\n",
       "</tr>\n",
       "<tr>\n",
       "<td style=\" text-align:center; border-bottom:1px solid; font-style:italic; font-weight:normal;  text-align:left; \">Predictors</td>\n",
       "<td style=\" text-align:center; border-bottom:1px solid; font-style:italic; font-weight:normal;  \">Estimates</td>\n",
       "<td style=\" text-align:center; border-bottom:1px solid; font-style:italic; font-weight:normal;  \">CI</td>\n",
       "<td style=\" text-align:center; border-bottom:1px solid; font-style:italic; font-weight:normal;  \">p</td>\n",
       "</tr>\n",
       "<tr>\n",
       "<td style=\" padding:0.2cm; text-align:left; vertical-align:top; text-align:left; \">(Intercept)</td>\n",
       "<td style=\" padding:0.2cm; text-align:left; vertical-align:top; text-align:center;  \">27.91</td>\n",
       "<td style=\" padding:0.2cm; text-align:left; vertical-align:top; text-align:center;  \">23.34&nbsp;&ndash;&nbsp;32.47</td>\n",
       "<td style=\" padding:0.2cm; text-align:left; vertical-align:top; text-align:center;  \"><strong>&lt;0.001</strong></td>\n",
       "</tr>\n",
       "<tr>\n",
       "<td style=\" padding:0.2cm; text-align:left; vertical-align:top; text-align:left; \">time c</td>\n",
       "<td style=\" padding:0.2cm; text-align:left; vertical-align:top; text-align:center;  \">&#45;5.11</td>\n",
       "<td style=\" padding:0.2cm; text-align:left; vertical-align:top; text-align:center;  \">&#45;7.65&nbsp;&ndash;&nbsp;-2.57</td>\n",
       "<td style=\" padding:0.2cm; text-align:left; vertical-align:top; text-align:center;  \"><strong>&lt;0.001</strong></td>\n",
       "</tr>\n",
       "<tr>\n",
       "<td style=\" padding:0.2cm; text-align:left; vertical-align:top; text-align:left; \">arm_cfam_and_achess_vs_C</td>\n",
       "<td style=\" padding:0.2cm; text-align:left; vertical-align:top; text-align:center;  \">&#45;2.50</td>\n",
       "<td style=\" padding:0.2cm; text-align:left; vertical-align:top; text-align:center;  \">&#45;10.47&nbsp;&ndash;&nbsp;5.47</td>\n",
       "<td style=\" padding:0.2cm; text-align:left; vertical-align:top; text-align:center;  \">0.538</td>\n",
       "</tr>\n",
       "<tr>\n",
       "<td style=\" padding:0.2cm; text-align:left; vertical-align:top; text-align:left; \">arm_cachess_vs_fam</td>\n",
       "<td style=\" padding:0.2cm; text-align:left; vertical-align:top; text-align:center;  \">4.81</td>\n",
       "<td style=\" padding:0.2cm; text-align:left; vertical-align:top; text-align:center;  \">&#45;4.42&nbsp;&ndash;&nbsp;14.04</td>\n",
       "<td style=\" padding:0.2cm; text-align:left; vertical-align:top; text-align:center;  \">0.307</td>\n",
       "</tr>\n",
       "<tr>\n",
       "<td style=\" padding:0.2cm; text-align:left; vertical-align:top; text-align:left; \">Percent of days with<br>heavy drinking</td>\n",
       "<td style=\" padding:0.2cm; text-align:left; vertical-align:top; text-align:center;  \">0.47</td>\n",
       "<td style=\" padding:0.2cm; text-align:left; vertical-align:top; text-align:center;  \">0.36&nbsp;&ndash;&nbsp;0.57</td>\n",
       "<td style=\" padding:0.2cm; text-align:left; vertical-align:top; text-align:center;  \"><strong>&lt;0.001</strong></td>\n",
       "</tr>\n",
       "<tr>\n",
       "<td style=\" padding:0.2cm; text-align:left; vertical-align:top; text-align:left; \">Did they have atleast one<br>inpatient treatment for<br>alcohol or drug use<br>within the surveyed<br>peirod?</td>\n",
       "<td style=\" padding:0.2cm; text-align:left; vertical-align:top; text-align:center;  \">&#45;7.22</td>\n",
       "<td style=\" padding:0.2cm; text-align:left; vertical-align:top; text-align:center;  \">&#45;17.39&nbsp;&ndash;&nbsp;2.96</td>\n",
       "<td style=\" padding:0.2cm; text-align:left; vertical-align:top; text-align:center;  \">0.164</td>\n",
       "</tr>\n",
       "<tr>\n",
       "<td style=\" padding:0.2cm; text-align:left; vertical-align:top; text-align:left; \">Did they have atleast one<br>ER visit within the<br>surveyed peirod?</td>\n",
       "<td style=\" padding:0.2cm; text-align:left; vertical-align:top; text-align:center;  \">&#45;8.59</td>\n",
       "<td style=\" padding:0.2cm; text-align:left; vertical-align:top; text-align:center;  \">&#45;17.47&nbsp;&ndash;&nbsp;0.28</td>\n",
       "<td style=\" padding:0.2cm; text-align:left; vertical-align:top; text-align:center;  \">0.058</td>\n",
       "</tr>\n",
       "<tr>\n",
       "<td style=\" padding:0.2cm; text-align:left; vertical-align:top; text-align:left; \">time_c:arm_cfam_and_achess_vs_C</td>\n",
       "<td style=\" padding:0.2cm; text-align:left; vertical-align:top; text-align:center;  \">&#45;6.72</td>\n",
       "<td style=\" padding:0.2cm; text-align:left; vertical-align:top; text-align:center;  \">&#45;12.06&nbsp;&ndash;&nbsp;-1.38</td>\n",
       "<td style=\" padding:0.2cm; text-align:left; vertical-align:top; text-align:center;  \"><strong>0.014</strong></td>\n",
       "</tr>\n",
       "<tr>\n",
       "<td style=\" padding:0.2cm; text-align:left; vertical-align:top; text-align:left; \">time_c:arm_cachess_vs_fam</td>\n",
       "<td style=\" padding:0.2cm; text-align:left; vertical-align:top; text-align:center;  \">2.32</td>\n",
       "<td style=\" padding:0.2cm; text-align:left; vertical-align:top; text-align:center;  \">&#45;3.96&nbsp;&ndash;&nbsp;8.60</td>\n",
       "<td style=\" padding:0.2cm; text-align:left; vertical-align:top; text-align:center;  \">0.469</td>\n",
       "</tr>\n",
       "\n",
       "<tr>\n",
       "<td style=\" padding:0.2cm; text-align:left; vertical-align:top; text-align:left; padding-top:0.1cm; padding-bottom:0.1cm;\">N <sub>study_id</sub></td>\n",
       "<td style=\" padding:0.2cm; text-align:left; vertical-align:top; padding-top:0.1cm; padding-bottom:0.1cm; text-align:left;\" colspan=\"3\">158</td>\n",
       "<tr>\n",
       "<td style=\" padding:0.2cm; text-align:left; vertical-align:top; text-align:left; padding-top:0.1cm; padding-bottom:0.1cm; border-top:1px solid;\">Observations</td>\n",
       "<td style=\" padding:0.2cm; text-align:left; vertical-align:top; padding-top:0.1cm; padding-bottom:0.1cm; text-align:left; border-top:1px solid;\" colspan=\"3\">430</td>\n",
       "</tr>\n",
       "<tr>\n",
       "<td style=\" padding:0.2cm; text-align:left; vertical-align:top; text-align:left; padding-top:0.1cm; padding-bottom:0.1cm;\">Marginal R<sup>2</sup> / Conditional R<sup>2</sup></td>\n",
       "<td style=\" padding:0.2cm; text-align:left; vertical-align:top; padding-top:0.1cm; padding-bottom:0.1cm; text-align:left;\" colspan=\"3\">0.288 / 0.761</td>\n",
       "</tr>\n",
       "\n",
       "</table>\n"
      ]
     }
    }
   ],
   "source": [
    "model_patient_prim <- lmer(per_heavy_drink_days ~ time_c*arm_c + hdd_0 + \n",
    "                             inpatient_yn_ever + er_yn_ever +\n",
    "                             (1 + time_c | study_id), data = subset(data, dyad == 2))\n",
    "\n",
    "sjPlot::tab_model(model_patient_prim, show.re.var = F, show.icc = F)\n"
   ],
   "id": "c011237a-1ae6-465e-9500-0f62fc71367e"
  },
  {
   "cell_type": "markdown",
   "metadata": {},
   "source": [
    "#### Primary Partner Outcome: `oq45_scored`\n",
    "\n",
    "Distribution of residuals  \n",
    "*KW: Looks fine*"
   ],
   "id": "dc652b41-a697-4ca7-a43b-599476732ff8"
  },
  {
   "cell_type": "code",
   "execution_count": null,
   "metadata": {},
   "outputs": [
    {
     "output_type": "display_data",
     "metadata": {},
     "data": {
      "image/png": "[encoded data removed]"
     }
    }
   ],
   "source": [
    "model_partner_prim <- lmer(oq45_scored ~ time_c*arm_c + oq45_0 + \n",
    "                             (1 + time_c | study_id), data = subset(data, dyad == 1))\n",
    "\n",
    "tibble(error = residuals(model_partner_prim)) |> \n",
    "  ggplot(aes(x = error)) +\n",
    "  geom_histogram(color = \"black\", fill = \"light grey\", bins = 30)\n"
   ],
   "id": "171ae59b-0ce3-4403-9644-a0106aff2cc0"
  },
  {
   "cell_type": "markdown",
   "metadata": {},
   "source": [
    "##### Look for significant covariates (We will only include covariates that significantly predict the outcome).\n",
    "\n",
    "`race_white_only` - not significant"
   ],
   "id": "d5c359f1-2012-48d0-85d5-5e87d5acc3d1"
  },
  {
   "cell_type": "code",
   "execution_count": null,
   "metadata": {},
   "outputs": [
    {
     "output_type": "display_data",
     "metadata": {},
     "data": {
      "text/html": [
       "<table style=\"border-collapse:collapse; border:none;\">\n",
       "<tr>\n",
       "<th style=\"border-top: double; text-align:center; font-style:normal; font-weight:bold; padding:0.2cm;  text-align:left; \">&nbsp;</th>\n",
       "<th colspan=\"3\" style=\"border-top: double; text-align:center; font-style:normal; font-weight:bold; padding:0.2cm; \">oq 45 scored</th>\n",
       "</tr>\n",
       "<tr>\n",
       "<td style=\" text-align:center; border-bottom:1px solid; font-style:italic; font-weight:normal;  text-align:left; \">Predictors</td>\n",
       "<td style=\" text-align:center; border-bottom:1px solid; font-style:italic; font-weight:normal;  \">Estimates</td>\n",
       "<td style=\" text-align:center; border-bottom:1px solid; font-style:italic; font-weight:normal;  \">CI</td>\n",
       "<td style=\" text-align:center; border-bottom:1px solid; font-style:italic; font-weight:normal;  \">p</td>\n",
       "</tr>\n",
       "<tr>\n",
       "<td style=\" padding:0.2cm; text-align:left; vertical-align:top; text-align:left; \">race white only</td>\n",
       "<td style=\" padding:0.2cm; text-align:left; vertical-align:top; text-align:center;  \">&#45;1.69</td>\n",
       "<td style=\" padding:0.2cm; text-align:left; vertical-align:top; text-align:center;  \">&#45;6.98&nbsp;&ndash;&nbsp;3.60</td>\n",
       "<td style=\" padding:0.2cm; text-align:left; vertical-align:top; text-align:center;  \">0.531</td>\n",
       "</tr>\n",
       "\n",
       "<tr>\n",
       "<td style=\" padding:0.2cm; text-align:left; vertical-align:top; text-align:left; padding-top:0.1cm; padding-bottom:0.1cm;\">N <sub>study_id</sub></td>\n",
       "<td style=\" padding:0.2cm; text-align:left; vertical-align:top; padding-top:0.1cm; padding-bottom:0.1cm; text-align:left;\" colspan=\"3\">170</td>\n",
       "<tr>\n",
       "<td style=\" padding:0.2cm; text-align:left; vertical-align:top; text-align:left; padding-top:0.1cm; padding-bottom:0.1cm; border-top:1px solid;\">Observations</td>\n",
       "<td style=\" padding:0.2cm; text-align:left; vertical-align:top; padding-top:0.1cm; padding-bottom:0.1cm; text-align:left; border-top:1px solid;\" colspan=\"3\">454</td>\n",
       "</tr>\n",
       "<tr>\n",
       "<td style=\" padding:0.2cm; text-align:left; vertical-align:top; text-align:left; padding-top:0.1cm; padding-bottom:0.1cm;\">Marginal R<sup>2</sup> / Conditional R<sup>2</sup></td>\n",
       "<td style=\" padding:0.2cm; text-align:left; vertical-align:top; padding-top:0.1cm; padding-bottom:0.1cm; text-align:left;\" colspan=\"3\">0.475 / 0.776</td>\n",
       "</tr>\n",
       "\n",
       "</table>\n"
      ]
     }
    }
   ],
   "source": [
    "model_partner_prim_race <- lmer(oq45_scored ~ time_c*arm_c + oq45_0 + race_white_only +\n",
    "                             (1 + time_c | study_id), data = subset(data, dyad == 1))\n",
    "\n",
    "sjPlot::tab_model(model_partner_prim_race, show.re.var = F, show.icc = F, terms = c(\"race_white_only\"))\n"
   ],
   "id": "15b8e6bb-3482-449e-a34b-f61321514b59"
  },
  {
   "cell_type": "markdown",
   "metadata": {},
   "source": [
    "`age_c` - not significant"
   ],
   "id": "f49b9ed5-dbe2-4434-9031-fb30c670824a"
  },
  {
   "cell_type": "code",
   "execution_count": null,
   "metadata": {},
   "outputs": [
    {
     "output_type": "display_data",
     "metadata": {},
     "data": {
      "text/html": [
       "<table style=\"border-collapse:collapse; border:none;\">\n",
       "<tr>\n",
       "<th style=\"border-top: double; text-align:center; font-style:normal; font-weight:bold; padding:0.2cm;  text-align:left; \">&nbsp;</th>\n",
       "<th colspan=\"3\" style=\"border-top: double; text-align:center; font-style:normal; font-weight:bold; padding:0.2cm; \">oq 45 scored</th>\n",
       "</tr>\n",
       "<tr>\n",
       "<td style=\" text-align:center; border-bottom:1px solid; font-style:italic; font-weight:normal;  text-align:left; \">Predictors</td>\n",
       "<td style=\" text-align:center; border-bottom:1px solid; font-style:italic; font-weight:normal;  \">Estimates</td>\n",
       "<td style=\" text-align:center; border-bottom:1px solid; font-style:italic; font-weight:normal;  \">CI</td>\n",
       "<td style=\" text-align:center; border-bottom:1px solid; font-style:italic; font-weight:normal;  \">p</td>\n",
       "</tr>\n",
       "<tr>\n",
       "<td style=\" padding:0.2cm; text-align:left; vertical-align:top; text-align:left; \">2.What is your age?</td>\n",
       "<td style=\" padding:0.2cm; text-align:left; vertical-align:top; text-align:center;  \">0.00</td>\n",
       "<td style=\" padding:0.2cm; text-align:left; vertical-align:top; text-align:center;  \">&#45;0.15&nbsp;&ndash;&nbsp;0.16</td>\n",
       "<td style=\" padding:0.2cm; text-align:left; vertical-align:top; text-align:center;  \">0.969</td>\n",
       "</tr>\n",
       "\n",
       "<tr>\n",
       "<td style=\" padding:0.2cm; text-align:left; vertical-align:top; text-align:left; padding-top:0.1cm; padding-bottom:0.1cm;\">N <sub>study_id</sub></td>\n",
       "<td style=\" padding:0.2cm; text-align:left; vertical-align:top; padding-top:0.1cm; padding-bottom:0.1cm; text-align:left;\" colspan=\"3\">170</td>\n",
       "<tr>\n",
       "<td style=\" padding:0.2cm; text-align:left; vertical-align:top; text-align:left; padding-top:0.1cm; padding-bottom:0.1cm; border-top:1px solid;\">Observations</td>\n",
       "<td style=\" padding:0.2cm; text-align:left; vertical-align:top; padding-top:0.1cm; padding-bottom:0.1cm; text-align:left; border-top:1px solid;\" colspan=\"3\">454</td>\n",
       "</tr>\n",
       "<tr>\n",
       "<td style=\" padding:0.2cm; text-align:left; vertical-align:top; text-align:left; padding-top:0.1cm; padding-bottom:0.1cm;\">Marginal R<sup>2</sup> / Conditional R<sup>2</sup></td>\n",
       "<td style=\" padding:0.2cm; text-align:left; vertical-align:top; padding-top:0.1cm; padding-bottom:0.1cm; text-align:left;\" colspan=\"3\">0.474 / 0.776</td>\n",
       "</tr>\n",
       "\n",
       "</table>\n"
      ]
     }
    }
   ],
   "source": [
    "model_partner_prim_age <- lmer(oq45_scored ~ time_c*arm_c + oq45_0 + age_c +\n",
    "                             (1 + time_c | study_id), \n",
    "                             data = subset(data, dyad == 1))\n",
    "\n",
    "sjPlot::tab_model(model_partner_prim_age, show.re.var = F, show.icc = F, terms = c(\"age_c\"))\n"
   ],
   "id": "7e97269d-c36e-4c68-b8fc-de44ecedc2b1"
  },
  {
   "cell_type": "markdown",
   "metadata": {},
   "source": [
    "`edu_c` - **significant**"
   ],
   "id": "f9675aa5-2eb9-4993-8179-a7b686f77e1a"
  },
  {
   "cell_type": "code",
   "execution_count": null,
   "metadata": {},
   "outputs": [
    {
     "output_type": "display_data",
     "metadata": {},
     "data": {
      "text/html": [
       "<table style=\"border-collapse:collapse; border:none;\">\n",
       "<tr>\n",
       "<th style=\"border-top: double; text-align:center; font-style:normal; font-weight:bold; padding:0.2cm;  text-align:left; \">&nbsp;</th>\n",
       "<th colspan=\"3\" style=\"border-top: double; text-align:center; font-style:normal; font-weight:bold; padding:0.2cm; \">oq 45 scored</th>\n",
       "</tr>\n",
       "<tr>\n",
       "<td style=\" text-align:center; border-bottom:1px solid; font-style:italic; font-weight:normal;  text-align:left; \">Predictors</td>\n",
       "<td style=\" text-align:center; border-bottom:1px solid; font-style:italic; font-weight:normal;  \">Estimates</td>\n",
       "<td style=\" text-align:center; border-bottom:1px solid; font-style:italic; font-weight:normal;  \">CI</td>\n",
       "<td style=\" text-align:center; border-bottom:1px solid; font-style:italic; font-weight:normal;  \">p</td>\n",
       "</tr>\n",
       "<tr>\n",
       "<td style=\" padding:0.2cm; text-align:left; vertical-align:top; text-align:left; \">edu c</td>\n",
       "<td style=\" padding:0.2cm; text-align:left; vertical-align:top; text-align:center;  \">&#45;2.46</td>\n",
       "<td style=\" padding:0.2cm; text-align:left; vertical-align:top; text-align:center;  \">&#45;4.55&nbsp;&ndash;&nbsp;-0.37</td>\n",
       "<td style=\" padding:0.2cm; text-align:left; vertical-align:top; text-align:center;  \"><strong>0.021</strong></td>\n",
       "</tr>\n",
       "\n",
       "<tr>\n",
       "<td style=\" padding:0.2cm; text-align:left; vertical-align:top; text-align:left; padding-top:0.1cm; padding-bottom:0.1cm;\">N <sub>study_id</sub></td>\n",
       "<td style=\" padding:0.2cm; text-align:left; vertical-align:top; padding-top:0.1cm; padding-bottom:0.1cm; text-align:left;\" colspan=\"3\">170</td>\n",
       "<tr>\n",
       "<td style=\" padding:0.2cm; text-align:left; vertical-align:top; text-align:left; padding-top:0.1cm; padding-bottom:0.1cm; border-top:1px solid;\">Observations</td>\n",
       "<td style=\" padding:0.2cm; text-align:left; vertical-align:top; padding-top:0.1cm; padding-bottom:0.1cm; text-align:left; border-top:1px solid;\" colspan=\"3\">454</td>\n",
       "</tr>\n",
       "<tr>\n",
       "<td style=\" padding:0.2cm; text-align:left; vertical-align:top; text-align:left; padding-top:0.1cm; padding-bottom:0.1cm;\">Marginal R<sup>2</sup> / Conditional R<sup>2</sup></td>\n",
       "<td style=\" padding:0.2cm; text-align:left; vertical-align:top; padding-top:0.1cm; padding-bottom:0.1cm; text-align:left;\" colspan=\"3\">0.486 / 0.777</td>\n",
       "</tr>\n",
       "\n",
       "</table>\n"
      ]
     }
    }
   ],
   "source": [
    "model_partner_prim_edu <- lmer(oq45_scored ~ time_c*arm_c + oq45_0 + edu_c +\n",
    "                             (1 + time_c | study_id), \n",
    "                             data = subset(data, dyad == 1))\n",
    "\n",
    "sjPlot::tab_model(model_partner_prim_edu, show.re.var = F, show.icc = F, terms = c(\"edu_c\"))\n"
   ],
   "id": "0eae2403-1284-4ddc-abc8-db7bd14c87b1"
  },
  {
   "cell_type": "markdown",
   "metadata": {},
   "source": [
    "`meetings_yn` - not significant"
   ],
   "id": "23b9fd05-5427-4877-b592-4db7f486abed"
  },
  {
   "cell_type": "code",
   "execution_count": null,
   "metadata": {},
   "outputs": [
    {
     "output_type": "display_data",
     "metadata": {},
     "data": {
      "text/html": [
       "<table style=\"border-collapse:collapse; border:none;\">\n",
       "<tr>\n",
       "<th style=\"border-top: double; text-align:center; font-style:normal; font-weight:bold; padding:0.2cm;  text-align:left; \">&nbsp;</th>\n",
       "<th colspan=\"3\" style=\"border-top: double; text-align:center; font-style:normal; font-weight:bold; padding:0.2cm; \">oq 45 scored</th>\n",
       "</tr>\n",
       "<tr>\n",
       "<td style=\" text-align:center; border-bottom:1px solid; font-style:italic; font-weight:normal;  text-align:left; \">Predictors</td>\n",
       "<td style=\" text-align:center; border-bottom:1px solid; font-style:italic; font-weight:normal;  \">Estimates</td>\n",
       "<td style=\" text-align:center; border-bottom:1px solid; font-style:italic; font-weight:normal;  \">CI</td>\n",
       "<td style=\" text-align:center; border-bottom:1px solid; font-style:italic; font-weight:normal;  \">p</td>\n",
       "</tr>\n",
       "<tr>\n",
       "<td style=\" padding:0.2cm; text-align:left; vertical-align:top; text-align:left; \">meetings yn</td>\n",
       "<td style=\" padding:0.2cm; text-align:left; vertical-align:top; text-align:center;  \">0.21</td>\n",
       "<td style=\" padding:0.2cm; text-align:left; vertical-align:top; text-align:center;  \">&#45;4.81&nbsp;&ndash;&nbsp;5.23</td>\n",
       "<td style=\" padding:0.2cm; text-align:left; vertical-align:top; text-align:center;  \">0.936</td>\n",
       "</tr>\n",
       "\n",
       "<tr>\n",
       "<td style=\" padding:0.2cm; text-align:left; vertical-align:top; text-align:left; padding-top:0.1cm; padding-bottom:0.1cm;\">N <sub>study_id</sub></td>\n",
       "<td style=\" padding:0.2cm; text-align:left; vertical-align:top; padding-top:0.1cm; padding-bottom:0.1cm; text-align:left;\" colspan=\"3\">170</td>\n",
       "<tr>\n",
       "<td style=\" padding:0.2cm; text-align:left; vertical-align:top; text-align:left; padding-top:0.1cm; padding-bottom:0.1cm; border-top:1px solid;\">Observations</td>\n",
       "<td style=\" padding:0.2cm; text-align:left; vertical-align:top; padding-top:0.1cm; padding-bottom:0.1cm; text-align:left; border-top:1px solid;\" colspan=\"3\">454</td>\n",
       "</tr>\n",
       "<tr>\n",
       "<td style=\" padding:0.2cm; text-align:left; vertical-align:top; text-align:left; padding-top:0.1cm; padding-bottom:0.1cm;\">Marginal R<sup>2</sup> / Conditional R<sup>2</sup></td>\n",
       "<td style=\" padding:0.2cm; text-align:left; vertical-align:top; padding-top:0.1cm; padding-bottom:0.1cm; text-align:left;\" colspan=\"3\">0.474 / 0.775</td>\n",
       "</tr>\n",
       "\n",
       "</table>\n"
      ]
     }
    }
   ],
   "source": [
    "model_partner_prim_meetings <- lmer(oq45_scored ~ time_c*arm_c + oq45_0 + meetings_yn +\n",
    "                             (1 + time_c | study_id), \n",
    "                             data = subset(data, dyad == 1))\n",
    "\n",
    "sjPlot::tab_model(model_partner_prim_meetings, show.re.var = F, show.icc = F, terms = c(\"meetings_yn\"))\n"
   ],
   "id": "46e62efb-2050-4c7a-8eda-657eb255d003"
  },
  {
   "cell_type": "markdown",
   "metadata": {},
   "source": [
    "`outpatient_yn_ever` - **significant**"
   ],
   "id": "a81d1f5f-de0e-4cef-b782-203fa6256ff3"
  },
  {
   "cell_type": "code",
   "execution_count": null,
   "metadata": {},
   "outputs": [
    {
     "output_type": "display_data",
     "metadata": {},
     "data": {
      "text/html": [
       "<table style=\"border-collapse:collapse; border:none;\">\n",
       "<tr>\n",
       "<th style=\"border-top: double; text-align:center; font-style:normal; font-weight:bold; padding:0.2cm;  text-align:left; \">&nbsp;</th>\n",
       "<th colspan=\"3\" style=\"border-top: double; text-align:center; font-style:normal; font-weight:bold; padding:0.2cm; \">oq 45 scored</th>\n",
       "</tr>\n",
       "<tr>\n",
       "<td style=\" text-align:center; border-bottom:1px solid; font-style:italic; font-weight:normal;  text-align:left; \">Predictors</td>\n",
       "<td style=\" text-align:center; border-bottom:1px solid; font-style:italic; font-weight:normal;  \">Estimates</td>\n",
       "<td style=\" text-align:center; border-bottom:1px solid; font-style:italic; font-weight:normal;  \">CI</td>\n",
       "<td style=\" text-align:center; border-bottom:1px solid; font-style:italic; font-weight:normal;  \">p</td>\n",
       "</tr>\n",
       "<tr>\n",
       "<td style=\" padding:0.2cm; text-align:left; vertical-align:top; text-align:left; \">Did they have atleast one<br>outpatient treatment for<br>alcohol or drug use<br>within the surveyed<br>peirod?</td>\n",
       "<td style=\" padding:0.2cm; text-align:left; vertical-align:top; text-align:center;  \">9.99</td>\n",
       "<td style=\" padding:0.2cm; text-align:left; vertical-align:top; text-align:center;  \">0.57&nbsp;&ndash;&nbsp;19.41</td>\n",
       "<td style=\" padding:0.2cm; text-align:left; vertical-align:top; text-align:center;  \"><strong>0.038</strong></td>\n",
       "</tr>\n",
       "\n",
       "<tr>\n",
       "<td style=\" padding:0.2cm; text-align:left; vertical-align:top; text-align:left; padding-top:0.1cm; padding-bottom:0.1cm;\">N <sub>study_id</sub></td>\n",
       "<td style=\" padding:0.2cm; text-align:left; vertical-align:top; padding-top:0.1cm; padding-bottom:0.1cm; text-align:left;\" colspan=\"3\">170</td>\n",
       "<tr>\n",
       "<td style=\" padding:0.2cm; text-align:left; vertical-align:top; text-align:left; padding-top:0.1cm; padding-bottom:0.1cm; border-top:1px solid;\">Observations</td>\n",
       "<td style=\" padding:0.2cm; text-align:left; vertical-align:top; padding-top:0.1cm; padding-bottom:0.1cm; text-align:left; border-top:1px solid;\" colspan=\"3\">454</td>\n",
       "</tr>\n",
       "<tr>\n",
       "<td style=\" padding:0.2cm; text-align:left; vertical-align:top; text-align:left; padding-top:0.1cm; padding-bottom:0.1cm;\">Marginal R<sup>2</sup> / Conditional R<sup>2</sup></td>\n",
       "<td style=\" padding:0.2cm; text-align:left; vertical-align:top; padding-top:0.1cm; padding-bottom:0.1cm; text-align:left;\" colspan=\"3\">0.482 / 0.776</td>\n",
       "</tr>\n",
       "\n",
       "</table>\n"
      ]
     }
    }
   ],
   "source": [
    "model_partner_prim_outpatient <- lmer(oq45_scored ~ time_c*arm_c + oq45_0 + \n",
    "                                       outpatient_yn_ever + (1 + time_c | study_id), \n",
    "                                 data = subset(data, dyad == 1))\n",
    "\n",
    "sjPlot::tab_model(model_partner_prim_outpatient, show.re.var = F, show.icc = F, terms = c(\"outpatient_yn_ever\"))\n"
   ],
   "id": "8738284f-7d65-4bef-ae3f-0711715615cc"
  },
  {
   "cell_type": "markdown",
   "metadata": {},
   "source": [
    "`er_yn_ever` - Not significant"
   ],
   "id": "fe49c91d-ba75-4aab-a920-5c1670b06c8a"
  },
  {
   "cell_type": "code",
   "execution_count": null,
   "metadata": {},
   "outputs": [
    {
     "output_type": "display_data",
     "metadata": {},
     "data": {
      "text/html": [
       "<table style=\"border-collapse:collapse; border:none;\">\n",
       "<tr>\n",
       "<th style=\"border-top: double; text-align:center; font-style:normal; font-weight:bold; padding:0.2cm;  text-align:left; \">&nbsp;</th>\n",
       "<th colspan=\"3\" style=\"border-top: double; text-align:center; font-style:normal; font-weight:bold; padding:0.2cm; \">oq 45 scored</th>\n",
       "</tr>\n",
       "<tr>\n",
       "<td style=\" text-align:center; border-bottom:1px solid; font-style:italic; font-weight:normal;  text-align:left; \">Predictors</td>\n",
       "<td style=\" text-align:center; border-bottom:1px solid; font-style:italic; font-weight:normal;  \">Estimates</td>\n",
       "<td style=\" text-align:center; border-bottom:1px solid; font-style:italic; font-weight:normal;  \">CI</td>\n",
       "<td style=\" text-align:center; border-bottom:1px solid; font-style:italic; font-weight:normal;  \">p</td>\n",
       "</tr>\n",
       "<tr>\n",
       "<td style=\" padding:0.2cm; text-align:left; vertical-align:top; text-align:left; \">Did they have atleast one<br>ER visit within the<br>surveyed peirod?</td>\n",
       "<td style=\" padding:0.2cm; text-align:left; vertical-align:top; text-align:center;  \">3.79</td>\n",
       "<td style=\" padding:0.2cm; text-align:left; vertical-align:top; text-align:center;  \">&#45;2.02&nbsp;&ndash;&nbsp;9.61</td>\n",
       "<td style=\" padding:0.2cm; text-align:left; vertical-align:top; text-align:center;  \">0.200</td>\n",
       "</tr>\n",
       "\n",
       "<tr>\n",
       "<td style=\" padding:0.2cm; text-align:left; vertical-align:top; text-align:left; padding-top:0.1cm; padding-bottom:0.1cm;\">N <sub>study_id</sub></td>\n",
       "<td style=\" padding:0.2cm; text-align:left; vertical-align:top; padding-top:0.1cm; padding-bottom:0.1cm; text-align:left;\" colspan=\"3\">170</td>\n",
       "<tr>\n",
       "<td style=\" padding:0.2cm; text-align:left; vertical-align:top; text-align:left; padding-top:0.1cm; padding-bottom:0.1cm; border-top:1px solid;\">Observations</td>\n",
       "<td style=\" padding:0.2cm; text-align:left; vertical-align:top; padding-top:0.1cm; padding-bottom:0.1cm; text-align:left; border-top:1px solid;\" colspan=\"3\">454</td>\n",
       "</tr>\n",
       "<tr>\n",
       "<td style=\" padding:0.2cm; text-align:left; vertical-align:top; text-align:left; padding-top:0.1cm; padding-bottom:0.1cm;\">Marginal R<sup>2</sup> / Conditional R<sup>2</sup></td>\n",
       "<td style=\" padding:0.2cm; text-align:left; vertical-align:top; padding-top:0.1cm; padding-bottom:0.1cm; text-align:left;\" colspan=\"3\">0.477 / 0.776</td>\n",
       "</tr>\n",
       "\n",
       "</table>\n"
      ]
     }
    }
   ],
   "source": [
    "model_partner_prim_er <- lmer(oq45_scored ~ time_c*arm_c + oq45_0 + \n",
    "                              er_yn_ever + (1 + time_c | study_id), \n",
    "                          data = subset(data, dyad == 1))\n",
    "\n",
    "sjPlot::tab_model(model_partner_prim_er, show.re.var = F, show.icc = F, terms = c(\"er_yn_ever\"))\n"
   ],
   "id": "c1963602-3b2b-40f7-8adc-11d7302c21db"
  },
  {
   "cell_type": "markdown",
   "metadata": {},
   "source": [
    "`mat_yn` - not significant"
   ],
   "id": "e48973b5-ec5d-4910-a697-e43a2e2e6f6e"
  },
  {
   "cell_type": "code",
   "execution_count": null,
   "metadata": {},
   "outputs": [
    {
     "output_type": "display_data",
     "metadata": {},
     "data": {
      "text/html": [
       "<table style=\"border-collapse:collapse; border:none;\">\n",
       "<tr>\n",
       "<th style=\"border-top: double; text-align:center; font-style:normal; font-weight:bold; padding:0.2cm;  text-align:left; \">&nbsp;</th>\n",
       "<th colspan=\"3\" style=\"border-top: double; text-align:center; font-style:normal; font-weight:bold; padding:0.2cm; \">oq 45 scored</th>\n",
       "</tr>\n",
       "<tr>\n",
       "<td style=\" text-align:center; border-bottom:1px solid; font-style:italic; font-weight:normal;  text-align:left; \">Predictors</td>\n",
       "<td style=\" text-align:center; border-bottom:1px solid; font-style:italic; font-weight:normal;  \">Estimates</td>\n",
       "<td style=\" text-align:center; border-bottom:1px solid; font-style:italic; font-weight:normal;  \">CI</td>\n",
       "<td style=\" text-align:center; border-bottom:1px solid; font-style:italic; font-weight:normal;  \">p</td>\n",
       "</tr>\n",
       "<tr>\n",
       "<td style=\" padding:0.2cm; text-align:left; vertical-align:top; text-align:left; \">mat yn</td>\n",
       "<td style=\" padding:0.2cm; text-align:left; vertical-align:top; text-align:center;  \">9.22</td>\n",
       "<td style=\" padding:0.2cm; text-align:left; vertical-align:top; text-align:center;  \">&#45;0.20&nbsp;&ndash;&nbsp;18.63</td>\n",
       "<td style=\" padding:0.2cm; text-align:left; vertical-align:top; text-align:center;  \">0.055</td>\n",
       "</tr>\n",
       "\n",
       "<tr>\n",
       "<td style=\" padding:0.2cm; text-align:left; vertical-align:top; text-align:left; padding-top:0.1cm; padding-bottom:0.1cm;\">N <sub>study_id</sub></td>\n",
       "<td style=\" padding:0.2cm; text-align:left; vertical-align:top; padding-top:0.1cm; padding-bottom:0.1cm; text-align:left;\" colspan=\"3\">170</td>\n",
       "<tr>\n",
       "<td style=\" padding:0.2cm; text-align:left; vertical-align:top; text-align:left; padding-top:0.1cm; padding-bottom:0.1cm; border-top:1px solid;\">Observations</td>\n",
       "<td style=\" padding:0.2cm; text-align:left; vertical-align:top; padding-top:0.1cm; padding-bottom:0.1cm; text-align:left; border-top:1px solid;\" colspan=\"3\">454</td>\n",
       "</tr>\n",
       "<tr>\n",
       "<td style=\" padding:0.2cm; text-align:left; vertical-align:top; text-align:left; padding-top:0.1cm; padding-bottom:0.1cm;\">Marginal R<sup>2</sup> / Conditional R<sup>2</sup></td>\n",
       "<td style=\" padding:0.2cm; text-align:left; vertical-align:top; padding-top:0.1cm; padding-bottom:0.1cm; text-align:left;\" colspan=\"3\">0.479 / 0.778</td>\n",
       "</tr>\n",
       "\n",
       "</table>\n"
      ]
     }
    }
   ],
   "source": [
    "model_partner_prim_mat <- lmer(oq45_scored ~ time_c*arm_c + oq45_0 + \n",
    "                              mat_yn + (1 + time_c | study_id), \n",
    "                          data = subset(data, dyad == 1))\n",
    "\n",
    "sjPlot::tab_model(model_partner_prim_mat, show.re.var = F, show.icc = F, terms = c(\"mat_yn\"))\n"
   ],
   "id": "2ea125a7-2ef5-43cd-8b27-66f342e8582f"
  },
  {
   "cell_type": "markdown",
   "metadata": {},
   "source": [
    "`inpatient_yn_ever` - not significant"
   ],
   "id": "d4727c5f-82ae-4a12-b7ae-08ba6fcfec17"
  },
  {
   "cell_type": "code",
   "execution_count": null,
   "metadata": {},
   "outputs": [
    {
     "output_type": "display_data",
     "metadata": {},
     "data": {
      "text/html": [
       "<table style=\"border-collapse:collapse; border:none;\">\n",
       "<tr>\n",
       "<th style=\"border-top: double; text-align:center; font-style:normal; font-weight:bold; padding:0.2cm;  text-align:left; \">&nbsp;</th>\n",
       "<th colspan=\"3\" style=\"border-top: double; text-align:center; font-style:normal; font-weight:bold; padding:0.2cm; \">oq 45 scored</th>\n",
       "</tr>\n",
       "<tr>\n",
       "<td style=\" text-align:center; border-bottom:1px solid; font-style:italic; font-weight:normal;  text-align:left; \">Predictors</td>\n",
       "<td style=\" text-align:center; border-bottom:1px solid; font-style:italic; font-weight:normal;  \">Estimates</td>\n",
       "<td style=\" text-align:center; border-bottom:1px solid; font-style:italic; font-weight:normal;  \">CI</td>\n",
       "<td style=\" text-align:center; border-bottom:1px solid; font-style:italic; font-weight:normal;  \">p</td>\n",
       "</tr>\n",
       "<tr>\n",
       "<td style=\" padding:0.2cm; text-align:left; vertical-align:top; text-align:left; \">Did they have atleast one<br>inpatient treatment for<br>alcohol or drug use<br>within the surveyed<br>peirod?</td>\n",
       "<td style=\" padding:0.2cm; text-align:left; vertical-align:top; text-align:center;  \">11.49</td>\n",
       "<td style=\" padding:0.2cm; text-align:left; vertical-align:top; text-align:center;  \">&#45;3.59&nbsp;&ndash;&nbsp;26.57</td>\n",
       "<td style=\" padding:0.2cm; text-align:left; vertical-align:top; text-align:center;  \">0.135</td>\n",
       "</tr>\n",
       "\n",
       "<tr>\n",
       "<td style=\" padding:0.2cm; text-align:left; vertical-align:top; text-align:left; padding-top:0.1cm; padding-bottom:0.1cm;\">N <sub>study_id</sub></td>\n",
       "<td style=\" padding:0.2cm; text-align:left; vertical-align:top; padding-top:0.1cm; padding-bottom:0.1cm; text-align:left;\" colspan=\"3\">170</td>\n",
       "<tr>\n",
       "<td style=\" padding:0.2cm; text-align:left; vertical-align:top; text-align:left; padding-top:0.1cm; padding-bottom:0.1cm; border-top:1px solid;\">Observations</td>\n",
       "<td style=\" padding:0.2cm; text-align:left; vertical-align:top; padding-top:0.1cm; padding-bottom:0.1cm; text-align:left; border-top:1px solid;\" colspan=\"3\">454</td>\n",
       "</tr>\n",
       "<tr>\n",
       "<td style=\" padding:0.2cm; text-align:left; vertical-align:top; text-align:left; padding-top:0.1cm; padding-bottom:0.1cm;\">Marginal R<sup>2</sup> / Conditional R<sup>2</sup></td>\n",
       "<td style=\" padding:0.2cm; text-align:left; vertical-align:top; padding-top:0.1cm; padding-bottom:0.1cm; text-align:left;\" colspan=\"3\">0.478 / 0.776</td>\n",
       "</tr>\n",
       "\n",
       "</table>\n"
      ]
     }
    }
   ],
   "source": [
    "model_partner_prim_inpatient <- lmer(oq45_scored ~ time_c*arm_c + oq45_0 + \n",
    "                              inpatient_yn_ever + (1 + time_c | study_id), \n",
    "                          data = subset(data, dyad == 1))\n",
    "\n",
    "sjPlot::tab_model(model_partner_prim_inpatient, show.re.var = F, show.icc = F, terms = c(\"inpatient_yn_ever\"))\n"
   ],
   "id": "42a170fa-6e1b-4044-83b3-8c3d614da3da"
  },
  {
   "cell_type": "markdown",
   "metadata": {},
   "source": [
    "`other_psych_treatment_yn` - **significant**"
   ],
   "id": "b6f1f2bc-5ddf-41fe-a4b4-72e9abcc56fa"
  },
  {
   "cell_type": "code",
   "execution_count": null,
   "metadata": {},
   "outputs": [
    {
     "output_type": "display_data",
     "metadata": {},
     "data": {
      "text/html": [
       "<table style=\"border-collapse:collapse; border:none;\">\n",
       "<tr>\n",
       "<th style=\"border-top: double; text-align:center; font-style:normal; font-weight:bold; padding:0.2cm;  text-align:left; \">&nbsp;</th>\n",
       "<th colspan=\"3\" style=\"border-top: double; text-align:center; font-style:normal; font-weight:bold; padding:0.2cm; \">oq 45 scored</th>\n",
       "</tr>\n",
       "<tr>\n",
       "<td style=\" text-align:center; border-bottom:1px solid; font-style:italic; font-weight:normal;  text-align:left; \">Predictors</td>\n",
       "<td style=\" text-align:center; border-bottom:1px solid; font-style:italic; font-weight:normal;  \">Estimates</td>\n",
       "<td style=\" text-align:center; border-bottom:1px solid; font-style:italic; font-weight:normal;  \">CI</td>\n",
       "<td style=\" text-align:center; border-bottom:1px solid; font-style:italic; font-weight:normal;  \">p</td>\n",
       "</tr>\n",
       "<tr>\n",
       "<td style=\" padding:0.2cm; text-align:left; vertical-align:top; text-align:left; \">other psych treatment yn</td>\n",
       "<td style=\" padding:0.2cm; text-align:left; vertical-align:top; text-align:center;  \">5.33</td>\n",
       "<td style=\" padding:0.2cm; text-align:left; vertical-align:top; text-align:center;  \">0.23&nbsp;&ndash;&nbsp;10.43</td>\n",
       "<td style=\" padding:0.2cm; text-align:left; vertical-align:top; text-align:center;  \"><strong>0.041</strong></td>\n",
       "</tr>\n",
       "\n",
       "<tr>\n",
       "<td style=\" padding:0.2cm; text-align:left; vertical-align:top; text-align:left; padding-top:0.1cm; padding-bottom:0.1cm;\">N <sub>study_id</sub></td>\n",
       "<td style=\" padding:0.2cm; text-align:left; vertical-align:top; padding-top:0.1cm; padding-bottom:0.1cm; text-align:left;\" colspan=\"3\">170</td>\n",
       "<tr>\n",
       "<td style=\" padding:0.2cm; text-align:left; vertical-align:top; text-align:left; padding-top:0.1cm; padding-bottom:0.1cm; border-top:1px solid;\">Observations</td>\n",
       "<td style=\" padding:0.2cm; text-align:left; vertical-align:top; padding-top:0.1cm; padding-bottom:0.1cm; text-align:left; border-top:1px solid;\" colspan=\"3\">454</td>\n",
       "</tr>\n",
       "<tr>\n",
       "<td style=\" padding:0.2cm; text-align:left; vertical-align:top; text-align:left; padding-top:0.1cm; padding-bottom:0.1cm;\">Marginal R<sup>2</sup> / Conditional R<sup>2</sup></td>\n",
       "<td style=\" padding:0.2cm; text-align:left; vertical-align:top; padding-top:0.1cm; padding-bottom:0.1cm; text-align:left;\" colspan=\"3\">0.481 / 0.770</td>\n",
       "</tr>\n",
       "\n",
       "</table>\n"
      ]
     }
    }
   ],
   "source": [
    "model_partner_prim_psych <- lmer(oq45_scored ~ time_c*arm_c + oq45_0 + \n",
    "                              other_psych_treatment_yn + (1 + time_c | study_id), \n",
    "                          data = subset(data, dyad == 1))\n",
    "\n",
    "sjPlot::tab_model(model_partner_prim_psych, show.re.var = F, show.icc = F, terms = c(\"other_psych_treatment_yn\"))\n"
   ],
   "id": "6518362d-b257-4489-a9cd-6eb89533fdd9"
  },
  {
   "cell_type": "markdown",
   "metadata": {},
   "source": [
    "`other_medications_yn` - **significant**"
   ],
   "id": "960e70e2-a152-42ff-8164-23b4eec9f6c6"
  },
  {
   "cell_type": "code",
   "execution_count": null,
   "metadata": {},
   "outputs": [
    {
     "output_type": "display_data",
     "metadata": {},
     "data": {
      "text/html": [
       "<table style=\"border-collapse:collapse; border:none;\">\n",
       "<tr>\n",
       "<th style=\"border-top: double; text-align:center; font-style:normal; font-weight:bold; padding:0.2cm;  text-align:left; \">&nbsp;</th>\n",
       "<th colspan=\"3\" style=\"border-top: double; text-align:center; font-style:normal; font-weight:bold; padding:0.2cm; \">oq 45 scored</th>\n",
       "</tr>\n",
       "<tr>\n",
       "<td style=\" text-align:center; border-bottom:1px solid; font-style:italic; font-weight:normal;  text-align:left; \">Predictors</td>\n",
       "<td style=\" text-align:center; border-bottom:1px solid; font-style:italic; font-weight:normal;  \">Estimates</td>\n",
       "<td style=\" text-align:center; border-bottom:1px solid; font-style:italic; font-weight:normal;  \">CI</td>\n",
       "<td style=\" text-align:center; border-bottom:1px solid; font-style:italic; font-weight:normal;  \">p</td>\n",
       "</tr>\n",
       "<tr>\n",
       "<td style=\" padding:0.2cm; text-align:left; vertical-align:top; text-align:left; \">6.Did you take any<br>medications to help with<br>other psychological or<br>emotional issues?</td>\n",
       "<td style=\" padding:0.2cm; text-align:left; vertical-align:top; text-align:center;  \">6.02</td>\n",
       "<td style=\" padding:0.2cm; text-align:left; vertical-align:top; text-align:center;  \">1.88&nbsp;&ndash;&nbsp;10.15</td>\n",
       "<td style=\" padding:0.2cm; text-align:left; vertical-align:top; text-align:center;  \"><strong>0.004</strong></td>\n",
       "</tr>\n",
       "\n",
       "<tr>\n",
       "<td style=\" padding:0.2cm; text-align:left; vertical-align:top; text-align:left; padding-top:0.1cm; padding-bottom:0.1cm;\">N <sub>study_id</sub></td>\n",
       "<td style=\" padding:0.2cm; text-align:left; vertical-align:top; padding-top:0.1cm; padding-bottom:0.1cm; text-align:left;\" colspan=\"3\">170</td>\n",
       "<tr>\n",
       "<td style=\" padding:0.2cm; text-align:left; vertical-align:top; text-align:left; padding-top:0.1cm; padding-bottom:0.1cm; border-top:1px solid;\">Observations</td>\n",
       "<td style=\" padding:0.2cm; text-align:left; vertical-align:top; padding-top:0.1cm; padding-bottom:0.1cm; text-align:left; border-top:1px solid;\" colspan=\"3\">452</td>\n",
       "</tr>\n",
       "<tr>\n",
       "<td style=\" padding:0.2cm; text-align:left; vertical-align:top; text-align:left; padding-top:0.1cm; padding-bottom:0.1cm;\">Marginal R<sup>2</sup> / Conditional R<sup>2</sup></td>\n",
       "<td style=\" padding:0.2cm; text-align:left; vertical-align:top; padding-top:0.1cm; padding-bottom:0.1cm; text-align:left;\" colspan=\"3\">0.491 / 0.769</td>\n",
       "</tr>\n",
       "\n",
       "</table>\n"
      ]
     }
    }
   ],
   "source": [
    "model_partner_prim_psych_meds <- lmer(oq45_scored ~ time_c*arm_c + oq45_0 + \n",
    "                              other_medications_yn + (1 + time_c | study_id), \n",
    "                          data = subset(data, dyad == 1))\n",
    "\n",
    "sjPlot::tab_model(model_partner_prim_psych_meds, show.re.var = F, show.icc = F, terms = c(\"other_medications_yn\"))\n"
   ],
   "id": "8d41fdda-99e0-42e3-8254-5de5e9517546"
  },
  {
   "cell_type": "markdown",
   "metadata": {},
   "source": [
    "##### Final Model with Significant Covariates"
   ],
   "id": "fbba2504-89c3-40dd-9753-9d89676d22eb"
  },
  {
   "cell_type": "code",
   "execution_count": null,
   "metadata": {},
   "outputs": [
    {
     "output_type": "display_data",
     "metadata": {},
     "data": {
      "text/html": [
       "<table style=\"border-collapse:collapse; border:none;\">\n",
       "<tr>\n",
       "<th style=\"border-top: double; text-align:center; font-style:normal; font-weight:bold; padding:0.2cm;  text-align:left; \">&nbsp;</th>\n",
       "<th colspan=\"3\" style=\"border-top: double; text-align:center; font-style:normal; font-weight:bold; padding:0.2cm; \">oq 45 scored</th>\n",
       "</tr>\n",
       "<tr>\n",
       "<td style=\" text-align:center; border-bottom:1px solid; font-style:italic; font-weight:normal;  text-align:left; \">Predictors</td>\n",
       "<td style=\" text-align:center; border-bottom:1px solid; font-style:italic; font-weight:normal;  \">Estimates</td>\n",
       "<td style=\" text-align:center; border-bottom:1px solid; font-style:italic; font-weight:normal;  \">CI</td>\n",
       "<td style=\" text-align:center; border-bottom:1px solid; font-style:italic; font-weight:normal;  \">p</td>\n",
       "</tr>\n",
       "<tr>\n",
       "<td style=\" padding:0.2cm; text-align:left; vertical-align:top; text-align:left; \">(Intercept)</td>\n",
       "<td style=\" padding:0.2cm; text-align:left; vertical-align:top; text-align:center;  \">54.11</td>\n",
       "<td style=\" padding:0.2cm; text-align:left; vertical-align:top; text-align:center;  \">51.34&nbsp;&ndash;&nbsp;56.88</td>\n",
       "<td style=\" padding:0.2cm; text-align:left; vertical-align:top; text-align:center;  \"><strong>&lt;0.001</strong></td>\n",
       "</tr>\n",
       "<tr>\n",
       "<td style=\" padding:0.2cm; text-align:left; vertical-align:top; text-align:left; \">time c</td>\n",
       "<td style=\" padding:0.2cm; text-align:left; vertical-align:top; text-align:center;  \">&#45;0.86</td>\n",
       "<td style=\" padding:0.2cm; text-align:left; vertical-align:top; text-align:center;  \">&#45;2.24&nbsp;&ndash;&nbsp;0.52</td>\n",
       "<td style=\" padding:0.2cm; text-align:left; vertical-align:top; text-align:center;  \">0.222</td>\n",
       "</tr>\n",
       "<tr>\n",
       "<td style=\" padding:0.2cm; text-align:left; vertical-align:top; text-align:left; \">arm_cfam_and_achess_vs_C</td>\n",
       "<td style=\" padding:0.2cm; text-align:left; vertical-align:top; text-align:center;  \">&#45;2.48</td>\n",
       "<td style=\" padding:0.2cm; text-align:left; vertical-align:top; text-align:center;  \">&#45;7.07&nbsp;&ndash;&nbsp;2.10</td>\n",
       "<td style=\" padding:0.2cm; text-align:left; vertical-align:top; text-align:center;  \">0.287</td>\n",
       "</tr>\n",
       "<tr>\n",
       "<td style=\" padding:0.2cm; text-align:left; vertical-align:top; text-align:left; \">arm_cachess_vs_fam</td>\n",
       "<td style=\" padding:0.2cm; text-align:left; vertical-align:top; text-align:center;  \">&#45;1.05</td>\n",
       "<td style=\" padding:0.2cm; text-align:left; vertical-align:top; text-align:center;  \">&#45;6.26&nbsp;&ndash;&nbsp;4.17</td>\n",
       "<td style=\" padding:0.2cm; text-align:left; vertical-align:top; text-align:center;  \">0.693</td>\n",
       "</tr>\n",
       "<tr>\n",
       "<td style=\" padding:0.2cm; text-align:left; vertical-align:top; text-align:left; \">oq 45 0</td>\n",
       "<td style=\" padding:0.2cm; text-align:left; vertical-align:top; text-align:center;  \">0.71</td>\n",
       "<td style=\" padding:0.2cm; text-align:left; vertical-align:top; text-align:center;  \">0.61&nbsp;&ndash;&nbsp;0.81</td>\n",
       "<td style=\" padding:0.2cm; text-align:left; vertical-align:top; text-align:center;  \"><strong>&lt;0.001</strong></td>\n",
       "</tr>\n",
       "<tr>\n",
       "<td style=\" padding:0.2cm; text-align:left; vertical-align:top; text-align:left; \">edu c</td>\n",
       "<td style=\" padding:0.2cm; text-align:left; vertical-align:top; text-align:center;  \">&#45;2.34</td>\n",
       "<td style=\" padding:0.2cm; text-align:left; vertical-align:top; text-align:center;  \">&#45;4.38&nbsp;&ndash;&nbsp;-0.30</td>\n",
       "<td style=\" padding:0.2cm; text-align:left; vertical-align:top; text-align:center;  \"><strong>0.025</strong></td>\n",
       "</tr>\n",
       "<tr>\n",
       "<td style=\" padding:0.2cm; text-align:left; vertical-align:top; text-align:left; \">Did they have atleast one<br>outpatient treatment for<br>alcohol or drug use<br>within the surveyed<br>peirod?</td>\n",
       "<td style=\" padding:0.2cm; text-align:left; vertical-align:top; text-align:center;  \">8.18</td>\n",
       "<td style=\" padding:0.2cm; text-align:left; vertical-align:top; text-align:center;  \">&#45;0.97&nbsp;&ndash;&nbsp;17.34</td>\n",
       "<td style=\" padding:0.2cm; text-align:left; vertical-align:top; text-align:center;  \">0.080</td>\n",
       "</tr>\n",
       "<tr>\n",
       "<td style=\" padding:0.2cm; text-align:left; vertical-align:top; text-align:left; \">other psych treatment yn</td>\n",
       "<td style=\" padding:0.2cm; text-align:left; vertical-align:top; text-align:center;  \">3.72</td>\n",
       "<td style=\" padding:0.2cm; text-align:left; vertical-align:top; text-align:center;  \">&#45;1.43&nbsp;&ndash;&nbsp;8.87</td>\n",
       "<td style=\" padding:0.2cm; text-align:left; vertical-align:top; text-align:center;  \">0.156</td>\n",
       "</tr>\n",
       "<tr>\n",
       "<td style=\" padding:0.2cm; text-align:left; vertical-align:top; text-align:left; \">6.Did you take any<br>medications to help with<br>other psychological or<br>emotional issues?</td>\n",
       "<td style=\" padding:0.2cm; text-align:left; vertical-align:top; text-align:center;  \">5.35</td>\n",
       "<td style=\" padding:0.2cm; text-align:left; vertical-align:top; text-align:center;  \">1.18&nbsp;&ndash;&nbsp;9.53</td>\n",
       "<td style=\" padding:0.2cm; text-align:left; vertical-align:top; text-align:center;  \"><strong>0.012</strong></td>\n",
       "</tr>\n",
       "<tr>\n",
       "<td style=\" padding:0.2cm; text-align:left; vertical-align:top; text-align:left; \">time_c:arm_cfam_and_achess_vs_C</td>\n",
       "<td style=\" padding:0.2cm; text-align:left; vertical-align:top; text-align:center;  \">&#45;1.55</td>\n",
       "<td style=\" padding:0.2cm; text-align:left; vertical-align:top; text-align:center;  \">&#45;4.53&nbsp;&ndash;&nbsp;1.43</td>\n",
       "<td style=\" padding:0.2cm; text-align:left; vertical-align:top; text-align:center;  \">0.308</td>\n",
       "</tr>\n",
       "<tr>\n",
       "<td style=\" padding:0.2cm; text-align:left; vertical-align:top; text-align:left; \">time_c:arm_cachess_vs_fam</td>\n",
       "<td style=\" padding:0.2cm; text-align:left; vertical-align:top; text-align:center;  \">0.75</td>\n",
       "<td style=\" padding:0.2cm; text-align:left; vertical-align:top; text-align:center;  \">&#45;2.56&nbsp;&ndash;&nbsp;4.07</td>\n",
       "<td style=\" padding:0.2cm; text-align:left; vertical-align:top; text-align:center;  \">0.655</td>\n",
       "</tr>\n",
       "\n",
       "<tr>\n",
       "<td style=\" padding:0.2cm; text-align:left; vertical-align:top; text-align:left; padding-top:0.1cm; padding-bottom:0.1cm;\">N <sub>study_id</sub></td>\n",
       "<td style=\" padding:0.2cm; text-align:left; vertical-align:top; padding-top:0.1cm; padding-bottom:0.1cm; text-align:left;\" colspan=\"3\">170</td>\n",
       "<tr>\n",
       "<td style=\" padding:0.2cm; text-align:left; vertical-align:top; text-align:left; padding-top:0.1cm; padding-bottom:0.1cm; border-top:1px solid;\">Observations</td>\n",
       "<td style=\" padding:0.2cm; text-align:left; vertical-align:top; padding-top:0.1cm; padding-bottom:0.1cm; text-align:left; border-top:1px solid;\" colspan=\"3\">452</td>\n",
       "</tr>\n",
       "<tr>\n",
       "<td style=\" padding:0.2cm; text-align:left; vertical-align:top; text-align:left; padding-top:0.1cm; padding-bottom:0.1cm;\">Marginal R<sup>2</sup> / Conditional R<sup>2</sup></td>\n",
       "<td style=\" padding:0.2cm; text-align:left; vertical-align:top; padding-top:0.1cm; padding-bottom:0.1cm; text-align:left;\" colspan=\"3\">0.508 / 0.767</td>\n",
       "</tr>\n",
       "\n",
       "</table>\n"
      ]
     }
    }
   ],
   "source": [
    "model_partner_prim <- lmer(oq45_scored ~ time_c*arm_c + oq45_0 + edu_c +\n",
    "                             outpatient_yn_ever + other_psych_treatment_yn +\n",
    "                             other_medications_yn +\n",
    "                             (1 + time_c | study_id), data = subset(data, dyad == 1))\n",
    "\n",
    "sjPlot::tab_model(model_partner_prim, show.re.var = F, show.icc = F)\n"
   ],
   "id": "787207b8-2cc6-4c16-9611-3c32057abde6"
  },
  {
   "cell_type": "markdown",
   "metadata": {},
   "source": [
    "#### Secondary Patient Outcome: `per_days_abstinent`\n",
    "\n",
    "Distribution of residuals  \n",
    "*Looks fine*"
   ],
   "id": "2985b243-f64a-4ce4-ad88-aeb5620bff76"
  },
  {
   "cell_type": "code",
   "execution_count": null,
   "metadata": {},
   "outputs": [
    {
     "output_type": "display_data",
     "metadata": {},
     "data": {
      "image/png": "[encoded data removed]"
     }
    }
   ],
   "source": [
    "model_patient_sec <- lmer(per_days_abstinent ~ time_c*arm_c + pda_0 + \n",
    "                             (1 + time_c | study_id), data = subset(data, dyad == 2))\n",
    "\n",
    "tibble(error = residuals(model_patient_sec)) |> \n",
    "  ggplot(aes(x = error)) +\n",
    "  geom_histogram(color = \"black\", fill = \"light grey\", bins = 30)\n"
   ],
   "id": "66c88b14-65e3-4dbb-b6c1-62d996dbb9c9"
  },
  {
   "cell_type": "markdown",
   "metadata": {},
   "source": [
    "#### Secondary Partner Outcome 1: `relationsatisf_scored`\n",
    "\n",
    "Distribution of residuals"
   ],
   "id": "b6724494-2d82-4813-a1ef-b7eadaf14e1e"
  },
  {
   "cell_type": "code",
   "execution_count": null,
   "metadata": {},
   "outputs": [
    {
     "output_type": "display_data",
     "metadata": {},
     "data": {
      "image/png": "[encoded data removed]"
     }
    }
   ],
   "source": [
    "model_partner_sec_1 <- lmer(relationsatisf_scored ~ time_c*arm_c + relationsatisf_0 + \n",
    "                             (1 + time_c | study_id), data = subset(data, dyad == 1))\n",
    "\n",
    "tibble(error = residuals(model_partner_sec_1)) |> \n",
    "  ggplot(aes(x = error)) +\n",
    "  geom_histogram(color = \"black\", fill = \"light grey\", bins = 30)\n"
   ],
   "id": "66df9d6b-6cad-443e-b4b3-ca14858ce19d"
  },
  {
   "cell_type": "markdown",
   "metadata": {},
   "source": [
    "#### Secondary Partner Outcome 2: `abuse_scored`\n",
    "\n",
    "Distribution of residuals  \n",
    "*KW: Look into potential outliers?*"
   ],
   "id": "8391eca6-770d-4ed9-8326-2058f08fff28"
  },
  {
   "cell_type": "code",
   "execution_count": null,
   "metadata": {},
   "outputs": [
    {
     "output_type": "display_data",
     "metadata": {},
     "data": {
      "image/png": "[encoded data removed]"
     }
    }
   ],
   "source": [
    "model_partner_sec_2 <- lmer(abuse_scored ~ time_c*arm_c + abuse_0 +\n",
    "                             (1 + time_c | study_id), data = subset(data, dyad == 1))\n",
    "\n",
    "tibble(error = residuals(model_partner_sec_2)) |> \n",
    "  ggplot(aes(x = error)) +\n",
    "  geom_histogram(color = \"black\", fill = \"light grey\", bins = 30)\n"
   ],
   "id": "61cd5c27-aab7-483d-babf-9d761b7551f1"
  },
  {
   "cell_type": "markdown",
   "metadata": {},
   "source": [
    "### Check Assumptions for Analyses of Mediators\n",
    "\n",
    "**KW: mediators only for primary outcomes**\n",
    "\n",
    "List of mediators:\n",
    "\n",
    "### Check Assumptions for Analyses of Moderators\n",
    "\n",
    "**KW: moderators only for primary outcomes**\n",
    "\n",
    "List of moderators:\n",
    "\n",
    "### Save out processed data for analyses"
   ],
   "id": "7977ddc1-74e7-4c51-a230-2ca9037df52c"
  },
  {
   "cell_type": "code",
   "execution_count": null,
   "metadata": {},
   "outputs": [],
   "source": [
    "data |> \n",
    "  write_csv(here::here(path_data, \"famchess_data_ana.csv\"))\n"
   ],
   "id": "e0b5ba32-837f-46e0-bef3-50f5b65a55fb"
  }
 ],
 "nbformat": 4,
 "nbformat_minor": 5,
 "metadata": {}
}

{
 "cells": [
  {
   "cell_type": "markdown",
   "metadata": {},
   "source": [
    "# famCHESS Modeling EDA\n",
    "\n",
    "Kendra Wyant\n",
    "\n",
    "## Notes\n",
    "\n",
    "This script reads in the processed famCHESS data (see `eda_cleaning.qmd`) and performs modeling checks for assumptions, covariates, mediators, and moderators.\n",
    "\n",
    "## Setup"
   ],
   "id": "77260111-f34b-4115-a8db-30c708390317"
  },
  {
   "cell_type": "code",
   "execution_count": null,
   "metadata": {},
   "outputs": [
    {
     "output_type": "stream",
     "name": "stderr",
     "text": [
      "ℹ SHA-1 hash of file is \"a58e57da996d1b70bb9a5b58241325d6fd78890f\""
     ]
    }
   ],
   "source": [
    "options(conflicts.policy = \"depends.ok\")\n",
    "suppressMessages(library(tidyverse))\n",
    "suppressMessages(library(janitor))\n",
    "library(Matrix, exclude = c(\"expand\", \"pack\", \"unpack\"))\n",
    "library(lme4)\n",
    "theme_set(theme_classic()) \n",
    "\n",
    "devtools::source_url(\"https://github.com/jjcurtin/lab_support/blob/main/format_path.R?raw=true\")\n"
   ],
   "id": "f81c0418-0ac2-49ae-a087-580b1dc945d7"
  },
  {
   "cell_type": "markdown",
   "metadata": {},
   "source": [
    "## Data"
   ],
   "id": "c5f9c138-7093-4d1a-91df-46c070eb4459"
  },
  {
   "cell_type": "code",
   "execution_count": null,
   "metadata": {},
   "outputs": [
    {
     "output_type": "stream",
     "name": "stdout",
     "text": [
      "Rows: 928\n",
      "Columns: 38\n",
      "$ study_id                 <fct> 100FAM, 100FAM, 100FAM, 100PT, 100PT, 100PT, …\n",
      "$ dyad                     <fct> Partner, Partner, Partner, Patient, Patient, …\n",
      "$ arm                      <fct> ACHESS, ACHESS, ACHESS, ACHESS, ACHESS, ACHES…\n",
      "$ group                    <fct> ACHESS Partner, ACHESS Partner, ACHESS Partne…\n",
      "$ time                     <fct> 4 Month, 8 Month, 12 Month, 12 Month, 4 Month…\n",
      "$ comments                 <fct> NA, NA, NA, NA, NA, NA, NA, NA, NA, NA, NA, N…\n",
      "$ gender                   <fct> non-male, non-male, non-male, male, male, mal…\n",
      "$ age                      <dbl> 55, 55, 55, 56, 56, 56, 62, 62, 62, 66, 66, 6…\n",
      "$ edu                      <fct> \"Some college or 2 year degree\", \"Some colleg…\n",
      "$ income                   <fct> \"$35,000 to $49,999\", \"$35,000 to $49,999\", \"…\n",
      "$ partner_relationship     <fct> Romantic partner/spouse, Romantic partner/spo…\n",
      "$ employment               <fct> Yes, Yes, Yes, Yes, Yes, Yes, No, No, No, No,…\n",
      "$ days_app_use             <dbl> NA, NA, NA, 8, 32, 12, NA, NA, NA, NA, NA, NA…\n",
      "$ per_days_abstinent       <dbl> NA, NA, NA, 0.0, 0.0, 0.0, NA, NA, NA, 98.5, …\n",
      "$ per_heavy_drink_days     <dbl> NA, NA, NA, 100.0, 90.8, 100.0, NA, NA, NA, 1…\n",
      "$ meetings_yn              <fct> No, No, No, No, No, No, No, Yes, No, Yes, Yes…\n",
      "$ outpatient_yn_ever       <fct> No, No, No, No, No, No, No, No, No, No, No, N…\n",
      "$ other_psych_treatment_yn <fct> No, No, No, No, No, No, No, No, No, Yes, No, …\n",
      "$ er_yn_ever               <fct> No, No, No, No, No, No, No, No, No, No, No, N…\n",
      "$ mat_yn                   <fct> No, No, No, No, No, No, No, No, No, No, No, N…\n",
      "$ other_medications_yn     <fct> No, No, No, No, No, No, No, No, No, Yes, No, …\n",
      "$ inpatient_yn_ever        <fct> No, No, No, No, No, No, No, No, No, No, No, N…\n",
      "$ relationship_status      <fct> \"Still together (e.g., as a romantic couple, …\n",
      "$ relationship_status_open <fct> NA, NA, NA, NA, NA, NA, NA, NA, NA, NA, NA, N…\n",
      "$ oq45_scored              <dbl> 48, 58, 64, 48, 68, 70, 26, 37, 40, 44, 44, 5…\n",
      "$ relationsatisf_scored    <dbl> 15, 9, 30, 24, 22, 20, 30, 29, 32, 25, 25, 23…\n",
      "$ abuse_scored             <dbl> 4, 7, 8, 15, 4, 2, 4, 0, 2, 0, NA, NA, 2, 11,…\n",
      "$ treatmentskills_scored   <dbl> 2.888889, 2.722222, 3.277778, NA, NA, NA, 3.0…\n",
      "$ peersupport_scored       <dbl> 3.4, 2.6, 2.8, 2.4, 2.2, 2.8, 2.8, 3.6, 2.4, …\n",
      "$ socrates_scored          <dbl> NA, NA, NA, 33, 34, 24, NA, NA, NA, 39, 37, 3…\n",
      "$ dsm5_criteria            <fct> NA, NA, NA, Severe (6 or more symptoms), Seve…\n",
      "$ gender_original          <fct> Woman, Woman, Woman, Man, Man, Man, Woman, Wo…\n",
      "$ race_white_only          <fct> No, No, No, No, No, No, Yes, Yes, Yes, Yes, Y…\n",
      "$ hdd_0                    <dbl> NA, NA, NA, 100.0, 100.0, 100.0, NA, NA, NA, …\n",
      "$ pda_0                    <dbl> NA, NA, NA, 0.0, 0.0, 0.0, NA, NA, NA, 93.4, …\n",
      "$ oq45_0                   <dbl> 53, 53, 53, 60, 60, 60, 79, 79, 79, 71, 71, 7…\n",
      "$ relationsatisf_0         <dbl> 21, 21, 21, 19, 19, 19, 32, 32, 32, 24, 24, 2…\n",
      "$ abuse_0                  <dbl> 9, 9, 9, 2, 2, 2, 17, 17, 17, 8, 8, 8, 5, 5, …"
     ]
    }
   ],
   "source": [
    "data <- read_csv(here::here(path_data, \"famchess_data_ana.csv\"),\n",
    "                 show_col_types = FALSE) |> \n",
    "  mutate(across(where(is.character), ~as.factor(.x))) |> \n",
    "  glimpse()\n"
   ],
   "id": "636b00be-fb6a-4c7a-96a2-98ae65c4db3d"
  },
  {
   "cell_type": "markdown",
   "metadata": {},
   "source": [
    "Center baseline values of outcomes"
   ],
   "id": "a4e160f7-dadc-428b-b52d-b06c334fe226"
  },
  {
   "cell_type": "code",
   "execution_count": null,
   "metadata": {},
   "outputs": [],
   "source": [
    "data <- data |> \n",
    "  mutate(hdd_0 = hdd_0 - mean(hdd_0, na.rm = TRUE),\n",
    "         pda_0 = pda_0 - mean(pda_0, na.rm = TRUE),\n",
    "         oq45_0 = oq45_0 - mean(oq45_0, na.rm = TRUE),\n",
    "         relationsatisf_0 = relationsatisf_0 - mean(relationsatisf_0, na.rm = TRUE),\n",
    "         abuse_0 = abuse_0 - mean(abuse_0, na.rm = TRUE))\n"
   ],
   "id": "0d79a6f0-e6b8-47d5-b08a-c400ebd28c44"
  },
  {
   "cell_type": "markdown",
   "metadata": {},
   "source": [
    "Center time at the end of the intervention period (8 months)."
   ],
   "id": "6b9a6489-00cb-43c6-b821-b10674c56ee1"
  },
  {
   "cell_type": "code",
   "execution_count": null,
   "metadata": {},
   "outputs": [],
   "source": [
    "data <- data |> \n",
    "  mutate(time = factor(time, levels = c(\"4 Month\", \"8 Month\", \"12 Month\")),\n",
    "         time_c = as.numeric(time) - 2)\n"
   ],
   "id": "34ca5dfa-72e6-4d2d-99b0-58dcb25d740f"
  },
  {
   "cell_type": "markdown",
   "metadata": {},
   "source": [
    "Center non-binary covariates"
   ],
   "id": "dcdf1fe6-5fe7-448c-ba89-5a0043990649"
  },
  {
   "cell_type": "code",
   "execution_count": null,
   "metadata": {},
   "outputs": [],
   "source": [
    "data <- data |> \n",
    "  mutate(age_c = age - mean(age, na.rm = TRUE),\n",
    "         edu = factor(edu, levels = c(\"8th grade or less\", \n",
    "                                      \"Some high school, but did not graduate\",\n",
    "                                      \"High school graduate or GED\",\n",
    "                                      \"Some college or 2 year degree\",\n",
    "                                      \"4-year college graduate\",\n",
    "                                      \"More than 4-year college degree\")),\n",
    "         edu_c = as.numeric(edu) - mean(as.numeric(edu), na.rm = TRUE))\n"
   ],
   "id": "e59fea5c-d21a-44a8-9545-b9095b7e33fc"
  },
  {
   "cell_type": "markdown",
   "metadata": {},
   "source": [
    "### Check Assumptions for Analyses of Study Arm Effects\n",
    "\n",
    "patient primary outcome = `per_heavy_drink_days`  \n",
    "partner primary outcome = `oq45_scored`\n",
    "\n",
    "patient secondary outcome = `per_days_abstinent`  \n",
    "partner secondary outcomes = `relationsatisf_scored` and `abuse_scored`\n",
    "\n",
    "*KW: Cannot run primary and secondary patient models for partners (outcomes don’t exist). We could run primary and secondary partner models for patients, but does this make sense?*\n",
    "\n",
    "List of potential covariate variable names: `race_white_only`, `age_c`, `edu_c`, `meetings_yn`, `outpatient_yn_ever`, `er_yn_ever`, `mat_yn`, `inpatient_yn_ever`, `other_psych_treatment_yn`, `other_medications_yn`\n",
    "\n",
    "Set contrasts"
   ],
   "id": "e0bf66f4-9300-44f4-a69d-6c723cf1f132"
  },
  {
   "cell_type": "code",
   "execution_count": null,
   "metadata": {},
   "outputs": [
    {
     "output_type": "stream",
     "name": "stdout",
     "text": [
      "                   fam_and_achess_vs_C achess_vs_fam\n",
      "ACHESS                       0.3333333           0.5\n",
      "FAMCHESS                     0.3333333          -0.5\n",
      "Smartphone Control          -0.6666667           0.0"
     ]
    }
   ],
   "source": [
    "col_names <- c(\"fam_and_achess_vs_C\", \"achess_vs_fam\")\n",
    "arm_contrasts <- matrix(c(1/3, 1/3, -2/3, 1/2, -1/2, 0),\n",
    "                          nrow = 3, ncol = 2,\n",
    "                          dimnames = list(levels(data$arm), col_names))\n",
    "\n",
    "data <- data |> \n",
    "  mutate(arm_c = as.factor(arm))\n",
    "\n",
    "contrasts(data$arm_c) <- arm_contrasts\n",
    "contrasts(data$arm_c)\n"
   ],
   "id": "2d1a1d56-5b86-4bfb-abd0-9f9c9e7fd191"
  },
  {
   "cell_type": "markdown",
   "metadata": {},
   "source": [
    "#### Primary Patient Outcome: `per_heavy_drink_days`\n",
    "\n",
    "##### Check distribution of residuals\n",
    "\n",
    "*KW: seems normal enough?*"
   ],
   "id": "9c00bcf4-22ce-474b-b700-7a02cac26d27"
  },
  {
   "cell_type": "code",
   "execution_count": null,
   "metadata": {},
   "outputs": [
    {
     "output_type": "display_data",
     "metadata": {},
     "data": {
      "image/png": "[encoded data removed]"
     }
    }
   ],
   "source": [
    "model_patient_prim <- lmer(per_heavy_drink_days ~ time_c*arm_c + hdd_0 + \n",
    "                             (1 + time_c | study_id), \n",
    "                           data = subset(data, dyad == \"Patient\"))\n",
    "\n",
    "tibble(error = residuals(model_patient_prim)) |> \n",
    "  ggplot(aes(x = error)) +\n",
    "  geom_histogram(color = \"black\", fill = \"light grey\", bins = 30)\n"
   ],
   "id": "1a1081da-6a4f-429c-a468-d16b5039779d"
  },
  {
   "cell_type": "markdown",
   "metadata": {},
   "source": [
    "##### Look for significant covariates (We will only include covariates that significantly predict the outcome).\n",
    "\n",
    "`race_white_only` - not significant"
   ],
   "id": "8f4345b3-deb0-4d34-ae8f-70605f7eec73"
  },
  {
   "cell_type": "code",
   "execution_count": null,
   "metadata": {},
   "outputs": [
    {
     "output_type": "display_data",
     "metadata": {},
     "data": {
      "text/html": [
       "<table style=\"border-collapse:collapse; border:none;\">\n",
       "<tr>\n",
       "<th style=\"border-top: double; text-align:center; font-style:normal; font-weight:bold; padding:0.2cm;  text-align:left; \">&nbsp;</th>\n",
       "<th colspan=\"3\" style=\"border-top: double; text-align:center; font-style:normal; font-weight:bold; padding:0.2cm; \">per heavy drink days</th>\n",
       "</tr>\n",
       "<tr>\n",
       "<td style=\" text-align:center; border-bottom:1px solid; font-style:italic; font-weight:normal;  text-align:left; \">Predictors</td>\n",
       "<td style=\" text-align:center; border-bottom:1px solid; font-style:italic; font-weight:normal;  \">Estimates</td>\n",
       "<td style=\" text-align:center; border-bottom:1px solid; font-style:italic; font-weight:normal;  \">CI</td>\n",
       "<td style=\" text-align:center; border-bottom:1px solid; font-style:italic; font-weight:normal;  \">p</td>\n",
       "</tr>\n",
       "<tr>\n",
       "<td style=\" padding:0.2cm; text-align:left; vertical-align:top; text-align:left; \">race white only [Yes]</td>\n",
       "<td style=\" padding:0.2cm; text-align:left; vertical-align:top; text-align:center;  \">&#45;0.26</td>\n",
       "<td style=\" padding:0.2cm; text-align:left; vertical-align:top; text-align:center;  \">&#45;8.95&nbsp;&ndash;&nbsp;8.43</td>\n",
       "<td style=\" padding:0.2cm; text-align:left; vertical-align:top; text-align:center;  \">0.953</td>\n",
       "</tr>\n",
       "\n",
       "<tr>\n",
       "<td style=\" padding:0.2cm; text-align:left; vertical-align:top; text-align:left; padding-top:0.1cm; padding-bottom:0.1cm;\">N <sub>study_id</sub></td>\n",
       "<td style=\" padding:0.2cm; text-align:left; vertical-align:top; padding-top:0.1cm; padding-bottom:0.1cm; text-align:left;\" colspan=\"3\">157</td>\n",
       "<tr>\n",
       "<td style=\" padding:0.2cm; text-align:left; vertical-align:top; text-align:left; padding-top:0.1cm; padding-bottom:0.1cm; border-top:1px solid;\">Observations</td>\n",
       "<td style=\" padding:0.2cm; text-align:left; vertical-align:top; padding-top:0.1cm; padding-bottom:0.1cm; text-align:left; border-top:1px solid;\" colspan=\"3\">427</td>\n",
       "</tr>\n",
       "<tr>\n",
       "<td style=\" padding:0.2cm; text-align:left; vertical-align:top; text-align:left; padding-top:0.1cm; padding-bottom:0.1cm;\">Marginal R<sup>2</sup> / Conditional R<sup>2</sup></td>\n",
       "<td style=\" padding:0.2cm; text-align:left; vertical-align:top; padding-top:0.1cm; padding-bottom:0.1cm; text-align:left;\" colspan=\"3\">0.282 / 0.765</td>\n",
       "</tr>\n",
       "\n",
       "</table>\n"
      ]
     }
    }
   ],
   "source": [
    "lmer(per_heavy_drink_days ~ time_c*arm_c + hdd_0 + race_white_only + \n",
    "       (1 + time_c | study_id), data = subset(data, dyad == \"Patient\")) |> \n",
    "  sjPlot::tab_model(show.re.var = F, show.icc = F, \n",
    "                    terms = c(\"race_white_onlyYes\"))\n"
   ],
   "id": "374cba94-0d03-4621-927c-fbf869c752f1"
  },
  {
   "cell_type": "markdown",
   "metadata": {},
   "source": [
    "`age_c` - not significant"
   ],
   "id": "aadd34ef-ae13-48d5-9118-3a84f785d26f"
  },
  {
   "cell_type": "code",
   "execution_count": null,
   "metadata": {},
   "outputs": [
    {
     "output_type": "display_data",
     "metadata": {},
     "data": {
      "text/html": [
       "<table style=\"border-collapse:collapse; border:none;\">\n",
       "<tr>\n",
       "<th style=\"border-top: double; text-align:center; font-style:normal; font-weight:bold; padding:0.2cm;  text-align:left; \">&nbsp;</th>\n",
       "<th colspan=\"3\" style=\"border-top: double; text-align:center; font-style:normal; font-weight:bold; padding:0.2cm; \">per heavy drink days</th>\n",
       "</tr>\n",
       "<tr>\n",
       "<td style=\" text-align:center; border-bottom:1px solid; font-style:italic; font-weight:normal;  text-align:left; \">Predictors</td>\n",
       "<td style=\" text-align:center; border-bottom:1px solid; font-style:italic; font-weight:normal;  \">Estimates</td>\n",
       "<td style=\" text-align:center; border-bottom:1px solid; font-style:italic; font-weight:normal;  \">CI</td>\n",
       "<td style=\" text-align:center; border-bottom:1px solid; font-style:italic; font-weight:normal;  \">p</td>\n",
       "</tr>\n",
       "<tr>\n",
       "<td style=\" padding:0.2cm; text-align:left; vertical-align:top; text-align:left; \">age c</td>\n",
       "<td style=\" padding:0.2cm; text-align:left; vertical-align:top; text-align:center;  \">0.12</td>\n",
       "<td style=\" padding:0.2cm; text-align:left; vertical-align:top; text-align:center;  \">&#45;0.18&nbsp;&ndash;&nbsp;0.42</td>\n",
       "<td style=\" padding:0.2cm; text-align:left; vertical-align:top; text-align:center;  \">0.422</td>\n",
       "</tr>\n",
       "\n",
       "<tr>\n",
       "<td style=\" padding:0.2cm; text-align:left; vertical-align:top; text-align:left; padding-top:0.1cm; padding-bottom:0.1cm;\">N <sub>study_id</sub></td>\n",
       "<td style=\" padding:0.2cm; text-align:left; vertical-align:top; padding-top:0.1cm; padding-bottom:0.1cm; text-align:left;\" colspan=\"3\">156</td>\n",
       "<tr>\n",
       "<td style=\" padding:0.2cm; text-align:left; vertical-align:top; text-align:left; padding-top:0.1cm; padding-bottom:0.1cm; border-top:1px solid;\">Observations</td>\n",
       "<td style=\" padding:0.2cm; text-align:left; vertical-align:top; padding-top:0.1cm; padding-bottom:0.1cm; text-align:left; border-top:1px solid;\" colspan=\"3\">424</td>\n",
       "</tr>\n",
       "<tr>\n",
       "<td style=\" padding:0.2cm; text-align:left; vertical-align:top; text-align:left; padding-top:0.1cm; padding-bottom:0.1cm;\">Marginal R<sup>2</sup> / Conditional R<sup>2</sup></td>\n",
       "<td style=\" padding:0.2cm; text-align:left; vertical-align:top; padding-top:0.1cm; padding-bottom:0.1cm; text-align:left;\" colspan=\"3\">0.285 / 0.761</td>\n",
       "</tr>\n",
       "\n",
       "</table>\n"
      ]
     }
    }
   ],
   "source": [
    "lmer(per_heavy_drink_days ~ time_c*arm_c + hdd_0 + age_c + \n",
    "       (1 + time_c | study_id), data = subset(data, dyad == \"Patient\")) |> \n",
    "  sjPlot::tab_model(show.re.var = F, show.icc = F, terms = c(\"age_c\"))\n"
   ],
   "id": "67889cf2-638a-4ec3-969b-0800c06bddf2"
  },
  {
   "cell_type": "markdown",
   "metadata": {},
   "source": [
    "`edu_c` - not significant"
   ],
   "id": "c6028e05-b5e9-400a-8589-cf8dbcf3d0d8"
  },
  {
   "cell_type": "code",
   "execution_count": null,
   "metadata": {},
   "outputs": [
    {
     "output_type": "display_data",
     "metadata": {},
     "data": {
      "text/html": [
       "<table style=\"border-collapse:collapse; border:none;\">\n",
       "<tr>\n",
       "<th style=\"border-top: double; text-align:center; font-style:normal; font-weight:bold; padding:0.2cm;  text-align:left; \">&nbsp;</th>\n",
       "<th colspan=\"3\" style=\"border-top: double; text-align:center; font-style:normal; font-weight:bold; padding:0.2cm; \">per heavy drink days</th>\n",
       "</tr>\n",
       "<tr>\n",
       "<td style=\" text-align:center; border-bottom:1px solid; font-style:italic; font-weight:normal;  text-align:left; \">Predictors</td>\n",
       "<td style=\" text-align:center; border-bottom:1px solid; font-style:italic; font-weight:normal;  \">Estimates</td>\n",
       "<td style=\" text-align:center; border-bottom:1px solid; font-style:italic; font-weight:normal;  \">CI</td>\n",
       "<td style=\" text-align:center; border-bottom:1px solid; font-style:italic; font-weight:normal;  \">p</td>\n",
       "</tr>\n",
       "<tr>\n",
       "<td style=\" padding:0.2cm; text-align:left; vertical-align:top; text-align:left; \">edu c</td>\n",
       "<td style=\" padding:0.2cm; text-align:left; vertical-align:top; text-align:center;  \">&#45;0.46</td>\n",
       "<td style=\" padding:0.2cm; text-align:left; vertical-align:top; text-align:center;  \">&#45;4.08&nbsp;&ndash;&nbsp;3.16</td>\n",
       "<td style=\" padding:0.2cm; text-align:left; vertical-align:top; text-align:center;  \">0.803</td>\n",
       "</tr>\n",
       "\n",
       "<tr>\n",
       "<td style=\" padding:0.2cm; text-align:left; vertical-align:top; text-align:left; padding-top:0.1cm; padding-bottom:0.1cm;\">N <sub>study_id</sub></td>\n",
       "<td style=\" padding:0.2cm; text-align:left; vertical-align:top; padding-top:0.1cm; padding-bottom:0.1cm; text-align:left;\" colspan=\"3\">157</td>\n",
       "<tr>\n",
       "<td style=\" padding:0.2cm; text-align:left; vertical-align:top; text-align:left; padding-top:0.1cm; padding-bottom:0.1cm; border-top:1px solid;\">Observations</td>\n",
       "<td style=\" padding:0.2cm; text-align:left; vertical-align:top; padding-top:0.1cm; padding-bottom:0.1cm; text-align:left; border-top:1px solid;\" colspan=\"3\">427</td>\n",
       "</tr>\n",
       "<tr>\n",
       "<td style=\" padding:0.2cm; text-align:left; vertical-align:top; text-align:left; padding-top:0.1cm; padding-bottom:0.1cm;\">Marginal R<sup>2</sup> / Conditional R<sup>2</sup></td>\n",
       "<td style=\" padding:0.2cm; text-align:left; vertical-align:top; padding-top:0.1cm; padding-bottom:0.1cm; text-align:left;\" colspan=\"3\">0.283 / 0.765</td>\n",
       "</tr>\n",
       "\n",
       "</table>\n"
      ]
     }
    }
   ],
   "source": [
    "lmer(per_heavy_drink_days ~ time_c*arm_c + hdd_0 + edu_c + \n",
    "       (1 + time_c | study_id), data = subset(data, dyad == \"Patient\")) |> \n",
    "  sjPlot::tab_model(show.re.var = F, show.icc = F, terms = c(\"edu_c\"))\n"
   ],
   "id": "9261d903-aab1-4176-a002-798d12057260"
  },
  {
   "cell_type": "markdown",
   "metadata": {},
   "source": [
    "`meetings_yn` - not significant"
   ],
   "id": "8b562195-b0c6-4563-8ac9-4b220a1acf72"
  },
  {
   "cell_type": "code",
   "execution_count": null,
   "metadata": {},
   "outputs": [
    {
     "output_type": "display_data",
     "metadata": {},
     "data": {
      "text/html": [
       "<table style=\"border-collapse:collapse; border:none;\">\n",
       "<tr>\n",
       "<th style=\"border-top: double; text-align:center; font-style:normal; font-weight:bold; padding:0.2cm;  text-align:left; \">&nbsp;</th>\n",
       "<th colspan=\"3\" style=\"border-top: double; text-align:center; font-style:normal; font-weight:bold; padding:0.2cm; \">per heavy drink days</th>\n",
       "</tr>\n",
       "<tr>\n",
       "<td style=\" text-align:center; border-bottom:1px solid; font-style:italic; font-weight:normal;  text-align:left; \">Predictors</td>\n",
       "<td style=\" text-align:center; border-bottom:1px solid; font-style:italic; font-weight:normal;  \">Estimates</td>\n",
       "<td style=\" text-align:center; border-bottom:1px solid; font-style:italic; font-weight:normal;  \">CI</td>\n",
       "<td style=\" text-align:center; border-bottom:1px solid; font-style:italic; font-weight:normal;  \">p</td>\n",
       "</tr>\n",
       "<tr>\n",
       "<td style=\" padding:0.2cm; text-align:left; vertical-align:top; text-align:left; \">meetings yn [Yes]</td>\n",
       "<td style=\" padding:0.2cm; text-align:left; vertical-align:top; text-align:center;  \">&#45;6.54</td>\n",
       "<td style=\" padding:0.2cm; text-align:left; vertical-align:top; text-align:center;  \">&#45;13.30&nbsp;&ndash;&nbsp;0.22</td>\n",
       "<td style=\" padding:0.2cm; text-align:left; vertical-align:top; text-align:center;  \">0.058</td>\n",
       "</tr>\n",
       "\n",
       "<tr>\n",
       "<td style=\" padding:0.2cm; text-align:left; vertical-align:top; text-align:left; padding-top:0.1cm; padding-bottom:0.1cm;\">N <sub>study_id</sub></td>\n",
       "<td style=\" padding:0.2cm; text-align:left; vertical-align:top; padding-top:0.1cm; padding-bottom:0.1cm; text-align:left;\" colspan=\"3\">158</td>\n",
       "<tr>\n",
       "<td style=\" padding:0.2cm; text-align:left; vertical-align:top; text-align:left; padding-top:0.1cm; padding-bottom:0.1cm; border-top:1px solid;\">Observations</td>\n",
       "<td style=\" padding:0.2cm; text-align:left; vertical-align:top; padding-top:0.1cm; padding-bottom:0.1cm; text-align:left; border-top:1px solid;\" colspan=\"3\">413</td>\n",
       "</tr>\n",
       "<tr>\n",
       "<td style=\" padding:0.2cm; text-align:left; vertical-align:top; text-align:left; padding-top:0.1cm; padding-bottom:0.1cm;\">Marginal R<sup>2</sup> / Conditional R<sup>2</sup></td>\n",
       "<td style=\" padding:0.2cm; text-align:left; vertical-align:top; padding-top:0.1cm; padding-bottom:0.1cm; text-align:left;\" colspan=\"3\">0.267 / 0.749</td>\n",
       "</tr>\n",
       "\n",
       "</table>\n"
      ]
     }
    }
   ],
   "source": [
    "lmer(per_heavy_drink_days ~ time_c*arm_c + hdd_0 + meetings_yn + \n",
    "       (1 + time_c | study_id), data = subset(data, dyad == \"Patient\")) |> \n",
    "  sjPlot::tab_model(show.re.var = F, show.icc = F, terms = c(\"meetings_ynYes\"))\n"
   ],
   "id": "d50c7a7a-b585-4a31-9668-1dbbd9744289"
  },
  {
   "cell_type": "markdown",
   "metadata": {},
   "source": [
    "`outpatient_yn_ever` - not significant"
   ],
   "id": "de1a81a3-13ce-4f70-94c6-1b861eea6d28"
  },
  {
   "cell_type": "code",
   "execution_count": null,
   "metadata": {},
   "outputs": [
    {
     "output_type": "display_data",
     "metadata": {},
     "data": {
      "text/html": [
       "<table style=\"border-collapse:collapse; border:none;\">\n",
       "<tr>\n",
       "<th style=\"border-top: double; text-align:center; font-style:normal; font-weight:bold; padding:0.2cm;  text-align:left; \">&nbsp;</th>\n",
       "<th colspan=\"3\" style=\"border-top: double; text-align:center; font-style:normal; font-weight:bold; padding:0.2cm; \">per heavy drink days</th>\n",
       "</tr>\n",
       "<tr>\n",
       "<td style=\" text-align:center; border-bottom:1px solid; font-style:italic; font-weight:normal;  text-align:left; \">Predictors</td>\n",
       "<td style=\" text-align:center; border-bottom:1px solid; font-style:italic; font-weight:normal;  \">Estimates</td>\n",
       "<td style=\" text-align:center; border-bottom:1px solid; font-style:italic; font-weight:normal;  \">CI</td>\n",
       "<td style=\" text-align:center; border-bottom:1px solid; font-style:italic; font-weight:normal;  \">p</td>\n",
       "</tr>\n",
       "<tr>\n",
       "<td style=\" padding:0.2cm; text-align:left; vertical-align:top; text-align:left; \">outpatient yn ever [Yes]</td>\n",
       "<td style=\" padding:0.2cm; text-align:left; vertical-align:top; text-align:center;  \">&#45;7.44</td>\n",
       "<td style=\" padding:0.2cm; text-align:left; vertical-align:top; text-align:center;  \">&#45;15.72&nbsp;&ndash;&nbsp;0.84</td>\n",
       "<td style=\" padding:0.2cm; text-align:left; vertical-align:top; text-align:center;  \">0.078</td>\n",
       "</tr>\n",
       "\n",
       "<tr>\n",
       "<td style=\" padding:0.2cm; text-align:left; vertical-align:top; text-align:left; padding-top:0.1cm; padding-bottom:0.1cm;\">N <sub>study_id</sub></td>\n",
       "<td style=\" padding:0.2cm; text-align:left; vertical-align:top; padding-top:0.1cm; padding-bottom:0.1cm; text-align:left;\" colspan=\"3\">158</td>\n",
       "<tr>\n",
       "<td style=\" padding:0.2cm; text-align:left; vertical-align:top; text-align:left; padding-top:0.1cm; padding-bottom:0.1cm; border-top:1px solid;\">Observations</td>\n",
       "<td style=\" padding:0.2cm; text-align:left; vertical-align:top; padding-top:0.1cm; padding-bottom:0.1cm; text-align:left; border-top:1px solid;\" colspan=\"3\">430</td>\n",
       "</tr>\n",
       "<tr>\n",
       "<td style=\" padding:0.2cm; text-align:left; vertical-align:top; text-align:left; padding-top:0.1cm; padding-bottom:0.1cm;\">Marginal R<sup>2</sup> / Conditional R<sup>2</sup></td>\n",
       "<td style=\" padding:0.2cm; text-align:left; vertical-align:top; padding-top:0.1cm; padding-bottom:0.1cm; text-align:left;\" colspan=\"3\">0.284 / 0.764</td>\n",
       "</tr>\n",
       "\n",
       "</table>\n"
      ]
     }
    }
   ],
   "source": [
    "lmer(per_heavy_drink_days ~ time_c*arm_c + hdd_0 + outpatient_yn_ever + \n",
    "       (1 + time_c | study_id), data = subset(data, dyad ==  \"Patient\")) |> \n",
    "  sjPlot::tab_model(show.re.var = F, show.icc = F, \n",
    "                    terms = c(\"outpatient_yn_everYes\"))\n"
   ],
   "id": "0404cf4e-253d-4eb7-9385-1025b2885ce8"
  },
  {
   "cell_type": "markdown",
   "metadata": {},
   "source": [
    "`er_yn_ever` - **significant**"
   ],
   "id": "5056deea-a862-4887-8574-cefa208c7a80"
  },
  {
   "cell_type": "code",
   "execution_count": null,
   "metadata": {},
   "outputs": [
    {
     "output_type": "display_data",
     "metadata": {},
     "data": {
      "text/html": [
       "<table style=\"border-collapse:collapse; border:none;\">\n",
       "<tr>\n",
       "<th style=\"border-top: double; text-align:center; font-style:normal; font-weight:bold; padding:0.2cm;  text-align:left; \">&nbsp;</th>\n",
       "<th colspan=\"3\" style=\"border-top: double; text-align:center; font-style:normal; font-weight:bold; padding:0.2cm; \">per heavy drink days</th>\n",
       "</tr>\n",
       "<tr>\n",
       "<td style=\" text-align:center; border-bottom:1px solid; font-style:italic; font-weight:normal;  text-align:left; \">Predictors</td>\n",
       "<td style=\" text-align:center; border-bottom:1px solid; font-style:italic; font-weight:normal;  \">Estimates</td>\n",
       "<td style=\" text-align:center; border-bottom:1px solid; font-style:italic; font-weight:normal;  \">CI</td>\n",
       "<td style=\" text-align:center; border-bottom:1px solid; font-style:italic; font-weight:normal;  \">p</td>\n",
       "</tr>\n",
       "<tr>\n",
       "<td style=\" padding:0.2cm; text-align:left; vertical-align:top; text-align:left; \">er yn ever [Yes]</td>\n",
       "<td style=\" padding:0.2cm; text-align:left; vertical-align:top; text-align:center;  \">&#45;10.40</td>\n",
       "<td style=\" padding:0.2cm; text-align:left; vertical-align:top; text-align:center;  \">&#45;18.85&nbsp;&ndash;&nbsp;-1.95</td>\n",
       "<td style=\" padding:0.2cm; text-align:left; vertical-align:top; text-align:center;  \"><strong>0.016</strong></td>\n",
       "</tr>\n",
       "\n",
       "<tr>\n",
       "<td style=\" padding:0.2cm; text-align:left; vertical-align:top; text-align:left; padding-top:0.1cm; padding-bottom:0.1cm;\">N <sub>study_id</sub></td>\n",
       "<td style=\" padding:0.2cm; text-align:left; vertical-align:top; padding-top:0.1cm; padding-bottom:0.1cm; text-align:left;\" colspan=\"3\">158</td>\n",
       "<tr>\n",
       "<td style=\" padding:0.2cm; text-align:left; vertical-align:top; text-align:left; padding-top:0.1cm; padding-bottom:0.1cm; border-top:1px solid;\">Observations</td>\n",
       "<td style=\" padding:0.2cm; text-align:left; vertical-align:top; padding-top:0.1cm; padding-bottom:0.1cm; text-align:left; border-top:1px solid;\" colspan=\"3\">430</td>\n",
       "</tr>\n",
       "<tr>\n",
       "<td style=\" padding:0.2cm; text-align:left; vertical-align:top; text-align:left; padding-top:0.1cm; padding-bottom:0.1cm;\">Marginal R<sup>2</sup> / Conditional R<sup>2</sup></td>\n",
       "<td style=\" padding:0.2cm; text-align:left; vertical-align:top; padding-top:0.1cm; padding-bottom:0.1cm; text-align:left;\" colspan=\"3\">0.284 / 0.761</td>\n",
       "</tr>\n",
       "\n",
       "</table>\n"
      ]
     }
    }
   ],
   "source": [
    "lmer(per_heavy_drink_days ~ time_c*arm_c + hdd_0 + er_yn_ever + \n",
    "       (1 + time_c | study_id), data = subset(data, dyad ==  \"Patient\")) |> \n",
    "  sjPlot::tab_model(show.re.var = F, show.icc = F, terms = c(\"er_yn_everYes\"))\n"
   ],
   "id": "2c1b664e-c522-42a5-bd27-fafe0d1d5f56"
  },
  {
   "cell_type": "markdown",
   "metadata": {},
   "source": [
    "`mat_yn` - not significant"
   ],
   "id": "a4622786-12a1-416c-8d7b-3eea0feb52a6"
  },
  {
   "cell_type": "code",
   "execution_count": null,
   "metadata": {},
   "outputs": [
    {
     "output_type": "display_data",
     "metadata": {},
     "data": {
      "text/html": [
       "<table style=\"border-collapse:collapse; border:none;\">\n",
       "<tr>\n",
       "<th style=\"border-top: double; text-align:center; font-style:normal; font-weight:bold; padding:0.2cm;  text-align:left; \">&nbsp;</th>\n",
       "<th colspan=\"3\" style=\"border-top: double; text-align:center; font-style:normal; font-weight:bold; padding:0.2cm; \">per heavy drink days</th>\n",
       "</tr>\n",
       "<tr>\n",
       "<td style=\" text-align:center; border-bottom:1px solid; font-style:italic; font-weight:normal;  text-align:left; \">Predictors</td>\n",
       "<td style=\" text-align:center; border-bottom:1px solid; font-style:italic; font-weight:normal;  \">Estimates</td>\n",
       "<td style=\" text-align:center; border-bottom:1px solid; font-style:italic; font-weight:normal;  \">CI</td>\n",
       "<td style=\" text-align:center; border-bottom:1px solid; font-style:italic; font-weight:normal;  \">p</td>\n",
       "</tr>\n",
       "<tr>\n",
       "<td style=\" padding:0.2cm; text-align:left; vertical-align:top; text-align:left; \">mat yn [Yes]</td>\n",
       "<td style=\" padding:0.2cm; text-align:left; vertical-align:top; text-align:center;  \">1.49</td>\n",
       "<td style=\" padding:0.2cm; text-align:left; vertical-align:top; text-align:center;  \">&#45;6.36&nbsp;&ndash;&nbsp;9.34</td>\n",
       "<td style=\" padding:0.2cm; text-align:left; vertical-align:top; text-align:center;  \">0.709</td>\n",
       "</tr>\n",
       "\n",
       "<tr>\n",
       "<td style=\" padding:0.2cm; text-align:left; vertical-align:top; text-align:left; padding-top:0.1cm; padding-bottom:0.1cm;\">N <sub>study_id</sub></td>\n",
       "<td style=\" padding:0.2cm; text-align:left; vertical-align:top; padding-top:0.1cm; padding-bottom:0.1cm; text-align:left;\" colspan=\"3\">158</td>\n",
       "<tr>\n",
       "<td style=\" padding:0.2cm; text-align:left; vertical-align:top; text-align:left; padding-top:0.1cm; padding-bottom:0.1cm; border-top:1px solid;\">Observations</td>\n",
       "<td style=\" padding:0.2cm; text-align:left; vertical-align:top; padding-top:0.1cm; padding-bottom:0.1cm; text-align:left; border-top:1px solid;\" colspan=\"3\">410</td>\n",
       "</tr>\n",
       "<tr>\n",
       "<td style=\" padding:0.2cm; text-align:left; vertical-align:top; text-align:left; padding-top:0.1cm; padding-bottom:0.1cm;\">Marginal R<sup>2</sup> / Conditional R<sup>2</sup></td>\n",
       "<td style=\" padding:0.2cm; text-align:left; vertical-align:top; padding-top:0.1cm; padding-bottom:0.1cm; text-align:left;\" colspan=\"3\">0.259 / 0.751</td>\n",
       "</tr>\n",
       "\n",
       "</table>\n"
      ]
     }
    }
   ],
   "source": [
    "lmer(per_heavy_drink_days ~ time_c*arm_c + hdd_0 + mat_yn + \n",
    "       (1 + time_c | study_id), data = subset(data, dyad == \"Patient\")) |> \n",
    "  sjPlot::tab_model(show.re.var = F, show.icc = F, terms = c(\"mat_ynYes\"))\n"
   ],
   "id": "4995ef1f-dc1f-41ce-ae21-702a2f38fd87"
  },
  {
   "cell_type": "markdown",
   "metadata": {},
   "source": [
    "`inpatient_yn_ever` - **significant**"
   ],
   "id": "937149b1-c228-4993-9745-d7627806c1e3"
  },
  {
   "cell_type": "code",
   "execution_count": null,
   "metadata": {},
   "outputs": [
    {
     "output_type": "display_data",
     "metadata": {},
     "data": {
      "text/html": [
       "<table style=\"border-collapse:collapse; border:none;\">\n",
       "<tr>\n",
       "<th style=\"border-top: double; text-align:center; font-style:normal; font-weight:bold; padding:0.2cm;  text-align:left; \">&nbsp;</th>\n",
       "<th colspan=\"3\" style=\"border-top: double; text-align:center; font-style:normal; font-weight:bold; padding:0.2cm; \">per heavy drink days</th>\n",
       "</tr>\n",
       "<tr>\n",
       "<td style=\" text-align:center; border-bottom:1px solid; font-style:italic; font-weight:normal;  text-align:left; \">Predictors</td>\n",
       "<td style=\" text-align:center; border-bottom:1px solid; font-style:italic; font-weight:normal;  \">Estimates</td>\n",
       "<td style=\" text-align:center; border-bottom:1px solid; font-style:italic; font-weight:normal;  \">CI</td>\n",
       "<td style=\" text-align:center; border-bottom:1px solid; font-style:italic; font-weight:normal;  \">p</td>\n",
       "</tr>\n",
       "<tr>\n",
       "<td style=\" padding:0.2cm; text-align:left; vertical-align:top; text-align:left; \">inpatient yn ever [Yes]</td>\n",
       "<td style=\" padding:0.2cm; text-align:left; vertical-align:top; text-align:center;  \">&#45;10.03</td>\n",
       "<td style=\" padding:0.2cm; text-align:left; vertical-align:top; text-align:center;  \">&#45;19.83&nbsp;&ndash;&nbsp;-0.24</td>\n",
       "<td style=\" padding:0.2cm; text-align:left; vertical-align:top; text-align:center;  \"><strong>0.045</strong></td>\n",
       "</tr>\n",
       "\n",
       "<tr>\n",
       "<td style=\" padding:0.2cm; text-align:left; vertical-align:top; text-align:left; padding-top:0.1cm; padding-bottom:0.1cm;\">N <sub>study_id</sub></td>\n",
       "<td style=\" padding:0.2cm; text-align:left; vertical-align:top; padding-top:0.1cm; padding-bottom:0.1cm; text-align:left;\" colspan=\"3\">158</td>\n",
       "<tr>\n",
       "<td style=\" padding:0.2cm; text-align:left; vertical-align:top; text-align:left; padding-top:0.1cm; padding-bottom:0.1cm; border-top:1px solid;\">Observations</td>\n",
       "<td style=\" padding:0.2cm; text-align:left; vertical-align:top; padding-top:0.1cm; padding-bottom:0.1cm; text-align:left; border-top:1px solid;\" colspan=\"3\">430</td>\n",
       "</tr>\n",
       "<tr>\n",
       "<td style=\" padding:0.2cm; text-align:left; vertical-align:top; text-align:left; padding-top:0.1cm; padding-bottom:0.1cm;\">Marginal R<sup>2</sup> / Conditional R<sup>2</sup></td>\n",
       "<td style=\" padding:0.2cm; text-align:left; vertical-align:top; padding-top:0.1cm; padding-bottom:0.1cm; text-align:left;\" colspan=\"3\">0.282 / 0.764</td>\n",
       "</tr>\n",
       "\n",
       "</table>\n"
      ]
     }
    }
   ],
   "source": [
    "lmer(per_heavy_drink_days ~ time_c*arm_c + hdd_0 + inpatient_yn_ever + \n",
    "       (1 + time_c | study_id), data = subset(data, dyad ==  \"Patient\")) |> \n",
    "  sjPlot::tab_model(show.re.var = F, show.icc = F, \n",
    "                    terms = c(\"inpatient_yn_everYes\"))\n"
   ],
   "id": "6fbf1bc8-bc97-4c8f-bbcd-b59fc1fcbda5"
  },
  {
   "cell_type": "markdown",
   "metadata": {},
   "source": [
    "`other_psych_treatment_yn` - not significant"
   ],
   "id": "59cc5ca2-6226-4945-b617-7a4a385dd888"
  },
  {
   "cell_type": "code",
   "execution_count": null,
   "metadata": {},
   "outputs": [
    {
     "output_type": "display_data",
     "metadata": {},
     "data": {
      "text/html": [
       "<table style=\"border-collapse:collapse; border:none;\">\n",
       "<tr>\n",
       "<th style=\"border-top: double; text-align:center; font-style:normal; font-weight:bold; padding:0.2cm;  text-align:left; \">&nbsp;</th>\n",
       "<th colspan=\"3\" style=\"border-top: double; text-align:center; font-style:normal; font-weight:bold; padding:0.2cm; \">per heavy drink days</th>\n",
       "</tr>\n",
       "<tr>\n",
       "<td style=\" text-align:center; border-bottom:1px solid; font-style:italic; font-weight:normal;  text-align:left; \">Predictors</td>\n",
       "<td style=\" text-align:center; border-bottom:1px solid; font-style:italic; font-weight:normal;  \">Estimates</td>\n",
       "<td style=\" text-align:center; border-bottom:1px solid; font-style:italic; font-weight:normal;  \">CI</td>\n",
       "<td style=\" text-align:center; border-bottom:1px solid; font-style:italic; font-weight:normal;  \">p</td>\n",
       "</tr>\n",
       "<tr>\n",
       "<td style=\" padding:0.2cm; text-align:left; vertical-align:top; text-align:left; \">other psych treatment yn<br>[Yes]</td>\n",
       "<td style=\" padding:0.2cm; text-align:left; vertical-align:top; text-align:center;  \">1.20</td>\n",
       "<td style=\" padding:0.2cm; text-align:left; vertical-align:top; text-align:center;  \">&#45;5.23&nbsp;&ndash;&nbsp;7.63</td>\n",
       "<td style=\" padding:0.2cm; text-align:left; vertical-align:top; text-align:center;  \">0.713</td>\n",
       "</tr>\n",
       "\n",
       "<tr>\n",
       "<td style=\" padding:0.2cm; text-align:left; vertical-align:top; text-align:left; padding-top:0.1cm; padding-bottom:0.1cm;\">N <sub>study_id</sub></td>\n",
       "<td style=\" padding:0.2cm; text-align:left; vertical-align:top; padding-top:0.1cm; padding-bottom:0.1cm; text-align:left;\" colspan=\"3\">158</td>\n",
       "<tr>\n",
       "<td style=\" padding:0.2cm; text-align:left; vertical-align:top; text-align:left; padding-top:0.1cm; padding-bottom:0.1cm; border-top:1px solid;\">Observations</td>\n",
       "<td style=\" padding:0.2cm; text-align:left; vertical-align:top; padding-top:0.1cm; padding-bottom:0.1cm; text-align:left; border-top:1px solid;\" colspan=\"3\">413</td>\n",
       "</tr>\n",
       "<tr>\n",
       "<td style=\" padding:0.2cm; text-align:left; vertical-align:top; text-align:left; padding-top:0.1cm; padding-bottom:0.1cm;\">Marginal R<sup>2</sup> / Conditional R<sup>2</sup></td>\n",
       "<td style=\" padding:0.2cm; text-align:left; vertical-align:top; padding-top:0.1cm; padding-bottom:0.1cm; text-align:left;\" colspan=\"3\">0.259 / 0.753</td>\n",
       "</tr>\n",
       "\n",
       "</table>\n"
      ]
     }
    }
   ],
   "source": [
    "lmer(per_heavy_drink_days ~ time_c*arm_c + hdd_0 + other_psych_treatment_yn + \n",
    "       (1 + time_c | study_id), data = subset(data, dyad ==  \"Patient\")) |> \n",
    "  sjPlot::tab_model(show.re.var = F, show.icc = F, \n",
    "                    terms = c(\"other_psych_treatment_ynYes\"))\n"
   ],
   "id": "90f44b4b-4327-4f1b-b396-428998d62c98"
  },
  {
   "cell_type": "markdown",
   "metadata": {},
   "source": [
    "`other_medications_yn` - not significant"
   ],
   "id": "53af7485-8b58-4d73-bf8c-e59d11b28697"
  },
  {
   "cell_type": "code",
   "execution_count": null,
   "metadata": {},
   "outputs": [
    {
     "output_type": "display_data",
     "metadata": {},
     "data": {
      "text/html": [
       "<table style=\"border-collapse:collapse; border:none;\">\n",
       "<tr>\n",
       "<th style=\"border-top: double; text-align:center; font-style:normal; font-weight:bold; padding:0.2cm;  text-align:left; \">&nbsp;</th>\n",
       "<th colspan=\"3\" style=\"border-top: double; text-align:center; font-style:normal; font-weight:bold; padding:0.2cm; \">per heavy drink days</th>\n",
       "</tr>\n",
       "<tr>\n",
       "<td style=\" text-align:center; border-bottom:1px solid; font-style:italic; font-weight:normal;  text-align:left; \">Predictors</td>\n",
       "<td style=\" text-align:center; border-bottom:1px solid; font-style:italic; font-weight:normal;  \">Estimates</td>\n",
       "<td style=\" text-align:center; border-bottom:1px solid; font-style:italic; font-weight:normal;  \">CI</td>\n",
       "<td style=\" text-align:center; border-bottom:1px solid; font-style:italic; font-weight:normal;  \">p</td>\n",
       "</tr>\n",
       "<tr>\n",
       "<td style=\" padding:0.2cm; text-align:left; vertical-align:top; text-align:left; \">other medications yn<br>[Yes]</td>\n",
       "<td style=\" padding:0.2cm; text-align:left; vertical-align:top; text-align:center;  \">&#45;3.36</td>\n",
       "<td style=\" padding:0.2cm; text-align:left; vertical-align:top; text-align:center;  \">&#45;9.56&nbsp;&ndash;&nbsp;2.84</td>\n",
       "<td style=\" padding:0.2cm; text-align:left; vertical-align:top; text-align:center;  \">0.287</td>\n",
       "</tr>\n",
       "\n",
       "<tr>\n",
       "<td style=\" padding:0.2cm; text-align:left; vertical-align:top; text-align:left; padding-top:0.1cm; padding-bottom:0.1cm;\">N <sub>study_id</sub></td>\n",
       "<td style=\" padding:0.2cm; text-align:left; vertical-align:top; padding-top:0.1cm; padding-bottom:0.1cm; text-align:left;\" colspan=\"3\">158</td>\n",
       "<tr>\n",
       "<td style=\" padding:0.2cm; text-align:left; vertical-align:top; text-align:left; padding-top:0.1cm; padding-bottom:0.1cm; border-top:1px solid;\">Observations</td>\n",
       "<td style=\" padding:0.2cm; text-align:left; vertical-align:top; padding-top:0.1cm; padding-bottom:0.1cm; text-align:left; border-top:1px solid;\" colspan=\"3\">409</td>\n",
       "</tr>\n",
       "<tr>\n",
       "<td style=\" padding:0.2cm; text-align:left; vertical-align:top; text-align:left; padding-top:0.1cm; padding-bottom:0.1cm;\">Marginal R<sup>2</sup> / Conditional R<sup>2</sup></td>\n",
       "<td style=\" padding:0.2cm; text-align:left; vertical-align:top; padding-top:0.1cm; padding-bottom:0.1cm; text-align:left;\" colspan=\"3\">0.261 / 0.754</td>\n",
       "</tr>\n",
       "\n",
       "</table>\n"
      ]
     }
    }
   ],
   "source": [
    "lmer(per_heavy_drink_days ~ time_c*arm_c + hdd_0 + other_medications_yn + \n",
    "       (1 + time_c | study_id), data = subset(data, dyad ==  \"Patient\")) |> \n",
    "  sjPlot::tab_model(show.re.var = F, show.icc = F, \n",
    "                    terms = c(\"other_medications_ynYes\"))\n"
   ],
   "id": "f440bb72-118a-4e5f-be8c-83757eb5e0fc"
  },
  {
   "cell_type": "markdown",
   "metadata": {},
   "source": [
    "##### Final Model with Significant Covariates"
   ],
   "id": "767e55da-d69e-438f-919b-b931af34f1c3"
  },
  {
   "cell_type": "code",
   "execution_count": null,
   "metadata": {},
   "outputs": [
    {
     "output_type": "display_data",
     "metadata": {},
     "data": {
      "text/html": [
       "<table style=\"border-collapse:collapse; border:none;\">\n",
       "<tr>\n",
       "<th style=\"border-top: double; text-align:center; font-style:normal; font-weight:bold; padding:0.2cm;  text-align:left; \">&nbsp;</th>\n",
       "<th colspan=\"3\" style=\"border-top: double; text-align:center; font-style:normal; font-weight:bold; padding:0.2cm; \">per heavy drink days</th>\n",
       "</tr>\n",
       "<tr>\n",
       "<td style=\" text-align:center; border-bottom:1px solid; font-style:italic; font-weight:normal;  text-align:left; \">Predictors</td>\n",
       "<td style=\" text-align:center; border-bottom:1px solid; font-style:italic; font-weight:normal;  \">Estimates</td>\n",
       "<td style=\" text-align:center; border-bottom:1px solid; font-style:italic; font-weight:normal;  \">CI</td>\n",
       "<td style=\" text-align:center; border-bottom:1px solid; font-style:italic; font-weight:normal;  \">p</td>\n",
       "</tr>\n",
       "<tr>\n",
       "<td style=\" padding:0.2cm; text-align:left; vertical-align:top; text-align:left; \">(Intercept)</td>\n",
       "<td style=\" padding:0.2cm; text-align:left; vertical-align:top; text-align:center;  \">27.91</td>\n",
       "<td style=\" padding:0.2cm; text-align:left; vertical-align:top; text-align:center;  \">23.34&nbsp;&ndash;&nbsp;32.47</td>\n",
       "<td style=\" padding:0.2cm; text-align:left; vertical-align:top; text-align:center;  \"><strong>&lt;0.001</strong></td>\n",
       "</tr>\n",
       "<tr>\n",
       "<td style=\" padding:0.2cm; text-align:left; vertical-align:top; text-align:left; \">time c</td>\n",
       "<td style=\" padding:0.2cm; text-align:left; vertical-align:top; text-align:center;  \">&#45;5.11</td>\n",
       "<td style=\" padding:0.2cm; text-align:left; vertical-align:top; text-align:center;  \">&#45;7.65&nbsp;&ndash;&nbsp;-2.57</td>\n",
       "<td style=\" padding:0.2cm; text-align:left; vertical-align:top; text-align:center;  \"><strong>&lt;0.001</strong></td>\n",
       "</tr>\n",
       "<tr>\n",
       "<td style=\" padding:0.2cm; text-align:left; vertical-align:top; text-align:left; \">arm cfam and achess vs C</td>\n",
       "<td style=\" padding:0.2cm; text-align:left; vertical-align:top; text-align:center;  \">&#45;2.50</td>\n",
       "<td style=\" padding:0.2cm; text-align:left; vertical-align:top; text-align:center;  \">&#45;10.47&nbsp;&ndash;&nbsp;5.47</td>\n",
       "<td style=\" padding:0.2cm; text-align:left; vertical-align:top; text-align:center;  \">0.538</td>\n",
       "</tr>\n",
       "<tr>\n",
       "<td style=\" padding:0.2cm; text-align:left; vertical-align:top; text-align:left; \">arm cachess vs fam</td>\n",
       "<td style=\" padding:0.2cm; text-align:left; vertical-align:top; text-align:center;  \">4.81</td>\n",
       "<td style=\" padding:0.2cm; text-align:left; vertical-align:top; text-align:center;  \">&#45;4.42&nbsp;&ndash;&nbsp;14.04</td>\n",
       "<td style=\" padding:0.2cm; text-align:left; vertical-align:top; text-align:center;  \">0.307</td>\n",
       "</tr>\n",
       "<tr>\n",
       "<td style=\" padding:0.2cm; text-align:left; vertical-align:top; text-align:left; \">hdd 0</td>\n",
       "<td style=\" padding:0.2cm; text-align:left; vertical-align:top; text-align:center;  \">0.47</td>\n",
       "<td style=\" padding:0.2cm; text-align:left; vertical-align:top; text-align:center;  \">0.36&nbsp;&ndash;&nbsp;0.57</td>\n",
       "<td style=\" padding:0.2cm; text-align:left; vertical-align:top; text-align:center;  \"><strong>&lt;0.001</strong></td>\n",
       "</tr>\n",
       "<tr>\n",
       "<td style=\" padding:0.2cm; text-align:left; vertical-align:top; text-align:left; \">inpatient yn ever [Yes]</td>\n",
       "<td style=\" padding:0.2cm; text-align:left; vertical-align:top; text-align:center;  \">&#45;7.22</td>\n",
       "<td style=\" padding:0.2cm; text-align:left; vertical-align:top; text-align:center;  \">&#45;17.39&nbsp;&ndash;&nbsp;2.96</td>\n",
       "<td style=\" padding:0.2cm; text-align:left; vertical-align:top; text-align:center;  \">0.164</td>\n",
       "</tr>\n",
       "<tr>\n",
       "<td style=\" padding:0.2cm; text-align:left; vertical-align:top; text-align:left; \">er yn ever [Yes]</td>\n",
       "<td style=\" padding:0.2cm; text-align:left; vertical-align:top; text-align:center;  \">&#45;8.59</td>\n",
       "<td style=\" padding:0.2cm; text-align:left; vertical-align:top; text-align:center;  \">&#45;17.47&nbsp;&ndash;&nbsp;0.28</td>\n",
       "<td style=\" padding:0.2cm; text-align:left; vertical-align:top; text-align:center;  \">0.058</td>\n",
       "</tr>\n",
       "<tr>\n",
       "<td style=\" padding:0.2cm; text-align:left; vertical-align:top; text-align:left; \">time c × arm cfam and<br>achess vs C</td>\n",
       "<td style=\" padding:0.2cm; text-align:left; vertical-align:top; text-align:center;  \">&#45;6.72</td>\n",
       "<td style=\" padding:0.2cm; text-align:left; vertical-align:top; text-align:center;  \">&#45;12.06&nbsp;&ndash;&nbsp;-1.38</td>\n",
       "<td style=\" padding:0.2cm; text-align:left; vertical-align:top; text-align:center;  \"><strong>0.014</strong></td>\n",
       "</tr>\n",
       "<tr>\n",
       "<td style=\" padding:0.2cm; text-align:left; vertical-align:top; text-align:left; \">time c × arm cachess vs<br>fam</td>\n",
       "<td style=\" padding:0.2cm; text-align:left; vertical-align:top; text-align:center;  \">2.32</td>\n",
       "<td style=\" padding:0.2cm; text-align:left; vertical-align:top; text-align:center;  \">&#45;3.96&nbsp;&ndash;&nbsp;8.60</td>\n",
       "<td style=\" padding:0.2cm; text-align:left; vertical-align:top; text-align:center;  \">0.469</td>\n",
       "</tr>\n",
       "\n",
       "<tr>\n",
       "<td style=\" padding:0.2cm; text-align:left; vertical-align:top; text-align:left; padding-top:0.1cm; padding-bottom:0.1cm;\">N <sub>study_id</sub></td>\n",
       "<td style=\" padding:0.2cm; text-align:left; vertical-align:top; padding-top:0.1cm; padding-bottom:0.1cm; text-align:left;\" colspan=\"3\">158</td>\n",
       "<tr>\n",
       "<td style=\" padding:0.2cm; text-align:left; vertical-align:top; text-align:left; padding-top:0.1cm; padding-bottom:0.1cm; border-top:1px solid;\">Observations</td>\n",
       "<td style=\" padding:0.2cm; text-align:left; vertical-align:top; padding-top:0.1cm; padding-bottom:0.1cm; text-align:left; border-top:1px solid;\" colspan=\"3\">430</td>\n",
       "</tr>\n",
       "<tr>\n",
       "<td style=\" padding:0.2cm; text-align:left; vertical-align:top; text-align:left; padding-top:0.1cm; padding-bottom:0.1cm;\">Marginal R<sup>2</sup> / Conditional R<sup>2</sup></td>\n",
       "<td style=\" padding:0.2cm; text-align:left; vertical-align:top; padding-top:0.1cm; padding-bottom:0.1cm; text-align:left;\" colspan=\"3\">0.288 / 0.761</td>\n",
       "</tr>\n",
       "\n",
       "</table>\n"
      ]
     }
    }
   ],
   "source": [
    "lmer(per_heavy_drink_days ~ time_c*arm_c + hdd_0 + inpatient_yn_ever + \n",
    "       er_yn_ever + (1 + time_c | study_id), \n",
    "     data = subset(data, dyad ==  \"Patient\")) |> \n",
    "  sjPlot::tab_model(show.re.var = F, show.icc = F)\n"
   ],
   "id": "8f019084-3189-4e6f-ae99-95678e7f12ca"
  },
  {
   "cell_type": "markdown",
   "metadata": {},
   "source": [
    "#### Primary Partner Outcome: `oq45_scored`\n",
    "\n",
    "Distribution of residuals  \n",
    "*KW: Looks fine*"
   ],
   "id": "88c730ab-b960-405d-bd4a-7cb3589652b5"
  },
  {
   "cell_type": "code",
   "execution_count": null,
   "metadata": {},
   "outputs": [
    {
     "output_type": "display_data",
     "metadata": {},
     "data": {
      "image/png": "[encoded data removed]"
     }
    },
    {
     "output_type": "display_data",
     "metadata": {},
     "data": {
      "image/png": "[encoded data removed]"
     }
    }
   ],
   "source": [
    "model_partner_prim <- lmer(oq45_scored ~ time_c*arm_c + oq45_0 + \n",
    "                             (1 + time_c | study_id), \n",
    "                           data = subset(data, dyad == \"Partner\"))\n",
    "\n",
    "tibble(error = residuals(model_partner_prim)) |> \n",
    "  ggplot(aes(x = error)) +\n",
    "  geom_histogram(color = \"black\", fill = \"light grey\", bins = 30)\n"
   ],
   "id": "09e2394c-cf23-4954-8646-80729f418e1c"
  },
  {
   "cell_type": "markdown",
   "metadata": {},
   "source": [
    "##### Look for significant covariates (We will only include covariates that significantly predict the outcome).\n",
    "\n",
    "*Checking for sig covariates for partner and patient dyads*\n",
    "\n",
    "`race_white_only` - not significant"
   ],
   "id": "3d8d9430-6a71-43f5-af3d-1cfe466a2b53"
  },
  {
   "cell_type": "code",
   "execution_count": null,
   "metadata": {},
   "outputs": [
    {
     "output_type": "display_data",
     "metadata": {},
     "data": {
      "text/html": [
       "<table style=\"border-collapse:collapse; border:none;\">\n",
       "<tr>\n",
       "<th style=\"border-top: double; text-align:center; font-style:normal; font-weight:bold; padding:0.2cm;  text-align:left; \">&nbsp;</th>\n",
       "<th colspan=\"3\" style=\"border-top: double; text-align:center; font-style:normal; font-weight:bold; padding:0.2cm; \">oq 45 scored</th>\n",
       "</tr>\n",
       "<tr>\n",
       "<td style=\" text-align:center; border-bottom:1px solid; font-style:italic; font-weight:normal;  text-align:left; \">Predictors</td>\n",
       "<td style=\" text-align:center; border-bottom:1px solid; font-style:italic; font-weight:normal;  \">Estimates</td>\n",
       "<td style=\" text-align:center; border-bottom:1px solid; font-style:italic; font-weight:normal;  \">CI</td>\n",
       "<td style=\" text-align:center; border-bottom:1px solid; font-style:italic; font-weight:normal;  \">p</td>\n",
       "</tr>\n",
       "<tr>\n",
       "<td style=\" padding:0.2cm; text-align:left; vertical-align:top; text-align:left; \">race white only [Yes]</td>\n",
       "<td style=\" padding:0.2cm; text-align:left; vertical-align:top; text-align:center;  \">&#45;1.69</td>\n",
       "<td style=\" padding:0.2cm; text-align:left; vertical-align:top; text-align:center;  \">&#45;6.98&nbsp;&ndash;&nbsp;3.60</td>\n",
       "<td style=\" padding:0.2cm; text-align:left; vertical-align:top; text-align:center;  \">0.531</td>\n",
       "</tr>\n",
       "\n",
       "<tr>\n",
       "<td style=\" padding:0.2cm; text-align:left; vertical-align:top; text-align:left; padding-top:0.1cm; padding-bottom:0.1cm;\">N <sub>study_id</sub></td>\n",
       "<td style=\" padding:0.2cm; text-align:left; vertical-align:top; padding-top:0.1cm; padding-bottom:0.1cm; text-align:left;\" colspan=\"3\">170</td>\n",
       "<tr>\n",
       "<td style=\" padding:0.2cm; text-align:left; vertical-align:top; text-align:left; padding-top:0.1cm; padding-bottom:0.1cm; border-top:1px solid;\">Observations</td>\n",
       "<td style=\" padding:0.2cm; text-align:left; vertical-align:top; padding-top:0.1cm; padding-bottom:0.1cm; text-align:left; border-top:1px solid;\" colspan=\"3\">454</td>\n",
       "</tr>\n",
       "<tr>\n",
       "<td style=\" padding:0.2cm; text-align:left; vertical-align:top; text-align:left; padding-top:0.1cm; padding-bottom:0.1cm;\">Marginal R<sup>2</sup> / Conditional R<sup>2</sup></td>\n",
       "<td style=\" padding:0.2cm; text-align:left; vertical-align:top; padding-top:0.1cm; padding-bottom:0.1cm; text-align:left;\" colspan=\"3\">0.475 / 0.776</td>\n",
       "</tr>\n",
       "\n",
       "</table>\n"
      ]
     }
    },
    {
     "output_type": "display_data",
     "metadata": {},
     "data": {
      "text/html": [
       "<table style=\"border-collapse:collapse; border:none;\">\n",
       "<tr>\n",
       "<th style=\"border-top: double; text-align:center; font-style:normal; font-weight:bold; padding:0.2cm;  text-align:left; \">&nbsp;</th>\n",
       "<th colspan=\"3\" style=\"border-top: double; text-align:center; font-style:normal; font-weight:bold; padding:0.2cm; \">oq 45 scored</th>\n",
       "</tr>\n",
       "<tr>\n",
       "<td style=\" text-align:center; border-bottom:1px solid; font-style:italic; font-weight:normal;  text-align:left; \">Predictors</td>\n",
       "<td style=\" text-align:center; border-bottom:1px solid; font-style:italic; font-weight:normal;  \">Estimates</td>\n",
       "<td style=\" text-align:center; border-bottom:1px solid; font-style:italic; font-weight:normal;  \">CI</td>\n",
       "<td style=\" text-align:center; border-bottom:1px solid; font-style:italic; font-weight:normal;  \">p</td>\n",
       "</tr>\n",
       "<tr>\n",
       "<td style=\" padding:0.2cm; text-align:left; vertical-align:top; text-align:left; \">race white only [Yes]</td>\n",
       "<td style=\" padding:0.2cm; text-align:left; vertical-align:top; text-align:center;  \">0.19</td>\n",
       "<td style=\" padding:0.2cm; text-align:left; vertical-align:top; text-align:center;  \">&#45;5.59&nbsp;&ndash;&nbsp;5.97</td>\n",
       "<td style=\" padding:0.2cm; text-align:left; vertical-align:top; text-align:center;  \">0.949</td>\n",
       "</tr>\n",
       "\n",
       "<tr>\n",
       "<td style=\" padding:0.2cm; text-align:left; vertical-align:top; text-align:left; padding-top:0.1cm; padding-bottom:0.1cm;\">N <sub>study_id</sub></td>\n",
       "<td style=\" padding:0.2cm; text-align:left; vertical-align:top; padding-top:0.1cm; padding-bottom:0.1cm; text-align:left;\" colspan=\"3\">168</td>\n",
       "<tr>\n",
       "<td style=\" padding:0.2cm; text-align:left; vertical-align:top; text-align:left; padding-top:0.1cm; padding-bottom:0.1cm; border-top:1px solid;\">Observations</td>\n",
       "<td style=\" padding:0.2cm; text-align:left; vertical-align:top; padding-top:0.1cm; padding-bottom:0.1cm; text-align:left; border-top:1px solid;\" colspan=\"3\">436</td>\n",
       "</tr>\n",
       "<tr>\n",
       "<td style=\" padding:0.2cm; text-align:left; vertical-align:top; text-align:left; padding-top:0.1cm; padding-bottom:0.1cm;\">Marginal R<sup>2</sup> / Conditional R<sup>2</sup></td>\n",
       "<td style=\" padding:0.2cm; text-align:left; vertical-align:top; padding-top:0.1cm; padding-bottom:0.1cm; text-align:left;\" colspan=\"3\">0.436 / 0.803</td>\n",
       "</tr>\n",
       "\n",
       "</table>\n"
      ]
     }
    }
   ],
   "source": [
    "lmer(oq45_scored ~ time_c*arm_c + oq45_0 + race_white_only +\n",
    "       (1 + time_c | study_id), data = subset(data, dyad == \"Partner\")) |> \n",
    "  sjPlot::tab_model(show.re.var = F, show.icc = F, \n",
    "                    terms = c(\"race_white_onlyYes\"))\n"
   ],
   "id": "d7b846a6-e2c9-45ee-aa23-78d136d317a3"
  },
  {
   "cell_type": "markdown",
   "metadata": {},
   "source": [
    "`age_c` - not significant"
   ],
   "id": "8557bc40-2579-4d04-998c-7a433d2aed9e"
  },
  {
   "cell_type": "code",
   "execution_count": null,
   "metadata": {},
   "outputs": [
    {
     "output_type": "display_data",
     "metadata": {},
     "data": {
      "text/html": [
       "<table style=\"border-collapse:collapse; border:none;\">\n",
       "<tr>\n",
       "<th style=\"border-top: double; text-align:center; font-style:normal; font-weight:bold; padding:0.2cm;  text-align:left; \">&nbsp;</th>\n",
       "<th colspan=\"3\" style=\"border-top: double; text-align:center; font-style:normal; font-weight:bold; padding:0.2cm; \">oq 45 scored</th>\n",
       "</tr>\n",
       "<tr>\n",
       "<td style=\" text-align:center; border-bottom:1px solid; font-style:italic; font-weight:normal;  text-align:left; \">Predictors</td>\n",
       "<td style=\" text-align:center; border-bottom:1px solid; font-style:italic; font-weight:normal;  \">Estimates</td>\n",
       "<td style=\" text-align:center; border-bottom:1px solid; font-style:italic; font-weight:normal;  \">CI</td>\n",
       "<td style=\" text-align:center; border-bottom:1px solid; font-style:italic; font-weight:normal;  \">p</td>\n",
       "</tr>\n",
       "<tr>\n",
       "<td style=\" padding:0.2cm; text-align:left; vertical-align:top; text-align:left; \">age c</td>\n",
       "<td style=\" padding:0.2cm; text-align:left; vertical-align:top; text-align:center;  \">0.00</td>\n",
       "<td style=\" padding:0.2cm; text-align:left; vertical-align:top; text-align:center;  \">&#45;0.15&nbsp;&ndash;&nbsp;0.16</td>\n",
       "<td style=\" padding:0.2cm; text-align:left; vertical-align:top; text-align:center;  \">0.969</td>\n",
       "</tr>\n",
       "\n",
       "<tr>\n",
       "<td style=\" padding:0.2cm; text-align:left; vertical-align:top; text-align:left; padding-top:0.1cm; padding-bottom:0.1cm;\">N <sub>study_id</sub></td>\n",
       "<td style=\" padding:0.2cm; text-align:left; vertical-align:top; padding-top:0.1cm; padding-bottom:0.1cm; text-align:left;\" colspan=\"3\">170</td>\n",
       "<tr>\n",
       "<td style=\" padding:0.2cm; text-align:left; vertical-align:top; text-align:left; padding-top:0.1cm; padding-bottom:0.1cm; border-top:1px solid;\">Observations</td>\n",
       "<td style=\" padding:0.2cm; text-align:left; vertical-align:top; padding-top:0.1cm; padding-bottom:0.1cm; text-align:left; border-top:1px solid;\" colspan=\"3\">454</td>\n",
       "</tr>\n",
       "<tr>\n",
       "<td style=\" padding:0.2cm; text-align:left; vertical-align:top; text-align:left; padding-top:0.1cm; padding-bottom:0.1cm;\">Marginal R<sup>2</sup> / Conditional R<sup>2</sup></td>\n",
       "<td style=\" padding:0.2cm; text-align:left; vertical-align:top; padding-top:0.1cm; padding-bottom:0.1cm; text-align:left;\" colspan=\"3\">0.474 / 0.776</td>\n",
       "</tr>\n",
       "\n",
       "</table>\n"
      ]
     }
    },
    {
     "output_type": "display_data",
     "metadata": {},
     "data": {
      "text/html": [
       "<table style=\"border-collapse:collapse; border:none;\">\n",
       "<tr>\n",
       "<th style=\"border-top: double; text-align:center; font-style:normal; font-weight:bold; padding:0.2cm;  text-align:left; \">&nbsp;</th>\n",
       "<th colspan=\"3\" style=\"border-top: double; text-align:center; font-style:normal; font-weight:bold; padding:0.2cm; \">oq 45 scored</th>\n",
       "</tr>\n",
       "<tr>\n",
       "<td style=\" text-align:center; border-bottom:1px solid; font-style:italic; font-weight:normal;  text-align:left; \">Predictors</td>\n",
       "<td style=\" text-align:center; border-bottom:1px solid; font-style:italic; font-weight:normal;  \">Estimates</td>\n",
       "<td style=\" text-align:center; border-bottom:1px solid; font-style:italic; font-weight:normal;  \">CI</td>\n",
       "<td style=\" text-align:center; border-bottom:1px solid; font-style:italic; font-weight:normal;  \">p</td>\n",
       "</tr>\n",
       "<tr>\n",
       "<td style=\" padding:0.2cm; text-align:left; vertical-align:top; text-align:left; \">age c</td>\n",
       "<td style=\" padding:0.2cm; text-align:left; vertical-align:top; text-align:center;  \">0.10</td>\n",
       "<td style=\" padding:0.2cm; text-align:left; vertical-align:top; text-align:center;  \">&#45;0.11&nbsp;&ndash;&nbsp;0.30</td>\n",
       "<td style=\" padding:0.2cm; text-align:left; vertical-align:top; text-align:center;  \">0.350</td>\n",
       "</tr>\n",
       "\n",
       "<tr>\n",
       "<td style=\" padding:0.2cm; text-align:left; vertical-align:top; text-align:left; padding-top:0.1cm; padding-bottom:0.1cm;\">N <sub>study_id</sub></td>\n",
       "<td style=\" padding:0.2cm; text-align:left; vertical-align:top; padding-top:0.1cm; padding-bottom:0.1cm; text-align:left;\" colspan=\"3\">167</td>\n",
       "<tr>\n",
       "<td style=\" padding:0.2cm; text-align:left; vertical-align:top; text-align:left; padding-top:0.1cm; padding-bottom:0.1cm; border-top:1px solid;\">Observations</td>\n",
       "<td style=\" padding:0.2cm; text-align:left; vertical-align:top; padding-top:0.1cm; padding-bottom:0.1cm; text-align:left; border-top:1px solid;\" colspan=\"3\">433</td>\n",
       "</tr>\n",
       "<tr>\n",
       "<td style=\" padding:0.2cm; text-align:left; vertical-align:top; text-align:left; padding-top:0.1cm; padding-bottom:0.1cm;\">Marginal R<sup>2</sup> / Conditional R<sup>2</sup></td>\n",
       "<td style=\" padding:0.2cm; text-align:left; vertical-align:top; padding-top:0.1cm; padding-bottom:0.1cm; text-align:left;\" colspan=\"3\">0.440 / 0.801</td>\n",
       "</tr>\n",
       "\n",
       "</table>\n"
      ]
     }
    }
   ],
   "source": [
    "lmer(oq45_scored ~ time_c*arm_c + oq45_0 + age_c + (1 + time_c | study_id), \n",
    "     data = subset(data, dyad == \"Partner\")) |> \n",
    "  sjPlot::tab_model(show.re.var = F, show.icc = F, terms = c(\"age_c\"))\n"
   ],
   "id": "d9e945d8-5a5d-4612-b18d-10e91cbb2b5e"
  },
  {
   "cell_type": "markdown",
   "metadata": {},
   "source": [
    "`edu_c` - **significant for partner but not patient**"
   ],
   "id": "c1299896-503d-4318-9551-fa0b0b0ca227"
  },
  {
   "cell_type": "code",
   "execution_count": null,
   "metadata": {},
   "outputs": [
    {
     "output_type": "display_data",
     "metadata": {},
     "data": {
      "text/html": [
       "<table style=\"border-collapse:collapse; border:none;\">\n",
       "<tr>\n",
       "<th style=\"border-top: double; text-align:center; font-style:normal; font-weight:bold; padding:0.2cm;  text-align:left; \">&nbsp;</th>\n",
       "<th colspan=\"3\" style=\"border-top: double; text-align:center; font-style:normal; font-weight:bold; padding:0.2cm; \">oq 45 scored</th>\n",
       "</tr>\n",
       "<tr>\n",
       "<td style=\" text-align:center; border-bottom:1px solid; font-style:italic; font-weight:normal;  text-align:left; \">Predictors</td>\n",
       "<td style=\" text-align:center; border-bottom:1px solid; font-style:italic; font-weight:normal;  \">Estimates</td>\n",
       "<td style=\" text-align:center; border-bottom:1px solid; font-style:italic; font-weight:normal;  \">CI</td>\n",
       "<td style=\" text-align:center; border-bottom:1px solid; font-style:italic; font-weight:normal;  \">p</td>\n",
       "</tr>\n",
       "<tr>\n",
       "<td style=\" padding:0.2cm; text-align:left; vertical-align:top; text-align:left; \">edu c</td>\n",
       "<td style=\" padding:0.2cm; text-align:left; vertical-align:top; text-align:center;  \">&#45;2.46</td>\n",
       "<td style=\" padding:0.2cm; text-align:left; vertical-align:top; text-align:center;  \">&#45;4.55&nbsp;&ndash;&nbsp;-0.37</td>\n",
       "<td style=\" padding:0.2cm; text-align:left; vertical-align:top; text-align:center;  \"><strong>0.021</strong></td>\n",
       "</tr>\n",
       "\n",
       "<tr>\n",
       "<td style=\" padding:0.2cm; text-align:left; vertical-align:top; text-align:left; padding-top:0.1cm; padding-bottom:0.1cm;\">N <sub>study_id</sub></td>\n",
       "<td style=\" padding:0.2cm; text-align:left; vertical-align:top; padding-top:0.1cm; padding-bottom:0.1cm; text-align:left;\" colspan=\"3\">170</td>\n",
       "<tr>\n",
       "<td style=\" padding:0.2cm; text-align:left; vertical-align:top; text-align:left; padding-top:0.1cm; padding-bottom:0.1cm; border-top:1px solid;\">Observations</td>\n",
       "<td style=\" padding:0.2cm; text-align:left; vertical-align:top; padding-top:0.1cm; padding-bottom:0.1cm; text-align:left; border-top:1px solid;\" colspan=\"3\">454</td>\n",
       "</tr>\n",
       "<tr>\n",
       "<td style=\" padding:0.2cm; text-align:left; vertical-align:top; text-align:left; padding-top:0.1cm; padding-bottom:0.1cm;\">Marginal R<sup>2</sup> / Conditional R<sup>2</sup></td>\n",
       "<td style=\" padding:0.2cm; text-align:left; vertical-align:top; padding-top:0.1cm; padding-bottom:0.1cm; text-align:left;\" colspan=\"3\">0.486 / 0.777</td>\n",
       "</tr>\n",
       "\n",
       "</table>\n"
      ]
     }
    },
    {
     "output_type": "display_data",
     "metadata": {},
     "data": {
      "text/html": [
       "<table style=\"border-collapse:collapse; border:none;\">\n",
       "<tr>\n",
       "<th style=\"border-top: double; text-align:center; font-style:normal; font-weight:bold; padding:0.2cm;  text-align:left; \">&nbsp;</th>\n",
       "<th colspan=\"3\" style=\"border-top: double; text-align:center; font-style:normal; font-weight:bold; padding:0.2cm; \">oq 45 scored</th>\n",
       "</tr>\n",
       "<tr>\n",
       "<td style=\" text-align:center; border-bottom:1px solid; font-style:italic; font-weight:normal;  text-align:left; \">Predictors</td>\n",
       "<td style=\" text-align:center; border-bottom:1px solid; font-style:italic; font-weight:normal;  \">Estimates</td>\n",
       "<td style=\" text-align:center; border-bottom:1px solid; font-style:italic; font-weight:normal;  \">CI</td>\n",
       "<td style=\" text-align:center; border-bottom:1px solid; font-style:italic; font-weight:normal;  \">p</td>\n",
       "</tr>\n",
       "<tr>\n",
       "<td style=\" padding:0.2cm; text-align:left; vertical-align:top; text-align:left; \">edu c</td>\n",
       "<td style=\" padding:0.2cm; text-align:left; vertical-align:top; text-align:center;  \">&#45;1.13</td>\n",
       "<td style=\" padding:0.2cm; text-align:left; vertical-align:top; text-align:center;  \">&#45;3.46&nbsp;&ndash;&nbsp;1.20</td>\n",
       "<td style=\" padding:0.2cm; text-align:left; vertical-align:top; text-align:center;  \">0.342</td>\n",
       "</tr>\n",
       "\n",
       "<tr>\n",
       "<td style=\" padding:0.2cm; text-align:left; vertical-align:top; text-align:left; padding-top:0.1cm; padding-bottom:0.1cm;\">N <sub>study_id</sub></td>\n",
       "<td style=\" padding:0.2cm; text-align:left; vertical-align:top; padding-top:0.1cm; padding-bottom:0.1cm; text-align:left;\" colspan=\"3\">168</td>\n",
       "<tr>\n",
       "<td style=\" padding:0.2cm; text-align:left; vertical-align:top; text-align:left; padding-top:0.1cm; padding-bottom:0.1cm; border-top:1px solid;\">Observations</td>\n",
       "<td style=\" padding:0.2cm; text-align:left; vertical-align:top; padding-top:0.1cm; padding-bottom:0.1cm; text-align:left; border-top:1px solid;\" colspan=\"3\">436</td>\n",
       "</tr>\n",
       "<tr>\n",
       "<td style=\" padding:0.2cm; text-align:left; vertical-align:top; text-align:left; padding-top:0.1cm; padding-bottom:0.1cm;\">Marginal R<sup>2</sup> / Conditional R<sup>2</sup></td>\n",
       "<td style=\" padding:0.2cm; text-align:left; vertical-align:top; padding-top:0.1cm; padding-bottom:0.1cm; text-align:left;\" colspan=\"3\">0.439 / 0.803</td>\n",
       "</tr>\n",
       "\n",
       "</table>\n"
      ]
     }
    }
   ],
   "source": [
    "lmer(oq45_scored ~ time_c*arm_c + oq45_0 + edu_c + (1 + time_c | study_id), \n",
    "     data = subset(data, dyad == \"Partner\")) |> \n",
    "  sjPlot::tab_model(show.re.var = F, show.icc = F, terms = c(\"edu_c\"))\n"
   ],
   "id": "fd4ca2c6-c528-4c51-9d1d-3fcee0433dfd"
  },
  {
   "cell_type": "markdown",
   "metadata": {},
   "source": [
    "`meetings_yn` - not significant"
   ],
   "id": "63efba48-c15c-4a0e-961e-61f0bac453db"
  },
  {
   "cell_type": "code",
   "execution_count": null,
   "metadata": {},
   "outputs": [
    {
     "output_type": "display_data",
     "metadata": {},
     "data": {
      "text/html": [
       "<table style=\"border-collapse:collapse; border:none;\">\n",
       "<tr>\n",
       "<th style=\"border-top: double; text-align:center; font-style:normal; font-weight:bold; padding:0.2cm;  text-align:left; \">&nbsp;</th>\n",
       "<th colspan=\"3\" style=\"border-top: double; text-align:center; font-style:normal; font-weight:bold; padding:0.2cm; \">oq 45 scored</th>\n",
       "</tr>\n",
       "<tr>\n",
       "<td style=\" text-align:center; border-bottom:1px solid; font-style:italic; font-weight:normal;  text-align:left; \">Predictors</td>\n",
       "<td style=\" text-align:center; border-bottom:1px solid; font-style:italic; font-weight:normal;  \">Estimates</td>\n",
       "<td style=\" text-align:center; border-bottom:1px solid; font-style:italic; font-weight:normal;  \">CI</td>\n",
       "<td style=\" text-align:center; border-bottom:1px solid; font-style:italic; font-weight:normal;  \">p</td>\n",
       "</tr>\n",
       "<tr>\n",
       "<td style=\" padding:0.2cm; text-align:left; vertical-align:top; text-align:left; \">meetings yn [Yes]</td>\n",
       "<td style=\" padding:0.2cm; text-align:left; vertical-align:top; text-align:center;  \">0.21</td>\n",
       "<td style=\" padding:0.2cm; text-align:left; vertical-align:top; text-align:center;  \">&#45;4.81&nbsp;&ndash;&nbsp;5.23</td>\n",
       "<td style=\" padding:0.2cm; text-align:left; vertical-align:top; text-align:center;  \">0.936</td>\n",
       "</tr>\n",
       "\n",
       "<tr>\n",
       "<td style=\" padding:0.2cm; text-align:left; vertical-align:top; text-align:left; padding-top:0.1cm; padding-bottom:0.1cm;\">N <sub>study_id</sub></td>\n",
       "<td style=\" padding:0.2cm; text-align:left; vertical-align:top; padding-top:0.1cm; padding-bottom:0.1cm; text-align:left;\" colspan=\"3\">170</td>\n",
       "<tr>\n",
       "<td style=\" padding:0.2cm; text-align:left; vertical-align:top; text-align:left; padding-top:0.1cm; padding-bottom:0.1cm; border-top:1px solid;\">Observations</td>\n",
       "<td style=\" padding:0.2cm; text-align:left; vertical-align:top; padding-top:0.1cm; padding-bottom:0.1cm; text-align:left; border-top:1px solid;\" colspan=\"3\">454</td>\n",
       "</tr>\n",
       "<tr>\n",
       "<td style=\" padding:0.2cm; text-align:left; vertical-align:top; text-align:left; padding-top:0.1cm; padding-bottom:0.1cm;\">Marginal R<sup>2</sup> / Conditional R<sup>2</sup></td>\n",
       "<td style=\" padding:0.2cm; text-align:left; vertical-align:top; padding-top:0.1cm; padding-bottom:0.1cm; text-align:left;\" colspan=\"3\">0.474 / 0.775</td>\n",
       "</tr>\n",
       "\n",
       "</table>\n"
      ]
     }
    },
    {
     "output_type": "display_data",
     "metadata": {},
     "data": {
      "text/html": [
       "<table style=\"border-collapse:collapse; border:none;\">\n",
       "<tr>\n",
       "<th style=\"border-top: double; text-align:center; font-style:normal; font-weight:bold; padding:0.2cm;  text-align:left; \">&nbsp;</th>\n",
       "<th colspan=\"3\" style=\"border-top: double; text-align:center; font-style:normal; font-weight:bold; padding:0.2cm; \">oq 45 scored</th>\n",
       "</tr>\n",
       "<tr>\n",
       "<td style=\" text-align:center; border-bottom:1px solid; font-style:italic; font-weight:normal;  text-align:left; \">Predictors</td>\n",
       "<td style=\" text-align:center; border-bottom:1px solid; font-style:italic; font-weight:normal;  \">Estimates</td>\n",
       "<td style=\" text-align:center; border-bottom:1px solid; font-style:italic; font-weight:normal;  \">CI</td>\n",
       "<td style=\" text-align:center; border-bottom:1px solid; font-style:italic; font-weight:normal;  \">p</td>\n",
       "</tr>\n",
       "<tr>\n",
       "<td style=\" padding:0.2cm; text-align:left; vertical-align:top; text-align:left; \">meetings yn [Yes]</td>\n",
       "<td style=\" padding:0.2cm; text-align:left; vertical-align:top; text-align:center;  \">&#45;0.69</td>\n",
       "<td style=\" padding:0.2cm; text-align:left; vertical-align:top; text-align:center;  \">&#45;5.12&nbsp;&ndash;&nbsp;3.75</td>\n",
       "<td style=\" padding:0.2cm; text-align:left; vertical-align:top; text-align:center;  \">0.761</td>\n",
       "</tr>\n",
       "\n",
       "<tr>\n",
       "<td style=\" padding:0.2cm; text-align:left; vertical-align:top; text-align:left; padding-top:0.1cm; padding-bottom:0.1cm;\">N <sub>study_id</sub></td>\n",
       "<td style=\" padding:0.2cm; text-align:left; vertical-align:top; padding-top:0.1cm; padding-bottom:0.1cm; text-align:left;\" colspan=\"3\">167</td>\n",
       "<tr>\n",
       "<td style=\" padding:0.2cm; text-align:left; vertical-align:top; text-align:left; padding-top:0.1cm; padding-bottom:0.1cm; border-top:1px solid;\">Observations</td>\n",
       "<td style=\" padding:0.2cm; text-align:left; vertical-align:top; padding-top:0.1cm; padding-bottom:0.1cm; text-align:left; border-top:1px solid;\" colspan=\"3\">435</td>\n",
       "</tr>\n",
       "<tr>\n",
       "<td style=\" padding:0.2cm; text-align:left; vertical-align:top; text-align:left; padding-top:0.1cm; padding-bottom:0.1cm;\">Marginal R<sup>2</sup> / Conditional R<sup>2</sup></td>\n",
       "<td style=\" padding:0.2cm; text-align:left; vertical-align:top; padding-top:0.1cm; padding-bottom:0.1cm; text-align:left;\" colspan=\"3\">0.436 / 0.800</td>\n",
       "</tr>\n",
       "\n",
       "</table>\n"
      ]
     }
    }
   ],
   "source": [
    "lmer(oq45_scored ~ time_c*arm_c + oq45_0 + meetings_yn + \n",
    "       (1 + time_c | study_id), data = subset(data, dyad == \"Partner\")) |> \n",
    "  sjPlot::tab_model(show.re.var = F, show.icc = F, terms = c(\"meetings_ynYes\"))\n"
   ],
   "id": "c4dc3808-8086-4cef-ad73-44eca03bf6c7"
  },
  {
   "cell_type": "markdown",
   "metadata": {},
   "source": [
    "`outpatient_yn_ever` - **significant for partner** Not significant for patient"
   ],
   "id": "796dc495-c648-46fb-97bd-0bcbb22a773c"
  },
  {
   "cell_type": "code",
   "execution_count": null,
   "metadata": {},
   "outputs": [
    {
     "output_type": "display_data",
     "metadata": {},
     "data": {
      "text/html": [
       "<table style=\"border-collapse:collapse; border:none;\">\n",
       "<tr>\n",
       "<th style=\"border-top: double; text-align:center; font-style:normal; font-weight:bold; padding:0.2cm;  text-align:left; \">&nbsp;</th>\n",
       "<th colspan=\"3\" style=\"border-top: double; text-align:center; font-style:normal; font-weight:bold; padding:0.2cm; \">oq 45 scored</th>\n",
       "</tr>\n",
       "<tr>\n",
       "<td style=\" text-align:center; border-bottom:1px solid; font-style:italic; font-weight:normal;  text-align:left; \">Predictors</td>\n",
       "<td style=\" text-align:center; border-bottom:1px solid; font-style:italic; font-weight:normal;  \">Estimates</td>\n",
       "<td style=\" text-align:center; border-bottom:1px solid; font-style:italic; font-weight:normal;  \">CI</td>\n",
       "<td style=\" text-align:center; border-bottom:1px solid; font-style:italic; font-weight:normal;  \">p</td>\n",
       "</tr>\n",
       "<tr>\n",
       "<td style=\" padding:0.2cm; text-align:left; vertical-align:top; text-align:left; \">outpatient yn ever [Yes]</td>\n",
       "<td style=\" padding:0.2cm; text-align:left; vertical-align:top; text-align:center;  \">9.99</td>\n",
       "<td style=\" padding:0.2cm; text-align:left; vertical-align:top; text-align:center;  \">0.57&nbsp;&ndash;&nbsp;19.41</td>\n",
       "<td style=\" padding:0.2cm; text-align:left; vertical-align:top; text-align:center;  \"><strong>0.038</strong></td>\n",
       "</tr>\n",
       "\n",
       "<tr>\n",
       "<td style=\" padding:0.2cm; text-align:left; vertical-align:top; text-align:left; padding-top:0.1cm; padding-bottom:0.1cm;\">N <sub>study_id</sub></td>\n",
       "<td style=\" padding:0.2cm; text-align:left; vertical-align:top; padding-top:0.1cm; padding-bottom:0.1cm; text-align:left;\" colspan=\"3\">170</td>\n",
       "<tr>\n",
       "<td style=\" padding:0.2cm; text-align:left; vertical-align:top; text-align:left; padding-top:0.1cm; padding-bottom:0.1cm; border-top:1px solid;\">Observations</td>\n",
       "<td style=\" padding:0.2cm; text-align:left; vertical-align:top; padding-top:0.1cm; padding-bottom:0.1cm; text-align:left; border-top:1px solid;\" colspan=\"3\">454</td>\n",
       "</tr>\n",
       "<tr>\n",
       "<td style=\" padding:0.2cm; text-align:left; vertical-align:top; text-align:left; padding-top:0.1cm; padding-bottom:0.1cm;\">Marginal R<sup>2</sup> / Conditional R<sup>2</sup></td>\n",
       "<td style=\" padding:0.2cm; text-align:left; vertical-align:top; padding-top:0.1cm; padding-bottom:0.1cm; text-align:left;\" colspan=\"3\">0.482 / 0.776</td>\n",
       "</tr>\n",
       "\n",
       "</table>\n"
      ]
     }
    },
    {
     "output_type": "display_data",
     "metadata": {},
     "data": {
      "text/html": [
       "<table style=\"border-collapse:collapse; border:none;\">\n",
       "<tr>\n",
       "<th style=\"border-top: double; text-align:center; font-style:normal; font-weight:bold; padding:0.2cm;  text-align:left; \">&nbsp;</th>\n",
       "<th colspan=\"3\" style=\"border-top: double; text-align:center; font-style:normal; font-weight:bold; padding:0.2cm; \">oq 45 scored</th>\n",
       "</tr>\n",
       "<tr>\n",
       "<td style=\" text-align:center; border-bottom:1px solid; font-style:italic; font-weight:normal;  text-align:left; \">Predictors</td>\n",
       "<td style=\" text-align:center; border-bottom:1px solid; font-style:italic; font-weight:normal;  \">Estimates</td>\n",
       "<td style=\" text-align:center; border-bottom:1px solid; font-style:italic; font-weight:normal;  \">CI</td>\n",
       "<td style=\" text-align:center; border-bottom:1px solid; font-style:italic; font-weight:normal;  \">p</td>\n",
       "</tr>\n",
       "<tr>\n",
       "<td style=\" padding:0.2cm; text-align:left; vertical-align:top; text-align:left; \">outpatient yn ever [Yes]</td>\n",
       "<td style=\" padding:0.2cm; text-align:left; vertical-align:top; text-align:center;  \">1.39</td>\n",
       "<td style=\" padding:0.2cm; text-align:left; vertical-align:top; text-align:center;  \">&#45;4.13&nbsp;&ndash;&nbsp;6.91</td>\n",
       "<td style=\" padding:0.2cm; text-align:left; vertical-align:top; text-align:center;  \">0.621</td>\n",
       "</tr>\n",
       "\n",
       "<tr>\n",
       "<td style=\" padding:0.2cm; text-align:left; vertical-align:top; text-align:left; padding-top:0.1cm; padding-bottom:0.1cm;\">N <sub>study_id</sub></td>\n",
       "<td style=\" padding:0.2cm; text-align:left; vertical-align:top; padding-top:0.1cm; padding-bottom:0.1cm; text-align:left;\" colspan=\"3\">168</td>\n",
       "<tr>\n",
       "<td style=\" padding:0.2cm; text-align:left; vertical-align:top; text-align:left; padding-top:0.1cm; padding-bottom:0.1cm; border-top:1px solid;\">Observations</td>\n",
       "<td style=\" padding:0.2cm; text-align:left; vertical-align:top; padding-top:0.1cm; padding-bottom:0.1cm; text-align:left; border-top:1px solid;\" colspan=\"3\">436</td>\n",
       "</tr>\n",
       "<tr>\n",
       "<td style=\" padding:0.2cm; text-align:left; vertical-align:top; text-align:left; padding-top:0.1cm; padding-bottom:0.1cm;\">Marginal R<sup>2</sup> / Conditional R<sup>2</sup></td>\n",
       "<td style=\" padding:0.2cm; text-align:left; vertical-align:top; padding-top:0.1cm; padding-bottom:0.1cm; text-align:left;\" colspan=\"3\">0.437 / 0.803</td>\n",
       "</tr>\n",
       "\n",
       "</table>\n"
      ]
     }
    }
   ],
   "source": [
    "lmer(oq45_scored ~ time_c*arm_c + oq45_0 + outpatient_yn_ever + \n",
    "       (1 + time_c | study_id), data = subset(data, dyad == \"Partner\")) |> \n",
    "  sjPlot::tab_model(show.re.var = F, show.icc = F, \n",
    "                    terms = c(\"outpatient_yn_everYes\"))\n"
   ],
   "id": "c8ca2a1c-41fb-432d-a88d-85c26b94e754"
  },
  {
   "cell_type": "markdown",
   "metadata": {},
   "source": [
    "`er_yn_ever` - Not significant"
   ],
   "id": "6093a4e9-dcc2-461e-ae8f-7ca08fe7410f"
  },
  {
   "cell_type": "code",
   "execution_count": null,
   "metadata": {},
   "outputs": [
    {
     "output_type": "display_data",
     "metadata": {},
     "data": {
      "text/html": [
       "<table style=\"border-collapse:collapse; border:none;\">\n",
       "<tr>\n",
       "<th style=\"border-top: double; text-align:center; font-style:normal; font-weight:bold; padding:0.2cm;  text-align:left; \">&nbsp;</th>\n",
       "<th colspan=\"3\" style=\"border-top: double; text-align:center; font-style:normal; font-weight:bold; padding:0.2cm; \">oq 45 scored</th>\n",
       "</tr>\n",
       "<tr>\n",
       "<td style=\" text-align:center; border-bottom:1px solid; font-style:italic; font-weight:normal;  text-align:left; \">Predictors</td>\n",
       "<td style=\" text-align:center; border-bottom:1px solid; font-style:italic; font-weight:normal;  \">Estimates</td>\n",
       "<td style=\" text-align:center; border-bottom:1px solid; font-style:italic; font-weight:normal;  \">CI</td>\n",
       "<td style=\" text-align:center; border-bottom:1px solid; font-style:italic; font-weight:normal;  \">p</td>\n",
       "</tr>\n",
       "<tr>\n",
       "<td style=\" padding:0.2cm; text-align:left; vertical-align:top; text-align:left; \">er yn ever [Yes]</td>\n",
       "<td style=\" padding:0.2cm; text-align:left; vertical-align:top; text-align:center;  \">3.79</td>\n",
       "<td style=\" padding:0.2cm; text-align:left; vertical-align:top; text-align:center;  \">&#45;2.02&nbsp;&ndash;&nbsp;9.61</td>\n",
       "<td style=\" padding:0.2cm; text-align:left; vertical-align:top; text-align:center;  \">0.200</td>\n",
       "</tr>\n",
       "\n",
       "<tr>\n",
       "<td style=\" padding:0.2cm; text-align:left; vertical-align:top; text-align:left; padding-top:0.1cm; padding-bottom:0.1cm;\">N <sub>study_id</sub></td>\n",
       "<td style=\" padding:0.2cm; text-align:left; vertical-align:top; padding-top:0.1cm; padding-bottom:0.1cm; text-align:left;\" colspan=\"3\">170</td>\n",
       "<tr>\n",
       "<td style=\" padding:0.2cm; text-align:left; vertical-align:top; text-align:left; padding-top:0.1cm; padding-bottom:0.1cm; border-top:1px solid;\">Observations</td>\n",
       "<td style=\" padding:0.2cm; text-align:left; vertical-align:top; padding-top:0.1cm; padding-bottom:0.1cm; text-align:left; border-top:1px solid;\" colspan=\"3\">454</td>\n",
       "</tr>\n",
       "<tr>\n",
       "<td style=\" padding:0.2cm; text-align:left; vertical-align:top; text-align:left; padding-top:0.1cm; padding-bottom:0.1cm;\">Marginal R<sup>2</sup> / Conditional R<sup>2</sup></td>\n",
       "<td style=\" padding:0.2cm; text-align:left; vertical-align:top; padding-top:0.1cm; padding-bottom:0.1cm; text-align:left;\" colspan=\"3\">0.477 / 0.776</td>\n",
       "</tr>\n",
       "\n",
       "</table>\n"
      ]
     }
    },
    {
     "output_type": "display_data",
     "metadata": {},
     "data": {
      "text/html": [
       "<table style=\"border-collapse:collapse; border:none;\">\n",
       "<tr>\n",
       "<th style=\"border-top: double; text-align:center; font-style:normal; font-weight:bold; padding:0.2cm;  text-align:left; \">&nbsp;</th>\n",
       "<th colspan=\"3\" style=\"border-top: double; text-align:center; font-style:normal; font-weight:bold; padding:0.2cm; \">oq 45 scored</th>\n",
       "</tr>\n",
       "<tr>\n",
       "<td style=\" text-align:center; border-bottom:1px solid; font-style:italic; font-weight:normal;  text-align:left; \">Predictors</td>\n",
       "<td style=\" text-align:center; border-bottom:1px solid; font-style:italic; font-weight:normal;  \">Estimates</td>\n",
       "<td style=\" text-align:center; border-bottom:1px solid; font-style:italic; font-weight:normal;  \">CI</td>\n",
       "<td style=\" text-align:center; border-bottom:1px solid; font-style:italic; font-weight:normal;  \">p</td>\n",
       "</tr>\n",
       "<tr>\n",
       "<td style=\" padding:0.2cm; text-align:left; vertical-align:top; text-align:left; \">er yn ever [Yes]</td>\n",
       "<td style=\" padding:0.2cm; text-align:left; vertical-align:top; text-align:center;  \">3.12</td>\n",
       "<td style=\" padding:0.2cm; text-align:left; vertical-align:top; text-align:center;  \">&#45;2.71&nbsp;&ndash;&nbsp;8.95</td>\n",
       "<td style=\" padding:0.2cm; text-align:left; vertical-align:top; text-align:center;  \">0.294</td>\n",
       "</tr>\n",
       "\n",
       "<tr>\n",
       "<td style=\" padding:0.2cm; text-align:left; vertical-align:top; text-align:left; padding-top:0.1cm; padding-bottom:0.1cm;\">N <sub>study_id</sub></td>\n",
       "<td style=\" padding:0.2cm; text-align:left; vertical-align:top; padding-top:0.1cm; padding-bottom:0.1cm; text-align:left;\" colspan=\"3\">168</td>\n",
       "<tr>\n",
       "<td style=\" padding:0.2cm; text-align:left; vertical-align:top; text-align:left; padding-top:0.1cm; padding-bottom:0.1cm; border-top:1px solid;\">Observations</td>\n",
       "<td style=\" padding:0.2cm; text-align:left; vertical-align:top; padding-top:0.1cm; padding-bottom:0.1cm; text-align:left; border-top:1px solid;\" colspan=\"3\">436</td>\n",
       "</tr>\n",
       "<tr>\n",
       "<td style=\" padding:0.2cm; text-align:left; vertical-align:top; text-align:left; padding-top:0.1cm; padding-bottom:0.1cm;\">Marginal R<sup>2</sup> / Conditional R<sup>2</sup></td>\n",
       "<td style=\" padding:0.2cm; text-align:left; vertical-align:top; padding-top:0.1cm; padding-bottom:0.1cm; text-align:left;\" colspan=\"3\">0.439 / 0.804</td>\n",
       "</tr>\n",
       "\n",
       "</table>\n"
      ]
     }
    }
   ],
   "source": [
    "lmer(oq45_scored ~ time_c*arm_c + oq45_0 + er_yn_ever + \n",
    "       (1 + time_c | study_id), data = subset(data, dyad == \"Partner\")) |> \n",
    "  sjPlot::tab_model(show.re.var = F, show.icc = F, terms = c(\"er_yn_everYes\"))\n"
   ],
   "id": "29fd11dd-0fc4-4657-b7a3-62899ff688e2"
  },
  {
   "cell_type": "markdown",
   "metadata": {},
   "source": [
    "`mat_yn` - not significant for partner, **significant for patient**"
   ],
   "id": "edf90c35-662f-4b30-ab9c-bafef8f50a49"
  },
  {
   "cell_type": "code",
   "execution_count": null,
   "metadata": {},
   "outputs": [
    {
     "output_type": "display_data",
     "metadata": {},
     "data": {
      "text/html": [
       "<table style=\"border-collapse:collapse; border:none;\">\n",
       "<tr>\n",
       "<th style=\"border-top: double; text-align:center; font-style:normal; font-weight:bold; padding:0.2cm;  text-align:left; \">&nbsp;</th>\n",
       "<th colspan=\"3\" style=\"border-top: double; text-align:center; font-style:normal; font-weight:bold; padding:0.2cm; \">oq 45 scored</th>\n",
       "</tr>\n",
       "<tr>\n",
       "<td style=\" text-align:center; border-bottom:1px solid; font-style:italic; font-weight:normal;  text-align:left; \">Predictors</td>\n",
       "<td style=\" text-align:center; border-bottom:1px solid; font-style:italic; font-weight:normal;  \">Estimates</td>\n",
       "<td style=\" text-align:center; border-bottom:1px solid; font-style:italic; font-weight:normal;  \">CI</td>\n",
       "<td style=\" text-align:center; border-bottom:1px solid; font-style:italic; font-weight:normal;  \">p</td>\n",
       "</tr>\n",
       "<tr>\n",
       "<td style=\" padding:0.2cm; text-align:left; vertical-align:top; text-align:left; \">mat yn [Yes]</td>\n",
       "<td style=\" padding:0.2cm; text-align:left; vertical-align:top; text-align:center;  \">9.22</td>\n",
       "<td style=\" padding:0.2cm; text-align:left; vertical-align:top; text-align:center;  \">&#45;0.20&nbsp;&ndash;&nbsp;18.63</td>\n",
       "<td style=\" padding:0.2cm; text-align:left; vertical-align:top; text-align:center;  \">0.055</td>\n",
       "</tr>\n",
       "\n",
       "<tr>\n",
       "<td style=\" padding:0.2cm; text-align:left; vertical-align:top; text-align:left; padding-top:0.1cm; padding-bottom:0.1cm;\">N <sub>study_id</sub></td>\n",
       "<td style=\" padding:0.2cm; text-align:left; vertical-align:top; padding-top:0.1cm; padding-bottom:0.1cm; text-align:left;\" colspan=\"3\">170</td>\n",
       "<tr>\n",
       "<td style=\" padding:0.2cm; text-align:left; vertical-align:top; text-align:left; padding-top:0.1cm; padding-bottom:0.1cm; border-top:1px solid;\">Observations</td>\n",
       "<td style=\" padding:0.2cm; text-align:left; vertical-align:top; padding-top:0.1cm; padding-bottom:0.1cm; text-align:left; border-top:1px solid;\" colspan=\"3\">454</td>\n",
       "</tr>\n",
       "<tr>\n",
       "<td style=\" padding:0.2cm; text-align:left; vertical-align:top; text-align:left; padding-top:0.1cm; padding-bottom:0.1cm;\">Marginal R<sup>2</sup> / Conditional R<sup>2</sup></td>\n",
       "<td style=\" padding:0.2cm; text-align:left; vertical-align:top; padding-top:0.1cm; padding-bottom:0.1cm; text-align:left;\" colspan=\"3\">0.479 / 0.778</td>\n",
       "</tr>\n",
       "\n",
       "</table>\n"
      ]
     }
    },
    {
     "output_type": "display_data",
     "metadata": {},
     "data": {
      "text/html": [
       "<table style=\"border-collapse:collapse; border:none;\">\n",
       "<tr>\n",
       "<th style=\"border-top: double; text-align:center; font-style:normal; font-weight:bold; padding:0.2cm;  text-align:left; \">&nbsp;</th>\n",
       "<th colspan=\"3\" style=\"border-top: double; text-align:center; font-style:normal; font-weight:bold; padding:0.2cm; \">oq 45 scored</th>\n",
       "</tr>\n",
       "<tr>\n",
       "<td style=\" text-align:center; border-bottom:1px solid; font-style:italic; font-weight:normal;  text-align:left; \">Predictors</td>\n",
       "<td style=\" text-align:center; border-bottom:1px solid; font-style:italic; font-weight:normal;  \">Estimates</td>\n",
       "<td style=\" text-align:center; border-bottom:1px solid; font-style:italic; font-weight:normal;  \">CI</td>\n",
       "<td style=\" text-align:center; border-bottom:1px solid; font-style:italic; font-weight:normal;  \">p</td>\n",
       "</tr>\n",
       "<tr>\n",
       "<td style=\" padding:0.2cm; text-align:left; vertical-align:top; text-align:left; \">mat yn [Yes]</td>\n",
       "<td style=\" padding:0.2cm; text-align:left; vertical-align:top; text-align:center;  \">6.86</td>\n",
       "<td style=\" padding:0.2cm; text-align:left; vertical-align:top; text-align:center;  \">2.05&nbsp;&ndash;&nbsp;11.68</td>\n",
       "<td style=\" padding:0.2cm; text-align:left; vertical-align:top; text-align:center;  \"><strong>0.005</strong></td>\n",
       "</tr>\n",
       "\n",
       "<tr>\n",
       "<td style=\" padding:0.2cm; text-align:left; vertical-align:top; text-align:left; padding-top:0.1cm; padding-bottom:0.1cm;\">N <sub>study_id</sub></td>\n",
       "<td style=\" padding:0.2cm; text-align:left; vertical-align:top; padding-top:0.1cm; padding-bottom:0.1cm; text-align:left;\" colspan=\"3\">167</td>\n",
       "<tr>\n",
       "<td style=\" padding:0.2cm; text-align:left; vertical-align:top; text-align:left; padding-top:0.1cm; padding-bottom:0.1cm; border-top:1px solid;\">Observations</td>\n",
       "<td style=\" padding:0.2cm; text-align:left; vertical-align:top; padding-top:0.1cm; padding-bottom:0.1cm; text-align:left; border-top:1px solid;\" colspan=\"3\">432</td>\n",
       "</tr>\n",
       "<tr>\n",
       "<td style=\" padding:0.2cm; text-align:left; vertical-align:top; text-align:left; padding-top:0.1cm; padding-bottom:0.1cm;\">Marginal R<sup>2</sup> / Conditional R<sup>2</sup></td>\n",
       "<td style=\" padding:0.2cm; text-align:left; vertical-align:top; padding-top:0.1cm; padding-bottom:0.1cm; text-align:left;\" colspan=\"3\">0.445 / 0.808</td>\n",
       "</tr>\n",
       "\n",
       "</table>\n"
      ]
     }
    }
   ],
   "source": [
    "lmer(oq45_scored ~ time_c*arm_c + oq45_0 + mat_yn + (1 + time_c | study_id), \n",
    "     data = subset(data, dyad == \"Partner\")) |> \n",
    "  sjPlot::tab_model(show.re.var = F, show.icc = F, terms = c(\"mat_ynYes\"))\n"
   ],
   "id": "75ed6c4d-b40b-454f-96b3-400afc28318a"
  },
  {
   "cell_type": "markdown",
   "metadata": {},
   "source": [
    "`inpatient_yn_ever` - not significant"
   ],
   "id": "b987a7ea-0908-4344-99a5-e19ee80d55bc"
  },
  {
   "cell_type": "code",
   "execution_count": null,
   "metadata": {},
   "outputs": [
    {
     "output_type": "display_data",
     "metadata": {},
     "data": {
      "text/html": [
       "<table style=\"border-collapse:collapse; border:none;\">\n",
       "<tr>\n",
       "<th style=\"border-top: double; text-align:center; font-style:normal; font-weight:bold; padding:0.2cm;  text-align:left; \">&nbsp;</th>\n",
       "<th colspan=\"3\" style=\"border-top: double; text-align:center; font-style:normal; font-weight:bold; padding:0.2cm; \">oq 45 scored</th>\n",
       "</tr>\n",
       "<tr>\n",
       "<td style=\" text-align:center; border-bottom:1px solid; font-style:italic; font-weight:normal;  text-align:left; \">Predictors</td>\n",
       "<td style=\" text-align:center; border-bottom:1px solid; font-style:italic; font-weight:normal;  \">Estimates</td>\n",
       "<td style=\" text-align:center; border-bottom:1px solid; font-style:italic; font-weight:normal;  \">CI</td>\n",
       "<td style=\" text-align:center; border-bottom:1px solid; font-style:italic; font-weight:normal;  \">p</td>\n",
       "</tr>\n",
       "<tr>\n",
       "<td style=\" padding:0.2cm; text-align:left; vertical-align:top; text-align:left; \">inpatient yn ever [Yes]</td>\n",
       "<td style=\" padding:0.2cm; text-align:left; vertical-align:top; text-align:center;  \">11.49</td>\n",
       "<td style=\" padding:0.2cm; text-align:left; vertical-align:top; text-align:center;  \">&#45;3.59&nbsp;&ndash;&nbsp;26.57</td>\n",
       "<td style=\" padding:0.2cm; text-align:left; vertical-align:top; text-align:center;  \">0.135</td>\n",
       "</tr>\n",
       "\n",
       "<tr>\n",
       "<td style=\" padding:0.2cm; text-align:left; vertical-align:top; text-align:left; padding-top:0.1cm; padding-bottom:0.1cm;\">N <sub>study_id</sub></td>\n",
       "<td style=\" padding:0.2cm; text-align:left; vertical-align:top; padding-top:0.1cm; padding-bottom:0.1cm; text-align:left;\" colspan=\"3\">170</td>\n",
       "<tr>\n",
       "<td style=\" padding:0.2cm; text-align:left; vertical-align:top; text-align:left; padding-top:0.1cm; padding-bottom:0.1cm; border-top:1px solid;\">Observations</td>\n",
       "<td style=\" padding:0.2cm; text-align:left; vertical-align:top; padding-top:0.1cm; padding-bottom:0.1cm; text-align:left; border-top:1px solid;\" colspan=\"3\">454</td>\n",
       "</tr>\n",
       "<tr>\n",
       "<td style=\" padding:0.2cm; text-align:left; vertical-align:top; text-align:left; padding-top:0.1cm; padding-bottom:0.1cm;\">Marginal R<sup>2</sup> / Conditional R<sup>2</sup></td>\n",
       "<td style=\" padding:0.2cm; text-align:left; vertical-align:top; padding-top:0.1cm; padding-bottom:0.1cm; text-align:left;\" colspan=\"3\">0.478 / 0.776</td>\n",
       "</tr>\n",
       "\n",
       "</table>\n"
      ]
     }
    },
    {
     "output_type": "display_data",
     "metadata": {},
     "data": {
      "text/html": [
       "<table style=\"border-collapse:collapse; border:none;\">\n",
       "<tr>\n",
       "<th style=\"border-top: double; text-align:center; font-style:normal; font-weight:bold; padding:0.2cm;  text-align:left; \">&nbsp;</th>\n",
       "<th colspan=\"3\" style=\"border-top: double; text-align:center; font-style:normal; font-weight:bold; padding:0.2cm; \">oq 45 scored</th>\n",
       "</tr>\n",
       "<tr>\n",
       "<td style=\" text-align:center; border-bottom:1px solid; font-style:italic; font-weight:normal;  text-align:left; \">Predictors</td>\n",
       "<td style=\" text-align:center; border-bottom:1px solid; font-style:italic; font-weight:normal;  \">Estimates</td>\n",
       "<td style=\" text-align:center; border-bottom:1px solid; font-style:italic; font-weight:normal;  \">CI</td>\n",
       "<td style=\" text-align:center; border-bottom:1px solid; font-style:italic; font-weight:normal;  \">p</td>\n",
       "</tr>\n",
       "<tr>\n",
       "<td style=\" padding:0.2cm; text-align:left; vertical-align:top; text-align:left; \">inpatient yn ever [Yes]</td>\n",
       "<td style=\" padding:0.2cm; text-align:left; vertical-align:top; text-align:center;  \">3.73</td>\n",
       "<td style=\" padding:0.2cm; text-align:left; vertical-align:top; text-align:center;  \">&#45;2.93&nbsp;&ndash;&nbsp;10.39</td>\n",
       "<td style=\" padding:0.2cm; text-align:left; vertical-align:top; text-align:center;  \">0.272</td>\n",
       "</tr>\n",
       "\n",
       "<tr>\n",
       "<td style=\" padding:0.2cm; text-align:left; vertical-align:top; text-align:left; padding-top:0.1cm; padding-bottom:0.1cm;\">N <sub>study_id</sub></td>\n",
       "<td style=\" padding:0.2cm; text-align:left; vertical-align:top; padding-top:0.1cm; padding-bottom:0.1cm; text-align:left;\" colspan=\"3\">168</td>\n",
       "<tr>\n",
       "<td style=\" padding:0.2cm; text-align:left; vertical-align:top; text-align:left; padding-top:0.1cm; padding-bottom:0.1cm; border-top:1px solid;\">Observations</td>\n",
       "<td style=\" padding:0.2cm; text-align:left; vertical-align:top; padding-top:0.1cm; padding-bottom:0.1cm; text-align:left; border-top:1px solid;\" colspan=\"3\">436</td>\n",
       "</tr>\n",
       "<tr>\n",
       "<td style=\" padding:0.2cm; text-align:left; vertical-align:top; text-align:left; padding-top:0.1cm; padding-bottom:0.1cm;\">Marginal R<sup>2</sup> / Conditional R<sup>2</sup></td>\n",
       "<td style=\" padding:0.2cm; text-align:left; vertical-align:top; padding-top:0.1cm; padding-bottom:0.1cm; text-align:left;\" colspan=\"3\">0.438 / 0.803</td>\n",
       "</tr>\n",
       "\n",
       "</table>\n"
      ]
     }
    }
   ],
   "source": [
    "lmer(oq45_scored ~ time_c*arm_c + oq45_0 + inpatient_yn_ever + \n",
    "       (1 + time_c | study_id), data = subset(data, dyad == \"Partner\")) |> \n",
    "  sjPlot::tab_model(show.re.var = F, show.icc = F, \n",
    "                    terms = c(\"inpatient_yn_everYes\"))\n"
   ],
   "id": "edb5ca0e-45f7-4d59-bf6c-89f4dd07f5c3"
  },
  {
   "cell_type": "markdown",
   "metadata": {},
   "source": [
    "`other_psych_treatment_yn` - **significant for partner** not significant for patient"
   ],
   "id": "9f716b86-119f-49d8-8362-105f2d19d766"
  },
  {
   "cell_type": "code",
   "execution_count": null,
   "metadata": {},
   "outputs": [
    {
     "output_type": "display_data",
     "metadata": {},
     "data": {
      "text/html": [
       "<table style=\"border-collapse:collapse; border:none;\">\n",
       "<tr>\n",
       "<th style=\"border-top: double; text-align:center; font-style:normal; font-weight:bold; padding:0.2cm;  text-align:left; \">&nbsp;</th>\n",
       "<th colspan=\"3\" style=\"border-top: double; text-align:center; font-style:normal; font-weight:bold; padding:0.2cm; \">oq 45 scored</th>\n",
       "</tr>\n",
       "<tr>\n",
       "<td style=\" text-align:center; border-bottom:1px solid; font-style:italic; font-weight:normal;  text-align:left; \">Predictors</td>\n",
       "<td style=\" text-align:center; border-bottom:1px solid; font-style:italic; font-weight:normal;  \">Estimates</td>\n",
       "<td style=\" text-align:center; border-bottom:1px solid; font-style:italic; font-weight:normal;  \">CI</td>\n",
       "<td style=\" text-align:center; border-bottom:1px solid; font-style:italic; font-weight:normal;  \">p</td>\n",
       "</tr>\n",
       "<tr>\n",
       "<td style=\" padding:0.2cm; text-align:left; vertical-align:top; text-align:left; \">other psych treatment yn<br>[Yes]</td>\n",
       "<td style=\" padding:0.2cm; text-align:left; vertical-align:top; text-align:center;  \">5.33</td>\n",
       "<td style=\" padding:0.2cm; text-align:left; vertical-align:top; text-align:center;  \">0.23&nbsp;&ndash;&nbsp;10.43</td>\n",
       "<td style=\" padding:0.2cm; text-align:left; vertical-align:top; text-align:center;  \"><strong>0.041</strong></td>\n",
       "</tr>\n",
       "\n",
       "<tr>\n",
       "<td style=\" padding:0.2cm; text-align:left; vertical-align:top; text-align:left; padding-top:0.1cm; padding-bottom:0.1cm;\">N <sub>study_id</sub></td>\n",
       "<td style=\" padding:0.2cm; text-align:left; vertical-align:top; padding-top:0.1cm; padding-bottom:0.1cm; text-align:left;\" colspan=\"3\">170</td>\n",
       "<tr>\n",
       "<td style=\" padding:0.2cm; text-align:left; vertical-align:top; text-align:left; padding-top:0.1cm; padding-bottom:0.1cm; border-top:1px solid;\">Observations</td>\n",
       "<td style=\" padding:0.2cm; text-align:left; vertical-align:top; padding-top:0.1cm; padding-bottom:0.1cm; text-align:left; border-top:1px solid;\" colspan=\"3\">454</td>\n",
       "</tr>\n",
       "<tr>\n",
       "<td style=\" padding:0.2cm; text-align:left; vertical-align:top; text-align:left; padding-top:0.1cm; padding-bottom:0.1cm;\">Marginal R<sup>2</sup> / Conditional R<sup>2</sup></td>\n",
       "<td style=\" padding:0.2cm; text-align:left; vertical-align:top; padding-top:0.1cm; padding-bottom:0.1cm; text-align:left;\" colspan=\"3\">0.481 / 0.770</td>\n",
       "</tr>\n",
       "\n",
       "</table>\n"
      ]
     }
    },
    {
     "output_type": "display_data",
     "metadata": {},
     "data": {
      "text/html": [
       "<table style=\"border-collapse:collapse; border:none;\">\n",
       "<tr>\n",
       "<th style=\"border-top: double; text-align:center; font-style:normal; font-weight:bold; padding:0.2cm;  text-align:left; \">&nbsp;</th>\n",
       "<th colspan=\"3\" style=\"border-top: double; text-align:center; font-style:normal; font-weight:bold; padding:0.2cm; \">oq 45 scored</th>\n",
       "</tr>\n",
       "<tr>\n",
       "<td style=\" text-align:center; border-bottom:1px solid; font-style:italic; font-weight:normal;  text-align:left; \">Predictors</td>\n",
       "<td style=\" text-align:center; border-bottom:1px solid; font-style:italic; font-weight:normal;  \">Estimates</td>\n",
       "<td style=\" text-align:center; border-bottom:1px solid; font-style:italic; font-weight:normal;  \">CI</td>\n",
       "<td style=\" text-align:center; border-bottom:1px solid; font-style:italic; font-weight:normal;  \">p</td>\n",
       "</tr>\n",
       "<tr>\n",
       "<td style=\" padding:0.2cm; text-align:left; vertical-align:top; text-align:left; \">other psych treatment yn<br>[Yes]</td>\n",
       "<td style=\" padding:0.2cm; text-align:left; vertical-align:top; text-align:center;  \">&#45;0.61</td>\n",
       "<td style=\" padding:0.2cm; text-align:left; vertical-align:top; text-align:center;  \">&#45;4.72&nbsp;&ndash;&nbsp;3.51</td>\n",
       "<td style=\" padding:0.2cm; text-align:left; vertical-align:top; text-align:center;  \">0.772</td>\n",
       "</tr>\n",
       "\n",
       "<tr>\n",
       "<td style=\" padding:0.2cm; text-align:left; vertical-align:top; text-align:left; padding-top:0.1cm; padding-bottom:0.1cm;\">N <sub>study_id</sub></td>\n",
       "<td style=\" padding:0.2cm; text-align:left; vertical-align:top; padding-top:0.1cm; padding-bottom:0.1cm; text-align:left;\" colspan=\"3\">167</td>\n",
       "<tr>\n",
       "<td style=\" padding:0.2cm; text-align:left; vertical-align:top; text-align:left; padding-top:0.1cm; padding-bottom:0.1cm; border-top:1px solid;\">Observations</td>\n",
       "<td style=\" padding:0.2cm; text-align:left; vertical-align:top; padding-top:0.1cm; padding-bottom:0.1cm; text-align:left; border-top:1px solid;\" colspan=\"3\">435</td>\n",
       "</tr>\n",
       "<tr>\n",
       "<td style=\" padding:0.2cm; text-align:left; vertical-align:top; text-align:left; padding-top:0.1cm; padding-bottom:0.1cm;\">Marginal R<sup>2</sup> / Conditional R<sup>2</sup></td>\n",
       "<td style=\" padding:0.2cm; text-align:left; vertical-align:top; padding-top:0.1cm; padding-bottom:0.1cm; text-align:left;\" colspan=\"3\">0.435 / 0.802</td>\n",
       "</tr>\n",
       "\n",
       "</table>\n"
      ]
     }
    }
   ],
   "source": [
    "lmer(oq45_scored ~ time_c*arm_c + oq45_0 + other_psych_treatment_yn + \n",
    "       (1 + time_c | study_id), data = subset(data, dyad == \"Partner\")) |> \n",
    "  sjPlot::tab_model(show.re.var = F, show.icc = F, \n",
    "                    terms = c(\"other_psych_treatment_ynYes\"))\n"
   ],
   "id": "f217e0de-2f29-4e09-a377-8747550c7389"
  },
  {
   "cell_type": "markdown",
   "metadata": {},
   "source": [
    "`other_medications_yn` - **significant for partner** not significant for patient"
   ],
   "id": "173f88b3-1c48-4b28-b812-51ebba22e37e"
  },
  {
   "cell_type": "code",
   "execution_count": null,
   "metadata": {},
   "outputs": [
    {
     "output_type": "display_data",
     "metadata": {},
     "data": {
      "text/html": [
       "<table style=\"border-collapse:collapse; border:none;\">\n",
       "<tr>\n",
       "<th style=\"border-top: double; text-align:center; font-style:normal; font-weight:bold; padding:0.2cm;  text-align:left; \">&nbsp;</th>\n",
       "<th colspan=\"3\" style=\"border-top: double; text-align:center; font-style:normal; font-weight:bold; padding:0.2cm; \">oq 45 scored</th>\n",
       "</tr>\n",
       "<tr>\n",
       "<td style=\" text-align:center; border-bottom:1px solid; font-style:italic; font-weight:normal;  text-align:left; \">Predictors</td>\n",
       "<td style=\" text-align:center; border-bottom:1px solid; font-style:italic; font-weight:normal;  \">Estimates</td>\n",
       "<td style=\" text-align:center; border-bottom:1px solid; font-style:italic; font-weight:normal;  \">CI</td>\n",
       "<td style=\" text-align:center; border-bottom:1px solid; font-style:italic; font-weight:normal;  \">p</td>\n",
       "</tr>\n",
       "<tr>\n",
       "<td style=\" padding:0.2cm; text-align:left; vertical-align:top; text-align:left; \">other medications yn<br>[Yes]</td>\n",
       "<td style=\" padding:0.2cm; text-align:left; vertical-align:top; text-align:center;  \">6.02</td>\n",
       "<td style=\" padding:0.2cm; text-align:left; vertical-align:top; text-align:center;  \">1.88&nbsp;&ndash;&nbsp;10.15</td>\n",
       "<td style=\" padding:0.2cm; text-align:left; vertical-align:top; text-align:center;  \"><strong>0.004</strong></td>\n",
       "</tr>\n",
       "\n",
       "<tr>\n",
       "<td style=\" padding:0.2cm; text-align:left; vertical-align:top; text-align:left; padding-top:0.1cm; padding-bottom:0.1cm;\">N <sub>study_id</sub></td>\n",
       "<td style=\" padding:0.2cm; text-align:left; vertical-align:top; padding-top:0.1cm; padding-bottom:0.1cm; text-align:left;\" colspan=\"3\">170</td>\n",
       "<tr>\n",
       "<td style=\" padding:0.2cm; text-align:left; vertical-align:top; text-align:left; padding-top:0.1cm; padding-bottom:0.1cm; border-top:1px solid;\">Observations</td>\n",
       "<td style=\" padding:0.2cm; text-align:left; vertical-align:top; padding-top:0.1cm; padding-bottom:0.1cm; text-align:left; border-top:1px solid;\" colspan=\"3\">452</td>\n",
       "</tr>\n",
       "<tr>\n",
       "<td style=\" padding:0.2cm; text-align:left; vertical-align:top; text-align:left; padding-top:0.1cm; padding-bottom:0.1cm;\">Marginal R<sup>2</sup> / Conditional R<sup>2</sup></td>\n",
       "<td style=\" padding:0.2cm; text-align:left; vertical-align:top; padding-top:0.1cm; padding-bottom:0.1cm; text-align:left;\" colspan=\"3\">0.491 / 0.769</td>\n",
       "</tr>\n",
       "\n",
       "</table>\n"
      ]
     }
    },
    {
     "output_type": "display_data",
     "metadata": {},
     "data": {
      "text/html": [
       "<table style=\"border-collapse:collapse; border:none;\">\n",
       "<tr>\n",
       "<th style=\"border-top: double; text-align:center; font-style:normal; font-weight:bold; padding:0.2cm;  text-align:left; \">&nbsp;</th>\n",
       "<th colspan=\"3\" style=\"border-top: double; text-align:center; font-style:normal; font-weight:bold; padding:0.2cm; \">oq 45 scored</th>\n",
       "</tr>\n",
       "<tr>\n",
       "<td style=\" text-align:center; border-bottom:1px solid; font-style:italic; font-weight:normal;  text-align:left; \">Predictors</td>\n",
       "<td style=\" text-align:center; border-bottom:1px solid; font-style:italic; font-weight:normal;  \">Estimates</td>\n",
       "<td style=\" text-align:center; border-bottom:1px solid; font-style:italic; font-weight:normal;  \">CI</td>\n",
       "<td style=\" text-align:center; border-bottom:1px solid; font-style:italic; font-weight:normal;  \">p</td>\n",
       "</tr>\n",
       "<tr>\n",
       "<td style=\" padding:0.2cm; text-align:left; vertical-align:top; text-align:left; \">other medications yn<br>[Yes]</td>\n",
       "<td style=\" padding:0.2cm; text-align:left; vertical-align:top; text-align:center;  \">3.09</td>\n",
       "<td style=\" padding:0.2cm; text-align:left; vertical-align:top; text-align:center;  \">&#45;0.92&nbsp;&ndash;&nbsp;7.10</td>\n",
       "<td style=\" padding:0.2cm; text-align:left; vertical-align:top; text-align:center;  \">0.131</td>\n",
       "</tr>\n",
       "\n",
       "<tr>\n",
       "<td style=\" padding:0.2cm; text-align:left; vertical-align:top; text-align:left; padding-top:0.1cm; padding-bottom:0.1cm;\">N <sub>study_id</sub></td>\n",
       "<td style=\" padding:0.2cm; text-align:left; vertical-align:top; padding-top:0.1cm; padding-bottom:0.1cm; text-align:left;\" colspan=\"3\">167</td>\n",
       "<tr>\n",
       "<td style=\" padding:0.2cm; text-align:left; vertical-align:top; text-align:left; padding-top:0.1cm; padding-bottom:0.1cm; border-top:1px solid;\">Observations</td>\n",
       "<td style=\" padding:0.2cm; text-align:left; vertical-align:top; padding-top:0.1cm; padding-bottom:0.1cm; text-align:left; border-top:1px solid;\" colspan=\"3\">431</td>\n",
       "</tr>\n",
       "<tr>\n",
       "<td style=\" padding:0.2cm; text-align:left; vertical-align:top; text-align:left; padding-top:0.1cm; padding-bottom:0.1cm;\">Marginal R<sup>2</sup> / Conditional R<sup>2</sup></td>\n",
       "<td style=\" padding:0.2cm; text-align:left; vertical-align:top; padding-top:0.1cm; padding-bottom:0.1cm; text-align:left;\" colspan=\"3\">0.442 / 0.799</td>\n",
       "</tr>\n",
       "\n",
       "</table>\n"
      ]
     }
    }
   ],
   "source": [
    "lmer(oq45_scored ~ time_c*arm_c + oq45_0 + other_medications_yn + \n",
    "       (1 + time_c | study_id), data = subset(data, dyad == \"Partner\")) |> \n",
    "  sjPlot::tab_model(show.re.var = F, show.icc = F, \n",
    "                    terms = c(\"other_medications_ynYes\"))\n"
   ],
   "id": "7c7d47ba-2edb-4e97-bf0f-73dfd50aff45"
  },
  {
   "cell_type": "markdown",
   "metadata": {},
   "source": [
    "##### Final Model with Significant Covariates"
   ],
   "id": "4f735eaa-cd0e-42ce-a7c7-5a569b13ee7d"
  },
  {
   "cell_type": "code",
   "execution_count": null,
   "metadata": {},
   "outputs": [
    {
     "output_type": "display_data",
     "metadata": {},
     "data": {
      "text/html": [
       "<table style=\"border-collapse:collapse; border:none;\">\n",
       "<tr>\n",
       "<th style=\"border-top: double; text-align:center; font-style:normal; font-weight:bold; padding:0.2cm;  text-align:left; \">&nbsp;</th>\n",
       "<th colspan=\"3\" style=\"border-top: double; text-align:center; font-style:normal; font-weight:bold; padding:0.2cm; \">oq 45 scored</th>\n",
       "</tr>\n",
       "<tr>\n",
       "<td style=\" text-align:center; border-bottom:1px solid; font-style:italic; font-weight:normal;  text-align:left; \">Predictors</td>\n",
       "<td style=\" text-align:center; border-bottom:1px solid; font-style:italic; font-weight:normal;  \">Estimates</td>\n",
       "<td style=\" text-align:center; border-bottom:1px solid; font-style:italic; font-weight:normal;  \">CI</td>\n",
       "<td style=\" text-align:center; border-bottom:1px solid; font-style:italic; font-weight:normal;  \">p</td>\n",
       "</tr>\n",
       "<tr>\n",
       "<td style=\" padding:0.2cm; text-align:left; vertical-align:top; text-align:left; \">(Intercept)</td>\n",
       "<td style=\" padding:0.2cm; text-align:left; vertical-align:top; text-align:center;  \">54.09</td>\n",
       "<td style=\" padding:0.2cm; text-align:left; vertical-align:top; text-align:center;  \">51.32&nbsp;&ndash;&nbsp;56.86</td>\n",
       "<td style=\" padding:0.2cm; text-align:left; vertical-align:top; text-align:center;  \"><strong>&lt;0.001</strong></td>\n",
       "</tr>\n",
       "<tr>\n",
       "<td style=\" padding:0.2cm; text-align:left; vertical-align:top; text-align:left; \">time c</td>\n",
       "<td style=\" padding:0.2cm; text-align:left; vertical-align:top; text-align:center;  \">&#45;0.86</td>\n",
       "<td style=\" padding:0.2cm; text-align:left; vertical-align:top; text-align:center;  \">&#45;2.24&nbsp;&ndash;&nbsp;0.52</td>\n",
       "<td style=\" padding:0.2cm; text-align:left; vertical-align:top; text-align:center;  \">0.222</td>\n",
       "</tr>\n",
       "<tr>\n",
       "<td style=\" padding:0.2cm; text-align:left; vertical-align:top; text-align:left; \">arm cfam and achess vs C</td>\n",
       "<td style=\" padding:0.2cm; text-align:left; vertical-align:top; text-align:center;  \">&#45;2.48</td>\n",
       "<td style=\" padding:0.2cm; text-align:left; vertical-align:top; text-align:center;  \">&#45;7.07&nbsp;&ndash;&nbsp;2.10</td>\n",
       "<td style=\" padding:0.2cm; text-align:left; vertical-align:top; text-align:center;  \">0.287</td>\n",
       "</tr>\n",
       "<tr>\n",
       "<td style=\" padding:0.2cm; text-align:left; vertical-align:top; text-align:left; \">arm cachess vs fam</td>\n",
       "<td style=\" padding:0.2cm; text-align:left; vertical-align:top; text-align:center;  \">&#45;1.05</td>\n",
       "<td style=\" padding:0.2cm; text-align:left; vertical-align:top; text-align:center;  \">&#45;6.26&nbsp;&ndash;&nbsp;4.17</td>\n",
       "<td style=\" padding:0.2cm; text-align:left; vertical-align:top; text-align:center;  \">0.693</td>\n",
       "</tr>\n",
       "<tr>\n",
       "<td style=\" padding:0.2cm; text-align:left; vertical-align:top; text-align:left; \">oq45 0</td>\n",
       "<td style=\" padding:0.2cm; text-align:left; vertical-align:top; text-align:center;  \">0.71</td>\n",
       "<td style=\" padding:0.2cm; text-align:left; vertical-align:top; text-align:center;  \">0.61&nbsp;&ndash;&nbsp;0.81</td>\n",
       "<td style=\" padding:0.2cm; text-align:left; vertical-align:top; text-align:center;  \"><strong>&lt;0.001</strong></td>\n",
       "</tr>\n",
       "<tr>\n",
       "<td style=\" padding:0.2cm; text-align:left; vertical-align:top; text-align:left; \">edu c</td>\n",
       "<td style=\" padding:0.2cm; text-align:left; vertical-align:top; text-align:center;  \">&#45;2.34</td>\n",
       "<td style=\" padding:0.2cm; text-align:left; vertical-align:top; text-align:center;  \">&#45;4.38&nbsp;&ndash;&nbsp;-0.30</td>\n",
       "<td style=\" padding:0.2cm; text-align:left; vertical-align:top; text-align:center;  \"><strong>0.025</strong></td>\n",
       "</tr>\n",
       "<tr>\n",
       "<td style=\" padding:0.2cm; text-align:left; vertical-align:top; text-align:left; \">outpatient yn ever [Yes]</td>\n",
       "<td style=\" padding:0.2cm; text-align:left; vertical-align:top; text-align:center;  \">8.18</td>\n",
       "<td style=\" padding:0.2cm; text-align:left; vertical-align:top; text-align:center;  \">&#45;0.97&nbsp;&ndash;&nbsp;17.34</td>\n",
       "<td style=\" padding:0.2cm; text-align:left; vertical-align:top; text-align:center;  \">0.080</td>\n",
       "</tr>\n",
       "<tr>\n",
       "<td style=\" padding:0.2cm; text-align:left; vertical-align:top; text-align:left; \">other psych treatment yn<br>[Yes]</td>\n",
       "<td style=\" padding:0.2cm; text-align:left; vertical-align:top; text-align:center;  \">3.72</td>\n",
       "<td style=\" padding:0.2cm; text-align:left; vertical-align:top; text-align:center;  \">&#45;1.43&nbsp;&ndash;&nbsp;8.87</td>\n",
       "<td style=\" padding:0.2cm; text-align:left; vertical-align:top; text-align:center;  \">0.156</td>\n",
       "</tr>\n",
       "<tr>\n",
       "<td style=\" padding:0.2cm; text-align:left; vertical-align:top; text-align:left; \">other medications yn<br>[Yes]</td>\n",
       "<td style=\" padding:0.2cm; text-align:left; vertical-align:top; text-align:center;  \">5.35</td>\n",
       "<td style=\" padding:0.2cm; text-align:left; vertical-align:top; text-align:center;  \">1.18&nbsp;&ndash;&nbsp;9.53</td>\n",
       "<td style=\" padding:0.2cm; text-align:left; vertical-align:top; text-align:center;  \"><strong>0.012</strong></td>\n",
       "</tr>\n",
       "<tr>\n",
       "<td style=\" padding:0.2cm; text-align:left; vertical-align:top; text-align:left; \">time c × arm cfam and<br>achess vs C</td>\n",
       "<td style=\" padding:0.2cm; text-align:left; vertical-align:top; text-align:center;  \">&#45;1.55</td>\n",
       "<td style=\" padding:0.2cm; text-align:left; vertical-align:top; text-align:center;  \">&#45;4.53&nbsp;&ndash;&nbsp;1.43</td>\n",
       "<td style=\" padding:0.2cm; text-align:left; vertical-align:top; text-align:center;  \">0.308</td>\n",
       "</tr>\n",
       "<tr>\n",
       "<td style=\" padding:0.2cm; text-align:left; vertical-align:top; text-align:left; \">time c × arm cachess vs<br>fam</td>\n",
       "<td style=\" padding:0.2cm; text-align:left; vertical-align:top; text-align:center;  \">0.75</td>\n",
       "<td style=\" padding:0.2cm; text-align:left; vertical-align:top; text-align:center;  \">&#45;2.56&nbsp;&ndash;&nbsp;4.07</td>\n",
       "<td style=\" padding:0.2cm; text-align:left; vertical-align:top; text-align:center;  \">0.655</td>\n",
       "</tr>\n",
       "\n",
       "<tr>\n",
       "<td style=\" padding:0.2cm; text-align:left; vertical-align:top; text-align:left; padding-top:0.1cm; padding-bottom:0.1cm;\">N <sub>study_id</sub></td>\n",
       "<td style=\" padding:0.2cm; text-align:left; vertical-align:top; padding-top:0.1cm; padding-bottom:0.1cm; text-align:left;\" colspan=\"3\">170</td>\n",
       "<tr>\n",
       "<td style=\" padding:0.2cm; text-align:left; vertical-align:top; text-align:left; padding-top:0.1cm; padding-bottom:0.1cm; border-top:1px solid;\">Observations</td>\n",
       "<td style=\" padding:0.2cm; text-align:left; vertical-align:top; padding-top:0.1cm; padding-bottom:0.1cm; text-align:left; border-top:1px solid;\" colspan=\"3\">452</td>\n",
       "</tr>\n",
       "<tr>\n",
       "<td style=\" padding:0.2cm; text-align:left; vertical-align:top; text-align:left; padding-top:0.1cm; padding-bottom:0.1cm;\">Marginal R<sup>2</sup> / Conditional R<sup>2</sup></td>\n",
       "<td style=\" padding:0.2cm; text-align:left; vertical-align:top; padding-top:0.1cm; padding-bottom:0.1cm; text-align:left;\" colspan=\"3\">0.508 / 0.767</td>\n",
       "</tr>\n",
       "\n",
       "</table>\n"
      ]
     }
    },
    {
     "output_type": "display_data",
     "metadata": {},
     "data": {
      "text/html": [
       "<table style=\"border-collapse:collapse; border:none;\">\n",
       "<tr>\n",
       "<th style=\"border-top: double; text-align:center; font-style:normal; font-weight:bold; padding:0.2cm;  text-align:left; \">&nbsp;</th>\n",
       "<th colspan=\"3\" style=\"border-top: double; text-align:center; font-style:normal; font-weight:bold; padding:0.2cm; \">oq 45 scored</th>\n",
       "</tr>\n",
       "<tr>\n",
       "<td style=\" text-align:center; border-bottom:1px solid; font-style:italic; font-weight:normal;  text-align:left; \">Predictors</td>\n",
       "<td style=\" text-align:center; border-bottom:1px solid; font-style:italic; font-weight:normal;  \">Estimates</td>\n",
       "<td style=\" text-align:center; border-bottom:1px solid; font-style:italic; font-weight:normal;  \">CI</td>\n",
       "<td style=\" text-align:center; border-bottom:1px solid; font-style:italic; font-weight:normal;  \">p</td>\n",
       "</tr>\n",
       "<tr>\n",
       "<td style=\" padding:0.2cm; text-align:left; vertical-align:top; text-align:left; \">(Intercept)</td>\n",
       "<td style=\" padding:0.2cm; text-align:left; vertical-align:top; text-align:center;  \">53.80</td>\n",
       "<td style=\" padding:0.2cm; text-align:left; vertical-align:top; text-align:center;  \">50.92&nbsp;&ndash;&nbsp;56.68</td>\n",
       "<td style=\" padding:0.2cm; text-align:left; vertical-align:top; text-align:center;  \"><strong>&lt;0.001</strong></td>\n",
       "</tr>\n",
       "<tr>\n",
       "<td style=\" padding:0.2cm; text-align:left; vertical-align:top; text-align:left; \">time c</td>\n",
       "<td style=\" padding:0.2cm; text-align:left; vertical-align:top; text-align:center;  \">&#45;3.35</td>\n",
       "<td style=\" padding:0.2cm; text-align:left; vertical-align:top; text-align:center;  \">&#45;4.93&nbsp;&ndash;&nbsp;-1.77</td>\n",
       "<td style=\" padding:0.2cm; text-align:left; vertical-align:top; text-align:center;  \"><strong>&lt;0.001</strong></td>\n",
       "</tr>\n",
       "<tr>\n",
       "<td style=\" padding:0.2cm; text-align:left; vertical-align:top; text-align:left; \">arm cfam and achess vs C</td>\n",
       "<td style=\" padding:0.2cm; text-align:left; vertical-align:top; text-align:center;  \">&#45;7.11</td>\n",
       "<td style=\" padding:0.2cm; text-align:left; vertical-align:top; text-align:center;  \">&#45;12.70&nbsp;&ndash;&nbsp;-1.52</td>\n",
       "<td style=\" padding:0.2cm; text-align:left; vertical-align:top; text-align:center;  \"><strong>0.013</strong></td>\n",
       "</tr>\n",
       "<tr>\n",
       "<td style=\" padding:0.2cm; text-align:left; vertical-align:top; text-align:left; \">arm cachess vs fam</td>\n",
       "<td style=\" padding:0.2cm; text-align:left; vertical-align:top; text-align:center;  \">0.25</td>\n",
       "<td style=\" padding:0.2cm; text-align:left; vertical-align:top; text-align:center;  \">&#45;6.11&nbsp;&ndash;&nbsp;6.61</td>\n",
       "<td style=\" padding:0.2cm; text-align:left; vertical-align:top; text-align:center;  \">0.939</td>\n",
       "</tr>\n",
       "<tr>\n",
       "<td style=\" padding:0.2cm; text-align:left; vertical-align:top; text-align:left; \">oq45 0</td>\n",
       "<td style=\" padding:0.2cm; text-align:left; vertical-align:top; text-align:center;  \">0.69</td>\n",
       "<td style=\" padding:0.2cm; text-align:left; vertical-align:top; text-align:center;  \">0.58&nbsp;&ndash;&nbsp;0.79</td>\n",
       "<td style=\" padding:0.2cm; text-align:left; vertical-align:top; text-align:center;  \"><strong>&lt;0.001</strong></td>\n",
       "</tr>\n",
       "<tr>\n",
       "<td style=\" padding:0.2cm; text-align:left; vertical-align:top; text-align:left; \">mat yn [Yes]</td>\n",
       "<td style=\" padding:0.2cm; text-align:left; vertical-align:top; text-align:center;  \">6.86</td>\n",
       "<td style=\" padding:0.2cm; text-align:left; vertical-align:top; text-align:center;  \">2.05&nbsp;&ndash;&nbsp;11.68</td>\n",
       "<td style=\" padding:0.2cm; text-align:left; vertical-align:top; text-align:center;  \"><strong>0.005</strong></td>\n",
       "</tr>\n",
       "<tr>\n",
       "<td style=\" padding:0.2cm; text-align:left; vertical-align:top; text-align:left; \">time c × arm cfam and<br>achess vs C</td>\n",
       "<td style=\" padding:0.2cm; text-align:left; vertical-align:top; text-align:center;  \">&#45;0.24</td>\n",
       "<td style=\" padding:0.2cm; text-align:left; vertical-align:top; text-align:center;  \">&#45;3.56&nbsp;&ndash;&nbsp;3.08</td>\n",
       "<td style=\" padding:0.2cm; text-align:left; vertical-align:top; text-align:center;  \">0.887</td>\n",
       "</tr>\n",
       "<tr>\n",
       "<td style=\" padding:0.2cm; text-align:left; vertical-align:top; text-align:left; \">time c × arm cachess vs<br>fam</td>\n",
       "<td style=\" padding:0.2cm; text-align:left; vertical-align:top; text-align:center;  \">&#45;1.07</td>\n",
       "<td style=\" padding:0.2cm; text-align:left; vertical-align:top; text-align:center;  \">&#45;4.97&nbsp;&ndash;&nbsp;2.83</td>\n",
       "<td style=\" padding:0.2cm; text-align:left; vertical-align:top; text-align:center;  \">0.590</td>\n",
       "</tr>\n",
       "\n",
       "<tr>\n",
       "<td style=\" padding:0.2cm; text-align:left; vertical-align:top; text-align:left; padding-top:0.1cm; padding-bottom:0.1cm;\">N <sub>study_id</sub></td>\n",
       "<td style=\" padding:0.2cm; text-align:left; vertical-align:top; padding-top:0.1cm; padding-bottom:0.1cm; text-align:left;\" colspan=\"3\">167</td>\n",
       "<tr>\n",
       "<td style=\" padding:0.2cm; text-align:left; vertical-align:top; text-align:left; padding-top:0.1cm; padding-bottom:0.1cm; border-top:1px solid;\">Observations</td>\n",
       "<td style=\" padding:0.2cm; text-align:left; vertical-align:top; padding-top:0.1cm; padding-bottom:0.1cm; text-align:left; border-top:1px solid;\" colspan=\"3\">432</td>\n",
       "</tr>\n",
       "<tr>\n",
       "<td style=\" padding:0.2cm; text-align:left; vertical-align:top; text-align:left; padding-top:0.1cm; padding-bottom:0.1cm;\">Marginal R<sup>2</sup> / Conditional R<sup>2</sup></td>\n",
       "<td style=\" padding:0.2cm; text-align:left; vertical-align:top; padding-top:0.1cm; padding-bottom:0.1cm; text-align:left;\" colspan=\"3\">0.445 / 0.808</td>\n",
       "</tr>\n",
       "\n",
       "</table>\n"
      ]
     }
    }
   ],
   "source": [
    "lmer(oq45_scored ~ time_c*arm_c + oq45_0 + edu_c + outpatient_yn_ever + \n",
    "       other_psych_treatment_yn + other_medications_yn + \n",
    "       (1 + time_c | study_id), data = subset(data, dyad == \"Partner\")) |> \n",
    "  sjPlot::tab_model(show.re.var = F, show.icc = F)\n"
   ],
   "id": "ac892be4-c79e-4799-a1bc-99fd33bdbf5f"
  },
  {
   "cell_type": "markdown",
   "metadata": {},
   "source": [
    "#### Secondary Patient Outcome: `per_days_abstinent`\n",
    "\n",
    "Distribution of residuals  \n",
    "*Looks fine*"
   ],
   "id": "906a65fe-ef53-430c-9af0-1cc466a6dc86"
  },
  {
   "cell_type": "code",
   "execution_count": null,
   "metadata": {},
   "outputs": [
    {
     "output_type": "display_data",
     "metadata": {},
     "data": {
      "image/png": "[encoded data removed]"
     }
    }
   ],
   "source": [
    "model_patient_sec <- lmer(per_days_abstinent ~ time_c*arm_c + pda_0 + \n",
    "                             (1 + time_c | study_id), \n",
    "                          data = subset(data, dyad == \"Patient\"))\n",
    "\n",
    "tibble(error = residuals(model_patient_sec)) |> \n",
    "  ggplot(aes(x = error)) +\n",
    "  geom_histogram(color = \"black\", fill = \"light grey\", bins = 30)\n"
   ],
   "id": "e79edf3f-cb43-454a-ae15-9c0c0c666255"
  },
  {
   "cell_type": "markdown",
   "metadata": {},
   "source": [
    "##### Look for significant covariates\n",
    "\n",
    "`race_white_only` - not significant"
   ],
   "id": "b3c48bd7-a184-4610-80c8-ab54626f0e3e"
  },
  {
   "cell_type": "code",
   "execution_count": null,
   "metadata": {},
   "outputs": [
    {
     "output_type": "display_data",
     "metadata": {},
     "data": {
      "text/html": [
       "<table style=\"border-collapse:collapse; border:none;\">\n",
       "<tr>\n",
       "<th style=\"border-top: double; text-align:center; font-style:normal; font-weight:bold; padding:0.2cm;  text-align:left; \">&nbsp;</th>\n",
       "<th colspan=\"3\" style=\"border-top: double; text-align:center; font-style:normal; font-weight:bold; padding:0.2cm; \">per days abstinent</th>\n",
       "</tr>\n",
       "<tr>\n",
       "<td style=\" text-align:center; border-bottom:1px solid; font-style:italic; font-weight:normal;  text-align:left; \">Predictors</td>\n",
       "<td style=\" text-align:center; border-bottom:1px solid; font-style:italic; font-weight:normal;  \">Estimates</td>\n",
       "<td style=\" text-align:center; border-bottom:1px solid; font-style:italic; font-weight:normal;  \">CI</td>\n",
       "<td style=\" text-align:center; border-bottom:1px solid; font-style:italic; font-weight:normal;  \">p</td>\n",
       "</tr>\n",
       "<tr>\n",
       "<td style=\" padding:0.2cm; text-align:left; vertical-align:top; text-align:left; \">race white only [Yes]</td>\n",
       "<td style=\" padding:0.2cm; text-align:left; vertical-align:top; text-align:center;  \">5.79</td>\n",
       "<td style=\" padding:0.2cm; text-align:left; vertical-align:top; text-align:center;  \">&#45;3.72&nbsp;&ndash;&nbsp;15.30</td>\n",
       "<td style=\" padding:0.2cm; text-align:left; vertical-align:top; text-align:center;  \">0.232</td>\n",
       "</tr>\n",
       "\n",
       "<tr>\n",
       "<td style=\" padding:0.2cm; text-align:left; vertical-align:top; text-align:left; padding-top:0.1cm; padding-bottom:0.1cm;\">N <sub>study_id</sub></td>\n",
       "<td style=\" padding:0.2cm; text-align:left; vertical-align:top; padding-top:0.1cm; padding-bottom:0.1cm; text-align:left;\" colspan=\"3\">157</td>\n",
       "<tr>\n",
       "<td style=\" padding:0.2cm; text-align:left; vertical-align:top; text-align:left; padding-top:0.1cm; padding-bottom:0.1cm; border-top:1px solid;\">Observations</td>\n",
       "<td style=\" padding:0.2cm; text-align:left; vertical-align:top; padding-top:0.1cm; padding-bottom:0.1cm; text-align:left; border-top:1px solid;\" colspan=\"3\">427</td>\n",
       "</tr>\n",
       "<tr>\n",
       "<td style=\" padding:0.2cm; text-align:left; vertical-align:top; text-align:left; padding-top:0.1cm; padding-bottom:0.1cm;\">Marginal R<sup>2</sup> / Conditional R<sup>2</sup></td>\n",
       "<td style=\" padding:0.2cm; text-align:left; vertical-align:top; padding-top:0.1cm; padding-bottom:0.1cm; text-align:left;\" colspan=\"3\">0.367 / 0.845</td>\n",
       "</tr>\n",
       "\n",
       "</table>\n"
      ]
     }
    }
   ],
   "source": [
    "lmer(per_days_abstinent ~ time_c*arm_c + pda_0 + race_white_only + \n",
    "       (1 + time_c | study_id), data = subset(data, dyad == \"Patient\")) |> \n",
    "  sjPlot::tab_model(show.re.var = F, show.icc = F, \n",
    "                    terms = c(\"race_white_onlyYes\"))\n"
   ],
   "id": "e0be8bc5-e7e4-4a21-95e8-2b921d6da193"
  },
  {
   "cell_type": "markdown",
   "metadata": {},
   "source": [
    "`age_c` - not significant"
   ],
   "id": "33af9d88-cb8e-47e4-a172-b8ed9066c505"
  },
  {
   "cell_type": "code",
   "execution_count": null,
   "metadata": {},
   "outputs": [
    {
     "output_type": "display_data",
     "metadata": {},
     "data": {
      "text/html": [
       "<table style=\"border-collapse:collapse; border:none;\">\n",
       "<tr>\n",
       "<th style=\"border-top: double; text-align:center; font-style:normal; font-weight:bold; padding:0.2cm;  text-align:left; \">&nbsp;</th>\n",
       "<th colspan=\"3\" style=\"border-top: double; text-align:center; font-style:normal; font-weight:bold; padding:0.2cm; \">per days abstinent</th>\n",
       "</tr>\n",
       "<tr>\n",
       "<td style=\" text-align:center; border-bottom:1px solid; font-style:italic; font-weight:normal;  text-align:left; \">Predictors</td>\n",
       "<td style=\" text-align:center; border-bottom:1px solid; font-style:italic; font-weight:normal;  \">Estimates</td>\n",
       "<td style=\" text-align:center; border-bottom:1px solid; font-style:italic; font-weight:normal;  \">CI</td>\n",
       "<td style=\" text-align:center; border-bottom:1px solid; font-style:italic; font-weight:normal;  \">p</td>\n",
       "</tr>\n",
       "<tr>\n",
       "<td style=\" padding:0.2cm; text-align:left; vertical-align:top; text-align:left; \">age c</td>\n",
       "<td style=\" padding:0.2cm; text-align:left; vertical-align:top; text-align:center;  \">&#45;0.25</td>\n",
       "<td style=\" padding:0.2cm; text-align:left; vertical-align:top; text-align:center;  \">&#45;0.59&nbsp;&ndash;&nbsp;0.08</td>\n",
       "<td style=\" padding:0.2cm; text-align:left; vertical-align:top; text-align:center;  \">0.133</td>\n",
       "</tr>\n",
       "\n",
       "<tr>\n",
       "<td style=\" padding:0.2cm; text-align:left; vertical-align:top; text-align:left; padding-top:0.1cm; padding-bottom:0.1cm;\">N <sub>study_id</sub></td>\n",
       "<td style=\" padding:0.2cm; text-align:left; vertical-align:top; padding-top:0.1cm; padding-bottom:0.1cm; text-align:left;\" colspan=\"3\">156</td>\n",
       "<tr>\n",
       "<td style=\" padding:0.2cm; text-align:left; vertical-align:top; text-align:left; padding-top:0.1cm; padding-bottom:0.1cm; border-top:1px solid;\">Observations</td>\n",
       "<td style=\" padding:0.2cm; text-align:left; vertical-align:top; padding-top:0.1cm; padding-bottom:0.1cm; text-align:left; border-top:1px solid;\" colspan=\"3\">424</td>\n",
       "</tr>\n",
       "<tr>\n",
       "<td style=\" padding:0.2cm; text-align:left; vertical-align:top; text-align:left; padding-top:0.1cm; padding-bottom:0.1cm;\">Marginal R<sup>2</sup> / Conditional R<sup>2</sup></td>\n",
       "<td style=\" padding:0.2cm; text-align:left; vertical-align:top; padding-top:0.1cm; padding-bottom:0.1cm; text-align:left;\" colspan=\"3\">0.368 / 0.842</td>\n",
       "</tr>\n",
       "\n",
       "</table>\n"
      ]
     }
    }
   ],
   "source": [
    "lmer(per_days_abstinent ~ time_c*arm_c + pda_0 + age_c + \n",
    "       (1 + time_c | study_id), data = subset(data, dyad == \"Patient\")) |> \n",
    "  sjPlot::tab_model(show.re.var = F, show.icc = F, terms = c(\"age_c\"))\n"
   ],
   "id": "ef79a3fe-1e23-490d-bcf8-b3d0bfb099d4"
  },
  {
   "cell_type": "markdown",
   "metadata": {},
   "source": [
    "`edu_c` - not significant"
   ],
   "id": "cddbd711-2630-45a4-965f-c2398a355c80"
  },
  {
   "cell_type": "code",
   "execution_count": null,
   "metadata": {},
   "outputs": [
    {
     "output_type": "display_data",
     "metadata": {},
     "data": {
      "text/html": [
       "<table style=\"border-collapse:collapse; border:none;\">\n",
       "<tr>\n",
       "<th style=\"border-top: double; text-align:center; font-style:normal; font-weight:bold; padding:0.2cm;  text-align:left; \">&nbsp;</th>\n",
       "<th colspan=\"3\" style=\"border-top: double; text-align:center; font-style:normal; font-weight:bold; padding:0.2cm; \">per days abstinent</th>\n",
       "</tr>\n",
       "<tr>\n",
       "<td style=\" text-align:center; border-bottom:1px solid; font-style:italic; font-weight:normal;  text-align:left; \">Predictors</td>\n",
       "<td style=\" text-align:center; border-bottom:1px solid; font-style:italic; font-weight:normal;  \">Estimates</td>\n",
       "<td style=\" text-align:center; border-bottom:1px solid; font-style:italic; font-weight:normal;  \">CI</td>\n",
       "<td style=\" text-align:center; border-bottom:1px solid; font-style:italic; font-weight:normal;  \">p</td>\n",
       "</tr>\n",
       "<tr>\n",
       "<td style=\" padding:0.2cm; text-align:left; vertical-align:top; text-align:left; \">edu c</td>\n",
       "<td style=\" padding:0.2cm; text-align:left; vertical-align:top; text-align:center;  \">&#45;0.56</td>\n",
       "<td style=\" padding:0.2cm; text-align:left; vertical-align:top; text-align:center;  \">&#45;4.40&nbsp;&ndash;&nbsp;3.27</td>\n",
       "<td style=\" padding:0.2cm; text-align:left; vertical-align:top; text-align:center;  \">0.773</td>\n",
       "</tr>\n",
       "\n",
       "<tr>\n",
       "<td style=\" padding:0.2cm; text-align:left; vertical-align:top; text-align:left; padding-top:0.1cm; padding-bottom:0.1cm;\">N <sub>study_id</sub></td>\n",
       "<td style=\" padding:0.2cm; text-align:left; vertical-align:top; padding-top:0.1cm; padding-bottom:0.1cm; text-align:left;\" colspan=\"3\">157</td>\n",
       "<tr>\n",
       "<td style=\" padding:0.2cm; text-align:left; vertical-align:top; text-align:left; padding-top:0.1cm; padding-bottom:0.1cm; border-top:1px solid;\">Observations</td>\n",
       "<td style=\" padding:0.2cm; text-align:left; vertical-align:top; padding-top:0.1cm; padding-bottom:0.1cm; text-align:left; border-top:1px solid;\" colspan=\"3\">427</td>\n",
       "</tr>\n",
       "<tr>\n",
       "<td style=\" padding:0.2cm; text-align:left; vertical-align:top; text-align:left; padding-top:0.1cm; padding-bottom:0.1cm;\">Marginal R<sup>2</sup> / Conditional R<sup>2</sup></td>\n",
       "<td style=\" padding:0.2cm; text-align:left; vertical-align:top; padding-top:0.1cm; padding-bottom:0.1cm; text-align:left;\" colspan=\"3\">0.362 / 0.844</td>\n",
       "</tr>\n",
       "\n",
       "</table>\n"
      ]
     }
    }
   ],
   "source": [
    "lmer(per_days_abstinent ~ time_c*arm_c + pda_0 + edu_c + \n",
    "       (1 + time_c | study_id), data = subset(data, dyad == \"Patient\")) |> \n",
    "  sjPlot::tab_model(show.re.var = F, show.icc = F, terms = c(\"edu_c\"))\n"
   ],
   "id": "51d6b03e-5ae1-4e4c-a059-2b38d2711fd9"
  },
  {
   "cell_type": "markdown",
   "metadata": {},
   "source": [
    "`meetings_yn` - **significant**"
   ],
   "id": "a6e91cc7-e409-467f-a70d-88464833a208"
  },
  {
   "cell_type": "code",
   "execution_count": null,
   "metadata": {},
   "outputs": [
    {
     "output_type": "display_data",
     "metadata": {},
     "data": {
      "text/html": [
       "<table style=\"border-collapse:collapse; border:none;\">\n",
       "<tr>\n",
       "<th style=\"border-top: double; text-align:center; font-style:normal; font-weight:bold; padding:0.2cm;  text-align:left; \">&nbsp;</th>\n",
       "<th colspan=\"3\" style=\"border-top: double; text-align:center; font-style:normal; font-weight:bold; padding:0.2cm; \">per days abstinent</th>\n",
       "</tr>\n",
       "<tr>\n",
       "<td style=\" text-align:center; border-bottom:1px solid; font-style:italic; font-weight:normal;  text-align:left; \">Predictors</td>\n",
       "<td style=\" text-align:center; border-bottom:1px solid; font-style:italic; font-weight:normal;  \">Estimates</td>\n",
       "<td style=\" text-align:center; border-bottom:1px solid; font-style:italic; font-weight:normal;  \">CI</td>\n",
       "<td style=\" text-align:center; border-bottom:1px solid; font-style:italic; font-weight:normal;  \">p</td>\n",
       "</tr>\n",
       "<tr>\n",
       "<td style=\" padding:0.2cm; text-align:left; vertical-align:top; text-align:left; \">meetings yn [Yes]</td>\n",
       "<td style=\" padding:0.2cm; text-align:left; vertical-align:top; text-align:center;  \">9.85</td>\n",
       "<td style=\" padding:0.2cm; text-align:left; vertical-align:top; text-align:center;  \">3.10&nbsp;&ndash;&nbsp;16.59</td>\n",
       "<td style=\" padding:0.2cm; text-align:left; vertical-align:top; text-align:center;  \"><strong>0.004</strong></td>\n",
       "</tr>\n",
       "\n",
       "<tr>\n",
       "<td style=\" padding:0.2cm; text-align:left; vertical-align:top; text-align:left; padding-top:0.1cm; padding-bottom:0.1cm;\">N <sub>study_id</sub></td>\n",
       "<td style=\" padding:0.2cm; text-align:left; vertical-align:top; padding-top:0.1cm; padding-bottom:0.1cm; text-align:left;\" colspan=\"3\">158</td>\n",
       "<tr>\n",
       "<td style=\" padding:0.2cm; text-align:left; vertical-align:top; text-align:left; padding-top:0.1cm; padding-bottom:0.1cm; border-top:1px solid;\">Observations</td>\n",
       "<td style=\" padding:0.2cm; text-align:left; vertical-align:top; padding-top:0.1cm; padding-bottom:0.1cm; text-align:left; border-top:1px solid;\" colspan=\"3\">413</td>\n",
       "</tr>\n",
       "<tr>\n",
       "<td style=\" padding:0.2cm; text-align:left; vertical-align:top; text-align:left; padding-top:0.1cm; padding-bottom:0.1cm;\">Marginal R<sup>2</sup> / Conditional R<sup>2</sup></td>\n",
       "<td style=\" padding:0.2cm; text-align:left; vertical-align:top; padding-top:0.1cm; padding-bottom:0.1cm; text-align:left;\" colspan=\"3\">0.358 / 0.847</td>\n",
       "</tr>\n",
       "\n",
       "</table>\n"
      ]
     }
    }
   ],
   "source": [
    "lmer(per_days_abstinent ~ time_c*arm_c + pda_0 + meetings_yn + \n",
    "       (1 + time_c | study_id), data = subset(data, dyad == \"Patient\")) |> \n",
    "  sjPlot::tab_model(show.re.var = F, show.icc = F, terms = c(\"meetings_ynYes\"))\n"
   ],
   "id": "09de2cab-5c11-4a9c-99b3-9e1bc972ee5e"
  },
  {
   "cell_type": "markdown",
   "metadata": {},
   "source": [
    "`outpatient_yn_ever` - **significant**"
   ],
   "id": "acdace06-8d05-4b56-9c34-cc97d8c2eb82"
  },
  {
   "cell_type": "code",
   "execution_count": null,
   "metadata": {},
   "outputs": [
    {
     "output_type": "display_data",
     "metadata": {},
     "data": {
      "text/html": [
       "<table style=\"border-collapse:collapse; border:none;\">\n",
       "<tr>\n",
       "<th style=\"border-top: double; text-align:center; font-style:normal; font-weight:bold; padding:0.2cm;  text-align:left; \">&nbsp;</th>\n",
       "<th colspan=\"3\" style=\"border-top: double; text-align:center; font-style:normal; font-weight:bold; padding:0.2cm; \">per days abstinent</th>\n",
       "</tr>\n",
       "<tr>\n",
       "<td style=\" text-align:center; border-bottom:1px solid; font-style:italic; font-weight:normal;  text-align:left; \">Predictors</td>\n",
       "<td style=\" text-align:center; border-bottom:1px solid; font-style:italic; font-weight:normal;  \">Estimates</td>\n",
       "<td style=\" text-align:center; border-bottom:1px solid; font-style:italic; font-weight:normal;  \">CI</td>\n",
       "<td style=\" text-align:center; border-bottom:1px solid; font-style:italic; font-weight:normal;  \">p</td>\n",
       "</tr>\n",
       "<tr>\n",
       "<td style=\" padding:0.2cm; text-align:left; vertical-align:top; text-align:left; \">outpatient yn ever [Yes]</td>\n",
       "<td style=\" padding:0.2cm; text-align:left; vertical-align:top; text-align:center;  \">9.97</td>\n",
       "<td style=\" padding:0.2cm; text-align:left; vertical-align:top; text-align:center;  \">0.86&nbsp;&ndash;&nbsp;19.08</td>\n",
       "<td style=\" padding:0.2cm; text-align:left; vertical-align:top; text-align:center;  \"><strong>0.032</strong></td>\n",
       "</tr>\n",
       "\n",
       "<tr>\n",
       "<td style=\" padding:0.2cm; text-align:left; vertical-align:top; text-align:left; padding-top:0.1cm; padding-bottom:0.1cm;\">N <sub>study_id</sub></td>\n",
       "<td style=\" padding:0.2cm; text-align:left; vertical-align:top; padding-top:0.1cm; padding-bottom:0.1cm; text-align:left;\" colspan=\"3\">158</td>\n",
       "<tr>\n",
       "<td style=\" padding:0.2cm; text-align:left; vertical-align:top; text-align:left; padding-top:0.1cm; padding-bottom:0.1cm; border-top:1px solid;\">Observations</td>\n",
       "<td style=\" padding:0.2cm; text-align:left; vertical-align:top; padding-top:0.1cm; padding-bottom:0.1cm; text-align:left; border-top:1px solid;\" colspan=\"3\">430</td>\n",
       "</tr>\n",
       "<tr>\n",
       "<td style=\" padding:0.2cm; text-align:left; vertical-align:top; text-align:left; padding-top:0.1cm; padding-bottom:0.1cm;\">Marginal R<sup>2</sup> / Conditional R<sup>2</sup></td>\n",
       "<td style=\" padding:0.2cm; text-align:left; vertical-align:top; padding-top:0.1cm; padding-bottom:0.1cm; text-align:left;\" colspan=\"3\">0.364 / 0.844</td>\n",
       "</tr>\n",
       "\n",
       "</table>\n"
      ]
     }
    }
   ],
   "source": [
    "lmer(per_days_abstinent ~ time_c*arm_c + pda_0 + outpatient_yn_ever + \n",
    "       (1 + time_c | study_id), data = subset(data, dyad == \"Patient\")) |> \n",
    "  sjPlot::tab_model(show.re.var = F, show.icc = F, \n",
    "                    terms = c(\"outpatient_yn_everYes\"))\n"
   ],
   "id": "b920da16-5801-4ca6-b41c-3e0eaea8cb6b"
  },
  {
   "cell_type": "markdown",
   "metadata": {},
   "source": [
    "`er_yn_ever` - Not significant"
   ],
   "id": "7ec1aacf-71fd-48ea-b6a7-ae5182a01525"
  },
  {
   "cell_type": "code",
   "execution_count": null,
   "metadata": {},
   "outputs": [
    {
     "output_type": "display_data",
     "metadata": {},
     "data": {
      "text/html": [
       "<table style=\"border-collapse:collapse; border:none;\">\n",
       "<tr>\n",
       "<th style=\"border-top: double; text-align:center; font-style:normal; font-weight:bold; padding:0.2cm;  text-align:left; \">&nbsp;</th>\n",
       "<th colspan=\"3\" style=\"border-top: double; text-align:center; font-style:normal; font-weight:bold; padding:0.2cm; \">per days abstinent</th>\n",
       "</tr>\n",
       "<tr>\n",
       "<td style=\" text-align:center; border-bottom:1px solid; font-style:italic; font-weight:normal;  text-align:left; \">Predictors</td>\n",
       "<td style=\" text-align:center; border-bottom:1px solid; font-style:italic; font-weight:normal;  \">Estimates</td>\n",
       "<td style=\" text-align:center; border-bottom:1px solid; font-style:italic; font-weight:normal;  \">CI</td>\n",
       "<td style=\" text-align:center; border-bottom:1px solid; font-style:italic; font-weight:normal;  \">p</td>\n",
       "</tr>\n",
       "<tr>\n",
       "<td style=\" padding:0.2cm; text-align:left; vertical-align:top; text-align:left; \">er yn ever [Yes]</td>\n",
       "<td style=\" padding:0.2cm; text-align:left; vertical-align:top; text-align:center;  \">8.07</td>\n",
       "<td style=\" padding:0.2cm; text-align:left; vertical-align:top; text-align:center;  \">&#45;1.33&nbsp;&ndash;&nbsp;17.46</td>\n",
       "<td style=\" padding:0.2cm; text-align:left; vertical-align:top; text-align:center;  \">0.092</td>\n",
       "</tr>\n",
       "\n",
       "<tr>\n",
       "<td style=\" padding:0.2cm; text-align:left; vertical-align:top; text-align:left; padding-top:0.1cm; padding-bottom:0.1cm;\">N <sub>study_id</sub></td>\n",
       "<td style=\" padding:0.2cm; text-align:left; vertical-align:top; padding-top:0.1cm; padding-bottom:0.1cm; text-align:left;\" colspan=\"3\">158</td>\n",
       "<tr>\n",
       "<td style=\" padding:0.2cm; text-align:left; vertical-align:top; text-align:left; padding-top:0.1cm; padding-bottom:0.1cm; border-top:1px solid;\">Observations</td>\n",
       "<td style=\" padding:0.2cm; text-align:left; vertical-align:top; padding-top:0.1cm; padding-bottom:0.1cm; text-align:left; border-top:1px solid;\" colspan=\"3\">430</td>\n",
       "</tr>\n",
       "<tr>\n",
       "<td style=\" padding:0.2cm; text-align:left; vertical-align:top; text-align:left; padding-top:0.1cm; padding-bottom:0.1cm;\">Marginal R<sup>2</sup> / Conditional R<sup>2</sup></td>\n",
       "<td style=\" padding:0.2cm; text-align:left; vertical-align:top; padding-top:0.1cm; padding-bottom:0.1cm; text-align:left;\" colspan=\"3\">0.355 / 0.843</td>\n",
       "</tr>\n",
       "\n",
       "</table>\n"
      ]
     }
    }
   ],
   "source": [
    "lmer(per_days_abstinent ~ time_c*arm_c + pda_0 + er_yn_ever + \n",
    "       (1 + time_c | study_id), data = subset(data, dyad == \"Patient\")) |> \n",
    "  sjPlot::tab_model(show.re.var = F, show.icc = F, terms = c(\"er_yn_everYes\"))\n"
   ],
   "id": "ab881241-57f8-45d6-8896-833b977b9800"
  },
  {
   "cell_type": "markdown",
   "metadata": {},
   "source": [
    "`mat_yn` - not significant"
   ],
   "id": "62d0dff3-92a2-41eb-be08-c9753f76ebd7"
  },
  {
   "cell_type": "code",
   "execution_count": null,
   "metadata": {},
   "outputs": [
    {
     "output_type": "display_data",
     "metadata": {},
     "data": {
      "text/html": [
       "<table style=\"border-collapse:collapse; border:none;\">\n",
       "<tr>\n",
       "<th style=\"border-top: double; text-align:center; font-style:normal; font-weight:bold; padding:0.2cm;  text-align:left; \">&nbsp;</th>\n",
       "<th colspan=\"3\" style=\"border-top: double; text-align:center; font-style:normal; font-weight:bold; padding:0.2cm; \">per days abstinent</th>\n",
       "</tr>\n",
       "<tr>\n",
       "<td style=\" text-align:center; border-bottom:1px solid; font-style:italic; font-weight:normal;  text-align:left; \">Predictors</td>\n",
       "<td style=\" text-align:center; border-bottom:1px solid; font-style:italic; font-weight:normal;  \">Estimates</td>\n",
       "<td style=\" text-align:center; border-bottom:1px solid; font-style:italic; font-weight:normal;  \">CI</td>\n",
       "<td style=\" text-align:center; border-bottom:1px solid; font-style:italic; font-weight:normal;  \">p</td>\n",
       "</tr>\n",
       "<tr>\n",
       "<td style=\" padding:0.2cm; text-align:left; vertical-align:top; text-align:left; \">mat yn [Yes]</td>\n",
       "<td style=\" padding:0.2cm; text-align:left; vertical-align:top; text-align:center;  \">&#45;4.04</td>\n",
       "<td style=\" padding:0.2cm; text-align:left; vertical-align:top; text-align:center;  \">&#45;11.86&nbsp;&ndash;&nbsp;3.79</td>\n",
       "<td style=\" padding:0.2cm; text-align:left; vertical-align:top; text-align:center;  \">0.311</td>\n",
       "</tr>\n",
       "\n",
       "<tr>\n",
       "<td style=\" padding:0.2cm; text-align:left; vertical-align:top; text-align:left; padding-top:0.1cm; padding-bottom:0.1cm;\">N <sub>study_id</sub></td>\n",
       "<td style=\" padding:0.2cm; text-align:left; vertical-align:top; padding-top:0.1cm; padding-bottom:0.1cm; text-align:left;\" colspan=\"3\">158</td>\n",
       "<tr>\n",
       "<td style=\" padding:0.2cm; text-align:left; vertical-align:top; text-align:left; padding-top:0.1cm; padding-bottom:0.1cm; border-top:1px solid;\">Observations</td>\n",
       "<td style=\" padding:0.2cm; text-align:left; vertical-align:top; padding-top:0.1cm; padding-bottom:0.1cm; text-align:left; border-top:1px solid;\" colspan=\"3\">410</td>\n",
       "</tr>\n",
       "<tr>\n",
       "<td style=\" padding:0.2cm; text-align:left; vertical-align:top; text-align:left; padding-top:0.1cm; padding-bottom:0.1cm;\">Marginal R<sup>2</sup> / Conditional R<sup>2</sup></td>\n",
       "<td style=\" padding:0.2cm; text-align:left; vertical-align:top; padding-top:0.1cm; padding-bottom:0.1cm; text-align:left;\" colspan=\"3\">0.342 / 0.838</td>\n",
       "</tr>\n",
       "\n",
       "</table>\n"
      ]
     }
    }
   ],
   "source": [
    "lmer(per_days_abstinent ~ time_c*arm_c + pda_0 + mat_yn + \n",
    "       (1 + time_c | study_id), data = subset(data, dyad == \"Patient\")) |>  \n",
    "  sjPlot::tab_model(show.re.var = F, show.icc = F, terms = c(\"mat_ynYes\"))\n"
   ],
   "id": "ff6e3bf1-37ce-496b-865d-9a67bb74b712"
  },
  {
   "cell_type": "markdown",
   "metadata": {},
   "source": [
    "`inpatient_yn_ever` - **significant**"
   ],
   "id": "a555c688-b5a5-42b0-8038-b89f5835264c"
  },
  {
   "cell_type": "code",
   "execution_count": null,
   "metadata": {},
   "outputs": [
    {
     "output_type": "display_data",
     "metadata": {},
     "data": {
      "text/html": [
       "<table style=\"border-collapse:collapse; border:none;\">\n",
       "<tr>\n",
       "<th style=\"border-top: double; text-align:center; font-style:normal; font-weight:bold; padding:0.2cm;  text-align:left; \">&nbsp;</th>\n",
       "<th colspan=\"3\" style=\"border-top: double; text-align:center; font-style:normal; font-weight:bold; padding:0.2cm; \">per days abstinent</th>\n",
       "</tr>\n",
       "<tr>\n",
       "<td style=\" text-align:center; border-bottom:1px solid; font-style:italic; font-weight:normal;  text-align:left; \">Predictors</td>\n",
       "<td style=\" text-align:center; border-bottom:1px solid; font-style:italic; font-weight:normal;  \">Estimates</td>\n",
       "<td style=\" text-align:center; border-bottom:1px solid; font-style:italic; font-weight:normal;  \">CI</td>\n",
       "<td style=\" text-align:center; border-bottom:1px solid; font-style:italic; font-weight:normal;  \">p</td>\n",
       "</tr>\n",
       "<tr>\n",
       "<td style=\" padding:0.2cm; text-align:left; vertical-align:top; text-align:left; \">inpatient yn ever [Yes]</td>\n",
       "<td style=\" padding:0.2cm; text-align:left; vertical-align:top; text-align:center;  \">12.24</td>\n",
       "<td style=\" padding:0.2cm; text-align:left; vertical-align:top; text-align:center;  \">1.42&nbsp;&ndash;&nbsp;23.06</td>\n",
       "<td style=\" padding:0.2cm; text-align:left; vertical-align:top; text-align:center;  \"><strong>0.027</strong></td>\n",
       "</tr>\n",
       "\n",
       "<tr>\n",
       "<td style=\" padding:0.2cm; text-align:left; vertical-align:top; text-align:left; padding-top:0.1cm; padding-bottom:0.1cm;\">N <sub>study_id</sub></td>\n",
       "<td style=\" padding:0.2cm; text-align:left; vertical-align:top; padding-top:0.1cm; padding-bottom:0.1cm; text-align:left;\" colspan=\"3\">158</td>\n",
       "<tr>\n",
       "<td style=\" padding:0.2cm; text-align:left; vertical-align:top; text-align:left; padding-top:0.1cm; padding-bottom:0.1cm; border-top:1px solid;\">Observations</td>\n",
       "<td style=\" padding:0.2cm; text-align:left; vertical-align:top; padding-top:0.1cm; padding-bottom:0.1cm; text-align:left; border-top:1px solid;\" colspan=\"3\">430</td>\n",
       "</tr>\n",
       "<tr>\n",
       "<td style=\" padding:0.2cm; text-align:left; vertical-align:top; text-align:left; padding-top:0.1cm; padding-bottom:0.1cm;\">Marginal R<sup>2</sup> / Conditional R<sup>2</sup></td>\n",
       "<td style=\" padding:0.2cm; text-align:left; vertical-align:top; padding-top:0.1cm; padding-bottom:0.1cm; text-align:left;\" colspan=\"3\">0.363 / 0.844</td>\n",
       "</tr>\n",
       "\n",
       "</table>\n"
      ]
     }
    }
   ],
   "source": [
    "lmer(per_days_abstinent ~ time_c*arm_c + pda_0 + inpatient_yn_ever + \n",
    "       (1 + time_c | study_id), data = subset(data, dyad == \"Patient\")) |> \n",
    "  sjPlot::tab_model(show.re.var = F, show.icc = F, \n",
    "                    terms = c(\"inpatient_yn_everYes\"))\n"
   ],
   "id": "b78510de-cd59-45dc-b01f-ab62254754ab"
  },
  {
   "cell_type": "markdown",
   "metadata": {},
   "source": [
    "`other_psych_treatment_yn` - not significant"
   ],
   "id": "5db530fe-f4a8-4017-9c4c-02becb4dd134"
  },
  {
   "cell_type": "code",
   "execution_count": null,
   "metadata": {},
   "outputs": [
    {
     "output_type": "display_data",
     "metadata": {},
     "data": {
      "text/html": [
       "<table style=\"border-collapse:collapse; border:none;\">\n",
       "<tr>\n",
       "<th style=\"border-top: double; text-align:center; font-style:normal; font-weight:bold; padding:0.2cm;  text-align:left; \">&nbsp;</th>\n",
       "<th colspan=\"3\" style=\"border-top: double; text-align:center; font-style:normal; font-weight:bold; padding:0.2cm; \">per days abstinent</th>\n",
       "</tr>\n",
       "<tr>\n",
       "<td style=\" text-align:center; border-bottom:1px solid; font-style:italic; font-weight:normal;  text-align:left; \">Predictors</td>\n",
       "<td style=\" text-align:center; border-bottom:1px solid; font-style:italic; font-weight:normal;  \">Estimates</td>\n",
       "<td style=\" text-align:center; border-bottom:1px solid; font-style:italic; font-weight:normal;  \">CI</td>\n",
       "<td style=\" text-align:center; border-bottom:1px solid; font-style:italic; font-weight:normal;  \">p</td>\n",
       "</tr>\n",
       "<tr>\n",
       "<td style=\" padding:0.2cm; text-align:left; vertical-align:top; text-align:left; \">other psych treatment yn<br>[Yes]</td>\n",
       "<td style=\" padding:0.2cm; text-align:left; vertical-align:top; text-align:center;  \">2.47</td>\n",
       "<td style=\" padding:0.2cm; text-align:left; vertical-align:top; text-align:center;  \">&#45;3.83&nbsp;&ndash;&nbsp;8.78</td>\n",
       "<td style=\" padding:0.2cm; text-align:left; vertical-align:top; text-align:center;  \">0.441</td>\n",
       "</tr>\n",
       "\n",
       "<tr>\n",
       "<td style=\" padding:0.2cm; text-align:left; vertical-align:top; text-align:left; padding-top:0.1cm; padding-bottom:0.1cm;\">N <sub>study_id</sub></td>\n",
       "<td style=\" padding:0.2cm; text-align:left; vertical-align:top; padding-top:0.1cm; padding-bottom:0.1cm; text-align:left;\" colspan=\"3\">158</td>\n",
       "<tr>\n",
       "<td style=\" padding:0.2cm; text-align:left; vertical-align:top; text-align:left; padding-top:0.1cm; padding-bottom:0.1cm; border-top:1px solid;\">Observations</td>\n",
       "<td style=\" padding:0.2cm; text-align:left; vertical-align:top; padding-top:0.1cm; padding-bottom:0.1cm; text-align:left; border-top:1px solid;\" colspan=\"3\">413</td>\n",
       "</tr>\n",
       "<tr>\n",
       "<td style=\" padding:0.2cm; text-align:left; vertical-align:top; text-align:left; padding-top:0.1cm; padding-bottom:0.1cm;\">Marginal R<sup>2</sup> / Conditional R<sup>2</sup></td>\n",
       "<td style=\" padding:0.2cm; text-align:left; vertical-align:top; padding-top:0.1cm; padding-bottom:0.1cm; text-align:left;\" colspan=\"3\">0.346 / 0.840</td>\n",
       "</tr>\n",
       "\n",
       "</table>\n"
      ]
     }
    }
   ],
   "source": [
    "lmer(per_days_abstinent ~ time_c*arm_c + pda_0 + other_psych_treatment_yn + \n",
    "       (1 + time_c | study_id), data = subset(data, dyad == \"Patient\")) |> \n",
    "  sjPlot::tab_model(show.re.var = F, show.icc = F, \n",
    "                    terms = c(\"other_psych_treatment_ynYes\"))\n"
   ],
   "id": "96d529f7-5758-46b5-aa5e-cc5ffd41bb20"
  },
  {
   "cell_type": "markdown",
   "metadata": {},
   "source": [
    "`other_medications_yn` - not significant"
   ],
   "id": "32f358a4-a8e3-4664-a4c2-0011bd431eb3"
  },
  {
   "cell_type": "code",
   "execution_count": null,
   "metadata": {},
   "outputs": [
    {
     "output_type": "display_data",
     "metadata": {},
     "data": {
      "text/html": [
       "<table style=\"border-collapse:collapse; border:none;\">\n",
       "<tr>\n",
       "<th style=\"border-top: double; text-align:center; font-style:normal; font-weight:bold; padding:0.2cm;  text-align:left; \">&nbsp;</th>\n",
       "<th colspan=\"3\" style=\"border-top: double; text-align:center; font-style:normal; font-weight:bold; padding:0.2cm; \">per days abstinent</th>\n",
       "</tr>\n",
       "<tr>\n",
       "<td style=\" text-align:center; border-bottom:1px solid; font-style:italic; font-weight:normal;  text-align:left; \">Predictors</td>\n",
       "<td style=\" text-align:center; border-bottom:1px solid; font-style:italic; font-weight:normal;  \">Estimates</td>\n",
       "<td style=\" text-align:center; border-bottom:1px solid; font-style:italic; font-weight:normal;  \">CI</td>\n",
       "<td style=\" text-align:center; border-bottom:1px solid; font-style:italic; font-weight:normal;  \">p</td>\n",
       "</tr>\n",
       "<tr>\n",
       "<td style=\" padding:0.2cm; text-align:left; vertical-align:top; text-align:left; \">other medications yn<br>[Yes]</td>\n",
       "<td style=\" padding:0.2cm; text-align:left; vertical-align:top; text-align:center;  \">0.09</td>\n",
       "<td style=\" padding:0.2cm; text-align:left; vertical-align:top; text-align:center;  \">&#45;6.15&nbsp;&ndash;&nbsp;6.33</td>\n",
       "<td style=\" padding:0.2cm; text-align:left; vertical-align:top; text-align:center;  \">0.978</td>\n",
       "</tr>\n",
       "\n",
       "<tr>\n",
       "<td style=\" padding:0.2cm; text-align:left; vertical-align:top; text-align:left; padding-top:0.1cm; padding-bottom:0.1cm;\">N <sub>study_id</sub></td>\n",
       "<td style=\" padding:0.2cm; text-align:left; vertical-align:top; padding-top:0.1cm; padding-bottom:0.1cm; text-align:left;\" colspan=\"3\">158</td>\n",
       "<tr>\n",
       "<td style=\" padding:0.2cm; text-align:left; vertical-align:top; text-align:left; padding-top:0.1cm; padding-bottom:0.1cm; border-top:1px solid;\">Observations</td>\n",
       "<td style=\" padding:0.2cm; text-align:left; vertical-align:top; padding-top:0.1cm; padding-bottom:0.1cm; text-align:left; border-top:1px solid;\" colspan=\"3\">409</td>\n",
       "</tr>\n",
       "<tr>\n",
       "<td style=\" padding:0.2cm; text-align:left; vertical-align:top; text-align:left; padding-top:0.1cm; padding-bottom:0.1cm;\">Marginal R<sup>2</sup> / Conditional R<sup>2</sup></td>\n",
       "<td style=\" padding:0.2cm; text-align:left; vertical-align:top; padding-top:0.1cm; padding-bottom:0.1cm; text-align:left;\" colspan=\"3\">0.342 / 0.837</td>\n",
       "</tr>\n",
       "\n",
       "</table>\n"
      ]
     }
    }
   ],
   "source": [
    "lmer(per_days_abstinent ~ time_c*arm_c + pda_0 + other_medications_yn + \n",
    "       (1 + time_c | study_id), data = subset(data, dyad == \"Patient\")) |> \n",
    "  sjPlot::tab_model(show.re.var = F, show.icc = F, \n",
    "                    terms = c(\"other_medications_ynYes\"))\n"
   ],
   "id": "d2dcfb8f-02a2-42a6-a498-866b3fa08906"
  },
  {
   "cell_type": "markdown",
   "metadata": {},
   "source": [
    "##### Final Model with Significant Covariates"
   ],
   "id": "7cbe7179-5ffb-49b4-97c6-b04c16805fe3"
  },
  {
   "cell_type": "code",
   "execution_count": null,
   "metadata": {},
   "outputs": [
    {
     "output_type": "display_data",
     "metadata": {},
     "data": {
      "text/html": [
       "<table style=\"border-collapse:collapse; border:none;\">\n",
       "<tr>\n",
       "<th style=\"border-top: double; text-align:center; font-style:normal; font-weight:bold; padding:0.2cm;  text-align:left; \">&nbsp;</th>\n",
       "<th colspan=\"3\" style=\"border-top: double; text-align:center; font-style:normal; font-weight:bold; padding:0.2cm; \">per days abstinent</th>\n",
       "</tr>\n",
       "<tr>\n",
       "<td style=\" text-align:center; border-bottom:1px solid; font-style:italic; font-weight:normal;  text-align:left; \">Predictors</td>\n",
       "<td style=\" text-align:center; border-bottom:1px solid; font-style:italic; font-weight:normal;  \">Estimates</td>\n",
       "<td style=\" text-align:center; border-bottom:1px solid; font-style:italic; font-weight:normal;  \">CI</td>\n",
       "<td style=\" text-align:center; border-bottom:1px solid; font-style:italic; font-weight:normal;  \">p</td>\n",
       "</tr>\n",
       "<tr>\n",
       "<td style=\" padding:0.2cm; text-align:left; vertical-align:top; text-align:left; \">(Intercept)</td>\n",
       "<td style=\" padding:0.2cm; text-align:left; vertical-align:top; text-align:center;  \">56.49</td>\n",
       "<td style=\" padding:0.2cm; text-align:left; vertical-align:top; text-align:center;  \">51.39&nbsp;&ndash;&nbsp;61.59</td>\n",
       "<td style=\" padding:0.2cm; text-align:left; vertical-align:top; text-align:center;  \"><strong>&lt;0.001</strong></td>\n",
       "</tr>\n",
       "<tr>\n",
       "<td style=\" padding:0.2cm; text-align:left; vertical-align:top; text-align:left; \">time c</td>\n",
       "<td style=\" padding:0.2cm; text-align:left; vertical-align:top; text-align:center;  \">5.93</td>\n",
       "<td style=\" padding:0.2cm; text-align:left; vertical-align:top; text-align:center;  \">3.46&nbsp;&ndash;&nbsp;8.39</td>\n",
       "<td style=\" padding:0.2cm; text-align:left; vertical-align:top; text-align:center;  \"><strong>&lt;0.001</strong></td>\n",
       "</tr>\n",
       "<tr>\n",
       "<td style=\" padding:0.2cm; text-align:left; vertical-align:top; text-align:left; \">arm cfam and achess vs C</td>\n",
       "<td style=\" padding:0.2cm; text-align:left; vertical-align:top; text-align:center;  \">1.41</td>\n",
       "<td style=\" padding:0.2cm; text-align:left; vertical-align:top; text-align:center;  \">&#45;7.44&nbsp;&ndash;&nbsp;10.26</td>\n",
       "<td style=\" padding:0.2cm; text-align:left; vertical-align:top; text-align:center;  \">0.755</td>\n",
       "</tr>\n",
       "<tr>\n",
       "<td style=\" padding:0.2cm; text-align:left; vertical-align:top; text-align:left; \">arm cachess vs fam</td>\n",
       "<td style=\" padding:0.2cm; text-align:left; vertical-align:top; text-align:center;  \">&#45;4.78</td>\n",
       "<td style=\" padding:0.2cm; text-align:left; vertical-align:top; text-align:center;  \">&#45;15.04&nbsp;&ndash;&nbsp;5.48</td>\n",
       "<td style=\" padding:0.2cm; text-align:left; vertical-align:top; text-align:center;  \">0.361</td>\n",
       "</tr>\n",
       "<tr>\n",
       "<td style=\" padding:0.2cm; text-align:left; vertical-align:top; text-align:left; \">pda 0</td>\n",
       "<td style=\" padding:0.2cm; text-align:left; vertical-align:top; text-align:center;  \">0.60</td>\n",
       "<td style=\" padding:0.2cm; text-align:left; vertical-align:top; text-align:center;  \">0.48&nbsp;&ndash;&nbsp;0.73</td>\n",
       "<td style=\" padding:0.2cm; text-align:left; vertical-align:top; text-align:center;  \"><strong>&lt;0.001</strong></td>\n",
       "</tr>\n",
       "<tr>\n",
       "<td style=\" padding:0.2cm; text-align:left; vertical-align:top; text-align:left; \">outpatient yn ever [Yes]</td>\n",
       "<td style=\" padding:0.2cm; text-align:left; vertical-align:top; text-align:center;  \">4.57</td>\n",
       "<td style=\" padding:0.2cm; text-align:left; vertical-align:top; text-align:center;  \">&#45;6.10&nbsp;&ndash;&nbsp;15.25</td>\n",
       "<td style=\" padding:0.2cm; text-align:left; vertical-align:top; text-align:center;  \">0.400</td>\n",
       "</tr>\n",
       "<tr>\n",
       "<td style=\" padding:0.2cm; text-align:left; vertical-align:top; text-align:left; \">meetings yn [Yes]</td>\n",
       "<td style=\" padding:0.2cm; text-align:left; vertical-align:top; text-align:center;  \">8.22</td>\n",
       "<td style=\" padding:0.2cm; text-align:left; vertical-align:top; text-align:center;  \">1.28&nbsp;&ndash;&nbsp;15.16</td>\n",
       "<td style=\" padding:0.2cm; text-align:left; vertical-align:top; text-align:center;  \"><strong>0.020</strong></td>\n",
       "</tr>\n",
       "<tr>\n",
       "<td style=\" padding:0.2cm; text-align:left; vertical-align:top; text-align:left; \">inpatient yn ever [Yes]</td>\n",
       "<td style=\" padding:0.2cm; text-align:left; vertical-align:top; text-align:center;  \">8.45</td>\n",
       "<td style=\" padding:0.2cm; text-align:left; vertical-align:top; text-align:center;  \">&#45;3.99&nbsp;&ndash;&nbsp;20.89</td>\n",
       "<td style=\" padding:0.2cm; text-align:left; vertical-align:top; text-align:center;  \">0.182</td>\n",
       "</tr>\n",
       "<tr>\n",
       "<td style=\" padding:0.2cm; text-align:left; vertical-align:top; text-align:left; \">time c × arm cfam and<br>achess vs C</td>\n",
       "<td style=\" padding:0.2cm; text-align:left; vertical-align:top; text-align:center;  \">5.14</td>\n",
       "<td style=\" padding:0.2cm; text-align:left; vertical-align:top; text-align:center;  \">&#45;0.01&nbsp;&ndash;&nbsp;10.29</td>\n",
       "<td style=\" padding:0.2cm; text-align:left; vertical-align:top; text-align:center;  \">0.050</td>\n",
       "</tr>\n",
       "<tr>\n",
       "<td style=\" padding:0.2cm; text-align:left; vertical-align:top; text-align:left; \">time c × arm cachess vs<br>fam</td>\n",
       "<td style=\" padding:0.2cm; text-align:left; vertical-align:top; text-align:center;  \">&#45;0.30</td>\n",
       "<td style=\" padding:0.2cm; text-align:left; vertical-align:top; text-align:center;  \">&#45;6.44&nbsp;&ndash;&nbsp;5.83</td>\n",
       "<td style=\" padding:0.2cm; text-align:left; vertical-align:top; text-align:center;  \">0.923</td>\n",
       "</tr>\n",
       "\n",
       "<tr>\n",
       "<td style=\" padding:0.2cm; text-align:left; vertical-align:top; text-align:left; padding-top:0.1cm; padding-bottom:0.1cm;\">N <sub>study_id</sub></td>\n",
       "<td style=\" padding:0.2cm; text-align:left; vertical-align:top; padding-top:0.1cm; padding-bottom:0.1cm; text-align:left;\" colspan=\"3\">158</td>\n",
       "<tr>\n",
       "<td style=\" padding:0.2cm; text-align:left; vertical-align:top; text-align:left; padding-top:0.1cm; padding-bottom:0.1cm; border-top:1px solid;\">Observations</td>\n",
       "<td style=\" padding:0.2cm; text-align:left; vertical-align:top; padding-top:0.1cm; padding-bottom:0.1cm; text-align:left; border-top:1px solid;\" colspan=\"3\">413</td>\n",
       "</tr>\n",
       "<tr>\n",
       "<td style=\" padding:0.2cm; text-align:left; vertical-align:top; text-align:left; padding-top:0.1cm; padding-bottom:0.1cm;\">Marginal R<sup>2</sup> / Conditional R<sup>2</sup></td>\n",
       "<td style=\" padding:0.2cm; text-align:left; vertical-align:top; padding-top:0.1cm; padding-bottom:0.1cm; text-align:left;\" colspan=\"3\">0.370 / 0.846</td>\n",
       "</tr>\n",
       "\n",
       "</table>\n"
      ]
     }
    }
   ],
   "source": [
    "lmer(per_days_abstinent ~ time_c*arm_c + pda_0 + outpatient_yn_ever + \n",
    "       meetings_yn + inpatient_yn_ever + (1 + time_c | study_id), \n",
    "     data = subset(data, dyad == \"Patient\")) |> \n",
    "  sjPlot::tab_model(show.re.var = F, show.icc = F)\n"
   ],
   "id": "7deb4f21-e55e-496a-814a-77d474ad14d6"
  },
  {
   "cell_type": "markdown",
   "metadata": {},
   "source": [
    "#### Secondary Partner Outcome 1: `relationsatisf_scored`\n",
    "\n",
    "Distribution of residuals"
   ],
   "id": "7779035e-950d-4749-b06c-a87e8303ee51"
  },
  {
   "cell_type": "code",
   "execution_count": null,
   "metadata": {},
   "outputs": [
    {
     "output_type": "display_data",
     "metadata": {},
     "data": {
      "image/png": "[encoded data removed]"
     }
    },
    {
     "output_type": "display_data",
     "metadata": {},
     "data": {
      "image/png": "[encoded data removed]"
     }
    }
   ],
   "source": [
    "model_partner_sec_1 <- lmer(relationsatisf_scored ~ time_c*arm_c + \n",
    "                              relationsatisf_0 + (1 + time_c | study_id), \n",
    "                            data = subset(data, dyad == \"Partner\"))\n",
    "\n",
    "tibble(error = residuals(model_partner_sec_1)) |> \n",
    "  ggplot(aes(x = error)) +\n",
    "  geom_histogram(color = \"black\", fill = \"light grey\", bins = 30)\n"
   ],
   "id": "24003a1e-4a64-41a7-930a-fb94e6c5af44"
  },
  {
   "cell_type": "markdown",
   "metadata": {},
   "source": [
    "##### Look for significant covariates\n",
    "\n",
    "`race_white_only` - not significant"
   ],
   "id": "4278e582-d3f4-4e7d-9767-281aa6063816"
  },
  {
   "cell_type": "code",
   "execution_count": null,
   "metadata": {},
   "outputs": [
    {
     "output_type": "display_data",
     "metadata": {},
     "data": {
      "text/html": [
       "<table style=\"border-collapse:collapse; border:none;\">\n",
       "<tr>\n",
       "<th style=\"border-top: double; text-align:center; font-style:normal; font-weight:bold; padding:0.2cm;  text-align:left; \">&nbsp;</th>\n",
       "<th colspan=\"3\" style=\"border-top: double; text-align:center; font-style:normal; font-weight:bold; padding:0.2cm; \">relationsatisf scored</th>\n",
       "</tr>\n",
       "<tr>\n",
       "<td style=\" text-align:center; border-bottom:1px solid; font-style:italic; font-weight:normal;  text-align:left; \">Predictors</td>\n",
       "<td style=\" text-align:center; border-bottom:1px solid; font-style:italic; font-weight:normal;  \">Estimates</td>\n",
       "<td style=\" text-align:center; border-bottom:1px solid; font-style:italic; font-weight:normal;  \">CI</td>\n",
       "<td style=\" text-align:center; border-bottom:1px solid; font-style:italic; font-weight:normal;  \">p</td>\n",
       "</tr>\n",
       "<tr>\n",
       "<td style=\" padding:0.2cm; text-align:left; vertical-align:top; text-align:left; \">race white only [Yes]</td>\n",
       "<td style=\" padding:0.2cm; text-align:left; vertical-align:top; text-align:center;  \">0.45</td>\n",
       "<td style=\" padding:0.2cm; text-align:left; vertical-align:top; text-align:center;  \">&#45;1.14&nbsp;&ndash;&nbsp;2.04</td>\n",
       "<td style=\" padding:0.2cm; text-align:left; vertical-align:top; text-align:center;  \">0.578</td>\n",
       "</tr>\n",
       "\n",
       "<tr>\n",
       "<td style=\" padding:0.2cm; text-align:left; vertical-align:top; text-align:left; padding-top:0.1cm; padding-bottom:0.1cm;\">N <sub>study_id</sub></td>\n",
       "<td style=\" padding:0.2cm; text-align:left; vertical-align:top; padding-top:0.1cm; padding-bottom:0.1cm; text-align:left;\" colspan=\"3\">170</td>\n",
       "<tr>\n",
       "<td style=\" padding:0.2cm; text-align:left; vertical-align:top; text-align:left; padding-top:0.1cm; padding-bottom:0.1cm; border-top:1px solid;\">Observations</td>\n",
       "<td style=\" padding:0.2cm; text-align:left; vertical-align:top; padding-top:0.1cm; padding-bottom:0.1cm; text-align:left; border-top:1px solid;\" colspan=\"3\">454</td>\n",
       "</tr>\n",
       "<tr>\n",
       "<td style=\" padding:0.2cm; text-align:left; vertical-align:top; text-align:left; padding-top:0.1cm; padding-bottom:0.1cm;\">Marginal R<sup>2</sup> / Conditional R<sup>2</sup></td>\n",
       "<td style=\" padding:0.2cm; text-align:left; vertical-align:top; padding-top:0.1cm; padding-bottom:0.1cm; text-align:left;\" colspan=\"3\">0.390 / 0.729</td>\n",
       "</tr>\n",
       "\n",
       "</table>\n"
      ]
     }
    },
    {
     "output_type": "display_data",
     "metadata": {},
     "data": {
      "text/html": [
       "<table style=\"border-collapse:collapse; border:none;\">\n",
       "<tr>\n",
       "<th style=\"border-top: double; text-align:center; font-style:normal; font-weight:bold; padding:0.2cm;  text-align:left; \">&nbsp;</th>\n",
       "<th colspan=\"3\" style=\"border-top: double; text-align:center; font-style:normal; font-weight:bold; padding:0.2cm; \">relationsatisf scored</th>\n",
       "</tr>\n",
       "<tr>\n",
       "<td style=\" text-align:center; border-bottom:1px solid; font-style:italic; font-weight:normal;  text-align:left; \">Predictors</td>\n",
       "<td style=\" text-align:center; border-bottom:1px solid; font-style:italic; font-weight:normal;  \">Estimates</td>\n",
       "<td style=\" text-align:center; border-bottom:1px solid; font-style:italic; font-weight:normal;  \">CI</td>\n",
       "<td style=\" text-align:center; border-bottom:1px solid; font-style:italic; font-weight:normal;  \">p</td>\n",
       "</tr>\n",
       "<tr>\n",
       "<td style=\" padding:0.2cm; text-align:left; vertical-align:top; text-align:left; \">race white only [Yes]</td>\n",
       "<td style=\" padding:0.2cm; text-align:left; vertical-align:top; text-align:center;  \">0.45</td>\n",
       "<td style=\" padding:0.2cm; text-align:left; vertical-align:top; text-align:center;  \">&#45;1.03&nbsp;&ndash;&nbsp;1.93</td>\n",
       "<td style=\" padding:0.2cm; text-align:left; vertical-align:top; text-align:center;  \">0.552</td>\n",
       "</tr>\n",
       "\n",
       "<tr>\n",
       "<td style=\" padding:0.2cm; text-align:left; vertical-align:top; text-align:left; padding-top:0.1cm; padding-bottom:0.1cm;\">N <sub>study_id</sub></td>\n",
       "<td style=\" padding:0.2cm; text-align:left; vertical-align:top; padding-top:0.1cm; padding-bottom:0.1cm; text-align:left;\" colspan=\"3\">168</td>\n",
       "<tr>\n",
       "<td style=\" padding:0.2cm; text-align:left; vertical-align:top; text-align:left; padding-top:0.1cm; padding-bottom:0.1cm; border-top:1px solid;\">Observations</td>\n",
       "<td style=\" padding:0.2cm; text-align:left; vertical-align:top; padding-top:0.1cm; padding-bottom:0.1cm; text-align:left; border-top:1px solid;\" colspan=\"3\">436</td>\n",
       "</tr>\n",
       "<tr>\n",
       "<td style=\" padding:0.2cm; text-align:left; vertical-align:top; text-align:left; padding-top:0.1cm; padding-bottom:0.1cm;\">Marginal R<sup>2</sup> / Conditional R<sup>2</sup></td>\n",
       "<td style=\" padding:0.2cm; text-align:left; vertical-align:top; padding-top:0.1cm; padding-bottom:0.1cm; text-align:left;\" colspan=\"3\">0.307 / 0.726</td>\n",
       "</tr>\n",
       "\n",
       "</table>\n"
      ]
     }
    }
   ],
   "source": [
    "lmer(relationsatisf_scored ~ time_c*arm_c + relationsatisf_0 + race_white_only +\n",
    "       (1 + time_c | study_id), data = subset(data, dyad == \"Partner\")) |> \n",
    "  sjPlot::tab_model(show.re.var = F, show.icc = F, \n",
    "                    terms = c(\"race_white_onlyYes\"))\n"
   ],
   "id": "e29921cf-a1b1-435c-abb0-f8c161c614f6"
  },
  {
   "cell_type": "markdown",
   "metadata": {},
   "source": [
    "`age_c` - not significant"
   ],
   "id": "d931c8ce-f614-463b-beed-f8fe0e688f77"
  },
  {
   "cell_type": "code",
   "execution_count": null,
   "metadata": {},
   "outputs": [
    {
     "output_type": "display_data",
     "metadata": {},
     "data": {
      "text/html": [
       "<table style=\"border-collapse:collapse; border:none;\">\n",
       "<tr>\n",
       "<th style=\"border-top: double; text-align:center; font-style:normal; font-weight:bold; padding:0.2cm;  text-align:left; \">&nbsp;</th>\n",
       "<th colspan=\"3\" style=\"border-top: double; text-align:center; font-style:normal; font-weight:bold; padding:0.2cm; \">relationsatisf scored</th>\n",
       "</tr>\n",
       "<tr>\n",
       "<td style=\" text-align:center; border-bottom:1px solid; font-style:italic; font-weight:normal;  text-align:left; \">Predictors</td>\n",
       "<td style=\" text-align:center; border-bottom:1px solid; font-style:italic; font-weight:normal;  \">Estimates</td>\n",
       "<td style=\" text-align:center; border-bottom:1px solid; font-style:italic; font-weight:normal;  \">CI</td>\n",
       "<td style=\" text-align:center; border-bottom:1px solid; font-style:italic; font-weight:normal;  \">p</td>\n",
       "</tr>\n",
       "<tr>\n",
       "<td style=\" padding:0.2cm; text-align:left; vertical-align:top; text-align:left; \">age c</td>\n",
       "<td style=\" padding:0.2cm; text-align:left; vertical-align:top; text-align:center;  \">&#45;0.02</td>\n",
       "<td style=\" padding:0.2cm; text-align:left; vertical-align:top; text-align:center;  \">&#45;0.06&nbsp;&ndash;&nbsp;0.03</td>\n",
       "<td style=\" padding:0.2cm; text-align:left; vertical-align:top; text-align:center;  \">0.433</td>\n",
       "</tr>\n",
       "\n",
       "<tr>\n",
       "<td style=\" padding:0.2cm; text-align:left; vertical-align:top; text-align:left; padding-top:0.1cm; padding-bottom:0.1cm;\">N <sub>study_id</sub></td>\n",
       "<td style=\" padding:0.2cm; text-align:left; vertical-align:top; padding-top:0.1cm; padding-bottom:0.1cm; text-align:left;\" colspan=\"3\">170</td>\n",
       "<tr>\n",
       "<td style=\" padding:0.2cm; text-align:left; vertical-align:top; text-align:left; padding-top:0.1cm; padding-bottom:0.1cm; border-top:1px solid;\">Observations</td>\n",
       "<td style=\" padding:0.2cm; text-align:left; vertical-align:top; padding-top:0.1cm; padding-bottom:0.1cm; text-align:left; border-top:1px solid;\" colspan=\"3\">454</td>\n",
       "</tr>\n",
       "<tr>\n",
       "<td style=\" padding:0.2cm; text-align:left; vertical-align:top; text-align:left; padding-top:0.1cm; padding-bottom:0.1cm;\">Marginal R<sup>2</sup> / Conditional R<sup>2</sup></td>\n",
       "<td style=\" padding:0.2cm; text-align:left; vertical-align:top; padding-top:0.1cm; padding-bottom:0.1cm; text-align:left;\" colspan=\"3\">0.391 / 0.729</td>\n",
       "</tr>\n",
       "\n",
       "</table>\n"
      ]
     }
    },
    {
     "output_type": "display_data",
     "metadata": {},
     "data": {
      "text/html": [
       "<table style=\"border-collapse:collapse; border:none;\">\n",
       "<tr>\n",
       "<th style=\"border-top: double; text-align:center; font-style:normal; font-weight:bold; padding:0.2cm;  text-align:left; \">&nbsp;</th>\n",
       "<th colspan=\"3\" style=\"border-top: double; text-align:center; font-style:normal; font-weight:bold; padding:0.2cm; \">relationsatisf scored</th>\n",
       "</tr>\n",
       "<tr>\n",
       "<td style=\" text-align:center; border-bottom:1px solid; font-style:italic; font-weight:normal;  text-align:left; \">Predictors</td>\n",
       "<td style=\" text-align:center; border-bottom:1px solid; font-style:italic; font-weight:normal;  \">Estimates</td>\n",
       "<td style=\" text-align:center; border-bottom:1px solid; font-style:italic; font-weight:normal;  \">CI</td>\n",
       "<td style=\" text-align:center; border-bottom:1px solid; font-style:italic; font-weight:normal;  \">p</td>\n",
       "</tr>\n",
       "<tr>\n",
       "<td style=\" padding:0.2cm; text-align:left; vertical-align:top; text-align:left; \">age c</td>\n",
       "<td style=\" padding:0.2cm; text-align:left; vertical-align:top; text-align:center;  \">&#45;0.04</td>\n",
       "<td style=\" padding:0.2cm; text-align:left; vertical-align:top; text-align:center;  \">&#45;0.09&nbsp;&ndash;&nbsp;0.02</td>\n",
       "<td style=\" padding:0.2cm; text-align:left; vertical-align:top; text-align:center;  \">0.173</td>\n",
       "</tr>\n",
       "\n",
       "<tr>\n",
       "<td style=\" padding:0.2cm; text-align:left; vertical-align:top; text-align:left; padding-top:0.1cm; padding-bottom:0.1cm;\">N <sub>study_id</sub></td>\n",
       "<td style=\" padding:0.2cm; text-align:left; vertical-align:top; padding-top:0.1cm; padding-bottom:0.1cm; text-align:left;\" colspan=\"3\">167</td>\n",
       "<tr>\n",
       "<td style=\" padding:0.2cm; text-align:left; vertical-align:top; text-align:left; padding-top:0.1cm; padding-bottom:0.1cm; border-top:1px solid;\">Observations</td>\n",
       "<td style=\" padding:0.2cm; text-align:left; vertical-align:top; padding-top:0.1cm; padding-bottom:0.1cm; text-align:left; border-top:1px solid;\" colspan=\"3\">433</td>\n",
       "</tr>\n",
       "<tr>\n",
       "<td style=\" padding:0.2cm; text-align:left; vertical-align:top; text-align:left; padding-top:0.1cm; padding-bottom:0.1cm;\">Marginal R<sup>2</sup> / Conditional R<sup>2</sup></td>\n",
       "<td style=\" padding:0.2cm; text-align:left; vertical-align:top; padding-top:0.1cm; padding-bottom:0.1cm; text-align:left;\" colspan=\"3\">0.320 / 0.739</td>\n",
       "</tr>\n",
       "\n",
       "</table>\n"
      ]
     }
    }
   ],
   "source": [
    "lmer(relationsatisf_scored ~ time_c*arm_c + relationsatisf_0 + age_c +\n",
    "       (1 + time_c | study_id), data = subset(data, dyad == \"Partner\")) |> \n",
    "  sjPlot::tab_model(show.re.var = F, show.icc = F, terms = c(\"age_c\"))\n"
   ],
   "id": "0dfd6d5d-9816-4570-b451-143268c5eb41"
  },
  {
   "cell_type": "markdown",
   "metadata": {},
   "source": [
    "`edu_c` - not significant for partner, **significant for patient**"
   ],
   "id": "f137600a-aa55-4ad8-a52d-7cdff2b9edae"
  },
  {
   "cell_type": "code",
   "execution_count": null,
   "metadata": {},
   "outputs": [
    {
     "output_type": "display_data",
     "metadata": {},
     "data": {
      "text/html": [
       "<table style=\"border-collapse:collapse; border:none;\">\n",
       "<tr>\n",
       "<th style=\"border-top: double; text-align:center; font-style:normal; font-weight:bold; padding:0.2cm;  text-align:left; \">&nbsp;</th>\n",
       "<th colspan=\"3\" style=\"border-top: double; text-align:center; font-style:normal; font-weight:bold; padding:0.2cm; \">relationsatisf scored</th>\n",
       "</tr>\n",
       "<tr>\n",
       "<td style=\" text-align:center; border-bottom:1px solid; font-style:italic; font-weight:normal;  text-align:left; \">Predictors</td>\n",
       "<td style=\" text-align:center; border-bottom:1px solid; font-style:italic; font-weight:normal;  \">Estimates</td>\n",
       "<td style=\" text-align:center; border-bottom:1px solid; font-style:italic; font-weight:normal;  \">CI</td>\n",
       "<td style=\" text-align:center; border-bottom:1px solid; font-style:italic; font-weight:normal;  \">p</td>\n",
       "</tr>\n",
       "<tr>\n",
       "<td style=\" padding:0.2cm; text-align:left; vertical-align:top; text-align:left; \">edu c</td>\n",
       "<td style=\" padding:0.2cm; text-align:left; vertical-align:top; text-align:center;  \">0.37</td>\n",
       "<td style=\" padding:0.2cm; text-align:left; vertical-align:top; text-align:center;  \">&#45;0.26&nbsp;&ndash;&nbsp;0.99</td>\n",
       "<td style=\" padding:0.2cm; text-align:left; vertical-align:top; text-align:center;  \">0.254</td>\n",
       "</tr>\n",
       "\n",
       "<tr>\n",
       "<td style=\" padding:0.2cm; text-align:left; vertical-align:top; text-align:left; padding-top:0.1cm; padding-bottom:0.1cm;\">N <sub>study_id</sub></td>\n",
       "<td style=\" padding:0.2cm; text-align:left; vertical-align:top; padding-top:0.1cm; padding-bottom:0.1cm; text-align:left;\" colspan=\"3\">170</td>\n",
       "<tr>\n",
       "<td style=\" padding:0.2cm; text-align:left; vertical-align:top; text-align:left; padding-top:0.1cm; padding-bottom:0.1cm; border-top:1px solid;\">Observations</td>\n",
       "<td style=\" padding:0.2cm; text-align:left; vertical-align:top; padding-top:0.1cm; padding-bottom:0.1cm; text-align:left; border-top:1px solid;\" colspan=\"3\">454</td>\n",
       "</tr>\n",
       "<tr>\n",
       "<td style=\" padding:0.2cm; text-align:left; vertical-align:top; text-align:left; padding-top:0.1cm; padding-bottom:0.1cm;\">Marginal R<sup>2</sup> / Conditional R<sup>2</sup></td>\n",
       "<td style=\" padding:0.2cm; text-align:left; vertical-align:top; padding-top:0.1cm; padding-bottom:0.1cm; text-align:left;\" colspan=\"3\">0.393 / 0.729</td>\n",
       "</tr>\n",
       "\n",
       "</table>\n"
      ]
     }
    },
    {
     "output_type": "display_data",
     "metadata": {},
     "data": {
      "text/html": [
       "<table style=\"border-collapse:collapse; border:none;\">\n",
       "<tr>\n",
       "<th style=\"border-top: double; text-align:center; font-style:normal; font-weight:bold; padding:0.2cm;  text-align:left; \">&nbsp;</th>\n",
       "<th colspan=\"3\" style=\"border-top: double; text-align:center; font-style:normal; font-weight:bold; padding:0.2cm; \">relationsatisf scored</th>\n",
       "</tr>\n",
       "<tr>\n",
       "<td style=\" text-align:center; border-bottom:1px solid; font-style:italic; font-weight:normal;  text-align:left; \">Predictors</td>\n",
       "<td style=\" text-align:center; border-bottom:1px solid; font-style:italic; font-weight:normal;  \">Estimates</td>\n",
       "<td style=\" text-align:center; border-bottom:1px solid; font-style:italic; font-weight:normal;  \">CI</td>\n",
       "<td style=\" text-align:center; border-bottom:1px solid; font-style:italic; font-weight:normal;  \">p</td>\n",
       "</tr>\n",
       "<tr>\n",
       "<td style=\" padding:0.2cm; text-align:left; vertical-align:top; text-align:left; \">edu c</td>\n",
       "<td style=\" padding:0.2cm; text-align:left; vertical-align:top; text-align:center;  \">0.61</td>\n",
       "<td style=\" padding:0.2cm; text-align:left; vertical-align:top; text-align:center;  \">0.03&nbsp;&ndash;&nbsp;1.20</td>\n",
       "<td style=\" padding:0.2cm; text-align:left; vertical-align:top; text-align:center;  \"><strong>0.040</strong></td>\n",
       "</tr>\n",
       "\n",
       "<tr>\n",
       "<td style=\" padding:0.2cm; text-align:left; vertical-align:top; text-align:left; padding-top:0.1cm; padding-bottom:0.1cm;\">N <sub>study_id</sub></td>\n",
       "<td style=\" padding:0.2cm; text-align:left; vertical-align:top; padding-top:0.1cm; padding-bottom:0.1cm; text-align:left;\" colspan=\"3\">168</td>\n",
       "<tr>\n",
       "<td style=\" padding:0.2cm; text-align:left; vertical-align:top; text-align:left; padding-top:0.1cm; padding-bottom:0.1cm; border-top:1px solid;\">Observations</td>\n",
       "<td style=\" padding:0.2cm; text-align:left; vertical-align:top; padding-top:0.1cm; padding-bottom:0.1cm; text-align:left; border-top:1px solid;\" colspan=\"3\">436</td>\n",
       "</tr>\n",
       "<tr>\n",
       "<td style=\" padding:0.2cm; text-align:left; vertical-align:top; text-align:left; padding-top:0.1cm; padding-bottom:0.1cm;\">Marginal R<sup>2</sup> / Conditional R<sup>2</sup></td>\n",
       "<td style=\" padding:0.2cm; text-align:left; vertical-align:top; padding-top:0.1cm; padding-bottom:0.1cm; text-align:left;\" colspan=\"3\">0.318 / 0.723</td>\n",
       "</tr>\n",
       "\n",
       "</table>\n"
      ]
     }
    }
   ],
   "source": [
    "lmer(relationsatisf_scored ~ time_c*arm_c + relationsatisf_0 + edu_c +\n",
    "       (1 + time_c | study_id), data = subset(data, dyad == \"Partner\")) |> \n",
    "  sjPlot::tab_model(show.re.var = F, show.icc = F, terms = c(\"edu_c\"))\n"
   ],
   "id": "8c43ebe9-fde8-481e-8edf-07cabc58d523"
  },
  {
   "cell_type": "markdown",
   "metadata": {},
   "source": [
    "`meetings_yn` - not significant"
   ],
   "id": "044d9db4-a705-4269-b61b-f16eb99175a6"
  },
  {
   "cell_type": "code",
   "execution_count": null,
   "metadata": {},
   "outputs": [
    {
     "output_type": "display_data",
     "metadata": {},
     "data": {
      "text/html": [
       "<table style=\"border-collapse:collapse; border:none;\">\n",
       "<tr>\n",
       "<th style=\"border-top: double; text-align:center; font-style:normal; font-weight:bold; padding:0.2cm;  text-align:left; \">&nbsp;</th>\n",
       "<th colspan=\"3\" style=\"border-top: double; text-align:center; font-style:normal; font-weight:bold; padding:0.2cm; \">relationsatisf scored</th>\n",
       "</tr>\n",
       "<tr>\n",
       "<td style=\" text-align:center; border-bottom:1px solid; font-style:italic; font-weight:normal;  text-align:left; \">Predictors</td>\n",
       "<td style=\" text-align:center; border-bottom:1px solid; font-style:italic; font-weight:normal;  \">Estimates</td>\n",
       "<td style=\" text-align:center; border-bottom:1px solid; font-style:italic; font-weight:normal;  \">CI</td>\n",
       "<td style=\" text-align:center; border-bottom:1px solid; font-style:italic; font-weight:normal;  \">p</td>\n",
       "</tr>\n",
       "<tr>\n",
       "<td style=\" padding:0.2cm; text-align:left; vertical-align:top; text-align:left; \">meetings yn [Yes]</td>\n",
       "<td style=\" padding:0.2cm; text-align:left; vertical-align:top; text-align:center;  \">&#45;0.60</td>\n",
       "<td style=\" padding:0.2cm; text-align:left; vertical-align:top; text-align:center;  \">&#45;2.16&nbsp;&ndash;&nbsp;0.97</td>\n",
       "<td style=\" padding:0.2cm; text-align:left; vertical-align:top; text-align:center;  \">0.453</td>\n",
       "</tr>\n",
       "\n",
       "<tr>\n",
       "<td style=\" padding:0.2cm; text-align:left; vertical-align:top; text-align:left; padding-top:0.1cm; padding-bottom:0.1cm;\">N <sub>study_id</sub></td>\n",
       "<td style=\" padding:0.2cm; text-align:left; vertical-align:top; padding-top:0.1cm; padding-bottom:0.1cm; text-align:left;\" colspan=\"3\">170</td>\n",
       "<tr>\n",
       "<td style=\" padding:0.2cm; text-align:left; vertical-align:top; text-align:left; padding-top:0.1cm; padding-bottom:0.1cm; border-top:1px solid;\">Observations</td>\n",
       "<td style=\" padding:0.2cm; text-align:left; vertical-align:top; padding-top:0.1cm; padding-bottom:0.1cm; text-align:left; border-top:1px solid;\" colspan=\"3\">454</td>\n",
       "</tr>\n",
       "<tr>\n",
       "<td style=\" padding:0.2cm; text-align:left; vertical-align:top; text-align:left; padding-top:0.1cm; padding-bottom:0.1cm;\">Marginal R<sup>2</sup> / Conditional R<sup>2</sup></td>\n",
       "<td style=\" padding:0.2cm; text-align:left; vertical-align:top; padding-top:0.1cm; padding-bottom:0.1cm; text-align:left;\" colspan=\"3\">0.390 / 0.729</td>\n",
       "</tr>\n",
       "\n",
       "</table>\n"
      ]
     }
    },
    {
     "output_type": "display_data",
     "metadata": {},
     "data": {
      "text/html": [
       "<table style=\"border-collapse:collapse; border:none;\">\n",
       "<tr>\n",
       "<th style=\"border-top: double; text-align:center; font-style:normal; font-weight:bold; padding:0.2cm;  text-align:left; \">&nbsp;</th>\n",
       "<th colspan=\"3\" style=\"border-top: double; text-align:center; font-style:normal; font-weight:bold; padding:0.2cm; \">relationsatisf scored</th>\n",
       "</tr>\n",
       "<tr>\n",
       "<td style=\" text-align:center; border-bottom:1px solid; font-style:italic; font-weight:normal;  text-align:left; \">Predictors</td>\n",
       "<td style=\" text-align:center; border-bottom:1px solid; font-style:italic; font-weight:normal;  \">Estimates</td>\n",
       "<td style=\" text-align:center; border-bottom:1px solid; font-style:italic; font-weight:normal;  \">CI</td>\n",
       "<td style=\" text-align:center; border-bottom:1px solid; font-style:italic; font-weight:normal;  \">p</td>\n",
       "</tr>\n",
       "<tr>\n",
       "<td style=\" padding:0.2cm; text-align:left; vertical-align:top; text-align:left; \">meetings yn [Yes]</td>\n",
       "<td style=\" padding:0.2cm; text-align:left; vertical-align:top; text-align:center;  \">0.52</td>\n",
       "<td style=\" padding:0.2cm; text-align:left; vertical-align:top; text-align:center;  \">&#45;0.64&nbsp;&ndash;&nbsp;1.69</td>\n",
       "<td style=\" padding:0.2cm; text-align:left; vertical-align:top; text-align:center;  \">0.379</td>\n",
       "</tr>\n",
       "\n",
       "<tr>\n",
       "<td style=\" padding:0.2cm; text-align:left; vertical-align:top; text-align:left; padding-top:0.1cm; padding-bottom:0.1cm;\">N <sub>study_id</sub></td>\n",
       "<td style=\" padding:0.2cm; text-align:left; vertical-align:top; padding-top:0.1cm; padding-bottom:0.1cm; text-align:left;\" colspan=\"3\">167</td>\n",
       "<tr>\n",
       "<td style=\" padding:0.2cm; text-align:left; vertical-align:top; text-align:left; padding-top:0.1cm; padding-bottom:0.1cm; border-top:1px solid;\">Observations</td>\n",
       "<td style=\" padding:0.2cm; text-align:left; vertical-align:top; padding-top:0.1cm; padding-bottom:0.1cm; text-align:left; border-top:1px solid;\" colspan=\"3\">435</td>\n",
       "</tr>\n",
       "<tr>\n",
       "<td style=\" padding:0.2cm; text-align:left; vertical-align:top; text-align:left; padding-top:0.1cm; padding-bottom:0.1cm;\">Marginal R<sup>2</sup> / Conditional R<sup>2</sup></td>\n",
       "<td style=\" padding:0.2cm; text-align:left; vertical-align:top; padding-top:0.1cm; padding-bottom:0.1cm; text-align:left;\" colspan=\"3\">0.306 / 0.728</td>\n",
       "</tr>\n",
       "\n",
       "</table>\n"
      ]
     }
    }
   ],
   "source": [
    "lmer(relationsatisf_scored ~ time_c*arm_c + relationsatisf_0 + meetings_yn +\n",
    "       (1 + time_c | study_id), data = subset(data, dyad == \"Partner\")) |> \n",
    "  sjPlot::tab_model(show.re.var = F, show.icc = F, terms = c(\"meetings_ynYes\"))\n"
   ],
   "id": "0c7d55ca-2c45-4270-87bd-e97d5d097d67"
  },
  {
   "cell_type": "markdown",
   "metadata": {},
   "source": [
    "`outpatient_yn_ever` - Not significant"
   ],
   "id": "0b175e46-3949-4e95-a209-ba7d7e379b91"
  },
  {
   "cell_type": "code",
   "execution_count": null,
   "metadata": {},
   "outputs": [
    {
     "output_type": "display_data",
     "metadata": {},
     "data": {
      "text/html": [
       "<table style=\"border-collapse:collapse; border:none;\">\n",
       "<tr>\n",
       "<th style=\"border-top: double; text-align:center; font-style:normal; font-weight:bold; padding:0.2cm;  text-align:left; \">&nbsp;</th>\n",
       "<th colspan=\"3\" style=\"border-top: double; text-align:center; font-style:normal; font-weight:bold; padding:0.2cm; \">relationsatisf scored</th>\n",
       "</tr>\n",
       "<tr>\n",
       "<td style=\" text-align:center; border-bottom:1px solid; font-style:italic; font-weight:normal;  text-align:left; \">Predictors</td>\n",
       "<td style=\" text-align:center; border-bottom:1px solid; font-style:italic; font-weight:normal;  \">Estimates</td>\n",
       "<td style=\" text-align:center; border-bottom:1px solid; font-style:italic; font-weight:normal;  \">CI</td>\n",
       "<td style=\" text-align:center; border-bottom:1px solid; font-style:italic; font-weight:normal;  \">p</td>\n",
       "</tr>\n",
       "<tr>\n",
       "<td style=\" padding:0.2cm; text-align:left; vertical-align:top; text-align:left; \">outpatient yn ever [Yes]</td>\n",
       "<td style=\" padding:0.2cm; text-align:left; vertical-align:top; text-align:center;  \">&#45;0.62</td>\n",
       "<td style=\" padding:0.2cm; text-align:left; vertical-align:top; text-align:center;  \">&#45;3.51&nbsp;&ndash;&nbsp;2.26</td>\n",
       "<td style=\" padding:0.2cm; text-align:left; vertical-align:top; text-align:center;  \">0.672</td>\n",
       "</tr>\n",
       "\n",
       "<tr>\n",
       "<td style=\" padding:0.2cm; text-align:left; vertical-align:top; text-align:left; padding-top:0.1cm; padding-bottom:0.1cm;\">N <sub>study_id</sub></td>\n",
       "<td style=\" padding:0.2cm; text-align:left; vertical-align:top; padding-top:0.1cm; padding-bottom:0.1cm; text-align:left;\" colspan=\"3\">170</td>\n",
       "<tr>\n",
       "<td style=\" padding:0.2cm; text-align:left; vertical-align:top; text-align:left; padding-top:0.1cm; padding-bottom:0.1cm; border-top:1px solid;\">Observations</td>\n",
       "<td style=\" padding:0.2cm; text-align:left; vertical-align:top; padding-top:0.1cm; padding-bottom:0.1cm; text-align:left; border-top:1px solid;\" colspan=\"3\">454</td>\n",
       "</tr>\n",
       "<tr>\n",
       "<td style=\" padding:0.2cm; text-align:left; vertical-align:top; text-align:left; padding-top:0.1cm; padding-bottom:0.1cm;\">Marginal R<sup>2</sup> / Conditional R<sup>2</sup></td>\n",
       "<td style=\" padding:0.2cm; text-align:left; vertical-align:top; padding-top:0.1cm; padding-bottom:0.1cm; text-align:left;\" colspan=\"3\">0.390 / 0.729</td>\n",
       "</tr>\n",
       "\n",
       "</table>\n"
      ]
     }
    },
    {
     "output_type": "display_data",
     "metadata": {},
     "data": {
      "text/html": [
       "<table style=\"border-collapse:collapse; border:none;\">\n",
       "<tr>\n",
       "<th style=\"border-top: double; text-align:center; font-style:normal; font-weight:bold; padding:0.2cm;  text-align:left; \">&nbsp;</th>\n",
       "<th colspan=\"3\" style=\"border-top: double; text-align:center; font-style:normal; font-weight:bold; padding:0.2cm; \">relationsatisf scored</th>\n",
       "</tr>\n",
       "<tr>\n",
       "<td style=\" text-align:center; border-bottom:1px solid; font-style:italic; font-weight:normal;  text-align:left; \">Predictors</td>\n",
       "<td style=\" text-align:center; border-bottom:1px solid; font-style:italic; font-weight:normal;  \">Estimates</td>\n",
       "<td style=\" text-align:center; border-bottom:1px solid; font-style:italic; font-weight:normal;  \">CI</td>\n",
       "<td style=\" text-align:center; border-bottom:1px solid; font-style:italic; font-weight:normal;  \">p</td>\n",
       "</tr>\n",
       "<tr>\n",
       "<td style=\" padding:0.2cm; text-align:left; vertical-align:top; text-align:left; \">outpatient yn ever [Yes]</td>\n",
       "<td style=\" padding:0.2cm; text-align:left; vertical-align:top; text-align:center;  \">&#45;0.76</td>\n",
       "<td style=\" padding:0.2cm; text-align:left; vertical-align:top; text-align:center;  \">&#45;2.18&nbsp;&ndash;&nbsp;0.67</td>\n",
       "<td style=\" padding:0.2cm; text-align:left; vertical-align:top; text-align:center;  \">0.298</td>\n",
       "</tr>\n",
       "\n",
       "<tr>\n",
       "<td style=\" padding:0.2cm; text-align:left; vertical-align:top; text-align:left; padding-top:0.1cm; padding-bottom:0.1cm;\">N <sub>study_id</sub></td>\n",
       "<td style=\" padding:0.2cm; text-align:left; vertical-align:top; padding-top:0.1cm; padding-bottom:0.1cm; text-align:left;\" colspan=\"3\">168</td>\n",
       "<tr>\n",
       "<td style=\" padding:0.2cm; text-align:left; vertical-align:top; text-align:left; padding-top:0.1cm; padding-bottom:0.1cm; border-top:1px solid;\">Observations</td>\n",
       "<td style=\" padding:0.2cm; text-align:left; vertical-align:top; padding-top:0.1cm; padding-bottom:0.1cm; text-align:left; border-top:1px solid;\" colspan=\"3\">436</td>\n",
       "</tr>\n",
       "<tr>\n",
       "<td style=\" padding:0.2cm; text-align:left; vertical-align:top; text-align:left; padding-top:0.1cm; padding-bottom:0.1cm;\">Marginal R<sup>2</sup> / Conditional R<sup>2</sup></td>\n",
       "<td style=\" padding:0.2cm; text-align:left; vertical-align:top; padding-top:0.1cm; padding-bottom:0.1cm; text-align:left;\" colspan=\"3\">0.310 / 0.725</td>\n",
       "</tr>\n",
       "\n",
       "</table>\n"
      ]
     }
    }
   ],
   "source": [
    "lmer(relationsatisf_scored ~ time_c*arm_c + relationsatisf_0 + \n",
    "       outpatient_yn_ever + (1 + time_c | study_id), \n",
    "     data = subset(data, dyad == \"Partner\")) |> \n",
    "  sjPlot::tab_model(show.re.var = F, show.icc = F, \n",
    "                    terms = c(\"outpatient_yn_everYes\"))\n"
   ],
   "id": "543825c2-6e26-45d9-9e14-c4b0936e92a4"
  },
  {
   "cell_type": "markdown",
   "metadata": {},
   "source": [
    "`er_yn_ever` - Not significant"
   ],
   "id": "1e173d64-3204-406f-bb44-65a94fc10c1a"
  },
  {
   "cell_type": "code",
   "execution_count": null,
   "metadata": {},
   "outputs": [
    {
     "output_type": "display_data",
     "metadata": {},
     "data": {
      "text/html": [
       "<table style=\"border-collapse:collapse; border:none;\">\n",
       "<tr>\n",
       "<th style=\"border-top: double; text-align:center; font-style:normal; font-weight:bold; padding:0.2cm;  text-align:left; \">&nbsp;</th>\n",
       "<th colspan=\"3\" style=\"border-top: double; text-align:center; font-style:normal; font-weight:bold; padding:0.2cm; \">relationsatisf scored</th>\n",
       "</tr>\n",
       "<tr>\n",
       "<td style=\" text-align:center; border-bottom:1px solid; font-style:italic; font-weight:normal;  text-align:left; \">Predictors</td>\n",
       "<td style=\" text-align:center; border-bottom:1px solid; font-style:italic; font-weight:normal;  \">Estimates</td>\n",
       "<td style=\" text-align:center; border-bottom:1px solid; font-style:italic; font-weight:normal;  \">CI</td>\n",
       "<td style=\" text-align:center; border-bottom:1px solid; font-style:italic; font-weight:normal;  \">p</td>\n",
       "</tr>\n",
       "<tr>\n",
       "<td style=\" padding:0.2cm; text-align:left; vertical-align:top; text-align:left; \">er yn ever [Yes]</td>\n",
       "<td style=\" padding:0.2cm; text-align:left; vertical-align:top; text-align:center;  \">0.81</td>\n",
       "<td style=\" padding:0.2cm; text-align:left; vertical-align:top; text-align:center;  \">&#45;0.93&nbsp;&ndash;&nbsp;2.56</td>\n",
       "<td style=\" padding:0.2cm; text-align:left; vertical-align:top; text-align:center;  \">0.360</td>\n",
       "</tr>\n",
       "\n",
       "<tr>\n",
       "<td style=\" padding:0.2cm; text-align:left; vertical-align:top; text-align:left; padding-top:0.1cm; padding-bottom:0.1cm;\">N <sub>study_id</sub></td>\n",
       "<td style=\" padding:0.2cm; text-align:left; vertical-align:top; padding-top:0.1cm; padding-bottom:0.1cm; text-align:left;\" colspan=\"3\">170</td>\n",
       "<tr>\n",
       "<td style=\" padding:0.2cm; text-align:left; vertical-align:top; text-align:left; padding-top:0.1cm; padding-bottom:0.1cm; border-top:1px solid;\">Observations</td>\n",
       "<td style=\" padding:0.2cm; text-align:left; vertical-align:top; padding-top:0.1cm; padding-bottom:0.1cm; text-align:left; border-top:1px solid;\" colspan=\"3\">454</td>\n",
       "</tr>\n",
       "<tr>\n",
       "<td style=\" padding:0.2cm; text-align:left; vertical-align:top; text-align:left; padding-top:0.1cm; padding-bottom:0.1cm;\">Marginal R<sup>2</sup> / Conditional R<sup>2</sup></td>\n",
       "<td style=\" padding:0.2cm; text-align:left; vertical-align:top; padding-top:0.1cm; padding-bottom:0.1cm; text-align:left;\" colspan=\"3\">0.392 / 0.730</td>\n",
       "</tr>\n",
       "\n",
       "</table>\n"
      ]
     }
    },
    {
     "output_type": "display_data",
     "metadata": {},
     "data": {
      "text/html": [
       "<table style=\"border-collapse:collapse; border:none;\">\n",
       "<tr>\n",
       "<th style=\"border-top: double; text-align:center; font-style:normal; font-weight:bold; padding:0.2cm;  text-align:left; \">&nbsp;</th>\n",
       "<th colspan=\"3\" style=\"border-top: double; text-align:center; font-style:normal; font-weight:bold; padding:0.2cm; \">relationsatisf scored</th>\n",
       "</tr>\n",
       "<tr>\n",
       "<td style=\" text-align:center; border-bottom:1px solid; font-style:italic; font-weight:normal;  text-align:left; \">Predictors</td>\n",
       "<td style=\" text-align:center; border-bottom:1px solid; font-style:italic; font-weight:normal;  \">Estimates</td>\n",
       "<td style=\" text-align:center; border-bottom:1px solid; font-style:italic; font-weight:normal;  \">CI</td>\n",
       "<td style=\" text-align:center; border-bottom:1px solid; font-style:italic; font-weight:normal;  \">p</td>\n",
       "</tr>\n",
       "<tr>\n",
       "<td style=\" padding:0.2cm; text-align:left; vertical-align:top; text-align:left; \">er yn ever [Yes]</td>\n",
       "<td style=\" padding:0.2cm; text-align:left; vertical-align:top; text-align:center;  \">&#45;1.29</td>\n",
       "<td style=\" padding:0.2cm; text-align:left; vertical-align:top; text-align:center;  \">&#45;2.74&nbsp;&ndash;&nbsp;0.16</td>\n",
       "<td style=\" padding:0.2cm; text-align:left; vertical-align:top; text-align:center;  \">0.082</td>\n",
       "</tr>\n",
       "\n",
       "<tr>\n",
       "<td style=\" padding:0.2cm; text-align:left; vertical-align:top; text-align:left; padding-top:0.1cm; padding-bottom:0.1cm;\">N <sub>study_id</sub></td>\n",
       "<td style=\" padding:0.2cm; text-align:left; vertical-align:top; padding-top:0.1cm; padding-bottom:0.1cm; text-align:left;\" colspan=\"3\">168</td>\n",
       "<tr>\n",
       "<td style=\" padding:0.2cm; text-align:left; vertical-align:top; text-align:left; padding-top:0.1cm; padding-bottom:0.1cm; border-top:1px solid;\">Observations</td>\n",
       "<td style=\" padding:0.2cm; text-align:left; vertical-align:top; padding-top:0.1cm; padding-bottom:0.1cm; text-align:left; border-top:1px solid;\" colspan=\"3\">436</td>\n",
       "</tr>\n",
       "<tr>\n",
       "<td style=\" padding:0.2cm; text-align:left; vertical-align:top; text-align:left; padding-top:0.1cm; padding-bottom:0.1cm;\">Marginal R<sup>2</sup> / Conditional R<sup>2</sup></td>\n",
       "<td style=\" padding:0.2cm; text-align:left; vertical-align:top; padding-top:0.1cm; padding-bottom:0.1cm; text-align:left;\" colspan=\"3\">0.315 / 0.725</td>\n",
       "</tr>\n",
       "\n",
       "</table>\n"
      ]
     }
    }
   ],
   "source": [
    "lmer(relationsatisf_scored ~ time_c*arm_c + relationsatisf_0 + er_yn_ever +\n",
    "       (1 + time_c | study_id), data = subset(data, dyad == \"Partner\")) |> \n",
    "  sjPlot::tab_model(show.re.var = F, show.icc = F, terms = c(\"er_yn_everYes\"))\n"
   ],
   "id": "9b1dd7a6-96e3-4edf-a3a9-fb295b57baae"
  },
  {
   "cell_type": "markdown",
   "metadata": {},
   "source": [
    "`mat_yn` - not significant"
   ],
   "id": "46617e99-6ff6-46d3-a577-d46fe9d0b66f"
  },
  {
   "cell_type": "code",
   "execution_count": null,
   "metadata": {},
   "outputs": [
    {
     "output_type": "display_data",
     "metadata": {},
     "data": {
      "text/html": [
       "<table style=\"border-collapse:collapse; border:none;\">\n",
       "<tr>\n",
       "<th style=\"border-top: double; text-align:center; font-style:normal; font-weight:bold; padding:0.2cm;  text-align:left; \">&nbsp;</th>\n",
       "<th colspan=\"3\" style=\"border-top: double; text-align:center; font-style:normal; font-weight:bold; padding:0.2cm; \">relationsatisf scored</th>\n",
       "</tr>\n",
       "<tr>\n",
       "<td style=\" text-align:center; border-bottom:1px solid; font-style:italic; font-weight:normal;  text-align:left; \">Predictors</td>\n",
       "<td style=\" text-align:center; border-bottom:1px solid; font-style:italic; font-weight:normal;  \">Estimates</td>\n",
       "<td style=\" text-align:center; border-bottom:1px solid; font-style:italic; font-weight:normal;  \">CI</td>\n",
       "<td style=\" text-align:center; border-bottom:1px solid; font-style:italic; font-weight:normal;  \">p</td>\n",
       "</tr>\n",
       "<tr>\n",
       "<td style=\" padding:0.2cm; text-align:left; vertical-align:top; text-align:left; \">mat yn [Yes]</td>\n",
       "<td style=\" padding:0.2cm; text-align:left; vertical-align:top; text-align:center;  \">1.27</td>\n",
       "<td style=\" padding:0.2cm; text-align:left; vertical-align:top; text-align:center;  \">&#45;1.61&nbsp;&ndash;&nbsp;4.15</td>\n",
       "<td style=\" padding:0.2cm; text-align:left; vertical-align:top; text-align:center;  \">0.387</td>\n",
       "</tr>\n",
       "\n",
       "<tr>\n",
       "<td style=\" padding:0.2cm; text-align:left; vertical-align:top; text-align:left; padding-top:0.1cm; padding-bottom:0.1cm;\">N <sub>study_id</sub></td>\n",
       "<td style=\" padding:0.2cm; text-align:left; vertical-align:top; padding-top:0.1cm; padding-bottom:0.1cm; text-align:left;\" colspan=\"3\">170</td>\n",
       "<tr>\n",
       "<td style=\" padding:0.2cm; text-align:left; vertical-align:top; text-align:left; padding-top:0.1cm; padding-bottom:0.1cm; border-top:1px solid;\">Observations</td>\n",
       "<td style=\" padding:0.2cm; text-align:left; vertical-align:top; padding-top:0.1cm; padding-bottom:0.1cm; text-align:left; border-top:1px solid;\" colspan=\"3\">454</td>\n",
       "</tr>\n",
       "<tr>\n",
       "<td style=\" padding:0.2cm; text-align:left; vertical-align:top; text-align:left; padding-top:0.1cm; padding-bottom:0.1cm;\">Marginal R<sup>2</sup> / Conditional R<sup>2</sup></td>\n",
       "<td style=\" padding:0.2cm; text-align:left; vertical-align:top; padding-top:0.1cm; padding-bottom:0.1cm; text-align:left;\" colspan=\"3\">0.391 / 0.728</td>\n",
       "</tr>\n",
       "\n",
       "</table>\n"
      ]
     }
    },
    {
     "output_type": "display_data",
     "metadata": {},
     "data": {
      "text/html": [
       "<table style=\"border-collapse:collapse; border:none;\">\n",
       "<tr>\n",
       "<th style=\"border-top: double; text-align:center; font-style:normal; font-weight:bold; padding:0.2cm;  text-align:left; \">&nbsp;</th>\n",
       "<th colspan=\"3\" style=\"border-top: double; text-align:center; font-style:normal; font-weight:bold; padding:0.2cm; \">relationsatisf scored</th>\n",
       "</tr>\n",
       "<tr>\n",
       "<td style=\" text-align:center; border-bottom:1px solid; font-style:italic; font-weight:normal;  text-align:left; \">Predictors</td>\n",
       "<td style=\" text-align:center; border-bottom:1px solid; font-style:italic; font-weight:normal;  \">Estimates</td>\n",
       "<td style=\" text-align:center; border-bottom:1px solid; font-style:italic; font-weight:normal;  \">CI</td>\n",
       "<td style=\" text-align:center; border-bottom:1px solid; font-style:italic; font-weight:normal;  \">p</td>\n",
       "</tr>\n",
       "<tr>\n",
       "<td style=\" padding:0.2cm; text-align:left; vertical-align:top; text-align:left; \">mat yn [Yes]</td>\n",
       "<td style=\" padding:0.2cm; text-align:left; vertical-align:top; text-align:center;  \">0.24</td>\n",
       "<td style=\" padding:0.2cm; text-align:left; vertical-align:top; text-align:center;  \">&#45;1.04&nbsp;&ndash;&nbsp;1.52</td>\n",
       "<td style=\" padding:0.2cm; text-align:left; vertical-align:top; text-align:center;  \">0.713</td>\n",
       "</tr>\n",
       "\n",
       "<tr>\n",
       "<td style=\" padding:0.2cm; text-align:left; vertical-align:top; text-align:left; padding-top:0.1cm; padding-bottom:0.1cm;\">N <sub>study_id</sub></td>\n",
       "<td style=\" padding:0.2cm; text-align:left; vertical-align:top; padding-top:0.1cm; padding-bottom:0.1cm; text-align:left;\" colspan=\"3\">167</td>\n",
       "<tr>\n",
       "<td style=\" padding:0.2cm; text-align:left; vertical-align:top; text-align:left; padding-top:0.1cm; padding-bottom:0.1cm; border-top:1px solid;\">Observations</td>\n",
       "<td style=\" padding:0.2cm; text-align:left; vertical-align:top; padding-top:0.1cm; padding-bottom:0.1cm; text-align:left; border-top:1px solid;\" colspan=\"3\">432</td>\n",
       "</tr>\n",
       "<tr>\n",
       "<td style=\" padding:0.2cm; text-align:left; vertical-align:top; text-align:left; padding-top:0.1cm; padding-bottom:0.1cm;\">Marginal R<sup>2</sup> / Conditional R<sup>2</sup></td>\n",
       "<td style=\" padding:0.2cm; text-align:left; vertical-align:top; padding-top:0.1cm; padding-bottom:0.1cm; text-align:left;\" colspan=\"3\">0.300 / 0.736</td>\n",
       "</tr>\n",
       "\n",
       "</table>\n"
      ]
     }
    }
   ],
   "source": [
    "lmer(relationsatisf_scored ~ time_c*arm_c + relationsatisf_0 + mat_yn +\n",
    "       (1 + time_c | study_id), data = subset(data, dyad == \"Partner\")) |> \n",
    "  sjPlot::tab_model(show.re.var = F, show.icc = F, terms = c(\"mat_ynYes\"))\n"
   ],
   "id": "7d16de89-d771-4270-95be-191cddb98192"
  },
  {
   "cell_type": "markdown",
   "metadata": {},
   "source": [
    "`inpatient_yn_ever` - **significant for partner** not significant for patient"
   ],
   "id": "623dd032-d339-49fc-bcbc-5cbbccfd624f"
  },
  {
   "cell_type": "code",
   "execution_count": null,
   "metadata": {},
   "outputs": [
    {
     "output_type": "display_data",
     "metadata": {},
     "data": {
      "text/html": [
       "<table style=\"border-collapse:collapse; border:none;\">\n",
       "<tr>\n",
       "<th style=\"border-top: double; text-align:center; font-style:normal; font-weight:bold; padding:0.2cm;  text-align:left; \">&nbsp;</th>\n",
       "<th colspan=\"3\" style=\"border-top: double; text-align:center; font-style:normal; font-weight:bold; padding:0.2cm; \">relationsatisf scored</th>\n",
       "</tr>\n",
       "<tr>\n",
       "<td style=\" text-align:center; border-bottom:1px solid; font-style:italic; font-weight:normal;  text-align:left; \">Predictors</td>\n",
       "<td style=\" text-align:center; border-bottom:1px solid; font-style:italic; font-weight:normal;  \">Estimates</td>\n",
       "<td style=\" text-align:center; border-bottom:1px solid; font-style:italic; font-weight:normal;  \">CI</td>\n",
       "<td style=\" text-align:center; border-bottom:1px solid; font-style:italic; font-weight:normal;  \">p</td>\n",
       "</tr>\n",
       "<tr>\n",
       "<td style=\" padding:0.2cm; text-align:left; vertical-align:top; text-align:left; \">inpatient yn ever [Yes]</td>\n",
       "<td style=\" padding:0.2cm; text-align:left; vertical-align:top; text-align:center;  \">&#45;7.23</td>\n",
       "<td style=\" padding:0.2cm; text-align:left; vertical-align:top; text-align:center;  \">&#45;11.61&nbsp;&ndash;&nbsp;-2.84</td>\n",
       "<td style=\" padding:0.2cm; text-align:left; vertical-align:top; text-align:center;  \"><strong>0.001</strong></td>\n",
       "</tr>\n",
       "\n",
       "<tr>\n",
       "<td style=\" padding:0.2cm; text-align:left; vertical-align:top; text-align:left; padding-top:0.1cm; padding-bottom:0.1cm;\">N <sub>study_id</sub></td>\n",
       "<td style=\" padding:0.2cm; text-align:left; vertical-align:top; padding-top:0.1cm; padding-bottom:0.1cm; text-align:left;\" colspan=\"3\">170</td>\n",
       "<tr>\n",
       "<td style=\" padding:0.2cm; text-align:left; vertical-align:top; text-align:left; padding-top:0.1cm; padding-bottom:0.1cm; border-top:1px solid;\">Observations</td>\n",
       "<td style=\" padding:0.2cm; text-align:left; vertical-align:top; padding-top:0.1cm; padding-bottom:0.1cm; text-align:left; border-top:1px solid;\" colspan=\"3\">454</td>\n",
       "</tr>\n",
       "<tr>\n",
       "<td style=\" padding:0.2cm; text-align:left; vertical-align:top; text-align:left; padding-top:0.1cm; padding-bottom:0.1cm;\">Marginal R<sup>2</sup> / Conditional R<sup>2</sup></td>\n",
       "<td style=\" padding:0.2cm; text-align:left; vertical-align:top; padding-top:0.1cm; padding-bottom:0.1cm; text-align:left;\" colspan=\"3\">0.413 / 0.727</td>\n",
       "</tr>\n",
       "\n",
       "</table>\n"
      ]
     }
    },
    {
     "output_type": "display_data",
     "metadata": {},
     "data": {
      "text/html": [
       "<table style=\"border-collapse:collapse; border:none;\">\n",
       "<tr>\n",
       "<th style=\"border-top: double; text-align:center; font-style:normal; font-weight:bold; padding:0.2cm;  text-align:left; \">&nbsp;</th>\n",
       "<th colspan=\"3\" style=\"border-top: double; text-align:center; font-style:normal; font-weight:bold; padding:0.2cm; \">relationsatisf scored</th>\n",
       "</tr>\n",
       "<tr>\n",
       "<td style=\" text-align:center; border-bottom:1px solid; font-style:italic; font-weight:normal;  text-align:left; \">Predictors</td>\n",
       "<td style=\" text-align:center; border-bottom:1px solid; font-style:italic; font-weight:normal;  \">Estimates</td>\n",
       "<td style=\" text-align:center; border-bottom:1px solid; font-style:italic; font-weight:normal;  \">CI</td>\n",
       "<td style=\" text-align:center; border-bottom:1px solid; font-style:italic; font-weight:normal;  \">p</td>\n",
       "</tr>\n",
       "<tr>\n",
       "<td style=\" padding:0.2cm; text-align:left; vertical-align:top; text-align:left; \">inpatient yn ever [Yes]</td>\n",
       "<td style=\" padding:0.2cm; text-align:left; vertical-align:top; text-align:center;  \">&#45;1.06</td>\n",
       "<td style=\" padding:0.2cm; text-align:left; vertical-align:top; text-align:center;  \">&#45;2.74&nbsp;&ndash;&nbsp;0.61</td>\n",
       "<td style=\" padding:0.2cm; text-align:left; vertical-align:top; text-align:center;  \">0.212</td>\n",
       "</tr>\n",
       "\n",
       "<tr>\n",
       "<td style=\" padding:0.2cm; text-align:left; vertical-align:top; text-align:left; padding-top:0.1cm; padding-bottom:0.1cm;\">N <sub>study_id</sub></td>\n",
       "<td style=\" padding:0.2cm; text-align:left; vertical-align:top; padding-top:0.1cm; padding-bottom:0.1cm; text-align:left;\" colspan=\"3\">168</td>\n",
       "<tr>\n",
       "<td style=\" padding:0.2cm; text-align:left; vertical-align:top; text-align:left; padding-top:0.1cm; padding-bottom:0.1cm; border-top:1px solid;\">Observations</td>\n",
       "<td style=\" padding:0.2cm; text-align:left; vertical-align:top; padding-top:0.1cm; padding-bottom:0.1cm; text-align:left; border-top:1px solid;\" colspan=\"3\">436</td>\n",
       "</tr>\n",
       "<tr>\n",
       "<td style=\" padding:0.2cm; text-align:left; vertical-align:top; text-align:left; padding-top:0.1cm; padding-bottom:0.1cm;\">Marginal R<sup>2</sup> / Conditional R<sup>2</sup></td>\n",
       "<td style=\" padding:0.2cm; text-align:left; vertical-align:top; padding-top:0.1cm; padding-bottom:0.1cm; text-align:left;\" colspan=\"3\">0.311 / 0.726</td>\n",
       "</tr>\n",
       "\n",
       "</table>\n"
      ]
     }
    }
   ],
   "source": [
    "lmer(relationsatisf_scored ~ time_c*arm_c + relationsatisf_0 + \n",
    "       inpatient_yn_ever + (1 + time_c | study_id), \n",
    "     data = subset(data, dyad == \"Partner\")) |> \n",
    "  sjPlot::tab_model(show.re.var = F, show.icc = F, \n",
    "                    terms = c(\"inpatient_yn_everYes\"))\n"
   ],
   "id": "1af09627-62da-4fd6-af0c-db34badbbd68"
  },
  {
   "cell_type": "markdown",
   "metadata": {},
   "source": [
    "`other_psych_treatment_yn` - not significant"
   ],
   "id": "139c4dda-337f-47f8-b17e-6b94336193fb"
  },
  {
   "cell_type": "code",
   "execution_count": null,
   "metadata": {},
   "outputs": [
    {
     "output_type": "display_data",
     "metadata": {},
     "data": {
      "text/html": [
       "<table style=\"border-collapse:collapse; border:none;\">\n",
       "<tr>\n",
       "<th style=\"border-top: double; text-align:center; font-style:normal; font-weight:bold; padding:0.2cm;  text-align:left; \">&nbsp;</th>\n",
       "<th colspan=\"3\" style=\"border-top: double; text-align:center; font-style:normal; font-weight:bold; padding:0.2cm; \">relationsatisf scored</th>\n",
       "</tr>\n",
       "<tr>\n",
       "<td style=\" text-align:center; border-bottom:1px solid; font-style:italic; font-weight:normal;  text-align:left; \">Predictors</td>\n",
       "<td style=\" text-align:center; border-bottom:1px solid; font-style:italic; font-weight:normal;  \">Estimates</td>\n",
       "<td style=\" text-align:center; border-bottom:1px solid; font-style:italic; font-weight:normal;  \">CI</td>\n",
       "<td style=\" text-align:center; border-bottom:1px solid; font-style:italic; font-weight:normal;  \">p</td>\n",
       "</tr>\n",
       "<tr>\n",
       "<td style=\" padding:0.2cm; text-align:left; vertical-align:top; text-align:left; \">other psych treatment yn<br>[Yes]</td>\n",
       "<td style=\" padding:0.2cm; text-align:left; vertical-align:top; text-align:center;  \">&#45;1.16</td>\n",
       "<td style=\" padding:0.2cm; text-align:left; vertical-align:top; text-align:center;  \">&#45;2.76&nbsp;&ndash;&nbsp;0.45</td>\n",
       "<td style=\" padding:0.2cm; text-align:left; vertical-align:top; text-align:center;  \">0.157</td>\n",
       "</tr>\n",
       "\n",
       "<tr>\n",
       "<td style=\" padding:0.2cm; text-align:left; vertical-align:top; text-align:left; padding-top:0.1cm; padding-bottom:0.1cm;\">N <sub>study_id</sub></td>\n",
       "<td style=\" padding:0.2cm; text-align:left; vertical-align:top; padding-top:0.1cm; padding-bottom:0.1cm; text-align:left;\" colspan=\"3\">170</td>\n",
       "<tr>\n",
       "<td style=\" padding:0.2cm; text-align:left; vertical-align:top; text-align:left; padding-top:0.1cm; padding-bottom:0.1cm; border-top:1px solid;\">Observations</td>\n",
       "<td style=\" padding:0.2cm; text-align:left; vertical-align:top; padding-top:0.1cm; padding-bottom:0.1cm; text-align:left; border-top:1px solid;\" colspan=\"3\">454</td>\n",
       "</tr>\n",
       "<tr>\n",
       "<td style=\" padding:0.2cm; text-align:left; vertical-align:top; text-align:left; padding-top:0.1cm; padding-bottom:0.1cm;\">Marginal R<sup>2</sup> / Conditional R<sup>2</sup></td>\n",
       "<td style=\" padding:0.2cm; text-align:left; vertical-align:top; padding-top:0.1cm; padding-bottom:0.1cm; text-align:left;\" colspan=\"3\">0.393 / 0.727</td>\n",
       "</tr>\n",
       "\n",
       "</table>\n"
      ]
     }
    },
    {
     "output_type": "display_data",
     "metadata": {},
     "data": {
      "text/html": [
       "<table style=\"border-collapse:collapse; border:none;\">\n",
       "<tr>\n",
       "<th style=\"border-top: double; text-align:center; font-style:normal; font-weight:bold; padding:0.2cm;  text-align:left; \">&nbsp;</th>\n",
       "<th colspan=\"3\" style=\"border-top: double; text-align:center; font-style:normal; font-weight:bold; padding:0.2cm; \">relationsatisf scored</th>\n",
       "</tr>\n",
       "<tr>\n",
       "<td style=\" text-align:center; border-bottom:1px solid; font-style:italic; font-weight:normal;  text-align:left; \">Predictors</td>\n",
       "<td style=\" text-align:center; border-bottom:1px solid; font-style:italic; font-weight:normal;  \">Estimates</td>\n",
       "<td style=\" text-align:center; border-bottom:1px solid; font-style:italic; font-weight:normal;  \">CI</td>\n",
       "<td style=\" text-align:center; border-bottom:1px solid; font-style:italic; font-weight:normal;  \">p</td>\n",
       "</tr>\n",
       "<tr>\n",
       "<td style=\" padding:0.2cm; text-align:left; vertical-align:top; text-align:left; \">other psych treatment yn<br>[Yes]</td>\n",
       "<td style=\" padding:0.2cm; text-align:left; vertical-align:top; text-align:center;  \">&#45;0.41</td>\n",
       "<td style=\" padding:0.2cm; text-align:left; vertical-align:top; text-align:center;  \">&#45;1.51&nbsp;&ndash;&nbsp;0.70</td>\n",
       "<td style=\" padding:0.2cm; text-align:left; vertical-align:top; text-align:center;  \">0.472</td>\n",
       "</tr>\n",
       "\n",
       "<tr>\n",
       "<td style=\" padding:0.2cm; text-align:left; vertical-align:top; text-align:left; padding-top:0.1cm; padding-bottom:0.1cm;\">N <sub>study_id</sub></td>\n",
       "<td style=\" padding:0.2cm; text-align:left; vertical-align:top; padding-top:0.1cm; padding-bottom:0.1cm; text-align:left;\" colspan=\"3\">167</td>\n",
       "<tr>\n",
       "<td style=\" padding:0.2cm; text-align:left; vertical-align:top; text-align:left; padding-top:0.1cm; padding-bottom:0.1cm; border-top:1px solid;\">Observations</td>\n",
       "<td style=\" padding:0.2cm; text-align:left; vertical-align:top; padding-top:0.1cm; padding-bottom:0.1cm; text-align:left; border-top:1px solid;\" colspan=\"3\">435</td>\n",
       "</tr>\n",
       "<tr>\n",
       "<td style=\" padding:0.2cm; text-align:left; vertical-align:top; text-align:left; padding-top:0.1cm; padding-bottom:0.1cm;\">Marginal R<sup>2</sup> / Conditional R<sup>2</sup></td>\n",
       "<td style=\" padding:0.2cm; text-align:left; vertical-align:top; padding-top:0.1cm; padding-bottom:0.1cm; text-align:left;\" colspan=\"3\">0.307 / 0.727</td>\n",
       "</tr>\n",
       "\n",
       "</table>\n"
      ]
     }
    }
   ],
   "source": [
    "lmer(relationsatisf_scored ~ time_c*arm_c + relationsatisf_0 + \n",
    "       other_psych_treatment_yn + (1 + time_c | study_id),\n",
    "     data = subset(data, dyad == \"Partner\")) |> \n",
    "  sjPlot::tab_model(show.re.var = F, show.icc = F, \n",
    "                    terms = c(\"other_psych_treatment_ynYes\"))\n"
   ],
   "id": "995402a8-df46-424c-9b11-6410b05501f9"
  },
  {
   "cell_type": "markdown",
   "metadata": {},
   "source": [
    "`other_medications_yn` - Not significant"
   ],
   "id": "449c5373-9150-450f-9cf3-758a1ed5c6bf"
  },
  {
   "cell_type": "code",
   "execution_count": null,
   "metadata": {},
   "outputs": [
    {
     "output_type": "display_data",
     "metadata": {},
     "data": {
      "text/html": [
       "<table style=\"border-collapse:collapse; border:none;\">\n",
       "<tr>\n",
       "<th style=\"border-top: double; text-align:center; font-style:normal; font-weight:bold; padding:0.2cm;  text-align:left; \">&nbsp;</th>\n",
       "<th colspan=\"3\" style=\"border-top: double; text-align:center; font-style:normal; font-weight:bold; padding:0.2cm; \">relationsatisf scored</th>\n",
       "</tr>\n",
       "<tr>\n",
       "<td style=\" text-align:center; border-bottom:1px solid; font-style:italic; font-weight:normal;  text-align:left; \">Predictors</td>\n",
       "<td style=\" text-align:center; border-bottom:1px solid; font-style:italic; font-weight:normal;  \">Estimates</td>\n",
       "<td style=\" text-align:center; border-bottom:1px solid; font-style:italic; font-weight:normal;  \">CI</td>\n",
       "<td style=\" text-align:center; border-bottom:1px solid; font-style:italic; font-weight:normal;  \">p</td>\n",
       "</tr>\n",
       "<tr>\n",
       "<td style=\" padding:0.2cm; text-align:left; vertical-align:top; text-align:left; \">other medications yn<br>[Yes]</td>\n",
       "<td style=\" padding:0.2cm; text-align:left; vertical-align:top; text-align:center;  \">&#45;0.28</td>\n",
       "<td style=\" padding:0.2cm; text-align:left; vertical-align:top; text-align:center;  \">&#45;1.55&nbsp;&ndash;&nbsp;0.99</td>\n",
       "<td style=\" padding:0.2cm; text-align:left; vertical-align:top; text-align:center;  \">0.667</td>\n",
       "</tr>\n",
       "\n",
       "<tr>\n",
       "<td style=\" padding:0.2cm; text-align:left; vertical-align:top; text-align:left; padding-top:0.1cm; padding-bottom:0.1cm;\">N <sub>study_id</sub></td>\n",
       "<td style=\" padding:0.2cm; text-align:left; vertical-align:top; padding-top:0.1cm; padding-bottom:0.1cm; text-align:left;\" colspan=\"3\">170</td>\n",
       "<tr>\n",
       "<td style=\" padding:0.2cm; text-align:left; vertical-align:top; text-align:left; padding-top:0.1cm; padding-bottom:0.1cm; border-top:1px solid;\">Observations</td>\n",
       "<td style=\" padding:0.2cm; text-align:left; vertical-align:top; padding-top:0.1cm; padding-bottom:0.1cm; text-align:left; border-top:1px solid;\" colspan=\"3\">452</td>\n",
       "</tr>\n",
       "<tr>\n",
       "<td style=\" padding:0.2cm; text-align:left; vertical-align:top; text-align:left; padding-top:0.1cm; padding-bottom:0.1cm;\">Marginal R<sup>2</sup> / Conditional R<sup>2</sup></td>\n",
       "<td style=\" padding:0.2cm; text-align:left; vertical-align:top; padding-top:0.1cm; padding-bottom:0.1cm; text-align:left;\" colspan=\"3\">0.391 / 0.725</td>\n",
       "</tr>\n",
       "\n",
       "</table>\n"
      ]
     }
    },
    {
     "output_type": "display_data",
     "metadata": {},
     "data": {
      "text/html": [
       "<table style=\"border-collapse:collapse; border:none;\">\n",
       "<tr>\n",
       "<th style=\"border-top: double; text-align:center; font-style:normal; font-weight:bold; padding:0.2cm;  text-align:left; \">&nbsp;</th>\n",
       "<th colspan=\"3\" style=\"border-top: double; text-align:center; font-style:normal; font-weight:bold; padding:0.2cm; \">relationsatisf scored</th>\n",
       "</tr>\n",
       "<tr>\n",
       "<td style=\" text-align:center; border-bottom:1px solid; font-style:italic; font-weight:normal;  text-align:left; \">Predictors</td>\n",
       "<td style=\" text-align:center; border-bottom:1px solid; font-style:italic; font-weight:normal;  \">Estimates</td>\n",
       "<td style=\" text-align:center; border-bottom:1px solid; font-style:italic; font-weight:normal;  \">CI</td>\n",
       "<td style=\" text-align:center; border-bottom:1px solid; font-style:italic; font-weight:normal;  \">p</td>\n",
       "</tr>\n",
       "<tr>\n",
       "<td style=\" padding:0.2cm; text-align:left; vertical-align:top; text-align:left; \">other medications yn<br>[Yes]</td>\n",
       "<td style=\" padding:0.2cm; text-align:left; vertical-align:top; text-align:center;  \">0.08</td>\n",
       "<td style=\" padding:0.2cm; text-align:left; vertical-align:top; text-align:center;  \">&#45;0.98&nbsp;&ndash;&nbsp;1.14</td>\n",
       "<td style=\" padding:0.2cm; text-align:left; vertical-align:top; text-align:center;  \">0.882</td>\n",
       "</tr>\n",
       "\n",
       "<tr>\n",
       "<td style=\" padding:0.2cm; text-align:left; vertical-align:top; text-align:left; padding-top:0.1cm; padding-bottom:0.1cm;\">N <sub>study_id</sub></td>\n",
       "<td style=\" padding:0.2cm; text-align:left; vertical-align:top; padding-top:0.1cm; padding-bottom:0.1cm; text-align:left;\" colspan=\"3\">167</td>\n",
       "<tr>\n",
       "<td style=\" padding:0.2cm; text-align:left; vertical-align:top; text-align:left; padding-top:0.1cm; padding-bottom:0.1cm; border-top:1px solid;\">Observations</td>\n",
       "<td style=\" padding:0.2cm; text-align:left; vertical-align:top; padding-top:0.1cm; padding-bottom:0.1cm; text-align:left; border-top:1px solid;\" colspan=\"3\">431</td>\n",
       "</tr>\n",
       "<tr>\n",
       "<td style=\" padding:0.2cm; text-align:left; vertical-align:top; text-align:left; padding-top:0.1cm; padding-bottom:0.1cm;\">Marginal R<sup>2</sup> / Conditional R<sup>2</sup></td>\n",
       "<td style=\" padding:0.2cm; text-align:left; vertical-align:top; padding-top:0.1cm; padding-bottom:0.1cm; text-align:left;\" colspan=\"3\">0.303 / 0.733</td>\n",
       "</tr>\n",
       "\n",
       "</table>\n"
      ]
     }
    }
   ],
   "source": [
    "lmer(relationsatisf_scored ~ time_c*arm_c + relationsatisf_0 + \n",
    "       other_medications_yn + (1 + time_c | study_id), \n",
    "     data = subset(data, dyad == \"Partner\")) |> \n",
    "  sjPlot::tab_model(show.re.var = F, show.icc = F, \n",
    "                    terms = c(\"other_medications_ynYes\"))\n"
   ],
   "id": "05ee0943-f276-43ed-b14e-0b7e84a6c2f8"
  },
  {
   "cell_type": "markdown",
   "metadata": {},
   "source": [
    "##### Final Model with Significant Covariates"
   ],
   "id": "76a868d3-588a-46bf-a80e-2183b1128827"
  },
  {
   "cell_type": "code",
   "execution_count": null,
   "metadata": {},
   "outputs": [
    {
     "output_type": "display_data",
     "metadata": {},
     "data": {
      "text/html": [
       "<table style=\"border-collapse:collapse; border:none;\">\n",
       "<tr>\n",
       "<th style=\"border-top: double; text-align:center; font-style:normal; font-weight:bold; padding:0.2cm;  text-align:left; \">&nbsp;</th>\n",
       "<th colspan=\"3\" style=\"border-top: double; text-align:center; font-style:normal; font-weight:bold; padding:0.2cm; \">relationsatisf scored</th>\n",
       "</tr>\n",
       "<tr>\n",
       "<td style=\" text-align:center; border-bottom:1px solid; font-style:italic; font-weight:normal;  text-align:left; \">Predictors</td>\n",
       "<td style=\" text-align:center; border-bottom:1px solid; font-style:italic; font-weight:normal;  \">Estimates</td>\n",
       "<td style=\" text-align:center; border-bottom:1px solid; font-style:italic; font-weight:normal;  \">CI</td>\n",
       "<td style=\" text-align:center; border-bottom:1px solid; font-style:italic; font-weight:normal;  \">p</td>\n",
       "</tr>\n",
       "<tr>\n",
       "<td style=\" padding:0.2cm; text-align:left; vertical-align:top; text-align:left; \">(Intercept)</td>\n",
       "<td style=\" padding:0.2cm; text-align:left; vertical-align:top; text-align:center;  \">22.07</td>\n",
       "<td style=\" padding:0.2cm; text-align:left; vertical-align:top; text-align:center;  \">21.43&nbsp;&ndash;&nbsp;22.72</td>\n",
       "<td style=\" padding:0.2cm; text-align:left; vertical-align:top; text-align:center;  \"><strong>&lt;0.001</strong></td>\n",
       "</tr>\n",
       "<tr>\n",
       "<td style=\" padding:0.2cm; text-align:left; vertical-align:top; text-align:left; \">time c</td>\n",
       "<td style=\" padding:0.2cm; text-align:left; vertical-align:top; text-align:center;  \">0.10</td>\n",
       "<td style=\" padding:0.2cm; text-align:left; vertical-align:top; text-align:center;  \">&#45;0.36&nbsp;&ndash;&nbsp;0.57</td>\n",
       "<td style=\" padding:0.2cm; text-align:left; vertical-align:top; text-align:center;  \">0.664</td>\n",
       "</tr>\n",
       "<tr>\n",
       "<td style=\" padding:0.2cm; text-align:left; vertical-align:top; text-align:left; \">arm cfam and achess vs C</td>\n",
       "<td style=\" padding:0.2cm; text-align:left; vertical-align:top; text-align:center;  \">&#45;0.53</td>\n",
       "<td style=\" padding:0.2cm; text-align:left; vertical-align:top; text-align:center;  \">&#45;1.90&nbsp;&ndash;&nbsp;0.85</td>\n",
       "<td style=\" padding:0.2cm; text-align:left; vertical-align:top; text-align:center;  \">0.451</td>\n",
       "</tr>\n",
       "<tr>\n",
       "<td style=\" padding:0.2cm; text-align:left; vertical-align:top; text-align:left; \">arm cachess vs fam</td>\n",
       "<td style=\" padding:0.2cm; text-align:left; vertical-align:top; text-align:center;  \">&#45;0.21</td>\n",
       "<td style=\" padding:0.2cm; text-align:left; vertical-align:top; text-align:center;  \">&#45;1.75&nbsp;&ndash;&nbsp;1.34</td>\n",
       "<td style=\" padding:0.2cm; text-align:left; vertical-align:top; text-align:center;  \">0.793</td>\n",
       "</tr>\n",
       "<tr>\n",
       "<td style=\" padding:0.2cm; text-align:left; vertical-align:top; text-align:left; \">relationsatisf 0</td>\n",
       "<td style=\" padding:0.2cm; text-align:left; vertical-align:top; text-align:center;  \">0.86</td>\n",
       "<td style=\" padding:0.2cm; text-align:left; vertical-align:top; text-align:center;  \">0.74&nbsp;&ndash;&nbsp;0.99</td>\n",
       "<td style=\" padding:0.2cm; text-align:left; vertical-align:top; text-align:center;  \"><strong>&lt;0.001</strong></td>\n",
       "</tr>\n",
       "<tr>\n",
       "<td style=\" padding:0.2cm; text-align:left; vertical-align:top; text-align:left; \">inpatient yn ever [Yes]</td>\n",
       "<td style=\" padding:0.2cm; text-align:left; vertical-align:top; text-align:center;  \">&#45;7.23</td>\n",
       "<td style=\" padding:0.2cm; text-align:left; vertical-align:top; text-align:center;  \">&#45;11.61&nbsp;&ndash;&nbsp;-2.84</td>\n",
       "<td style=\" padding:0.2cm; text-align:left; vertical-align:top; text-align:center;  \"><strong>0.001</strong></td>\n",
       "</tr>\n",
       "<tr>\n",
       "<td style=\" padding:0.2cm; text-align:left; vertical-align:top; text-align:left; \">time c × arm cfam and<br>achess vs C</td>\n",
       "<td style=\" padding:0.2cm; text-align:left; vertical-align:top; text-align:center;  \">&#45;0.09</td>\n",
       "<td style=\" padding:0.2cm; text-align:left; vertical-align:top; text-align:center;  \">&#45;1.10&nbsp;&ndash;&nbsp;0.92</td>\n",
       "<td style=\" padding:0.2cm; text-align:left; vertical-align:top; text-align:center;  \">0.858</td>\n",
       "</tr>\n",
       "<tr>\n",
       "<td style=\" padding:0.2cm; text-align:left; vertical-align:top; text-align:left; \">time c × arm cachess vs<br>fam</td>\n",
       "<td style=\" padding:0.2cm; text-align:left; vertical-align:top; text-align:center;  \">0.70</td>\n",
       "<td style=\" padding:0.2cm; text-align:left; vertical-align:top; text-align:center;  \">&#45;0.43&nbsp;&ndash;&nbsp;1.82</td>\n",
       "<td style=\" padding:0.2cm; text-align:left; vertical-align:top; text-align:center;  \">0.224</td>\n",
       "</tr>\n",
       "\n",
       "<tr>\n",
       "<td style=\" padding:0.2cm; text-align:left; vertical-align:top; text-align:left; padding-top:0.1cm; padding-bottom:0.1cm;\">N <sub>study_id</sub></td>\n",
       "<td style=\" padding:0.2cm; text-align:left; vertical-align:top; padding-top:0.1cm; padding-bottom:0.1cm; text-align:left;\" colspan=\"3\">170</td>\n",
       "<tr>\n",
       "<td style=\" padding:0.2cm; text-align:left; vertical-align:top; text-align:left; padding-top:0.1cm; padding-bottom:0.1cm; border-top:1px solid;\">Observations</td>\n",
       "<td style=\" padding:0.2cm; text-align:left; vertical-align:top; padding-top:0.1cm; padding-bottom:0.1cm; text-align:left; border-top:1px solid;\" colspan=\"3\">454</td>\n",
       "</tr>\n",
       "<tr>\n",
       "<td style=\" padding:0.2cm; text-align:left; vertical-align:top; text-align:left; padding-top:0.1cm; padding-bottom:0.1cm;\">Marginal R<sup>2</sup> / Conditional R<sup>2</sup></td>\n",
       "<td style=\" padding:0.2cm; text-align:left; vertical-align:top; padding-top:0.1cm; padding-bottom:0.1cm; text-align:left;\" colspan=\"3\">0.413 / 0.727</td>\n",
       "</tr>\n",
       "\n",
       "</table>\n"
      ]
     }
    },
    {
     "output_type": "display_data",
     "metadata": {},
     "data": {
      "text/html": [
       "<table style=\"border-collapse:collapse; border:none;\">\n",
       "<tr>\n",
       "<th style=\"border-top: double; text-align:center; font-style:normal; font-weight:bold; padding:0.2cm;  text-align:left; \">&nbsp;</th>\n",
       "<th colspan=\"3\" style=\"border-top: double; text-align:center; font-style:normal; font-weight:bold; padding:0.2cm; \">relationsatisf scored</th>\n",
       "</tr>\n",
       "<tr>\n",
       "<td style=\" text-align:center; border-bottom:1px solid; font-style:italic; font-weight:normal;  text-align:left; \">Predictors</td>\n",
       "<td style=\" text-align:center; border-bottom:1px solid; font-style:italic; font-weight:normal;  \">Estimates</td>\n",
       "<td style=\" text-align:center; border-bottom:1px solid; font-style:italic; font-weight:normal;  \">CI</td>\n",
       "<td style=\" text-align:center; border-bottom:1px solid; font-style:italic; font-weight:normal;  \">p</td>\n",
       "</tr>\n",
       "<tr>\n",
       "<td style=\" padding:0.2cm; text-align:left; vertical-align:top; text-align:left; \">(Intercept)</td>\n",
       "<td style=\" padding:0.2cm; text-align:left; vertical-align:top; text-align:center;  \">21.41</td>\n",
       "<td style=\" padding:0.2cm; text-align:left; vertical-align:top; text-align:center;  \">20.76&nbsp;&ndash;&nbsp;22.06</td>\n",
       "<td style=\" padding:0.2cm; text-align:left; vertical-align:top; text-align:center;  \"><strong>&lt;0.001</strong></td>\n",
       "</tr>\n",
       "<tr>\n",
       "<td style=\" padding:0.2cm; text-align:left; vertical-align:top; text-align:left; \">time c</td>\n",
       "<td style=\" padding:0.2cm; text-align:left; vertical-align:top; text-align:center;  \">&#45;0.12</td>\n",
       "<td style=\" padding:0.2cm; text-align:left; vertical-align:top; text-align:center;  \">&#45;0.53&nbsp;&ndash;&nbsp;0.29</td>\n",
       "<td style=\" padding:0.2cm; text-align:left; vertical-align:top; text-align:center;  \">0.573</td>\n",
       "</tr>\n",
       "<tr>\n",
       "<td style=\" padding:0.2cm; text-align:left; vertical-align:top; text-align:left; \">arm cfam and achess vs C</td>\n",
       "<td style=\" padding:0.2cm; text-align:left; vertical-align:top; text-align:center;  \">&#45;0.36</td>\n",
       "<td style=\" padding:0.2cm; text-align:left; vertical-align:top; text-align:center;  \">&#45;1.75&nbsp;&ndash;&nbsp;1.02</td>\n",
       "<td style=\" padding:0.2cm; text-align:left; vertical-align:top; text-align:center;  \">0.606</td>\n",
       "</tr>\n",
       "<tr>\n",
       "<td style=\" padding:0.2cm; text-align:left; vertical-align:top; text-align:left; \">arm cachess vs fam</td>\n",
       "<td style=\" padding:0.2cm; text-align:left; vertical-align:top; text-align:center;  \">1.31</td>\n",
       "<td style=\" padding:0.2cm; text-align:left; vertical-align:top; text-align:center;  \">&#45;0.26&nbsp;&ndash;&nbsp;2.89</td>\n",
       "<td style=\" padding:0.2cm; text-align:left; vertical-align:top; text-align:center;  \">0.102</td>\n",
       "</tr>\n",
       "<tr>\n",
       "<td style=\" padding:0.2cm; text-align:left; vertical-align:top; text-align:left; \">relationsatisf 0</td>\n",
       "<td style=\" padding:0.2cm; text-align:left; vertical-align:top; text-align:center;  \">0.68</td>\n",
       "<td style=\" padding:0.2cm; text-align:left; vertical-align:top; text-align:center;  \">0.55&nbsp;&ndash;&nbsp;0.81</td>\n",
       "<td style=\" padding:0.2cm; text-align:left; vertical-align:top; text-align:center;  \"><strong>&lt;0.001</strong></td>\n",
       "</tr>\n",
       "<tr>\n",
       "<td style=\" padding:0.2cm; text-align:left; vertical-align:top; text-align:left; \">edu c</td>\n",
       "<td style=\" padding:0.2cm; text-align:left; vertical-align:top; text-align:center;  \">0.61</td>\n",
       "<td style=\" padding:0.2cm; text-align:left; vertical-align:top; text-align:center;  \">0.03&nbsp;&ndash;&nbsp;1.20</td>\n",
       "<td style=\" padding:0.2cm; text-align:left; vertical-align:top; text-align:center;  \"><strong>0.040</strong></td>\n",
       "</tr>\n",
       "<tr>\n",
       "<td style=\" padding:0.2cm; text-align:left; vertical-align:top; text-align:left; \">time c × arm cfam and<br>achess vs C</td>\n",
       "<td style=\" padding:0.2cm; text-align:left; vertical-align:top; text-align:center;  \">&#45;0.52</td>\n",
       "<td style=\" padding:0.2cm; text-align:left; vertical-align:top; text-align:center;  \">&#45;1.38&nbsp;&ndash;&nbsp;0.35</td>\n",
       "<td style=\" padding:0.2cm; text-align:left; vertical-align:top; text-align:center;  \">0.243</td>\n",
       "</tr>\n",
       "<tr>\n",
       "<td style=\" padding:0.2cm; text-align:left; vertical-align:top; text-align:left; \">time c × arm cachess vs<br>fam</td>\n",
       "<td style=\" padding:0.2cm; text-align:left; vertical-align:top; text-align:center;  \">0.61</td>\n",
       "<td style=\" padding:0.2cm; text-align:left; vertical-align:top; text-align:center;  \">&#45;0.40&nbsp;&ndash;&nbsp;1.62</td>\n",
       "<td style=\" padding:0.2cm; text-align:left; vertical-align:top; text-align:center;  \">0.238</td>\n",
       "</tr>\n",
       "\n",
       "<tr>\n",
       "<td style=\" padding:0.2cm; text-align:left; vertical-align:top; text-align:left; padding-top:0.1cm; padding-bottom:0.1cm;\">N <sub>study_id</sub></td>\n",
       "<td style=\" padding:0.2cm; text-align:left; vertical-align:top; padding-top:0.1cm; padding-bottom:0.1cm; text-align:left;\" colspan=\"3\">168</td>\n",
       "<tr>\n",
       "<td style=\" padding:0.2cm; text-align:left; vertical-align:top; text-align:left; padding-top:0.1cm; padding-bottom:0.1cm; border-top:1px solid;\">Observations</td>\n",
       "<td style=\" padding:0.2cm; text-align:left; vertical-align:top; padding-top:0.1cm; padding-bottom:0.1cm; text-align:left; border-top:1px solid;\" colspan=\"3\">436</td>\n",
       "</tr>\n",
       "<tr>\n",
       "<td style=\" padding:0.2cm; text-align:left; vertical-align:top; text-align:left; padding-top:0.1cm; padding-bottom:0.1cm;\">Marginal R<sup>2</sup> / Conditional R<sup>2</sup></td>\n",
       "<td style=\" padding:0.2cm; text-align:left; vertical-align:top; padding-top:0.1cm; padding-bottom:0.1cm; text-align:left;\" colspan=\"3\">0.318 / 0.723</td>\n",
       "</tr>\n",
       "\n",
       "</table>\n"
      ]
     }
    }
   ],
   "source": [
    "lmer(relationsatisf_scored ~ time_c*arm_c + relationsatisf_0 + \n",
    "       inpatient_yn_ever + (1 + time_c | study_id), \n",
    "     data = subset(data, dyad == \"Partner\")) |> \n",
    "  sjPlot::tab_model(show.re.var = F, show.icc = F)\n"
   ],
   "id": "8276b133-37ef-4fbb-a890-b76fb489c42b"
  },
  {
   "cell_type": "markdown",
   "metadata": {},
   "source": [
    "#### Secondary Partner Outcome 2: `abuse_scored`"
   ],
   "id": "3347bc26-92ae-4ddf-9eca-df05adfb7e28"
  },
  {
   "cell_type": "raw",
   "metadata": {
    "raw_mimetype": "text/html"
   },
   "source": [
    "<!-- Distribution of residuals     -->"
   ],
   "id": "17dcaa8e-fed5-4128-8a22-93587e6451c9"
  },
  {
   "cell_type": "raw",
   "metadata": {
    "raw_mimetype": "text/html"
   },
   "source": [
    "<!-- *KW: Look into potential outliers?* -->"
   ],
   "id": "42fa3059-52a6-48b1-94c7-bba362457c2f"
  },
  {
   "cell_type": "raw",
   "metadata": {
    "raw_mimetype": "text/html"
   },
   "source": [
    "<!-- *This model can only be fit for partners? Look into error* -->"
   ],
   "id": "6ed956e5-80cc-421e-8133-7a97594832ad"
  },
  {
   "cell_type": "raw",
   "metadata": {
    "raw_mimetype": "text/html"
   },
   "source": [
    "<!-- ```{r} -->"
   ],
   "id": "14854ad5-0368-45a7-b482-f009c9167c1e"
  },
  {
   "cell_type": "raw",
   "metadata": {
    "raw_mimetype": "text/html"
   },
   "source": [
    "<!-- model_partner_sec_2 <- lmer(abuse_scored ~ time_c*arm_c + abuse_0 + -->"
   ],
   "id": "904fcaf2-0c73-4aa9-856e-700daea2418c"
  },
  {
   "cell_type": "raw",
   "metadata": {
    "raw_mimetype": "text/html"
   },
   "source": [
    "<!--                              (1 + time_c | study_id),  -->"
   ],
   "id": "4bd4009d-96c3-43c2-bde6-555b03e147c6"
  },
  {
   "cell_type": "raw",
   "metadata": {
    "raw_mimetype": "text/html"
   },
   "source": [
    "<!--                             data = subset(data, dyad == \"Partner\")) -->"
   ],
   "id": "84bcab3f-c4a0-4cc1-829a-54edfe9a5b25"
  },
  {
   "cell_type": "raw",
   "metadata": {
    "raw_mimetype": "text/html"
   },
   "source": [
    "<!-- tibble(error = residuals(model_partner_sec_2)) |>  -->"
   ],
   "id": "66754b19-695d-49c1-8d8c-4c4076c20fd9"
  },
  {
   "cell_type": "raw",
   "metadata": {
    "raw_mimetype": "text/html"
   },
   "source": [
    "<!--   ggplot(aes(x = error)) + -->"
   ],
   "id": "f4228c58-7618-4b29-8d7d-86c5385f5d9d"
  },
  {
   "cell_type": "raw",
   "metadata": {
    "raw_mimetype": "text/html"
   },
   "source": [
    "<!--   geom_histogram(color = \"black\", fill = \"light grey\", bins = 30) -->"
   ],
   "id": "3e1d6b20-d18a-4662-adb2-cc44af1c2586"
  },
  {
   "cell_type": "raw",
   "metadata": {
    "raw_mimetype": "text/html"
   },
   "source": [
    "<!-- ``` -->"
   ],
   "id": "f02daa65-7d57-41a4-8b7e-48d845bb8ddf"
  },
  {
   "cell_type": "raw",
   "metadata": {
    "raw_mimetype": "text/html"
   },
   "source": [
    "<!-- ##### Look for significant covariates -->"
   ],
   "id": "f766467c-54a5-4854-bd9d-3b356ec65221"
  },
  {
   "cell_type": "raw",
   "metadata": {
    "raw_mimetype": "text/html"
   },
   "source": [
    "<!-- `race_white_only` - not significant -->"
   ],
   "id": "dc9871b5-32f3-44c2-a53a-a403e24d4a86"
  },
  {
   "cell_type": "raw",
   "metadata": {
    "raw_mimetype": "text/html"
   },
   "source": [
    "<!-- ```{r} -->"
   ],
   "id": "fb17ab87-f2cf-404e-9636-74a3a48c4d77"
  },
  {
   "cell_type": "raw",
   "metadata": {
    "raw_mimetype": "text/html"
   },
   "source": [
    "<!-- lmer(abuse_scored ~ time_c*arm_c + abuse_0 + race_white_only +  -->"
   ],
   "id": "c886ce68-b44c-4315-bda6-a2a6902a8128"
  },
  {
   "cell_type": "raw",
   "metadata": {
    "raw_mimetype": "text/html"
   },
   "source": [
    "<!--        (1 + time_c | study_id), data = subset(data, dyad == 1)) |>  -->"
   ],
   "id": "ff1e8717-7875-4fc6-8eed-fce1d15a7737"
  },
  {
   "cell_type": "raw",
   "metadata": {
    "raw_mimetype": "text/html"
   },
   "source": [
    "<!--   sjPlot::tab_model(show.re.var = F, show.icc = F, terms = c(\"race_white_only\")) -->"
   ],
   "id": "31f67c68-a720-4a6a-aa23-6d25628b3f6d"
  },
  {
   "cell_type": "raw",
   "metadata": {
    "raw_mimetype": "text/html"
   },
   "source": [
    "<!-- ``` -->"
   ],
   "id": "dbb7e94e-9547-438d-bb04-9137e0874689"
  },
  {
   "cell_type": "raw",
   "metadata": {
    "raw_mimetype": "text/html"
   },
   "source": [
    "<!-- `age_c` - not significant -->"
   ],
   "id": "0d8c52fd-1f63-4e3c-985b-156ed8df1d72"
  },
  {
   "cell_type": "raw",
   "metadata": {
    "raw_mimetype": "text/html"
   },
   "source": [
    "<!-- ```{r} -->"
   ],
   "id": "e3f7c4d2-f11c-453f-b605-13b28972972a"
  },
  {
   "cell_type": "raw",
   "metadata": {
    "raw_mimetype": "text/html"
   },
   "source": [
    "<!-- lmer(abuse_scored ~ time_c*arm_c + abuse_0 + age_c + (1 + time_c | study_id),  -->"
   ],
   "id": "e17045e2-6fd8-40d4-ba4e-1831f1e2364b"
  },
  {
   "cell_type": "raw",
   "metadata": {
    "raw_mimetype": "text/html"
   },
   "source": [
    "<!--      data = subset(data, dyad == 1)) |>  -->"
   ],
   "id": "632ecdad-6f60-4fa0-a2bd-a95f1fab01b6"
  },
  {
   "cell_type": "raw",
   "metadata": {
    "raw_mimetype": "text/html"
   },
   "source": [
    "<!--   sjPlot::tab_model(show.re.var = F, show.icc = F, terms = c(\"age_c\")) -->"
   ],
   "id": "d22515b5-8dcb-4665-b23e-1bbeae352167"
  },
  {
   "cell_type": "raw",
   "metadata": {
    "raw_mimetype": "text/html"
   },
   "source": [
    "<!-- ``` -->"
   ],
   "id": "593eb5ee-274e-4c35-9057-94101348ea72"
  },
  {
   "cell_type": "raw",
   "metadata": {
    "raw_mimetype": "text/html"
   },
   "source": [
    "<!-- `edu_c` - Not significant -->"
   ],
   "id": "24a59f53-4b44-4e10-9a38-924f6682a246"
  },
  {
   "cell_type": "raw",
   "metadata": {
    "raw_mimetype": "text/html"
   },
   "source": [
    "<!-- ```{r} -->"
   ],
   "id": "32614c10-2b3d-4c79-9622-1e47d3021b26"
  },
  {
   "cell_type": "raw",
   "metadata": {
    "raw_mimetype": "text/html"
   },
   "source": [
    "<!-- lmer(abuse_scored ~ time_c*arm_c + abuse_0 + edu_c + (1 + time_c | study_id),  -->"
   ],
   "id": "ad62f499-206b-42be-90af-41f6c8981716"
  },
  {
   "cell_type": "raw",
   "metadata": {
    "raw_mimetype": "text/html"
   },
   "source": [
    "<!--      data = subset(data, dyad == 1)) |>  -->"
   ],
   "id": "95b86cfb-702f-47cc-a8df-dba15d08f0a7"
  },
  {
   "cell_type": "raw",
   "metadata": {
    "raw_mimetype": "text/html"
   },
   "source": [
    "<!--   sjPlot::tab_model(show.re.var = F, show.icc = F, terms = c(\"edu_c\")) -->"
   ],
   "id": "6f6a85f6-9372-4731-97d5-590d1ca803d6"
  },
  {
   "cell_type": "raw",
   "metadata": {
    "raw_mimetype": "text/html"
   },
   "source": [
    "<!-- ``` -->"
   ],
   "id": "a1db72c8-17d1-456a-8af6-d679408d4131"
  },
  {
   "cell_type": "raw",
   "metadata": {
    "raw_mimetype": "text/html"
   },
   "source": [
    "<!-- `meetings_yn` - not significant -->"
   ],
   "id": "29210c0c-4816-43da-8c2b-fee57bc3a7e1"
  },
  {
   "cell_type": "raw",
   "metadata": {
    "raw_mimetype": "text/html"
   },
   "source": [
    "<!-- ```{r} -->"
   ],
   "id": "e3a88bc3-ab95-4e02-8ed5-6fc93445c81c"
  },
  {
   "cell_type": "raw",
   "metadata": {
    "raw_mimetype": "text/html"
   },
   "source": [
    "<!-- lmer(abuse_scored ~ time_c*arm_c + abuse_0 + meetings_yn +  -->"
   ],
   "id": "be1dcba5-2db6-4222-be6e-9169c76dbe72"
  },
  {
   "cell_type": "raw",
   "metadata": {
    "raw_mimetype": "text/html"
   },
   "source": [
    "<!--        (1 + time_c | study_id), data = subset(data, dyad == 1)) |>  -->"
   ],
   "id": "07af9a0e-d02d-4f88-887a-9243fbc7912b"
  },
  {
   "cell_type": "raw",
   "metadata": {
    "raw_mimetype": "text/html"
   },
   "source": [
    "<!--   sjPlot::tab_model(show.re.var = F, show.icc = F, terms = c(\"meetings_yn\")) -->"
   ],
   "id": "8196d7c9-f3b9-4cf8-b5f1-314c583332ba"
  },
  {
   "cell_type": "raw",
   "metadata": {
    "raw_mimetype": "text/html"
   },
   "source": [
    "<!-- ``` -->"
   ],
   "id": "9a016c1c-0b72-47b3-82ed-a75690af18d8"
  },
  {
   "cell_type": "raw",
   "metadata": {
    "raw_mimetype": "text/html"
   },
   "source": [
    "<!-- `outpatient_yn_ever` - Not significant -->"
   ],
   "id": "9b9b1235-3703-4903-a05c-625e247b11b3"
  },
  {
   "cell_type": "raw",
   "metadata": {
    "raw_mimetype": "text/html"
   },
   "source": [
    "<!-- ```{r} -->"
   ],
   "id": "5da66a10-d63e-4e5b-8ab9-140fc6b52b0b"
  },
  {
   "cell_type": "raw",
   "metadata": {
    "raw_mimetype": "text/html"
   },
   "source": [
    "<!-- lmer(abuse_scored ~ time_c*arm_c + abuse_0 + outpatient_yn_ever +  -->"
   ],
   "id": "33b534a9-a695-4afc-b9b7-9a1b93f375cc"
  },
  {
   "cell_type": "raw",
   "metadata": {
    "raw_mimetype": "text/html"
   },
   "source": [
    "<!--        (1 + time_c | study_id), data = subset(data, dyad == 1)) |>  -->"
   ],
   "id": "5d947493-3fc0-4201-84e7-1dc0bc7f0c35"
  },
  {
   "cell_type": "raw",
   "metadata": {
    "raw_mimetype": "text/html"
   },
   "source": [
    "<!--   sjPlot::tab_model(show.re.var = F, show.icc = F, terms = c(\"outpatient_yn_ever\")) -->"
   ],
   "id": "9b247971-6018-46d5-af7e-c579d0410252"
  },
  {
   "cell_type": "raw",
   "metadata": {
    "raw_mimetype": "text/html"
   },
   "source": [
    "<!-- ``` -->"
   ],
   "id": "72728498-362e-44d2-9302-f2f68028892c"
  },
  {
   "cell_type": "raw",
   "metadata": {
    "raw_mimetype": "text/html"
   },
   "source": [
    "<!-- `er_yn_ever` - Not significant -->"
   ],
   "id": "53322002-ee3e-4be1-acc5-b69fef781880"
  },
  {
   "cell_type": "raw",
   "metadata": {
    "raw_mimetype": "text/html"
   },
   "source": [
    "<!-- ```{r} -->"
   ],
   "id": "d23fc7d4-5bc5-4549-b1ed-b4db4c31ead6"
  },
  {
   "cell_type": "raw",
   "metadata": {
    "raw_mimetype": "text/html"
   },
   "source": [
    "<!-- lmer(abuse_scored ~ time_c*arm_c + abuse_0 + er_yn_ever +  -->"
   ],
   "id": "abb12b6c-8563-40ac-b51b-e08baf1af3bc"
  },
  {
   "cell_type": "raw",
   "metadata": {
    "raw_mimetype": "text/html"
   },
   "source": [
    "<!--        (1 + time_c | study_id), data = subset(data, dyad == 1)) |>  -->"
   ],
   "id": "25b4739b-0e03-482f-85cc-c5d538d4703f"
  },
  {
   "cell_type": "raw",
   "metadata": {
    "raw_mimetype": "text/html"
   },
   "source": [
    "<!--   sjPlot::tab_model(show.re.var = F, show.icc = F, terms = c(\"er_yn_ever\")) -->"
   ],
   "id": "03c48555-7b06-47bd-b62d-d9adcb06f971"
  },
  {
   "cell_type": "raw",
   "metadata": {
    "raw_mimetype": "text/html"
   },
   "source": [
    "<!-- ``` -->"
   ],
   "id": "4984bda1-a123-417e-a458-d1f3e4239aa2"
  },
  {
   "cell_type": "raw",
   "metadata": {
    "raw_mimetype": "text/html"
   },
   "source": [
    "<!-- `mat_yn` - **significant for partner** -->"
   ],
   "id": "ed4df17c-c4cd-412d-92e0-244a77ff2033"
  },
  {
   "cell_type": "raw",
   "metadata": {
    "raw_mimetype": "text/html"
   },
   "source": [
    "<!-- ```{r} -->"
   ],
   "id": "42cad5c5-8228-47c4-8878-004eafeb191a"
  },
  {
   "cell_type": "raw",
   "metadata": {
    "raw_mimetype": "text/html"
   },
   "source": [
    "<!-- lmer(abuse_scored ~ time_c*arm_c + abuse_0 + mat_yn + (1 + time_c | study_id),  -->"
   ],
   "id": "1568a43a-f11c-4cd6-8769-0df082696b32"
  },
  {
   "cell_type": "raw",
   "metadata": {
    "raw_mimetype": "text/html"
   },
   "source": [
    "<!--      data = subset(data, dyad == 1)) |>  -->"
   ],
   "id": "5bfede56-44a4-4f2f-a7fc-d18d5452cbd5"
  },
  {
   "cell_type": "raw",
   "metadata": {
    "raw_mimetype": "text/html"
   },
   "source": [
    "<!--   sjPlot::tab_model(show.re.var = F, show.icc = F, terms = c(\"mat_yn\")) -->"
   ],
   "id": "d4bcfcf9-e55c-4cb6-899b-f7fc63e37e57"
  },
  {
   "cell_type": "raw",
   "metadata": {
    "raw_mimetype": "text/html"
   },
   "source": [
    "<!-- ``` -->"
   ],
   "id": "aea16e17-03b6-44a7-83e7-774ad17427fe"
  },
  {
   "cell_type": "raw",
   "metadata": {
    "raw_mimetype": "text/html"
   },
   "source": [
    "<!-- `inpatient_yn_ever` - **significant for partner** -->"
   ],
   "id": "62ccbab1-5534-4f30-a501-00375fe1129e"
  },
  {
   "cell_type": "raw",
   "metadata": {
    "raw_mimetype": "text/html"
   },
   "source": [
    "<!-- ```{r} -->"
   ],
   "id": "81497408-705d-4ef9-becf-ad6f68583adb"
  },
  {
   "cell_type": "raw",
   "metadata": {
    "raw_mimetype": "text/html"
   },
   "source": [
    "<!-- lmer(abuse_scored ~ time_c*arm_c + abuse_0 + inpatient_yn_ever +  -->"
   ],
   "id": "c28f8b4d-7a74-4e3d-a414-d243653bbf01"
  },
  {
   "cell_type": "raw",
   "metadata": {
    "raw_mimetype": "text/html"
   },
   "source": [
    "<!--        (1 + time_c | study_id), data = subset(data, dyad == 1)) |>  -->"
   ],
   "id": "f0398bb6-410a-46cc-8145-5f99a0a550f6"
  },
  {
   "cell_type": "raw",
   "metadata": {
    "raw_mimetype": "text/html"
   },
   "source": [
    "<!--   sjPlot::tab_model(show.re.var = F, show.icc = F, terms = c(\"inpatient_yn_ever\")) -->"
   ],
   "id": "705e658d-6c95-49b4-bda4-ab7148aa21da"
  },
  {
   "cell_type": "raw",
   "metadata": {
    "raw_mimetype": "text/html"
   },
   "source": [
    "<!-- ``` -->"
   ],
   "id": "3f4696e1-f1d2-4e66-8c19-d56102828cfd"
  },
  {
   "cell_type": "raw",
   "metadata": {
    "raw_mimetype": "text/html"
   },
   "source": [
    "<!-- `other_psych_treatment_yn` - not significant -->"
   ],
   "id": "7d9164d9-8331-4c0d-b972-72cf134829d5"
  },
  {
   "cell_type": "raw",
   "metadata": {
    "raw_mimetype": "text/html"
   },
   "source": [
    "<!-- ```{r} -->"
   ],
   "id": "cc549cd4-2687-4ef2-ae46-a84b933bcd83"
  },
  {
   "cell_type": "raw",
   "metadata": {
    "raw_mimetype": "text/html"
   },
   "source": [
    "<!-- lmer(abuse_scored ~ time_c*arm_c + abuse_0 + other_psych_treatment_yn +  -->"
   ],
   "id": "6ba32c37-ba4d-46fd-8f6d-28ad2dc5f442"
  },
  {
   "cell_type": "raw",
   "metadata": {
    "raw_mimetype": "text/html"
   },
   "source": [
    "<!--        (1 + time_c | study_id),  data = subset(data, dyad == 1)) |>  -->"
   ],
   "id": "7fe6d84e-b67f-4389-ac24-231225714aa8"
  },
  {
   "cell_type": "raw",
   "metadata": {
    "raw_mimetype": "text/html"
   },
   "source": [
    "<!--   sjPlot::tab_model(show.re.var = F, show.icc = F, terms = c(\"other_psych_treatment_yn\")) -->"
   ],
   "id": "e8b0b6b3-0490-4d5c-ad29-7a74800d07f8"
  },
  {
   "cell_type": "raw",
   "metadata": {
    "raw_mimetype": "text/html"
   },
   "source": [
    "<!-- ``` -->"
   ],
   "id": "b543865d-9168-431e-9a96-cd5cffa3ff5b"
  },
  {
   "cell_type": "raw",
   "metadata": {
    "raw_mimetype": "text/html"
   },
   "source": [
    "<!-- `other_medications_yn` - Not significant -->"
   ],
   "id": "00621fd3-82b0-436b-b58a-f9e84dc2d702"
  },
  {
   "cell_type": "raw",
   "metadata": {
    "raw_mimetype": "text/html"
   },
   "source": [
    "<!-- ```{r} -->"
   ],
   "id": "0cf97274-14de-41a9-9a4c-c2432a4d670c"
  },
  {
   "cell_type": "raw",
   "metadata": {
    "raw_mimetype": "text/html"
   },
   "source": [
    "<!-- lmer(abuse_scored ~ time_c*arm_c + abuse_0 + other_medications_yn +  -->"
   ],
   "id": "853784be-29cb-4805-95fe-f779a3cde925"
  },
  {
   "cell_type": "raw",
   "metadata": {
    "raw_mimetype": "text/html"
   },
   "source": [
    "<!--        (1 + time_c | study_id), data = subset(data, dyad == 1)) |>  -->"
   ],
   "id": "3edfcb71-20e3-49d8-a41e-b0a85464906a"
  },
  {
   "cell_type": "raw",
   "metadata": {
    "raw_mimetype": "text/html"
   },
   "source": [
    "<!--   sjPlot::tab_model(show.re.var = F, show.icc = F, terms = c(\"other_medications_yn\")) -->"
   ],
   "id": "e86a6a09-1a87-4917-baf5-9f522846ab02"
  },
  {
   "cell_type": "raw",
   "metadata": {
    "raw_mimetype": "text/html"
   },
   "source": [
    "<!-- ``` -->"
   ],
   "id": "afb36f7e-d7d6-46ab-b8a7-0a3f94470a39"
  },
  {
   "cell_type": "raw",
   "metadata": {
    "raw_mimetype": "text/html"
   },
   "source": [
    "<!-- ##### Final Model with Significant Covariates -->"
   ],
   "id": "142c638d-97f3-47de-a414-d61f3fb0b829"
  },
  {
   "cell_type": "raw",
   "metadata": {
    "raw_mimetype": "text/html"
   },
   "source": [
    "<!-- ```{r} -->"
   ],
   "id": "21536742-0855-4f20-922e-9e994da615d2"
  },
  {
   "cell_type": "raw",
   "metadata": {
    "raw_mimetype": "text/html"
   },
   "source": [
    "<!-- lmer(abuse_scored ~ time_c*arm_c + abuse_0 + mat_yn + inpatient_yn_ever +  -->"
   ],
   "id": "40617316-a866-4285-be44-0f21befe1008"
  },
  {
   "cell_type": "raw",
   "metadata": {
    "raw_mimetype": "text/html"
   },
   "source": [
    "<!--        (1 + time_c | study_id), data = subset(data, dyad == 1)) |>  -->"
   ],
   "id": "5bfac561-adf5-4439-acaa-d93de68669ae"
  },
  {
   "cell_type": "raw",
   "metadata": {
    "raw_mimetype": "text/html"
   },
   "source": [
    "<!--   sjPlot::tab_model(model_partner_sec_2, show.re.var = F, show.icc = F) -->"
   ],
   "id": "efb95441-3c14-4dd5-a42b-7341cfabb7f0"
  },
  {
   "cell_type": "raw",
   "metadata": {
    "raw_mimetype": "text/html"
   },
   "source": [
    "<!-- ``` -->"
   ],
   "id": "3be3bae2-db06-4bb8-b17b-4e57ff22675d"
  },
  {
   "cell_type": "markdown",
   "metadata": {},
   "source": [
    "### Check Assumptions for Analyses of Mediators\n",
    "\n",
    "**KW: mediators only for primary outcomes and ACHESS vs. FamCHESS contrasts**\n",
    "\n",
    "List of Patient mediators: `socrates_scored`  \n",
    "List of Partner mediators: `peersupport_scored`, `treatmentskills_scored`\n",
    "\n",
    "### Check Assumptions for Analyses of Moderators\n",
    "\n",
    "**KW: moderators only for primary outcomes**\n",
    "\n",
    "List of Patient moderators: `dsm5_criteria`  \n",
    "List of Partner moderators: `gender`, `days_app_use`"
   ],
   "id": "9d7bc3b2-7520-4d34-8446-107450026451"
  }
 ],
 "nbformat": 4,
 "nbformat_minor": 5,
 "metadata": {}
}

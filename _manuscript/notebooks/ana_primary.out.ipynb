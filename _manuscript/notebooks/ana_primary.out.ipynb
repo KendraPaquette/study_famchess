{
 "cells": [
  {
   "cell_type": "markdown",
   "metadata": {},
   "source": [
    "# famCHESS Primary Analyses\n",
    "\n",
    "Kendra Wyant\n",
    "\n",
    "## Notes\n",
    "\n",
    "This script performs primary analyses for famCHESS study.\n",
    "\n",
    "## Setup"
   ],
   "id": "05b5cf7a-dc24-4594-92c6-d5287c49974c"
  },
  {
   "cell_type": "code",
   "execution_count": null,
   "metadata": {},
   "outputs": [
    {
     "output_type": "stream",
     "name": "stderr",
     "text": [
      "── Attaching core tidyverse packages ──────────────────────── tidyverse 2.0.0 ──\n",
      "✔ dplyr     1.1.4     ✔ readr     2.1.5\n",
      "✔ forcats   1.0.0     ✔ stringr   1.5.1\n",
      "✔ ggplot2   3.5.1     ✔ tibble    3.2.1\n",
      "✔ lubridate 1.9.3     ✔ tidyr     1.3.1\n",
      "✔ purrr     1.0.2     \n",
      "── Conflicts ────────────────────────────────────────── tidyverse_conflicts() ──\n",
      "✖ dplyr::filter() masks stats::filter()\n",
      "✖ dplyr::lag()    masks stats::lag()\n",
      "ℹ Use the conflicted package (<http://conflicted.r-lib.org/>) to force all conflicts to become errors"
     ]
    },
    {
     "output_type": "stream",
     "name": "stderr",
     "text": [
      "ℹ SHA-1 hash of file is \"a58e57da996d1b70bb9a5b58241325d6fd78890f\""
     ]
    }
   ],
   "source": [
    "options(conflicts.policy = \"depends.ok\")\n",
    "library(tidyverse)\n"
   ],
   "id": "393b070a-5a71-4d1a-b2b1-b5d23b066fb7"
  },
  {
   "cell_type": "markdown",
   "metadata": {},
   "source": [
    "## Data"
   ],
   "id": "6549614a-c657-4848-81c7-220e431ccaf4"
  },
  {
   "cell_type": "code",
   "execution_count": null,
   "metadata": {},
   "outputs": [],
   "source": [
    "data <- read_csv(here::here(path_data, \"famchess_data_ana.csv\"),\n",
    "                 show_col_types = FALSE)\n"
   ],
   "id": "fa46d4fc-61bc-44c8-95f7-91a16cc7d641"
  },
  {
   "cell_type": "markdown",
   "metadata": {},
   "source": [
    "## Analyses\n",
    "\n",
    "Create contrasts"
   ],
   "id": "d55be6bc-95db-4ab4-a168-e48af7acac0a"
  },
  {
   "cell_type": "code",
   "execution_count": null,
   "metadata": {},
   "outputs": [
    {
     "output_type": "stream",
     "name": "stdout",
     "text": [
      "  fam_and_achess_vs_C achess_vs_fam\n",
      "0          -0.6666667           0.0\n",
      "1           0.3333333           0.5\n",
      "2           0.3333333          -0.5"
     ]
    }
   ],
   "source": [
    "col_names <- c(\"fam_and_achess_vs_C\", \"achess_vs_fam\")\n",
    "arm_contrasts <- matrix(c(-2/3, 1/3, 1/3, 0, 1/2, -1/2),\n",
    "                          nrow = 3, ncol = 2,\n",
    "                          dimnames = list(levels(data$arm), col_names))\n",
    "\n",
    "data <- data |> \n",
    "  mutate(arm_c = as.factor(arm))\n",
    "\n",
    "contrasts(data$arm_c) <- arm_contrasts\n",
    "contrasts(data$arm_c)\n"
   ],
   "id": "ef9a51ed-e44e-4107-8f42-05c1cc854260"
  },
  {
   "cell_type": "markdown",
   "metadata": {},
   "source": [
    "Note: use time_c in analyses"
   ],
   "id": "4509f975-ddaf-47bc-818b-b1ee39a4e7f0"
  }
 ],
 "nbformat": 4,
 "nbformat_minor": 5,
 "metadata": {}
}
